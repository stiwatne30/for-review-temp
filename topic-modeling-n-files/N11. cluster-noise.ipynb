{
 "cells": [
  {
   "cell_type": "markdown",
   "metadata": {},
   "source": [
    "## Description:\n",
    "\n",
    "This file contains:\n",
    "* **Explore 3 workflow options to see which gives least noise and best clustering**. Workflow options:\n",
    "    * Opt-1: train on 7 days - predict upto 7 days includibg all past days\n",
    "    * Opt-2: train on 7 days - predict 7 days without repeating articles\n",
    "    * Opt-3: train on 7 days - predict 1 day at a time with retrained on past 7 days everytime (rolling window)"
   ]
  },
  {
   "cell_type": "code",
   "execution_count": 1,
   "metadata": {},
   "outputs": [],
   "source": [
    "\"\"\" Helper imports\"\"\"\n",
    "import joblib\n",
    "import pandas as pd\n",
    "import numpy as np\n",
    "from time import time\n",
    "from nltk.tokenize import sent_tokenize\n",
    "from joblib import Parallel, delayed\n",
    "from sklearn.metrics.pairwise import cosine_similarity\n",
    "\n",
    "\"\"\"Modeling imports\"\"\"\n",
    "import umap\n",
    "import hdbscan\n",
    "from sentence_transformers import SentenceTransformer\n",
    "from hdbscan import validity_index\n",
    "\n",
    "\"\"\" Plotting imports\"\"\"\n",
    "import matplotlib.pyplot as plt\n",
    "%matplotlib inline\n",
    "import seaborn as sns\n",
    "sns.set_style('darkgrid')\n",
    "\n",
    "# remove this later\n",
    "pd.set_option('max_colwidth', 110)\n",
    "import warnings\n",
    "warnings.filterwarnings('ignore')"
   ]
  },
  {
   "cell_type": "code",
   "execution_count": 2,
   "metadata": {},
   "outputs": [],
   "source": [
    "import sys\n",
    "# add the parent directory path\n",
    "sys.path.insert(0, '..')\n",
    "\n",
    "from src.util import (c_tf_idf, \n",
    "                      extract_top_n_words_per_topic,\n",
    "                      extract_topic_sizes,\n",
    "                      topic_cos_sim_metrics,\n",
    "                      generate_all_cossim_metrics)"
   ]
  },
  {
   "cell_type": "code",
   "execution_count": 3,
   "metadata": {},
   "outputs": [
    {
     "data": {
      "text/plain": [
       "True"
      ]
     },
     "execution_count": 3,
     "metadata": {},
     "output_type": "execute_result"
    }
   ],
   "source": [
    "data_path = '/home/jupyter/bi-topic-modeling/data/' \n",
    "results_path = '/home/jupyter/bi-topic-modeling/results/' \n",
    "\n",
    "SEED = 42\n",
    "\n",
    "STOP_WORDS = pd.read_pickle(data_path + 'forbes_stop_words.pkl')\n",
    "\"q1\" in STOP_WORDS"
   ]
  },
  {
   "cell_type": "markdown",
   "metadata": {},
   "source": [
    "### --- Data ---\n",
    "\n",
    "* Train date range Apr 26 (monday) till May 02 (sunday)\n",
    "* Eligible pool = articles with pvs > 100 on a given day. In prod this will be replaced by pvs>350 summed over 7 days"
   ]
  },
  {
   "cell_type": "code",
   "execution_count": 4,
   "metadata": {},
   "outputs": [],
   "source": [
    "def get_data(file_name):\n",
    "    \n",
    "    df = pd.read_csv(data_path + file_name)\n",
    "\n",
    "    print(\"Before Shape:\", df.shape)\n",
    "    print(\"Unique tiers:\", len(df.tier1.unique()))\n",
    "    \n",
    "    # Per verdict from EDA, exclude articles less than 100 words\n",
    "    df[\"article_length\"] = df.clean_body.str.split().apply(len)\n",
    "    df = df[df[\"article_length\"]>=100]\n",
    "    print(\"After Shape:\", df.shape)\n",
    "    \n",
    "    df.tier1 = df.tier1.fillna('Other')\n",
    "    df = df.reset_index(drop=True)\n",
    "    \n",
    "    return df"
   ]
  },
  {
   "cell_type": "code",
   "execution_count": 5,
   "metadata": {},
   "outputs": [
    {
     "name": "stdout",
     "output_type": "stream",
     "text": [
      "--- apr 25 ---\n",
      "Before Shape: (3334, 10)\n",
      "Unique tiers: 31\n",
      "After Shape: (3327, 11)\n",
      "Embeds len: 3327\n",
      "\n",
      "--- apr 26 ---\n",
      "Before Shape: (4138, 10)\n",
      "Unique tiers: 31\n",
      "After Shape: (4128, 11)\n",
      "Embeds len: 4128\n",
      "\n",
      "--- apr 27 ---\n",
      "Before Shape: (4177, 10)\n",
      "Unique tiers: 31\n",
      "After Shape: (4167, 11)\n",
      "Embeds len: 4167\n",
      "\n",
      "--- apr 28 ---\n",
      "Before Shape: (4197, 8)\n",
      "Unique tiers: 31\n",
      "After Shape: (4186, 9)\n",
      "Embeds len: 4186\n",
      "\n",
      "--- apr 29 ---\n",
      "Before Shape: (4201, 8)\n",
      "Unique tiers: 31\n",
      "After Shape: (4188, 9)\n",
      "Embeds len: 4188\n",
      "\n",
      "--- apr 30 ---\n",
      "Before Shape: (3784, 8)\n",
      "Unique tiers: 31\n",
      "After Shape: (3771, 9)\n",
      "Embeds len: 3771\n",
      "--- may 01 ---\n",
      "Before Shape: (3052, 8)\n",
      "Unique tiers: 31\n",
      "After Shape: (3044, 9)\n",
      "Embeds len: 3044\n",
      "\n",
      "--- may 02 ---\n",
      "Before Shape: (3267, 8)\n",
      "Unique tiers: 31\n",
      "After Shape: (3259, 9)\n",
      "Embeds len: 3259\n"
     ]
    }
   ],
   "source": [
    "# training data set\n",
    "\n",
    "print(\"--- apr 25 ---\")\n",
    "\n",
    "apr25 = get_data('processed/train_apr25_over100pvs_processed.csv')\n",
    "apr25_art_embed = joblib.load(\"./data/processed/apr25_article_embed_axis0.joblib\")\n",
    "print(\"Embeds len:\", len(apr25_art_embed))\n",
    "\n",
    "print()\n",
    "print(\"--- apr 26 ---\")\n",
    "\n",
    "apr26 = get_data('processed/pred_apr26_over100pvs_processed.csv')\n",
    "apr26_art_embed = joblib.load(\"./data/processed/apr26_article_embed_axis0.joblib\")\n",
    "print(\"Embeds len:\", len(apr26_art_embed))\n",
    "\n",
    "print()\n",
    "print(\"--- apr 27 ---\")\n",
    "\n",
    "apr27 = get_data('processed/pred_apr27_over100pvs_processed.csv')\n",
    "apr27_art_embed = joblib.load(\"./data/processed/apr27_article_embed_axis0.joblib\")\n",
    "print(\"Embeds len:\", len(apr27_art_embed))\n",
    "\n",
    "print()\n",
    "print(\"--- apr 28 ---\")\n",
    "\n",
    "apr28 = get_data('processed/apr28_over100pvs_processed.csv')\n",
    "apr28_art_embed = joblib.load(\"./data/processed/apr28_article_embed_axis0.joblib\")\n",
    "print(\"Embeds len:\", len(apr28_art_embed))\n",
    "\n",
    "print()\n",
    "print(\"--- apr 29 ---\")\n",
    "\n",
    "apr29 = get_data('processed/apr29_over100pvs_processed.csv')\n",
    "apr29_art_embed = joblib.load(\"./data/processed/apr29_article_embed_axis0.joblib\")\n",
    "print(\"Embeds len:\", len(apr29_art_embed))\n",
    "\n",
    "print()\n",
    "print(\"--- apr 30 ---\")\n",
    "\n",
    "apr30 = get_data('processed/apr30_over100pvs_processed.csv')\n",
    "apr30_art_embed = joblib.load(\"./data/processed/apr30_article_embed_axis0.joblib\")\n",
    "print(\"Embeds len:\", len(apr30_art_embed))\n",
    "\n",
    "print(\"--- may 01 ---\")\n",
    "\n",
    "may01 = get_data('processed/may01_over100pvs_processed.csv')\n",
    "may01_art_embed = joblib.load(\"./data/processed/may01_article_embed_axis0.joblib\")\n",
    "print(\"Embeds len:\", len(may01_art_embed))\n",
    "\n",
    "print()\n",
    "print(\"--- may 02 ---\")\n",
    "\n",
    "may02 = get_data('processed/may02_over100pvs_processed.csv')\n",
    "may02_art_embed = joblib.load(\"./data/processed/may02_article_embed_axis0.joblib\")\n",
    "print(\"Embeds len:\", len(may02_art_embed))"
   ]
  },
  {
   "cell_type": "code",
   "execution_count": 6,
   "metadata": {},
   "outputs": [
    {
     "name": "stdout",
     "output_type": "stream",
     "text": [
      "\n",
      "--- may 03 ---\n",
      "Before Shape: (4210, 8)\n",
      "Unique tiers: 31\n",
      "After Shape: (4199, 9)\n",
      "Embeds len: 4199\n",
      "\n",
      "--- may 04 ---\n",
      "Before Shape: (4235, 8)\n",
      "Unique tiers: 31\n",
      "After Shape: (4223, 9)\n",
      "Embeds len: 4223\n",
      "\n",
      "--- may 05 ---\n",
      "Before Shape: (4174, 8)\n",
      "Unique tiers: 31\n",
      "After Shape: (4160, 9)\n",
      "Embeds len: 4160\n",
      "--- may 06 ---\n",
      "Before Shape: (4079, 8)\n",
      "Unique tiers: 31\n",
      "After Shape: (4063, 9)\n",
      "Embeds len: 4063\n",
      "--- may 07 ---\n",
      "Before Shape: (3644, 8)\n",
      "Unique tiers: 31\n",
      "After Shape: (3630, 9)\n",
      "Embeds len: 3630\n",
      "--- may 08 ---\n",
      "Before Shape: (3038, 8)\n",
      "Unique tiers: 31\n",
      "After Shape: (3025, 9)\n",
      "Embeds len: 3025\n",
      "--- may 09 ---\n",
      "Before Shape: (3245, 8)\n",
      "Unique tiers: 31\n",
      "After Shape: (3231, 9)\n",
      "Embeds len: 3231\n"
     ]
    }
   ],
   "source": [
    "# testing data set\n",
    "\n",
    "print()\n",
    "print(\"--- may 03 ---\")\n",
    "\n",
    "may03 = get_data('processed/may03_over100pvs_processed.csv')\n",
    "may03_art_embed = joblib.load(\"./data/processed/may03_article_embed_axis0.joblib\")\n",
    "print(\"Embeds len:\", len(may03_art_embed))\n",
    "\n",
    "print()\n",
    "print(\"--- may 04 ---\")\n",
    "\n",
    "may04 = get_data('processed/may04_over100pvs_processed.csv')\n",
    "may04_art_embed = joblib.load(\"./data/processed/may04_article_embed_axis0.joblib\")\n",
    "print(\"Embeds len:\", len(may04_art_embed))\n",
    "\n",
    "print()\n",
    "print(\"--- may 05 ---\")\n",
    "\n",
    "may05 = get_data('processed/may05_over100pvs_processed.csv')\n",
    "may05_art_embed = joblib.load(\"./data/processed/may05_article_embed_axis0.joblib\")\n",
    "print(\"Embeds len:\", len(may05_art_embed))\n",
    "\n",
    "print(\"--- may 06 ---\")\n",
    "\n",
    "may06 = get_data('processed/may06_over100pvs_processed.csv')\n",
    "may06_art_embed = joblib.load(\"./data/processed/may06_article_embed_axis0.joblib\")\n",
    "print(\"Embeds len:\", len(may06_art_embed))\n",
    "\n",
    "print(\"--- may 07 ---\")\n",
    "\n",
    "may07 = get_data('processed/may07_over100pvs_processed.csv')\n",
    "may07_art_embed = joblib.load(\"./data/processed/may07_article_embed_axis0.joblib\")\n",
    "print(\"Embeds len:\", len(may07_art_embed))\n",
    "\n",
    "print(\"--- may 08 ---\")\n",
    "\n",
    "may08 = get_data('processed/may08_over100pvs_processed.csv')\n",
    "may08_art_embed = joblib.load(\"./data/processed/may08_article_embed_axis0.joblib\")\n",
    "print(\"Embeds len:\", len(may08_art_embed))\n",
    "\n",
    "print(\"--- may 09 ---\")\n",
    "\n",
    "may09 = get_data('processed/may09_over100pvs_processed.csv')\n",
    "may09_art_embed = joblib.load(\"./data/processed/may09_article_embed_axis0.joblib\")\n",
    "print(\"Embeds len:\", len(may09_art_embed))"
   ]
  },
  {
   "cell_type": "markdown",
   "metadata": {},
   "source": [
    "# Opt-1 and Opt-2"
   ]
  },
  {
   "cell_type": "markdown",
   "metadata": {},
   "source": [
    "### --- Combine train data - 7 days --- \n",
    "* apr 26 (monday) till may 2 (sunday)\n",
    "* Observations on training clustering performance - same as the one in file shared for review"
   ]
  },
  {
   "cell_type": "code",
   "execution_count": 7,
   "metadata": {},
   "outputs": [
    {
     "name": "stdout",
     "output_type": "stream",
     "text": [
      "(26743, 9)\n",
      "26743\n"
     ]
    }
   ],
   "source": [
    "# concatenate dfs\n",
    "\n",
    "combined_df = pd.concat([apr26, apr27, apr28, apr29, apr30, may01, may02])\n",
    "# reset index\n",
    "combined_df = combined_df.reset_index(drop=True)\n",
    "# drop unnecessary cols\n",
    "combined_df.drop([\"processed\", \"processed_noun\", \"processed_noun_2\"], axis = 1, inplace=True)\n",
    "# fill na\n",
    "combined_df.tier2 = combined_df.tier2.fillna('Other')\n",
    "combined_df.total_timeonpage = combined_df.total_timeonpage.fillna(0)\n",
    "print(combined_df.shape)\n",
    "\n",
    "# concatenate embeds\n",
    "combined_embeds = apr26_art_embed + apr27_art_embed + apr28_art_embed + apr29_art_embed + apr30_art_embed + may01_art_embed + may02_art_embed\n",
    "print(len(combined_embeds))"
   ]
  },
  {
   "cell_type": "code",
   "execution_count": 8,
   "metadata": {},
   "outputs": [
    {
     "name": "stdout",
     "output_type": "stream",
     "text": [
      "(7238, 9)\n",
      "False\n",
      "7238\n"
     ]
    }
   ],
   "source": [
    "# drop duplicates from df\n",
    "\n",
    "train_df = combined_df.drop_duplicates(subset=\"content_natid\", keep='first')\n",
    "\n",
    "print(train_df.shape)\n",
    "print(train_df.content_natid.duplicated(keep='first').any())\n",
    "\n",
    "train_embeds =  [combined_embeds[i] for i in list(train_df.index)]\n",
    "print(len(train_embeds))"
   ]
  },
  {
   "cell_type": "code",
   "execution_count": 9,
   "metadata": {},
   "outputs": [
    {
     "data": {
      "text/plain": [
       "(7238, 3)"
      ]
     },
     "execution_count": 9,
     "metadata": {},
     "output_type": "execute_result"
    }
   ],
   "source": [
    "train_df.reset_index(drop=True, inplace=True)\n",
    "\n",
    "train_df = train_df[['content_natid', 'clean_body', 'tier1']]\n",
    "train_df.shape"
   ]
  },
  {
   "cell_type": "markdown",
   "metadata": {},
   "source": [
    "* Get train data metrics - 7 days: apr 26 (monday) till may 2 (sunday) per day metrics aggregated at natid (7 day) level"
   ]
  },
  {
   "cell_type": "code",
   "execution_count": 10,
   "metadata": {},
   "outputs": [
    {
     "name": "stdout",
     "output_type": "stream",
     "text": [
      "(7522, 4)\n"
     ]
    }
   ],
   "source": [
    "# get training data metrics\n",
    "apr26_metrics = pd.read_csv(data_path + 'processed/apr26_metrics.csv')\n",
    "apr27_metrics = pd.read_csv(data_path + 'processed/apr27_metrics.csv')\n",
    "apr28_metrics = pd.read_csv(data_path + 'processed/apr28_metrics.csv')\n",
    "apr29_metrics = pd.read_csv(data_path + 'processed/apr29_metrics.csv')\n",
    "apr30_metrics = pd.read_csv(data_path + 'processed/apr30_metrics.csv')\n",
    "may01_metrics = pd.read_csv(data_path + 'processed/may01_metrics.csv')\n",
    "may02_metrics = pd.read_csv(data_path + 'processed/may02_metrics.csv')\n",
    "\n",
    "combined_metrics = pd.concat([apr26_metrics, apr27_metrics, apr28_metrics, apr29_metrics, apr30_metrics, \n",
    "                              may01_metrics, may02_metrics])\n",
    "\n",
    "apr26_may02_metrics = combined_metrics.groupby('GA_cmsNaturalId').agg({\n",
    "    'pvs':'sum', 'avg_time_on_page':'mean', 'avg_scroll':'mean'\n",
    "}).reset_index()\n",
    "\n",
    "print(apr26_may02_metrics.shape)"
   ]
  },
  {
   "cell_type": "markdown",
   "metadata": {},
   "source": [
    "### --- Modeling ---"
   ]
  },
  {
   "cell_type": "code",
   "execution_count": 11,
   "metadata": {},
   "outputs": [
    {
     "name": "stdout",
     "output_type": "stream",
     "text": [
      "7238\n"
     ]
    }
   ],
   "source": [
    "data = train_df.clean_body.tolist()\n",
    "print(len(data))"
   ]
  },
  {
   "cell_type": "markdown",
   "metadata": {},
   "source": [
    "**Param settings:** Newest -<br>\n",
    "\n",
    "umap_embeddings =  umap.UMAP(n_neighbors=15,<br>\n",
    "                             min_dist=0.0,<br>\n",
    "                             n_components=2,<br>\n",
    "                             random_state=SEED,<br>\n",
    "                            ).fit(train_embeds)<br>\n",
    "<br>\n",
    "cluster = hdbscan.HDBSCAN(min_cluster_size=5,<br>\n",
    "                      min_samples = 4, <br>\n",
    "                      metric= 'euclidean',         \n",
    "                      cluster_selection_method='eom',<br>\n",
    "                      prediction_data=True).fit(umap_embeddings.embedding_)\n"
   ]
  },
  {
   "cell_type": "code",
   "execution_count": 12,
   "metadata": {},
   "outputs": [],
   "source": [
    "# NEW SETTINGS for lesser noise - umap:n_neighbors=15, n_components=2, min_dist=0.0 \n",
    "# hdbscan min_cluster_size=5, min_samples = 4, input = sentence embeddings aggregated (mean) to full article\n",
    "\n",
    "umap_embeddings =  umap.UMAP(n_neighbors=15,\n",
    "                             min_dist=0.0,\n",
    "                             n_components=2,\n",
    "                             random_state=SEED,\n",
    "                            ).fit(train_embeds)"
   ]
  },
  {
   "cell_type": "code",
   "execution_count": 13,
   "metadata": {},
   "outputs": [],
   "source": [
    "# cluster\n",
    "cluster = hdbscan.HDBSCAN(min_cluster_size=5,\n",
    "                      min_samples = 4, #new\n",
    "                      metric= 'euclidean',                      \n",
    "                      cluster_selection_method='eom',\n",
    "                      prediction_data=True).fit(umap_embeddings.embedding_)"
   ]
  },
  {
   "cell_type": "code",
   "execution_count": 14,
   "metadata": {},
   "outputs": [
    {
     "name": "stdout",
     "output_type": "stream",
     "text": [
      "Shape of training embeddings: (7238, 2)\n"
     ]
    }
   ],
   "source": [
    "print(\"Shape of training embeddings:\", umap_embeddings.embedding_.shape)"
   ]
  },
  {
   "cell_type": "code",
   "execution_count": 15,
   "metadata": {},
   "outputs": [
    {
     "name": "stdout",
     "output_type": "stream",
     "text": [
      "Settings - mean axis=0\n"
     ]
    },
    {
     "data": {
      "text/plain": [
       "0.2996882715864831"
      ]
     },
     "execution_count": 15,
     "metadata": {},
     "output_type": "execute_result"
    }
   ],
   "source": [
    "labels = cluster.labels_\n",
    "print(\"Settings - mean axis=0\")\n",
    "validity_index(umap_embeddings.embedding_.astype('double'), labels)"
   ]
  },
  {
   "cell_type": "markdown",
   "metadata": {},
   "source": [
    "### HP-Tuning - type1"
   ]
  },
  {
   "cell_type": "code",
   "execution_count": 21,
   "metadata": {},
   "outputs": [
    {
     "data": {
      "text/plain": [
       "GridSearchCV(cv=[(slice(None, None, None), slice(None, None, None))],\n",
       "             estimator=HDBSCAN(prediction_data=True),\n",
       "             param_grid={'min_cluster_size': [5, 10, 15],\n",
       "                         'min_samples': [4, 9, 14]},\n",
       "             scoring=<function dbcv_score at 0x7fa80d006680>)"
      ]
     },
     "execution_count": 21,
     "metadata": {},
     "output_type": "execute_result"
    }
   ],
   "source": [
    "from sklearn.model_selection import GridSearchCV\n",
    "\n",
    "def dbcv_score(estimator, X):\n",
    "    labels = cluster.labels_\n",
    "    return validity_index(umap_embeddings.embedding_.astype('double'), labels)\n",
    "\n",
    "cluster_hp = hdbscan.HDBSCAN(metric= 'euclidean', cluster_selection_method='eom', prediction_data=True)\n",
    "\n",
    "params = {\"min_cluster_size\": [5, 10, 15], \"min_samples\": [4,9,14]}\n",
    "\n",
    "cv = [(slice(None), slice(None))]\n",
    "\n",
    "# run randomized search\n",
    "search = GridSearchCV(\n",
    "    cluster_hp,\n",
    "    param_grid=params,\n",
    "    scoring=dbcv_score,\n",
    "    cv= cv\n",
    "    )\n",
    "search.fit(umap_embeddings.embedding_)"
   ]
  },
  {
   "cell_type": "code",
   "execution_count": 22,
   "metadata": {},
   "outputs": [
    {
     "data": {
      "text/plain": [
       "HDBSCAN(min_samples=4, prediction_data=True)"
      ]
     },
     "execution_count": 22,
     "metadata": {},
     "output_type": "execute_result"
    }
   ],
   "source": [
    "search.best_estimator_"
   ]
  },
  {
   "cell_type": "code",
   "execution_count": 23,
   "metadata": {},
   "outputs": [
    {
     "data": {
      "text/plain": [
       "array([ -1,  46,  56, ...,  44, 187,  -1])"
      ]
     },
     "execution_count": 23,
     "metadata": {},
     "output_type": "execute_result"
    }
   ],
   "source": [
    "search.best_estimator_.labels_"
   ]
  },
  {
   "cell_type": "markdown",
   "metadata": {},
   "source": [
    "### HP-Tuning - type2\n",
    "\n",
    "min_dist_params = [0.0, 0.1] # old - 0.1, new - 0.0 <br>\n",
    "n_neighbors_params = [10, 15, 20] # old - 15, new - 15<br>\n",
    "n_components_params = [2, 5] # old - 5, new -2 <br>\n",
    "min_cluster_size_params = [5, 10] # old - 5, new - 5<br>\n",
    "min_samples_params = [4, 5] # old - none, new - 4"
   ]
  },
  {
   "cell_type": "code",
   "execution_count": null,
   "metadata": {},
   "outputs": [],
   "source": [
    "# list1 = [\"a\", \"b\", \"c\"]\n",
    "# list2 = [1, 2]\n",
    "\n",
    "# all_combinations = [list(zip(each_permutation, list2)) for each_permutation in itertools.permutations(list1, len(list2))]"
   ]
  },
  {
   "cell_type": "code",
   "execution_count": 17,
   "metadata": {},
   "outputs": [],
   "source": [
    "def evaluate_dbcv_score(embeds, pred_labels):\n",
    "    return validity_index(embeds, pred_labels)\n",
    "\n",
    "def evaluate_params(train_embeds, n_neighbors_params, n_components_params, min_cluster_size_params, min_samples_params):\n",
    "    \n",
    "    best_score, best_cfg = float(\"inf\"), None\n",
    "\n",
    "    for neigh in n_neighbors_params:\n",
    "        for comp in n_components_params:\n",
    "            for clust in min_cluster_size_params:\n",
    "                for samp in min_samples_params:\n",
    "                    \n",
    "                    order = (neigh, comp, clust, samp)\n",
    "\n",
    "                    try:\n",
    "                        umap_embeddings_hp = umap.UMAP(n_neighbors= neigh,\n",
    "                             min_dist = 0.0,\n",
    "                             n_components = comp,\n",
    "                             random_state = SEED,\n",
    "                            ).fit(train_embeds)\n",
    "\n",
    "                        # cluster\n",
    "                        cluster_hp = hdbscan.HDBSCAN(min_cluster_size = clust,\n",
    "                                              min_samples = samp,\n",
    "                                              metric= 'euclidean',                      \n",
    "                                              cluster_selection_method='eom',\n",
    "                                              prediction_data=True).fit(umap_embeddings_hp.embedding_)\n",
    "                        \n",
    "                        labels = cluster_hp.labels_\n",
    "                        score = evaluate_dbcv_score(umap_embeddings_hp.embedding_.astype('double'), labels)\n",
    "                        \n",
    "                        print('params%s score=%.3f' % (order, score))\n",
    "\n",
    "                        if score > best_score:\n",
    "                            best_score, best_cfg = score, order\n",
    "                    except:\n",
    "                        continue\n",
    "    print('Best params=%s Best Score=%.3f' % (order, score))"
   ]
  },
  {
   "cell_type": "code",
   "execution_count": 18,
   "metadata": {},
   "outputs": [],
   "source": [
    "n_neighbors_params = [15]\n",
    "n_components_params = [2]\n",
    "min_cluster_size_params = [5, 10]\n",
    "min_samples_params = [4,9]"
   ]
  },
  {
   "cell_type": "code",
   "execution_count": 19,
   "metadata": {},
   "outputs": [
    {
     "name": "stdout",
     "output_type": "stream",
     "text": [
      "params(15, 2, 5, 4) score=0.300\n",
      "params(15, 2, 5, 9) score=0.322\n",
      "params(15, 2, 10, 4) score=0.224\n",
      "params(15, 2, 10, 9) score=0.313\n",
      "Best params=(15, 2, 10, 9) Best Score=0.313\n"
     ]
    }
   ],
   "source": [
    "evaluate_params(train_embeds, n_neighbors_params, n_components_params, min_cluster_size_params, min_samples_params)\n",
    "\n",
    "#8.17"
   ]
  },
  {
   "cell_type": "code",
   "execution_count": null,
   "metadata": {},
   "outputs": [],
   "source": []
  },
  {
   "cell_type": "code",
   "execution_count": 16,
   "metadata": {},
   "outputs": [
    {
     "name": "stdout",
     "output_type": "stream",
     "text": [
      "Distinct topics including -1 for noise 323\n",
      "\n"
     ]
    },
    {
     "data": {
      "text/html": [
       "<div>\n",
       "<style scoped>\n",
       "    .dataframe tbody tr th:only-of-type {\n",
       "        vertical-align: middle;\n",
       "    }\n",
       "\n",
       "    .dataframe tbody tr th {\n",
       "        vertical-align: top;\n",
       "    }\n",
       "\n",
       "    .dataframe thead th {\n",
       "        text-align: right;\n",
       "    }\n",
       "</style>\n",
       "<table border=\"1\" class=\"dataframe\">\n",
       "  <thead>\n",
       "    <tr style=\"text-align: right;\">\n",
       "      <th></th>\n",
       "      <th>Doc</th>\n",
       "      <th>Topic</th>\n",
       "      <th>Doc_ID</th>\n",
       "    </tr>\n",
       "  </thead>\n",
       "  <tbody>\n",
       "    <tr>\n",
       "      <th>0</th>\n",
       "      <td>10 robot vacuums that clean so you dont have to. if youre like most people, vacuuming is low on your list ...</td>\n",
       "      <td>-1</td>\n",
       "      <td>0</td>\n",
       "    </tr>\n",
       "    <tr>\n",
       "      <th>1</th>\n",
       "      <td>these 11 mattress toppers give you the bed of your dreams. while new pillows or a new set of sheets can do...</td>\n",
       "      <td>46</td>\n",
       "      <td>1</td>\n",
       "    </tr>\n",
       "    <tr>\n",
       "      <th>2</th>\n",
       "      <td>wayfairs biggest sale of the year is officially here. thanks to the pandemic, most of us have spent the pa...</td>\n",
       "      <td>56</td>\n",
       "      <td>2</td>\n",
       "    </tr>\n",
       "    <tr>\n",
       "      <th>3</th>\n",
       "      <td>apple ios 14.5 released: massive iphone update with cool features &amp; important fixes. april 28 update below...</td>\n",
       "      <td>60</td>\n",
       "      <td>3</td>\n",
       "    </tr>\n",
       "    <tr>\n",
       "      <th>4</th>\n",
       "      <td>apple airtag: all you need to know about the game-changing new gadget. april 28 update below. this post wa...</td>\n",
       "      <td>60</td>\n",
       "      <td>4</td>\n",
       "    </tr>\n",
       "    <tr>\n",
       "      <th>...</th>\n",
       "      <td>...</td>\n",
       "      <td>...</td>\n",
       "      <td>...</td>\n",
       "    </tr>\n",
       "    <tr>\n",
       "      <th>7233</th>\n",
       "      <td>the oilman, the playmate, and the tangled affairs of the billionaire marshall family. j. howard marshall i...</td>\n",
       "      <td>132</td>\n",
       "      <td>7233</td>\n",
       "    </tr>\n",
       "    <tr>\n",
       "      <th>7234</th>\n",
       "      <td>5 surprising foods that help you sleep. cherries: the new melatonin supplement (image via wikipedia) june ...</td>\n",
       "      <td>35</td>\n",
       "      <td>7234</td>\n",
       "    </tr>\n",
       "    <tr>\n",
       "      <th>7235</th>\n",
       "      <td>hacker's demo shows how easily credit cards can be read through clothes and wallets. some blank credit car...</td>\n",
       "      <td>44</td>\n",
       "      <td>7235</td>\n",
       "    </tr>\n",
       "    <tr>\n",
       "      <th>7236</th>\n",
       "      <td>the five richest pastors in nigeria. london-based nigerian pastor matthew ashimolowo god is good, especial...</td>\n",
       "      <td>187</td>\n",
       "      <td>7236</td>\n",
       "    </tr>\n",
       "    <tr>\n",
       "      <th>7237</th>\n",
       "      <td>man inadvertently live tweets osama bin laden raid. an it consultant who tried to take a break from the ra...</td>\n",
       "      <td>-1</td>\n",
       "      <td>7237</td>\n",
       "    </tr>\n",
       "  </tbody>\n",
       "</table>\n",
       "<p>7238 rows × 3 columns</p>\n",
       "</div>"
      ],
      "text/plain": [
       "                                                                                                                Doc  \\\n",
       "0     10 robot vacuums that clean so you dont have to. if youre like most people, vacuuming is low on your list ...   \n",
       "1     these 11 mattress toppers give you the bed of your dreams. while new pillows or a new set of sheets can do...   \n",
       "2     wayfairs biggest sale of the year is officially here. thanks to the pandemic, most of us have spent the pa...   \n",
       "3     apple ios 14.5 released: massive iphone update with cool features & important fixes. april 28 update below...   \n",
       "4     apple airtag: all you need to know about the game-changing new gadget. april 28 update below. this post wa...   \n",
       "...                                                                                                             ...   \n",
       "7233  the oilman, the playmate, and the tangled affairs of the billionaire marshall family. j. howard marshall i...   \n",
       "7234  5 surprising foods that help you sleep. cherries: the new melatonin supplement (image via wikipedia) june ...   \n",
       "7235  hacker's demo shows how easily credit cards can be read through clothes and wallets. some blank credit car...   \n",
       "7236  the five richest pastors in nigeria. london-based nigerian pastor matthew ashimolowo god is good, especial...   \n",
       "7237  man inadvertently live tweets osama bin laden raid. an it consultant who tried to take a break from the ra...   \n",
       "\n",
       "      Topic  Doc_ID  \n",
       "0        -1       0  \n",
       "1        46       1  \n",
       "2        56       2  \n",
       "3        60       3  \n",
       "4        60       4  \n",
       "...     ...     ...  \n",
       "7233    132    7233  \n",
       "7234     35    7234  \n",
       "7235     44    7235  \n",
       "7236    187    7236  \n",
       "7237     -1    7237  \n",
       "\n",
       "[7238 rows x 3 columns]"
      ]
     },
     "execution_count": 16,
     "metadata": {},
     "output_type": "execute_result"
    }
   ],
   "source": [
    "# put topics in dataframe\n",
    "docs_df = pd.DataFrame(data, columns=[\"Doc\"])\n",
    "docs_df['Topic'] = cluster.labels_\n",
    "docs_df['Doc_ID'] = range(len(docs_df))\n",
    "\n",
    "print(\"Distinct topics including -1 for noise\", len(docs_df.Topic.unique()))\n",
    "print()\n",
    "docs_df"
   ]
  },
  {
   "cell_type": "code",
   "execution_count": 17,
   "metadata": {},
   "outputs": [],
   "source": [
    "# combine together all articles belonging to same cluster  \n",
    "docs_per_topic = docs_df.groupby(['Topic'], as_index = False).agg({'Doc': ' '.join})\n",
    "\n",
    "# calculate countVector and tf-idf\n",
    "tf_idf, count = c_tf_idf(docs_per_topic.Doc.values, m=len(data))\n",
    "\n",
    "# top n words, topic size\n",
    "top_n_words = extract_top_n_words_per_topic(tf_idf, count, docs_per_topic, n=20)\n",
    "topic_sizes = extract_topic_sizes(docs_df); \n",
    "\n",
    "# modify top_n_words per topic dict into dataframe for presentation\n",
    "topic_words_dict = {}  \n",
    "\n",
    "for k, v in top_n_words.items():\n",
    "    topic_words_dict[k] = \", \".join([elem[0] for elem in v])\n",
    "\n",
    "pd.set_option(\"max_colwidth\", 250)\n",
    "top_n_words_df = pd.DataFrame.from_dict(topic_words_dict, \n",
    "                                        orient='index').reset_index().rename(columns={'index':'topic_num',\n",
    "                                                                                      \n",
    "                                                                                      0:'topic_words'}) "
   ]
  },
  {
   "cell_type": "code",
   "execution_count": 18,
   "metadata": {},
   "outputs": [
    {
     "name": "stdout",
     "output_type": "stream",
     "text": [
      "keyword time 0.0005437850952148438\n"
     ]
    }
   ],
   "source": [
    "# clean keywords\n",
    "\n",
    "from collections import OrderedDict\n",
    "# from fuzzywuzzy import process, fuzz\n",
    "from itertools import chain\n",
    "\n",
    "import time\n",
    "start = time.time()\n",
    "\n",
    "clean_keys = []\n",
    "for index, row in top_n_words_df.iterrows(): \n",
    "    \n",
    "    # remove STOP WORDS and remove whitespaces\n",
    "    inter_list = [x.strip() for x in row[\"topic_words\"].split(\",\") if x not in STOP_WORDS]\n",
    "    \n",
    "    # remove numbers but not alphanumerics e.g. remove 400, not ps4 \n",
    "    inter_list = [x for x in inter_list if not x.isnumeric()]\n",
    "    \n",
    "    # remove subset-based similar words - e.g. 'pcr tests' and 'tests' then 'tests' will be removed\n",
    "    inter_list = [i for i in inter_list if not any(i in x and i!=x for x in inter_list)]\n",
    "\n",
    "    # remove empty or 1-letter words\n",
    "    inter_list = [x for x in inter_list if len(x)>1]\n",
    "    \n",
    "    # de-duplicate\n",
    "    inter_list = list(OrderedDict.fromkeys(inter_list))\n",
    "    \n",
    "    # keep top 20 cleaned keywords\n",
    "    inter_list = inter_list[:6] \n",
    "    \n",
    "    # convert into string\n",
    "    inter_list = ', '.join(inter_list)\n",
    "    \n",
    "    clean_keys.append(inter_list)\n",
    "\n",
    "end = time.time()\n",
    "print(\"keyword time\", (end - start)/60) "
   ]
  },
  {
   "cell_type": "code",
   "execution_count": 19,
   "metadata": {},
   "outputs": [],
   "source": [
    "top_n_words_df[\"topic_words\"] = clean_keys"
   ]
  },
  {
   "cell_type": "code",
   "execution_count": 20,
   "metadata": {},
   "outputs": [],
   "source": [
    "# GENERATE TOPIC METRICS\n",
    "\n",
    "# per topic - cos_min and cos_mean\n",
    "train_cossim_df = generate_all_cossim_metrics(docs_df, train_embeds)\n",
    "\n",
    "# per topic - tier counts\n",
    "tier_metric = docs_df.join(train_df[[\"tier1\"]])\n",
    "\n",
    "iab_metric = tier_metric.groupby(\"Topic\").agg({\"tier1\": \n",
    "                                               'nunique'}).round(2).reset_index().rename(columns = {'tier1': \n",
    "                                                                                                    'distinct_tier1s',\n",
    "                                                                                                    'Topic':\n",
    "                                                                                                    'topic_num'})\n",
    "\n",
    "# combine topic, top words, cos and tier metrics\n",
    "topic_info = pd.merge(pd.merge(pd.merge(top_n_words_df, \n",
    "                               topic_sizes, how=\"inner\", left_on=\"topic_num\", right_on = \"Topic\"), \n",
    "                               train_cossim_df, on = \"topic_num\", how=\"inner\"), \n",
    "                      iab_metric, on = \"topic_num\", how=\"inner\")\n",
    "\n",
    "topic_info.drop('Topic', axis=1, inplace=True)"
   ]
  },
  {
   "cell_type": "code",
   "execution_count": 21,
   "metadata": {},
   "outputs": [
    {
     "data": {
      "text/html": [
       "<div>\n",
       "<style scoped>\n",
       "    .dataframe tbody tr th:only-of-type {\n",
       "        vertical-align: middle;\n",
       "    }\n",
       "\n",
       "    .dataframe tbody tr th {\n",
       "        vertical-align: top;\n",
       "    }\n",
       "\n",
       "    .dataframe thead th {\n",
       "        text-align: right;\n",
       "    }\n",
       "</style>\n",
       "<table border=\"1\" class=\"dataframe\">\n",
       "  <thead>\n",
       "    <tr style=\"text-align: right;\">\n",
       "      <th></th>\n",
       "      <th>topic_num</th>\n",
       "      <th>topic_words</th>\n",
       "      <th>Size</th>\n",
       "      <th>cos_min</th>\n",
       "      <th>cos_mean</th>\n",
       "      <th>distinct_tier1s</th>\n",
       "    </tr>\n",
       "  </thead>\n",
       "  <tbody>\n",
       "    <tr>\n",
       "      <th>0</th>\n",
       "      <td>-1</td>\n",
       "      <td>remote, age, businesses, leaders, workers, water</td>\n",
       "      <td>1946</td>\n",
       "      <td>-0.05</td>\n",
       "      <td>0.71</td>\n",
       "      <td>31</td>\n",
       "    </tr>\n",
       "    <tr>\n",
       "      <th>1</th>\n",
       "      <td>0</td>\n",
       "      <td>10 states, average annual, annual wage, salaries, occupational, therapist salary</td>\n",
       "      <td>34</td>\n",
       "      <td>0.77</td>\n",
       "      <td>0.90</td>\n",
       "      <td>8</td>\n",
       "    </tr>\n",
       "    <tr>\n",
       "      <th>2</th>\n",
       "      <td>1</td>\n",
       "      <td>million viewers, 000 viewers, fox news, msnbc, cable news, prime time</td>\n",
       "      <td>7</td>\n",
       "      <td>0.95</td>\n",
       "      <td>0.97</td>\n",
       "      <td>3</td>\n",
       "    </tr>\n",
       "    <tr>\n",
       "      <th>3</th>\n",
       "      <td>2</td>\n",
       "      <td>pink moon, sky, supermoons, super pink, sun, blood moon</td>\n",
       "      <td>30</td>\n",
       "      <td>0.75</td>\n",
       "      <td>0.88</td>\n",
       "      <td>6</td>\n",
       "    </tr>\n",
       "    <tr>\n",
       "      <th>4</th>\n",
       "      <td>3</td>\n",
       "      <td>def, aew, nxt, wrestlemania, smackdown, live events</td>\n",
       "      <td>14</td>\n",
       "      <td>0.76</td>\n",
       "      <td>0.88</td>\n",
       "      <td>4</td>\n",
       "    </tr>\n",
       "  </tbody>\n",
       "</table>\n",
       "</div>"
      ],
      "text/plain": [
       "   topic_num  \\\n",
       "0         -1   \n",
       "1          0   \n",
       "2          1   \n",
       "3          2   \n",
       "4          3   \n",
       "\n",
       "                                                                        topic_words  \\\n",
       "0                                  remote, age, businesses, leaders, workers, water   \n",
       "1  10 states, average annual, annual wage, salaries, occupational, therapist salary   \n",
       "2             million viewers, 000 viewers, fox news, msnbc, cable news, prime time   \n",
       "3                           pink moon, sky, supermoons, super pink, sun, blood moon   \n",
       "4                               def, aew, nxt, wrestlemania, smackdown, live events   \n",
       "\n",
       "   Size  cos_min  cos_mean  distinct_tier1s  \n",
       "0  1946    -0.05      0.71               31  \n",
       "1    34     0.77      0.90                8  \n",
       "2     7     0.95      0.97                3  \n",
       "3    30     0.75      0.88                6  \n",
       "4    14     0.76      0.88                4  "
      ]
     },
     "execution_count": 21,
     "metadata": {},
     "output_type": "execute_result"
    }
   ],
   "source": [
    "topic_info.head()"
   ]
  },
  {
   "cell_type": "code",
   "execution_count": 22,
   "metadata": {},
   "outputs": [
    {
     "data": {
      "image/png": "[encoded data removed]",
      "text/plain": [
       "<Figure size 1080x720 with 4 Axes>"
      ]
     },
     "metadata": {},
     "output_type": "display_data"
    }
   ],
   "source": [
    "# TEST FOR LESSER NOISE\n",
    "topic_info[['cos_min', 'cos_mean', 'distinct_tier1s']].hist(figsize= (15,10), bins=50)\n",
    "plt.show()"
   ]
  },
  {
   "cell_type": "code",
   "execution_count": 23,
   "metadata": {},
   "outputs": [
    {
     "data": {
      "text/html": [
       "<div>\n",
       "<style scoped>\n",
       "    .dataframe tbody tr th:only-of-type {\n",
       "        vertical-align: middle;\n",
       "    }\n",
       "\n",
       "    .dataframe tbody tr th {\n",
       "        vertical-align: top;\n",
       "    }\n",
       "\n",
       "    .dataframe thead th {\n",
       "        text-align: right;\n",
       "    }\n",
       "</style>\n",
       "<table border=\"1\" class=\"dataframe\">\n",
       "  <thead>\n",
       "    <tr style=\"text-align: right;\">\n",
       "      <th></th>\n",
       "      <th>cos_min</th>\n",
       "      <th>cos_mean</th>\n",
       "      <th>distinct_tier1s</th>\n",
       "      <th>Size</th>\n",
       "    </tr>\n",
       "  </thead>\n",
       "  <tbody>\n",
       "    <tr>\n",
       "      <th>count</th>\n",
       "      <td>323.000</td>\n",
       "      <td>323.000</td>\n",
       "      <td>323.000</td>\n",
       "      <td>323.000</td>\n",
       "    </tr>\n",
       "    <tr>\n",
       "      <th>mean</th>\n",
       "      <td>0.752</td>\n",
       "      <td>0.875</td>\n",
       "      <td>4.601</td>\n",
       "      <td>22.409</td>\n",
       "    </tr>\n",
       "    <tr>\n",
       "      <th>std</th>\n",
       "      <td>0.093</td>\n",
       "      <td>0.038</td>\n",
       "      <td>3.022</td>\n",
       "      <td>108.579</td>\n",
       "    </tr>\n",
       "    <tr>\n",
       "      <th>min</th>\n",
       "      <td>-0.050</td>\n",
       "      <td>0.710</td>\n",
       "      <td>1.000</td>\n",
       "      <td>5.000</td>\n",
       "    </tr>\n",
       "    <tr>\n",
       "      <th>25%</th>\n",
       "      <td>0.710</td>\n",
       "      <td>0.850</td>\n",
       "      <td>3.000</td>\n",
       "      <td>7.000</td>\n",
       "    </tr>\n",
       "    <tr>\n",
       "      <th>50%</th>\n",
       "      <td>0.760</td>\n",
       "      <td>0.880</td>\n",
       "      <td>4.000</td>\n",
       "      <td>11.000</td>\n",
       "    </tr>\n",
       "    <tr>\n",
       "      <th>75%</th>\n",
       "      <td>0.810</td>\n",
       "      <td>0.900</td>\n",
       "      <td>5.000</td>\n",
       "      <td>19.000</td>\n",
       "    </tr>\n",
       "    <tr>\n",
       "      <th>max</th>\n",
       "      <td>0.950</td>\n",
       "      <td>0.970</td>\n",
       "      <td>31.000</td>\n",
       "      <td>1946.000</td>\n",
       "    </tr>\n",
       "  </tbody>\n",
       "</table>\n",
       "</div>"
      ],
      "text/plain": [
       "       cos_min  cos_mean  distinct_tier1s      Size\n",
       "count  323.000   323.000          323.000   323.000\n",
       "mean     0.752     0.875            4.601    22.409\n",
       "std      0.093     0.038            3.022   108.579\n",
       "min     -0.050     0.710            1.000     5.000\n",
       "25%      0.710     0.850            3.000     7.000\n",
       "50%      0.760     0.880            4.000    11.000\n",
       "75%      0.810     0.900            5.000    19.000\n",
       "max      0.950     0.970           31.000  1946.000"
      ]
     },
     "execution_count": 23,
     "metadata": {},
     "output_type": "execute_result"
    }
   ],
   "source": [
    "topic_info[['cos_min', 'cos_mean', 'distinct_tier1s', 'Size']].describe().apply(lambda x: round(x, 3))"
   ]
  },
  {
   "cell_type": "code",
   "execution_count": 24,
   "metadata": {},
   "outputs": [],
   "source": [
    "# joblib.dump(umap_embeddings, \"./model/apr26_may2_train_umap_07192021.joblib\")\n",
    "# joblib.dump(cluster, \"./model/apr26_may2_train_clusterer_07192021.joblib\")"
   ]
  },
  {
   "cell_type": "markdown",
   "metadata": {},
   "source": [
    "**Topics are about:**\n"
   ]
  },
  {
   "cell_type": "code",
   "execution_count": 25,
   "metadata": {},
   "outputs": [],
   "source": [
    "# combine natural id inside docs_df\n",
    "docs_df = pd.merge(docs_df, train_df, how=\"left\", left_on=\"Doc\", right_on=\"clean_body\")\n",
    "docs_df.drop(\"clean_body\", axis=1, inplace=True)"
   ]
  },
  {
   "cell_type": "code",
   "execution_count": 26,
   "metadata": {},
   "outputs": [
    {
     "data": {
      "text/html": [
       "<div>\n",
       "<style scoped>\n",
       "    .dataframe tbody tr th:only-of-type {\n",
       "        vertical-align: middle;\n",
       "    }\n",
       "\n",
       "    .dataframe tbody tr th {\n",
       "        vertical-align: top;\n",
       "    }\n",
       "\n",
       "    .dataframe thead th {\n",
       "        text-align: right;\n",
       "    }\n",
       "</style>\n",
       "<table border=\"1\" class=\"dataframe\">\n",
       "  <thead>\n",
       "    <tr style=\"text-align: right;\">\n",
       "      <th></th>\n",
       "      <th>Doc</th>\n",
       "      <th>Topic</th>\n",
       "      <th>Doc_ID</th>\n",
       "      <th>content_natid</th>\n",
       "      <th>tier1</th>\n",
       "      <th>topic_num</th>\n",
       "      <th>topic_words</th>\n",
       "      <th>Size</th>\n",
       "      <th>cos_min</th>\n",
       "      <th>cos_mean</th>\n",
       "      <th>distinct_tier1s</th>\n",
       "    </tr>\n",
       "  </thead>\n",
       "  <tbody>\n",
       "    <tr>\n",
       "      <th>0</th>\n",
       "      <td>10 robot vacuums that clean so you dont have to. if youre like most people, vacuuming is low on your list of favorite chores. you can avoid cleaning, or enlist the aid of a robot vacuum to clean your home autonomously. the best robot vacuums are ...</td>\n",
       "      <td>-1</td>\n",
       "      <td>0</td>\n",
       "      <td>blogandpostid/blog/post/4983-5ea87d15960ddf000681c604</td>\n",
       "      <td>Shopping</td>\n",
       "      <td>-1</td>\n",
       "      <td>remote, age, businesses, leaders, workers, water</td>\n",
       "      <td>1946</td>\n",
       "      <td>-0.05</td>\n",
       "      <td>0.71</td>\n",
       "      <td>31</td>\n",
       "    </tr>\n",
       "  </tbody>\n",
       "</table>\n",
       "</div>"
      ],
      "text/plain": [
       "                                                                                                                                                                                                                                                         Doc  \\\n",
       "0  10 robot vacuums that clean so you dont have to. if youre like most people, vacuuming is low on your list of favorite chores. you can avoid cleaning, or enlist the aid of a robot vacuum to clean your home autonomously. the best robot vacuums are ...   \n",
       "\n",
       "   Topic  Doc_ID                                          content_natid  \\\n",
       "0     -1       0  blogandpostid/blog/post/4983-5ea87d15960ddf000681c604   \n",
       "\n",
       "      tier1  topic_num                                       topic_words  \\\n",
       "0  Shopping         -1  remote, age, businesses, leaders, workers, water   \n",
       "\n",
       "   Size  cos_min  cos_mean  distinct_tier1s  \n",
       "0  1946    -0.05      0.71               31  "
      ]
     },
     "execution_count": 26,
     "metadata": {},
     "output_type": "execute_result"
    }
   ],
   "source": [
    "# contains natid, article body, assigned topic\n",
    "\n",
    "full_train_topics = pd.merge(docs_df, topic_info, how=\"left\", left_on=\"Topic\", right_on=\"topic_num\")\n",
    "full_train_topics.head(1)"
   ]
  },
  {
   "cell_type": "code",
   "execution_count": 27,
   "metadata": {},
   "outputs": [
    {
     "data": {
      "text/html": [
       "<div>\n",
       "<style scoped>\n",
       "    .dataframe tbody tr th:only-of-type {\n",
       "        vertical-align: middle;\n",
       "    }\n",
       "\n",
       "    .dataframe tbody tr th {\n",
       "        vertical-align: top;\n",
       "    }\n",
       "\n",
       "    .dataframe thead th {\n",
       "        text-align: right;\n",
       "    }\n",
       "</style>\n",
       "<table border=\"1\" class=\"dataframe\">\n",
       "  <thead>\n",
       "    <tr style=\"text-align: right;\">\n",
       "      <th></th>\n",
       "      <th>GA_cmsNaturalId</th>\n",
       "      <th>pvs</th>\n",
       "      <th>avg_time_on_page</th>\n",
       "      <th>avg_scroll</th>\n",
       "    </tr>\n",
       "  </thead>\n",
       "  <tbody>\n",
       "    <tr>\n",
       "      <th>0</th>\n",
       "      <td>blogandpostid/blog/post/1007-35894</td>\n",
       "      <td>678</td>\n",
       "      <td>185.901976</td>\n",
       "      <td>0.524951</td>\n",
       "    </tr>\n",
       "    <tr>\n",
       "      <th>1</th>\n",
       "      <td>blogandpostid/blog/post/1011-12712</td>\n",
       "      <td>103</td>\n",
       "      <td>90.669903</td>\n",
       "      <td>0.361650</td>\n",
       "    </tr>\n",
       "    <tr>\n",
       "      <th>2</th>\n",
       "      <td>blogandpostid/blog/post/1011-2227</td>\n",
       "      <td>134</td>\n",
       "      <td>99.514925</td>\n",
       "      <td>0.419776</td>\n",
       "    </tr>\n",
       "  </tbody>\n",
       "</table>\n",
       "</div>"
      ],
      "text/plain": [
       "                      GA_cmsNaturalId  pvs  avg_time_on_page  avg_scroll\n",
       "0  blogandpostid/blog/post/1007-35894  678        185.901976    0.524951\n",
       "1  blogandpostid/blog/post/1011-12712  103         90.669903    0.361650\n",
       "2   blogandpostid/blog/post/1011-2227  134         99.514925    0.419776"
      ]
     },
     "execution_count": 27,
     "metadata": {},
     "output_type": "execute_result"
    }
   ],
   "source": [
    "apr26_may02_metrics.head(3)"
   ]
  },
  {
   "cell_type": "code",
   "execution_count": 28,
   "metadata": {},
   "outputs": [
    {
     "data": {
      "text/plain": [
       "(7238, 15)"
      ]
     },
     "execution_count": 28,
     "metadata": {},
     "output_type": "execute_result"
    }
   ],
   "source": [
    "final = pd.merge(full_train_topics, apr26_may02_metrics, left_on=\"content_natid\", right_on=\"GA_cmsNaturalId\", how=\"inner\")\n",
    "final.shape"
   ]
  },
  {
   "cell_type": "code",
   "execution_count": 29,
   "metadata": {},
   "outputs": [
    {
     "data": {
      "text/html": [
       "<div>\n",
       "<style scoped>\n",
       "    .dataframe tbody tr th:only-of-type {\n",
       "        vertical-align: middle;\n",
       "    }\n",
       "\n",
       "    .dataframe tbody tr th {\n",
       "        vertical-align: top;\n",
       "    }\n",
       "\n",
       "    .dataframe thead th {\n",
       "        text-align: right;\n",
       "    }\n",
       "</style>\n",
       "<table border=\"1\" class=\"dataframe\">\n",
       "  <thead>\n",
       "    <tr style=\"text-align: right;\">\n",
       "      <th></th>\n",
       "      <th>Topic</th>\n",
       "      <th>pvs</th>\n",
       "      <th>avg_time_on_page</th>\n",
       "      <th>avg_scroll</th>\n",
       "      <th>content_natid</th>\n",
       "    </tr>\n",
       "  </thead>\n",
       "  <tbody>\n",
       "    <tr>\n",
       "      <th>19</th>\n",
       "      <td>18</td>\n",
       "      <td>34020</td>\n",
       "      <td>179.954223</td>\n",
       "      <td>0.368528</td>\n",
       "      <td>38</td>\n",
       "    </tr>\n",
       "    <tr>\n",
       "      <th>196</th>\n",
       "      <td>195</td>\n",
       "      <td>6241</td>\n",
       "      <td>176.444653</td>\n",
       "      <td>0.386669</td>\n",
       "      <td>6</td>\n",
       "    </tr>\n",
       "    <tr>\n",
       "      <th>312</th>\n",
       "      <td>311</td>\n",
       "      <td>4328</td>\n",
       "      <td>171.410591</td>\n",
       "      <td>0.449847</td>\n",
       "      <td>7</td>\n",
       "    </tr>\n",
       "    <tr>\n",
       "      <th>208</th>\n",
       "      <td>207</td>\n",
       "      <td>11210</td>\n",
       "      <td>169.101821</td>\n",
       "      <td>0.397428</td>\n",
       "      <td>10</td>\n",
       "    </tr>\n",
       "    <tr>\n",
       "      <th>23</th>\n",
       "      <td>22</td>\n",
       "      <td>9228</td>\n",
       "      <td>167.514232</td>\n",
       "      <td>0.359044</td>\n",
       "      <td>14</td>\n",
       "    </tr>\n",
       "  </tbody>\n",
       "</table>\n",
       "</div>"
      ],
      "text/plain": [
       "     Topic    pvs  avg_time_on_page  avg_scroll  content_natid\n",
       "19      18  34020        179.954223    0.368528             38\n",
       "196    195   6241        176.444653    0.386669              6\n",
       "312    311   4328        171.410591    0.449847              7\n",
       "208    207  11210        169.101821    0.397428             10\n",
       "23      22   9228        167.514232    0.359044             14"
      ]
     },
     "execution_count": 29,
     "metadata": {},
     "output_type": "execute_result"
    }
   ],
   "source": [
    "train_calcs = final.groupby('Topic').agg({'pvs':'sum', 'avg_time_on_page':'mean', 'avg_scroll':'mean',\n",
    "                                        'content_natid':'nunique'}).reset_index()\n",
    "\n",
    "train_calcs.sort_values(\"avg_time_on_page\", ascending=False).head()"
   ]
  },
  {
   "cell_type": "code",
   "execution_count": 30,
   "metadata": {},
   "outputs": [],
   "source": [
    "# TEST FOR LESSER NOISE\n",
    "# final.to_csv(results_path+\"review_apr26_may02_trained_topics.csv\", index=False)\n",
    "# not saving again - refer to file shared for review for obs"
   ]
  },
  {
   "cell_type": "markdown",
   "metadata": {},
   "source": [
    "* Noise"
   ]
  },
  {
   "cell_type": "code",
   "execution_count": 31,
   "metadata": {},
   "outputs": [
    {
     "data": {
      "text/plain": [
       "27"
      ]
     },
     "execution_count": 31,
     "metadata": {},
     "output_type": "execute_result"
    }
   ],
   "source": [
    "# data shared for review -- trained topics = 323. Noise = 27% (1946/7238)\n",
    "# now -- trained topics = 328. Noise = 31% (2227/7238)\n",
    "\n",
    "round(full_train_topics[full_train_topics.Topic==-1].shape[0]/full_train_topics.shape[0]*100)"
   ]
  },
  {
   "cell_type": "code",
   "execution_count": 32,
   "metadata": {},
   "outputs": [
    {
     "data": {
      "text/html": [
       "<div>\n",
       "<style scoped>\n",
       "    .dataframe tbody tr th:only-of-type {\n",
       "        vertical-align: middle;\n",
       "    }\n",
       "\n",
       "    .dataframe tbody tr th {\n",
       "        vertical-align: top;\n",
       "    }\n",
       "\n",
       "    .dataframe thead th {\n",
       "        text-align: right;\n",
       "    }\n",
       "</style>\n",
       "<table border=\"1\" class=\"dataframe\">\n",
       "  <thead>\n",
       "    <tr style=\"text-align: right;\">\n",
       "      <th></th>\n",
       "      <th>Size</th>\n",
       "      <th>cos_min</th>\n",
       "      <th>cos_mean</th>\n",
       "    </tr>\n",
       "  </thead>\n",
       "  <tbody>\n",
       "    <tr>\n",
       "      <th>count</th>\n",
       "      <td>323.000000</td>\n",
       "      <td>323.000000</td>\n",
       "      <td>323.000000</td>\n",
       "    </tr>\n",
       "    <tr>\n",
       "      <th>mean</th>\n",
       "      <td>22.408669</td>\n",
       "      <td>0.751858</td>\n",
       "      <td>0.874551</td>\n",
       "    </tr>\n",
       "    <tr>\n",
       "      <th>std</th>\n",
       "      <td>108.579164</td>\n",
       "      <td>0.093169</td>\n",
       "      <td>0.038473</td>\n",
       "    </tr>\n",
       "    <tr>\n",
       "      <th>min</th>\n",
       "      <td>5.000000</td>\n",
       "      <td>-0.050000</td>\n",
       "      <td>0.710000</td>\n",
       "    </tr>\n",
       "    <tr>\n",
       "      <th>25%</th>\n",
       "      <td>7.000000</td>\n",
       "      <td>0.710000</td>\n",
       "      <td>0.850000</td>\n",
       "    </tr>\n",
       "    <tr>\n",
       "      <th>50%</th>\n",
       "      <td>11.000000</td>\n",
       "      <td>0.760000</td>\n",
       "      <td>0.880000</td>\n",
       "    </tr>\n",
       "    <tr>\n",
       "      <th>75%</th>\n",
       "      <td>19.000000</td>\n",
       "      <td>0.810000</td>\n",
       "      <td>0.900000</td>\n",
       "    </tr>\n",
       "    <tr>\n",
       "      <th>max</th>\n",
       "      <td>1946.000000</td>\n",
       "      <td>0.950000</td>\n",
       "      <td>0.970000</td>\n",
       "    </tr>\n",
       "  </tbody>\n",
       "</table>\n",
       "</div>"
      ],
      "text/plain": [
       "              Size     cos_min    cos_mean\n",
       "count   323.000000  323.000000  323.000000\n",
       "mean     22.408669    0.751858    0.874551\n",
       "std     108.579164    0.093169    0.038473\n",
       "min       5.000000   -0.050000    0.710000\n",
       "25%       7.000000    0.710000    0.850000\n",
       "50%      11.000000    0.760000    0.880000\n",
       "75%      19.000000    0.810000    0.900000\n",
       "max    1946.000000    0.950000    0.970000"
      ]
     },
     "execution_count": 32,
     "metadata": {},
     "output_type": "execute_result"
    }
   ],
   "source": [
    "topic_info[['Size', 'cos_min', 'cos_mean']].describe()"
   ]
  },
  {
   "cell_type": "markdown",
   "metadata": {},
   "source": [
    "### Opt-1 Prediction\n",
    "* same model predict on 7 days with repeating articles\n",
    "\n",
    "**Training data**\n",
    "\n",
    "* Date range 7 days -- Apr 26 (monday) till May 02 (sunday)\n",
    "\n",
    "* Eligible pool = articles with pvs threshold = 7,238 articles\n",
    "    * **Distinct topics including -1 for noise :: 328**\n",
    "\n",
    "**Prediction data**\n",
    "\n",
    "* Date range -- may 3 (monday) till May 09 (friday)\n",
    "* May 3 to May 9 repeating articles present\n",
    "* Eligible pool = articles with pvs > 100"
   ]
  },
  {
   "cell_type": "code",
   "execution_count": 33,
   "metadata": {},
   "outputs": [
    {
     "name": "stdout",
     "output_type": "stream",
     "text": [
      "UMAP(dens_frac=0.0, dens_lambda=0.0, min_dist=0.0, random_state=42)\n",
      "\n",
      "HDBSCAN(min_samples=4, prediction_data=True)\n"
     ]
    }
   ],
   "source": [
    "# umap_embeddings = joblib.load(\"./model/apr26_may2_train_umap_07192021.joblib\")\n",
    "# cluster = joblib.load(\"./model/apr26_may2_train_clusterer_07192021.joblib\")\n",
    "\n",
    "print(umap_embeddings)\n",
    "print()\n",
    "print(cluster)"
   ]
  },
  {
   "cell_type": "code",
   "execution_count": 34,
   "metadata": {},
   "outputs": [
    {
     "data": {
      "text/html": [
       "<div>\n",
       "<style scoped>\n",
       "    .dataframe tbody tr th:only-of-type {\n",
       "        vertical-align: middle;\n",
       "    }\n",
       "\n",
       "    .dataframe tbody tr th {\n",
       "        vertical-align: top;\n",
       "    }\n",
       "\n",
       "    .dataframe thead th {\n",
       "        text-align: right;\n",
       "    }\n",
       "</style>\n",
       "<table border=\"1\" class=\"dataframe\">\n",
       "  <thead>\n",
       "    <tr style=\"text-align: right;\">\n",
       "      <th></th>\n",
       "      <th>topic_num</th>\n",
       "      <th>topic_words</th>\n",
       "    </tr>\n",
       "  </thead>\n",
       "  <tbody>\n",
       "    <tr>\n",
       "      <th>0</th>\n",
       "      <td>-1</td>\n",
       "      <td>remote, age, businesses, leaders, workers, water</td>\n",
       "    </tr>\n",
       "    <tr>\n",
       "      <th>1</th>\n",
       "      <td>0</td>\n",
       "      <td>10 states, average annual, annual wage, salaries, occupational, therapist salary</td>\n",
       "    </tr>\n",
       "    <tr>\n",
       "      <th>2</th>\n",
       "      <td>1</td>\n",
       "      <td>million viewers, 000 viewers, fox news, msnbc, cable news, prime time</td>\n",
       "    </tr>\n",
       "    <tr>\n",
       "      <th>3</th>\n",
       "      <td>2</td>\n",
       "      <td>pink moon, sky, supermoons, super pink, sun, blood moon</td>\n",
       "    </tr>\n",
       "    <tr>\n",
       "      <th>4</th>\n",
       "      <td>3</td>\n",
       "      <td>def, aew, nxt, wrestlemania, smackdown, live events</td>\n",
       "    </tr>\n",
       "  </tbody>\n",
       "</table>\n",
       "</div>"
      ],
      "text/plain": [
       "   topic_num  \\\n",
       "0         -1   \n",
       "1          0   \n",
       "2          1   \n",
       "3          2   \n",
       "4          3   \n",
       "\n",
       "                                                                        topic_words  \n",
       "0                                  remote, age, businesses, leaders, workers, water  \n",
       "1  10 states, average annual, annual wage, salaries, occupational, therapist salary  \n",
       "2             million viewers, 000 viewers, fox news, msnbc, cable news, prime time  \n",
       "3                           pink moon, sky, supermoons, super pink, sun, blood moon  \n",
       "4                               def, aew, nxt, wrestlemania, smackdown, live events  "
      ]
     },
     "execution_count": 34,
     "metadata": {},
     "output_type": "execute_result"
    }
   ],
   "source": [
    "top_n_words_df.head()"
   ]
  },
  {
   "cell_type": "code",
   "execution_count": 35,
   "metadata": {},
   "outputs": [],
   "source": [
    "def predict(umap_embeddings, cluster, embed_list, pred_df):\n",
    "    \n",
    "    # dimensionality reduction\n",
    "    pred_umap_embeddings = umap_embeddings.transform(embed_list)\n",
    "\n",
    "    print(\"Training input shape:\", umap_embeddings.embedding_.shape)\n",
    "    print(\"Prediction input shape:\", pred_umap_embeddings.shape) #takes a min\n",
    "    print()\n",
    "    \n",
    "    # predict\n",
    "    pred_test_labels, pred_strengths = hdbscan.approximate_predict(cluster, pred_umap_embeddings)\n",
    "    \n",
    "    # put topics in dataframe\n",
    "    pred_docs_df = pred_df[['clean_body']]\n",
    "    pred_docs_df.rename(columns={'clean_body':'Doc'}, inplace=True)\n",
    "    pred_docs_df[\"Topic\"] = pred_test_labels\n",
    "\n",
    "    print(\"Distinct topics including -1 for noise\", len(pred_docs_df.Topic.unique()))\n",
    "    \n",
    "    pred_topic_sizes = extract_topic_sizes(pred_docs_df)\n",
    "\n",
    "    # GENERATE TOPIC METRICS\n",
    "\n",
    "    # per topic - cos_min and cos_mean\n",
    "    pred_cossim_df = generate_all_cossim_metrics(pred_docs_df, pred_umap_embeddings)\n",
    "\n",
    "    # per topic - tier counts\n",
    "    tier_metric = pred_docs_df.join(pred_df[[\"tier1\"]])\n",
    "\n",
    "    iab_metric = tier_metric.groupby(\"Topic\").agg({\"tier1\": \n",
    "                                                   'nunique'}).round(2).reset_index().rename(columns = {'tier1': \n",
    "                                                                                                        'distinct_tier1s',\n",
    "                                                                                                        'Topic':\n",
    "                                                                                                        'topic_num'})\n",
    "\n",
    "    # combine topic, top words, cos and tier metrics\n",
    "    topic_info_pred = pd.merge(pd.merge(pred_topic_sizes, \n",
    "                                            pred_cossim_df, how=\"inner\", left_on=\"Topic\", right_on = \"topic_num\"), \n",
    "                                   iab_metric, on = \"topic_num\", how=\"inner\")\n",
    "\n",
    "    topic_info_pred.drop('Topic', axis=1, inplace=True)\n",
    "\n",
    "    # combine topic_info with topic names\n",
    "\n",
    "    topic_info_pred = pd.merge(topic_info_pred, top_n_words_df, how=\"left\", on=\"topic_num\").sort_values(\"topic_num\")\n",
    "    \n",
    "    # combine natural id inside docs_df\n",
    "\n",
    "    pred_docs_df = pd.merge(pred_docs_df, pred_df, how=\"left\", left_on=\"Doc\", right_on=\"clean_body\")\n",
    "    pred_docs_df.drop(\"clean_body\", axis=1, inplace=True)\n",
    "    \n",
    "    pred_full = pd.merge(pred_docs_df, \n",
    "         topic_info_pred, \n",
    "         how=\"left\", \n",
    "         left_on=\"Topic\", \n",
    "         right_on = \"topic_num\").drop('topic_num', axis=1)\n",
    "    \n",
    "    return pred_full, pred_docs_df, topic_info_pred, pred_strengths"
   ]
  },
  {
   "cell_type": "markdown",
   "metadata": {},
   "source": [
    "* **Predict new points/articles - May 3**"
   ]
  },
  {
   "cell_type": "code",
   "execution_count": 36,
   "metadata": {},
   "outputs": [
    {
     "name": "stdout",
     "output_type": "stream",
     "text": [
      "Training input shape: (7238, 2)\n",
      "Prediction input shape: (4199, 2)\n",
      "\n",
      "Distinct topics including -1 for noise 310\n",
      "Rows:  (1784, 15)\n",
      "Perc:  42\n",
      "\n",
      "time (mins):  0.34\n"
     ]
    },
    {
     "data": {
      "text/html": [
       "<div>\n",
       "<style scoped>\n",
       "    .dataframe tbody tr th:only-of-type {\n",
       "        vertical-align: middle;\n",
       "    }\n",
       "\n",
       "    .dataframe tbody tr th {\n",
       "        vertical-align: top;\n",
       "    }\n",
       "\n",
       "    .dataframe thead th {\n",
       "        text-align: right;\n",
       "    }\n",
       "</style>\n",
       "<table border=\"1\" class=\"dataframe\">\n",
       "  <thead>\n",
       "    <tr style=\"text-align: right;\">\n",
       "      <th></th>\n",
       "      <th>cos_min</th>\n",
       "      <th>cos_mean</th>\n",
       "      <th>distinct_tier1s</th>\n",
       "      <th>Size</th>\n",
       "    </tr>\n",
       "  </thead>\n",
       "  <tbody>\n",
       "    <tr>\n",
       "      <th>count</th>\n",
       "      <td>286.00</td>\n",
       "      <td>286.00</td>\n",
       "      <td>310.00</td>\n",
       "      <td>310.00</td>\n",
       "    </tr>\n",
       "    <tr>\n",
       "      <th>mean</th>\n",
       "      <td>1.00</td>\n",
       "      <td>1.00</td>\n",
       "      <td>3.04</td>\n",
       "      <td>13.55</td>\n",
       "    </tr>\n",
       "    <tr>\n",
       "      <th>std</th>\n",
       "      <td>0.04</td>\n",
       "      <td>0.00</td>\n",
       "      <td>2.37</td>\n",
       "      <td>101.23</td>\n",
       "    </tr>\n",
       "    <tr>\n",
       "      <th>min</th>\n",
       "      <td>0.37</td>\n",
       "      <td>0.95</td>\n",
       "      <td>1.00</td>\n",
       "      <td>1.00</td>\n",
       "    </tr>\n",
       "    <tr>\n",
       "      <th>25%</th>\n",
       "      <td>1.00</td>\n",
       "      <td>1.00</td>\n",
       "      <td>2.00</td>\n",
       "      <td>3.00</td>\n",
       "    </tr>\n",
       "    <tr>\n",
       "      <th>50%</th>\n",
       "      <td>1.00</td>\n",
       "      <td>1.00</td>\n",
       "      <td>3.00</td>\n",
       "      <td>5.00</td>\n",
       "    </tr>\n",
       "    <tr>\n",
       "      <th>75%</th>\n",
       "      <td>1.00</td>\n",
       "      <td>1.00</td>\n",
       "      <td>4.00</td>\n",
       "      <td>9.00</td>\n",
       "    </tr>\n",
       "    <tr>\n",
       "      <th>max</th>\n",
       "      <td>1.00</td>\n",
       "      <td>1.00</td>\n",
       "      <td>31.00</td>\n",
       "      <td>1784.00</td>\n",
       "    </tr>\n",
       "  </tbody>\n",
       "</table>\n",
       "</div>"
      ],
      "text/plain": [
       "       cos_min  cos_mean  distinct_tier1s     Size\n",
       "count   286.00    286.00           310.00   310.00\n",
       "mean      1.00      1.00             3.04    13.55\n",
       "std       0.04      0.00             2.37   101.23\n",
       "min       0.37      0.95             1.00     1.00\n",
       "25%       1.00      1.00             2.00     3.00\n",
       "50%       1.00      1.00             3.00     5.00\n",
       "75%       1.00      1.00             4.00     9.00\n",
       "max       1.00      1.00            31.00  1784.00"
      ]
     },
     "execution_count": 36,
     "metadata": {},
     "output_type": "execute_result"
    }
   ],
   "source": [
    "start = time.time()\n",
    "\n",
    "pred_may03_full, may03_docs_df, topic_info_may03, may03_strengths = predict(umap_embeddings, cluster, \n",
    "                                                                            may03_art_embed, may03) \n",
    "\n",
    "# NOISE\n",
    "print(\"Rows: \", pred_may03_full[pred_may03_full.Topic==-1].shape)\n",
    "print(\"Perc: \", round(pred_may03_full[pred_may03_full.Topic==-1].shape[0]/pred_may03_full.shape[0] * 100))\n",
    "\n",
    "end = time.time()\n",
    "\n",
    "print()\n",
    "print(\"time (mins): \", round((end - start)/60, 2)) \n",
    "\n",
    "topic_info_may03[['cos_min', 'cos_mean', 'distinct_tier1s', 'Size']].describe().apply(lambda x: round(x, 2))"
   ]
  },
  {
   "cell_type": "code",
   "execution_count": 37,
   "metadata": {},
   "outputs": [
    {
     "data": {
      "image/png": "[encoded data removed]",
      "text/plain": [
       "<Figure size 432x288 with 1 Axes>"
      ]
     },
     "metadata": {},
     "output_type": "display_data"
    }
   ],
   "source": [
    "plt.hist(may03_strengths, bins='auto')\n",
    "plt.show()"
   ]
  },
  {
   "cell_type": "markdown",
   "metadata": {},
   "source": [
    "* **Predict new points/articles - May 04**"
   ]
  },
  {
   "cell_type": "code",
   "execution_count": 38,
   "metadata": {},
   "outputs": [
    {
     "name": "stdout",
     "output_type": "stream",
     "text": [
      "Training input shape: (7238, 2)\n",
      "Prediction input shape: (4223, 2)\n",
      "\n",
      "Distinct topics including -1 for noise 298\n",
      "Rows:  (1964, 15)\n",
      "Perc:  47\n",
      "time (mins):  0.14\n"
     ]
    }
   ],
   "source": [
    "start = time.time()\n",
    "\n",
    "pred_may04_full, may04_docs_df, topic_info_may04, may04_strengths = predict(umap_embeddings, cluster, \n",
    "                                                                            may04_art_embed, may04) \n",
    "\n",
    "# NOISE\n",
    "print(\"Rows: \", pred_may04_full[pred_may04_full.Topic==-1].shape)\n",
    "print(\"Perc: \", round(pred_may04_full[pred_may04_full.Topic==-1].shape[0]/pred_may04_full.shape[0] * 100))\n",
    "\n",
    "end = time.time()\n",
    "print(\"time (mins): \", round((end - start)/60, 2)) "
   ]
  },
  {
   "cell_type": "markdown",
   "metadata": {},
   "source": [
    "* **Predict new points/articles - May 05**"
   ]
  },
  {
   "cell_type": "code",
   "execution_count": 39,
   "metadata": {},
   "outputs": [
    {
     "name": "stdout",
     "output_type": "stream",
     "text": [
      "Training input shape: (7238, 2)\n",
      "Prediction input shape: (4160, 2)\n",
      "\n",
      "Distinct topics including -1 for noise 311\n",
      "Rows:  (1797, 15)\n",
      "Perc:  43\n",
      "time (mins):  0.12\n"
     ]
    },
    {
     "data": {
      "text/html": [
       "<div>\n",
       "<style scoped>\n",
       "    .dataframe tbody tr th:only-of-type {\n",
       "        vertical-align: middle;\n",
       "    }\n",
       "\n",
       "    .dataframe tbody tr th {\n",
       "        vertical-align: top;\n",
       "    }\n",
       "\n",
       "    .dataframe thead th {\n",
       "        text-align: right;\n",
       "    }\n",
       "</style>\n",
       "<table border=\"1\" class=\"dataframe\">\n",
       "  <thead>\n",
       "    <tr style=\"text-align: right;\">\n",
       "      <th></th>\n",
       "      <th>cos_min</th>\n",
       "      <th>cos_mean</th>\n",
       "      <th>distinct_tier1s</th>\n",
       "      <th>Size</th>\n",
       "    </tr>\n",
       "  </thead>\n",
       "  <tbody>\n",
       "    <tr>\n",
       "      <th>count</th>\n",
       "      <td>269.00</td>\n",
       "      <td>269.00</td>\n",
       "      <td>311.00</td>\n",
       "      <td>311.00</td>\n",
       "    </tr>\n",
       "    <tr>\n",
       "      <th>mean</th>\n",
       "      <td>1.00</td>\n",
       "      <td>1.00</td>\n",
       "      <td>3.04</td>\n",
       "      <td>13.38</td>\n",
       "    </tr>\n",
       "    <tr>\n",
       "      <th>std</th>\n",
       "      <td>0.04</td>\n",
       "      <td>0.00</td>\n",
       "      <td>2.48</td>\n",
       "      <td>101.81</td>\n",
       "    </tr>\n",
       "    <tr>\n",
       "      <th>min</th>\n",
       "      <td>0.35</td>\n",
       "      <td>0.95</td>\n",
       "      <td>1.00</td>\n",
       "      <td>1.00</td>\n",
       "    </tr>\n",
       "    <tr>\n",
       "      <th>25%</th>\n",
       "      <td>1.00</td>\n",
       "      <td>1.00</td>\n",
       "      <td>2.00</td>\n",
       "      <td>3.00</td>\n",
       "    </tr>\n",
       "    <tr>\n",
       "      <th>50%</th>\n",
       "      <td>1.00</td>\n",
       "      <td>1.00</td>\n",
       "      <td>3.00</td>\n",
       "      <td>5.00</td>\n",
       "    </tr>\n",
       "    <tr>\n",
       "      <th>75%</th>\n",
       "      <td>1.00</td>\n",
       "      <td>1.00</td>\n",
       "      <td>4.00</td>\n",
       "      <td>9.00</td>\n",
       "    </tr>\n",
       "    <tr>\n",
       "      <th>max</th>\n",
       "      <td>1.00</td>\n",
       "      <td>1.00</td>\n",
       "      <td>31.00</td>\n",
       "      <td>1797.00</td>\n",
       "    </tr>\n",
       "  </tbody>\n",
       "</table>\n",
       "</div>"
      ],
      "text/plain": [
       "       cos_min  cos_mean  distinct_tier1s     Size\n",
       "count   269.00    269.00           311.00   311.00\n",
       "mean      1.00      1.00             3.04    13.38\n",
       "std       0.04      0.00             2.48   101.81\n",
       "min       0.35      0.95             1.00     1.00\n",
       "25%       1.00      1.00             2.00     3.00\n",
       "50%       1.00      1.00             3.00     5.00\n",
       "75%       1.00      1.00             4.00     9.00\n",
       "max       1.00      1.00            31.00  1797.00"
      ]
     },
     "execution_count": 39,
     "metadata": {},
     "output_type": "execute_result"
    }
   ],
   "source": [
    "start = time.time()\n",
    "\n",
    "pred_may05_full, may05_docs_df, topic_info_may05, may05_strengths = predict(umap_embeddings, cluster, \n",
    "                                                                            may05_art_embed, may05) \n",
    "\n",
    "# NOISE\n",
    "print(\"Rows: \", pred_may05_full[pred_may05_full.Topic==-1].shape)\n",
    "print(\"Perc: \", round(pred_may05_full[pred_may05_full.Topic==-1].shape[0]/pred_may05_full.shape[0] * 100))\n",
    "\n",
    "end = time.time()\n",
    "print(\"time (mins): \", round((end - start)/60, 2)) \n",
    "\n",
    "topic_info_may05[['cos_min', 'cos_mean', 'distinct_tier1s', 'Size']].describe().apply(lambda x: round(x, 2))"
   ]
  },
  {
   "cell_type": "markdown",
   "metadata": {},
   "source": [
    "* **Predict new points/articles - May 06**"
   ]
  },
  {
   "cell_type": "code",
   "execution_count": 40,
   "metadata": {},
   "outputs": [
    {
     "name": "stdout",
     "output_type": "stream",
     "text": [
      "Training input shape: (7238, 2)\n",
      "Prediction input shape: (4063, 2)\n",
      "\n",
      "Distinct topics including -1 for noise 292\n",
      "Rows:  (1950, 15)\n",
      "Perc:  48\n",
      "time (mins):  0.13\n"
     ]
    },
    {
     "data": {
      "text/html": [
       "<div>\n",
       "<style scoped>\n",
       "    .dataframe tbody tr th:only-of-type {\n",
       "        vertical-align: middle;\n",
       "    }\n",
       "\n",
       "    .dataframe tbody tr th {\n",
       "        vertical-align: top;\n",
       "    }\n",
       "\n",
       "    .dataframe thead th {\n",
       "        text-align: right;\n",
       "    }\n",
       "</style>\n",
       "<table border=\"1\" class=\"dataframe\">\n",
       "  <thead>\n",
       "    <tr style=\"text-align: right;\">\n",
       "      <th></th>\n",
       "      <th>cos_min</th>\n",
       "      <th>cos_mean</th>\n",
       "      <th>distinct_tier1s</th>\n",
       "      <th>Size</th>\n",
       "    </tr>\n",
       "  </thead>\n",
       "  <tbody>\n",
       "    <tr>\n",
       "      <th>count</th>\n",
       "      <td>247.00</td>\n",
       "      <td>247.00</td>\n",
       "      <td>292.00</td>\n",
       "      <td>292.00</td>\n",
       "    </tr>\n",
       "    <tr>\n",
       "      <th>mean</th>\n",
       "      <td>1.00</td>\n",
       "      <td>1.00</td>\n",
       "      <td>3.01</td>\n",
       "      <td>13.91</td>\n",
       "    </tr>\n",
       "    <tr>\n",
       "      <th>std</th>\n",
       "      <td>0.04</td>\n",
       "      <td>0.00</td>\n",
       "      <td>2.51</td>\n",
       "      <td>113.95</td>\n",
       "    </tr>\n",
       "    <tr>\n",
       "      <th>min</th>\n",
       "      <td>0.34</td>\n",
       "      <td>0.94</td>\n",
       "      <td>1.00</td>\n",
       "      <td>1.00</td>\n",
       "    </tr>\n",
       "    <tr>\n",
       "      <th>25%</th>\n",
       "      <td>1.00</td>\n",
       "      <td>1.00</td>\n",
       "      <td>1.00</td>\n",
       "      <td>2.00</td>\n",
       "    </tr>\n",
       "    <tr>\n",
       "      <th>50%</th>\n",
       "      <td>1.00</td>\n",
       "      <td>1.00</td>\n",
       "      <td>3.00</td>\n",
       "      <td>5.00</td>\n",
       "    </tr>\n",
       "    <tr>\n",
       "      <th>75%</th>\n",
       "      <td>1.00</td>\n",
       "      <td>1.00</td>\n",
       "      <td>4.00</td>\n",
       "      <td>9.25</td>\n",
       "    </tr>\n",
       "    <tr>\n",
       "      <th>max</th>\n",
       "      <td>1.00</td>\n",
       "      <td>1.00</td>\n",
       "      <td>31.00</td>\n",
       "      <td>1950.00</td>\n",
       "    </tr>\n",
       "  </tbody>\n",
       "</table>\n",
       "</div>"
      ],
      "text/plain": [
       "       cos_min  cos_mean  distinct_tier1s     Size\n",
       "count   247.00    247.00           292.00   292.00\n",
       "mean      1.00      1.00             3.01    13.91\n",
       "std       0.04      0.00             2.51   113.95\n",
       "min       0.34      0.94             1.00     1.00\n",
       "25%       1.00      1.00             1.00     2.00\n",
       "50%       1.00      1.00             3.00     5.00\n",
       "75%       1.00      1.00             4.00     9.25\n",
       "max       1.00      1.00            31.00  1950.00"
      ]
     },
     "execution_count": 40,
     "metadata": {},
     "output_type": "execute_result"
    }
   ],
   "source": [
    "start = time.time()\n",
    "\n",
    "pred_may06_full, may06_docs_df, topic_info_may06, may06_strengths = predict(umap_embeddings, cluster, \n",
    "                                                                            may06_art_embed, may06) \n",
    "\n",
    "# NOISE\n",
    "print(\"Rows: \", pred_may06_full[pred_may06_full.Topic==-1].shape)\n",
    "print(\"Perc: \", round(pred_may06_full[pred_may06_full.Topic==-1].shape[0]/pred_may06_full.shape[0] * 100))\n",
    "\n",
    "end = time.time()\n",
    "print(\"time (mins): \", round((end - start)/60, 2)) \n",
    "\n",
    "topic_info_may06[['cos_min', 'cos_mean', 'distinct_tier1s', 'Size']].describe().apply(lambda x: round(x, 2))"
   ]
  },
  {
   "cell_type": "markdown",
   "metadata": {},
   "source": [
    "* **Predict new points/articles - May 07**"
   ]
  },
  {
   "cell_type": "code",
   "execution_count": 41,
   "metadata": {},
   "outputs": [
    {
     "name": "stdout",
     "output_type": "stream",
     "text": [
      "Training input shape: (7238, 2)\n",
      "Prediction input shape: (3630, 2)\n",
      "\n",
      "Distinct topics including -1 for noise 287\n",
      "Rows:  (1676, 15)\n",
      "Perc:  46\n",
      "time (mins):  0.12\n"
     ]
    },
    {
     "data": {
      "text/html": [
       "<div>\n",
       "<style scoped>\n",
       "    .dataframe tbody tr th:only-of-type {\n",
       "        vertical-align: middle;\n",
       "    }\n",
       "\n",
       "    .dataframe tbody tr th {\n",
       "        vertical-align: top;\n",
       "    }\n",
       "\n",
       "    .dataframe thead th {\n",
       "        text-align: right;\n",
       "    }\n",
       "</style>\n",
       "<table border=\"1\" class=\"dataframe\">\n",
       "  <thead>\n",
       "    <tr style=\"text-align: right;\">\n",
       "      <th></th>\n",
       "      <th>cos_min</th>\n",
       "      <th>cos_mean</th>\n",
       "      <th>distinct_tier1s</th>\n",
       "      <th>Size</th>\n",
       "    </tr>\n",
       "  </thead>\n",
       "  <tbody>\n",
       "    <tr>\n",
       "      <th>count</th>\n",
       "      <td>244.00</td>\n",
       "      <td>244.00</td>\n",
       "      <td>287.00</td>\n",
       "      <td>287.00</td>\n",
       "    </tr>\n",
       "    <tr>\n",
       "      <th>mean</th>\n",
       "      <td>1.00</td>\n",
       "      <td>1.00</td>\n",
       "      <td>2.89</td>\n",
       "      <td>12.65</td>\n",
       "    </tr>\n",
       "    <tr>\n",
       "      <th>std</th>\n",
       "      <td>0.04</td>\n",
       "      <td>0.00</td>\n",
       "      <td>2.41</td>\n",
       "      <td>98.79</td>\n",
       "    </tr>\n",
       "    <tr>\n",
       "      <th>min</th>\n",
       "      <td>0.32</td>\n",
       "      <td>0.94</td>\n",
       "      <td>1.00</td>\n",
       "      <td>1.00</td>\n",
       "    </tr>\n",
       "    <tr>\n",
       "      <th>25%</th>\n",
       "      <td>1.00</td>\n",
       "      <td>1.00</td>\n",
       "      <td>1.00</td>\n",
       "      <td>2.00</td>\n",
       "    </tr>\n",
       "    <tr>\n",
       "      <th>50%</th>\n",
       "      <td>1.00</td>\n",
       "      <td>1.00</td>\n",
       "      <td>2.00</td>\n",
       "      <td>5.00</td>\n",
       "    </tr>\n",
       "    <tr>\n",
       "      <th>75%</th>\n",
       "      <td>1.00</td>\n",
       "      <td>1.00</td>\n",
       "      <td>4.00</td>\n",
       "      <td>8.00</td>\n",
       "    </tr>\n",
       "    <tr>\n",
       "      <th>max</th>\n",
       "      <td>1.00</td>\n",
       "      <td>1.00</td>\n",
       "      <td>30.00</td>\n",
       "      <td>1676.00</td>\n",
       "    </tr>\n",
       "  </tbody>\n",
       "</table>\n",
       "</div>"
      ],
      "text/plain": [
       "       cos_min  cos_mean  distinct_tier1s     Size\n",
       "count   244.00    244.00           287.00   287.00\n",
       "mean      1.00      1.00             2.89    12.65\n",
       "std       0.04      0.00             2.41    98.79\n",
       "min       0.32      0.94             1.00     1.00\n",
       "25%       1.00      1.00             1.00     2.00\n",
       "50%       1.00      1.00             2.00     5.00\n",
       "75%       1.00      1.00             4.00     8.00\n",
       "max       1.00      1.00            30.00  1676.00"
      ]
     },
     "execution_count": 41,
     "metadata": {},
     "output_type": "execute_result"
    }
   ],
   "source": [
    "start = time.time()\n",
    "\n",
    "pred_may07_full, may07_docs_df, topic_info_may07, may07_strengths = predict(umap_embeddings, cluster, \n",
    "                                                                            may07_art_embed, may07) \n",
    "\n",
    "# NOISE\n",
    "print(\"Rows: \", pred_may07_full[pred_may07_full.Topic==-1].shape)\n",
    "print(\"Perc: \", round(pred_may07_full[pred_may07_full.Topic==-1].shape[0]/pred_may07_full.shape[0] * 100))\n",
    "\n",
    "end = time.time()\n",
    "print(\"time (mins): \", round((end - start)/60, 2)) \n",
    "\n",
    "topic_info_may07[['cos_min', 'cos_mean', 'distinct_tier1s', 'Size']].describe().apply(lambda x: round(x, 2))"
   ]
  },
  {
   "cell_type": "markdown",
   "metadata": {},
   "source": [
    "* **Predict new points/articles - May 08**"
   ]
  },
  {
   "cell_type": "code",
   "execution_count": 42,
   "metadata": {},
   "outputs": [
    {
     "name": "stdout",
     "output_type": "stream",
     "text": [
      "Training input shape: (7238, 2)\n",
      "Prediction input shape: (3025, 2)\n",
      "\n",
      "Distinct topics including -1 for noise 277\n",
      "Rows:  (1379, 15)\n",
      "Perc:  46\n",
      "time (mins):  0.12\n"
     ]
    },
    {
     "data": {
      "text/html": [
       "<div>\n",
       "<style scoped>\n",
       "    .dataframe tbody tr th:only-of-type {\n",
       "        vertical-align: middle;\n",
       "    }\n",
       "\n",
       "    .dataframe tbody tr th {\n",
       "        vertical-align: top;\n",
       "    }\n",
       "\n",
       "    .dataframe thead th {\n",
       "        text-align: right;\n",
       "    }\n",
       "</style>\n",
       "<table border=\"1\" class=\"dataframe\">\n",
       "  <thead>\n",
       "    <tr style=\"text-align: right;\">\n",
       "      <th></th>\n",
       "      <th>cos_min</th>\n",
       "      <th>cos_mean</th>\n",
       "      <th>distinct_tier1s</th>\n",
       "      <th>Size</th>\n",
       "    </tr>\n",
       "  </thead>\n",
       "  <tbody>\n",
       "    <tr>\n",
       "      <th>count</th>\n",
       "      <td>218.00</td>\n",
       "      <td>218.00</td>\n",
       "      <td>277.00</td>\n",
       "      <td>277.00</td>\n",
       "    </tr>\n",
       "    <tr>\n",
       "      <th>mean</th>\n",
       "      <td>1.00</td>\n",
       "      <td>1.00</td>\n",
       "      <td>2.66</td>\n",
       "      <td>10.92</td>\n",
       "    </tr>\n",
       "    <tr>\n",
       "      <th>std</th>\n",
       "      <td>0.04</td>\n",
       "      <td>0.00</td>\n",
       "      <td>2.30</td>\n",
       "      <td>82.77</td>\n",
       "    </tr>\n",
       "    <tr>\n",
       "      <th>min</th>\n",
       "      <td>0.36</td>\n",
       "      <td>0.94</td>\n",
       "      <td>1.00</td>\n",
       "      <td>1.00</td>\n",
       "    </tr>\n",
       "    <tr>\n",
       "      <th>25%</th>\n",
       "      <td>1.00</td>\n",
       "      <td>1.00</td>\n",
       "      <td>1.00</td>\n",
       "      <td>2.00</td>\n",
       "    </tr>\n",
       "    <tr>\n",
       "      <th>50%</th>\n",
       "      <td>1.00</td>\n",
       "      <td>1.00</td>\n",
       "      <td>2.00</td>\n",
       "      <td>4.00</td>\n",
       "    </tr>\n",
       "    <tr>\n",
       "      <th>75%</th>\n",
       "      <td>1.00</td>\n",
       "      <td>1.00</td>\n",
       "      <td>3.00</td>\n",
       "      <td>7.00</td>\n",
       "    </tr>\n",
       "    <tr>\n",
       "      <th>max</th>\n",
       "      <td>1.00</td>\n",
       "      <td>1.00</td>\n",
       "      <td>29.00</td>\n",
       "      <td>1379.00</td>\n",
       "    </tr>\n",
       "  </tbody>\n",
       "</table>\n",
       "</div>"
      ],
      "text/plain": [
       "       cos_min  cos_mean  distinct_tier1s     Size\n",
       "count   218.00    218.00           277.00   277.00\n",
       "mean      1.00      1.00             2.66    10.92\n",
       "std       0.04      0.00             2.30    82.77\n",
       "min       0.36      0.94             1.00     1.00\n",
       "25%       1.00      1.00             1.00     2.00\n",
       "50%       1.00      1.00             2.00     4.00\n",
       "75%       1.00      1.00             3.00     7.00\n",
       "max       1.00      1.00            29.00  1379.00"
      ]
     },
     "execution_count": 42,
     "metadata": {},
     "output_type": "execute_result"
    }
   ],
   "source": [
    "start = time.time()\n",
    "\n",
    "pred_may08_full, may08_docs_df, topic_info_may08, may08_strengths = predict(umap_embeddings, cluster, \n",
    "                                                                            may08_art_embed, may08) \n",
    "\n",
    "# NOISE\n",
    "print(\"Rows: \", pred_may08_full[pred_may08_full.Topic==-1].shape)\n",
    "print(\"Perc: \", round(pred_may08_full[pred_may08_full.Topic==-1].shape[0]/pred_may08_full.shape[0] * 100))\n",
    "\n",
    "end = time.time()\n",
    "print(\"time (mins): \", round((end - start)/60, 2)) \n",
    "\n",
    "topic_info_may08[['cos_min', 'cos_mean', 'distinct_tier1s', 'Size']].describe().apply(lambda x: round(x, 2))"
   ]
  },
  {
   "cell_type": "markdown",
   "metadata": {},
   "source": [
    "* **Predict new points/articles - May 09**"
   ]
  },
  {
   "cell_type": "code",
   "execution_count": 43,
   "metadata": {},
   "outputs": [
    {
     "name": "stdout",
     "output_type": "stream",
     "text": [
      "Training input shape: (7238, 2)\n",
      "Prediction input shape: (3231, 2)\n",
      "\n",
      "Distinct topics including -1 for noise 281\n",
      "Rows:  (1509, 15)\n",
      "Perc:  47\n",
      "time (mins):  0.11\n"
     ]
    },
    {
     "data": {
      "text/html": [
       "<div>\n",
       "<style scoped>\n",
       "    .dataframe tbody tr th:only-of-type {\n",
       "        vertical-align: middle;\n",
       "    }\n",
       "\n",
       "    .dataframe tbody tr th {\n",
       "        vertical-align: top;\n",
       "    }\n",
       "\n",
       "    .dataframe thead th {\n",
       "        text-align: right;\n",
       "    }\n",
       "</style>\n",
       "<table border=\"1\" class=\"dataframe\">\n",
       "  <thead>\n",
       "    <tr style=\"text-align: right;\">\n",
       "      <th></th>\n",
       "      <th>cos_min</th>\n",
       "      <th>cos_mean</th>\n",
       "      <th>distinct_tier1s</th>\n",
       "      <th>Size</th>\n",
       "    </tr>\n",
       "  </thead>\n",
       "  <tbody>\n",
       "    <tr>\n",
       "      <th>count</th>\n",
       "      <td>229.00</td>\n",
       "      <td>229.00</td>\n",
       "      <td>281.00</td>\n",
       "      <td>281.00</td>\n",
       "    </tr>\n",
       "    <tr>\n",
       "      <th>mean</th>\n",
       "      <td>1.00</td>\n",
       "      <td>1.00</td>\n",
       "      <td>2.69</td>\n",
       "      <td>11.50</td>\n",
       "    </tr>\n",
       "    <tr>\n",
       "      <th>std</th>\n",
       "      <td>0.04</td>\n",
       "      <td>0.00</td>\n",
       "      <td>2.37</td>\n",
       "      <td>89.91</td>\n",
       "    </tr>\n",
       "    <tr>\n",
       "      <th>min</th>\n",
       "      <td>0.35</td>\n",
       "      <td>0.94</td>\n",
       "      <td>1.00</td>\n",
       "      <td>1.00</td>\n",
       "    </tr>\n",
       "    <tr>\n",
       "      <th>25%</th>\n",
       "      <td>1.00</td>\n",
       "      <td>1.00</td>\n",
       "      <td>1.00</td>\n",
       "      <td>2.00</td>\n",
       "    </tr>\n",
       "    <tr>\n",
       "      <th>50%</th>\n",
       "      <td>1.00</td>\n",
       "      <td>1.00</td>\n",
       "      <td>2.00</td>\n",
       "      <td>4.00</td>\n",
       "    </tr>\n",
       "    <tr>\n",
       "      <th>75%</th>\n",
       "      <td>1.00</td>\n",
       "      <td>1.00</td>\n",
       "      <td>3.00</td>\n",
       "      <td>8.00</td>\n",
       "    </tr>\n",
       "    <tr>\n",
       "      <th>max</th>\n",
       "      <td>1.00</td>\n",
       "      <td>1.00</td>\n",
       "      <td>31.00</td>\n",
       "      <td>1509.00</td>\n",
       "    </tr>\n",
       "  </tbody>\n",
       "</table>\n",
       "</div>"
      ],
      "text/plain": [
       "       cos_min  cos_mean  distinct_tier1s     Size\n",
       "count   229.00    229.00           281.00   281.00\n",
       "mean      1.00      1.00             2.69    11.50\n",
       "std       0.04      0.00             2.37    89.91\n",
       "min       0.35      0.94             1.00     1.00\n",
       "25%       1.00      1.00             1.00     2.00\n",
       "50%       1.00      1.00             2.00     4.00\n",
       "75%       1.00      1.00             3.00     8.00\n",
       "max       1.00      1.00            31.00  1509.00"
      ]
     },
     "execution_count": 43,
     "metadata": {},
     "output_type": "execute_result"
    }
   ],
   "source": [
    "start = time.time()\n",
    "\n",
    "pred_may09_full, may09_docs_df, topic_info_may09, may09_strengths = predict(umap_embeddings, cluster, \n",
    "                                                                            may09_art_embed, may09) \n",
    "\n",
    "# NOISE\n",
    "print(\"Rows: \", pred_may09_full[pred_may09_full.Topic==-1].shape)\n",
    "print(\"Perc: \", round(pred_may09_full[pred_may09_full.Topic==-1].shape[0]/pred_may09_full.shape[0] * 100))\n",
    "\n",
    "end = time.time()\n",
    "print(\"time (mins): \", round((end - start)/60, 2)) \n",
    "\n",
    "topic_info_may09[['cos_min', 'cos_mean', 'distinct_tier1s', 'Size']].describe().apply(lambda x: round(x, 2))"
   ]
  },
  {
   "cell_type": "code",
   "execution_count": 44,
   "metadata": {},
   "outputs": [],
   "source": [
    "# **Note:** \n",
    "# * There will be articles read between Apr 26 - May 02 (training set), which will also be read on May 03. \n",
    "# * These common articles present in prediction set, will get the same topic cluster as before\n",
    "\n",
    "# **For now:**\n",
    "# * Predict on whole of may03"
   ]
  },
  {
   "attachments": {
    "image.png": {
     "image/png": "[encoded data removed]"
    }
   },
   "cell_type": "markdown",
   "metadata": {},
   "source": [
    "# --- EDA ---\n",
    "\n",
    "![image.png](attachment:image.png)"
   ]
  },
  {
   "cell_type": "code",
   "execution_count": 45,
   "metadata": {},
   "outputs": [
    {
     "name": "stdout",
     "output_type": "stream",
     "text": [
      "Eligible articles:\n",
      "May 3 - (4199, 15)\n",
      "May 4 - (4223, 15)\n",
      "May 5 - (4160, 15)\n",
      "May 6 - (4063, 15)\n",
      "May 7 - (3630, 15)\n",
      "May 8 - (3025, 15)\n",
      "May 9 - (3231, 15)\n"
     ]
    }
   ],
   "source": [
    "print(\"Eligible articles:\")\n",
    "print(\"May 3 -\", pred_may03_full.shape)\n",
    "print(\"May 4 -\", pred_may04_full.shape)\n",
    "print(\"May 5 -\", pred_may05_full.shape)\n",
    "print(\"May 6 -\", pred_may06_full.shape)\n",
    "print(\"May 7 -\", pred_may07_full.shape)\n",
    "print(\"May 8 -\", pred_may08_full.shape)\n",
    "print(\"May 9 -\", pred_may09_full.shape)"
   ]
  },
  {
   "cell_type": "code",
   "execution_count": 46,
   "metadata": {},
   "outputs": [
    {
     "name": "stdout",
     "output_type": "stream",
     "text": [
      "Number of Topics assigned:\n",
      "May 3 - 310\n",
      "May 4 - 298\n",
      "May 5 - 311\n",
      "May 6 - 292\n",
      "May 7 - 287\n",
      "May 8 - 277\n",
      "May 9 - 281\n"
     ]
    }
   ],
   "source": [
    "print(\"Number of Topics assigned:\")\n",
    "print(\"May 3 -\",len(pred_may03_full.Topic.unique()))\n",
    "print(\"May 4 -\",len(pred_may04_full.Topic.unique()))\n",
    "print(\"May 5 -\",len(pred_may05_full.Topic.unique()))\n",
    "print(\"May 6 -\",len(pred_may06_full.Topic.unique()))\n",
    "print(\"May 7 -\",len(pred_may07_full.Topic.unique()))\n",
    "print(\"May 8 -\",len(pred_may08_full.Topic.unique()))\n",
    "print(\"May 9 -\",len(pred_may09_full.Topic.unique()))"
   ]
  },
  {
   "cell_type": "code",
   "execution_count": 47,
   "metadata": {},
   "outputs": [
    {
     "name": "stdout",
     "output_type": "stream",
     "text": [
      "Avg topic size:\n",
      "May 3 - 14\n",
      "May 4 - 14\n",
      "May 5 - 13\n",
      "May 6 - 14\n",
      "May 7 - 13\n",
      "May 8 - 11\n",
      "May 9 - 11\n"
     ]
    }
   ],
   "source": [
    "print(\"Avg topic size:\")\n",
    "print(\"May 3 -\",round(topic_info_may03.Size.mean()))\n",
    "print(\"May 4 -\",round(topic_info_may04.Size.mean()))\n",
    "print(\"May 5 -\",round(topic_info_may05.Size.mean()))\n",
    "print(\"May 6 -\",round(topic_info_may06.Size.mean()))\n",
    "print(\"May 7 -\",round(topic_info_may07.Size.mean()))\n",
    "print(\"May 8 -\",round(topic_info_may08.Size.mean()))\n",
    "print(\"May 9 -\",round(topic_info_may09.Size.mean()))"
   ]
  },
  {
   "cell_type": "markdown",
   "metadata": {},
   "source": [
    "**Observation:**\n",
    "* On avg. 9 articles form a topic"
   ]
  },
  {
   "cell_type": "code",
   "execution_count": 48,
   "metadata": {},
   "outputs": [
    {
     "name": "stdout",
     "output_type": "stream",
     "text": [
      "Common topics across 5 days -  258\n"
     ]
    }
   ],
   "source": [
    "common_5 = pd.merge(pd.merge(pd.merge(pd.merge(topic_info_may03[[\"topic_num\"]], \n",
    "                                                topic_info_may04[[\"topic_num\"]], on=\"topic_num\", how=\"inner\"), \n",
    "                                       topic_info_may05[[\"topic_num\"]], on=\"topic_num\", how=\"inner\"), \n",
    "                     topic_info_may06[[\"topic_num\"]], on=\"topic_num\", how=\"inner\"), \n",
    "                     topic_info_may07[[\"topic_num\"]], on=\"topic_num\", how=\"inner\")\n",
    "\n",
    "print(\"Common topics across 5 days - \", len(common_5))"
   ]
  },
  {
   "cell_type": "code",
   "execution_count": 49,
   "metadata": {},
   "outputs": [
    {
     "name": "stdout",
     "output_type": "stream",
     "text": [
      "Common topics across 5 days -  236\n"
     ]
    }
   ],
   "source": [
    "common_7 =  pd.merge(pd.merge(pd.merge(pd.merge(pd.merge(pd.merge(topic_info_may03[[\"topic_num\"]], \n",
    "                                                topic_info_may04[[\"topic_num\"]], on=\"topic_num\", how=\"inner\"), \n",
    "                                       topic_info_may05[[\"topic_num\"]], on=\"topic_num\", how=\"inner\"), \n",
    "                     topic_info_may06[[\"topic_num\"]], on=\"topic_num\", how=\"inner\"), \n",
    "                     topic_info_may07[[\"topic_num\"]], on=\"topic_num\", how=\"inner\"), \n",
    "                     topic_info_may08[[\"topic_num\"]], on=\"topic_num\", how=\"inner\"), \n",
    "                     topic_info_may09[[\"topic_num\"]], on=\"topic_num\", how=\"inner\")\n",
    "\n",
    "print(\"Common topics across 5 days - \", len(common_7))"
   ]
  },
  {
   "cell_type": "code",
   "execution_count": 50,
   "metadata": {},
   "outputs": [
    {
     "name": "stdout",
     "output_type": "stream",
     "text": [
      "Common topics across 5 days -  2323\n"
     ]
    }
   ],
   "source": [
    "common_articles = pd.merge(pd.merge(pd.merge(pd.merge(pred_may03_full[[\"content_natid\", \"Topic\", \"topic_words\"]], \n",
    "                                                pred_may04_full[[\"content_natid\", \"Topic\", \"topic_words\"]], on=\"content_natid\", how=\"inner\"), \n",
    "                                       pred_may05_full[[\"content_natid\", \"Topic\", \"topic_words\"]], on=\"content_natid\", how=\"inner\"), \n",
    "                     pred_may06_full[[\"content_natid\", \"Topic\", \"topic_words\"]], on=\"content_natid\", how=\"inner\"), \n",
    "                     pred_may07_full[[\"content_natid\", \"Topic\", \"topic_words\"]], on=\"content_natid\", how=\"inner\")\n",
    "\n",
    "print(\"Common topics across 5 days - \", len(common_articles))"
   ]
  },
  {
   "cell_type": "markdown",
   "metadata": {},
   "source": [
    "### Noise Comparison \n",
    "\n",
    "**Observation:**\n",
    "* On avg. 50% - 54% articles get clustered into a topic each day and rest is deemed as noise by HDBSCAN "
   ]
  },
  {
   "cell_type": "code",
   "execution_count": 51,
   "metadata": {},
   "outputs": [
    {
     "name": "stdout",
     "output_type": "stream",
     "text": [
      "# of articles NOISE - \n",
      "May 3 - 1784\n",
      "May 4 - 1964\n",
      "May 5 - 1797\n",
      "May 6 - 1950\n",
      "May 7 - 1676\n",
      "May 8 - 1379\n",
      "May 9 - 1509\n"
     ]
    }
   ],
   "source": [
    "print(\"# of articles NOISE - \")\n",
    "print(\"May 3 -\",round(pred_may03_full[pred_may03_full.Topic==-1].shape[0]))\n",
    "print(\"May 4 -\",round(pred_may04_full[pred_may04_full.Topic==-1].shape[0]))\n",
    "print(\"May 5 -\",round(pred_may05_full[pred_may05_full.Topic==-1].shape[0]))\n",
    "print(\"May 6 -\",round(pred_may06_full[pred_may06_full.Topic==-1].shape[0]))\n",
    "print(\"May 7 -\",round(pred_may07_full[pred_may07_full.Topic==-1].shape[0]))\n",
    "print(\"May 8 -\",round(pred_may08_full[pred_may08_full.Topic==-1].shape[0]))\n",
    "print(\"May 9 -\",round(pred_may09_full[pred_may09_full.Topic==-1].shape[0]))"
   ]
  },
  {
   "cell_type": "code",
   "execution_count": 52,
   "metadata": {},
   "outputs": [
    {
     "name": "stdout",
     "output_type": "stream",
     "text": [
      "Perc of articles NOISE - \n",
      "May 3 - 42\n",
      "May 4 - 47\n",
      "May 5 - 43\n",
      "May 6 - 48\n",
      "May 7 - 46\n",
      "May 8 - 46\n",
      "May 9 - 47\n"
     ]
    }
   ],
   "source": [
    "print(\"Perc of articles NOISE - \")\n",
    "print(\"May 3 -\",round(pred_may03_full[pred_may03_full.Topic==-1].shape[0]/pred_may03_full.shape[0]*100))\n",
    "print(\"May 4 -\",round(pred_may04_full[pred_may04_full.Topic==-1].shape[0]/pred_may04_full.shape[0]*100))\n",
    "print(\"May 5 -\",round(pred_may05_full[pred_may05_full.Topic==-1].shape[0]/pred_may05_full.shape[0]*100))\n",
    "print(\"May 6 -\",round(pred_may06_full[pred_may06_full.Topic==-1].shape[0]/pred_may06_full.shape[0]*100))\n",
    "print(\"May 7 -\",round(pred_may07_full[pred_may07_full.Topic==-1].shape[0]/pred_may07_full.shape[0]*100))\n",
    "print(\"May 8 -\",round(pred_may08_full[pred_may08_full.Topic==-1].shape[0]/pred_may08_full.shape[0]*100))\n",
    "print(\"May 9 -\",round(pred_may09_full[pred_may09_full.Topic==-1].shape[0]/pred_may09_full.shape[0]*100))"
   ]
  },
  {
   "cell_type": "markdown",
   "metadata": {},
   "source": [
    "## Cluster noise points"
   ]
  },
  {
   "cell_type": "code",
   "execution_count": 142,
   "metadata": {},
   "outputs": [
    {
     "name": "stdout",
     "output_type": "stream",
     "text": [
      "(4199, 15)\n",
      "(2415, 15)\n",
      "(1784, 15)\n",
      "2415\n",
      "1784\n"
     ]
    }
   ],
   "source": [
    "may3_nonnoise_df = pred_may03_full[pred_may03_full.Topic!=-1].copy()\n",
    "may3_noise_df = pred_may03_full[pred_may03_full.Topic==-1].copy()\n",
    "\n",
    "print(pred_may03_full.shape)\n",
    "print(may3_nonnoise_df.shape)\n",
    "print(may3_noise_df.shape) # 42% noise\n",
    "\n",
    "may3_nonnoise_embeds = [may03_art_embed[i] for i in list(may3_nonnoise_df.index)] \n",
    "print(len(may3_nonnoise_embeds))\n",
    "\n",
    "may3_noise_embeds = [may03_art_embed[i] for i in list(may3_noise_df.index)] \n",
    "print(len(may3_noise_embeds))"
   ]
  },
  {
   "cell_type": "markdown",
   "metadata": {},
   "source": [
    "* **Assign article to closest topic embedding**"
   ]
  },
  {
   "cell_type": "code",
   "execution_count": 161,
   "metadata": {},
   "outputs": [
    {
     "name": "stdout",
     "output_type": "stream",
     "text": [
      "Unique predicted topics in May3 -  309\n",
      "Non-noise articles in May3 (2415, 15)\n"
     ]
    },
    {
     "data": {
      "text/html": [
       "<div>\n",
       "<style scoped>\n",
       "    .dataframe tbody tr th:only-of-type {\n",
       "        vertical-align: middle;\n",
       "    }\n",
       "\n",
       "    .dataframe tbody tr th {\n",
       "        vertical-align: top;\n",
       "    }\n",
       "\n",
       "    .dataframe thead th {\n",
       "        text-align: right;\n",
       "    }\n",
       "</style>\n",
       "<table border=\"1\" class=\"dataframe\">\n",
       "  <thead>\n",
       "    <tr style=\"text-align: right;\">\n",
       "      <th></th>\n",
       "      <th>Size</th>\n",
       "      <th>topic_num</th>\n",
       "      <th>cos_min</th>\n",
       "      <th>cos_mean</th>\n",
       "      <th>distinct_tier1s</th>\n",
       "    </tr>\n",
       "  </thead>\n",
       "  <tbody>\n",
       "    <tr>\n",
       "      <th>count</th>\n",
       "      <td>310.000000</td>\n",
       "      <td>310.000000</td>\n",
       "      <td>286.000000</td>\n",
       "      <td>286.000000</td>\n",
       "      <td>310.000000</td>\n",
       "    </tr>\n",
       "    <tr>\n",
       "      <th>mean</th>\n",
       "      <td>13.545161</td>\n",
       "      <td>157.800000</td>\n",
       "      <td>0.997762</td>\n",
       "      <td>0.999825</td>\n",
       "      <td>3.041935</td>\n",
       "    </tr>\n",
       "    <tr>\n",
       "      <th>std</th>\n",
       "      <td>101.228807</td>\n",
       "      <td>92.376982</td>\n",
       "      <td>0.037255</td>\n",
       "      <td>0.002957</td>\n",
       "      <td>2.373297</td>\n",
       "    </tr>\n",
       "    <tr>\n",
       "      <th>min</th>\n",
       "      <td>1.000000</td>\n",
       "      <td>-1.000000</td>\n",
       "      <td>0.370000</td>\n",
       "      <td>0.950000</td>\n",
       "      <td>1.000000</td>\n",
       "    </tr>\n",
       "    <tr>\n",
       "      <th>25%</th>\n",
       "      <td>3.000000</td>\n",
       "      <td>78.250000</td>\n",
       "      <td>1.000000</td>\n",
       "      <td>1.000000</td>\n",
       "      <td>2.000000</td>\n",
       "    </tr>\n",
       "    <tr>\n",
       "      <th>50%</th>\n",
       "      <td>5.000000</td>\n",
       "      <td>156.500000</td>\n",
       "      <td>1.000000</td>\n",
       "      <td>1.000000</td>\n",
       "      <td>3.000000</td>\n",
       "    </tr>\n",
       "    <tr>\n",
       "      <th>75%</th>\n",
       "      <td>9.000000</td>\n",
       "      <td>236.750000</td>\n",
       "      <td>1.000000</td>\n",
       "      <td>1.000000</td>\n",
       "      <td>4.000000</td>\n",
       "    </tr>\n",
       "    <tr>\n",
       "      <th>max</th>\n",
       "      <td>1784.000000</td>\n",
       "      <td>320.000000</td>\n",
       "      <td>1.000000</td>\n",
       "      <td>1.000000</td>\n",
       "      <td>31.000000</td>\n",
       "    </tr>\n",
       "  </tbody>\n",
       "</table>\n",
       "</div>"
      ],
      "text/plain": [
       "              Size   topic_num     cos_min    cos_mean  distinct_tier1s\n",
       "count   310.000000  310.000000  286.000000  286.000000       310.000000\n",
       "mean     13.545161  157.800000    0.997762    0.999825         3.041935\n",
       "std     101.228807   92.376982    0.037255    0.002957         2.373297\n",
       "min       1.000000   -1.000000    0.370000    0.950000         1.000000\n",
       "25%       3.000000   78.250000    1.000000    1.000000         2.000000\n",
       "50%       5.000000  156.500000    1.000000    1.000000         3.000000\n",
       "75%       9.000000  236.750000    1.000000    1.000000         4.000000\n",
       "max    1784.000000  320.000000    1.000000    1.000000        31.000000"
      ]
     },
     "execution_count": 161,
     "metadata": {},
     "output_type": "execute_result"
    }
   ],
   "source": [
    "print(\"Unique predicted topics in May3 - \", len(sorted(may3_nonnoise_df.Topic.unique())))\n",
    "print(\"Non-noise articles in May3\", may3_nonnoise_df.shape)\n",
    "\n",
    "topic_info_may03.describe()"
   ]
  },
  {
   "cell_type": "code",
   "execution_count": 162,
   "metadata": {},
   "outputs": [],
   "source": [
    "may3_nonnoise_df.reset_index(drop=True, inplace=True)\n",
    "may3_noise_df.reset_index(drop=True, inplace=True)"
   ]
  },
  {
   "cell_type": "code",
   "execution_count": 163,
   "metadata": {},
   "outputs": [
    {
     "name": "stdout",
     "output_type": "stream",
     "text": [
      "309\n"
     ]
    }
   ],
   "source": [
    "test = []\n",
    "\n",
    "for topic_num in sorted(may3_nonnoise_df.Topic.unique()):\n",
    "    \n",
    "    topic_group = may3_nonnoise_df[may3_nonnoise_df.Topic== topic_num]\n",
    "    # grab all articles of given topic\n",
    "    group_embeddings = [may3_nonnoise_embeds[i] for i in list(topic_group.index)]\n",
    "    \n",
    "    # calculate average embedding for each topic\n",
    "    test.append(np.mean(group_embeddings, axis=0))\n",
    "\n",
    "print(len(test))"
   ]
  },
  {
   "cell_type": "code",
   "execution_count": 164,
   "metadata": {},
   "outputs": [
    {
     "name": "stdout",
     "output_type": "stream",
     "text": [
      "[0, 1, 2, 3, 4, 5, 6, 7, 8, 9, 10, 11, 12, 13, 14, 17, 18, 19, 20, 21, 22, 23, 24, 25, 26, 27, 28, 29, 30, 31, 32, 33, 34, 35, 36, 37, 38, 39, 40, 41, 42, 43, 44, 45, 46, 47, 48, 49, 50, 51, 52, 53, 54, 55, 56, 57, 58, 59, 60, 61, 62, 63, 64, 65, 66, 67, 68, 69, 70, 71, 72, 73, 74, 75, 76, 77, 78, 79, 80, 81, 82, 83, 84, 85, 86, 87, 88, 89, 90, 91, 92, 93, 94, 95, 97, 98, 99, 100, 101, 102, 103, 104, 105, 106, 107, 108, 109, 110, 111, 112, 113, 114, 115, 116, 117, 118, 119, 120, 121, 122, 123, 124, 125, 126, 127, 128, 129, 130, 131, 132, 133, 134, 135, 136, 137, 138, 139, 140, 141, 142, 143, 144, 145, 146, 147, 148, 149, 150, 151, 152, 153, 154, 155, 156, 157, 158, 159, 160, 161, 162, 163, 164, 165, 166, 167, 168, 169, 170, 171, 172, 173, 174, 175, 176, 177, 178, 179, 180, 181, 182, 183, 184, 185, 186, 187, 188, 189, 190, 191, 192, 193, 194, 195, 196, 198, 199, 200, 201, 202, 203, 204, 205, 206, 207, 209, 210, 211, 212, 213, 214, 215, 216, 217, 218, 219, 220, 222, 223, 224, 225, 226, 227, 228, 229, 230, 231, 232, 233, 234, 235, 236, 237, 238, 239, 240, 241, 242, 243, 244, 245, 246, 247, 248, 249, 250, 251, 252, 253, 255, 256, 257, 258, 259, 260, 261, 262, 264, 265, 266, 267, 268, 269, 270, 271, 272, 273, 274, 275, 276, 277, 278, 279, 280, 282, 283, 284, 286, 287, 288, 289, 291, 292, 293, 294, 295, 296, 297, 298, 299, 300, 301, 302, 303, 304, 305, 306, 307, 308, 309, 310, 311, 312, 313, 314, 316, 317, 318, 319, 320]\n"
     ]
    }
   ],
   "source": [
    "print(sorted(may3_nonnoise_df.Topic.unique()))"
   ]
  },
  {
   "cell_type": "code",
   "execution_count": 122,
   "metadata": {},
   "outputs": [
    {
     "data": {
      "text/html": [
       "<div>\n",
       "<style scoped>\n",
       "    .dataframe tbody tr th:only-of-type {\n",
       "        vertical-align: middle;\n",
       "    }\n",
       "\n",
       "    .dataframe tbody tr th {\n",
       "        vertical-align: top;\n",
       "    }\n",
       "\n",
       "    .dataframe thead th {\n",
       "        text-align: right;\n",
       "    }\n",
       "</style>\n",
       "<table border=\"1\" class=\"dataframe\">\n",
       "  <thead>\n",
       "    <tr style=\"text-align: right;\">\n",
       "      <th></th>\n",
       "      <th>Topic</th>\n",
       "      <th>topic_words</th>\n",
       "    </tr>\n",
       "  </thead>\n",
       "  <tbody>\n",
       "    <tr>\n",
       "      <th>24</th>\n",
       "      <td>163</td>\n",
       "      <td>tyler, gaslighter narcissist, gaslighters narcissists, puppet, cancel culture, igor theme</td>\n",
       "    </tr>\n",
       "    <tr>\n",
       "      <th>413</th>\n",
       "      <td>299</td>\n",
       "      <td>culture, leadership, hr, diversity, team members, skills</td>\n",
       "    </tr>\n",
       "    <tr>\n",
       "      <th>284</th>\n",
       "      <td>300</td>\n",
       "      <td>cultures, boss, promotion, innovation, baldoni, candidates</td>\n",
       "    </tr>\n",
       "    <tr>\n",
       "      <th>1620</th>\n",
       "      <td>314</td>\n",
       "      <td>sign toxic, toxic culture, resume, kh, manager, bullying</td>\n",
       "    </tr>\n",
       "  </tbody>\n",
       "</table>\n",
       "</div>"
      ],
      "text/plain": [
       "      Topic  \\\n",
       "24      163   \n",
       "413     299   \n",
       "284     300   \n",
       "1620    314   \n",
       "\n",
       "                                                                                    topic_words  \n",
       "24    tyler, gaslighter narcissist, gaslighters narcissists, puppet, cancel culture, igor theme  \n",
       "413                                    culture, leadership, hr, diversity, team members, skills  \n",
       "284                                  cultures, boss, promotion, innovation, baldoni, candidates  \n",
       "1620                                   sign toxic, toxic culture, resume, kh, manager, bullying  "
      ]
     },
     "execution_count": 122,
     "metadata": {},
     "output_type": "execute_result"
    }
   ],
   "source": [
    "check = may3_nonnoise_df[['Topic', 'topic_words']].drop_duplicates(keep='first').sort_values(\"Topic\")\n",
    "check[check.topic_words.str.contains(\"culture\")]"
   ]
  },
  {
   "cell_type": "code",
   "execution_count": 124,
   "metadata": {},
   "outputs": [
    {
     "data": {
      "text/plain": [
       "'How Do You Change An Organizational Culture?'"
      ]
     },
     "execution_count": 124,
     "metadata": {},
     "output_type": "execute_result"
    }
   ],
   "source": [
    "# test case to cluster\n",
    "\n",
    "may3_noise_df.iloc[1780].title"
   ]
  },
  {
   "cell_type": "code",
   "execution_count": 137,
   "metadata": {},
   "outputs": [
    {
     "data": {
      "text/plain": [
       "256"
      ]
     },
     "execution_count": 137,
     "metadata": {},
     "output_type": "execute_result"
    }
   ],
   "source": [
    "np.argmax(list(cos_mat[0][1:]))"
   ]
  },
  {
   "cell_type": "code",
   "execution_count": 140,
   "metadata": {},
   "outputs": [
    {
     "data": {
      "text/plain": [
       "0.9249606"
      ]
     },
     "execution_count": 140,
     "metadata": {},
     "output_type": "execute_result"
    }
   ],
   "source": [
    "cos_mat[0][1:][256]"
   ]
  },
  {
   "cell_type": "code",
   "execution_count": 141,
   "metadata": {},
   "outputs": [
    {
     "data": {
      "text/plain": [
       "0.9249606"
      ]
     },
     "execution_count": 141,
     "metadata": {},
     "output_type": "execute_result"
    }
   ],
   "source": [
    "sorted(cos_mat[0][1:])[-1]"
   ]
  },
  {
   "cell_type": "code",
   "execution_count": 125,
   "metadata": {},
   "outputs": [
    {
     "name": "stdout",
     "output_type": "stream",
     "text": [
      "Insert:  310\n",
      "256\n",
      "Pop:  309\n"
     ]
    }
   ],
   "source": [
    "import scipy\n",
    "from sklearn.metrics.pairwise import cosine_similarity\n",
    "\n",
    "test.insert(0, may3_noise_embeds[1780])\n",
    "print(\"Insert: \", len(test))\n",
    "\n",
    "# convert list to sparse matrix\n",
    "sparse_matrix= scipy.sparse.csr_matrix(test)\n",
    "\n",
    "# full matrix of cosine similarity of every embedding/article with every other\n",
    "cos_mat = cosine_similarity(sparse_matrix)\n",
    "\n",
    "# find closest topic\n",
    "print(np.argmax(cos_mat[0][1:]))\n",
    "\n",
    "test.pop(0)\n",
    "print(\"Pop: \", len(test))"
   ]
  },
  {
   "cell_type": "code",
   "execution_count": 126,
   "metadata": {},
   "outputs": [
    {
     "data": {
      "text/html": [
       "<div>\n",
       "<style scoped>\n",
       "    .dataframe tbody tr th:only-of-type {\n",
       "        vertical-align: middle;\n",
       "    }\n",
       "\n",
       "    .dataframe tbody tr th {\n",
       "        vertical-align: top;\n",
       "    }\n",
       "\n",
       "    .dataframe thead th {\n",
       "        text-align: right;\n",
       "    }\n",
       "</style>\n",
       "<table border=\"1\" class=\"dataframe\">\n",
       "  <thead>\n",
       "    <tr style=\"text-align: right;\">\n",
       "      <th></th>\n",
       "      <th>Size</th>\n",
       "      <th>topic_num</th>\n",
       "      <th>cos_min</th>\n",
       "      <th>cos_mean</th>\n",
       "      <th>distinct_tier1s</th>\n",
       "      <th>topic_words</th>\n",
       "    </tr>\n",
       "  </thead>\n",
       "  <tbody>\n",
       "    <tr>\n",
       "      <th>220</th>\n",
       "      <td>3</td>\n",
       "      <td>256</td>\n",
       "      <td>1.0</td>\n",
       "      <td>1.0</td>\n",
       "      <td>3</td>\n",
       "      <td>dela cruz, blumenfeld, hurwitz, russell, spoken word, vincenzo</td>\n",
       "    </tr>\n",
       "  </tbody>\n",
       "</table>\n",
       "</div>"
      ],
      "text/plain": [
       "     Size  topic_num  cos_min  cos_mean  distinct_tier1s  \\\n",
       "220     3        256      1.0       1.0                3   \n",
       "\n",
       "                                                        topic_words  \n",
       "220  dela cruz, blumenfeld, hurwitz, russell, spoken word, vincenzo  "
      ]
     },
     "execution_count": 126,
     "metadata": {},
     "output_type": "execute_result"
    }
   ],
   "source": [
    "topic_info_may03[topic_info_may03.topic_num==256]"
   ]
  },
  {
   "cell_type": "code",
   "execution_count": 181,
   "metadata": {},
   "outputs": [
    {
     "name": "stdout",
     "output_type": "stream",
     "text": [
      "Orig:  309\n"
     ]
    }
   ],
   "source": [
    "# automated loop\n",
    "\n",
    "import scipy\n",
    "from sklearn.metrics.pairwise import cosine_similarity\n",
    "\n",
    "closest_topic = []\n",
    "cos_topic_art = []\n",
    "print(\"Orig: \", len(test))\n",
    "\n",
    "for i in range(len(may3_noise_embeds)):\n",
    "    \n",
    "    test.insert(0, may3_noise_embeds[i])\n",
    "    # print(\"Insert: \", len(test))\n",
    "    \n",
    "    # convert list to sparse matrix\n",
    "    sparse_matrix= scipy.sparse.csr_matrix(test)\n",
    "\n",
    "    # full matrix of cosine similarity of every embedding/article with every other\n",
    "    cos_mat = cosine_similarity(sparse_matrix)\n",
    "    \n",
    "    cos_topic_art.append(sorted(cos_mat[0][1:])[-1])\n",
    "    \n",
    "    if sorted(cos_mat[0][1:])[-1] >=0.93:\n",
    "        # find closest topic\n",
    "        closest_topic.append(sorted(may3_nonnoise_df.Topic.unique())[np.argmax(cos_mat[0][1:])])\n",
    "    else:\n",
    "        closest_topic.append(-1)\n",
    "    \n",
    "    test.pop(0)\n",
    "    # print(\"Pop: \", len(test)) # 4mins"
   ]
  },
  {
   "cell_type": "code",
   "execution_count": 180,
   "metadata": {},
   "outputs": [
    {
     "data": {
      "text/plain": [
       "1390"
      ]
     },
     "execution_count": 180,
     "metadata": {},
     "output_type": "execute_result"
    }
   ],
   "source": [
    "# with 0.95 threshold\n",
    "len([x for x in closest_topic if x==-1])"
   ]
  },
  {
   "cell_type": "code",
   "execution_count": 183,
   "metadata": {},
   "outputs": [
    {
     "data": {
      "text/plain": [
       "867"
      ]
     },
     "execution_count": 183,
     "metadata": {},
     "output_type": "execute_result"
    }
   ],
   "source": [
    "# with 0.93 threshold\n",
    "len([x for x in closest_topic if x==-1])"
   ]
  },
  {
   "cell_type": "code",
   "execution_count": 184,
   "metadata": {},
   "outputs": [
    {
     "name": "stdout",
     "output_type": "stream",
     "text": [
      "1784\n"
     ]
    }
   ],
   "source": [
    "print(len(closest_topic))\n",
    "may3_noise_df[\"cossin_closest\"] = closest_topic"
   ]
  },
  {
   "cell_type": "code",
   "execution_count": 185,
   "metadata": {},
   "outputs": [
    {
     "data": {
      "text/plain": [
       "Doc                   0\n",
       "Topic                 0\n",
       "pvs                   0\n",
       "total_timeonpage      0\n",
       "content_natid         0\n",
       "pub_date              0\n",
       "title                 0\n",
       "tier1                 0\n",
       "tier2               616\n",
       "article_length        0\n",
       "Size                  0\n",
       "cos_min               0\n",
       "cos_mean              0\n",
       "distinct_tier1s       0\n",
       "topic_words_x         0\n",
       "cossin_closest        0\n",
       "topic_num             0\n",
       "topic_words_y         0\n",
       "dtype: int64"
      ]
     },
     "execution_count": 185,
     "metadata": {},
     "output_type": "execute_result"
    }
   ],
   "source": [
    "cossin_insp = pd.merge(may3_noise_df, topic_info_may03[['topic_num', 'topic_words']], \n",
    "         how=\"left\", left_on=\"cossin_closest\", right_on=\"topic_num\")\n",
    "cossin_insp.isna().sum()"
   ]
  },
  {
   "cell_type": "code",
   "execution_count": 186,
   "metadata": {},
   "outputs": [],
   "source": [
    "cossin_insp.to_csv(\"may3_cossin_insp_thresh.csv\", index=False)"
   ]
  },
  {
   "cell_type": "markdown",
   "metadata": {},
   "source": [
    "* **HDBSCAN again on noise-only**\n",
    "    * Remember: \n",
    "        * I am using option 1. There were some articles which had topic in training But on May 3 prediction, they got noise. Lets call this disgruntled sample. \n",
    "        * Now I will cluster only on noise points which will make the disgruntled sample be considered separate to the trained cluster topics. So, algorithm will try to find separate topics for the disgruntled sample articles\n",
    "            * TODO: if these disgruntled still stay noise?\n",
    "        * Its still fine - because I plan on merging newly found topics with similar existing ones"
   ]
  },
  {
   "cell_type": "code",
   "execution_count": 90,
   "metadata": {},
   "outputs": [
    {
     "data": {
      "text/plain": [
       "(1484, 7)"
      ]
     },
     "execution_count": 90,
     "metadata": {},
     "output_type": "execute_result"
    }
   ],
   "source": [
    "col_list = ['content_natid', 'Doc', 'Topic', 'topic_words']\n",
    "\n",
    "may3_train_common = pd.merge(full_train_topics[col_list],\n",
    "                             may3_noise_df[col_list], \n",
    "                             on = \"content_natid\", how=\"inner\")\n",
    "may3_train_common.shape"
   ]
  },
  {
   "cell_type": "code",
   "execution_count": 121,
   "metadata": {},
   "outputs": [
    {
     "data": {
      "text/plain": [
       "(1484, 15)"
      ]
     },
     "execution_count": 121,
     "metadata": {},
     "output_type": "execute_result"
    }
   ],
   "source": [
    "may3_noise_df[may3_noise_df.content_natid.isin(full_train_topics.content_natid)].shape"
   ]
  },
  {
   "cell_type": "code",
   "execution_count": 91,
   "metadata": {},
   "outputs": [
    {
     "name": "stdout",
     "output_type": "stream",
     "text": [
      "(693, 7)\n",
      "(791, 7)\n",
      "(0, 7)\n"
     ]
    }
   ],
   "source": [
    "# 47% disgruntled articles i.e. almost half\n",
    "print(may3_train_common[(may3_train_common.Topic_x !=-1) & (may3_train_common.Topic_y==-1)].shape)\n",
    "\n",
    "# 53% are noise given by both\n",
    "print(may3_train_common[(may3_train_common.Topic_x ==-1) & (may3_train_common.Topic_y==-1)].shape)\n",
    "\n",
    "print(may3_train_common[(may3_train_common.Topic_x ==-1) & (may3_train_common.Topic_y!=-1)].shape)"
   ]
  },
  {
   "cell_type": "code",
   "execution_count": 92,
   "metadata": {},
   "outputs": [
    {
     "name": "stdout",
     "output_type": "stream",
     "text": [
      "Shape of training embeddings: (1784, 2)\n",
      "Settings - mean axis=0\n"
     ]
    },
    {
     "data": {
      "text/plain": [
       "0.3107760703202861"
      ]
     },
     "execution_count": 92,
     "metadata": {},
     "output_type": "execute_result"
    }
   ],
   "source": [
    "# NEW SETTINGS for lesser noise - umap:n_neighbors=15, n_components=2, min_dist=0.0 \n",
    "# hdbscan min_cluster_size=5, min_samples = 4, input = sentence embeddings aggregated (mean) to full article\n",
    "\n",
    "umap_embeddings =  umap.UMAP(n_neighbors=15,\n",
    "                             min_dist=0.0,\n",
    "                             n_components=2,\n",
    "                             random_state=SEED,\n",
    "                            ).fit(may3_noise_embeds)\n",
    "\n",
    "# cluster\n",
    "cluster = hdbscan.HDBSCAN(min_cluster_size=5,\n",
    "                      min_samples = 4, #new\n",
    "                      metric= 'euclidean',                      \n",
    "                      cluster_selection_method='eom',\n",
    "                      prediction_data=True).fit(umap_embeddings.embedding_)\n",
    "\n",
    "print(\"Shape of training embeddings:\", umap_embeddings.embedding_.shape)\n",
    "labels = cluster.labels_\n",
    "print(\"Settings - mean axis=0\")\n",
    "validity_index(umap_embeddings.embedding_.astype('double'), labels)"
   ]
  },
  {
   "cell_type": "code",
   "execution_count": 93,
   "metadata": {},
   "outputs": [
    {
     "name": "stdout",
     "output_type": "stream",
     "text": [
      "Distinct topics including -1 for noise 83\n",
      "\n"
     ]
    },
    {
     "data": {
      "text/html": [
       "<div>\n",
       "<style scoped>\n",
       "    .dataframe tbody tr th:only-of-type {\n",
       "        vertical-align: middle;\n",
       "    }\n",
       "\n",
       "    .dataframe tbody tr th {\n",
       "        vertical-align: top;\n",
       "    }\n",
       "\n",
       "    .dataframe thead th {\n",
       "        text-align: right;\n",
       "    }\n",
       "</style>\n",
       "<table border=\"1\" class=\"dataframe\">\n",
       "  <thead>\n",
       "    <tr style=\"text-align: right;\">\n",
       "      <th></th>\n",
       "      <th>Doc</th>\n",
       "      <th>Topic</th>\n",
       "      <th>Doc_ID</th>\n",
       "    </tr>\n",
       "  </thead>\n",
       "  <tbody>\n",
       "    <tr>\n",
       "      <th>0</th>\n",
       "      <td>announced at wwdc, macos monterey makes the new imac even harder to resist. the new 24-inch imac is a remarkable machine; powered by apples new m1 processor, it feels modern and up-to-date in a way that imacs havent for a number of years. its now...</td>\n",
       "      <td>11</td>\n",
       "      <td>0</td>\n",
       "    </tr>\n",
       "    <tr>\n",
       "      <th>1</th>\n",
       "      <td>the new ipad pro 2021 gets even better with tons of new features announced at wwdc. it was just over a year ago that apple unveiled its last ipad pro. the 2020 model wasnt a significant improvement over 2018sit mainly added support for the laptop...</td>\n",
       "      <td>11</td>\n",
       "      <td>1</td>\n",
       "    </tr>\n",
       "    <tr>\n",
       "      <th>2</th>\n",
       "      <td>13 pool floats for the whole family (yes, your dog too). theres only so much lemonade you can drink on your favorite lounge chair by the pool before the itch to jump in the water kicks in. but if youve been relaxing, reading or sipping on your fa...</td>\n",
       "      <td>9</td>\n",
       "      <td>2</td>\n",
       "    </tr>\n",
       "    <tr>\n",
       "      <th>3</th>\n",
       "      <td>these 12 pillows for neck pain will have you waking up feeling brand new. if youre someone who suffers from chronic neck pain, it can be difficult to get a good nights sleep. and while a really great mattress can do a lot to alleviate some amount...</td>\n",
       "      <td>10</td>\n",
       "      <td>3</td>\n",
       "    </tr>\n",
       "    <tr>\n",
       "      <th>4</th>\n",
       "      <td>15 aapi fashion brands to support this month and beyond. even though maythe month that asian american and pacific islander heritage month is recognizedis almost over, when you shop at the fashion retailers and brands on this list, youll also be s...</td>\n",
       "      <td>57</td>\n",
       "      <td>4</td>\n",
       "    </tr>\n",
       "    <tr>\n",
       "      <th>...</th>\n",
       "      <td>...</td>\n",
       "      <td>...</td>\n",
       "      <td>...</td>\n",
       "    </tr>\n",
       "    <tr>\n",
       "      <th>1779</th>\n",
       "      <td>why are manholes round? the 10 toughest interview questions. a job interview at one of google 's 75 campuses around the globe might seem to have more in common with pledging a secret fraternity than job-hunting. an often months-long interview pro...</td>\n",
       "      <td>78</td>\n",
       "      <td>1779</td>\n",
       "    </tr>\n",
       "    <tr>\n",
       "      <th>1780</th>\n",
       "      <td>how do you change an organizational culture?. changing an organizations culture is one of the most difficult leadership challenges. thats because an organizations culture comprises an interlocking set of goals, roles, processes, values, communica...</td>\n",
       "      <td>-1</td>\n",
       "      <td>1780</td>\n",
       "    </tr>\n",
       "    <tr>\n",
       "      <th>1781</th>\n",
       "      <td>understanding how assets get divided in divorce. dividing the familys property during divorce can be quite difficult, especially if there are significant assets such as houses, rental property, retirement and pension plans, stock options, restric...</td>\n",
       "      <td>33</td>\n",
       "      <td>1781</td>\n",
       "    </tr>\n",
       "    <tr>\n",
       "      <th>1782</th>\n",
       "      <td>alexander the great: gay or straight?. (one in a series of conversations between historians james romm and paul a. cartledge , editor and introduction-author, respectively, of the new landmark arrian: the campaigns of alexander , published by pan...</td>\n",
       "      <td>-1</td>\n",
       "      <td>1782</td>\n",
       "    </tr>\n",
       "    <tr>\n",
       "      <th>1783</th>\n",
       "      <td>brrr!. bill clinton recently brought up the idea that we might have to slow down the u.s. economy to cut back on greenhouse emissions in order to save the planet from global warming. less prosperity will be our salvation! putting aside the former...</td>\n",
       "      <td>-1</td>\n",
       "      <td>1783</td>\n",
       "    </tr>\n",
       "  </tbody>\n",
       "</table>\n",
       "<p>1784 rows × 3 columns</p>\n",
       "</div>"
      ],
      "text/plain": [
       "                                                                                                                                                                                                                                                            Doc  \\\n",
       "0     announced at wwdc, macos monterey makes the new imac even harder to resist. the new 24-inch imac is a remarkable machine; powered by apples new m1 processor, it feels modern and up-to-date in a way that imacs havent for a number of years. its now...   \n",
       "1     the new ipad pro 2021 gets even better with tons of new features announced at wwdc. it was just over a year ago that apple unveiled its last ipad pro. the 2020 model wasnt a significant improvement over 2018sit mainly added support for the laptop...   \n",
       "2     13 pool floats for the whole family (yes, your dog too). theres only so much lemonade you can drink on your favorite lounge chair by the pool before the itch to jump in the water kicks in. but if youve been relaxing, reading or sipping on your fa...   \n",
       "3     these 12 pillows for neck pain will have you waking up feeling brand new. if youre someone who suffers from chronic neck pain, it can be difficult to get a good nights sleep. and while a really great mattress can do a lot to alleviate some amount...   \n",
       "4     15 aapi fashion brands to support this month and beyond. even though maythe month that asian american and pacific islander heritage month is recognizedis almost over, when you shop at the fashion retailers and brands on this list, youll also be s...   \n",
       "...                                                                                                                                                                                                                                                         ...   \n",
       "1779  why are manholes round? the 10 toughest interview questions. a job interview at one of google 's 75 campuses around the globe might seem to have more in common with pledging a secret fraternity than job-hunting. an often months-long interview pro...   \n",
       "1780  how do you change an organizational culture?. changing an organizations culture is one of the most difficult leadership challenges. thats because an organizations culture comprises an interlocking set of goals, roles, processes, values, communica...   \n",
       "1781  understanding how assets get divided in divorce. dividing the familys property during divorce can be quite difficult, especially if there are significant assets such as houses, rental property, retirement and pension plans, stock options, restric...   \n",
       "1782  alexander the great: gay or straight?. (one in a series of conversations between historians james romm and paul a. cartledge , editor and introduction-author, respectively, of the new landmark arrian: the campaigns of alexander , published by pan...   \n",
       "1783  brrr!. bill clinton recently brought up the idea that we might have to slow down the u.s. economy to cut back on greenhouse emissions in order to save the planet from global warming. less prosperity will be our salvation! putting aside the former...   \n",
       "\n",
       "      Topic  Doc_ID  \n",
       "0        11       0  \n",
       "1        11       1  \n",
       "2         9       2  \n",
       "3        10       3  \n",
       "4        57       4  \n",
       "...     ...     ...  \n",
       "1779     78    1779  \n",
       "1780     -1    1780  \n",
       "1781     33    1781  \n",
       "1782     -1    1782  \n",
       "1783     -1    1783  \n",
       "\n",
       "[1784 rows x 3 columns]"
      ]
     },
     "execution_count": 93,
     "metadata": {},
     "output_type": "execute_result"
    }
   ],
   "source": [
    "# put topics in dataframe\n",
    "docs_df = pd.DataFrame(may3_noise_df.Doc.tolist(), columns=[\"Doc\"])\n",
    "docs_df['Topic'] = cluster.labels_\n",
    "docs_df['Doc_ID'] = range(len(docs_df))\n",
    "\n",
    "print(\"Distinct topics including -1 for noise\", len(docs_df.Topic.unique()))\n",
    "print()\n",
    "docs_df"
   ]
  },
  {
   "cell_type": "code",
   "execution_count": 94,
   "metadata": {},
   "outputs": [],
   "source": [
    "# combine together all articles belonging to same cluster  \n",
    "docs_per_topic = docs_df.groupby(['Topic'], as_index = False).agg({'Doc': ' '.join})\n",
    "\n",
    "# calculate countVector and tf-idf\n",
    "tf_idf, count = c_tf_idf(docs_per_topic.Doc.values, m=len(data))\n",
    "\n",
    "# top n words, topic size\n",
    "top_n_words = extract_top_n_words_per_topic(tf_idf, count, docs_per_topic, n=20)\n",
    "topic_sizes = extract_topic_sizes(docs_df); \n",
    "\n",
    "# modify top_n_words per topic dict into dataframe for presentation\n",
    "topic_words_dict = {}  \n",
    "\n",
    "for k, v in top_n_words.items():\n",
    "    topic_words_dict[k] = \", \".join([elem[0] for elem in v])\n",
    "\n",
    "pd.set_option(\"max_colwidth\", 250)\n",
    "top_n_words_df = pd.DataFrame.from_dict(topic_words_dict, \n",
    "                                        orient='index').reset_index().rename(columns={'index':'topic_num',\n",
    "                                                                                      \n",
    "                                                                                      0:'topic_words'}) "
   ]
  },
  {
   "cell_type": "code",
   "execution_count": 95,
   "metadata": {},
   "outputs": [
    {
     "name": "stdout",
     "output_type": "stream",
     "text": [
      "keyword time 0.00015198389689127605\n"
     ]
    }
   ],
   "source": [
    "# clean keywords\n",
    "\n",
    "from collections import OrderedDict\n",
    "# from fuzzywuzzy import process, fuzz\n",
    "from itertools import chain\n",
    "\n",
    "import time\n",
    "start = time.time()\n",
    "\n",
    "clean_keys = []\n",
    "for index, row in top_n_words_df.iterrows(): \n",
    "    \n",
    "    # remove STOP WORDS and remove whitespaces\n",
    "    inter_list = [x.strip() for x in row[\"topic_words\"].split(\",\") if x not in STOP_WORDS]\n",
    "    \n",
    "    # remove numbers but not alphanumerics e.g. remove 400, not ps4 \n",
    "    inter_list = [x for x in inter_list if not x.isnumeric()]\n",
    "    \n",
    "    # remove subset-based similar words - e.g. 'pcr tests' and 'tests' then 'tests' will be removed\n",
    "    inter_list = [i for i in inter_list if not any(i in x and i!=x for x in inter_list)]\n",
    "\n",
    "    # remove empty or 1-letter words\n",
    "    inter_list = [x for x in inter_list if len(x)>1]\n",
    "    \n",
    "    # de-duplicate\n",
    "    inter_list = list(OrderedDict.fromkeys(inter_list))\n",
    "    \n",
    "    # keep top 20 cleaned keywords\n",
    "    inter_list = inter_list[:6] \n",
    "    \n",
    "    # convert into string\n",
    "    inter_list = ', '.join(inter_list)\n",
    "    \n",
    "    clean_keys.append(inter_list)\n",
    "\n",
    "top_n_words_df[\"topic_words\"] = clean_keys\n",
    "\n",
    "end = time.time()\n",
    "print(\"keyword time\", (end - start)/60) "
   ]
  },
  {
   "cell_type": "code",
   "execution_count": 96,
   "metadata": {},
   "outputs": [],
   "source": [
    "# GENERATE TOPIC METRICS\n",
    "\n",
    "# per topic - cos_min and cos_mean\n",
    "train_cossim_df = generate_all_cossim_metrics(docs_df, train_embeds)\n",
    "\n",
    "# per topic - tier counts\n",
    "tier_metric = docs_df.join(train_df[[\"tier1\"]])\n",
    "\n",
    "iab_metric = tier_metric.groupby(\"Topic\").agg({\"tier1\": \n",
    "                                               'nunique'}).round(2).reset_index().rename(columns = {'tier1': \n",
    "                                                                                                    'distinct_tier1s',\n",
    "                                                                                                    'Topic':\n",
    "                                                                                                    'topic_num'})\n",
    "\n",
    "# combine topic, top words, cos and tier metrics\n",
    "topic_info = pd.merge(pd.merge(pd.merge(top_n_words_df, \n",
    "                               topic_sizes, how=\"inner\", left_on=\"topic_num\", right_on = \"Topic\"), \n",
    "                               train_cossim_df, on = \"topic_num\", how=\"inner\"), \n",
    "                      iab_metric, on = \"topic_num\", how=\"inner\")\n",
    "\n",
    "topic_info.drop('Topic', axis=1, inplace=True)"
   ]
  },
  {
   "cell_type": "code",
   "execution_count": 97,
   "metadata": {},
   "outputs": [
    {
     "data": {
      "text/html": [
       "<div>\n",
       "<style scoped>\n",
       "    .dataframe tbody tr th:only-of-type {\n",
       "        vertical-align: middle;\n",
       "    }\n",
       "\n",
       "    .dataframe tbody tr th {\n",
       "        vertical-align: top;\n",
       "    }\n",
       "\n",
       "    .dataframe thead th {\n",
       "        text-align: right;\n",
       "    }\n",
       "</style>\n",
       "<table border=\"1\" class=\"dataframe\">\n",
       "  <thead>\n",
       "    <tr style=\"text-align: right;\">\n",
       "      <th></th>\n",
       "      <th>cos_min</th>\n",
       "      <th>cos_mean</th>\n",
       "      <th>distinct_tier1s</th>\n",
       "      <th>Size</th>\n",
       "    </tr>\n",
       "  </thead>\n",
       "  <tbody>\n",
       "    <tr>\n",
       "      <th>count</th>\n",
       "      <td>83.000</td>\n",
       "      <td>83.000</td>\n",
       "      <td>83.000</td>\n",
       "      <td>83.000</td>\n",
       "    </tr>\n",
       "    <tr>\n",
       "      <th>mean</th>\n",
       "      <td>0.444</td>\n",
       "      <td>0.705</td>\n",
       "      <td>8.193</td>\n",
       "      <td>21.494</td>\n",
       "    </tr>\n",
       "    <tr>\n",
       "      <th>std</th>\n",
       "      <td>0.108</td>\n",
       "      <td>0.028</td>\n",
       "      <td>4.098</td>\n",
       "      <td>57.157</td>\n",
       "    </tr>\n",
       "    <tr>\n",
       "      <th>min</th>\n",
       "      <td>0.080</td>\n",
       "      <td>0.640</td>\n",
       "      <td>3.000</td>\n",
       "      <td>5.000</td>\n",
       "    </tr>\n",
       "    <tr>\n",
       "      <th>25%</th>\n",
       "      <td>0.380</td>\n",
       "      <td>0.690</td>\n",
       "      <td>5.000</td>\n",
       "      <td>7.000</td>\n",
       "    </tr>\n",
       "    <tr>\n",
       "      <th>50%</th>\n",
       "      <td>0.450</td>\n",
       "      <td>0.710</td>\n",
       "      <td>8.000</td>\n",
       "      <td>12.000</td>\n",
       "    </tr>\n",
       "    <tr>\n",
       "      <th>75%</th>\n",
       "      <td>0.520</td>\n",
       "      <td>0.720</td>\n",
       "      <td>10.000</td>\n",
       "      <td>21.500</td>\n",
       "    </tr>\n",
       "    <tr>\n",
       "      <th>max</th>\n",
       "      <td>0.680</td>\n",
       "      <td>0.760</td>\n",
       "      <td>30.000</td>\n",
       "      <td>527.000</td>\n",
       "    </tr>\n",
       "  </tbody>\n",
       "</table>\n",
       "</div>"
      ],
      "text/plain": [
       "       cos_min  cos_mean  distinct_tier1s     Size\n",
       "count   83.000    83.000           83.000   83.000\n",
       "mean     0.444     0.705            8.193   21.494\n",
       "std      0.108     0.028            4.098   57.157\n",
       "min      0.080     0.640            3.000    5.000\n",
       "25%      0.380     0.690            5.000    7.000\n",
       "50%      0.450     0.710            8.000   12.000\n",
       "75%      0.520     0.720           10.000   21.500\n",
       "max      0.680     0.760           30.000  527.000"
      ]
     },
     "execution_count": 97,
     "metadata": {},
     "output_type": "execute_result"
    }
   ],
   "source": [
    "topic_info[['cos_min', 'cos_mean', 'distinct_tier1s', 'Size']].describe().apply(lambda x: round(x, 3))"
   ]
  },
  {
   "cell_type": "code",
   "execution_count": 104,
   "metadata": {},
   "outputs": [
    {
     "data": {
      "text/html": [
       "<div>\n",
       "<style scoped>\n",
       "    .dataframe tbody tr th:only-of-type {\n",
       "        vertical-align: middle;\n",
       "    }\n",
       "\n",
       "    .dataframe tbody tr th {\n",
       "        vertical-align: top;\n",
       "    }\n",
       "\n",
       "    .dataframe thead th {\n",
       "        text-align: right;\n",
       "    }\n",
       "</style>\n",
       "<table border=\"1\" class=\"dataframe\">\n",
       "  <thead>\n",
       "    <tr style=\"text-align: right;\">\n",
       "      <th></th>\n",
       "      <th>topic_num</th>\n",
       "      <th>topic_words</th>\n",
       "    </tr>\n",
       "  </thead>\n",
       "  <tbody>\n",
       "    <tr>\n",
       "      <th>0</th>\n",
       "      <td>-1</td>\n",
       "      <td>billion, market, business, companies, data, money</td>\n",
       "    </tr>\n",
       "    <tr>\n",
       "      <th>1</th>\n",
       "      <td>0</td>\n",
       "      <td>spot, city streets, baidu, fsd, herm, auction</td>\n",
       "    </tr>\n",
       "    <tr>\n",
       "      <th>2</th>\n",
       "      <td>1</td>\n",
       "      <td>bay, cannabis, island, hotel, menu, south walton</td>\n",
       "    </tr>\n",
       "    <tr>\n",
       "      <th>3</th>\n",
       "      <td>2</td>\n",
       "      <td>path exile, pokemon, map, dexterity, ascendancy, classes</td>\n",
       "    </tr>\n",
       "    <tr>\n",
       "      <th>4</th>\n",
       "      <td>3</td>\n",
       "      <td>galley, design, space, cbd, hair, faux</td>\n",
       "    </tr>\n",
       "    <tr>\n",
       "      <th>...</th>\n",
       "      <td>...</td>\n",
       "      <td>...</td>\n",
       "    </tr>\n",
       "    <tr>\n",
       "      <th>78</th>\n",
       "      <td>77</td>\n",
       "      <td>tell time, mcguigan, interview, rahm, job, maternity leave</td>\n",
       "    </tr>\n",
       "    <tr>\n",
       "      <th>79</th>\n",
       "      <td>78</td>\n",
       "      <td>job, working home, employees, youre, team, telecommuting</td>\n",
       "    </tr>\n",
       "    <tr>\n",
       "      <th>80</th>\n",
       "      <td>79</td>\n",
       "      <td>food, data, national digital, consumers, businesses, digital id</td>\n",
       "    </tr>\n",
       "    <tr>\n",
       "      <th>81</th>\n",
       "      <td>80</td>\n",
       "      <td>ai, data, machines, machine learning, tanium, technology</td>\n",
       "    </tr>\n",
       "    <tr>\n",
       "      <th>82</th>\n",
       "      <td>81</td>\n",
       "      <td>cloudera, online learning, financial services, hybrid, cdp, kerrigan</td>\n",
       "    </tr>\n",
       "  </tbody>\n",
       "</table>\n",
       "<p>83 rows × 2 columns</p>\n",
       "</div>"
      ],
      "text/plain": [
       "    topic_num  \\\n",
       "0          -1   \n",
       "1           0   \n",
       "2           1   \n",
       "3           2   \n",
       "4           3   \n",
       "..        ...   \n",
       "78         77   \n",
       "79         78   \n",
       "80         79   \n",
       "81         80   \n",
       "82         81   \n",
       "\n",
       "                                                             topic_words  \n",
       "0                      billion, market, business, companies, data, money  \n",
       "1                          spot, city streets, baidu, fsd, herm, auction  \n",
       "2                       bay, cannabis, island, hotel, menu, south walton  \n",
       "3               path exile, pokemon, map, dexterity, ascendancy, classes  \n",
       "4                                 galley, design, space, cbd, hair, faux  \n",
       "..                                                                   ...  \n",
       "78            tell time, mcguigan, interview, rahm, job, maternity leave  \n",
       "79              job, working home, employees, youre, team, telecommuting  \n",
       "80       food, data, national digital, consumers, businesses, digital id  \n",
       "81              ai, data, machines, machine learning, tanium, technology  \n",
       "82  cloudera, online learning, financial services, hybrid, cdp, kerrigan  \n",
       "\n",
       "[83 rows x 2 columns]"
      ]
     },
     "execution_count": 104,
     "metadata": {},
     "output_type": "execute_result"
    }
   ],
   "source": [
    "top_n_words_df"
   ]
  },
  {
   "cell_type": "code",
   "execution_count": 135,
   "metadata": {},
   "outputs": [],
   "source": [
    "noise_clustered = pd.merge(docs_df, top_n_words_df, how=\"left\", left_on=\"Topic\", right_on = \"topic_num\")\n",
    "noise_clustered.drop(\"topic_num\", axis=1, inplace=True)\n",
    "noise_clustered[\"content_natid\"] = list(may3_noise_df.content_natid)"
   ]
  },
  {
   "cell_type": "code",
   "execution_count": 137,
   "metadata": {},
   "outputs": [
    {
     "name": "stdout",
     "output_type": "stream",
     "text": [
      "(1784, 11)\n"
     ]
    },
    {
     "data": {
      "text/html": [
       "<div>\n",
       "<style scoped>\n",
       "    .dataframe tbody tr th:only-of-type {\n",
       "        vertical-align: middle;\n",
       "    }\n",
       "\n",
       "    .dataframe tbody tr th {\n",
       "        vertical-align: top;\n",
       "    }\n",
       "\n",
       "    .dataframe thead th {\n",
       "        text-align: right;\n",
       "    }\n",
       "</style>\n",
       "<table border=\"1\" class=\"dataframe\">\n",
       "  <thead>\n",
       "    <tr style=\"text-align: right;\">\n",
       "      <th></th>\n",
       "      <th>Doc</th>\n",
       "      <th>Topic</th>\n",
       "      <th>Doc_ID</th>\n",
       "      <th>topic_words_x</th>\n",
       "      <th>content_natid</th>\n",
       "      <th>topic_num</th>\n",
       "      <th>topic_words_y</th>\n",
       "      <th>Size</th>\n",
       "      <th>cos_min</th>\n",
       "      <th>cos_mean</th>\n",
       "      <th>distinct_tier1s</th>\n",
       "    </tr>\n",
       "  </thead>\n",
       "  <tbody>\n",
       "    <tr>\n",
       "      <th>0</th>\n",
       "      <td>announced at wwdc, macos monterey makes the new imac even harder to resist. the new 24-inch imac is a remarkable machine; powered by apples new m1 processor, it feels modern and up-to-date in a way that imacs havent for a number of years. its now...</td>\n",
       "      <td>11</td>\n",
       "      <td>0</td>\n",
       "      <td>m1, apple, macbook pro, surface, 4k, xbox series</td>\n",
       "      <td>blogandpostid/blog/post/4983-607a09a3ceedec00067a07e4</td>\n",
       "      <td>11</td>\n",
       "      <td>m1, apple, macbook pro, surface, 4k, xbox series</td>\n",
       "      <td>26</td>\n",
       "      <td>0.42</td>\n",
       "      <td>0.7</td>\n",
       "      <td>11</td>\n",
       "    </tr>\n",
       "  </tbody>\n",
       "</table>\n",
       "</div>"
      ],
      "text/plain": [
       "                                                                                                                                                                                                                                                         Doc  \\\n",
       "0  announced at wwdc, macos monterey makes the new imac even harder to resist. the new 24-inch imac is a remarkable machine; powered by apples new m1 processor, it feels modern and up-to-date in a way that imacs havent for a number of years. its now...   \n",
       "\n",
       "   Topic  Doc_ID                                     topic_words_x  \\\n",
       "0     11       0  m1, apple, macbook pro, surface, 4k, xbox series   \n",
       "\n",
       "                                           content_natid  topic_num  \\\n",
       "0  blogandpostid/blog/post/4983-607a09a3ceedec00067a07e4         11   \n",
       "\n",
       "                                      topic_words_y  Size  cos_min  cos_mean  \\\n",
       "0  m1, apple, macbook pro, surface, 4k, xbox series    26     0.42       0.7   \n",
       "\n",
       "   distinct_tier1s  \n",
       "0               11  "
      ]
     },
     "execution_count": 137,
     "metadata": {},
     "output_type": "execute_result"
    }
   ],
   "source": [
    "# contains natid, article body, assigned topic\n",
    "\n",
    "full_noise_topics = pd.merge(noise_clustered, topic_info, how=\"left\", left_on=\"Topic\", right_on=\"topic_num\")\n",
    "print(full_noise_topics.shape)\n",
    "full_noise_topics.head(1)"
   ]
  },
  {
   "cell_type": "code",
   "execution_count": 140,
   "metadata": {},
   "outputs": [
    {
     "data": {
      "text/plain": [
       "(1784, 11)"
      ]
     },
     "execution_count": 140,
     "metadata": {},
     "output_type": "execute_result"
    }
   ],
   "source": [
    "full_noise_topics[full_noise_topics.content_natid.isin(may3_noise_df.content_natid)].shape"
   ]
  },
  {
   "cell_type": "code",
   "execution_count": 141,
   "metadata": {},
   "outputs": [],
   "source": [
    "# full_noise_topics.to_csv(\"may3_noise_hdbscan_insp.csv\", index=False)"
   ]
  },
  {
   "cell_type": "code",
   "execution_count": 145,
   "metadata": {},
   "outputs": [
    {
     "name": "stdout",
     "output_type": "stream",
     "text": [
      "(1484, 5)\n"
     ]
    },
    {
     "data": {
      "text/plain": [
       "-1     433\n",
       " 76     61\n",
       " 31     38\n",
       " 64     31\n",
       " 63     27\n",
       "      ... \n",
       " 51      3\n",
       " 25      3\n",
       " 59      3\n",
       " 60      2\n",
       " 62      1\n",
       "Name: Topic, Length: 83, dtype: int64"
      ]
     },
     "execution_count": 145,
     "metadata": {},
     "output_type": "execute_result"
    }
   ],
   "source": [
    "print(noise_clustered[noise_clustered.content_natid.isin(may3_train_common.content_natid)].shape)\n",
    "noise_clustered[noise_clustered.content_natid.isin(may3_train_common.content_natid)].Topic.value_counts()"
   ]
  },
  {
   "cell_type": "code",
   "execution_count": 147,
   "metadata": {},
   "outputs": [
    {
     "data": {
      "text/html": [
       "<div>\n",
       "<style scoped>\n",
       "    .dataframe tbody tr th:only-of-type {\n",
       "        vertical-align: middle;\n",
       "    }\n",
       "\n",
       "    .dataframe tbody tr th {\n",
       "        vertical-align: top;\n",
       "    }\n",
       "\n",
       "    .dataframe thead th {\n",
       "        text-align: right;\n",
       "    }\n",
       "</style>\n",
       "<table border=\"1\" class=\"dataframe\">\n",
       "  <thead>\n",
       "    <tr style=\"text-align: right;\">\n",
       "      <th></th>\n",
       "      <th>content_natid</th>\n",
       "      <th>Doc_x</th>\n",
       "      <th>Topic_x</th>\n",
       "      <th>topic_words_x</th>\n",
       "      <th>Doc_y</th>\n",
       "      <th>Topic_y</th>\n",
       "      <th>topic_words_y</th>\n",
       "    </tr>\n",
       "  </thead>\n",
       "  <tbody>\n",
       "    <tr>\n",
       "      <th>1064</th>\n",
       "      <td>blogandpostid/blog/post/28-5380</td>\n",
       "      <td>alexander the great: gay or straight?. (one in a series of conversations between historians james romm and paul a. cartledge , editor and introduction-author, respectively, of the new landmark arrian: the campaigns of alexander , published by pan...</td>\n",
       "      <td>118</td>\n",
       "      <td>alexander, joon, woke, psychopaths, scarecrows, rosenthal</td>\n",
       "      <td>alexander the great: gay or straight?. (one in a series of conversations between historians james romm and paul a. cartledge , editor and introduction-author, respectively, of the new landmark arrian: the campaigns of alexander , published by pan...</td>\n",
       "      <td>-1</td>\n",
       "      <td>remote, age, businesses, leaders, workers, water</td>\n",
       "    </tr>\n",
       "  </tbody>\n",
       "</table>\n",
       "</div>"
      ],
      "text/plain": [
       "                        content_natid  \\\n",
       "1064  blogandpostid/blog/post/28-5380   \n",
       "\n",
       "                                                                                                                                                                                                                                                          Doc_x  \\\n",
       "1064  alexander the great: gay or straight?. (one in a series of conversations between historians james romm and paul a. cartledge , editor and introduction-author, respectively, of the new landmark arrian: the campaigns of alexander , published by pan...   \n",
       "\n",
       "      Topic_x                                              topic_words_x  \\\n",
       "1064      118  alexander, joon, woke, psychopaths, scarecrows, rosenthal   \n",
       "\n",
       "                                                                                                                                                                                                                                                          Doc_y  \\\n",
       "1064  alexander the great: gay or straight?. (one in a series of conversations between historians james romm and paul a. cartledge , editor and introduction-author, respectively, of the new landmark arrian: the campaigns of alexander , published by pan...   \n",
       "\n",
       "      Topic_y                                     topic_words_y  \n",
       "1064       -1  remote, age, businesses, leaders, workers, water  "
      ]
     },
     "execution_count": 147,
     "metadata": {},
     "output_type": "execute_result"
    }
   ],
   "source": [
    "may3_train_common[may3_train_common.content_natid =='blogandpostid/blog/post/28-5380']"
   ]
  },
  {
   "cell_type": "code",
   "execution_count": null,
   "metadata": {},
   "outputs": [],
   "source": []
  },
  {
   "cell_type": "markdown",
   "metadata": {},
   "source": [
    "* **kNN**\n",
    "    * Observation - 7/12 topic assignment to articles were half/completely bad\n",
    "    * kNN is deterministic, not probabilistic. So, cant assign threshold for point belong to a clustering in an effort to improve topic assignment\n",
    "    * Decision - not going with this"
   ]
  },
  {
   "cell_type": "code",
   "execution_count": 87,
   "metadata": {},
   "outputs": [
    {
     "name": "stdout",
     "output_type": "stream",
     "text": [
      "(2415, 15)\n",
      "2415\n",
      "(1784, 15)\n",
      "1784\n",
      "(2415, 768)\n",
      "(1784, 768)\n"
     ]
    }
   ],
   "source": [
    "print(may3_nonnoise_df.shape)\n",
    "print(len(may3_nonnoise_embeds))\n",
    "print(may3_noise_df.shape) # 42% noise\n",
    "print(len(may3_noise_embeds))\n",
    "\n",
    "non_noise_stacked = pd.DataFrame(np.stack(may3_nonnoise_embeds, axis=0 ))\n",
    "print(non_noise_stacked.shape)\n",
    "\n",
    "noise_stacked = pd.DataFrame(np.stack(may3_noise_embeds, axis=0 ))\n",
    "print(noise_stacked.shape)"
   ]
  },
  {
   "cell_type": "code",
   "execution_count": 79,
   "metadata": {},
   "outputs": [
    {
     "name": "stdout",
     "output_type": "stream",
     "text": [
      "(2315, 768)\n",
      "(100, 768)\n"
     ]
    }
   ],
   "source": [
    "from sklearn.neighbors import KNeighborsClassifier\n",
    "\n",
    "x_training_data, y_training_data = non_noise_stacked.iloc[:-100,], may3_nonnoise_df.iloc[:-100, 1]\n",
    "x_test_data, y_test_data = non_noise_stacked.iloc[-100:,], may3_nonnoise_df.iloc[-100:,1]\n",
    "\n",
    "print(x_training_data.shape)\n",
    "print(x_test_data.shape)"
   ]
  },
  {
   "cell_type": "code",
   "execution_count": 85,
   "metadata": {},
   "outputs": [],
   "source": [
    "knn = KNeighborsClassifier(n_neighbors = 5)\n",
    "knn.fit(x_training_data, y_training_data)\n",
    "predictions = knn.predict(x_test_data)"
   ]
  },
  {
   "cell_type": "code",
   "execution_count": 86,
   "metadata": {},
   "outputs": [
    {
     "name": "stdout",
     "output_type": "stream",
     "text": [
      "              precision    recall  f1-score   support\n",
      "\n",
      "           9       1.00      1.00      1.00         1\n",
      "          17       0.00      0.00      0.00         0\n",
      "          22       0.00      0.00      0.00         0\n",
      "          30       1.00      1.00      1.00         3\n",
      "          35       1.00      1.00      1.00         1\n",
      "          40       0.00      0.00      0.00         1\n",
      "          41       0.50      1.00      0.67         1\n",
      "          44       0.67      1.00      0.80         4\n",
      "          47       0.00      0.00      0.00         0\n",
      "          48       0.00      0.00      0.00         2\n",
      "          55       0.00      0.00      0.00         0\n",
      "          57       1.00      1.00      1.00         2\n",
      "          60       0.00      0.00      0.00         1\n",
      "          66       1.00      1.00      1.00         1\n",
      "          68       1.00      1.00      1.00         1\n",
      "          76       0.00      0.00      0.00         0\n",
      "          77       0.00      0.00      0.00         1\n",
      "          82       1.00      0.50      0.67         2\n",
      "          85       0.00      0.00      0.00         0\n",
      "          87       0.00      0.00      0.00         1\n",
      "          92       0.00      0.00      0.00         1\n",
      "         101       0.00      0.00      0.00         0\n",
      "         102       0.00      0.00      0.00         1\n",
      "         124       1.00      0.33      0.50         3\n",
      "         127       0.00      0.00      0.00         0\n",
      "         128       1.00      1.00      1.00         1\n",
      "         130       0.00      0.00      0.00         2\n",
      "         132       1.00      1.00      1.00         3\n",
      "         134       0.00      0.00      0.00         1\n",
      "         146       1.00      1.00      1.00         1\n",
      "         150       0.00      0.00      0.00         0\n",
      "         153       0.00      0.00      0.00         0\n",
      "         178       0.00      0.00      0.00         0\n",
      "         180       0.00      0.00      0.00         1\n",
      "         181       0.00      0.00      0.00         0\n",
      "         186       1.00      1.00      1.00         1\n",
      "         187       0.00      0.00      0.00         1\n",
      "         188       0.00      0.00      0.00         1\n",
      "         190       0.50      1.00      0.67         1\n",
      "         194       0.00      0.00      0.00         0\n",
      "         195       0.00      0.00      0.00         1\n",
      "         219       0.50      1.00      0.67         1\n",
      "         224       0.00      0.00      0.00         0\n",
      "         230       0.00      0.00      0.00         1\n",
      "         243       1.00      1.00      1.00         2\n",
      "         247       1.00      1.00      1.00         1\n",
      "         248       1.00      1.00      1.00         1\n",
      "         250       0.67      0.67      0.67         6\n",
      "         251       0.00      0.00      0.00         2\n",
      "         252       0.00      0.00      0.00         1\n",
      "         255       0.00      0.00      0.00         1\n",
      "         256       0.00      0.00      0.00         1\n",
      "         257       0.50      1.00      0.67         1\n",
      "         260       0.00      0.00      0.00         0\n",
      "         261       1.00      0.20      0.33         5\n",
      "         264       0.00      0.00      0.00         1\n",
      "         265       0.00      0.00      0.00         0\n",
      "         267       0.00      0.00      0.00         1\n",
      "         268       0.00      0.00      0.00         3\n",
      "         269       0.00      0.00      0.00         1\n",
      "         271       0.33      1.00      0.50         1\n",
      "         288       0.00      0.00      0.00         1\n",
      "         293       0.17      1.00      0.29         1\n",
      "         299       0.00      0.00      0.00         1\n",
      "         300       0.00      0.00      0.00         2\n",
      "         301       0.31      1.00      0.47         4\n",
      "         302       0.00      0.00      0.00         1\n",
      "         303       0.00      0.00      0.00         1\n",
      "         305       0.00      0.00      0.00         1\n",
      "         306       0.00      0.00      0.00         1\n",
      "         310       0.00      0.00      0.00         1\n",
      "         311       0.00      0.00      0.00         3\n",
      "         313       0.50      0.57      0.53         7\n",
      "         316       1.00      1.00      1.00         1\n",
      "         317       0.00      0.00      0.00         2\n",
      "         319       0.67      1.00      0.80         2\n",
      "\n",
      "    accuracy                           0.47       100\n",
      "   macro avg       0.29      0.33      0.29       100\n",
      "weighted avg       0.45      0.47      0.42       100\n",
      "\n"
     ]
    }
   ],
   "source": [
    "from sklearn.metrics import classification_report\n",
    "from sklearn.metrics import confusion_matrix\n",
    "\n",
    "print(classification_report(y_test_data, predictions))"
   ]
  },
  {
   "cell_type": "code",
   "execution_count": 88,
   "metadata": {},
   "outputs": [],
   "source": [
    "# predict on noise points\n",
    "\n",
    "predictions_noise = knn.predict(noise_stacked) "
   ]
  },
  {
   "cell_type": "code",
   "execution_count": 91,
   "metadata": {},
   "outputs": [],
   "source": [
    "may3_noise_df['knn_predicted_topic'] = predictions_noise"
   ]
  },
  {
   "cell_type": "code",
   "execution_count": 101,
   "metadata": {},
   "outputs": [],
   "source": [
    "may3_knn_inspect = pd.merge(may3_noise_df, \n",
    "                            topic_info_may03[['topic_num', 'topic_words']], \n",
    "                            how=\"left\", \n",
    "                            left_on= \"knn_predicted_topic\",\n",
    "                            right_on=\"topic_num\")\n",
    "\n",
    "may3_knn_inspect.to_csv(\"may3_knn_inspect.csv\", index=False)"
   ]
  },
  {
   "cell_type": "code",
   "execution_count": 99,
   "metadata": {},
   "outputs": [],
   "source": []
  },
  {
   "cell_type": "markdown",
   "metadata": {},
   "source": [
    "* **k-Means**\n",
    "    * Observations - \n",
    "        * clustering quality (cosine avg+min, distinct tiers) are worst \n",
    "        * everything will be forced into a topic.\n",
    "        * number of clusters, k - will need to be tuned\n",
    "        * why not just use nmf at this point"
   ]
  },
  {
   "cell_type": "code",
   "execution_count": 102,
   "metadata": {},
   "outputs": [],
   "source": [
    "import nltk\n",
    "from nltk.cluster import KMeansClusterer\n",
    "\n",
    "NUM_CLUSTERS=10\n",
    "\n",
    "kclusterer = KMeansClusterer(NUM_CLUSTERS, \n",
    "                             distance=nltk.cluster.util.cosine_distance, \n",
    "                             repeats=25)\n",
    "\n",
    "assigned_clusters = kclusterer.cluster(may3_noise_embeds, \n",
    "                                       assign_clusters=True)"
   ]
  },
  {
   "cell_type": "code",
   "execution_count": 109,
   "metadata": {},
   "outputs": [
    {
     "data": {
      "text/html": [
       "<div>\n",
       "<style scoped>\n",
       "    .dataframe tbody tr th:only-of-type {\n",
       "        vertical-align: middle;\n",
       "    }\n",
       "\n",
       "    .dataframe tbody tr th {\n",
       "        vertical-align: top;\n",
       "    }\n",
       "\n",
       "    .dataframe thead th {\n",
       "        text-align: right;\n",
       "    }\n",
       "</style>\n",
       "<table border=\"1\" class=\"dataframe\">\n",
       "  <thead>\n",
       "    <tr style=\"text-align: right;\">\n",
       "      <th></th>\n",
       "      <th>Topic</th>\n",
       "      <th>Size</th>\n",
       "    </tr>\n",
       "  </thead>\n",
       "  <tbody>\n",
       "    <tr>\n",
       "      <th>4</th>\n",
       "      <td>4</td>\n",
       "      <td>265</td>\n",
       "    </tr>\n",
       "    <tr>\n",
       "      <th>0</th>\n",
       "      <td>0</td>\n",
       "      <td>252</td>\n",
       "    </tr>\n",
       "    <tr>\n",
       "      <th>5</th>\n",
       "      <td>5</td>\n",
       "      <td>214</td>\n",
       "    </tr>\n",
       "    <tr>\n",
       "      <th>6</th>\n",
       "      <td>6</td>\n",
       "      <td>198</td>\n",
       "    </tr>\n",
       "    <tr>\n",
       "      <th>2</th>\n",
       "      <td>2</td>\n",
       "      <td>195</td>\n",
       "    </tr>\n",
       "    <tr>\n",
       "      <th>3</th>\n",
       "      <td>3</td>\n",
       "      <td>178</td>\n",
       "    </tr>\n",
       "    <tr>\n",
       "      <th>8</th>\n",
       "      <td>8</td>\n",
       "      <td>150</td>\n",
       "    </tr>\n",
       "    <tr>\n",
       "      <th>1</th>\n",
       "      <td>1</td>\n",
       "      <td>135</td>\n",
       "    </tr>\n",
       "    <tr>\n",
       "      <th>9</th>\n",
       "      <td>9</td>\n",
       "      <td>105</td>\n",
       "    </tr>\n",
       "    <tr>\n",
       "      <th>7</th>\n",
       "      <td>7</td>\n",
       "      <td>92</td>\n",
       "    </tr>\n",
       "  </tbody>\n",
       "</table>\n",
       "</div>"
      ],
      "text/plain": [
       "   Topic  Size\n",
       "4      4   265\n",
       "0      0   252\n",
       "5      5   214\n",
       "6      6   198\n",
       "2      2   195\n",
       "3      3   178\n",
       "8      8   150\n",
       "1      1   135\n",
       "9      9   105\n",
       "7      7    92"
      ]
     },
     "execution_count": 109,
     "metadata": {},
     "output_type": "execute_result"
    }
   ],
   "source": [
    "# put topics in dataframe\n",
    "kmeans_noise_df = pd.DataFrame(may3_noise_df.Doc)\n",
    "kmeans_noise_df['Topic'] = assigned_clusters\n",
    "kmeans_noise_df['Doc_ID'] = range(len(kmeans_noise_df))\n",
    "\n",
    "# combine together all articles belonging to same cluster  \n",
    "noise_docs_per_topic = kmeans_noise_df.groupby(['Topic'], as_index = False).agg({'Doc': ' '.join})\n",
    "\n",
    "# calculate countVector and tf-idf\n",
    "tf_idf, count = c_tf_idf(noise_docs_per_topic.Doc.values, m=len(may3_noise_embeds))\n",
    "\n",
    "# top n words, topic size\n",
    "noise_top_n_words = extract_top_n_words_per_topic(tf_idf, count, noise_docs_per_topic, n=20)\n",
    "noise_topic_sizes = extract_topic_sizes(kmeans_noise_df); \n",
    "noise_topic_sizes.head(10)"
   ]
  },
  {
   "cell_type": "code",
   "execution_count": 120,
   "metadata": {},
   "outputs": [],
   "source": [
    "kmeans_noise_df.reset_index(drop=True, inplace=True)"
   ]
  },
  {
   "cell_type": "code",
   "execution_count": 124,
   "metadata": {},
   "outputs": [],
   "source": [
    "# per topic - cos_min and cos_mean\n",
    "noise_pred_cossim_df = generate_all_cossim_metrics(kmeans_noise_df, may3_noise_embeds)\n",
    "\n",
    "# per topic - tier counts\n",
    "noise_tier_metric = kmeans_noise_df.join(may3_noise_df[[\"tier1\"]])\n",
    "\n",
    "noise_iab_metric = noise_tier_metric.groupby(\"Topic\").agg({\"tier1\": \n",
    "                                               'nunique'}).round(2).reset_index().rename(columns = {'tier1': \n",
    "                                                                                                    'distinct_tier1s',\n",
    "                                                                                                    'Topic':\n",
    "                                                                                                    'topic_num'})\n",
    "\n",
    "# combine topic, top words, cos and tier metrics\n",
    "noise_topic_info_pred = pd.merge(pd.merge(noise_topic_sizes, \n",
    "                                        noise_pred_cossim_df, how=\"inner\", left_on=\"Topic\", right_on = \"topic_num\"), \n",
    "                               noise_iab_metric, on = \"topic_num\", how=\"inner\")\n",
    "\n",
    "noise_topic_info_pred.drop('Topic', axis=1, inplace=True)"
   ]
  },
  {
   "cell_type": "code",
   "execution_count": 125,
   "metadata": {},
   "outputs": [
    {
     "data": {
      "text/html": [
       "<div>\n",
       "<style scoped>\n",
       "    .dataframe tbody tr th:only-of-type {\n",
       "        vertical-align: middle;\n",
       "    }\n",
       "\n",
       "    .dataframe tbody tr th {\n",
       "        vertical-align: top;\n",
       "    }\n",
       "\n",
       "    .dataframe thead th {\n",
       "        text-align: right;\n",
       "    }\n",
       "</style>\n",
       "<table border=\"1\" class=\"dataframe\">\n",
       "  <thead>\n",
       "    <tr style=\"text-align: right;\">\n",
       "      <th></th>\n",
       "      <th>Size</th>\n",
       "      <th>topic_num</th>\n",
       "      <th>cos_min</th>\n",
       "      <th>cos_mean</th>\n",
       "      <th>distinct_tier1s</th>\n",
       "    </tr>\n",
       "  </thead>\n",
       "  <tbody>\n",
       "    <tr>\n",
       "      <th>0</th>\n",
       "      <td>265</td>\n",
       "      <td>4</td>\n",
       "      <td>0.60</td>\n",
       "      <td>0.83</td>\n",
       "      <td>23</td>\n",
       "    </tr>\n",
       "    <tr>\n",
       "      <th>1</th>\n",
       "      <td>252</td>\n",
       "      <td>0</td>\n",
       "      <td>0.48</td>\n",
       "      <td>0.85</td>\n",
       "      <td>20</td>\n",
       "    </tr>\n",
       "    <tr>\n",
       "      <th>2</th>\n",
       "      <td>214</td>\n",
       "      <td>5</td>\n",
       "      <td>0.47</td>\n",
       "      <td>0.78</td>\n",
       "      <td>22</td>\n",
       "    </tr>\n",
       "    <tr>\n",
       "      <th>3</th>\n",
       "      <td>198</td>\n",
       "      <td>6</td>\n",
       "      <td>0.49</td>\n",
       "      <td>0.80</td>\n",
       "      <td>20</td>\n",
       "    </tr>\n",
       "    <tr>\n",
       "      <th>4</th>\n",
       "      <td>195</td>\n",
       "      <td>2</td>\n",
       "      <td>0.53</td>\n",
       "      <td>0.82</td>\n",
       "      <td>18</td>\n",
       "    </tr>\n",
       "    <tr>\n",
       "      <th>5</th>\n",
       "      <td>178</td>\n",
       "      <td>3</td>\n",
       "      <td>0.47</td>\n",
       "      <td>0.82</td>\n",
       "      <td>19</td>\n",
       "    </tr>\n",
       "    <tr>\n",
       "      <th>6</th>\n",
       "      <td>150</td>\n",
       "      <td>8</td>\n",
       "      <td>0.46</td>\n",
       "      <td>0.77</td>\n",
       "      <td>21</td>\n",
       "    </tr>\n",
       "    <tr>\n",
       "      <th>7</th>\n",
       "      <td>135</td>\n",
       "      <td>1</td>\n",
       "      <td>0.61</td>\n",
       "      <td>0.84</td>\n",
       "      <td>17</td>\n",
       "    </tr>\n",
       "    <tr>\n",
       "      <th>8</th>\n",
       "      <td>105</td>\n",
       "      <td>9</td>\n",
       "      <td>0.58</td>\n",
       "      <td>0.81</td>\n",
       "      <td>11</td>\n",
       "    </tr>\n",
       "    <tr>\n",
       "      <th>9</th>\n",
       "      <td>92</td>\n",
       "      <td>7</td>\n",
       "      <td>0.46</td>\n",
       "      <td>0.76</td>\n",
       "      <td>12</td>\n",
       "    </tr>\n",
       "  </tbody>\n",
       "</table>\n",
       "</div>"
      ],
      "text/plain": [
       "   Size  topic_num  cos_min  cos_mean  distinct_tier1s\n",
       "0   265          4     0.60      0.83               23\n",
       "1   252          0     0.48      0.85               20\n",
       "2   214          5     0.47      0.78               22\n",
       "3   198          6     0.49      0.80               20\n",
       "4   195          2     0.53      0.82               18\n",
       "5   178          3     0.47      0.82               19\n",
       "6   150          8     0.46      0.77               21\n",
       "7   135          1     0.61      0.84               17\n",
       "8   105          9     0.58      0.81               11\n",
       "9    92          7     0.46      0.76               12"
      ]
     },
     "execution_count": 125,
     "metadata": {},
     "output_type": "execute_result"
    }
   ],
   "source": [
    "noise_topic_info_pred"
   ]
  },
  {
   "cell_type": "code",
   "execution_count": 110,
   "metadata": {},
   "outputs": [
    {
     "data": {
      "text/html": [
       "<div>\n",
       "<style scoped>\n",
       "    .dataframe tbody tr th:only-of-type {\n",
       "        vertical-align: middle;\n",
       "    }\n",
       "\n",
       "    .dataframe tbody tr th {\n",
       "        vertical-align: top;\n",
       "    }\n",
       "\n",
       "    .dataframe thead th {\n",
       "        text-align: right;\n",
       "    }\n",
       "</style>\n",
       "<table border=\"1\" class=\"dataframe\">\n",
       "  <thead>\n",
       "    <tr style=\"text-align: right;\">\n",
       "      <th></th>\n",
       "      <th>0</th>\n",
       "      <th>1</th>\n",
       "      <th>2</th>\n",
       "      <th>3</th>\n",
       "      <th>4</th>\n",
       "      <th>5</th>\n",
       "      <th>6</th>\n",
       "      <th>7</th>\n",
       "      <th>8</th>\n",
       "      <th>9</th>\n",
       "    </tr>\n",
       "  </thead>\n",
       "  <tbody>\n",
       "    <tr>\n",
       "      <th>0</th>\n",
       "      <td>(don, 0.0012086216745176561)</td>\n",
       "      <td>(irs, 0.0028177203797904965)</td>\n",
       "      <td>(net worth, 0.002286344541014765)</td>\n",
       "      <td>(inflation, 0.0014140840382882765)</td>\n",
       "      <td>(ai, 0.0013611001855052336)</td>\n",
       "      <td>(earth, 0.0014566953970797263)</td>\n",
       "      <td>(beach, 0.0015299901593467064)</td>\n",
       "      <td>(pillow, 0.0033101584046744854)</td>\n",
       "      <td>(vaccinated, 0.0022171651606250884)</td>\n",
       "      <td>(iphone, 0.004452072591976082)</td>\n",
       "    </tr>\n",
       "    <tr>\n",
       "      <th>1</th>\n",
       "      <td>(leadership, 0.0011410546296701425)</td>\n",
       "      <td>(ira, 0.002351319827655682)</td>\n",
       "      <td>(net, 0.0020034325088889504)</td>\n",
       "      <td>(wage, 0.0013700874750218854)</td>\n",
       "      <td>(organizations, 0.001090494885492615)</td>\n",
       "      <td>(virus, 0.0013548941187885417)</td>\n",
       "      <td>(hotel, 0.0010008125339550536)</td>\n",
       "      <td>(filter, 0.002676214415408418)</td>\n",
       "      <td>(vaccine, 0.002073860044067251)</td>\n",
       "      <td>(pro, 0.004136713404644501)</td>\n",
       "    </tr>\n",
       "    <tr>\n",
       "      <th>2</th>\n",
       "      <td>(leaders, 0.0010753908417903257)</td>\n",
       "      <td>(retirement, 0.00213009736128854)</td>\n",
       "      <td>(billionaires, 0.0018789416978568269)</td>\n",
       "      <td>(prices, 0.0013619669338652306)</td>\n",
       "      <td>(learning, 0.0010146641658090136)</td>\n",
       "      <td>(mosquitoes, 0.001304011945227922)</td>\n",
       "      <td>(music, 0.0009160927887861706)</td>\n",
       "      <td>(water, 0.002582971523603756)</td>\n",
       "      <td>(trump, 0.0019769527733516992)</td>\n",
       "      <td>(apple, 0.004001062604106878)</td>\n",
       "    </tr>\n",
       "    <tr>\n",
       "      <th>3</th>\n",
       "      <td>(career, 0.0010534387134579245)</td>\n",
       "      <td>(taxpayers, 0.002066806514894857)</td>\n",
       "      <td>(richest, 0.0017863978227166592)</td>\n",
       "      <td>(unemployment, 0.0012424968420053641)</td>\n",
       "      <td>(social media, 0.0010052571721196153)</td>\n",
       "      <td>(moon, 0.0011992398609071868)</td>\n",
       "      <td>(austin, 0.0008651069623177032)</td>\n",
       "      <td>(vacuum, 0.002353213519616822)</td>\n",
       "      <td>(quarantine, 0.0018924025736730883)</td>\n",
       "      <td>(macbook, 0.003570457972422559)</td>\n",
       "    </tr>\n",
       "    <tr>\n",
       "      <th>4</th>\n",
       "      <td>(leader, 0.0010344439690431776)</td>\n",
       "      <td>(roth, 0.0019532373719447545)</td>\n",
       "      <td>(worth billion, 0.001709160831200965)</td>\n",
       "      <td>(crypto, 0.0012082250185500721)</td>\n",
       "      <td>(customer, 0.0010018295420203438)</td>\n",
       "      <td>(sun, 0.001092932163406614)</td>\n",
       "      <td>(tech, 0.0008525219913118083)</td>\n",
       "      <td>(sleep, 0.002347405884338635)</td>\n",
       "      <td>(restrictions, 0.0017379352410054395)</td>\n",
       "      <td>(ios, 0.003533651911752735)</td>\n",
       "    </tr>\n",
       "    <tr>\n",
       "      <th>5</th>\n",
       "      <td>(thoughts, 0.000991692478135484)</td>\n",
       "      <td>(social security, 0.0019159075825749977)</td>\n",
       "      <td>(student loan, 0.0016502861801174192)</td>\n",
       "      <td>(economic, 0.001193622504777082)</td>\n",
       "      <td>(cloud, 0.000977846899639783)</td>\n",
       "      <td>(planet, 0.0010811179623982736)</td>\n",
       "      <td>(fashion, 0.0008414171565477092)</td>\n",
       "      <td>(towels, 0.002169019444354322)</td>\n",
       "      <td>(biden, 0.0016900765400542294)</td>\n",
       "      <td>(ipad, 0.003143304527464444)</td>\n",
       "    </tr>\n",
       "    <tr>\n",
       "      <th>6</th>\n",
       "      <td>(ve, 0.0009850874938777336)</td>\n",
       "      <td>(stimulus, 0.0019133995360308645)</td>\n",
       "      <td>(worth, 0.0014829413039990158)</td>\n",
       "      <td>(economy, 0.001187949266040522)</td>\n",
       "      <td>(organization, 0.0009296063131247484)</td>\n",
       "      <td>(disease, 0.001001629335418078)</td>\n",
       "      <td>(bay, 0.0008398446138758186)</td>\n",
       "      <td>(neck, 0.0021358624133981166)</td>\n",
       "      <td>(canada, 0.0016611952631038096)</td>\n",
       "      <td>(m1, 0.0029962807877275486)</td>\n",
       "    </tr>\n",
       "    <tr>\n",
       "      <th>7</th>\n",
       "      <td>(trust, 0.0009450136103316223)</td>\n",
       "      <td>(eligible, 0.0019124048672120868)</td>\n",
       "      <td>(student, 0.0014177546441071463)</td>\n",
       "      <td>(bitcoin, 0.0011726847534052412)</td>\n",
       "      <td>(workplace, 0.0009212064221199329)</td>\n",
       "      <td>(game, 0.0009920895259316)</td>\n",
       "      <td>(lord, 0.0008196924504885529)</td>\n",
       "      <td>(crate, 0.0021134333673369834)</td>\n",
       "      <td>(airport, 0.0016395560858052667)</td>\n",
       "      <td>(windows, 0.0028114456733263947)</td>\n",
       "    </tr>\n",
       "    <tr>\n",
       "      <th>8</th>\n",
       "      <td>(emotional, 0.0009414285861195855)</td>\n",
       "      <td>(deduction, 0.001872835591619283)</td>\n",
       "      <td>(billionaire, 0.0014018473741804216)</td>\n",
       "      <td>(minimum wage, 0.0010826560697438543)</td>\n",
       "      <td>(content, 0.0008950876614167674)</td>\n",
       "      <td>(tyler, 0.000989008743673141)</td>\n",
       "      <td>(luxury, 0.0007851077407325215)</td>\n",
       "      <td>(duvet, 0.001978163931145302)</td>\n",
       "      <td>(travelers, 0.0015991748158982956)</td>\n",
       "      <td>(xbox, 0.0028001064549117607)</td>\n",
       "    </tr>\n",
       "    <tr>\n",
       "      <th>9</th>\n",
       "      <td>(successful, 0.0009325239609578007)</td>\n",
       "      <td>(taxes, 0.0018517205882075019)</td>\n",
       "      <td>(borrowers, 0.0013700109384351918)</td>\n",
       "      <td>(rates, 0.0010668273413727758)</td>\n",
       "      <td>(transformation, 0.0008883359065880356)</td>\n",
       "      <td>(games, 0.0009828043193165965)</td>\n",
       "      <td>(island, 0.0007642775120882043)</td>\n",
       "      <td>(air, 0.0018562992852294961)</td>\n",
       "      <td>(vaccines, 0.0015654359133520572)</td>\n",
       "      <td>(4k, 0.0026264215837692607)</td>\n",
       "    </tr>\n",
       "    <tr>\n",
       "      <th>10</th>\n",
       "      <td>(success, 0.0009265678218989026)</td>\n",
       "      <td>(expenses, 0.0018221836482561129)</td>\n",
       "      <td>(debt, 0.0013369120965960753)</td>\n",
       "      <td>(investors, 0.0010396497040878825)</td>\n",
       "      <td>(marketing, 0.0008738032871695529)</td>\n",
       "      <td>(evidence, 0.0009266671753483291)</td>\n",
       "      <td>(summer, 0.0007605184743133357)</td>\n",
       "      <td>(vitamin, 0.0018129669404300206)</td>\n",
       "      <td>(countries, 0.0015452931812754347)</td>\n",
       "      <td>(airpods, 0.0026138638183086393)</td>\n",
       "    </tr>\n",
       "    <tr>\n",
       "      <th>11</th>\n",
       "      <td>(ask, 0.0009163132762745701)</td>\n",
       "      <td>(buyer, 0.0018016036780176073)</td>\n",
       "      <td>(filed, 0.0012826359879584714)</td>\n",
       "      <td>(mining, 0.0010270552095353242)</td>\n",
       "      <td>(supply chain, 0.0008720356380624406)</td>\n",
       "      <td>(species, 0.0009159067904863354)</td>\n",
       "      <td>(cio, 0.0007588650363982918)</td>\n",
       "      <td>(mower, 0.0017994614687342266)</td>\n",
       "      <td>(fully vaccinated, 0.0014818535806878953)</td>\n",
       "      <td>(update, 0.002568534075791453)</td>\n",
       "    </tr>\n",
       "    <tr>\n",
       "      <th>12</th>\n",
       "      <td>(feeling, 0.0008957716466871608)</td>\n",
       "      <td>(insurance, 0.0018012035795828118)</td>\n",
       "      <td>(fortune, 0.00120603399672803)</td>\n",
       "      <td>(cryptocurrency, 0.001015915581790619)</td>\n",
       "      <td>(processes, 0.0008712320975583504)</td>\n",
       "      <td>(sars, 0.000881113716492485)</td>\n",
       "      <td>(cannabis, 0.0007582364515441682)</td>\n",
       "      <td>(pain, 0.0017870476353380755)</td>\n",
       "      <td>(test, 0.0014623090576160703)</td>\n",
       "      <td>(apps, 0.0025602080366792985)</td>\n",
       "    </tr>\n",
       "    <tr>\n",
       "      <th>13</th>\n",
       "      <td>(happiness, 0.0008874975489522333)</td>\n",
       "      <td>(loan, 0.001738772615967869)</td>\n",
       "      <td>(wealth, 0.0011989406985661987)</td>\n",
       "      <td>(snowflake, 0.0010102045814210764)</td>\n",
       "      <td>(digital, 0.0008680608690811798)</td>\n",
       "      <td>(infected, 0.0008702941955221201)</td>\n",
       "      <td>(city, 0.0007573916882867412)</td>\n",
       "      <td>(foam, 0.0017606949042503143)</td>\n",
       "      <td>(eu, 0.0014617654953089766)</td>\n",
       "      <td>(ios 14, 0.0025141758294502884)</td>\n",
       "    </tr>\n",
       "    <tr>\n",
       "      <th>14</th>\n",
       "      <td>(brain, 0.0008870078672988771)</td>\n",
       "      <td>(credit, 0.0017168051478029121)</td>\n",
       "      <td>(bezos, 0.0011923110313637908)</td>\n",
       "      <td>(percent, 0.000983406944723997)</td>\n",
       "      <td>(insights, 0.0008455551780063779)</td>\n",
       "      <td>(black, 0.0008500842634022384)</td>\n",
       "      <td>(stores, 0.0007549432837736762)</td>\n",
       "      <td>(dog, 0.0017385681973288462)</td>\n",
       "      <td>(police, 0.0013579440229613351)</td>\n",
       "      <td>(camera, 0.0024762846199899925)</td>\n",
       "    </tr>\n",
       "    <tr>\n",
       "      <th>15</th>\n",
       "      <td>(communication, 0.0008822739842422105)</td>\n",
       "      <td>(filing, 0.0017162991481330062)</td>\n",
       "      <td>(loan debt, 0.0011755556510159863)</td>\n",
       "      <td>(housing, 0.0009637552146949853)</td>\n",
       "      <td>(website, 0.000821539821322532)</td>\n",
       "      <td>(players, 0.0008252982303615584)</td>\n",
       "      <td>(lights, 0.0007535024490594012)</td>\n",
       "      <td>(massage, 0.0016855469155944726)</td>\n",
       "      <td>(republicans, 0.0013336682226191058)</td>\n",
       "      <td>(app, 0.0024548745073988084)</td>\n",
       "    </tr>\n",
       "    <tr>\n",
       "      <th>16</th>\n",
       "      <td>(thinking, 0.0008789123544734272)</td>\n",
       "      <td>(payment, 0.0016897949961813662)</td>\n",
       "      <td>(bitcoin, 0.00117456786446587)</td>\n",
       "      <td>(stocks, 0.0009518116300918297)</td>\n",
       "      <td>(media, 0.0008202203943359684)</td>\n",
       "      <td>(respiratory, 0.000816677571198564)</td>\n",
       "      <td>(northern lights, 0.0007317377866621412)</td>\n",
       "      <td>(inches, 0.0016841596014848315)</td>\n",
       "      <td>(vaccination, 0.0012736380524685734)</td>\n",
       "      <td>(laptop, 0.0024295194699818653)</td>\n",
       "    </tr>\n",
       "    <tr>\n",
       "      <th>17</th>\n",
       "      <td>(colleagues, 0.0008703804893139802)</td>\n",
       "      <td>(property, 0.0016887761890618934)</td>\n",
       "      <td>(loan, 0.0011400771839595604)</td>\n",
       "      <td>(gates, 0.0009376501139330482)</td>\n",
       "      <td>(culture, 0.0008119088876617096)</td>\n",
       "      <td>(character, 0.0008039231707337889)</td>\n",
       "      <td>(vacation, 0.0007270617371684135)</td>\n",
       "      <td>(clean, 0.0016692538374484072)</td>\n",
       "      <td>(cruise, 0.00126250373467239)</td>\n",
       "      <td>(iphone 12, 0.0024205383882023443)</td>\n",
       "    </tr>\n",
       "    <tr>\n",
       "      <th>18</th>\n",
       "      <td>(stress, 0.0008694650758245379)</td>\n",
       "      <td>(ppp, 0.0016818160189015089)</td>\n",
       "      <td>(largest, 0.001135815280051559)</td>\n",
       "      <td>(price, 0.0009034070044796183)</td>\n",
       "      <td>(virtual, 0.000810010588103329)</td>\n",
       "      <td>(infection, 0.0007972256693735768)</td>\n",
       "      <td>(northern, 0.0007189761745016174)</td>\n",
       "      <td>(bath, 0.0016474198176713104)</td>\n",
       "      <td>(country, 0.0012624759481638457)</td>\n",
       "      <td>(screen, 0.002333729887275132)</td>\n",
       "    </tr>\n",
       "    <tr>\n",
       "      <th>19</th>\n",
       "      <td>(questions, 0.0008637147147453816)</td>\n",
       "      <td>(401, 0.0016509397565319984)</td>\n",
       "      <td>(stake, 0.0011312349584348092)</td>\n",
       "      <td>(workers, 0.0008846803392871896)</td>\n",
       "      <td>(tools, 0.0008051230181816251)</td>\n",
       "      <td>(planets, 0.000785833309593354)</td>\n",
       "      <td>(community, 0.0007157615048882084)</td>\n",
       "      <td>(treadmill, 0.001640355033596432)</td>\n",
       "      <td>(violence, 0.0011899268788260013)</td>\n",
       "      <td>(samsung, 0.002314128326705181)</td>\n",
       "    </tr>\n",
       "  </tbody>\n",
       "</table>\n",
       "</div>"
      ],
      "text/plain": [
       "                                         0  \\\n",
       "0             (don, 0.0012086216745176561)   \n",
       "1      (leadership, 0.0011410546296701425)   \n",
       "2         (leaders, 0.0010753908417903257)   \n",
       "3          (career, 0.0010534387134579245)   \n",
       "4          (leader, 0.0010344439690431776)   \n",
       "5         (thoughts, 0.000991692478135484)   \n",
       "6              (ve, 0.0009850874938777336)   \n",
       "7           (trust, 0.0009450136103316223)   \n",
       "8       (emotional, 0.0009414285861195855)   \n",
       "9      (successful, 0.0009325239609578007)   \n",
       "10        (success, 0.0009265678218989026)   \n",
       "11            (ask, 0.0009163132762745701)   \n",
       "12        (feeling, 0.0008957716466871608)   \n",
       "13      (happiness, 0.0008874975489522333)   \n",
       "14          (brain, 0.0008870078672988771)   \n",
       "15  (communication, 0.0008822739842422105)   \n",
       "16       (thinking, 0.0008789123544734272)   \n",
       "17     (colleagues, 0.0008703804893139802)   \n",
       "18         (stress, 0.0008694650758245379)   \n",
       "19      (questions, 0.0008637147147453816)   \n",
       "\n",
       "                                           1  \\\n",
       "0               (irs, 0.0028177203797904965)   \n",
       "1                (ira, 0.002351319827655682)   \n",
       "2          (retirement, 0.00213009736128854)   \n",
       "3          (taxpayers, 0.002066806514894857)   \n",
       "4              (roth, 0.0019532373719447545)   \n",
       "5   (social security, 0.0019159075825749977)   \n",
       "6          (stimulus, 0.0019133995360308645)   \n",
       "7          (eligible, 0.0019124048672120868)   \n",
       "8          (deduction, 0.001872835591619283)   \n",
       "9             (taxes, 0.0018517205882075019)   \n",
       "10         (expenses, 0.0018221836482561129)   \n",
       "11            (buyer, 0.0018016036780176073)   \n",
       "12        (insurance, 0.0018012035795828118)   \n",
       "13              (loan, 0.001738772615967869)   \n",
       "14           (credit, 0.0017168051478029121)   \n",
       "15           (filing, 0.0017162991481330062)   \n",
       "16          (payment, 0.0016897949961813662)   \n",
       "17         (property, 0.0016887761890618934)   \n",
       "18              (ppp, 0.0016818160189015089)   \n",
       "19              (401, 0.0016509397565319984)   \n",
       "\n",
       "                                        2  \\\n",
       "0       (net worth, 0.002286344541014765)   \n",
       "1            (net, 0.0020034325088889504)   \n",
       "2   (billionaires, 0.0018789416978568269)   \n",
       "3        (richest, 0.0017863978227166592)   \n",
       "4   (worth billion, 0.001709160831200965)   \n",
       "5   (student loan, 0.0016502861801174192)   \n",
       "6          (worth, 0.0014829413039990158)   \n",
       "7        (student, 0.0014177546441071463)   \n",
       "8    (billionaire, 0.0014018473741804216)   \n",
       "9      (borrowers, 0.0013700109384351918)   \n",
       "10          (debt, 0.0013369120965960753)   \n",
       "11         (filed, 0.0012826359879584714)   \n",
       "12         (fortune, 0.00120603399672803)   \n",
       "13        (wealth, 0.0011989406985661987)   \n",
       "14         (bezos, 0.0011923110313637908)   \n",
       "15     (loan debt, 0.0011755556510159863)   \n",
       "16         (bitcoin, 0.00117456786446587)   \n",
       "17          (loan, 0.0011400771839595604)   \n",
       "18        (largest, 0.001135815280051559)   \n",
       "19         (stake, 0.0011312349584348092)   \n",
       "\n",
       "                                         3  \\\n",
       "0       (inflation, 0.0014140840382882765)   \n",
       "1            (wage, 0.0013700874750218854)   \n",
       "2          (prices, 0.0013619669338652306)   \n",
       "3    (unemployment, 0.0012424968420053641)   \n",
       "4          (crypto, 0.0012082250185500721)   \n",
       "5         (economic, 0.001193622504777082)   \n",
       "6          (economy, 0.001187949266040522)   \n",
       "7         (bitcoin, 0.0011726847534052412)   \n",
       "8    (minimum wage, 0.0010826560697438543)   \n",
       "9           (rates, 0.0010668273413727758)   \n",
       "10      (investors, 0.0010396497040878825)   \n",
       "11         (mining, 0.0010270552095353242)   \n",
       "12  (cryptocurrency, 0.001015915581790619)   \n",
       "13      (snowflake, 0.0010102045814210764)   \n",
       "14         (percent, 0.000983406944723997)   \n",
       "15        (housing, 0.0009637552146949853)   \n",
       "16         (stocks, 0.0009518116300918297)   \n",
       "17          (gates, 0.0009376501139330482)   \n",
       "18          (price, 0.0009034070044796183)   \n",
       "19        (workers, 0.0008846803392871896)   \n",
       "\n",
       "                                          4  \\\n",
       "0               (ai, 0.0013611001855052336)   \n",
       "1     (organizations, 0.001090494885492615)   \n",
       "2         (learning, 0.0010146641658090136)   \n",
       "3     (social media, 0.0010052571721196153)   \n",
       "4         (customer, 0.0010018295420203438)   \n",
       "5             (cloud, 0.000977846899639783)   \n",
       "6     (organization, 0.0009296063131247484)   \n",
       "7        (workplace, 0.0009212064221199329)   \n",
       "8          (content, 0.0008950876614167674)   \n",
       "9   (transformation, 0.0008883359065880356)   \n",
       "10       (marketing, 0.0008738032871695529)   \n",
       "11    (supply chain, 0.0008720356380624406)   \n",
       "12       (processes, 0.0008712320975583504)   \n",
       "13         (digital, 0.0008680608690811798)   \n",
       "14        (insights, 0.0008455551780063779)   \n",
       "15          (website, 0.000821539821322532)   \n",
       "16           (media, 0.0008202203943359684)   \n",
       "17         (culture, 0.0008119088876617096)   \n",
       "18          (virtual, 0.000810010588103329)   \n",
       "19           (tools, 0.0008051230181816251)   \n",
       "\n",
       "                                      5  \\\n",
       "0        (earth, 0.0014566953970797263)   \n",
       "1        (virus, 0.0013548941187885417)   \n",
       "2    (mosquitoes, 0.001304011945227922)   \n",
       "3         (moon, 0.0011992398609071868)   \n",
       "4           (sun, 0.001092932163406614)   \n",
       "5       (planet, 0.0010811179623982736)   \n",
       "6       (disease, 0.001001629335418078)   \n",
       "7            (game, 0.0009920895259316)   \n",
       "8         (tyler, 0.000989008743673141)   \n",
       "9        (games, 0.0009828043193165965)   \n",
       "10    (evidence, 0.0009266671753483291)   \n",
       "11     (species, 0.0009159067904863354)   \n",
       "12         (sars, 0.000881113716492485)   \n",
       "13    (infected, 0.0008702941955221201)   \n",
       "14       (black, 0.0008500842634022384)   \n",
       "15     (players, 0.0008252982303615584)   \n",
       "16  (respiratory, 0.000816677571198564)   \n",
       "17   (character, 0.0008039231707337889)   \n",
       "18   (infection, 0.0007972256693735768)   \n",
       "19      (planets, 0.000785833309593354)   \n",
       "\n",
       "                                           6  \\\n",
       "0             (beach, 0.0015299901593467064)   \n",
       "1             (hotel, 0.0010008125339550536)   \n",
       "2             (music, 0.0009160927887861706)   \n",
       "3            (austin, 0.0008651069623177032)   \n",
       "4              (tech, 0.0008525219913118083)   \n",
       "5           (fashion, 0.0008414171565477092)   \n",
       "6               (bay, 0.0008398446138758186)   \n",
       "7              (lord, 0.0008196924504885529)   \n",
       "8            (luxury, 0.0007851077407325215)   \n",
       "9            (island, 0.0007642775120882043)   \n",
       "10           (summer, 0.0007605184743133357)   \n",
       "11              (cio, 0.0007588650363982918)   \n",
       "12         (cannabis, 0.0007582364515441682)   \n",
       "13             (city, 0.0007573916882867412)   \n",
       "14           (stores, 0.0007549432837736762)   \n",
       "15           (lights, 0.0007535024490594012)   \n",
       "16  (northern lights, 0.0007317377866621412)   \n",
       "17         (vacation, 0.0007270617371684135)   \n",
       "18         (northern, 0.0007189761745016174)   \n",
       "19        (community, 0.0007157615048882084)   \n",
       "\n",
       "                                    7  \\\n",
       "0     (pillow, 0.0033101584046744854)   \n",
       "1      (filter, 0.002676214415408418)   \n",
       "2       (water, 0.002582971523603756)   \n",
       "3      (vacuum, 0.002353213519616822)   \n",
       "4       (sleep, 0.002347405884338635)   \n",
       "5      (towels, 0.002169019444354322)   \n",
       "6       (neck, 0.0021358624133981166)   \n",
       "7      (crate, 0.0021134333673369834)   \n",
       "8       (duvet, 0.001978163931145302)   \n",
       "9        (air, 0.0018562992852294961)   \n",
       "10   (vitamin, 0.0018129669404300206)   \n",
       "11     (mower, 0.0017994614687342266)   \n",
       "12      (pain, 0.0017870476353380755)   \n",
       "13      (foam, 0.0017606949042503143)   \n",
       "14       (dog, 0.0017385681973288462)   \n",
       "15   (massage, 0.0016855469155944726)   \n",
       "16    (inches, 0.0016841596014848315)   \n",
       "17     (clean, 0.0016692538374484072)   \n",
       "18      (bath, 0.0016474198176713104)   \n",
       "19  (treadmill, 0.001640355033596432)   \n",
       "\n",
       "                                            8  \\\n",
       "0         (vaccinated, 0.0022171651606250884)   \n",
       "1             (vaccine, 0.002073860044067251)   \n",
       "2              (trump, 0.0019769527733516992)   \n",
       "3         (quarantine, 0.0018924025736730883)   \n",
       "4       (restrictions, 0.0017379352410054395)   \n",
       "5              (biden, 0.0016900765400542294)   \n",
       "6             (canada, 0.0016611952631038096)   \n",
       "7            (airport, 0.0016395560858052667)   \n",
       "8          (travelers, 0.0015991748158982956)   \n",
       "9           (vaccines, 0.0015654359133520572)   \n",
       "10         (countries, 0.0015452931812754347)   \n",
       "11  (fully vaccinated, 0.0014818535806878953)   \n",
       "12              (test, 0.0014623090576160703)   \n",
       "13                (eu, 0.0014617654953089766)   \n",
       "14            (police, 0.0013579440229613351)   \n",
       "15       (republicans, 0.0013336682226191058)   \n",
       "16       (vaccination, 0.0012736380524685734)   \n",
       "17              (cruise, 0.00126250373467239)   \n",
       "18           (country, 0.0012624759481638457)   \n",
       "19          (violence, 0.0011899268788260013)   \n",
       "\n",
       "                                     9  \n",
       "0       (iphone, 0.004452072591976082)  \n",
       "1          (pro, 0.004136713404644501)  \n",
       "2        (apple, 0.004001062604106878)  \n",
       "3      (macbook, 0.003570457972422559)  \n",
       "4          (ios, 0.003533651911752735)  \n",
       "5         (ipad, 0.003143304527464444)  \n",
       "6          (m1, 0.0029962807877275486)  \n",
       "7     (windows, 0.0028114456733263947)  \n",
       "8        (xbox, 0.0028001064549117607)  \n",
       "9          (4k, 0.0026264215837692607)  \n",
       "10    (airpods, 0.0026138638183086393)  \n",
       "11      (update, 0.002568534075791453)  \n",
       "12       (apps, 0.0025602080366792985)  \n",
       "13     (ios 14, 0.0025141758294502884)  \n",
       "14     (camera, 0.0024762846199899925)  \n",
       "15        (app, 0.0024548745073988084)  \n",
       "16     (laptop, 0.0024295194699818653)  \n",
       "17  (iphone 12, 0.0024205383882023443)  \n",
       "18      (screen, 0.002333729887275132)  \n",
       "19     (samsung, 0.002314128326705181)  "
      ]
     },
     "execution_count": 110,
     "metadata": {},
     "output_type": "execute_result"
    }
   ],
   "source": [
    "pd.DataFrame(noise_top_n_words)"
   ]
  }
 ],
 "metadata": {
  "environment": {
   "name": "tf2-2-3-gpu.2-3.m59",
   "type": "gcloud",
   "uri": "gcr.io/deeplearning-platform-release/tf2-2-3-gpu.2-3:m59"
  },
  "kernelspec": {
   "display_name": "topics-env-latest",
   "language": "python",
   "name": "topics-env-latest"
  },
  "language_info": {
   "codemirror_mode": {
    "name": "ipython",
    "version": 3
   },
   "file_extension": ".py",
   "mimetype": "text/x-python",
   "name": "python",
   "nbconvert_exporter": "python",
   "pygments_lexer": "ipython3",
   "version": "3.7.8"
  }
 },
 "nbformat": 4,
 "nbformat_minor": 4
}
