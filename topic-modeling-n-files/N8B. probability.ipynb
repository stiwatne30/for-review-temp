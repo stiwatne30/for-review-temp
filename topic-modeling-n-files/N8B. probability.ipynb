{
 "cells": [
  {
   "cell_type": "markdown",
   "metadata": {},
   "source": [
    "* Discussions - \n",
    "    * check feasibility of a model trained once and able to predict (like train every 7 days). If not - we can train everyday. \n",
    "    * Intent of predicting topics is it to show say pvs last week for a topic vs this week. How far out such comparisons need to be made? -- that will decide the date range of training and prediction -- a week is good strat\n",
    "    * Keep topic words same but test with lesser number of words\n",
    "    * Not every article needs to be assigned to a topic. so noise part of hdbscan is fine\n",
    "\n",
    "**Data product options:**\n",
    "\n",
    "* Technique 1 - train every 7 days\n",
    "    * PART 1: Check if day-of-week = Monday :: \n",
    "        * Take past 7 days (apr 26 till may 02)\n",
    "        * Train & store file\n",
    "        * Get yesterday's topics (may 02) and save that 1 day\n",
    "        \n",
    "    * PART 2: Else ::\n",
    "        * Take yesterday's eligible articles\n",
    "        * Use the saved cluster file and predict\n",
    "        * save that 1 day\n",
    "        * Part 2 will be repeated from tues till sunday of a week\n",
    "        \n",
    "    * When loop progresses to day = Monday, execute Part 1, then Part 2 and loop goes on \n",
    "    \n",
    "Note: \n",
    "* Caveat - We are training on articles which already have labels (through prediction).   \n",
    "* Save embeddings - so repeating ones need not be calculated. Plus, they can be used as features in other projects"
   ]
  },
  {
   "cell_type": "markdown",
   "metadata": {},
   "source": [
    "**Environment issue**:\n",
    "* On 6/11/2021 upgrading transformers messed up the environment (topics). Recreated using req.txt (called topics-env).\n",
    "* Imp point to note - for umap, hdbcsan to work, numba>-0.50.x Added this to the req.txt\n",
    "* transformers library version = 4.3.2 -- add this during deployment if going with topic summarization\n",
    "* Not deleting topics environment, in case other working library versions need to be consulted "
   ]
  },
  {
   "cell_type": "code",
   "execution_count": 1,
   "metadata": {},
   "outputs": [],
   "source": [
    "\"\"\" Helper imports\"\"\"\n",
    "import re\n",
    "import joblib\n",
    "import pandas as pd\n",
    "import numpy as np\n",
    "from time import time\n",
    "from nltk.tokenize import sent_tokenize\n",
    "from joblib import Parallel, delayed\n",
    "from sklearn.metrics.pairwise import cosine_similarity\n",
    "\n",
    "\"\"\"Modeling imports\"\"\"\n",
    "from sklearn.decomposition import NMF\n",
    "from sklearn.feature_extraction.text import TfidfVectorizer\n",
    "from sklearn.feature_extraction.text import CountVectorizer\n",
    "from gensim.models.coherencemodel import CoherenceModel\n",
    "from gensim.corpora.dictionary import Dictionary\n",
    "from gensim.models.nmf import Nmf\n",
    "\n",
    "\"\"\" Plotting imports\"\"\"\n",
    "import matplotlib.pyplot as plt\n",
    "%matplotlib inline\n",
    "import seaborn as sns\n",
    "sns.set_style('darkgrid')\n",
    "\n",
    "# remove this later\n",
    "pd.set_option('max_colwidth', 110)\n",
    "import warnings\n",
    "warnings.filterwarnings('ignore')"
   ]
  },
  {
   "cell_type": "markdown",
   "metadata": {},
   "source": [
    "### Competitor research:\n",
    "* WSJ uses HDBSCAN - https://medium.com/the-wall-street-journal/staying-on-topic-building-an-automated-topic-model-of-wsj-news-coverage-d4dc4369f71b"
   ]
  },
  {
   "cell_type": "code",
   "execution_count": 2,
   "metadata": {},
   "outputs": [],
   "source": [
    "from src.util import (c_tf_idf, \n",
    "                      extract_top_n_words_per_topic,\n",
    "                      extract_topic_sizes,\n",
    "                      topic_cos_sim_metrics,\n",
    "                      generate_all_cossim_metrics)"
   ]
  },
  {
   "cell_type": "code",
   "execution_count": 3,
   "metadata": {},
   "outputs": [],
   "source": [
    "import umap\n",
    "import hdbscan\n",
    "from sentence_transformers import SentenceTransformer\n",
    "from hdbscan import validity_index"
   ]
  },
  {
   "cell_type": "code",
   "execution_count": 4,
   "metadata": {},
   "outputs": [
    {
     "data": {
      "text/plain": [
       "True"
      ]
     },
     "execution_count": 4,
     "metadata": {},
     "output_type": "execute_result"
    }
   ],
   "source": [
    "data_path = '/home/jupyter/bi-topic-modeling/data/' \n",
    "\n",
    "STOP_WORDS = pd.read_pickle(data_path + 'forbes_stop_words.pkl')\n",
    "\"q1\" in STOP_WORDS"
   ]
  },
  {
   "cell_type": "code",
   "execution_count": 5,
   "metadata": {},
   "outputs": [],
   "source": [
    "results_path = '/home/jupyter/bi-topic-modeling/results/' \n",
    "SEED = 42"
   ]
  },
  {
   "cell_type": "markdown",
   "metadata": {},
   "source": [
    "### --- Data ---\n",
    "\n",
    "* Train date range Apr 26 (monday) till May 02 (sunday)\n",
    "* Eligible pool = articles with pvs > 100 on a given day"
   ]
  },
  {
   "cell_type": "code",
   "execution_count": 6,
   "metadata": {},
   "outputs": [],
   "source": [
    "def get_data(file_name):\n",
    "    \n",
    "    df = pd.read_csv(data_path + file_name)\n",
    "\n",
    "    print(\"Before Shape:\", df.shape)\n",
    "    print(\"Unique tiers:\", len(df.tier1.unique()))\n",
    "    \n",
    "    # Per verdict from EDA, exclude articles less than 100 words\n",
    "    df[\"article_length\"] = df.clean_body.str.split().apply(len)\n",
    "    df = df[df[\"article_length\"]>=100]\n",
    "    print(\"After Shape:\", df.shape)\n",
    "    \n",
    "    df.tier1 = df.tier1.fillna('Other')\n",
    "    df = df.reset_index(drop=True)\n",
    "    \n",
    "    return df"
   ]
  },
  {
   "cell_type": "code",
   "execution_count": 7,
   "metadata": {},
   "outputs": [
    {
     "name": "stdout",
     "output_type": "stream",
     "text": [
      "--- apr 25 ---\n",
      "Before Shape: (3334, 10)\n",
      "Unique tiers: 31\n",
      "After Shape: (3327, 11)\n",
      "Embeds len: 3327\n",
      "\n",
      "--- apr 26 ---\n",
      "Before Shape: (4138, 10)\n",
      "Unique tiers: 31\n",
      "After Shape: (4128, 11)\n",
      "Embeds len: 4128\n",
      "\n",
      "--- apr 27 ---\n",
      "Before Shape: (4177, 10)\n",
      "Unique tiers: 31\n",
      "After Shape: (4167, 11)\n",
      "Embeds len: 4167\n",
      "\n",
      "--- apr 28 ---\n",
      "Before Shape: (4197, 8)\n",
      "Unique tiers: 31\n",
      "After Shape: (4186, 9)\n",
      "Embeds len: 4186\n",
      "\n",
      "--- apr 29 ---\n",
      "Before Shape: (4201, 8)\n",
      "Unique tiers: 31\n",
      "After Shape: (4188, 9)\n",
      "Embeds len: 4188\n",
      "\n",
      "--- apr 30 ---\n",
      "Before Shape: (3784, 8)\n",
      "Unique tiers: 31\n",
      "After Shape: (3771, 9)\n",
      "Embeds len: 3771\n",
      "--- may 01 ---\n",
      "Before Shape: (3052, 8)\n",
      "Unique tiers: 31\n",
      "After Shape: (3044, 9)\n",
      "Embeds len: 3044\n",
      "\n",
      "--- may 02 ---\n",
      "Before Shape: (3267, 8)\n",
      "Unique tiers: 31\n",
      "After Shape: (3259, 9)\n",
      "Embeds len: 3259\n"
     ]
    }
   ],
   "source": [
    "# training data set\n",
    "\n",
    "print(\"--- apr 25 ---\")\n",
    "apr25 = get_data('processed/train_apr25_over100pvs_processed.csv')\n",
    "apr25_art_embed = joblib.load(\"./data/processed/apr25_article_embed_axis0.joblib\")\n",
    "print(\"Embeds len:\", len(apr25_art_embed))\n",
    "\n",
    "print()\n",
    "print(\"--- apr 26 ---\")\n",
    "apr26 = get_data('processed/pred_apr26_over100pvs_processed.csv')\n",
    "apr26_art_embed = joblib.load(\"./data/processed/apr26_article_embed_axis0.joblib\")\n",
    "print(\"Embeds len:\", len(apr26_art_embed))\n",
    "\n",
    "print()\n",
    "print(\"--- apr 27 ---\")\n",
    "apr27 = get_data('processed/pred_apr27_over100pvs_processed.csv')\n",
    "apr27_art_embed = joblib.load(\"./data/processed/apr27_article_embed_axis0.joblib\")\n",
    "print(\"Embeds len:\", len(apr27_art_embed))\n",
    "\n",
    "print()\n",
    "print(\"--- apr 28 ---\")\n",
    "apr28 = get_data('processed/apr28_over100pvs_processed.csv')\n",
    "apr28_art_embed = joblib.load(\"./data/processed/apr28_article_embed_axis0.joblib\")\n",
    "print(\"Embeds len:\", len(apr28_art_embed))\n",
    "\n",
    "print()\n",
    "print(\"--- apr 29 ---\")\n",
    "apr29 = get_data('processed/apr29_over100pvs_processed.csv')\n",
    "apr29_art_embed = joblib.load(\"./data/processed/apr29_article_embed_axis0.joblib\")\n",
    "print(\"Embeds len:\", len(apr29_art_embed))\n",
    "\n",
    "print()\n",
    "print(\"--- apr 30 ---\")\n",
    "apr30 = get_data('processed/apr30_over100pvs_processed.csv')\n",
    "apr30_art_embed = joblib.load(\"./data/processed/apr30_article_embed_axis0.joblib\")\n",
    "print(\"Embeds len:\", len(apr30_art_embed))\n",
    "\n",
    "print(\"--- may 01 ---\")\n",
    "may01 = get_data('processed/may01_over100pvs_processed.csv')\n",
    "may01_art_embed = joblib.load(\"./data/processed/may01_article_embed_axis0.joblib\")\n",
    "print(\"Embeds len:\", len(may01_art_embed))\n",
    "\n",
    "print()\n",
    "print(\"--- may 02 ---\")\n",
    "may02 = get_data('processed/may02_over100pvs_processed.csv')\n",
    "may02_art_embed = joblib.load(\"./data/processed/may02_article_embed_axis0.joblib\")\n",
    "print(\"Embeds len:\", len(may02_art_embed))"
   ]
  },
  {
   "cell_type": "code",
   "execution_count": 8,
   "metadata": {},
   "outputs": [
    {
     "name": "stdout",
     "output_type": "stream",
     "text": [
      "\n",
      "--- may 03 ---\n",
      "Before Shape: (4210, 8)\n",
      "Unique tiers: 31\n",
      "After Shape: (4199, 9)\n",
      "Embeds len: 4199\n",
      "\n",
      "--- may 04 ---\n",
      "Before Shape: (4235, 8)\n",
      "Unique tiers: 31\n",
      "After Shape: (4223, 9)\n",
      "Embeds len: 4223\n",
      "\n",
      "--- may 05 ---\n",
      "Before Shape: (4174, 8)\n",
      "Unique tiers: 31\n",
      "After Shape: (4160, 9)\n",
      "Embeds len: 4160\n",
      "--- may 06 ---\n",
      "Before Shape: (4079, 8)\n",
      "Unique tiers: 31\n",
      "After Shape: (4063, 9)\n",
      "Embeds len: 4063\n",
      "--- may 07 ---\n",
      "Before Shape: (3644, 8)\n",
      "Unique tiers: 31\n",
      "After Shape: (3630, 9)\n",
      "Embeds len: 3630\n"
     ]
    }
   ],
   "source": [
    "# testing data set\n",
    "\n",
    "print()\n",
    "print(\"--- may 03 ---\")\n",
    "may03 = get_data('processed/may03_over100pvs_processed.csv')\n",
    "may03_art_embed = joblib.load(\"./data/processed/may03_article_embed_axis0.joblib\")\n",
    "print(\"Embeds len:\", len(may03_art_embed))\n",
    "\n",
    "print()\n",
    "print(\"--- may 04 ---\")\n",
    "may04 = get_data('processed/may04_over100pvs_processed.csv')\n",
    "may04_art_embed = joblib.load(\"./data/processed/may04_article_embed_axis0.joblib\")\n",
    "print(\"Embeds len:\", len(may04_art_embed))\n",
    "\n",
    "print()\n",
    "print(\"--- may 05 ---\")\n",
    "may05 = get_data('processed/may05_over100pvs_processed.csv')\n",
    "may05_art_embed = joblib.load(\"./data/processed/may05_article_embed_axis0.joblib\")\n",
    "print(\"Embeds len:\", len(may05_art_embed))\n",
    "\n",
    "print(\"--- may 06 ---\")\n",
    "may06 = get_data('processed/may06_over100pvs_processed.csv')\n",
    "may06_art_embed = joblib.load(\"./data/processed/may06_article_embed_axis0.joblib\")\n",
    "print(\"Embeds len:\", len(may06_art_embed))\n",
    "\n",
    "print(\"--- may 07 ---\")\n",
    "may07 = get_data('processed/may07_over100pvs_processed.csv')\n",
    "may07_art_embed = joblib.load(\"./data/processed/may07_article_embed_axis0.joblib\")\n",
    "print(\"Embeds len:\", len(may07_art_embed))"
   ]
  },
  {
   "cell_type": "markdown",
   "metadata": {},
   "source": [
    "* Combine train data - 7 days: apr 26 (monday) till may 2 (sunday)"
   ]
  },
  {
   "cell_type": "code",
   "execution_count": 9,
   "metadata": {},
   "outputs": [
    {
     "name": "stdout",
     "output_type": "stream",
     "text": [
      "(26743, 9)\n",
      "26743\n"
     ]
    }
   ],
   "source": [
    "# concatenate dfs\n",
    "\n",
    "combined_df = pd.concat([apr26, apr27, apr28, apr29, apr30, may01, may02])\n",
    "# reset index\n",
    "combined_df = combined_df.reset_index(drop=True)\n",
    "# drop unnecessary cols\n",
    "combined_df.drop([\"processed\", \"processed_noun\", \"processed_noun_2\"], axis = 1, inplace=True)\n",
    "# fill na\n",
    "combined_df.tier2 = combined_df.tier2.fillna('Other')\n",
    "combined_df.total_timeonpage = combined_df.total_timeonpage.fillna(0)\n",
    "print(combined_df.shape)\n",
    "\n",
    "# concatenate embeds\n",
    "combined_embeds = apr26_art_embed + apr27_art_embed + apr28_art_embed + apr29_art_embed + apr30_art_embed + may01_art_embed + may02_art_embed\n",
    "print(len(combined_embeds))"
   ]
  },
  {
   "cell_type": "markdown",
   "metadata": {},
   "source": [
    "* workflow:\n",
    "    * take unique articles, train and assign topics -- natid, topic mapping\n",
    "        * save this in csv and manually analyze for 5-6 topic words\n",
    "    * for chart, take per day pvs for each article, sum for topic per day and show"
   ]
  },
  {
   "cell_type": "code",
   "execution_count": 10,
   "metadata": {},
   "outputs": [],
   "source": [
    "# to get metrics for training weeks unique 7238 articles summed over 7 days\n",
    "\n",
    "# test = combined_df.groupby('content_natid').agg({'pvs':'sum', 'pub_date':'max',\n",
    "#                                                  'article_length':'max', \n",
    "#                                                  'total_timeonpage':'sum'}).reset_index()\n",
    "\n",
    "# temp = pd.merge(test, combined_df[[\"content_natid\", \"pub_date\", \"article_length\", \"title\", \"tier1\", \"tier2\", \"clean_body\"]], \n",
    "#          on = [\"content_natid\", \"pub_date\", \"article_length\"], how=\"inner\").drop_duplicates(subset='content_natid',\n",
    "#                                                                                             keep='first')\n",
    "\n",
    "# repeating example - 'Robot Vacuums That Clean'"
   ]
  },
  {
   "cell_type": "code",
   "execution_count": 10,
   "metadata": {},
   "outputs": [
    {
     "name": "stdout",
     "output_type": "stream",
     "text": [
      "(7238, 9)\n",
      "False\n",
      "7238\n"
     ]
    }
   ],
   "source": [
    "# drop duplicates from df\n",
    "\n",
    "train_df = combined_df.drop_duplicates(subset=\"content_natid\", keep='first')\n",
    "\n",
    "print(train_df.shape)\n",
    "print(train_df.content_natid.duplicated(keep='first').any())\n",
    "\n",
    "train_embeds =  [combined_embeds[i] for i in list(train_df.index)]\n",
    "print(len(train_embeds))"
   ]
  },
  {
   "cell_type": "code",
   "execution_count": 11,
   "metadata": {},
   "outputs": [
    {
     "data": {
      "text/plain": [
       "(7238, 2)"
      ]
     },
     "execution_count": 11,
     "metadata": {},
     "output_type": "execute_result"
    }
   ],
   "source": [
    "train_df.reset_index(drop=True, inplace=True)\n",
    "\n",
    "train_df = train_df[['content_natid', 'clean_body']]\n",
    "train_df.shape"
   ]
  },
  {
   "cell_type": "markdown",
   "metadata": {},
   "source": [
    "### --- Modeling ---"
   ]
  },
  {
   "cell_type": "code",
   "execution_count": 12,
   "metadata": {},
   "outputs": [
    {
     "name": "stdout",
     "output_type": "stream",
     "text": [
      "7238\n"
     ]
    }
   ],
   "source": [
    "data = train_df.clean_body.tolist()\n",
    "print(len(data))"
   ]
  },
  {
   "cell_type": "markdown",
   "metadata": {},
   "source": [
    "**Param settings:** Params were updated in two rounds for reducing noise:\n",
    "1. 1st round - NEW SETTINGS for lesser noise - umap:n_neighbors=15, n_components=2, min_dist=0.0 \n",
    "    * hdbscan min_cluster_size=5, input = sentence embeddings aggregated (mean) to full article were kept the same\n",
    "2. 2nd round - NEW SETTINGS for lesser noise - additionally took min_samples = 4 (umap updated params from bullet 1 were used)\n",
    "    * Manual observation on trained data (1week apr 26 to may2)- \n",
    "        * 5 topics with previous noise articles inspected, 3 were yellow 1 was red, 1 green \n",
    "        * But comparing 5 previous noise articles , only 1 was bad other 4 got correct labels\n",
    "    * Manual observation on predicted May03 data - Out of 23 matching topics, bad 13 good 10 with min_sample compared to round 1\n",
    "\n",
    "| 1st round      | 2nd round |\n",
    "| ----------- | ----------- |\n",
    "| Trained topics 277      | Trained topics 323       |\n",
    "| Trained noise  30% | Trained noise 27% <br>(200 previous noise articles were clustered)       |\n",
    "| Pred May03 topics 260      | Pred May03 topics  310       |\n",
    "| Pred May03 noise  44% (1835)| Pred May03 noise 42% (1784)<br>(50 previous noise articles were clustered)       |\n",
    "| DBCV 0.327      | DBCV 0.299     |\n",
    "\n",
    "Based on manual observation and numbers above, decided to go with 2nd round params"
   ]
  },
  {
   "cell_type": "code",
   "execution_count": 13,
   "metadata": {},
   "outputs": [],
   "source": [
    "# NEW SETTINGS for lesser noise - umap:n_neighbors=15, n_components=2, min_dist=0.0 \n",
    "# hdbscan min_cluster_size=5, min_samples = 4, input = sentence embeddings aggregated (mean) to full article\n",
    "\n",
    "umap_embeddings =  umap.UMAP(n_neighbors=15,\n",
    "                             min_dist=0.0,\n",
    "                             n_components=2,\n",
    "                             random_state=SEED,\n",
    "                            ).fit(train_embeds)"
   ]
  },
  {
   "cell_type": "code",
   "execution_count": 14,
   "metadata": {},
   "outputs": [],
   "source": [
    "# cluster\n",
    "cluster = hdbscan.HDBSCAN(min_cluster_size=5,\n",
    "                      min_samples = 4, #new\n",
    "                      metric= 'euclidean',                      \n",
    "                      cluster_selection_method='eom',\n",
    "                      prediction_data=True).fit(umap_embeddings.embedding_)"
   ]
  },
  {
   "cell_type": "code",
   "execution_count": 15,
   "metadata": {},
   "outputs": [
    {
     "name": "stdout",
     "output_type": "stream",
     "text": [
      "Shape of training embeddings: (7238, 2)\n"
     ]
    }
   ],
   "source": [
    "print(\"Shape of training embeddings:\", umap_embeddings.embedding_.shape)"
   ]
  },
  {
   "cell_type": "code",
   "execution_count": 16,
   "metadata": {},
   "outputs": [
    {
     "name": "stdout",
     "output_type": "stream",
     "text": [
      "Settings - mean axis=0\n"
     ]
    },
    {
     "data": {
      "text/plain": [
       "0.2996882715864831"
      ]
     },
     "execution_count": 16,
     "metadata": {},
     "output_type": "execute_result"
    }
   ],
   "source": [
    "labels = cluster.labels_\n",
    "print(\"Settings - mean axis=0\")\n",
    "validity_index(umap_embeddings.embedding_.astype('double'), labels)"
   ]
  },
  {
   "cell_type": "code",
   "execution_count": 18,
   "metadata": {},
   "outputs": [
    {
     "data": {
      "text/plain": [
       "7238"
      ]
     },
     "execution_count": 18,
     "metadata": {},
     "output_type": "execute_result"
    }
   ],
   "source": [
    "len(cluster.probabilities_)"
   ]
  },
  {
   "cell_type": "code",
   "execution_count": 19,
   "metadata": {},
   "outputs": [
    {
     "name": "stdout",
     "output_type": "stream",
     "text": [
      "Distinct topics including -1 for noise 323\n",
      "\n"
     ]
    },
    {
     "data": {
      "text/html": [
       "<div>\n",
       "<style scoped>\n",
       "    .dataframe tbody tr th:only-of-type {\n",
       "        vertical-align: middle;\n",
       "    }\n",
       "\n",
       "    .dataframe tbody tr th {\n",
       "        vertical-align: top;\n",
       "    }\n",
       "\n",
       "    .dataframe thead th {\n",
       "        text-align: right;\n",
       "    }\n",
       "</style>\n",
       "<table border=\"1\" class=\"dataframe\">\n",
       "  <thead>\n",
       "    <tr style=\"text-align: right;\">\n",
       "      <th></th>\n",
       "      <th>Doc</th>\n",
       "      <th>Topic</th>\n",
       "      <th>Doc_ID</th>\n",
       "      <th>strength</th>\n",
       "    </tr>\n",
       "  </thead>\n",
       "  <tbody>\n",
       "    <tr>\n",
       "      <th>0</th>\n",
       "      <td>10 robot vacuums that clean so you dont have to. if youre like most people, vacuuming is low on your list ...</td>\n",
       "      <td>-1</td>\n",
       "      <td>0</td>\n",
       "      <td>0.000000</td>\n",
       "    </tr>\n",
       "    <tr>\n",
       "      <th>1</th>\n",
       "      <td>these 11 mattress toppers give you the bed of your dreams. while new pillows or a new set of sheets can do...</td>\n",
       "      <td>46</td>\n",
       "      <td>1</td>\n",
       "      <td>1.000000</td>\n",
       "    </tr>\n",
       "    <tr>\n",
       "      <th>2</th>\n",
       "      <td>wayfairs biggest sale of the year is officially here. thanks to the pandemic, most of us have spent the pa...</td>\n",
       "      <td>56</td>\n",
       "      <td>2</td>\n",
       "      <td>0.960001</td>\n",
       "    </tr>\n",
       "    <tr>\n",
       "      <th>3</th>\n",
       "      <td>apple ios 14.5 released: massive iphone update with cool features &amp; important fixes. april 28 update below...</td>\n",
       "      <td>60</td>\n",
       "      <td>3</td>\n",
       "      <td>0.951056</td>\n",
       "    </tr>\n",
       "    <tr>\n",
       "      <th>4</th>\n",
       "      <td>apple airtag: all you need to know about the game-changing new gadget. april 28 update below. this post wa...</td>\n",
       "      <td>60</td>\n",
       "      <td>4</td>\n",
       "      <td>1.000000</td>\n",
       "    </tr>\n",
       "    <tr>\n",
       "      <th>...</th>\n",
       "      <td>...</td>\n",
       "      <td>...</td>\n",
       "      <td>...</td>\n",
       "      <td>...</td>\n",
       "    </tr>\n",
       "    <tr>\n",
       "      <th>7233</th>\n",
       "      <td>the oilman, the playmate, and the tangled affairs of the billionaire marshall family. j. howard marshall i...</td>\n",
       "      <td>132</td>\n",
       "      <td>7233</td>\n",
       "      <td>1.000000</td>\n",
       "    </tr>\n",
       "    <tr>\n",
       "      <th>7234</th>\n",
       "      <td>5 surprising foods that help you sleep. cherries: the new melatonin supplement (image via wikipedia) june ...</td>\n",
       "      <td>35</td>\n",
       "      <td>7234</td>\n",
       "      <td>1.000000</td>\n",
       "    </tr>\n",
       "    <tr>\n",
       "      <th>7235</th>\n",
       "      <td>hacker's demo shows how easily credit cards can be read through clothes and wallets. some blank credit car...</td>\n",
       "      <td>44</td>\n",
       "      <td>7235</td>\n",
       "      <td>0.854078</td>\n",
       "    </tr>\n",
       "    <tr>\n",
       "      <th>7236</th>\n",
       "      <td>the five richest pastors in nigeria. london-based nigerian pastor matthew ashimolowo god is good, especial...</td>\n",
       "      <td>187</td>\n",
       "      <td>7236</td>\n",
       "      <td>1.000000</td>\n",
       "    </tr>\n",
       "    <tr>\n",
       "      <th>7237</th>\n",
       "      <td>man inadvertently live tweets osama bin laden raid. an it consultant who tried to take a break from the ra...</td>\n",
       "      <td>-1</td>\n",
       "      <td>7237</td>\n",
       "      <td>0.000000</td>\n",
       "    </tr>\n",
       "  </tbody>\n",
       "</table>\n",
       "<p>7238 rows × 4 columns</p>\n",
       "</div>"
      ],
      "text/plain": [
       "                                                                                                                Doc  \\\n",
       "0     10 robot vacuums that clean so you dont have to. if youre like most people, vacuuming is low on your list ...   \n",
       "1     these 11 mattress toppers give you the bed of your dreams. while new pillows or a new set of sheets can do...   \n",
       "2     wayfairs biggest sale of the year is officially here. thanks to the pandemic, most of us have spent the pa...   \n",
       "3     apple ios 14.5 released: massive iphone update with cool features & important fixes. april 28 update below...   \n",
       "4     apple airtag: all you need to know about the game-changing new gadget. april 28 update below. this post wa...   \n",
       "...                                                                                                             ...   \n",
       "7233  the oilman, the playmate, and the tangled affairs of the billionaire marshall family. j. howard marshall i...   \n",
       "7234  5 surprising foods that help you sleep. cherries: the new melatonin supplement (image via wikipedia) june ...   \n",
       "7235  hacker's demo shows how easily credit cards can be read through clothes and wallets. some blank credit car...   \n",
       "7236  the five richest pastors in nigeria. london-based nigerian pastor matthew ashimolowo god is good, especial...   \n",
       "7237  man inadvertently live tweets osama bin laden raid. an it consultant who tried to take a break from the ra...   \n",
       "\n",
       "      Topic  Doc_ID  strength  \n",
       "0        -1       0  0.000000  \n",
       "1        46       1  1.000000  \n",
       "2        56       2  0.960001  \n",
       "3        60       3  0.951056  \n",
       "4        60       4  1.000000  \n",
       "...     ...     ...       ...  \n",
       "7233    132    7233  1.000000  \n",
       "7234     35    7234  1.000000  \n",
       "7235     44    7235  0.854078  \n",
       "7236    187    7236  1.000000  \n",
       "7237     -1    7237  0.000000  \n",
       "\n",
       "[7238 rows x 4 columns]"
      ]
     },
     "execution_count": 19,
     "metadata": {},
     "output_type": "execute_result"
    }
   ],
   "source": [
    "# put topics in dataframe\n",
    "docs_df = pd.DataFrame(data, columns=[\"Doc\"])\n",
    "docs_df['Topic'] = cluster.labels_\n",
    "docs_df['Doc_ID'] = range(len(docs_df))\n",
    "docs_df['strength'] = cluster.probabilities_\n",
    "\n",
    "print(\"Distinct topics including -1 for noise\", len(docs_df.Topic.unique()))\n",
    "print()\n",
    "docs_df"
   ]
  },
  {
   "cell_type": "code",
   "execution_count": 20,
   "metadata": {},
   "outputs": [],
   "source": [
    "# combine together all articles belonging to same cluster  \n",
    "docs_per_topic = docs_df.groupby(['Topic'], as_index = False).agg({'Doc': ' '.join})\n",
    "\n",
    "# calculate countVector and tf-idf\n",
    "tf_idf, count = c_tf_idf(docs_per_topic.Doc.values, m=len(data))\n",
    "\n",
    "# top n words, topic size\n",
    "top_n_words = extract_top_n_words_per_topic(tf_idf, count, docs_per_topic, n=20)\n",
    "topic_sizes = extract_topic_sizes(docs_df); \n",
    "\n",
    "# modify top_n_words per topic dict into dataframe for presentation\n",
    "topic_words_dict = {}  \n",
    "\n",
    "for k, v in top_n_words.items():\n",
    "    topic_words_dict[k] = \", \".join([elem[0] for elem in v])\n",
    "\n",
    "pd.set_option(\"max_colwidth\", 250)\n",
    "top_n_words_df = pd.DataFrame.from_dict(topic_words_dict, \n",
    "                                        orient='index').reset_index().rename(columns={'index':'topic_num',\n",
    "                                                                                      \n",
    "                                                                                      0:'topic_words'}) "
   ]
  },
  {
   "cell_type": "code",
   "execution_count": 21,
   "metadata": {},
   "outputs": [
    {
     "name": "stdout",
     "output_type": "stream",
     "text": [
      "keyword time 0.0005561947822570801\n"
     ]
    }
   ],
   "source": [
    "# clean keywords\n",
    "\n",
    "from collections import OrderedDict\n",
    "# from fuzzywuzzy import process, fuzz\n",
    "from itertools import chain\n",
    "\n",
    "import time\n",
    "start = time.time()\n",
    "\n",
    "clean_keys = []\n",
    "for index, row in top_n_words_df.iterrows(): \n",
    "    \n",
    "    # remove STOP WORDS and remove whitespaces\n",
    "    inter_list = [x.strip() for x in row[\"topic_words\"].split(\",\") if x not in STOP_WORDS]\n",
    "    \n",
    "    # remove numbers but not alphanumerics e.g. remove 400, not ps4 \n",
    "    inter_list = [x for x in inter_list if not x.isnumeric()]\n",
    "    \n",
    "    # remove subset-based similar words - e.g. 'pcr tests' and 'tests' then 'tests' will be removed\n",
    "    inter_list = [i for i in inter_list if not any(i in x and i!=x for x in inter_list)]\n",
    "\n",
    "    # remove empty or 1-letter words\n",
    "    inter_list = [x for x in inter_list if len(x)>1]\n",
    "    \n",
    "    # de-duplicate\n",
    "    inter_list = list(OrderedDict.fromkeys(inter_list))\n",
    "    \n",
    "    # keep top 20 cleaned keywords\n",
    "    inter_list = inter_list[:6] \n",
    "    \n",
    "    # convert into string\n",
    "    inter_list = ', '.join(inter_list)\n",
    "    \n",
    "    clean_keys.append(inter_list)\n",
    "\n",
    "end = time.time()\n",
    "print(\"keyword time\", (end - start)/60) "
   ]
  },
  {
   "cell_type": "code",
   "execution_count": 22,
   "metadata": {},
   "outputs": [],
   "source": [
    "top_n_words_df[\"topic_words\"] = clean_keys"
   ]
  },
  {
   "cell_type": "code",
   "execution_count": 23,
   "metadata": {},
   "outputs": [],
   "source": [
    "# GENERATE TOPIC METRICS\n",
    "\n",
    "# per topic - cos_min and cos_mean\n",
    "train_cossim_df = generate_all_cossim_metrics(docs_df, train_embeds)\n",
    "\n",
    "# # per topic - tier counts\n",
    "# tier_metric = docs_df.join(df[[\"tier1\"]])\n",
    "\n",
    "# iab_metric = tier_metric.groupby(\"Topic\").agg({\"tier1\": \n",
    "#                                                'nunique'}).round(2).reset_index().rename(columns = {'tier1': \n",
    "#                                                                                                     'distinct_tier1s',\n",
    "#                                                                                                     'Topic':\n",
    "#                                                                                                     'topic_num'})\n",
    "\n",
    "# combine topic, top words, cos and tier metrics\n",
    "topic_info = pd.merge(pd.merge(top_n_words_df, \n",
    "                               topic_sizes, how=\"inner\", left_on=\"topic_num\", right_on = \"Topic\"), \n",
    "                               train_cossim_df, on = \"topic_num\", how=\"inner\")\n",
    "\n",
    "topic_info.drop('Topic', axis=1, inplace=True)"
   ]
  },
  {
   "cell_type": "code",
   "execution_count": 24,
   "metadata": {},
   "outputs": [
    {
     "data": {
      "text/html": [
       "<div>\n",
       "<style scoped>\n",
       "    .dataframe tbody tr th:only-of-type {\n",
       "        vertical-align: middle;\n",
       "    }\n",
       "\n",
       "    .dataframe tbody tr th {\n",
       "        vertical-align: top;\n",
       "    }\n",
       "\n",
       "    .dataframe thead th {\n",
       "        text-align: right;\n",
       "    }\n",
       "</style>\n",
       "<table border=\"1\" class=\"dataframe\">\n",
       "  <thead>\n",
       "    <tr style=\"text-align: right;\">\n",
       "      <th></th>\n",
       "      <th>topic_num</th>\n",
       "      <th>topic_words</th>\n",
       "      <th>Size</th>\n",
       "      <th>cos_min</th>\n",
       "      <th>cos_mean</th>\n",
       "    </tr>\n",
       "  </thead>\n",
       "  <tbody>\n",
       "    <tr>\n",
       "      <th>0</th>\n",
       "      <td>-1</td>\n",
       "      <td>remote, age, businesses, leaders, workers, water</td>\n",
       "      <td>1946</td>\n",
       "      <td>-0.05</td>\n",
       "      <td>0.71</td>\n",
       "    </tr>\n",
       "    <tr>\n",
       "      <th>1</th>\n",
       "      <td>0</td>\n",
       "      <td>10 states, average annual, annual wage, salaries, occupational, therapist salary</td>\n",
       "      <td>34</td>\n",
       "      <td>0.77</td>\n",
       "      <td>0.90</td>\n",
       "    </tr>\n",
       "    <tr>\n",
       "      <th>2</th>\n",
       "      <td>1</td>\n",
       "      <td>million viewers, 000 viewers, fox news, msnbc, cable news, prime time</td>\n",
       "      <td>7</td>\n",
       "      <td>0.95</td>\n",
       "      <td>0.97</td>\n",
       "    </tr>\n",
       "    <tr>\n",
       "      <th>3</th>\n",
       "      <td>2</td>\n",
       "      <td>pink moon, sky, supermoons, super pink, sun, blood moon</td>\n",
       "      <td>30</td>\n",
       "      <td>0.75</td>\n",
       "      <td>0.88</td>\n",
       "    </tr>\n",
       "    <tr>\n",
       "      <th>4</th>\n",
       "      <td>3</td>\n",
       "      <td>def, aew, nxt, wrestlemania, smackdown, live events</td>\n",
       "      <td>14</td>\n",
       "      <td>0.76</td>\n",
       "      <td>0.88</td>\n",
       "    </tr>\n",
       "  </tbody>\n",
       "</table>\n",
       "</div>"
      ],
      "text/plain": [
       "   topic_num  \\\n",
       "0         -1   \n",
       "1          0   \n",
       "2          1   \n",
       "3          2   \n",
       "4          3   \n",
       "\n",
       "                                                                        topic_words  \\\n",
       "0                                  remote, age, businesses, leaders, workers, water   \n",
       "1  10 states, average annual, annual wage, salaries, occupational, therapist salary   \n",
       "2             million viewers, 000 viewers, fox news, msnbc, cable news, prime time   \n",
       "3                           pink moon, sky, supermoons, super pink, sun, blood moon   \n",
       "4                               def, aew, nxt, wrestlemania, smackdown, live events   \n",
       "\n",
       "   Size  cos_min  cos_mean  \n",
       "0  1946    -0.05      0.71  \n",
       "1    34     0.77      0.90  \n",
       "2     7     0.95      0.97  \n",
       "3    30     0.75      0.88  \n",
       "4    14     0.76      0.88  "
      ]
     },
     "execution_count": 24,
     "metadata": {},
     "output_type": "execute_result"
    }
   ],
   "source": [
    "topic_info.head()"
   ]
  },
  {
   "cell_type": "markdown",
   "metadata": {},
   "source": [
    "* Observation on cluter-goodness:\n",
    "    * Good quality overall - \n",
    "        * most articles in a group on avg have 0.85-0.93 cosine similarity which is pretty high\n",
    "        * min similarity is also 0.7 and above for most topics\n",
    "        \n",
    "    * Manual eyeballing - 88 topics good, 19 bad"
   ]
  },
  {
   "cell_type": "code",
   "execution_count": 23,
   "metadata": {},
   "outputs": [
    {
     "data": {
      "image/png": "[encoded data removed]",
      "text/plain": [
       "<Figure size 1080x360 with 2 Axes>"
      ]
     },
     "metadata": {},
     "output_type": "display_data"
    }
   ],
   "source": [
    "# TEST FOR LESSER NOISE\n",
    "topic_info[['cos_min', 'cos_mean']].hist(figsize= (15,5), bins=50)\n",
    "plt.show()"
   ]
  },
  {
   "cell_type": "code",
   "execution_count": 25,
   "metadata": {},
   "outputs": [
    {
     "data": {
      "text/plain": [
       "['./model/apr26_may2_train_clusterer_obj.joblib']"
      ]
     },
     "execution_count": 25,
     "metadata": {},
     "output_type": "execute_result"
    }
   ],
   "source": [
    "joblib.dump(umap_embeddings, \"./model/apr26_may2_train_umap_obj.joblib\")\n",
    "joblib.dump(cluster, \"./model/apr26_may2_train_clusterer_obj.joblib\")"
   ]
  },
  {
   "cell_type": "markdown",
   "metadata": {},
   "source": [
    "**Topics are about:**\n"
   ]
  },
  {
   "cell_type": "code",
   "execution_count": 25,
   "metadata": {},
   "outputs": [],
   "source": [
    "# combine natural id inside docs_df\n",
    "docs_df = pd.merge(docs_df, train_df, how=\"left\", left_on=\"Doc\", right_on=\"clean_body\")\n",
    "docs_df.drop(\"clean_body\", axis=1, inplace=True)"
   ]
  },
  {
   "cell_type": "code",
   "execution_count": 25,
   "metadata": {},
   "outputs": [
    {
     "data": {
      "text/html": [
       "<div>\n",
       "<style scoped>\n",
       "    .dataframe tbody tr th:only-of-type {\n",
       "        vertical-align: middle;\n",
       "    }\n",
       "\n",
       "    .dataframe tbody tr th {\n",
       "        vertical-align: top;\n",
       "    }\n",
       "\n",
       "    .dataframe thead th {\n",
       "        text-align: right;\n",
       "    }\n",
       "</style>\n",
       "<table border=\"1\" class=\"dataframe\">\n",
       "  <thead>\n",
       "    <tr style=\"text-align: right;\">\n",
       "      <th></th>\n",
       "      <th>Doc</th>\n",
       "      <th>Topic</th>\n",
       "      <th>Doc_ID</th>\n",
       "      <th>content_natid</th>\n",
       "      <th>topic_num</th>\n",
       "      <th>topic_words</th>\n",
       "      <th>Size</th>\n",
       "      <th>cos_min</th>\n",
       "      <th>cos_mean</th>\n",
       "    </tr>\n",
       "  </thead>\n",
       "  <tbody>\n",
       "    <tr>\n",
       "      <th>0</th>\n",
       "      <td>10 robot vacuums that clean so you dont have to. if youre like most people, vacuuming is low on your list of favorite chores. you can avoid cleaning, or enlist the aid of a robot vacuum to clean your home autonomously. the best robot vacuums are ...</td>\n",
       "      <td>-1</td>\n",
       "      <td>0</td>\n",
       "      <td>blogandpostid/blog/post/4983-5ea87d15960ddf000681c604</td>\n",
       "      <td>-1</td>\n",
       "      <td>remote, age, businesses, leaders, workers, water</td>\n",
       "      <td>1946</td>\n",
       "      <td>-0.05</td>\n",
       "      <td>0.71</td>\n",
       "    </tr>\n",
       "  </tbody>\n",
       "</table>\n",
       "</div>"
      ],
      "text/plain": [
       "                                                                                                                                                                                                                                                         Doc  \\\n",
       "0  10 robot vacuums that clean so you dont have to. if youre like most people, vacuuming is low on your list of favorite chores. you can avoid cleaning, or enlist the aid of a robot vacuum to clean your home autonomously. the best robot vacuums are ...   \n",
       "\n",
       "   Topic  Doc_ID                                          content_natid  \\\n",
       "0     -1       0  blogandpostid/blog/post/4983-5ea87d15960ddf000681c604   \n",
       "\n",
       "   topic_num                                       topic_words  Size  cos_min  \\\n",
       "0         -1  remote, age, businesses, leaders, workers, water  1946    -0.05   \n",
       "\n",
       "   cos_mean  \n",
       "0      0.71  "
      ]
     },
     "execution_count": 25,
     "metadata": {},
     "output_type": "execute_result"
    }
   ],
   "source": [
    "# contains natid, article body, assigned topic\n",
    "\n",
    "full_train_topics = pd.merge(docs_df, topic_info, how=\"left\", left_on=\"Topic\", right_on=\"topic_num\")\n",
    "full_train_topics.head(1)"
   ]
  },
  {
   "cell_type": "code",
   "execution_count": 26,
   "metadata": {},
   "outputs": [
    {
     "data": {
      "text/html": [
       "<div>\n",
       "<style scoped>\n",
       "    .dataframe tbody tr th:only-of-type {\n",
       "        vertical-align: middle;\n",
       "    }\n",
       "\n",
       "    .dataframe tbody tr th {\n",
       "        vertical-align: top;\n",
       "    }\n",
       "\n",
       "    .dataframe thead th {\n",
       "        text-align: right;\n",
       "    }\n",
       "</style>\n",
       "<table border=\"1\" class=\"dataframe\">\n",
       "  <thead>\n",
       "    <tr style=\"text-align: right;\">\n",
       "      <th></th>\n",
       "      <th>Doc</th>\n",
       "      <th>Topic</th>\n",
       "      <th>Doc_ID</th>\n",
       "      <th>strength</th>\n",
       "      <th>content_natid</th>\n",
       "      <th>topic_num</th>\n",
       "      <th>topic_words</th>\n",
       "      <th>Size</th>\n",
       "      <th>cos_min</th>\n",
       "      <th>cos_mean</th>\n",
       "    </tr>\n",
       "  </thead>\n",
       "  <tbody>\n",
       "    <tr>\n",
       "      <th>0</th>\n",
       "      <td>10 robot vacuums that clean so you dont have to. if youre like most people, vacuuming is low on your list of favorite chores. you can avoid cleaning, or enlist the aid of a robot vacuum to clean your home autonomously. the best robot vacuums are ...</td>\n",
       "      <td>-1</td>\n",
       "      <td>0</td>\n",
       "      <td>0.0</td>\n",
       "      <td>blogandpostid/blog/post/4983-5ea87d15960ddf000681c604</td>\n",
       "      <td>-1</td>\n",
       "      <td>remote, age, businesses, leaders, workers, water</td>\n",
       "      <td>1946</td>\n",
       "      <td>-0.05</td>\n",
       "      <td>0.71</td>\n",
       "    </tr>\n",
       "  </tbody>\n",
       "</table>\n",
       "</div>"
      ],
      "text/plain": [
       "                                                                                                                                                                                                                                                         Doc  \\\n",
       "0  10 robot vacuums that clean so you dont have to. if youre like most people, vacuuming is low on your list of favorite chores. you can avoid cleaning, or enlist the aid of a robot vacuum to clean your home autonomously. the best robot vacuums are ...   \n",
       "\n",
       "   Topic  Doc_ID  strength  \\\n",
       "0     -1       0       0.0   \n",
       "\n",
       "                                           content_natid  topic_num  \\\n",
       "0  blogandpostid/blog/post/4983-5ea87d15960ddf000681c604         -1   \n",
       "\n",
       "                                        topic_words  Size  cos_min  cos_mean  \n",
       "0  remote, age, businesses, leaders, workers, water  1946    -0.05      0.71  "
      ]
     },
     "execution_count": 26,
     "metadata": {},
     "output_type": "execute_result"
    }
   ],
   "source": [
    "# contains natid, article body, assigned topic\n",
    "\n",
    "full_train_topics = pd.merge(docs_df, topic_info, how=\"left\", left_on=\"Topic\", right_on=\"topic_num\")\n",
    "full_train_topics.head(1)"
   ]
  },
  {
   "cell_type": "code",
   "execution_count": 27,
   "metadata": {},
   "outputs": [],
   "source": [
    "# TEST FOR LESSER NOISE\n",
    "full_train_topics.to_csv(results_path+\"MOD_STRGTH_apr26_may02_full_train_topics.csv\", index=False)"
   ]
  },
  {
   "cell_type": "code",
   "execution_count": 29,
   "metadata": {},
   "outputs": [
    {
     "data": {
      "text/plain": [
       "count     323.000000\n",
       "mean       22.408669\n",
       "std       108.579164\n",
       "min         5.000000\n",
       "25%         7.000000\n",
       "50%        11.000000\n",
       "75%        19.000000\n",
       "max      1946.000000\n",
       "Name: Size, dtype: float64"
      ]
     },
     "execution_count": 29,
     "metadata": {},
     "output_type": "execute_result"
    }
   ],
   "source": [
    "# trained size \n",
    "topic_info.Size.describe()"
   ]
  },
  {
   "cell_type": "code",
   "execution_count": 37,
   "metadata": {},
   "outputs": [
    {
     "data": {
      "text/plain": [
       "<AxesSubplot:>"
      ]
     },
     "execution_count": 37,
     "metadata": {},
     "output_type": "execute_result"
    },
    {
     "data": {
      "image/png": "[encoded data removed]",
      "text/plain": [
       "<Figure size 432x288 with 1 Axes>"
      ]
     },
     "metadata": {},
     "output_type": "display_data"
    }
   ],
   "source": [
    "# trained size hist\n",
    "topic_info.Size.hist(bins=50, range=(0,100))"
   ]
  },
  {
   "cell_type": "markdown",
   "metadata": {},
   "source": [
    "* **Cluster trained object noise exploration**\n",
    "\n",
    "[Closest soft clusters and cluster.labels_ do not match](https://stackoverflow.com/questions/44937157/comparing-hdbscan-labels-with-soft-cluster-results)"
   ]
  },
  {
   "cell_type": "code",
   "execution_count": 38,
   "metadata": {},
   "outputs": [
    {
     "data": {
      "text/plain": [
       "<AxesSubplot:ylabel='$\\\\lambda$ value'>"
      ]
     },
     "execution_count": 38,
     "metadata": {},
     "output_type": "execute_result"
    },
    {
     "data": {
      "image/png": "[encoded data removed]",
      "text/plain": [
       "<Figure size 432x288 with 2 Axes>"
      ]
     },
     "metadata": {},
     "output_type": "display_data"
    }
   ],
   "source": [
    "cluster.condensed_tree_.plot(select_clusters=True,\n",
    "                               selection_palette=sns.color_palette('deep', 8))"
   ]
  },
  {
   "cell_type": "code",
   "execution_count": 43,
   "metadata": {},
   "outputs": [
    {
     "name": "stdout",
     "output_type": "stream",
     "text": [
      "[0.11818307 0.71868587 0.00942961 ... 0.32977017 0.47314654 0.14900152]\n",
      "2172\n"
     ]
    }
   ],
   "source": [
    "print(cluster.outlier_scores_)\n",
    "\n",
    "threshold = pd.Series(cluster.outlier_scores_).quantile(0.7)\n",
    "outliers = np.where(cluster.outlier_scores_ > threshold)[0]\n",
    "print(len(outliers))\n",
    "# doesnt look like outliers and noise is same"
   ]
  },
  {
   "cell_type": "code",
   "execution_count": 60,
   "metadata": {},
   "outputs": [
    {
     "name": "stdout",
     "output_type": "stream",
     "text": [
      "276\n"
     ]
    }
   ],
   "source": [
    "print(len(cluster.cluster_persistence_))\n",
    "print(len(cluster.cluster_persistence_))"
   ]
  },
  {
   "cell_type": "code",
   "execution_count": 64,
   "metadata": {},
   "outputs": [
    {
     "data": {
      "image/png": "[encoded data removed]",
      "text/plain": [
       "<Figure size 432x288 with 1 Axes>"
      ]
     },
     "metadata": {},
     "output_type": "display_data"
    }
   ],
   "source": [
    "# not sure how to make use of this\n",
    "plt.hist(cluster.cluster_persistence_, bins=50)\n",
    "plt.show()"
   ]
  },
  {
   "cell_type": "markdown",
   "metadata": {},
   "source": [
    "**Strength of labels (not the same as probability?)**\n",
    "* labels_:ndarray, shape (n_samples, )\n",
    "    * Cluster labels for each point in the dataset given to fit(). Noisy samples are given the label -1.\n",
    "* probabilities_:ndarray, shape (n_samples, )\n",
    "    * The strength with which each sample is a member of its assigned cluster. Noise points have probability zero; points in clusters have values assigned proportional to the degree that they persist as part of the cluster."
   ]
  },
  {
   "cell_type": "code",
   "execution_count": 26,
   "metadata": {},
   "outputs": [
    {
     "data": {
      "text/html": [
       "<div>\n",
       "<style scoped>\n",
       "    .dataframe tbody tr th:only-of-type {\n",
       "        vertical-align: middle;\n",
       "    }\n",
       "\n",
       "    .dataframe tbody tr th {\n",
       "        vertical-align: top;\n",
       "    }\n",
       "\n",
       "    .dataframe thead th {\n",
       "        text-align: right;\n",
       "    }\n",
       "</style>\n",
       "<table border=\"1\" class=\"dataframe\">\n",
       "  <thead>\n",
       "    <tr style=\"text-align: right;\">\n",
       "      <th></th>\n",
       "      <th>min</th>\n",
       "      <th>mean</th>\n",
       "      <th>max</th>\n",
       "    </tr>\n",
       "    <tr>\n",
       "      <th>trained_labels</th>\n",
       "      <th></th>\n",
       "      <th></th>\n",
       "      <th></th>\n",
       "    </tr>\n",
       "  </thead>\n",
       "  <tbody>\n",
       "    <tr>\n",
       "      <th>-1</th>\n",
       "      <td>0.000000</td>\n",
       "      <td>0.000000</td>\n",
       "      <td>0.0</td>\n",
       "    </tr>\n",
       "    <tr>\n",
       "      <th>0</th>\n",
       "      <td>0.037213</td>\n",
       "      <td>0.479764</td>\n",
       "      <td>1.0</td>\n",
       "    </tr>\n",
       "    <tr>\n",
       "      <th>1</th>\n",
       "      <td>0.811527</td>\n",
       "      <td>0.967251</td>\n",
       "      <td>1.0</td>\n",
       "    </tr>\n",
       "    <tr>\n",
       "      <th>2</th>\n",
       "      <td>0.054553</td>\n",
       "      <td>0.524114</td>\n",
       "      <td>1.0</td>\n",
       "    </tr>\n",
       "    <tr>\n",
       "      <th>3</th>\n",
       "      <td>0.048458</td>\n",
       "      <td>0.486613</td>\n",
       "      <td>1.0</td>\n",
       "    </tr>\n",
       "    <tr>\n",
       "      <th>...</th>\n",
       "      <td>...</td>\n",
       "      <td>...</td>\n",
       "      <td>...</td>\n",
       "    </tr>\n",
       "    <tr>\n",
       "      <th>317</th>\n",
       "      <td>0.890377</td>\n",
       "      <td>0.969850</td>\n",
       "      <td>1.0</td>\n",
       "    </tr>\n",
       "    <tr>\n",
       "      <th>318</th>\n",
       "      <td>0.607340</td>\n",
       "      <td>0.866227</td>\n",
       "      <td>1.0</td>\n",
       "    </tr>\n",
       "    <tr>\n",
       "      <th>319</th>\n",
       "      <td>0.435124</td>\n",
       "      <td>0.685373</td>\n",
       "      <td>1.0</td>\n",
       "    </tr>\n",
       "    <tr>\n",
       "      <th>320</th>\n",
       "      <td>0.901170</td>\n",
       "      <td>0.966714</td>\n",
       "      <td>1.0</td>\n",
       "    </tr>\n",
       "    <tr>\n",
       "      <th>321</th>\n",
       "      <td>0.598612</td>\n",
       "      <td>0.837763</td>\n",
       "      <td>1.0</td>\n",
       "    </tr>\n",
       "  </tbody>\n",
       "</table>\n",
       "<p>323 rows × 3 columns</p>\n",
       "</div>"
      ],
      "text/plain": [
       "                     min      mean  max\n",
       "trained_labels                         \n",
       "-1              0.000000  0.000000  0.0\n",
       " 0              0.037213  0.479764  1.0\n",
       " 1              0.811527  0.967251  1.0\n",
       " 2              0.054553  0.524114  1.0\n",
       " 3              0.048458  0.486613  1.0\n",
       "...                  ...       ...  ...\n",
       " 317            0.890377  0.969850  1.0\n",
       " 318            0.607340  0.866227  1.0\n",
       " 319            0.435124  0.685373  1.0\n",
       " 320            0.901170  0.966714  1.0\n",
       " 321            0.598612  0.837763  1.0\n",
       "\n",
       "[323 rows x 3 columns]"
      ]
     },
     "execution_count": 26,
     "metadata": {},
     "output_type": "execute_result"
    }
   ],
   "source": [
    "train_probs = pd.DataFrame({'trained_labels':cluster.labels_, 'probs': cluster.probabilities_})\n",
    "train_probs = train_probs.groupby('trained_labels').agg({'probs':['min', 'mean', 'max']})\n",
    "train_probs.columns = train_probs.columns.droplevel()\n",
    "train_probs"
   ]
  },
  {
   "cell_type": "code",
   "execution_count": 27,
   "metadata": {},
   "outputs": [
    {
     "data": {
      "text/plain": [
       "<AxesSubplot:>"
      ]
     },
     "execution_count": 27,
     "metadata": {},
     "output_type": "execute_result"
    },
    {
     "data": {
      "image/png": "[encoded data removed]",
      "text/plain": [
       "<Figure size 432x288 with 1 Axes>"
      ]
     },
     "metadata": {},
     "output_type": "display_data"
    }
   ],
   "source": [
    "# can implement threshold to take docs only with high probbaility\n",
    "train_probs['min'].hist(bins=50)"
   ]
  },
  {
   "cell_type": "code",
   "execution_count": 28,
   "metadata": {},
   "outputs": [
    {
     "data": {
      "text/plain": [
       "<AxesSubplot:>"
      ]
     },
     "execution_count": 28,
     "metadata": {},
     "output_type": "execute_result"
    },
    {
     "data": {
      "image/png": "[encoded data removed]",
      "text/plain": [
       "<Figure size 432x288 with 1 Axes>"
      ]
     },
     "metadata": {},
     "output_type": "display_data"
    }
   ],
   "source": [
    "train_probs['mean'].hist(bins=50)"
   ]
  },
  {
   "cell_type": "code",
   "execution_count": null,
   "metadata": {},
   "outputs": [],
   "source": []
  },
  {
   "cell_type": "code",
   "execution_count": null,
   "metadata": {},
   "outputs": [],
   "source": []
  },
  {
   "cell_type": "code",
   "execution_count": null,
   "metadata": {},
   "outputs": [],
   "source": []
  },
  {
   "cell_type": "code",
   "execution_count": null,
   "metadata": {},
   "outputs": [],
   "source": []
  },
  {
   "cell_type": "code",
   "execution_count": null,
   "metadata": {},
   "outputs": [],
   "source": []
  },
  {
   "cell_type": "markdown",
   "metadata": {},
   "source": [
    "### --- Soft Clustering ---\n",
    "\n",
    "* Data - Apr 26 - May 02 eligible articles and their trained topics"
   ]
  },
  {
   "cell_type": "code",
   "execution_count": 80,
   "metadata": {},
   "outputs": [
    {
     "name": "stdout",
     "output_type": "stream",
     "text": [
      "(7238, 9)\n"
     ]
    },
    {
     "data": {
      "text/html": [
       "<div>\n",
       "<style scoped>\n",
       "    .dataframe tbody tr th:only-of-type {\n",
       "        vertical-align: middle;\n",
       "    }\n",
       "\n",
       "    .dataframe tbody tr th {\n",
       "        vertical-align: top;\n",
       "    }\n",
       "\n",
       "    .dataframe thead th {\n",
       "        text-align: right;\n",
       "    }\n",
       "</style>\n",
       "<table border=\"1\" class=\"dataframe\">\n",
       "  <thead>\n",
       "    <tr style=\"text-align: right;\">\n",
       "      <th></th>\n",
       "      <th>Doc</th>\n",
       "      <th>Topic</th>\n",
       "      <th>Doc_ID</th>\n",
       "      <th>content_natid</th>\n",
       "      <th>topic_words</th>\n",
       "    </tr>\n",
       "  </thead>\n",
       "  <tbody>\n",
       "    <tr>\n",
       "      <th>0</th>\n",
       "      <td>10 robot vacuums that clean so you dont have to. if youre like most people, vacuuming is low on your list of favorite chores. you can avoid cleaning, or enlist the aid of a robot vacuum to clean your home autonomously. the best robot vacuums are ...</td>\n",
       "      <td>-1</td>\n",
       "      <td>0</td>\n",
       "      <td>blogandpostid/blog/post/4983-5ea87d15960ddf000681c604</td>\n",
       "      <td>remote, age, businesses, leaders, workers, water</td>\n",
       "    </tr>\n",
       "    <tr>\n",
       "      <th>1</th>\n",
       "      <td>these 11 mattress toppers give you the bed of your dreams. while new pillows or a new set of sheets can do a lot to improve how you sleep at night, those small changes arent always enough if there are bigger issues at play, like bad alignment or ...</td>\n",
       "      <td>46</td>\n",
       "      <td>1</td>\n",
       "      <td>blogandpostid/blog/post/4983-5e8de2742c1bdd0006d26298</td>\n",
       "      <td>mattress topper, weighted blanket, cotton, duvet, sheet set, foam</td>\n",
       "    </tr>\n",
       "    <tr>\n",
       "      <th>2</th>\n",
       "      <td>wayfairs biggest sale of the year is officially here. thanks to the pandemic, most of us have spent the past year at home, forced to stare at the same worn-in couch, threadbare arm chair and sparse wall art. so if youre feeling like its time for ...</td>\n",
       "      <td>56</td>\n",
       "      <td>2</td>\n",
       "      <td>blogandpostid/blog/post/4983-60786128cce52e000682cdc4</td>\n",
       "      <td>hair clippers, garden, tertill, best hair, kitchen, june oven</td>\n",
       "    </tr>\n",
       "    <tr>\n",
       "      <th>3</th>\n",
       "      <td>apple ios 14.5 released: massive iphone update with cool features &amp; important fixes. april 28 update below. this post was first published on april 26. apples latest iphone software update is with us. oh, finally. its been a long time coming and i...</td>\n",
       "      <td>60</td>\n",
       "      <td>3</td>\n",
       "      <td>blogandpostid/blog/post/4896-607ebc0543bb4800062917c1</td>\n",
       "      <td>photos, airpods, ubuntu, iphone, windows, linux</td>\n",
       "    </tr>\n",
       "    <tr>\n",
       "      <th>4</th>\n",
       "      <td>apple airtag: all you need to know about the game-changing new gadget. april 28 update below. this post was first published on monday, april 26. apples all-new product category, airtag, is with us in a matter of days. its a small, cute wireless t...</td>\n",
       "      <td>60</td>\n",
       "      <td>4</td>\n",
       "      <td>blogandpostid/blog/post/4896-60873ceb2bbacb0006be2df8</td>\n",
       "      <td>photos, airpods, ubuntu, iphone, windows, linux</td>\n",
       "    </tr>\n",
       "  </tbody>\n",
       "</table>\n",
       "</div>"
      ],
      "text/plain": [
       "                                                                                                                                                                                                                                                         Doc  \\\n",
       "0  10 robot vacuums that clean so you dont have to. if youre like most people, vacuuming is low on your list of favorite chores. you can avoid cleaning, or enlist the aid of a robot vacuum to clean your home autonomously. the best robot vacuums are ...   \n",
       "1  these 11 mattress toppers give you the bed of your dreams. while new pillows or a new set of sheets can do a lot to improve how you sleep at night, those small changes arent always enough if there are bigger issues at play, like bad alignment or ...   \n",
       "2  wayfairs biggest sale of the year is officially here. thanks to the pandemic, most of us have spent the past year at home, forced to stare at the same worn-in couch, threadbare arm chair and sparse wall art. so if youre feeling like its time for ...   \n",
       "3  apple ios 14.5 released: massive iphone update with cool features & important fixes. april 28 update below. this post was first published on april 26. apples latest iphone software update is with us. oh, finally. its been a long time coming and i...   \n",
       "4  apple airtag: all you need to know about the game-changing new gadget. april 28 update below. this post was first published on monday, april 26. apples all-new product category, airtag, is with us in a matter of days. its a small, cute wireless t...   \n",
       "\n",
       "   Topic  Doc_ID                                          content_natid  \\\n",
       "0     -1       0  blogandpostid/blog/post/4983-5ea87d15960ddf000681c604   \n",
       "1     46       1  blogandpostid/blog/post/4983-5e8de2742c1bdd0006d26298   \n",
       "2     56       2  blogandpostid/blog/post/4983-60786128cce52e000682cdc4   \n",
       "3     60       3  blogandpostid/blog/post/4896-607ebc0543bb4800062917c1   \n",
       "4     60       4  blogandpostid/blog/post/4896-60873ceb2bbacb0006be2df8   \n",
       "\n",
       "                                                         topic_words  \n",
       "0                   remote, age, businesses, leaders, workers, water  \n",
       "1  mattress topper, weighted blanket, cotton, duvet, sheet set, foam  \n",
       "2      hair clippers, garden, tertill, best hair, kitchen, june oven  \n",
       "3                    photos, airpods, ubuntu, iphone, windows, linux  \n",
       "4                    photos, airpods, ubuntu, iphone, windows, linux  "
      ]
     },
     "execution_count": 80,
     "metadata": {},
     "output_type": "execute_result"
    }
   ],
   "source": [
    "print(full_train_topics.shape)\n",
    "full_train_topics[['Doc', 'Topic', 'Doc_ID', 'content_natid', 'topic_words']].head()"
   ]
  },
  {
   "cell_type": "markdown",
   "metadata": {},
   "source": [
    "**From API Docs:**\n",
    "\n",
    "* Traditional clustering - assigns each point in a data set to a cluster (or to noise). This is a hard assignment; there are no mixed memberships. A point near the edge of one cluster and also close to a second cluster, is just as much “in the first cluster” as in the second cluster. So, if the clustering algorithm supports noise assignments, then points are simply assigned as “noise”. We are left with no idea as to which, if any cluster, they might have just missed the cut on being in\n",
    "    *  Uses hierarchical clustering\n",
    "    \n",
    "\n",
    "* Soft Clustering - here points are not assigned cluster labels, but are instead assigned a vector of probabilities. This allows points to potentially be a mix of clusters. By looking at the vector a data scientist can discern how strongly a point is in a cluster, and which other clusters it is related to. \n",
    "    * Uses conditional probabilities\n",
    "    \n",
    "    \n",
    "* Soft cluster probabilities are not generated with the same principle as clustering happened"
   ]
  },
  {
   "cell_type": "code",
   "execution_count": null,
   "metadata": {},
   "outputs": [],
   "source": [
    "# this gives probabilities for above df\n",
    "temp = hdbscan.prediction.all_points_membership_vectors(cluster)"
   ]
  },
  {
   "cell_type": "code",
   "execution_count": 50,
   "metadata": {},
   "outputs": [
    {
     "name": "stdout",
     "output_type": "stream",
     "text": [
      "Total topics including noise 323\n",
      "Vector size of Probability of row being in a cluster (excluding noise) 322\n"
     ]
    }
   ],
   "source": [
    "print('Total topics including noise', len(docs_df.Topic.unique()))\n",
    "print('Vector size of Probability of row being in a cluster (excluding noise)', len(temp[0]))"
   ]
  },
  {
   "cell_type": "code",
   "execution_count": 51,
   "metadata": {},
   "outputs": [
    {
     "name": "stdout",
     "output_type": "stream",
     "text": [
      "7238\n"
     ]
    }
   ],
   "source": [
    "# soft clustering\n",
    "\n",
    "closest_clusters = [np.argmax(x) for x in temp]\n",
    "\n",
    "probs = []\n",
    "for i in range(len(temp)):\n",
    "    probs.append(temp[i][closest_clusters[i]])\n",
    "print(len(probs))\n",
    "\n",
    "inspect = docs_df[['Doc', 'Doc_ID', 'Topic']].copy()\n",
    "inspect['closest_clusters'] = closest_clusters\n",
    "inspect['closest_cluster_prob'] = probs"
   ]
  },
  {
   "cell_type": "code",
   "execution_count": 39,
   "metadata": {
    "collapsed": true,
    "jupyter": {
     "outputs_hidden": true
    }
   },
   "outputs": [
    {
     "name": "stdout",
     "output_type": "stream",
     "text": [
      "(18, 5)\n"
     ]
    },
    {
     "data": {
      "text/html": [
       "<div>\n",
       "<style scoped>\n",
       "    .dataframe tbody tr th:only-of-type {\n",
       "        vertical-align: middle;\n",
       "    }\n",
       "\n",
       "    .dataframe tbody tr th {\n",
       "        vertical-align: top;\n",
       "    }\n",
       "\n",
       "    .dataframe thead th {\n",
       "        text-align: right;\n",
       "    }\n",
       "</style>\n",
       "<table border=\"1\" class=\"dataframe\">\n",
       "  <thead>\n",
       "    <tr style=\"text-align: right;\">\n",
       "      <th></th>\n",
       "      <th>Doc</th>\n",
       "      <th>Doc_ID</th>\n",
       "      <th>Topic</th>\n",
       "      <th>closest_clusters</th>\n",
       "      <th>closest_cluster_prob</th>\n",
       "    </tr>\n",
       "  </thead>\n",
       "  <tbody>\n",
       "    <tr>\n",
       "      <th>93</th>\n",
       "      <td>10 years ago today, bitcoin creator satoshi nakamoto sent his final message. on april 26, 2011, bitcoin creator satoshi nakamoto sent his final emails to fellow developers in which he made clear he had moved on to other projects, at the time hand...</td>\n",
       "      <td>93</td>\n",
       "      <td>-1</td>\n",
       "      <td>189</td>\n",
       "      <td>0.228787</td>\n",
       "    </tr>\n",
       "  </tbody>\n",
       "</table>\n",
       "</div>"
      ],
      "text/plain": [
       "                                                                                                                                                                                                                                                          Doc  \\\n",
       "93  10 years ago today, bitcoin creator satoshi nakamoto sent his final message. on april 26, 2011, bitcoin creator satoshi nakamoto sent his final emails to fellow developers in which he made clear he had moved on to other projects, at the time hand...   \n",
       "\n",
       "    Doc_ID  Topic  closest_clusters  closest_cluster_prob  \n",
       "93      93     -1               189              0.228787  "
      ]
     },
     "execution_count": 39,
     "metadata": {},
     "output_type": "execute_result"
    }
   ],
   "source": [
    "# TRIAL - SEE POINTS WITH CLOSE TO 2 CLUSTER\n",
    "def top_two_probs_diff(probs):\n",
    "    sorted_probs = np.sort(probs)\n",
    "    return sorted_probs[-1] - sorted_probs[-2]\n",
    "\n",
    "# Compute the differences between the top two probabilities\n",
    "diffs = np.array([top_two_probs_diff(x) for x in temp])\n",
    "# Select out the indices that have a small difference, and a larger total probability\n",
    "mixed_points = np.where((diffs < 0.001) & (np.sum(temp, axis=1) > 0.5))[0]\n",
    "\n",
    "print(len(diffs))\n",
    "print(diffs[0])\n",
    "\n",
    "docs_df[docs_df.index.isin(mixed_points)].Topic.value_counts()\n",
    "\n",
    "# TRIAL - JUST SEE ARGMAX OUTPUTS\n",
    "print(\"===TRAINING===\")\n",
    "print(np.argmax(temp[0]))\n",
    "print(temp[0][48])\n",
    "print()\n",
    "print(np.argmax(temp[1]))\n",
    "print(temp[1][46])\n",
    "print()\n",
    "\n",
    "# TRIAL - ASSIGN CLOSEST CLUSTERS AND SEE MISMATCH IN LABELS ISSUE\n",
    "insp_noise = inspect[inspect.Topic==-1]\n",
    "print(insp_noise[insp_noise.closest_cluster_prob>0.2].shape)\n",
    "insp_noise[insp_noise.closest_cluster_prob>0.2].head(1)\n",
    "\n",
    "print(\"Matching labels\", inspect[inspect.Topic== inspect.closest_clusters].shape)\n",
    "print(\"Non-Matching labels\", inspect[inspect.Topic != inspect.closest_clusters].shape)\n",
    "\n",
    "inspect[inspect.Topic != inspect.closest_clusters].Topic.value_counts()\n",
    "\n",
    "inspect[inspect.Topic != inspect.closest_clusters].Topic.value_counts().sum()\n",
    "\n",
    "# just 167 non-noise rows' soft clusters are not aligning with their orig assigned label - MISMATCH IS NOT HUGE ISSUE\n",
    "inspect[(inspect.Topic != inspect.closest_clusters) & (inspect.Topic !=-1)].shape\n",
    "\n",
    "# closest cluster probabilities for non-noise mismatches\n",
    "inspect[(inspect.Topic != inspect.closest_clusters) & (inspect.Topic !=-1)].closest_cluster_prob.describe()\n",
    "\n",
    "# closest cluster probabilities for noise \n",
    "inspect[(inspect.Topic != inspect.closest_clusters) & (inspect.Topic ==-1)].closest_cluster_prob.describe()"
   ]
  },
  {
   "cell_type": "code",
   "execution_count": 56,
   "metadata": {},
   "outputs": [],
   "source": [
    "to_save = inspect[(inspect.Topic != inspect.closest_clusters) & (inspect.Topic ==-1)]\n",
    "to_save = pd.merge(to_save, topic_info, how='left', left_on=\"closest_clusters\", right_on=\"topic_num\")\n",
    "to_save = to_save[['Doc', 'Doc_ID', 'Topic', 'closest_clusters', 'closest_cluster_prob', 'topic_words']]\n",
    "# to_save.to_csv(\"softcluster_label_mismatch_may03_trained.csv\", index=False)"
   ]
  },
  {
   "cell_type": "markdown",
   "metadata": {},
   "source": [
    "* Assign closest clusters as topics to articles and inspect the noise articles"
   ]
  },
  {
   "cell_type": "code",
   "execution_count": 59,
   "metadata": {},
   "outputs": [
    {
     "data": {
      "text/html": [
       "<div>\n",
       "<style scoped>\n",
       "    .dataframe tbody tr th:only-of-type {\n",
       "        vertical-align: middle;\n",
       "    }\n",
       "\n",
       "    .dataframe tbody tr th {\n",
       "        vertical-align: top;\n",
       "    }\n",
       "\n",
       "    .dataframe thead th {\n",
       "        text-align: right;\n",
       "    }\n",
       "</style>\n",
       "<table border=\"1\" class=\"dataframe\">\n",
       "  <thead>\n",
       "    <tr style=\"text-align: right;\">\n",
       "      <th></th>\n",
       "      <th>Doc</th>\n",
       "      <th>Doc_ID</th>\n",
       "      <th>Topic</th>\n",
       "      <th>closest_clusters</th>\n",
       "      <th>closest_cluster_prob</th>\n",
       "      <th>topic_words</th>\n",
       "    </tr>\n",
       "  </thead>\n",
       "  <tbody>\n",
       "    <tr>\n",
       "      <th>0</th>\n",
       "      <td>10 robot vacuums that clean so you dont have to. if youre like most people, vacuuming is low on your list of favorite chores. you can avoid cleaning, or enlist the aid of a robot vacuum to clean your home autonomously. the best robot vacuums are ...</td>\n",
       "      <td>0</td>\n",
       "      <td>-1</td>\n",
       "      <td>48</td>\n",
       "      <td>0.029913</td>\n",
       "      <td>sofa, furniture, inches, seating, living room, wall</td>\n",
       "    </tr>\n",
       "    <tr>\n",
       "      <th>1</th>\n",
       "      <td>two nightmare scenarios for bitcoin. cryptocurrencies could be damned if they do get government acceptance, and damned if they dont. yes, thats right, there is a route to oblivion whichever way the cookie crumbles. government crypto ban? heres th...</td>\n",
       "      <td>9</td>\n",
       "      <td>-1</td>\n",
       "      <td>224</td>\n",
       "      <td>0.059002</td>\n",
       "      <td>ripple, kirkpatrick, ants, currency, xrp ledger, publicis</td>\n",
       "    </tr>\n",
       "    <tr>\n",
       "      <th>2</th>\n",
       "      <td>luminar partners with airbus on laser lidar sensors for robotic aircraft. luminar, a newly public maker of laser lidar sensors, is stepping beyond self-driving cars to partner with airbus advanced technology arm to determine if 3-d vision improve...</td>\n",
       "      <td>10</td>\n",
       "      <td>-1</td>\n",
       "      <td>235</td>\n",
       "      <td>0.032495</td>\n",
       "      <td>million valuation, funding, headquarters san, ai, francisco founders, california founders</td>\n",
       "    </tr>\n",
       "  </tbody>\n",
       "</table>\n",
       "</div>"
      ],
      "text/plain": [
       "                                                                                                                                                                                                                                                         Doc  \\\n",
       "0  10 robot vacuums that clean so you dont have to. if youre like most people, vacuuming is low on your list of favorite chores. you can avoid cleaning, or enlist the aid of a robot vacuum to clean your home autonomously. the best robot vacuums are ...   \n",
       "1  two nightmare scenarios for bitcoin. cryptocurrencies could be damned if they do get government acceptance, and damned if they dont. yes, thats right, there is a route to oblivion whichever way the cookie crumbles. government crypto ban? heres th...   \n",
       "2  luminar partners with airbus on laser lidar sensors for robotic aircraft. luminar, a newly public maker of laser lidar sensors, is stepping beyond self-driving cars to partner with airbus advanced technology arm to determine if 3-d vision improve...   \n",
       "\n",
       "   Doc_ID  Topic  closest_clusters  closest_cluster_prob  \\\n",
       "0       0     -1                48              0.029913   \n",
       "1       9     -1               224              0.059002   \n",
       "2      10     -1               235              0.032495   \n",
       "\n",
       "                                                                                 topic_words  \n",
       "0                                        sofa, furniture, inches, seating, living room, wall  \n",
       "1                                  ripple, kirkpatrick, ants, currency, xrp ledger, publicis  \n",
       "2  million valuation, funding, headquarters san, ai, francisco founders, california founders  "
      ]
     },
     "execution_count": 59,
     "metadata": {},
     "output_type": "execute_result"
    }
   ],
   "source": [
    "to_save.head(3)"
   ]
  },
  {
   "cell_type": "markdown",
   "metadata": {},
   "source": [
    "**From API Docs:**\n",
    "* Noise point will usually be assigned low probabilities of being in any cluster, but you can discern which clusters they are closer to, or even if they were very nearly part of a cluster."
   ]
  },
  {
   "cell_type": "code",
   "execution_count": 62,
   "metadata": {},
   "outputs": [
    {
     "name": "stdout",
     "output_type": "stream",
     "text": [
      "Probabilities assigned to noise points:\n"
     ]
    },
    {
     "data": {
      "image/png": "[encoded data removed]",
      "text/plain": [
       "<Figure size 432x288 with 1 Axes>"
      ]
     },
     "metadata": {},
     "output_type": "display_data"
    }
   ],
   "source": [
    "print(\"Probabilities assigned to noise points:\")\n",
    "inspect[inspect.Topic==-1].closest_cluster_prob.hist(bins=50)\n",
    "plt.show()"
   ]
  },
  {
   "cell_type": "markdown",
   "metadata": {},
   "source": [
    "| Metrics  | Threshold 0.3      | Threshold 0.15 |\n",
    "| -----------| ----------- | ----------- |\n",
    "| Number of noise articles that will get a topic | 7      | 59       |\n",
    "| Quality of Topics assigned to noise articles | 5 - good, 2 - bad   | 30 - good, 29 - bad        |"
   ]
  },
  {
   "cell_type": "markdown",
   "metadata": {},
   "source": [
    "* Threshold 0.15?"
   ]
  },
  {
   "cell_type": "code",
   "execution_count": 75,
   "metadata": {},
   "outputs": [
    {
     "data": {
      "text/html": [
       "<div>\n",
       "<style scoped>\n",
       "    .dataframe tbody tr th:only-of-type {\n",
       "        vertical-align: middle;\n",
       "    }\n",
       "\n",
       "    .dataframe tbody tr th {\n",
       "        vertical-align: top;\n",
       "    }\n",
       "\n",
       "    .dataframe thead th {\n",
       "        text-align: right;\n",
       "    }\n",
       "</style>\n",
       "<table border=\"1\" class=\"dataframe\">\n",
       "  <thead>\n",
       "    <tr style=\"text-align: right;\">\n",
       "      <th></th>\n",
       "      <th>Doc</th>\n",
       "      <th>Doc_ID</th>\n",
       "      <th>Topic</th>\n",
       "      <th>closest_clusters</th>\n",
       "      <th>closest_cluster_prob</th>\n",
       "      <th>topic_words</th>\n",
       "    </tr>\n",
       "  </thead>\n",
       "  <tbody>\n",
       "    <tr>\n",
       "      <th>1916</th>\n",
       "      <td>how a distributed workforce can offer more opportunities. sergei anikin is chief technical officer at pipedrive , a global sales crm. only a few businesses had remote workforces before last year, but remote work is now normal across the world dri...</td>\n",
       "      <td>7118</td>\n",
       "      <td>-1</td>\n",
       "      <td>280</td>\n",
       "      <td>0.164314</td>\n",
       "      <td>project management, scenario planning, flamini, focal issue, flat structure, ally</td>\n",
       "    </tr>\n",
       "    <tr>\n",
       "      <th>1930</th>\n",
       "      <td>the top 25 youtube vr videos of 2019. got a new holiday vr headset? immerse yourself in these standout vr videos from 2019. with the official launches of the oculus quest, valve index, varjo vr-1, and hp reverb headsets, 2019 was a big year for v...</td>\n",
       "      <td>7181</td>\n",
       "      <td>-1</td>\n",
       "      <td>42</td>\n",
       "      <td>0.157969</td>\n",
       "      <td>torch lake, vr, trout, rivers, immersive, michigan</td>\n",
       "    </tr>\n",
       "  </tbody>\n",
       "</table>\n",
       "</div>"
      ],
      "text/plain": [
       "                                                                                                                                                                                                                                                            Doc  \\\n",
       "1916  how a distributed workforce can offer more opportunities. sergei anikin is chief technical officer at pipedrive , a global sales crm. only a few businesses had remote workforces before last year, but remote work is now normal across the world dri...   \n",
       "1930  the top 25 youtube vr videos of 2019. got a new holiday vr headset? immerse yourself in these standout vr videos from 2019. with the official launches of the oculus quest, valve index, varjo vr-1, and hp reverb headsets, 2019 was a big year for v...   \n",
       "\n",
       "      Doc_ID  Topic  closest_clusters  closest_cluster_prob  \\\n",
       "1916    7118     -1               280              0.164314   \n",
       "1930    7181     -1                42              0.157969   \n",
       "\n",
       "                                                                            topic_words  \n",
       "1916  project management, scenario planning, flamini, focal issue, flat structure, ally  \n",
       "1930                                 torch lake, vr, trout, rivers, immersive, michigan  "
      ]
     },
     "execution_count": 75,
     "metadata": {},
     "output_type": "execute_result"
    }
   ],
   "source": [
    "to_save[to_save.closest_cluster_prob>=0.15].tail(2)"
   ]
  },
  {
   "cell_type": "markdown",
   "metadata": {},
   "source": [
    "* Observations:\n",
    "    * Not a significant gain in assinging topics to noise articles, unless threshold is dropped very low (between 0 and 0.1) but then quality of assignment decreases \n",
    "\n",
    "\n",
    "* Drawback:\n",
    "    * Its an experimental feature \n",
    "    * People have raised issues on inconsistent probabilities, i.e. point which made complete sense for being in a cluster was assigned low probability"
   ]
  },
  {
   "cell_type": "code",
   "execution_count": null,
   "metadata": {},
   "outputs": [],
   "source": []
  },
  {
   "cell_type": "code",
   "execution_count": null,
   "metadata": {},
   "outputs": [],
   "source": []
  },
  {
   "cell_type": "code",
   "execution_count": null,
   "metadata": {},
   "outputs": [],
   "source": []
  },
  {
   "cell_type": "code",
   "execution_count": null,
   "metadata": {},
   "outputs": [],
   "source": []
  },
  {
   "cell_type": "code",
   "execution_count": null,
   "metadata": {},
   "outputs": [],
   "source": []
  },
  {
   "cell_type": "code",
   "execution_count": null,
   "metadata": {},
   "outputs": [],
   "source": []
  },
  {
   "cell_type": "code",
   "execution_count": 88,
   "metadata": {},
   "outputs": [
    {
     "data": {
      "text/html": [
       "<div>\n",
       "<style scoped>\n",
       "    .dataframe tbody tr th:only-of-type {\n",
       "        vertical-align: middle;\n",
       "    }\n",
       "\n",
       "    .dataframe tbody tr th {\n",
       "        vertical-align: top;\n",
       "    }\n",
       "\n",
       "    .dataframe thead th {\n",
       "        text-align: right;\n",
       "    }\n",
       "</style>\n",
       "<table border=\"1\" class=\"dataframe\">\n",
       "  <thead>\n",
       "    <tr style=\"text-align: right;\">\n",
       "      <th></th>\n",
       "      <th>Doc</th>\n",
       "      <th>Doc_ID</th>\n",
       "      <th>Topic</th>\n",
       "      <th>closest_clusters</th>\n",
       "      <th>closest_cluster_prob</th>\n",
       "      <th>topic_num</th>\n",
       "      <th>topic_words</th>\n",
       "    </tr>\n",
       "  </thead>\n",
       "  <tbody>\n",
       "    <tr>\n",
       "      <th>3</th>\n",
       "      <td>apple airtag: all you need to know about the game-changing new gadget. april 28 update below. this post was first published on monday, april 26. apples all-new product category, airtag, is with us in a matter of days. its a small, cute wireless t...</td>\n",
       "      <td>4</td>\n",
       "      <td>60</td>\n",
       "      <td>60</td>\n",
       "      <td>1.000000</td>\n",
       "      <td>60</td>\n",
       "      <td>photos, airpods, ubuntu, iphone, windows, linux</td>\n",
       "    </tr>\n",
       "    <tr>\n",
       "      <th>4</th>\n",
       "      <td>these 10 cozy down alternative comforters make your bed feel extra luxurious. your bed should be your safe haven. your place to escape after a long dayor to curl up on a sunday morning when you have nothing to do but drink coffee in bed, engulfed...</td>\n",
       "      <td>5</td>\n",
       "      <td>46</td>\n",
       "      <td>46</td>\n",
       "      <td>0.288712</td>\n",
       "      <td>46</td>\n",
       "      <td>mattress topper, weighted blanket, cotton, duvet, sheet set, foam</td>\n",
       "    </tr>\n",
       "  </tbody>\n",
       "</table>\n",
       "</div>"
      ],
      "text/plain": [
       "                                                                                                                                                                                                                                                         Doc  \\\n",
       "3  apple airtag: all you need to know about the game-changing new gadget. april 28 update below. this post was first published on monday, april 26. apples all-new product category, airtag, is with us in a matter of days. its a small, cute wireless t...   \n",
       "4  these 10 cozy down alternative comforters make your bed feel extra luxurious. your bed should be your safe haven. your place to escape after a long dayor to curl up on a sunday morning when you have nothing to do but drink coffee in bed, engulfed...   \n",
       "\n",
       "   Doc_ID  Topic  closest_clusters  closest_cluster_prob  topic_num  \\\n",
       "3       4     60                60              1.000000         60   \n",
       "4       5     46                46              0.288712         46   \n",
       "\n",
       "                                                         topic_words  \n",
       "3                    photos, airpods, ubuntu, iphone, windows, linux  \n",
       "4  mattress topper, weighted blanket, cotton, duvet, sheet set, foam  "
      ]
     },
     "execution_count": 88,
     "metadata": {},
     "output_type": "execute_result"
    }
   ],
   "source": [
    "pd.merge(inspect[(inspect.Topic !=-1)], topic_info[['topic_num', 'topic_words']], how='left', left_on=\"closest_clusters\", right_on=\"topic_num\").loc[3:4]"
   ]
  },
  {
   "cell_type": "markdown",
   "metadata": {},
   "source": [
    "* Probability distribution for non-noise articles"
   ]
  },
  {
   "cell_type": "code",
   "execution_count": 87,
   "metadata": {},
   "outputs": [
    {
     "data": {
      "text/plain": [
       "count    5292.000000\n",
       "mean        0.517257\n",
       "std         0.419583\n",
       "min         0.001868\n",
       "25%         0.106844\n",
       "50%         0.344477\n",
       "75%         1.000000\n",
       "max         1.000000\n",
       "Name: closest_cluster_prob, dtype: float64"
      ]
     },
     "execution_count": 87,
     "metadata": {},
     "output_type": "execute_result"
    }
   ],
   "source": [
    "inspect[(inspect.Topic !=-1)].closest_cluster_prob.describe()"
   ]
  },
  {
   "cell_type": "code",
   "execution_count": null,
   "metadata": {},
   "outputs": [],
   "source": []
  },
  {
   "cell_type": "code",
   "execution_count": null,
   "metadata": {},
   "outputs": [],
   "source": []
  },
  {
   "cell_type": "markdown",
   "metadata": {},
   "source": [
    "* **Noise cossine similarity experiement**"
   ]
  },
  {
   "cell_type": "code",
   "execution_count": null,
   "metadata": {},
   "outputs": [],
   "source": [
    "from sklearn.metrics.pairwise import cosine_similarity"
   ]
  },
  {
   "cell_type": "code",
   "execution_count": 206,
   "metadata": {},
   "outputs": [],
   "source": [
    "eligible_topics = sorted(docs_df.Topic.unique())[1:]"
   ]
  },
  {
   "cell_type": "code",
   "execution_count": 207,
   "metadata": {},
   "outputs": [],
   "source": [
    "exp_dict={}\n",
    "for topic_num in eligible_topics:\n",
    "\n",
    "    topic_group = docs_df[docs_df.Topic== topic_num]\n",
    "    #     print(topic_group.shape)\n",
    "    \n",
    "    # grab all articles of given topic\n",
    "    group_embeddings = [train_embeds[i] for i in list(topic_group.index)] # use Doc_ID as index instead - less error prone\n",
    "\n",
    "    #     print(len(group_embeddings))\n",
    "    exp_dict[topic_num] =np.mean(group_embeddings, axis=0)"
   ]
  },
  {
   "cell_type": "code",
   "execution_count": 208,
   "metadata": {},
   "outputs": [
    {
     "name": "stdout",
     "output_type": "stream",
     "text": [
      "(2307, 10)\n",
      "2307\n"
     ]
    }
   ],
   "source": [
    "print(to_save.shape)\n",
    "to_save_embeds =  [train_embeds[i] for i in list(to_save.Doc_ID)]\n",
    "print(len(to_save_embeds))"
   ]
  },
  {
   "cell_type": "code",
   "execution_count": 229,
   "metadata": {},
   "outputs": [
    {
     "name": "stdout",
     "output_type": "stream",
     "text": [
      "276\n",
      "52\n"
     ]
    }
   ],
   "source": [
    "print(len(cosine_similarity([to_save_embeds[0]], list(exp_dict.values()))[0]))\n",
    "print(np.argmax(cosine_similarity([to_save_embeds[0]], list(exp_dict.values()))[0]))"
   ]
  },
  {
   "cell_type": "code",
   "execution_count": 232,
   "metadata": {},
   "outputs": [
    {
     "data": {
      "text/plain": [
       "2307"
      ]
     },
     "execution_count": 232,
     "metadata": {},
     "output_type": "execute_result"
    }
   ],
   "source": [
    "len(to_save_embeds)"
   ]
  },
  {
   "cell_type": "code",
   "execution_count": 233,
   "metadata": {},
   "outputs": [],
   "source": [
    "cosine_topics = []\n",
    "for noise in to_save_embeds:\n",
    "    cosine_topics.append(np.argmax(cosine_similarity([noise], list(exp_dict.values()))[0]))"
   ]
  },
  {
   "cell_type": "code",
   "execution_count": 235,
   "metadata": {},
   "outputs": [
    {
     "name": "stdout",
     "output_type": "stream",
     "text": [
      "2307\n",
      "52\n"
     ]
    }
   ],
   "source": [
    "print(len(cosine_topics))\n",
    "print((cosine_topics[0]))"
   ]
  },
  {
   "cell_type": "code",
   "execution_count": 237,
   "metadata": {},
   "outputs": [],
   "source": [
    "to_save[\"cosine_topics\"] = cosine_topics"
   ]
  },
  {
   "cell_type": "code",
   "execution_count": 240,
   "metadata": {},
   "outputs": [
    {
     "data": {
      "text/html": [
       "<div>\n",
       "<style scoped>\n",
       "    .dataframe tbody tr th:only-of-type {\n",
       "        vertical-align: middle;\n",
       "    }\n",
       "\n",
       "    .dataframe tbody tr th {\n",
       "        vertical-align: top;\n",
       "    }\n",
       "\n",
       "    .dataframe thead th {\n",
       "        text-align: right;\n",
       "    }\n",
       "</style>\n",
       "<table border=\"1\" class=\"dataframe\">\n",
       "  <thead>\n",
       "    <tr style=\"text-align: right;\">\n",
       "      <th></th>\n",
       "      <th>Doc</th>\n",
       "      <th>Doc_ID</th>\n",
       "      <th>Topic</th>\n",
       "      <th>closest_clusters</th>\n",
       "      <th>closest_cluster_prob</th>\n",
       "      <th>topic_num</th>\n",
       "      <th>topic_words</th>\n",
       "      <th>Size</th>\n",
       "      <th>cos_min</th>\n",
       "      <th>cos_mean</th>\n",
       "      <th>cosine_topics</th>\n",
       "    </tr>\n",
       "  </thead>\n",
       "  <tbody>\n",
       "    <tr>\n",
       "      <th>0</th>\n",
       "      <td>10 robot vacuums that clean so you dont have to. if youre like most people, vacuuming is low on your list of favorite chores. you can avoid cleaning, or enlist the aid of a robot vacuum to clean your home autonomously. the best robot vacuums are ...</td>\n",
       "      <td>0</td>\n",
       "      <td>-1</td>\n",
       "      <td>45</td>\n",
       "      <td>0.042042</td>\n",
       "      <td>45</td>\n",
       "      <td>sofa, furniture, inches, seating, living room, coffee table</td>\n",
       "      <td>5</td>\n",
       "      <td>0.73</td>\n",
       "      <td>0.86</td>\n",
       "      <td>52</td>\n",
       "    </tr>\n",
       "  </tbody>\n",
       "</table>\n",
       "</div>"
      ],
      "text/plain": [
       "                                                                                                                                                                                                                                                         Doc  \\\n",
       "0  10 robot vacuums that clean so you dont have to. if youre like most people, vacuuming is low on your list of favorite chores. you can avoid cleaning, or enlist the aid of a robot vacuum to clean your home autonomously. the best robot vacuums are ...   \n",
       "\n",
       "   Doc_ID  Topic  closest_clusters  closest_cluster_prob  topic_num  \\\n",
       "0       0     -1                45              0.042042         45   \n",
       "\n",
       "                                                   topic_words  Size  cos_min  \\\n",
       "0  sofa, furniture, inches, seating, living room, coffee table     5     0.73   \n",
       "\n",
       "   cos_mean  cosine_topics  \n",
       "0      0.86             52  "
      ]
     },
     "execution_count": 240,
     "metadata": {},
     "output_type": "execute_result"
    }
   ],
   "source": [
    "to_save.head(1)"
   ]
  },
  {
   "cell_type": "code",
   "execution_count": 241,
   "metadata": {},
   "outputs": [
    {
     "data": {
      "text/html": [
       "<div>\n",
       "<style scoped>\n",
       "    .dataframe tbody tr th:only-of-type {\n",
       "        vertical-align: middle;\n",
       "    }\n",
       "\n",
       "    .dataframe tbody tr th {\n",
       "        vertical-align: top;\n",
       "    }\n",
       "\n",
       "    .dataframe thead th {\n",
       "        text-align: right;\n",
       "    }\n",
       "</style>\n",
       "<table border=\"1\" class=\"dataframe\">\n",
       "  <thead>\n",
       "    <tr style=\"text-align: right;\">\n",
       "      <th></th>\n",
       "      <th>topic_num</th>\n",
       "      <th>topic_words</th>\n",
       "      <th>Size</th>\n",
       "      <th>cos_min</th>\n",
       "      <th>cos_mean</th>\n",
       "    </tr>\n",
       "  </thead>\n",
       "  <tbody>\n",
       "    <tr>\n",
       "      <th>0</th>\n",
       "      <td>-1</td>\n",
       "      <td>women, age, remote, businesses, human, leaders</td>\n",
       "      <td>2159</td>\n",
       "      <td>-0.05</td>\n",
       "      <td>0.71</td>\n",
       "    </tr>\n",
       "  </tbody>\n",
       "</table>\n",
       "</div>"
      ],
      "text/plain": [
       "   topic_num                                     topic_words  Size  cos_min  \\\n",
       "0         -1  women, age, remote, businesses, human, leaders  2159    -0.05   \n",
       "\n",
       "   cos_mean  \n",
       "0      0.71  "
      ]
     },
     "execution_count": 241,
     "metadata": {},
     "output_type": "execute_result"
    }
   ],
   "source": [
    "topic_info.head(1)"
   ]
  },
  {
   "cell_type": "code",
   "execution_count": 245,
   "metadata": {},
   "outputs": [
    {
     "data": {
      "text/html": [
       "<div>\n",
       "<style scoped>\n",
       "    .dataframe tbody tr th:only-of-type {\n",
       "        vertical-align: middle;\n",
       "    }\n",
       "\n",
       "    .dataframe tbody tr th {\n",
       "        vertical-align: top;\n",
       "    }\n",
       "\n",
       "    .dataframe thead th {\n",
       "        text-align: right;\n",
       "    }\n",
       "</style>\n",
       "<table border=\"1\" class=\"dataframe\">\n",
       "  <thead>\n",
       "    <tr style=\"text-align: right;\">\n",
       "      <th></th>\n",
       "      <th>Doc</th>\n",
       "      <th>Doc_ID</th>\n",
       "      <th>Topic</th>\n",
       "      <th>closest_clusters</th>\n",
       "      <th>closest_cluster_prob</th>\n",
       "      <th>topic_num_x</th>\n",
       "      <th>topic_words_x</th>\n",
       "      <th>Size</th>\n",
       "      <th>cos_min</th>\n",
       "      <th>cos_mean</th>\n",
       "      <th>cosine_topics</th>\n",
       "      <th>topic_num_y</th>\n",
       "      <th>topic_words_y</th>\n",
       "    </tr>\n",
       "  </thead>\n",
       "  <tbody>\n",
       "    <tr>\n",
       "      <th>0</th>\n",
       "      <td>10 robot vacuums that clean so you dont have to. if youre like most people, vacuuming is low on your list of favorite chores. you can avoid cleaning, or enlist the aid of a robot vacuum to clean your home autonomously. the best robot vacuums are ...</td>\n",
       "      <td>0</td>\n",
       "      <td>-1</td>\n",
       "      <td>45</td>\n",
       "      <td>0.042042</td>\n",
       "      <td>45</td>\n",
       "      <td>sofa, furniture, inches, seating, living room, coffee table</td>\n",
       "      <td>5</td>\n",
       "      <td>0.73</td>\n",
       "      <td>0.86</td>\n",
       "      <td>52</td>\n",
       "      <td>52</td>\n",
       "      <td>cast iron, toaster, grill, fridge, kitchen, air fryer</td>\n",
       "    </tr>\n",
       "  </tbody>\n",
       "</table>\n",
       "</div>"
      ],
      "text/plain": [
       "                                                                                                                                                                                                                                                         Doc  \\\n",
       "0  10 robot vacuums that clean so you dont have to. if youre like most people, vacuuming is low on your list of favorite chores. you can avoid cleaning, or enlist the aid of a robot vacuum to clean your home autonomously. the best robot vacuums are ...   \n",
       "\n",
       "   Doc_ID  Topic  closest_clusters  closest_cluster_prob  topic_num_x  \\\n",
       "0       0     -1                45              0.042042           45   \n",
       "\n",
       "                                                 topic_words_x  Size  cos_min  \\\n",
       "0  sofa, furniture, inches, seating, living room, coffee table     5     0.73   \n",
       "\n",
       "   cos_mean  cosine_topics  topic_num_y  \\\n",
       "0      0.86             52           52   \n",
       "\n",
       "                                           topic_words_y  \n",
       "0  cast iron, toaster, grill, fridge, kitchen, air fryer  "
      ]
     },
     "execution_count": 245,
     "metadata": {},
     "output_type": "execute_result"
    }
   ],
   "source": [
    "final_to_save = pd.merge(to_save, topic_info[['topic_num', 'topic_words']], how='left', left_on=\"cosine_topics\", right_on=\"topic_num\")\n",
    "final_to_save.head(1)"
   ]
  },
  {
   "cell_type": "code",
   "execution_count": 247,
   "metadata": {},
   "outputs": [
    {
     "data": {
      "text/plain": [
       "(765, 13)"
      ]
     },
     "execution_count": 247,
     "metadata": {},
     "output_type": "execute_result"
    }
   ],
   "source": [
    "final_to_save[final_to_save.closest_clusters==final_to_save.cosine_topics].shape"
   ]
  },
  {
   "cell_type": "code",
   "execution_count": 248,
   "metadata": {},
   "outputs": [],
   "source": [
    "final_to_save.to_csv(\"softcluster_plus_cosine_label_noise_only_may03_trained.csv\", index=False)"
   ]
  },
  {
   "cell_type": "markdown",
   "metadata": {},
   "source": [
    "* **Predict new points/articles - May 3**"
   ]
  },
  {
   "cell_type": "code",
   "execution_count": 39,
   "metadata": {},
   "outputs": [
    {
     "name": "stdout",
     "output_type": "stream",
     "text": [
      "UMAP(dens_frac=0.0, dens_lambda=0.0, min_dist=0.0, random_state=42)\n",
      "\n",
      "HDBSCAN(min_samples=4, prediction_data=True)\n"
     ]
    }
   ],
   "source": [
    "umap_embeddings = joblib.load(\"./model/apr26_may2_train_umap_obj.joblib\")\n",
    "cluster = joblib.load(\"./model/apr26_may2_train_clusterer_obj.joblib\")\n",
    "\n",
    "print(umap_embeddings)\n",
    "print()\n",
    "print(cluster)"
   ]
  },
  {
   "cell_type": "markdown",
   "metadata": {},
   "source": [
    "**Note:** \n",
    "* There will be articles read between Apr 26 - May 02 (training set), which will also be read on May 03. \n",
    "* These common articles present in prediction set, will get the same topic cluster as before\n",
    "\n",
    "**For now:**\n",
    "* Predict on whole of may03"
   ]
  },
  {
   "cell_type": "code",
   "execution_count": 40,
   "metadata": {},
   "outputs": [
    {
     "name": "stdout",
     "output_type": "stream",
     "text": [
      "Training input shape: (7238, 2)\n",
      "Prediction input shape: (4199, 2)\n"
     ]
    }
   ],
   "source": [
    "# dimensionality reduction\n",
    "umap_embeddings_may03 = umap_embeddings.transform(may03_art_embed) # min_dist=0.0,\n",
    "\n",
    "print(\"Training input shape:\", umap_embeddings.embedding_.shape)\n",
    "print(\"Prediction input shape:\", umap_embeddings_may03.shape) #takes a min"
   ]
  },
  {
   "cell_type": "code",
   "execution_count": 41,
   "metadata": {},
   "outputs": [
    {
     "name": "stdout",
     "output_type": "stream",
     "text": [
      "4199\n",
      "310\n"
     ]
    }
   ],
   "source": [
    "# predict\n",
    "\n",
    "may03_test_labels, may03_strengths = hdbscan.approximate_predict(cluster, umap_embeddings_may03)\n",
    "\n",
    "print(len(may03_test_labels))\n",
    "print(len(set(may03_test_labels)))"
   ]
  },
  {
   "cell_type": "code",
   "execution_count": 42,
   "metadata": {},
   "outputs": [
    {
     "data": {
      "image/png": "[encoded data removed]",
      "text/plain": [
       "<Figure size 432x288 with 1 Axes>"
      ]
     },
     "metadata": {},
     "output_type": "display_data"
    }
   ],
   "source": [
    "plt.hist(may03_strengths, bins='auto')\n",
    "plt.show()"
   ]
  },
  {
   "cell_type": "markdown",
   "metadata": {},
   "source": [
    "* Exploring prediction strength for thresholding"
   ]
  },
  {
   "cell_type": "code",
   "execution_count": 43,
   "metadata": {},
   "outputs": [
    {
     "name": "stdout",
     "output_type": "stream",
     "text": [
      "4199\n",
      "4199\n",
      "<class 'numpy.ndarray'>\n"
     ]
    }
   ],
   "source": [
    "print(len(may03_test_labels))\n",
    "print(len(may03_strengths))\n",
    "print(type(may03_strengths))"
   ]
  },
  {
   "cell_type": "markdown",
   "metadata": {},
   "source": [
    "According to API:\n",
    "\n",
    "* labels: Cluster labels for each point in the dataset given to fit(). Noisy samples are given the label -1.\n",
    "* probabilities: The strength with which each sample is a member of its assigned cluster. Noise points have probability zero; points in clusters have values assigned proportional to the degree that they persist as part of the cluster."
   ]
  },
  {
   "cell_type": "code",
   "execution_count": 30,
   "metadata": {},
   "outputs": [
    {
     "data": {
      "text/html": [
       "<div>\n",
       "<style scoped>\n",
       "    .dataframe tbody tr th:only-of-type {\n",
       "        vertical-align: middle;\n",
       "    }\n",
       "\n",
       "    .dataframe tbody tr th {\n",
       "        vertical-align: top;\n",
       "    }\n",
       "\n",
       "    .dataframe thead th {\n",
       "        text-align: right;\n",
       "    }\n",
       "</style>\n",
       "<table border=\"1\" class=\"dataframe\">\n",
       "  <thead>\n",
       "    <tr style=\"text-align: right;\">\n",
       "      <th></th>\n",
       "      <th>Topic</th>\n",
       "      <th>Strength</th>\n",
       "    </tr>\n",
       "  </thead>\n",
       "  <tbody>\n",
       "    <tr>\n",
       "      <th>0</th>\n",
       "      <td>42</td>\n",
       "      <td>0.861293</td>\n",
       "    </tr>\n",
       "    <tr>\n",
       "      <th>1</th>\n",
       "      <td>-1</td>\n",
       "      <td>0.000000</td>\n",
       "    </tr>\n",
       "    <tr>\n",
       "      <th>2</th>\n",
       "      <td>-1</td>\n",
       "      <td>0.000000</td>\n",
       "    </tr>\n",
       "    <tr>\n",
       "      <th>3</th>\n",
       "      <td>46</td>\n",
       "      <td>0.582528</td>\n",
       "    </tr>\n",
       "    <tr>\n",
       "      <th>4</th>\n",
       "      <td>-1</td>\n",
       "      <td>0.000000</td>\n",
       "    </tr>\n",
       "  </tbody>\n",
       "</table>\n",
       "</div>"
      ],
      "text/plain": [
       "   Topic  Strength\n",
       "0     42  0.861293\n",
       "1     -1  0.000000\n",
       "2     -1  0.000000\n",
       "3     46  0.582528\n",
       "4     -1  0.000000"
      ]
     },
     "execution_count": 30,
     "metadata": {},
     "output_type": "execute_result"
    }
   ],
   "source": [
    "strength_exp = pd.DataFrame(zip(may03_test_labels, may03_strengths), columns=['Topic', 'Strength'])\n",
    "strength_exp.head()"
   ]
  },
  {
   "cell_type": "code",
   "execution_count": 31,
   "metadata": {},
   "outputs": [
    {
     "data": {
      "text/html": [
       "<div>\n",
       "<style scoped>\n",
       "    .dataframe tbody tr th:only-of-type {\n",
       "        vertical-align: middle;\n",
       "    }\n",
       "\n",
       "    .dataframe tbody tr th {\n",
       "        vertical-align: top;\n",
       "    }\n",
       "\n",
       "    .dataframe thead tr th {\n",
       "        text-align: left;\n",
       "    }\n",
       "\n",
       "    .dataframe thead tr:last-of-type th {\n",
       "        text-align: right;\n",
       "    }\n",
       "</style>\n",
       "<table border=\"1\" class=\"dataframe\">\n",
       "  <thead>\n",
       "    <tr>\n",
       "      <th></th>\n",
       "      <th colspan=\"3\" halign=\"left\">Strength</th>\n",
       "    </tr>\n",
       "    <tr>\n",
       "      <th></th>\n",
       "      <th>min</th>\n",
       "      <th>mean</th>\n",
       "      <th>max</th>\n",
       "    </tr>\n",
       "    <tr>\n",
       "      <th>Topic</th>\n",
       "      <th></th>\n",
       "      <th></th>\n",
       "      <th></th>\n",
       "    </tr>\n",
       "  </thead>\n",
       "  <tbody>\n",
       "    <tr>\n",
       "      <th>-1</th>\n",
       "      <td>0.000000</td>\n",
       "      <td>0.000000</td>\n",
       "      <td>0.000000</td>\n",
       "    </tr>\n",
       "    <tr>\n",
       "      <th>0</th>\n",
       "      <td>0.055268</td>\n",
       "      <td>0.476356</td>\n",
       "      <td>1.000000</td>\n",
       "    </tr>\n",
       "    <tr>\n",
       "      <th>1</th>\n",
       "      <td>0.008874</td>\n",
       "      <td>0.170429</td>\n",
       "      <td>0.524824</td>\n",
       "    </tr>\n",
       "    <tr>\n",
       "      <th>2</th>\n",
       "      <td>0.019150</td>\n",
       "      <td>0.506401</td>\n",
       "      <td>1.000000</td>\n",
       "    </tr>\n",
       "    <tr>\n",
       "      <th>3</th>\n",
       "      <td>0.071058</td>\n",
       "      <td>0.416085</td>\n",
       "      <td>1.000000</td>\n",
       "    </tr>\n",
       "    <tr>\n",
       "      <th>...</th>\n",
       "      <td>...</td>\n",
       "      <td>...</td>\n",
       "      <td>...</td>\n",
       "    </tr>\n",
       "    <tr>\n",
       "      <th>269</th>\n",
       "      <td>0.442683</td>\n",
       "      <td>0.611525</td>\n",
       "      <td>0.906397</td>\n",
       "    </tr>\n",
       "    <tr>\n",
       "      <th>270</th>\n",
       "      <td>0.610208</td>\n",
       "      <td>0.811518</td>\n",
       "      <td>1.000000</td>\n",
       "    </tr>\n",
       "    <tr>\n",
       "      <th>272</th>\n",
       "      <td>0.694246</td>\n",
       "      <td>0.694246</td>\n",
       "      <td>0.694246</td>\n",
       "    </tr>\n",
       "    <tr>\n",
       "      <th>273</th>\n",
       "      <td>0.433795</td>\n",
       "      <td>0.593477</td>\n",
       "      <td>0.855312</td>\n",
       "    </tr>\n",
       "    <tr>\n",
       "      <th>274</th>\n",
       "      <td>0.813417</td>\n",
       "      <td>0.891079</td>\n",
       "      <td>1.000000</td>\n",
       "    </tr>\n",
       "  </tbody>\n",
       "</table>\n",
       "<p>260 rows × 3 columns</p>\n",
       "</div>"
      ],
      "text/plain": [
       "       Strength                    \n",
       "            min      mean       max\n",
       "Topic                              \n",
       "-1     0.000000  0.000000  0.000000\n",
       " 0     0.055268  0.476356  1.000000\n",
       " 1     0.008874  0.170429  0.524824\n",
       " 2     0.019150  0.506401  1.000000\n",
       " 3     0.071058  0.416085  1.000000\n",
       "...         ...       ...       ...\n",
       " 269   0.442683  0.611525  0.906397\n",
       " 270   0.610208  0.811518  1.000000\n",
       " 272   0.694246  0.694246  0.694246\n",
       " 273   0.433795  0.593477  0.855312\n",
       " 274   0.813417  0.891079  1.000000\n",
       "\n",
       "[260 rows x 3 columns]"
      ]
     },
     "execution_count": 31,
     "metadata": {},
     "output_type": "execute_result"
    }
   ],
   "source": [
    "strength_exp.groupby('Topic').agg({'Strength':['min', 'mean', 'max']})"
   ]
  },
  {
   "cell_type": "code",
   "execution_count": 32,
   "metadata": {},
   "outputs": [],
   "source": [
    "# this gives for prediction data\n",
    "temp_pred = hdbscan.prediction.membership_vector(cluster, umap_embeddings_may03)"
   ]
  },
  {
   "cell_type": "code",
   "execution_count": 33,
   "metadata": {},
   "outputs": [
    {
     "name": "stdout",
     "output_type": "stream",
     "text": [
      "===TRAINING===\n",
      "45\n",
      "0.04204195017308981\n",
      "\n",
      "42\n",
      "0.09385600636215856\n",
      "\n",
      "===PREDICTION===\n",
      "42\n",
      "0.013022068414443252\n"
     ]
    }
   ],
   "source": [
    "print(\"===PREDICTION===\")\n",
    "print(np.argmax(temp_pred[0]))\n",
    "print(temp[0][42])"
   ]
  },
  {
   "cell_type": "code",
   "execution_count": null,
   "metadata": {},
   "outputs": [],
   "source": []
  },
  {
   "cell_type": "code",
   "execution_count": null,
   "metadata": {},
   "outputs": [],
   "source": []
  },
  {
   "cell_type": "code",
   "execution_count": 44,
   "metadata": {},
   "outputs": [
    {
     "name": "stdout",
     "output_type": "stream",
     "text": [
      "Distinct topics including -1 for noise 310\n",
      "\n"
     ]
    },
    {
     "data": {
      "text/html": [
       "<div>\n",
       "<style scoped>\n",
       "    .dataframe tbody tr th:only-of-type {\n",
       "        vertical-align: middle;\n",
       "    }\n",
       "\n",
       "    .dataframe tbody tr th {\n",
       "        vertical-align: top;\n",
       "    }\n",
       "\n",
       "    .dataframe thead th {\n",
       "        text-align: right;\n",
       "    }\n",
       "</style>\n",
       "<table border=\"1\" class=\"dataframe\">\n",
       "  <thead>\n",
       "    <tr style=\"text-align: right;\">\n",
       "      <th></th>\n",
       "      <th>Doc</th>\n",
       "      <th>Topic</th>\n",
       "    </tr>\n",
       "  </thead>\n",
       "  <tbody>\n",
       "    <tr>\n",
       "      <th>4194</th>\n",
       "      <td>alexander the great: gay or straight?. (one in a series of conversations between historians james romm and paul a. cartledge , editor and introduction-author, respectively, of the new landmark arrian: the campaigns of alexander , published by pan...</td>\n",
       "      <td>-1</td>\n",
       "    </tr>\n",
       "    <tr>\n",
       "      <th>4195</th>\n",
       "      <td>mark zuckerberg joins the north american man-boy love association, and other adventures in facebook groups. my colleague kashmir hill congratulated facebook's mark zuckerberg earlier today on his increasingly savvy approach to talking about priva...</td>\n",
       "      <td>44</td>\n",
       "    </tr>\n",
       "    <tr>\n",
       "      <th>4196</th>\n",
       "      <td>why reits make sense. michael gunzenhaeuser, a 59-year-old semiretired obstetrician in mansfield, ohio, has heard his share of real estate horror stories lately. friends who own rental apartments grousing about plumbers' bills and endless tenant ...</td>\n",
       "      <td>243</td>\n",
       "    </tr>\n",
       "    <tr>\n",
       "      <th>4197</th>\n",
       "      <td>brrr!. bill clinton recently brought up the idea that we might have to slow down the u.s. economy to cut back on greenhouse emissions in order to save the planet from global warming. less prosperity will be our salvation! putting aside the former...</td>\n",
       "      <td>-1</td>\n",
       "    </tr>\n",
       "    <tr>\n",
       "      <th>4198</th>\n",
       "      <td>fact and comment. fantastic fiber future is here--but not in u.s. washington and the federal communications commission should look to south korea to see what the future could be like with true telecom deregulation. in the u.s. a t-1 line, which p...</td>\n",
       "      <td>190</td>\n",
       "    </tr>\n",
       "  </tbody>\n",
       "</table>\n",
       "</div>"
      ],
      "text/plain": [
       "                                                                                                                                                                                                                                                            Doc  \\\n",
       "4194  alexander the great: gay or straight?. (one in a series of conversations between historians james romm and paul a. cartledge , editor and introduction-author, respectively, of the new landmark arrian: the campaigns of alexander , published by pan...   \n",
       "4195  mark zuckerberg joins the north american man-boy love association, and other adventures in facebook groups. my colleague kashmir hill congratulated facebook's mark zuckerberg earlier today on his increasingly savvy approach to talking about priva...   \n",
       "4196  why reits make sense. michael gunzenhaeuser, a 59-year-old semiretired obstetrician in mansfield, ohio, has heard his share of real estate horror stories lately. friends who own rental apartments grousing about plumbers' bills and endless tenant ...   \n",
       "4197  brrr!. bill clinton recently brought up the idea that we might have to slow down the u.s. economy to cut back on greenhouse emissions in order to save the planet from global warming. less prosperity will be our salvation! putting aside the former...   \n",
       "4198  fact and comment. fantastic fiber future is here--but not in u.s. washington and the federal communications commission should look to south korea to see what the future could be like with true telecom deregulation. in the u.s. a t-1 line, which p...   \n",
       "\n",
       "      Topic  \n",
       "4194     -1  \n",
       "4195     44  \n",
       "4196    243  \n",
       "4197     -1  \n",
       "4198    190  "
      ]
     },
     "execution_count": 44,
     "metadata": {},
     "output_type": "execute_result"
    }
   ],
   "source": [
    "# put topics in dataframe\n",
    "may03_docs_df = may03[['clean_body']]\n",
    "may03_docs_df.rename(columns={'clean_body':'Doc'}, inplace=True)\n",
    "may03_docs_df[\"Topic\"] = may03_test_labels\n",
    "\n",
    "print(\"Distinct topics including -1 for noise\", len(may03_docs_df.Topic.unique()))\n",
    "print()\n",
    "may03_docs_df.tail()"
   ]
  },
  {
   "cell_type": "code",
   "execution_count": 45,
   "metadata": {},
   "outputs": [],
   "source": [
    "may03_topic_sizes = extract_topic_sizes(may03_docs_df)\n",
    "\n",
    "# GENERATE TOPIC METRICS\n",
    "\n",
    "# per topic - cos_min and cos_mean\n",
    "may03_cossim_df = generate_all_cossim_metrics(may03_docs_df, umap_embeddings_may03)\n",
    "\n",
    "# per topic - tier counts\n",
    "tier_metric = may03_docs_df.join(may03[[\"tier1\"]])\n",
    "\n",
    "iab_metric = tier_metric.groupby(\"Topic\").agg({\"tier1\": \n",
    "                                               'nunique'}).round(2).reset_index().rename(columns = {'tier1': \n",
    "                                                                                                    'distinct_tier1s',\n",
    "                                                                                                    'Topic':\n",
    "                                                                                                    'topic_num'})\n",
    "\n",
    "# combine topic, top words, cos and tier metrics\n",
    "topic_info_may03 = pd.merge(pd.merge(may03_topic_sizes, \n",
    "                                        may03_cossim_df, how=\"inner\", left_on=\"Topic\", right_on = \"topic_num\"), \n",
    "                               iab_metric, on = \"topic_num\", how=\"inner\")\n",
    "\n",
    "topic_info_may03.drop('Topic', axis=1, inplace=True)"
   ]
  },
  {
   "cell_type": "code",
   "execution_count": 46,
   "metadata": {},
   "outputs": [
    {
     "data": {
      "image/png": "[encoded data removed]",
      "text/plain": [
       "<Figure size 1080x504 with 4 Axes>"
      ]
     },
     "metadata": {},
     "output_type": "display_data"
    }
   ],
   "source": [
    "# TEST FOR LESSER NOISE\n",
    "topic_info_may03[['cos_min', 'cos_mean', 'distinct_tier1s']].hist(figsize= (15,7), bins=50)\n",
    "plt.show()"
   ]
  },
  {
   "cell_type": "code",
   "execution_count": 47,
   "metadata": {},
   "outputs": [],
   "source": [
    "# combine natural id inside docs_df\n",
    "\n",
    "may03_docs_df = pd.merge(may03_docs_df, may03, how=\"left\", left_on=\"Doc\", right_on=\"clean_body\")\n",
    "may03_docs_df.drop(\"clean_body\", axis=1, inplace=True)"
   ]
  },
  {
   "cell_type": "code",
   "execution_count": 48,
   "metadata": {},
   "outputs": [],
   "source": [
    "# combine topic_info_may03 with topic names\n",
    "\n",
    "topic_info_may03 = pd.merge(topic_info_may03, top_n_words_df, how=\"left\", on=\"topic_num\").sort_values(\"topic_num\")"
   ]
  },
  {
   "cell_type": "code",
   "execution_count": 49,
   "metadata": {},
   "outputs": [],
   "source": [
    "pred_may03_inspect = pd.merge(may03_docs_df, \n",
    "         topic_info_may03, \n",
    "         how=\"left\", \n",
    "         left_on=\"Topic\", \n",
    "         right_on = \"topic_num\").drop('topic_num', axis=1)"
   ]
  },
  {
   "cell_type": "code",
   "execution_count": 51,
   "metadata": {},
   "outputs": [
    {
     "data": {
      "text/plain": [
       "count     310.000000\n",
       "mean       13.545161\n",
       "std       101.228807\n",
       "min         1.000000\n",
       "25%         3.000000\n",
       "50%         5.000000\n",
       "75%         9.000000\n",
       "max      1784.000000\n",
       "Name: Size, dtype: float64"
      ]
     },
     "execution_count": 51,
     "metadata": {},
     "output_type": "execute_result"
    }
   ],
   "source": [
    "topic_info_may03.Size.describe()"
   ]
  },
  {
   "cell_type": "code",
   "execution_count": 52,
   "metadata": {},
   "outputs": [
    {
     "data": {
      "text/plain": [
       "<AxesSubplot:>"
      ]
     },
     "execution_count": 52,
     "metadata": {},
     "output_type": "execute_result"
    },
    {
     "data": {
      "image/png": "[encoded data removed]",
      "text/plain": [
       "<Figure size 432x288 with 1 Axes>"
      ]
     },
     "metadata": {},
     "output_type": "display_data"
    }
   ],
   "source": [
    "topic_info_may03.Size.hist(bins=50, range=(0, 100))"
   ]
  },
  {
   "cell_type": "code",
   "execution_count": 58,
   "metadata": {},
   "outputs": [
    {
     "name": "stdout",
     "output_type": "stream",
     "text": [
      "310\n",
      "(1784, 15)\n"
     ]
    }
   ],
   "source": [
    "print(len(pred_may03_inspect.Topic.unique()))\n",
    "print(pred_may03_inspect[pred_may03_inspect.Topic==-1].shape)"
   ]
  },
  {
   "cell_type": "code",
   "execution_count": 53,
   "metadata": {},
   "outputs": [
    {
     "data": {
      "text/plain": [
       "31"
      ]
     },
     "execution_count": 53,
     "metadata": {},
     "output_type": "execute_result"
    }
   ],
   "source": [
    "len(pred_may03_inspect[pred_may03_inspect.Topic!=-1].tier1.unique())"
   ]
  },
  {
   "cell_type": "code",
   "execution_count": 54,
   "metadata": {},
   "outputs": [
    {
     "name": "stdout",
     "output_type": "stream",
     "text": [
      "(1784, 15)\n"
     ]
    },
    {
     "data": {
      "text/plain": [
       "Other                       528\n",
       "Business and Finance        335\n",
       "Personal Finance            145\n",
       "Technology & Computing      138\n",
       "Medical Health              115\n",
       "News and Politics            87\n",
       "Video Gaming                 59\n",
       "Travel                       43\n",
       "Shopping                     42\n",
       "Sports                       33\n",
       "Careers                      23\n",
       "Food & Drink                 22\n",
       "Real Estate                  21\n",
       "Education                    20\n",
       "Style & Fashion              19\n",
       "Automotive                   19\n",
       "Healthy Living               18\n",
       "Music and Audio              17\n",
       "Television                   16\n",
       "Science                      15\n",
       "Home & Garden                14\n",
       "Events and Attractions       12\n",
       "Hobbies & Interests          10\n",
       "Movies                        9\n",
       "Family and Relationships      7\n",
       "Books and Literature          6\n",
       "Pop Culture                   5\n",
       "Fine Art                      3\n",
       "Content Channel               1\n",
       "Religion & Spirituality       1\n",
       "Pets                          1\n",
       "Name: tier1, dtype: int64"
      ]
     },
     "execution_count": 54,
     "metadata": {},
     "output_type": "execute_result"
    }
   ],
   "source": [
    "print(pred_may03_inspect[pred_may03_inspect.Topic==-1].shape)\n",
    "pred_may03_inspect[pred_may03_inspect.Topic==-1].tier1.value_counts()"
   ]
  }
 ],
 "metadata": {
  "environment": {
   "name": "tf2-2-3-gpu.2-3.m59",
   "type": "gcloud",
   "uri": "gcr.io/deeplearning-platform-release/tf2-2-3-gpu.2-3:m59"
  },
  "kernelspec": {
   "display_name": "topics-env-latest",
   "language": "python",
   "name": "topics-env-latest"
  },
  "language_info": {
   "codemirror_mode": {
    "name": "ipython",
    "version": 3
   },
   "file_extension": ".py",
   "mimetype": "text/x-python",
   "name": "python",
   "nbconvert_exporter": "python",
   "pygments_lexer": "ipython3",
   "version": "3.7.8"
  }
 },
 "nbformat": 4,
 "nbformat_minor": 4
}
