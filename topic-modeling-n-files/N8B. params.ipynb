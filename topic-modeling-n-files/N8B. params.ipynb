{
 "cells": [
  {
   "cell_type": "markdown",
   "metadata": {},
   "source": [
    "* Discussions - \n",
    "    * check feasibility of a model trained once and able to predict (like train every 7 days). If not - we can train everyday. \n",
    "    * Intent of predicting topics is it to show say pvs last week for a topic vs this week. How far out such comparisons need to be made? -- that will decide the date range of training and prediction -- a week is good strat\n",
    "    * Keep topic words same but test with lesser number of words\n",
    "    * Not every article needs to be assigned to a topic. so noise part of hdbscan is fine\n",
    "\n",
    "**Data product options:**\n",
    "\n",
    "* Technique 1 - train every 7 days\n",
    "    * PART 1: Check if day-of-week = Monday :: \n",
    "        * Take past 7 days (apr 26 till may 02)\n",
    "        * Train & store file\n",
    "        * Get yesterday's topics (may 02) and save that 1 day\n",
    "        \n",
    "    * PART 2: Else ::\n",
    "        * Take yesterday's eligible articles\n",
    "        * Use the saved cluster file and predict\n",
    "        * save that 1 day\n",
    "        * Part 2 will be repeated from tues till sunday of a week\n",
    "        \n",
    "    * When loop progresses to day = Monday, execute Part 1, then Part 2 and loop goes on \n",
    "    \n",
    "Note: \n",
    "* Caveat - We are training on articles which already have labels (through prediction).   \n",
    "* Save embeddings - so repeating ones need not be calculated. Plus, they can be used as features in other projects"
   ]
  },
  {
   "cell_type": "markdown",
   "metadata": {},
   "source": [
    "**Environment issue**:\n",
    "* On 6/11/2021 upgrading transformers messed up the environment (topics). Recreated using req.txt (called topics-env).\n",
    "* Imp point to note - for umap, hdbcsan to work, numba>-0.50.x Added this to the req.txt\n",
    "* transformers library version = 4.3.2 -- add this during deployment if going with topic summarization\n",
    "* Not deleting topics environment, in case other working library versions need to be consulted "
   ]
  },
  {
   "cell_type": "code",
   "execution_count": 1,
   "metadata": {},
   "outputs": [],
   "source": [
    "\"\"\" Helper imports\"\"\"\n",
    "import re\n",
    "import joblib\n",
    "import pandas as pd\n",
    "import numpy as np\n",
    "from time import time\n",
    "from nltk.tokenize import sent_tokenize\n",
    "from joblib import Parallel, delayed\n",
    "from sklearn.metrics.pairwise import cosine_similarity\n",
    "\n",
    "\"\"\"Modeling imports\"\"\"\n",
    "from sklearn.decomposition import NMF\n",
    "from sklearn.feature_extraction.text import TfidfVectorizer\n",
    "from sklearn.feature_extraction.text import CountVectorizer\n",
    "from gensim.models.coherencemodel import CoherenceModel\n",
    "from gensim.corpora.dictionary import Dictionary\n",
    "from gensim.models.nmf import Nmf\n",
    "\n",
    "\"\"\" Plotting imports\"\"\"\n",
    "import matplotlib.pyplot as plt\n",
    "%matplotlib inline\n",
    "import seaborn as sns\n",
    "sns.set_style('darkgrid')\n",
    "\n",
    "# remove this later\n",
    "pd.set_option('max_colwidth', 110)\n",
    "import warnings\n",
    "warnings.filterwarnings('ignore')"
   ]
  },
  {
   "cell_type": "markdown",
   "metadata": {},
   "source": [
    "### Competitor research:\n",
    "* WSJ uses HDBSCAN - https://medium.com/the-wall-street-journal/staying-on-topic-building-an-automated-topic-model-of-wsj-news-coverage-d4dc4369f71b"
   ]
  },
  {
   "cell_type": "code",
   "execution_count": 2,
   "metadata": {},
   "outputs": [],
   "source": [
    "from src.util import (c_tf_idf, \n",
    "                      extract_top_n_words_per_topic,\n",
    "                      extract_topic_sizes,\n",
    "                      topic_cos_sim_metrics,\n",
    "                      generate_all_cossim_metrics)"
   ]
  },
  {
   "cell_type": "code",
   "execution_count": 3,
   "metadata": {},
   "outputs": [],
   "source": [
    "import umap\n",
    "import hdbscan\n",
    "from sentence_transformers import SentenceTransformer\n",
    "from hdbscan import validity_index"
   ]
  },
  {
   "cell_type": "code",
   "execution_count": 4,
   "metadata": {},
   "outputs": [
    {
     "data": {
      "text/plain": [
       "True"
      ]
     },
     "execution_count": 4,
     "metadata": {},
     "output_type": "execute_result"
    }
   ],
   "source": [
    "data_path = '/home/jupyter/bi-topic-modeling/data/' \n",
    "\n",
    "STOP_WORDS = pd.read_pickle(data_path + 'forbes_stop_words.pkl')\n",
    "\"q1\" in STOP_WORDS"
   ]
  },
  {
   "cell_type": "code",
   "execution_count": 5,
   "metadata": {},
   "outputs": [],
   "source": [
    "results_path = '/home/jupyter/bi-topic-modeling/results/' \n",
    "SEED = 42"
   ]
  },
  {
   "cell_type": "markdown",
   "metadata": {},
   "source": [
    "### --- Data ---\n",
    "\n",
    "* Train date range Apr 26 (monday) till May 02 (sunday)\n",
    "* Eligible pool = articles with pvs > 100 on a given day"
   ]
  },
  {
   "cell_type": "code",
   "execution_count": 6,
   "metadata": {},
   "outputs": [],
   "source": [
    "def get_data(file_name):\n",
    "    \n",
    "    df = pd.read_csv(data_path + file_name)\n",
    "\n",
    "    print(\"Before Shape:\", df.shape)\n",
    "    print(\"Unique tiers:\", len(df.tier1.unique()))\n",
    "    \n",
    "    # Per verdict from EDA, exclude articles less than 100 words\n",
    "    df[\"article_length\"] = df.clean_body.str.split().apply(len)\n",
    "    df = df[df[\"article_length\"]>=100]\n",
    "    print(\"After Shape:\", df.shape)\n",
    "    \n",
    "    df.tier1 = df.tier1.fillna('Other')\n",
    "    df = df.reset_index(drop=True)\n",
    "    \n",
    "    return df"
   ]
  },
  {
   "cell_type": "code",
   "execution_count": 7,
   "metadata": {},
   "outputs": [
    {
     "name": "stdout",
     "output_type": "stream",
     "text": [
      "--- apr 25 ---\n",
      "Before Shape: (3334, 10)\n",
      "Unique tiers: 31\n",
      "After Shape: (3327, 11)\n",
      "Embeds len: 3327\n",
      "\n",
      "--- apr 26 ---\n",
      "Before Shape: (4138, 10)\n",
      "Unique tiers: 31\n",
      "After Shape: (4128, 11)\n",
      "Embeds len: 4128\n",
      "\n",
      "--- apr 27 ---\n",
      "Before Shape: (4177, 10)\n",
      "Unique tiers: 31\n",
      "After Shape: (4167, 11)\n",
      "Embeds len: 4167\n",
      "\n",
      "--- apr 28 ---\n",
      "Before Shape: (4197, 8)\n",
      "Unique tiers: 31\n",
      "After Shape: (4186, 9)\n",
      "Embeds len: 4186\n",
      "\n",
      "--- apr 29 ---\n",
      "Before Shape: (4201, 8)\n",
      "Unique tiers: 31\n",
      "After Shape: (4188, 9)\n",
      "Embeds len: 4188\n",
      "\n",
      "--- apr 30 ---\n",
      "Before Shape: (3784, 8)\n",
      "Unique tiers: 31\n",
      "After Shape: (3771, 9)\n",
      "Embeds len: 3771\n",
      "--- may 01 ---\n",
      "Before Shape: (3052, 8)\n",
      "Unique tiers: 31\n",
      "After Shape: (3044, 9)\n",
      "Embeds len: 3044\n",
      "\n",
      "--- may 02 ---\n",
      "Before Shape: (3267, 8)\n",
      "Unique tiers: 31\n",
      "After Shape: (3259, 9)\n",
      "Embeds len: 3259\n"
     ]
    }
   ],
   "source": [
    "# training data set\n",
    "\n",
    "print(\"--- apr 25 ---\")\n",
    "apr25 = get_data('processed/train_apr25_over100pvs_processed.csv')\n",
    "apr25_art_embed = joblib.load(\"./data/processed/apr25_article_embed_axis0.joblib\")\n",
    "print(\"Embeds len:\", len(apr25_art_embed))\n",
    "\n",
    "print()\n",
    "print(\"--- apr 26 ---\")\n",
    "apr26 = get_data('processed/pred_apr26_over100pvs_processed.csv')\n",
    "apr26_art_embed = joblib.load(\"./data/processed/apr26_article_embed_axis0.joblib\")\n",
    "print(\"Embeds len:\", len(apr26_art_embed))\n",
    "\n",
    "print()\n",
    "print(\"--- apr 27 ---\")\n",
    "apr27 = get_data('processed/pred_apr27_over100pvs_processed.csv')\n",
    "apr27_art_embed = joblib.load(\"./data/processed/apr27_article_embed_axis0.joblib\")\n",
    "print(\"Embeds len:\", len(apr27_art_embed))\n",
    "\n",
    "print()\n",
    "print(\"--- apr 28 ---\")\n",
    "apr28 = get_data('processed/apr28_over100pvs_processed.csv')\n",
    "apr28_art_embed = joblib.load(\"./data/processed/apr28_article_embed_axis0.joblib\")\n",
    "print(\"Embeds len:\", len(apr28_art_embed))\n",
    "\n",
    "print()\n",
    "print(\"--- apr 29 ---\")\n",
    "apr29 = get_data('processed/apr29_over100pvs_processed.csv')\n",
    "apr29_art_embed = joblib.load(\"./data/processed/apr29_article_embed_axis0.joblib\")\n",
    "print(\"Embeds len:\", len(apr29_art_embed))\n",
    "\n",
    "print()\n",
    "print(\"--- apr 30 ---\")\n",
    "apr30 = get_data('processed/apr30_over100pvs_processed.csv')\n",
    "apr30_art_embed = joblib.load(\"./data/processed/apr30_article_embed_axis0.joblib\")\n",
    "print(\"Embeds len:\", len(apr30_art_embed))\n",
    "\n",
    "print(\"--- may 01 ---\")\n",
    "may01 = get_data('processed/may01_over100pvs_processed.csv')\n",
    "may01_art_embed = joblib.load(\"./data/processed/may01_article_embed_axis0.joblib\")\n",
    "print(\"Embeds len:\", len(may01_art_embed))\n",
    "\n",
    "print()\n",
    "print(\"--- may 02 ---\")\n",
    "may02 = get_data('processed/may02_over100pvs_processed.csv')\n",
    "may02_art_embed = joblib.load(\"./data/processed/may02_article_embed_axis0.joblib\")\n",
    "print(\"Embeds len:\", len(may02_art_embed))"
   ]
  },
  {
   "cell_type": "code",
   "execution_count": 8,
   "metadata": {},
   "outputs": [
    {
     "name": "stdout",
     "output_type": "stream",
     "text": [
      "\n",
      "--- may 03 ---\n",
      "Before Shape: (4210, 8)\n",
      "Unique tiers: 31\n",
      "After Shape: (4199, 9)\n",
      "Embeds len: 4199\n",
      "\n",
      "--- may 04 ---\n",
      "Before Shape: (4235, 8)\n",
      "Unique tiers: 31\n",
      "After Shape: (4223, 9)\n",
      "Embeds len: 4223\n",
      "\n",
      "--- may 05 ---\n",
      "Before Shape: (4174, 8)\n",
      "Unique tiers: 31\n",
      "After Shape: (4160, 9)\n",
      "Embeds len: 4160\n",
      "--- may 06 ---\n",
      "Before Shape: (4079, 8)\n",
      "Unique tiers: 31\n",
      "After Shape: (4063, 9)\n",
      "Embeds len: 4063\n",
      "--- may 07 ---\n",
      "Before Shape: (3644, 8)\n",
      "Unique tiers: 31\n",
      "After Shape: (3630, 9)\n",
      "Embeds len: 3630\n"
     ]
    }
   ],
   "source": [
    "# testing data set\n",
    "\n",
    "print()\n",
    "print(\"--- may 03 ---\")\n",
    "may03 = get_data('processed/may03_over100pvs_processed.csv')\n",
    "may03_art_embed = joblib.load(\"./data/processed/may03_article_embed_axis0.joblib\")\n",
    "print(\"Embeds len:\", len(may03_art_embed))\n",
    "\n",
    "print()\n",
    "print(\"--- may 04 ---\")\n",
    "may04 = get_data('processed/may04_over100pvs_processed.csv')\n",
    "may04_art_embed = joblib.load(\"./data/processed/may04_article_embed_axis0.joblib\")\n",
    "print(\"Embeds len:\", len(may04_art_embed))\n",
    "\n",
    "print()\n",
    "print(\"--- may 05 ---\")\n",
    "may05 = get_data('processed/may05_over100pvs_processed.csv')\n",
    "may05_art_embed = joblib.load(\"./data/processed/may05_article_embed_axis0.joblib\")\n",
    "print(\"Embeds len:\", len(may05_art_embed))\n",
    "\n",
    "print(\"--- may 06 ---\")\n",
    "may06 = get_data('processed/may06_over100pvs_processed.csv')\n",
    "may06_art_embed = joblib.load(\"./data/processed/may06_article_embed_axis0.joblib\")\n",
    "print(\"Embeds len:\", len(may06_art_embed))\n",
    "\n",
    "print(\"--- may 07 ---\")\n",
    "may07 = get_data('processed/may07_over100pvs_processed.csv')\n",
    "may07_art_embed = joblib.load(\"./data/processed/may07_article_embed_axis0.joblib\")\n",
    "print(\"Embeds len:\", len(may07_art_embed))"
   ]
  },
  {
   "cell_type": "markdown",
   "metadata": {},
   "source": [
    "* Combine train data - 7 days: apr 26 (monday) till may 2 (sunday)"
   ]
  },
  {
   "cell_type": "code",
   "execution_count": 9,
   "metadata": {},
   "outputs": [
    {
     "name": "stdout",
     "output_type": "stream",
     "text": [
      "(26743, 9)\n",
      "26743\n"
     ]
    }
   ],
   "source": [
    "# # concatenate dfs\n",
    "\n",
    "# combined_df = pd.concat([apr26, apr27, apr28, apr29, apr30, may01, may02])\n",
    "# # reset index\n",
    "# combined_df = combined_df.reset_index(drop=True)\n",
    "# # drop unnecessary cols\n",
    "# combined_df.drop([\"processed\", \"processed_noun\", \"processed_noun_2\"], axis = 1, inplace=True)\n",
    "# # fill na\n",
    "# combined_df.tier2 = combined_df.tier2.fillna('Other')\n",
    "# combined_df.total_timeonpage = combined_df.total_timeonpage.fillna(0)\n",
    "# print(combined_df.shape)\n",
    "\n",
    "# # concatenate embeds\n",
    "# combined_embeds = apr26_art_embed + apr27_art_embed + apr28_art_embed + apr29_art_embed + apr30_art_embed + may01_art_embed + may02_art_embed\n",
    "# print(len(combined_embeds))"
   ]
  },
  {
   "cell_type": "code",
   "execution_count": 9,
   "metadata": {},
   "outputs": [
    {
     "name": "stdout",
     "output_type": "stream",
     "text": [
      "(10074, 9)\n",
      "10074\n"
     ]
    }
   ],
   "source": [
    "# concatenate dfs\n",
    "\n",
    "combined_df = pd.concat([apr30, may01, may02])\n",
    "# reset index\n",
    "combined_df = combined_df.reset_index(drop=True)\n",
    "# drop unnecessary cols\n",
    "# combined_df.drop([\"processed\", \"processed_noun\", \"processed_noun_2\"], axis = 1, inplace=True)\n",
    "# fill na\n",
    "combined_df.tier2 = combined_df.tier2.fillna('Other')\n",
    "combined_df.total_timeonpage = combined_df.total_timeonpage.fillna(0)\n",
    "print(combined_df.shape)\n",
    "\n",
    "# concatenate embeds\n",
    "combined_embeds = apr30_art_embed + may01_art_embed + may02_art_embed\n",
    "print(len(combined_embeds))"
   ]
  },
  {
   "cell_type": "markdown",
   "metadata": {},
   "source": [
    "* workflow:\n",
    "    * take unique articles, train and assign topics -- natid, topic mapping\n",
    "        * save this in csv and manually analyze for 5-6 topic words\n",
    "    * for chart, take per day pvs for each article, sum for topic per day and show"
   ]
  },
  {
   "cell_type": "code",
   "execution_count": 10,
   "metadata": {},
   "outputs": [
    {
     "name": "stdout",
     "output_type": "stream",
     "text": [
      "(4645, 9)\n",
      "False\n",
      "4645\n"
     ]
    }
   ],
   "source": [
    "# drop duplicates from df\n",
    "\n",
    "train_df = combined_df.drop_duplicates(subset=\"content_natid\", keep='first')\n",
    "\n",
    "print(train_df.shape)\n",
    "print(train_df.content_natid.duplicated(keep='first').any())\n",
    "\n",
    "train_embeds =  [combined_embeds[i] for i in list(train_df.index)]\n",
    "print(len(train_embeds))"
   ]
  },
  {
   "cell_type": "code",
   "execution_count": 11,
   "metadata": {},
   "outputs": [
    {
     "data": {
      "text/plain": [
       "(4645, 2)"
      ]
     },
     "execution_count": 11,
     "metadata": {},
     "output_type": "execute_result"
    }
   ],
   "source": [
    "train_df.reset_index(drop=True, inplace=True)\n",
    "\n",
    "train_df = train_df[['content_natid', 'clean_body']]\n",
    "train_df.shape"
   ]
  },
  {
   "cell_type": "markdown",
   "metadata": {},
   "source": [
    "### --- Modeling ---"
   ]
  },
  {
   "cell_type": "code",
   "execution_count": 12,
   "metadata": {},
   "outputs": [
    {
     "name": "stdout",
     "output_type": "stream",
     "text": [
      "4645\n"
     ]
    }
   ],
   "source": [
    "data = train_df.clean_body.tolist()\n",
    "print(len(data))"
   ]
  },
  {
   "cell_type": "code",
   "execution_count": 13,
   "metadata": {},
   "outputs": [],
   "source": [
    "# NEW SETTINGS for lesser noise - umap:n_neighbors=15, n_components=2, min_dist=0.0 \n",
    "# hdbscan min_cluster_size=5, input = sentence embeddings aggregated (mean) to full article\n",
    "\n",
    "umap_embeddings =  umap.UMAP(n_neighbors=15,\n",
    "                             min_dist=0.0,\n",
    "                             n_components=2,\n",
    "                             random_state=SEED,\n",
    "                            ).fit(train_embeds)"
   ]
  },
  {
   "cell_type": "code",
   "execution_count": 14,
   "metadata": {},
   "outputs": [],
   "source": [
    "# cluster\n",
    "cluster = hdbscan.HDBSCAN(min_cluster_size=5,\n",
    "                      metric= 'euclidean',                      \n",
    "                      cluster_selection_method='eom',\n",
    "                          #cluster_selection_method='leaf', #new\n",
    "                         # cluster_selection_epsilon = 0.5, #new,\n",
    "                          min_samples = 4, #new \n",
    "                      prediction_data=True).fit(umap_embeddings.embedding_)"
   ]
  },
  {
   "cell_type": "code",
   "execution_count": 15,
   "metadata": {},
   "outputs": [
    {
     "name": "stdout",
     "output_type": "stream",
     "text": [
      "Shape of training embeddings: (4645, 2)\n"
     ]
    }
   ],
   "source": [
    "print(\"Shape of training embeddings:\", umap_embeddings.embedding_.shape)"
   ]
  },
  {
   "cell_type": "code",
   "execution_count": 17,
   "metadata": {},
   "outputs": [
    {
     "name": "stdout",
     "output_type": "stream",
     "text": [
      "Settings - mean axis=0\n"
     ]
    },
    {
     "data": {
      "text/plain": [
       "0.2996882715864831"
      ]
     },
     "execution_count": 17,
     "metadata": {},
     "output_type": "execute_result"
    }
   ],
   "source": [
    "# min_samples =4 (apr26-may02)\n",
    "labels = cluster.labels_\n",
    "print(\"Settings - mean axis=0\")\n",
    "validity_index(umap_embeddings.embedding_.astype('double'), labels)"
   ]
  },
  {
   "cell_type": "code",
   "execution_count": 17,
   "metadata": {},
   "outputs": [
    {
     "name": "stdout",
     "output_type": "stream",
     "text": [
      "Settings - mean axis=0\n"
     ]
    },
    {
     "data": {
      "text/plain": [
       "0.3056134726140488"
      ]
     },
     "execution_count": 17,
     "metadata": {},
     "output_type": "execute_result"
    }
   ],
   "source": [
    "# min_samples =4 (apr28-may02)\n",
    "labels = cluster.labels_\n",
    "print(\"Settings - mean axis=0\")\n",
    "validity_index(umap_embeddings.embedding_.astype('double'), labels)"
   ]
  },
  {
   "cell_type": "code",
   "execution_count": 16,
   "metadata": {},
   "outputs": [
    {
     "name": "stdout",
     "output_type": "stream",
     "text": [
      "Settings - mean axis=0\n"
     ]
    },
    {
     "data": {
      "text/plain": [
       "0.3752548848802255"
      ]
     },
     "execution_count": 16,
     "metadata": {},
     "output_type": "execute_result"
    }
   ],
   "source": [
    "# min_samples =4 (apr30-may02)\n",
    "labels = cluster.labels_\n",
    "print(\"Settings - mean axis=0\")\n",
    "validity_index(umap_embeddings.embedding_.astype('double'), labels)"
   ]
  },
  {
   "cell_type": "code",
   "execution_count": 17,
   "metadata": {},
   "outputs": [
    {
     "name": "stdout",
     "output_type": "stream",
     "text": [
      "Distinct topics including -1 for noise 238\n",
      "\n"
     ]
    },
    {
     "data": {
      "text/html": [
       "<div>\n",
       "<style scoped>\n",
       "    .dataframe tbody tr th:only-of-type {\n",
       "        vertical-align: middle;\n",
       "    }\n",
       "\n",
       "    .dataframe tbody tr th {\n",
       "        vertical-align: top;\n",
       "    }\n",
       "\n",
       "    .dataframe thead th {\n",
       "        text-align: right;\n",
       "    }\n",
       "</style>\n",
       "<table border=\"1\" class=\"dataframe\">\n",
       "  <thead>\n",
       "    <tr style=\"text-align: right;\">\n",
       "      <th></th>\n",
       "      <th>Doc</th>\n",
       "      <th>Topic</th>\n",
       "      <th>Doc_ID</th>\n",
       "    </tr>\n",
       "  </thead>\n",
       "  <tbody>\n",
       "    <tr>\n",
       "      <th>0</th>\n",
       "      <td>10 durable air mattresses that wont go flat on you overnight. whether youre planning on having overnight g...</td>\n",
       "      <td>26</td>\n",
       "      <td>0</td>\n",
       "    </tr>\n",
       "    <tr>\n",
       "      <th>1</th>\n",
       "      <td>the new ipad pro 2021 gets even better with tons of new features announced at wwdc. it was just over a yea...</td>\n",
       "      <td>-1</td>\n",
       "      <td>1</td>\n",
       "    </tr>\n",
       "    <tr>\n",
       "      <th>2</th>\n",
       "      <td>the best mattress discounts &amp; bedding sales right now: $800 off at nolah. if youre in the market for a new...</td>\n",
       "      <td>29</td>\n",
       "      <td>2</td>\n",
       "    </tr>\n",
       "    <tr>\n",
       "      <th>3</th>\n",
       "      <td>the best sales online right now: overstock, supergoop and more. now that memorial day weekend is behind us...</td>\n",
       "      <td>29</td>\n",
       "      <td>3</td>\n",
       "    </tr>\n",
       "    <tr>\n",
       "      <th>4</th>\n",
       "      <td>13 pool floats for the whole family (yes, your dog too). theres only so much lemonade you can drink on you...</td>\n",
       "      <td>27</td>\n",
       "      <td>4</td>\n",
       "    </tr>\n",
       "    <tr>\n",
       "      <th>...</th>\n",
       "      <td>...</td>\n",
       "      <td>...</td>\n",
       "      <td>...</td>\n",
       "    </tr>\n",
       "    <tr>\n",
       "      <th>4640</th>\n",
       "      <td>hacker's demo shows how easily credit cards can be read through clothes and wallets. some blank credit car...</td>\n",
       "      <td>38</td>\n",
       "      <td>4640</td>\n",
       "    </tr>\n",
       "    <tr>\n",
       "      <th>4641</th>\n",
       "      <td>ten secrets apple does not want you to know. this is a guest post by jonathan zschau, a boston-based attor...</td>\n",
       "      <td>41</td>\n",
       "      <td>4641</td>\n",
       "    </tr>\n",
       "    <tr>\n",
       "      <th>4642</th>\n",
       "      <td>the five richest pastors in nigeria. london-based nigerian pastor matthew ashimolowo god is good, especial...</td>\n",
       "      <td>182</td>\n",
       "      <td>4642</td>\n",
       "    </tr>\n",
       "    <tr>\n",
       "      <th>4643</th>\n",
       "      <td>man inadvertently live tweets osama bin laden raid. an it consultant who tried to take a break from the ra...</td>\n",
       "      <td>-1</td>\n",
       "      <td>4643</td>\n",
       "    </tr>\n",
       "    <tr>\n",
       "      <th>4644</th>\n",
       "      <td>understanding how assets get divided in divorce. dividing the familys property during divorce can be quite...</td>\n",
       "      <td>-1</td>\n",
       "      <td>4644</td>\n",
       "    </tr>\n",
       "  </tbody>\n",
       "</table>\n",
       "<p>4645 rows × 3 columns</p>\n",
       "</div>"
      ],
      "text/plain": [
       "                                                                                                                Doc  \\\n",
       "0     10 durable air mattresses that wont go flat on you overnight. whether youre planning on having overnight g...   \n",
       "1     the new ipad pro 2021 gets even better with tons of new features announced at wwdc. it was just over a yea...   \n",
       "2     the best mattress discounts & bedding sales right now: $800 off at nolah. if youre in the market for a new...   \n",
       "3     the best sales online right now: overstock, supergoop and more. now that memorial day weekend is behind us...   \n",
       "4     13 pool floats for the whole family (yes, your dog too). theres only so much lemonade you can drink on you...   \n",
       "...                                                                                                             ...   \n",
       "4640  hacker's demo shows how easily credit cards can be read through clothes and wallets. some blank credit car...   \n",
       "4641  ten secrets apple does not want you to know. this is a guest post by jonathan zschau, a boston-based attor...   \n",
       "4642  the five richest pastors in nigeria. london-based nigerian pastor matthew ashimolowo god is good, especial...   \n",
       "4643  man inadvertently live tweets osama bin laden raid. an it consultant who tried to take a break from the ra...   \n",
       "4644  understanding how assets get divided in divorce. dividing the familys property during divorce can be quite...   \n",
       "\n",
       "      Topic  Doc_ID  \n",
       "0        26       0  \n",
       "1        -1       1  \n",
       "2        29       2  \n",
       "3        29       3  \n",
       "4        27       4  \n",
       "...     ...     ...  \n",
       "4640     38    4640  \n",
       "4641     41    4641  \n",
       "4642    182    4642  \n",
       "4643     -1    4643  \n",
       "4644     -1    4644  \n",
       "\n",
       "[4645 rows x 3 columns]"
      ]
     },
     "execution_count": 17,
     "metadata": {},
     "output_type": "execute_result"
    }
   ],
   "source": [
    "# put topics in dataframe\n",
    "docs_df = pd.DataFrame(data, columns=[\"Doc\"])\n",
    "docs_df['Topic'] = cluster.labels_\n",
    "docs_df['Doc_ID'] = range(len(docs_df))\n",
    "\n",
    "print(\"Distinct topics including -1 for noise\", len(docs_df.Topic.unique()))\n",
    "print()\n",
    "docs_df"
   ]
  },
  {
   "cell_type": "code",
   "execution_count": 18,
   "metadata": {},
   "outputs": [],
   "source": [
    "# combine together all articles belonging to same cluster  \n",
    "docs_per_topic = docs_df.groupby(['Topic'], as_index = False).agg({'Doc': ' '.join})\n",
    "\n",
    "# calculate countVector and tf-idf\n",
    "tf_idf, count = c_tf_idf(docs_per_topic.Doc.values, m=len(data))\n",
    "\n",
    "# top n words, topic size\n",
    "top_n_words = extract_top_n_words_per_topic(tf_idf, count, docs_per_topic, n=20)\n",
    "topic_sizes = extract_topic_sizes(docs_df); \n",
    "\n",
    "# modify top_n_words per topic dict into dataframe for presentation\n",
    "topic_words_dict = {}  \n",
    "\n",
    "for k, v in top_n_words.items():\n",
    "    topic_words_dict[k] = \", \".join([elem[0] for elem in v])\n",
    "\n",
    "pd.set_option(\"max_colwidth\", 250)\n",
    "top_n_words_df = pd.DataFrame.from_dict(topic_words_dict, \n",
    "                                        orient='index').reset_index().rename(columns={'index':'topic_num',\n",
    "                                                                                      \n",
    "                                                                                      0:'topic_words'}) "
   ]
  },
  {
   "cell_type": "code",
   "execution_count": 19,
   "metadata": {},
   "outputs": [
    {
     "name": "stdout",
     "output_type": "stream",
     "text": [
      "keyword time 0.00040674606959025065\n"
     ]
    }
   ],
   "source": [
    "# clean keywords\n",
    "\n",
    "from collections import OrderedDict\n",
    "# from fuzzywuzzy import process, fuzz\n",
    "from itertools import chain\n",
    "\n",
    "import time\n",
    "start = time.time()\n",
    "\n",
    "clean_keys = []\n",
    "for index, row in top_n_words_df.iterrows(): \n",
    "    \n",
    "    # remove STOP WORDS and remove whitespaces\n",
    "    inter_list = [x.strip() for x in row[\"topic_words\"].split(\",\") if x not in STOP_WORDS]\n",
    "    \n",
    "    # remove numbers but not alphanumerics e.g. remove 400, not ps4 \n",
    "    inter_list = [x for x in inter_list if not x.isnumeric()]\n",
    "    \n",
    "    # remove subset-based similar words - e.g. 'pcr tests' and 'tests' then 'tests' will be removed\n",
    "    inter_list = [i for i in inter_list if not any(i in x and i!=x for x in inter_list)]\n",
    "\n",
    "    # remove empty or 1-letter words\n",
    "    inter_list = [x for x in inter_list if len(x)>1]\n",
    "    \n",
    "    # de-duplicate\n",
    "    inter_list = list(OrderedDict.fromkeys(inter_list))\n",
    "    \n",
    "    # keep top 20 cleaned keywords\n",
    "    inter_list = inter_list[:6] \n",
    "    \n",
    "    # convert into string\n",
    "    inter_list = ', '.join(inter_list)\n",
    "    \n",
    "    clean_keys.append(inter_list)\n",
    "\n",
    "end = time.time()\n",
    "print(\"keyword time\", (end - start)/60) "
   ]
  },
  {
   "cell_type": "code",
   "execution_count": 20,
   "metadata": {},
   "outputs": [],
   "source": [
    "top_n_words_df[\"topic_words\"] = clean_keys"
   ]
  },
  {
   "cell_type": "code",
   "execution_count": 21,
   "metadata": {},
   "outputs": [
    {
     "data": {
      "text/html": [
       "<div>\n",
       "<style scoped>\n",
       "    .dataframe tbody tr th:only-of-type {\n",
       "        vertical-align: middle;\n",
       "    }\n",
       "\n",
       "    .dataframe tbody tr th {\n",
       "        vertical-align: top;\n",
       "    }\n",
       "\n",
       "    .dataframe thead th {\n",
       "        text-align: right;\n",
       "    }\n",
       "</style>\n",
       "<table border=\"1\" class=\"dataframe\">\n",
       "  <thead>\n",
       "    <tr style=\"text-align: right;\">\n",
       "      <th></th>\n",
       "      <th>topic_num</th>\n",
       "      <th>topic_words</th>\n",
       "    </tr>\n",
       "  </thead>\n",
       "  <tbody>\n",
       "    <tr>\n",
       "      <th>233</th>\n",
       "      <td>232</td>\n",
       "      <td>candidates, salary range, raises, says elliott, sales training, product service</td>\n",
       "    </tr>\n",
       "    <tr>\n",
       "      <th>234</th>\n",
       "      <td>233</td>\n",
       "      <td>hr, team members, teams, positive culture, leaders, corporate culture</td>\n",
       "    </tr>\n",
       "    <tr>\n",
       "      <th>235</th>\n",
       "      <td>234</td>\n",
       "      <td>confrontation, gestures, ll, leaders, listen, conversation</td>\n",
       "    </tr>\n",
       "    <tr>\n",
       "      <th>236</th>\n",
       "      <td>235</td>\n",
       "      <td>thoughts, emotions, negative, feelings, overthinking, emotional</td>\n",
       "    </tr>\n",
       "    <tr>\n",
       "      <th>237</th>\n",
       "      <td>236</td>\n",
       "      <td>disabled people, happiness, ableism, decisions, says dr, mental</td>\n",
       "    </tr>\n",
       "  </tbody>\n",
       "</table>\n",
       "</div>"
      ],
      "text/plain": [
       "     topic_num  \\\n",
       "233        232   \n",
       "234        233   \n",
       "235        234   \n",
       "236        235   \n",
       "237        236   \n",
       "\n",
       "                                                                         topic_words  \n",
       "233  candidates, salary range, raises, says elliott, sales training, product service  \n",
       "234            hr, team members, teams, positive culture, leaders, corporate culture  \n",
       "235                       confrontation, gestures, ll, leaders, listen, conversation  \n",
       "236                  thoughts, emotions, negative, feelings, overthinking, emotional  \n",
       "237                  disabled people, happiness, ableism, decisions, says dr, mental  "
      ]
     },
     "execution_count": 21,
     "metadata": {},
     "output_type": "execute_result"
    }
   ],
   "source": [
    "top_n_words_df.tail()"
   ]
  },
  {
   "cell_type": "code",
   "execution_count": 22,
   "metadata": {},
   "outputs": [],
   "source": [
    "# GENERATE TOPIC METRICS\n",
    "\n",
    "# per topic - cos_min and cos_mean\n",
    "train_cossim_df = generate_all_cossim_metrics(docs_df, train_embeds)\n",
    "\n",
    "# # per topic - tier counts\n",
    "# tier_metric = docs_df.join(df[[\"tier1\"]])\n",
    "\n",
    "# iab_metric = tier_metric.groupby(\"Topic\").agg({\"tier1\": \n",
    "#                                                'nunique'}).round(2).reset_index().rename(columns = {'tier1': \n",
    "#                                                                                                     'distinct_tier1s',\n",
    "#                                                                                                     'Topic':\n",
    "#                                                                                                     'topic_num'})\n",
    "\n",
    "# combine topic, top words, cos and tier metrics\n",
    "topic_info = pd.merge(pd.merge(top_n_words_df, \n",
    "                               topic_sizes, how=\"inner\", left_on=\"topic_num\", right_on = \"Topic\"), \n",
    "                               train_cossim_df, on = \"topic_num\", how=\"inner\")\n",
    "\n",
    "topic_info.drop('Topic', axis=1, inplace=True)"
   ]
  },
  {
   "cell_type": "code",
   "execution_count": 23,
   "metadata": {},
   "outputs": [
    {
     "data": {
      "text/html": [
       "<div>\n",
       "<style scoped>\n",
       "    .dataframe tbody tr th:only-of-type {\n",
       "        vertical-align: middle;\n",
       "    }\n",
       "\n",
       "    .dataframe tbody tr th {\n",
       "        vertical-align: top;\n",
       "    }\n",
       "\n",
       "    .dataframe thead th {\n",
       "        text-align: right;\n",
       "    }\n",
       "</style>\n",
       "<table border=\"1\" class=\"dataframe\">\n",
       "  <thead>\n",
       "    <tr style=\"text-align: right;\">\n",
       "      <th></th>\n",
       "      <th>topic_num</th>\n",
       "      <th>topic_words</th>\n",
       "      <th>Size</th>\n",
       "      <th>cos_min</th>\n",
       "      <th>cos_mean</th>\n",
       "    </tr>\n",
       "  </thead>\n",
       "  <tbody>\n",
       "    <tr>\n",
       "      <th>233</th>\n",
       "      <td>232</td>\n",
       "      <td>candidates, salary range, raises, says elliott, sales training, product service</td>\n",
       "      <td>10</td>\n",
       "      <td>0.82</td>\n",
       "      <td>0.90</td>\n",
       "    </tr>\n",
       "    <tr>\n",
       "      <th>234</th>\n",
       "      <td>233</td>\n",
       "      <td>hr, team members, teams, positive culture, leaders, corporate culture</td>\n",
       "      <td>16</td>\n",
       "      <td>0.80</td>\n",
       "      <td>0.90</td>\n",
       "    </tr>\n",
       "    <tr>\n",
       "      <th>235</th>\n",
       "      <td>234</td>\n",
       "      <td>confrontation, gestures, ll, leaders, listen, conversation</td>\n",
       "      <td>12</td>\n",
       "      <td>0.79</td>\n",
       "      <td>0.89</td>\n",
       "    </tr>\n",
       "    <tr>\n",
       "      <th>236</th>\n",
       "      <td>235</td>\n",
       "      <td>thoughts, emotions, negative, feelings, overthinking, emotional</td>\n",
       "      <td>44</td>\n",
       "      <td>0.70</td>\n",
       "      <td>0.90</td>\n",
       "    </tr>\n",
       "    <tr>\n",
       "      <th>237</th>\n",
       "      <td>236</td>\n",
       "      <td>disabled people, happiness, ableism, decisions, says dr, mental</td>\n",
       "      <td>13</td>\n",
       "      <td>0.78</td>\n",
       "      <td>0.89</td>\n",
       "    </tr>\n",
       "  </tbody>\n",
       "</table>\n",
       "</div>"
      ],
      "text/plain": [
       "     topic_num  \\\n",
       "233        232   \n",
       "234        233   \n",
       "235        234   \n",
       "236        235   \n",
       "237        236   \n",
       "\n",
       "                                                                         topic_words  \\\n",
       "233  candidates, salary range, raises, says elliott, sales training, product service   \n",
       "234            hr, team members, teams, positive culture, leaders, corporate culture   \n",
       "235                       confrontation, gestures, ll, leaders, listen, conversation   \n",
       "236                  thoughts, emotions, negative, feelings, overthinking, emotional   \n",
       "237                  disabled people, happiness, ableism, decisions, says dr, mental   \n",
       "\n",
       "     Size  cos_min  cos_mean  \n",
       "233    10     0.82      0.90  \n",
       "234    16     0.80      0.90  \n",
       "235    12     0.79      0.89  \n",
       "236    44     0.70      0.90  \n",
       "237    13     0.78      0.89  "
      ]
     },
     "execution_count": 23,
     "metadata": {},
     "output_type": "execute_result"
    }
   ],
   "source": [
    "topic_info.tail()"
   ]
  },
  {
   "cell_type": "markdown",
   "metadata": {},
   "source": [
    "* Observation on cluter-goodness:\n",
    "    * Good quality overall - \n",
    "        * most articles in a group on avg have 0.85-0.93 cosine similarity which is pretty high\n",
    "        * min similarity is also 0.7 and above for most topics\n",
    "        \n",
    "    * Manual eyeballing - 88 topics good, 19 bad"
   ]
  },
  {
   "cell_type": "code",
   "execution_count": 25,
   "metadata": {},
   "outputs": [
    {
     "data": {
      "image/png": "[encoded data removed]",
      "text/plain": [
       "<Figure size 1080x360 with 2 Axes>"
      ]
     },
     "metadata": {},
     "output_type": "display_data"
    }
   ],
   "source": [
    "# TEST FOR LESSER NOISE - NEW PARAMS HDBSCAN\n",
    "topic_info[['cos_min', 'cos_mean']].hist(figsize= (15,5), bins=50)\n",
    "plt.show()"
   ]
  },
  {
   "cell_type": "code",
   "execution_count": 24,
   "metadata": {},
   "outputs": [
    {
     "data": {
      "image/png": "[encoded data removed]",
      "text/plain": [
       "<Figure size 1080x360 with 2 Axes>"
      ]
     },
     "metadata": {},
     "output_type": "display_data"
    }
   ],
   "source": [
    "# TEST FOR LESSER NOISE - NEW PARAMS HDBSCAN\n",
    "topic_info[['cos_min', 'cos_mean']].hist(figsize= (15,5), bins=50)\n",
    "plt.show()"
   ]
  },
  {
   "cell_type": "code",
   "execution_count": 27,
   "metadata": {},
   "outputs": [
    {
     "data": {
      "text/plain": [
       "['./model/apr26_may2_train_clusterer_obj.joblib']"
      ]
     },
     "execution_count": 27,
     "metadata": {},
     "output_type": "execute_result"
    }
   ],
   "source": [
    "joblib.dump(umap_embeddings, \"./model/apr26_may2_train_umap_obj.joblib\")\n",
    "joblib.dump(cluster, \"./model/apr26_may2_train_clusterer_obj.joblib\")"
   ]
  },
  {
   "cell_type": "markdown",
   "metadata": {},
   "source": [
    "**Topics are about:**\n"
   ]
  },
  {
   "cell_type": "code",
   "execution_count": 25,
   "metadata": {},
   "outputs": [],
   "source": [
    "# combine natural id inside docs_df\n",
    "docs_df = pd.merge(docs_df, train_df, how=\"left\", left_on=\"Doc\", right_on=\"clean_body\")\n",
    "docs_df.drop(\"clean_body\", axis=1, inplace=True)"
   ]
  },
  {
   "cell_type": "code",
   "execution_count": 26,
   "metadata": {},
   "outputs": [
    {
     "data": {
      "text/html": [
       "<div>\n",
       "<style scoped>\n",
       "    .dataframe tbody tr th:only-of-type {\n",
       "        vertical-align: middle;\n",
       "    }\n",
       "\n",
       "    .dataframe tbody tr th {\n",
       "        vertical-align: top;\n",
       "    }\n",
       "\n",
       "    .dataframe thead th {\n",
       "        text-align: right;\n",
       "    }\n",
       "</style>\n",
       "<table border=\"1\" class=\"dataframe\">\n",
       "  <thead>\n",
       "    <tr style=\"text-align: right;\">\n",
       "      <th></th>\n",
       "      <th>Doc</th>\n",
       "      <th>Topic</th>\n",
       "      <th>Doc_ID</th>\n",
       "      <th>content_natid</th>\n",
       "      <th>topic_num</th>\n",
       "      <th>topic_words</th>\n",
       "      <th>Size</th>\n",
       "      <th>cos_min</th>\n",
       "      <th>cos_mean</th>\n",
       "    </tr>\n",
       "  </thead>\n",
       "  <tbody>\n",
       "    <tr>\n",
       "      <th>0</th>\n",
       "      <td>10 durable air mattresses that wont go flat on you overnight. whether youre planning on having overnight guests, camping , or just need a spot to crash temporarily while you furnish a new apartment, an air mattress is a must. but anyone whos ever...</td>\n",
       "      <td>26</td>\n",
       "      <td>0</td>\n",
       "      <td>blogandpostid/blog/post/4983-603fce6d28b0df00061a762b</td>\n",
       "      <td>26</td>\n",
       "      <td>mattress, pillow, memory foam, sleepers, duvet, bed</td>\n",
       "      <td>23</td>\n",
       "      <td>0.73</td>\n",
       "      <td>0.9</td>\n",
       "    </tr>\n",
       "  </tbody>\n",
       "</table>\n",
       "</div>"
      ],
      "text/plain": [
       "                                                                                                                                                                                                                                                         Doc  \\\n",
       "0  10 durable air mattresses that wont go flat on you overnight. whether youre planning on having overnight guests, camping , or just need a spot to crash temporarily while you furnish a new apartment, an air mattress is a must. but anyone whos ever...   \n",
       "\n",
       "   Topic  Doc_ID                                          content_natid  \\\n",
       "0     26       0  blogandpostid/blog/post/4983-603fce6d28b0df00061a762b   \n",
       "\n",
       "   topic_num                                          topic_words  Size  \\\n",
       "0         26  mattress, pillow, memory foam, sleepers, duvet, bed    23   \n",
       "\n",
       "   cos_min  cos_mean  \n",
       "0     0.73       0.9  "
      ]
     },
     "execution_count": 26,
     "metadata": {},
     "output_type": "execute_result"
    }
   ],
   "source": [
    "# contains natid, article body, assigned topic\n",
    "\n",
    "full_train_topics = pd.merge(docs_df, topic_info, how=\"left\", left_on=\"Topic\", right_on=\"topic_num\")\n",
    "full_train_topics.head(1)"
   ]
  },
  {
   "cell_type": "code",
   "execution_count": 29,
   "metadata": {},
   "outputs": [],
   "source": [
    "full_train_topics.to_csv(results_path+\"apr26_may02_full_train_topics.csv\", index=False)"
   ]
  },
  {
   "cell_type": "code",
   "execution_count": 30,
   "metadata": {},
   "outputs": [],
   "source": [
    "# TEST FOR LESSER NOISE\n",
    "full_train_topics.to_csv(results_path+\"MOD_apr26_may02_full_train_topics.csv\", index=False)"
   ]
  },
  {
   "cell_type": "code",
   "execution_count": 50,
   "metadata": {},
   "outputs": [],
   "source": [
    "topic_info.to_csv(\"minsamp4.csv\", index=False)"
   ]
  },
  {
   "cell_type": "code",
   "execution_count": 28,
   "metadata": {},
   "outputs": [
    {
     "data": {
      "text/plain": [
       "count     267.000000\n",
       "mean       23.138577\n",
       "std       102.863986\n",
       "min         5.000000\n",
       "25%         8.000000\n",
       "50%        13.000000\n",
       "75%        20.000000\n",
       "max      1675.000000\n",
       "Name: Size, dtype: float64"
      ]
     },
     "execution_count": 28,
     "metadata": {},
     "output_type": "execute_result"
    }
   ],
   "source": [
    "topic_info.Size.describe()"
   ]
  },
  {
   "cell_type": "code",
   "execution_count": 29,
   "metadata": {},
   "outputs": [
    {
     "data": {
      "text/plain": [
       "<AxesSubplot:>"
      ]
     },
     "execution_count": 29,
     "metadata": {},
     "output_type": "execute_result"
    },
    {
     "data": {
      "image/png": "[encoded data removed]",
      "text/plain": [
       "<Figure size 432x288 with 1 Axes>"
      ]
     },
     "metadata": {},
     "output_type": "display_data"
    }
   ],
   "source": [
    "topic_info.Size.hist(bins=50, range=(0,100))"
   ]
  },
  {
   "cell_type": "code",
   "execution_count": 30,
   "metadata": {},
   "outputs": [
    {
     "data": {
      "text/plain": [
       "27"
      ]
     },
     "execution_count": 30,
     "metadata": {},
     "output_type": "execute_result"
    }
   ],
   "source": [
    "# 200 clustered\n",
    "round(full_train_topics[full_train_topics.Topic==-1].shape[0]/full_train_topics.shape[0]*100)"
   ]
  },
  {
   "cell_type": "code",
   "execution_count": null,
   "metadata": {},
   "outputs": [],
   "source": []
  },
  {
   "cell_type": "markdown",
   "metadata": {},
   "source": [
    "* **Predict new points/articles - May 3**"
   ]
  },
  {
   "cell_type": "code",
   "execution_count": 27,
   "metadata": {},
   "outputs": [
    {
     "name": "stdout",
     "output_type": "stream",
     "text": [
      "UMAP(dens_frac=0.0, dens_lambda=0.0, min_dist=0.0, random_state=42)\n",
      "\n",
      "HDBSCAN(min_samples=4, prediction_data=True)\n"
     ]
    }
   ],
   "source": [
    "# umap_embeddings = joblib.load(\"./model/apr26_may2_train_umap_obj.joblib\")\n",
    "# cluster = joblib.load(\"./model/apr26_may2_train_clusterer_obj.joblib\")\n",
    "\n",
    "print(umap_embeddings)\n",
    "print()\n",
    "print(cluster)"
   ]
  },
  {
   "cell_type": "markdown",
   "metadata": {},
   "source": [
    "**Note:** \n",
    "* There will be articles read between Apr 26 - May 02 (training set), which will also be read on May 03. \n",
    "* These common articles present in prediction set, will get the same topic cluster as before\n",
    "\n",
    "**For now:**\n",
    "* Predict on whole of may03"
   ]
  },
  {
   "cell_type": "code",
   "execution_count": 28,
   "metadata": {},
   "outputs": [
    {
     "name": "stdout",
     "output_type": "stream",
     "text": [
      "Training input shape: (4645, 2)\n",
      "Prediction input shape: (4199, 2)\n"
     ]
    }
   ],
   "source": [
    "# dimensionality reduction\n",
    "umap_embeddings_may03 = umap_embeddings.transform(may03_art_embed) # min_dist=0.0,\n",
    "\n",
    "print(\"Training input shape:\", umap_embeddings.embedding_.shape)\n",
    "print(\"Prediction input shape:\", umap_embeddings_may03.shape) #takes a min"
   ]
  },
  {
   "cell_type": "code",
   "execution_count": 29,
   "metadata": {},
   "outputs": [
    {
     "name": "stdout",
     "output_type": "stream",
     "text": [
      "4199\n",
      "235\n"
     ]
    }
   ],
   "source": [
    "# predict\n",
    "\n",
    "may03_test_labels, may03_strengths = hdbscan.approximate_predict(cluster, umap_embeddings_may03)\n",
    "\n",
    "print(len(may03_test_labels))\n",
    "# print(set(may03_test_labels))\n",
    "print(len(set(may03_test_labels)))\n",
    "# with samples=3, topic=389\n",
    "# with samples=4 (apr26-may02), topic=310\n",
    "# with samples=4 (apr28-may02), topic=260\n",
    "# with samples=4 (apr30-may02), topic=235\n"
   ]
  },
  {
   "cell_type": "code",
   "execution_count": 34,
   "metadata": {},
   "outputs": [
    {
     "data": {
      "image/png": "[encoded data removed]",
      "text/plain": [
       "<Figure size 432x288 with 1 Axes>"
      ]
     },
     "metadata": {},
     "output_type": "display_data"
    }
   ],
   "source": [
    "plt.hist(may03_strengths, bins='auto')\n",
    "plt.show()"
   ]
  },
  {
   "cell_type": "markdown",
   "metadata": {},
   "source": [
    "* Exploring prediction strength for thresholding"
   ]
  },
  {
   "cell_type": "code",
   "execution_count": 35,
   "metadata": {},
   "outputs": [
    {
     "name": "stdout",
     "output_type": "stream",
     "text": [
      "4199\n",
      "4199\n",
      "<class 'numpy.ndarray'>\n"
     ]
    }
   ],
   "source": [
    "print(len(may03_test_labels))\n",
    "print(len(may03_strengths))\n",
    "print(type(may03_strengths))"
   ]
  },
  {
   "cell_type": "markdown",
   "metadata": {},
   "source": [
    "According to API:\n",
    "\n",
    "* labels: Cluster labels for each point in the dataset given to fit(). Noisy samples are given the label -1.\n",
    "* probabilities: The strength with which each sample is a member of its assigned cluster. Noise points have probability zero; points in clusters have values assigned proportional to the degree that they persist as part of the cluster."
   ]
  },
  {
   "cell_type": "code",
   "execution_count": 41,
   "metadata": {},
   "outputs": [
    {
     "data": {
      "text/html": [
       "<div>\n",
       "<style scoped>\n",
       "    .dataframe tbody tr th:only-of-type {\n",
       "        vertical-align: middle;\n",
       "    }\n",
       "\n",
       "    .dataframe tbody tr th {\n",
       "        vertical-align: top;\n",
       "    }\n",
       "\n",
       "    .dataframe thead th {\n",
       "        text-align: right;\n",
       "    }\n",
       "</style>\n",
       "<table border=\"1\" class=\"dataframe\">\n",
       "  <thead>\n",
       "    <tr style=\"text-align: right;\">\n",
       "      <th></th>\n",
       "      <th>Topic</th>\n",
       "      <th>Strength</th>\n",
       "    </tr>\n",
       "  </thead>\n",
       "  <tbody>\n",
       "    <tr>\n",
       "      <th>0</th>\n",
       "      <td>47</td>\n",
       "      <td>0.847144</td>\n",
       "    </tr>\n",
       "    <tr>\n",
       "      <th>1</th>\n",
       "      <td>-1</td>\n",
       "      <td>0.000000</td>\n",
       "    </tr>\n",
       "    <tr>\n",
       "      <th>2</th>\n",
       "      <td>-1</td>\n",
       "      <td>0.000000</td>\n",
       "    </tr>\n",
       "    <tr>\n",
       "      <th>3</th>\n",
       "      <td>53</td>\n",
       "      <td>0.545595</td>\n",
       "    </tr>\n",
       "    <tr>\n",
       "      <th>4</th>\n",
       "      <td>-1</td>\n",
       "      <td>0.000000</td>\n",
       "    </tr>\n",
       "  </tbody>\n",
       "</table>\n",
       "</div>"
      ],
      "text/plain": [
       "   Topic  Strength\n",
       "0     47  0.847144\n",
       "1     -1  0.000000\n",
       "2     -1  0.000000\n",
       "3     53  0.545595\n",
       "4     -1  0.000000"
      ]
     },
     "execution_count": 41,
     "metadata": {},
     "output_type": "execute_result"
    }
   ],
   "source": [
    "strength_exp = pd.DataFrame(zip(may03_test_labels, may03_strengths), columns=['Topic', 'Strength'])\n",
    "strength_exp.head()"
   ]
  },
  {
   "cell_type": "code",
   "execution_count": 42,
   "metadata": {},
   "outputs": [
    {
     "data": {
      "text/html": [
       "<div>\n",
       "<style scoped>\n",
       "    .dataframe tbody tr th:only-of-type {\n",
       "        vertical-align: middle;\n",
       "    }\n",
       "\n",
       "    .dataframe tbody tr th {\n",
       "        vertical-align: top;\n",
       "    }\n",
       "\n",
       "    .dataframe thead th {\n",
       "        text-align: right;\n",
       "    }\n",
       "</style>\n",
       "<table border=\"1\" class=\"dataframe\">\n",
       "  <thead>\n",
       "    <tr style=\"text-align: right;\">\n",
       "      <th></th>\n",
       "      <th>min</th>\n",
       "      <th>mean</th>\n",
       "      <th>max</th>\n",
       "    </tr>\n",
       "    <tr>\n",
       "      <th>Topic</th>\n",
       "      <th></th>\n",
       "      <th></th>\n",
       "      <th></th>\n",
       "    </tr>\n",
       "  </thead>\n",
       "  <tbody>\n",
       "    <tr>\n",
       "      <th>-1</th>\n",
       "      <td>0.000000</td>\n",
       "      <td>0.000000</td>\n",
       "      <td>0.000000</td>\n",
       "    </tr>\n",
       "    <tr>\n",
       "      <th>0</th>\n",
       "      <td>0.047635</td>\n",
       "      <td>0.490097</td>\n",
       "      <td>1.000000</td>\n",
       "    </tr>\n",
       "    <tr>\n",
       "      <th>1</th>\n",
       "      <td>0.006832</td>\n",
       "      <td>0.140931</td>\n",
       "      <td>0.449847</td>\n",
       "    </tr>\n",
       "    <tr>\n",
       "      <th>2</th>\n",
       "      <td>0.057022</td>\n",
       "      <td>0.351348</td>\n",
       "      <td>1.000000</td>\n",
       "    </tr>\n",
       "    <tr>\n",
       "      <th>3</th>\n",
       "      <td>0.008737</td>\n",
       "      <td>0.344301</td>\n",
       "      <td>1.000000</td>\n",
       "    </tr>\n",
       "    <tr>\n",
       "      <th>...</th>\n",
       "      <td>...</td>\n",
       "      <td>...</td>\n",
       "      <td>...</td>\n",
       "    </tr>\n",
       "    <tr>\n",
       "      <th>316</th>\n",
       "      <td>0.565737</td>\n",
       "      <td>0.767623</td>\n",
       "      <td>1.000000</td>\n",
       "    </tr>\n",
       "    <tr>\n",
       "      <th>317</th>\n",
       "      <td>0.883533</td>\n",
       "      <td>0.908046</td>\n",
       "      <td>0.949289</td>\n",
       "    </tr>\n",
       "    <tr>\n",
       "      <th>318</th>\n",
       "      <td>0.647055</td>\n",
       "      <td>0.647055</td>\n",
       "      <td>0.647055</td>\n",
       "    </tr>\n",
       "    <tr>\n",
       "      <th>319</th>\n",
       "      <td>0.463683</td>\n",
       "      <td>0.639026</td>\n",
       "      <td>1.000000</td>\n",
       "    </tr>\n",
       "    <tr>\n",
       "      <th>320</th>\n",
       "      <td>0.766697</td>\n",
       "      <td>0.872198</td>\n",
       "      <td>1.000000</td>\n",
       "    </tr>\n",
       "  </tbody>\n",
       "</table>\n",
       "<p>310 rows × 3 columns</p>\n",
       "</div>"
      ],
      "text/plain": [
       "            min      mean       max\n",
       "Topic                              \n",
       "-1     0.000000  0.000000  0.000000\n",
       " 0     0.047635  0.490097  1.000000\n",
       " 1     0.006832  0.140931  0.449847\n",
       " 2     0.057022  0.351348  1.000000\n",
       " 3     0.008737  0.344301  1.000000\n",
       "...         ...       ...       ...\n",
       " 316   0.565737  0.767623  1.000000\n",
       " 317   0.883533  0.908046  0.949289\n",
       " 318   0.647055  0.647055  0.647055\n",
       " 319   0.463683  0.639026  1.000000\n",
       " 320   0.766697  0.872198  1.000000\n",
       "\n",
       "[310 rows x 3 columns]"
      ]
     },
     "execution_count": 42,
     "metadata": {},
     "output_type": "execute_result"
    }
   ],
   "source": [
    "strength_exp_agg = strength_exp.groupby('Topic').agg({'Strength':['min', 'mean', 'max']})\n",
    "strength_exp_agg.columns= strength_exp_agg.columns.droplevel()\n",
    "strength_exp_agg"
   ]
  },
  {
   "cell_type": "code",
   "execution_count": 32,
   "metadata": {},
   "outputs": [],
   "source": [
    "# this gives for training data\n",
    "temp = hdbscan.prediction.all_points_membership_vectors(cluster)\n",
    "\n",
    "# this gives for prediction data\n",
    "temp_pred = hdbscan.prediction.membership_vector(cluster, umap_embeddings_may03)"
   ]
  },
  {
   "cell_type": "code",
   "execution_count": 33,
   "metadata": {},
   "outputs": [
    {
     "name": "stdout",
     "output_type": "stream",
     "text": [
      "===TRAINING===\n",
      "45\n",
      "0.04204195017308981\n",
      "\n",
      "42\n",
      "0.09385600636215856\n",
      "\n",
      "===PREDICTION===\n",
      "42\n",
      "0.013022068414443252\n"
     ]
    }
   ],
   "source": [
    "print(\"===TRAINING===\")\n",
    "print(np.argmax(temp[0]))\n",
    "print(temp[0][45])\n",
    "print()\n",
    "print(np.argmax(temp[1]))\n",
    "print(temp[1][42])\n",
    "print()\n",
    "print(\"===PREDICTION===\")\n",
    "print(np.argmax(temp_pred[0]))\n",
    "print(temp[0][42])"
   ]
  },
  {
   "cell_type": "markdown",
   "metadata": {},
   "source": [
    "# soft clustering\n",
    "\n",
    "closest_clusters = [np.argmax(x) for x in temp]\n",
    "\n",
    "probs = []\n",
    "for i in range(len(temp)):\n",
    "    probs.append(temp[i][closest_clusters[i]])\n",
    "print(len(probs))"
   ]
  },
  {
   "cell_type": "code",
   "execution_count": 74,
   "metadata": {},
   "outputs": [],
   "source": [
    "inspect = docs_df[['Doc', 'Topic']].copy()\n",
    "inspect['closest_clusters'] = closest_clusters\n",
    "inspect['closest_cluster_prob'] = probs"
   ]
  },
  {
   "cell_type": "markdown",
   "metadata": {},
   "source": [
    "[Closest soft clusters and cluster.labels_ do not match](https://stackoverflow.com/questions/44937157/comparing-hdbscan-labels-with-soft-cluster-results)"
   ]
  },
  {
   "cell_type": "code",
   "execution_count": 79,
   "metadata": {},
   "outputs": [
    {
     "name": "stdout",
     "output_type": "stream",
     "text": [
      "0.5755335398862541\n"
     ]
    },
    {
     "data": {
      "text/html": [
       "<div>\n",
       "<style scoped>\n",
       "    .dataframe tbody tr th:only-of-type {\n",
       "        vertical-align: middle;\n",
       "    }\n",
       "\n",
       "    .dataframe tbody tr th {\n",
       "        vertical-align: top;\n",
       "    }\n",
       "\n",
       "    .dataframe thead th {\n",
       "        text-align: right;\n",
       "    }\n",
       "</style>\n",
       "<table border=\"1\" class=\"dataframe\">\n",
       "  <thead>\n",
       "    <tr style=\"text-align: right;\">\n",
       "      <th></th>\n",
       "      <th>Doc</th>\n",
       "      <th>Topic</th>\n",
       "      <th>closest_clusters</th>\n",
       "      <th>closest_cluster_prob</th>\n",
       "    </tr>\n",
       "  </thead>\n",
       "  <tbody>\n",
       "    <tr>\n",
       "      <th>0</th>\n",
       "      <td>10 robot vacuums that clean so you dont have to. if youre like most people, vacuuming is low on your list of favorite chores. you can avoid cleaning, or enlist the aid of a robot vacuum to clean your home autonomously. the best robot vacuums are ...</td>\n",
       "      <td>-1</td>\n",
       "      <td>45</td>\n",
       "      <td>0.042042</td>\n",
       "    </tr>\n",
       "    <tr>\n",
       "      <th>2</th>\n",
       "      <td>wayfairs biggest sale of the year is officially here. thanks to the pandemic, most of us have spent the past year at home, forced to stare at the same worn-in couch, threadbare arm chair and sparse wall art. so if youre feeling like its time for ...</td>\n",
       "      <td>-1</td>\n",
       "      <td>51</td>\n",
       "      <td>0.164476</td>\n",
       "    </tr>\n",
       "    <tr>\n",
       "      <th>6</th>\n",
       "      <td>missing paris? visit virtually with a cooking class from la cuisine paris. missing paris? me too. like so many people, paris is my favorite city to visit. when i was in college, i studied for a year in paris and some of my favorite things to do a...</td>\n",
       "      <td>-1</td>\n",
       "      <td>43</td>\n",
       "      <td>0.090587</td>\n",
       "    </tr>\n",
       "    <tr>\n",
       "      <th>9</th>\n",
       "      <td>two nightmare scenarios for bitcoin. cryptocurrencies could be damned if they do get government acceptance, and damned if they dont. yes, thats right, there is a route to oblivion whichever way the cookie crumbles. government crypto ban? heres th...</td>\n",
       "      <td>-1</td>\n",
       "      <td>169</td>\n",
       "      <td>0.036279</td>\n",
       "    </tr>\n",
       "    <tr>\n",
       "      <th>10</th>\n",
       "      <td>luminar partners with airbus on laser lidar sensors for robotic aircraft. luminar, a newly public maker of laser lidar sensors, is stepping beyond self-driving cars to partner with airbus advanced technology arm to determine if 3-d vision improve...</td>\n",
       "      <td>-1</td>\n",
       "      <td>202</td>\n",
       "      <td>0.037338</td>\n",
       "    </tr>\n",
       "    <tr>\n",
       "      <th>...</th>\n",
       "      <td>...</td>\n",
       "      <td>...</td>\n",
       "      <td>...</td>\n",
       "      <td>...</td>\n",
       "    </tr>\n",
       "    <tr>\n",
       "      <th>7222</th>\n",
       "      <td>three ways that handwriting with a pen positively affects your brain. stephen king purportedly wrote dreamcatcher in longhand using a waterman cartridge pen. j. k. rowling penned the tales of beedle the bard all 157 pages of it in longhand, and t...</td>\n",
       "      <td>-1</td>\n",
       "      <td>251</td>\n",
       "      <td>0.038611</td>\n",
       "    </tr>\n",
       "    <tr>\n",
       "      <th>7224</th>\n",
       "      <td>why art and science are more closely related than you think. (image: creative commons) has an art ever become a science? originally appeared on quora - the knowledge sharing network where compelling questions are answered by people with unique in...</td>\n",
       "      <td>-1</td>\n",
       "      <td>270</td>\n",
       "      <td>0.040133</td>\n",
       "    </tr>\n",
       "    <tr>\n",
       "      <th>7225</th>\n",
       "      <td>how kathy ireland built a $420 million fortune. supermodel-turned-mogul kathy ireland today joined forbes' first ever ranking of america's top 50 most successful women as measured by their net worths. ireland is the only licensing queen - and the...</td>\n",
       "      <td>-1</td>\n",
       "      <td>146</td>\n",
       "      <td>0.009392</td>\n",
       "    </tr>\n",
       "    <tr>\n",
       "      <th>7226</th>\n",
       "      <td>what your facebook use reveals about your personality and your self-esteem. every day when facebook asks, what's on your mind? around 400 million people respond with a status message. while some people take the opportunity to share about their la...</td>\n",
       "      <td>-1</td>\n",
       "      <td>171</td>\n",
       "      <td>0.009148</td>\n",
       "    </tr>\n",
       "    <tr>\n",
       "      <th>7237</th>\n",
       "      <td>man inadvertently live tweets osama bin laden raid. an it consultant who tried to take a break from the rat race by visiting the city of abbottabad in northern pakistan, has just been given a ringside seat to one of the biggest counter-terrorism ...</td>\n",
       "      <td>-1</td>\n",
       "      <td>141</td>\n",
       "      <td>0.010787</td>\n",
       "    </tr>\n",
       "  </tbody>\n",
       "</table>\n",
       "<p>2159 rows × 4 columns</p>\n",
       "</div>"
      ],
      "text/plain": [
       "                                                                                                                                                                                                                                                            Doc  \\\n",
       "0     10 robot vacuums that clean so you dont have to. if youre like most people, vacuuming is low on your list of favorite chores. you can avoid cleaning, or enlist the aid of a robot vacuum to clean your home autonomously. the best robot vacuums are ...   \n",
       "2     wayfairs biggest sale of the year is officially here. thanks to the pandemic, most of us have spent the past year at home, forced to stare at the same worn-in couch, threadbare arm chair and sparse wall art. so if youre feeling like its time for ...   \n",
       "6     missing paris? visit virtually with a cooking class from la cuisine paris. missing paris? me too. like so many people, paris is my favorite city to visit. when i was in college, i studied for a year in paris and some of my favorite things to do a...   \n",
       "9     two nightmare scenarios for bitcoin. cryptocurrencies could be damned if they do get government acceptance, and damned if they dont. yes, thats right, there is a route to oblivion whichever way the cookie crumbles. government crypto ban? heres th...   \n",
       "10    luminar partners with airbus on laser lidar sensors for robotic aircraft. luminar, a newly public maker of laser lidar sensors, is stepping beyond self-driving cars to partner with airbus advanced technology arm to determine if 3-d vision improve...   \n",
       "...                                                                                                                                                                                                                                                         ...   \n",
       "7222  three ways that handwriting with a pen positively affects your brain. stephen king purportedly wrote dreamcatcher in longhand using a waterman cartridge pen. j. k. rowling penned the tales of beedle the bard all 157 pages of it in longhand, and t...   \n",
       "7224  why art and science are more closely related than you think. (image: creative commons) has an art ever become a science? originally appeared on quora - the knowledge sharing network where compelling questions are answered by people with unique in...   \n",
       "7225  how kathy ireland built a $420 million fortune. supermodel-turned-mogul kathy ireland today joined forbes' first ever ranking of america's top 50 most successful women as measured by their net worths. ireland is the only licensing queen - and the...   \n",
       "7226  what your facebook use reveals about your personality and your self-esteem. every day when facebook asks, what's on your mind? around 400 million people respond with a status message. while some people take the opportunity to share about their la...   \n",
       "7237  man inadvertently live tweets osama bin laden raid. an it consultant who tried to take a break from the rat race by visiting the city of abbottabad in northern pakistan, has just been given a ringside seat to one of the biggest counter-terrorism ...   \n",
       "\n",
       "      Topic  closest_clusters  closest_cluster_prob  \n",
       "0        -1                45              0.042042  \n",
       "2        -1                51              0.164476  \n",
       "6        -1                43              0.090587  \n",
       "9        -1               169              0.036279  \n",
       "10       -1               202              0.037338  \n",
       "...     ...               ...                   ...  \n",
       "7222     -1               251              0.038611  \n",
       "7224     -1               270              0.040133  \n",
       "7225     -1               146              0.009392  \n",
       "7226     -1               171              0.009148  \n",
       "7237     -1               141              0.010787  \n",
       "\n",
       "[2159 rows x 4 columns]"
      ]
     },
     "execution_count": 79,
     "metadata": {},
     "output_type": "execute_result"
    }
   ],
   "source": [
    "print(inspect[inspect.Topic==-1].closest_cluster_prob.max())\n",
    "inspect[inspect.Topic==-1]"
   ]
  },
  {
   "cell_type": "code",
   "execution_count": 82,
   "metadata": {},
   "outputs": [
    {
     "data": {
      "text/plain": [
       "<AxesSubplot:>"
      ]
     },
     "execution_count": 82,
     "metadata": {},
     "output_type": "execute_result"
    },
    {
     "data": {
      "image/png": "[encoded data removed]",
      "text/plain": [
       "<Figure size 432x288 with 1 Axes>"
      ]
     },
     "metadata": {},
     "output_type": "display_data"
    }
   ],
   "source": [
    "inspect[inspect.Topic==-1].closest_cluster_prob.hist(bins=50)"
   ]
  },
  {
   "cell_type": "code",
   "execution_count": 42,
   "metadata": {},
   "outputs": [
    {
     "ename": "NameError",
     "evalue": "name 'inspect' is not defined",
     "output_type": "error",
     "traceback": [
      "\u001b[0;31m---------------------------------------------------------------------------\u001b[0m",
      "\u001b[0;31mNameError\u001b[0m                                 Traceback (most recent call last)",
      "\u001b[0;32m<ipython-input-42-73fd4be7c9a3>\u001b[0m in \u001b[0;36m<module>\u001b[0;34m\u001b[0m\n\u001b[0;32m----> 1\u001b[0;31m \u001b[0minsp_noise\u001b[0m \u001b[0;34m=\u001b[0m \u001b[0minspect\u001b[0m\u001b[0;34m[\u001b[0m\u001b[0minspect\u001b[0m\u001b[0;34m.\u001b[0m\u001b[0mTopic\u001b[0m\u001b[0;34m==\u001b[0m\u001b[0;34m-\u001b[0m\u001b[0;36m1\u001b[0m\u001b[0;34m]\u001b[0m\u001b[0;34m\u001b[0m\u001b[0;34m\u001b[0m\u001b[0m\n\u001b[0m\u001b[1;32m      2\u001b[0m \u001b[0mprint\u001b[0m\u001b[0;34m(\u001b[0m\u001b[0minsp_noise\u001b[0m\u001b[0;34m[\u001b[0m\u001b[0minsp_noise\u001b[0m\u001b[0;34m.\u001b[0m\u001b[0mclosest_cluster_prob\u001b[0m\u001b[0;34m>\u001b[0m\u001b[0;36m0.2\u001b[0m\u001b[0;34m]\u001b[0m\u001b[0;34m.\u001b[0m\u001b[0mshape\u001b[0m\u001b[0;34m)\u001b[0m\u001b[0;34m\u001b[0m\u001b[0;34m\u001b[0m\u001b[0m\n\u001b[1;32m      3\u001b[0m \u001b[0minsp_noise\u001b[0m\u001b[0;34m[\u001b[0m\u001b[0minsp_noise\u001b[0m\u001b[0;34m.\u001b[0m\u001b[0mclosest_cluster_prob\u001b[0m\u001b[0;34m>\u001b[0m\u001b[0;36m0.2\u001b[0m\u001b[0;34m]\u001b[0m\u001b[0;34m\u001b[0m\u001b[0;34m\u001b[0m\u001b[0m\n",
      "\u001b[0;31mNameError\u001b[0m: name 'inspect' is not defined"
     ]
    }
   ],
   "source": [
    "insp_noise = inspect[inspect.Topic==-1]\n",
    "print(insp_noise[insp_noise.closest_cluster_prob>0.2].shape)\n",
    "insp_noise[insp_noise.closest_cluster_prob>0.2]"
   ]
  },
  {
   "cell_type": "code",
   "execution_count": 45,
   "metadata": {},
   "outputs": [
    {
     "name": "stdout",
     "output_type": "stream",
     "text": [
      "Matching labels (4931, 3)\n",
      "Non-Matching labels (2307, 3)\n"
     ]
    }
   ],
   "source": [
    "print(\"Matching labels\", inspect[inspect.Topic== inspect.closest_clusters].shape)\n",
    "print(\"Non-Matching labels\", inspect[inspect.Topic != inspect.closest_clusters].shape)"
   ]
  },
  {
   "cell_type": "code",
   "execution_count": 48,
   "metadata": {},
   "outputs": [
    {
     "data": {
      "text/plain": [
       "-1      2159\n",
       " 237       9\n",
       " 87        8\n",
       " 164       7\n",
       " 134       6\n",
       "        ... \n",
       " 25        1\n",
       " 17        1\n",
       " 3         1\n",
       " 250       1\n",
       " 8         1\n",
       "Name: Topic, Length: 78, dtype: int64"
      ]
     },
     "execution_count": 48,
     "metadata": {},
     "output_type": "execute_result"
    }
   ],
   "source": [
    "inspect[inspect.Topic != inspect.closest_clusters].Topic.value_counts()"
   ]
  },
  {
   "cell_type": "code",
   "execution_count": null,
   "metadata": {},
   "outputs": [],
   "source": []
  },
  {
   "cell_type": "code",
   "execution_count": null,
   "metadata": {},
   "outputs": [],
   "source": []
  },
  {
   "cell_type": "code",
   "execution_count": null,
   "metadata": {},
   "outputs": [],
   "source": []
  },
  {
   "cell_type": "code",
   "execution_count": 30,
   "metadata": {},
   "outputs": [
    {
     "name": "stdout",
     "output_type": "stream",
     "text": [
      "Distinct topics including -1 for noise 235\n",
      "\n"
     ]
    },
    {
     "data": {
      "text/html": [
       "<div>\n",
       "<style scoped>\n",
       "    .dataframe tbody tr th:only-of-type {\n",
       "        vertical-align: middle;\n",
       "    }\n",
       "\n",
       "    .dataframe tbody tr th {\n",
       "        vertical-align: top;\n",
       "    }\n",
       "\n",
       "    .dataframe thead th {\n",
       "        text-align: right;\n",
       "    }\n",
       "</style>\n",
       "<table border=\"1\" class=\"dataframe\">\n",
       "  <thead>\n",
       "    <tr style=\"text-align: right;\">\n",
       "      <th></th>\n",
       "      <th>Doc</th>\n",
       "      <th>Topic</th>\n",
       "    </tr>\n",
       "  </thead>\n",
       "  <tbody>\n",
       "    <tr>\n",
       "      <th>4194</th>\n",
       "      <td>alexander the great: gay or straight?. (one in a series of conversations between historians james romm and paul a. cartledge , editor and introduction-author, respectively, of the new landmark arrian: the campaigns of alexander , published by pan...</td>\n",
       "      <td>-1</td>\n",
       "    </tr>\n",
       "    <tr>\n",
       "      <th>4195</th>\n",
       "      <td>mark zuckerberg joins the north american man-boy love association, and other adventures in facebook groups. my colleague kashmir hill congratulated facebook's mark zuckerberg earlier today on his increasingly savvy approach to talking about priva...</td>\n",
       "      <td>38</td>\n",
       "    </tr>\n",
       "    <tr>\n",
       "      <th>4196</th>\n",
       "      <td>why reits make sense. michael gunzenhaeuser, a 59-year-old semiretired obstetrician in mansfield, ohio, has heard his share of real estate horror stories lately. friends who own rental apartments grousing about plumbers' bills and endless tenant ...</td>\n",
       "      <td>103</td>\n",
       "    </tr>\n",
       "    <tr>\n",
       "      <th>4197</th>\n",
       "      <td>brrr!. bill clinton recently brought up the idea that we might have to slow down the u.s. economy to cut back on greenhouse emissions in order to save the planet from global warming. less prosperity will be our salvation! putting aside the former...</td>\n",
       "      <td>22</td>\n",
       "    </tr>\n",
       "    <tr>\n",
       "      <th>4198</th>\n",
       "      <td>fact and comment. fantastic fiber future is here--but not in u.s. washington and the federal communications commission should look to south korea to see what the future could be like with true telecom deregulation. in the u.s. a t-1 line, which p...</td>\n",
       "      <td>-1</td>\n",
       "    </tr>\n",
       "  </tbody>\n",
       "</table>\n",
       "</div>"
      ],
      "text/plain": [
       "                                                                                                                                                                                                                                                            Doc  \\\n",
       "4194  alexander the great: gay or straight?. (one in a series of conversations between historians james romm and paul a. cartledge , editor and introduction-author, respectively, of the new landmark arrian: the campaigns of alexander , published by pan...   \n",
       "4195  mark zuckerberg joins the north american man-boy love association, and other adventures in facebook groups. my colleague kashmir hill congratulated facebook's mark zuckerberg earlier today on his increasingly savvy approach to talking about priva...   \n",
       "4196  why reits make sense. michael gunzenhaeuser, a 59-year-old semiretired obstetrician in mansfield, ohio, has heard his share of real estate horror stories lately. friends who own rental apartments grousing about plumbers' bills and endless tenant ...   \n",
       "4197  brrr!. bill clinton recently brought up the idea that we might have to slow down the u.s. economy to cut back on greenhouse emissions in order to save the planet from global warming. less prosperity will be our salvation! putting aside the former...   \n",
       "4198  fact and comment. fantastic fiber future is here--but not in u.s. washington and the federal communications commission should look to south korea to see what the future could be like with true telecom deregulation. in the u.s. a t-1 line, which p...   \n",
       "\n",
       "      Topic  \n",
       "4194     -1  \n",
       "4195     38  \n",
       "4196    103  \n",
       "4197     22  \n",
       "4198     -1  "
      ]
     },
     "execution_count": 30,
     "metadata": {},
     "output_type": "execute_result"
    }
   ],
   "source": [
    "# put topics in dataframe\n",
    "may03_docs_df = may03[['clean_body']]\n",
    "may03_docs_df.rename(columns={'clean_body':'Doc'}, inplace=True)\n",
    "may03_docs_df[\"Topic\"] = may03_test_labels\n",
    "\n",
    "print(\"Distinct topics including -1 for noise\", len(may03_docs_df.Topic.unique()))\n",
    "print()\n",
    "may03_docs_df.tail()"
   ]
  },
  {
   "cell_type": "code",
   "execution_count": 31,
   "metadata": {},
   "outputs": [
    {
     "name": "stdout",
     "output_type": "stream",
     "text": [
      "Distinct topics including -1 for noise 235\n",
      "\n"
     ]
    },
    {
     "data": {
      "text/html": [
       "<div>\n",
       "<style scoped>\n",
       "    .dataframe tbody tr th:only-of-type {\n",
       "        vertical-align: middle;\n",
       "    }\n",
       "\n",
       "    .dataframe tbody tr th {\n",
       "        vertical-align: top;\n",
       "    }\n",
       "\n",
       "    .dataframe thead th {\n",
       "        text-align: right;\n",
       "    }\n",
       "</style>\n",
       "<table border=\"1\" class=\"dataframe\">\n",
       "  <thead>\n",
       "    <tr style=\"text-align: right;\">\n",
       "      <th></th>\n",
       "      <th>Doc</th>\n",
       "      <th>Topic</th>\n",
       "    </tr>\n",
       "  </thead>\n",
       "  <tbody>\n",
       "    <tr>\n",
       "      <th>4194</th>\n",
       "      <td>alexander the great: gay or straight?. (one in a series of conversations between historians james romm and paul a. cartledge , editor and introduction-author, respectively, of the new landmark arrian: the campaigns of alexander , published by pan...</td>\n",
       "      <td>-1</td>\n",
       "    </tr>\n",
       "    <tr>\n",
       "      <th>4195</th>\n",
       "      <td>mark zuckerberg joins the north american man-boy love association, and other adventures in facebook groups. my colleague kashmir hill congratulated facebook's mark zuckerberg earlier today on his increasingly savvy approach to talking about priva...</td>\n",
       "      <td>38</td>\n",
       "    </tr>\n",
       "    <tr>\n",
       "      <th>4196</th>\n",
       "      <td>why reits make sense. michael gunzenhaeuser, a 59-year-old semiretired obstetrician in mansfield, ohio, has heard his share of real estate horror stories lately. friends who own rental apartments grousing about plumbers' bills and endless tenant ...</td>\n",
       "      <td>103</td>\n",
       "    </tr>\n",
       "    <tr>\n",
       "      <th>4197</th>\n",
       "      <td>brrr!. bill clinton recently brought up the idea that we might have to slow down the u.s. economy to cut back on greenhouse emissions in order to save the planet from global warming. less prosperity will be our salvation! putting aside the former...</td>\n",
       "      <td>22</td>\n",
       "    </tr>\n",
       "    <tr>\n",
       "      <th>4198</th>\n",
       "      <td>fact and comment. fantastic fiber future is here--but not in u.s. washington and the federal communications commission should look to south korea to see what the future could be like with true telecom deregulation. in the u.s. a t-1 line, which p...</td>\n",
       "      <td>-1</td>\n",
       "    </tr>\n",
       "  </tbody>\n",
       "</table>\n",
       "</div>"
      ],
      "text/plain": [
       "                                                                                                                                                                                                                                                            Doc  \\\n",
       "4194  alexander the great: gay or straight?. (one in a series of conversations between historians james romm and paul a. cartledge , editor and introduction-author, respectively, of the new landmark arrian: the campaigns of alexander , published by pan...   \n",
       "4195  mark zuckerberg joins the north american man-boy love association, and other adventures in facebook groups. my colleague kashmir hill congratulated facebook's mark zuckerberg earlier today on his increasingly savvy approach to talking about priva...   \n",
       "4196  why reits make sense. michael gunzenhaeuser, a 59-year-old semiretired obstetrician in mansfield, ohio, has heard his share of real estate horror stories lately. friends who own rental apartments grousing about plumbers' bills and endless tenant ...   \n",
       "4197  brrr!. bill clinton recently brought up the idea that we might have to slow down the u.s. economy to cut back on greenhouse emissions in order to save the planet from global warming. less prosperity will be our salvation! putting aside the former...   \n",
       "4198  fact and comment. fantastic fiber future is here--but not in u.s. washington and the federal communications commission should look to south korea to see what the future could be like with true telecom deregulation. in the u.s. a t-1 line, which p...   \n",
       "\n",
       "      Topic  \n",
       "4194     -1  \n",
       "4195     38  \n",
       "4196    103  \n",
       "4197     22  \n",
       "4198     -1  "
      ]
     },
     "execution_count": 31,
     "metadata": {},
     "output_type": "execute_result"
    }
   ],
   "source": [
    "# put topics in dataframe\n",
    "may03_docs_df = may03[['clean_body']]\n",
    "may03_docs_df.rename(columns={'clean_body':'Doc'}, inplace=True)\n",
    "may03_docs_df[\"Topic\"] = may03_test_labels\n",
    "\n",
    "print(\"Distinct topics including -1 for noise\", len(may03_docs_df.Topic.unique()))\n",
    "print()\n",
    "may03_docs_df.tail()"
   ]
  },
  {
   "cell_type": "code",
   "execution_count": 32,
   "metadata": {},
   "outputs": [],
   "source": [
    "may03_topic_sizes = extract_topic_sizes(may03_docs_df)\n",
    "\n",
    "# GENERATE TOPIC METRICS\n",
    "\n",
    "# per topic - cos_min and cos_mean\n",
    "may03_cossim_df = generate_all_cossim_metrics(may03_docs_df, umap_embeddings_may03)\n",
    "\n",
    "# per topic - tier counts\n",
    "tier_metric = may03_docs_df.join(may03[[\"tier1\"]])\n",
    "\n",
    "iab_metric = tier_metric.groupby(\"Topic\").agg({\"tier1\": \n",
    "                                               'nunique'}).round(2).reset_index().rename(columns = {'tier1': \n",
    "                                                                                                    'distinct_tier1s',\n",
    "                                                                                                    'Topic':\n",
    "                                                                                                    'topic_num'})\n",
    "\n",
    "# combine topic, top words, cos and tier metrics\n",
    "topic_info_may03 = pd.merge(pd.merge(may03_topic_sizes, \n",
    "                                        may03_cossim_df, how=\"inner\", left_on=\"Topic\", right_on = \"topic_num\"), \n",
    "                               iab_metric, on = \"topic_num\", how=\"inner\")\n",
    "\n",
    "topic_info_may03.drop('Topic', axis=1, inplace=True)"
   ]
  },
  {
   "cell_type": "code",
   "execution_count": 45,
   "metadata": {},
   "outputs": [
    {
     "data": {
      "image/png": "[encoded data removed]",
      "text/plain": [
       "<Figure size 1080x504 with 4 Axes>"
      ]
     },
     "metadata": {},
     "output_type": "display_data"
    }
   ],
   "source": [
    "# TEST FOR LESSER NOISE\n",
    "topic_info_may03[['cos_min', 'cos_mean', 'distinct_tier1s']].hist(figsize= (15,7), bins=50)\n",
    "plt.show()"
   ]
  },
  {
   "cell_type": "code",
   "execution_count": 39,
   "metadata": {},
   "outputs": [
    {
     "data": {
      "text/html": [
       "<div>\n",
       "<style scoped>\n",
       "    .dataframe tbody tr th:only-of-type {\n",
       "        vertical-align: middle;\n",
       "    }\n",
       "\n",
       "    .dataframe tbody tr th {\n",
       "        vertical-align: top;\n",
       "    }\n",
       "\n",
       "    .dataframe thead th {\n",
       "        text-align: right;\n",
       "    }\n",
       "</style>\n",
       "<table border=\"1\" class=\"dataframe\">\n",
       "  <thead>\n",
       "    <tr style=\"text-align: right;\">\n",
       "      <th></th>\n",
       "      <th>Size</th>\n",
       "      <th>topic_num</th>\n",
       "      <th>cos_min</th>\n",
       "      <th>cos_mean</th>\n",
       "      <th>distinct_tier1s</th>\n",
       "    </tr>\n",
       "  </thead>\n",
       "  <tbody>\n",
       "    <tr>\n",
       "      <th>0</th>\n",
       "      <td>1759</td>\n",
       "      <td>-1</td>\n",
       "      <td>0.38</td>\n",
       "      <td>0.96</td>\n",
       "      <td>30</td>\n",
       "    </tr>\n",
       "    <tr>\n",
       "      <th>1</th>\n",
       "      <td>103</td>\n",
       "      <td>54</td>\n",
       "      <td>1.00</td>\n",
       "      <td>1.00</td>\n",
       "      <td>12</td>\n",
       "    </tr>\n",
       "    <tr>\n",
       "      <th>2</th>\n",
       "      <td>90</td>\n",
       "      <td>43</td>\n",
       "      <td>1.00</td>\n",
       "      <td>1.00</td>\n",
       "      <td>14</td>\n",
       "    </tr>\n",
       "    <tr>\n",
       "      <th>3</th>\n",
       "      <td>49</td>\n",
       "      <td>232</td>\n",
       "      <td>1.00</td>\n",
       "      <td>1.00</td>\n",
       "      <td>7</td>\n",
       "    </tr>\n",
       "    <tr>\n",
       "      <th>4</th>\n",
       "      <td>44</td>\n",
       "      <td>153</td>\n",
       "      <td>1.00</td>\n",
       "      <td>1.00</td>\n",
       "      <td>6</td>\n",
       "    </tr>\n",
       "    <tr>\n",
       "      <th>...</th>\n",
       "      <td>...</td>\n",
       "      <td>...</td>\n",
       "      <td>...</td>\n",
       "      <td>...</td>\n",
       "      <td>...</td>\n",
       "    </tr>\n",
       "    <tr>\n",
       "      <th>255</th>\n",
       "      <td>1</td>\n",
       "      <td>133</td>\n",
       "      <td>NaN</td>\n",
       "      <td>NaN</td>\n",
       "      <td>1</td>\n",
       "    </tr>\n",
       "    <tr>\n",
       "      <th>256</th>\n",
       "      <td>1</td>\n",
       "      <td>259</td>\n",
       "      <td>NaN</td>\n",
       "      <td>NaN</td>\n",
       "      <td>1</td>\n",
       "    </tr>\n",
       "    <tr>\n",
       "      <th>257</th>\n",
       "      <td>1</td>\n",
       "      <td>85</td>\n",
       "      <td>NaN</td>\n",
       "      <td>NaN</td>\n",
       "      <td>1</td>\n",
       "    </tr>\n",
       "    <tr>\n",
       "      <th>258</th>\n",
       "      <td>1</td>\n",
       "      <td>191</td>\n",
       "      <td>NaN</td>\n",
       "      <td>NaN</td>\n",
       "      <td>1</td>\n",
       "    </tr>\n",
       "    <tr>\n",
       "      <th>259</th>\n",
       "      <td>1</td>\n",
       "      <td>218</td>\n",
       "      <td>NaN</td>\n",
       "      <td>NaN</td>\n",
       "      <td>1</td>\n",
       "    </tr>\n",
       "  </tbody>\n",
       "</table>\n",
       "<p>260 rows × 5 columns</p>\n",
       "</div>"
      ],
      "text/plain": [
       "     Size  topic_num  cos_min  cos_mean  distinct_tier1s\n",
       "0    1759         -1     0.38      0.96               30\n",
       "1     103         54     1.00      1.00               12\n",
       "2      90         43     1.00      1.00               14\n",
       "3      49        232     1.00      1.00                7\n",
       "4      44        153     1.00      1.00                6\n",
       "..    ...        ...      ...       ...              ...\n",
       "255     1        133      NaN       NaN                1\n",
       "256     1        259      NaN       NaN                1\n",
       "257     1         85      NaN       NaN                1\n",
       "258     1        191      NaN       NaN                1\n",
       "259     1        218      NaN       NaN                1\n",
       "\n",
       "[260 rows x 5 columns]"
      ]
     },
     "execution_count": 39,
     "metadata": {},
     "output_type": "execute_result"
    }
   ],
   "source": [
    "# apr26-may02, minsamples4\n",
    "topic_info_may03"
   ]
  },
  {
   "cell_type": "code",
   "execution_count": 46,
   "metadata": {},
   "outputs": [
    {
     "data": {
      "text/html": [
       "<div>\n",
       "<style scoped>\n",
       "    .dataframe tbody tr th:only-of-type {\n",
       "        vertical-align: middle;\n",
       "    }\n",
       "\n",
       "    .dataframe tbody tr th {\n",
       "        vertical-align: top;\n",
       "    }\n",
       "\n",
       "    .dataframe thead th {\n",
       "        text-align: right;\n",
       "    }\n",
       "</style>\n",
       "<table border=\"1\" class=\"dataframe\">\n",
       "  <thead>\n",
       "    <tr style=\"text-align: right;\">\n",
       "      <th></th>\n",
       "      <th>Size</th>\n",
       "      <th>topic_num</th>\n",
       "      <th>cos_min</th>\n",
       "      <th>cos_mean</th>\n",
       "      <th>distinct_tier1s</th>\n",
       "    </tr>\n",
       "  </thead>\n",
       "  <tbody>\n",
       "    <tr>\n",
       "      <th>0</th>\n",
       "      <td>1784</td>\n",
       "      <td>-1</td>\n",
       "      <td>0.37</td>\n",
       "      <td>0.95</td>\n",
       "      <td>31</td>\n",
       "    </tr>\n",
       "    <tr>\n",
       "      <th>1</th>\n",
       "      <td>69</td>\n",
       "      <td>44</td>\n",
       "      <td>1.00</td>\n",
       "      <td>1.00</td>\n",
       "      <td>7</td>\n",
       "    </tr>\n",
       "    <tr>\n",
       "      <th>2</th>\n",
       "      <td>58</td>\n",
       "      <td>62</td>\n",
       "      <td>1.00</td>\n",
       "      <td>1.00</td>\n",
       "      <td>10</td>\n",
       "    </tr>\n",
       "    <tr>\n",
       "      <th>3</th>\n",
       "      <td>52</td>\n",
       "      <td>132</td>\n",
       "      <td>0.99</td>\n",
       "      <td>1.00</td>\n",
       "      <td>10</td>\n",
       "    </tr>\n",
       "    <tr>\n",
       "      <th>4</th>\n",
       "      <td>37</td>\n",
       "      <td>54</td>\n",
       "      <td>1.00</td>\n",
       "      <td>1.00</td>\n",
       "      <td>3</td>\n",
       "    </tr>\n",
       "    <tr>\n",
       "      <th>...</th>\n",
       "      <td>...</td>\n",
       "      <td>...</td>\n",
       "      <td>...</td>\n",
       "      <td>...</td>\n",
       "      <td>...</td>\n",
       "    </tr>\n",
       "    <tr>\n",
       "      <th>305</th>\n",
       "      <td>1</td>\n",
       "      <td>282</td>\n",
       "      <td>NaN</td>\n",
       "      <td>NaN</td>\n",
       "      <td>1</td>\n",
       "    </tr>\n",
       "    <tr>\n",
       "      <th>306</th>\n",
       "      <td>1</td>\n",
       "      <td>253</td>\n",
       "      <td>NaN</td>\n",
       "      <td>NaN</td>\n",
       "      <td>1</td>\n",
       "    </tr>\n",
       "    <tr>\n",
       "      <th>307</th>\n",
       "      <td>1</td>\n",
       "      <td>258</td>\n",
       "      <td>NaN</td>\n",
       "      <td>NaN</td>\n",
       "      <td>1</td>\n",
       "    </tr>\n",
       "    <tr>\n",
       "      <th>308</th>\n",
       "      <td>1</td>\n",
       "      <td>276</td>\n",
       "      <td>NaN</td>\n",
       "      <td>NaN</td>\n",
       "      <td>1</td>\n",
       "    </tr>\n",
       "    <tr>\n",
       "      <th>309</th>\n",
       "      <td>1</td>\n",
       "      <td>229</td>\n",
       "      <td>NaN</td>\n",
       "      <td>NaN</td>\n",
       "      <td>1</td>\n",
       "    </tr>\n",
       "  </tbody>\n",
       "</table>\n",
       "<p>310 rows × 5 columns</p>\n",
       "</div>"
      ],
      "text/plain": [
       "     Size  topic_num  cos_min  cos_mean  distinct_tier1s\n",
       "0    1784         -1     0.37      0.95               31\n",
       "1      69         44     1.00      1.00                7\n",
       "2      58         62     1.00      1.00               10\n",
       "3      52        132     0.99      1.00               10\n",
       "4      37         54     1.00      1.00                3\n",
       "..    ...        ...      ...       ...              ...\n",
       "305     1        282      NaN       NaN                1\n",
       "306     1        253      NaN       NaN                1\n",
       "307     1        258      NaN       NaN                1\n",
       "308     1        276      NaN       NaN                1\n",
       "309     1        229      NaN       NaN                1\n",
       "\n",
       "[310 rows x 5 columns]"
      ]
     },
     "execution_count": 46,
     "metadata": {},
     "output_type": "execute_result"
    }
   ],
   "source": [
    "# apr28-may02, minsamples4\n",
    "topic_info_may03"
   ]
  },
  {
   "cell_type": "code",
   "execution_count": 33,
   "metadata": {},
   "outputs": [
    {
     "data": {
      "text/html": [
       "<div>\n",
       "<style scoped>\n",
       "    .dataframe tbody tr th:only-of-type {\n",
       "        vertical-align: middle;\n",
       "    }\n",
       "\n",
       "    .dataframe tbody tr th {\n",
       "        vertical-align: top;\n",
       "    }\n",
       "\n",
       "    .dataframe thead th {\n",
       "        text-align: right;\n",
       "    }\n",
       "</style>\n",
       "<table border=\"1\" class=\"dataframe\">\n",
       "  <thead>\n",
       "    <tr style=\"text-align: right;\">\n",
       "      <th></th>\n",
       "      <th>Size</th>\n",
       "      <th>topic_num</th>\n",
       "      <th>cos_min</th>\n",
       "      <th>cos_mean</th>\n",
       "      <th>distinct_tier1s</th>\n",
       "    </tr>\n",
       "  </thead>\n",
       "  <tbody>\n",
       "    <tr>\n",
       "      <th>0</th>\n",
       "      <td>1919</td>\n",
       "      <td>-1</td>\n",
       "      <td>0.22</td>\n",
       "      <td>0.95</td>\n",
       "      <td>31</td>\n",
       "    </tr>\n",
       "    <tr>\n",
       "      <th>1</th>\n",
       "      <td>56</td>\n",
       "      <td>38</td>\n",
       "      <td>1.00</td>\n",
       "      <td>1.00</td>\n",
       "      <td>8</td>\n",
       "    </tr>\n",
       "    <tr>\n",
       "      <th>2</th>\n",
       "      <td>50</td>\n",
       "      <td>101</td>\n",
       "      <td>1.00</td>\n",
       "      <td>1.00</td>\n",
       "      <td>6</td>\n",
       "    </tr>\n",
       "    <tr>\n",
       "      <th>3</th>\n",
       "      <td>46</td>\n",
       "      <td>143</td>\n",
       "      <td>1.00</td>\n",
       "      <td>1.00</td>\n",
       "      <td>2</td>\n",
       "    </tr>\n",
       "    <tr>\n",
       "      <th>4</th>\n",
       "      <td>45</td>\n",
       "      <td>127</td>\n",
       "      <td>1.00</td>\n",
       "      <td>1.00</td>\n",
       "      <td>7</td>\n",
       "    </tr>\n",
       "    <tr>\n",
       "      <th>...</th>\n",
       "      <td>...</td>\n",
       "      <td>...</td>\n",
       "      <td>...</td>\n",
       "      <td>...</td>\n",
       "      <td>...</td>\n",
       "    </tr>\n",
       "    <tr>\n",
       "      <th>230</th>\n",
       "      <td>1</td>\n",
       "      <td>229</td>\n",
       "      <td>NaN</td>\n",
       "      <td>NaN</td>\n",
       "      <td>1</td>\n",
       "    </tr>\n",
       "    <tr>\n",
       "      <th>231</th>\n",
       "      <td>1</td>\n",
       "      <td>230</td>\n",
       "      <td>NaN</td>\n",
       "      <td>NaN</td>\n",
       "      <td>1</td>\n",
       "    </tr>\n",
       "    <tr>\n",
       "      <th>232</th>\n",
       "      <td>1</td>\n",
       "      <td>59</td>\n",
       "      <td>NaN</td>\n",
       "      <td>NaN</td>\n",
       "      <td>1</td>\n",
       "    </tr>\n",
       "    <tr>\n",
       "      <th>233</th>\n",
       "      <td>1</td>\n",
       "      <td>193</td>\n",
       "      <td>NaN</td>\n",
       "      <td>NaN</td>\n",
       "      <td>1</td>\n",
       "    </tr>\n",
       "    <tr>\n",
       "      <th>234</th>\n",
       "      <td>1</td>\n",
       "      <td>99</td>\n",
       "      <td>NaN</td>\n",
       "      <td>NaN</td>\n",
       "      <td>1</td>\n",
       "    </tr>\n",
       "  </tbody>\n",
       "</table>\n",
       "<p>235 rows × 5 columns</p>\n",
       "</div>"
      ],
      "text/plain": [
       "     Size  topic_num  cos_min  cos_mean  distinct_tier1s\n",
       "0    1919         -1     0.22      0.95               31\n",
       "1      56         38     1.00      1.00                8\n",
       "2      50        101     1.00      1.00                6\n",
       "3      46        143     1.00      1.00                2\n",
       "4      45        127     1.00      1.00                7\n",
       "..    ...        ...      ...       ...              ...\n",
       "230     1        229      NaN       NaN                1\n",
       "231     1        230      NaN       NaN                1\n",
       "232     1         59      NaN       NaN                1\n",
       "233     1        193      NaN       NaN                1\n",
       "234     1         99      NaN       NaN                1\n",
       "\n",
       "[235 rows x 5 columns]"
      ]
     },
     "execution_count": 33,
     "metadata": {},
     "output_type": "execute_result"
    }
   ],
   "source": [
    "# apr30-may02, minsamples4\n",
    "topic_info_may03"
   ]
  },
  {
   "cell_type": "code",
   "execution_count": 47,
   "metadata": {},
   "outputs": [
    {
     "data": {
      "text/plain": [
       "count     310.000000\n",
       "mean       13.545161\n",
       "std       101.228807\n",
       "min         1.000000\n",
       "25%         3.000000\n",
       "50%         5.000000\n",
       "75%         9.000000\n",
       "max      1784.000000\n",
       "Name: Size, dtype: float64"
      ]
     },
     "execution_count": 47,
     "metadata": {},
     "output_type": "execute_result"
    }
   ],
   "source": [
    "topic_info_may03.Size.describe()"
   ]
  },
  {
   "cell_type": "code",
   "execution_count": 48,
   "metadata": {},
   "outputs": [
    {
     "data": {
      "text/plain": [
       "<AxesSubplot:>"
      ]
     },
     "execution_count": 48,
     "metadata": {},
     "output_type": "execute_result"
    },
    {
     "data": {
      "image/png": "[encoded data removed]",
      "text/plain": [
       "<Figure size 432x288 with 1 Axes>"
      ]
     },
     "metadata": {},
     "output_type": "display_data"
    }
   ],
   "source": [
    "topic_info_may03.Size.hist(bins=50, range=(0, 100))"
   ]
  },
  {
   "cell_type": "code",
   "execution_count": 43,
   "metadata": {},
   "outputs": [],
   "source": [
    "# combine natural id inside docs_df\n",
    "\n",
    "may03_docs_df = pd.merge(may03_docs_df, may03, how=\"left\", left_on=\"Doc\", right_on=\"clean_body\")\n",
    "may03_docs_df.drop(\"clean_body\", axis=1, inplace=True)"
   ]
  },
  {
   "cell_type": "code",
   "execution_count": 44,
   "metadata": {},
   "outputs": [],
   "source": [
    "# combine topic_info_may03 with topic names\n",
    "\n",
    "topic_info_may03 = pd.merge(topic_info_may03, top_n_words_df, how=\"left\", on=\"topic_num\").sort_values(\"topic_num\")"
   ]
  },
  {
   "cell_type": "code",
   "execution_count": 101,
   "metadata": {},
   "outputs": [],
   "source": [
    "pred_may03_inspect = pd.merge(may03_docs_df, \n",
    "         topic_info_may03, \n",
    "         how=\"left\", \n",
    "         left_on=\"Topic\", \n",
    "         right_on = \"topic_num\").drop('topic_num', axis=1)"
   ]
  },
  {
   "cell_type": "code",
   "execution_count": 104,
   "metadata": {},
   "outputs": [
    {
     "data": {
      "text/plain": [
       "(4199, 6)"
      ]
     },
     "execution_count": 104,
     "metadata": {},
     "output_type": "execute_result"
    }
   ],
   "source": [
    "pred_may03_inspect.shape"
   ]
  },
  {
   "cell_type": "code",
   "execution_count": 103,
   "metadata": {},
   "outputs": [
    {
     "data": {
      "text/html": [
       "<div>\n",
       "<style scoped>\n",
       "    .dataframe tbody tr th:only-of-type {\n",
       "        vertical-align: middle;\n",
       "    }\n",
       "\n",
       "    .dataframe tbody tr th {\n",
       "        vertical-align: top;\n",
       "    }\n",
       "\n",
       "    .dataframe thead th {\n",
       "        text-align: right;\n",
       "    }\n",
       "</style>\n",
       "<table border=\"1\" class=\"dataframe\">\n",
       "  <thead>\n",
       "    <tr style=\"text-align: right;\">\n",
       "      <th></th>\n",
       "      <th>Doc</th>\n",
       "      <th>Topic</th>\n",
       "      <th>Size</th>\n",
       "      <th>cos_min</th>\n",
       "      <th>cos_mean</th>\n",
       "      <th>distinct_tier1s</th>\n",
       "    </tr>\n",
       "  </thead>\n",
       "  <tbody>\n",
       "    <tr>\n",
       "      <th>1</th>\n",
       "      <td>announced at wwdc, macos monterey makes the new imac even harder to resist. the new 24-inch imac is a remarkable machine; powered by apples new m1 processor, it feels modern and up-to-date in a way that imacs havent for a number of years. its now...</td>\n",
       "      <td>-1</td>\n",
       "      <td>1784</td>\n",
       "      <td>0.37</td>\n",
       "      <td>0.95</td>\n",
       "      <td>31</td>\n",
       "    </tr>\n",
       "    <tr>\n",
       "      <th>2</th>\n",
       "      <td>the new ipad pro 2021 gets even better with tons of new features announced at wwdc. it was just over a year ago that apple unveiled its last ipad pro. the 2020 model wasnt a significant improvement over 2018sit mainly added support for the laptop...</td>\n",
       "      <td>-1</td>\n",
       "      <td>1784</td>\n",
       "      <td>0.37</td>\n",
       "      <td>0.95</td>\n",
       "      <td>31</td>\n",
       "    </tr>\n",
       "    <tr>\n",
       "      <th>4</th>\n",
       "      <td>13 pool floats for the whole family (yes, your dog too). theres only so much lemonade you can drink on your favorite lounge chair by the pool before the itch to jump in the water kicks in. but if youve been relaxing, reading or sipping on your fa...</td>\n",
       "      <td>-1</td>\n",
       "      <td>1784</td>\n",
       "      <td>0.37</td>\n",
       "      <td>0.95</td>\n",
       "      <td>31</td>\n",
       "    </tr>\n",
       "    <tr>\n",
       "      <th>9</th>\n",
       "      <td>these 12 pillows for neck pain will have you waking up feeling brand new. if youre someone who suffers from chronic neck pain, it can be difficult to get a good nights sleep. and while a really great mattress can do a lot to alleviate some amount...</td>\n",
       "      <td>-1</td>\n",
       "      <td>1784</td>\n",
       "      <td>0.37</td>\n",
       "      <td>0.95</td>\n",
       "      <td>31</td>\n",
       "    </tr>\n",
       "    <tr>\n",
       "      <th>11</th>\n",
       "      <td>15 aapi fashion brands to support this month and beyond. even though maythe month that asian american and pacific islander heritage month is recognizedis almost over, when you shop at the fashion retailers and brands on this list, youll also be s...</td>\n",
       "      <td>-1</td>\n",
       "      <td>1784</td>\n",
       "      <td>0.37</td>\n",
       "      <td>0.95</td>\n",
       "      <td>31</td>\n",
       "    </tr>\n",
       "    <tr>\n",
       "      <th>...</th>\n",
       "      <td>...</td>\n",
       "      <td>...</td>\n",
       "      <td>...</td>\n",
       "      <td>...</td>\n",
       "      <td>...</td>\n",
       "      <td>...</td>\n",
       "    </tr>\n",
       "    <tr>\n",
       "      <th>4187</th>\n",
       "      <td>why are manholes round? the 10 toughest interview questions. a job interview at one of google 's 75 campuses around the globe might seem to have more in common with pledging a secret fraternity than job-hunting. an often months-long interview pro...</td>\n",
       "      <td>-1</td>\n",
       "      <td>1784</td>\n",
       "      <td>0.37</td>\n",
       "      <td>0.95</td>\n",
       "      <td>31</td>\n",
       "    </tr>\n",
       "    <tr>\n",
       "      <th>4188</th>\n",
       "      <td>how do you change an organizational culture?. changing an organizations culture is one of the most difficult leadership challenges. thats because an organizations culture comprises an interlocking set of goals, roles, processes, values, communica...</td>\n",
       "      <td>-1</td>\n",
       "      <td>1784</td>\n",
       "      <td>0.37</td>\n",
       "      <td>0.95</td>\n",
       "      <td>31</td>\n",
       "    </tr>\n",
       "    <tr>\n",
       "      <th>4191</th>\n",
       "      <td>understanding how assets get divided in divorce. dividing the familys property during divorce can be quite difficult, especially if there are significant assets such as houses, rental property, retirement and pension plans, stock options, restric...</td>\n",
       "      <td>-1</td>\n",
       "      <td>1784</td>\n",
       "      <td>0.37</td>\n",
       "      <td>0.95</td>\n",
       "      <td>31</td>\n",
       "    </tr>\n",
       "    <tr>\n",
       "      <th>4194</th>\n",
       "      <td>alexander the great: gay or straight?. (one in a series of conversations between historians james romm and paul a. cartledge , editor and introduction-author, respectively, of the new landmark arrian: the campaigns of alexander , published by pan...</td>\n",
       "      <td>-1</td>\n",
       "      <td>1784</td>\n",
       "      <td>0.37</td>\n",
       "      <td>0.95</td>\n",
       "      <td>31</td>\n",
       "    </tr>\n",
       "    <tr>\n",
       "      <th>4197</th>\n",
       "      <td>brrr!. bill clinton recently brought up the idea that we might have to slow down the u.s. economy to cut back on greenhouse emissions in order to save the planet from global warming. less prosperity will be our salvation! putting aside the former...</td>\n",
       "      <td>-1</td>\n",
       "      <td>1784</td>\n",
       "      <td>0.37</td>\n",
       "      <td>0.95</td>\n",
       "      <td>31</td>\n",
       "    </tr>\n",
       "  </tbody>\n",
       "</table>\n",
       "<p>1784 rows × 6 columns</p>\n",
       "</div>"
      ],
      "text/plain": [
       "                                                                                                                                                                                                                                                            Doc  \\\n",
       "1     announced at wwdc, macos monterey makes the new imac even harder to resist. the new 24-inch imac is a remarkable machine; powered by apples new m1 processor, it feels modern and up-to-date in a way that imacs havent for a number of years. its now...   \n",
       "2     the new ipad pro 2021 gets even better with tons of new features announced at wwdc. it was just over a year ago that apple unveiled its last ipad pro. the 2020 model wasnt a significant improvement over 2018sit mainly added support for the laptop...   \n",
       "4     13 pool floats for the whole family (yes, your dog too). theres only so much lemonade you can drink on your favorite lounge chair by the pool before the itch to jump in the water kicks in. but if youve been relaxing, reading or sipping on your fa...   \n",
       "9     these 12 pillows for neck pain will have you waking up feeling brand new. if youre someone who suffers from chronic neck pain, it can be difficult to get a good nights sleep. and while a really great mattress can do a lot to alleviate some amount...   \n",
       "11    15 aapi fashion brands to support this month and beyond. even though maythe month that asian american and pacific islander heritage month is recognizedis almost over, when you shop at the fashion retailers and brands on this list, youll also be s...   \n",
       "...                                                                                                                                                                                                                                                         ...   \n",
       "4187  why are manholes round? the 10 toughest interview questions. a job interview at one of google 's 75 campuses around the globe might seem to have more in common with pledging a secret fraternity than job-hunting. an often months-long interview pro...   \n",
       "4188  how do you change an organizational culture?. changing an organizations culture is one of the most difficult leadership challenges. thats because an organizations culture comprises an interlocking set of goals, roles, processes, values, communica...   \n",
       "4191  understanding how assets get divided in divorce. dividing the familys property during divorce can be quite difficult, especially if there are significant assets such as houses, rental property, retirement and pension plans, stock options, restric...   \n",
       "4194  alexander the great: gay or straight?. (one in a series of conversations between historians james romm and paul a. cartledge , editor and introduction-author, respectively, of the new landmark arrian: the campaigns of alexander , published by pan...   \n",
       "4197  brrr!. bill clinton recently brought up the idea that we might have to slow down the u.s. economy to cut back on greenhouse emissions in order to save the planet from global warming. less prosperity will be our salvation! putting aside the former...   \n",
       "\n",
       "      Topic  Size  cos_min  cos_mean  distinct_tier1s  \n",
       "1        -1  1784     0.37      0.95               31  \n",
       "2        -1  1784     0.37      0.95               31  \n",
       "4        -1  1784     0.37      0.95               31  \n",
       "9        -1  1784     0.37      0.95               31  \n",
       "11       -1  1784     0.37      0.95               31  \n",
       "...     ...   ...      ...       ...              ...  \n",
       "4187     -1  1784     0.37      0.95               31  \n",
       "4188     -1  1784     0.37      0.95               31  \n",
       "4191     -1  1784     0.37      0.95               31  \n",
       "4194     -1  1784     0.37      0.95               31  \n",
       "4197     -1  1784     0.37      0.95               31  \n",
       "\n",
       "[1784 rows x 6 columns]"
      ]
     },
     "execution_count": 103,
     "metadata": {},
     "output_type": "execute_result"
    }
   ],
   "source": [
    "pred_may03_inspect[pred_may03_inspect.Topic==-1]"
   ]
  },
  {
   "cell_type": "code",
   "execution_count": 46,
   "metadata": {},
   "outputs": [
    {
     "data": {
      "text/plain": [
       "31"
      ]
     },
     "execution_count": 46,
     "metadata": {},
     "output_type": "execute_result"
    }
   ],
   "source": [
    "len(pred_may03_inspect[pred_may03_inspect.Topic!=-1].tier1.unique())"
   ]
  },
  {
   "cell_type": "code",
   "execution_count": 47,
   "metadata": {},
   "outputs": [
    {
     "name": "stdout",
     "output_type": "stream",
     "text": [
      "(1774, 15)\n"
     ]
    },
    {
     "data": {
      "text/plain": [
       "Other                       538\n",
       "Business and Finance        314\n",
       "Medical Health              138\n",
       "Personal Finance            131\n",
       "Technology & Computing      126\n",
       "News and Politics            93\n",
       "Video Gaming                 57\n",
       "Shopping                     43\n",
       "Travel                       42\n",
       "Sports                       35\n",
       "Food & Drink                 25\n",
       "Automotive                   23\n",
       "Careers                      21\n",
       "Science                      20\n",
       "Style & Fashion              19\n",
       "Television                   18\n",
       "Healthy Living               17\n",
       "Education                    16\n",
       "Music and Audio              16\n",
       "Real Estate                  15\n",
       "Movies                       12\n",
       "Hobbies & Interests          12\n",
       "Home & Garden                11\n",
       "Events and Attractions       11\n",
       "Books and Literature          7\n",
       "Pop Culture                   5\n",
       "Family and Relationships      4\n",
       "Fine Art                      3\n",
       "Pets                          1\n",
       "Religion & Spirituality       1\n",
       "Name: tier1, dtype: int64"
      ]
     },
     "execution_count": 47,
     "metadata": {},
     "output_type": "execute_result"
    }
   ],
   "source": [
    "print(pred_may03_inspect[pred_may03_inspect.Topic==-1].shape)\n",
    "pred_may03_inspect[pred_may03_inspect.Topic==-1].tier1.value_counts()"
   ]
  },
  {
   "cell_type": "code",
   "execution_count": 44,
   "metadata": {},
   "outputs": [],
   "source": [
    "pred_may03_inspect.to_csv(results_path + \"may03pred_7daytrain.csv\", index=False)"
   ]
  },
  {
   "cell_type": "code",
   "execution_count": 43,
   "metadata": {},
   "outputs": [],
   "source": [
    "# TEST FOR LESSER NOISE\n",
    "pred_may03_inspect.to_csv(results_path + \"MOD_may03pred_7daytrain.csv\", index=False)"
   ]
  },
  {
   "cell_type": "code",
   "execution_count": 48,
   "metadata": {},
   "outputs": [],
   "source": [
    "# TEST FOR LESSER NOISE\n",
    "pred_may03_inspect.to_csv(results_path + \"MOD_HDB_may03pred_7daytrain.csv\", index=False)\n",
    "\n",
    "# droping min_samples by 1 clustered just 10 more articles"
   ]
  },
  {
   "cell_type": "markdown",
   "metadata": {},
   "source": [
    "* **Predict new points/articles - May 04**"
   ]
  },
  {
   "cell_type": "code",
   "execution_count": 44,
   "metadata": {
    "collapsed": true,
    "jupyter": {
     "outputs_hidden": true
    }
   },
   "outputs": [
    {
     "name": "stdout",
     "output_type": "stream",
     "text": [
      "Training input shape: (7238, 2)\n",
      "Prediction input shape: (4223, 2)\n"
     ]
    }
   ],
   "source": [
    "# dimensionality reduction\n",
    "umap_embeddings_may04 = umap_embeddings.transform(may04_art_embed) # min_dist=0.0,\n",
    "\n",
    "print(\"Training input shape:\", umap_embeddings.embedding_.shape)\n",
    "print(\"Prediction input shape:\", umap_embeddings_may04.shape) #takes a min"
   ]
  },
  {
   "cell_type": "code",
   "execution_count": 45,
   "metadata": {
    "collapsed": true,
    "jupyter": {
     "outputs_hidden": true
    }
   },
   "outputs": [
    {
     "name": "stdout",
     "output_type": "stream",
     "text": [
      "4223\n",
      "257\n"
     ]
    }
   ],
   "source": [
    "# predict\n",
    "\n",
    "may04_test_labels, may04_strengths = hdbscan.approximate_predict(cluster, umap_embeddings_may04)\n",
    "\n",
    "print(len(may04_test_labels))\n",
    "# print(set(may04_test_labels))\n",
    "print(len(set(may04_test_labels)))"
   ]
  },
  {
   "cell_type": "code",
   "execution_count": 46,
   "metadata": {
    "collapsed": true,
    "jupyter": {
     "outputs_hidden": true
    }
   },
   "outputs": [
    {
     "name": "stdout",
     "output_type": "stream",
     "text": [
      "Distinct topics including -1 for noise 257\n",
      "\n"
     ]
    },
    {
     "data": {
      "text/html": [
       "<div>\n",
       "<style scoped>\n",
       "    .dataframe tbody tr th:only-of-type {\n",
       "        vertical-align: middle;\n",
       "    }\n",
       "\n",
       "    .dataframe tbody tr th {\n",
       "        vertical-align: top;\n",
       "    }\n",
       "\n",
       "    .dataframe thead th {\n",
       "        text-align: right;\n",
       "    }\n",
       "</style>\n",
       "<table border=\"1\" class=\"dataframe\">\n",
       "  <thead>\n",
       "    <tr style=\"text-align: right;\">\n",
       "      <th></th>\n",
       "      <th>Doc</th>\n",
       "      <th>Topic</th>\n",
       "    </tr>\n",
       "  </thead>\n",
       "  <tbody>\n",
       "    <tr>\n",
       "      <th>4218</th>\n",
       "      <td>alexander the great: gay or straight?. (one in a series of conversations between historians james romm and paul a. cartledge , editor and introduction-author, respectively, of the new landmark arrian: the campaigns of alexander , published by pan...</td>\n",
       "      <td>-1</td>\n",
       "    </tr>\n",
       "    <tr>\n",
       "      <th>4219</th>\n",
       "      <td>how many olympic-sized swimming pools can we fill with billionaire gold?. gold has been in the spotlight for a while now. from hovering around $300 a troy ounce in the early part of the last decade, the precious metal has more than quadrupled in ...</td>\n",
       "      <td>177</td>\n",
       "    </tr>\n",
       "    <tr>\n",
       "      <th>4220</th>\n",
       "      <td>why reits make sense. michael gunzenhaeuser, a 59-year-old semiretired obstetrician in mansfield, ohio, has heard his share of real estate horror stories lately. friends who own rental apartments grousing about plumbers' bills and endless tenant ...</td>\n",
       "      <td>-1</td>\n",
       "    </tr>\n",
       "    <tr>\n",
       "      <th>4221</th>\n",
       "      <td>brrr!. bill clinton recently brought up the idea that we might have to slow down the u.s. economy to cut back on greenhouse emissions in order to save the planet from global warming. less prosperity will be our salvation! putting aside the former...</td>\n",
       "      <td>-1</td>\n",
       "    </tr>\n",
       "    <tr>\n",
       "      <th>4222</th>\n",
       "      <td>fact and comment. fantastic fiber future is here--but not in u.s. washington and the federal communications commission should look to south korea to see what the future could be like with true telecom deregulation. in the u.s. a t-1 line, which p...</td>\n",
       "      <td>158</td>\n",
       "    </tr>\n",
       "  </tbody>\n",
       "</table>\n",
       "</div>"
      ],
      "text/plain": [
       "                                                                                                                                                                                                                                                            Doc  \\\n",
       "4218  alexander the great: gay or straight?. (one in a series of conversations between historians james romm and paul a. cartledge , editor and introduction-author, respectively, of the new landmark arrian: the campaigns of alexander , published by pan...   \n",
       "4219  how many olympic-sized swimming pools can we fill with billionaire gold?. gold has been in the spotlight for a while now. from hovering around $300 a troy ounce in the early part of the last decade, the precious metal has more than quadrupled in ...   \n",
       "4220  why reits make sense. michael gunzenhaeuser, a 59-year-old semiretired obstetrician in mansfield, ohio, has heard his share of real estate horror stories lately. friends who own rental apartments grousing about plumbers' bills and endless tenant ...   \n",
       "4221  brrr!. bill clinton recently brought up the idea that we might have to slow down the u.s. economy to cut back on greenhouse emissions in order to save the planet from global warming. less prosperity will be our salvation! putting aside the former...   \n",
       "4222  fact and comment. fantastic fiber future is here--but not in u.s. washington and the federal communications commission should look to south korea to see what the future could be like with true telecom deregulation. in the u.s. a t-1 line, which p...   \n",
       "\n",
       "      Topic  \n",
       "4218     -1  \n",
       "4219    177  \n",
       "4220     -1  \n",
       "4221     -1  \n",
       "4222    158  "
      ]
     },
     "execution_count": 46,
     "metadata": {},
     "output_type": "execute_result"
    }
   ],
   "source": [
    "# put topics in dataframe\n",
    "may04_docs_df = may04[['clean_body']]\n",
    "may04_docs_df.rename(columns={'clean_body':'Doc'}, inplace=True)\n",
    "may04_docs_df[\"Topic\"] = may04_test_labels\n",
    "\n",
    "print(\"Distinct topics including -1 for noise\", len(may04_docs_df.Topic.unique()))\n",
    "print()\n",
    "may04_docs_df.tail()"
   ]
  },
  {
   "cell_type": "code",
   "execution_count": 47,
   "metadata": {},
   "outputs": [],
   "source": [
    "may04_topic_sizes = extract_topic_sizes(may04_docs_df)\n",
    "\n",
    "# GENERATE TOPIC METRICS\n",
    "\n",
    "# per topic - cos_min and cos_mean\n",
    "may04_cossim_df = generate_all_cossim_metrics(may04_docs_df, umap_embeddings_may04)\n",
    "\n",
    "# per topic - tier counts\n",
    "tier_metric = may04_docs_df.join(may04[[\"tier1\"]])\n",
    "\n",
    "iab_metric = tier_metric.groupby(\"Topic\").agg({\"tier1\": \n",
    "                                               'nunique'}).round(2).reset_index().rename(columns = {'tier1': \n",
    "                                                                                                    'distinct_tier1s',\n",
    "                                                                                                    'Topic':\n",
    "                                                                                                    'topic_num'})\n",
    "\n",
    "# combine topic, top words, cos and tier metrics\n",
    "topic_info_may04 = pd.merge(pd.merge(may04_topic_sizes, \n",
    "                                        may04_cossim_df, how=\"inner\", left_on=\"Topic\", right_on = \"topic_num\"), \n",
    "                               iab_metric, on = \"topic_num\", how=\"inner\")\n",
    "\n",
    "topic_info_may04.drop('Topic', axis=1, inplace=True)"
   ]
  },
  {
   "cell_type": "code",
   "execution_count": null,
   "metadata": {},
   "outputs": [],
   "source": [
    "# topic_info_may03[['cos_min', 'cos_mean', 'distinct_tier1s']].hist(figsize= (15,7))\n",
    "# plt.show()"
   ]
  },
  {
   "cell_type": "code",
   "execution_count": 48,
   "metadata": {},
   "outputs": [],
   "source": [
    "# combine natural id inside docs_df\n",
    "\n",
    "may04_docs_df = pd.merge(may04_docs_df, may04, how=\"left\", left_on=\"Doc\", right_on=\"clean_body\")\n",
    "may04_docs_df.drop(\"clean_body\", axis=1, inplace=True)\n",
    "\n",
    "# combine topic_info_may04 with topic names\n",
    "\n",
    "topic_info_may04 = pd.merge(topic_info_may04, top_n_words_df, how=\"left\", on=\"topic_num\").sort_values(\"topic_num\")"
   ]
  },
  {
   "cell_type": "code",
   "execution_count": 49,
   "metadata": {
    "collapsed": true,
    "jupyter": {
     "outputs_hidden": true
    }
   },
   "outputs": [
    {
     "data": {
      "text/html": [
       "<div>\n",
       "<style scoped>\n",
       "    .dataframe tbody tr th:only-of-type {\n",
       "        vertical-align: middle;\n",
       "    }\n",
       "\n",
       "    .dataframe tbody tr th {\n",
       "        vertical-align: top;\n",
       "    }\n",
       "\n",
       "    .dataframe thead th {\n",
       "        text-align: right;\n",
       "    }\n",
       "</style>\n",
       "<table border=\"1\" class=\"dataframe\">\n",
       "  <thead>\n",
       "    <tr style=\"text-align: right;\">\n",
       "      <th></th>\n",
       "      <th>Doc</th>\n",
       "      <th>Topic</th>\n",
       "      <th>pvs</th>\n",
       "      <th>total_timeonpage</th>\n",
       "      <th>content_natid</th>\n",
       "      <th>pub_date</th>\n",
       "      <th>title</th>\n",
       "      <th>tier1</th>\n",
       "      <th>tier2</th>\n",
       "      <th>article_length</th>\n",
       "      <th>Size</th>\n",
       "      <th>cos_min</th>\n",
       "      <th>cos_mean</th>\n",
       "      <th>distinct_tier1s</th>\n",
       "      <th>topic_words</th>\n",
       "    </tr>\n",
       "  </thead>\n",
       "  <tbody>\n",
       "    <tr>\n",
       "      <th>0</th>\n",
       "      <td>10 durable air mattresses that wont go flat on you overnight. whether youre planning on having overnight guests, camping , or just need a spot to crash temporarily while you furnish a new apartment, an air mattress is a must. but anyone whos ever...</td>\n",
       "      <td>42</td>\n",
       "      <td>214</td>\n",
       "      <td>35648</td>\n",
       "      <td>blogandpostid/blog/post/4983-603fce6d28b0df00061a762b</td>\n",
       "      <td>2021-06-08</td>\n",
       "      <td>10 Durable Air Mattresses That Won’t Go Flat On You Overnight</td>\n",
       "      <td>Home &amp; Garden</td>\n",
       "      <td>NaN</td>\n",
       "      <td>2104</td>\n",
       "      <td>26</td>\n",
       "      <td>1.0</td>\n",
       "      <td>1.0</td>\n",
       "      <td>6</td>\n",
       "      <td>pillow, memory foam, sleepers, comforter, blanket, neck</td>\n",
       "    </tr>\n",
       "  </tbody>\n",
       "</table>\n",
       "</div>"
      ],
      "text/plain": [
       "                                                                                                                                                                                                                                                         Doc  \\\n",
       "0  10 durable air mattresses that wont go flat on you overnight. whether youre planning on having overnight guests, camping , or just need a spot to crash temporarily while you furnish a new apartment, an air mattress is a must. but anyone whos ever...   \n",
       "\n",
       "   Topic  pvs  total_timeonpage  \\\n",
       "0     42  214             35648   \n",
       "\n",
       "                                           content_natid    pub_date  \\\n",
       "0  blogandpostid/blog/post/4983-603fce6d28b0df00061a762b  2021-06-08   \n",
       "\n",
       "                                                           title  \\\n",
       "0  10 Durable Air Mattresses That Won’t Go Flat On You Overnight   \n",
       "\n",
       "           tier1 tier2  article_length  Size  cos_min  cos_mean  \\\n",
       "0  Home & Garden   NaN            2104    26      1.0       1.0   \n",
       "\n",
       "   distinct_tier1s                                              topic_words  \n",
       "0                6  pillow, memory foam, sleepers, comforter, blanket, neck  "
      ]
     },
     "execution_count": 49,
     "metadata": {},
     "output_type": "execute_result"
    }
   ],
   "source": [
    "pred_may04_inspect = pd.merge(may04_docs_df, \n",
    "         topic_info_may04, \n",
    "         how=\"left\", \n",
    "         left_on=\"Topic\", \n",
    "         right_on = \"topic_num\").drop('topic_num', axis=1)\n",
    "\n",
    "pred_may04_inspect.head(1)"
   ]
  },
  {
   "cell_type": "code",
   "execution_count": 54,
   "metadata": {},
   "outputs": [],
   "source": [
    "pred_may04_inspect.to_csv(results_path + \"may04pred_7daytrain.csv\", index=False)"
   ]
  },
  {
   "cell_type": "code",
   "execution_count": 51,
   "metadata": {},
   "outputs": [],
   "source": [
    "# TEST FOR LESSER NOISE\n",
    "pred_may04_inspect.to_csv(results_path + \"MOD_may04pred_7daytrain.csv\", index=False)"
   ]
  },
  {
   "cell_type": "markdown",
   "metadata": {},
   "source": [
    "* **Predict new points/articles - May 05**"
   ]
  },
  {
   "cell_type": "code",
   "execution_count": 52,
   "metadata": {
    "collapsed": true,
    "jupyter": {
     "outputs_hidden": true
    }
   },
   "outputs": [
    {
     "name": "stdout",
     "output_type": "stream",
     "text": [
      "Training input shape: (7238, 2)\n",
      "Prediction input shape: (4160, 2)\n"
     ]
    }
   ],
   "source": [
    "# dimensionality reduction\n",
    "umap_embeddings_may05 = umap_embeddings.transform(may05_art_embed) # min_dist=0.0,\n",
    "\n",
    "print(\"Training input shape:\", umap_embeddings.embedding_.shape)\n",
    "print(\"Prediction input shape:\", umap_embeddings_may05.shape) #takes a min"
   ]
  },
  {
   "cell_type": "code",
   "execution_count": 53,
   "metadata": {
    "collapsed": true,
    "jupyter": {
     "outputs_hidden": true
    }
   },
   "outputs": [
    {
     "name": "stdout",
     "output_type": "stream",
     "text": [
      "4160\n",
      "266\n"
     ]
    }
   ],
   "source": [
    "# predict\n",
    "\n",
    "may05_test_labels, may05_strengths = hdbscan.approximate_predict(cluster, umap_embeddings_may05)\n",
    "\n",
    "print(len(may05_test_labels))\n",
    "# print(set(may05_test_labels))\n",
    "print(len(set(may05_test_labels)))"
   ]
  },
  {
   "cell_type": "code",
   "execution_count": 54,
   "metadata": {
    "collapsed": true,
    "jupyter": {
     "outputs_hidden": true
    }
   },
   "outputs": [
    {
     "name": "stdout",
     "output_type": "stream",
     "text": [
      "Distinct topics including -1 for noise 266\n",
      "\n"
     ]
    },
    {
     "data": {
      "text/html": [
       "<div>\n",
       "<style scoped>\n",
       "    .dataframe tbody tr th:only-of-type {\n",
       "        vertical-align: middle;\n",
       "    }\n",
       "\n",
       "    .dataframe tbody tr th {\n",
       "        vertical-align: top;\n",
       "    }\n",
       "\n",
       "    .dataframe thead th {\n",
       "        text-align: right;\n",
       "    }\n",
       "</style>\n",
       "<table border=\"1\" class=\"dataframe\">\n",
       "  <thead>\n",
       "    <tr style=\"text-align: right;\">\n",
       "      <th></th>\n",
       "      <th>Doc</th>\n",
       "      <th>Topic</th>\n",
       "    </tr>\n",
       "  </thead>\n",
       "  <tbody>\n",
       "    <tr>\n",
       "      <th>4155</th>\n",
       "      <td>alexander the great: gay or straight?. (one in a series of conversations between historians james romm and paul a. cartledge , editor and introduction-author, respectively, of the new landmark arrian: the campaigns of alexander , published by pan...</td>\n",
       "      <td>103</td>\n",
       "    </tr>\n",
       "    <tr>\n",
       "      <th>4156</th>\n",
       "      <td>mark zuckerberg joins the north american man-boy love association, and other adventures in facebook groups. my colleague kashmir hill congratulated facebook's mark zuckerberg earlier today on his increasingly savvy approach to talking about priva...</td>\n",
       "      <td>35</td>\n",
       "    </tr>\n",
       "    <tr>\n",
       "      <th>4157</th>\n",
       "      <td>why reits make sense. michael gunzenhaeuser, a 59-year-old semiretired obstetrician in mansfield, ohio, has heard his share of real estate horror stories lately. friends who own rental apartments grousing about plumbers' bills and endless tenant ...</td>\n",
       "      <td>188</td>\n",
       "    </tr>\n",
       "    <tr>\n",
       "      <th>4158</th>\n",
       "      <td>brrr!. bill clinton recently brought up the idea that we might have to slow down the u.s. economy to cut back on greenhouse emissions in order to save the planet from global warming. less prosperity will be our salvation! putting aside the former...</td>\n",
       "      <td>81</td>\n",
       "    </tr>\n",
       "    <tr>\n",
       "      <th>4159</th>\n",
       "      <td>fact and comment. fantastic fiber future is here--but not in u.s. washington and the federal communications commission should look to south korea to see what the future could be like with true telecom deregulation. in the u.s. a t-1 line, which p...</td>\n",
       "      <td>158</td>\n",
       "    </tr>\n",
       "  </tbody>\n",
       "</table>\n",
       "</div>"
      ],
      "text/plain": [
       "                                                                                                                                                                                                                                                            Doc  \\\n",
       "4155  alexander the great: gay or straight?. (one in a series of conversations between historians james romm and paul a. cartledge , editor and introduction-author, respectively, of the new landmark arrian: the campaigns of alexander , published by pan...   \n",
       "4156  mark zuckerberg joins the north american man-boy love association, and other adventures in facebook groups. my colleague kashmir hill congratulated facebook's mark zuckerberg earlier today on his increasingly savvy approach to talking about priva...   \n",
       "4157  why reits make sense. michael gunzenhaeuser, a 59-year-old semiretired obstetrician in mansfield, ohio, has heard his share of real estate horror stories lately. friends who own rental apartments grousing about plumbers' bills and endless tenant ...   \n",
       "4158  brrr!. bill clinton recently brought up the idea that we might have to slow down the u.s. economy to cut back on greenhouse emissions in order to save the planet from global warming. less prosperity will be our salvation! putting aside the former...   \n",
       "4159  fact and comment. fantastic fiber future is here--but not in u.s. washington and the federal communications commission should look to south korea to see what the future could be like with true telecom deregulation. in the u.s. a t-1 line, which p...   \n",
       "\n",
       "      Topic  \n",
       "4155    103  \n",
       "4156     35  \n",
       "4157    188  \n",
       "4158     81  \n",
       "4159    158  "
      ]
     },
     "execution_count": 54,
     "metadata": {},
     "output_type": "execute_result"
    }
   ],
   "source": [
    "# put topics in dataframe\n",
    "may05_docs_df = may05[['clean_body']]\n",
    "may05_docs_df.rename(columns={'clean_body':'Doc'}, inplace=True)\n",
    "may05_docs_df[\"Topic\"] = may05_test_labels\n",
    "\n",
    "print(\"Distinct topics including -1 for noise\", len(may05_docs_df.Topic.unique()))\n",
    "print()\n",
    "may05_docs_df.tail()"
   ]
  },
  {
   "cell_type": "code",
   "execution_count": 55,
   "metadata": {},
   "outputs": [],
   "source": [
    "may05_topic_sizes = extract_topic_sizes(may05_docs_df)\n",
    "\n",
    "# GENERATE TOPIC METRICS\n",
    "\n",
    "# per topic - cos_min and cos_mean\n",
    "may05_cossim_df = generate_all_cossim_metrics(may05_docs_df, umap_embeddings_may05)\n",
    "\n",
    "# per topic - tier counts\n",
    "tier_metric = may05_docs_df.join(may05[[\"tier1\"]])\n",
    "\n",
    "iab_metric = tier_metric.groupby(\"Topic\").agg({\"tier1\": \n",
    "                                               'nunique'}).round(2).reset_index().rename(columns = {'tier1': \n",
    "                                                                                                    'distinct_tier1s',\n",
    "                                                                                                    'Topic':\n",
    "                                                                                                    'topic_num'})\n",
    "\n",
    "# combine topic, top words, cos and tier metrics\n",
    "topic_info_may05 = pd.merge(pd.merge(may05_topic_sizes, \n",
    "                                        may05_cossim_df, how=\"inner\", left_on=\"Topic\", right_on = \"topic_num\"), \n",
    "                               iab_metric, on = \"topic_num\", how=\"inner\")\n",
    "\n",
    "topic_info_may05.drop('Topic', axis=1, inplace=True)"
   ]
  },
  {
   "cell_type": "code",
   "execution_count": 56,
   "metadata": {},
   "outputs": [],
   "source": [
    "# combine natural id inside docs_df\n",
    "\n",
    "may05_docs_df = pd.merge(may05_docs_df, may05, how=\"left\", left_on=\"Doc\", right_on=\"clean_body\")\n",
    "may05_docs_df.drop(\"clean_body\", axis=1, inplace=True)\n",
    "\n",
    "# combine topic_info_may03 with topic names\n",
    "\n",
    "topic_info_may05 = pd.merge(topic_info_may05, top_n_words_df, how=\"left\", on=\"topic_num\").sort_values(\"topic_num\")"
   ]
  },
  {
   "cell_type": "code",
   "execution_count": 57,
   "metadata": {
    "collapsed": true,
    "jupyter": {
     "outputs_hidden": true
    }
   },
   "outputs": [
    {
     "data": {
      "text/html": [
       "<div>\n",
       "<style scoped>\n",
       "    .dataframe tbody tr th:only-of-type {\n",
       "        vertical-align: middle;\n",
       "    }\n",
       "\n",
       "    .dataframe tbody tr th {\n",
       "        vertical-align: top;\n",
       "    }\n",
       "\n",
       "    .dataframe thead th {\n",
       "        text-align: right;\n",
       "    }\n",
       "</style>\n",
       "<table border=\"1\" class=\"dataframe\">\n",
       "  <thead>\n",
       "    <tr style=\"text-align: right;\">\n",
       "      <th></th>\n",
       "      <th>Doc</th>\n",
       "      <th>Topic</th>\n",
       "      <th>pvs</th>\n",
       "      <th>total_timeonpage</th>\n",
       "      <th>content_natid</th>\n",
       "      <th>pub_date</th>\n",
       "      <th>title</th>\n",
       "      <th>tier1</th>\n",
       "      <th>tier2</th>\n",
       "      <th>article_length</th>\n",
       "      <th>Size</th>\n",
       "      <th>cos_min</th>\n",
       "      <th>cos_mean</th>\n",
       "      <th>distinct_tier1s</th>\n",
       "      <th>topic_words</th>\n",
       "    </tr>\n",
       "  </thead>\n",
       "  <tbody>\n",
       "    <tr>\n",
       "      <th>0</th>\n",
       "      <td>10 durable air mattresses that wont go flat on you overnight. whether youre planning on having overnight guests, camping , or just need a spot to crash temporarily while you furnish a new apartment, an air mattress is a must. but anyone whos ever...</td>\n",
       "      <td>42</td>\n",
       "      <td>185</td>\n",
       "      <td>28901</td>\n",
       "      <td>blogandpostid/blog/post/4983-603fce6d28b0df00061a762b</td>\n",
       "      <td>2021-06-08</td>\n",
       "      <td>10 Durable Air Mattresses That Won’t Go Flat On You Overnight</td>\n",
       "      <td>Home &amp; Garden</td>\n",
       "      <td>NaN</td>\n",
       "      <td>2104</td>\n",
       "      <td>23</td>\n",
       "      <td>1.0</td>\n",
       "      <td>1.0</td>\n",
       "      <td>4</td>\n",
       "      <td>pillow, memory foam, sleepers, comforter, blanket, neck</td>\n",
       "    </tr>\n",
       "  </tbody>\n",
       "</table>\n",
       "</div>"
      ],
      "text/plain": [
       "                                                                                                                                                                                                                                                         Doc  \\\n",
       "0  10 durable air mattresses that wont go flat on you overnight. whether youre planning on having overnight guests, camping , or just need a spot to crash temporarily while you furnish a new apartment, an air mattress is a must. but anyone whos ever...   \n",
       "\n",
       "   Topic  pvs  total_timeonpage  \\\n",
       "0     42  185             28901   \n",
       "\n",
       "                                           content_natid    pub_date  \\\n",
       "0  blogandpostid/blog/post/4983-603fce6d28b0df00061a762b  2021-06-08   \n",
       "\n",
       "                                                           title  \\\n",
       "0  10 Durable Air Mattresses That Won’t Go Flat On You Overnight   \n",
       "\n",
       "           tier1 tier2  article_length  Size  cos_min  cos_mean  \\\n",
       "0  Home & Garden   NaN            2104    23      1.0       1.0   \n",
       "\n",
       "   distinct_tier1s                                              topic_words  \n",
       "0                4  pillow, memory foam, sleepers, comforter, blanket, neck  "
      ]
     },
     "execution_count": 57,
     "metadata": {},
     "output_type": "execute_result"
    }
   ],
   "source": [
    "pred_may05_inspect = pd.merge(may05_docs_df, \n",
    "         topic_info_may05, \n",
    "         how=\"left\", \n",
    "         left_on=\"Topic\", \n",
    "         right_on = \"topic_num\").drop('topic_num', axis=1)\n",
    "\n",
    "pred_may05_inspect.head(1)"
   ]
  },
  {
   "cell_type": "code",
   "execution_count": 66,
   "metadata": {},
   "outputs": [],
   "source": [
    "pred_may05_inspect.to_csv(results_path + \"may05pred_7daytrain.csv\", index=False)"
   ]
  },
  {
   "cell_type": "code",
   "execution_count": 58,
   "metadata": {},
   "outputs": [],
   "source": [
    "# TEST FOR LESSER NOISE\n",
    "pred_may05_inspect.to_csv(results_path + \"MOD_may05pred_7daytrain.csv\", index=False)"
   ]
  },
  {
   "cell_type": "code",
   "execution_count": null,
   "metadata": {},
   "outputs": [],
   "source": []
  },
  {
   "cell_type": "markdown",
   "metadata": {},
   "source": [
    "* **Predict new points/articles - May 06**"
   ]
  },
  {
   "cell_type": "code",
   "execution_count": 59,
   "metadata": {
    "collapsed": true,
    "jupyter": {
     "outputs_hidden": true
    }
   },
   "outputs": [
    {
     "name": "stdout",
     "output_type": "stream",
     "text": [
      "Training input shape: (7238, 2)\n",
      "Prediction input shape: (4063, 2)\n"
     ]
    }
   ],
   "source": [
    "# dimensionality reduction\n",
    "umap_embeddings_may06 = umap_embeddings.transform(may06_art_embed) # min_dist=0.0,\n",
    "\n",
    "print(\"Training input shape:\", umap_embeddings.embedding_.shape)\n",
    "print(\"Prediction input shape:\", umap_embeddings_may06.shape) #takes a min"
   ]
  },
  {
   "cell_type": "code",
   "execution_count": 60,
   "metadata": {
    "collapsed": true,
    "jupyter": {
     "outputs_hidden": true
    }
   },
   "outputs": [
    {
     "name": "stdout",
     "output_type": "stream",
     "text": [
      "4063\n",
      "251\n"
     ]
    }
   ],
   "source": [
    "# predict\n",
    "\n",
    "may06_test_labels, may06_strengths = hdbscan.approximate_predict(cluster, umap_embeddings_may06)\n",
    "\n",
    "print(len(may06_test_labels))\n",
    "print(len(set(may06_test_labels)))"
   ]
  },
  {
   "cell_type": "code",
   "execution_count": 61,
   "metadata": {
    "collapsed": true,
    "jupyter": {
     "outputs_hidden": true
    }
   },
   "outputs": [
    {
     "name": "stdout",
     "output_type": "stream",
     "text": [
      "Distinct topics including -1 for noise 251\n",
      "\n"
     ]
    },
    {
     "data": {
      "text/html": [
       "<div>\n",
       "<style scoped>\n",
       "    .dataframe tbody tr th:only-of-type {\n",
       "        vertical-align: middle;\n",
       "    }\n",
       "\n",
       "    .dataframe tbody tr th {\n",
       "        vertical-align: top;\n",
       "    }\n",
       "\n",
       "    .dataframe thead th {\n",
       "        text-align: right;\n",
       "    }\n",
       "</style>\n",
       "<table border=\"1\" class=\"dataframe\">\n",
       "  <thead>\n",
       "    <tr style=\"text-align: right;\">\n",
       "      <th></th>\n",
       "      <th>Doc</th>\n",
       "      <th>Topic</th>\n",
       "    </tr>\n",
       "  </thead>\n",
       "  <tbody>\n",
       "    <tr>\n",
       "      <th>4058</th>\n",
       "      <td>alexander the great: gay or straight?. (one in a series of conversations between historians james romm and paul a. cartledge , editor and introduction-author, respectively, of the new landmark arrian: the campaigns of alexander , published by pan...</td>\n",
       "      <td>-1</td>\n",
       "    </tr>\n",
       "    <tr>\n",
       "      <th>4059</th>\n",
       "      <td>mark zuckerberg joins the north american man-boy love association, and other adventures in facebook groups. my colleague kashmir hill congratulated facebook's mark zuckerberg earlier today on his increasingly savvy approach to talking about priva...</td>\n",
       "      <td>35</td>\n",
       "    </tr>\n",
       "    <tr>\n",
       "      <th>4060</th>\n",
       "      <td>why reits make sense. michael gunzenhaeuser, a 59-year-old semiretired obstetrician in mansfield, ohio, has heard his share of real estate horror stories lately. friends who own rental apartments grousing about plumbers' bills and endless tenant ...</td>\n",
       "      <td>-1</td>\n",
       "    </tr>\n",
       "    <tr>\n",
       "      <th>4061</th>\n",
       "      <td>brrr!. bill clinton recently brought up the idea that we might have to slow down the u.s. economy to cut back on greenhouse emissions in order to save the planet from global warming. less prosperity will be our salvation! putting aside the former...</td>\n",
       "      <td>-1</td>\n",
       "    </tr>\n",
       "    <tr>\n",
       "      <th>4062</th>\n",
       "      <td>fact and comment. fantastic fiber future is here--but not in u.s. washington and the federal communications commission should look to south korea to see what the future could be like with true telecom deregulation. in the u.s. a t-1 line, which p...</td>\n",
       "      <td>-1</td>\n",
       "    </tr>\n",
       "  </tbody>\n",
       "</table>\n",
       "</div>"
      ],
      "text/plain": [
       "                                                                                                                                                                                                                                                            Doc  \\\n",
       "4058  alexander the great: gay or straight?. (one in a series of conversations between historians james romm and paul a. cartledge , editor and introduction-author, respectively, of the new landmark arrian: the campaigns of alexander , published by pan...   \n",
       "4059  mark zuckerberg joins the north american man-boy love association, and other adventures in facebook groups. my colleague kashmir hill congratulated facebook's mark zuckerberg earlier today on his increasingly savvy approach to talking about priva...   \n",
       "4060  why reits make sense. michael gunzenhaeuser, a 59-year-old semiretired obstetrician in mansfield, ohio, has heard his share of real estate horror stories lately. friends who own rental apartments grousing about plumbers' bills and endless tenant ...   \n",
       "4061  brrr!. bill clinton recently brought up the idea that we might have to slow down the u.s. economy to cut back on greenhouse emissions in order to save the planet from global warming. less prosperity will be our salvation! putting aside the former...   \n",
       "4062  fact and comment. fantastic fiber future is here--but not in u.s. washington and the federal communications commission should look to south korea to see what the future could be like with true telecom deregulation. in the u.s. a t-1 line, which p...   \n",
       "\n",
       "      Topic  \n",
       "4058     -1  \n",
       "4059     35  \n",
       "4060     -1  \n",
       "4061     -1  \n",
       "4062     -1  "
      ]
     },
     "execution_count": 61,
     "metadata": {},
     "output_type": "execute_result"
    }
   ],
   "source": [
    "# put topics in dataframe\n",
    "may06_docs_df = may06[['clean_body']]\n",
    "may06_docs_df.rename(columns={'clean_body':'Doc'}, inplace=True)\n",
    "may06_docs_df[\"Topic\"] = may06_test_labels\n",
    "\n",
    "print(\"Distinct topics including -1 for noise\", len(may06_docs_df.Topic.unique()))\n",
    "print()\n",
    "may06_docs_df.tail()"
   ]
  },
  {
   "cell_type": "code",
   "execution_count": 62,
   "metadata": {},
   "outputs": [],
   "source": [
    "may06_topic_sizes = extract_topic_sizes(may06_docs_df)\n",
    "\n",
    "# GENERATE TOPIC METRICS\n",
    "\n",
    "# per topic - cos_min and cos_mean\n",
    "may06_cossim_df = generate_all_cossim_metrics(may06_docs_df, umap_embeddings_may06)\n",
    "\n",
    "# per topic - tier counts\n",
    "tier_metric = may06_docs_df.join(may06[[\"tier1\"]])\n",
    "\n",
    "iab_metric = tier_metric.groupby(\"Topic\").agg({\"tier1\": \n",
    "                                               'nunique'}).round(2).reset_index().rename(columns = {'tier1': \n",
    "                                                                                                    'distinct_tier1s',\n",
    "                                                                                                    'Topic':\n",
    "                                                                                                    'topic_num'})\n",
    "\n",
    "# combine topic, top words, cos and tier metrics\n",
    "topic_info_may06 = pd.merge(pd.merge(may06_topic_sizes, \n",
    "                                        may06_cossim_df, how=\"inner\", left_on=\"Topic\", right_on = \"topic_num\"), \n",
    "                               iab_metric, on = \"topic_num\", how=\"inner\")\n",
    "\n",
    "topic_info_may06.drop('Topic', axis=1, inplace=True)"
   ]
  },
  {
   "cell_type": "code",
   "execution_count": 63,
   "metadata": {},
   "outputs": [],
   "source": [
    "# combine natural id inside docs_df\n",
    "\n",
    "may06_docs_df = pd.merge(may06_docs_df, may06, how=\"left\", left_on=\"Doc\", right_on=\"clean_body\")\n",
    "may06_docs_df.drop(\"clean_body\", axis=1, inplace=True)\n",
    "\n",
    "# combine topic_info_may03 with topic names\n",
    "\n",
    "topic_info_may06 = pd.merge(topic_info_may06, top_n_words_df, how=\"left\", on=\"topic_num\").sort_values(\"topic_num\")"
   ]
  },
  {
   "cell_type": "code",
   "execution_count": 64,
   "metadata": {
    "collapsed": true,
    "jupyter": {
     "outputs_hidden": true
    }
   },
   "outputs": [
    {
     "data": {
      "text/html": [
       "<div>\n",
       "<style scoped>\n",
       "    .dataframe tbody tr th:only-of-type {\n",
       "        vertical-align: middle;\n",
       "    }\n",
       "\n",
       "    .dataframe tbody tr th {\n",
       "        vertical-align: top;\n",
       "    }\n",
       "\n",
       "    .dataframe thead th {\n",
       "        text-align: right;\n",
       "    }\n",
       "</style>\n",
       "<table border=\"1\" class=\"dataframe\">\n",
       "  <thead>\n",
       "    <tr style=\"text-align: right;\">\n",
       "      <th></th>\n",
       "      <th>Doc</th>\n",
       "      <th>Topic</th>\n",
       "      <th>pvs</th>\n",
       "      <th>total_timeonpage</th>\n",
       "      <th>content_natid</th>\n",
       "      <th>pub_date</th>\n",
       "      <th>title</th>\n",
       "      <th>tier1</th>\n",
       "      <th>tier2</th>\n",
       "      <th>article_length</th>\n",
       "      <th>Size</th>\n",
       "      <th>cos_min</th>\n",
       "      <th>cos_mean</th>\n",
       "      <th>distinct_tier1s</th>\n",
       "      <th>topic_words</th>\n",
       "    </tr>\n",
       "  </thead>\n",
       "  <tbody>\n",
       "    <tr>\n",
       "      <th>0</th>\n",
       "      <td>11 top-rated mattresses that will give you the best sleep of your life. a good mattress is a necessity. it keeps you comfortable at night, supports your joints while you sleep and provides a welcome resting place when youre just lounging in bed. ...</td>\n",
       "      <td>42</td>\n",
       "      <td>2842</td>\n",
       "      <td>411858</td>\n",
       "      <td>blogandpostid/blog/post/4983-60086702e0ca9e00079de673</td>\n",
       "      <td>2021-06-10</td>\n",
       "      <td>11 Top-Rated Mattresses That Will Give You The Best Sleep Of Your Life</td>\n",
       "      <td>Home &amp; Garden</td>\n",
       "      <td>Interior Decorating</td>\n",
       "      <td>3016</td>\n",
       "      <td>22</td>\n",
       "      <td>1.0</td>\n",
       "      <td>1.0</td>\n",
       "      <td>4</td>\n",
       "      <td>pillow, memory foam, sleepers, comforter, blanket, neck</td>\n",
       "    </tr>\n",
       "  </tbody>\n",
       "</table>\n",
       "</div>"
      ],
      "text/plain": [
       "                                                                                                                                                                                                                                                         Doc  \\\n",
       "0  11 top-rated mattresses that will give you the best sleep of your life. a good mattress is a necessity. it keeps you comfortable at night, supports your joints while you sleep and provides a welcome resting place when youre just lounging in bed. ...   \n",
       "\n",
       "   Topic   pvs  total_timeonpage  \\\n",
       "0     42  2842            411858   \n",
       "\n",
       "                                           content_natid    pub_date  \\\n",
       "0  blogandpostid/blog/post/4983-60086702e0ca9e00079de673  2021-06-10   \n",
       "\n",
       "                                                                    title  \\\n",
       "0  11 Top-Rated Mattresses That Will Give You The Best Sleep Of Your Life   \n",
       "\n",
       "           tier1                tier2  article_length  Size  cos_min  \\\n",
       "0  Home & Garden  Interior Decorating            3016    22      1.0   \n",
       "\n",
       "   cos_mean  distinct_tier1s  \\\n",
       "0       1.0                4   \n",
       "\n",
       "                                               topic_words  \n",
       "0  pillow, memory foam, sleepers, comforter, blanket, neck  "
      ]
     },
     "execution_count": 64,
     "metadata": {},
     "output_type": "execute_result"
    }
   ],
   "source": [
    "pred_may06_inspect = pd.merge(may06_docs_df, \n",
    "         topic_info_may06, \n",
    "         how=\"left\", \n",
    "         left_on=\"Topic\", \n",
    "         right_on = \"topic_num\").drop('topic_num', axis=1)\n",
    "\n",
    "pred_may06_inspect.head(1)"
   ]
  },
  {
   "cell_type": "code",
   "execution_count": 65,
   "metadata": {
    "collapsed": true,
    "jupyter": {
     "outputs_hidden": true
    }
   },
   "outputs": [
    {
     "data": {
      "text/plain": [
       "(4063, 15)"
      ]
     },
     "execution_count": 65,
     "metadata": {},
     "output_type": "execute_result"
    }
   ],
   "source": [
    "pred_may06_inspect.shape"
   ]
  },
  {
   "cell_type": "code",
   "execution_count": 66,
   "metadata": {},
   "outputs": [],
   "source": [
    "# TEST FOR LESSER NOISE\n",
    "pred_may06_inspect.to_csv(results_path + \"MOD_may06pred_7daytrain.csv\", index=False)"
   ]
  },
  {
   "cell_type": "markdown",
   "metadata": {},
   "source": [
    "* **Predict new points/articles - May 07**"
   ]
  },
  {
   "cell_type": "code",
   "execution_count": 67,
   "metadata": {
    "collapsed": true,
    "jupyter": {
     "outputs_hidden": true
    }
   },
   "outputs": [
    {
     "name": "stdout",
     "output_type": "stream",
     "text": [
      "Training input shape: (7238, 2)\n",
      "Prediction input shape: (3630, 2)\n"
     ]
    }
   ],
   "source": [
    "# dimensionality reduction\n",
    "umap_embeddings_may07 = umap_embeddings.transform(may07_art_embed) # min_dist=0.0,\n",
    "\n",
    "print(\"Training input shape:\", umap_embeddings.embedding_.shape)\n",
    "print(\"Prediction input shape:\", umap_embeddings_may07.shape) #takes a min"
   ]
  },
  {
   "cell_type": "code",
   "execution_count": 68,
   "metadata": {
    "collapsed": true,
    "jupyter": {
     "outputs_hidden": true
    }
   },
   "outputs": [
    {
     "name": "stdout",
     "output_type": "stream",
     "text": [
      "3630\n",
      "246\n"
     ]
    }
   ],
   "source": [
    "# predict\n",
    "\n",
    "may07_test_labels, may07_strengths = hdbscan.approximate_predict(cluster, umap_embeddings_may07)\n",
    "\n",
    "print(len(may07_test_labels))\n",
    "print(len(set(may07_test_labels)))"
   ]
  },
  {
   "cell_type": "code",
   "execution_count": 69,
   "metadata": {
    "collapsed": true,
    "jupyter": {
     "outputs_hidden": true
    }
   },
   "outputs": [
    {
     "name": "stdout",
     "output_type": "stream",
     "text": [
      "Distinct topics including -1 for noise 246\n",
      "\n"
     ]
    },
    {
     "data": {
      "text/html": [
       "<div>\n",
       "<style scoped>\n",
       "    .dataframe tbody tr th:only-of-type {\n",
       "        vertical-align: middle;\n",
       "    }\n",
       "\n",
       "    .dataframe tbody tr th {\n",
       "        vertical-align: top;\n",
       "    }\n",
       "\n",
       "    .dataframe thead th {\n",
       "        text-align: right;\n",
       "    }\n",
       "</style>\n",
       "<table border=\"1\" class=\"dataframe\">\n",
       "  <thead>\n",
       "    <tr style=\"text-align: right;\">\n",
       "      <th></th>\n",
       "      <th>Doc</th>\n",
       "      <th>Topic</th>\n",
       "    </tr>\n",
       "  </thead>\n",
       "  <tbody>\n",
       "    <tr>\n",
       "      <th>3625</th>\n",
       "      <td>alexander the great: gay or straight?. (one in a series of conversations between historians james romm and paul a. cartledge , editor and introduction-author, respectively, of the new landmark arrian: the campaigns of alexander , published by pan...</td>\n",
       "      <td>-1</td>\n",
       "    </tr>\n",
       "    <tr>\n",
       "      <th>3626</th>\n",
       "      <td>mark zuckerberg joins the north american man-boy love association, and other adventures in facebook groups. my colleague kashmir hill congratulated facebook's mark zuckerberg earlier today on his increasingly savvy approach to talking about priva...</td>\n",
       "      <td>35</td>\n",
       "    </tr>\n",
       "    <tr>\n",
       "      <th>3627</th>\n",
       "      <td>why reits make sense. michael gunzenhaeuser, a 59-year-old semiretired obstetrician in mansfield, ohio, has heard his share of real estate horror stories lately. friends who own rental apartments grousing about plumbers' bills and endless tenant ...</td>\n",
       "      <td>188</td>\n",
       "    </tr>\n",
       "    <tr>\n",
       "      <th>3628</th>\n",
       "      <td>brrr!. bill clinton recently brought up the idea that we might have to slow down the u.s. economy to cut back on greenhouse emissions in order to save the planet from global warming. less prosperity will be our salvation! putting aside the former...</td>\n",
       "      <td>-1</td>\n",
       "    </tr>\n",
       "    <tr>\n",
       "      <th>3629</th>\n",
       "      <td>fact and comment. fantastic fiber future is here--but not in u.s. washington and the federal communications commission should look to south korea to see what the future could be like with true telecom deregulation. in the u.s. a t-1 line, which p...</td>\n",
       "      <td>158</td>\n",
       "    </tr>\n",
       "  </tbody>\n",
       "</table>\n",
       "</div>"
      ],
      "text/plain": [
       "                                                                                                                                                                                                                                                            Doc  \\\n",
       "3625  alexander the great: gay or straight?. (one in a series of conversations between historians james romm and paul a. cartledge , editor and introduction-author, respectively, of the new landmark arrian: the campaigns of alexander , published by pan...   \n",
       "3626  mark zuckerberg joins the north american man-boy love association, and other adventures in facebook groups. my colleague kashmir hill congratulated facebook's mark zuckerberg earlier today on his increasingly savvy approach to talking about priva...   \n",
       "3627  why reits make sense. michael gunzenhaeuser, a 59-year-old semiretired obstetrician in mansfield, ohio, has heard his share of real estate horror stories lately. friends who own rental apartments grousing about plumbers' bills and endless tenant ...   \n",
       "3628  brrr!. bill clinton recently brought up the idea that we might have to slow down the u.s. economy to cut back on greenhouse emissions in order to save the planet from global warming. less prosperity will be our salvation! putting aside the former...   \n",
       "3629  fact and comment. fantastic fiber future is here--but not in u.s. washington and the federal communications commission should look to south korea to see what the future could be like with true telecom deregulation. in the u.s. a t-1 line, which p...   \n",
       "\n",
       "      Topic  \n",
       "3625     -1  \n",
       "3626     35  \n",
       "3627    188  \n",
       "3628     -1  \n",
       "3629    158  "
      ]
     },
     "execution_count": 69,
     "metadata": {},
     "output_type": "execute_result"
    }
   ],
   "source": [
    "# put topics in dataframe\n",
    "may07_docs_df = may07[['clean_body']]\n",
    "may07_docs_df.rename(columns={'clean_body':'Doc'}, inplace=True)\n",
    "may07_docs_df[\"Topic\"] = may07_test_labels\n",
    "\n",
    "print(\"Distinct topics including -1 for noise\", len(may07_docs_df.Topic.unique()))\n",
    "print()\n",
    "may07_docs_df.tail()"
   ]
  },
  {
   "cell_type": "code",
   "execution_count": 70,
   "metadata": {},
   "outputs": [],
   "source": [
    "may07_topic_sizes = extract_topic_sizes(may07_docs_df)\n",
    "\n",
    "# GENERATE TOPIC METRICS\n",
    "\n",
    "# per topic - cos_min and cos_mean\n",
    "may07_cossim_df = generate_all_cossim_metrics(may07_docs_df, umap_embeddings_may07)\n",
    "\n",
    "# per topic - tier counts\n",
    "tier_metric = may07_docs_df.join(may07[[\"tier1\"]])\n",
    "\n",
    "iab_metric = tier_metric.groupby(\"Topic\").agg({\"tier1\": \n",
    "                                               'nunique'}).round(2).reset_index().rename(columns = {'tier1': \n",
    "                                                                                                    'distinct_tier1s',\n",
    "                                                                                                    'Topic':\n",
    "                                                                                                    'topic_num'})\n",
    "\n",
    "# combine topic, top words, cos and tier metrics\n",
    "topic_info_may07 = pd.merge(pd.merge(may07_topic_sizes, \n",
    "                                        may07_cossim_df, how=\"inner\", left_on=\"Topic\", right_on = \"topic_num\"), \n",
    "                               iab_metric, on = \"topic_num\", how=\"inner\")\n",
    "\n",
    "topic_info_may07.drop('Topic', axis=1, inplace=True)"
   ]
  },
  {
   "cell_type": "code",
   "execution_count": 71,
   "metadata": {},
   "outputs": [],
   "source": [
    "# combine natural id inside docs_df\n",
    "\n",
    "may07_docs_df = pd.merge(may07_docs_df, may07, how=\"left\", left_on=\"Doc\", right_on=\"clean_body\")\n",
    "may07_docs_df.drop(\"clean_body\", axis=1, inplace=True)\n",
    "\n",
    "# combine topic_info_may03 with topic names\n",
    "\n",
    "topic_info_may07 = pd.merge(topic_info_may07, top_n_words_df, how=\"left\", on=\"topic_num\").sort_values(\"topic_num\")"
   ]
  },
  {
   "cell_type": "code",
   "execution_count": 72,
   "metadata": {
    "collapsed": true,
    "jupyter": {
     "outputs_hidden": true
    }
   },
   "outputs": [
    {
     "data": {
      "text/html": [
       "<div>\n",
       "<style scoped>\n",
       "    .dataframe tbody tr th:only-of-type {\n",
       "        vertical-align: middle;\n",
       "    }\n",
       "\n",
       "    .dataframe tbody tr th {\n",
       "        vertical-align: top;\n",
       "    }\n",
       "\n",
       "    .dataframe thead th {\n",
       "        text-align: right;\n",
       "    }\n",
       "</style>\n",
       "<table border=\"1\" class=\"dataframe\">\n",
       "  <thead>\n",
       "    <tr style=\"text-align: right;\">\n",
       "      <th></th>\n",
       "      <th>Doc</th>\n",
       "      <th>Topic</th>\n",
       "      <th>pvs</th>\n",
       "      <th>total_timeonpage</th>\n",
       "      <th>content_natid</th>\n",
       "      <th>pub_date</th>\n",
       "      <th>title</th>\n",
       "      <th>tier1</th>\n",
       "      <th>tier2</th>\n",
       "      <th>article_length</th>\n",
       "      <th>Size</th>\n",
       "      <th>cos_min</th>\n",
       "      <th>cos_mean</th>\n",
       "      <th>distinct_tier1s</th>\n",
       "      <th>topic_words</th>\n",
       "    </tr>\n",
       "  </thead>\n",
       "  <tbody>\n",
       "    <tr>\n",
       "      <th>0</th>\n",
       "      <td>the best sales online right now: tatcha, best buy and more. summer doesnt officially start until june 20but thats not stopping retailers from releasing seasonal savings events. a slew of brands are either holding summer sales or offering fathers ...</td>\n",
       "      <td>46</td>\n",
       "      <td>2433</td>\n",
       "      <td>135477</td>\n",
       "      <td>blogandpostid/blog/post/4983-5f91fc0b22d6b000067a24d4</td>\n",
       "      <td>2021-06-11</td>\n",
       "      <td>The Best Sales Online Right Now: Tatcha, Best Buy and More</td>\n",
       "      <td>Shopping</td>\n",
       "      <td>Sales and Promotions</td>\n",
       "      <td>1318</td>\n",
       "      <td>4</td>\n",
       "      <td>1.0</td>\n",
       "      <td>1.0</td>\n",
       "      <td>2</td>\n",
       "      <td>flash deals, bedding, way day, mattresses, sale, save</td>\n",
       "    </tr>\n",
       "  </tbody>\n",
       "</table>\n",
       "</div>"
      ],
      "text/plain": [
       "                                                                                                                                                                                                                                                         Doc  \\\n",
       "0  the best sales online right now: tatcha, best buy and more. summer doesnt officially start until june 20but thats not stopping retailers from releasing seasonal savings events. a slew of brands are either holding summer sales or offering fathers ...   \n",
       "\n",
       "   Topic   pvs  total_timeonpage  \\\n",
       "0     46  2433            135477   \n",
       "\n",
       "                                           content_natid    pub_date  \\\n",
       "0  blogandpostid/blog/post/4983-5f91fc0b22d6b000067a24d4  2021-06-11   \n",
       "\n",
       "                                                        title     tier1  \\\n",
       "0  The Best Sales Online Right Now: Tatcha, Best Buy and More  Shopping   \n",
       "\n",
       "                  tier2  article_length  Size  cos_min  cos_mean  \\\n",
       "0  Sales and Promotions            1318     4      1.0       1.0   \n",
       "\n",
       "   distinct_tier1s                                            topic_words  \n",
       "0                2  flash deals, bedding, way day, mattresses, sale, save  "
      ]
     },
     "execution_count": 72,
     "metadata": {},
     "output_type": "execute_result"
    }
   ],
   "source": [
    "pred_may07_inspect = pd.merge(may07_docs_df, \n",
    "         topic_info_may07, \n",
    "         how=\"left\", \n",
    "         left_on=\"Topic\", \n",
    "         right_on = \"topic_num\").drop('topic_num', axis=1)\n",
    "\n",
    "pred_may07_inspect.head(1)"
   ]
  },
  {
   "cell_type": "code",
   "execution_count": 73,
   "metadata": {
    "collapsed": true,
    "jupyter": {
     "outputs_hidden": true
    }
   },
   "outputs": [
    {
     "data": {
      "text/plain": [
       "(3630, 15)"
      ]
     },
     "execution_count": 73,
     "metadata": {},
     "output_type": "execute_result"
    }
   ],
   "source": [
    "pred_may07_inspect.shape"
   ]
  },
  {
   "cell_type": "code",
   "execution_count": 74,
   "metadata": {},
   "outputs": [],
   "source": [
    "# TEST FOR LESSER NOISE\n",
    "pred_may07_inspect.to_csv(results_path + \"MOD_may07pred_7daytrain.csv\", index=False)"
   ]
  },
  {
   "cell_type": "code",
   "execution_count": null,
   "metadata": {},
   "outputs": [],
   "source": []
  },
  {
   "cell_type": "code",
   "execution_count": null,
   "metadata": {},
   "outputs": [],
   "source": []
  },
  {
   "cell_type": "code",
   "execution_count": null,
   "metadata": {},
   "outputs": [],
   "source": []
  },
  {
   "cell_type": "code",
   "execution_count": null,
   "metadata": {},
   "outputs": [],
   "source": []
  },
  {
   "cell_type": "code",
   "execution_count": null,
   "metadata": {},
   "outputs": [],
   "source": []
  },
  {
   "cell_type": "code",
   "execution_count": null,
   "metadata": {},
   "outputs": [],
   "source": []
  },
  {
   "cell_type": "markdown",
   "metadata": {},
   "source": [
    "### --- Results Comparison ---"
   ]
  },
  {
   "cell_type": "code",
   "execution_count": 11,
   "metadata": {},
   "outputs": [
    {
     "name": "stdout",
     "output_type": "stream",
     "text": [
      "(4199, 15)\n",
      "(4199, 15)\n"
     ]
    }
   ],
   "source": [
    "old_params = pd.read_csv(results_path + \"MOD_may03pred_7daytrain.csv\")\n",
    "print(old_params.shape)\n",
    "new_params = pd.read_csv(results_path + \"MOD_HDB_may03pred_7daytrain.csv\")\n",
    "print(new_params.shape)"
   ]
  },
  {
   "cell_type": "code",
   "execution_count": 57,
   "metadata": {},
   "outputs": [
    {
     "data": {
      "text/html": [
       "<div>\n",
       "<style scoped>\n",
       "    .dataframe tbody tr th:only-of-type {\n",
       "        vertical-align: middle;\n",
       "    }\n",
       "\n",
       "    .dataframe tbody tr th {\n",
       "        vertical-align: top;\n",
       "    }\n",
       "\n",
       "    .dataframe thead th {\n",
       "        text-align: right;\n",
       "    }\n",
       "</style>\n",
       "<table border=\"1\" class=\"dataframe\">\n",
       "  <thead>\n",
       "    <tr style=\"text-align: right;\">\n",
       "      <th></th>\n",
       "      <th>Doc</th>\n",
       "      <th>Topic</th>\n",
       "      <th>pvs</th>\n",
       "      <th>total_timeonpage</th>\n",
       "      <th>content_natid</th>\n",
       "      <th>pub_date</th>\n",
       "      <th>title</th>\n",
       "      <th>tier1</th>\n",
       "      <th>tier2</th>\n",
       "      <th>article_length</th>\n",
       "      <th>Size</th>\n",
       "      <th>cos_min</th>\n",
       "      <th>cos_mean</th>\n",
       "      <th>distinct_tier1s</th>\n",
       "      <th>topic_words</th>\n",
       "    </tr>\n",
       "  </thead>\n",
       "  <tbody>\n",
       "    <tr>\n",
       "      <th>0</th>\n",
       "      <td>10 durable air mattresses that wont go flat on you overnight. whether youre planning on having overnight guests, camping , or just need a spot to crash temporarily while you furnish a new apartment, an air mattress is a must. but anyone whos ever...</td>\n",
       "      <td>47</td>\n",
       "      <td>249</td>\n",
       "      <td>38804</td>\n",
       "      <td>blogandpostid/blog/post/4983-603fce6d28b0df00061a762b</td>\n",
       "      <td>2021-06-08</td>\n",
       "      <td>10 Durable Air Mattresses That Won’t Go Flat On You Overnight</td>\n",
       "      <td>Home &amp; Garden</td>\n",
       "      <td>NaN</td>\n",
       "      <td>2104</td>\n",
       "      <td>11</td>\n",
       "      <td>1.0</td>\n",
       "      <td>1.0</td>\n",
       "      <td>2</td>\n",
       "      <td>memory foam, sleepers, neck pain, foam pillow, pillows, foam mattress</td>\n",
       "    </tr>\n",
       "  </tbody>\n",
       "</table>\n",
       "</div>"
      ],
      "text/plain": [
       "                                                                                                                                                                                                                                                         Doc  \\\n",
       "0  10 durable air mattresses that wont go flat on you overnight. whether youre planning on having overnight guests, camping , or just need a spot to crash temporarily while you furnish a new apartment, an air mattress is a must. but anyone whos ever...   \n",
       "\n",
       "   Topic  pvs  total_timeonpage  \\\n",
       "0     47  249             38804   \n",
       "\n",
       "                                           content_natid    pub_date  \\\n",
       "0  blogandpostid/blog/post/4983-603fce6d28b0df00061a762b  2021-06-08   \n",
       "\n",
       "                                                           title  \\\n",
       "0  10 Durable Air Mattresses That Won’t Go Flat On You Overnight   \n",
       "\n",
       "           tier1 tier2  article_length  Size  cos_min  cos_mean  \\\n",
       "0  Home & Garden   NaN            2104    11      1.0       1.0   \n",
       "\n",
       "   distinct_tier1s  \\\n",
       "0                2   \n",
       "\n",
       "                                                             topic_words  \n",
       "0  memory foam, sleepers, neck pain, foam pillow, pillows, foam mattress  "
      ]
     },
     "execution_count": 57,
     "metadata": {},
     "output_type": "execute_result"
    }
   ],
   "source": [
    "new_params[['content_natid', 'Topic', 'Size', 'cos_min', 'cos_mean', 'distinct_tier1s', 'topic_words']].head(1)"
   ]
  },
  {
   "cell_type": "code",
   "execution_count": 56,
   "metadata": {},
   "outputs": [
    {
     "data": {
      "text/html": [
       "<div>\n",
       "<style scoped>\n",
       "    .dataframe tbody tr th:only-of-type {\n",
       "        vertical-align: middle;\n",
       "    }\n",
       "\n",
       "    .dataframe tbody tr th {\n",
       "        vertical-align: top;\n",
       "    }\n",
       "\n",
       "    .dataframe thead th {\n",
       "        text-align: right;\n",
       "    }\n",
       "</style>\n",
       "<table border=\"1\" class=\"dataframe\">\n",
       "  <thead>\n",
       "    <tr style=\"text-align: right;\">\n",
       "      <th></th>\n",
       "      <th>Doc</th>\n",
       "      <th>Topic</th>\n",
       "      <th>pvs</th>\n",
       "      <th>total_timeonpage</th>\n",
       "      <th>content_natid</th>\n",
       "      <th>pub_date</th>\n",
       "      <th>title</th>\n",
       "      <th>tier1</th>\n",
       "      <th>tier2</th>\n",
       "      <th>article_length</th>\n",
       "      <th>Size</th>\n",
       "      <th>cos_min</th>\n",
       "      <th>cos_mean</th>\n",
       "      <th>distinct_tier1s</th>\n",
       "      <th>topic_words</th>\n",
       "    </tr>\n",
       "  </thead>\n",
       "  <tbody>\n",
       "    <tr>\n",
       "      <th>0</th>\n",
       "      <td>10 durable air mattresses that wont go flat on you overnight. whether youre planning on having overnight guests, camping , or just need a spot to crash temporarily while you furnish a new apartment, an air mattress is a must. but anyone whos ever...</td>\n",
       "      <td>42</td>\n",
       "      <td>249</td>\n",
       "      <td>38804</td>\n",
       "      <td>blogandpostid/blog/post/4983-603fce6d28b0df00061a762b</td>\n",
       "      <td>2021-06-08</td>\n",
       "      <td>10 Durable Air Mattresses That Won’t Go Flat On You Overnight</td>\n",
       "      <td>Home &amp; Garden</td>\n",
       "      <td>NaN</td>\n",
       "      <td>2104</td>\n",
       "      <td>25</td>\n",
       "      <td>1.0</td>\n",
       "      <td>1.0</td>\n",
       "      <td>6</td>\n",
       "      <td>pillow, memory foam, sleepers, comforter, blanket, neck</td>\n",
       "    </tr>\n",
       "  </tbody>\n",
       "</table>\n",
       "</div>"
      ],
      "text/plain": [
       "                                                                                                                                                                                                                                                         Doc  \\\n",
       "0  10 durable air mattresses that wont go flat on you overnight. whether youre planning on having overnight guests, camping , or just need a spot to crash temporarily while you furnish a new apartment, an air mattress is a must. but anyone whos ever...   \n",
       "\n",
       "   Topic  pvs  total_timeonpage  \\\n",
       "0     42  249             38804   \n",
       "\n",
       "                                           content_natid    pub_date  \\\n",
       "0  blogandpostid/blog/post/4983-603fce6d28b0df00061a762b  2021-06-08   \n",
       "\n",
       "                                                           title  \\\n",
       "0  10 Durable Air Mattresses That Won’t Go Flat On You Overnight   \n",
       "\n",
       "           tier1 tier2  article_length  Size  cos_min  cos_mean  \\\n",
       "0  Home & Garden   NaN            2104    25      1.0       1.0   \n",
       "\n",
       "   distinct_tier1s                                              topic_words  \n",
       "0                6  pillow, memory foam, sleepers, comforter, blanket, neck  "
      ]
     },
     "execution_count": 56,
     "metadata": {},
     "output_type": "execute_result"
    }
   ],
   "source": [
    "old_params.head(1)"
   ]
  },
  {
   "cell_type": "code",
   "execution_count": null,
   "metadata": {},
   "outputs": [],
   "source": [
    "# docs_df2 = docs_df.join(df[[\"processed_noun_2\"]])\n",
    "# docs_df2.head()\n",
    "\n",
    "# # combine together all articles belonging to same cluster  \n",
    "# docs_per_topic2 = docs_df2.groupby(['Topic'], as_index = False).agg({'processed_noun_2': ' '.join})\n",
    "\n",
    "# # calculate countVector and tf-idf\n",
    "# tf_idf2, count2 = c_tf_idf(docs_per_topic2.processed_noun_2.values, m=len(data))\n",
    "\n",
    "# # top n words, topic size\n",
    "# top_n_words2 = extract_top_n_words_per_topic(tf_idf2, count2, docs_per_topic2, n=20)\n",
    "# topic_sizes = extract_topic_sizes(docs_df); topic_sizes.head(10)\n",
    "\n",
    "# # modify top_n_words per topic dict into dataframe for presentation\n",
    "# topic_words_dict2 = {}  \n",
    "\n",
    "# for k, v in top_n_words2.items():\n",
    "#     topic_words_dict2[k] = \", \".join([elem[0] for elem in v])\n",
    "\n",
    "# pd.set_option(\"max_colwidth\", 250)\n",
    "# pd.DataFrame.from_dict(topic_words_dict2, orient='index').reset_index().rename(columns={'index':'topic_num', \n",
    "#                                                                                         0:'top_20_words'}) "
   ]
  }
 ],
 "metadata": {
  "environment": {
   "name": "tf2-2-3-gpu.2-3.m59",
   "type": "gcloud",
   "uri": "gcr.io/deeplearning-platform-release/tf2-2-3-gpu.2-3:m59"
  },
  "kernelspec": {
   "display_name": "topics-env",
   "language": "python",
   "name": "topics-env"
  },
  "language_info": {
   "codemirror_mode": {
    "name": "ipython",
    "version": 3
   },
   "file_extension": ".py",
   "mimetype": "text/x-python",
   "name": "python",
   "nbconvert_exporter": "python",
   "pygments_lexer": "ipython3",
   "version": "3.7.8"
  }
 },
 "nbformat": 4,
 "nbformat_minor": 4
}
