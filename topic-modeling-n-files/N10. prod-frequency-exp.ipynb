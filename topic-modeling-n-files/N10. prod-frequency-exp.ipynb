{
 "cells": [
  {
   "cell_type": "markdown",
   "metadata": {},
   "source": [
    "## Description:\n",
    "\n",
    "This file contains:\n",
    "* **Explore 3 workflow options to see which gives least noise and best clustering**. Workflow options:\n",
    "    * Opt-1: train on 7 days - predict upto 7 days includibg all past days\n",
    "    * Opt-2: train on 7 days - predict 7 days without repeating articles\n",
    "    * Opt-3: train on 7 days - predict 1 day at a time with retrained on past 7 days everytime (rolling window)\n",
    "    \n",
    "    \n",
    "**Final Sukanya's thought processing**\n",
    "\n",
    "| Option      | Technical correctness | Prod ease of use     |\n",
    "| :---        |    :----:   |          :---: |\n",
    "| Opt 1      | A bit short of correct because <br>borderline repeating articles (40%)<br> get unmatching topics <br> Noise % high    | Good - for trending yest and trending past week <br>1 article gets multiple topic <br>based on surrounding articles in given week.<br> So per week dashboard will be straightforward  |\n",
    "| Opt 2   | Correct     <br> Noise % high   | Bad - for trending yest and trending past week <br> Would need topic standardization even for trending yest <br> because yest could get articles read from multiple past weeks <br> so article would have topics depending on what they were surrounded by in past weeks      |\n",
    "| Opt 3   | Correct    <br> Noise % low   | Okayish - for trending yest. Bad for trending past week <br> Would need topic standardization only for trending past week as each day we can save all repeatings     |\n",
    "\n",
    "* Day-over-day match rate -- Topics 82%, Noise - 50% both have same noise rest 50% - almost same gain/loss - seems borderline ones\n",
    "* Training vs prediction match rate -- Topics - 90%, Noise - gaining more topics than losing. Common noise 50%\n",
    "\n",
    "For the demo - Show:\n",
    "* show above comparison - without rabbit hole\n",
    "* introduce BQ table\n",
    "* Yest trending, past week trending dashboards\n",
    "* C-level vs Non-C-level topic grouping"
   ]
  },
  {
   "cell_type": "markdown",
   "metadata": {},
   "source": [
    "### Why is prediction conservative in the first place?\n",
    "May 3 predicted data:\n",
    "\n",
    "* *without correction noise-reassign-to-closest-cluster*\n",
    "    * seen/unseen rations\n",
    "        * In train - got topic 0.56\n",
    "        * In train - got noise **0.44**\n",
    "        * Not in train - got topic 0.39\n",
    "        * Not in train - got noise **0.61** --very bad \n",
    "    * When both have topics\n",
    "        * 90% articles get same topic in training & prediction <br><br>\n",
    "    * When either has noise\n",
    "        * We are losing topics to noise articles way more than we are gaining during predicting on May3 i.e. \n",
    "        * training noise, pred non-noise -gained-186. pred noise, **training non-noise -lost-616**. Common noise 984\n",
    "\n",
    "* *with correction noise-reassign-to-closest-cluster*\n",
    "    * seen/unseen rations\n",
    "        * In train - got topic 0.77\n",
    "        * In train - got noise 0.23\n",
    "        * Not in train - got topic 0.71\n",
    "        * Not in train - got noise 0.29\n",
    "    * When both have topics\n",
    "        * 90% articles get same topic in training & prediction <br><br>\n",
    "    * When either has noise\n",
    "        * We are gaining topics on noise articles more than we are losing by predicting on May3 i.e. \n",
    "        * training noise, pred non-noise -gained-588. pred noise, training non-noise -lost-278. Common noise 582\n",
    "        \n",
    "**Verdict: There is def some prob in predict functionality. Mainly:**\n",
    "* somehow training non-noise gets noised in prediction\n",
    "    * even if we were to avoid this by not training on the seen ones again, the issue is -\n",
    "* unseen data prediction is very bad i.e. 61% go to noise - very conservative\n",
    "* also if prediction is just overlaying new points on old trained clsuters and assigning to relevant clusters, the presence or absence of other prediction points should not affect it (hypothesis). but we have seen - it does which is weird.\n",
    "\n",
    "**Solution:**\n",
    "Cosine similarity based treatment to recluster noise points was absolutely necessary and pretty helpful (as the with-treatment numbers show above)"
   ]
  },
  {
   "cell_type": "code",
   "execution_count": 1,
   "metadata": {},
   "outputs": [],
   "source": [
    "\"\"\" Helper imports\"\"\"\n",
    "import joblib\n",
    "import pandas as pd\n",
    "import numpy as np\n",
    "from time import time\n",
    "from nltk.tokenize import sent_tokenize\n",
    "from joblib import Parallel, delayed\n",
    "from sklearn.metrics.pairwise import cosine_similarity\n",
    "\n",
    "\"\"\"Modeling imports\"\"\"\n",
    "import umap\n",
    "import hdbscan\n",
    "from sentence_transformers import SentenceTransformer\n",
    "from hdbscan import validity_index\n",
    "\n",
    "\"\"\" Plotting imports\"\"\"\n",
    "import matplotlib.pyplot as plt\n",
    "%matplotlib inline\n",
    "import seaborn as sns\n",
    "sns.set_style('darkgrid')\n",
    "\n",
    "# remove this later\n",
    "pd.set_option('max_colwidth', 110)\n",
    "import warnings\n",
    "warnings.filterwarnings('ignore')"
   ]
  },
  {
   "cell_type": "code",
   "execution_count": 2,
   "metadata": {},
   "outputs": [],
   "source": [
    "import sys\n",
    "# add the parent directory path\n",
    "sys.path.insert(0, '..')\n",
    "\n",
    "from src.util import (c_tf_idf, \n",
    "                      extract_top_n_words_per_topic,\n",
    "                      extract_topic_sizes,\n",
    "                      topic_cos_sim_metrics,\n",
    "                      generate_all_cossim_metrics)"
   ]
  },
  {
   "cell_type": "code",
   "execution_count": 3,
   "metadata": {},
   "outputs": [
    {
     "data": {
      "text/plain": [
       "True"
      ]
     },
     "execution_count": 3,
     "metadata": {},
     "output_type": "execute_result"
    }
   ],
   "source": [
    "data_path = '/home/jupyter/bi-topic-modeling/data/' \n",
    "results_path = '/home/jupyter/bi-topic-modeling/results/' \n",
    "\n",
    "SEED = 42\n",
    "\n",
    "STOP_WORDS = pd.read_pickle(data_path + 'forbes_stop_words.pkl')\n",
    "\"q1\" in STOP_WORDS"
   ]
  },
  {
   "cell_type": "markdown",
   "metadata": {},
   "source": [
    "### --- Data ---\n",
    "\n",
    "* Train date range Apr 26 (monday) till May 02 (sunday)\n",
    "* Eligible pool = articles with pvs > 100 on a given day. In prod this will be replaced by pvs>350 summed over 7 days"
   ]
  },
  {
   "cell_type": "code",
   "execution_count": 4,
   "metadata": {},
   "outputs": [],
   "source": [
    "def get_data(file_name):\n",
    "    \n",
    "    df = pd.read_csv(data_path + file_name)\n",
    "\n",
    "    print(\"Before Shape:\", df.shape)\n",
    "    print(\"Unique tiers:\", len(df.tier1.unique()))\n",
    "    \n",
    "    # Per verdict from EDA, exclude articles less than 100 words\n",
    "    df[\"article_length\"] = df.clean_body.str.split().apply(len)\n",
    "    df = df[df[\"article_length\"]>=100]\n",
    "    print(\"After Shape:\", df.shape)\n",
    "    \n",
    "    df.tier1 = df.tier1.fillna('Other')\n",
    "    df = df.reset_index(drop=True)\n",
    "    \n",
    "    return df"
   ]
  },
  {
   "cell_type": "code",
   "execution_count": 5,
   "metadata": {},
   "outputs": [
    {
     "name": "stdout",
     "output_type": "stream",
     "text": [
      "--- apr 25 ---\n",
      "Before Shape: (3334, 10)\n",
      "Unique tiers: 31\n",
      "After Shape: (3327, 11)\n",
      "Embeds len: 3327\n",
      "\n",
      "--- apr 26 ---\n",
      "Before Shape: (4138, 10)\n",
      "Unique tiers: 31\n",
      "After Shape: (4128, 11)\n",
      "Embeds len: 4128\n",
      "\n",
      "--- apr 27 ---\n",
      "Before Shape: (4177, 10)\n",
      "Unique tiers: 31\n",
      "After Shape: (4167, 11)\n",
      "Embeds len: 4167\n",
      "\n",
      "--- apr 28 ---\n",
      "Before Shape: (4197, 8)\n",
      "Unique tiers: 31\n",
      "After Shape: (4186, 9)\n",
      "Embeds len: 4186\n",
      "\n",
      "--- apr 29 ---\n",
      "Before Shape: (4201, 8)\n",
      "Unique tiers: 31\n",
      "After Shape: (4188, 9)\n",
      "Embeds len: 4188\n",
      "\n",
      "--- apr 30 ---\n",
      "Before Shape: (3784, 8)\n",
      "Unique tiers: 31\n",
      "After Shape: (3771, 9)\n",
      "Embeds len: 3771\n",
      "--- may 01 ---\n",
      "Before Shape: (3052, 8)\n",
      "Unique tiers: 31\n",
      "After Shape: (3044, 9)\n",
      "Embeds len: 3044\n",
      "\n",
      "--- may 02 ---\n",
      "Before Shape: (3267, 8)\n",
      "Unique tiers: 31\n",
      "After Shape: (3259, 9)\n",
      "Embeds len: 3259\n"
     ]
    }
   ],
   "source": [
    "# training data set\n",
    "\n",
    "print(\"--- apr 25 ---\")\n",
    "\n",
    "apr25 = get_data('processed/train_apr25_over100pvs_processed.csv')\n",
    "apr25_art_embed = joblib.load(\"./data/processed/apr25_article_embed_axis0.joblib\")\n",
    "print(\"Embeds len:\", len(apr25_art_embed))\n",
    "\n",
    "print()\n",
    "print(\"--- apr 26 ---\")\n",
    "\n",
    "apr26 = get_data('processed/pred_apr26_over100pvs_processed.csv')\n",
    "apr26_art_embed = joblib.load(\"./data/processed/apr26_article_embed_axis0.joblib\")\n",
    "print(\"Embeds len:\", len(apr26_art_embed))\n",
    "\n",
    "print()\n",
    "print(\"--- apr 27 ---\")\n",
    "\n",
    "apr27 = get_data('processed/pred_apr27_over100pvs_processed.csv')\n",
    "apr27_art_embed = joblib.load(\"./data/processed/apr27_article_embed_axis0.joblib\")\n",
    "print(\"Embeds len:\", len(apr27_art_embed))\n",
    "\n",
    "print()\n",
    "print(\"--- apr 28 ---\")\n",
    "\n",
    "apr28 = get_data('processed/apr28_over100pvs_processed.csv')\n",
    "apr28_art_embed = joblib.load(\"./data/processed/apr28_article_embed_axis0.joblib\")\n",
    "print(\"Embeds len:\", len(apr28_art_embed))\n",
    "\n",
    "print()\n",
    "print(\"--- apr 29 ---\")\n",
    "\n",
    "apr29 = get_data('processed/apr29_over100pvs_processed.csv')\n",
    "apr29_art_embed = joblib.load(\"./data/processed/apr29_article_embed_axis0.joblib\")\n",
    "print(\"Embeds len:\", len(apr29_art_embed))\n",
    "\n",
    "print()\n",
    "print(\"--- apr 30 ---\")\n",
    "\n",
    "apr30 = get_data('processed/apr30_over100pvs_processed.csv')\n",
    "apr30_art_embed = joblib.load(\"./data/processed/apr30_article_embed_axis0.joblib\")\n",
    "print(\"Embeds len:\", len(apr30_art_embed))\n",
    "\n",
    "print(\"--- may 01 ---\")\n",
    "\n",
    "may01 = get_data('processed/may01_over100pvs_processed.csv')\n",
    "may01_art_embed = joblib.load(\"./data/processed/may01_article_embed_axis0.joblib\")\n",
    "print(\"Embeds len:\", len(may01_art_embed))\n",
    "\n",
    "print()\n",
    "print(\"--- may 02 ---\")\n",
    "\n",
    "may02 = get_data('processed/may02_over100pvs_processed.csv')\n",
    "may02_art_embed = joblib.load(\"./data/processed/may02_article_embed_axis0.joblib\")\n",
    "print(\"Embeds len:\", len(may02_art_embed))"
   ]
  },
  {
   "cell_type": "code",
   "execution_count": 6,
   "metadata": {},
   "outputs": [
    {
     "name": "stdout",
     "output_type": "stream",
     "text": [
      "\n",
      "--- may 03 ---\n",
      "Before Shape: (4210, 8)\n",
      "Unique tiers: 31\n",
      "After Shape: (4199, 9)\n",
      "Embeds len: 4199\n",
      "\n",
      "--- may 04 ---\n",
      "Before Shape: (4235, 8)\n",
      "Unique tiers: 31\n",
      "After Shape: (4223, 9)\n",
      "Embeds len: 4223\n",
      "\n",
      "--- may 05 ---\n",
      "Before Shape: (4174, 8)\n",
      "Unique tiers: 31\n",
      "After Shape: (4160, 9)\n",
      "Embeds len: 4160\n",
      "--- may 06 ---\n",
      "Before Shape: (4079, 8)\n",
      "Unique tiers: 31\n",
      "After Shape: (4063, 9)\n",
      "Embeds len: 4063\n",
      "--- may 07 ---\n",
      "Before Shape: (3644, 8)\n",
      "Unique tiers: 31\n",
      "After Shape: (3630, 9)\n",
      "Embeds len: 3630\n",
      "--- may 08 ---\n",
      "Before Shape: (3038, 8)\n",
      "Unique tiers: 31\n",
      "After Shape: (3025, 9)\n",
      "Embeds len: 3025\n",
      "--- may 09 ---\n",
      "Before Shape: (3245, 8)\n",
      "Unique tiers: 31\n",
      "After Shape: (3231, 9)\n",
      "Embeds len: 3231\n"
     ]
    }
   ],
   "source": [
    "# testing data set\n",
    "\n",
    "print()\n",
    "print(\"--- may 03 ---\")\n",
    "\n",
    "may03 = get_data('processed/may03_over100pvs_processed.csv')\n",
    "may03_art_embed = joblib.load(\"./data/processed/may03_article_embed_axis0.joblib\")\n",
    "print(\"Embeds len:\", len(may03_art_embed))\n",
    "\n",
    "print()\n",
    "print(\"--- may 04 ---\")\n",
    "\n",
    "may04 = get_data('processed/may04_over100pvs_processed.csv')\n",
    "may04_art_embed = joblib.load(\"./data/processed/may04_article_embed_axis0.joblib\")\n",
    "print(\"Embeds len:\", len(may04_art_embed))\n",
    "\n",
    "print()\n",
    "print(\"--- may 05 ---\")\n",
    "\n",
    "may05 = get_data('processed/may05_over100pvs_processed.csv')\n",
    "may05_art_embed = joblib.load(\"./data/processed/may05_article_embed_axis0.joblib\")\n",
    "print(\"Embeds len:\", len(may05_art_embed))\n",
    "\n",
    "print(\"--- may 06 ---\")\n",
    "\n",
    "may06 = get_data('processed/may06_over100pvs_processed.csv')\n",
    "may06_art_embed = joblib.load(\"./data/processed/may06_article_embed_axis0.joblib\")\n",
    "print(\"Embeds len:\", len(may06_art_embed))\n",
    "\n",
    "print(\"--- may 07 ---\")\n",
    "\n",
    "may07 = get_data('processed/may07_over100pvs_processed.csv')\n",
    "may07_art_embed = joblib.load(\"./data/processed/may07_article_embed_axis0.joblib\")\n",
    "print(\"Embeds len:\", len(may07_art_embed))\n",
    "\n",
    "print(\"--- may 08 ---\")\n",
    "\n",
    "may08 = get_data('processed/may08_over100pvs_processed.csv')\n",
    "may08_art_embed = joblib.load(\"./data/processed/may08_article_embed_axis0.joblib\")\n",
    "print(\"Embeds len:\", len(may08_art_embed))\n",
    "\n",
    "print(\"--- may 09 ---\")\n",
    "\n",
    "may09 = get_data('processed/may09_over100pvs_processed.csv')\n",
    "may09_art_embed = joblib.load(\"./data/processed/may09_article_embed_axis0.joblib\")\n",
    "print(\"Embeds len:\", len(may09_art_embed))"
   ]
  },
  {
   "cell_type": "markdown",
   "metadata": {},
   "source": [
    "# Opt-1 and Opt-2"
   ]
  },
  {
   "cell_type": "markdown",
   "metadata": {},
   "source": [
    "### --- Combine train data - 7 days --- \n",
    "* apr 26 (monday) till may 2 (sunday)\n",
    "* Observations on training clustering performance - same as the one in file shared for review"
   ]
  },
  {
   "cell_type": "code",
   "execution_count": 7,
   "metadata": {},
   "outputs": [
    {
     "name": "stdout",
     "output_type": "stream",
     "text": [
      "(26743, 9)\n",
      "26743\n"
     ]
    }
   ],
   "source": [
    "# concatenate dfs\n",
    "\n",
    "combined_df = pd.concat([apr26, apr27, apr28, apr29, apr30, may01, may02])\n",
    "# reset index\n",
    "combined_df = combined_df.reset_index(drop=True)\n",
    "# drop unnecessary cols\n",
    "combined_df.drop([\"processed\", \"processed_noun\", \"processed_noun_2\"], axis = 1, inplace=True)\n",
    "# fill na\n",
    "combined_df.tier2 = combined_df.tier2.fillna('Other')\n",
    "combined_df.total_timeonpage = combined_df.total_timeonpage.fillna(0)\n",
    "print(combined_df.shape)\n",
    "\n",
    "# concatenate embeds\n",
    "combined_embeds = apr26_art_embed + apr27_art_embed + apr28_art_embed + apr29_art_embed + apr30_art_embed + may01_art_embed + may02_art_embed\n",
    "print(len(combined_embeds))"
   ]
  },
  {
   "cell_type": "code",
   "execution_count": 8,
   "metadata": {},
   "outputs": [
    {
     "name": "stdout",
     "output_type": "stream",
     "text": [
      "(7238, 9)\n",
      "False\n",
      "7238\n"
     ]
    }
   ],
   "source": [
    "# drop duplicates from df\n",
    "\n",
    "train_df = combined_df.drop_duplicates(subset=\"content_natid\", keep='first')\n",
    "\n",
    "print(train_df.shape)\n",
    "print(train_df.content_natid.duplicated(keep='first').any())\n",
    "\n",
    "train_embeds =  [combined_embeds[i] for i in list(train_df.index)]\n",
    "print(len(train_embeds))"
   ]
  },
  {
   "cell_type": "code",
   "execution_count": 9,
   "metadata": {},
   "outputs": [
    {
     "data": {
      "text/plain": [
       "(7238, 3)"
      ]
     },
     "execution_count": 9,
     "metadata": {},
     "output_type": "execute_result"
    }
   ],
   "source": [
    "train_df.reset_index(drop=True, inplace=True)\n",
    "\n",
    "train_df = train_df[['content_natid', 'clean_body', 'tier1']]\n",
    "train_df.shape"
   ]
  },
  {
   "cell_type": "markdown",
   "metadata": {},
   "source": [
    "* Get train data metrics - 7 days: apr 26 (monday) till may 2 (sunday) per day metrics aggregated at natid (7 day) level"
   ]
  },
  {
   "cell_type": "code",
   "execution_count": 10,
   "metadata": {},
   "outputs": [
    {
     "name": "stdout",
     "output_type": "stream",
     "text": [
      "(7522, 4)\n"
     ]
    }
   ],
   "source": [
    "# get training data metrics\n",
    "apr26_metrics = pd.read_csv(data_path + 'processed/apr26_metrics.csv')\n",
    "apr27_metrics = pd.read_csv(data_path + 'processed/apr27_metrics.csv')\n",
    "apr28_metrics = pd.read_csv(data_path + 'processed/apr28_metrics.csv')\n",
    "apr29_metrics = pd.read_csv(data_path + 'processed/apr29_metrics.csv')\n",
    "apr30_metrics = pd.read_csv(data_path + 'processed/apr30_metrics.csv')\n",
    "may01_metrics = pd.read_csv(data_path + 'processed/may01_metrics.csv')\n",
    "may02_metrics = pd.read_csv(data_path + 'processed/may02_metrics.csv')\n",
    "\n",
    "combined_metrics = pd.concat([apr26_metrics, apr27_metrics, apr28_metrics, apr29_metrics, apr30_metrics, \n",
    "                              may01_metrics, may02_metrics])\n",
    "\n",
    "apr26_may02_metrics = combined_metrics.groupby('GA_cmsNaturalId').agg({\n",
    "    'pvs':'sum', 'avg_time_on_page':'mean', 'avg_scroll':'mean'\n",
    "}).reset_index()\n",
    "\n",
    "print(apr26_may02_metrics.shape)"
   ]
  },
  {
   "cell_type": "markdown",
   "metadata": {},
   "source": [
    "### --- Modeling ---"
   ]
  },
  {
   "cell_type": "code",
   "execution_count": 11,
   "metadata": {},
   "outputs": [
    {
     "name": "stdout",
     "output_type": "stream",
     "text": [
      "7238\n"
     ]
    }
   ],
   "source": [
    "data = train_df.clean_body.tolist()\n",
    "print(len(data))"
   ]
  },
  {
   "cell_type": "markdown",
   "metadata": {},
   "source": [
    "**Param settings:** Newest -<br>\n",
    "\n",
    "umap_embeddings =  umap.UMAP(n_neighbors=15,<br>\n",
    "                             min_dist=0.0,<br>\n",
    "                             n_components=2,<br>\n",
    "                             random_state=SEED,<br>\n",
    "                            ).fit(train_embeds)<br>\n",
    "<br>\n",
    "cluster = hdbscan.HDBSCAN(min_cluster_size=5,<br>\n",
    "                      min_samples = 4, <br>\n",
    "                      metric= 'euclidean',         \n",
    "                      cluster_selection_method='eom',<br>\n",
    "                      prediction_data=True).fit(umap_embeddings.embedding_)\n"
   ]
  },
  {
   "cell_type": "code",
   "execution_count": 13,
   "metadata": {},
   "outputs": [],
   "source": [
    "# # NEW SETTINGS for lesser noise - umap:n_neighbors=15, n_components=2, min_dist=0.0 \n",
    "# # hdbscan min_cluster_size=5, min_samples = 4, input = sentence embeddings aggregated (mean) to full article\n",
    "\n",
    "# umap_embeddings =  umap.UMAP(n_neighbors=15,\n",
    "#                              min_dist=0.0,\n",
    "#                              n_components=2,\n",
    "#                              random_state=SEED,\n",
    "#                             ).fit(train_embeds)"
   ]
  },
  {
   "cell_type": "code",
   "execution_count": 14,
   "metadata": {},
   "outputs": [],
   "source": [
    "# # cluster\n",
    "# cluster = hdbscan.HDBSCAN(min_cluster_size=5,\n",
    "#                       min_samples = 4, #new\n",
    "#                       metric= 'euclidean',                      \n",
    "#                       cluster_selection_method='eom',\n",
    "#                       prediction_data=True).fit(umap_embeddings.embedding_)"
   ]
  },
  {
   "cell_type": "code",
   "execution_count": 12,
   "metadata": {},
   "outputs": [
    {
     "name": "stdout",
     "output_type": "stream",
     "text": [
      "(0.0, 12, 2, 5, 5)\n"
     ]
    }
   ],
   "source": [
    "# using HP-tuned params for comparing directly with 12a\n",
    "\n",
    "best_cfg = (0.0, 12, 2, 5, 5)\n",
    "\n",
    "print(best_cfg)\n",
    "\n",
    "# dimensionality reduction\n",
    "umap_embeddings =  umap.UMAP(min_dist = best_cfg[0],\n",
    "                             n_neighbors = best_cfg[1],\n",
    "                             n_components= best_cfg[2],\n",
    "                             random_state=SEED,\n",
    "                            ).fit(train_embeds)\n",
    "\n",
    "# cluster\n",
    "cluster = hdbscan.HDBSCAN(min_cluster_size= best_cfg[3],\n",
    "                      min_samples = best_cfg[4],\n",
    "                      metric= 'euclidean',                      \n",
    "                      cluster_selection_method='eom',\n",
    "                      prediction_data=True).fit(umap_embeddings.embedding_)"
   ]
  },
  {
   "cell_type": "code",
   "execution_count": 13,
   "metadata": {},
   "outputs": [
    {
     "name": "stdout",
     "output_type": "stream",
     "text": [
      "Shape of training embeddings: (7238, 2)\n"
     ]
    }
   ],
   "source": [
    "print(\"Shape of training embeddings:\", umap_embeddings.embedding_.shape)"
   ]
  },
  {
   "cell_type": "code",
   "execution_count": 14,
   "metadata": {},
   "outputs": [
    {
     "name": "stdout",
     "output_type": "stream",
     "text": [
      "Settings - mean axis=0\n"
     ]
    },
    {
     "data": {
      "text/plain": [
       "0.34083637100782105"
      ]
     },
     "execution_count": 14,
     "metadata": {},
     "output_type": "execute_result"
    }
   ],
   "source": [
    "labels = cluster.labels_\n",
    "print(\"Settings - mean axis=0\")\n",
    "validity_index(umap_embeddings.embedding_.astype('double'), labels)"
   ]
  },
  {
   "cell_type": "code",
   "execution_count": 15,
   "metadata": {},
   "outputs": [
    {
     "name": "stdout",
     "output_type": "stream",
     "text": [
      "Distinct topics including -1 for noise 280\n",
      "\n"
     ]
    },
    {
     "data": {
      "text/html": [
       "<div>\n",
       "<style scoped>\n",
       "    .dataframe tbody tr th:only-of-type {\n",
       "        vertical-align: middle;\n",
       "    }\n",
       "\n",
       "    .dataframe tbody tr th {\n",
       "        vertical-align: top;\n",
       "    }\n",
       "\n",
       "    .dataframe thead th {\n",
       "        text-align: right;\n",
       "    }\n",
       "</style>\n",
       "<table border=\"1\" class=\"dataframe\">\n",
       "  <thead>\n",
       "    <tr style=\"text-align: right;\">\n",
       "      <th></th>\n",
       "      <th>Doc</th>\n",
       "      <th>Topic</th>\n",
       "      <th>Doc_ID</th>\n",
       "    </tr>\n",
       "  </thead>\n",
       "  <tbody>\n",
       "    <tr>\n",
       "      <th>0</th>\n",
       "      <td>10 robot vacuums that clean so you dont have to. if youre like most people, vacuuming is low on your list ...</td>\n",
       "      <td>-1</td>\n",
       "      <td>0</td>\n",
       "    </tr>\n",
       "    <tr>\n",
       "      <th>1</th>\n",
       "      <td>these 11 mattress toppers give you the bed of your dreams. while new pillows or a new set of sheets can do...</td>\n",
       "      <td>64</td>\n",
       "      <td>1</td>\n",
       "    </tr>\n",
       "    <tr>\n",
       "      <th>2</th>\n",
       "      <td>wayfairs biggest sale of the year is officially here. thanks to the pandemic, most of us have spent the pa...</td>\n",
       "      <td>70</td>\n",
       "      <td>2</td>\n",
       "    </tr>\n",
       "    <tr>\n",
       "      <th>3</th>\n",
       "      <td>apple ios 14.5 released: massive iphone update with cool features &amp; important fixes. april 28 update below...</td>\n",
       "      <td>60</td>\n",
       "      <td>3</td>\n",
       "    </tr>\n",
       "    <tr>\n",
       "      <th>4</th>\n",
       "      <td>apple airtag: all you need to know about the game-changing new gadget. april 28 update below. this post wa...</td>\n",
       "      <td>-1</td>\n",
       "      <td>4</td>\n",
       "    </tr>\n",
       "    <tr>\n",
       "      <th>...</th>\n",
       "      <td>...</td>\n",
       "      <td>...</td>\n",
       "      <td>...</td>\n",
       "    </tr>\n",
       "    <tr>\n",
       "      <th>7233</th>\n",
       "      <td>the oilman, the playmate, and the tangled affairs of the billionaire marshall family. j. howard marshall i...</td>\n",
       "      <td>140</td>\n",
       "      <td>7233</td>\n",
       "    </tr>\n",
       "    <tr>\n",
       "      <th>7234</th>\n",
       "      <td>5 surprising foods that help you sleep. cherries: the new melatonin supplement (image via wikipedia) june ...</td>\n",
       "      <td>35</td>\n",
       "      <td>7234</td>\n",
       "    </tr>\n",
       "    <tr>\n",
       "      <th>7235</th>\n",
       "      <td>hacker's demo shows how easily credit cards can be read through clothes and wallets. some blank credit car...</td>\n",
       "      <td>31</td>\n",
       "      <td>7235</td>\n",
       "    </tr>\n",
       "    <tr>\n",
       "      <th>7236</th>\n",
       "      <td>the five richest pastors in nigeria. london-based nigerian pastor matthew ashimolowo god is good, especial...</td>\n",
       "      <td>172</td>\n",
       "      <td>7236</td>\n",
       "    </tr>\n",
       "    <tr>\n",
       "      <th>7237</th>\n",
       "      <td>man inadvertently live tweets osama bin laden raid. an it consultant who tried to take a break from the ra...</td>\n",
       "      <td>-1</td>\n",
       "      <td>7237</td>\n",
       "    </tr>\n",
       "  </tbody>\n",
       "</table>\n",
       "<p>7238 rows × 3 columns</p>\n",
       "</div>"
      ],
      "text/plain": [
       "                                                                                                                Doc  \\\n",
       "0     10 robot vacuums that clean so you dont have to. if youre like most people, vacuuming is low on your list ...   \n",
       "1     these 11 mattress toppers give you the bed of your dreams. while new pillows or a new set of sheets can do...   \n",
       "2     wayfairs biggest sale of the year is officially here. thanks to the pandemic, most of us have spent the pa...   \n",
       "3     apple ios 14.5 released: massive iphone update with cool features & important fixes. april 28 update below...   \n",
       "4     apple airtag: all you need to know about the game-changing new gadget. april 28 update below. this post wa...   \n",
       "...                                                                                                             ...   \n",
       "7233  the oilman, the playmate, and the tangled affairs of the billionaire marshall family. j. howard marshall i...   \n",
       "7234  5 surprising foods that help you sleep. cherries: the new melatonin supplement (image via wikipedia) june ...   \n",
       "7235  hacker's demo shows how easily credit cards can be read through clothes and wallets. some blank credit car...   \n",
       "7236  the five richest pastors in nigeria. london-based nigerian pastor matthew ashimolowo god is good, especial...   \n",
       "7237  man inadvertently live tweets osama bin laden raid. an it consultant who tried to take a break from the ra...   \n",
       "\n",
       "      Topic  Doc_ID  \n",
       "0        -1       0  \n",
       "1        64       1  \n",
       "2        70       2  \n",
       "3        60       3  \n",
       "4        -1       4  \n",
       "...     ...     ...  \n",
       "7233    140    7233  \n",
       "7234     35    7234  \n",
       "7235     31    7235  \n",
       "7236    172    7236  \n",
       "7237     -1    7237  \n",
       "\n",
       "[7238 rows x 3 columns]"
      ]
     },
     "execution_count": 15,
     "metadata": {},
     "output_type": "execute_result"
    }
   ],
   "source": [
    "# put topics in dataframe\n",
    "docs_df = pd.DataFrame(data, columns=[\"Doc\"])\n",
    "docs_df['Topic'] = cluster.labels_\n",
    "docs_df['Doc_ID'] = range(len(docs_df))\n",
    "\n",
    "print(\"Distinct topics including -1 for noise\", len(docs_df.Topic.unique()))\n",
    "print()\n",
    "docs_df"
   ]
  },
  {
   "cell_type": "code",
   "execution_count": 16,
   "metadata": {},
   "outputs": [],
   "source": [
    "# combine together all articles belonging to same cluster  \n",
    "docs_per_topic = docs_df.groupby(['Topic'], as_index = False).agg({'Doc': ' '.join})\n",
    "\n",
    "# calculate countVector and tf-idf\n",
    "tf_idf, count = c_tf_idf(docs_per_topic.Doc.values, m=len(data))\n",
    "\n",
    "# top n words, topic size\n",
    "top_n_words = extract_top_n_words_per_topic(tf_idf, count, docs_per_topic, n=20)\n",
    "topic_sizes = extract_topic_sizes(docs_df); \n",
    "\n",
    "# modify top_n_words per topic dict into dataframe for presentation\n",
    "topic_words_dict = {}  \n",
    "\n",
    "for k, v in top_n_words.items():\n",
    "    topic_words_dict[k] = \", \".join([elem[0] for elem in v])\n",
    "\n",
    "pd.set_option(\"max_colwidth\", 250)\n",
    "top_n_words_df = pd.DataFrame.from_dict(topic_words_dict, \n",
    "                                        orient='index').reset_index().rename(columns={'index':'topic_num',\n",
    "                                                                                      \n",
    "                                                                                      0:'topic_words'}) "
   ]
  },
  {
   "cell_type": "code",
   "execution_count": 17,
   "metadata": {},
   "outputs": [
    {
     "name": "stdout",
     "output_type": "stream",
     "text": [
      "keyword time 0.0004695892333984375\n"
     ]
    }
   ],
   "source": [
    "# clean keywords\n",
    "\n",
    "from collections import OrderedDict\n",
    "# from fuzzywuzzy import process, fuzz\n",
    "from itertools import chain\n",
    "\n",
    "import time\n",
    "start = time.time()\n",
    "\n",
    "clean_keys = []\n",
    "for index, row in top_n_words_df.iterrows(): \n",
    "    \n",
    "    # remove STOP WORDS and remove whitespaces\n",
    "    inter_list = [x.strip() for x in row[\"topic_words\"].split(\",\") if x not in STOP_WORDS]\n",
    "    \n",
    "    # remove numbers but not alphanumerics e.g. remove 400, not ps4 \n",
    "    inter_list = [x for x in inter_list if not x.isnumeric()]\n",
    "    \n",
    "    # remove subset-based similar words - e.g. 'pcr tests' and 'tests' then 'tests' will be removed\n",
    "    inter_list = [i for i in inter_list if not any(i in x and i!=x for x in inter_list)]\n",
    "\n",
    "    # remove empty or 1-letter words\n",
    "    inter_list = [x for x in inter_list if len(x)>1]\n",
    "    \n",
    "    # de-duplicate\n",
    "    inter_list = list(OrderedDict.fromkeys(inter_list))\n",
    "    \n",
    "    # keep top 20 cleaned keywords\n",
    "    inter_list = inter_list[:6] \n",
    "    \n",
    "    # convert into string\n",
    "    inter_list = ', '.join(inter_list)\n",
    "    \n",
    "    clean_keys.append(inter_list)\n",
    "\n",
    "end = time.time()\n",
    "print(\"keyword time\", (end - start)/60) "
   ]
  },
  {
   "cell_type": "code",
   "execution_count": 18,
   "metadata": {},
   "outputs": [],
   "source": [
    "top_n_words_df[\"topic_words\"] = clean_keys"
   ]
  },
  {
   "cell_type": "code",
   "execution_count": 19,
   "metadata": {},
   "outputs": [],
   "source": [
    "# GENERATE TOPIC METRICS\n",
    "\n",
    "# per topic - cos_min and cos_mean\n",
    "train_cossim_df = generate_all_cossim_metrics(docs_df, train_embeds)\n",
    "\n",
    "# per topic - tier counts\n",
    "tier_metric = docs_df.join(train_df[[\"tier1\"]])\n",
    "\n",
    "iab_metric = tier_metric.groupby(\"Topic\").agg({\"tier1\": \n",
    "                                               'nunique'}).round(2).reset_index().rename(columns = {'tier1': \n",
    "                                                                                                    'distinct_tier1s',\n",
    "                                                                                                    'Topic':\n",
    "                                                                                                    'topic_num'})\n",
    "\n",
    "# combine topic, top words, cos and tier metrics\n",
    "topic_info = pd.merge(pd.merge(pd.merge(top_n_words_df, \n",
    "                               topic_sizes, how=\"inner\", left_on=\"topic_num\", right_on = \"Topic\"), \n",
    "                               train_cossim_df, on = \"topic_num\", how=\"inner\"), \n",
    "                      iab_metric, on = \"topic_num\", how=\"inner\")\n",
    "\n",
    "topic_info.drop('Topic', axis=1, inplace=True)"
   ]
  },
  {
   "cell_type": "code",
   "execution_count": 20,
   "metadata": {},
   "outputs": [
    {
     "data": {
      "text/html": [
       "<div>\n",
       "<style scoped>\n",
       "    .dataframe tbody tr th:only-of-type {\n",
       "        vertical-align: middle;\n",
       "    }\n",
       "\n",
       "    .dataframe tbody tr th {\n",
       "        vertical-align: top;\n",
       "    }\n",
       "\n",
       "    .dataframe thead th {\n",
       "        text-align: right;\n",
       "    }\n",
       "</style>\n",
       "<table border=\"1\" class=\"dataframe\">\n",
       "  <thead>\n",
       "    <tr style=\"text-align: right;\">\n",
       "      <th></th>\n",
       "      <th>topic_num</th>\n",
       "      <th>topic_words</th>\n",
       "      <th>Size</th>\n",
       "      <th>cos_min</th>\n",
       "      <th>cos_mean</th>\n",
       "      <th>distinct_tier1s</th>\n",
       "    </tr>\n",
       "  </thead>\n",
       "  <tbody>\n",
       "    <tr>\n",
       "      <th>0</th>\n",
       "      <td>-1</td>\n",
       "      <td>coffee, age, china, government, leaders, women</td>\n",
       "      <td>2357</td>\n",
       "      <td>-0.03</td>\n",
       "      <td>0.72</td>\n",
       "      <td>31</td>\n",
       "    </tr>\n",
       "    <tr>\n",
       "      <th>1</th>\n",
       "      <td>0</td>\n",
       "      <td>10 states, average annual, annual wage, salaries, occupational, therapist salary</td>\n",
       "      <td>34</td>\n",
       "      <td>0.77</td>\n",
       "      <td>0.90</td>\n",
       "      <td>8</td>\n",
       "    </tr>\n",
       "    <tr>\n",
       "      <th>2</th>\n",
       "      <td>1</td>\n",
       "      <td>kentucky derby, essential quality, horses, churchill downs, race, triple crown</td>\n",
       "      <td>18</td>\n",
       "      <td>0.66</td>\n",
       "      <td>0.85</td>\n",
       "      <td>4</td>\n",
       "    </tr>\n",
       "    <tr>\n",
       "      <th>3</th>\n",
       "      <td>2</td>\n",
       "      <td>million viewers, 000 viewers, fox news, msnbc, cable news, prime time</td>\n",
       "      <td>7</td>\n",
       "      <td>0.95</td>\n",
       "      <td>0.97</td>\n",
       "      <td>3</td>\n",
       "    </tr>\n",
       "    <tr>\n",
       "      <th>4</th>\n",
       "      <td>3</td>\n",
       "      <td>packers, quarterback, round, rodgers, nfl draft, green bay</td>\n",
       "      <td>69</td>\n",
       "      <td>0.68</td>\n",
       "      <td>0.88</td>\n",
       "      <td>3</td>\n",
       "    </tr>\n",
       "  </tbody>\n",
       "</table>\n",
       "</div>"
      ],
      "text/plain": [
       "   topic_num  \\\n",
       "0         -1   \n",
       "1          0   \n",
       "2          1   \n",
       "3          2   \n",
       "4          3   \n",
       "\n",
       "                                                                        topic_words  \\\n",
       "0                                    coffee, age, china, government, leaders, women   \n",
       "1  10 states, average annual, annual wage, salaries, occupational, therapist salary   \n",
       "2    kentucky derby, essential quality, horses, churchill downs, race, triple crown   \n",
       "3             million viewers, 000 viewers, fox news, msnbc, cable news, prime time   \n",
       "4                        packers, quarterback, round, rodgers, nfl draft, green bay   \n",
       "\n",
       "   Size  cos_min  cos_mean  distinct_tier1s  \n",
       "0  2357    -0.03      0.72               31  \n",
       "1    34     0.77      0.90                8  \n",
       "2    18     0.66      0.85                4  \n",
       "3     7     0.95      0.97                3  \n",
       "4    69     0.68      0.88                3  "
      ]
     },
     "execution_count": 20,
     "metadata": {},
     "output_type": "execute_result"
    }
   ],
   "source": [
    "topic_info.head()"
   ]
  },
  {
   "cell_type": "code",
   "execution_count": 21,
   "metadata": {},
   "outputs": [
    {
     "data": {
      "image/png": "[encoded data removed]",
      "text/plain": [
       "<Figure size 1080x720 with 4 Axes>"
      ]
     },
     "metadata": {},
     "output_type": "display_data"
    }
   ],
   "source": [
    "# TEST FOR LESSER NOISE\n",
    "topic_info[['cos_min', 'cos_mean', 'distinct_tier1s']].hist(figsize= (15,10), bins=50)\n",
    "plt.show()"
   ]
  },
  {
   "cell_type": "code",
   "execution_count": 22,
   "metadata": {},
   "outputs": [
    {
     "data": {
      "text/html": [
       "<div>\n",
       "<style scoped>\n",
       "    .dataframe tbody tr th:only-of-type {\n",
       "        vertical-align: middle;\n",
       "    }\n",
       "\n",
       "    .dataframe tbody tr th {\n",
       "        vertical-align: top;\n",
       "    }\n",
       "\n",
       "    .dataframe thead th {\n",
       "        text-align: right;\n",
       "    }\n",
       "</style>\n",
       "<table border=\"1\" class=\"dataframe\">\n",
       "  <thead>\n",
       "    <tr style=\"text-align: right;\">\n",
       "      <th></th>\n",
       "      <th>cos_min</th>\n",
       "      <th>cos_mean</th>\n",
       "      <th>distinct_tier1s</th>\n",
       "      <th>Size</th>\n",
       "    </tr>\n",
       "  </thead>\n",
       "  <tbody>\n",
       "    <tr>\n",
       "      <th>count</th>\n",
       "      <td>280.000</td>\n",
       "      <td>280.000</td>\n",
       "      <td>280.000</td>\n",
       "      <td>280.000</td>\n",
       "    </tr>\n",
       "    <tr>\n",
       "      <th>mean</th>\n",
       "      <td>0.755</td>\n",
       "      <td>0.879</td>\n",
       "      <td>4.636</td>\n",
       "      <td>25.850</td>\n",
       "    </tr>\n",
       "    <tr>\n",
       "      <th>std</th>\n",
       "      <td>0.091</td>\n",
       "      <td>0.034</td>\n",
       "      <td>3.003</td>\n",
       "      <td>140.567</td>\n",
       "    </tr>\n",
       "    <tr>\n",
       "      <th>min</th>\n",
       "      <td>-0.030</td>\n",
       "      <td>0.720</td>\n",
       "      <td>1.000</td>\n",
       "      <td>5.000</td>\n",
       "    </tr>\n",
       "    <tr>\n",
       "      <th>25%</th>\n",
       "      <td>0.710</td>\n",
       "      <td>0.860</td>\n",
       "      <td>3.000</td>\n",
       "      <td>8.000</td>\n",
       "    </tr>\n",
       "    <tr>\n",
       "      <th>50%</th>\n",
       "      <td>0.760</td>\n",
       "      <td>0.880</td>\n",
       "      <td>4.000</td>\n",
       "      <td>13.000</td>\n",
       "    </tr>\n",
       "    <tr>\n",
       "      <th>75%</th>\n",
       "      <td>0.810</td>\n",
       "      <td>0.900</td>\n",
       "      <td>5.000</td>\n",
       "      <td>22.000</td>\n",
       "    </tr>\n",
       "    <tr>\n",
       "      <th>max</th>\n",
       "      <td>0.950</td>\n",
       "      <td>0.970</td>\n",
       "      <td>31.000</td>\n",
       "      <td>2357.000</td>\n",
       "    </tr>\n",
       "  </tbody>\n",
       "</table>\n",
       "</div>"
      ],
      "text/plain": [
       "       cos_min  cos_mean  distinct_tier1s      Size\n",
       "count  280.000   280.000          280.000   280.000\n",
       "mean     0.755     0.879            4.636    25.850\n",
       "std      0.091     0.034            3.003   140.567\n",
       "min     -0.030     0.720            1.000     5.000\n",
       "25%      0.710     0.860            3.000     8.000\n",
       "50%      0.760     0.880            4.000    13.000\n",
       "75%      0.810     0.900            5.000    22.000\n",
       "max      0.950     0.970           31.000  2357.000"
      ]
     },
     "execution_count": 22,
     "metadata": {},
     "output_type": "execute_result"
    }
   ],
   "source": [
    "topic_info[['cos_min', 'cos_mean', 'distinct_tier1s', 'Size']].describe().apply(lambda x: round(x, 3))"
   ]
  },
  {
   "cell_type": "code",
   "execution_count": 25,
   "metadata": {},
   "outputs": [
    {
     "data": {
      "text/plain": [
       "['./model/apr26_may2_train_clusterer_07192021.joblib']"
      ]
     },
     "execution_count": 25,
     "metadata": {},
     "output_type": "execute_result"
    }
   ],
   "source": [
    "# joblib.dump(umap_embeddings, \"./model/apr26_may2_train_umap_07192021.joblib\")\n",
    "# joblib.dump(cluster, \"./model/apr26_may2_train_clusterer_07192021.joblib\")"
   ]
  },
  {
   "cell_type": "markdown",
   "metadata": {},
   "source": [
    "**Topics are about:**\n"
   ]
  },
  {
   "cell_type": "code",
   "execution_count": 23,
   "metadata": {},
   "outputs": [],
   "source": [
    "# combine natural id inside docs_df\n",
    "docs_df = pd.merge(docs_df, train_df, how=\"left\", left_on=\"Doc\", right_on=\"clean_body\")\n",
    "docs_df.drop(\"clean_body\", axis=1, inplace=True)"
   ]
  },
  {
   "cell_type": "code",
   "execution_count": 24,
   "metadata": {},
   "outputs": [
    {
     "data": {
      "text/html": [
       "<div>\n",
       "<style scoped>\n",
       "    .dataframe tbody tr th:only-of-type {\n",
       "        vertical-align: middle;\n",
       "    }\n",
       "\n",
       "    .dataframe tbody tr th {\n",
       "        vertical-align: top;\n",
       "    }\n",
       "\n",
       "    .dataframe thead th {\n",
       "        text-align: right;\n",
       "    }\n",
       "</style>\n",
       "<table border=\"1\" class=\"dataframe\">\n",
       "  <thead>\n",
       "    <tr style=\"text-align: right;\">\n",
       "      <th></th>\n",
       "      <th>Doc</th>\n",
       "      <th>Topic</th>\n",
       "      <th>Doc_ID</th>\n",
       "      <th>content_natid</th>\n",
       "      <th>tier1</th>\n",
       "      <th>topic_num</th>\n",
       "      <th>topic_words</th>\n",
       "      <th>Size</th>\n",
       "      <th>cos_min</th>\n",
       "      <th>cos_mean</th>\n",
       "      <th>distinct_tier1s</th>\n",
       "    </tr>\n",
       "  </thead>\n",
       "  <tbody>\n",
       "    <tr>\n",
       "      <th>0</th>\n",
       "      <td>10 robot vacuums that clean so you dont have to. if youre like most people, vacuuming is low on your list of favorite chores. you can avoid cleaning, or enlist the aid of a robot vacuum to clean your home autonomously. the best robot vacuums are ...</td>\n",
       "      <td>-1</td>\n",
       "      <td>0</td>\n",
       "      <td>blogandpostid/blog/post/4983-5ea87d15960ddf000681c604</td>\n",
       "      <td>Shopping</td>\n",
       "      <td>-1</td>\n",
       "      <td>coffee, age, china, government, leaders, women</td>\n",
       "      <td>2357</td>\n",
       "      <td>-0.03</td>\n",
       "      <td>0.72</td>\n",
       "      <td>31</td>\n",
       "    </tr>\n",
       "  </tbody>\n",
       "</table>\n",
       "</div>"
      ],
      "text/plain": [
       "                                                                                                                                                                                                                                                         Doc  \\\n",
       "0  10 robot vacuums that clean so you dont have to. if youre like most people, vacuuming is low on your list of favorite chores. you can avoid cleaning, or enlist the aid of a robot vacuum to clean your home autonomously. the best robot vacuums are ...   \n",
       "\n",
       "   Topic  Doc_ID                                          content_natid  \\\n",
       "0     -1       0  blogandpostid/blog/post/4983-5ea87d15960ddf000681c604   \n",
       "\n",
       "      tier1  topic_num                                     topic_words  Size  \\\n",
       "0  Shopping         -1  coffee, age, china, government, leaders, women  2357   \n",
       "\n",
       "   cos_min  cos_mean  distinct_tier1s  \n",
       "0    -0.03      0.72               31  "
      ]
     },
     "execution_count": 24,
     "metadata": {},
     "output_type": "execute_result"
    }
   ],
   "source": [
    "# contains natid, article body, assigned topic\n",
    "\n",
    "full_train_topics = pd.merge(docs_df, topic_info, how=\"left\", left_on=\"Topic\", right_on=\"topic_num\")\n",
    "full_train_topics.head(1)"
   ]
  },
  {
   "cell_type": "code",
   "execution_count": 25,
   "metadata": {},
   "outputs": [
    {
     "data": {
      "text/html": [
       "<div>\n",
       "<style scoped>\n",
       "    .dataframe tbody tr th:only-of-type {\n",
       "        vertical-align: middle;\n",
       "    }\n",
       "\n",
       "    .dataframe tbody tr th {\n",
       "        vertical-align: top;\n",
       "    }\n",
       "\n",
       "    .dataframe thead th {\n",
       "        text-align: right;\n",
       "    }\n",
       "</style>\n",
       "<table border=\"1\" class=\"dataframe\">\n",
       "  <thead>\n",
       "    <tr style=\"text-align: right;\">\n",
       "      <th></th>\n",
       "      <th>GA_cmsNaturalId</th>\n",
       "      <th>pvs</th>\n",
       "      <th>avg_time_on_page</th>\n",
       "      <th>avg_scroll</th>\n",
       "    </tr>\n",
       "  </thead>\n",
       "  <tbody>\n",
       "    <tr>\n",
       "      <th>0</th>\n",
       "      <td>blogandpostid/blog/post/1007-35894</td>\n",
       "      <td>678</td>\n",
       "      <td>185.901976</td>\n",
       "      <td>0.524951</td>\n",
       "    </tr>\n",
       "    <tr>\n",
       "      <th>1</th>\n",
       "      <td>blogandpostid/blog/post/1011-12712</td>\n",
       "      <td>103</td>\n",
       "      <td>90.669903</td>\n",
       "      <td>0.361650</td>\n",
       "    </tr>\n",
       "    <tr>\n",
       "      <th>2</th>\n",
       "      <td>blogandpostid/blog/post/1011-2227</td>\n",
       "      <td>134</td>\n",
       "      <td>99.514925</td>\n",
       "      <td>0.419776</td>\n",
       "    </tr>\n",
       "  </tbody>\n",
       "</table>\n",
       "</div>"
      ],
      "text/plain": [
       "                      GA_cmsNaturalId  pvs  avg_time_on_page  avg_scroll\n",
       "0  blogandpostid/blog/post/1007-35894  678        185.901976    0.524951\n",
       "1  blogandpostid/blog/post/1011-12712  103         90.669903    0.361650\n",
       "2   blogandpostid/blog/post/1011-2227  134         99.514925    0.419776"
      ]
     },
     "execution_count": 25,
     "metadata": {},
     "output_type": "execute_result"
    }
   ],
   "source": [
    "apr26_may02_metrics.head(3)"
   ]
  },
  {
   "cell_type": "code",
   "execution_count": 26,
   "metadata": {},
   "outputs": [
    {
     "data": {
      "text/plain": [
       "(7238, 15)"
      ]
     },
     "execution_count": 26,
     "metadata": {},
     "output_type": "execute_result"
    }
   ],
   "source": [
    "final = pd.merge(full_train_topics, apr26_may02_metrics, left_on=\"content_natid\", right_on=\"GA_cmsNaturalId\", how=\"inner\")\n",
    "final.shape"
   ]
  },
  {
   "cell_type": "code",
   "execution_count": 27,
   "metadata": {},
   "outputs": [
    {
     "data": {
      "text/plain": [
       "Doc                 0\n",
       "Topic               0\n",
       "Doc_ID              0\n",
       "content_natid       0\n",
       "tier1               0\n",
       "topic_num           0\n",
       "topic_words         0\n",
       "Size                0\n",
       "cos_min             0\n",
       "cos_mean            0\n",
       "distinct_tier1s     0\n",
       "GA_cmsNaturalId     0\n",
       "pvs                 0\n",
       "avg_time_on_page    0\n",
       "avg_scroll          3\n",
       "dtype: int64"
      ]
     },
     "execution_count": 27,
     "metadata": {},
     "output_type": "execute_result"
    }
   ],
   "source": [
    "final.isna().sum()"
   ]
  },
  {
   "cell_type": "code",
   "execution_count": 28,
   "metadata": {},
   "outputs": [
    {
     "data": {
      "text/html": [
       "<div>\n",
       "<style scoped>\n",
       "    .dataframe tbody tr th:only-of-type {\n",
       "        vertical-align: middle;\n",
       "    }\n",
       "\n",
       "    .dataframe tbody tr th {\n",
       "        vertical-align: top;\n",
       "    }\n",
       "\n",
       "    .dataframe thead th {\n",
       "        text-align: right;\n",
       "    }\n",
       "</style>\n",
       "<table border=\"1\" class=\"dataframe\">\n",
       "  <thead>\n",
       "    <tr style=\"text-align: right;\">\n",
       "      <th></th>\n",
       "      <th>Topic</th>\n",
       "      <th>pvs</th>\n",
       "      <th>avg_time_on_page</th>\n",
       "      <th>avg_scroll</th>\n",
       "      <th>content_natid</th>\n",
       "    </tr>\n",
       "  </thead>\n",
       "  <tbody>\n",
       "    <tr>\n",
       "      <th>77</th>\n",
       "      <td>76</td>\n",
       "      <td>4481</td>\n",
       "      <td>186.355116</td>\n",
       "      <td>0.300981</td>\n",
       "      <td>8</td>\n",
       "    </tr>\n",
       "    <tr>\n",
       "      <th>274</th>\n",
       "      <td>273</td>\n",
       "      <td>10207</td>\n",
       "      <td>181.667873</td>\n",
       "      <td>0.435570</td>\n",
       "      <td>22</td>\n",
       "    </tr>\n",
       "    <tr>\n",
       "      <th>181</th>\n",
       "      <td>180</td>\n",
       "      <td>6063</td>\n",
       "      <td>178.787523</td>\n",
       "      <td>0.482136</td>\n",
       "      <td>12</td>\n",
       "    </tr>\n",
       "    <tr>\n",
       "      <th>11</th>\n",
       "      <td>10</td>\n",
       "      <td>58080</td>\n",
       "      <td>167.554650</td>\n",
       "      <td>0.361838</td>\n",
       "      <td>49</td>\n",
       "    </tr>\n",
       "    <tr>\n",
       "      <th>250</th>\n",
       "      <td>249</td>\n",
       "      <td>3023</td>\n",
       "      <td>167.381065</td>\n",
       "      <td>0.506866</td>\n",
       "      <td>7</td>\n",
       "    </tr>\n",
       "  </tbody>\n",
       "</table>\n",
       "</div>"
      ],
      "text/plain": [
       "     Topic    pvs  avg_time_on_page  avg_scroll  content_natid\n",
       "77      76   4481        186.355116    0.300981              8\n",
       "274    273  10207        181.667873    0.435570             22\n",
       "181    180   6063        178.787523    0.482136             12\n",
       "11      10  58080        167.554650    0.361838             49\n",
       "250    249   3023        167.381065    0.506866              7"
      ]
     },
     "execution_count": 28,
     "metadata": {},
     "output_type": "execute_result"
    }
   ],
   "source": [
    "train_calcs = final.groupby('Topic').agg({'pvs':'sum', 'avg_time_on_page':'mean', 'avg_scroll':'mean',\n",
    "                                        'content_natid':'nunique'}).reset_index()\n",
    "\n",
    "train_calcs.sort_values(\"avg_time_on_page\", ascending=False).head()"
   ]
  },
  {
   "cell_type": "code",
   "execution_count": 29,
   "metadata": {},
   "outputs": [],
   "source": [
    "# TEST FOR LESSER NOISE\n",
    "# final.to_csv(results_path+\"review_apr26_may02_trained_topics.csv\", index=False)\n",
    "# not saving again - refer to file shared for review for obs"
   ]
  },
  {
   "cell_type": "markdown",
   "metadata": {},
   "source": [
    "* Noise"
   ]
  },
  {
   "cell_type": "code",
   "execution_count": 30,
   "metadata": {},
   "outputs": [
    {
     "data": {
      "text/plain": [
       "33"
      ]
     },
     "execution_count": 30,
     "metadata": {},
     "output_type": "execute_result"
    }
   ],
   "source": [
    "# data shared for review -- trained topics = 323. Noise = 27% (1946/7238)\n",
    "# now -- trained topics = 328. Noise = 31% (2227/7238)\n",
    "\n",
    "round(full_train_topics[full_train_topics.Topic==-1].shape[0]/full_train_topics.shape[0]*100)"
   ]
  },
  {
   "cell_type": "code",
   "execution_count": 31,
   "metadata": {},
   "outputs": [
    {
     "data": {
      "text/html": [
       "<div>\n",
       "<style scoped>\n",
       "    .dataframe tbody tr th:only-of-type {\n",
       "        vertical-align: middle;\n",
       "    }\n",
       "\n",
       "    .dataframe tbody tr th {\n",
       "        vertical-align: top;\n",
       "    }\n",
       "\n",
       "    .dataframe thead th {\n",
       "        text-align: right;\n",
       "    }\n",
       "</style>\n",
       "<table border=\"1\" class=\"dataframe\">\n",
       "  <thead>\n",
       "    <tr style=\"text-align: right;\">\n",
       "      <th></th>\n",
       "      <th>Size</th>\n",
       "      <th>cos_min</th>\n",
       "      <th>cos_mean</th>\n",
       "    </tr>\n",
       "  </thead>\n",
       "  <tbody>\n",
       "    <tr>\n",
       "      <th>count</th>\n",
       "      <td>280.000000</td>\n",
       "      <td>280.000000</td>\n",
       "      <td>280.000000</td>\n",
       "    </tr>\n",
       "    <tr>\n",
       "      <th>mean</th>\n",
       "      <td>25.850000</td>\n",
       "      <td>0.754643</td>\n",
       "      <td>0.879500</td>\n",
       "    </tr>\n",
       "    <tr>\n",
       "      <th>std</th>\n",
       "      <td>140.567102</td>\n",
       "      <td>0.090644</td>\n",
       "      <td>0.034419</td>\n",
       "    </tr>\n",
       "    <tr>\n",
       "      <th>min</th>\n",
       "      <td>5.000000</td>\n",
       "      <td>-0.030000</td>\n",
       "      <td>0.720000</td>\n",
       "    </tr>\n",
       "    <tr>\n",
       "      <th>25%</th>\n",
       "      <td>8.000000</td>\n",
       "      <td>0.710000</td>\n",
       "      <td>0.860000</td>\n",
       "    </tr>\n",
       "    <tr>\n",
       "      <th>50%</th>\n",
       "      <td>13.000000</td>\n",
       "      <td>0.760000</td>\n",
       "      <td>0.880000</td>\n",
       "    </tr>\n",
       "    <tr>\n",
       "      <th>75%</th>\n",
       "      <td>22.000000</td>\n",
       "      <td>0.810000</td>\n",
       "      <td>0.900000</td>\n",
       "    </tr>\n",
       "    <tr>\n",
       "      <th>max</th>\n",
       "      <td>2357.000000</td>\n",
       "      <td>0.950000</td>\n",
       "      <td>0.970000</td>\n",
       "    </tr>\n",
       "  </tbody>\n",
       "</table>\n",
       "</div>"
      ],
      "text/plain": [
       "              Size     cos_min    cos_mean\n",
       "count   280.000000  280.000000  280.000000\n",
       "mean     25.850000    0.754643    0.879500\n",
       "std     140.567102    0.090644    0.034419\n",
       "min       5.000000   -0.030000    0.720000\n",
       "25%       8.000000    0.710000    0.860000\n",
       "50%      13.000000    0.760000    0.880000\n",
       "75%      22.000000    0.810000    0.900000\n",
       "max    2357.000000    0.950000    0.970000"
      ]
     },
     "execution_count": 31,
     "metadata": {},
     "output_type": "execute_result"
    }
   ],
   "source": [
    "topic_info[['Size', 'cos_min', 'cos_mean']].describe()"
   ]
  },
  {
   "cell_type": "markdown",
   "metadata": {},
   "source": [
    "### Opt-1 Prediction\n",
    "* same model predict on 7 days with repeating articles\n",
    "\n",
    "**Training data**\n",
    "\n",
    "* Date range 7 days -- Apr 26 (monday) till May 02 (sunday)\n",
    "\n",
    "* Eligible pool = articles with pvs threshold = 7,238 articles\n",
    "    * **Distinct topics including -1 for noise :: 328**\n",
    "\n",
    "**Prediction data**\n",
    "\n",
    "* Date range -- may 3 (monday) till May 09 (friday)\n",
    "* May 3 to May 9 repeating articles present\n",
    "* Eligible pool = articles with pvs > 100"
   ]
  },
  {
   "cell_type": "code",
   "execution_count": 32,
   "metadata": {},
   "outputs": [
    {
     "name": "stdout",
     "output_type": "stream",
     "text": [
      "UMAP(dens_frac=0.0, dens_lambda=0.0, min_dist=0.0, n_neighbors=12,\n",
      "     random_state=42)\n",
      "\n",
      "HDBSCAN(min_samples=5, prediction_data=True)\n"
     ]
    }
   ],
   "source": [
    "# umap_embeddings = joblib.load(\"./model/apr26_may2_train_umap_07192021.joblib\")\n",
    "# cluster = joblib.load(\"./model/apr26_may2_train_clusterer_07192021.joblib\")\n",
    "\n",
    "print(umap_embeddings)\n",
    "print()\n",
    "print(cluster)"
   ]
  },
  {
   "cell_type": "code",
   "execution_count": 33,
   "metadata": {},
   "outputs": [
    {
     "data": {
      "text/html": [
       "<div>\n",
       "<style scoped>\n",
       "    .dataframe tbody tr th:only-of-type {\n",
       "        vertical-align: middle;\n",
       "    }\n",
       "\n",
       "    .dataframe tbody tr th {\n",
       "        vertical-align: top;\n",
       "    }\n",
       "\n",
       "    .dataframe thead th {\n",
       "        text-align: right;\n",
       "    }\n",
       "</style>\n",
       "<table border=\"1\" class=\"dataframe\">\n",
       "  <thead>\n",
       "    <tr style=\"text-align: right;\">\n",
       "      <th></th>\n",
       "      <th>topic_num</th>\n",
       "      <th>topic_words</th>\n",
       "    </tr>\n",
       "  </thead>\n",
       "  <tbody>\n",
       "    <tr>\n",
       "      <th>0</th>\n",
       "      <td>-1</td>\n",
       "      <td>coffee, age, china, government, leaders, women</td>\n",
       "    </tr>\n",
       "    <tr>\n",
       "      <th>1</th>\n",
       "      <td>0</td>\n",
       "      <td>10 states, average annual, annual wage, salaries, occupational, therapist salary</td>\n",
       "    </tr>\n",
       "    <tr>\n",
       "      <th>2</th>\n",
       "      <td>1</td>\n",
       "      <td>kentucky derby, essential quality, horses, churchill downs, race, triple crown</td>\n",
       "    </tr>\n",
       "    <tr>\n",
       "      <th>3</th>\n",
       "      <td>2</td>\n",
       "      <td>million viewers, 000 viewers, fox news, msnbc, cable news, prime time</td>\n",
       "    </tr>\n",
       "    <tr>\n",
       "      <th>4</th>\n",
       "      <td>3</td>\n",
       "      <td>packers, quarterback, round, rodgers, nfl draft, green bay</td>\n",
       "    </tr>\n",
       "  </tbody>\n",
       "</table>\n",
       "</div>"
      ],
      "text/plain": [
       "   topic_num  \\\n",
       "0         -1   \n",
       "1          0   \n",
       "2          1   \n",
       "3          2   \n",
       "4          3   \n",
       "\n",
       "                                                                        topic_words  \n",
       "0                                    coffee, age, china, government, leaders, women  \n",
       "1  10 states, average annual, annual wage, salaries, occupational, therapist salary  \n",
       "2    kentucky derby, essential quality, horses, churchill downs, race, triple crown  \n",
       "3             million viewers, 000 viewers, fox news, msnbc, cable news, prime time  \n",
       "4                        packers, quarterback, round, rodgers, nfl draft, green bay  "
      ]
     },
     "execution_count": 33,
     "metadata": {},
     "output_type": "execute_result"
    }
   ],
   "source": [
    "top_n_words_df.head()"
   ]
  },
  {
   "cell_type": "code",
   "execution_count": 34,
   "metadata": {},
   "outputs": [],
   "source": [
    "def predict(umap_embeddings, cluster, embed_list, pred_df):\n",
    "    \n",
    "    # dimensionality reduction\n",
    "    pred_umap_embeddings = umap_embeddings.transform(embed_list)\n",
    "\n",
    "    print(\"Training input shape:\", umap_embeddings.embedding_.shape)\n",
    "    print(\"Prediction input shape:\", pred_umap_embeddings.shape) #takes a min\n",
    "    print()\n",
    "    \n",
    "    # predict\n",
    "    pred_test_labels, pred_strengths = hdbscan.approximate_predict(cluster, pred_umap_embeddings)\n",
    "    \n",
    "    # put topics in dataframe\n",
    "    pred_docs_df = pred_df[['clean_body']]\n",
    "    pred_docs_df.rename(columns={'clean_body':'Doc'}, inplace=True)\n",
    "    pred_docs_df[\"Topic\"] = pred_test_labels\n",
    "\n",
    "    print(\"Distinct topics including -1 for noise\", len(pred_docs_df.Topic.unique()))\n",
    "    \n",
    "    pred_topic_sizes = extract_topic_sizes(pred_docs_df)\n",
    "\n",
    "    # GENERATE TOPIC METRICS\n",
    "\n",
    "    # per topic - cos_min and cos_mean\n",
    "    pred_cossim_df = generate_all_cossim_metrics(pred_docs_df, pred_umap_embeddings)\n",
    "\n",
    "    # per topic - tier counts\n",
    "    tier_metric = pred_docs_df.join(pred_df[[\"tier1\"]])\n",
    "\n",
    "    iab_metric = tier_metric.groupby(\"Topic\").agg({\"tier1\": \n",
    "                                                   'nunique'}).round(2).reset_index().rename(columns = {'tier1': \n",
    "                                                                                                        'distinct_tier1s',\n",
    "                                                                                                        'Topic':\n",
    "                                                                                                        'topic_num'})\n",
    "\n",
    "    # combine topic, top words, cos and tier metrics\n",
    "    topic_info_pred = pd.merge(pd.merge(pred_topic_sizes, \n",
    "                                            pred_cossim_df, how=\"inner\", left_on=\"Topic\", right_on = \"topic_num\"), \n",
    "                                   iab_metric, on = \"topic_num\", how=\"inner\")\n",
    "\n",
    "    topic_info_pred.drop('Topic', axis=1, inplace=True)\n",
    "\n",
    "    # combine topic_info with topic names\n",
    "\n",
    "    topic_info_pred = pd.merge(topic_info_pred, top_n_words_df, how=\"left\", on=\"topic_num\").sort_values(\"topic_num\")\n",
    "    \n",
    "    # combine natural id inside docs_df\n",
    "\n",
    "    pred_docs_df = pd.merge(pred_docs_df, pred_df, how=\"left\", left_on=\"Doc\", right_on=\"clean_body\")\n",
    "    pred_docs_df.drop(\"clean_body\", axis=1, inplace=True)\n",
    "    \n",
    "    pred_full = pd.merge(pred_docs_df, \n",
    "         topic_info_pred, \n",
    "         how=\"left\", \n",
    "         left_on=\"Topic\", \n",
    "         right_on = \"topic_num\").drop('topic_num', axis=1)\n",
    "    \n",
    "    return pred_full, pred_docs_df, topic_info_pred, pred_strengths"
   ]
  },
  {
   "cell_type": "markdown",
   "metadata": {},
   "source": [
    "* **Predict new points/articles - May 3**"
   ]
  },
  {
   "cell_type": "code",
   "execution_count": 38,
   "metadata": {},
   "outputs": [
    {
     "name": "stdout",
     "output_type": "stream",
     "text": [
      "Training input shape: (7238, 2)\n",
      "Prediction input shape: (4199, 2)\n",
      "\n",
      "Distinct topics including -1 for noise 310\n",
      "Rows:  (1784, 15)\n",
      "Perc:  42\n",
      "\n",
      "time (mins):  0.13\n"
     ]
    },
    {
     "data": {
      "text/html": [
       "<div>\n",
       "<style scoped>\n",
       "    .dataframe tbody tr th:only-of-type {\n",
       "        vertical-align: middle;\n",
       "    }\n",
       "\n",
       "    .dataframe tbody tr th {\n",
       "        vertical-align: top;\n",
       "    }\n",
       "\n",
       "    .dataframe thead th {\n",
       "        text-align: right;\n",
       "    }\n",
       "</style>\n",
       "<table border=\"1\" class=\"dataframe\">\n",
       "  <thead>\n",
       "    <tr style=\"text-align: right;\">\n",
       "      <th></th>\n",
       "      <th>cos_min</th>\n",
       "      <th>cos_mean</th>\n",
       "      <th>distinct_tier1s</th>\n",
       "      <th>Size</th>\n",
       "    </tr>\n",
       "  </thead>\n",
       "  <tbody>\n",
       "    <tr>\n",
       "      <th>count</th>\n",
       "      <td>286.00</td>\n",
       "      <td>286.00</td>\n",
       "      <td>310.00</td>\n",
       "      <td>310.00</td>\n",
       "    </tr>\n",
       "    <tr>\n",
       "      <th>mean</th>\n",
       "      <td>1.00</td>\n",
       "      <td>1.00</td>\n",
       "      <td>3.04</td>\n",
       "      <td>13.55</td>\n",
       "    </tr>\n",
       "    <tr>\n",
       "      <th>std</th>\n",
       "      <td>0.04</td>\n",
       "      <td>0.00</td>\n",
       "      <td>2.37</td>\n",
       "      <td>101.23</td>\n",
       "    </tr>\n",
       "    <tr>\n",
       "      <th>min</th>\n",
       "      <td>0.37</td>\n",
       "      <td>0.95</td>\n",
       "      <td>1.00</td>\n",
       "      <td>1.00</td>\n",
       "    </tr>\n",
       "    <tr>\n",
       "      <th>25%</th>\n",
       "      <td>1.00</td>\n",
       "      <td>1.00</td>\n",
       "      <td>2.00</td>\n",
       "      <td>3.00</td>\n",
       "    </tr>\n",
       "    <tr>\n",
       "      <th>50%</th>\n",
       "      <td>1.00</td>\n",
       "      <td>1.00</td>\n",
       "      <td>3.00</td>\n",
       "      <td>5.00</td>\n",
       "    </tr>\n",
       "    <tr>\n",
       "      <th>75%</th>\n",
       "      <td>1.00</td>\n",
       "      <td>1.00</td>\n",
       "      <td>4.00</td>\n",
       "      <td>9.00</td>\n",
       "    </tr>\n",
       "    <tr>\n",
       "      <th>max</th>\n",
       "      <td>1.00</td>\n",
       "      <td>1.00</td>\n",
       "      <td>31.00</td>\n",
       "      <td>1784.00</td>\n",
       "    </tr>\n",
       "  </tbody>\n",
       "</table>\n",
       "</div>"
      ],
      "text/plain": [
       "       cos_min  cos_mean  distinct_tier1s     Size\n",
       "count   286.00    286.00           310.00   310.00\n",
       "mean      1.00      1.00             3.04    13.55\n",
       "std       0.04      0.00             2.37   101.23\n",
       "min       0.37      0.95             1.00     1.00\n",
       "25%       1.00      1.00             2.00     3.00\n",
       "50%       1.00      1.00             3.00     5.00\n",
       "75%       1.00      1.00             4.00     9.00\n",
       "max       1.00      1.00            31.00  1784.00"
      ]
     },
     "execution_count": 38,
     "metadata": {},
     "output_type": "execute_result"
    }
   ],
   "source": [
    "start = time.time()\n",
    "\n",
    "pred_may03_full, may03_docs_df, topic_info_may03, may03_strengths = predict(umap_embeddings, cluster, \n",
    "                                                                            may03_art_embed, may03) \n",
    "\n",
    "# NOISE\n",
    "print(\"Rows: \", pred_may03_full[pred_may03_full.Topic==-1].shape)\n",
    "print(\"Perc: \", round(pred_may03_full[pred_may03_full.Topic==-1].shape[0]/pred_may03_full.shape[0] * 100))\n",
    "\n",
    "end = time.time()\n",
    "\n",
    "print()\n",
    "print(\"time (mins): \", round((end - start)/60, 2)) \n",
    "\n",
    "topic_info_may03[['cos_min', 'cos_mean', 'distinct_tier1s', 'Size']].describe().apply(lambda x: round(x, 2))"
   ]
  },
  {
   "cell_type": "code",
   "execution_count": 35,
   "metadata": {},
   "outputs": [
    {
     "name": "stdout",
     "output_type": "stream",
     "text": [
      "Training input shape: (7238, 2)\n",
      "Prediction input shape: (4199, 2)\n",
      "\n",
      "Distinct topics including -1 for noise 267\n",
      "Rows:  (1920, 15)\n",
      "Perc:  46\n",
      "\n",
      "time (mins):  0.31\n"
     ]
    },
    {
     "data": {
      "text/html": [
       "<div>\n",
       "<style scoped>\n",
       "    .dataframe tbody tr th:only-of-type {\n",
       "        vertical-align: middle;\n",
       "    }\n",
       "\n",
       "    .dataframe tbody tr th {\n",
       "        vertical-align: top;\n",
       "    }\n",
       "\n",
       "    .dataframe thead th {\n",
       "        text-align: right;\n",
       "    }\n",
       "</style>\n",
       "<table border=\"1\" class=\"dataframe\">\n",
       "  <thead>\n",
       "    <tr style=\"text-align: right;\">\n",
       "      <th></th>\n",
       "      <th>cos_min</th>\n",
       "      <th>cos_mean</th>\n",
       "      <th>distinct_tier1s</th>\n",
       "      <th>Size</th>\n",
       "    </tr>\n",
       "  </thead>\n",
       "  <tbody>\n",
       "    <tr>\n",
       "      <th>count</th>\n",
       "      <td>245.00</td>\n",
       "      <td>245.00</td>\n",
       "      <td>267.00</td>\n",
       "      <td>267.00</td>\n",
       "    </tr>\n",
       "    <tr>\n",
       "      <th>mean</th>\n",
       "      <td>1.00</td>\n",
       "      <td>1.00</td>\n",
       "      <td>3.10</td>\n",
       "      <td>15.73</td>\n",
       "    </tr>\n",
       "    <tr>\n",
       "      <th>std</th>\n",
       "      <td>0.05</td>\n",
       "      <td>0.00</td>\n",
       "      <td>2.55</td>\n",
       "      <td>117.27</td>\n",
       "    </tr>\n",
       "    <tr>\n",
       "      <th>min</th>\n",
       "      <td>0.16</td>\n",
       "      <td>0.95</td>\n",
       "      <td>1.00</td>\n",
       "      <td>1.00</td>\n",
       "    </tr>\n",
       "    <tr>\n",
       "      <th>25%</th>\n",
       "      <td>1.00</td>\n",
       "      <td>1.00</td>\n",
       "      <td>2.00</td>\n",
       "      <td>3.00</td>\n",
       "    </tr>\n",
       "    <tr>\n",
       "      <th>50%</th>\n",
       "      <td>1.00</td>\n",
       "      <td>1.00</td>\n",
       "      <td>3.00</td>\n",
       "      <td>6.00</td>\n",
       "    </tr>\n",
       "    <tr>\n",
       "      <th>75%</th>\n",
       "      <td>1.00</td>\n",
       "      <td>1.00</td>\n",
       "      <td>4.00</td>\n",
       "      <td>11.00</td>\n",
       "    </tr>\n",
       "    <tr>\n",
       "      <th>max</th>\n",
       "      <td>1.00</td>\n",
       "      <td>1.00</td>\n",
       "      <td>31.00</td>\n",
       "      <td>1920.00</td>\n",
       "    </tr>\n",
       "  </tbody>\n",
       "</table>\n",
       "</div>"
      ],
      "text/plain": [
       "       cos_min  cos_mean  distinct_tier1s     Size\n",
       "count   245.00    245.00           267.00   267.00\n",
       "mean      1.00      1.00             3.10    15.73\n",
       "std       0.05      0.00             2.55   117.27\n",
       "min       0.16      0.95             1.00     1.00\n",
       "25%       1.00      1.00             2.00     3.00\n",
       "50%       1.00      1.00             3.00     6.00\n",
       "75%       1.00      1.00             4.00    11.00\n",
       "max       1.00      1.00            31.00  1920.00"
      ]
     },
     "execution_count": 35,
     "metadata": {},
     "output_type": "execute_result"
    }
   ],
   "source": [
    "start = time.time()\n",
    "\n",
    "pred_may03_full, may03_docs_df, topic_info_may03, may03_strengths = predict(umap_embeddings, cluster, \n",
    "                                                                            may03_art_embed, may03) \n",
    "\n",
    "# NOISE\n",
    "print(\"Rows: \", pred_may03_full[pred_may03_full.Topic==-1].shape)\n",
    "print(\"Perc: \", round(pred_may03_full[pred_may03_full.Topic==-1].shape[0]/pred_may03_full.shape[0] * 100))\n",
    "\n",
    "end = time.time()\n",
    "\n",
    "print()\n",
    "print(\"time (mins): \", round((end - start)/60, 2)) \n",
    "\n",
    "topic_info_may03[['cos_min', 'cos_mean', 'distinct_tier1s', 'Size']].describe().apply(lambda x: round(x, 2))"
   ]
  },
  {
   "cell_type": "code",
   "execution_count": 39,
   "metadata": {},
   "outputs": [
    {
     "name": "stdout",
     "output_type": "stream",
     "text": [
      "(4199, 15)\n",
      "(3672, 15)\n",
      "(527, 15)\n",
      "\n",
      "% Repeating from training 0.87\n",
      "% Repeating from training 0.13\n"
     ]
    }
   ],
   "source": [
    "m3_in_train = pred_may03_full[pred_may03_full.content_natid.isin(full_train_topics.content_natid)]\n",
    "m3_not_in_train = pred_may03_full[~pred_may03_full.content_natid.isin(full_train_topics.content_natid)]\n",
    "\n",
    "print(pred_may03_full.shape)\n",
    "print(m3_in_train.shape)\n",
    "print(m3_not_in_train.shape)\n",
    "\n",
    "print()\n",
    "\n",
    "print(\"% Repeating from training\", round(m3_in_train.shape[0]/pred_may03_full.shape[0], 2))\n",
    "print(\"% Repeating from training\", round(m3_not_in_train.shape[0]/pred_may03_full.shape[0], 2))"
   ]
  },
  {
   "cell_type": "code",
   "execution_count": 40,
   "metadata": {},
   "outputs": [
    {
     "name": "stdout",
     "output_type": "stream",
     "text": [
      "In train - got topic 0.56\n",
      "In train - got noise 0.44\n"
     ]
    }
   ],
   "source": [
    "print(\"In train - got topic\", round(m3_in_train[m3_in_train.Topic!=-1].shape[0]/m3_in_train.shape[0], 2))\n",
    "print(\"In train - got noise\", round(m3_in_train[m3_in_train.Topic==-1].shape[0]/m3_in_train.shape[0], 2))"
   ]
  },
  {
   "cell_type": "code",
   "execution_count": 41,
   "metadata": {},
   "outputs": [
    {
     "name": "stdout",
     "output_type": "stream",
     "text": [
      "Not in train - got topic 0.39\n",
      "Not in train - got noise 0.61\n"
     ]
    }
   ],
   "source": [
    "print(\"Not in train - got topic\", round(m3_not_in_train[m3_not_in_train.Topic!=-1].shape[0]/m3_not_in_train.shape[0], 2))\n",
    "print(\"Not in train - got noise\", round(m3_not_in_train[m3_not_in_train.Topic==-1].shape[0]/m3_not_in_train.shape[0], 2))"
   ]
  },
  {
   "cell_type": "code",
   "execution_count": 45,
   "metadata": {},
   "outputs": [
    {
     "data": {
      "text/plain": [
       "(3672, 7)"
      ]
     },
     "execution_count": 45,
     "metadata": {},
     "output_type": "execute_result"
    }
   ],
   "source": [
    "col= ['content_natid', 'Doc', 'Topic', 'topic_words']\n",
    "\n",
    "m3_train = pd.merge(pred_may03_full[col], full_train_topics[col], on=\"content_natid\", how=\"inner\")\n",
    "m3_train.shape"
   ]
  },
  {
   "cell_type": "code",
   "execution_count": 50,
   "metadata": {},
   "outputs": [
    {
     "data": {
      "text/plain": [
       "(2357, 11)"
      ]
     },
     "execution_count": 50,
     "metadata": {},
     "output_type": "execute_result"
    }
   ],
   "source": [
    "full_train_topics[full_train_topics.Topic==-1].shape"
   ]
  },
  {
   "cell_type": "code",
   "execution_count": 46,
   "metadata": {},
   "outputs": [
    {
     "name": "stdout",
     "output_type": "stream",
     "text": [
      "common - both have topics (1886, 7)\n",
      "common - training noise, pred noise (1793, 7) 0.89\n",
      "common - training noise, pred noise (93, 7) 0.11\n"
     ]
    }
   ],
   "source": [
    "print(\"common - both have topics\", m3_train[(m3_train.Topic_x != -1) & (m3_train.Topic_y != -1)].shape)\n",
    "print(\"common - training noise, pred noise\", m3_train[(m3_train.Topic_x != -1) & (m3_train.Topic_y != -1) \n",
    "                                                      & (m3_train.Topic_x == m3_train.Topic_y)].shape, round(1989/2224, 2))\n",
    "\n",
    "print(\"common - training noise, pred noise\", m3_train[(m3_train.Topic_x != -1) & (m3_train.Topic_y != -1) \n",
    "                                                      & (m3_train.Topic_x != m3_train.Topic_y)].shape, round(235/2224, 2))"
   ]
  },
  {
   "cell_type": "code",
   "execution_count": 48,
   "metadata": {},
   "outputs": [
    {
     "name": "stdout",
     "output_type": "stream",
     "text": [
      "either has noise (1786, 7)\n",
      "common - training noise (1170, 7)\n",
      "common - training noise, pred non-noise (186, 7)\n",
      "common - training noise, pred noise (984, 7)\n"
     ]
    }
   ],
   "source": [
    "print(\"either has noise\",  m3_train[(m3_train.Topic_x == -1) | (m3_train.Topic_y == -1)].shape)\n",
    "\n",
    "print(\"common - training noise\", m3_train[m3_train.Topic_y==-1].shape)\n",
    "print(\"common - training noise, pred non-noise\", m3_train[(m3_train.Topic_x != -1) & (m3_train.Topic_y == -1)].shape)\n",
    "print(\"common - training noise, pred noise\", m3_train[(m3_train.Topic_x == -1) & (m3_train.Topic_y == -1)].shape)"
   ]
  },
  {
   "cell_type": "code",
   "execution_count": 49,
   "metadata": {},
   "outputs": [
    {
     "name": "stdout",
     "output_type": "stream",
     "text": [
      "common - may 3 pred noise (1600, 7)\n",
      "common - may 3 pred noise, training non-noise (616, 7)\n",
      "common - may 3 pred noise, training noise (984, 7)\n"
     ]
    }
   ],
   "source": [
    "print(\"common - may 3 pred noise\", m3_train[m3_train.Topic_x==-1].shape)\n",
    "print(\"common - may 3 pred noise, training non-noise\", m3_train[(m3_train.Topic_x == -1) & (m3_train.Topic_y != -1)].shape)\n",
    "print(\"common - may 3 pred noise, training noise\", m3_train[(m3_train.Topic_x == -1) & (m3_train.Topic_y == -1)].shape)"
   ]
  },
  {
   "cell_type": "code",
   "execution_count": 39,
   "metadata": {},
   "outputs": [
    {
     "data": {
      "image/png": "[encoded data removed]",
      "text/plain": [
       "<Figure size 432x288 with 1 Axes>"
      ]
     },
     "metadata": {},
     "output_type": "display_data"
    }
   ],
   "source": [
    "plt.hist(may03_strengths, bins='auto')\n",
    "plt.show()"
   ]
  },
  {
   "cell_type": "markdown",
   "metadata": {},
   "source": [
    "* **Predict new points/articles - May 04**"
   ]
  },
  {
   "cell_type": "code",
   "execution_count": 40,
   "metadata": {},
   "outputs": [
    {
     "name": "stdout",
     "output_type": "stream",
     "text": [
      "Training input shape: (7238, 2)\n",
      "Prediction input shape: (4223, 2)\n",
      "\n",
      "Distinct topics including -1 for noise 298\n",
      "Rows:  (1964, 15)\n",
      "Perc:  47\n",
      "time (mins):  0.14\n"
     ]
    }
   ],
   "source": [
    "start = time.time()\n",
    "\n",
    "pred_may04_full, may04_docs_df, topic_info_may04, may04_strengths = predict(umap_embeddings, cluster, \n",
    "                                                                            may04_art_embed, may04) \n",
    "\n",
    "# NOISE\n",
    "print(\"Rows: \", pred_may04_full[pred_may04_full.Topic==-1].shape)\n",
    "print(\"Perc: \", round(pred_may04_full[pred_may04_full.Topic==-1].shape[0]/pred_may04_full.shape[0] * 100))\n",
    "\n",
    "end = time.time()\n",
    "print(\"time (mins): \", round((end - start)/60, 2)) "
   ]
  },
  {
   "cell_type": "markdown",
   "metadata": {},
   "source": [
    "* **Predict new points/articles - May 05**"
   ]
  },
  {
   "cell_type": "code",
   "execution_count": 41,
   "metadata": {},
   "outputs": [
    {
     "name": "stdout",
     "output_type": "stream",
     "text": [
      "Training input shape: (7238, 2)\n",
      "Prediction input shape: (4160, 2)\n",
      "\n",
      "Distinct topics including -1 for noise 311\n",
      "Rows:  (1797, 15)\n",
      "Perc:  43\n",
      "time (mins):  0.12\n"
     ]
    },
    {
     "data": {
      "text/html": [
       "<div>\n",
       "<style scoped>\n",
       "    .dataframe tbody tr th:only-of-type {\n",
       "        vertical-align: middle;\n",
       "    }\n",
       "\n",
       "    .dataframe tbody tr th {\n",
       "        vertical-align: top;\n",
       "    }\n",
       "\n",
       "    .dataframe thead th {\n",
       "        text-align: right;\n",
       "    }\n",
       "</style>\n",
       "<table border=\"1\" class=\"dataframe\">\n",
       "  <thead>\n",
       "    <tr style=\"text-align: right;\">\n",
       "      <th></th>\n",
       "      <th>cos_min</th>\n",
       "      <th>cos_mean</th>\n",
       "      <th>distinct_tier1s</th>\n",
       "      <th>Size</th>\n",
       "    </tr>\n",
       "  </thead>\n",
       "  <tbody>\n",
       "    <tr>\n",
       "      <th>count</th>\n",
       "      <td>269.00</td>\n",
       "      <td>269.00</td>\n",
       "      <td>311.00</td>\n",
       "      <td>311.00</td>\n",
       "    </tr>\n",
       "    <tr>\n",
       "      <th>mean</th>\n",
       "      <td>1.00</td>\n",
       "      <td>1.00</td>\n",
       "      <td>3.04</td>\n",
       "      <td>13.38</td>\n",
       "    </tr>\n",
       "    <tr>\n",
       "      <th>std</th>\n",
       "      <td>0.04</td>\n",
       "      <td>0.00</td>\n",
       "      <td>2.48</td>\n",
       "      <td>101.81</td>\n",
       "    </tr>\n",
       "    <tr>\n",
       "      <th>min</th>\n",
       "      <td>0.35</td>\n",
       "      <td>0.95</td>\n",
       "      <td>1.00</td>\n",
       "      <td>1.00</td>\n",
       "    </tr>\n",
       "    <tr>\n",
       "      <th>25%</th>\n",
       "      <td>1.00</td>\n",
       "      <td>1.00</td>\n",
       "      <td>2.00</td>\n",
       "      <td>3.00</td>\n",
       "    </tr>\n",
       "    <tr>\n",
       "      <th>50%</th>\n",
       "      <td>1.00</td>\n",
       "      <td>1.00</td>\n",
       "      <td>3.00</td>\n",
       "      <td>5.00</td>\n",
       "    </tr>\n",
       "    <tr>\n",
       "      <th>75%</th>\n",
       "      <td>1.00</td>\n",
       "      <td>1.00</td>\n",
       "      <td>4.00</td>\n",
       "      <td>9.00</td>\n",
       "    </tr>\n",
       "    <tr>\n",
       "      <th>max</th>\n",
       "      <td>1.00</td>\n",
       "      <td>1.00</td>\n",
       "      <td>31.00</td>\n",
       "      <td>1797.00</td>\n",
       "    </tr>\n",
       "  </tbody>\n",
       "</table>\n",
       "</div>"
      ],
      "text/plain": [
       "       cos_min  cos_mean  distinct_tier1s     Size\n",
       "count   269.00    269.00           311.00   311.00\n",
       "mean      1.00      1.00             3.04    13.38\n",
       "std       0.04      0.00             2.48   101.81\n",
       "min       0.35      0.95             1.00     1.00\n",
       "25%       1.00      1.00             2.00     3.00\n",
       "50%       1.00      1.00             3.00     5.00\n",
       "75%       1.00      1.00             4.00     9.00\n",
       "max       1.00      1.00            31.00  1797.00"
      ]
     },
     "execution_count": 41,
     "metadata": {},
     "output_type": "execute_result"
    }
   ],
   "source": [
    "start = time.time()\n",
    "\n",
    "pred_may05_full, may05_docs_df, topic_info_may05, may05_strengths = predict(umap_embeddings, cluster, \n",
    "                                                                            may05_art_embed, may05) \n",
    "\n",
    "# NOISE\n",
    "print(\"Rows: \", pred_may05_full[pred_may05_full.Topic==-1].shape)\n",
    "print(\"Perc: \", round(pred_may05_full[pred_may05_full.Topic==-1].shape[0]/pred_may05_full.shape[0] * 100))\n",
    "\n",
    "end = time.time()\n",
    "print(\"time (mins): \", round((end - start)/60, 2)) \n",
    "\n",
    "topic_info_may05[['cos_min', 'cos_mean', 'distinct_tier1s', 'Size']].describe().apply(lambda x: round(x, 2))"
   ]
  },
  {
   "cell_type": "markdown",
   "metadata": {},
   "source": [
    "* **Predict new points/articles - May 06**"
   ]
  },
  {
   "cell_type": "code",
   "execution_count": 42,
   "metadata": {},
   "outputs": [
    {
     "name": "stdout",
     "output_type": "stream",
     "text": [
      "Training input shape: (7238, 2)\n",
      "Prediction input shape: (4063, 2)\n",
      "\n",
      "Distinct topics including -1 for noise 292\n",
      "Rows:  (1950, 15)\n",
      "Perc:  48\n",
      "time (mins):  0.13\n"
     ]
    },
    {
     "data": {
      "text/html": [
       "<div>\n",
       "<style scoped>\n",
       "    .dataframe tbody tr th:only-of-type {\n",
       "        vertical-align: middle;\n",
       "    }\n",
       "\n",
       "    .dataframe tbody tr th {\n",
       "        vertical-align: top;\n",
       "    }\n",
       "\n",
       "    .dataframe thead th {\n",
       "        text-align: right;\n",
       "    }\n",
       "</style>\n",
       "<table border=\"1\" class=\"dataframe\">\n",
       "  <thead>\n",
       "    <tr style=\"text-align: right;\">\n",
       "      <th></th>\n",
       "      <th>cos_min</th>\n",
       "      <th>cos_mean</th>\n",
       "      <th>distinct_tier1s</th>\n",
       "      <th>Size</th>\n",
       "    </tr>\n",
       "  </thead>\n",
       "  <tbody>\n",
       "    <tr>\n",
       "      <th>count</th>\n",
       "      <td>247.00</td>\n",
       "      <td>247.00</td>\n",
       "      <td>292.00</td>\n",
       "      <td>292.00</td>\n",
       "    </tr>\n",
       "    <tr>\n",
       "      <th>mean</th>\n",
       "      <td>1.00</td>\n",
       "      <td>1.00</td>\n",
       "      <td>3.01</td>\n",
       "      <td>13.91</td>\n",
       "    </tr>\n",
       "    <tr>\n",
       "      <th>std</th>\n",
       "      <td>0.04</td>\n",
       "      <td>0.00</td>\n",
       "      <td>2.51</td>\n",
       "      <td>113.95</td>\n",
       "    </tr>\n",
       "    <tr>\n",
       "      <th>min</th>\n",
       "      <td>0.34</td>\n",
       "      <td>0.94</td>\n",
       "      <td>1.00</td>\n",
       "      <td>1.00</td>\n",
       "    </tr>\n",
       "    <tr>\n",
       "      <th>25%</th>\n",
       "      <td>1.00</td>\n",
       "      <td>1.00</td>\n",
       "      <td>1.00</td>\n",
       "      <td>2.00</td>\n",
       "    </tr>\n",
       "    <tr>\n",
       "      <th>50%</th>\n",
       "      <td>1.00</td>\n",
       "      <td>1.00</td>\n",
       "      <td>3.00</td>\n",
       "      <td>5.00</td>\n",
       "    </tr>\n",
       "    <tr>\n",
       "      <th>75%</th>\n",
       "      <td>1.00</td>\n",
       "      <td>1.00</td>\n",
       "      <td>4.00</td>\n",
       "      <td>9.25</td>\n",
       "    </tr>\n",
       "    <tr>\n",
       "      <th>max</th>\n",
       "      <td>1.00</td>\n",
       "      <td>1.00</td>\n",
       "      <td>31.00</td>\n",
       "      <td>1950.00</td>\n",
       "    </tr>\n",
       "  </tbody>\n",
       "</table>\n",
       "</div>"
      ],
      "text/plain": [
       "       cos_min  cos_mean  distinct_tier1s     Size\n",
       "count   247.00    247.00           292.00   292.00\n",
       "mean      1.00      1.00             3.01    13.91\n",
       "std       0.04      0.00             2.51   113.95\n",
       "min       0.34      0.94             1.00     1.00\n",
       "25%       1.00      1.00             1.00     2.00\n",
       "50%       1.00      1.00             3.00     5.00\n",
       "75%       1.00      1.00             4.00     9.25\n",
       "max       1.00      1.00            31.00  1950.00"
      ]
     },
     "execution_count": 42,
     "metadata": {},
     "output_type": "execute_result"
    }
   ],
   "source": [
    "start = time.time()\n",
    "\n",
    "pred_may06_full, may06_docs_df, topic_info_may06, may06_strengths = predict(umap_embeddings, cluster, \n",
    "                                                                            may06_art_embed, may06) \n",
    "\n",
    "# NOISE\n",
    "print(\"Rows: \", pred_may06_full[pred_may06_full.Topic==-1].shape)\n",
    "print(\"Perc: \", round(pred_may06_full[pred_may06_full.Topic==-1].shape[0]/pred_may06_full.shape[0] * 100))\n",
    "\n",
    "end = time.time()\n",
    "print(\"time (mins): \", round((end - start)/60, 2)) \n",
    "\n",
    "topic_info_may06[['cos_min', 'cos_mean', 'distinct_tier1s', 'Size']].describe().apply(lambda x: round(x, 2))"
   ]
  },
  {
   "cell_type": "markdown",
   "metadata": {},
   "source": [
    "* **Predict new points/articles - May 07**"
   ]
  },
  {
   "cell_type": "code",
   "execution_count": 43,
   "metadata": {},
   "outputs": [
    {
     "name": "stdout",
     "output_type": "stream",
     "text": [
      "Training input shape: (7238, 2)\n",
      "Prediction input shape: (3630, 2)\n",
      "\n",
      "Distinct topics including -1 for noise 287\n",
      "Rows:  (1676, 15)\n",
      "Perc:  46\n",
      "time (mins):  0.13\n"
     ]
    },
    {
     "data": {
      "text/html": [
       "<div>\n",
       "<style scoped>\n",
       "    .dataframe tbody tr th:only-of-type {\n",
       "        vertical-align: middle;\n",
       "    }\n",
       "\n",
       "    .dataframe tbody tr th {\n",
       "        vertical-align: top;\n",
       "    }\n",
       "\n",
       "    .dataframe thead th {\n",
       "        text-align: right;\n",
       "    }\n",
       "</style>\n",
       "<table border=\"1\" class=\"dataframe\">\n",
       "  <thead>\n",
       "    <tr style=\"text-align: right;\">\n",
       "      <th></th>\n",
       "      <th>cos_min</th>\n",
       "      <th>cos_mean</th>\n",
       "      <th>distinct_tier1s</th>\n",
       "      <th>Size</th>\n",
       "    </tr>\n",
       "  </thead>\n",
       "  <tbody>\n",
       "    <tr>\n",
       "      <th>count</th>\n",
       "      <td>244.00</td>\n",
       "      <td>244.00</td>\n",
       "      <td>287.00</td>\n",
       "      <td>287.00</td>\n",
       "    </tr>\n",
       "    <tr>\n",
       "      <th>mean</th>\n",
       "      <td>1.00</td>\n",
       "      <td>1.00</td>\n",
       "      <td>2.89</td>\n",
       "      <td>12.65</td>\n",
       "    </tr>\n",
       "    <tr>\n",
       "      <th>std</th>\n",
       "      <td>0.04</td>\n",
       "      <td>0.00</td>\n",
       "      <td>2.41</td>\n",
       "      <td>98.79</td>\n",
       "    </tr>\n",
       "    <tr>\n",
       "      <th>min</th>\n",
       "      <td>0.32</td>\n",
       "      <td>0.94</td>\n",
       "      <td>1.00</td>\n",
       "      <td>1.00</td>\n",
       "    </tr>\n",
       "    <tr>\n",
       "      <th>25%</th>\n",
       "      <td>1.00</td>\n",
       "      <td>1.00</td>\n",
       "      <td>1.00</td>\n",
       "      <td>2.00</td>\n",
       "    </tr>\n",
       "    <tr>\n",
       "      <th>50%</th>\n",
       "      <td>1.00</td>\n",
       "      <td>1.00</td>\n",
       "      <td>2.00</td>\n",
       "      <td>5.00</td>\n",
       "    </tr>\n",
       "    <tr>\n",
       "      <th>75%</th>\n",
       "      <td>1.00</td>\n",
       "      <td>1.00</td>\n",
       "      <td>4.00</td>\n",
       "      <td>8.00</td>\n",
       "    </tr>\n",
       "    <tr>\n",
       "      <th>max</th>\n",
       "      <td>1.00</td>\n",
       "      <td>1.00</td>\n",
       "      <td>30.00</td>\n",
       "      <td>1676.00</td>\n",
       "    </tr>\n",
       "  </tbody>\n",
       "</table>\n",
       "</div>"
      ],
      "text/plain": [
       "       cos_min  cos_mean  distinct_tier1s     Size\n",
       "count   244.00    244.00           287.00   287.00\n",
       "mean      1.00      1.00             2.89    12.65\n",
       "std       0.04      0.00             2.41    98.79\n",
       "min       0.32      0.94             1.00     1.00\n",
       "25%       1.00      1.00             1.00     2.00\n",
       "50%       1.00      1.00             2.00     5.00\n",
       "75%       1.00      1.00             4.00     8.00\n",
       "max       1.00      1.00            30.00  1676.00"
      ]
     },
     "execution_count": 43,
     "metadata": {},
     "output_type": "execute_result"
    }
   ],
   "source": [
    "start = time.time()\n",
    "\n",
    "pred_may07_full, may07_docs_df, topic_info_may07, may07_strengths = predict(umap_embeddings, cluster, \n",
    "                                                                            may07_art_embed, may07) \n",
    "\n",
    "# NOISE\n",
    "print(\"Rows: \", pred_may07_full[pred_may07_full.Topic==-1].shape)\n",
    "print(\"Perc: \", round(pred_may07_full[pred_may07_full.Topic==-1].shape[0]/pred_may07_full.shape[0] * 100))\n",
    "\n",
    "end = time.time()\n",
    "print(\"time (mins): \", round((end - start)/60, 2)) \n",
    "\n",
    "topic_info_may07[['cos_min', 'cos_mean', 'distinct_tier1s', 'Size']].describe().apply(lambda x: round(x, 2))"
   ]
  },
  {
   "cell_type": "markdown",
   "metadata": {},
   "source": [
    "* **Predict new points/articles - May 08**"
   ]
  },
  {
   "cell_type": "code",
   "execution_count": 44,
   "metadata": {},
   "outputs": [
    {
     "name": "stdout",
     "output_type": "stream",
     "text": [
      "Training input shape: (7238, 2)\n",
      "Prediction input shape: (3025, 2)\n",
      "\n",
      "Distinct topics including -1 for noise 277\n",
      "Rows:  (1379, 15)\n",
      "Perc:  46\n",
      "time (mins):  0.11\n"
     ]
    },
    {
     "data": {
      "text/html": [
       "<div>\n",
       "<style scoped>\n",
       "    .dataframe tbody tr th:only-of-type {\n",
       "        vertical-align: middle;\n",
       "    }\n",
       "\n",
       "    .dataframe tbody tr th {\n",
       "        vertical-align: top;\n",
       "    }\n",
       "\n",
       "    .dataframe thead th {\n",
       "        text-align: right;\n",
       "    }\n",
       "</style>\n",
       "<table border=\"1\" class=\"dataframe\">\n",
       "  <thead>\n",
       "    <tr style=\"text-align: right;\">\n",
       "      <th></th>\n",
       "      <th>cos_min</th>\n",
       "      <th>cos_mean</th>\n",
       "      <th>distinct_tier1s</th>\n",
       "      <th>Size</th>\n",
       "    </tr>\n",
       "  </thead>\n",
       "  <tbody>\n",
       "    <tr>\n",
       "      <th>count</th>\n",
       "      <td>218.00</td>\n",
       "      <td>218.00</td>\n",
       "      <td>277.00</td>\n",
       "      <td>277.00</td>\n",
       "    </tr>\n",
       "    <tr>\n",
       "      <th>mean</th>\n",
       "      <td>1.00</td>\n",
       "      <td>1.00</td>\n",
       "      <td>2.66</td>\n",
       "      <td>10.92</td>\n",
       "    </tr>\n",
       "    <tr>\n",
       "      <th>std</th>\n",
       "      <td>0.04</td>\n",
       "      <td>0.00</td>\n",
       "      <td>2.30</td>\n",
       "      <td>82.77</td>\n",
       "    </tr>\n",
       "    <tr>\n",
       "      <th>min</th>\n",
       "      <td>0.36</td>\n",
       "      <td>0.94</td>\n",
       "      <td>1.00</td>\n",
       "      <td>1.00</td>\n",
       "    </tr>\n",
       "    <tr>\n",
       "      <th>25%</th>\n",
       "      <td>1.00</td>\n",
       "      <td>1.00</td>\n",
       "      <td>1.00</td>\n",
       "      <td>2.00</td>\n",
       "    </tr>\n",
       "    <tr>\n",
       "      <th>50%</th>\n",
       "      <td>1.00</td>\n",
       "      <td>1.00</td>\n",
       "      <td>2.00</td>\n",
       "      <td>4.00</td>\n",
       "    </tr>\n",
       "    <tr>\n",
       "      <th>75%</th>\n",
       "      <td>1.00</td>\n",
       "      <td>1.00</td>\n",
       "      <td>3.00</td>\n",
       "      <td>7.00</td>\n",
       "    </tr>\n",
       "    <tr>\n",
       "      <th>max</th>\n",
       "      <td>1.00</td>\n",
       "      <td>1.00</td>\n",
       "      <td>29.00</td>\n",
       "      <td>1379.00</td>\n",
       "    </tr>\n",
       "  </tbody>\n",
       "</table>\n",
       "</div>"
      ],
      "text/plain": [
       "       cos_min  cos_mean  distinct_tier1s     Size\n",
       "count   218.00    218.00           277.00   277.00\n",
       "mean      1.00      1.00             2.66    10.92\n",
       "std       0.04      0.00             2.30    82.77\n",
       "min       0.36      0.94             1.00     1.00\n",
       "25%       1.00      1.00             1.00     2.00\n",
       "50%       1.00      1.00             2.00     4.00\n",
       "75%       1.00      1.00             3.00     7.00\n",
       "max       1.00      1.00            29.00  1379.00"
      ]
     },
     "execution_count": 44,
     "metadata": {},
     "output_type": "execute_result"
    }
   ],
   "source": [
    "start = time.time()\n",
    "\n",
    "pred_may08_full, may08_docs_df, topic_info_may08, may08_strengths = predict(umap_embeddings, cluster, \n",
    "                                                                            may08_art_embed, may08) \n",
    "\n",
    "# NOISE\n",
    "print(\"Rows: \", pred_may08_full[pred_may08_full.Topic==-1].shape)\n",
    "print(\"Perc: \", round(pred_may08_full[pred_may08_full.Topic==-1].shape[0]/pred_may08_full.shape[0] * 100))\n",
    "\n",
    "end = time.time()\n",
    "print(\"time (mins): \", round((end - start)/60, 2)) \n",
    "\n",
    "topic_info_may08[['cos_min', 'cos_mean', 'distinct_tier1s', 'Size']].describe().apply(lambda x: round(x, 2))"
   ]
  },
  {
   "cell_type": "markdown",
   "metadata": {},
   "source": [
    "* **Predict new points/articles - May 09**"
   ]
  },
  {
   "cell_type": "code",
   "execution_count": 45,
   "metadata": {},
   "outputs": [
    {
     "name": "stdout",
     "output_type": "stream",
     "text": [
      "Training input shape: (7238, 2)\n",
      "Prediction input shape: (3231, 2)\n",
      "\n",
      "Distinct topics including -1 for noise 281\n",
      "Rows:  (1509, 15)\n",
      "Perc:  47\n",
      "time (mins):  0.11\n"
     ]
    },
    {
     "data": {
      "text/html": [
       "<div>\n",
       "<style scoped>\n",
       "    .dataframe tbody tr th:only-of-type {\n",
       "        vertical-align: middle;\n",
       "    }\n",
       "\n",
       "    .dataframe tbody tr th {\n",
       "        vertical-align: top;\n",
       "    }\n",
       "\n",
       "    .dataframe thead th {\n",
       "        text-align: right;\n",
       "    }\n",
       "</style>\n",
       "<table border=\"1\" class=\"dataframe\">\n",
       "  <thead>\n",
       "    <tr style=\"text-align: right;\">\n",
       "      <th></th>\n",
       "      <th>cos_min</th>\n",
       "      <th>cos_mean</th>\n",
       "      <th>distinct_tier1s</th>\n",
       "      <th>Size</th>\n",
       "    </tr>\n",
       "  </thead>\n",
       "  <tbody>\n",
       "    <tr>\n",
       "      <th>count</th>\n",
       "      <td>229.00</td>\n",
       "      <td>229.00</td>\n",
       "      <td>281.00</td>\n",
       "      <td>281.00</td>\n",
       "    </tr>\n",
       "    <tr>\n",
       "      <th>mean</th>\n",
       "      <td>1.00</td>\n",
       "      <td>1.00</td>\n",
       "      <td>2.69</td>\n",
       "      <td>11.50</td>\n",
       "    </tr>\n",
       "    <tr>\n",
       "      <th>std</th>\n",
       "      <td>0.04</td>\n",
       "      <td>0.00</td>\n",
       "      <td>2.37</td>\n",
       "      <td>89.91</td>\n",
       "    </tr>\n",
       "    <tr>\n",
       "      <th>min</th>\n",
       "      <td>0.35</td>\n",
       "      <td>0.94</td>\n",
       "      <td>1.00</td>\n",
       "      <td>1.00</td>\n",
       "    </tr>\n",
       "    <tr>\n",
       "      <th>25%</th>\n",
       "      <td>1.00</td>\n",
       "      <td>1.00</td>\n",
       "      <td>1.00</td>\n",
       "      <td>2.00</td>\n",
       "    </tr>\n",
       "    <tr>\n",
       "      <th>50%</th>\n",
       "      <td>1.00</td>\n",
       "      <td>1.00</td>\n",
       "      <td>2.00</td>\n",
       "      <td>4.00</td>\n",
       "    </tr>\n",
       "    <tr>\n",
       "      <th>75%</th>\n",
       "      <td>1.00</td>\n",
       "      <td>1.00</td>\n",
       "      <td>3.00</td>\n",
       "      <td>8.00</td>\n",
       "    </tr>\n",
       "    <tr>\n",
       "      <th>max</th>\n",
       "      <td>1.00</td>\n",
       "      <td>1.00</td>\n",
       "      <td>31.00</td>\n",
       "      <td>1509.00</td>\n",
       "    </tr>\n",
       "  </tbody>\n",
       "</table>\n",
       "</div>"
      ],
      "text/plain": [
       "       cos_min  cos_mean  distinct_tier1s     Size\n",
       "count   229.00    229.00           281.00   281.00\n",
       "mean      1.00      1.00             2.69    11.50\n",
       "std       0.04      0.00             2.37    89.91\n",
       "min       0.35      0.94             1.00     1.00\n",
       "25%       1.00      1.00             1.00     2.00\n",
       "50%       1.00      1.00             2.00     4.00\n",
       "75%       1.00      1.00             3.00     8.00\n",
       "max       1.00      1.00            31.00  1509.00"
      ]
     },
     "execution_count": 45,
     "metadata": {},
     "output_type": "execute_result"
    }
   ],
   "source": [
    "start = time.time()\n",
    "\n",
    "pred_may09_full, may09_docs_df, topic_info_may09, may09_strengths = predict(umap_embeddings, cluster, \n",
    "                                                                            may09_art_embed, may09) \n",
    "\n",
    "# NOISE\n",
    "print(\"Rows: \", pred_may09_full[pred_may09_full.Topic==-1].shape)\n",
    "print(\"Perc: \", round(pred_may09_full[pred_may09_full.Topic==-1].shape[0]/pred_may09_full.shape[0] * 100))\n",
    "\n",
    "end = time.time()\n",
    "print(\"time (mins): \", round((end - start)/60, 2)) \n",
    "\n",
    "topic_info_may09[['cos_min', 'cos_mean', 'distinct_tier1s', 'Size']].describe().apply(lambda x: round(x, 2))"
   ]
  },
  {
   "cell_type": "code",
   "execution_count": 46,
   "metadata": {},
   "outputs": [],
   "source": [
    "# **Note:** \n",
    "# * There will be articles read between Apr 26 - May 02 (training set), which will also be read on May 03. \n",
    "# * These common articles present in prediction set, will get the same topic cluster as before\n",
    "\n",
    "# **For now:**\n",
    "# * Predict on whole of may03"
   ]
  },
  {
   "attachments": {
    "image.png": {
     "image/png": "[encoded data removed]"
    }
   },
   "cell_type": "markdown",
   "metadata": {},
   "source": [
    "# --- EDA ---\n",
    "\n",
    "![image.png](attachment:image.png)"
   ]
  },
  {
   "cell_type": "code",
   "execution_count": 47,
   "metadata": {},
   "outputs": [
    {
     "name": "stdout",
     "output_type": "stream",
     "text": [
      "Eligible articles:\n",
      "May 3 - (4199, 15)\n",
      "May 4 - (4223, 15)\n",
      "May 5 - (4160, 15)\n",
      "May 6 - (4063, 15)\n",
      "May 7 - (3630, 15)\n",
      "May 8 - (3025, 15)\n",
      "May 9 - (3231, 15)\n"
     ]
    }
   ],
   "source": [
    "print(\"Eligible articles:\")\n",
    "print(\"May 3 -\", pred_may03_full.shape)\n",
    "print(\"May 4 -\", pred_may04_full.shape)\n",
    "print(\"May 5 -\", pred_may05_full.shape)\n",
    "print(\"May 6 -\", pred_may06_full.shape)\n",
    "print(\"May 7 -\", pred_may07_full.shape)\n",
    "print(\"May 8 -\", pred_may08_full.shape)\n",
    "print(\"May 9 -\", pred_may09_full.shape)"
   ]
  },
  {
   "cell_type": "code",
   "execution_count": 48,
   "metadata": {},
   "outputs": [
    {
     "name": "stdout",
     "output_type": "stream",
     "text": [
      "Number of Topics assigned:\n",
      "May 3 - 310\n",
      "May 4 - 298\n",
      "May 5 - 311\n",
      "May 6 - 292\n",
      "May 7 - 287\n",
      "May 8 - 277\n",
      "May 9 - 281\n"
     ]
    }
   ],
   "source": [
    "print(\"Number of Topics assigned:\")\n",
    "print(\"May 3 -\",len(pred_may03_full.Topic.unique()))\n",
    "print(\"May 4 -\",len(pred_may04_full.Topic.unique()))\n",
    "print(\"May 5 -\",len(pred_may05_full.Topic.unique()))\n",
    "print(\"May 6 -\",len(pred_may06_full.Topic.unique()))\n",
    "print(\"May 7 -\",len(pred_may07_full.Topic.unique()))\n",
    "print(\"May 8 -\",len(pred_may08_full.Topic.unique()))\n",
    "print(\"May 9 -\",len(pred_may09_full.Topic.unique()))"
   ]
  },
  {
   "cell_type": "code",
   "execution_count": 49,
   "metadata": {},
   "outputs": [
    {
     "name": "stdout",
     "output_type": "stream",
     "text": [
      "Avg topic size:\n",
      "May 3 - 14\n",
      "May 4 - 14\n",
      "May 5 - 13\n",
      "May 6 - 14\n",
      "May 7 - 13\n",
      "May 8 - 11\n",
      "May 9 - 11\n"
     ]
    }
   ],
   "source": [
    "print(\"Avg topic size:\")\n",
    "print(\"May 3 -\",round(topic_info_may03.Size.mean()))\n",
    "print(\"May 4 -\",round(topic_info_may04.Size.mean()))\n",
    "print(\"May 5 -\",round(topic_info_may05.Size.mean()))\n",
    "print(\"May 6 -\",round(topic_info_may06.Size.mean()))\n",
    "print(\"May 7 -\",round(topic_info_may07.Size.mean()))\n",
    "print(\"May 8 -\",round(topic_info_may08.Size.mean()))\n",
    "print(\"May 9 -\",round(topic_info_may09.Size.mean()))"
   ]
  },
  {
   "cell_type": "markdown",
   "metadata": {},
   "source": [
    "**Observation:**\n",
    "* On avg. 9 articles form a topic"
   ]
  },
  {
   "cell_type": "code",
   "execution_count": 50,
   "metadata": {},
   "outputs": [
    {
     "name": "stdout",
     "output_type": "stream",
     "text": [
      "Common topics across 5 days -  258\n"
     ]
    }
   ],
   "source": [
    "common_5 = pd.merge(pd.merge(pd.merge(pd.merge(topic_info_may03[[\"topic_num\"]], \n",
    "                                                topic_info_may04[[\"topic_num\"]], on=\"topic_num\", how=\"inner\"), \n",
    "                                       topic_info_may05[[\"topic_num\"]], on=\"topic_num\", how=\"inner\"), \n",
    "                     topic_info_may06[[\"topic_num\"]], on=\"topic_num\", how=\"inner\"), \n",
    "                     topic_info_may07[[\"topic_num\"]], on=\"topic_num\", how=\"inner\")\n",
    "\n",
    "print(\"Common topics across 5 days - \", len(common_5))"
   ]
  },
  {
   "cell_type": "code",
   "execution_count": 51,
   "metadata": {},
   "outputs": [
    {
     "name": "stdout",
     "output_type": "stream",
     "text": [
      "Common topics across 5 days -  236\n"
     ]
    }
   ],
   "source": [
    "common_7 =  pd.merge(pd.merge(pd.merge(pd.merge(pd.merge(pd.merge(topic_info_may03[[\"topic_num\"]], \n",
    "                                                topic_info_may04[[\"topic_num\"]], on=\"topic_num\", how=\"inner\"), \n",
    "                                       topic_info_may05[[\"topic_num\"]], on=\"topic_num\", how=\"inner\"), \n",
    "                     topic_info_may06[[\"topic_num\"]], on=\"topic_num\", how=\"inner\"), \n",
    "                     topic_info_may07[[\"topic_num\"]], on=\"topic_num\", how=\"inner\"), \n",
    "                     topic_info_may08[[\"topic_num\"]], on=\"topic_num\", how=\"inner\"), \n",
    "                     topic_info_may09[[\"topic_num\"]], on=\"topic_num\", how=\"inner\")\n",
    "\n",
    "print(\"Common topics across 5 days - \", len(common_7))"
   ]
  },
  {
   "cell_type": "code",
   "execution_count": 52,
   "metadata": {},
   "outputs": [
    {
     "data": {
      "text/html": [
       "<div>\n",
       "<style scoped>\n",
       "    .dataframe tbody tr th:only-of-type {\n",
       "        vertical-align: middle;\n",
       "    }\n",
       "\n",
       "    .dataframe tbody tr th {\n",
       "        vertical-align: top;\n",
       "    }\n",
       "\n",
       "    .dataframe thead th {\n",
       "        text-align: right;\n",
       "    }\n",
       "</style>\n",
       "<table border=\"1\" class=\"dataframe\">\n",
       "  <thead>\n",
       "    <tr style=\"text-align: right;\">\n",
       "      <th></th>\n",
       "      <th>Size</th>\n",
       "      <th>topic_num</th>\n",
       "      <th>cos_min</th>\n",
       "      <th>cos_mean</th>\n",
       "      <th>distinct_tier1s</th>\n",
       "      <th>topic_words</th>\n",
       "    </tr>\n",
       "  </thead>\n",
       "  <tbody>\n",
       "    <tr>\n",
       "      <th>0</th>\n",
       "      <td>1784</td>\n",
       "      <td>-1</td>\n",
       "      <td>0.37</td>\n",
       "      <td>0.95</td>\n",
       "      <td>31</td>\n",
       "      <td>remote, age, businesses, leaders, workers, water</td>\n",
       "    </tr>\n",
       "    <tr>\n",
       "      <th>8</th>\n",
       "      <td>29</td>\n",
       "      <td>0</td>\n",
       "      <td>1.00</td>\n",
       "      <td>1.00</td>\n",
       "      <td>7</td>\n",
       "      <td>10 states, average annual, annual wage, salaries, occupational, therapist salary</td>\n",
       "    </tr>\n",
       "    <tr>\n",
       "      <th>165</th>\n",
       "      <td>5</td>\n",
       "      <td>1</td>\n",
       "      <td>1.00</td>\n",
       "      <td>1.00</td>\n",
       "      <td>3</td>\n",
       "      <td>million viewers, 000 viewers, fox news, msnbc, cable news, prime time</td>\n",
       "    </tr>\n",
       "    <tr>\n",
       "      <th>54</th>\n",
       "      <td>12</td>\n",
       "      <td>2</td>\n",
       "      <td>1.00</td>\n",
       "      <td>1.00</td>\n",
       "      <td>4</td>\n",
       "      <td>pink moon, sky, supermoons, super pink, sun, blood moon</td>\n",
       "    </tr>\n",
       "    <tr>\n",
       "      <th>91</th>\n",
       "      <td>8</td>\n",
       "      <td>3</td>\n",
       "      <td>1.00</td>\n",
       "      <td>1.00</td>\n",
       "      <td>3</td>\n",
       "      <td>def, aew, nxt, wrestlemania, smackdown, live events</td>\n",
       "    </tr>\n",
       "    <tr>\n",
       "      <th>...</th>\n",
       "      <td>...</td>\n",
       "      <td>...</td>\n",
       "      <td>...</td>\n",
       "      <td>...</td>\n",
       "      <td>...</td>\n",
       "      <td>...</td>\n",
       "    </tr>\n",
       "    <tr>\n",
       "      <th>173</th>\n",
       "      <td>5</td>\n",
       "      <td>316</td>\n",
       "      <td>1.00</td>\n",
       "      <td>1.00</td>\n",
       "      <td>2</td>\n",
       "      <td>kabat zinn, mindfulness, ikigai, kelly, decisions, goal setting</td>\n",
       "    </tr>\n",
       "    <tr>\n",
       "      <th>239</th>\n",
       "      <td>3</td>\n",
       "      <td>317</td>\n",
       "      <td>1.00</td>\n",
       "      <td>1.00</td>\n",
       "      <td>2</td>\n",
       "      <td>conflict, happiness, nonverbal cues, gestures, strategic thinkers, body language</td>\n",
       "    </tr>\n",
       "    <tr>\n",
       "      <th>292</th>\n",
       "      <td>1</td>\n",
       "      <td>318</td>\n",
       "      <td>NaN</td>\n",
       "      <td>NaN</td>\n",
       "      <td>1</td>\n",
       "      <td>coachable, unspoken rules, communicators, ask, ng, leadership</td>\n",
       "    </tr>\n",
       "    <tr>\n",
       "      <th>71</th>\n",
       "      <td>10</td>\n",
       "      <td>319</td>\n",
       "      <td>1.00</td>\n",
       "      <td>1.00</td>\n",
       "      <td>5</td>\n",
       "      <td>overthinking, psychological safety, smart people, feelings, emotions, therapy</td>\n",
       "    </tr>\n",
       "    <tr>\n",
       "      <th>110</th>\n",
       "      <td>7</td>\n",
       "      <td>320</td>\n",
       "      <td>1.00</td>\n",
       "      <td>1.00</td>\n",
       "      <td>4</td>\n",
       "      <td>highly successful, successful people, motivation, fear, enjoyment, 20s</td>\n",
       "    </tr>\n",
       "  </tbody>\n",
       "</table>\n",
       "<p>310 rows × 6 columns</p>\n",
       "</div>"
      ],
      "text/plain": [
       "     Size  topic_num  cos_min  cos_mean  distinct_tier1s  \\\n",
       "0    1784         -1     0.37      0.95               31   \n",
       "8      29          0     1.00      1.00                7   \n",
       "165     5          1     1.00      1.00                3   \n",
       "54     12          2     1.00      1.00                4   \n",
       "91      8          3     1.00      1.00                3   \n",
       "..    ...        ...      ...       ...              ...   \n",
       "173     5        316     1.00      1.00                2   \n",
       "239     3        317     1.00      1.00                2   \n",
       "292     1        318      NaN       NaN                1   \n",
       "71     10        319     1.00      1.00                5   \n",
       "110     7        320     1.00      1.00                4   \n",
       "\n",
       "                                                                          topic_words  \n",
       "0                                    remote, age, businesses, leaders, workers, water  \n",
       "8    10 states, average annual, annual wage, salaries, occupational, therapist salary  \n",
       "165             million viewers, 000 viewers, fox news, msnbc, cable news, prime time  \n",
       "54                            pink moon, sky, supermoons, super pink, sun, blood moon  \n",
       "91                                def, aew, nxt, wrestlemania, smackdown, live events  \n",
       "..                                                                                ...  \n",
       "173                   kabat zinn, mindfulness, ikigai, kelly, decisions, goal setting  \n",
       "239  conflict, happiness, nonverbal cues, gestures, strategic thinkers, body language  \n",
       "292                     coachable, unspoken rules, communicators, ask, ng, leadership  \n",
       "71      overthinking, psychological safety, smart people, feelings, emotions, therapy  \n",
       "110            highly successful, successful people, motivation, fear, enjoyment, 20s  \n",
       "\n",
       "[310 rows x 6 columns]"
      ]
     },
     "execution_count": 52,
     "metadata": {},
     "output_type": "execute_result"
    }
   ],
   "source": [
    "topic_info_may03 #[[\"topic_num\"]]"
   ]
  },
  {
   "cell_type": "code",
   "execution_count": 53,
   "metadata": {},
   "outputs": [
    {
     "data": {
      "text/html": [
       "<div>\n",
       "<style scoped>\n",
       "    .dataframe tbody tr th:only-of-type {\n",
       "        vertical-align: middle;\n",
       "    }\n",
       "\n",
       "    .dataframe tbody tr th {\n",
       "        vertical-align: top;\n",
       "    }\n",
       "\n",
       "    .dataframe thead th {\n",
       "        text-align: right;\n",
       "    }\n",
       "</style>\n",
       "<table border=\"1\" class=\"dataframe\">\n",
       "  <thead>\n",
       "    <tr style=\"text-align: right;\">\n",
       "      <th></th>\n",
       "      <th>Size</th>\n",
       "      <th>topic_num</th>\n",
       "      <th>cos_min</th>\n",
       "      <th>cos_mean</th>\n",
       "      <th>distinct_tier1s</th>\n",
       "      <th>topic_words</th>\n",
       "    </tr>\n",
       "  </thead>\n",
       "  <tbody>\n",
       "    <tr>\n",
       "      <th>0</th>\n",
       "      <td>1964</td>\n",
       "      <td>-1</td>\n",
       "      <td>0.36</td>\n",
       "      <td>0.94</td>\n",
       "      <td>31</td>\n",
       "      <td>remote, age, businesses, leaders, workers, water</td>\n",
       "    </tr>\n",
       "    <tr>\n",
       "      <th>7</th>\n",
       "      <td>33</td>\n",
       "      <td>0</td>\n",
       "      <td>1.00</td>\n",
       "      <td>1.00</td>\n",
       "      <td>7</td>\n",
       "      <td>10 states, average annual, annual wage, salaries, occupational, therapist salary</td>\n",
       "    </tr>\n",
       "    <tr>\n",
       "      <th>90</th>\n",
       "      <td>8</td>\n",
       "      <td>1</td>\n",
       "      <td>1.00</td>\n",
       "      <td>1.00</td>\n",
       "      <td>4</td>\n",
       "      <td>million viewers, 000 viewers, fox news, msnbc, cable news, prime time</td>\n",
       "    </tr>\n",
       "    <tr>\n",
       "      <th>67</th>\n",
       "      <td>10</td>\n",
       "      <td>2</td>\n",
       "      <td>1.00</td>\n",
       "      <td>1.00</td>\n",
       "      <td>4</td>\n",
       "      <td>pink moon, sky, supermoons, super pink, sun, blood moon</td>\n",
       "    </tr>\n",
       "    <tr>\n",
       "      <th>81</th>\n",
       "      <td>9</td>\n",
       "      <td>3</td>\n",
       "      <td>1.00</td>\n",
       "      <td>1.00</td>\n",
       "      <td>3</td>\n",
       "      <td>def, aew, nxt, wrestlemania, smackdown, live events</td>\n",
       "    </tr>\n",
       "    <tr>\n",
       "      <th>...</th>\n",
       "      <td>...</td>\n",
       "      <td>...</td>\n",
       "      <td>...</td>\n",
       "      <td>...</td>\n",
       "      <td>...</td>\n",
       "      <td>...</td>\n",
       "    </tr>\n",
       "    <tr>\n",
       "      <th>185</th>\n",
       "      <td>3</td>\n",
       "      <td>313</td>\n",
       "      <td>1.00</td>\n",
       "      <td>1.00</td>\n",
       "      <td>1</td>\n",
       "      <td>new job, job search, counteroffer, hiring manager, boss, script</td>\n",
       "    </tr>\n",
       "    <tr>\n",
       "      <th>269</th>\n",
       "      <td>1</td>\n",
       "      <td>314</td>\n",
       "      <td>NaN</td>\n",
       "      <td>NaN</td>\n",
       "      <td>1</td>\n",
       "      <td>sign toxic, toxic culture, resume, kh, manager, bullying</td>\n",
       "    </tr>\n",
       "    <tr>\n",
       "      <th>241</th>\n",
       "      <td>2</td>\n",
       "      <td>318</td>\n",
       "      <td>1.00</td>\n",
       "      <td>1.00</td>\n",
       "      <td>2</td>\n",
       "      <td>coachable, unspoken rules, communicators, ask, ng, leadership</td>\n",
       "    </tr>\n",
       "    <tr>\n",
       "      <th>260</th>\n",
       "      <td>1</td>\n",
       "      <td>319</td>\n",
       "      <td>NaN</td>\n",
       "      <td>NaN</td>\n",
       "      <td>1</td>\n",
       "      <td>overthinking, psychological safety, smart people, feelings, emotions, therapy</td>\n",
       "    </tr>\n",
       "    <tr>\n",
       "      <th>297</th>\n",
       "      <td>1</td>\n",
       "      <td>321</td>\n",
       "      <td>NaN</td>\n",
       "      <td>NaN</td>\n",
       "      <td>1</td>\n",
       "      <td>fear, boredom, self doubt, doubts, perfectionism, disabled people</td>\n",
       "    </tr>\n",
       "  </tbody>\n",
       "</table>\n",
       "<p>298 rows × 6 columns</p>\n",
       "</div>"
      ],
      "text/plain": [
       "     Size  topic_num  cos_min  cos_mean  distinct_tier1s  \\\n",
       "0    1964         -1     0.36      0.94               31   \n",
       "7      33          0     1.00      1.00                7   \n",
       "90      8          1     1.00      1.00                4   \n",
       "67     10          2     1.00      1.00                4   \n",
       "81      9          3     1.00      1.00                3   \n",
       "..    ...        ...      ...       ...              ...   \n",
       "185     3        313     1.00      1.00                1   \n",
       "269     1        314      NaN       NaN                1   \n",
       "241     2        318     1.00      1.00                2   \n",
       "260     1        319      NaN       NaN                1   \n",
       "297     1        321      NaN       NaN                1   \n",
       "\n",
       "                                                                          topic_words  \n",
       "0                                    remote, age, businesses, leaders, workers, water  \n",
       "7    10 states, average annual, annual wage, salaries, occupational, therapist salary  \n",
       "90              million viewers, 000 viewers, fox news, msnbc, cable news, prime time  \n",
       "67                            pink moon, sky, supermoons, super pink, sun, blood moon  \n",
       "81                                def, aew, nxt, wrestlemania, smackdown, live events  \n",
       "..                                                                                ...  \n",
       "185                   new job, job search, counteroffer, hiring manager, boss, script  \n",
       "269                          sign toxic, toxic culture, resume, kh, manager, bullying  \n",
       "241                     coachable, unspoken rules, communicators, ask, ng, leadership  \n",
       "260     overthinking, psychological safety, smart people, feelings, emotions, therapy  \n",
       "297                 fear, boredom, self doubt, doubts, perfectionism, disabled people  \n",
       "\n",
       "[298 rows x 6 columns]"
      ]
     },
     "execution_count": 53,
     "metadata": {},
     "output_type": "execute_result"
    }
   ],
   "source": [
    "topic_info_may04"
   ]
  },
  {
   "cell_type": "code",
   "execution_count": 54,
   "metadata": {},
   "outputs": [
    {
     "name": "stdout",
     "output_type": "stream",
     "text": [
      "Eligible articles:\n",
      "May 3 - (4199, 15)\n",
      "May 4 - (4223, 15)\n",
      "May 5 - (4160, 15)\n",
      "May 6 - (4063, 15)\n",
      "May 7 - (3630, 15)\n",
      "May 8 - (3025, 15)\n",
      "May 9 - (3231, 15)\n"
     ]
    }
   ],
   "source": [
    "print(\"Eligible articles:\")\n",
    "print(\"May 3 -\", pred_may03_full.shape)\n",
    "print(\"May 4 -\", pred_may04_full.shape)\n",
    "print(\"May 5 -\", pred_may05_full.shape)\n",
    "print(\"May 6  -\", pred_may06_full.shape)\n",
    "print(\"May 7 -\", pred_may07_full.shape)\n",
    "print(\"May 8 -\", pred_may08_full.shape)\n",
    "print(\"May 9 -\", pred_may09_full.shape)"
   ]
  },
  {
   "cell_type": "code",
   "execution_count": 55,
   "metadata": {},
   "outputs": [
    {
     "name": "stdout",
     "output_type": "stream",
     "text": [
      "Common topics across 5 days -  2323\n"
     ]
    }
   ],
   "source": [
    "common_articles = pd.merge(pd.merge(pd.merge(pd.merge(pred_may03_full[[\"content_natid\", \"Topic\", \"topic_words\"]], \n",
    "                                                pred_may04_full[[\"content_natid\", \"Topic\", \"topic_words\"]], on=\"content_natid\", how=\"inner\"), \n",
    "                                       pred_may05_full[[\"content_natid\", \"Topic\", \"topic_words\"]], on=\"content_natid\", how=\"inner\"), \n",
    "                     pred_may06_full[[\"content_natid\", \"Topic\", \"topic_words\"]], on=\"content_natid\", how=\"inner\"), \n",
    "                     pred_may07_full[[\"content_natid\", \"Topic\", \"topic_words\"]], on=\"content_natid\", how=\"inner\")\n",
    "\n",
    "print(\"Common topics across 5 days - \", len(common_articles))"
   ]
  },
  {
   "cell_type": "code",
   "execution_count": null,
   "metadata": {},
   "outputs": [],
   "source": []
  },
  {
   "cell_type": "code",
   "execution_count": 95,
   "metadata": {},
   "outputs": [
    {
     "data": {
      "text/html": [
       "<div>\n",
       "<style scoped>\n",
       "    .dataframe tbody tr th:only-of-type {\n",
       "        vertical-align: middle;\n",
       "    }\n",
       "\n",
       "    .dataframe tbody tr th {\n",
       "        vertical-align: top;\n",
       "    }\n",
       "\n",
       "    .dataframe thead th {\n",
       "        text-align: right;\n",
       "    }\n",
       "</style>\n",
       "<table border=\"1\" class=\"dataframe\">\n",
       "  <thead>\n",
       "    <tr style=\"text-align: right;\">\n",
       "      <th></th>\n",
       "      <th>topic_num</th>\n",
       "    </tr>\n",
       "  </thead>\n",
       "  <tbody>\n",
       "    <tr>\n",
       "      <th>0</th>\n",
       "      <td>-1</td>\n",
       "    </tr>\n",
       "    <tr>\n",
       "      <th>1</th>\n",
       "      <td>0</td>\n",
       "    </tr>\n",
       "    <tr>\n",
       "      <th>2</th>\n",
       "      <td>1</td>\n",
       "    </tr>\n",
       "    <tr>\n",
       "      <th>3</th>\n",
       "      <td>2</td>\n",
       "    </tr>\n",
       "    <tr>\n",
       "      <th>4</th>\n",
       "      <td>3</td>\n",
       "    </tr>\n",
       "    <tr>\n",
       "      <th>...</th>\n",
       "      <td>...</td>\n",
       "    </tr>\n",
       "    <tr>\n",
       "      <th>231</th>\n",
       "      <td>304</td>\n",
       "    </tr>\n",
       "    <tr>\n",
       "      <th>232</th>\n",
       "      <td>307</td>\n",
       "    </tr>\n",
       "    <tr>\n",
       "      <th>233</th>\n",
       "      <td>308</td>\n",
       "    </tr>\n",
       "    <tr>\n",
       "      <th>234</th>\n",
       "      <td>309</td>\n",
       "    </tr>\n",
       "    <tr>\n",
       "      <th>235</th>\n",
       "      <td>313</td>\n",
       "    </tr>\n",
       "  </tbody>\n",
       "</table>\n",
       "<p>236 rows × 1 columns</p>\n",
       "</div>"
      ],
      "text/plain": [
       "     topic_num\n",
       "0           -1\n",
       "1            0\n",
       "2            1\n",
       "3            2\n",
       "4            3\n",
       "..         ...\n",
       "231        304\n",
       "232        307\n",
       "233        308\n",
       "234        309\n",
       "235        313\n",
       "\n",
       "[236 rows x 1 columns]"
      ]
     },
     "execution_count": 95,
     "metadata": {},
     "output_type": "execute_result"
    }
   ],
   "source": [
    "common_7"
   ]
  },
  {
   "cell_type": "markdown",
   "metadata": {},
   "source": [
    "### Noise Comparison \n",
    "\n",
    "**Observation:**\n",
    "* On avg. 50% - 54% articles get clustered into a topic each day and rest is deemed as noise by HDBSCAN "
   ]
  },
  {
   "cell_type": "code",
   "execution_count": 51,
   "metadata": {},
   "outputs": [
    {
     "name": "stdout",
     "output_type": "stream",
     "text": [
      "# of articles NOISE - \n",
      "May 3 - 1784\n",
      "May 4 - 1964\n",
      "May 5 - 1797\n",
      "May 6 - 1950\n",
      "May 7 - 1676\n",
      "May 8 - 1379\n",
      "May 9 - 1509\n"
     ]
    }
   ],
   "source": [
    "print(\"# of articles NOISE - \")\n",
    "print(\"May 3 -\",round(pred_may03_full[pred_may03_full.Topic==-1].shape[0]))\n",
    "print(\"May 4 -\",round(pred_may04_full[pred_may04_full.Topic==-1].shape[0]))\n",
    "print(\"May 5 -\",round(pred_may05_full[pred_may05_full.Topic==-1].shape[0]))\n",
    "print(\"May 6 -\",round(pred_may06_full[pred_may06_full.Topic==-1].shape[0]))\n",
    "print(\"May 7 -\",round(pred_may07_full[pred_may07_full.Topic==-1].shape[0]))\n",
    "print(\"May 8 -\",round(pred_may08_full[pred_may08_full.Topic==-1].shape[0]))\n",
    "print(\"May 9 -\",round(pred_may09_full[pred_may09_full.Topic==-1].shape[0]))"
   ]
  },
  {
   "cell_type": "code",
   "execution_count": 52,
   "metadata": {},
   "outputs": [
    {
     "name": "stdout",
     "output_type": "stream",
     "text": [
      "Perc of articles NOISE - \n",
      "May 3 - 42\n",
      "May 4 - 47\n",
      "May 5 - 43\n",
      "May 6 - 48\n",
      "May 7 - 46\n",
      "May 8 - 46\n",
      "May 9 - 47\n"
     ]
    }
   ],
   "source": [
    "print(\"Perc of articles NOISE - \")\n",
    "print(\"May 3 -\",round(pred_may03_full[pred_may03_full.Topic==-1].shape[0]/pred_may03_full.shape[0]*100))\n",
    "print(\"May 4 -\",round(pred_may04_full[pred_may04_full.Topic==-1].shape[0]/pred_may04_full.shape[0]*100))\n",
    "print(\"May 5 -\",round(pred_may05_full[pred_may05_full.Topic==-1].shape[0]/pred_may05_full.shape[0]*100))\n",
    "print(\"May 6 -\",round(pred_may06_full[pred_may06_full.Topic==-1].shape[0]/pred_may06_full.shape[0]*100))\n",
    "print(\"May 7 -\",round(pred_may07_full[pred_may07_full.Topic==-1].shape[0]/pred_may07_full.shape[0]*100))\n",
    "print(\"May 8 -\",round(pred_may08_full[pred_may08_full.Topic==-1].shape[0]/pred_may08_full.shape[0]*100))\n",
    "print(\"May 9 -\",round(pred_may09_full[pred_may09_full.Topic==-1].shape[0]/pred_may09_full.shape[0]*100))"
   ]
  },
  {
   "cell_type": "markdown",
   "metadata": {},
   "source": [
    "### Repeating articles Comparison \n",
    "\n",
    "**Observation:**\n",
    "* If this were to be pursued, in prod - \n",
    "    * feed May03 noise (read on May 04) into eligible pool for next day's prediction -- no: higher prob that it will still be noise because of surrounding articles? Plus - now implemented a way to reassign noise to closest topic using cosine similarity\n",
    "    * also May 04 noise had topics in May 03 so check the saved BQ table and lessen the actual noise -- no: now implemented a way to reassign noise to closest topic using cosine similarity"
   ]
  },
  {
   "cell_type": "markdown",
   "metadata": {},
   "source": [
    "**-----Repeats-----**"
   ]
  },
  {
   "cell_type": "code",
   "execution_count": 55,
   "metadata": {},
   "outputs": [
    {
     "data": {
      "text/plain": [
       "(3422, 7)"
      ]
     },
     "execution_count": 55,
     "metadata": {},
     "output_type": "execute_result"
    }
   ],
   "source": [
    "# # old\n",
    "\n",
    "# col_list = ['content_natid', 'Doc', 'Topic', 'topic_words']\n",
    "# common_43 = pd.merge(pred_may03_full[col_list], pred_may04_full[col_list], how=\"inner\", on=\"content_natid\")\n",
    "# common_43.shape\n",
    "# # 81% of articles read on May 4 were also read on May 3"
   ]
  },
  {
   "cell_type": "code",
   "execution_count": 77,
   "metadata": {},
   "outputs": [
    {
     "name": "stdout",
     "output_type": "stream",
     "text": [
      "(3422, 10)\n",
      "Index(['content_natid', 'Doc_x', 'Topic_x', 'topic_words_x', 'Doc_y',\n",
      "       'Topic_y', 'topic_words_y', 'Doc', 'Topic', 'topic_words'],\n",
      "      dtype='object')\n"
     ]
    }
   ],
   "source": [
    "col_list = ['content_natid', 'Doc', 'Topic', 'topic_words']\n",
    "# old\n",
    "common_43 = pd.merge(pd.merge(pred_may03_full[col_list], \n",
    "                              pred_may04_full[col_list], how=\"inner\", on=\"content_natid\"),\n",
    "                      full_train_topics[col_list], how=\"left\", on=\"content_natid\")\n",
    "                     \n",
    "print(common_43.shape)\n",
    "print(common_43.columns)"
   ]
  },
  {
   "cell_type": "code",
   "execution_count": 58,
   "metadata": {},
   "outputs": [
    {
     "name": "stdout",
     "output_type": "stream",
     "text": [
      "Repeating article topic agreement:  (1681, 10)\n"
     ]
    }
   ],
   "source": [
    "# # 69% repeating articles on May 4 have same topic as May 3\n",
    "# print(\"Repeating article topic agreement: \", common_43[(common_43.Topic_x == common_43.Topic_y) & \n",
    "#                                                       (common_43.Topic_y == common_43.Topic)].shape)"
   ]
  },
  {
   "cell_type": "code",
   "execution_count": 61,
   "metadata": {},
   "outputs": [
    {
     "name": "stdout",
     "output_type": "stream",
     "text": [
      " --- All May 03 noise got a valid topic on May 04 ---\n",
      "(440, 7)\n",
      "\n",
      "[2, 4, 5, 9, 10, 11, 12, 15, 16, 17, 18, 19, 21, 22, 23, 24, 25, 30, 31, 32, 36, 38, 39, 42, 43, 45, 47, 48, 50, 53, 54, 56, 57, 59, 60, 61, 62, 63, 65, 66, 67, 68, 70, 72, 74, 75, 78, 80, 81, 84, 85, 86, 89, 92, 93, 94, 95, 99, 100, 101, 102, 103, 105, 106, 107, 108, 111, 115, 117, 119, 121, 122, 123, 124, 126, 127, 128, 133, 134, 135, 136, 139, 141, 142, 143, 145, 148, 149, 150, 152, 154, 156, 159, 160, 161, 163, 164, 165, 166, 167, 168, 169, 171, 172, 173, 174, 175, 176, 177, 178, 179, 180, 181, 183, 184, 185, 188, 189, 190, 192, 196, 197, 198, 199, 200, 201, 202, 203, 205, 207, 209, 211, 212, 213, 214, 216, 219, 225, 227, 229, 233, 234, 235, 239, 240, 241, 243, 246, 247, 248, 250, 253, 254, 255, 258, 259, 260, 261, 262, 264, 265, 267, 268, 272, 273, 274, 275, 276, 277, 278, 281, 283, 284, 286, 287, 288, 290, 291, 294, 295, 296, 298, 300, 301, 302, 303, 306, 307, 310, 311, 315, 317, 318, 321, 322, 323, 324, 325, 326]\n"
     ]
    }
   ],
   "source": [
    "# # 31% repeating articles on non-matchin topics on May 4 and May 3\n",
    "# non_match_repeats = common_43[common_43.Topic_x != common_43.Topic_y]\n",
    "\n",
    "# print(\"Repeating article topic non-agreement: \",non_match_repeats.shape)\n",
    "\n",
    "# print(\"May 3 noise\", non_match_repeats[non_match_repeats.Topic_x==-1].shape)\n",
    "# print(\"May 4 noise\", non_match_repeats[non_match_repeats.Topic_y==-1].shape)\n",
    "\n",
    "# print(\" --- All May 03 noise got a valid topic on May 04 ---\")\n",
    "# print(non_match_repeats[(non_match_repeats.Topic_x==-1) & (non_match_repeats.Topic_y!=-1)].shape)\n",
    "# print()\n",
    "# print(sorted(non_match_repeats[non_match_repeats.Topic_x==-1].Topic_y.unique()))"
   ]
  },
  {
   "cell_type": "code",
   "execution_count": 62,
   "metadata": {},
   "outputs": [
    {
     "name": "stdout",
     "output_type": "stream",
     "text": [
      " --- All May 04 noise had a valid topic on May 03 ---\n",
      "(474, 7)\n",
      "\n",
      "[2, 4, 5, 8, 10, 11, 15, 16, 17, 21, 22, 25, 26, 28, 30, 31, 33, 34, 36, 37, 38, 39, 41, 42, 48, 49, 52, 57, 58, 60, 64, 65, 67, 70, 72, 74, 75, 76, 77, 78, 79, 80, 81, 83, 85, 86, 87, 89, 90, 92, 93, 94, 95, 97, 98, 99, 100, 101, 102, 105, 106, 107, 108, 110, 111, 112, 115, 117, 118, 119, 121, 123, 127, 128, 129, 131, 133, 134, 135, 138, 139, 141, 145, 146, 150, 152, 153, 154, 155, 156, 157, 158, 159, 160, 162, 163, 164, 166, 167, 168, 169, 170, 171, 172, 173, 174, 175, 176, 177, 178, 179, 180, 181, 182, 183, 185, 186, 187, 189, 190, 191, 192, 194, 195, 197, 198, 199, 200, 202, 203, 204, 205, 206, 207, 208, 209, 211, 213, 214, 217, 218, 219, 220, 221, 224, 227, 228, 229, 230, 231, 233, 234, 235, 237, 238, 240, 241, 243, 244, 245, 246, 247, 249, 250, 251, 252, 253, 254, 256, 258, 259, 260, 261, 264, 265, 267, 268, 272, 274, 275, 276, 277, 279, 281, 282, 284, 285, 286, 287, 288, 289, 290, 291, 293, 295, 296, 297, 298, 300, 302, 303, 305, 307, 308, 309, 311, 312, 314, 316, 317, 318, 319, 321, 322, 323, 324, 325, 326]\n"
     ]
    }
   ],
   "source": [
    "# print(\" --- All May 04 noise had a valid topic on May 03 ---\")\n",
    "# print(non_match_repeats[(non_match_repeats.Topic_y==-1) & (non_match_repeats.Topic_x!=-1)].shape)\n",
    "# print()\n",
    "# print(sorted(non_match_repeats[non_match_repeats.Topic_y==-1].Topic_x.unique()))"
   ]
  },
  {
   "cell_type": "code",
   "execution_count": 63,
   "metadata": {},
   "outputs": [
    {
     "name": "stdout",
     "output_type": "stream",
     "text": [
      "May 3 & 4 non matching topics:  (156, 7)\n"
     ]
    }
   ],
   "source": [
    "# print(\"May 3 & 4 non matching topics: \", \n",
    "#       non_match_repeats[(non_match_repeats.Topic_x!=-1) & (non_match_repeats.Topic_y!=-1)].shape)"
   ]
  },
  {
   "cell_type": "code",
   "execution_count": 64,
   "metadata": {},
   "outputs": [],
   "source": [
    "# non_match_repeats.to_csv(\"may3_may4_nonmathcing_repeats.csv\", index=False)"
   ]
  },
  {
   "cell_type": "markdown",
   "metadata": {},
   "source": [
    "**-----Non-Repeats-----**"
   ]
  },
  {
   "cell_type": "code",
   "execution_count": 54,
   "metadata": {},
   "outputs": [
    {
     "name": "stdout",
     "output_type": "stream",
     "text": [
      "(4223, 15)\n",
      "(3422, 15)\n",
      "(3350, 15)\n"
     ]
    }
   ],
   "source": [
    "print(pred_may04_full.shape)\n",
    "print(pred_may04_full[pred_may04_full.content_natid.isin(pred_may03_full.content_natid)].shape)\n",
    "print(pred_may04_full[pred_may04_full.content_natid.isin(full_train_topics.content_natid)].shape)"
   ]
  },
  {
   "cell_type": "code",
   "execution_count": 68,
   "metadata": {},
   "outputs": [
    {
     "data": {
      "text/plain": [
       "(801, 15)"
      ]
     },
     "execution_count": 68,
     "metadata": {},
     "output_type": "execute_result"
    }
   ],
   "source": [
    "# old\n",
    "# unique_may4 = pred_may04_full[~pred_may04_full.content_natid.isin(pred_may03_full.content_natid)]\n",
    "# unique_may4.shape"
   ]
  },
  {
   "cell_type": "code",
   "execution_count": 55,
   "metadata": {},
   "outputs": [
    {
     "data": {
      "text/plain": [
       "(519, 15)"
      ]
     },
     "execution_count": 55,
     "metadata": {},
     "output_type": "execute_result"
    }
   ],
   "source": [
    "# new\n",
    "unique_may4 = pred_may04_full[~((pred_may04_full.content_natid.isin(full_train_topics.content_natid)) | (pred_may04_full.content_natid.isin(pred_may03_full.content_natid)))]\n",
    "unique_may4.shape"
   ]
  },
  {
   "cell_type": "code",
   "execution_count": 57,
   "metadata": {},
   "outputs": [],
   "source": [
    "# print(\"Total noise in May4\", pred_may04_full[pred_may04_full.Topic==-1].shape)\n",
    "# print(\"Noise among repeating\", common_43[common_43.Topic_y==-1].shape)\n",
    "# print(\"Noise among non-repeating\", unique_may4[unique_may4.Topic==-1].shape)"
   ]
  },
  {
   "cell_type": "markdown",
   "metadata": {},
   "source": [
    "**-----Prediction vs Training exploration-----**"
   ]
  },
  {
   "cell_type": "code",
   "execution_count": 58,
   "metadata": {},
   "outputs": [
    {
     "name": "stdout",
     "output_type": "stream",
     "text": [
      "(2033, 15)\n",
      "(2190, 15)\n"
     ]
    }
   ],
   "source": [
    "may4_noise = pred_may04_full[pred_may04_full.Topic==-1]\n",
    "print(may4_noise.shape)\n",
    "may4_noise_nonnoise = pred_may04_full[pred_may04_full.Topic!=-1]\n",
    "print(may4_noise_nonnoise.shape)"
   ]
  },
  {
   "cell_type": "code",
   "execution_count": 59,
   "metadata": {},
   "outputs": [
    {
     "name": "stdout",
     "output_type": "stream",
     "text": [
      "1805\n",
      "0.8242009132420092\n"
     ]
    }
   ],
   "source": [
    "print(may4_noise_nonnoise[may4_noise_nonnoise.content_natid.isin(full_train_topics.content_natid)].shape[0])\n",
    "print(may4_noise_nonnoise[may4_noise_nonnoise.content_natid.isin(full_train_topics.content_natid)].shape[0]/may4_noise_nonnoise.shape[0])"
   ]
  },
  {
   "cell_type": "code",
   "execution_count": 60,
   "metadata": {},
   "outputs": [
    {
     "name": "stdout",
     "output_type": "stream",
     "text": [
      "385\n",
      "0.17579908675799086\n"
     ]
    }
   ],
   "source": [
    "print(may4_noise_nonnoise[~may4_noise_nonnoise.content_natid.isin(full_train_topics.content_natid)].shape[0])\n",
    "print(may4_noise_nonnoise[~may4_noise_nonnoise.content_natid.isin(full_train_topics.content_natid)].shape[0]/may4_noise_nonnoise.shape[0])"
   ]
  },
  {
   "cell_type": "code",
   "execution_count": 61,
   "metadata": {},
   "outputs": [
    {
     "name": "stdout",
     "output_type": "stream",
     "text": [
      "1545\n",
      "0.7599606492867683\n"
     ]
    }
   ],
   "source": [
    "print(may4_noise[may4_noise.content_natid.isin(full_train_topics.content_natid)].shape[0])\n",
    "print(may4_noise[may4_noise.content_natid.isin(full_train_topics.content_natid)].shape[0]/may4_noise.shape[0])"
   ]
  },
  {
   "cell_type": "code",
   "execution_count": 62,
   "metadata": {},
   "outputs": [
    {
     "name": "stdout",
     "output_type": "stream",
     "text": [
      "488\n",
      "0.24003935071323168\n"
     ]
    }
   ],
   "source": [
    "print(may4_noise[~may4_noise.content_natid.isin(full_train_topics.content_natid)].shape[0])\n",
    "print(may4_noise[~may4_noise.content_natid.isin(full_train_topics.content_natid)].shape[0]/may4_noise.shape[0])"
   ]
  },
  {
   "cell_type": "markdown",
   "metadata": {},
   "source": [
    "**-----Non-Repeats detailed exploration-----**"
   ]
  },
  {
   "cell_type": "code",
   "execution_count": 63,
   "metadata": {},
   "outputs": [
    {
     "data": {
      "text/plain": [
       "(519, 15)"
      ]
     },
     "execution_count": 63,
     "metadata": {},
     "output_type": "execute_result"
    }
   ],
   "source": [
    "unique_may4.shape"
   ]
  },
  {
   "cell_type": "code",
   "execution_count": 64,
   "metadata": {},
   "outputs": [
    {
     "name": "stdout",
     "output_type": "stream",
     "text": [
      "223\n",
      "0.4296724470134875\n"
     ]
    }
   ],
   "source": [
    "unique_may4_nonnoise = unique_may4[unique_may4.Topic!=-1]\n",
    "print(unique_may4_nonnoise.shape[0])\n",
    "print(unique_may4_nonnoise.shape[0]/unique_may4.shape[0])"
   ]
  },
  {
   "cell_type": "code",
   "execution_count": 65,
   "metadata": {},
   "outputs": [
    {
     "name": "stdout",
     "output_type": "stream",
     "text": [
      "296\n",
      "0.5703275529865125\n"
     ]
    }
   ],
   "source": [
    "unique_may4_noise = unique_may4[unique_may4.Topic==-1]\n",
    "print(unique_may4_noise.shape[0])\n",
    "print(unique_may4_noise.shape[0]/unique_may4.shape[0])"
   ]
  },
  {
   "cell_type": "code",
   "execution_count": 66,
   "metadata": {},
   "outputs": [
    {
     "name": "stdout",
     "output_type": "stream",
     "text": [
      "0\n",
      "0.0\n"
     ]
    }
   ],
   "source": [
    "print(unique_may4[unique_may4.content_natid.isin(full_train_topics.content_natid)].shape[0])\n",
    "print(unique_may4[unique_may4.content_natid.isin(full_train_topics.content_natid)].shape[0]/unique_may4.shape[0])"
   ]
  },
  {
   "cell_type": "code",
   "execution_count": 67,
   "metadata": {},
   "outputs": [
    {
     "name": "stdout",
     "output_type": "stream",
     "text": [
      "0\n",
      "0.0\n"
     ]
    }
   ],
   "source": [
    "print(unique_may4_nonnoise[unique_may4_nonnoise.content_natid.isin(full_train_topics.content_natid)].shape[0])\n",
    "print(unique_may4_nonnoise[unique_may4_nonnoise.content_natid.isin(full_train_topics.content_natid)].shape[0]/unique_may4_nonnoise.shape[0])"
   ]
  },
  {
   "cell_type": "code",
   "execution_count": 68,
   "metadata": {},
   "outputs": [
    {
     "name": "stdout",
     "output_type": "stream",
     "text": [
      "223\n",
      "1.0\n"
     ]
    }
   ],
   "source": [
    "print(unique_may4_nonnoise[~unique_may4_nonnoise.content_natid.isin(full_train_topics.content_natid)].shape[0])\n",
    "print(unique_may4_nonnoise[~unique_may4_nonnoise.content_natid.isin(full_train_topics.content_natid)].shape[0]/unique_may4_nonnoise.shape[0])"
   ]
  },
  {
   "cell_type": "code",
   "execution_count": 83,
   "metadata": {},
   "outputs": [
    {
     "name": "stdout",
     "output_type": "stream",
     "text": [
      "0\n",
      "0.0\n",
      "296\n",
      "1.0\n"
     ]
    }
   ],
   "source": [
    "# out of noise, 30% were in training data as well. \n",
    "print(unique_may4_noise[unique_may4_noise.content_natid.isin(full_train_topics.content_natid)].shape[0])\n",
    "print(unique_may4_noise[unique_may4_noise.content_natid.isin(full_train_topics.content_natid)].shape[0]/unique_may4_noise.shape[0])\n",
    "print(unique_may4_noise[~unique_may4_noise.content_natid.isin(full_train_topics.content_natid)].shape[0])\n",
    "print(unique_may4_noise[~unique_may4_noise.content_natid.isin(full_train_topics.content_natid)].shape[0]/unique_may4_noise.shape[0])"
   ]
  },
  {
   "cell_type": "code",
   "execution_count": 69,
   "metadata": {},
   "outputs": [
    {
     "data": {
      "text/plain": [
       "(0, 7)"
      ]
     },
     "execution_count": 69,
     "metadata": {},
     "output_type": "execute_result"
    }
   ],
   "source": [
    "common_unique_may4_noise_train = pd.merge(unique_may4_noise[['content_natid', 'Doc', 'Topic', 'topic_words']], \n",
    "                                          full_train_topics[['content_natid', 'Doc', 'Topic', 'topic_words']], on=\"content_natid\", how=\"inner\")\n",
    "common_unique_may4_noise_train.shape"
   ]
  },
  {
   "cell_type": "code",
   "execution_count": 70,
   "metadata": {},
   "outputs": [
    {
     "name": "stdout",
     "output_type": "stream",
     "text": [
      "(0, 7)\n",
      "(0, 7)\n"
     ]
    }
   ],
   "source": [
    "print(common_unique_may4_noise_train[(common_unique_may4_noise_train.Topic_x==-1) & (common_unique_may4_noise_train.Topic_y==-1)].shape)\n",
    "print(common_unique_may4_noise_train[((common_unique_may4_noise_train.Topic_x==-1) & (common_unique_may4_noise_train.Topic_y!=-1))].shape)"
   ]
  },
  {
   "cell_type": "code",
   "execution_count": 71,
   "metadata": {},
   "outputs": [
    {
     "data": {
      "text/plain": [
       "(3704, 15)"
      ]
     },
     "execution_count": 71,
     "metadata": {},
     "output_type": "execute_result"
    }
   ],
   "source": [
    "non_unique_commons = pred_may04_full[~pred_may04_full.content_natid.isin(unique_may4.content_natid)]\n",
    "non_unique_commons.shape"
   ]
  },
  {
   "cell_type": "code",
   "execution_count": 72,
   "metadata": {},
   "outputs": [
    {
     "name": "stdout",
     "output_type": "stream",
     "text": [
      "(3704, 10)\n",
      "Index(['content_natid', 'Doc_x', 'Topic_x', 'topic_words_x', 'Doc_y',\n",
      "       'Topic_y', 'topic_words_y', 'Doc', 'Topic', 'topic_words'],\n",
      "      dtype='object')\n"
     ]
    }
   ],
   "source": [
    "col_list = ['content_natid', 'Doc', 'Topic', 'topic_words']\n",
    "\n",
    "common_43 = pd.merge(pd.merge(non_unique_commons[col_list], \n",
    "                              pred_may03_full[col_list], how=\"left\", on=\"content_natid\"),\n",
    "                      full_train_topics[col_list], how=\"left\", on=\"content_natid\")\n",
    "                     \n",
    "print(common_43.shape)\n",
    "print(common_43.columns)"
   ]
  },
  {
   "cell_type": "code",
   "execution_count": 73,
   "metadata": {},
   "outputs": [
    {
     "name": "stdout",
     "output_type": "stream",
     "text": [
      "(3350, 7)\n",
      "Index(['content_natid', 'Doc_x', 'Topic_x', 'topic_words_x', 'Doc_y',\n",
      "       'Topic_y', 'topic_words_y'],\n",
      "      dtype='object')\n"
     ]
    }
   ],
   "source": [
    "col_list = ['content_natid', 'Doc', 'Topic', 'topic_words']\n",
    "\n",
    "common_4train = pd.merge(non_unique_commons[col_list], \n",
    "                      full_train_topics[col_list], how=\"inner\", on=\"content_natid\")\n",
    "                     \n",
    "print(common_4train.shape)\n",
    "print(common_4train.columns)"
   ]
  },
  {
   "cell_type": "code",
   "execution_count": 74,
   "metadata": {},
   "outputs": [
    {
     "name": "stdout",
     "output_type": "stream",
     "text": [
      "(3350, 7)\n",
      "(2171, 7)\n",
      "(797, 7)\n",
      "(1374, 7)\n"
     ]
    }
   ],
   "source": [
    "print(common_4train.shape)\n",
    "print(common_4train[(common_4train.Topic_x==common_4train.Topic_y)].shape)\n",
    "print(common_4train[(common_4train.Topic_x==-1) & (common_4train.Topic_y==-1)].shape)\n",
    "print(common_4train[(common_4train.Topic_x!=-1) & (common_4train.Topic_y!=-1) & (common_4train.Topic_x==common_4train.Topic_y)].shape)"
   ]
  },
  {
   "cell_type": "code",
   "execution_count": 75,
   "metadata": {},
   "outputs": [
    {
     "name": "stdout",
     "output_type": "stream",
     "text": [
      "(1179, 7)\n",
      "(748, 7)\n",
      "(231, 7)\n",
      "(200, 7)\n"
     ]
    }
   ],
   "source": [
    "print(common_4train[(common_4train.Topic_x!= common_4train.Topic_y)].shape)\n",
    "print(common_4train[(common_4train.Topic_x==-1) & (common_4train.Topic_y!=-1)].shape)\n",
    "print(common_4train[(common_4train.Topic_x!=-1) & (common_4train.Topic_y==-1)].shape)\n",
    "print(common_4train[(common_4train.Topic_x!= common_4train.Topic_y) &\n",
    "                    (common_4train.Topic_x!=-1) & (common_4train.Topic_y!=-1)].shape)"
   ]
  },
  {
   "cell_type": "markdown",
   "metadata": {},
   "source": [
    "**-----Repeats detailed exploration-----**"
   ]
  },
  {
   "cell_type": "code",
   "execution_count": 76,
   "metadata": {},
   "outputs": [
    {
     "name": "stdout",
     "output_type": "stream",
     "text": [
      "(3704, 10)\n",
      "(2352, 10)\n",
      "(1134, 10)\n",
      "(1218, 10)\n"
     ]
    }
   ],
   "source": [
    "print(common_43.shape)\n",
    "print(common_43[(common_43.Topic_x==common_43.Topic_y)].shape)\n",
    "print(common_43[(common_43.Topic_x==-1) & (common_43.Topic_y==-1)].shape)\n",
    "print(common_43[(common_43.Topic_x!=-1) & (common_43.Topic_y!=-1) & (common_43.Topic_x==common_43.Topic_y)].shape)"
   ]
  },
  {
   "cell_type": "code",
   "execution_count": 77,
   "metadata": {},
   "outputs": [
    {
     "name": "stdout",
     "output_type": "stream",
     "text": [
      "(3704, 10)\n",
      "(1352, 10)\n",
      "(603, 10)\n",
      "(440, 10)\n",
      "(309, 10)\n"
     ]
    }
   ],
   "source": [
    "print(common_43.shape)\n",
    "print(common_43[(common_43.Topic_x!=common_43.Topic_y)].shape)\n",
    "print(common_43[(common_43.Topic_x==-1) & (common_43.Topic_y!=-1)].shape)\n",
    "print(common_43[(common_43.Topic_x!=-1) & (common_43.Topic_y==-1)].shape)\n",
    "print(common_43[(common_43.Topic_x!=-1) & (common_43.Topic_y!=-1) & (common_43.Topic_x!=common_43.Topic_y)].shape)"
   ]
  },
  {
   "cell_type": "code",
   "execution_count": 78,
   "metadata": {},
   "outputs": [
    {
     "name": "stdout",
     "output_type": "stream",
     "text": [
      "(1737, 10)\n",
      "(1574, 10)\n"
     ]
    }
   ],
   "source": [
    "print(common_43[(common_43.Topic_x==-1)].shape)\n",
    "print(common_43[(common_43.Topic_y==-1)].shape)"
   ]
  },
  {
   "cell_type": "code",
   "execution_count": 79,
   "metadata": {},
   "outputs": [
    {
     "data": {
      "text/plain": [
       "(3350, 13)"
      ]
     },
     "execution_count": 79,
     "metadata": {},
     "output_type": "execute_result"
    }
   ],
   "source": [
    "common_43train = pd.merge(common_43, full_train_topics[['content_natid', 'Doc', 'Topic', 'topic_words']], on=\"content_natid\", how=\"inner\")\n",
    "common_43train.shape"
   ]
  },
  {
   "cell_type": "code",
   "execution_count": 80,
   "metadata": {},
   "outputs": [
    {
     "data": {
      "text/html": [
       "<div>\n",
       "<style scoped>\n",
       "    .dataframe tbody tr th:only-of-type {\n",
       "        vertical-align: middle;\n",
       "    }\n",
       "\n",
       "    .dataframe tbody tr th {\n",
       "        vertical-align: top;\n",
       "    }\n",
       "\n",
       "    .dataframe thead th {\n",
       "        text-align: right;\n",
       "    }\n",
       "</style>\n",
       "<table border=\"1\" class=\"dataframe\">\n",
       "  <thead>\n",
       "    <tr style=\"text-align: right;\">\n",
       "      <th></th>\n",
       "      <th>content_natid</th>\n",
       "      <th>Doc_x</th>\n",
       "      <th>Topic_x</th>\n",
       "      <th>topic_words_x</th>\n",
       "      <th>Doc_y</th>\n",
       "      <th>Topic_y</th>\n",
       "      <th>topic_words_y</th>\n",
       "      <th>Doc_x</th>\n",
       "      <th>Topic_x</th>\n",
       "      <th>topic_words_x</th>\n",
       "      <th>Doc_y</th>\n",
       "      <th>Topic_y</th>\n",
       "      <th>topic_words_y</th>\n",
       "    </tr>\n",
       "  </thead>\n",
       "  <tbody>\n",
       "    <tr>\n",
       "      <th>0</th>\n",
       "      <td>blogandpostid/blog/post/4983-603fce6d28b0df00061a762b</td>\n",
       "      <td>10 durable air mattresses that wont go flat on you overnight. whether youre planning on having overnight guests, camping , or just need a spot to crash temporarily while you furnish a new apartment, an air mattress is a must. but anyone whos ever...</td>\n",
       "      <td>49</td>\n",
       "      <td>mattress, pillow, memory foam, sleepers, comforter, blanket</td>\n",
       "      <td>10 durable air mattresses that wont go flat on you overnight. whether youre planning on having overnight guests, camping , or just need a spot to crash temporarily while you furnish a new apartment, an air mattress is a must. but anyone whos ever...</td>\n",
       "      <td>49.0</td>\n",
       "      <td>mattress, pillow, memory foam, sleepers, comforter, blanket</td>\n",
       "      <td>8 durable air mattresses that wont deflate on you while youre sleeping. whether youre planning on having overnight guests, camping , or just need a spot to crash temporarily while you furnish a new apartment, an air mattress is a must. but anyone...</td>\n",
       "      <td>49.0</td>\n",
       "      <td>mattress, pillow, memory foam, sleepers, comforter, blanket</td>\n",
       "      <td>8 durable air mattresses that wont deflate on you while youre sleeping. whether youre planning on having overnight guests, camping , or just need a spot to crash temporarily while you furnish a new apartment, an air mattress is a must. but anyone...</td>\n",
       "      <td>49</td>\n",
       "      <td>mattress, pillow, memory foam, sleepers, comforter, blanket</td>\n",
       "    </tr>\n",
       "  </tbody>\n",
       "</table>\n",
       "</div>"
      ],
      "text/plain": [
       "                                           content_natid  \\\n",
       "0  blogandpostid/blog/post/4983-603fce6d28b0df00061a762b   \n",
       "\n",
       "                                                                                                                                                                                                                                                       Doc_x  \\\n",
       "0  10 durable air mattresses that wont go flat on you overnight. whether youre planning on having overnight guests, camping , or just need a spot to crash temporarily while you furnish a new apartment, an air mattress is a must. but anyone whos ever...   \n",
       "\n",
       "   Topic_x                                                topic_words_x  \\\n",
       "0       49  mattress, pillow, memory foam, sleepers, comforter, blanket   \n",
       "\n",
       "                                                                                                                                                                                                                                                       Doc_y  \\\n",
       "0  10 durable air mattresses that wont go flat on you overnight. whether youre planning on having overnight guests, camping , or just need a spot to crash temporarily while you furnish a new apartment, an air mattress is a must. but anyone whos ever...   \n",
       "\n",
       "   Topic_y                                                topic_words_y  \\\n",
       "0     49.0  mattress, pillow, memory foam, sleepers, comforter, blanket   \n",
       "\n",
       "                                                                                                                                                                                                                                                       Doc_x  \\\n",
       "0  8 durable air mattresses that wont deflate on you while youre sleeping. whether youre planning on having overnight guests, camping , or just need a spot to crash temporarily while you furnish a new apartment, an air mattress is a must. but anyone...   \n",
       "\n",
       "   Topic_x                                                topic_words_x  \\\n",
       "0     49.0  mattress, pillow, memory foam, sleepers, comforter, blanket   \n",
       "\n",
       "                                                                                                                                                                                                                                                       Doc_y  \\\n",
       "0  8 durable air mattresses that wont deflate on you while youre sleeping. whether youre planning on having overnight guests, camping , or just need a spot to crash temporarily while you furnish a new apartment, an air mattress is a must. but anyone...   \n",
       "\n",
       "   Topic_y                                                topic_words_y  \n",
       "0       49  mattress, pillow, memory foam, sleepers, comforter, blanket  "
      ]
     },
     "execution_count": 80,
     "metadata": {},
     "output_type": "execute_result"
    }
   ],
   "source": [
    "common_43train.head(1)"
   ]
  },
  {
   "cell_type": "code",
   "execution_count": 85,
   "metadata": {},
   "outputs": [],
   "source": [
    "# print(common_43train[(common_43train.Topic_x==-1) & (common_43train.Topic_y==-1) & (common_43train.Topic==-1)].shape)\n",
    "# print(common_43train[((common_43train.Topic_x!=-1) | (common_43train.Topic_y!=-1)) & (common_43train.Topic==-1)].shape)\n",
    "# print(common_43train[((common_43train.Topic_x==-1) | (common_43train.Topic_y==-1)) & (common_43train.Topic!=-1)].shape)"
   ]
  },
  {
   "cell_type": "code",
   "execution_count": 86,
   "metadata": {},
   "outputs": [
    {
     "name": "stdout",
     "output_type": "stream",
     "text": [
      "(1574, 10)\n",
      "(2130, 10)\n"
     ]
    }
   ],
   "source": [
    "common_43_noise = common_43[common_43.Topic_y==-1]\n",
    "print(common_43_noise.shape)\n",
    "common_43_nonnoise = common_43[common_43.Topic_y!=-1]\n",
    "print(common_43_nonnoise.shape)"
   ]
  },
  {
   "cell_type": "code",
   "execution_count": 87,
   "metadata": {},
   "outputs": [
    {
     "name": "stdout",
     "output_type": "stream",
     "text": [
      "1978\n",
      "0.9286384976525821\n",
      "152\n",
      "0.07136150234741784\n"
     ]
    }
   ],
   "source": [
    "print(common_43_nonnoise[common_43_nonnoise.content_natid.isin(full_train_topics.content_natid)].shape[0])\n",
    "print(common_43_nonnoise[common_43_nonnoise.content_natid.isin(full_train_topics.content_natid)].shape[0]/common_43_nonnoise.shape[0])\n",
    "print(common_43_nonnoise[~common_43_nonnoise.content_natid.isin(full_train_topics.content_natid)].shape[0])\n",
    "print(common_43_nonnoise[~common_43_nonnoise.content_natid.isin(full_train_topics.content_natid)].shape[0]/common_43_nonnoise.shape[0])"
   ]
  },
  {
   "cell_type": "code",
   "execution_count": 88,
   "metadata": {},
   "outputs": [
    {
     "name": "stdout",
     "output_type": "stream",
     "text": [
      "(1574, 10)\n",
      "1372\n",
      "0.8716645489199492\n"
     ]
    }
   ],
   "source": [
    "print(common_43_noise.shape)\n",
    "print(common_43_noise[common_43_noise.content_natid.isin(full_train_topics.content_natid)].shape[0])\n",
    "print(common_43_noise[common_43_noise.content_natid.isin(full_train_topics.content_natid)].shape[0]/common_43_noise.shape[0])"
   ]
  },
  {
   "cell_type": "code",
   "execution_count": 89,
   "metadata": {},
   "outputs": [
    {
     "name": "stdout",
     "output_type": "stream",
     "text": [
      "(1574, 10)\n",
      "202\n",
      "0.12833545108005082\n"
     ]
    }
   ],
   "source": [
    "print(common_43_noise.shape)\n",
    "print(common_43_noise[~common_43_noise.content_natid.isin(full_train_topics.content_natid)].shape[0])\n",
    "print(common_43_noise[~common_43_noise.content_natid.isin(full_train_topics.content_natid)].shape[0]/common_43_noise.shape[0])"
   ]
  },
  {
   "cell_type": "code",
   "execution_count": 90,
   "metadata": {},
   "outputs": [
    {
     "name": "stdout",
     "output_type": "stream",
     "text": [
      "common noise which was also noise in training (758, 11)\n",
      "\n",
      "common noise which was not noise in training (614, 11)\n",
      "\n",
      "Out of 680 valid non-noise topics in training\n",
      "[141 202  39 134 280 168  60  19 254  75 182 176  93 163 115  94 267  63\n",
      " 209  86 276 310 175 230 260 247 290 283 179 102  17 301 307 224 250 107\n",
      " 151 184  11 157 233  91 277 164 145 261 318 106 159 238 231 291 199 189\n",
      " 216 285 249 123 323 104 122 100  99  65  56  53 300 306  21 237  51  57\n",
      " 150 235 171 174  68 197 142 275 180 173  92 188  85 183 161  74 225  76\n",
      " 284 191  72  16 297 198 131 311 194 166 278 185 265 296 279 203 143 239\n",
      "  24 193 147  42 287 119 201 132  59  18 196  22   5 264 121 236 156  64\n",
      " 160 195 227   4  61 226 177 218  81 127 324 169 315 155 252 111  52  67\n",
      " 282 223 192 245  84  32 101 299 128 148 205 146  89 241  34 314 213 200\n",
      "  33 288  48 117 105 243 217  40 294 126  95  50 259 268  82  70  78 281\n",
      " 170 207 246 206 255 212 124 211  36 129 326 289 317 178 253 204 319 309\n",
      " 325  62 298 320 215  29 313  54 257 272 305 302 308 219 208  31  25  10\n",
      " 234  96 262 135 120 293 172 149 269 140 322 312 303 103 133   3 167 286\n",
      "  27 271 229  38]\n"
     ]
    }
   ],
   "source": [
    "print(\"common noise which was also noise in training\", full_train_topics[(full_train_topics.content_natid.isin(common_43_noise.content_natid)) & (full_train_topics.Topic==-1)].shape)\n",
    "print()\n",
    "print(\"common noise which was not noise in training\", full_train_topics[(full_train_topics.content_natid.isin(common_43_noise.content_natid)) & (full_train_topics.Topic!=-1)].shape)\n",
    "print()\n",
    "print(\"Out of 680 valid non-noise topics in training\")\n",
    "print(full_train_topics[(full_train_topics.content_natid.isin(common_43_noise.content_natid)) & (full_train_topics.Topic!=-1)].Topic.unique())"
   ]
  },
  {
   "cell_type": "code",
   "execution_count": 91,
   "metadata": {},
   "outputs": [],
   "source": [
    "# TODO - do same comparison for all days"
   ]
  },
  {
   "cell_type": "markdown",
   "metadata": {},
   "source": [
    "### Opt-2 Prediction\n",
    "* same model predict on 7 days without repeating articles"
   ]
  },
  {
   "cell_type": "code",
   "execution_count": 58,
   "metadata": {},
   "outputs": [
    {
     "data": {
      "text/plain": [
       "(7238, 11)"
      ]
     },
     "execution_count": 58,
     "metadata": {},
     "output_type": "execute_result"
    }
   ],
   "source": [
    "full_train_topics.shape"
   ]
  },
  {
   "cell_type": "code",
   "execution_count": 59,
   "metadata": {},
   "outputs": [
    {
     "data": {
      "text/plain": [
       "(519, 15)"
      ]
     },
     "execution_count": 59,
     "metadata": {},
     "output_type": "execute_result"
    }
   ],
   "source": [
    "# example of predicting on may 4 which doesnt contain may3 articles and doesnt contain training articles\n",
    "pred_may04_full[~((pred_may04_full.content_natid.isin(full_train_topics.content_natid)) | (pred_may04_full.content_natid.isin(pred_may03_full.content_natid)))].shape"
   ]
  },
  {
   "cell_type": "code",
   "execution_count": 60,
   "metadata": {},
   "outputs": [],
   "source": [
    "def replicate_prod_deduplication(df_list, raw_df, embeds_list):\n",
    "    \n",
    "    # merge and deduplicate earlier days dfs - \n",
    "    # replicates a DB where unique articles and their topic assignments are stored. scope of comparisom - past 7 days\n",
    "    concat_dfs = pd.concat(df_list)\n",
    "    concat_dfs.drop_duplicates(\"content_natid\", keep=\"first\", inplace=True)\n",
    "    \n",
    "    # updated_df = raw_df[~raw_df.content_natid.isin(concat_dfs.content_natid)] # old\n",
    "    updated_df = raw_df[~((raw_df.content_natid.isin(full_train_topics.content_natid)) | (raw_df.content_natid.isin(concat_dfs.content_natid)))]\n",
    "    pred_opt2_embeds = [embeds_list[i] for i in list(updated_df.index)]\n",
    "    print(\"embeds: \", len(pred_opt2_embeds))\n",
    "    \n",
    "    updated_df.reset_index(drop=True, inplace=True)\n",
    "    \n",
    "    return updated_df, pred_opt2_embeds"
   ]
  },
  {
   "cell_type": "code",
   "execution_count": 61,
   "metadata": {},
   "outputs": [
    {
     "name": "stdout",
     "output_type": "stream",
     "text": [
      "embeds:  527\n",
      "Opt-2 May 03 - (527, 9)\n",
      "embeds:  519\n",
      "Opt-2 May 04 - (519, 9)\n",
      "embeds:  450\n",
      "Opt-2 May 05 - (450, 9)\n",
      "embeds:  452\n",
      "Opt-2 May 06 - (452, 9)\n",
      "embeds:  322\n",
      "Opt-2 May 07 - (322, 9)\n",
      "embeds:  175\n",
      "Opt-2 May 08 - (175, 9)\n",
      "embeds:  196\n",
      "Opt-2 May 09 - (196, 9)\n"
     ]
    }
   ],
   "source": [
    "# may03_opt2 = may03.copy() # old\n",
    "# may03_opt2_emebds = may03_art_embed # old\n",
    "\n",
    "may03_opt2 = may03[~may03.content_natid.isin(full_train_topics.content_natid)]\n",
    "may03_opt2_emebds = [may03_art_embed[i] for i in list(may03_opt2.index)]\n",
    "may03_opt2.reset_index(drop=True, inplace=True)\n",
    "print(\"embeds: \", len(may03_opt2_emebds))\n",
    "print(\"Opt-2 May 03 -\", may03_opt2.shape)\n",
    "\n",
    "# may04_opt2 = may04[~may04.content_natid.isin(may03.content_natid)] # old\n",
    "may04_opt2 = may04[~((may04.content_natid.isin(full_train_topics.content_natid)) | (may04.content_natid.isin(may03.content_natid)))]\n",
    "may04_opt2_emebds = [may04_art_embed[i] for i in list(may04_opt2.index)]\n",
    "may04_opt2.reset_index(drop=True, inplace=True)\n",
    "print(\"embeds: \", len(may04_opt2_emebds))\n",
    "print(\"Opt-2 May 04 -\", may04_opt2.shape)\n",
    "\n",
    "may05_opt2, may05_opt2_emebds = replicate_prod_deduplication([may03, may04], \n",
    "                                                               may05, \n",
    "                                                               may05_art_embed)\n",
    "print(\"Opt-2 May 05 -\", may05_opt2.shape)\n",
    "\n",
    "may06_opt2, may06_opt2_emebds  = replicate_prod_deduplication([may03, may04, may05], \n",
    "                                                                may06, \n",
    "                                                                may06_art_embed)\n",
    "print(\"Opt-2 May 06 -\", may06_opt2.shape)\n",
    "\n",
    "may07_opt2, may07_opt2_emebds = replicate_prod_deduplication([may03, may04, may05, may06], \n",
    "                                                               may07, \n",
    "                                                               may07_art_embed)\n",
    "print(\"Opt-2 May 07 -\", may07_opt2.shape)\n",
    "\n",
    "may08_opt2, may08_opt2_emebds = replicate_prod_deduplication([may03, may04, may05, may06, may07], \n",
    "                                                               may08, \n",
    "                                                               may08_art_embed)\n",
    "print(\"Opt-2 May 08 -\", may08_opt2.shape)\n",
    "\n",
    "may09_opt2, may09_opt2_emebds = replicate_prod_deduplication([may03, may04, may05, may06, may07, may08], \n",
    "                                                               may09, \n",
    "                                                               may09_art_embed)\n",
    "print(\"Opt-2 May 09 -\", may09_opt2.shape)"
   ]
  },
  {
   "cell_type": "markdown",
   "metadata": {},
   "source": [
    "* **Predict new points/articles - May 3**"
   ]
  },
  {
   "cell_type": "code",
   "execution_count": 62,
   "metadata": {},
   "outputs": [
    {
     "name": "stdout",
     "output_type": "stream",
     "text": [
      "Training input shape: (7238, 2)\n",
      "Prediction input shape: (527, 2)\n",
      "\n",
      "Distinct topics including -1 for noise 119\n",
      "Rows:  (290, 15)\n",
      "Perc:  55\n",
      "time (mins):  0.04\n"
     ]
    },
    {
     "data": {
      "text/html": [
       "<div>\n",
       "<style scoped>\n",
       "    .dataframe tbody tr th:only-of-type {\n",
       "        vertical-align: middle;\n",
       "    }\n",
       "\n",
       "    .dataframe tbody tr th {\n",
       "        vertical-align: top;\n",
       "    }\n",
       "\n",
       "    .dataframe thead th {\n",
       "        text-align: right;\n",
       "    }\n",
       "</style>\n",
       "<table border=\"1\" class=\"dataframe\">\n",
       "  <thead>\n",
       "    <tr style=\"text-align: right;\">\n",
       "      <th></th>\n",
       "      <th>cos_min</th>\n",
       "      <th>cos_mean</th>\n",
       "      <th>distinct_tier1s</th>\n",
       "      <th>Size</th>\n",
       "    </tr>\n",
       "  </thead>\n",
       "  <tbody>\n",
       "    <tr>\n",
       "      <th>count</th>\n",
       "      <td>51.00</td>\n",
       "      <td>51.00</td>\n",
       "      <td>119.00</td>\n",
       "      <td>119.00</td>\n",
       "    </tr>\n",
       "    <tr>\n",
       "      <th>mean</th>\n",
       "      <td>0.99</td>\n",
       "      <td>1.00</td>\n",
       "      <td>1.76</td>\n",
       "      <td>4.43</td>\n",
       "    </tr>\n",
       "    <tr>\n",
       "      <th>std</th>\n",
       "      <td>0.09</td>\n",
       "      <td>0.01</td>\n",
       "      <td>2.59</td>\n",
       "      <td>26.45</td>\n",
       "    </tr>\n",
       "    <tr>\n",
       "      <th>min</th>\n",
       "      <td>0.33</td>\n",
       "      <td>0.94</td>\n",
       "      <td>1.00</td>\n",
       "      <td>1.00</td>\n",
       "    </tr>\n",
       "    <tr>\n",
       "      <th>25%</th>\n",
       "      <td>1.00</td>\n",
       "      <td>1.00</td>\n",
       "      <td>1.00</td>\n",
       "      <td>1.00</td>\n",
       "    </tr>\n",
       "    <tr>\n",
       "      <th>50%</th>\n",
       "      <td>1.00</td>\n",
       "      <td>1.00</td>\n",
       "      <td>1.00</td>\n",
       "      <td>1.00</td>\n",
       "    </tr>\n",
       "    <tr>\n",
       "      <th>75%</th>\n",
       "      <td>1.00</td>\n",
       "      <td>1.00</td>\n",
       "      <td>2.00</td>\n",
       "      <td>3.00</td>\n",
       "    </tr>\n",
       "    <tr>\n",
       "      <th>max</th>\n",
       "      <td>1.00</td>\n",
       "      <td>1.00</td>\n",
       "      <td>28.00</td>\n",
       "      <td>290.00</td>\n",
       "    </tr>\n",
       "  </tbody>\n",
       "</table>\n",
       "</div>"
      ],
      "text/plain": [
       "       cos_min  cos_mean  distinct_tier1s    Size\n",
       "count    51.00     51.00           119.00  119.00\n",
       "mean      0.99      1.00             1.76    4.43\n",
       "std       0.09      0.01             2.59   26.45\n",
       "min       0.33      0.94             1.00    1.00\n",
       "25%       1.00      1.00             1.00    1.00\n",
       "50%       1.00      1.00             1.00    1.00\n",
       "75%       1.00      1.00             2.00    3.00\n",
       "max       1.00      1.00            28.00  290.00"
      ]
     },
     "execution_count": 62,
     "metadata": {},
     "output_type": "execute_result"
    }
   ],
   "source": [
    "start = time.time()\n",
    "\n",
    "o2_pred_may03_full, o2_may03_docs_df, o2_topic_info_may03, o2_may03_strengths = predict(umap_embeddings, cluster,\n",
    "                                                                                        may03_opt2_emebds, may03_opt2) \n",
    "\n",
    "# NOISE\n",
    "print(\"Rows: \", o2_pred_may03_full[o2_pred_may03_full.Topic==-1].shape)\n",
    "print(\"Perc: \", round(o2_pred_may03_full[o2_pred_may03_full.Topic==-1].shape[0]/o2_pred_may03_full.shape[0] * 100))\n",
    "\n",
    "end = time.time()\n",
    "print(\"time (mins): \", round((end - start)/60, 2)) \n",
    "\n",
    "o2_topic_info_may03[['cos_min', 'cos_mean', 'distinct_tier1s', 'Size']].describe().apply(lambda x: round(x, 2))"
   ]
  },
  {
   "cell_type": "markdown",
   "metadata": {},
   "source": [
    "* **Predict new points/articles - May 4**"
   ]
  },
  {
   "cell_type": "code",
   "execution_count": 63,
   "metadata": {},
   "outputs": [
    {
     "name": "stdout",
     "output_type": "stream",
     "text": [
      "Training input shape: (7238, 2)\n",
      "Prediction input shape: (519, 2)\n",
      "\n",
      "Distinct topics including -1 for noise 135\n",
      "Rows:  (253, 15)\n",
      "Perc:  49\n",
      "time (mins):  0.04\n"
     ]
    },
    {
     "data": {
      "text/html": [
       "<div>\n",
       "<style scoped>\n",
       "    .dataframe tbody tr th:only-of-type {\n",
       "        vertical-align: middle;\n",
       "    }\n",
       "\n",
       "    .dataframe tbody tr th {\n",
       "        vertical-align: top;\n",
       "    }\n",
       "\n",
       "    .dataframe thead th {\n",
       "        text-align: right;\n",
       "    }\n",
       "</style>\n",
       "<table border=\"1\" class=\"dataframe\">\n",
       "  <thead>\n",
       "    <tr style=\"text-align: right;\">\n",
       "      <th></th>\n",
       "      <th>cos_min</th>\n",
       "      <th>cos_mean</th>\n",
       "      <th>distinct_tier1s</th>\n",
       "      <th>Size</th>\n",
       "    </tr>\n",
       "  </thead>\n",
       "  <tbody>\n",
       "    <tr>\n",
       "      <th>count</th>\n",
       "      <td>64.00</td>\n",
       "      <td>64.00</td>\n",
       "      <td>135.00</td>\n",
       "      <td>135.00</td>\n",
       "    </tr>\n",
       "    <tr>\n",
       "      <th>mean</th>\n",
       "      <td>0.99</td>\n",
       "      <td>1.00</td>\n",
       "      <td>1.66</td>\n",
       "      <td>3.84</td>\n",
       "    </tr>\n",
       "    <tr>\n",
       "      <th>std</th>\n",
       "      <td>0.07</td>\n",
       "      <td>0.01</td>\n",
       "      <td>2.08</td>\n",
       "      <td>21.65</td>\n",
       "    </tr>\n",
       "    <tr>\n",
       "      <th>min</th>\n",
       "      <td>0.43</td>\n",
       "      <td>0.96</td>\n",
       "      <td>1.00</td>\n",
       "      <td>1.00</td>\n",
       "    </tr>\n",
       "    <tr>\n",
       "      <th>25%</th>\n",
       "      <td>1.00</td>\n",
       "      <td>1.00</td>\n",
       "      <td>1.00</td>\n",
       "      <td>1.00</td>\n",
       "    </tr>\n",
       "    <tr>\n",
       "      <th>50%</th>\n",
       "      <td>1.00</td>\n",
       "      <td>1.00</td>\n",
       "      <td>1.00</td>\n",
       "      <td>1.00</td>\n",
       "    </tr>\n",
       "    <tr>\n",
       "      <th>75%</th>\n",
       "      <td>1.00</td>\n",
       "      <td>1.00</td>\n",
       "      <td>2.00</td>\n",
       "      <td>3.00</td>\n",
       "    </tr>\n",
       "    <tr>\n",
       "      <th>max</th>\n",
       "      <td>1.00</td>\n",
       "      <td>1.00</td>\n",
       "      <td>24.00</td>\n",
       "      <td>253.00</td>\n",
       "    </tr>\n",
       "  </tbody>\n",
       "</table>\n",
       "</div>"
      ],
      "text/plain": [
       "       cos_min  cos_mean  distinct_tier1s    Size\n",
       "count    64.00     64.00           135.00  135.00\n",
       "mean      0.99      1.00             1.66    3.84\n",
       "std       0.07      0.01             2.08   21.65\n",
       "min       0.43      0.96             1.00    1.00\n",
       "25%       1.00      1.00             1.00    1.00\n",
       "50%       1.00      1.00             1.00    1.00\n",
       "75%       1.00      1.00             2.00    3.00\n",
       "max       1.00      1.00            24.00  253.00"
      ]
     },
     "execution_count": 63,
     "metadata": {},
     "output_type": "execute_result"
    }
   ],
   "source": [
    "start = time.time()\n",
    "\n",
    "o2_pred_may04_full, o2_may04_docs_df, o2_topic_info_may04, o2_may04_strengths = predict(umap_embeddings, cluster,\n",
    "                                                                                        may04_opt2_emebds, may04_opt2) \n",
    "\n",
    "# NOISE\n",
    "print(\"Rows: \", o2_pred_may04_full[o2_pred_may04_full.Topic==-1].shape)\n",
    "print(\"Perc: \", round(o2_pred_may04_full[o2_pred_may04_full.Topic==-1].shape[0]/o2_pred_may04_full.shape[0] * 100))\n",
    "\n",
    "end = time.time()\n",
    "print(\"time (mins): \", round((end - start)/60, 2)) \n",
    "\n",
    "o2_topic_info_may04[['cos_min', 'cos_mean', 'distinct_tier1s', 'Size']].describe().apply(lambda x: round(x, 2))"
   ]
  },
  {
   "cell_type": "markdown",
   "metadata": {},
   "source": [
    "* **Predict new points/articles - May 5**"
   ]
  },
  {
   "cell_type": "code",
   "execution_count": 64,
   "metadata": {},
   "outputs": [
    {
     "name": "stdout",
     "output_type": "stream",
     "text": [
      "Training input shape: (7238, 2)\n",
      "Prediction input shape: (450, 2)\n",
      "\n",
      "Distinct topics including -1 for noise 122\n",
      "Rows:  (222, 15)\n",
      "Perc:  49\n",
      "time (mins):  0.03\n"
     ]
    },
    {
     "data": {
      "text/html": [
       "<div>\n",
       "<style scoped>\n",
       "    .dataframe tbody tr th:only-of-type {\n",
       "        vertical-align: middle;\n",
       "    }\n",
       "\n",
       "    .dataframe tbody tr th {\n",
       "        vertical-align: top;\n",
       "    }\n",
       "\n",
       "    .dataframe thead th {\n",
       "        text-align: right;\n",
       "    }\n",
       "</style>\n",
       "<table border=\"1\" class=\"dataframe\">\n",
       "  <thead>\n",
       "    <tr style=\"text-align: right;\">\n",
       "      <th></th>\n",
       "      <th>cos_min</th>\n",
       "      <th>cos_mean</th>\n",
       "      <th>distinct_tier1s</th>\n",
       "      <th>Size</th>\n",
       "    </tr>\n",
       "  </thead>\n",
       "  <tbody>\n",
       "    <tr>\n",
       "      <th>count</th>\n",
       "      <td>56.00</td>\n",
       "      <td>56.00</td>\n",
       "      <td>122.00</td>\n",
       "      <td>122.00</td>\n",
       "    </tr>\n",
       "    <tr>\n",
       "      <th>mean</th>\n",
       "      <td>0.99</td>\n",
       "      <td>1.00</td>\n",
       "      <td>1.61</td>\n",
       "      <td>3.69</td>\n",
       "    </tr>\n",
       "    <tr>\n",
       "      <th>std</th>\n",
       "      <td>0.09</td>\n",
       "      <td>0.01</td>\n",
       "      <td>2.45</td>\n",
       "      <td>19.98</td>\n",
       "    </tr>\n",
       "    <tr>\n",
       "      <th>min</th>\n",
       "      <td>0.32</td>\n",
       "      <td>0.95</td>\n",
       "      <td>1.00</td>\n",
       "      <td>1.00</td>\n",
       "    </tr>\n",
       "    <tr>\n",
       "      <th>25%</th>\n",
       "      <td>1.00</td>\n",
       "      <td>1.00</td>\n",
       "      <td>1.00</td>\n",
       "      <td>1.00</td>\n",
       "    </tr>\n",
       "    <tr>\n",
       "      <th>50%</th>\n",
       "      <td>1.00</td>\n",
       "      <td>1.00</td>\n",
       "      <td>1.00</td>\n",
       "      <td>1.00</td>\n",
       "    </tr>\n",
       "    <tr>\n",
       "      <th>75%</th>\n",
       "      <td>1.00</td>\n",
       "      <td>1.00</td>\n",
       "      <td>2.00</td>\n",
       "      <td>2.00</td>\n",
       "    </tr>\n",
       "    <tr>\n",
       "      <th>max</th>\n",
       "      <td>1.00</td>\n",
       "      <td>1.00</td>\n",
       "      <td>27.00</td>\n",
       "      <td>222.00</td>\n",
       "    </tr>\n",
       "  </tbody>\n",
       "</table>\n",
       "</div>"
      ],
      "text/plain": [
       "       cos_min  cos_mean  distinct_tier1s    Size\n",
       "count    56.00     56.00           122.00  122.00\n",
       "mean      0.99      1.00             1.61    3.69\n",
       "std       0.09      0.01             2.45   19.98\n",
       "min       0.32      0.95             1.00    1.00\n",
       "25%       1.00      1.00             1.00    1.00\n",
       "50%       1.00      1.00             1.00    1.00\n",
       "75%       1.00      1.00             2.00    2.00\n",
       "max       1.00      1.00            27.00  222.00"
      ]
     },
     "execution_count": 64,
     "metadata": {},
     "output_type": "execute_result"
    }
   ],
   "source": [
    "start = time.time()\n",
    "\n",
    "o2_pred_may05_full, o2_may05_docs_df, o2_topic_info_may05, o2_may05_strengths = predict(umap_embeddings, cluster,\n",
    "                                                                                        may05_opt2_emebds, may05_opt2) \n",
    "\n",
    "# NOISE\n",
    "print(\"Rows: \", o2_pred_may05_full[o2_pred_may05_full.Topic==-1].shape)\n",
    "print(\"Perc: \", round(o2_pred_may05_full[o2_pred_may05_full.Topic==-1].shape[0]/o2_pred_may05_full.shape[0] * 100))\n",
    "\n",
    "end = time.time()\n",
    "print(\"time (mins): \", round((end - start)/60, 2)) \n",
    "\n",
    "o2_topic_info_may05[['cos_min', 'cos_mean', 'distinct_tier1s', 'Size']].describe().apply(lambda x: round(x, 2))"
   ]
  },
  {
   "cell_type": "markdown",
   "metadata": {},
   "source": [
    "* **Predict new points/articles - May 6**"
   ]
  },
  {
   "cell_type": "code",
   "execution_count": 65,
   "metadata": {},
   "outputs": [
    {
     "name": "stdout",
     "output_type": "stream",
     "text": [
      "Training input shape: (7238, 2)\n",
      "Prediction input shape: (452, 2)\n",
      "\n",
      "Distinct topics including -1 for noise 112\n",
      "Rows:  (245, 15)\n",
      "Perc:  54\n",
      "time (mins):  0.03\n"
     ]
    },
    {
     "data": {
      "text/html": [
       "<div>\n",
       "<style scoped>\n",
       "    .dataframe tbody tr th:only-of-type {\n",
       "        vertical-align: middle;\n",
       "    }\n",
       "\n",
       "    .dataframe tbody tr th {\n",
       "        vertical-align: top;\n",
       "    }\n",
       "\n",
       "    .dataframe thead th {\n",
       "        text-align: right;\n",
       "    }\n",
       "</style>\n",
       "<table border=\"1\" class=\"dataframe\">\n",
       "  <thead>\n",
       "    <tr style=\"text-align: right;\">\n",
       "      <th></th>\n",
       "      <th>cos_min</th>\n",
       "      <th>cos_mean</th>\n",
       "      <th>distinct_tier1s</th>\n",
       "      <th>Size</th>\n",
       "    </tr>\n",
       "  </thead>\n",
       "  <tbody>\n",
       "    <tr>\n",
       "      <th>count</th>\n",
       "      <td>49.00</td>\n",
       "      <td>49.00</td>\n",
       "      <td>112.00</td>\n",
       "      <td>112.00</td>\n",
       "    </tr>\n",
       "    <tr>\n",
       "      <th>mean</th>\n",
       "      <td>0.99</td>\n",
       "      <td>1.00</td>\n",
       "      <td>1.71</td>\n",
       "      <td>4.04</td>\n",
       "    </tr>\n",
       "    <tr>\n",
       "      <th>std</th>\n",
       "      <td>0.09</td>\n",
       "      <td>0.01</td>\n",
       "      <td>2.40</td>\n",
       "      <td>23.02</td>\n",
       "    </tr>\n",
       "    <tr>\n",
       "      <th>min</th>\n",
       "      <td>0.39</td>\n",
       "      <td>0.95</td>\n",
       "      <td>1.00</td>\n",
       "      <td>1.00</td>\n",
       "    </tr>\n",
       "    <tr>\n",
       "      <th>25%</th>\n",
       "      <td>1.00</td>\n",
       "      <td>1.00</td>\n",
       "      <td>1.00</td>\n",
       "      <td>1.00</td>\n",
       "    </tr>\n",
       "    <tr>\n",
       "      <th>50%</th>\n",
       "      <td>1.00</td>\n",
       "      <td>1.00</td>\n",
       "      <td>1.00</td>\n",
       "      <td>1.00</td>\n",
       "    </tr>\n",
       "    <tr>\n",
       "      <th>75%</th>\n",
       "      <td>1.00</td>\n",
       "      <td>1.00</td>\n",
       "      <td>2.00</td>\n",
       "      <td>2.00</td>\n",
       "    </tr>\n",
       "    <tr>\n",
       "      <th>max</th>\n",
       "      <td>1.00</td>\n",
       "      <td>1.00</td>\n",
       "      <td>25.00</td>\n",
       "      <td>245.00</td>\n",
       "    </tr>\n",
       "  </tbody>\n",
       "</table>\n",
       "</div>"
      ],
      "text/plain": [
       "       cos_min  cos_mean  distinct_tier1s    Size\n",
       "count    49.00     49.00           112.00  112.00\n",
       "mean      0.99      1.00             1.71    4.04\n",
       "std       0.09      0.01             2.40   23.02\n",
       "min       0.39      0.95             1.00    1.00\n",
       "25%       1.00      1.00             1.00    1.00\n",
       "50%       1.00      1.00             1.00    1.00\n",
       "75%       1.00      1.00             2.00    2.00\n",
       "max       1.00      1.00            25.00  245.00"
      ]
     },
     "execution_count": 65,
     "metadata": {},
     "output_type": "execute_result"
    }
   ],
   "source": [
    "start = time.time()\n",
    "\n",
    "o2_pred_may06_full, o2_may06_docs_df, o2_topic_info_may06, o2_may06_strengths = predict(umap_embeddings, cluster,\n",
    "                                                                                        may06_opt2_emebds, may06_opt2) \n",
    "\n",
    "# NOISE\n",
    "print(\"Rows: \", o2_pred_may06_full[o2_pred_may06_full.Topic==-1].shape)\n",
    "print(\"Perc: \", round(o2_pred_may06_full[o2_pred_may06_full.Topic==-1].shape[0]/o2_pred_may06_full.shape[0] * 100))\n",
    "\n",
    "end = time.time()\n",
    "print(\"time (mins): \", round((end - start)/60, 2)) \n",
    "\n",
    "o2_topic_info_may06[['cos_min', 'cos_mean', 'distinct_tier1s', 'Size']].describe().apply(lambda x: round(x, 2))"
   ]
  },
  {
   "cell_type": "markdown",
   "metadata": {},
   "source": [
    "* **Predict new points/articles - May 7**"
   ]
  },
  {
   "cell_type": "code",
   "execution_count": 66,
   "metadata": {},
   "outputs": [
    {
     "name": "stdout",
     "output_type": "stream",
     "text": [
      "Training input shape: (7238, 2)\n",
      "Prediction input shape: (322, 2)\n",
      "\n",
      "Distinct topics including -1 for noise 88\n",
      "Rows:  (162, 15)\n",
      "Perc:  50\n",
      "time (mins):  0.03\n"
     ]
    },
    {
     "data": {
      "text/html": [
       "<div>\n",
       "<style scoped>\n",
       "    .dataframe tbody tr th:only-of-type {\n",
       "        vertical-align: middle;\n",
       "    }\n",
       "\n",
       "    .dataframe tbody tr th {\n",
       "        vertical-align: top;\n",
       "    }\n",
       "\n",
       "    .dataframe thead th {\n",
       "        text-align: right;\n",
       "    }\n",
       "</style>\n",
       "<table border=\"1\" class=\"dataframe\">\n",
       "  <thead>\n",
       "    <tr style=\"text-align: right;\">\n",
       "      <th></th>\n",
       "      <th>cos_min</th>\n",
       "      <th>cos_mean</th>\n",
       "      <th>distinct_tier1s</th>\n",
       "      <th>Size</th>\n",
       "    </tr>\n",
       "  </thead>\n",
       "  <tbody>\n",
       "    <tr>\n",
       "      <th>count</th>\n",
       "      <td>36.00</td>\n",
       "      <td>36.00</td>\n",
       "      <td>88.00</td>\n",
       "      <td>88.00</td>\n",
       "    </tr>\n",
       "    <tr>\n",
       "      <th>mean</th>\n",
       "      <td>0.98</td>\n",
       "      <td>1.00</td>\n",
       "      <td>1.67</td>\n",
       "      <td>3.66</td>\n",
       "    </tr>\n",
       "    <tr>\n",
       "      <th>std</th>\n",
       "      <td>0.10</td>\n",
       "      <td>0.01</td>\n",
       "      <td>2.52</td>\n",
       "      <td>17.12</td>\n",
       "    </tr>\n",
       "    <tr>\n",
       "      <th>min</th>\n",
       "      <td>0.40</td>\n",
       "      <td>0.95</td>\n",
       "      <td>1.00</td>\n",
       "      <td>1.00</td>\n",
       "    </tr>\n",
       "    <tr>\n",
       "      <th>25%</th>\n",
       "      <td>1.00</td>\n",
       "      <td>1.00</td>\n",
       "      <td>1.00</td>\n",
       "      <td>1.00</td>\n",
       "    </tr>\n",
       "    <tr>\n",
       "      <th>50%</th>\n",
       "      <td>1.00</td>\n",
       "      <td>1.00</td>\n",
       "      <td>1.00</td>\n",
       "      <td>1.00</td>\n",
       "    </tr>\n",
       "    <tr>\n",
       "      <th>75%</th>\n",
       "      <td>1.00</td>\n",
       "      <td>1.00</td>\n",
       "      <td>2.00</td>\n",
       "      <td>3.00</td>\n",
       "    </tr>\n",
       "    <tr>\n",
       "      <th>max</th>\n",
       "      <td>1.00</td>\n",
       "      <td>1.00</td>\n",
       "      <td>24.00</td>\n",
       "      <td>162.00</td>\n",
       "    </tr>\n",
       "  </tbody>\n",
       "</table>\n",
       "</div>"
      ],
      "text/plain": [
       "       cos_min  cos_mean  distinct_tier1s    Size\n",
       "count    36.00     36.00            88.00   88.00\n",
       "mean      0.98      1.00             1.67    3.66\n",
       "std       0.10      0.01             2.52   17.12\n",
       "min       0.40      0.95             1.00    1.00\n",
       "25%       1.00      1.00             1.00    1.00\n",
       "50%       1.00      1.00             1.00    1.00\n",
       "75%       1.00      1.00             2.00    3.00\n",
       "max       1.00      1.00            24.00  162.00"
      ]
     },
     "execution_count": 66,
     "metadata": {},
     "output_type": "execute_result"
    }
   ],
   "source": [
    "start = time.time()\n",
    "\n",
    "o2_pred_may07_full, o2_may07_docs_df, o2_topic_info_may07, o2_may07_strengths = predict(umap_embeddings, cluster,\n",
    "                                                                                        may07_opt2_emebds, may07_opt2) \n",
    "\n",
    "# NOISE\n",
    "print(\"Rows: \", o2_pred_may07_full[o2_pred_may07_full.Topic==-1].shape)\n",
    "print(\"Perc: \", round(o2_pred_may07_full[o2_pred_may07_full.Topic==-1].shape[0]/o2_pred_may07_full.shape[0] * 100))\n",
    "\n",
    "end = time.time()\n",
    "print(\"time (mins): \", round((end - start)/60, 2)) \n",
    "\n",
    "o2_topic_info_may07[['cos_min', 'cos_mean', 'distinct_tier1s', 'Size']].describe().apply(lambda x: round(x, 2))"
   ]
  },
  {
   "cell_type": "markdown",
   "metadata": {},
   "source": [
    "* **Predict new points/articles - May 8**"
   ]
  },
  {
   "cell_type": "code",
   "execution_count": 67,
   "metadata": {},
   "outputs": [
    {
     "name": "stdout",
     "output_type": "stream",
     "text": [
      "Training input shape: (7238, 2)\n",
      "Prediction input shape: (175, 2)\n",
      "\n",
      "Distinct topics including -1 for noise 65\n",
      "Rows:  (79, 15)\n",
      "Perc:  45\n",
      "time (mins):  0.02\n"
     ]
    },
    {
     "data": {
      "text/html": [
       "<div>\n",
       "<style scoped>\n",
       "    .dataframe tbody tr th:only-of-type {\n",
       "        vertical-align: middle;\n",
       "    }\n",
       "\n",
       "    .dataframe tbody tr th {\n",
       "        vertical-align: top;\n",
       "    }\n",
       "\n",
       "    .dataframe thead th {\n",
       "        text-align: right;\n",
       "    }\n",
       "</style>\n",
       "<table border=\"1\" class=\"dataframe\">\n",
       "  <thead>\n",
       "    <tr style=\"text-align: right;\">\n",
       "      <th></th>\n",
       "      <th>cos_min</th>\n",
       "      <th>cos_mean</th>\n",
       "      <th>distinct_tier1s</th>\n",
       "      <th>Size</th>\n",
       "    </tr>\n",
       "  </thead>\n",
       "  <tbody>\n",
       "    <tr>\n",
       "      <th>count</th>\n",
       "      <td>20.00</td>\n",
       "      <td>20.00</td>\n",
       "      <td>65.00</td>\n",
       "      <td>65.00</td>\n",
       "    </tr>\n",
       "    <tr>\n",
       "      <th>mean</th>\n",
       "      <td>0.98</td>\n",
       "      <td>1.00</td>\n",
       "      <td>1.54</td>\n",
       "      <td>2.69</td>\n",
       "    </tr>\n",
       "    <tr>\n",
       "      <th>std</th>\n",
       "      <td>0.07</td>\n",
       "      <td>0.01</td>\n",
       "      <td>2.38</td>\n",
       "      <td>9.66</td>\n",
       "    </tr>\n",
       "    <tr>\n",
       "      <th>min</th>\n",
       "      <td>0.68</td>\n",
       "      <td>0.96</td>\n",
       "      <td>1.00</td>\n",
       "      <td>1.00</td>\n",
       "    </tr>\n",
       "    <tr>\n",
       "      <th>25%</th>\n",
       "      <td>1.00</td>\n",
       "      <td>1.00</td>\n",
       "      <td>1.00</td>\n",
       "      <td>1.00</td>\n",
       "    </tr>\n",
       "    <tr>\n",
       "      <th>50%</th>\n",
       "      <td>1.00</td>\n",
       "      <td>1.00</td>\n",
       "      <td>1.00</td>\n",
       "      <td>1.00</td>\n",
       "    </tr>\n",
       "    <tr>\n",
       "      <th>75%</th>\n",
       "      <td>1.00</td>\n",
       "      <td>1.00</td>\n",
       "      <td>1.00</td>\n",
       "      <td>2.00</td>\n",
       "    </tr>\n",
       "    <tr>\n",
       "      <th>max</th>\n",
       "      <td>1.00</td>\n",
       "      <td>1.00</td>\n",
       "      <td>20.00</td>\n",
       "      <td>79.00</td>\n",
       "    </tr>\n",
       "  </tbody>\n",
       "</table>\n",
       "</div>"
      ],
      "text/plain": [
       "       cos_min  cos_mean  distinct_tier1s   Size\n",
       "count    20.00     20.00            65.00  65.00\n",
       "mean      0.98      1.00             1.54   2.69\n",
       "std       0.07      0.01             2.38   9.66\n",
       "min       0.68      0.96             1.00   1.00\n",
       "25%       1.00      1.00             1.00   1.00\n",
       "50%       1.00      1.00             1.00   1.00\n",
       "75%       1.00      1.00             1.00   2.00\n",
       "max       1.00      1.00            20.00  79.00"
      ]
     },
     "execution_count": 67,
     "metadata": {},
     "output_type": "execute_result"
    }
   ],
   "source": [
    "start = time.time()\n",
    "\n",
    "o2_pred_may08_full, o2_may08_docs_df, o2_topic_info_may08, o2_may08_strengths = predict(umap_embeddings, cluster,\n",
    "                                                                                        may08_opt2_emebds, may08_opt2) \n",
    "\n",
    "# NOISE\n",
    "print(\"Rows: \", o2_pred_may08_full[o2_pred_may08_full.Topic==-1].shape)\n",
    "print(\"Perc: \", round(o2_pred_may08_full[o2_pred_may08_full.Topic==-1].shape[0]/o2_pred_may08_full.shape[0] * 100))\n",
    "\n",
    "end = time.time()\n",
    "print(\"time (mins): \", round((end - start)/60, 2)) \n",
    "\n",
    "o2_topic_info_may08[['cos_min', 'cos_mean', 'distinct_tier1s', 'Size']].describe().apply(lambda x: round(x, 2))"
   ]
  },
  {
   "cell_type": "markdown",
   "metadata": {},
   "source": [
    "* **Predict new points/articles - May 9**"
   ]
  },
  {
   "cell_type": "code",
   "execution_count": 68,
   "metadata": {},
   "outputs": [
    {
     "name": "stdout",
     "output_type": "stream",
     "text": [
      "Training input shape: (7238, 2)\n",
      "Prediction input shape: (196, 2)\n",
      "\n",
      "Distinct topics including -1 for noise 75\n",
      "Rows:  (87, 15)\n",
      "Perc:  44\n",
      "time (mins):  0.03\n"
     ]
    },
    {
     "data": {
      "text/html": [
       "<div>\n",
       "<style scoped>\n",
       "    .dataframe tbody tr th:only-of-type {\n",
       "        vertical-align: middle;\n",
       "    }\n",
       "\n",
       "    .dataframe tbody tr th {\n",
       "        vertical-align: top;\n",
       "    }\n",
       "\n",
       "    .dataframe thead th {\n",
       "        text-align: right;\n",
       "    }\n",
       "</style>\n",
       "<table border=\"1\" class=\"dataframe\">\n",
       "  <thead>\n",
       "    <tr style=\"text-align: right;\">\n",
       "      <th></th>\n",
       "      <th>cos_min</th>\n",
       "      <th>cos_mean</th>\n",
       "      <th>distinct_tier1s</th>\n",
       "      <th>Size</th>\n",
       "    </tr>\n",
       "  </thead>\n",
       "  <tbody>\n",
       "    <tr>\n",
       "      <th>count</th>\n",
       "      <td>24.00</td>\n",
       "      <td>24.00</td>\n",
       "      <td>75.00</td>\n",
       "      <td>75.00</td>\n",
       "    </tr>\n",
       "    <tr>\n",
       "      <th>mean</th>\n",
       "      <td>0.98</td>\n",
       "      <td>1.00</td>\n",
       "      <td>1.52</td>\n",
       "      <td>2.61</td>\n",
       "    </tr>\n",
       "    <tr>\n",
       "      <th>std</th>\n",
       "      <td>0.12</td>\n",
       "      <td>0.01</td>\n",
       "      <td>2.24</td>\n",
       "      <td>9.92</td>\n",
       "    </tr>\n",
       "    <tr>\n",
       "      <th>min</th>\n",
       "      <td>0.40</td>\n",
       "      <td>0.95</td>\n",
       "      <td>1.00</td>\n",
       "      <td>1.00</td>\n",
       "    </tr>\n",
       "    <tr>\n",
       "      <th>25%</th>\n",
       "      <td>1.00</td>\n",
       "      <td>1.00</td>\n",
       "      <td>1.00</td>\n",
       "      <td>1.00</td>\n",
       "    </tr>\n",
       "    <tr>\n",
       "      <th>50%</th>\n",
       "      <td>1.00</td>\n",
       "      <td>1.00</td>\n",
       "      <td>1.00</td>\n",
       "      <td>1.00</td>\n",
       "    </tr>\n",
       "    <tr>\n",
       "      <th>75%</th>\n",
       "      <td>1.00</td>\n",
       "      <td>1.00</td>\n",
       "      <td>1.00</td>\n",
       "      <td>2.00</td>\n",
       "    </tr>\n",
       "    <tr>\n",
       "      <th>max</th>\n",
       "      <td>1.00</td>\n",
       "      <td>1.00</td>\n",
       "      <td>20.00</td>\n",
       "      <td>87.00</td>\n",
       "    </tr>\n",
       "  </tbody>\n",
       "</table>\n",
       "</div>"
      ],
      "text/plain": [
       "       cos_min  cos_mean  distinct_tier1s   Size\n",
       "count    24.00     24.00            75.00  75.00\n",
       "mean      0.98      1.00             1.52   2.61\n",
       "std       0.12      0.01             2.24   9.92\n",
       "min       0.40      0.95             1.00   1.00\n",
       "25%       1.00      1.00             1.00   1.00\n",
       "50%       1.00      1.00             1.00   1.00\n",
       "75%       1.00      1.00             1.00   2.00\n",
       "max       1.00      1.00            20.00  87.00"
      ]
     },
     "execution_count": 68,
     "metadata": {},
     "output_type": "execute_result"
    }
   ],
   "source": [
    "start = time.time()\n",
    "\n",
    "o2_pred_may09_full, o2_may09_docs_df, o2_topic_info_may09, o2_may09_strengths = predict(umap_embeddings, cluster,\n",
    "                                                                                        may09_opt2_emebds, may09_opt2) \n",
    "\n",
    "# NOISE\n",
    "print(\"Rows: \", o2_pred_may09_full[o2_pred_may09_full.Topic==-1].shape)\n",
    "print(\"Perc: \", round(o2_pred_may09_full[o2_pred_may09_full.Topic==-1].shape[0]/o2_pred_may09_full.shape[0] * 100))\n",
    "\n",
    "end = time.time()\n",
    "print(\"time (mins): \", round((end - start)/60, 2)) \n",
    "\n",
    "o2_topic_info_may09[['cos_min', 'cos_mean', 'distinct_tier1s', 'Size']].describe().apply(lambda x: round(x, 2))"
   ]
  },
  {
   "cell_type": "markdown",
   "metadata": {},
   "source": [
    "## --- EDA ---"
   ]
  },
  {
   "cell_type": "code",
   "execution_count": 69,
   "metadata": {},
   "outputs": [
    {
     "name": "stdout",
     "output_type": "stream",
     "text": [
      "Eligible articles:\n",
      "May 3 - (527, 15)\n",
      "May 4 - (519, 15)\n",
      "May 5 - (450, 15)\n",
      "May 6 - (452, 15)\n",
      "May 7 - (322, 15)\n",
      "May 8 - (175, 15)\n",
      "May 9 - (196, 15)\n"
     ]
    }
   ],
   "source": [
    "print(\"Eligible articles:\")\n",
    "print(\"May 3 -\", o2_pred_may03_full.shape)\n",
    "print(\"May 4 -\", o2_pred_may04_full.shape)\n",
    "print(\"May 5 -\", o2_pred_may05_full.shape)\n",
    "print(\"May 6 -\", o2_pred_may06_full.shape)\n",
    "print(\"May 7 -\", o2_pred_may07_full.shape)\n",
    "print(\"May 8 -\", o2_pred_may08_full.shape)\n",
    "print(\"May 9 -\", o2_pred_may09_full.shape)"
   ]
  },
  {
   "cell_type": "code",
   "execution_count": 70,
   "metadata": {},
   "outputs": [
    {
     "name": "stdout",
     "output_type": "stream",
     "text": [
      "Number of Topics assigned:\n",
      "May 3 - 119\n",
      "May 4 - 135\n",
      "May 5 - 122\n",
      "May 6 - 112\n",
      "May 7 - 88\n",
      "May 8 - 65\n",
      "May 9 - 75\n",
      "Avg topic size:\n",
      "May 3 - 4\n",
      "May 4 - 4\n",
      "May 5 - 4\n",
      "May 6 - 4\n",
      "May 7 - 4\n",
      "May 8 - 3\n",
      "May 9 - 3\n",
      "Common topics across 5 days -  11\n"
     ]
    }
   ],
   "source": [
    "print(\"Number of Topics assigned:\")\n",
    "print(\"May 3 -\",len(o2_pred_may03_full.Topic.unique()))\n",
    "print(\"May 4 -\",len(o2_pred_may04_full.Topic.unique()))\n",
    "print(\"May 5 -\",len(o2_pred_may05_full.Topic.unique()))\n",
    "print(\"May 6 -\",len(o2_pred_may06_full.Topic.unique()))\n",
    "print(\"May 7 -\",len(o2_pred_may07_full.Topic.unique()))\n",
    "print(\"May 8 -\",len(o2_pred_may08_full.Topic.unique()))\n",
    "print(\"May 9 -\",len(o2_pred_may09_full.Topic.unique()))\n",
    "\n",
    "print(\"Avg topic size:\")\n",
    "print(\"May 3 -\",round(o2_topic_info_may03.Size.mean()))\n",
    "print(\"May 4 -\",round(o2_topic_info_may04.Size.mean()))\n",
    "print(\"May 5 -\",round(o2_topic_info_may05.Size.mean()))\n",
    "print(\"May 6 -\",round(o2_topic_info_may06.Size.mean()))\n",
    "print(\"May 7 -\",round(o2_topic_info_may07.Size.mean()))\n",
    "print(\"May 8 -\",round(o2_topic_info_may08.Size.mean()))\n",
    "print(\"May 9 -\",round(o2_topic_info_may09.Size.mean()))\n",
    "\n",
    "opt2_common_7 =  pd.merge(pd.merge(pd.merge(pd.merge(pd.merge(pd.merge(o2_topic_info_may03[[\"topic_num\"]], \n",
    "                                                o2_topic_info_may04[[\"topic_num\"]], on=\"topic_num\", how=\"inner\"), \n",
    "                                       o2_topic_info_may05[[\"topic_num\"]], on=\"topic_num\", how=\"inner\"), \n",
    "                     o2_topic_info_may06[[\"topic_num\"]], on=\"topic_num\", how=\"inner\"), \n",
    "                     o2_topic_info_may07[[\"topic_num\"]], on=\"topic_num\", how=\"inner\"), \n",
    "                     o2_topic_info_may08[[\"topic_num\"]], on=\"topic_num\", how=\"inner\"), \n",
    "                     o2_topic_info_may09[[\"topic_num\"]], on=\"topic_num\", how=\"inner\")\n",
    "\n",
    "print(\"Common topics across 5 days - \", len(opt2_common_7))"
   ]
  },
  {
   "cell_type": "markdown",
   "metadata": {},
   "source": [
    "### Noise Comparison \n",
    "\n",
    "**Observation:**\n",
    "* Noise perc has increased. Indicates prediction functionality itself is flawed"
   ]
  },
  {
   "cell_type": "code",
   "execution_count": 71,
   "metadata": {},
   "outputs": [
    {
     "name": "stdout",
     "output_type": "stream",
     "text": [
      "Perc of articles NOISE - \n",
      "May 3 - 55\n",
      "May 4 - 49\n",
      "May 5 - 49\n",
      "May 6 - 54\n",
      "May 7 - 50\n",
      "May 8 - 45\n",
      "May 9 - 44\n"
     ]
    }
   ],
   "source": [
    "# NOISE\n",
    "\n",
    "print(\"Perc of articles NOISE - \")\n",
    "print(\"May 3 -\",round(o2_pred_may03_full[o2_pred_may03_full.Topic==-1].shape[0]/o2_pred_may03_full.shape[0]*100))\n",
    "print(\"May 4 -\",round(o2_pred_may04_full[o2_pred_may04_full.Topic==-1].shape[0]/o2_pred_may04_full.shape[0]*100))\n",
    "print(\"May 5 -\",round(o2_pred_may05_full[o2_pred_may05_full.Topic==-1].shape[0]/o2_pred_may05_full.shape[0]*100))\n",
    "print(\"May 6 -\",round(o2_pred_may06_full[o2_pred_may06_full.Topic==-1].shape[0]/o2_pred_may06_full.shape[0]*100))\n",
    "print(\"May 7 -\",round(o2_pred_may07_full[o2_pred_may07_full.Topic==-1].shape[0]/o2_pred_may07_full.shape[0]*100))\n",
    "print(\"May 8 -\",round(o2_pred_may08_full[o2_pred_may08_full.Topic==-1].shape[0]/o2_pred_may08_full.shape[0]*100))\n",
    "print(\"May 9 -\",round(o2_pred_may09_full[o2_pred_may09_full.Topic==-1].shape[0]/o2_pred_may09_full.shape[0]*100))"
   ]
  },
  {
   "cell_type": "code",
   "execution_count": 72,
   "metadata": {},
   "outputs": [
    {
     "name": "stdout",
     "output_type": "stream",
     "text": [
      "May 4 articles contained in May 3 - (0, 15)\n",
      "May 4 articles contained in training - (0, 15)\n"
     ]
    }
   ],
   "source": [
    "print(\"May 4 articles contained in May 3 -\", \n",
    "      o2_pred_may03_full[o2_pred_may03_full.content_natid.isin(o2_pred_may04_full.content_natid)].shape)\n",
    "print(\"May 4 articles contained in training -\", \n",
    "      o2_pred_may03_full[o2_pred_may03_full.content_natid.isin(full_train_topics.content_natid)].shape)"
   ]
  },
  {
   "cell_type": "code",
   "execution_count": 73,
   "metadata": {},
   "outputs": [
    {
     "data": {
      "text/plain": [
       "(253, 15)"
      ]
     },
     "execution_count": 73,
     "metadata": {},
     "output_type": "execute_result"
    }
   ],
   "source": [
    "o2_may4_noise = o2_pred_may04_full[o2_pred_may04_full.Topic==-1]\n",
    "o2_may4_noise.shape"
   ]
  },
  {
   "cell_type": "code",
   "execution_count": 75,
   "metadata": {},
   "outputs": [],
   "source": [
    "col_list = ['content_natid', 'Doc', 'Topic', 'topic_words']"
   ]
  },
  {
   "cell_type": "code",
   "execution_count": 76,
   "metadata": {},
   "outputs": [
    {
     "data": {
      "text/plain": [
       "(253, 7)"
      ]
     },
     "execution_count": 76,
     "metadata": {},
     "output_type": "execute_result"
    }
   ],
   "source": [
    "o2may4_noise_in_o1may4 = pd.merge(pred_may04_full[col_list], o2_may4_noise[col_list], how=\"inner\", on=\"content_natid\")\n",
    "o2may4_noise_in_o1may4.shape"
   ]
  },
  {
   "cell_type": "code",
   "execution_count": 77,
   "metadata": {},
   "outputs": [
    {
     "name": "stdout",
     "output_type": "stream",
     "text": [
      "(187, 7)\n",
      "(66, 7)\n"
     ]
    }
   ],
   "source": [
    "# 70% of noise in option 2 were also noise in option 1\n",
    "\n",
    "print(o2may4_noise_in_o1may4[o2may4_noise_in_o1may4.Topic_x ==-1].shape)\n",
    "print(o2may4_noise_in_o1may4[o2may4_noise_in_o1may4.Topic_x !=-1].shape)"
   ]
  },
  {
   "cell_type": "markdown",
   "metadata": {},
   "source": [
    "**-----Opt1A and Opt2 compare-----**"
   ]
  },
  {
   "cell_type": "code",
   "execution_count": 78,
   "metadata": {},
   "outputs": [
    {
     "name": "stdout",
     "output_type": "stream",
     "text": [
      "(4223, 15)\n",
      "(519, 15)\n"
     ]
    }
   ],
   "source": [
    "# from opt1A\n",
    "print(pred_may04_full.shape)\n",
    "# opt2\n",
    "print(o2_pred_may04_full.shape)"
   ]
  },
  {
   "cell_type": "code",
   "execution_count": 79,
   "metadata": {},
   "outputs": [
    {
     "data": {
      "text/plain": [
       "(519, 7)"
      ]
     },
     "execution_count": 79,
     "metadata": {},
     "output_type": "execute_result"
    }
   ],
   "source": [
    "op1a_2_comp = pd.merge(pred_may04_full[col_list], o2_pred_may04_full[col_list], how=\"inner\", on=\"content_natid\")\n",
    "op1a_2_comp.shape"
   ]
  },
  {
   "cell_type": "code",
   "execution_count": 80,
   "metadata": {},
   "outputs": [
    {
     "name": "stdout",
     "output_type": "stream",
     "text": [
      "(269, 7)\n",
      "(253, 7)\n"
     ]
    }
   ],
   "source": [
    "print(op1a_2_comp[op1a_2_comp.Topic_x==-1].shape)\n",
    "print(op1a_2_comp[op1a_2_comp.Topic_y==-1].shape)"
   ]
  },
  {
   "cell_type": "code",
   "execution_count": 81,
   "metadata": {},
   "outputs": [
    {
     "name": "stdout",
     "output_type": "stream",
     "text": [
      "Total different labels by both approaches (166, 7)\n",
      "\n",
      "Breakdown:\n",
      "noise in opt1A got labelled in opt2 (82, 7)\n",
      "noise in opt2 was labelled in opt1A (66, 7)\n",
      "diff labeles by opt1A n Opt2 (18, 7)\n",
      "False\n"
     ]
    }
   ],
   "source": [
    "print(\"Total different labels by both approaches\", op1a_2_comp[op1a_2_comp.Topic_x != op1a_2_comp.Topic_y].shape)\n",
    "print()\n",
    "print(\"Breakdown:\")\n",
    "print(\"noise in opt1A got labelled in opt2\", op1a_2_comp[(op1a_2_comp.Topic_x == -1) & (op1a_2_comp.Topic_y !=-1)].shape)\n",
    "print(\"noise in opt2 was labelled in opt1A\", op1a_2_comp[(op1a_2_comp.Topic_x != -1) & (op1a_2_comp.Topic_y ==-1)].shape)\n",
    "print(\"diff labeles by opt1A n Opt2\", \n",
    "      op1a_2_comp[(op1a_2_comp.Topic_x != op1a_2_comp.Topic_y) & (op1a_2_comp.Topic_x != -1) & (op1a_2_comp.Topic_y !=-1)].shape)\n",
    "print(op1a_2_comp[(op1a_2_comp.Topic_x == -1) & (op1a_2_comp.Topic_y !=-1)].content_natid.isin(op1a_2_comp[(op1a_2_comp.Topic_x != -1) & (op1a_2_comp.Topic_y ==-1)].content_natid).any())"
   ]
  },
  {
   "cell_type": "code",
   "execution_count": 82,
   "metadata": {},
   "outputs": [
    {
     "name": "stdout",
     "output_type": "stream",
     "text": [
      "(353, 7)\n"
     ]
    }
   ],
   "source": [
    "print(op1a_2_comp[op1a_2_comp.Topic_x == op1a_2_comp.Topic_y].shape)"
   ]
  },
  {
   "cell_type": "code",
   "execution_count": 83,
   "metadata": {},
   "outputs": [
    {
     "name": "stdout",
     "output_type": "stream",
     "text": [
      "(187, 7)\n",
      "(166, 7)\n",
      "both methods gave same noise (187, 7)\n"
     ]
    }
   ],
   "source": [
    "print(op1a_2_comp[(op1a_2_comp.Topic_x == op1a_2_comp.Topic_y) & (op1a_2_comp.Topic_x == -1) & (op1a_2_comp.Topic_y ==-1)].shape)\n",
    "print(op1a_2_comp[(op1a_2_comp.Topic_x == op1a_2_comp.Topic_y) & (op1a_2_comp.Topic_x != -1) & (op1a_2_comp.Topic_y !=-1)].shape)\n",
    "print(\"both methods gave same noise\", op1a_2_comp[(op1a_2_comp.Topic_x == -1) & (op1a_2_comp.Topic_y ==-1)].shape)"
   ]
  },
  {
   "cell_type": "code",
   "execution_count": 130,
   "metadata": {},
   "outputs": [
    {
     "name": "stdout",
     "output_type": "stream",
     "text": [
      "(2641, 15)\n",
      "False\n"
     ]
    }
   ],
   "source": [
    "opt2_full = pd.concat([o2_pred_may03_full, o2_pred_may04_full, o2_pred_may05_full, o2_pred_may06_full, o2_pred_may07_full, o2_pred_may08_full, o2_pred_may09_full])\n",
    "print(opt2_full.shape)\n",
    "print(opt2_full.content_natid.duplicated(keep='first').any())"
   ]
  },
  {
   "cell_type": "code",
   "execution_count": 135,
   "metadata": {},
   "outputs": [
    {
     "name": "stdout",
     "output_type": "stream",
     "text": [
      "(3231, 9)\n",
      "(910, 15)\n"
     ]
    }
   ],
   "source": [
    "print(may09.shape)\n",
    "test_may9_opt2 = opt2_full[opt2_full.content_natid.isin(may09.content_natid)]\n",
    "print(test_may9_opt2.shape)"
   ]
  },
  {
   "cell_type": "code",
   "execution_count": 137,
   "metadata": {},
   "outputs": [
    {
     "data": {
      "text/html": [
       "<div>\n",
       "<style scoped>\n",
       "    .dataframe tbody tr th:only-of-type {\n",
       "        vertical-align: middle;\n",
       "    }\n",
       "\n",
       "    .dataframe tbody tr th {\n",
       "        vertical-align: top;\n",
       "    }\n",
       "\n",
       "    .dataframe thead th {\n",
       "        text-align: right;\n",
       "    }\n",
       "</style>\n",
       "<table border=\"1\" class=\"dataframe\">\n",
       "  <thead>\n",
       "    <tr style=\"text-align: right;\">\n",
       "      <th></th>\n",
       "      <th>content_natid</th>\n",
       "      <th>Doc</th>\n",
       "      <th>Topic</th>\n",
       "      <th>topic_words</th>\n",
       "    </tr>\n",
       "  </thead>\n",
       "  <tbody>\n",
       "    <tr>\n",
       "      <th>0</th>\n",
       "      <td>blogandpostid/blog/post/4983-607a09a3ceedec00067a07e4</td>\n",
       "      <td>announced at wwdc, macos monterey makes the new imac even harder to resist. the new 24-inch imac is a remarkable machine; powered by apples new m1 processor, it feels modern and up-to-date in a way that imacs havent for a number of years. its now...</td>\n",
       "      <td>73</td>\n",
       "      <td>ipad pro, magic keyboard, mac mini, parallels desktop, 12 inch, macbook</td>\n",
       "    </tr>\n",
       "    <tr>\n",
       "      <th>8</th>\n",
       "      <td>blogandpostid/blog/post/7172-60909825550229000604f2d6</td>\n",
       "      <td>how the gates split could stack up against the biggest billionaire divorces. bill and melinda gates, the influential billionaire couple in charge of the worlds largest private foundation, are divorcing after 27 years of marriage, the pair said mo...</td>\n",
       "      <td>188</td>\n",
       "      <td>foundation, giving focus, trumps, runcie, cuomo, estimated</td>\n",
       "    </tr>\n",
       "    <tr>\n",
       "      <th>9</th>\n",
       "      <td>blogandpostid/blog/post/50940-6090346d5502290006d21b86</td>\n",
       "      <td>ethereums 27-year-old co-creator is now the worlds youngest crypto billionaire. vitalik buterin, who spearheaded the launch of the ethereum blockchain in 2015, has become the worlds youngest crypto billionaire at age 27. ethereums cryptocurrency,...</td>\n",
       "      <td>-1</td>\n",
       "      <td>remote, age, businesses, leaders, workers, water</td>\n",
       "    </tr>\n",
       "    <tr>\n",
       "      <th>14</th>\n",
       "      <td>blogandpostid/blog/post/50638-608cd370550229000661eb24</td>\n",
       "      <td>the guns of alexander hamilton are going up for auction. a pair of pistols once owned by alexander hamilton, the founding father who was killed in the most infamous pistol duel in american history, is going up for auction, with bidding estimated ...</td>\n",
       "      <td>132</td>\n",
       "      <td>brockman, garg, justice, hsieh, byrne, court</td>\n",
       "    </tr>\n",
       "    <tr>\n",
       "      <th>16</th>\n",
       "      <td>blogandpostid/blog/post/4896-609045b7ffce9000061ac7c4</td>\n",
       "      <td>apple ios 14.5.1: apple recommends key privacy update for all iphones. in what may be almost a record for a bug-fix update, apple has issued ios 14.5.1, just seven short days after the big release of ios 14.5. heres what is in it, how to get it a...</td>\n",
       "      <td>-1</td>\n",
       "      <td>remote, age, businesses, leaders, workers, water</td>\n",
       "    </tr>\n",
       "    <tr>\n",
       "      <th>...</th>\n",
       "      <td>...</td>\n",
       "      <td>...</td>\n",
       "      <td>...</td>\n",
       "      <td>...</td>\n",
       "    </tr>\n",
       "    <tr>\n",
       "      <th>191</th>\n",
       "      <td>blogandpostid/blog/post/978-18079</td>\n",
       "      <td>ten of the best businesses to come out of shark tank. in the episode of shark tank that aired on october 25, 2012, the sharks were fighting over scrub daddy, maker of a bright yellow sponge in the shape of a smiley face. when a company's sales ar...</td>\n",
       "      <td>223</td>\n",
       "      <td>com instagram, website, city description, subscribers, disney plus, headquarters new</td>\n",
       "    </tr>\n",
       "    <tr>\n",
       "      <th>192</th>\n",
       "      <td>blogandpostid/blog/post/3570-686</td>\n",
       "      <td>best response to a cheap shot. retaliating, fighting back, either would've been a fine response.that's what i thought when i saw the video. maybe that's what you thought. this is texas, high school sports in texas, no less. you're not supposed to...</td>\n",
       "      <td>84</td>\n",
       "      <td>ellie, episode, abby, june, gilead, shes</td>\n",
       "    </tr>\n",
       "    <tr>\n",
       "      <th>193</th>\n",
       "      <td>blogandpostid/blog/post/2416-1553</td>\n",
       "      <td>'wall street' actress daryl hannah is an autistic woman. daryl hannah has made headlines for opening up publicly about being autistic, a diagnosis she received as a child. hannah is 52 and a woman, which makes her what some people consider to be ...</td>\n",
       "      <td>-1</td>\n",
       "      <td>remote, age, businesses, leaders, workers, water</td>\n",
       "    </tr>\n",
       "    <tr>\n",
       "      <th>194</th>\n",
       "      <td>blogandpostid/blog/post/1552-996</td>\n",
       "      <td>how elon musk became a billionaire twice over. new billionaire elon musk has made big bets in a trio of risky industries. his portfolio of companies practically reads like the set-up to a contrarian joke. he is in electric cars, solar power, and ...</td>\n",
       "      <td>237</td>\n",
       "      <td>million pitchbook, founders, nashville, ceo, funding, software</td>\n",
       "    </tr>\n",
       "    <tr>\n",
       "      <th>195</th>\n",
       "      <td>legacyuri/article/www/forbes/2001/1008/056</td>\n",
       "      <td>in the name of the father. juan brittingham spent a lifetime building a forbes 400 family fortune. it took only a brief time for those dearest to him to wipe his wealth out. juan brittingham obsessed about his will. the decorative-tile pioneer dr...</td>\n",
       "      <td>132</td>\n",
       "      <td>brockman, garg, justice, hsieh, byrne, court</td>\n",
       "    </tr>\n",
       "  </tbody>\n",
       "</table>\n",
       "<p>910 rows × 4 columns</p>\n",
       "</div>"
      ],
      "text/plain": [
       "                                              content_natid  \\\n",
       "0     blogandpostid/blog/post/4983-607a09a3ceedec00067a07e4   \n",
       "8     blogandpostid/blog/post/7172-60909825550229000604f2d6   \n",
       "9    blogandpostid/blog/post/50940-6090346d5502290006d21b86   \n",
       "14   blogandpostid/blog/post/50638-608cd370550229000661eb24   \n",
       "16    blogandpostid/blog/post/4896-609045b7ffce9000061ac7c4   \n",
       "..                                                      ...   \n",
       "191                       blogandpostid/blog/post/978-18079   \n",
       "192                        blogandpostid/blog/post/3570-686   \n",
       "193                       blogandpostid/blog/post/2416-1553   \n",
       "194                        blogandpostid/blog/post/1552-996   \n",
       "195              legacyuri/article/www/forbes/2001/1008/056   \n",
       "\n",
       "                                                                                                                                                                                                                                                           Doc  \\\n",
       "0    announced at wwdc, macos monterey makes the new imac even harder to resist. the new 24-inch imac is a remarkable machine; powered by apples new m1 processor, it feels modern and up-to-date in a way that imacs havent for a number of years. its now...   \n",
       "8    how the gates split could stack up against the biggest billionaire divorces. bill and melinda gates, the influential billionaire couple in charge of the worlds largest private foundation, are divorcing after 27 years of marriage, the pair said mo...   \n",
       "9    ethereums 27-year-old co-creator is now the worlds youngest crypto billionaire. vitalik buterin, who spearheaded the launch of the ethereum blockchain in 2015, has become the worlds youngest crypto billionaire at age 27. ethereums cryptocurrency,...   \n",
       "14   the guns of alexander hamilton are going up for auction. a pair of pistols once owned by alexander hamilton, the founding father who was killed in the most infamous pistol duel in american history, is going up for auction, with bidding estimated ...   \n",
       "16   apple ios 14.5.1: apple recommends key privacy update for all iphones. in what may be almost a record for a bug-fix update, apple has issued ios 14.5.1, just seven short days after the big release of ios 14.5. heres what is in it, how to get it a...   \n",
       "..                                                                                                                                                                                                                                                         ...   \n",
       "191  ten of the best businesses to come out of shark tank. in the episode of shark tank that aired on october 25, 2012, the sharks were fighting over scrub daddy, maker of a bright yellow sponge in the shape of a smiley face. when a company's sales ar...   \n",
       "192  best response to a cheap shot. retaliating, fighting back, either would've been a fine response.that's what i thought when i saw the video. maybe that's what you thought. this is texas, high school sports in texas, no less. you're not supposed to...   \n",
       "193  'wall street' actress daryl hannah is an autistic woman. daryl hannah has made headlines for opening up publicly about being autistic, a diagnosis she received as a child. hannah is 52 and a woman, which makes her what some people consider to be ...   \n",
       "194  how elon musk became a billionaire twice over. new billionaire elon musk has made big bets in a trio of risky industries. his portfolio of companies practically reads like the set-up to a contrarian joke. he is in electric cars, solar power, and ...   \n",
       "195  in the name of the father. juan brittingham spent a lifetime building a forbes 400 family fortune. it took only a brief time for those dearest to him to wipe his wealth out. juan brittingham obsessed about his will. the decorative-tile pioneer dr...   \n",
       "\n",
       "     Topic  \\\n",
       "0       73   \n",
       "8      188   \n",
       "9       -1   \n",
       "14     132   \n",
       "16      -1   \n",
       "..     ...   \n",
       "191    223   \n",
       "192     84   \n",
       "193     -1   \n",
       "194    237   \n",
       "195    132   \n",
       "\n",
       "                                                                              topic_words  \n",
       "0                 ipad pro, magic keyboard, mac mini, parallels desktop, 12 inch, macbook  \n",
       "8                              foundation, giving focus, trumps, runcie, cuomo, estimated  \n",
       "9                                        remote, age, businesses, leaders, workers, water  \n",
       "14                                           brockman, garg, justice, hsieh, byrne, court  \n",
       "16                                       remote, age, businesses, leaders, workers, water  \n",
       "..                                                                                    ...  \n",
       "191  com instagram, website, city description, subscribers, disney plus, headquarters new  \n",
       "192                                              ellie, episode, abby, june, gilead, shes  \n",
       "193                                      remote, age, businesses, leaders, workers, water  \n",
       "194                        million pitchbook, founders, nashville, ceo, funding, software  \n",
       "195                                          brockman, garg, justice, hsieh, byrne, court  \n",
       "\n",
       "[910 rows x 4 columns]"
      ]
     },
     "execution_count": 137,
     "metadata": {},
     "output_type": "execute_result"
    }
   ],
   "source": [
    "test_may9_opt2[col_list]"
   ]
  },
  {
   "cell_type": "code",
   "execution_count": 139,
   "metadata": {},
   "outputs": [
    {
     "data": {
      "text/plain": [
       "(910, 7)"
      ]
     },
     "execution_count": 139,
     "metadata": {},
     "output_type": "execute_result"
    }
   ],
   "source": [
    "test_may9_opt1_opt2 = pd.merge(pred_may09_full[col_list], test_may9_opt2[col_list], on=\"content_natid\", how=\"inner\")\n",
    "test_may9_opt1_opt2.shape"
   ]
  },
  {
   "cell_type": "code",
   "execution_count": 125,
   "metadata": {},
   "outputs": [
    {
     "data": {
      "text/html": [
       "<div>\n",
       "<style scoped>\n",
       "    .dataframe tbody tr th:only-of-type {\n",
       "        vertical-align: middle;\n",
       "    }\n",
       "\n",
       "    .dataframe tbody tr th {\n",
       "        vertical-align: top;\n",
       "    }\n",
       "\n",
       "    .dataframe thead th {\n",
       "        text-align: right;\n",
       "    }\n",
       "</style>\n",
       "<table border=\"1\" class=\"dataframe\">\n",
       "  <thead>\n",
       "    <tr style=\"text-align: right;\">\n",
       "      <th></th>\n",
       "      <th>Doc</th>\n",
       "      <th>Topic</th>\n",
       "      <th>pvs</th>\n",
       "      <th>total_timeonpage</th>\n",
       "      <th>content_natid</th>\n",
       "      <th>pub_date</th>\n",
       "      <th>title</th>\n",
       "      <th>tier1</th>\n",
       "      <th>tier2</th>\n",
       "      <th>article_length</th>\n",
       "      <th>Size</th>\n",
       "      <th>cos_min</th>\n",
       "      <th>cos_mean</th>\n",
       "      <th>distinct_tier1s</th>\n",
       "      <th>topic_words</th>\n",
       "    </tr>\n",
       "  </thead>\n",
       "  <tbody>\n",
       "    <tr>\n",
       "      <th>4190</th>\n",
       "      <td>what actually causes inflation (and who gains from it). i made a post two weeks ago in which i explained that the popular view of inflation (wherein it is caused by money growth) depends critically on assumptions that do not hold in the real worl...</td>\n",
       "      <td>243</td>\n",
       "      <td>101</td>\n",
       "      <td>18066</td>\n",
       "      <td>blogandpostid/blog/post/1442-208</td>\n",
       "      <td>2011-05-30</td>\n",
       "      <td>What Actually Causes Inflation (and who gains from it)</td>\n",
       "      <td>Other</td>\n",
       "      <td>NaN</td>\n",
       "      <td>2113</td>\n",
       "      <td>29</td>\n",
       "      <td>1.0</td>\n",
       "      <td>1.0</td>\n",
       "      <td>4</td>\n",
       "      <td>inflation, bonds, fed, stocks, prices, cpi</td>\n",
       "    </tr>\n",
       "  </tbody>\n",
       "</table>\n",
       "</div>"
      ],
      "text/plain": [
       "                                                                                                                                                                                                                                                            Doc  \\\n",
       "4190  what actually causes inflation (and who gains from it). i made a post two weeks ago in which i explained that the popular view of inflation (wherein it is caused by money growth) depends critically on assumptions that do not hold in the real worl...   \n",
       "\n",
       "      Topic  pvs  total_timeonpage                     content_natid  \\\n",
       "4190    243  101             18066  blogandpostid/blog/post/1442-208   \n",
       "\n",
       "        pub_date                                                   title  \\\n",
       "4190  2011-05-30  What Actually Causes Inflation (and who gains from it)   \n",
       "\n",
       "      tier1 tier2  article_length  Size  cos_min  cos_mean  distinct_tier1s  \\\n",
       "4190  Other   NaN            2113    29      1.0       1.0                4   \n",
       "\n",
       "                                     topic_words  \n",
       "4190  inflation, bonds, fed, stocks, prices, cpi  "
      ]
     },
     "execution_count": 125,
     "metadata": {},
     "output_type": "execute_result"
    }
   ],
   "source": [
    "pred_may03_full[pred_may03_full.content_natid=='blogandpostid/blog/post/1442-208']"
   ]
  },
  {
   "cell_type": "markdown",
   "metadata": {},
   "source": [
    "### Opt-3 Prediction\n",
    "* new retraining everyday on past 7 days\n",
    "\n",
    "**Training data**\n",
    "\n",
    "* Date range 7 days -- Apr 26 (monday) till May 02 (sunday) for May 03 and so on rolling window\n",
    "\n",
    "* Eligible pool = articles with pvs threshold = 7,238 articles\n",
    "\n",
    "**Prediction data**\n",
    "\n",
    "* Date range -- may 3 (monday) till May 09 (friday)\n",
    "* May 3 to May 9 repeating articles present\n",
    "* Eligible pool = articles with pvs > 100"
   ]
  },
  {
   "cell_type": "code",
   "execution_count": 58,
   "metadata": {},
   "outputs": [],
   "source": [
    "from collections import OrderedDict\n",
    "from itertools import chain\n",
    "import time\n",
    "    \n",
    "def retraining(df_list, a_embed, b_embed, c_embed, d_embed, e_embed, f_embed, g_embed, h_embed):\n",
    "    \n",
    "    # ---------- PREP TRAINING DATA -----------\n",
    "    # concatenate dfs\n",
    "    combined_df = pd.concat(df_list)\n",
    "    # reset index\n",
    "    combined_df = combined_df.reset_index(drop=True)\n",
    "    # drop unnecessary cols\n",
    "    # combined_df.drop([\"processed\", \"processed_noun\", \"processed_noun_2\"], axis = 1, inplace=True)\n",
    "    # fill na\n",
    "    combined_df.tier2 = combined_df.tier2.fillna('Other')\n",
    "    combined_df.total_timeonpage = combined_df.total_timeonpage.fillna(0)\n",
    "    print(combined_df.shape)\n",
    "\n",
    "    # concatenate embeds\n",
    "    combined_embeds = a_embed + b_embed + c_embed + d_embed + e_embed + f_embed + g_embed + h_embed\n",
    "    print(len(combined_embeds))\n",
    "    \n",
    "    # drop duplicates from df\n",
    "\n",
    "    train_df = combined_df.drop_duplicates(subset=\"content_natid\", keep='first')\n",
    "\n",
    "    print(train_df.shape)\n",
    "    print(\"Duplicates?: \", train_df.content_natid.duplicated(keep='first').any())\n",
    "\n",
    "    train_embeds =  [combined_embeds[i] for i in list(train_df.index)]\n",
    "    print(len(train_embeds))\n",
    "    \n",
    "    train_df.reset_index(drop=True, inplace=True)\n",
    "    train_df = train_df[['content_natid', 'clean_body', 'tier1']]\n",
    "    print(\"Final shape: \", train_df.shape)\n",
    "    \n",
    "    data = train_df.clean_body.tolist()\n",
    "    print(len(data))\n",
    "\n",
    "    # ---------- CLUSTERING -----------\n",
    "    # dimensionality reduction\n",
    "    umap_embeddings =  umap.UMAP(n_neighbors=15,\n",
    "                                 min_dist=0.0,\n",
    "                                 n_components=2,\n",
    "                                 random_state=SEED,\n",
    "                                ).fit(train_embeds)\n",
    "    \n",
    "    # cluster\n",
    "    cluster = hdbscan.HDBSCAN(min_cluster_size=5,\n",
    "                          min_samples = 4, #new\n",
    "                          metric= 'euclidean',                      \n",
    "                          cluster_selection_method='eom',\n",
    "                          prediction_data=True).fit(umap_embeddings.embedding_)\n",
    "    \n",
    "    labels = cluster.labels_\n",
    "    print(\"Settings - mean axis=0\", validity_index(umap_embeddings.embedding_.astype('double'), labels))\n",
    "    \n",
    "    # put topics in dataframe\n",
    "    docs_df = pd.DataFrame(data, columns=[\"Doc\"])\n",
    "    docs_df['Topic'] = cluster.labels_\n",
    "    docs_df['Doc_ID'] = range(len(docs_df))\n",
    "\n",
    "    print(\"Distinct topics including -1 for noise\", len(docs_df.Topic.unique()))\n",
    "    print()\n",
    "    \n",
    "    # combine together all articles belonging to same cluster  \n",
    "    docs_per_topic = docs_df.groupby(['Topic'], as_index = False).agg({'Doc': ' '.join})\n",
    "\n",
    "    # calculate countVector and tf-idf\n",
    "    tf_idf, count = c_tf_idf(docs_per_topic.Doc.values, m=len(data))\n",
    "\n",
    "    # top n words, topic size\n",
    "    top_n_words = extract_top_n_words_per_topic(tf_idf, count, docs_per_topic, n=20)\n",
    "    topic_sizes = extract_topic_sizes(docs_df); \n",
    "\n",
    "    # modify top_n_words per topic dict into dataframe for presentation\n",
    "    topic_words_dict = {}  \n",
    "\n",
    "    for k, v in top_n_words.items():\n",
    "        topic_words_dict[k] = \", \".join([elem[0] for elem in v])\n",
    "\n",
    "    top_n_words_df = pd.DataFrame.from_dict(topic_words_dict, \n",
    "                                            orient='index').reset_index().rename(columns={'index':'topic_num',\n",
    "                                                                                          0:'topic_words'}) \n",
    "    # clean keywords\n",
    "    clean_keys = []\n",
    "    for index, row in top_n_words_df.iterrows(): \n",
    "\n",
    "        # remove STOP WORDS and remove whitespaces\n",
    "        inter_list = [x.strip() for x in row[\"topic_words\"].split(\",\") if x not in STOP_WORDS]\n",
    "\n",
    "        # remove numbers but not alphanumerics e.g. remove 400, not ps4 \n",
    "        inter_list = [x for x in inter_list if not x.isnumeric()]\n",
    "\n",
    "        # remove subset-based similar words - e.g. 'pcr tests' and 'tests' then 'tests' will be removed\n",
    "        inter_list = [i for i in inter_list if not any(i in x and i!=x for x in inter_list)]\n",
    "\n",
    "        # remove empty or 1-letter words\n",
    "        inter_list = [x for x in inter_list if len(x)>1]\n",
    "\n",
    "        # de-duplicate\n",
    "        inter_list = list(OrderedDict.fromkeys(inter_list))\n",
    "\n",
    "        # keep top 20 cleaned keywords\n",
    "        inter_list = inter_list[:6] \n",
    "\n",
    "        # convert into string\n",
    "        inter_list = ', '.join(inter_list)\n",
    "\n",
    "        clean_keys.append(inter_list)\n",
    "    \n",
    "    top_n_words_df[\"topic_words\"] = clean_keys\n",
    "    \n",
    "    # GENERATE TOPIC METRICS\n",
    "\n",
    "    # per topic - cos_min and cos_mean\n",
    "    train_cossim_df = generate_all_cossim_metrics(docs_df, train_embeds)\n",
    "\n",
    "    # per topic - tier counts\n",
    "    tier_metric = docs_df.join(train_df[[\"tier1\"]])\n",
    "\n",
    "    iab_metric = tier_metric.groupby(\"Topic\").agg({\"tier1\": \n",
    "                                                   'nunique'}).round(2).reset_index().rename(columns = {'tier1': \n",
    "                                                                                                        'distinct_tier1s',\n",
    "                                                                                                        'Topic':\n",
    "                                                                                                        'topic_num'})\n",
    "\n",
    "    # combine topic, top words, cos and tier metrics\n",
    "    topic_info = pd.merge(pd.merge(pd.merge(top_n_words_df, \n",
    "                                   topic_sizes, how=\"inner\", left_on=\"topic_num\", right_on = \"Topic\"), \n",
    "                                   train_cossim_df, on = \"topic_num\", how=\"inner\"), \n",
    "                          iab_metric, on = \"topic_num\", how=\"inner\")\n",
    "\n",
    "    topic_info.drop('Topic', axis=1, inplace=True)\n",
    "    \n",
    "    # combine natural id inside docs_df\n",
    "    docs_df = pd.merge(docs_df, train_df, how=\"left\", left_on=\"Doc\", right_on=\"clean_body\")\n",
    "    docs_df.drop(\"clean_body\", axis=1, inplace=True)\n",
    "    \n",
    "    # contains natid, article body, assigned topic\n",
    "\n",
    "    full_train_topics = pd.merge(docs_df, topic_info, how=\"left\", left_on=\"Topic\", right_on=\"topic_num\")\n",
    "\n",
    "    return umap_embeddings, cluster, full_train_topics, top_n_words_df, topic_info\n"
   ]
  },
  {
   "cell_type": "code",
   "execution_count": 57,
   "metadata": {},
   "outputs": [],
   "source": [
    "from collections import OrderedDict\n",
    "from itertools import chain\n",
    "import time\n",
    "    \n",
    "def retraining_2week(df_list, a_embed, b_embed, c_embed, d_embed, e_embed, f_embed, g_embed, \n",
    "                     h_embed, i_embed, j_embed, k_embed, l_embed, m_embed, n_embed):\n",
    "    \n",
    "    # ---------- PREP TRAINING DATA -----------\n",
    "    # concatenate dfs\n",
    "    combined_df = pd.concat(df_list)\n",
    "    # reset index\n",
    "    combined_df = combined_df.reset_index(drop=True)\n",
    "    # drop unnecessary cols\n",
    "    # combined_df.drop([\"processed\", \"processed_noun\", \"processed_noun_2\"], axis = 1, inplace=True)\n",
    "    # fill na\n",
    "    combined_df.tier2 = combined_df.tier2.fillna('Other')\n",
    "    combined_df.total_timeonpage = combined_df.total_timeonpage.fillna(0)\n",
    "    print(combined_df.shape)\n",
    "\n",
    "    # concatenate embeds\n",
    "    combined_embeds = a_embed+b_embed+c_embed+d_embed+e_embed+f_embed+g_embed+h_embed+i_embed+j_embed+k_embed+l_embed+m_embed+n_embed\n",
    "    print(len(combined_embeds))\n",
    "    \n",
    "    # drop duplicates from df\n",
    "\n",
    "    train_df = combined_df.drop_duplicates(subset=\"content_natid\", keep='first')\n",
    "\n",
    "    print(train_df.shape)\n",
    "    print(\"Duplicates?: \", train_df.content_natid.duplicated(keep='first').any())\n",
    "\n",
    "    train_embeds =  [combined_embeds[i] for i in list(train_df.index)]\n",
    "    print(len(train_embeds))\n",
    "    \n",
    "    train_df.reset_index(drop=True, inplace=True)\n",
    "    train_df = train_df[['content_natid', 'clean_body', 'tier1']]\n",
    "    print(\"Final shape: \", train_df.shape)\n",
    "    \n",
    "    data = train_df.clean_body.tolist()\n",
    "    print(len(data))\n",
    "\n",
    "    # ---------- CLUSTERING -----------\n",
    "    # dimensionality reduction\n",
    "    umap_embeddings =  umap.UMAP(n_neighbors=15,\n",
    "                                 min_dist=0.0,\n",
    "                                 n_components=2,\n",
    "                                 random_state=SEED,\n",
    "                                ).fit(train_embeds)\n",
    "    \n",
    "    # cluster\n",
    "    cluster = hdbscan.HDBSCAN(min_cluster_size=5,\n",
    "                          min_samples = 4, #new\n",
    "                          metric= 'euclidean',                      \n",
    "                          cluster_selection_method='eom',\n",
    "                          prediction_data=True).fit(umap_embeddings.embedding_)\n",
    "    \n",
    "    labels = cluster.labels_\n",
    "    print(\"Settings - mean axis=0\", validity_index(umap_embeddings.embedding_.astype('double'), labels))\n",
    "    \n",
    "    # put topics in dataframe\n",
    "    docs_df = pd.DataFrame(data, columns=[\"Doc\"])\n",
    "    docs_df['Topic'] = cluster.labels_\n",
    "    docs_df['Doc_ID'] = range(len(docs_df))\n",
    "\n",
    "    print(\"Distinct topics including -1 for noise\", len(docs_df.Topic.unique()))\n",
    "    print()\n",
    "    \n",
    "    # combine together all articles belonging to same cluster  \n",
    "    docs_per_topic = docs_df.groupby(['Topic'], as_index = False).agg({'Doc': ' '.join})\n",
    "\n",
    "    # calculate countVector and tf-idf\n",
    "    tf_idf, count = c_tf_idf(docs_per_topic.Doc.values, m=len(data))\n",
    "\n",
    "    # top n words, topic size\n",
    "    top_n_words = extract_top_n_words_per_topic(tf_idf, count, docs_per_topic, n=20)\n",
    "    topic_sizes = extract_topic_sizes(docs_df); \n",
    "\n",
    "    # modify top_n_words per topic dict into dataframe for presentation\n",
    "    topic_words_dict = {}  \n",
    "\n",
    "    for k, v in top_n_words.items():\n",
    "        topic_words_dict[k] = \", \".join([elem[0] for elem in v])\n",
    "\n",
    "    top_n_words_df = pd.DataFrame.from_dict(topic_words_dict, \n",
    "                                            orient='index').reset_index().rename(columns={'index':'topic_num',\n",
    "                                                                                          0:'topic_words'}) \n",
    "    # clean keywords\n",
    "    clean_keys = []\n",
    "    for index, row in top_n_words_df.iterrows(): \n",
    "\n",
    "        # remove STOP WORDS and remove whitespaces\n",
    "        inter_list = [x.strip() for x in row[\"topic_words\"].split(\",\") if x not in STOP_WORDS]\n",
    "\n",
    "        # remove numbers but not alphanumerics e.g. remove 400, not ps4 \n",
    "        inter_list = [x for x in inter_list if not x.isnumeric()]\n",
    "\n",
    "        # remove subset-based similar words - e.g. 'pcr tests' and 'tests' then 'tests' will be removed\n",
    "        inter_list = [i for i in inter_list if not any(i in x and i!=x for x in inter_list)]\n",
    "\n",
    "        # remove empty or 1-letter words\n",
    "        inter_list = [x for x in inter_list if len(x)>1]\n",
    "\n",
    "        # de-duplicate\n",
    "        inter_list = list(OrderedDict.fromkeys(inter_list))\n",
    "\n",
    "        # keep top 20 cleaned keywords\n",
    "        inter_list = inter_list[:6] \n",
    "\n",
    "        # convert into string\n",
    "        inter_list = ', '.join(inter_list)\n",
    "\n",
    "        clean_keys.append(inter_list)\n",
    "    \n",
    "    top_n_words_df[\"topic_words\"] = clean_keys\n",
    "    \n",
    "    # GENERATE TOPIC METRICS\n",
    "\n",
    "    # per topic - cos_min and cos_mean\n",
    "    train_cossim_df = generate_all_cossim_metrics(docs_df, train_embeds)\n",
    "\n",
    "    # per topic - tier counts\n",
    "    tier_metric = docs_df.join(train_df[[\"tier1\"]])\n",
    "\n",
    "    iab_metric = tier_metric.groupby(\"Topic\").agg({\"tier1\": \n",
    "                                                   'nunique'}).round(2).reset_index().rename(columns = {'tier1': \n",
    "                                                                                                        'distinct_tier1s',\n",
    "                                                                                                        'Topic':\n",
    "                                                                                                        'topic_num'})\n",
    "\n",
    "    # combine topic, top words, cos and tier metrics\n",
    "    topic_info = pd.merge(pd.merge(pd.merge(top_n_words_df, \n",
    "                                   topic_sizes, how=\"inner\", left_on=\"topic_num\", right_on = \"Topic\"), \n",
    "                                   train_cossim_df, on = \"topic_num\", how=\"inner\"), \n",
    "                          iab_metric, on = \"topic_num\", how=\"inner\")\n",
    "\n",
    "    topic_info.drop('Topic', axis=1, inplace=True)\n",
    "    \n",
    "    # combine natural id inside docs_df\n",
    "    docs_df = pd.merge(docs_df, train_df, how=\"left\", left_on=\"Doc\", right_on=\"clean_body\")\n",
    "    docs_df.drop(\"clean_body\", axis=1, inplace=True)\n",
    "    \n",
    "    # contains natid, article body, assigned topic\n",
    "\n",
    "    full_train_topics = pd.merge(docs_df, topic_info, how=\"left\", left_on=\"Topic\", right_on=\"topic_num\")\n",
    "\n",
    "    return umap_embeddings, cluster, full_train_topics, top_n_words_df, topic_info\n"
   ]
  },
  {
   "cell_type": "markdown",
   "metadata": {},
   "source": [
    "* **Train+Predict new points - predict May 3 after retraining on apr 26- may 02**\n",
    "* **Obs**: Noise decreased by just 1 perc"
   ]
  },
  {
   "cell_type": "code",
   "execution_count": 15,
   "metadata": {
    "collapsed": true,
    "jupyter": {
     "outputs_hidden": true
    }
   },
   "outputs": [
    {
     "name": "stdout",
     "output_type": "stream",
     "text": [
      "UMAP(dens_frac=0.0, dens_lambda=0.0, min_dist=0.0, random_state=42)\n",
      "\n",
      "HDBSCAN(min_samples=4, prediction_data=True)\n"
     ]
    }
   ],
   "source": [
    "umap_embeddings = joblib.load(\"./model/apr26_may2_train_umap_07192021.joblib\")\n",
    "cluster = joblib.load(\"./model/apr26_may2_train_clusterer_07192021.joblib\")\n",
    "\n",
    "print(umap_embeddings)\n",
    "print()\n",
    "print(cluster)"
   ]
  },
  {
   "cell_type": "code",
   "execution_count": null,
   "metadata": {},
   "outputs": [],
   "source": [
    "start = time.time()\n",
    "\n",
    "o3_pred_may03_full, o3_may03_docs_df, o3_topic_info_may03, o3_may03_strengths = predict(umap_embeddings, cluster, \n",
    "                                                                                        may03_art_embed, may03) \n",
    "\n",
    "# NOISE\n",
    "print(\"Rows: \", o3_pred_may03_full[o3_pred_may03_full.Topic==-1].shape)\n",
    "print(\"Perc: \", round(o3_pred_may03_full[o3_pred_may03_full.Topic==-1].shape[0]/o3_pred_may03_full.shape[0] * 100))\n",
    "\n",
    "end = time.time()\n",
    "print(\"time (mins): \", round((end - start)/60, 2)) \n",
    "\n",
    "o3_topic_info_may03[['cos_min', 'cos_mean', 'distinct_tier1s', 'Size']].describe().apply(lambda x: round(x, 2))"
   ]
  },
  {
   "cell_type": "markdown",
   "metadata": {},
   "source": [
    "* **May 3 assign topics directly by retraining on apr 27- may 03**"
   ]
  },
  {
   "cell_type": "code",
   "execution_count": 85,
   "metadata": {},
   "outputs": [
    {
     "name": "stdout",
     "output_type": "stream",
     "text": [
      "(26814, 12)\n",
      "26814\n",
      "(7293, 12)\n",
      "Duplicates?:  False\n",
      "7293\n",
      "Final shape:  (7293, 3)\n",
      "7293\n",
      "Settings - mean axis=0 0.31453923116107135\n",
      "Distinct topics including -1 for noise 322\n",
      "\n",
      "total time 1.416424818833669\n"
     ]
    },
    {
     "data": {
      "text/plain": [
       "31"
      ]
     },
     "execution_count": 85,
     "metadata": {},
     "output_type": "execute_result"
    }
   ],
   "source": [
    "# TRAIN\n",
    "start = time.time()\n",
    "m3b_train_umap_embeddings, m3b_train_cluster, m3b_full_train_topics, m3b_top_n_words_df, m3b_topic_info = retraining(\n",
    "    [apr26, apr27, apr28, apr29, apr30, may01, may02, may03], \n",
    "    apr26_art_embed\n",
    "    apr27_art_embed,\n",
    "    apr28_art_embed,\n",
    "    apr29_art_embed,\n",
    "    apr30_art_embed,\n",
    "    may01_art_embed,\n",
    "    may02_art_embed,\n",
    "    may03_art_embed)\n",
    "\n",
    "end = time.time()\n",
    "print(\"total time\", (end - start)/60) \n",
    "\n",
    "# overall training noise 30%\n",
    "round((m3b_full_train_topics[m3b_full_train_topics.Topic==-1].shape[0]/m3b_full_train_topics.shape[0])*100)\n",
    "\n",
    "m3b_full_train_topics['strengths'] = m3b_train_cluster.probabilities_\n",
    "\n",
    "# may 4 training noise\n",
    "o3b_ma3 = pd.merge(may03[[\"content_natid\", \"clean_body\"]], m3b_full_train_topics, how=\"inner\", on=\"content_natid\")\n",
    "round(o3b_ma3[o3b_ma3.Topic==-1].shape[0]/o3b_ma3.shape[0]*100)"
   ]
  },
  {
   "cell_type": "code",
   "execution_count": 59,
   "metadata": {},
   "outputs": [
    {
     "name": "stdout",
     "output_type": "stream",
     "text": [
      "(30942, 12)\n",
      "30942\n",
      "(7765, 12)\n",
      "Duplicates?:  False\n",
      "7765\n",
      "Final shape:  (7765, 3)\n",
      "7765\n",
      "Settings - mean axis=0 0.29542837625111645\n",
      "Distinct topics including -1 for noise 332\n",
      "\n",
      "total time 1.5011250734329225\n"
     ]
    },
    {
     "data": {
      "text/plain": [
       "29"
      ]
     },
     "execution_count": 59,
     "metadata": {},
     "output_type": "execute_result"
    }
   ],
   "source": [
    "# TRAIN\n",
    "start = time.time()\n",
    "m3b_train_umap_embeddings, m3b_train_cluster, m3b_full_train_topics, m3b_top_n_words_df, m3b_topic_info = retraining(\n",
    "    [apr26, apr27, apr28, apr29, apr30, may01, may02, may03], \n",
    "    apr26_art_embed,\n",
    "    apr27_art_embed,\n",
    "    apr28_art_embed,\n",
    "    apr29_art_embed,\n",
    "    apr30_art_embed,\n",
    "    may01_art_embed,\n",
    "    may02_art_embed,\n",
    "    may03_art_embed)\n",
    "\n",
    "end = time.time()\n",
    "print(\"total time\", (end - start)/60) \n",
    "\n",
    "# overall training noise 30%\n",
    "round((m3b_full_train_topics[m3b_full_train_topics.Topic==-1].shape[0]/m3b_full_train_topics.shape[0])*100)\n",
    "\n",
    "m3b_full_train_topics['strengths'] = m3b_train_cluster.probabilities_\n",
    "\n",
    "# may 4 training noise\n",
    "o3b_ma3 = pd.merge(may03[[\"content_natid\", \"clean_body\"]], m3b_full_train_topics, how=\"inner\", on=\"content_natid\")\n",
    "round(o3b_ma3[o3b_ma3.Topic==-1].shape[0]/o3b_ma3.shape[0]*100)"
   ]
  },
  {
   "cell_type": "code",
   "execution_count": 86,
   "metadata": {},
   "outputs": [],
   "source": [
    "full_clust_stren = m3b_full_train_topics.groupby('Topic').agg({'strengths':['min', 'mean', 'max']}).reset_index() #.to_csv(\"may3_cluster_strength.csv\")"
   ]
  },
  {
   "cell_type": "code",
   "execution_count": 87,
   "metadata": {},
   "outputs": [
    {
     "data": {
      "text/html": [
       "<div>\n",
       "<style scoped>\n",
       "    .dataframe tbody tr th:only-of-type {\n",
       "        vertical-align: middle;\n",
       "    }\n",
       "\n",
       "    .dataframe tbody tr th {\n",
       "        vertical-align: top;\n",
       "    }\n",
       "\n",
       "    .dataframe thead th {\n",
       "        text-align: right;\n",
       "    }\n",
       "</style>\n",
       "<table border=\"1\" class=\"dataframe\">\n",
       "  <thead>\n",
       "    <tr style=\"text-align: right;\">\n",
       "      <th></th>\n",
       "      <th>Size</th>\n",
       "      <th>cos_min</th>\n",
       "      <th>cos_mean</th>\n",
       "      <th>distinct_tier1s</th>\n",
       "    </tr>\n",
       "  </thead>\n",
       "  <tbody>\n",
       "    <tr>\n",
       "      <th>count</th>\n",
       "      <td>322.000000</td>\n",
       "      <td>322.000000</td>\n",
       "      <td>322.000000</td>\n",
       "      <td>322.000000</td>\n",
       "    </tr>\n",
       "    <tr>\n",
       "      <th>mean</th>\n",
       "      <td>22.649068</td>\n",
       "      <td>0.756988</td>\n",
       "      <td>0.876615</td>\n",
       "      <td>4.527950</td>\n",
       "    </tr>\n",
       "    <tr>\n",
       "      <th>std</th>\n",
       "      <td>124.647332</td>\n",
       "      <td>0.090481</td>\n",
       "      <td>0.037856</td>\n",
       "      <td>2.769577</td>\n",
       "    </tr>\n",
       "    <tr>\n",
       "      <th>min</th>\n",
       "      <td>5.000000</td>\n",
       "      <td>0.000000</td>\n",
       "      <td>0.710000</td>\n",
       "      <td>1.000000</td>\n",
       "    </tr>\n",
       "    <tr>\n",
       "      <th>25%</th>\n",
       "      <td>7.000000</td>\n",
       "      <td>0.710000</td>\n",
       "      <td>0.860000</td>\n",
       "      <td>3.000000</td>\n",
       "    </tr>\n",
       "    <tr>\n",
       "      <th>50%</th>\n",
       "      <td>11.000000</td>\n",
       "      <td>0.760000</td>\n",
       "      <td>0.880000</td>\n",
       "      <td>4.000000</td>\n",
       "    </tr>\n",
       "    <tr>\n",
       "      <th>75%</th>\n",
       "      <td>19.000000</td>\n",
       "      <td>0.820000</td>\n",
       "      <td>0.900000</td>\n",
       "      <td>6.000000</td>\n",
       "    </tr>\n",
       "    <tr>\n",
       "      <th>max</th>\n",
       "      <td>2240.000000</td>\n",
       "      <td>0.950000</td>\n",
       "      <td>0.970000</td>\n",
       "      <td>30.000000</td>\n",
       "    </tr>\n",
       "  </tbody>\n",
       "</table>\n",
       "</div>"
      ],
      "text/plain": [
       "              Size     cos_min    cos_mean  distinct_tier1s\n",
       "count   322.000000  322.000000  322.000000       322.000000\n",
       "mean     22.649068    0.756988    0.876615         4.527950\n",
       "std     124.647332    0.090481    0.037856         2.769577\n",
       "min       5.000000    0.000000    0.710000         1.000000\n",
       "25%       7.000000    0.710000    0.860000         3.000000\n",
       "50%      11.000000    0.760000    0.880000         4.000000\n",
       "75%      19.000000    0.820000    0.900000         6.000000\n",
       "max    2240.000000    0.950000    0.970000        30.000000"
      ]
     },
     "execution_count": 87,
     "metadata": {},
     "output_type": "execute_result"
    }
   ],
   "source": [
    "m3b_topic_info[[\"Size\", \"cos_min\", \"cos_mean\", \"distinct_tier1s\"]].describe()"
   ]
  },
  {
   "cell_type": "code",
   "execution_count": 88,
   "metadata": {},
   "outputs": [
    {
     "name": "stdout",
     "output_type": "stream",
     "text": [
      "321\n",
      "322\n",
      "(7293, 12)\n",
      "(4199, 13)\n",
      "(4199, 13)\n"
     ]
    }
   ],
   "source": [
    "# may3_clust_stren = o3b_ma3.groupby('Topic').agg({'strengths':['min', 'mean', 'max']}).reset_index() #.to_csv(\"may3_cluster_strength.csv\")\n",
    "# mixed_clust_stren = pd.merge(full_clust_stren, may3_clust_stren, on=\"Topic\", how=\"inner\")\n",
    "# mixed_clust_stren.to_csv(\"mixed_clust_stren.csv\")\n",
    "# m3b_topic_info.to_csv(\"m3b_topic_info.csv\")\n",
    "\n",
    "# may3_topic_info = o3b_ma3.groupby(\"Topic\").agg({'content_natid':'count'}).reset_index()\n",
    "# mixed = pd.merge(m3b_topic_info, may3_topic_info, left_on=\"topic_num\", right_on=\"Topic\", how=\"inner\")\n",
    "# mixed.to_csv(\"mixed.csv\", index=False)\n",
    "\n",
    "print(len(o3b_ma3.Topic.unique()))\n",
    "print(len(m3b_full_train_topics.Topic.unique()))\n",
    "print(m3b_full_train_topics.shape)\n",
    "print(o3b_ma3.shape)\n",
    "print(o3b_ma3[o3b_ma3.content_natid.isin(m3b_full_train_topics.content_natid)].shape)"
   ]
  },
  {
   "cell_type": "code",
   "execution_count": 89,
   "metadata": {},
   "outputs": [
    {
     "data": {
      "text/html": [
       "<div>\n",
       "<style scoped>\n",
       "    .dataframe tbody tr th:only-of-type {\n",
       "        vertical-align: middle;\n",
       "    }\n",
       "\n",
       "    .dataframe tbody tr th {\n",
       "        vertical-align: top;\n",
       "    }\n",
       "\n",
       "    .dataframe thead th {\n",
       "        text-align: right;\n",
       "    }\n",
       "</style>\n",
       "<table border=\"1\" class=\"dataframe\">\n",
       "  <thead>\n",
       "    <tr style=\"text-align: right;\">\n",
       "      <th></th>\n",
       "      <th>content_natid</th>\n",
       "      <th>clean_body</th>\n",
       "      <th>Doc</th>\n",
       "      <th>Topic</th>\n",
       "      <th>Doc_ID</th>\n",
       "      <th>tier1</th>\n",
       "      <th>topic_num</th>\n",
       "      <th>topic_words</th>\n",
       "      <th>Size</th>\n",
       "      <th>cos_min</th>\n",
       "      <th>cos_mean</th>\n",
       "      <th>distinct_tier1s</th>\n",
       "      <th>strengths</th>\n",
       "    </tr>\n",
       "  </thead>\n",
       "  <tbody>\n",
       "    <tr>\n",
       "      <th>0</th>\n",
       "      <td>blogandpostid/blog/post/4983-603fce6d28b0df00061a762b</td>\n",
       "      <td>10 durable air mattresses that wont go flat on you overnight. whether youre planning on having overnight guests, camping , or just need a spot to crash temporarily while you furnish a new apartment, an air mattress is a must. but anyone whos ever...</td>\n",
       "      <td>8 durable air mattresses that wont deflate on you while youre sleeping. whether youre planning on having overnight guests, camping , or just need a spot to crash temporarily while you furnish a new apartment, an air mattress is a must. but anyone...</td>\n",
       "      <td>49</td>\n",
       "      <td>1769</td>\n",
       "      <td>Shopping</td>\n",
       "      <td>49</td>\n",
       "      <td>memory foam, sleepers, neck pain, foam pillow, foam mattress, pillows</td>\n",
       "      <td>14</td>\n",
       "      <td>0.71</td>\n",
       "      <td>0.9</td>\n",
       "      <td>3</td>\n",
       "      <td>0.960713</td>\n",
       "    </tr>\n",
       "  </tbody>\n",
       "</table>\n",
       "</div>"
      ],
      "text/plain": [
       "                                           content_natid  \\\n",
       "0  blogandpostid/blog/post/4983-603fce6d28b0df00061a762b   \n",
       "\n",
       "                                                                                                                                                                                                                                                  clean_body  \\\n",
       "0  10 durable air mattresses that wont go flat on you overnight. whether youre planning on having overnight guests, camping , or just need a spot to crash temporarily while you furnish a new apartment, an air mattress is a must. but anyone whos ever...   \n",
       "\n",
       "                                                                                                                                                                                                                                                         Doc  \\\n",
       "0  8 durable air mattresses that wont deflate on you while youre sleeping. whether youre planning on having overnight guests, camping , or just need a spot to crash temporarily while you furnish a new apartment, an air mattress is a must. but anyone...   \n",
       "\n",
       "   Topic  Doc_ID     tier1  topic_num  \\\n",
       "0     49    1769  Shopping         49   \n",
       "\n",
       "                                                             topic_words  \\\n",
       "0  memory foam, sleepers, neck pain, foam pillow, foam mattress, pillows   \n",
       "\n",
       "   Size  cos_min  cos_mean  distinct_tier1s  strengths  \n",
       "0    14     0.71       0.9                3   0.960713  "
      ]
     },
     "execution_count": 89,
     "metadata": {},
     "output_type": "execute_result"
    }
   ],
   "source": [
    "o3b_ma3.head(1)"
   ]
  },
  {
   "cell_type": "code",
   "execution_count": 90,
   "metadata": {},
   "outputs": [],
   "source": [
    "# o3b_ma3[['content_natid', 'clean_body', 'Doc', 'Topic', 'Doc_ID', 'tier1', 'topic_num', 'topic_words', 'strengths']].to_csv(\"opt3_may3.csv\", index=False)"
   ]
  },
  {
   "cell_type": "code",
   "execution_count": 91,
   "metadata": {},
   "outputs": [
    {
     "name": "stdout",
     "output_type": "stream",
     "text": [
      "(3259, 9)\n",
      "(4199, 13)\n",
      "\n",
      "(2905, 13)\n",
      "0.6918313884258157\n"
     ]
    }
   ],
   "source": [
    "print(may02.shape)\n",
    "print(o3b_ma3.shape)\n",
    "print()\n",
    "print(o3b_ma3[o3b_ma3.content_natid.isin(may02.content_natid)].shape)\n",
    "print(2905/4199)"
   ]
  },
  {
   "cell_type": "code",
   "execution_count": 92,
   "metadata": {},
   "outputs": [],
   "source": [
    "o3b_ma3[~o3b_ma3.content_natid.isin(may02.content_natid)].to_csv(\"check_prod.csv\")"
   ]
  },
  {
   "cell_type": "code",
   "execution_count": 93,
   "metadata": {},
   "outputs": [
    {
     "data": {
      "text/html": [
       "<div>\n",
       "<style scoped>\n",
       "    .dataframe tbody tr th:only-of-type {\n",
       "        vertical-align: middle;\n",
       "    }\n",
       "\n",
       "    .dataframe tbody tr th {\n",
       "        vertical-align: top;\n",
       "    }\n",
       "\n",
       "    .dataframe thead th {\n",
       "        text-align: right;\n",
       "    }\n",
       "</style>\n",
       "<table border=\"1\" class=\"dataframe\">\n",
       "  <thead>\n",
       "    <tr style=\"text-align: right;\">\n",
       "      <th></th>\n",
       "      <th>content_natid</th>\n",
       "    </tr>\n",
       "    <tr>\n",
       "      <th>Topic</th>\n",
       "      <th></th>\n",
       "    </tr>\n",
       "  </thead>\n",
       "  <tbody>\n",
       "    <tr>\n",
       "      <th>-1</th>\n",
       "      <td>423</td>\n",
       "    </tr>\n",
       "    <tr>\n",
       "      <th>0</th>\n",
       "      <td>5</td>\n",
       "    </tr>\n",
       "    <tr>\n",
       "      <th>1</th>\n",
       "      <td>3</td>\n",
       "    </tr>\n",
       "    <tr>\n",
       "      <th>2</th>\n",
       "      <td>1</td>\n",
       "    </tr>\n",
       "    <tr>\n",
       "      <th>5</th>\n",
       "      <td>1</td>\n",
       "    </tr>\n",
       "    <tr>\n",
       "      <th>...</th>\n",
       "      <td>...</td>\n",
       "    </tr>\n",
       "    <tr>\n",
       "      <th>313</th>\n",
       "      <td>2</td>\n",
       "    </tr>\n",
       "    <tr>\n",
       "      <th>315</th>\n",
       "      <td>3</td>\n",
       "    </tr>\n",
       "    <tr>\n",
       "      <th>316</th>\n",
       "      <td>8</td>\n",
       "    </tr>\n",
       "    <tr>\n",
       "      <th>317</th>\n",
       "      <td>2</td>\n",
       "    </tr>\n",
       "    <tr>\n",
       "      <th>319</th>\n",
       "      <td>3</td>\n",
       "    </tr>\n",
       "  </tbody>\n",
       "</table>\n",
       "<p>276 rows × 1 columns</p>\n",
       "</div>"
      ],
      "text/plain": [
       "       content_natid\n",
       "Topic               \n",
       "-1               423\n",
       " 0                 5\n",
       " 1                 3\n",
       " 2                 1\n",
       " 5                 1\n",
       "...              ...\n",
       " 313               2\n",
       " 315               3\n",
       " 316               8\n",
       " 317               2\n",
       " 319               3\n",
       "\n",
       "[276 rows x 1 columns]"
      ]
     },
     "execution_count": 93,
     "metadata": {},
     "output_type": "execute_result"
    }
   ],
   "source": [
    "o3b_ma3[~o3b_ma3.content_natid.isin(may02.content_natid)].groupby('Topic').agg({'content_natid': 'nunique'})"
   ]
  },
  {
   "cell_type": "markdown",
   "metadata": {},
   "source": [
    "* **Train+Predict new points - predict May 4 after retraining on apr 27- may 03**\n",
    "* **Obs**: Noise decreased by just 1 perc"
   ]
  },
  {
   "cell_type": "code",
   "execution_count": 94,
   "metadata": {
    "collapsed": true,
    "jupyter": {
     "outputs_hidden": true
    }
   },
   "outputs": [
    {
     "ename": "NameError",
     "evalue": "name 'm4_train_umap_embeddings' is not defined",
     "output_type": "error",
     "traceback": [
      "\u001b[0;31m---------------------------------------------------------------------------\u001b[0m",
      "\u001b[0;31mNameError\u001b[0m                                 Traceback (most recent call last)",
      "\u001b[0;32m<ipython-input-94-8ad8423693f4>\u001b[0m in \u001b[0;36m<module>\u001b[0;34m\u001b[0m\n\u001b[1;32m      1\u001b[0m \u001b[0mstart\u001b[0m \u001b[0;34m=\u001b[0m \u001b[0mtime\u001b[0m\u001b[0;34m.\u001b[0m\u001b[0mtime\u001b[0m\u001b[0;34m(\u001b[0m\u001b[0;34m)\u001b[0m\u001b[0;34m\u001b[0m\u001b[0;34m\u001b[0m\u001b[0m\n\u001b[1;32m      2\u001b[0m \u001b[0;34m\u001b[0m\u001b[0m\n\u001b[0;32m----> 3\u001b[0;31m o3_pred_may04_full, o3_may04_docs_df, o3_topic_info_may04, o3_may04_strengths = predict(m4_train_umap_embeddings,\n\u001b[0m\u001b[1;32m      4\u001b[0m                                                                                         \u001b[0mm4_train_cluster\u001b[0m\u001b[0;34m,\u001b[0m\u001b[0;34m\u001b[0m\u001b[0;34m\u001b[0m\u001b[0m\n\u001b[1;32m      5\u001b[0m                                                                                         may04_art_embed, may04) \n",
      "\u001b[0;31mNameError\u001b[0m: name 'm4_train_umap_embeddings' is not defined"
     ]
    }
   ],
   "source": [
    "start = time.time()\n",
    "\n",
    "o3_pred_may04_full, o3_may04_docs_df, o3_topic_info_may04, o3_may04_strengths = predict(m4b_train_umap_embeddings,\n",
    "                                                                                        m4_train_cluster,\n",
    "                                                                                        may04_art_embed, may04) \n",
    "\n",
    "# NOISE\n",
    "print(\"Rows: \", o3_pred_may04_full[o3_pred_may04_full.Topic==-1].shape)\n",
    "print(\"Perc: \", round(o3_pred_may04_full[o3_pred_may04_full.Topic==-1].shape[0]/o3_pred_may04_full.shape[0] * 100))\n",
    "\n",
    "end = time.time()\n",
    "print(\"time (mins): \", round((end - start)/60, 2)) \n",
    "\n",
    "o3_topic_info_may04[['cos_min', 'cos_mean', 'distinct_tier1s', 'Size']].describe().apply(lambda x: round(x, 2))"
   ]
  },
  {
   "cell_type": "markdown",
   "metadata": {},
   "source": [
    "* **May 4 assign topics directly by retraining on apr 28- may 04**"
   ]
  },
  {
   "cell_type": "code",
   "execution_count": 99,
   "metadata": {},
   "outputs": [
    {
     "name": "stdout",
     "output_type": "stream",
     "text": [
      "(26870, 9)\n",
      "26870\n",
      "(7340, 9)\n",
      "Duplicates?:  False\n",
      "7340\n",
      "Final shape:  (7340, 3)\n",
      "7340\n",
      "Settings - mean axis=0 0.29762546136305795\n",
      "Distinct topics including -1 for noise 325\n",
      "\n",
      "total time 1.4450173219045004\n"
     ]
    },
    {
     "data": {
      "text/plain": [
       "31"
      ]
     },
     "execution_count": 99,
     "metadata": {},
     "output_type": "execute_result"
    }
   ],
   "source": [
    "# TRAIN\n",
    "start = time.time()\n",
    "m4b_train_umap_embeddings, m4b_train_cluster, m4b_full_train_topics, m4b_top_n_words_df, m4b_topic_info = retraining(\n",
    "    [apr28, apr29, apr30, may01, may02, may03, may04], \n",
    "    apr28_art_embed,\n",
    "    apr29_art_embed,\n",
    "    apr30_art_embed,\n",
    "    may01_art_embed,\n",
    "    may02_art_embed,\n",
    "    may03_art_embed,\n",
    "    may04_art_embed)\n",
    "\n",
    "end = time.time()\n",
    "print(\"total time\", (end - start)/60) \n",
    "\n",
    "# overall training noise 30%\n",
    "round((m4b_full_train_topics[m4b_full_train_topics.Topic==-1].shape[0]/m4b_full_train_topics.shape[0])*100)\n",
    "\n",
    "# may 4 training noise\n",
    "o3b_ma4 = pd.merge(may04[[\"content_natid\", \"clean_body\"]], m4b_full_train_topics, how=\"inner\", on=\"content_natid\")\n",
    "round(o3b_ma4[o3b_ma4.Topic==-1].shape[0]/o3b_ma4.shape[0]*100)"
   ]
  },
  {
   "cell_type": "markdown",
   "metadata": {},
   "source": [
    "* **May 5 assign topics directly by retraining on apr 29- may 05**"
   ]
  },
  {
   "cell_type": "code",
   "execution_count": 100,
   "metadata": {},
   "outputs": [
    {
     "name": "stdout",
     "output_type": "stream",
     "text": [
      "(26844, 9)\n",
      "26844\n",
      "(7303, 9)\n",
      "Duplicates?:  False\n",
      "7303\n",
      "Final shape:  (7303, 3)\n",
      "7303\n",
      "Settings - mean axis=0 0.33345512470848077\n",
      "Distinct topics including -1 for noise 328\n",
      "\n",
      "total time 1.4371182481447855\n",
      "29\n",
      "29\n"
     ]
    }
   ],
   "source": [
    "# TRAIN\n",
    "start = time.time()\n",
    "m5_train_umap_embeddings, m5_train_cluster, m5_full_train_topics, m5_top_n_words_df, m5_topic_info = retraining(\n",
    "    [apr29, apr30, may01, may02, may03, may04, may05], \n",
    "    apr29_art_embed,\n",
    "    apr30_art_embed,\n",
    "    may01_art_embed,\n",
    "    may02_art_embed,\n",
    "    may03_art_embed,\n",
    "    may04_art_embed,\n",
    "    may05_art_embed)\n",
    "\n",
    "end = time.time()\n",
    "print(\"total time\", (end - start)/60) \n",
    "\n",
    "# overall training noise 30%\n",
    "print(round((m5_full_train_topics[m5_full_train_topics.Topic==-1].shape[0]/m5_full_train_topics.shape[0])*100))\n",
    "\n",
    "# may 4 training noise\n",
    "o3b_ma5 = pd.merge(may05[[\"content_natid\", \"clean_body\"]], m5_full_train_topics, how=\"inner\", on=\"content_natid\")\n",
    "print(round(o3b_ma5[o3b_ma5.Topic==-1].shape[0]/o3b_ma5.shape[0]*100))"
   ]
  },
  {
   "cell_type": "markdown",
   "metadata": {},
   "source": [
    "* **May 6 assign topics directly by retraining on apr 29 - may 06**"
   ]
  },
  {
   "cell_type": "code",
   "execution_count": 101,
   "metadata": {},
   "outputs": [
    {
     "name": "stdout",
     "output_type": "stream",
     "text": [
      "(26719, 9)\n",
      "26719\n",
      "(7189, 9)\n",
      "Duplicates?:  False\n",
      "7189\n",
      "Final shape:  (7189, 3)\n",
      "7189\n",
      "Settings - mean axis=0 0.2858819462823894\n",
      "Distinct topics including -1 for noise 316\n",
      "\n",
      "total time 1.388807515303294\n",
      "30\n",
      "30\n"
     ]
    }
   ],
   "source": [
    "# TRAIN\n",
    "start = time.time()\n",
    "m6_train_umap_embeddings, m6_train_cluster, m6_full_train_topics, m6_top_n_words_df, m6_topic_info = retraining(\n",
    "    [apr30, may01, may02, may03, may04, may05, may06], \n",
    "    apr30_art_embed,\n",
    "    may01_art_embed,\n",
    "    may02_art_embed,\n",
    "    may03_art_embed,\n",
    "    may04_art_embed,\n",
    "    may05_art_embed,\n",
    "    may06_art_embed)\n",
    "\n",
    "end = time.time()\n",
    "print(\"total time\", (end - start)/60) \n",
    "\n",
    "# overall training noise 30%\n",
    "print(round((m6_full_train_topics[m6_full_train_topics.Topic==-1].shape[0]/m6_full_train_topics.shape[0])*100))\n",
    "\n",
    "# may 4 training noise\n",
    "o3b_ma6 = pd.merge(may06[[\"content_natid\", \"clean_body\"]], m6_full_train_topics, how=\"inner\", on=\"content_natid\")\n",
    "print(round(o3b_ma6[o3b_ma6.Topic==-1].shape[0]/o3b_ma6.shape[0]*100))"
   ]
  },
  {
   "cell_type": "markdown",
   "metadata": {},
   "source": [
    "* **May 7 assign topics directly by retraining on apr 29 - may 07**"
   ]
  },
  {
   "cell_type": "code",
   "execution_count": 102,
   "metadata": {},
   "outputs": [
    {
     "name": "stdout",
     "output_type": "stream",
     "text": [
      "(26578, 9)\n",
      "26578\n",
      "(7030, 9)\n",
      "Duplicates?:  False\n",
      "7030\n",
      "Final shape:  (7030, 3)\n",
      "7030\n",
      "Settings - mean axis=0 0.3244080942719157\n",
      "Distinct topics including -1 for noise 314\n",
      "\n",
      "total time 1.3579087535540262\n",
      "31\n",
      "30\n"
     ]
    }
   ],
   "source": [
    "# TRAIN\n",
    "start = time.time()\n",
    "m7_train_umap_embeddings, m7_train_cluster, m7_full_train_topics, m7_top_n_words_df, m7_topic_info = retraining(\n",
    "    [may01, may02, may03, may04, may05, may06, may07], \n",
    "    may01_art_embed,\n",
    "    may02_art_embed,\n",
    "    may03_art_embed,\n",
    "    may04_art_embed,\n",
    "    may05_art_embed,\n",
    "    may06_art_embed,\n",
    "    may07_art_embed)\n",
    "\n",
    "end = time.time()\n",
    "print(\"total time\", (end - start)/60) \n",
    "\n",
    "# overall training noise 30%\n",
    "print(round((m7_full_train_topics[m7_full_train_topics.Topic==-1].shape[0]/m7_full_train_topics.shape[0])*100))\n",
    "\n",
    "# may 4 training noise\n",
    "o3b_ma7 = pd.merge(may07[[\"content_natid\", \"clean_body\"]], m7_full_train_topics, how=\"inner\", on=\"content_natid\")\n",
    "print(round(o3b_ma7[o3b_ma7.Topic==-1].shape[0]/o3b_ma7.shape[0]*100))"
   ]
  },
  {
   "cell_type": "markdown",
   "metadata": {},
   "source": [
    "* **May 8 assign topics directly by retraining on apr 29 - may 07**"
   ]
  },
  {
   "cell_type": "code",
   "execution_count": 103,
   "metadata": {},
   "outputs": [
    {
     "name": "stdout",
     "output_type": "stream",
     "text": [
      "(26559, 9)\n",
      "26559\n",
      "(6973, 9)\n",
      "Duplicates?:  False\n",
      "6973\n",
      "Final shape:  (6973, 3)\n",
      "6973\n",
      "Settings - mean axis=0 0.3036354670916732\n",
      "Distinct topics including -1 for noise 319\n",
      "\n",
      "total time 1.3424273649851481\n",
      "28\n",
      "27\n"
     ]
    }
   ],
   "source": [
    "# TRAIN\n",
    "start = time.time()\n",
    "m8_train_umap_embeddings, m8_train_cluster, m8_full_train_topics, m8_top_n_words_df, m8_topic_info = retraining(\n",
    "    [may02, may03, may04, may05, may06, may07, may08], \n",
    "    may02_art_embed,\n",
    "    may03_art_embed,\n",
    "    may04_art_embed,\n",
    "    may05_art_embed,\n",
    "    may06_art_embed,\n",
    "    may07_art_embed,\n",
    "    may08_art_embed)\n",
    "\n",
    "end = time.time()\n",
    "print(\"total time\", (end - start)/60) \n",
    "\n",
    "# overall training noise 30%\n",
    "print(round((m8_full_train_topics[m8_full_train_topics.Topic==-1].shape[0]/m8_full_train_topics.shape[0])*100))\n",
    "\n",
    "# may 4 training noise\n",
    "o3b_ma8 = pd.merge(may08[[\"content_natid\", \"clean_body\"]], m8_full_train_topics, how=\"inner\", on=\"content_natid\")\n",
    "print(round(o3b_ma8[o3b_ma8.Topic==-1].shape[0]/o3b_ma8.shape[0]*100))"
   ]
  },
  {
   "cell_type": "markdown",
   "metadata": {},
   "source": [
    "* **May 9 assign topics directly by retraining on apr 29 - may 07**"
   ]
  },
  {
   "cell_type": "code",
   "execution_count": 104,
   "metadata": {},
   "outputs": [
    {
     "name": "stdout",
     "output_type": "stream",
     "text": [
      "(26531, 9)\n",
      "26531\n",
      "(6958, 9)\n",
      "Duplicates?:  False\n",
      "6958\n",
      "Final shape:  (6958, 3)\n",
      "6958\n",
      "Settings - mean axis=0 0.32047635318139017\n",
      "Distinct topics including -1 for noise 317\n",
      "\n",
      "total time 1.3509809851646424\n",
      "30\n",
      "29\n"
     ]
    }
   ],
   "source": [
    "# TRAIN\n",
    "start = time.time()\n",
    "m9_train_umap_embeddings, m9_train_cluster, m9_full_train_topics, m9_top_n_words_df, m9_topic_info = retraining(\n",
    "    [may03, may04, may05, may06, may07, may08, may09], \n",
    "    may03_art_embed,\n",
    "    may04_art_embed,\n",
    "    may05_art_embed,\n",
    "    may06_art_embed,\n",
    "    may07_art_embed,\n",
    "    may08_art_embed,\n",
    "    may09_art_embed)\n",
    "\n",
    "end = time.time()\n",
    "print(\"total time\", (end - start)/60) \n",
    "\n",
    "# overall training noise 30%\n",
    "print(round((m9_full_train_topics[m9_full_train_topics.Topic==-1].shape[0]/m9_full_train_topics.shape[0])*100))\n",
    "\n",
    "# may 4 training noise\n",
    "o3b_ma9 = pd.merge(may09[[\"content_natid\", \"clean_body\"]], m9_full_train_topics, how=\"inner\", on=\"content_natid\")\n",
    "print(round(o3b_ma9[o3b_ma9.Topic==-1].shape[0]/o3b_ma9.shape[0]*100))"
   ]
  },
  {
   "cell_type": "code",
   "execution_count": 105,
   "metadata": {},
   "outputs": [
    {
     "name": "stdout",
     "output_type": "stream",
     "text": [
      "926\n",
      "3231\n"
     ]
    }
   ],
   "source": [
    "print(o3b_ma9[o3b_ma9.Topic==-1].shape[0])\n",
    "print(o3b_ma9.shape[0])"
   ]
  },
  {
   "cell_type": "code",
   "execution_count": 106,
   "metadata": {},
   "outputs": [
    {
     "data": {
      "text/html": [
       "<div>\n",
       "<style scoped>\n",
       "    .dataframe tbody tr th:only-of-type {\n",
       "        vertical-align: middle;\n",
       "    }\n",
       "\n",
       "    .dataframe tbody tr th {\n",
       "        vertical-align: top;\n",
       "    }\n",
       "\n",
       "    .dataframe thead th {\n",
       "        text-align: right;\n",
       "    }\n",
       "</style>\n",
       "<table border=\"1\" class=\"dataframe\">\n",
       "  <thead>\n",
       "    <tr style=\"text-align: right;\">\n",
       "      <th></th>\n",
       "      <th>Size</th>\n",
       "      <th>cos_min</th>\n",
       "      <th>cos_mean</th>\n",
       "      <th>distinct_tier1s</th>\n",
       "    </tr>\n",
       "  </thead>\n",
       "  <tbody>\n",
       "    <tr>\n",
       "      <th>count</th>\n",
       "      <td>317.000000</td>\n",
       "      <td>317.000000</td>\n",
       "      <td>317.000000</td>\n",
       "      <td>317.000000</td>\n",
       "    </tr>\n",
       "    <tr>\n",
       "      <th>mean</th>\n",
       "      <td>21.949527</td>\n",
       "      <td>0.760694</td>\n",
       "      <td>0.880978</td>\n",
       "      <td>4.514196</td>\n",
       "    </tr>\n",
       "    <tr>\n",
       "      <th>std</th>\n",
       "      <td>115.780199</td>\n",
       "      <td>0.092107</td>\n",
       "      <td>0.035292</td>\n",
       "      <td>2.932352</td>\n",
       "    </tr>\n",
       "    <tr>\n",
       "      <th>min</th>\n",
       "      <td>5.000000</td>\n",
       "      <td>0.050000</td>\n",
       "      <td>0.710000</td>\n",
       "      <td>1.000000</td>\n",
       "    </tr>\n",
       "    <tr>\n",
       "      <th>25%</th>\n",
       "      <td>7.000000</td>\n",
       "      <td>0.710000</td>\n",
       "      <td>0.860000</td>\n",
       "      <td>3.000000</td>\n",
       "    </tr>\n",
       "    <tr>\n",
       "      <th>50%</th>\n",
       "      <td>11.000000</td>\n",
       "      <td>0.770000</td>\n",
       "      <td>0.880000</td>\n",
       "      <td>4.000000</td>\n",
       "    </tr>\n",
       "    <tr>\n",
       "      <th>75%</th>\n",
       "      <td>19.000000</td>\n",
       "      <td>0.830000</td>\n",
       "      <td>0.900000</td>\n",
       "      <td>5.000000</td>\n",
       "    </tr>\n",
       "    <tr>\n",
       "      <th>max</th>\n",
       "      <td>2057.000000</td>\n",
       "      <td>0.970000</td>\n",
       "      <td>0.970000</td>\n",
       "      <td>31.000000</td>\n",
       "    </tr>\n",
       "  </tbody>\n",
       "</table>\n",
       "</div>"
      ],
      "text/plain": [
       "              Size     cos_min    cos_mean  distinct_tier1s\n",
       "count   317.000000  317.000000  317.000000       317.000000\n",
       "mean     21.949527    0.760694    0.880978         4.514196\n",
       "std     115.780199    0.092107    0.035292         2.932352\n",
       "min       5.000000    0.050000    0.710000         1.000000\n",
       "25%       7.000000    0.710000    0.860000         3.000000\n",
       "50%      11.000000    0.770000    0.880000         4.000000\n",
       "75%      19.000000    0.830000    0.900000         5.000000\n",
       "max    2057.000000    0.970000    0.970000        31.000000"
      ]
     },
     "execution_count": 106,
     "metadata": {},
     "output_type": "execute_result"
    }
   ],
   "source": [
    "m9_topic_info[['Size', 'cos_min', 'cos_mean', 'distinct_tier1s']].describe()"
   ]
  },
  {
   "cell_type": "code",
   "execution_count": 107,
   "metadata": {},
   "outputs": [
    {
     "data": {
      "text/plain": [
       "(7293, 12)"
      ]
     },
     "execution_count": 107,
     "metadata": {},
     "output_type": "execute_result"
    }
   ],
   "source": [
    "m3b_full_train_topics.shape"
   ]
  },
  {
   "cell_type": "markdown",
   "metadata": {},
   "source": [
    "**REPLICATE PROD**"
   ]
  },
  {
   "cell_type": "code",
   "execution_count": 108,
   "metadata": {},
   "outputs": [],
   "source": [
    "def opt3_replicate_prod_deduplication(df_list, raw_df):\n",
    "    \n",
    "    # merge and deduplicate earlier days dfs - \n",
    "    # replicates a DB where unique articles and their topic assignments are stored. scope of comparisom - past 7 days\n",
    "    concat_dfs = pd.concat(df_list)\n",
    "    concat_dfs.drop_duplicates(\"content_natid\", keep=\"first\", inplace=True)\n",
    "    \n",
    "    updated_df = raw_df[~((raw_df.content_natid.isin(m3b_full_train_topics.content_natid)) | (raw_df.content_natid.isin(concat_dfs.content_natid)))]\n",
    "    \n",
    "    updated_df.reset_index(drop=True, inplace=True)\n",
    "    \n",
    "    return updated_df"
   ]
  },
  {
   "cell_type": "code",
   "execution_count": 109,
   "metadata": {},
   "outputs": [
    {
     "name": "stdout",
     "output_type": "stream",
     "text": [
      "(7293, 12)\n",
      "(7340, 11)\n",
      "(7303, 11)\n",
      "(7189, 11)\n",
      "(7030, 11)\n",
      "(6973, 11)\n",
      "(6958, 11)\n"
     ]
    }
   ],
   "source": [
    "print(m3b_full_train_topics.shape)\n",
    "print(m4b_full_train_topics.shape)\n",
    "print(m5_full_train_topics.shape)\n",
    "print(m6_full_train_topics.shape)\n",
    "print(m7_full_train_topics.shape)\n",
    "print(m8_full_train_topics.shape)\n",
    "print(m9_full_train_topics.shape)"
   ]
  },
  {
   "cell_type": "code",
   "execution_count": 110,
   "metadata": {},
   "outputs": [],
   "source": [
    "may03_prod_repli = m3b_full_train_topics.copy()\n",
    "\n",
    "may04_prod_repli = m4b_full_train_topics[~m4b_full_train_topics.content_natid.isin(m3b_full_train_topics.content_natid)]\n",
    "\n",
    "may05_prod_repli = opt3_replicate_prod_deduplication([m3b_full_train_topics, \n",
    "                                                      m4b_full_train_topics], \n",
    "                                                     m5_full_train_topics)\n",
    "\n",
    "may06_prod_repli = opt3_replicate_prod_deduplication([m3b_full_train_topics, \n",
    "                                                      m4b_full_train_topics,\n",
    "                                                     m5_full_train_topics], \n",
    "                                                     m6_full_train_topics)\n",
    "\n",
    "may07_prod_repli = opt3_replicate_prod_deduplication([m3b_full_train_topics, \n",
    "                                                      m4b_full_train_topics,\n",
    "                                                     m5_full_train_topics, \n",
    "                                                     m6_full_train_topics], \n",
    "                                                     m7_full_train_topics)\n",
    "\n",
    "may08_prod_repli = opt3_replicate_prod_deduplication([m3b_full_train_topics, \n",
    "                                                      m4b_full_train_topics,\n",
    "                                                     m5_full_train_topics, \n",
    "                                                     m6_full_train_topics,\n",
    "                                                     m7_full_train_topics], \n",
    "                                                     m8_full_train_topics)\n",
    "\n",
    "may09_prod_repli  = opt3_replicate_prod_deduplication([m3b_full_train_topics, \n",
    "                                                      m4b_full_train_topics,\n",
    "                                                     m5_full_train_topics, \n",
    "                                                     m6_full_train_topics,\n",
    "                                                     m7_full_train_topics,\n",
    "                                                      m8_full_train_topics], \n",
    "                                                     m9_full_train_topics)"
   ]
  },
  {
   "cell_type": "code",
   "execution_count": 111,
   "metadata": {},
   "outputs": [
    {
     "name": "stdout",
     "output_type": "stream",
     "text": [
      "Opt3 prod replicate\n",
      "(7293, 12)\n",
      "(536, 11)\n",
      "(462, 11)\n",
      "(461, 11)\n",
      "(328, 11)\n",
      "(177, 11)\n",
      "(198, 11)\n",
      "\n",
      "Noise\n",
      "31\n",
      "31\n",
      "27\n",
      "27\n",
      "28\n",
      "29\n",
      "23\n"
     ]
    }
   ],
   "source": [
    "print(\"Opt3 prod replicate\")\n",
    "print(may03_prod_repli.shape)\n",
    "print(may04_prod_repli.shape)\n",
    "print(may05_prod_repli.shape)\n",
    "print(may06_prod_repli.shape)\n",
    "print(may07_prod_repli.shape)\n",
    "print(may08_prod_repli.shape)\n",
    "print(may09_prod_repli.shape)\n",
    "\n",
    "print()\n",
    "\n",
    "print(\"Noise\")\n",
    "print(round(may03_prod_repli[may03_prod_repli.Topic==-1].shape[0]/may03_prod_repli.shape[0]*100))\n",
    "print(round(may04_prod_repli[may04_prod_repli.Topic==-1].shape[0]/may04_prod_repli.shape[0]*100))\n",
    "print(round(may05_prod_repli[may05_prod_repli.Topic==-1].shape[0]/may05_prod_repli.shape[0]*100))\n",
    "print(round(may06_prod_repli[may06_prod_repli.Topic==-1].shape[0]/may06_prod_repli.shape[0]*100))\n",
    "print(round(may07_prod_repli[may07_prod_repli.Topic==-1].shape[0]/may07_prod_repli.shape[0]*100))\n",
    "print(round(may08_prod_repli[may08_prod_repli.Topic==-1].shape[0]/may08_prod_repli.shape[0]*100))\n",
    "print(round(may09_prod_repli[may09_prod_repli.Topic==-1].shape[0]/may09_prod_repli.shape[0]*100))"
   ]
  },
  {
   "cell_type": "code",
   "execution_count": 112,
   "metadata": {},
   "outputs": [
    {
     "name": "stdout",
     "output_type": "stream",
     "text": [
      "Number of Topics assigned:\n",
      "May 3 - 322\n",
      "May 4 - 193\n",
      "May 5 - 179\n",
      "May 6 - 174\n",
      "May 7 - 133\n",
      "May 8 - 87\n",
      "May 9 - 95\n",
      "Avg topic size:\n",
      "May 3 - 16\n",
      "May 4 - 2\n",
      "May 5 - 2\n",
      "May 6 - 2\n",
      "May 7 - 2\n",
      "May 8 - 1\n",
      "May 9 - 2\n",
      "Median topic size:\n",
      "May 3 - 11\n",
      "May 4 - 2\n",
      "May 5 - 1\n",
      "May 6 - 2\n",
      "May 7 - 1\n",
      "May 8 - 1\n",
      "May 9 - 1\n"
     ]
    }
   ],
   "source": [
    "print(\"Number of Topics assigned:\")\n",
    "print(\"May 3 -\",len(may03_prod_repli.Topic.unique()))\n",
    "print(\"May 4 -\",len(may04_prod_repli.Topic.unique()))\n",
    "print(\"May 5 -\",len(may05_prod_repli.Topic.unique()))\n",
    "print(\"May 6 -\",len(may06_prod_repli.Topic.unique()))\n",
    "print(\"May 7 -\",len(may07_prod_repli.Topic.unique()))\n",
    "print(\"May 8 -\",len(may08_prod_repli.Topic.unique()))\n",
    "print(\"May 9 -\",len(may09_prod_repli.Topic.unique()))\n",
    "\n",
    "print(\"Avg topic size:\")\n",
    "print(\"May 3 -\",round(may03_prod_repli.groupby('Topic').content_natid.nunique()[1:].mean()))\n",
    "print(\"May 4 -\",round(may04_prod_repli.groupby('Topic').content_natid.nunique()[1:].mean()))\n",
    "print(\"May 5 -\",round(may05_prod_repli.groupby('Topic').content_natid.nunique()[1:].mean()))\n",
    "print(\"May 6 -\",round(may06_prod_repli.groupby('Topic').content_natid.nunique()[1:].mean()))\n",
    "print(\"May 7 -\",round(may07_prod_repli.groupby('Topic').content_natid.nunique()[1:].mean()))\n",
    "print(\"May 8 -\",round(may08_prod_repli.groupby('Topic').content_natid.nunique()[1:].mean()))\n",
    "print(\"May 9 -\",round(may09_prod_repli.groupby('Topic').content_natid.nunique()[1:].mean()))\n",
    "\n",
    "print(\"Median topic size:\")\n",
    "print(\"May 3 -\",round(may03_prod_repli.groupby('Topic').content_natid.nunique()[1:].median()))\n",
    "print(\"May 4 -\",round(may04_prod_repli.groupby('Topic').content_natid.nunique()[1:].median()))\n",
    "print(\"May 5 -\",round(may05_prod_repli.groupby('Topic').content_natid.nunique()[1:].median()))\n",
    "print(\"May 6 -\",round(may06_prod_repli.groupby('Topic').content_natid.nunique()[1:].median()))\n",
    "print(\"May 7 -\",round(may07_prod_repli.groupby('Topic').content_natid.nunique()[1:].median()))\n",
    "print(\"May 8 -\",round(may08_prod_repli.groupby('Topic').content_natid.nunique()[1:].median()))\n",
    "print(\"May 9 -\",round(may09_prod_repli.groupby('Topic').content_natid.nunique()[1:].median()))"
   ]
  },
  {
   "cell_type": "code",
   "execution_count": 113,
   "metadata": {},
   "outputs": [
    {
     "data": {
      "text/plain": [
       "count    94.000000\n",
       "mean      1.617021\n",
       "std       1.146349\n",
       "min       1.000000\n",
       "25%       1.000000\n",
       "50%       1.000000\n",
       "75%       2.000000\n",
       "max       7.000000\n",
       "Name: content_natid, dtype: float64"
      ]
     },
     "execution_count": 113,
     "metadata": {},
     "output_type": "execute_result"
    }
   ],
   "source": [
    "may09_prod_repli.groupby('Topic').content_natid.nunique()[1:].describe()"
   ]
  },
  {
   "cell_type": "markdown",
   "metadata": {},
   "source": [
    "## --- EDA ---"
   ]
  },
  {
   "cell_type": "code",
   "execution_count": 114,
   "metadata": {},
   "outputs": [
    {
     "name": "stdout",
     "output_type": "stream",
     "text": [
      "Eligible articles:\n",
      "May 3 - (4199, 9)\n",
      "May 4 - (4223, 9)\n",
      "May 5 - (4160, 9)\n",
      "May 6 - (4063, 9)\n",
      "May 7 - (3630, 9)\n",
      "May 8 - (3025, 9)\n",
      "May 9 - (3231, 9)\n"
     ]
    }
   ],
   "source": [
    "print(\"Eligible articles:\")\n",
    "print(\"May 3 -\", may03.shape)\n",
    "print(\"May 4 -\", may04.shape)\n",
    "print(\"May 5 -\", may05.shape)\n",
    "print(\"May 6 -\", may06.shape)\n",
    "print(\"May 7 -\", may07.shape)\n",
    "print(\"May 8 -\", may08.shape)\n",
    "print(\"May 9 -\", may09.shape)"
   ]
  },
  {
   "cell_type": "code",
   "execution_count": 115,
   "metadata": {},
   "outputs": [
    {
     "name": "stdout",
     "output_type": "stream",
     "text": [
      "Number of Topics assigned:\n",
      "May 3 - 322\n",
      "May 4 - 325\n",
      "May 5 - 328\n",
      "May 6 - 316\n",
      "May 7 - 314\n",
      "May 8 - 319\n",
      "May 9 - 317\n",
      "Avg topic size:\n",
      "May 3 - 23\n",
      "May 4 - 23\n",
      "May 5 - 22\n",
      "May 6 - 23\n",
      "May 7 - 22\n",
      "May 8 - 22\n",
      "May 9 - 22\n",
      "Common topics across 5 days -  314\n"
     ]
    }
   ],
   "source": [
    "print(\"Number of Topics assigned:\")\n",
    "print(\"May 3 -\",len(m3b_full_train_topics.Topic.unique()))\n",
    "print(\"May 4 -\",len(m4b_full_train_topics.Topic.unique()))\n",
    "print(\"May 5 -\",len(m5_full_train_topics.Topic.unique()))\n",
    "print(\"May 6 -\",len(m6_full_train_topics.Topic.unique()))\n",
    "print(\"May 7 -\",len(m7_full_train_topics.Topic.unique()))\n",
    "print(\"May 8 -\",len(m8_full_train_topics.Topic.unique()))\n",
    "print(\"May 9 -\",len(m9_full_train_topics.Topic.unique()))\n",
    "\n",
    "print(\"Avg topic size:\")\n",
    "print(\"May 3 -\",round(m3b_topic_info.Size.mean()))\n",
    "print(\"May 4 -\",round(m4b_topic_info.Size.mean()))\n",
    "print(\"May 5 -\",round(m5_topic_info.Size.mean()))\n",
    "print(\"May 6 -\",round(m6_topic_info.Size.mean()))\n",
    "print(\"May 7 -\",round(m7_topic_info.Size.mean()))\n",
    "print(\"May 8 -\",round(m8_topic_info.Size.mean()))\n",
    "print(\"May 9 -\",round(m9_topic_info.Size.mean()))\n",
    "\n",
    "opt3_common_7 =  pd.merge(pd.merge(pd.merge(pd.merge(pd.merge(pd.merge(m3b_topic_info[[\"topic_num\"]], \n",
    "                                                m4b_topic_info[[\"topic_num\"]], on=\"topic_num\", how=\"inner\"), \n",
    "                                       m5_topic_info[[\"topic_num\"]], on=\"topic_num\", how=\"inner\"), \n",
    "                     m6_topic_info[[\"topic_num\"]], on=\"topic_num\", how=\"inner\"), \n",
    "                     m7_topic_info[[\"topic_num\"]], on=\"topic_num\", how=\"inner\"), \n",
    "                     m8_topic_info[[\"topic_num\"]], on=\"topic_num\", how=\"inner\"), \n",
    "                     m9_topic_info[[\"topic_num\"]], on=\"topic_num\", how=\"inner\")\n",
    "\n",
    "print(\"Common topics across 5 days - \", len(opt3_common_7))"
   ]
  },
  {
   "cell_type": "code",
   "execution_count": 116,
   "metadata": {},
   "outputs": [
    {
     "name": "stdout",
     "output_type": "stream",
     "text": [
      "Noise\n",
      "31\n",
      "31\n",
      "29\n",
      "30\n",
      "30\n",
      "27\n",
      "29\n"
     ]
    }
   ],
   "source": [
    "print(\"Noise\")\n",
    "print(round(o3b_ma3[o3b_ma3.Topic==-1].shape[0]/o3b_ma3.shape[0]*100))\n",
    "print(round(o3b_ma4[o3b_ma4.Topic==-1].shape[0]/o3b_ma4.shape[0]*100))\n",
    "print(round(o3b_ma5[o3b_ma5.Topic==-1].shape[0]/o3b_ma5.shape[0]*100))\n",
    "print(round(o3b_ma6[o3b_ma6.Topic==-1].shape[0]/o3b_ma6.shape[0]*100))\n",
    "print(round(o3b_ma7[o3b_ma7.Topic==-1].shape[0]/o3b_ma7.shape[0]*100))\n",
    "print(round(o3b_ma8[o3b_ma8.Topic==-1].shape[0]/o3b_ma8.shape[0]*100))\n",
    "print(round(o3b_ma9[o3b_ma9.Topic==-1].shape[0]/o3b_ma9.shape[0]*100))"
   ]
  },
  {
   "cell_type": "code",
   "execution_count": 117,
   "metadata": {},
   "outputs": [
    {
     "name": "stdout",
     "output_type": "stream",
     "text": [
      "(4199, 13)\n",
      "(4223, 12)\n",
      "(4160, 12)\n",
      "(4199,)\n",
      "(4199,)\n",
      "(4223,)\n"
     ]
    }
   ],
   "source": [
    "print(o3b_ma3.shape)\n",
    "print(o3b_ma4.shape)\n",
    "print(o3b_ma5.shape)\n",
    "\n",
    "print(o3b_ma3.content_natid.isin(o3b_ma4).shape)\n",
    "print(o3b_ma3.content_natid.isin(o3b_ma5).shape)\n",
    "print(o3b_ma4.content_natid.isin(o3b_ma5).shape)"
   ]
  },
  {
   "cell_type": "code",
   "execution_count": null,
   "metadata": {},
   "outputs": [],
   "source": []
  },
  {
   "cell_type": "markdown",
   "metadata": {},
   "source": [
    "**---Opt1A and Opt 3 compare---**"
   ]
  },
  {
   "cell_type": "code",
   "execution_count": 61,
   "metadata": {},
   "outputs": [
    {
     "name": "stdout",
     "output_type": "stream",
     "text": [
      "Opt 1A May 3 - (4199, 15)\n",
      "Opt 3 May 3 - (4199, 13)\n"
     ]
    }
   ],
   "source": [
    "print(\"Opt 1A May 3 -\", pred_may03_full.shape)\n",
    "print(\"Opt 3 May 3 -\", o3b_ma3.shape)\n",
    "\n",
    "# print(\"Opt 1A May 4 -\", pred_may04_full.shape)\n",
    "# print(\"Opt 3 May 4 -\", o3b_ma4.shape)"
   ]
  },
  {
   "cell_type": "code",
   "execution_count": 64,
   "metadata": {},
   "outputs": [
    {
     "name": "stdout",
     "output_type": "stream",
     "text": [
      "Opt 1A May 3 Noise - (1920, 15)\n",
      "Opt 3 May 3 Noise - (1219, 13)\n"
     ]
    }
   ],
   "source": [
    "print(\"Opt 1A May 3 Noise -\", pred_may03_full[pred_may03_full.Topic==-1].shape)\n",
    "print(\"Opt 3 May 3 Noise -\", o3b_ma3[o3b_ma3.Topic==-1].shape) # with cosine correction, Im pulling down noise to 1011 arts"
   ]
  },
  {
   "cell_type": "code",
   "execution_count": 65,
   "metadata": {},
   "outputs": [
    {
     "name": "stdout",
     "output_type": "stream",
     "text": [
      "(4199, 7)\n",
      "Noise in op1 (1920, 7)\n",
      "Noise in op3 (1219, 7)\n",
      "Noise in both methods (781, 7)\n",
      "Noise in both methods % of op3 64.06890894175554\n"
     ]
    },
    {
     "data": {
      "text/plain": [
       "(438, 7)"
      ]
     },
     "execution_count": 65,
     "metadata": {},
     "output_type": "execute_result"
    }
   ],
   "source": [
    "op1_3_comp = pd.merge(pred_may03_full[col], o3b_ma3[col], how=\"inner\", on=\"content_natid\")\n",
    "print(op1_3_comp.shape)\n",
    "\n",
    "print(\"Noise in op1\", op1_3_comp[(op1_3_comp.Topic_x==-1)].shape)\n",
    "print(\"Noise in op3\",  op1_3_comp[(op1_3_comp.Topic_y==-1)].shape)\n",
    "\n",
    "print(\"Noise in both methods\", op1_3_comp[(op1_3_comp.Topic_x==-1) & (op1_3_comp.Topic_y==-1)].shape)\n",
    "print(\"Noise in both methods % of op3\", \n",
    "     op1_3_comp[(op1_3_comp.Topic_x==-1) & (op1_3_comp.Topic_y==-1)].shape[0]/op1_3_comp[(op1_3_comp.Topic_y==-1)].shape[0]*100)\n",
    "\n",
    "op1_3_comp[(op1_3_comp.Topic_x!=-1) & (op1_3_comp.Topic_y==-1)].shape"
   ]
  },
  {
   "cell_type": "code",
   "execution_count": 120,
   "metadata": {},
   "outputs": [
    {
     "name": "stdout",
     "output_type": "stream",
     "text": [
      "Noise in op1, not in opt3 (1019, 7)\n",
      "Noise in op3 not in op1 (525, 7)\n"
     ]
    }
   ],
   "source": [
    "print(\"Noise in op1, not in opt3\", op1_3_comp[(op1_3_comp.Topic_x==-1) & (op1_3_comp.Topic_y!=-1)\n",
    "                                             & (op1_3_comp.Topic_x!=op1_3_comp.Topic_y)].shape)\n",
    "print(\"Noise in op3 not in op1\",  op1_3_comp[(op1_3_comp.Topic_x!=-1) & (op1_3_comp.Topic_y==-1)\n",
    "                                             & (op1_3_comp.Topic_x!=op1_3_comp.Topic_y)].shape)"
   ]
  },
  {
   "cell_type": "code",
   "execution_count": 121,
   "metadata": {},
   "outputs": [
    {
     "name": "stdout",
     "output_type": "stream",
     "text": [
      "Common topics across 5 days -  236\n"
     ]
    }
   ],
   "source": [
    "common_7 =  pd.merge(pd.merge(pd.merge(pd.merge(pd.merge(pd.merge(m3b_topic_info[[\"topic_num\"]], \n",
    "                                                m4b_topic_info[[\"topic_num\"]], on=\"topic_num\", how=\"inner\"), \n",
    "                                       m5_topic_info[[\"topic_num\"]], on=\"topic_num\", how=\"inner\"), \n",
    "                     m6_topic_info[[\"topic_num\"]], on=\"topic_num\", how=\"inner\"), \n",
    "                     m7_topic_info[[\"topic_num\"]], on=\"topic_num\", how=\"inner\"), \n",
    "                     m8_topic_info[[\"topic_num\"]], on=\"topic_num\", how=\"inner\"), \n",
    "                     m9_topic_info[[\"topic_num\"]], on=\"topic_num\", how=\"inner\")\n",
    "\n",
    "print(\"Common topics across 5 days - \", len(common_7))"
   ]
  },
  {
   "cell_type": "markdown",
   "metadata": {},
   "source": [
    "* **May 9 assign topics directly by retraining on PAST 2 WEEKS apr 26 - may 09**"
   ]
  },
  {
   "cell_type": "code",
   "execution_count": null,
   "metadata": {},
   "outputs": [],
   "source": [
    "# TRAIN\n",
    "start = time.time()\n",
    "w2_m9_train_umap_embeddings, w2_m9_train_cluster, w2_m9_full_train_topics, w2_m9_top_n_words_df, w2_m9_topic_info = retraining_2week(\n",
    "    [apr26, apr27, apr28, apr29, apr30, may01, may02, may03, may04, may05, may06, may07, may08, may09], \n",
    "    apr26_art_embed,\n",
    "    apr27_art_embed,\n",
    "    apr28_art_embed,\n",
    "    apr29_art_embed,\n",
    "    apr30_art_embed,\n",
    "    may01_art_embed,\n",
    "    may02_art_embed,\n",
    "    may03_art_embed,\n",
    "    may04_art_embed,\n",
    "    may05_art_embed,\n",
    "    may06_art_embed,\n",
    "    may07_art_embed,\n",
    "    may08_art_embed,\n",
    "    may09_art_embed)\n",
    "\n",
    "end = time.time()\n",
    "print(\"total time\", (end - start)/60) \n",
    "\n",
    "# overall training noise 30%\n",
    "print(round((w2_m9_full_train_topics[w2_m9_full_train_topics.Topic==-1].shape[0]/w2_m9_full_train_topics.shape[0])*100))\n",
    "\n",
    "# may 4 training noise\n",
    "w2_o3b_ma9 = pd.merge(may09[[\"content_natid\", \"clean_body\"]], w2_m9_full_train_topics, how=\"inner\", on=\"content_natid\")\n",
    "print(round(w2_o3b_ma9[w2_o3b_ma9.Topic==-1].shape[0]/w2_o3b_ma9.shape[0]*100))"
   ]
  },
  {
   "cell_type": "code",
   "execution_count": null,
   "metadata": {},
   "outputs": [],
   "source": [
    "print(w2_o3b_ma9[w2_o3b_ma9.Topic==-1].shape[0])\n",
    "print(w2_o3b_ma9.shape[0])"
   ]
  },
  {
   "cell_type": "code",
   "execution_count": null,
   "metadata": {},
   "outputs": [],
   "source": [
    "w2_m9_topic_info[['Size', 'cos_min', 'cos_mean', 'distinct_tier1s']].describe()"
   ]
  },
  {
   "cell_type": "code",
   "execution_count": null,
   "metadata": {},
   "outputs": [],
   "source": []
  },
  {
   "cell_type": "code",
   "execution_count": null,
   "metadata": {},
   "outputs": [],
   "source": []
  },
  {
   "cell_type": "code",
   "execution_count": null,
   "metadata": {},
   "outputs": [],
   "source": []
  },
  {
   "cell_type": "markdown",
   "metadata": {},
   "source": [
    "**Exp:**\n",
    "## --- Cosine Similarity between 7 days' topic-words ---\n",
    "* Use-case: To compare day-over-day topic performance (pvs, engagement etc.) \n",
    "    * Since topics wouldnt have the exact same labels/topic-words:\n",
    "        * the related topics can be found by computing cosine similarities"
   ]
  },
  {
   "cell_type": "code",
   "execution_count": 63,
   "metadata": {},
   "outputs": [
    {
     "name": "stdout",
     "output_type": "stream",
     "text": [
      "Total Topics per day:\n",
      "May 3 - 320\n",
      "May 4 - 308\n",
      "May 5 - 343\n",
      "May 6 - 333\n",
      "May 7 - 332\n",
      "May 8 - 284\n",
      "May 9 - 332\n"
     ]
    }
   ],
   "source": [
    "merge_m3 = m3b_topic_info.copy()\n",
    "merge_m3[\"date\"] = \"2021-05-03\"\n",
    "\n",
    "merge_m4 = m4b_topic_info.copy()\n",
    "merge_m4[\"date\"] = \"2021-05-04\"\n",
    "\n",
    "merge_m5 = m5_topic_info.copy()\n",
    "merge_m5[\"date\"] = \"2021-05-05\"\n",
    "\n",
    "merge_m6 = m6_topic_info.copy()\n",
    "merge_m6[\"date\"] = \"2021-05-06\"\n",
    "\n",
    "merge_m7 = m7_topic_info.copy()\n",
    "merge_m7[\"date\"] = \"2021-05-07\"\n",
    "\n",
    "merge_m8 = m8_topic_info.copy()\n",
    "merge_m8[\"date\"] = \"2021-05-08\"\n",
    "\n",
    "merge_m9 = m9_topic_info.copy()\n",
    "merge_m9[\"date\"] = \"2021-05-09\"\n",
    "\n",
    "print(\"Total Topics per day:\")\n",
    "print(\"May 3 -\", merge_m3.shape[0])\n",
    "print(\"May 4 -\", merge_m4.shape[0])\n",
    "print(\"May 5 -\", merge_m5.shape[0])\n",
    "print(\"May 6 -\", merge_m6.shape[0])\n",
    "print(\"May 7 -\", merge_m7.shape[0])\n",
    "print(\"May 8 -\", merge_m8.shape[0])\n",
    "print(\"May 9 -\", merge_m9.shape[0])"
   ]
  },
  {
   "cell_type": "markdown",
   "metadata": {},
   "source": [
    "* concatenate all topics together"
   ]
  },
  {
   "cell_type": "code",
   "execution_count": 68,
   "metadata": {},
   "outputs": [
    {
     "name": "stdout",
     "output_type": "stream",
     "text": [
      "(2252, 7)\n"
     ]
    },
    {
     "data": {
      "text/html": [
       "<div>\n",
       "<style scoped>\n",
       "    .dataframe tbody tr th:only-of-type {\n",
       "        vertical-align: middle;\n",
       "    }\n",
       "\n",
       "    .dataframe tbody tr th {\n",
       "        vertical-align: top;\n",
       "    }\n",
       "\n",
       "    .dataframe thead th {\n",
       "        text-align: right;\n",
       "    }\n",
       "</style>\n",
       "<table border=\"1\" class=\"dataframe\">\n",
       "  <thead>\n",
       "    <tr style=\"text-align: right;\">\n",
       "      <th></th>\n",
       "      <th>topic_num</th>\n",
       "      <th>topic_words</th>\n",
       "      <th>date</th>\n",
       "    </tr>\n",
       "  </thead>\n",
       "  <tbody>\n",
       "    <tr>\n",
       "      <th>0</th>\n",
       "      <td>-1</td>\n",
       "      <td>customer, leaders, remote, care, organizations, understand</td>\n",
       "      <td>2021-05-03</td>\n",
       "    </tr>\n",
       "    <tr>\n",
       "      <th>1</th>\n",
       "      <td>0</td>\n",
       "      <td>10 states, average annual, annual wage, salaries, occupational, bls</td>\n",
       "      <td>2021-05-03</td>\n",
       "    </tr>\n",
       "    <tr>\n",
       "      <th>2</th>\n",
       "      <td>1</td>\n",
       "      <td>kentucky derby, essential quality, horses, churchill downs, race, triple crown</td>\n",
       "      <td>2021-05-03</td>\n",
       "    </tr>\n",
       "    <tr>\n",
       "      <th>3</th>\n",
       "      <td>2</td>\n",
       "      <td>nasa, mars, rocket, astronauts, collins, moon</td>\n",
       "      <td>2021-05-03</td>\n",
       "    </tr>\n",
       "    <tr>\n",
       "      <th>4</th>\n",
       "      <td>3</td>\n",
       "      <td>brewers, baseball, yankees, innings, league, pitches</td>\n",
       "      <td>2021-05-03</td>\n",
       "    </tr>\n",
       "    <tr>\n",
       "      <th>5</th>\n",
       "      <td>4</td>\n",
       "      <td>million viewers, 000 viewers, fox news, msnbc, cable news, prime time</td>\n",
       "      <td>2021-05-03</td>\n",
       "    </tr>\n",
       "    <tr>\n",
       "      <th>6</th>\n",
       "      <td>5</td>\n",
       "      <td>def, aew, hart, nxt, bryan, live events</td>\n",
       "      <td>2021-05-03</td>\n",
       "    </tr>\n",
       "    <tr>\n",
       "      <th>7</th>\n",
       "      <td>6</td>\n",
       "      <td>supermoons, pink moon, blood moon, perigee, sky, comet</td>\n",
       "      <td>2021-05-03</td>\n",
       "    </tr>\n",
       "    <tr>\n",
       "      <th>8</th>\n",
       "      <td>7</td>\n",
       "      <td>mars, interstellar probe, ingenuity, heliosphere, martian, sojourner</td>\n",
       "      <td>2021-05-03</td>\n",
       "    </tr>\n",
       "    <tr>\n",
       "      <th>9</th>\n",
       "      <td>8</td>\n",
       "      <td>linebacker, green bay, hes, offensive lineman, draft, cornerback</td>\n",
       "      <td>2021-05-03</td>\n",
       "    </tr>\n",
       "  </tbody>\n",
       "</table>\n",
       "</div>"
      ],
      "text/plain": [
       "   topic_num  \\\n",
       "0         -1   \n",
       "1          0   \n",
       "2          1   \n",
       "3          2   \n",
       "4          3   \n",
       "5          4   \n",
       "6          5   \n",
       "7          6   \n",
       "8          7   \n",
       "9          8   \n",
       "\n",
       "                                                                      topic_words  \\\n",
       "0                      customer, leaders, remote, care, organizations, understand   \n",
       "1             10 states, average annual, annual wage, salaries, occupational, bls   \n",
       "2  kentucky derby, essential quality, horses, churchill downs, race, triple crown   \n",
       "3                                   nasa, mars, rocket, astronauts, collins, moon   \n",
       "4                            brewers, baseball, yankees, innings, league, pitches   \n",
       "5           million viewers, 000 viewers, fox news, msnbc, cable news, prime time   \n",
       "6                                         def, aew, hart, nxt, bryan, live events   \n",
       "7                          supermoons, pink moon, blood moon, perigee, sky, comet   \n",
       "8            mars, interstellar probe, ingenuity, heliosphere, martian, sojourner   \n",
       "9                linebacker, green bay, hes, offensive lineman, draft, cornerback   \n",
       "\n",
       "         date  \n",
       "0  2021-05-03  \n",
       "1  2021-05-03  \n",
       "2  2021-05-03  \n",
       "3  2021-05-03  \n",
       "4  2021-05-03  \n",
       "5  2021-05-03  \n",
       "6  2021-05-03  \n",
       "7  2021-05-03  \n",
       "8  2021-05-03  \n",
       "9  2021-05-03  "
      ]
     },
     "execution_count": 68,
     "metadata": {},
     "output_type": "execute_result"
    }
   ],
   "source": [
    "alltopics_7d = pd.concat([merge_m3, merge_m4, merge_m5, merge_m6, merge_m7, merge_m8, merge_m9])\n",
    "print(alltopics_7d.shape)\n",
    "alltopics_7d[['topic_num', 'topic_words', 'date']].head(10)"
   ]
  },
  {
   "cell_type": "code",
   "execution_count": 69,
   "metadata": {},
   "outputs": [
    {
     "name": "stdout",
     "output_type": "stream",
     "text": [
      "2245\n"
     ]
    }
   ],
   "source": [
    "# remove the noise topics\n",
    "alltopics_7d = alltopics_7d[alltopics_7d.topic_num!=-1]\n",
    "\n",
    "alltopics_data = list(alltopics_7d.topic_words)\n",
    "print(len(alltopics_data))"
   ]
  },
  {
   "cell_type": "code",
   "execution_count": 70,
   "metadata": {},
   "outputs": [
    {
     "name": "stdout",
     "output_type": "stream",
     "text": [
      "Total embeddings:  2245\n",
      "Embedding shape:  (768,)\n"
     ]
    }
   ],
   "source": [
    "from sentence_transformers import SentenceTransformer\n",
    "model = SentenceTransformer('distilbert-base-nli-mean-tokens')\n",
    "\n",
    "alltopics_embed = model.encode(alltopics_data) \n",
    "\n",
    "print(\"Total embeddings: \", len(alltopics_embed))\n",
    "print(\"Embedding shape: \", alltopics_embed[0].shape)"
   ]
  },
  {
   "cell_type": "markdown",
   "metadata": {},
   "source": [
    "* Get cosine similarity of every topic with every other\n",
    "    * Forms 2245 x 2245 matrix"
   ]
  },
  {
   "cell_type": "code",
   "execution_count": 71,
   "metadata": {},
   "outputs": [
    {
     "data": {
      "text/html": [
       "<div>\n",
       "<style scoped>\n",
       "    .dataframe tbody tr th:only-of-type {\n",
       "        vertical-align: middle;\n",
       "    }\n",
       "\n",
       "    .dataframe tbody tr th {\n",
       "        vertical-align: top;\n",
       "    }\n",
       "\n",
       "    .dataframe thead th {\n",
       "        text-align: right;\n",
       "    }\n",
       "</style>\n",
       "<table border=\"1\" class=\"dataframe\">\n",
       "  <thead>\n",
       "    <tr style=\"text-align: right;\">\n",
       "      <th></th>\n",
       "      <th>0</th>\n",
       "      <th>1</th>\n",
       "      <th>2</th>\n",
       "      <th>3</th>\n",
       "      <th>4</th>\n",
       "      <th>5</th>\n",
       "      <th>6</th>\n",
       "      <th>7</th>\n",
       "      <th>8</th>\n",
       "      <th>9</th>\n",
       "      <th>...</th>\n",
       "      <th>2235</th>\n",
       "      <th>2236</th>\n",
       "      <th>2237</th>\n",
       "      <th>2238</th>\n",
       "      <th>2239</th>\n",
       "      <th>2240</th>\n",
       "      <th>2241</th>\n",
       "      <th>2242</th>\n",
       "      <th>2243</th>\n",
       "      <th>2244</th>\n",
       "    </tr>\n",
       "  </thead>\n",
       "  <tbody>\n",
       "    <tr>\n",
       "      <th>0</th>\n",
       "      <td>1.000000</td>\n",
       "      <td>0.271466</td>\n",
       "      <td>0.382226</td>\n",
       "      <td>0.392640</td>\n",
       "      <td>0.462626</td>\n",
       "      <td>0.354065</td>\n",
       "      <td>0.352118</td>\n",
       "      <td>0.382138</td>\n",
       "      <td>0.424097</td>\n",
       "      <td>0.367509</td>\n",
       "      <td>...</td>\n",
       "      <td>0.387771</td>\n",
       "      <td>0.325468</td>\n",
       "      <td>0.310523</td>\n",
       "      <td>0.421101</td>\n",
       "      <td>0.442980</td>\n",
       "      <td>0.397536</td>\n",
       "      <td>0.373851</td>\n",
       "      <td>0.367855</td>\n",
       "      <td>0.411824</td>\n",
       "      <td>0.335334</td>\n",
       "    </tr>\n",
       "    <tr>\n",
       "      <th>1</th>\n",
       "      <td>0.271466</td>\n",
       "      <td>1.000000</td>\n",
       "      <td>0.343210</td>\n",
       "      <td>0.542064</td>\n",
       "      <td>0.424865</td>\n",
       "      <td>0.483052</td>\n",
       "      <td>0.463570</td>\n",
       "      <td>0.384872</td>\n",
       "      <td>0.422454</td>\n",
       "      <td>0.442651</td>\n",
       "      <td>...</td>\n",
       "      <td>0.326840</td>\n",
       "      <td>0.166365</td>\n",
       "      <td>0.214618</td>\n",
       "      <td>0.211068</td>\n",
       "      <td>0.403273</td>\n",
       "      <td>0.256808</td>\n",
       "      <td>0.159417</td>\n",
       "      <td>0.295371</td>\n",
       "      <td>0.369773</td>\n",
       "      <td>0.301636</td>\n",
       "    </tr>\n",
       "    <tr>\n",
       "      <th>2</th>\n",
       "      <td>0.382226</td>\n",
       "      <td>0.343210</td>\n",
       "      <td>1.000000</td>\n",
       "      <td>0.373719</td>\n",
       "      <td>0.501380</td>\n",
       "      <td>0.534285</td>\n",
       "      <td>0.694735</td>\n",
       "      <td>0.891731</td>\n",
       "      <td>0.440509</td>\n",
       "      <td>0.452626</td>\n",
       "      <td>...</td>\n",
       "      <td>0.577424</td>\n",
       "      <td>0.308892</td>\n",
       "      <td>0.383105</td>\n",
       "      <td>0.403999</td>\n",
       "      <td>0.645593</td>\n",
       "      <td>0.430766</td>\n",
       "      <td>0.323871</td>\n",
       "      <td>0.332994</td>\n",
       "      <td>0.469852</td>\n",
       "      <td>0.485300</td>\n",
       "    </tr>\n",
       "    <tr>\n",
       "      <th>3</th>\n",
       "      <td>0.392640</td>\n",
       "      <td>0.542064</td>\n",
       "      <td>0.373719</td>\n",
       "      <td>1.000000</td>\n",
       "      <td>0.398766</td>\n",
       "      <td>0.362094</td>\n",
       "      <td>0.386336</td>\n",
       "      <td>0.443884</td>\n",
       "      <td>0.489901</td>\n",
       "      <td>0.462536</td>\n",
       "      <td>...</td>\n",
       "      <td>0.358624</td>\n",
       "      <td>0.282416</td>\n",
       "      <td>0.325091</td>\n",
       "      <td>0.339913</td>\n",
       "      <td>0.469740</td>\n",
       "      <td>0.374040</td>\n",
       "      <td>0.272588</td>\n",
       "      <td>0.233093</td>\n",
       "      <td>0.386085</td>\n",
       "      <td>0.322441</td>\n",
       "    </tr>\n",
       "    <tr>\n",
       "      <th>4</th>\n",
       "      <td>0.462626</td>\n",
       "      <td>0.424865</td>\n",
       "      <td>0.501380</td>\n",
       "      <td>0.398766</td>\n",
       "      <td>1.000001</td>\n",
       "      <td>0.507896</td>\n",
       "      <td>0.539771</td>\n",
       "      <td>0.469164</td>\n",
       "      <td>0.394934</td>\n",
       "      <td>0.457468</td>\n",
       "      <td>...</td>\n",
       "      <td>0.500246</td>\n",
       "      <td>0.173086</td>\n",
       "      <td>0.349289</td>\n",
       "      <td>0.320204</td>\n",
       "      <td>0.569290</td>\n",
       "      <td>0.459270</td>\n",
       "      <td>0.253932</td>\n",
       "      <td>0.339468</td>\n",
       "      <td>0.362153</td>\n",
       "      <td>0.479757</td>\n",
       "    </tr>\n",
       "    <tr>\n",
       "      <th>...</th>\n",
       "      <td>...</td>\n",
       "      <td>...</td>\n",
       "      <td>...</td>\n",
       "      <td>...</td>\n",
       "      <td>...</td>\n",
       "      <td>...</td>\n",
       "      <td>...</td>\n",
       "      <td>...</td>\n",
       "      <td>...</td>\n",
       "      <td>...</td>\n",
       "      <td>...</td>\n",
       "      <td>...</td>\n",
       "      <td>...</td>\n",
       "      <td>...</td>\n",
       "      <td>...</td>\n",
       "      <td>...</td>\n",
       "      <td>...</td>\n",
       "      <td>...</td>\n",
       "      <td>...</td>\n",
       "      <td>...</td>\n",
       "      <td>...</td>\n",
       "    </tr>\n",
       "    <tr>\n",
       "      <th>2240</th>\n",
       "      <td>0.397536</td>\n",
       "      <td>0.256808</td>\n",
       "      <td>0.430766</td>\n",
       "      <td>0.374040</td>\n",
       "      <td>0.459270</td>\n",
       "      <td>0.322801</td>\n",
       "      <td>0.287691</td>\n",
       "      <td>0.411774</td>\n",
       "      <td>0.336730</td>\n",
       "      <td>0.379656</td>\n",
       "      <td>...</td>\n",
       "      <td>0.504046</td>\n",
       "      <td>0.324634</td>\n",
       "      <td>0.617575</td>\n",
       "      <td>0.617661</td>\n",
       "      <td>0.427408</td>\n",
       "      <td>1.000000</td>\n",
       "      <td>0.564491</td>\n",
       "      <td>0.504630</td>\n",
       "      <td>0.426187</td>\n",
       "      <td>0.469035</td>\n",
       "    </tr>\n",
       "    <tr>\n",
       "      <th>2241</th>\n",
       "      <td>0.373851</td>\n",
       "      <td>0.159417</td>\n",
       "      <td>0.323871</td>\n",
       "      <td>0.272588</td>\n",
       "      <td>0.253932</td>\n",
       "      <td>0.294566</td>\n",
       "      <td>0.321441</td>\n",
       "      <td>0.349590</td>\n",
       "      <td>0.340652</td>\n",
       "      <td>0.289803</td>\n",
       "      <td>...</td>\n",
       "      <td>0.504046</td>\n",
       "      <td>0.527836</td>\n",
       "      <td>0.650787</td>\n",
       "      <td>0.680554</td>\n",
       "      <td>0.433686</td>\n",
       "      <td>0.564491</td>\n",
       "      <td>1.000000</td>\n",
       "      <td>0.570679</td>\n",
       "      <td>0.441743</td>\n",
       "      <td>0.450615</td>\n",
       "    </tr>\n",
       "    <tr>\n",
       "      <th>2242</th>\n",
       "      <td>0.367855</td>\n",
       "      <td>0.295371</td>\n",
       "      <td>0.332994</td>\n",
       "      <td>0.233093</td>\n",
       "      <td>0.339468</td>\n",
       "      <td>0.327847</td>\n",
       "      <td>0.316782</td>\n",
       "      <td>0.365595</td>\n",
       "      <td>0.309128</td>\n",
       "      <td>0.226752</td>\n",
       "      <td>...</td>\n",
       "      <td>0.602822</td>\n",
       "      <td>0.646454</td>\n",
       "      <td>0.745087</td>\n",
       "      <td>0.593738</td>\n",
       "      <td>0.475407</td>\n",
       "      <td>0.504630</td>\n",
       "      <td>0.570679</td>\n",
       "      <td>1.000000</td>\n",
       "      <td>0.465425</td>\n",
       "      <td>0.546209</td>\n",
       "    </tr>\n",
       "    <tr>\n",
       "      <th>2243</th>\n",
       "      <td>0.411824</td>\n",
       "      <td>0.369773</td>\n",
       "      <td>0.469852</td>\n",
       "      <td>0.386085</td>\n",
       "      <td>0.362153</td>\n",
       "      <td>0.405460</td>\n",
       "      <td>0.451970</td>\n",
       "      <td>0.467602</td>\n",
       "      <td>0.466714</td>\n",
       "      <td>0.379008</td>\n",
       "      <td>...</td>\n",
       "      <td>0.650004</td>\n",
       "      <td>0.478868</td>\n",
       "      <td>0.512945</td>\n",
       "      <td>0.512377</td>\n",
       "      <td>0.641966</td>\n",
       "      <td>0.426187</td>\n",
       "      <td>0.441743</td>\n",
       "      <td>0.465425</td>\n",
       "      <td>1.000000</td>\n",
       "      <td>0.590880</td>\n",
       "    </tr>\n",
       "    <tr>\n",
       "      <th>2244</th>\n",
       "      <td>0.335334</td>\n",
       "      <td>0.301636</td>\n",
       "      <td>0.485300</td>\n",
       "      <td>0.322441</td>\n",
       "      <td>0.479757</td>\n",
       "      <td>0.433459</td>\n",
       "      <td>0.551920</td>\n",
       "      <td>0.470497</td>\n",
       "      <td>0.368179</td>\n",
       "      <td>0.316795</td>\n",
       "      <td>...</td>\n",
       "      <td>0.747109</td>\n",
       "      <td>0.497144</td>\n",
       "      <td>0.623666</td>\n",
       "      <td>0.563164</td>\n",
       "      <td>0.692177</td>\n",
       "      <td>0.469035</td>\n",
       "      <td>0.450615</td>\n",
       "      <td>0.546209</td>\n",
       "      <td>0.590880</td>\n",
       "      <td>1.000000</td>\n",
       "    </tr>\n",
       "  </tbody>\n",
       "</table>\n",
       "<p>2245 rows × 2245 columns</p>\n",
       "</div>"
      ],
      "text/plain": [
       "          0         1         2         3         4         5         6     \\\n",
       "0     1.000000  0.271466  0.382226  0.392640  0.462626  0.354065  0.352118   \n",
       "1     0.271466  1.000000  0.343210  0.542064  0.424865  0.483052  0.463570   \n",
       "2     0.382226  0.343210  1.000000  0.373719  0.501380  0.534285  0.694735   \n",
       "3     0.392640  0.542064  0.373719  1.000000  0.398766  0.362094  0.386336   \n",
       "4     0.462626  0.424865  0.501380  0.398766  1.000001  0.507896  0.539771   \n",
       "...        ...       ...       ...       ...       ...       ...       ...   \n",
       "2240  0.397536  0.256808  0.430766  0.374040  0.459270  0.322801  0.287691   \n",
       "2241  0.373851  0.159417  0.323871  0.272588  0.253932  0.294566  0.321441   \n",
       "2242  0.367855  0.295371  0.332994  0.233093  0.339468  0.327847  0.316782   \n",
       "2243  0.411824  0.369773  0.469852  0.386085  0.362153  0.405460  0.451970   \n",
       "2244  0.335334  0.301636  0.485300  0.322441  0.479757  0.433459  0.551920   \n",
       "\n",
       "          7         8         9     ...      2235      2236      2237  \\\n",
       "0     0.382138  0.424097  0.367509  ...  0.387771  0.325468  0.310523   \n",
       "1     0.384872  0.422454  0.442651  ...  0.326840  0.166365  0.214618   \n",
       "2     0.891731  0.440509  0.452626  ...  0.577424  0.308892  0.383105   \n",
       "3     0.443884  0.489901  0.462536  ...  0.358624  0.282416  0.325091   \n",
       "4     0.469164  0.394934  0.457468  ...  0.500246  0.173086  0.349289   \n",
       "...        ...       ...       ...  ...       ...       ...       ...   \n",
       "2240  0.411774  0.336730  0.379656  ...  0.504046  0.324634  0.617575   \n",
       "2241  0.349590  0.340652  0.289803  ...  0.504046  0.527836  0.650787   \n",
       "2242  0.365595  0.309128  0.226752  ...  0.602822  0.646454  0.745087   \n",
       "2243  0.467602  0.466714  0.379008  ...  0.650004  0.478868  0.512945   \n",
       "2244  0.470497  0.368179  0.316795  ...  0.747109  0.497144  0.623666   \n",
       "\n",
       "          2238      2239      2240      2241      2242      2243      2244  \n",
       "0     0.421101  0.442980  0.397536  0.373851  0.367855  0.411824  0.335334  \n",
       "1     0.211068  0.403273  0.256808  0.159417  0.295371  0.369773  0.301636  \n",
       "2     0.403999  0.645593  0.430766  0.323871  0.332994  0.469852  0.485300  \n",
       "3     0.339913  0.469740  0.374040  0.272588  0.233093  0.386085  0.322441  \n",
       "4     0.320204  0.569290  0.459270  0.253932  0.339468  0.362153  0.479757  \n",
       "...        ...       ...       ...       ...       ...       ...       ...  \n",
       "2240  0.617661  0.427408  1.000000  0.564491  0.504630  0.426187  0.469035  \n",
       "2241  0.680554  0.433686  0.564491  1.000000  0.570679  0.441743  0.450615  \n",
       "2242  0.593738  0.475407  0.504630  0.570679  1.000000  0.465425  0.546209  \n",
       "2243  0.512377  0.641966  0.426187  0.441743  0.465425  1.000000  0.590880  \n",
       "2244  0.563164  0.692177  0.469035  0.450615  0.546209  0.590880  1.000000  \n",
       "\n",
       "[2245 rows x 2245 columns]"
      ]
     },
     "execution_count": 71,
     "metadata": {},
     "output_type": "execute_result"
    }
   ],
   "source": [
    "import scipy\n",
    "sparse_matrix= scipy.sparse.csr_matrix(alltopics_embed)\n",
    "\n",
    "# get cosine similarity of every topic with every other\n",
    "cos_mat = cosine_similarity(sparse_matrix)\n",
    "\n",
    "temp = pd.DataFrame(cos_mat)\n",
    "temp"
   ]
  },
  {
   "cell_type": "markdown",
   "metadata": {},
   "source": [
    "* Extract topic-pairs with cosine similarity > 0.75 threshold"
   ]
  },
  {
   "cell_type": "code",
   "execution_count": 75,
   "metadata": {},
   "outputs": [],
   "source": [
    "points_to_keep = []\n",
    "\n",
    "for i in range(len(temp.columns)):\n",
    "    for j in range(len(temp.index)):\n",
    "        \n",
    "        if(temp.loc[i,j] > 0.75):\n",
    "            points_to_keep.append([i,j]) \n",
    "            \n",
    "# note this list will contain duplicate pairs which will need to be deduplicated in prod implementation"
   ]
  },
  {
   "cell_type": "markdown",
   "metadata": {},
   "source": [
    "* Topic 0 has similarity > 0.75 with topics 319, 626, 972, 1300, 1631, 1926\n",
    "* Topic 1 has similarity > 0.75 with topics 322, 635, 995, 1325, 1669 <br>\n",
    "so on..."
   ]
  },
  {
   "cell_type": "code",
   "execution_count": 73,
   "metadata": {},
   "outputs": [
    {
     "data": {
      "text/plain": [
       "[[0, 0],\n",
       " [0, 319],\n",
       " [0, 626],\n",
       " [0, 972],\n",
       " [0, 1300],\n",
       " [0, 1631],\n",
       " [0, 1926],\n",
       " [1, 1],\n",
       " [1, 322],\n",
       " [1, 635],\n",
       " [1, 995],\n",
       " [1, 1325],\n",
       " [1, 1669]]"
      ]
     },
     "execution_count": 73,
     "metadata": {},
     "output_type": "execute_result"
    }
   ],
   "source": [
    "points_to_keep[:13]"
   ]
  },
  {
   "cell_type": "markdown",
   "metadata": {},
   "source": [
    "* Inspect topic 0 and its similar topics\n",
    "    * All related to average salary"
   ]
  },
  {
   "cell_type": "code",
   "execution_count": 306,
   "metadata": {},
   "outputs": [
    {
     "name": "stdout",
     "output_type": "stream",
     "text": [
      "10 states, average annual, annual wage, salaries, occupational, bls\n",
      "10 states, average annual, annual wage, salaries, occupational, bls\n",
      "10 states, average annual, annual wage, salaries, occupational, bls\n",
      "10 states, average annual, annual wage, salaries, bls, therapist salary\n",
      "10 states, average annual, annual wage, salaries, bls, therapist salary\n",
      "engineer salary, 10 states, salaries, air traffic, industrial engineer, average annual\n",
      "10 states, salaries, average annual, annual wage, pilot salary, air traffic\n"
     ]
    }
   ],
   "source": [
    "print(alltopics_data[0])\n",
    "print(alltopics_data[319])\n",
    "print(alltopics_data[626])\n",
    "print(alltopics_data[1300])\n",
    "print(alltopics_data[1631])\n",
    "print(alltopics_data[1926])\n",
    "print(alltopics_data[972])"
   ]
  },
  {
   "cell_type": "code",
   "execution_count": 76,
   "metadata": {
    "collapsed": true,
    "jupyter": {
     "outputs_hidden": true
    }
   },
   "outputs": [
    {
     "data": {
      "text/html": [
       "<div>\n",
       "<style scoped>\n",
       "    .dataframe tbody tr th:only-of-type {\n",
       "        vertical-align: middle;\n",
       "    }\n",
       "\n",
       "    .dataframe tbody tr th {\n",
       "        vertical-align: top;\n",
       "    }\n",
       "\n",
       "    .dataframe thead th {\n",
       "        text-align: right;\n",
       "    }\n",
       "</style>\n",
       "<table border=\"1\" class=\"dataframe\">\n",
       "  <thead>\n",
       "    <tr style=\"text-align: right;\">\n",
       "      <th></th>\n",
       "      <th>topic_num</th>\n",
       "      <th>topic_words</th>\n",
       "      <th>date</th>\n",
       "    </tr>\n",
       "  </thead>\n",
       "  <tbody>\n",
       "    <tr>\n",
       "      <th>1</th>\n",
       "      <td>0</td>\n",
       "      <td>10 states, average annual, annual wage, salaries, occupational, bls</td>\n",
       "      <td>2021-05-03</td>\n",
       "    </tr>\n",
       "    <tr>\n",
       "      <th>1</th>\n",
       "      <td>0</td>\n",
       "      <td>10 states, average annual, annual wage, salaries, occupational, bls</td>\n",
       "      <td>2021-05-04</td>\n",
       "    </tr>\n",
       "    <tr>\n",
       "      <th>1</th>\n",
       "      <td>0</td>\n",
       "      <td>10 states, average annual, annual wage, salaries, occupational, bls</td>\n",
       "      <td>2021-05-05</td>\n",
       "    </tr>\n",
       "    <tr>\n",
       "      <th>4</th>\n",
       "      <td>3</td>\n",
       "      <td>therapist salary, 10 states, therapists, dental assistant, pharmacy technician, massage therapist</td>\n",
       "      <td>2021-05-06</td>\n",
       "    </tr>\n",
       "    <tr>\n",
       "      <th>5</th>\n",
       "      <td>4</td>\n",
       "      <td>10 states, salaries, average annual, annual wage, pilot salary, air traffic</td>\n",
       "      <td>2021-05-06</td>\n",
       "    </tr>\n",
       "    <tr>\n",
       "      <th>1</th>\n",
       "      <td>0</td>\n",
       "      <td>10 states, average annual, annual wage, salaries, bls, therapist salary</td>\n",
       "      <td>2021-05-07</td>\n",
       "    </tr>\n",
       "    <tr>\n",
       "      <th>1</th>\n",
       "      <td>0</td>\n",
       "      <td>10 states, average annual, annual wage, salaries, bls, therapist salary</td>\n",
       "      <td>2021-05-08</td>\n",
       "    </tr>\n",
       "    <tr>\n",
       "      <th>13</th>\n",
       "      <td>12</td>\n",
       "      <td>engineer salary, 10 states, salaries, air traffic, industrial engineer, average annual</td>\n",
       "      <td>2021-05-09</td>\n",
       "    </tr>\n",
       "    <tr>\n",
       "      <th>14</th>\n",
       "      <td>13</td>\n",
       "      <td>therapist salary, therapists, dental assistant, assistants, pharmacy technician, 10 states</td>\n",
       "      <td>2021-05-09</td>\n",
       "    </tr>\n",
       "  </tbody>\n",
       "</table>\n",
       "</div>"
      ],
      "text/plain": [
       "    topic_num  \\\n",
       "1           0   \n",
       "1           0   \n",
       "1           0   \n",
       "4           3   \n",
       "5           4   \n",
       "1           0   \n",
       "1           0   \n",
       "13         12   \n",
       "14         13   \n",
       "\n",
       "                                                                                          topic_words  \\\n",
       "1                                 10 states, average annual, annual wage, salaries, occupational, bls   \n",
       "1                                 10 states, average annual, annual wage, salaries, occupational, bls   \n",
       "1                                 10 states, average annual, annual wage, salaries, occupational, bls   \n",
       "4   therapist salary, 10 states, therapists, dental assistant, pharmacy technician, massage therapist   \n",
       "5                         10 states, salaries, average annual, annual wage, pilot salary, air traffic   \n",
       "1                             10 states, average annual, annual wage, salaries, bls, therapist salary   \n",
       "1                             10 states, average annual, annual wage, salaries, bls, therapist salary   \n",
       "13             engineer salary, 10 states, salaries, air traffic, industrial engineer, average annual   \n",
       "14         therapist salary, therapists, dental assistant, assistants, pharmacy technician, 10 states   \n",
       "\n",
       "          date  \n",
       "1   2021-05-03  \n",
       "1   2021-05-04  \n",
       "1   2021-05-05  \n",
       "4   2021-05-06  \n",
       "5   2021-05-06  \n",
       "1   2021-05-07  \n",
       "1   2021-05-08  \n",
       "13  2021-05-09  \n",
       "14  2021-05-09  "
      ]
     },
     "execution_count": 76,
     "metadata": {},
     "output_type": "execute_result"
    }
   ],
   "source": [
    "alltopics_7d[alltopics_7d.topic_words.str.contains('10 states')][[\"topic_num\", \"topic_words\", \"date\"]]"
   ]
  },
  {
   "cell_type": "markdown",
   "metadata": {},
   "source": [
    "* Inspect topic 1 and its similar topics\n",
    "    * All related to derby sport"
   ]
  },
  {
   "cell_type": "code",
   "execution_count": 307,
   "metadata": {},
   "outputs": [
    {
     "name": "stdout",
     "output_type": "stream",
     "text": [
      "kentucky derby, essential quality, horses, churchill downs, race, triple crown\n",
      "kentucky derby, race, horse racing, triple crown, churchill downs, jockeys\n",
      "kentucky derby, churchill downs, race, horses, racing, essential quality\n",
      "kentucky derby, race, churchill downs, racing, winner, triple crown\n",
      "kentucky derby, churchill downs, race, horses, triple crown, justify\n",
      "alvarez, kentucky derby, ruiz, canelo, odds, fight\n"
     ]
    }
   ],
   "source": [
    "print(alltopics_data[1])\n",
    "print(alltopics_data[322])\n",
    "print(alltopics_data[635])\n",
    "print(alltopics_data[995])\n",
    "print(alltopics_data[1325])\n",
    "print(alltopics_data[1669])"
   ]
  },
  {
   "cell_type": "markdown",
   "metadata": {},
   "source": [
    "* Inspect topic 2 and its similar topics\n",
    "    * All related to space"
   ]
  },
  {
   "cell_type": "code",
   "execution_count": 308,
   "metadata": {},
   "outputs": [
    {
     "name": "stdout",
     "output_type": "stream",
     "text": [
      "nasa, mars, rocket, astronauts, collins, moon\n",
      "mars, interstellar probe, ingenuity, heliosphere, martian, sojourner\n",
      "atmosphere, earth, satellites, tether, orbital, mars\n",
      "jupiter, venus, mercury, atmosphere, moons, temperature\n",
      "voyager, mars, spacecraft, ingenuity, martian, nasa\n",
      "mars, korolev, collins, moon, ingenuity, spacecraft\n",
      "astronauts, service module, command module, antimatter, apollo 11, rocket\n",
      "atmosphere, earth, mars, satellites, tether, orbital\n",
      "norwegian, pay tv, spacexs, vulcan, lithium, starlinks\n",
      "service module, skylab, command module, astronauts, apollo 11, rocket\n",
      "rocket, collins, mars, korolev, starlink, moon\n",
      "earth, sun, planets, solar, mars, atmosphere\n",
      "rocket, apollo, mars, ufo, service module, spacecraft\n",
      "earth, sun, solar, planets, mars, atmosphere\n",
      "spacexs, satellites, valuation, starlinks, launches, collins\n",
      "earth, sun, planets, solar, mars, atmosphere\n",
      "49ers, round, quarterback, patriots, nfl draft, pick\n",
      "spacexs, satellites, valuation, starlinks, launches, revenues\n",
      "service module, command module, skylab, nasa, astronauts, moon\n",
      "mars, faa, collins, rocket lab, launch, photon\n",
      "nasa, spacecraft, skylab, voyager, astronauts, space station\n",
      "ufo, starlink, nasa, spacexs, launch, mars\n",
      "earth, sun, planets, solar, uranus, atmosphere\n",
      "earth, atmosphere, moon, starlink, liquid water, martian\n",
      "earth, atmosphere, satellites, spacecraft, orbital, tether\n",
      "nasa, antimatter, spacex, mars, blue origin, faa\n",
      "ufo, skylab, ingenuity, rocket, debris, telescope\n",
      "earth, atmosphere, satellites, spacecraft, orbital, tether\n"
     ]
    }
   ],
   "source": [
    "print(alltopics_data[2])\n",
    "print(alltopics_data[7])\n",
    "print(alltopics_data[12])\n",
    "print(alltopics_data[16])\n",
    "print(alltopics_data[327])\n",
    "print(alltopics_data[330])\n",
    "print(alltopics_data[331])\n",
    "print(alltopics_data[338])\n",
    "print(alltopics_data[517])\n",
    "print(alltopics_data[643])\n",
    "print(alltopics_data[644])\n",
    "print(alltopics_data[649])\n",
    "print(alltopics_data[980])\n",
    "print(alltopics_data[981])\n",
    "print(alltopics_data[1321])\n",
    "print(alltopics_data[1326])\n",
    "print(alltopics_data[1332])\n",
    "print(alltopics_data[1641])\n",
    "print(alltopics_data[1642])\n",
    "print(alltopics_data[1644])\n",
    "print(alltopics_data[1930])\n",
    "print(alltopics_data[1931])\n",
    "print(alltopics_data[1938])\n",
    "print(alltopics_data[1939])\n",
    "print(alltopics_data[642])\n",
    "print(alltopics_data[1330])\n",
    "print(alltopics_data[1331])\n",
    "print(alltopics_data[1937])"
   ]
  },
  {
   "cell_type": "code",
   "execution_count": 309,
   "metadata": {
    "collapsed": true,
    "jupyter": {
     "outputs_hidden": true
    }
   },
   "outputs": [
    {
     "data": {
      "text/plain": [
       "[[1939, 2],\n",
       " [1939, 7],\n",
       " [1939, 12],\n",
       " [1939, 16],\n",
       " [1939, 327],\n",
       " [1939, 330],\n",
       " [1939, 338],\n",
       " [1939, 339],\n",
       " [1939, 517],\n",
       " [1939, 642],\n",
       " [1939, 644],\n",
       " [1939, 649],\n",
       " [1939, 980],\n",
       " [1939, 981],\n",
       " [1939, 1321],\n",
       " [1939, 1326],\n",
       " [1939, 1330],\n",
       " [1939, 1331],\n",
       " [1939, 1641],\n",
       " [1939, 1642],\n",
       " [1939, 1644],\n",
       " [1939, 1742],\n",
       " [1939, 1930],\n",
       " [1939, 1931],\n",
       " [1939, 1937],\n",
       " [1939, 1938],\n",
       " [1939, 1939]]"
      ]
     },
     "execution_count": 309,
     "metadata": {},
     "output_type": "execute_result"
    }
   ],
   "source": [
    "# note topic 2 was similar to 1939. But 1939 was similar to 642 which missed the threshold similarity for topic 2. \n",
    "# this will happen. for now to accommodate it - I lowered the threshold to 0.75\n",
    "[x for x in points_to_keep if x[0]==1939]"
   ]
  },
  {
   "cell_type": "code",
   "execution_count": null,
   "metadata": {},
   "outputs": [],
   "source": []
  },
  {
   "cell_type": "code",
   "execution_count": null,
   "metadata": {},
   "outputs": [],
   "source": []
  },
  {
   "cell_type": "code",
   "execution_count": null,
   "metadata": {},
   "outputs": [],
   "source": [
    "score_iter_temp <- sum(res$membership_prob < 0.05) / N_cells\n",
    "    return(score_iter_temp)\n",
    "# use knn to assign noise to nearest cluster"
   ]
  }
 ],
 "metadata": {
  "environment": {
   "name": "tf2-2-3-gpu.2-3.m59",
   "type": "gcloud",
   "uri": "gcr.io/deeplearning-platform-release/tf2-2-3-gpu.2-3:m59"
  },
  "kernelspec": {
   "display_name": "topics-env-latest",
   "language": "python",
   "name": "topics-env-latest"
  },
  "language_info": {
   "codemirror_mode": {
    "name": "ipython",
    "version": 3
   },
   "file_extension": ".py",
   "mimetype": "text/x-python",
   "name": "python",
   "nbconvert_exporter": "python",
   "pygments_lexer": "ipython3",
   "version": "3.7.8"
  }
 },
 "nbformat": 4,
 "nbformat_minor": 4
}
