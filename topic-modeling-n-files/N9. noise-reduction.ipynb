{
 "cells": [
  {
   "cell_type": "markdown",
   "metadata": {},
   "source": [
    "* Discussions - \n",
    "    * check feasibility of a model trained once and able to predict (like train every 7 days). If not - we can train everyday. \n",
    "    * Intent of predicting topics is it to show say pvs last week for a topic vs this week. How far out such comparisons need to be made? -- that will decide the date range of training and prediction -- a week is good strat\n",
    "    * Keep topic words same but test with lesser number of words\n",
    "    * Not every article needs to be assigned to a topic. so noise part of hdbscan is fine\n",
    "\n",
    "**Data product options:**\n",
    "\n",
    "* Technique 1 - train every 7 days\n",
    "    * PART 1: Check if day-of-week = Monday :: \n",
    "        * Take past 7 days (apr 26 till may 02)\n",
    "        * Train & store file\n",
    "        * Get yesterday's topics (may 02) and save that 1 day\n",
    "        \n",
    "    * PART 2: Else ::\n",
    "        * Take yesterday's eligible articles\n",
    "        * Use the saved cluster file and predict\n",
    "        * save that 1 day\n",
    "        * Part 2 will be repeated from tues till sunday of a week\n",
    "        \n",
    "    * When loop progresses to day = Monday, execute Part 1, then Part 2 and loop goes on \n",
    "    \n",
    "Note: \n",
    "* Caveat - We are training on articles which already have labels (through prediction).   \n",
    "* Save embeddings - so repeating ones need not be calculated. Plus, they can be used as features in other projects"
   ]
  },
  {
   "cell_type": "markdown",
   "metadata": {},
   "source": [
    "**Environment issue**:\n",
    "* On 6/11/2021 upgrading transformers messed up the environment (topics). Recreated using req.txt (called topics-env).\n",
    "* Imp point to note - for umap, hdbcsan to work, numba>-0.50.x Added this to the req.txt\n",
    "* transformers library version = 4.3.2 -- add this during deployment if going with topic summarization\n",
    "* Not deleting topics environment, in case other working library versions need to be consulted \n",
    "\n",
    "**Environment issue -2**:\n",
    "* On 7/8/2021 importing hdbscan library started giving weird error - \"hdbscan ValueError: numpy.ndarray size changed, may indicate binary incompatibility. Expected 88 from C header, got 80 from PyObject\". [Link](https://github.com/scikit-learn-contrib/hdbscan/issues/457) indicated some issue to do with numpy and scipy upgrades. So, added scipy to req.txt with version. Also upgraded all libraries to latest pypi installations and created env \"topic-env-latest\". Final working req-mod.txt has following libraries:<br>\n",
    "<br>\n",
    "pandas==1.2.3<br>\n",
    "numpy==1.21.0<br>\n",
    "scipy ==1.7.0<br>\n",
    "joblib==1.0.1<br>\n",
    "hdbscan==0.8.27 <br>\n",
    "umap-learn==0.5.1<br>\n",
    "sentence-transformers==2.0.0<br>\n",
    "numba==0.53.1<br>\n",
    "nltk==3.6.2<br>\n",
    "matplotlib==3.4.2 <br>\n",
    "seaborn==0.11.1 <br>\n",
    "pyarrow==4.0.1 <br>\n",
    "google-cloud-bigquery==2.20.0<br>\n",
    "google-cloud-storage==1.40.0<br>"
   ]
  },
  {
   "cell_type": "code",
   "execution_count": 1,
   "metadata": {},
   "outputs": [],
   "source": [
    "\"\"\" Helper imports\"\"\"\n",
    "import re\n",
    "import joblib\n",
    "import pandas as pd\n",
    "import numpy as np\n",
    "from time import time\n",
    "from nltk.tokenize import sent_tokenize\n",
    "from joblib import Parallel, delayed\n",
    "from sklearn.metrics.pairwise import cosine_similarity\n",
    "\n",
    "\"\"\"Modeling imports\"\"\"\n",
    "from sklearn.decomposition import NMF\n",
    "from sklearn.feature_extraction.text import TfidfVectorizer\n",
    "from sklearn.feature_extraction.text import CountVectorizer\n",
    "# from gensim.models.coherencemodel import CoherenceModel\n",
    "# from gensim.corpora.dictionary import Dictionary\n",
    "# from gensim.models.nmf import Nmf\n",
    "\n",
    "\"\"\" Plotting imports\"\"\"\n",
    "import matplotlib.pyplot as plt\n",
    "%matplotlib inline\n",
    "import seaborn as sns\n",
    "sns.set_style('darkgrid')\n",
    "\n",
    "# remove this later\n",
    "pd.set_option('max_colwidth', 110)\n",
    "import warnings\n",
    "warnings.filterwarnings('ignore')"
   ]
  },
  {
   "cell_type": "markdown",
   "metadata": {},
   "source": [
    "### Competitor research:\n",
    "* WSJ uses HDBSCAN - https://medium.com/the-wall-street-journal/staying-on-topic-building-an-automated-topic-model-of-wsj-news-coverage-d4dc4369f71b"
   ]
  },
  {
   "cell_type": "code",
   "execution_count": 3,
   "metadata": {},
   "outputs": [
    {
     "data": {
      "application/vnd.jupyter.widget-view+json": {
       "model_id": "d3595bb3f51d44c68768ee8acb5079ad",
       "version_major": 2,
       "version_minor": 0
      },
      "text/plain": [
       "Downloading:   0%|          | 0.00/690 [00:00<?, ?B/s]"
      ]
     },
     "metadata": {},
     "output_type": "display_data"
    },
    {
     "data": {
      "application/vnd.jupyter.widget-view+json": {
       "model_id": "e02e9e82ce084a6f83d67ee7bf0d60d6",
       "version_major": 2,
       "version_minor": 0
      },
      "text/plain": [
       "Downloading:   0%|          | 0.00/3.97k [00:00<?, ?B/s]"
      ]
     },
     "metadata": {},
     "output_type": "display_data"
    },
    {
     "data": {
      "application/vnd.jupyter.widget-view+json": {
       "model_id": "58a372f7fd524c3cbb1b221f4f4e45c3",
       "version_major": 2,
       "version_minor": 0
      },
      "text/plain": [
       "Downloading:   0%|          | 0.00/550 [00:00<?, ?B/s]"
      ]
     },
     "metadata": {},
     "output_type": "display_data"
    },
    {
     "data": {
      "application/vnd.jupyter.widget-view+json": {
       "model_id": "0254ba7f043a47d0b985d2d1e42899bc",
       "version_major": 2,
       "version_minor": 0
      },
      "text/plain": [
       "Downloading:   0%|          | 0.00/122 [00:00<?, ?B/s]"
      ]
     },
     "metadata": {},
     "output_type": "display_data"
    },
    {
     "data": {
      "application/vnd.jupyter.widget-view+json": {
       "model_id": "b131173df5654eada68770e2d6a90ed3",
       "version_major": 2,
       "version_minor": 0
      },
      "text/plain": [
       "Downloading:   0%|          | 0.00/229 [00:00<?, ?B/s]"
      ]
     },
     "metadata": {},
     "output_type": "display_data"
    },
    {
     "data": {
      "application/vnd.jupyter.widget-view+json": {
       "model_id": "6cec786747f2462bbc6041015d279a99",
       "version_major": 2,
       "version_minor": 0
      },
      "text/plain": [
       "Downloading:   0%|          | 0.00/265M [00:00<?, ?B/s]"
      ]
     },
     "metadata": {},
     "output_type": "display_data"
    },
    {
     "data": {
      "application/vnd.jupyter.widget-view+json": {
       "model_id": "af38b2062b41499d886c0be7cd938723",
       "version_major": 2,
       "version_minor": 0
      },
      "text/plain": [
       "Downloading:   0%|          | 0.00/53.0 [00:00<?, ?B/s]"
      ]
     },
     "metadata": {},
     "output_type": "display_data"
    },
    {
     "data": {
      "application/vnd.jupyter.widget-view+json": {
       "model_id": "0558fd2fc2234bccacf2f27e04e43e3d",
       "version_major": 2,
       "version_minor": 0
      },
      "text/plain": [
       "Downloading:   0%|          | 0.00/112 [00:00<?, ?B/s]"
      ]
     },
     "metadata": {},
     "output_type": "display_data"
    },
    {
     "data": {
      "application/vnd.jupyter.widget-view+json": {
       "model_id": "754b3ff8de94489696f15df0af9cb0e2",
       "version_major": 2,
       "version_minor": 0
      },
      "text/plain": [
       "Downloading:   0%|          | 0.00/466k [00:00<?, ?B/s]"
      ]
     },
     "metadata": {},
     "output_type": "display_data"
    },
    {
     "data": {
      "application/vnd.jupyter.widget-view+json": {
       "model_id": "8cb0a2c342bf4201b2921845377d38ed",
       "version_major": 2,
       "version_minor": 0
      },
      "text/plain": [
       "Downloading:   0%|          | 0.00/450 [00:00<?, ?B/s]"
      ]
     },
     "metadata": {},
     "output_type": "display_data"
    },
    {
     "data": {
      "application/vnd.jupyter.widget-view+json": {
       "model_id": "376fe6cc684042489a5fbc9f3250ce64",
       "version_major": 2,
       "version_minor": 0
      },
      "text/plain": [
       "Downloading:   0%|          | 0.00/232k [00:00<?, ?B/s]"
      ]
     },
     "metadata": {},
     "output_type": "display_data"
    },
    {
     "data": {
      "application/vnd.jupyter.widget-view+json": {
       "model_id": "3e7e46f225a340c79fb7d770db4af6a5",
       "version_major": 2,
       "version_minor": 0
      },
      "text/plain": [
       "Downloading:   0%|          | 0.00/190 [00:00<?, ?B/s]"
      ]
     },
     "metadata": {},
     "output_type": "display_data"
    }
   ],
   "source": [
    "from src.util import (c_tf_idf, \n",
    "                      extract_top_n_words_per_topic,\n",
    "                      extract_topic_sizes,\n",
    "                      topic_cos_sim_metrics,\n",
    "                      generate_all_cossim_metrics)"
   ]
  },
  {
   "cell_type": "code",
   "execution_count": 4,
   "metadata": {},
   "outputs": [],
   "source": [
    "import umap\n",
    "import hdbscan\n",
    "from sentence_transformers import SentenceTransformer\n",
    "from hdbscan import validity_index"
   ]
  },
  {
   "cell_type": "code",
   "execution_count": 5,
   "metadata": {},
   "outputs": [
    {
     "data": {
      "text/plain": [
       "True"
      ]
     },
     "execution_count": 5,
     "metadata": {},
     "output_type": "execute_result"
    }
   ],
   "source": [
    "data_path = '/home/jupyter/bi-topic-modeling/data/' \n",
    "\n",
    "STOP_WORDS = pd.read_pickle(data_path + 'forbes_stop_words.pkl')\n",
    "\"q1\" in STOP_WORDS"
   ]
  },
  {
   "cell_type": "code",
   "execution_count": 6,
   "metadata": {},
   "outputs": [],
   "source": [
    "results_path = '/home/jupyter/bi-topic-modeling/results/' \n",
    "SEED = 42"
   ]
  },
  {
   "cell_type": "markdown",
   "metadata": {},
   "source": [
    "### --- Data ---\n",
    "\n",
    "* Train date range Apr 19 (monday) till May 02 (sunday)\n",
    "* Eligible pool = articles with pvs > 100 on a given day\n",
    "    * TODO: data points to prove my point - check common articles in apr 19-apr24 week with consecutive 2 weeks\n",
    "    * manual analysis of training topics"
   ]
  },
  {
   "cell_type": "code",
   "execution_count": 7,
   "metadata": {},
   "outputs": [],
   "source": [
    "def get_data(file_name):\n",
    "    \n",
    "    df = pd.read_csv(data_path + file_name)\n",
    "\n",
    "    print(\"Before Shape:\", df.shape)\n",
    "    print(\"Unique tiers:\", len(df.tier1.unique()))\n",
    "    \n",
    "    # Per verdict from EDA, exclude articles less than 100 words\n",
    "    df[\"article_length\"] = df.clean_body.str.split().apply(len)\n",
    "    df = df[df[\"article_length\"]>=100]\n",
    "    print(\"After Shape:\", df.shape)\n",
    "    \n",
    "    df.tier1 = df.tier1.fillna('Other')\n",
    "    df = df.reset_index(drop=True)\n",
    "    \n",
    "    return df"
   ]
  },
  {
   "cell_type": "code",
   "execution_count": 8,
   "metadata": {},
   "outputs": [
    {
     "name": "stdout",
     "output_type": "stream",
     "text": [
      "--- apr 19 to apr 24 ---\n",
      "Before Shape: (7193, 10)\n",
      "Unique tiers: 31\n",
      "After Shape: (7179, 11)\n",
      "Embeds len: 7179\n"
     ]
    }
   ],
   "source": [
    "print(\"--- apr 19 to apr 24 ---\")\n",
    "apr19_apr24 = get_data('processed/apr19_apr24_over100pvs_processed.csv')\n",
    "apr19_apr24_art_embed = joblib.load(\"./data/processed/apr19_apr24_article_embed_axis0.joblib\")\n",
    "print(\"Embeds len:\", len(apr19_apr24_art_embed))"
   ]
  },
  {
   "cell_type": "code",
   "execution_count": 9,
   "metadata": {},
   "outputs": [
    {
     "name": "stdout",
     "output_type": "stream",
     "text": [
      "--- apr 25 ---\n",
      "Before Shape: (3334, 10)\n",
      "Unique tiers: 31\n",
      "After Shape: (3327, 11)\n",
      "Embeds len: 3327\n",
      "\n",
      "--- apr 26 ---\n",
      "Before Shape: (4138, 10)\n",
      "Unique tiers: 31\n",
      "After Shape: (4128, 11)\n",
      "Embeds len: 4128\n",
      "\n",
      "--- apr 27 ---\n",
      "Before Shape: (4177, 10)\n",
      "Unique tiers: 31\n",
      "After Shape: (4167, 11)\n",
      "Embeds len: 4167\n",
      "\n",
      "--- apr 28 ---\n",
      "Before Shape: (4197, 8)\n",
      "Unique tiers: 31\n",
      "After Shape: (4186, 9)\n",
      "Embeds len: 4186\n",
      "\n",
      "--- apr 29 ---\n",
      "Before Shape: (4201, 8)\n",
      "Unique tiers: 31\n",
      "After Shape: (4188, 9)\n",
      "Embeds len: 4188\n",
      "\n",
      "--- apr 30 ---\n",
      "Before Shape: (3784, 8)\n",
      "Unique tiers: 31\n",
      "After Shape: (3771, 9)\n",
      "Embeds len: 3771\n",
      "--- may 01 ---\n",
      "Before Shape: (3052, 8)\n",
      "Unique tiers: 31\n",
      "After Shape: (3044, 9)\n",
      "Embeds len: 3044\n",
      "\n",
      "--- may 02 ---\n",
      "Before Shape: (3267, 8)\n",
      "Unique tiers: 31\n",
      "After Shape: (3259, 9)\n",
      "Embeds len: 3259\n"
     ]
    }
   ],
   "source": [
    "# training data set\n",
    "\n",
    "print(\"--- apr 25 ---\")\n",
    "apr25 = get_data('processed/train_apr25_over100pvs_processed.csv')\n",
    "apr25_art_embed = joblib.load(\"./data/processed/apr25_article_embed_axis0.joblib\")\n",
    "print(\"Embeds len:\", len(apr25_art_embed))\n",
    "\n",
    "print()\n",
    "print(\"--- apr 26 ---\")\n",
    "apr26 = get_data('processed/pred_apr26_over100pvs_processed.csv')\n",
    "apr26_art_embed = joblib.load(\"./data/processed/apr26_article_embed_axis0.joblib\")\n",
    "print(\"Embeds len:\", len(apr26_art_embed))\n",
    "\n",
    "print()\n",
    "print(\"--- apr 27 ---\")\n",
    "apr27 = get_data('processed/pred_apr27_over100pvs_processed.csv')\n",
    "apr27_art_embed = joblib.load(\"./data/processed/apr27_article_embed_axis0.joblib\")\n",
    "print(\"Embeds len:\", len(apr27_art_embed))\n",
    "\n",
    "print()\n",
    "print(\"--- apr 28 ---\")\n",
    "apr28 = get_data('processed/apr28_over100pvs_processed.csv')\n",
    "apr28_art_embed = joblib.load(\"./data/processed/apr28_article_embed_axis0.joblib\")\n",
    "print(\"Embeds len:\", len(apr28_art_embed))\n",
    "\n",
    "print()\n",
    "print(\"--- apr 29 ---\")\n",
    "apr29 = get_data('processed/apr29_over100pvs_processed.csv')\n",
    "apr29_art_embed = joblib.load(\"./data/processed/apr29_article_embed_axis0.joblib\")\n",
    "print(\"Embeds len:\", len(apr29_art_embed))\n",
    "\n",
    "print()\n",
    "print(\"--- apr 30 ---\")\n",
    "apr30 = get_data('processed/apr30_over100pvs_processed.csv')\n",
    "apr30_art_embed = joblib.load(\"./data/processed/apr30_article_embed_axis0.joblib\")\n",
    "print(\"Embeds len:\", len(apr30_art_embed))\n",
    "\n",
    "print(\"--- may 01 ---\")\n",
    "may01 = get_data('processed/may01_over100pvs_processed.csv')\n",
    "may01_art_embed = joblib.load(\"./data/processed/may01_article_embed_axis0.joblib\")\n",
    "print(\"Embeds len:\", len(may01_art_embed))\n",
    "\n",
    "print()\n",
    "print(\"--- may 02 ---\")\n",
    "may02 = get_data('processed/may02_over100pvs_processed.csv')\n",
    "may02_art_embed = joblib.load(\"./data/processed/may02_article_embed_axis0.joblib\")\n",
    "print(\"Embeds len:\", len(may02_art_embed))"
   ]
  },
  {
   "cell_type": "code",
   "execution_count": 10,
   "metadata": {},
   "outputs": [
    {
     "name": "stdout",
     "output_type": "stream",
     "text": [
      "\n",
      "--- may 03 ---\n",
      "Before Shape: (4210, 8)\n",
      "Unique tiers: 31\n",
      "After Shape: (4199, 9)\n",
      "Embeds len: 4199\n",
      "\n",
      "--- may 04 ---\n",
      "Before Shape: (4235, 8)\n",
      "Unique tiers: 31\n",
      "After Shape: (4223, 9)\n",
      "Embeds len: 4223\n",
      "\n",
      "--- may 05 ---\n",
      "Before Shape: (4174, 8)\n",
      "Unique tiers: 31\n",
      "After Shape: (4160, 9)\n",
      "Embeds len: 4160\n",
      "--- may 06 ---\n",
      "Before Shape: (4079, 8)\n",
      "Unique tiers: 31\n",
      "After Shape: (4063, 9)\n",
      "Embeds len: 4063\n",
      "--- may 07 ---\n",
      "Before Shape: (3644, 8)\n",
      "Unique tiers: 31\n",
      "After Shape: (3630, 9)\n",
      "Embeds len: 3630\n"
     ]
    }
   ],
   "source": [
    "# testing data set\n",
    "\n",
    "print()\n",
    "print(\"--- may 03 ---\")\n",
    "may03 = get_data('processed/may03_over100pvs_processed.csv')\n",
    "may03_art_embed = joblib.load(\"./data/processed/may03_article_embed_axis0.joblib\")\n",
    "print(\"Embeds len:\", len(may03_art_embed))\n",
    "\n",
    "print()\n",
    "print(\"--- may 04 ---\")\n",
    "may04 = get_data('processed/may04_over100pvs_processed.csv')\n",
    "may04_art_embed = joblib.load(\"./data/processed/may04_article_embed_axis0.joblib\")\n",
    "print(\"Embeds len:\", len(may04_art_embed))\n",
    "\n",
    "print()\n",
    "print(\"--- may 05 ---\")\n",
    "may05 = get_data('processed/may05_over100pvs_processed.csv')\n",
    "may05_art_embed = joblib.load(\"./data/processed/may05_article_embed_axis0.joblib\")\n",
    "print(\"Embeds len:\", len(may05_art_embed))\n",
    "\n",
    "print(\"--- may 06 ---\")\n",
    "may06 = get_data('processed/may06_over100pvs_processed.csv')\n",
    "may06_art_embed = joblib.load(\"./data/processed/may06_article_embed_axis0.joblib\")\n",
    "print(\"Embeds len:\", len(may06_art_embed))\n",
    "\n",
    "print(\"--- may 07 ---\")\n",
    "may07 = get_data('processed/may07_over100pvs_processed.csv')\n",
    "may07_art_embed = joblib.load(\"./data/processed/may07_article_embed_axis0.joblib\")\n",
    "print(\"Embeds len:\", len(may07_art_embed))"
   ]
  },
  {
   "cell_type": "markdown",
   "metadata": {},
   "source": [
    "* Combine train data - 14 days: apr 19 (monday) till may 2 (sunday)\n",
    "* Observation:\n",
    "    * 1 week apr 19 - apr 24 :: 7179 unique articles\n",
    "    * 2 week apr 19 - may 02 :: 10225 unique articles (i.e. 2nd week just 3k unique articles added)"
   ]
  },
  {
   "cell_type": "code",
   "execution_count": 11,
   "metadata": {},
   "outputs": [
    {
     "name": "stdout",
     "output_type": "stream",
     "text": [
      "(37249, 11)\n",
      "37249\n"
     ]
    }
   ],
   "source": [
    "# concatenate dfs\n",
    "\n",
    "combined_df = pd.concat([apr19_apr24, apr25, apr26, apr27, apr28, apr29, apr30, may01, may02])\n",
    "# reset index\n",
    "combined_df = combined_df.reset_index(drop=True)\n",
    "# drop unnecessary cols\n",
    "combined_df.drop([\"processed\", \"processed_noun\", \"processed_noun_2\"], axis = 1, inplace=True)\n",
    "# fill na\n",
    "combined_df.tier2 = combined_df.tier2.fillna('Other')\n",
    "combined_df.total_timeonpage = combined_df.total_timeonpage.fillna(0)\n",
    "print(combined_df.shape)\n",
    "\n",
    "# concatenate embeds\n",
    "combined_embeds = apr19_apr24_art_embed + apr25_art_embed + apr26_art_embed + apr27_art_embed + apr28_art_embed + apr29_art_embed + apr30_art_embed + may01_art_embed + may02_art_embed\n",
    "print(len(combined_embeds))"
   ]
  },
  {
   "cell_type": "code",
   "execution_count": 12,
   "metadata": {},
   "outputs": [
    {
     "name": "stdout",
     "output_type": "stream",
     "text": [
      "(10225, 11)\n",
      "False\n",
      "10225\n"
     ]
    }
   ],
   "source": [
    "# drop duplicates from df\n",
    "\n",
    "train_df = combined_df.drop_duplicates(subset=\"content_natid\", keep='first')\n",
    "\n",
    "print(train_df.shape)\n",
    "print(train_df.content_natid.duplicated(keep='first').any())\n",
    "\n",
    "train_embeds =  [combined_embeds[i] for i in list(train_df.index)]\n",
    "print(len(train_embeds))"
   ]
  },
  {
   "cell_type": "code",
   "execution_count": 13,
   "metadata": {},
   "outputs": [
    {
     "data": {
      "text/plain": [
       "(10225, 2)"
      ]
     },
     "execution_count": 13,
     "metadata": {},
     "output_type": "execute_result"
    }
   ],
   "source": [
    "train_df.reset_index(drop=True, inplace=True)\n",
    "\n",
    "train_df = train_df[['content_natid', 'clean_body']]\n",
    "train_df.shape"
   ]
  },
  {
   "cell_type": "markdown",
   "metadata": {},
   "source": [
    "* **Two weeks: Apr19-May2**"
   ]
  },
  {
   "cell_type": "code",
   "execution_count": 14,
   "metadata": {},
   "outputs": [
    {
     "data": {
      "text/html": [
       "<div>\n",
       "<style scoped>\n",
       "    .dataframe tbody tr th:only-of-type {\n",
       "        vertical-align: middle;\n",
       "    }\n",
       "\n",
       "    .dataframe tbody tr th {\n",
       "        vertical-align: top;\n",
       "    }\n",
       "\n",
       "    .dataframe thead th {\n",
       "        text-align: right;\n",
       "    }\n",
       "</style>\n",
       "<table border=\"1\" class=\"dataframe\">\n",
       "  <thead>\n",
       "    <tr style=\"text-align: right;\">\n",
       "      <th></th>\n",
       "      <th>content_natid</th>\n",
       "      <th>clean_body</th>\n",
       "    </tr>\n",
       "  </thead>\n",
       "  <tbody>\n",
       "    <tr>\n",
       "      <th>10220</th>\n",
       "      <td>blogandpostid/blog/post/1483-2567</td>\n",
       "      <td>2015 polaris slingshot: three wheels and a prayer. polaris, the powersports giant, moves from off-road, sn...</td>\n",
       "    </tr>\n",
       "    <tr>\n",
       "      <th>10221</th>\n",
       "      <td>blogandpostid/blog/post/1763-1881</td>\n",
       "      <td>5 critical steps to fearless confrontation. last week, i had the pleasure of presenting a webinar called s...</td>\n",
       "    </tr>\n",
       "    <tr>\n",
       "      <th>10222</th>\n",
       "      <td>blogandpostid/blog/post/986-8269</td>\n",
       "      <td>the oilman, the playmate, and the tangled affairs of the billionaire marshall family. j. howard marshall i...</td>\n",
       "    </tr>\n",
       "    <tr>\n",
       "      <th>10223</th>\n",
       "      <td>blogandpostid/blog/post/948-4920</td>\n",
       "      <td>hacker's demo shows how easily credit cards can be read through clothes and wallets. some blank credit car...</td>\n",
       "    </tr>\n",
       "    <tr>\n",
       "      <th>10224</th>\n",
       "      <td>blogandpostid/blog/post/1011-2227</td>\n",
       "      <td>man inadvertently live tweets osama bin laden raid. an it consultant who tried to take a break from the ra...</td>\n",
       "    </tr>\n",
       "  </tbody>\n",
       "</table>\n",
       "</div>"
      ],
      "text/plain": [
       "                           content_natid  \\\n",
       "10220  blogandpostid/blog/post/1483-2567   \n",
       "10221  blogandpostid/blog/post/1763-1881   \n",
       "10222   blogandpostid/blog/post/986-8269   \n",
       "10223   blogandpostid/blog/post/948-4920   \n",
       "10224  blogandpostid/blog/post/1011-2227   \n",
       "\n",
       "                                                                                                          clean_body  \n",
       "10220  2015 polaris slingshot: three wheels and a prayer. polaris, the powersports giant, moves from off-road, sn...  \n",
       "10221  5 critical steps to fearless confrontation. last week, i had the pleasure of presenting a webinar called s...  \n",
       "10222  the oilman, the playmate, and the tangled affairs of the billionaire marshall family. j. howard marshall i...  \n",
       "10223  hacker's demo shows how easily credit cards can be read through clothes and wallets. some blank credit car...  \n",
       "10224  man inadvertently live tweets osama bin laden raid. an it consultant who tried to take a break from the ra...  "
      ]
     },
     "execution_count": 14,
     "metadata": {},
     "output_type": "execute_result"
    }
   ],
   "source": [
    "train_df.tail()"
   ]
  },
  {
   "cell_type": "markdown",
   "metadata": {},
   "source": [
    "### --- Modeling ---"
   ]
  },
  {
   "cell_type": "code",
   "execution_count": 15,
   "metadata": {},
   "outputs": [
    {
     "name": "stdout",
     "output_type": "stream",
     "text": [
      "10225\n"
     ]
    }
   ],
   "source": [
    "data = train_df.clean_body.tolist()\n",
    "print(len(data))"
   ]
  },
  {
   "cell_type": "code",
   "execution_count": 16,
   "metadata": {},
   "outputs": [
    {
     "name": "stdout",
     "output_type": "stream",
     "text": [
      "UMAP Took 0.4 minutes to run\n"
     ]
    }
   ],
   "source": [
    "# NEW SETTINGS for lesser noise - umap:n_neighbors=15, n_components=2, min_dist=0.0 \n",
    "# hdbscan min_cluster_size=5, min_samples = 4, input = sentence embeddings aggregated (mean) to full article\n",
    "\n",
    "start = time()\n",
    "\n",
    "# orig\n",
    "# n_neighbors=15, n_components=5, random_state=SEED,\n",
    "            \n",
    "umap_embeddings =  umap.UMAP(\n",
    "                             n_neighbors=15,\n",
    "                             min_dist=0.0,\n",
    "                             n_components=2,\n",
    "                             random_state=SEED\n",
    "                            ).fit(train_embeds) \n",
    "\n",
    "print('UMAP Took {} minutes to run'.format(round((time() - start) / 60, 2))) #4.06"
   ]
  },
  {
   "cell_type": "code",
   "execution_count": 17,
   "metadata": {},
   "outputs": [],
   "source": [
    "# cluster\n",
    "cluster = hdbscan.HDBSCAN(min_cluster_size=5,\n",
    "                      min_samples = 4, #new\n",
    "                      metric= 'euclidean',                      \n",
    "                      cluster_selection_method='eom',\n",
    "                      prediction_data=True).fit(umap_embeddings.embedding_)"
   ]
  },
  {
   "cell_type": "code",
   "execution_count": 18,
   "metadata": {},
   "outputs": [
    {
     "name": "stdout",
     "output_type": "stream",
     "text": [
      "Shape of training embeddings: (10225, 2)\n"
     ]
    }
   ],
   "source": [
    "print(\"Shape of training embeddings:\", umap_embeddings.embedding_.shape)"
   ]
  },
  {
   "cell_type": "code",
   "execution_count": 19,
   "metadata": {},
   "outputs": [
    {
     "name": "stdout",
     "output_type": "stream",
     "text": [
      "Settings - mean axis=0\n"
     ]
    },
    {
     "data": {
      "text/plain": [
       "0.24814128539871702"
      ]
     },
     "execution_count": 19,
     "metadata": {},
     "output_type": "execute_result"
    }
   ],
   "source": [
    "labels = cluster.labels_\n",
    "print(\"Settings - mean axis=0\")\n",
    "validity_index(umap_embeddings.embedding_.astype('double'), labels)"
   ]
  },
  {
   "cell_type": "code",
   "execution_count": 20,
   "metadata": {},
   "outputs": [
    {
     "name": "stdout",
     "output_type": "stream",
     "text": [
      "Distinct topics including -1 for noise 386\n",
      "\n"
     ]
    },
    {
     "data": {
      "text/html": [
       "<div>\n",
       "<style scoped>\n",
       "    .dataframe tbody tr th:only-of-type {\n",
       "        vertical-align: middle;\n",
       "    }\n",
       "\n",
       "    .dataframe tbody tr th {\n",
       "        vertical-align: top;\n",
       "    }\n",
       "\n",
       "    .dataframe thead th {\n",
       "        text-align: right;\n",
       "    }\n",
       "</style>\n",
       "<table border=\"1\" class=\"dataframe\">\n",
       "  <thead>\n",
       "    <tr style=\"text-align: right;\">\n",
       "      <th></th>\n",
       "      <th>Doc</th>\n",
       "      <th>Topic</th>\n",
       "      <th>Doc_ID</th>\n",
       "    </tr>\n",
       "  </thead>\n",
       "  <tbody>\n",
       "    <tr>\n",
       "      <th>0</th>\n",
       "      <td>10 top-rated air fryers that make cooking so much easier. if an appliance could deliver the delicious cris...</td>\n",
       "      <td>68</td>\n",
       "      <td>0</td>\n",
       "    </tr>\n",
       "    <tr>\n",
       "      <th>1</th>\n",
       "      <td>10 highly-rated mattresses on amazon (yes, theyre eligible for prime shipping). if youve begun to second-g...</td>\n",
       "      <td>80</td>\n",
       "      <td>1</td>\n",
       "    </tr>\n",
       "    <tr>\n",
       "      <th>2</th>\n",
       "      <td>11 adirondack chairs that will become your favorite place to sit this summer. adirondack chairs, which get...</td>\n",
       "      <td>80</td>\n",
       "      <td>2</td>\n",
       "    </tr>\n",
       "    <tr>\n",
       "      <th>3</th>\n",
       "      <td>the best home printers in 2021 for every printing need, from tax forms to family portraits. as much as wed...</td>\n",
       "      <td>76</td>\n",
       "      <td>3</td>\n",
       "    </tr>\n",
       "    <tr>\n",
       "      <th>4</th>\n",
       "      <td>the best sales online right now: tatcha, best buy and more. summer doesnt officially start until june 20bu...</td>\n",
       "      <td>79</td>\n",
       "      <td>4</td>\n",
       "    </tr>\n",
       "    <tr>\n",
       "      <th>...</th>\n",
       "      <td>...</td>\n",
       "      <td>...</td>\n",
       "      <td>...</td>\n",
       "    </tr>\n",
       "    <tr>\n",
       "      <th>10220</th>\n",
       "      <td>2015 polaris slingshot: three wheels and a prayer. polaris, the powersports giant, moves from off-road, sn...</td>\n",
       "      <td>27</td>\n",
       "      <td>10220</td>\n",
       "    </tr>\n",
       "    <tr>\n",
       "      <th>10221</th>\n",
       "      <td>5 critical steps to fearless confrontation. last week, i had the pleasure of presenting a webinar called s...</td>\n",
       "      <td>-1</td>\n",
       "      <td>10221</td>\n",
       "    </tr>\n",
       "    <tr>\n",
       "      <th>10222</th>\n",
       "      <td>the oilman, the playmate, and the tangled affairs of the billionaire marshall family. j. howard marshall i...</td>\n",
       "      <td>-1</td>\n",
       "      <td>10222</td>\n",
       "    </tr>\n",
       "    <tr>\n",
       "      <th>10223</th>\n",
       "      <td>hacker's demo shows how easily credit cards can be read through clothes and wallets. some blank credit car...</td>\n",
       "      <td>51</td>\n",
       "      <td>10223</td>\n",
       "    </tr>\n",
       "    <tr>\n",
       "      <th>10224</th>\n",
       "      <td>man inadvertently live tweets osama bin laden raid. an it consultant who tried to take a break from the ra...</td>\n",
       "      <td>-1</td>\n",
       "      <td>10224</td>\n",
       "    </tr>\n",
       "  </tbody>\n",
       "</table>\n",
       "<p>10225 rows × 3 columns</p>\n",
       "</div>"
      ],
      "text/plain": [
       "                                                                                                                 Doc  \\\n",
       "0      10 top-rated air fryers that make cooking so much easier. if an appliance could deliver the delicious cris...   \n",
       "1      10 highly-rated mattresses on amazon (yes, theyre eligible for prime shipping). if youve begun to second-g...   \n",
       "2      11 adirondack chairs that will become your favorite place to sit this summer. adirondack chairs, which get...   \n",
       "3      the best home printers in 2021 for every printing need, from tax forms to family portraits. as much as wed...   \n",
       "4      the best sales online right now: tatcha, best buy and more. summer doesnt officially start until june 20bu...   \n",
       "...                                                                                                              ...   \n",
       "10220  2015 polaris slingshot: three wheels and a prayer. polaris, the powersports giant, moves from off-road, sn...   \n",
       "10221  5 critical steps to fearless confrontation. last week, i had the pleasure of presenting a webinar called s...   \n",
       "10222  the oilman, the playmate, and the tangled affairs of the billionaire marshall family. j. howard marshall i...   \n",
       "10223  hacker's demo shows how easily credit cards can be read through clothes and wallets. some blank credit car...   \n",
       "10224  man inadvertently live tweets osama bin laden raid. an it consultant who tried to take a break from the ra...   \n",
       "\n",
       "       Topic  Doc_ID  \n",
       "0         68       0  \n",
       "1         80       1  \n",
       "2         80       2  \n",
       "3         76       3  \n",
       "4         79       4  \n",
       "...      ...     ...  \n",
       "10220     27   10220  \n",
       "10221     -1   10221  \n",
       "10222     -1   10222  \n",
       "10223     51   10223  \n",
       "10224     -1   10224  \n",
       "\n",
       "[10225 rows x 3 columns]"
      ]
     },
     "execution_count": 20,
     "metadata": {},
     "output_type": "execute_result"
    }
   ],
   "source": [
    "# put topics in dataframe\n",
    "docs_df = pd.DataFrame(data, columns=[\"Doc\"])\n",
    "docs_df['Topic'] = cluster.labels_\n",
    "docs_df['Doc_ID'] = range(len(docs_df))\n",
    "\n",
    "print(\"Distinct topics including -1 for noise\", len(docs_df.Topic.unique()))\n",
    "print()\n",
    "docs_df\n",
    "# min samples5 =  298 topics"
   ]
  },
  {
   "cell_type": "code",
   "execution_count": 21,
   "metadata": {},
   "outputs": [
    {
     "name": "stdout",
     "output_type": "stream",
     "text": [
      "Took 1.51 minutes to run\n"
     ]
    }
   ],
   "source": [
    "start = time()\n",
    "\n",
    "# combine together all articles belonging to same cluster  \n",
    "docs_per_topic = docs_df.groupby(['Topic'], as_index = False).agg({'Doc': ' '.join})\n",
    "\n",
    "# calculate countVector and tf-idf\n",
    "tf_idf, count = c_tf_idf(docs_per_topic.Doc.values, m=len(data))\n",
    "\n",
    "# top n words, topic size\n",
    "top_n_words = extract_top_n_words_per_topic(tf_idf, count, docs_per_topic, n=20)\n",
    "topic_sizes = extract_topic_sizes(docs_df); \n",
    "\n",
    "# modify top_n_words per topic dict into dataframe for presentation\n",
    "topic_words_dict = {}  \n",
    "\n",
    "for k, v in top_n_words.items():\n",
    "    topic_words_dict[k] = \", \".join([elem[0] for elem in v])\n",
    "\n",
    "pd.set_option(\"max_colwidth\", 250)\n",
    "top_n_words_df = pd.DataFrame.from_dict(topic_words_dict, \n",
    "                                        orient='index').reset_index().rename(columns={'index':'topic_num',\n",
    "                                                                                      \n",
    "                                                                                      0:'topic_words'}) \n",
    "\n",
    "print('Took {} minutes to run'.format(round((time() - start) / 60, 2)))"
   ]
  },
  {
   "cell_type": "code",
   "execution_count": 22,
   "metadata": {},
   "outputs": [
    {
     "name": "stdout",
     "output_type": "stream",
     "text": [
      "keyword time 0.0006589333216349284\n"
     ]
    }
   ],
   "source": [
    "# clean keywords\n",
    "\n",
    "from collections import OrderedDict\n",
    "# from fuzzywuzzy import process, fuzz\n",
    "from itertools import chain\n",
    "\n",
    "import time\n",
    "start = time.time()\n",
    "\n",
    "clean_keys = []\n",
    "for index, row in top_n_words_df.iterrows(): \n",
    "    \n",
    "    # remove STOP WORDS and remove whitespaces\n",
    "    inter_list = [x.strip() for x in row[\"topic_words\"].split(\",\") if x not in STOP_WORDS]\n",
    "    \n",
    "    # remove numbers but not alphanumerics e.g. remove 400, not ps4 \n",
    "    inter_list = [x for x in inter_list if not x.isnumeric()]\n",
    "    \n",
    "    # remove subset-based similar words - e.g. 'pcr tests' and 'tests' then 'tests' will be removed\n",
    "    inter_list = [i for i in inter_list if not any(i in x and i!=x for x in inter_list)]\n",
    "\n",
    "    # remove empty or 1-letter words\n",
    "    inter_list = [x for x in inter_list if len(x)>1]\n",
    "    \n",
    "    # de-duplicate\n",
    "    inter_list = list(OrderedDict.fromkeys(inter_list))\n",
    "    \n",
    "    # keep top 20 cleaned keywords\n",
    "    inter_list = inter_list[:6] \n",
    "    \n",
    "    # convert into string\n",
    "    inter_list = ', '.join(inter_list)\n",
    "    \n",
    "    clean_keys.append(inter_list)\n",
    "\n",
    "end = time.time()\n",
    "print(\"keyword time\", (end - start)/60) "
   ]
  },
  {
   "cell_type": "code",
   "execution_count": 23,
   "metadata": {},
   "outputs": [],
   "source": [
    "top_n_words_df[\"topic_words\"] = clean_keys"
   ]
  },
  {
   "cell_type": "code",
   "execution_count": 24,
   "metadata": {},
   "outputs": [],
   "source": [
    "# GENERATE TOPIC METRICS\n",
    "\n",
    "# per topic - cos_min and cos_mean\n",
    "train_cossim_df = generate_all_cossim_metrics(docs_df, train_embeds)\n",
    "\n",
    "# # per topic - tier counts\n",
    "# tier_metric = docs_df.join(df[[\"tier1\"]])\n",
    "\n",
    "# iab_metric = tier_metric.groupby(\"Topic\").agg({\"tier1\": \n",
    "#                                                'nunique'}).round(2).reset_index().rename(columns = {'tier1': \n",
    "#                                                                                                     'distinct_tier1s',\n",
    "#                                                                                                     'Topic':\n",
    "#                                                                                                     'topic_num'})\n",
    "\n",
    "# combine topic, top words, cos and tier metrics\n",
    "topic_info = pd.merge(pd.merge(top_n_words_df, \n",
    "                               topic_sizes, how=\"inner\", left_on=\"topic_num\", right_on = \"Topic\"), \n",
    "                               train_cossim_df, on = \"topic_num\", how=\"inner\")\n",
    "\n",
    "topic_info.drop('Topic', axis=1, inplace=True)"
   ]
  },
  {
   "cell_type": "code",
   "execution_count": 25,
   "metadata": {},
   "outputs": [
    {
     "data": {
      "text/html": [
       "<div>\n",
       "<style scoped>\n",
       "    .dataframe tbody tr th:only-of-type {\n",
       "        vertical-align: middle;\n",
       "    }\n",
       "\n",
       "    .dataframe tbody tr th {\n",
       "        vertical-align: top;\n",
       "    }\n",
       "\n",
       "    .dataframe thead th {\n",
       "        text-align: right;\n",
       "    }\n",
       "</style>\n",
       "<table border=\"1\" class=\"dataframe\">\n",
       "  <thead>\n",
       "    <tr style=\"text-align: right;\">\n",
       "      <th></th>\n",
       "      <th>topic_num</th>\n",
       "      <th>topic_words</th>\n",
       "      <th>Size</th>\n",
       "      <th>cos_min</th>\n",
       "      <th>cos_mean</th>\n",
       "    </tr>\n",
       "  </thead>\n",
       "  <tbody>\n",
       "    <tr>\n",
       "      <th>0</th>\n",
       "      <td>-1</td>\n",
       "      <td>energy, marketing, climate, customer, human, industry</td>\n",
       "      <td>3171</td>\n",
       "      <td>0.06</td>\n",
       "      <td>0.71</td>\n",
       "    </tr>\n",
       "    <tr>\n",
       "      <th>1</th>\n",
       "      <td>0</td>\n",
       "      <td>trading days, average return, trefis machine, p500, learning engine, 21 trading</td>\n",
       "      <td>22</td>\n",
       "      <td>0.88</td>\n",
       "      <td>0.96</td>\n",
       "    </tr>\n",
       "    <tr>\n",
       "      <th>2</th>\n",
       "      <td>1</td>\n",
       "      <td>taylors version, billboard 200, hot 100, bts, swift, fearless taylors</td>\n",
       "      <td>104</td>\n",
       "      <td>0.39</td>\n",
       "      <td>0.84</td>\n",
       "    </tr>\n",
       "    <tr>\n",
       "      <th>3</th>\n",
       "      <td>2</td>\n",
       "      <td>10 states, average annual, annual wage, salaries, occupational, therapist salary</td>\n",
       "      <td>46</td>\n",
       "      <td>0.43</td>\n",
       "      <td>0.86</td>\n",
       "    </tr>\n",
       "    <tr>\n",
       "      <th>4</th>\n",
       "      <td>3</td>\n",
       "      <td>def, nxt, smackdown, roman reigns, aew, live events</td>\n",
       "      <td>13</td>\n",
       "      <td>0.75</td>\n",
       "      <td>0.88</td>\n",
       "    </tr>\n",
       "  </tbody>\n",
       "</table>\n",
       "</div>"
      ],
      "text/plain": [
       "   topic_num  \\\n",
       "0         -1   \n",
       "1          0   \n",
       "2          1   \n",
       "3          2   \n",
       "4          3   \n",
       "\n",
       "                                                                        topic_words  \\\n",
       "0                             energy, marketing, climate, customer, human, industry   \n",
       "1   trading days, average return, trefis machine, p500, learning engine, 21 trading   \n",
       "2             taylors version, billboard 200, hot 100, bts, swift, fearless taylors   \n",
       "3  10 states, average annual, annual wage, salaries, occupational, therapist salary   \n",
       "4                               def, nxt, smackdown, roman reigns, aew, live events   \n",
       "\n",
       "   Size  cos_min  cos_mean  \n",
       "0  3171     0.06      0.71  \n",
       "1    22     0.88      0.96  \n",
       "2   104     0.39      0.84  \n",
       "3    46     0.43      0.86  \n",
       "4    13     0.75      0.88  "
      ]
     },
     "execution_count": 25,
     "metadata": {},
     "output_type": "execute_result"
    }
   ],
   "source": [
    "topic_info.head()"
   ]
  },
  {
   "cell_type": "markdown",
   "metadata": {},
   "source": [
    "* Observation on cluter-goodness:\n",
    "    * Good quality overall - \n",
    "        * most articles in a group on avg have 0.85-0.93 cosine similarity which is pretty high\n",
    "        * min similarity is also 0.7 and above for most topics\n",
    "        \n",
    "    * Manual eyeballing - 88 topics good, 19 bad"
   ]
  },
  {
   "cell_type": "code",
   "execution_count": 25,
   "metadata": {},
   "outputs": [
    {
     "data": {
      "image/png": "[encoded data removed]",
      "text/plain": [
       "<Figure size 1080x360 with 2 Axes>"
      ]
     },
     "metadata": {},
     "output_type": "display_data"
    }
   ],
   "source": [
    "# TEST FOR LESSER NOISE - 2 weeks - 6.28.21 with min_samples=4\n",
    "topic_info[['cos_min', 'cos_mean']].hist(figsize= (15,5), bins=50)\n",
    "plt.show()"
   ]
  },
  {
   "cell_type": "markdown",
   "metadata": {},
   "source": [
    "**Topics are about:**\n"
   ]
  },
  {
   "cell_type": "code",
   "execution_count": 26,
   "metadata": {},
   "outputs": [],
   "source": [
    "# combine natural id inside docs_df\n",
    "docs_df = pd.merge(docs_df, train_df, how=\"left\", left_on=\"Doc\", right_on=\"clean_body\")\n",
    "docs_df.drop(\"clean_body\", axis=1, inplace=True)"
   ]
  },
  {
   "cell_type": "code",
   "execution_count": 27,
   "metadata": {},
   "outputs": [
    {
     "data": {
      "text/html": [
       "<div>\n",
       "<style scoped>\n",
       "    .dataframe tbody tr th:only-of-type {\n",
       "        vertical-align: middle;\n",
       "    }\n",
       "\n",
       "    .dataframe tbody tr th {\n",
       "        vertical-align: top;\n",
       "    }\n",
       "\n",
       "    .dataframe thead th {\n",
       "        text-align: right;\n",
       "    }\n",
       "</style>\n",
       "<table border=\"1\" class=\"dataframe\">\n",
       "  <thead>\n",
       "    <tr style=\"text-align: right;\">\n",
       "      <th></th>\n",
       "      <th>Doc</th>\n",
       "      <th>Topic</th>\n",
       "      <th>Doc_ID</th>\n",
       "      <th>content_natid</th>\n",
       "      <th>topic_num</th>\n",
       "      <th>topic_words</th>\n",
       "      <th>Size</th>\n",
       "      <th>cos_min</th>\n",
       "      <th>cos_mean</th>\n",
       "    </tr>\n",
       "  </thead>\n",
       "  <tbody>\n",
       "    <tr>\n",
       "      <th>0</th>\n",
       "      <td>10 top-rated air fryers that make cooking so much easier. if an appliance could deliver the delicious crispy taste of fried food without all that unhealthy oil, would you buy it? if you answered with an enthusiastic yes, youre not alone. air frye...</td>\n",
       "      <td>68</td>\n",
       "      <td>0</td>\n",
       "      <td>blogandpostid/blog/post/4983-5e9d2e095429aa00076f4970</td>\n",
       "      <td>68</td>\n",
       "      <td>hair, shampoo, dry, filter, oil, skincare</td>\n",
       "      <td>122</td>\n",
       "      <td>0.54</td>\n",
       "      <td>0.81</td>\n",
       "    </tr>\n",
       "  </tbody>\n",
       "</table>\n",
       "</div>"
      ],
      "text/plain": [
       "                                                                                                                                                                                                                                                         Doc  \\\n",
       "0  10 top-rated air fryers that make cooking so much easier. if an appliance could deliver the delicious crispy taste of fried food without all that unhealthy oil, would you buy it? if you answered with an enthusiastic yes, youre not alone. air frye...   \n",
       "\n",
       "   Topic  Doc_ID                                          content_natid  \\\n",
       "0     68       0  blogandpostid/blog/post/4983-5e9d2e095429aa00076f4970   \n",
       "\n",
       "   topic_num                                topic_words  Size  cos_min  \\\n",
       "0         68  hair, shampoo, dry, filter, oil, skincare   122     0.54   \n",
       "\n",
       "   cos_mean  \n",
       "0      0.81  "
      ]
     },
     "execution_count": 27,
     "metadata": {},
     "output_type": "execute_result"
    }
   ],
   "source": [
    "# contains natid, article body, assigned topic\n",
    "\n",
    "full_train_topics = pd.merge(docs_df, topic_info, how=\"left\", left_on=\"Topic\", right_on=\"topic_num\")\n",
    "full_train_topics.head(1)"
   ]
  },
  {
   "cell_type": "code",
   "execution_count": 28,
   "metadata": {},
   "outputs": [
    {
     "data": {
      "text/plain": [
       "(3171, 9)"
      ]
     },
     "execution_count": 28,
     "metadata": {},
     "output_type": "execute_result"
    }
   ],
   "source": [
    "# with min_sample5= 3257\n",
    "\n",
    "# with min_samples=4\n",
    "full_train_topics[full_train_topics.Topic==-1].shape"
   ]
  },
  {
   "cell_type": "code",
   "execution_count": null,
   "metadata": {},
   "outputs": [],
   "source": []
  },
  {
   "cell_type": "markdown",
   "metadata": {},
   "source": [
    "* **Predict new points/articles - May 3**\n",
    "    * worsened. orig may 3 topics = 260, with 2weeks = 251"
   ]
  },
  {
   "cell_type": "code",
   "execution_count": 29,
   "metadata": {},
   "outputs": [
    {
     "name": "stdout",
     "output_type": "stream",
     "text": [
      "UMAP(dens_frac=0.0, dens_lambda=0.0, min_dist=0.0, random_state=42)\n",
      "\n",
      "HDBSCAN(min_samples=4, prediction_data=True)\n"
     ]
    }
   ],
   "source": [
    "print(umap_embeddings)\n",
    "print()\n",
    "print(cluster)"
   ]
  },
  {
   "cell_type": "markdown",
   "metadata": {},
   "source": [
    "**Note:** \n",
    "* There will be articles read between Apr 26 - May 02 (training set), which will also be read on May 03. \n",
    "* These common articles present in prediction set, will get the same topic cluster as before\n",
    "\n",
    "**For now:**\n",
    "* Predict on whole of may03"
   ]
  },
  {
   "cell_type": "code",
   "execution_count": 30,
   "metadata": {},
   "outputs": [
    {
     "name": "stdout",
     "output_type": "stream",
     "text": [
      "Training input shape: (10225, 2)\n",
      "Prediction input shape: (4199, 2)\n"
     ]
    }
   ],
   "source": [
    "# dimensionality reduction\n",
    "umap_embeddings_may03 = umap_embeddings.transform(may03_art_embed) # min_dist=0.0,\n",
    "\n",
    "print(\"Training input shape:\", umap_embeddings.embedding_.shape)\n",
    "print(\"Prediction input shape:\", umap_embeddings_may03.shape) #takes a min"
   ]
  },
  {
   "cell_type": "code",
   "execution_count": 31,
   "metadata": {},
   "outputs": [
    {
     "name": "stdout",
     "output_type": "stream",
     "text": [
      "4199\n",
      "316\n"
     ]
    }
   ],
   "source": [
    "# predict\n",
    "\n",
    "may03_test_labels, may03_strengths = hdbscan.approximate_predict(cluster, umap_embeddings_may03)\n",
    "\n",
    "print(len(may03_test_labels))\n",
    "print(len(set(may03_test_labels)))\n",
    "# earlier - 310 topics"
   ]
  },
  {
   "cell_type": "code",
   "execution_count": 32,
   "metadata": {},
   "outputs": [
    {
     "data": {
      "image/png": "[encoded data removed]",
      "text/plain": [
       "<Figure size 432x288 with 1 Axes>"
      ]
     },
     "metadata": {},
     "output_type": "display_data"
    }
   ],
   "source": [
    "plt.hist(may03_strengths, bins='auto')\n",
    "plt.show()"
   ]
  },
  {
   "cell_type": "code",
   "execution_count": 33,
   "metadata": {},
   "outputs": [
    {
     "name": "stdout",
     "output_type": "stream",
     "text": [
      "Distinct topics including -1 for noise 316\n",
      "\n"
     ]
    },
    {
     "data": {
      "text/html": [
       "<div>\n",
       "<style scoped>\n",
       "    .dataframe tbody tr th:only-of-type {\n",
       "        vertical-align: middle;\n",
       "    }\n",
       "\n",
       "    .dataframe tbody tr th {\n",
       "        vertical-align: top;\n",
       "    }\n",
       "\n",
       "    .dataframe thead th {\n",
       "        text-align: right;\n",
       "    }\n",
       "</style>\n",
       "<table border=\"1\" class=\"dataframe\">\n",
       "  <thead>\n",
       "    <tr style=\"text-align: right;\">\n",
       "      <th></th>\n",
       "      <th>Doc</th>\n",
       "      <th>Topic</th>\n",
       "    </tr>\n",
       "  </thead>\n",
       "  <tbody>\n",
       "    <tr>\n",
       "      <th>4194</th>\n",
       "      <td>alexander the great: gay or straight?. (one in a series of conversations between historians james romm and paul a. cartledge , editor and introduction-author, respectively, of the new landmark arrian: the campaigns of alexander , published by pan...</td>\n",
       "      <td>-1</td>\n",
       "    </tr>\n",
       "    <tr>\n",
       "      <th>4195</th>\n",
       "      <td>mark zuckerberg joins the north american man-boy love association, and other adventures in facebook groups. my colleague kashmir hill congratulated facebook's mark zuckerberg earlier today on his increasingly savvy approach to talking about priva...</td>\n",
       "      <td>51</td>\n",
       "    </tr>\n",
       "    <tr>\n",
       "      <th>4196</th>\n",
       "      <td>why reits make sense. michael gunzenhaeuser, a 59-year-old semiretired obstetrician in mansfield, ohio, has heard his share of real estate horror stories lately. friends who own rental apartments grousing about plumbers' bills and endless tenant ...</td>\n",
       "      <td>-1</td>\n",
       "    </tr>\n",
       "    <tr>\n",
       "      <th>4197</th>\n",
       "      <td>brrr!. bill clinton recently brought up the idea that we might have to slow down the u.s. economy to cut back on greenhouse emissions in order to save the planet from global warming. less prosperity will be our salvation! putting aside the former...</td>\n",
       "      <td>-1</td>\n",
       "    </tr>\n",
       "    <tr>\n",
       "      <th>4198</th>\n",
       "      <td>fact and comment. fantastic fiber future is here--but not in u.s. washington and the federal communications commission should look to south korea to see what the future could be like with true telecom deregulation. in the u.s. a t-1 line, which p...</td>\n",
       "      <td>293</td>\n",
       "    </tr>\n",
       "  </tbody>\n",
       "</table>\n",
       "</div>"
      ],
      "text/plain": [
       "                                                                                                                                                                                                                                                            Doc  \\\n",
       "4194  alexander the great: gay or straight?. (one in a series of conversations between historians james romm and paul a. cartledge , editor and introduction-author, respectively, of the new landmark arrian: the campaigns of alexander , published by pan...   \n",
       "4195  mark zuckerberg joins the north american man-boy love association, and other adventures in facebook groups. my colleague kashmir hill congratulated facebook's mark zuckerberg earlier today on his increasingly savvy approach to talking about priva...   \n",
       "4196  why reits make sense. michael gunzenhaeuser, a 59-year-old semiretired obstetrician in mansfield, ohio, has heard his share of real estate horror stories lately. friends who own rental apartments grousing about plumbers' bills and endless tenant ...   \n",
       "4197  brrr!. bill clinton recently brought up the idea that we might have to slow down the u.s. economy to cut back on greenhouse emissions in order to save the planet from global warming. less prosperity will be our salvation! putting aside the former...   \n",
       "4198  fact and comment. fantastic fiber future is here--but not in u.s. washington and the federal communications commission should look to south korea to see what the future could be like with true telecom deregulation. in the u.s. a t-1 line, which p...   \n",
       "\n",
       "      Topic  \n",
       "4194     -1  \n",
       "4195     51  \n",
       "4196     -1  \n",
       "4197     -1  \n",
       "4198    293  "
      ]
     },
     "execution_count": 33,
     "metadata": {},
     "output_type": "execute_result"
    }
   ],
   "source": [
    "# put topics in dataframe\n",
    "may03_docs_df = may03[['clean_body']]\n",
    "may03_docs_df.rename(columns={'clean_body':'Doc'}, inplace=True)\n",
    "may03_docs_df[\"Topic\"] = may03_test_labels\n",
    "\n",
    "print(\"Distinct topics including -1 for noise\", len(may03_docs_df.Topic.unique()))\n",
    "print()\n",
    "may03_docs_df.tail()"
   ]
  },
  {
   "cell_type": "code",
   "execution_count": 34,
   "metadata": {},
   "outputs": [],
   "source": [
    "may03_topic_sizes = extract_topic_sizes(may03_docs_df)\n",
    "\n",
    "# GENERATE TOPIC METRICS\n",
    "\n",
    "# per topic - cos_min and cos_mean\n",
    "may03_cossim_df = generate_all_cossim_metrics(may03_docs_df, umap_embeddings_may03)\n",
    "\n",
    "# per topic - tier counts\n",
    "tier_metric = may03_docs_df.join(may03[[\"tier1\"]])\n",
    "\n",
    "iab_metric = tier_metric.groupby(\"Topic\").agg({\"tier1\": \n",
    "                                               'nunique'}).round(2).reset_index().rename(columns = {'tier1': \n",
    "                                                                                                    'distinct_tier1s',\n",
    "                                                                                                    'Topic':\n",
    "                                                                                                    'topic_num'})\n",
    "\n",
    "# combine topic, top words, cos and tier metrics\n",
    "topic_info_may03 = pd.merge(pd.merge(may03_topic_sizes, \n",
    "                                        may03_cossim_df, how=\"inner\", left_on=\"Topic\", right_on = \"topic_num\"), \n",
    "                               iab_metric, on = \"topic_num\", how=\"inner\")\n",
    "\n",
    "topic_info_may03.drop('Topic', axis=1, inplace=True)"
   ]
  },
  {
   "cell_type": "code",
   "execution_count": 35,
   "metadata": {},
   "outputs": [
    {
     "data": {
      "image/png": "[encoded data removed]",
      "text/plain": [
       "<Figure size 1080x504 with 4 Axes>"
      ]
     },
     "metadata": {},
     "output_type": "display_data"
    }
   ],
   "source": [
    "# TEST FOR LESSER NOISE\n",
    "topic_info_may03[['cos_min', 'cos_mean', 'distinct_tier1s']].hist(figsize= (15,7), bins=50)\n",
    "plt.show()"
   ]
  },
  {
   "cell_type": "code",
   "execution_count": 36,
   "metadata": {},
   "outputs": [],
   "source": [
    "# combine natural id inside docs_df\n",
    "\n",
    "may03_docs_df = pd.merge(may03_docs_df, may03, how=\"left\", left_on=\"Doc\", right_on=\"clean_body\")\n",
    "may03_docs_df.drop(\"clean_body\", axis=1, inplace=True)"
   ]
  },
  {
   "cell_type": "code",
   "execution_count": 37,
   "metadata": {},
   "outputs": [],
   "source": [
    "# print(len(may03_docs_df[may03_docs_df.Topic!=-1].tier1.unique()))\n",
    "# may03_docs_df[may03_docs_df.Topic!=-1].tier1.value_counts()"
   ]
  },
  {
   "cell_type": "code",
   "execution_count": 38,
   "metadata": {},
   "outputs": [],
   "source": [
    "# combine topic_info_may03 with topic names\n",
    "\n",
    "topic_info_may03 = pd.merge(topic_info_may03, top_n_words_df, how=\"left\", on=\"topic_num\").sort_values(\"topic_num\")"
   ]
  },
  {
   "cell_type": "code",
   "execution_count": 39,
   "metadata": {},
   "outputs": [],
   "source": [
    "pred_may03_inspect = pd.merge(may03_docs_df, \n",
    "         topic_info_may03, \n",
    "         how=\"left\", \n",
    "         left_on=\"Topic\", \n",
    "         right_on = \"topic_num\").drop('topic_num', axis=1)"
   ]
  },
  {
   "cell_type": "code",
   "execution_count": 40,
   "metadata": {},
   "outputs": [
    {
     "name": "stdout",
     "output_type": "stream",
     "text": [
      "(2179, 15)\n",
      "(2020, 15)\n",
      "(4199, 15)\n"
     ]
    }
   ],
   "source": [
    "# increased to 50% noise\n",
    "print(pred_may03_inspect[pred_may03_inspect.Topic==-1].shape)\n",
    "print(pred_may03_inspect[pred_may03_inspect.Topic!=-1].shape)\n",
    "print(pred_may03_inspect.shape)"
   ]
  },
  {
   "cell_type": "code",
   "execution_count": 41,
   "metadata": {},
   "outputs": [],
   "source": [
    "# 2 WEEK TRAINING TEST FOR LESSER NOISE\n",
    "pred_may03_inspect.to_csv(results_path + \"14daytrain_may03pred.csv\", index=False)"
   ]
  },
  {
   "cell_type": "markdown",
   "metadata": {},
   "source": [
    "* **Predict new points/articles - May 04**"
   ]
  },
  {
   "cell_type": "code",
   "execution_count": 42,
   "metadata": {},
   "outputs": [
    {
     "name": "stdout",
     "output_type": "stream",
     "text": [
      "Training input shape: (10225, 2)\n",
      "Prediction input shape: (4223, 2)\n"
     ]
    }
   ],
   "source": [
    "# dimensionality reduction\n",
    "umap_embeddings_may04 = umap_embeddings.transform(may04_art_embed) # min_dist=0.0,\n",
    "\n",
    "print(\"Training input shape:\", umap_embeddings.embedding_.shape)\n",
    "print(\"Prediction input shape:\", umap_embeddings_may04.shape) #takes a min"
   ]
  },
  {
   "cell_type": "code",
   "execution_count": 43,
   "metadata": {},
   "outputs": [
    {
     "name": "stdout",
     "output_type": "stream",
     "text": [
      "4223\n",
      "326\n"
     ]
    }
   ],
   "source": [
    "# predict\n",
    "\n",
    "may04_test_labels, may04_strengths = hdbscan.approximate_predict(cluster, umap_embeddings_may04)\n",
    "\n",
    "print(len(may04_test_labels))\n",
    "# print(set(may04_test_labels))\n",
    "print(len(set(may04_test_labels)))"
   ]
  },
  {
   "cell_type": "code",
   "execution_count": 44,
   "metadata": {},
   "outputs": [
    {
     "name": "stdout",
     "output_type": "stream",
     "text": [
      "Distinct topics including -1 for noise 326\n",
      "\n"
     ]
    },
    {
     "data": {
      "text/html": [
       "<div>\n",
       "<style scoped>\n",
       "    .dataframe tbody tr th:only-of-type {\n",
       "        vertical-align: middle;\n",
       "    }\n",
       "\n",
       "    .dataframe tbody tr th {\n",
       "        vertical-align: top;\n",
       "    }\n",
       "\n",
       "    .dataframe thead th {\n",
       "        text-align: right;\n",
       "    }\n",
       "</style>\n",
       "<table border=\"1\" class=\"dataframe\">\n",
       "  <thead>\n",
       "    <tr style=\"text-align: right;\">\n",
       "      <th></th>\n",
       "      <th>Doc</th>\n",
       "      <th>Topic</th>\n",
       "    </tr>\n",
       "  </thead>\n",
       "  <tbody>\n",
       "    <tr>\n",
       "      <th>4218</th>\n",
       "      <td>alexander the great: gay or straight?. (one in a series of conversations between historians james romm and paul a. cartledge , editor and introduction-author, respectively, of the new landmark arrian: the campaigns of alexander , published by pan...</td>\n",
       "      <td>-1</td>\n",
       "    </tr>\n",
       "    <tr>\n",
       "      <th>4219</th>\n",
       "      <td>how many olympic-sized swimming pools can we fill with billionaire gold?. gold has been in the spotlight for a while now. from hovering around $300 a troy ounce in the early part of the last decade, the precious metal has more than quadrupled in ...</td>\n",
       "      <td>-1</td>\n",
       "    </tr>\n",
       "    <tr>\n",
       "      <th>4220</th>\n",
       "      <td>why reits make sense. michael gunzenhaeuser, a 59-year-old semiretired obstetrician in mansfield, ohio, has heard his share of real estate horror stories lately. friends who own rental apartments grousing about plumbers' bills and endless tenant ...</td>\n",
       "      <td>-1</td>\n",
       "    </tr>\n",
       "    <tr>\n",
       "      <th>4221</th>\n",
       "      <td>brrr!. bill clinton recently brought up the idea that we might have to slow down the u.s. economy to cut back on greenhouse emissions in order to save the planet from global warming. less prosperity will be our salvation! putting aside the former...</td>\n",
       "      <td>72</td>\n",
       "    </tr>\n",
       "    <tr>\n",
       "      <th>4222</th>\n",
       "      <td>fact and comment. fantastic fiber future is here--but not in u.s. washington and the federal communications commission should look to south korea to see what the future could be like with true telecom deregulation. in the u.s. a t-1 line, which p...</td>\n",
       "      <td>293</td>\n",
       "    </tr>\n",
       "  </tbody>\n",
       "</table>\n",
       "</div>"
      ],
      "text/plain": [
       "                                                                                                                                                                                                                                                            Doc  \\\n",
       "4218  alexander the great: gay or straight?. (one in a series of conversations between historians james romm and paul a. cartledge , editor and introduction-author, respectively, of the new landmark arrian: the campaigns of alexander , published by pan...   \n",
       "4219  how many olympic-sized swimming pools can we fill with billionaire gold?. gold has been in the spotlight for a while now. from hovering around $300 a troy ounce in the early part of the last decade, the precious metal has more than quadrupled in ...   \n",
       "4220  why reits make sense. michael gunzenhaeuser, a 59-year-old semiretired obstetrician in mansfield, ohio, has heard his share of real estate horror stories lately. friends who own rental apartments grousing about plumbers' bills and endless tenant ...   \n",
       "4221  brrr!. bill clinton recently brought up the idea that we might have to slow down the u.s. economy to cut back on greenhouse emissions in order to save the planet from global warming. less prosperity will be our salvation! putting aside the former...   \n",
       "4222  fact and comment. fantastic fiber future is here--but not in u.s. washington and the federal communications commission should look to south korea to see what the future could be like with true telecom deregulation. in the u.s. a t-1 line, which p...   \n",
       "\n",
       "      Topic  \n",
       "4218     -1  \n",
       "4219     -1  \n",
       "4220     -1  \n",
       "4221     72  \n",
       "4222    293  "
      ]
     },
     "execution_count": 44,
     "metadata": {},
     "output_type": "execute_result"
    }
   ],
   "source": [
    "# put topics in dataframe\n",
    "may04_docs_df = may04[['clean_body']]\n",
    "may04_docs_df.rename(columns={'clean_body':'Doc'}, inplace=True)\n",
    "may04_docs_df[\"Topic\"] = may04_test_labels\n",
    "\n",
    "print(\"Distinct topics including -1 for noise\", len(may04_docs_df.Topic.unique()))\n",
    "print()\n",
    "may04_docs_df.tail()"
   ]
  },
  {
   "cell_type": "code",
   "execution_count": 45,
   "metadata": {},
   "outputs": [],
   "source": [
    "may04_topic_sizes = extract_topic_sizes(may04_docs_df)\n",
    "\n",
    "# GENERATE TOPIC METRICS\n",
    "\n",
    "# per topic - cos_min and cos_mean\n",
    "may04_cossim_df = generate_all_cossim_metrics(may04_docs_df, umap_embeddings_may04)\n",
    "\n",
    "# per topic - tier counts\n",
    "tier_metric = may04_docs_df.join(may04[[\"tier1\"]])\n",
    "\n",
    "iab_metric = tier_metric.groupby(\"Topic\").agg({\"tier1\": \n",
    "                                               'nunique'}).round(2).reset_index().rename(columns = {'tier1': \n",
    "                                                                                                    'distinct_tier1s',\n",
    "                                                                                                    'Topic':\n",
    "                                                                                                    'topic_num'})\n",
    "\n",
    "# combine topic, top words, cos and tier metrics\n",
    "topic_info_may04 = pd.merge(pd.merge(may04_topic_sizes, \n",
    "                                        may04_cossim_df, how=\"inner\", left_on=\"Topic\", right_on = \"topic_num\"), \n",
    "                               iab_metric, on = \"topic_num\", how=\"inner\")\n",
    "\n",
    "topic_info_may04.drop('Topic', axis=1, inplace=True)"
   ]
  },
  {
   "cell_type": "code",
   "execution_count": null,
   "metadata": {},
   "outputs": [],
   "source": [
    "# topic_info_may03[['cos_min', 'cos_mean', 'distinct_tier1s']].hist(figsize= (15,7))\n",
    "# plt.show()"
   ]
  },
  {
   "cell_type": "code",
   "execution_count": 46,
   "metadata": {},
   "outputs": [],
   "source": [
    "# combine natural id inside docs_df\n",
    "\n",
    "may04_docs_df = pd.merge(may04_docs_df, may04, how=\"left\", left_on=\"Doc\", right_on=\"clean_body\")\n",
    "may04_docs_df.drop(\"clean_body\", axis=1, inplace=True)\n",
    "\n",
    "# combine topic_info_may04 with topic names\n",
    "\n",
    "topic_info_may04 = pd.merge(topic_info_may04, top_n_words_df, how=\"left\", on=\"topic_num\").sort_values(\"topic_num\")"
   ]
  },
  {
   "cell_type": "code",
   "execution_count": 47,
   "metadata": {},
   "outputs": [
    {
     "data": {
      "text/html": [
       "<div>\n",
       "<style scoped>\n",
       "    .dataframe tbody tr th:only-of-type {\n",
       "        vertical-align: middle;\n",
       "    }\n",
       "\n",
       "    .dataframe tbody tr th {\n",
       "        vertical-align: top;\n",
       "    }\n",
       "\n",
       "    .dataframe thead th {\n",
       "        text-align: right;\n",
       "    }\n",
       "</style>\n",
       "<table border=\"1\" class=\"dataframe\">\n",
       "  <thead>\n",
       "    <tr style=\"text-align: right;\">\n",
       "      <th></th>\n",
       "      <th>Doc</th>\n",
       "      <th>Topic</th>\n",
       "      <th>pvs</th>\n",
       "      <th>total_timeonpage</th>\n",
       "      <th>content_natid</th>\n",
       "      <th>pub_date</th>\n",
       "      <th>title</th>\n",
       "      <th>tier1</th>\n",
       "      <th>tier2</th>\n",
       "      <th>article_length</th>\n",
       "      <th>Size</th>\n",
       "      <th>cos_min</th>\n",
       "      <th>cos_mean</th>\n",
       "      <th>distinct_tier1s</th>\n",
       "      <th>topic_words</th>\n",
       "    </tr>\n",
       "  </thead>\n",
       "  <tbody>\n",
       "    <tr>\n",
       "      <th>0</th>\n",
       "      <td>10 durable air mattresses that wont go flat on you overnight. whether youre planning on having overnight guests, camping , or just need a spot to crash temporarily while you furnish a new apartment, an air mattress is a must. but anyone whos ever...</td>\n",
       "      <td>80</td>\n",
       "      <td>214</td>\n",
       "      <td>35648</td>\n",
       "      <td>blogandpostid/blog/post/4983-603fce6d28b0df00061a762b</td>\n",
       "      <td>2021-06-08</td>\n",
       "      <td>10 Durable Air Mattresses That Won’t Go Flat On You Overnight</td>\n",
       "      <td>Home &amp; Garden</td>\n",
       "      <td>NaN</td>\n",
       "      <td>2104</td>\n",
       "      <td>24</td>\n",
       "      <td>1.0</td>\n",
       "      <td>1.0</td>\n",
       "      <td>4</td>\n",
       "      <td>pillow, memory foam, bed, sleepers, sheets, twin</td>\n",
       "    </tr>\n",
       "  </tbody>\n",
       "</table>\n",
       "</div>"
      ],
      "text/plain": [
       "                                                                                                                                                                                                                                                         Doc  \\\n",
       "0  10 durable air mattresses that wont go flat on you overnight. whether youre planning on having overnight guests, camping , or just need a spot to crash temporarily while you furnish a new apartment, an air mattress is a must. but anyone whos ever...   \n",
       "\n",
       "   Topic  pvs  total_timeonpage  \\\n",
       "0     80  214             35648   \n",
       "\n",
       "                                           content_natid    pub_date  \\\n",
       "0  blogandpostid/blog/post/4983-603fce6d28b0df00061a762b  2021-06-08   \n",
       "\n",
       "                                                           title  \\\n",
       "0  10 Durable Air Mattresses That Won’t Go Flat On You Overnight   \n",
       "\n",
       "           tier1 tier2  article_length  Size  cos_min  cos_mean  \\\n",
       "0  Home & Garden   NaN            2104    24      1.0       1.0   \n",
       "\n",
       "   distinct_tier1s                                       topic_words  \n",
       "0                4  pillow, memory foam, bed, sleepers, sheets, twin  "
      ]
     },
     "execution_count": 47,
     "metadata": {},
     "output_type": "execute_result"
    }
   ],
   "source": [
    "pred_may04_inspect = pd.merge(may04_docs_df, \n",
    "         topic_info_may04, \n",
    "         how=\"left\", \n",
    "         left_on=\"Topic\", \n",
    "         right_on = \"topic_num\").drop('topic_num', axis=1)\n",
    "\n",
    "pred_may04_inspect.head(1)"
   ]
  },
  {
   "cell_type": "code",
   "execution_count": null,
   "metadata": {},
   "outputs": [],
   "source": []
  },
  {
   "cell_type": "markdown",
   "metadata": {},
   "source": [
    "* **Predict new points/articles - May 05**"
   ]
  },
  {
   "cell_type": "code",
   "execution_count": 48,
   "metadata": {},
   "outputs": [
    {
     "name": "stdout",
     "output_type": "stream",
     "text": [
      "Training input shape: (10225, 2)\n",
      "Prediction input shape: (4160, 2)\n"
     ]
    }
   ],
   "source": [
    "# dimensionality reduction\n",
    "umap_embeddings_may05 = umap_embeddings.transform(may05_art_embed) # min_dist=0.0,\n",
    "\n",
    "print(\"Training input shape:\", umap_embeddings.embedding_.shape)\n",
    "print(\"Prediction input shape:\", umap_embeddings_may05.shape) #takes a min"
   ]
  },
  {
   "cell_type": "code",
   "execution_count": 49,
   "metadata": {},
   "outputs": [
    {
     "name": "stdout",
     "output_type": "stream",
     "text": [
      "4160\n",
      "320\n"
     ]
    }
   ],
   "source": [
    "# predict\n",
    "\n",
    "may05_test_labels, may05_strengths = hdbscan.approximate_predict(cluster, umap_embeddings_may05)\n",
    "\n",
    "print(len(may05_test_labels))\n",
    "# print(set(may05_test_labels))\n",
    "print(len(set(may05_test_labels)))"
   ]
  },
  {
   "cell_type": "code",
   "execution_count": 50,
   "metadata": {},
   "outputs": [
    {
     "name": "stdout",
     "output_type": "stream",
     "text": [
      "Distinct topics including -1 for noise 320\n",
      "\n"
     ]
    },
    {
     "data": {
      "text/html": [
       "<div>\n",
       "<style scoped>\n",
       "    .dataframe tbody tr th:only-of-type {\n",
       "        vertical-align: middle;\n",
       "    }\n",
       "\n",
       "    .dataframe tbody tr th {\n",
       "        vertical-align: top;\n",
       "    }\n",
       "\n",
       "    .dataframe thead th {\n",
       "        text-align: right;\n",
       "    }\n",
       "</style>\n",
       "<table border=\"1\" class=\"dataframe\">\n",
       "  <thead>\n",
       "    <tr style=\"text-align: right;\">\n",
       "      <th></th>\n",
       "      <th>Doc</th>\n",
       "      <th>Topic</th>\n",
       "    </tr>\n",
       "  </thead>\n",
       "  <tbody>\n",
       "    <tr>\n",
       "      <th>4155</th>\n",
       "      <td>alexander the great: gay or straight?. (one in a series of conversations between historians james romm and paul a. cartledge , editor and introduction-author, respectively, of the new landmark arrian: the campaigns of alexander , published by pan...</td>\n",
       "      <td>-1</td>\n",
       "    </tr>\n",
       "    <tr>\n",
       "      <th>4156</th>\n",
       "      <td>mark zuckerberg joins the north american man-boy love association, and other adventures in facebook groups. my colleague kashmir hill congratulated facebook's mark zuckerberg earlier today on his increasingly savvy approach to talking about priva...</td>\n",
       "      <td>51</td>\n",
       "    </tr>\n",
       "    <tr>\n",
       "      <th>4157</th>\n",
       "      <td>why reits make sense. michael gunzenhaeuser, a 59-year-old semiretired obstetrician in mansfield, ohio, has heard his share of real estate horror stories lately. friends who own rental apartments grousing about plumbers' bills and endless tenant ...</td>\n",
       "      <td>-1</td>\n",
       "    </tr>\n",
       "    <tr>\n",
       "      <th>4158</th>\n",
       "      <td>brrr!. bill clinton recently brought up the idea that we might have to slow down the u.s. economy to cut back on greenhouse emissions in order to save the planet from global warming. less prosperity will be our salvation! putting aside the former...</td>\n",
       "      <td>-1</td>\n",
       "    </tr>\n",
       "    <tr>\n",
       "      <th>4159</th>\n",
       "      <td>fact and comment. fantastic fiber future is here--but not in u.s. washington and the federal communications commission should look to south korea to see what the future could be like with true telecom deregulation. in the u.s. a t-1 line, which p...</td>\n",
       "      <td>-1</td>\n",
       "    </tr>\n",
       "  </tbody>\n",
       "</table>\n",
       "</div>"
      ],
      "text/plain": [
       "                                                                                                                                                                                                                                                            Doc  \\\n",
       "4155  alexander the great: gay or straight?. (one in a series of conversations between historians james romm and paul a. cartledge , editor and introduction-author, respectively, of the new landmark arrian: the campaigns of alexander , published by pan...   \n",
       "4156  mark zuckerberg joins the north american man-boy love association, and other adventures in facebook groups. my colleague kashmir hill congratulated facebook's mark zuckerberg earlier today on his increasingly savvy approach to talking about priva...   \n",
       "4157  why reits make sense. michael gunzenhaeuser, a 59-year-old semiretired obstetrician in mansfield, ohio, has heard his share of real estate horror stories lately. friends who own rental apartments grousing about plumbers' bills and endless tenant ...   \n",
       "4158  brrr!. bill clinton recently brought up the idea that we might have to slow down the u.s. economy to cut back on greenhouse emissions in order to save the planet from global warming. less prosperity will be our salvation! putting aside the former...   \n",
       "4159  fact and comment. fantastic fiber future is here--but not in u.s. washington and the federal communications commission should look to south korea to see what the future could be like with true telecom deregulation. in the u.s. a t-1 line, which p...   \n",
       "\n",
       "      Topic  \n",
       "4155     -1  \n",
       "4156     51  \n",
       "4157     -1  \n",
       "4158     -1  \n",
       "4159     -1  "
      ]
     },
     "execution_count": 50,
     "metadata": {},
     "output_type": "execute_result"
    }
   ],
   "source": [
    "# put topics in dataframe\n",
    "may05_docs_df = may05[['clean_body']]\n",
    "may05_docs_df.rename(columns={'clean_body':'Doc'}, inplace=True)\n",
    "may05_docs_df[\"Topic\"] = may05_test_labels\n",
    "\n",
    "print(\"Distinct topics including -1 for noise\", len(may05_docs_df.Topic.unique()))\n",
    "print()\n",
    "may05_docs_df.tail()"
   ]
  },
  {
   "cell_type": "code",
   "execution_count": 51,
   "metadata": {},
   "outputs": [],
   "source": [
    "may05_topic_sizes = extract_topic_sizes(may05_docs_df)\n",
    "\n",
    "# GENERATE TOPIC METRICS\n",
    "\n",
    "# per topic - cos_min and cos_mean\n",
    "may05_cossim_df = generate_all_cossim_metrics(may05_docs_df, umap_embeddings_may05)\n",
    "\n",
    "# per topic - tier counts\n",
    "tier_metric = may05_docs_df.join(may05[[\"tier1\"]])\n",
    "\n",
    "iab_metric = tier_metric.groupby(\"Topic\").agg({\"tier1\": \n",
    "                                               'nunique'}).round(2).reset_index().rename(columns = {'tier1': \n",
    "                                                                                                    'distinct_tier1s',\n",
    "                                                                                                    'Topic':\n",
    "                                                                                                    'topic_num'})\n",
    "\n",
    "# combine topic, top words, cos and tier metrics\n",
    "topic_info_may05 = pd.merge(pd.merge(may05_topic_sizes, \n",
    "                                        may05_cossim_df, how=\"inner\", left_on=\"Topic\", right_on = \"topic_num\"), \n",
    "                               iab_metric, on = \"topic_num\", how=\"inner\")\n",
    "\n",
    "topic_info_may05.drop('Topic', axis=1, inplace=True)"
   ]
  },
  {
   "cell_type": "code",
   "execution_count": 52,
   "metadata": {},
   "outputs": [],
   "source": [
    "# combine natural id inside docs_df\n",
    "\n",
    "may05_docs_df = pd.merge(may05_docs_df, may05, how=\"left\", left_on=\"Doc\", right_on=\"clean_body\")\n",
    "may05_docs_df.drop(\"clean_body\", axis=1, inplace=True)\n",
    "\n",
    "# combine topic_info_may03 with topic names\n",
    "\n",
    "topic_info_may05 = pd.merge(topic_info_may05, top_n_words_df, how=\"left\", on=\"topic_num\").sort_values(\"topic_num\")"
   ]
  },
  {
   "cell_type": "code",
   "execution_count": 53,
   "metadata": {},
   "outputs": [
    {
     "data": {
      "text/html": [
       "<div>\n",
       "<style scoped>\n",
       "    .dataframe tbody tr th:only-of-type {\n",
       "        vertical-align: middle;\n",
       "    }\n",
       "\n",
       "    .dataframe tbody tr th {\n",
       "        vertical-align: top;\n",
       "    }\n",
       "\n",
       "    .dataframe thead th {\n",
       "        text-align: right;\n",
       "    }\n",
       "</style>\n",
       "<table border=\"1\" class=\"dataframe\">\n",
       "  <thead>\n",
       "    <tr style=\"text-align: right;\">\n",
       "      <th></th>\n",
       "      <th>Doc</th>\n",
       "      <th>Topic</th>\n",
       "      <th>pvs</th>\n",
       "      <th>total_timeonpage</th>\n",
       "      <th>content_natid</th>\n",
       "      <th>pub_date</th>\n",
       "      <th>title</th>\n",
       "      <th>tier1</th>\n",
       "      <th>tier2</th>\n",
       "      <th>article_length</th>\n",
       "      <th>Size</th>\n",
       "      <th>cos_min</th>\n",
       "      <th>cos_mean</th>\n",
       "      <th>distinct_tier1s</th>\n",
       "      <th>topic_words</th>\n",
       "    </tr>\n",
       "  </thead>\n",
       "  <tbody>\n",
       "    <tr>\n",
       "      <th>0</th>\n",
       "      <td>10 durable air mattresses that wont go flat on you overnight. whether youre planning on having overnight guests, camping , or just need a spot to crash temporarily while you furnish a new apartment, an air mattress is a must. but anyone whos ever...</td>\n",
       "      <td>80</td>\n",
       "      <td>185</td>\n",
       "      <td>28901</td>\n",
       "      <td>blogandpostid/blog/post/4983-603fce6d28b0df00061a762b</td>\n",
       "      <td>2021-06-08</td>\n",
       "      <td>10 Durable Air Mattresses That Won’t Go Flat On You Overnight</td>\n",
       "      <td>Home &amp; Garden</td>\n",
       "      <td>NaN</td>\n",
       "      <td>2104</td>\n",
       "      <td>22</td>\n",
       "      <td>1.0</td>\n",
       "      <td>1.0</td>\n",
       "      <td>3</td>\n",
       "      <td>pillow, memory foam, bed, sleepers, sheets, twin</td>\n",
       "    </tr>\n",
       "  </tbody>\n",
       "</table>\n",
       "</div>"
      ],
      "text/plain": [
       "                                                                                                                                                                                                                                                         Doc  \\\n",
       "0  10 durable air mattresses that wont go flat on you overnight. whether youre planning on having overnight guests, camping , or just need a spot to crash temporarily while you furnish a new apartment, an air mattress is a must. but anyone whos ever...   \n",
       "\n",
       "   Topic  pvs  total_timeonpage  \\\n",
       "0     80  185             28901   \n",
       "\n",
       "                                           content_natid    pub_date  \\\n",
       "0  blogandpostid/blog/post/4983-603fce6d28b0df00061a762b  2021-06-08   \n",
       "\n",
       "                                                           title  \\\n",
       "0  10 Durable Air Mattresses That Won’t Go Flat On You Overnight   \n",
       "\n",
       "           tier1 tier2  article_length  Size  cos_min  cos_mean  \\\n",
       "0  Home & Garden   NaN            2104    22      1.0       1.0   \n",
       "\n",
       "   distinct_tier1s                                       topic_words  \n",
       "0                3  pillow, memory foam, bed, sleepers, sheets, twin  "
      ]
     },
     "execution_count": 53,
     "metadata": {},
     "output_type": "execute_result"
    }
   ],
   "source": [
    "pred_may05_inspect = pd.merge(may05_docs_df, \n",
    "         topic_info_may05, \n",
    "         how=\"left\", \n",
    "         left_on=\"Topic\", \n",
    "         right_on = \"topic_num\").drop('topic_num', axis=1)\n",
    "\n",
    "pred_may05_inspect.head(1)"
   ]
  },
  {
   "cell_type": "code",
   "execution_count": null,
   "metadata": {},
   "outputs": [],
   "source": []
  },
  {
   "cell_type": "markdown",
   "metadata": {},
   "source": [
    "* **Predict new points/articles - May 06**"
   ]
  },
  {
   "cell_type": "code",
   "execution_count": 54,
   "metadata": {},
   "outputs": [
    {
     "name": "stdout",
     "output_type": "stream",
     "text": [
      "Training input shape: (10225, 2)\n",
      "Prediction input shape: (4063, 2)\n"
     ]
    }
   ],
   "source": [
    "# dimensionality reduction\n",
    "umap_embeddings_may06 = umap_embeddings.transform(may06_art_embed) # min_dist=0.0,\n",
    "\n",
    "print(\"Training input shape:\", umap_embeddings.embedding_.shape)\n",
    "print(\"Prediction input shape:\", umap_embeddings_may06.shape) #takes a min"
   ]
  },
  {
   "cell_type": "code",
   "execution_count": 55,
   "metadata": {},
   "outputs": [
    {
     "name": "stdout",
     "output_type": "stream",
     "text": [
      "4063\n",
      "304\n"
     ]
    }
   ],
   "source": [
    "# predict\n",
    "\n",
    "may06_test_labels, may06_strengths = hdbscan.approximate_predict(cluster, umap_embeddings_may06)\n",
    "\n",
    "print(len(may06_test_labels))\n",
    "print(len(set(may06_test_labels)))"
   ]
  },
  {
   "cell_type": "code",
   "execution_count": 56,
   "metadata": {},
   "outputs": [
    {
     "name": "stdout",
     "output_type": "stream",
     "text": [
      "Distinct topics including -1 for noise 304\n",
      "\n"
     ]
    },
    {
     "data": {
      "text/html": [
       "<div>\n",
       "<style scoped>\n",
       "    .dataframe tbody tr th:only-of-type {\n",
       "        vertical-align: middle;\n",
       "    }\n",
       "\n",
       "    .dataframe tbody tr th {\n",
       "        vertical-align: top;\n",
       "    }\n",
       "\n",
       "    .dataframe thead th {\n",
       "        text-align: right;\n",
       "    }\n",
       "</style>\n",
       "<table border=\"1\" class=\"dataframe\">\n",
       "  <thead>\n",
       "    <tr style=\"text-align: right;\">\n",
       "      <th></th>\n",
       "      <th>Doc</th>\n",
       "      <th>Topic</th>\n",
       "    </tr>\n",
       "  </thead>\n",
       "  <tbody>\n",
       "    <tr>\n",
       "      <th>4058</th>\n",
       "      <td>alexander the great: gay or straight?. (one in a series of conversations between historians james romm and paul a. cartledge , editor and introduction-author, respectively, of the new landmark arrian: the campaigns of alexander , published by pan...</td>\n",
       "      <td>-1</td>\n",
       "    </tr>\n",
       "    <tr>\n",
       "      <th>4059</th>\n",
       "      <td>mark zuckerberg joins the north american man-boy love association, and other adventures in facebook groups. my colleague kashmir hill congratulated facebook's mark zuckerberg earlier today on his increasingly savvy approach to talking about priva...</td>\n",
       "      <td>51</td>\n",
       "    </tr>\n",
       "    <tr>\n",
       "      <th>4060</th>\n",
       "      <td>why reits make sense. michael gunzenhaeuser, a 59-year-old semiretired obstetrician in mansfield, ohio, has heard his share of real estate horror stories lately. friends who own rental apartments grousing about plumbers' bills and endless tenant ...</td>\n",
       "      <td>-1</td>\n",
       "    </tr>\n",
       "    <tr>\n",
       "      <th>4061</th>\n",
       "      <td>brrr!. bill clinton recently brought up the idea that we might have to slow down the u.s. economy to cut back on greenhouse emissions in order to save the planet from global warming. less prosperity will be our salvation! putting aside the former...</td>\n",
       "      <td>-1</td>\n",
       "    </tr>\n",
       "    <tr>\n",
       "      <th>4062</th>\n",
       "      <td>fact and comment. fantastic fiber future is here--but not in u.s. washington and the federal communications commission should look to south korea to see what the future could be like with true telecom deregulation. in the u.s. a t-1 line, which p...</td>\n",
       "      <td>-1</td>\n",
       "    </tr>\n",
       "  </tbody>\n",
       "</table>\n",
       "</div>"
      ],
      "text/plain": [
       "                                                                                                                                                                                                                                                            Doc  \\\n",
       "4058  alexander the great: gay or straight?. (one in a series of conversations between historians james romm and paul a. cartledge , editor and introduction-author, respectively, of the new landmark arrian: the campaigns of alexander , published by pan...   \n",
       "4059  mark zuckerberg joins the north american man-boy love association, and other adventures in facebook groups. my colleague kashmir hill congratulated facebook's mark zuckerberg earlier today on his increasingly savvy approach to talking about priva...   \n",
       "4060  why reits make sense. michael gunzenhaeuser, a 59-year-old semiretired obstetrician in mansfield, ohio, has heard his share of real estate horror stories lately. friends who own rental apartments grousing about plumbers' bills and endless tenant ...   \n",
       "4061  brrr!. bill clinton recently brought up the idea that we might have to slow down the u.s. economy to cut back on greenhouse emissions in order to save the planet from global warming. less prosperity will be our salvation! putting aside the former...   \n",
       "4062  fact and comment. fantastic fiber future is here--but not in u.s. washington and the federal communications commission should look to south korea to see what the future could be like with true telecom deregulation. in the u.s. a t-1 line, which p...   \n",
       "\n",
       "      Topic  \n",
       "4058     -1  \n",
       "4059     51  \n",
       "4060     -1  \n",
       "4061     -1  \n",
       "4062     -1  "
      ]
     },
     "execution_count": 56,
     "metadata": {},
     "output_type": "execute_result"
    }
   ],
   "source": [
    "# put topics in dataframe\n",
    "may06_docs_df = may06[['clean_body']]\n",
    "may06_docs_df.rename(columns={'clean_body':'Doc'}, inplace=True)\n",
    "may06_docs_df[\"Topic\"] = may06_test_labels\n",
    "\n",
    "print(\"Distinct topics including -1 for noise\", len(may06_docs_df.Topic.unique()))\n",
    "print()\n",
    "may06_docs_df.tail()"
   ]
  },
  {
   "cell_type": "code",
   "execution_count": 57,
   "metadata": {},
   "outputs": [],
   "source": [
    "may06_topic_sizes = extract_topic_sizes(may06_docs_df)\n",
    "\n",
    "# GENERATE TOPIC METRICS\n",
    "\n",
    "# per topic - cos_min and cos_mean\n",
    "may06_cossim_df = generate_all_cossim_metrics(may06_docs_df, umap_embeddings_may06)\n",
    "\n",
    "# per topic - tier counts\n",
    "tier_metric = may06_docs_df.join(may06[[\"tier1\"]])\n",
    "\n",
    "iab_metric = tier_metric.groupby(\"Topic\").agg({\"tier1\": \n",
    "                                               'nunique'}).round(2).reset_index().rename(columns = {'tier1': \n",
    "                                                                                                    'distinct_tier1s',\n",
    "                                                                                                    'Topic':\n",
    "                                                                                                    'topic_num'})\n",
    "\n",
    "# combine topic, top words, cos and tier metrics\n",
    "topic_info_may06 = pd.merge(pd.merge(may06_topic_sizes, \n",
    "                                        may06_cossim_df, how=\"inner\", left_on=\"Topic\", right_on = \"topic_num\"), \n",
    "                               iab_metric, on = \"topic_num\", how=\"inner\")\n",
    "\n",
    "topic_info_may06.drop('Topic', axis=1, inplace=True)"
   ]
  },
  {
   "cell_type": "code",
   "execution_count": 58,
   "metadata": {},
   "outputs": [],
   "source": [
    "# combine natural id inside docs_df\n",
    "\n",
    "may06_docs_df = pd.merge(may06_docs_df, may06, how=\"left\", left_on=\"Doc\", right_on=\"clean_body\")\n",
    "may06_docs_df.drop(\"clean_body\", axis=1, inplace=True)\n",
    "\n",
    "# combine topic_info_may03 with topic names\n",
    "\n",
    "topic_info_may06 = pd.merge(topic_info_may06, top_n_words_df, how=\"left\", on=\"topic_num\").sort_values(\"topic_num\")"
   ]
  },
  {
   "cell_type": "code",
   "execution_count": 59,
   "metadata": {},
   "outputs": [
    {
     "data": {
      "text/html": [
       "<div>\n",
       "<style scoped>\n",
       "    .dataframe tbody tr th:only-of-type {\n",
       "        vertical-align: middle;\n",
       "    }\n",
       "\n",
       "    .dataframe tbody tr th {\n",
       "        vertical-align: top;\n",
       "    }\n",
       "\n",
       "    .dataframe thead th {\n",
       "        text-align: right;\n",
       "    }\n",
       "</style>\n",
       "<table border=\"1\" class=\"dataframe\">\n",
       "  <thead>\n",
       "    <tr style=\"text-align: right;\">\n",
       "      <th></th>\n",
       "      <th>Doc</th>\n",
       "      <th>Topic</th>\n",
       "      <th>pvs</th>\n",
       "      <th>total_timeonpage</th>\n",
       "      <th>content_natid</th>\n",
       "      <th>pub_date</th>\n",
       "      <th>title</th>\n",
       "      <th>tier1</th>\n",
       "      <th>tier2</th>\n",
       "      <th>article_length</th>\n",
       "      <th>Size</th>\n",
       "      <th>cos_min</th>\n",
       "      <th>cos_mean</th>\n",
       "      <th>distinct_tier1s</th>\n",
       "      <th>topic_words</th>\n",
       "    </tr>\n",
       "  </thead>\n",
       "  <tbody>\n",
       "    <tr>\n",
       "      <th>0</th>\n",
       "      <td>11 top-rated mattresses that will give you the best sleep of your life. a good mattress is a necessity. it keeps you comfortable at night, supports your joints while you sleep and provides a welcome resting place when youre just lounging in bed. ...</td>\n",
       "      <td>80</td>\n",
       "      <td>2842</td>\n",
       "      <td>411858</td>\n",
       "      <td>blogandpostid/blog/post/4983-60086702e0ca9e00079de673</td>\n",
       "      <td>2021-06-10</td>\n",
       "      <td>11 Top-Rated Mattresses That Will Give You The Best Sleep Of Your Life</td>\n",
       "      <td>Home &amp; Garden</td>\n",
       "      <td>Interior Decorating</td>\n",
       "      <td>3016</td>\n",
       "      <td>22</td>\n",
       "      <td>1.0</td>\n",
       "      <td>1.0</td>\n",
       "      <td>5</td>\n",
       "      <td>pillow, memory foam, bed, sleepers, sheets, twin</td>\n",
       "    </tr>\n",
       "  </tbody>\n",
       "</table>\n",
       "</div>"
      ],
      "text/plain": [
       "                                                                                                                                                                                                                                                         Doc  \\\n",
       "0  11 top-rated mattresses that will give you the best sleep of your life. a good mattress is a necessity. it keeps you comfortable at night, supports your joints while you sleep and provides a welcome resting place when youre just lounging in bed. ...   \n",
       "\n",
       "   Topic   pvs  total_timeonpage  \\\n",
       "0     80  2842            411858   \n",
       "\n",
       "                                           content_natid    pub_date  \\\n",
       "0  blogandpostid/blog/post/4983-60086702e0ca9e00079de673  2021-06-10   \n",
       "\n",
       "                                                                    title  \\\n",
       "0  11 Top-Rated Mattresses That Will Give You The Best Sleep Of Your Life   \n",
       "\n",
       "           tier1                tier2  article_length  Size  cos_min  \\\n",
       "0  Home & Garden  Interior Decorating            3016    22      1.0   \n",
       "\n",
       "   cos_mean  distinct_tier1s                                       topic_words  \n",
       "0       1.0                5  pillow, memory foam, bed, sleepers, sheets, twin  "
      ]
     },
     "execution_count": 59,
     "metadata": {},
     "output_type": "execute_result"
    }
   ],
   "source": [
    "pred_may06_inspect = pd.merge(may06_docs_df, \n",
    "         topic_info_may06, \n",
    "         how=\"left\", \n",
    "         left_on=\"Topic\", \n",
    "         right_on = \"topic_num\").drop('topic_num', axis=1)\n",
    "\n",
    "pred_may06_inspect.head(1)"
   ]
  },
  {
   "cell_type": "code",
   "execution_count": 60,
   "metadata": {},
   "outputs": [
    {
     "data": {
      "text/plain": [
       "(4063, 15)"
      ]
     },
     "execution_count": 60,
     "metadata": {},
     "output_type": "execute_result"
    }
   ],
   "source": [
    "pred_may06_inspect.shape"
   ]
  },
  {
   "cell_type": "markdown",
   "metadata": {},
   "source": [
    "* **Predict new points/articles - May 07**"
   ]
  },
  {
   "cell_type": "code",
   "execution_count": 61,
   "metadata": {},
   "outputs": [
    {
     "name": "stdout",
     "output_type": "stream",
     "text": [
      "Training input shape: (10225, 2)\n",
      "Prediction input shape: (3630, 2)\n"
     ]
    }
   ],
   "source": [
    "# dimensionality reduction\n",
    "umap_embeddings_may07 = umap_embeddings.transform(may07_art_embed) # min_dist=0.0,\n",
    "\n",
    "print(\"Training input shape:\", umap_embeddings.embedding_.shape)\n",
    "print(\"Prediction input shape:\", umap_embeddings_may07.shape) #takes a min"
   ]
  },
  {
   "cell_type": "code",
   "execution_count": 62,
   "metadata": {},
   "outputs": [
    {
     "name": "stdout",
     "output_type": "stream",
     "text": [
      "3630\n",
      "299\n"
     ]
    }
   ],
   "source": [
    "# predict\n",
    "\n",
    "may07_test_labels, may07_strengths = hdbscan.approximate_predict(cluster, umap_embeddings_may07)\n",
    "\n",
    "print(len(may07_test_labels))\n",
    "print(len(set(may07_test_labels)))"
   ]
  },
  {
   "cell_type": "code",
   "execution_count": 63,
   "metadata": {},
   "outputs": [
    {
     "name": "stdout",
     "output_type": "stream",
     "text": [
      "Distinct topics including -1 for noise 299\n",
      "\n"
     ]
    },
    {
     "data": {
      "text/html": [
       "<div>\n",
       "<style scoped>\n",
       "    .dataframe tbody tr th:only-of-type {\n",
       "        vertical-align: middle;\n",
       "    }\n",
       "\n",
       "    .dataframe tbody tr th {\n",
       "        vertical-align: top;\n",
       "    }\n",
       "\n",
       "    .dataframe thead th {\n",
       "        text-align: right;\n",
       "    }\n",
       "</style>\n",
       "<table border=\"1\" class=\"dataframe\">\n",
       "  <thead>\n",
       "    <tr style=\"text-align: right;\">\n",
       "      <th></th>\n",
       "      <th>Doc</th>\n",
       "      <th>Topic</th>\n",
       "    </tr>\n",
       "  </thead>\n",
       "  <tbody>\n",
       "    <tr>\n",
       "      <th>3625</th>\n",
       "      <td>alexander the great: gay or straight?. (one in a series of conversations between historians james romm and paul a. cartledge , editor and introduction-author, respectively, of the new landmark arrian: the campaigns of alexander , published by pan...</td>\n",
       "      <td>-1</td>\n",
       "    </tr>\n",
       "    <tr>\n",
       "      <th>3626</th>\n",
       "      <td>mark zuckerberg joins the north american man-boy love association, and other adventures in facebook groups. my colleague kashmir hill congratulated facebook's mark zuckerberg earlier today on his increasingly savvy approach to talking about priva...</td>\n",
       "      <td>51</td>\n",
       "    </tr>\n",
       "    <tr>\n",
       "      <th>3627</th>\n",
       "      <td>why reits make sense. michael gunzenhaeuser, a 59-year-old semiretired obstetrician in mansfield, ohio, has heard his share of real estate horror stories lately. friends who own rental apartments grousing about plumbers' bills and endless tenant ...</td>\n",
       "      <td>-1</td>\n",
       "    </tr>\n",
       "    <tr>\n",
       "      <th>3628</th>\n",
       "      <td>brrr!. bill clinton recently brought up the idea that we might have to slow down the u.s. economy to cut back on greenhouse emissions in order to save the planet from global warming. less prosperity will be our salvation! putting aside the former...</td>\n",
       "      <td>60</td>\n",
       "    </tr>\n",
       "    <tr>\n",
       "      <th>3629</th>\n",
       "      <td>fact and comment. fantastic fiber future is here--but not in u.s. washington and the federal communications commission should look to south korea to see what the future could be like with true telecom deregulation. in the u.s. a t-1 line, which p...</td>\n",
       "      <td>293</td>\n",
       "    </tr>\n",
       "  </tbody>\n",
       "</table>\n",
       "</div>"
      ],
      "text/plain": [
       "                                                                                                                                                                                                                                                            Doc  \\\n",
       "3625  alexander the great: gay or straight?. (one in a series of conversations between historians james romm and paul a. cartledge , editor and introduction-author, respectively, of the new landmark arrian: the campaigns of alexander , published by pan...   \n",
       "3626  mark zuckerberg joins the north american man-boy love association, and other adventures in facebook groups. my colleague kashmir hill congratulated facebook's mark zuckerberg earlier today on his increasingly savvy approach to talking about priva...   \n",
       "3627  why reits make sense. michael gunzenhaeuser, a 59-year-old semiretired obstetrician in mansfield, ohio, has heard his share of real estate horror stories lately. friends who own rental apartments grousing about plumbers' bills and endless tenant ...   \n",
       "3628  brrr!. bill clinton recently brought up the idea that we might have to slow down the u.s. economy to cut back on greenhouse emissions in order to save the planet from global warming. less prosperity will be our salvation! putting aside the former...   \n",
       "3629  fact and comment. fantastic fiber future is here--but not in u.s. washington and the federal communications commission should look to south korea to see what the future could be like with true telecom deregulation. in the u.s. a t-1 line, which p...   \n",
       "\n",
       "      Topic  \n",
       "3625     -1  \n",
       "3626     51  \n",
       "3627     -1  \n",
       "3628     60  \n",
       "3629    293  "
      ]
     },
     "execution_count": 63,
     "metadata": {},
     "output_type": "execute_result"
    }
   ],
   "source": [
    "# put topics in dataframe\n",
    "may07_docs_df = may07[['clean_body']]\n",
    "may07_docs_df.rename(columns={'clean_body':'Doc'}, inplace=True)\n",
    "may07_docs_df[\"Topic\"] = may07_test_labels\n",
    "\n",
    "print(\"Distinct topics including -1 for noise\", len(may07_docs_df.Topic.unique()))\n",
    "print()\n",
    "may07_docs_df.tail()"
   ]
  },
  {
   "cell_type": "code",
   "execution_count": 64,
   "metadata": {},
   "outputs": [],
   "source": [
    "may07_topic_sizes = extract_topic_sizes(may07_docs_df)\n",
    "\n",
    "# GENERATE TOPIC METRICS\n",
    "\n",
    "# per topic - cos_min and cos_mean\n",
    "may07_cossim_df = generate_all_cossim_metrics(may07_docs_df, umap_embeddings_may07)\n",
    "\n",
    "# per topic - tier counts\n",
    "tier_metric = may07_docs_df.join(may07[[\"tier1\"]])\n",
    "\n",
    "iab_metric = tier_metric.groupby(\"Topic\").agg({\"tier1\": \n",
    "                                               'nunique'}).round(2).reset_index().rename(columns = {'tier1': \n",
    "                                                                                                    'distinct_tier1s',\n",
    "                                                                                                    'Topic':\n",
    "                                                                                                    'topic_num'})\n",
    "\n",
    "# combine topic, top words, cos and tier metrics\n",
    "topic_info_may07 = pd.merge(pd.merge(may07_topic_sizes, \n",
    "                                        may07_cossim_df, how=\"inner\", left_on=\"Topic\", right_on = \"topic_num\"), \n",
    "                               iab_metric, on = \"topic_num\", how=\"inner\")\n",
    "\n",
    "topic_info_may07.drop('Topic', axis=1, inplace=True)"
   ]
  },
  {
   "cell_type": "code",
   "execution_count": 65,
   "metadata": {},
   "outputs": [],
   "source": [
    "# combine natural id inside docs_df\n",
    "\n",
    "may07_docs_df = pd.merge(may07_docs_df, may07, how=\"left\", left_on=\"Doc\", right_on=\"clean_body\")\n",
    "may07_docs_df.drop(\"clean_body\", axis=1, inplace=True)\n",
    "\n",
    "# combine topic_info_may03 with topic names\n",
    "\n",
    "topic_info_may07 = pd.merge(topic_info_may07, top_n_words_df, how=\"left\", on=\"topic_num\").sort_values(\"topic_num\")"
   ]
  },
  {
   "cell_type": "code",
   "execution_count": 66,
   "metadata": {},
   "outputs": [
    {
     "data": {
      "text/html": [
       "<div>\n",
       "<style scoped>\n",
       "    .dataframe tbody tr th:only-of-type {\n",
       "        vertical-align: middle;\n",
       "    }\n",
       "\n",
       "    .dataframe tbody tr th {\n",
       "        vertical-align: top;\n",
       "    }\n",
       "\n",
       "    .dataframe thead th {\n",
       "        text-align: right;\n",
       "    }\n",
       "</style>\n",
       "<table border=\"1\" class=\"dataframe\">\n",
       "  <thead>\n",
       "    <tr style=\"text-align: right;\">\n",
       "      <th></th>\n",
       "      <th>Doc</th>\n",
       "      <th>Topic</th>\n",
       "      <th>pvs</th>\n",
       "      <th>total_timeonpage</th>\n",
       "      <th>content_natid</th>\n",
       "      <th>pub_date</th>\n",
       "      <th>title</th>\n",
       "      <th>tier1</th>\n",
       "      <th>tier2</th>\n",
       "      <th>article_length</th>\n",
       "      <th>Size</th>\n",
       "      <th>cos_min</th>\n",
       "      <th>cos_mean</th>\n",
       "      <th>distinct_tier1s</th>\n",
       "      <th>topic_words</th>\n",
       "    </tr>\n",
       "  </thead>\n",
       "  <tbody>\n",
       "    <tr>\n",
       "      <th>0</th>\n",
       "      <td>the best sales online right now: tatcha, best buy and more. summer doesnt officially start until june 20but thats not stopping retailers from releasing seasonal savings events. a slew of brands are either holding summer sales or offering fathers ...</td>\n",
       "      <td>79</td>\n",
       "      <td>2433</td>\n",
       "      <td>135477</td>\n",
       "      <td>blogandpostid/blog/post/4983-5f91fc0b22d6b000067a24d4</td>\n",
       "      <td>2021-06-11</td>\n",
       "      <td>The Best Sales Online Right Now: Tatcha, Best Buy and More</td>\n",
       "      <td>Shopping</td>\n",
       "      <td>Sales and Promotions</td>\n",
       "      <td>1318</td>\n",
       "      <td>8</td>\n",
       "      <td>1.0</td>\n",
       "      <td>1.0</td>\n",
       "      <td>5</td>\n",
       "      <td>tea, coffee, flash deals, bedding, free shipping, way day</td>\n",
       "    </tr>\n",
       "  </tbody>\n",
       "</table>\n",
       "</div>"
      ],
      "text/plain": [
       "                                                                                                                                                                                                                                                         Doc  \\\n",
       "0  the best sales online right now: tatcha, best buy and more. summer doesnt officially start until june 20but thats not stopping retailers from releasing seasonal savings events. a slew of brands are either holding summer sales or offering fathers ...   \n",
       "\n",
       "   Topic   pvs  total_timeonpage  \\\n",
       "0     79  2433            135477   \n",
       "\n",
       "                                           content_natid    pub_date  \\\n",
       "0  blogandpostid/blog/post/4983-5f91fc0b22d6b000067a24d4  2021-06-11   \n",
       "\n",
       "                                                        title     tier1  \\\n",
       "0  The Best Sales Online Right Now: Tatcha, Best Buy and More  Shopping   \n",
       "\n",
       "                  tier2  article_length  Size  cos_min  cos_mean  \\\n",
       "0  Sales and Promotions            1318     8      1.0       1.0   \n",
       "\n",
       "   distinct_tier1s                                                topic_words  \n",
       "0                5  tea, coffee, flash deals, bedding, free shipping, way day  "
      ]
     },
     "execution_count": 66,
     "metadata": {},
     "output_type": "execute_result"
    }
   ],
   "source": [
    "pred_may07_inspect = pd.merge(may07_docs_df, \n",
    "         topic_info_may07, \n",
    "         how=\"left\", \n",
    "         left_on=\"Topic\", \n",
    "         right_on = \"topic_num\").drop('topic_num', axis=1)\n",
    "\n",
    "pred_may07_inspect.head(1)"
   ]
  },
  {
   "cell_type": "code",
   "execution_count": 67,
   "metadata": {},
   "outputs": [
    {
     "data": {
      "text/plain": [
       "(3630, 15)"
      ]
     },
     "execution_count": 67,
     "metadata": {},
     "output_type": "execute_result"
    }
   ],
   "source": [
    "pred_may07_inspect.shape"
   ]
  },
  {
   "cell_type": "code",
   "execution_count": null,
   "metadata": {},
   "outputs": [],
   "source": []
  },
  {
   "cell_type": "code",
   "execution_count": null,
   "metadata": {},
   "outputs": [],
   "source": []
  },
  {
   "cell_type": "code",
   "execution_count": null,
   "metadata": {},
   "outputs": [],
   "source": []
  },
  {
   "cell_type": "markdown",
   "metadata": {},
   "source": [
    "### --- 1 week vs 2 week training Comparison ---"
   ]
  },
  {
   "cell_type": "markdown",
   "metadata": {},
   "source": [
    "* Training comparison\n",
    "    * 1 week - apr 26 to may 02\n",
    "    * 2 week - apr 19 to may 02\n",
    "    \n",
    "| Metrics  | Train on 1 week      |  Train on 2 week |\n",
    "| -----------| :-----------: | :-----------: |\n",
    "| Number of articles trained on | 7,238      | 10,225       |\n",
    "| Number of topics found | 323   | 386       |\n",
    "| DBCV score | 0.3  | 0.24       |\n",
    "| Clustering quality (eye-balling) | Better   | Worsened <br>  (cannabis example)    |"
   ]
  },
  {
   "cell_type": "markdown",
   "metadata": {},
   "source": [
    "### --- Noise Comparison ---\n",
    "* Prediction comparison"
   ]
  },
  {
   "cell_type": "code",
   "execution_count": 68,
   "metadata": {},
   "outputs": [
    {
     "name": "stdout",
     "output_type": "stream",
     "text": [
      "Eligible articles:\n",
      "May 3 - (4199, 15)\n",
      "May 4 - (4223, 15)\n",
      "May 5 - (4160, 15)\n",
      "May 6 - (4063, 15)\n",
      "May 7 - (3630, 15)\n"
     ]
    }
   ],
   "source": [
    "print(\"Eligible articles:\")\n",
    "print(\"May 3 -\", pred_may03_inspect.shape)\n",
    "print(\"May 4 -\", pred_may04_inspect.shape)\n",
    "print(\"May 5 -\", pred_may05_inspect.shape)\n",
    "print(\"May 6 -\", pred_may06_inspect.shape)\n",
    "print(\"May 7 -\", pred_may07_inspect.shape)"
   ]
  },
  {
   "cell_type": "code",
   "execution_count": 70,
   "metadata": {},
   "outputs": [],
   "source": [
    "wk1_may03 = pd.read_csv(results_path + \"MOD_may03pred_7daytrain.csv\")\n",
    "wk1_may04 = pd.read_csv(results_path + \"MOD_may04pred_7daytrain.csv\")\n",
    "wk1_may05 = pd.read_csv(results_path + \"MOD_may05pred_7daytrain.csv\")\n",
    "wk1_may06 = pd.read_csv(results_path + \"MOD_may06pred_7daytrain.csv\")\n",
    "wk1_may07 = pd.read_csv(results_path + \"MOD_may07pred_7daytrain.csv\")"
   ]
  },
  {
   "cell_type": "code",
   "execution_count": 74,
   "metadata": {},
   "outputs": [
    {
     "name": "stdout",
     "output_type": "stream",
     "text": [
      "--- 1 week training ---\n",
      "\n",
      "Number of Topics assigned:\n",
      "May 3 - 310\n",
      "May 4 - 298\n",
      "May 5 - 311\n",
      "May 6 - 292\n",
      "May 7 - 287\n"
     ]
    }
   ],
   "source": [
    "print(\"--- 1 week training ---\")\n",
    "print()\n",
    "print(\"Number of Topics assigned:\")\n",
    "print(\"May 3 -\",len(wk1_may03.Topic.unique()))\n",
    "print(\"May 4 -\",len(wk1_may04.Topic.unique()))\n",
    "print(\"May 5 -\",len(wk1_may05.Topic.unique()))\n",
    "print(\"May 6 -\",len(wk1_may06.Topic.unique()))\n",
    "print(\"May 7 -\",len(wk1_may07.Topic.unique()))"
   ]
  },
  {
   "cell_type": "code",
   "execution_count": 76,
   "metadata": {},
   "outputs": [
    {
     "name": "stdout",
     "output_type": "stream",
     "text": [
      "--- 2 week training ---\n",
      "\n",
      "Number of Topics assigned:\n",
      "May 3 - 316\n",
      "May 4 - 326\n",
      "May 5 - 320\n",
      "May 6 - 304\n",
      "May 7 - 299\n"
     ]
    }
   ],
   "source": [
    "print(\"--- 2 week training ---\")\n",
    "print()\n",
    "print(\"Number of Topics assigned:\")\n",
    "print(\"May 3 -\",len(pred_may03_inspect.Topic.unique()))\n",
    "print(\"May 4 -\",len(pred_may04_inspect.Topic.unique()))\n",
    "print(\"May 5 -\",len(pred_may05_inspect.Topic.unique()))\n",
    "print(\"May 6 -\",len(pred_may06_inspect.Topic.unique()))\n",
    "print(\"May 7 -\",len(pred_may07_inspect.Topic.unique()))"
   ]
  },
  {
   "cell_type": "code",
   "execution_count": null,
   "metadata": {},
   "outputs": [],
   "source": []
  },
  {
   "cell_type": "code",
   "execution_count": 78,
   "metadata": {},
   "outputs": [
    {
     "name": "stdout",
     "output_type": "stream",
     "text": [
      "--- 2 week training ---\n",
      "\n",
      "Percentage of articles classified as NOISE - \n",
      "May 3 - 52\n",
      "May 4 - 51\n",
      "May 5 - 52\n",
      "May 6 - 52\n",
      "May 7 - 53\n"
     ]
    }
   ],
   "source": [
    "print(\"--- 2 week training ---\")\n",
    "print()\n",
    "print(\"Percentage of articles classified as NOISE - \")\n",
    "print(\"May 3 -\",round(pred_may03_inspect[pred_may03_inspect.Topic==-1].shape[0]/pred_may03_inspect.shape[0]*100))\n",
    "print(\"May 4 -\",round(pred_may04_inspect[pred_may04_inspect.Topic==-1].shape[0]/pred_may04_inspect.shape[0]*100))\n",
    "print(\"May 5 -\",round(pred_may05_inspect[pred_may05_inspect.Topic==-1].shape[0]/pred_may05_inspect.shape[0]*100))\n",
    "print(\"May 6 -\",round(pred_may06_inspect[pred_may06_inspect.Topic==-1].shape[0]/pred_may06_inspect.shape[0]*100))\n",
    "print(\"May 7 -\",round(pred_may07_inspect[pred_may07_inspect.Topic==-1].shape[0]/pred_may07_inspect.shape[0]*100))\n",
    "# with minsample=5, noise percentage is 49-51"
   ]
  },
  {
   "cell_type": "code",
   "execution_count": null,
   "metadata": {},
   "outputs": [],
   "source": [
    "# --- 1 week training --- Percentage of articles classified as NOISE - average 40-45%"
   ]
  },
  {
   "cell_type": "markdown",
   "metadata": {},
   "source": [
    "* **May 03 -** Inspect noise articles using both methods"
   ]
  },
  {
   "cell_type": "code",
   "execution_count": 85,
   "metadata": {},
   "outputs": [
    {
     "name": "stdout",
     "output_type": "stream",
     "text": [
      "May 3 - 1 week trained\n",
      "Number of noise articles 1784 Total articles 4199\n",
      "\n",
      "May 3 - 2 week trained\n",
      "Number of noise articles 2179 Total articles 4199\n"
     ]
    }
   ],
   "source": [
    "print(\"May 3 - 1 week trained\")\n",
    "print(\"Number of noise articles\" , wk1_may03[wk1_may03.Topic==-1].shape[0] , \"Total articles\" , wk1_may03.shape[0])\n",
    "print()\n",
    "wk2=pred_may03_inspect.copy()\n",
    "print(\"May 3 - 2 week trained\")\n",
    "print(\"Number of noise articles\" , wk2[wk2.Topic==-1].shape[0] , \"Total articles\" , wk2.shape[0])"
   ]
  },
  {
   "cell_type": "code",
   "execution_count": null,
   "metadata": {},
   "outputs": [],
   "source": []
  },
  {
   "cell_type": "code",
   "execution_count": 108,
   "metadata": {},
   "outputs": [
    {
     "name": "stdout",
     "output_type": "stream",
     "text": [
      "Number of noise articles in 2-week training\n",
      " (2179, 15)\n",
      "\n",
      "Number of labelled articles in 1-week training which were mislabelled as noise in 2 week training\n",
      " (1040, 15)\n"
     ]
    }
   ],
   "source": [
    "wk2_noise = wk2[wk2.Topic==-1].index\n",
    "wk2noise_inwk1 = wk1[wk1.index.isin(wk2_noise)]\n",
    "print(\"Number of noise articles in 2-week training\\n\", wk2noise_inwk1.shape)\n",
    "print()\n",
    "print(\"Number of noise articles in 2-week training which were correctly labelled articles in 1-week training \\n\",\n",
    "     wk2noise_inwk1[wk2noise_inwk1.Topic!=-1].shape)\n",
    "\n",
    "# wk1_noise = wk1[wk1.Topic==-1].index\n",
    "\n",
    "# wk1noise_inwk2 = wk2[wk2.index.isin(wk1_noise)]\n",
    "# print(wk1noise_inwk2.shape)\n",
    "\n",
    "# wk1noise_inwk2[wk1noise_inwk2.Topic!=-1].shape"
   ]
  },
  {
   "attachments": {
    "image.png": {
     "image/png": "[encoded data removed]"
    }
   },
   "cell_type": "markdown",
   "metadata": {},
   "source": [
    "![image.png](attachment:image.png)"
   ]
  },
  {
   "cell_type": "code",
   "execution_count": null,
   "metadata": {},
   "outputs": [],
   "source": [
    "# why this is happening - some authors just publish 1 article or very less. they might not belong to any specific topic. including more data (2week vs 1) might be pulling more of such articles\n",
    "# essentially adding noise\n",
    "# plus looks like the nature of algorithm creates disadvantage when smaller similar clusters are formed using more data points "
   ]
  },
  {
   "cell_type": "code",
   "execution_count": null,
   "metadata": {},
   "outputs": [],
   "source": [
    "# proposal - go ahead with 1 week, in future if better solutions for handling noise are found - include it in version 2"
   ]
  },
  {
   "cell_type": "code",
   "execution_count": null,
   "metadata": {},
   "outputs": [],
   "source": []
  },
  {
   "cell_type": "code",
   "execution_count": null,
   "metadata": {},
   "outputs": [],
   "source": []
  },
  {
   "cell_type": "code",
   "execution_count": null,
   "metadata": {},
   "outputs": [],
   "source": []
  },
  {
   "cell_type": "markdown",
   "metadata": {},
   "source": [
    "* **Week-over-week EDA**"
   ]
  },
  {
   "cell_type": "code",
   "execution_count": 70,
   "metadata": {
    "collapsed": true,
    "jupyter": {
     "outputs_hidden": true
    }
   },
   "outputs": [
    {
     "name": "stdout",
     "output_type": "stream",
     "text": [
      "(7179, 11)\n",
      "7179\n",
      "Duplicates?  False\n",
      "(30070, 9)\n",
      "30070\n",
      "(7506, 9)\n",
      "False\n",
      "7506\n",
      "\n",
      "(7179, 11)\n",
      "(7506, 9)\n"
     ]
    }
   ],
   "source": [
    "week1_df = apr19_apr24.copy()\n",
    "week1_art_emebds = apr19_apr24_art_embed\n",
    "print(week1_df.shape)\n",
    "print(len(week1_art_emebds))\n",
    "print('Duplicates? ', week1_df.content_natid.duplicated(keep='first').any())\n",
    "\n",
    "# concatenate week 2 dfs\n",
    "\n",
    "week2_df = pd.concat([apr25, apr26, apr27, apr28, apr29, apr30, may01, may02])\n",
    "# reset index\n",
    "week2_df = week2_df.reset_index(drop=True)\n",
    "# drop unnecessary cols\n",
    "week2_df.drop([\"processed\", \"processed_noun\", \"processed_noun_2\"], axis = 1, inplace=True)\n",
    "# fill na\n",
    "week2_df.tier2 = week2_df.tier2.fillna('Other')\n",
    "week2_df.total_timeonpage = week2_df.total_timeonpage.fillna(0)\n",
    "print(week2_df.shape)\n",
    "\n",
    "# concatenate embeds\n",
    "week2_art_emebds = apr25_art_embed + apr26_art_embed + apr27_art_embed + apr28_art_embed + apr29_art_embed + apr30_art_embed + may01_art_embed + may02_art_embed\n",
    "print(len(week2_art_emebds))\n",
    "\n",
    "# drop duplicates from df\n",
    "\n",
    "week2_df.drop_duplicates(subset=\"content_natid\", keep='first', inplace=True)\n",
    "\n",
    "print(week2_df.shape)\n",
    "print(week2_df.content_natid.duplicated(keep='first').any())\n",
    "\n",
    "week2_art_emebds =  [week2_art_emebds[i] for i in list(week2_df.index)]\n",
    "print(len(week2_art_emebds))\n",
    "\n",
    "print()\n",
    "print(week1_df.shape)\n",
    "print(week2_df.shape)"
   ]
  },
  {
   "cell_type": "code",
   "execution_count": 71,
   "metadata": {
    "collapsed": true,
    "jupyter": {
     "outputs_hidden": true
    }
   },
   "outputs": [
    {
     "name": "stdout",
     "output_type": "stream",
     "text": [
      "week1 read in week2 (4460, 11)\n",
      "week1 not read in week2 (2719, 11)\n",
      "week2 read in past week1 (4460, 9)\n",
      "week2 not read in past week1 (3046, 9)\n"
     ]
    }
   ],
   "source": [
    "# almost half articles from week1 also read in week2\n",
    "print('week1 read in week2', week1_df[week1_df.content_natid.isin(week2_df.content_natid)].shape)\n",
    "print('week1 not read in week2', week1_df[~week1_df.content_natid.isin(week2_df.content_natid)].shape)\n",
    "\n",
    "# almost half articles from week1 also read in week2\n",
    "print('week2 read in past week1', week2_df[week2_df.content_natid.isin(week1_df.content_natid)].shape)\n",
    "print('week2 not read in past week1',week2_df[~week2_df.content_natid.isin(week1_df.content_natid)].shape)"
   ]
  },
  {
   "cell_type": "code",
   "execution_count": 83,
   "metadata": {},
   "outputs": [
    {
     "name": "stdout",
     "output_type": "stream",
     "text": [
      "week-(t-1) in may03:  (2874, 11)\n",
      "week-(t-1) in may04:  (2811, 11)\n",
      "week-(t-1) in may05:  (2727, 11)\n",
      "week-(t-1) in may06:  (2569, 11)\n",
      "week-(t-1) in may07:  (2255, 11)\n"
     ]
    }
   ],
   "source": [
    "print('week-(t-1) in may03: ', week1_df[week1_df.content_natid.isin(may03.content_natid)].shape)\n",
    "print('week-(t-1) in may04: ', week1_df[week1_df.content_natid.isin(may04.content_natid)].shape)\n",
    "print('week-(t-1) in may05: ', week1_df[week1_df.content_natid.isin(may05.content_natid)].shape)\n",
    "print('week-(t-1) in may06: ', week1_df[week1_df.content_natid.isin(may06.content_natid)].shape)\n",
    "print('week-(t-1) in may07: ', week1_df[week1_df.content_natid.isin(may07.content_natid)].shape)"
   ]
  },
  {
   "cell_type": "code",
   "execution_count": 84,
   "metadata": {},
   "outputs": [
    {
     "name": "stdout",
     "output_type": "stream",
     "text": [
      "week-t in may03:  (3688, 9)\n",
      "week-t in may04:  (3357, 9)\n",
      "week-t in may05:  (3130, 9)\n",
      "week-t in may06:  (2919, 9)\n",
      "week-t in may07:  (2553, 9)\n"
     ]
    }
   ],
   "source": [
    "print('week-t in may03: ', week2_df[week2_df.content_natid.isin(may03.content_natid)].shape)\n",
    "print('week-t in may04: ', week2_df[week2_df.content_natid.isin(may04.content_natid)].shape)\n",
    "print('week-t in may05: ', week2_df[week2_df.content_natid.isin(may05.content_natid)].shape)\n",
    "print('week-t in may06: ', week2_df[week2_df.content_natid.isin(may06.content_natid)].shape)\n",
    "print('week-t in may07: ', week2_df[week2_df.content_natid.isin(may07.content_natid)].shape)"
   ]
  },
  {
   "cell_type": "code",
   "execution_count": null,
   "metadata": {},
   "outputs": [],
   "source": []
  },
  {
   "cell_type": "code",
   "execution_count": null,
   "metadata": {},
   "outputs": [],
   "source": []
  },
  {
   "cell_type": "code",
   "execution_count": null,
   "metadata": {},
   "outputs": [],
   "source": []
  },
  {
   "cell_type": "code",
   "execution_count": null,
   "metadata": {},
   "outputs": [],
   "source": []
  }
 ],
 "metadata": {
  "environment": {
   "name": "tf2-2-3-gpu.2-3.m59",
   "type": "gcloud",
   "uri": "gcr.io/deeplearning-platform-release/tf2-2-3-gpu.2-3:m59"
  },
  "kernelspec": {
   "display_name": "topics-env-latest",
   "language": "python",
   "name": "topics-env-latest"
  },
  "language_info": {
   "codemirror_mode": {
    "name": "ipython",
    "version": 3
   },
   "file_extension": ".py",
   "mimetype": "text/x-python",
   "name": "python",
   "nbconvert_exporter": "python",
   "pygments_lexer": "ipython3",
   "version": "3.7.8"
  }
 },
 "nbformat": 4,
 "nbformat_minor": 4
}
