{
 "cells": [
  {
   "cell_type": "markdown",
   "metadata": {},
   "source": [
    "**Data product options:**\n",
    "* Technique 1 - unique articles published\n",
    "    * Every Monday morning TRAIN on unique articles published in last 7 days (On May 3, take articles pub between Apr26-May2). Purpose - to get model files\n",
    "    * Every night PREDICT on articles published during day for 7 days (May3-May 9 will get topics from above model). Purpose - to get topic labels for each article\n",
    "    * Caveat - We are training on articles which already have labels (through prediction). And training and prediction labels may differ\n",
    "    * Verdict - complicated and prone to discrepancies\n",
    "    \n",
    "* Technique 1 - unique articles published (simplified)\n",
    "    * \n",
    "\n",
    "* Technique 2 - every week train on few days\n",
    "    * Every Wednesday night, TRAIN on articles read with >100 pvs. \n",
    "    * "
   ]
  },
  {
   "cell_type": "code",
   "execution_count": 1,
   "metadata": {},
   "outputs": [],
   "source": [
    "\"\"\" Helper imports\"\"\"\n",
    "import re\n",
    "import joblib\n",
    "import pandas as pd\n",
    "import numpy as np\n",
    "from time import time\n",
    "from nltk.tokenize import sent_tokenize\n",
    "from joblib import Parallel, delayed\n",
    "from sklearn.metrics.pairwise import cosine_similarity\n",
    "\n",
    "\"\"\"Modeling imports\"\"\"\n",
    "from sklearn.decomposition import NMF\n",
    "from sklearn.feature_extraction.text import TfidfVectorizer\n",
    "from sklearn.feature_extraction.text import CountVectorizer\n",
    "from gensim.models.coherencemodel import CoherenceModel\n",
    "from gensim.corpora.dictionary import Dictionary\n",
    "from gensim.models.nmf import Nmf\n",
    "\n",
    "\"\"\" Plotting imports\"\"\"\n",
    "import matplotlib.pyplot as plt\n",
    "%matplotlib inline\n",
    "import seaborn as sns\n",
    "sns.set_style('darkgrid')\n",
    "\n",
    "# remove this later\n",
    "pd.set_option('max_colwidth', 110)\n",
    "import warnings\n",
    "warnings.filterwarnings('ignore')"
   ]
  },
  {
   "cell_type": "markdown",
   "metadata": {},
   "source": [
    "### Competitor research:\n",
    "* WSJ uses HDBSCAN - https://medium.com/the-wall-street-journal/staying-on-topic-building-an-automated-topic-model-of-wsj-news-coverage-d4dc4369f71b"
   ]
  },
  {
   "cell_type": "code",
   "execution_count": 2,
   "metadata": {},
   "outputs": [],
   "source": [
    "from src.util import (c_tf_idf, \n",
    "                      extract_top_n_words_per_topic,\n",
    "                      extract_topic_sizes,\n",
    "                      topic_cos_sim_metrics,\n",
    "                      generate_all_cossim_metrics)"
   ]
  },
  {
   "cell_type": "code",
   "execution_count": 3,
   "metadata": {},
   "outputs": [],
   "source": [
    "import umap\n",
    "import hdbscan\n",
    "from sentence_transformers import SentenceTransformer\n",
    "from hdbscan import validity_index"
   ]
  },
  {
   "cell_type": "code",
   "execution_count": 4,
   "metadata": {},
   "outputs": [
    {
     "data": {
      "text/plain": [
       "True"
      ]
     },
     "execution_count": 4,
     "metadata": {},
     "output_type": "execute_result"
    }
   ],
   "source": [
    "data_path = '/home/jupyter/bi-topic-modeling/data/' \n",
    "\n",
    "STOP_WORDS = pd.read_pickle(data_path + 'forbes_stop_words.pkl')\n",
    "\"q1\" in STOP_WORDS"
   ]
  },
  {
   "cell_type": "code",
   "execution_count": 5,
   "metadata": {},
   "outputs": [],
   "source": [
    "results_path = '/home/jupyter/bi-topic-modeling/results/' \n",
    "SEED = 42"
   ]
  },
  {
   "cell_type": "markdown",
   "metadata": {},
   "source": [
    "### --- Input data ---\n",
    "\n",
    "* Articles read on Apr 25 with over 100 pvs"
   ]
  },
  {
   "cell_type": "code",
   "execution_count": 6,
   "metadata": {},
   "outputs": [
    {
     "name": "stdout",
     "output_type": "stream",
     "text": [
      "Shape: (3334, 10)\n",
      "Unique tiers: 31\n"
     ]
    }
   ],
   "source": [
    "df = pd.read_csv(data_path + 'processed/train_apr25_over100pvs_processed.csv')\n",
    "\n",
    "print(\"Shape:\", df.shape)\n",
    "print(\"Unique tiers:\", len(df.tier1.unique()))"
   ]
  },
  {
   "cell_type": "markdown",
   "metadata": {},
   "source": [
    "* Per verdict from EDA, will be excluding articles less than 100 words"
   ]
  },
  {
   "cell_type": "code",
   "execution_count": 7,
   "metadata": {},
   "outputs": [
    {
     "name": "stdout",
     "output_type": "stream",
     "text": [
      "Shape (3327, 11)\n"
     ]
    }
   ],
   "source": [
    "df[\"article_length\"] = df.clean_body.str.split().apply(len)\n",
    "df = df[df[\"article_length\"]>=100]\n",
    "print(\"Shape\", df.shape)\n",
    "df.tier1 = df.tier1.fillna('Other')\n",
    "df = df.reset_index(drop=True)"
   ]
  },
  {
   "cell_type": "markdown",
   "metadata": {},
   "source": [
    "### --- Modeling ---"
   ]
  },
  {
   "cell_type": "markdown",
   "metadata": {},
   "source": [
    "**Generate embeddings**"
   ]
  },
  {
   "cell_type": "code",
   "execution_count": 28,
   "metadata": {},
   "outputs": [
    {
     "name": "stdout",
     "output_type": "stream",
     "text": [
      "3327\n"
     ]
    }
   ],
   "source": [
    "data = df.clean_body.tolist()\n",
    "print(len(data))"
   ]
  },
  {
   "cell_type": "code",
   "execution_count": 29,
   "metadata": {},
   "outputs": [],
   "source": [
    "article_embeddings = joblib.load(\"./data/processed/apr25_article_embed_axis0.joblib\")"
   ]
  },
  {
   "cell_type": "code",
   "execution_count": 30,
   "metadata": {},
   "outputs": [],
   "source": [
    "# SETTINGS - umap:n_neighbors=15, n_components=5, hdbscan min_cluster_size=5, input = sentences aggregated to full article\n",
    "\n",
    "# dimensionality reduction\n",
    "umap_embeddings = umap.UMAP(n_neighbors=15, \n",
    "                            n_components=5, \n",
    "                            metric='cosine',\n",
    "                            random_state = SEED).fit(article_embeddings) # min_dist=0.0,"
   ]
  },
  {
   "cell_type": "code",
   "execution_count": 31,
   "metadata": {},
   "outputs": [],
   "source": [
    "# cluster\n",
    "cluster = hdbscan.HDBSCAN(min_cluster_size=5,\n",
    "                      metric= 'euclidean',                      \n",
    "                      cluster_selection_method='eom',\n",
    "                      prediction_data=True).fit(umap_embeddings.embedding_)"
   ]
  },
  {
   "cell_type": "code",
   "execution_count": 32,
   "metadata": {},
   "outputs": [
    {
     "name": "stdout",
     "output_type": "stream",
     "text": [
      "Shape of training embeddings: (3327, 5)\n"
     ]
    }
   ],
   "source": [
    "# 3327 articles compressed to 5 components\n",
    "\n",
    "print(\"Shape of training embeddings:\", umap_embeddings.embedding_.shape)"
   ]
  },
  {
   "cell_type": "code",
   "execution_count": 14,
   "metadata": {},
   "outputs": [
    {
     "name": "stdout",
     "output_type": "stream",
     "text": [
      "Settings - mean axis=0\n"
     ]
    },
    {
     "data": {
      "text/plain": [
       "0.3250975412699008"
      ]
     },
     "execution_count": 14,
     "metadata": {},
     "output_type": "execute_result"
    }
   ],
   "source": [
    "labels = cluster.labels_\n",
    "print(\"Settings - mean axis=0\")\n",
    "validity_index(umap_embeddings.embedding_.astype('double'), labels)"
   ]
  },
  {
   "cell_type": "code",
   "execution_count": 34,
   "metadata": {},
   "outputs": [
    {
     "name": "stdout",
     "output_type": "stream",
     "text": [
      "Distinct topics including -1 for noise 111\n",
      "\n"
     ]
    },
    {
     "data": {
      "text/html": [
       "<div>\n",
       "<style scoped>\n",
       "    .dataframe tbody tr th:only-of-type {\n",
       "        vertical-align: middle;\n",
       "    }\n",
       "\n",
       "    .dataframe tbody tr th {\n",
       "        vertical-align: top;\n",
       "    }\n",
       "\n",
       "    .dataframe thead th {\n",
       "        text-align: right;\n",
       "    }\n",
       "</style>\n",
       "<table border=\"1\" class=\"dataframe\">\n",
       "  <thead>\n",
       "    <tr style=\"text-align: right;\">\n",
       "      <th></th>\n",
       "      <th>Doc</th>\n",
       "      <th>Topic</th>\n",
       "      <th>Doc_ID</th>\n",
       "    </tr>\n",
       "  </thead>\n",
       "  <tbody>\n",
       "    <tr>\n",
       "      <th>0</th>\n",
       "      <td>wayfairs biggest sale of the year is officially here. thanks to the pandemic, most of us have spent the pa...</td>\n",
       "      <td>-1</td>\n",
       "      <td>0</td>\n",
       "    </tr>\n",
       "    <tr>\n",
       "      <th>1</th>\n",
       "      <td>10 robot vacuums that clean so you dont have to. if youre like most people, vacuuming is low on your list ...</td>\n",
       "      <td>-1</td>\n",
       "      <td>1</td>\n",
       "    </tr>\n",
       "    <tr>\n",
       "      <th>2</th>\n",
       "      <td>these 11 mattress toppers give you the bed of your dreams. while new pillows or a new set of sheets can do...</td>\n",
       "      <td>24</td>\n",
       "      <td>2</td>\n",
       "    </tr>\n",
       "    <tr>\n",
       "      <th>3</th>\n",
       "      <td>these 10 cozy down alternative comforters make your bed feel extra luxurious. your bed should be your safe...</td>\n",
       "      <td>24</td>\n",
       "      <td>3</td>\n",
       "    </tr>\n",
       "    <tr>\n",
       "      <th>4</th>\n",
       "      <td>the wnba turns 25. what will viewership trends mean for the future?. twenty-five years ago, the national b...</td>\n",
       "      <td>52</td>\n",
       "      <td>4</td>\n",
       "    </tr>\n",
       "    <tr>\n",
       "      <th>...</th>\n",
       "      <td>...</td>\n",
       "      <td>...</td>\n",
       "      <td>...</td>\n",
       "    </tr>\n",
       "    <tr>\n",
       "      <th>3322</th>\n",
       "      <td>friends do not let friends become chinese billionaires. update: chinese nationals are not the only ones ge...</td>\n",
       "      <td>-1</td>\n",
       "      <td>3322</td>\n",
       "    </tr>\n",
       "    <tr>\n",
       "      <th>3323</th>\n",
       "      <td>how do you change an organizational culture?. changing an organizations culture is one of the most difficu...</td>\n",
       "      <td>-1</td>\n",
       "      <td>3323</td>\n",
       "    </tr>\n",
       "    <tr>\n",
       "      <th>3324</th>\n",
       "      <td>three ways to keep those secret purchases secret. not everything in life is meant to be aired in public, a...</td>\n",
       "      <td>-1</td>\n",
       "      <td>3324</td>\n",
       "    </tr>\n",
       "    <tr>\n",
       "      <th>3325</th>\n",
       "      <td>alexander the great: gay or straight?. (one in a series of conversations between historians james romm and...</td>\n",
       "      <td>-1</td>\n",
       "      <td>3325</td>\n",
       "    </tr>\n",
       "    <tr>\n",
       "      <th>3326</th>\n",
       "      <td>mark zuckerberg joins the north american man-boy love association, and other adventures in facebook groups...</td>\n",
       "      <td>-1</td>\n",
       "      <td>3326</td>\n",
       "    </tr>\n",
       "  </tbody>\n",
       "</table>\n",
       "<p>3327 rows × 3 columns</p>\n",
       "</div>"
      ],
      "text/plain": [
       "                                                                                                                Doc  \\\n",
       "0     wayfairs biggest sale of the year is officially here. thanks to the pandemic, most of us have spent the pa...   \n",
       "1     10 robot vacuums that clean so you dont have to. if youre like most people, vacuuming is low on your list ...   \n",
       "2     these 11 mattress toppers give you the bed of your dreams. while new pillows or a new set of sheets can do...   \n",
       "3     these 10 cozy down alternative comforters make your bed feel extra luxurious. your bed should be your safe...   \n",
       "4     the wnba turns 25. what will viewership trends mean for the future?. twenty-five years ago, the national b...   \n",
       "...                                                                                                             ...   \n",
       "3322  friends do not let friends become chinese billionaires. update: chinese nationals are not the only ones ge...   \n",
       "3323  how do you change an organizational culture?. changing an organizations culture is one of the most difficu...   \n",
       "3324  three ways to keep those secret purchases secret. not everything in life is meant to be aired in public, a...   \n",
       "3325  alexander the great: gay or straight?. (one in a series of conversations between historians james romm and...   \n",
       "3326  mark zuckerberg joins the north american man-boy love association, and other adventures in facebook groups...   \n",
       "\n",
       "      Topic  Doc_ID  \n",
       "0        -1       0  \n",
       "1        -1       1  \n",
       "2        24       2  \n",
       "3        24       3  \n",
       "4        52       4  \n",
       "...     ...     ...  \n",
       "3322     -1    3322  \n",
       "3323     -1    3323  \n",
       "3324     -1    3324  \n",
       "3325     -1    3325  \n",
       "3326     -1    3326  \n",
       "\n",
       "[3327 rows x 3 columns]"
      ]
     },
     "execution_count": 34,
     "metadata": {},
     "output_type": "execute_result"
    }
   ],
   "source": [
    "# put topics in dataframe\n",
    "docs_df = pd.DataFrame(data, columns=[\"Doc\"])\n",
    "docs_df['Topic'] = cluster.labels_\n",
    "docs_df['Doc_ID'] = range(len(docs_df))\n",
    "\n",
    "print(\"Distinct topics including -1 for noise\", len(docs_df.Topic.unique()))\n",
    "print()\n",
    "docs_df"
   ]
  },
  {
   "cell_type": "code",
   "execution_count": 35,
   "metadata": {},
   "outputs": [],
   "source": [
    "# combine together all articles belonging to same cluster  \n",
    "docs_per_topic = docs_df.groupby(['Topic'], as_index = False).agg({'Doc': ' '.join})\n",
    "\n",
    "# calculate countVector and tf-idf\n",
    "tf_idf, count = c_tf_idf(docs_per_topic.Doc.values, m=len(data))\n",
    "\n",
    "# top n words, topic size\n",
    "top_n_words = extract_top_n_words_per_topic(tf_idf, count, docs_per_topic, n=20)\n",
    "topic_sizes = extract_topic_sizes(docs_df); \n",
    "\n",
    "# modify top_n_words per topic dict into dataframe for presentation\n",
    "topic_words_dict = {}  \n",
    "\n",
    "for k, v in top_n_words.items():\n",
    "    topic_words_dict[k] = \", \".join([elem[0] for elem in v])\n",
    "\n",
    "pd.set_option(\"max_colwidth\", 250)\n",
    "top_n_words_df = pd.DataFrame.from_dict(topic_words_dict, \n",
    "                                        orient='index').reset_index().rename(columns={'index':'topic_num',\n",
    "                                                                                      \n",
    "                                                                                      0:'top_20_words'}) "
   ]
  },
  {
   "cell_type": "code",
   "execution_count": 36,
   "metadata": {},
   "outputs": [
    {
     "name": "stdout",
     "output_type": "stream",
     "text": [
      "keyword time 0.0001826047897338867\n"
     ]
    }
   ],
   "source": [
    "# clean keywords\n",
    "\n",
    "from collections import OrderedDict\n",
    "# from fuzzywuzzy import process, fuzz\n",
    "from itertools import chain\n",
    "\n",
    "import time\n",
    "start = time.time()\n",
    "\n",
    "clean_keys = []\n",
    "for index, row in top_n_words_df.iterrows(): \n",
    "    \n",
    "    # remove STOP WORDS and remove whitespaces\n",
    "    inter_list = [x.strip() for x in row[\"top_20_words\"].split(\",\") if x not in STOP_WORDS]\n",
    "    \n",
    "    # remove numbers but not alphanumerics e.g. remove 400, not ps4 \n",
    "    inter_list = [x for x in inter_list if not x.isnumeric()]\n",
    "    \n",
    "    # remove subset-based similar words - e.g. 'pcr tests' and 'tests' then 'tests' will be removed\n",
    "    inter_list = [i for i in inter_list if not any(i in x and i!=x for x in inter_list)]\n",
    "    \n",
    "    # not fuzzy matching\n",
    "    #     if(len(inter_list)>15):\n",
    "#         # remove similar words using fuzzy match with score>85 - e.g. 'student loans' and 'student loan debt'\n",
    "#         matches_to_remove = []\n",
    "#         for i in range(len(inter_list)):\n",
    "#             process_match = process.extract(inter_list[i], inter_list, scorer=fuzz.partial_ratio) # match every word with other word\n",
    "#             filter_match = [x for x in process_match if x[1]>85 and x[1]<100] \n",
    "#             matches_to_remove.append([x[0] for x in filter_match])\n",
    "#         matches_to_remove_list = list(set(list(chain(*matches_to_remove))))\n",
    "#         inter_list = [x for x in inter_list if x not in matches_to_remove_list]\n",
    "\n",
    "    # remove empty or 1-letter words\n",
    "    inter_list = [x for x in inter_list if len(x)>1]\n",
    "    \n",
    "    # de-duplicate\n",
    "    inter_list = list(OrderedDict.fromkeys(inter_list))\n",
    "    \n",
    "    # keep top 20 cleaned keywords\n",
    "    inter_list = inter_list[:20] \n",
    "    \n",
    "    # convert into strng\n",
    "    inter_list = ', '.join(inter_list)\n",
    "    \n",
    "    clean_keys.append(inter_list)\n",
    "\n",
    "end = time.time()\n",
    "print(\"keyword time\", (end - start)/60) "
   ]
  },
  {
   "cell_type": "code",
   "execution_count": 37,
   "metadata": {},
   "outputs": [],
   "source": [
    "top_n_words_df[\"top_20_words\"] = clean_keys"
   ]
  },
  {
   "cell_type": "code",
   "execution_count": 38,
   "metadata": {},
   "outputs": [],
   "source": [
    "# GENERATE TOPIC METRICS\n",
    "\n",
    "# per topic - cos_min and cos_mean\n",
    "apr25_cossim_df = generate_all_cossim_metrics(docs_df, article_embeddings)\n",
    "\n",
    "# per topic - tier counts\n",
    "tier_metric = docs_df.join(df[[\"tier1\"]])\n",
    "\n",
    "iab_metric = tier_metric.groupby(\"Topic\").agg({\"tier1\": \n",
    "                                               'nunique'}).round(2).reset_index().rename(columns = {'tier1': \n",
    "                                                                                                    'distinct_tier1s',\n",
    "                                                                                                    'Topic':\n",
    "                                                                                                    'topic_num'})\n",
    "\n",
    "# combine topic, top words, cos and tier metrics\n",
    "topic_info = pd.merge(pd.merge(pd.merge(top_n_words_df, \n",
    "                                        topic_sizes, how=\"inner\", left_on=\"topic_num\", right_on = \"Topic\"), \n",
    "                               apr25_cossim_df, on = \"topic_num\", how=\"inner\"), \n",
    "                      iab_metric, on = \"topic_num\", how=\"inner\")\n",
    "\n",
    "topic_info.drop('Topic', axis=1, inplace=True)"
   ]
  },
  {
   "cell_type": "code",
   "execution_count": null,
   "metadata": {},
   "outputs": [],
   "source": []
  },
  {
   "cell_type": "code",
   "execution_count": null,
   "metadata": {},
   "outputs": [],
   "source": []
  },
  {
   "cell_type": "markdown",
   "metadata": {},
   "source": [
    "### --- Input data for training ---\n",
    "\n",
    "* All (unique) articles read on Apr 25 with over 100 pvs\n",
    "* Distinct topics including -1 for noise: 111"
   ]
  },
  {
   "cell_type": "code",
   "execution_count": 39,
   "metadata": {},
   "outputs": [
    {
     "data": {
      "text/html": [
       "<div>\n",
       "<style scoped>\n",
       "    .dataframe tbody tr th:only-of-type {\n",
       "        vertical-align: middle;\n",
       "    }\n",
       "\n",
       "    .dataframe tbody tr th {\n",
       "        vertical-align: top;\n",
       "    }\n",
       "\n",
       "    .dataframe thead th {\n",
       "        text-align: right;\n",
       "    }\n",
       "</style>\n",
       "<table border=\"1\" class=\"dataframe\">\n",
       "  <thead>\n",
       "    <tr style=\"text-align: right;\">\n",
       "      <th></th>\n",
       "      <th>topic_num</th>\n",
       "      <th>top_20_words</th>\n",
       "      <th>Size</th>\n",
       "      <th>cos_min</th>\n",
       "      <th>cos_mean</th>\n",
       "      <th>distinct_tier1s</th>\n",
       "    </tr>\n",
       "  </thead>\n",
       "  <tbody>\n",
       "    <tr>\n",
       "      <th>106</th>\n",
       "      <td>105</td>\n",
       "      <td>wendy, failure, leadership, xanax, patriarchy, mcintyre, quotes, haters, gonna, success, regrets, feminine, anxiety, men women, intimacy, davis, started taking</td>\n",
       "      <td>10</td>\n",
       "      <td>0.83</td>\n",
       "      <td>0.91</td>\n",
       "      <td>3</td>\n",
       "    </tr>\n",
       "    <tr>\n",
       "      <th>107</th>\n",
       "      <td>106</td>\n",
       "      <td>financial services, consumer, retailers, insights, medium size, cloud, analytics, distributors, data sharing, ml, real time, experiences, operations, processes, interconnected, advanced erp, adaptability, size businesses</td>\n",
       "      <td>10</td>\n",
       "      <td>0.86</td>\n",
       "      <td>0.92</td>\n",
       "      <td>4</td>\n",
       "    </tr>\n",
       "    <tr>\n",
       "      <th>108</th>\n",
       "      <td>107</td>\n",
       "      <td>vr, 5g, computing, hpc, ai, fusion, technologies, ultrascale, virtual reality, connectivity, cloud, augmented, autonomous, trends, online learning, piefer</td>\n",
       "      <td>21</td>\n",
       "      <td>0.81</td>\n",
       "      <td>0.90</td>\n",
       "      <td>5</td>\n",
       "    </tr>\n",
       "    <tr>\n",
       "      <th>109</th>\n",
       "      <td>108</td>\n",
       "      <td>shoulds, sorry, sign, dialogue, speaker, person, negative thought, emails, don, berman, recipient, conversation, listening, small talk, self discipline, thoughts, lett likes</td>\n",
       "      <td>20</td>\n",
       "      <td>0.75</td>\n",
       "      <td>0.91</td>\n",
       "      <td>5</td>\n",
       "    </tr>\n",
       "    <tr>\n",
       "      <th>110</th>\n",
       "      <td>109</td>\n",
       "      <td>emotions, overthinking, stress, brain, negative thoughts, psychotic, negative people, feelings, strong people, mentally strong, empathy, toxic people, positive, emotional intelligence</td>\n",
       "      <td>20</td>\n",
       "      <td>0.81</td>\n",
       "      <td>0.91</td>\n",
       "      <td>3</td>\n",
       "    </tr>\n",
       "  </tbody>\n",
       "</table>\n",
       "</div>"
      ],
      "text/plain": [
       "     topic_num  \\\n",
       "106        105   \n",
       "107        106   \n",
       "108        107   \n",
       "109        108   \n",
       "110        109   \n",
       "\n",
       "                                                                                                                                                                                                                     top_20_words  \\\n",
       "106                                                               wendy, failure, leadership, xanax, patriarchy, mcintyre, quotes, haters, gonna, success, regrets, feminine, anxiety, men women, intimacy, davis, started taking   \n",
       "107  financial services, consumer, retailers, insights, medium size, cloud, analytics, distributors, data sharing, ml, real time, experiences, operations, processes, interconnected, advanced erp, adaptability, size businesses   \n",
       "108                                                                    vr, 5g, computing, hpc, ai, fusion, technologies, ultrascale, virtual reality, connectivity, cloud, augmented, autonomous, trends, online learning, piefer   \n",
       "109                                                 shoulds, sorry, sign, dialogue, speaker, person, negative thought, emails, don, berman, recipient, conversation, listening, small talk, self discipline, thoughts, lett likes   \n",
       "110                                       emotions, overthinking, stress, brain, negative thoughts, psychotic, negative people, feelings, strong people, mentally strong, empathy, toxic people, positive, emotional intelligence   \n",
       "\n",
       "     Size  cos_min  cos_mean  distinct_tier1s  \n",
       "106    10     0.83      0.91                3  \n",
       "107    10     0.86      0.92                4  \n",
       "108    21     0.81      0.90                5  \n",
       "109    20     0.75      0.91                5  \n",
       "110    20     0.81      0.91                3  "
      ]
     },
     "execution_count": 39,
     "metadata": {},
     "output_type": "execute_result"
    }
   ],
   "source": [
    "topic_info.tail()"
   ]
  },
  {
   "cell_type": "markdown",
   "metadata": {},
   "source": [
    "* Observation on cluter-goodness:\n",
    "    * Good quality overall - \n",
    "        * most articles in a group on avg have 0.85-0.93 cosine similarity which is pretty high\n",
    "        * min similarity is also 0.7 and above for most topics\n",
    "        * most topics have 4-5 distinct tiers \n",
    "        \n",
    "    * Manual eyeballing - 88 topics good, 19 bad"
   ]
  },
  {
   "cell_type": "code",
   "execution_count": 25,
   "metadata": {},
   "outputs": [
    {
     "data": {
      "image/png": "[encoded data removed]",
      "text/plain": [
       "<Figure size 1080x504 with 4 Axes>"
      ]
     },
     "metadata": {},
     "output_type": "display_data"
    }
   ],
   "source": [
    "topic_info[['cos_min', 'cos_mean', 'distinct_tier1s']].hist(figsize= (15,7))\n",
    "plt.show()"
   ]
  },
  {
   "cell_type": "markdown",
   "metadata": {},
   "source": [
    "**Topics are about:**\n"
   ]
  },
  {
   "cell_type": "code",
   "execution_count": 32,
   "metadata": {},
   "outputs": [],
   "source": [
    "topic_info.to_csv(results_path+\"apr25_topics_metics_05252021.csv\", index=False)\n",
    "tier_metric.to_csv(results_path+\"apr25_docsdf_tiers_05252021.csv\", index=False)"
   ]
  },
  {
   "cell_type": "code",
   "execution_count": 26,
   "metadata": {},
   "outputs": [
    {
     "data": {
      "text/plain": [
       "['clusterer_obj.joblib']"
      ]
     },
     "execution_count": 26,
     "metadata": {},
     "output_type": "execute_result"
    }
   ],
   "source": [
    "joblib.dump(umap_embeddings, \"umap_obj.joblib\")\n",
    "joblib.dump(cluster, \"clusterer_obj.joblib\")"
   ]
  },
  {
   "cell_type": "code",
   "execution_count": null,
   "metadata": {},
   "outputs": [],
   "source": []
  },
  {
   "cell_type": "markdown",
   "metadata": {},
   "source": [
    "* **Predict new points/articles - Apr 26**"
   ]
  },
  {
   "cell_type": "code",
   "execution_count": 8,
   "metadata": {},
   "outputs": [
    {
     "name": "stdout",
     "output_type": "stream",
     "text": [
      "UMAP(angular_rp_forest=True, dens_frac=0.0, dens_lambda=0.0, metric='cosine',\n",
      "     n_components=5, random_state=42)\n",
      "\n",
      "HDBSCAN(prediction_data=True)\n"
     ]
    }
   ],
   "source": [
    "umap_embeddings = joblib.load(\"umap_obj.joblib\")\n",
    "cluster = joblib.load(\"clusterer_obj.joblib\")\n",
    "\n",
    "print(umap_embeddings)\n",
    "print()\n",
    "print(cluster)"
   ]
  },
  {
   "cell_type": "code",
   "execution_count": 9,
   "metadata": {
    "collapsed": true,
    "jupyter": {
     "outputs_hidden": true
    }
   },
   "outputs": [
    {
     "name": "stdout",
     "output_type": "stream",
     "text": [
      "(4128, 11)\n"
     ]
    }
   ],
   "source": [
    "# Apr 26 orig dataframe\n",
    "\n",
    "df_apr26 = pd.read_csv(\"./data/processed/pred_apr26_over100pvs_processed.csv\")\n",
    "\n",
    "df_apr26[\"article_length\"] = df_apr26.clean_body.str.split().apply(len)\n",
    "df_apr26 = df_apr26[df_apr26[\"article_length\"]>=100]\n",
    "\n",
    "df_apr26.tier1 = df_apr26.tier1.fillna('Other')\n",
    "df_apr26 = df_apr26.reset_index(drop=True)\n",
    "\n",
    "print(df_apr26.shape)"
   ]
  },
  {
   "cell_type": "code",
   "execution_count": 10,
   "metadata": {
    "collapsed": true,
    "jupyter": {
     "outputs_hidden": true
    }
   },
   "outputs": [
    {
     "name": "stdout",
     "output_type": "stream",
     "text": [
      "Before: 4128\n"
     ]
    }
   ],
   "source": [
    "article_embeddings_apr26 = joblib.load( \"./data/processed/apr26_article_embed_axis0.joblib\")\n",
    "print(\"Before:\", len(article_embeddings_apr26))"
   ]
  },
  {
   "cell_type": "markdown",
   "metadata": {},
   "source": [
    "**Note:** \n",
    "* There will be articles read on Apr 25 (training set), which will also be read the next day. \n",
    "* These common articles present in prediction set, will get the same topic cluster as before"
   ]
  },
  {
   "cell_type": "code",
   "execution_count": 14,
   "metadata": {},
   "outputs": [
    {
     "name": "stdout",
     "output_type": "stream",
     "text": [
      "(1218, 11)\n",
      "After: 1218\n"
     ]
    }
   ],
   "source": [
    "# choose only non-repeating articles\n",
    "df_apr26 = df_apr26[~df_apr26.content_natid.isin(df.content_natid)]\n",
    "print(df_apr26.shape)\n",
    "\n",
    "# choose embeddings for only non-repeating articles\n",
    "article_embeddings_apr26 = [article_embeddings_apr26[i] for i in list(df_apr26.index)]\n",
    "print(\"After:\", len(article_embeddings_apr26))"
   ]
  },
  {
   "cell_type": "code",
   "execution_count": 16,
   "metadata": {},
   "outputs": [],
   "source": [
    "df_apr26 = df_apr26.reset_index(drop=True)"
   ]
  },
  {
   "cell_type": "code",
   "execution_count": 17,
   "metadata": {
    "collapsed": true,
    "jupyter": {
     "outputs_hidden": true
    }
   },
   "outputs": [
    {
     "name": "stdout",
     "output_type": "stream",
     "text": [
      "Training input shape: (3327, 5)\n",
      "Prediction input shape: (1218, 5)\n"
     ]
    }
   ],
   "source": [
    "# dimensionality reduction\n",
    "umap_embeddings_apr26 = umap_embeddings.transform(article_embeddings_apr26) # min_dist=0.0,\n",
    "\n",
    "print(\"Training input shape:\", umap_embeddings.embedding_.shape)\n",
    "print(\"Prediction input shape:\", umap_embeddings_apr26.shape)"
   ]
  },
  {
   "cell_type": "code",
   "execution_count": 18,
   "metadata": {},
   "outputs": [
    {
     "name": "stdout",
     "output_type": "stream",
     "text": [
      "1218\n",
      "{0, 1, 2, 3, 5, 6, 7, 9, 10, 13, 14, 15, 16, 17, 18, 19, 20, 21, 23, 24, 25, 26, 27, 28, 29, 30, 31, 32, 33, 35, 38, 39, 41, 43, 44, 45, 46, 47, 49, 50, 51, 52, 53, 54, 55, 56, 57, 58, 59, 60, 61, 62, 63, 64, 65, 66, 67, 68, 69, 70, 71, 72, 73, 74, 76, 77, 78, 79, 81, 82, 85, 87, 88, 89, 90, 91, 94, 95, 96, 97, 98, 100, 102, 103, 104, 105, 107, 108, 109, -1}\n"
     ]
    }
   ],
   "source": [
    "# predict\n",
    "\n",
    "apr26_test_labels, apr26_strengths = hdbscan.approximate_predict(cluster, umap_embeddings_apr26)\n",
    "\n",
    "print(len(apr26_test_labels))\n",
    "print(set(apr26_test_labels))"
   ]
  },
  {
   "cell_type": "code",
   "execution_count": 19,
   "metadata": {
    "collapsed": true,
    "jupyter": {
     "outputs_hidden": true
    }
   },
   "outputs": [
    {
     "data": {
      "image/png": "[encoded data removed]",
      "text/plain": [
       "<Figure size 432x288 with 1 Axes>"
      ]
     },
     "metadata": {},
     "output_type": "display_data"
    }
   ],
   "source": [
    "plt.hist(apr26_strengths, bins='auto')\n",
    "plt.show()"
   ]
  },
  {
   "cell_type": "markdown",
   "metadata": {},
   "source": [
    "**Note:** 21 topics were not assigned to articles read the next day"
   ]
  },
  {
   "cell_type": "code",
   "execution_count": 20,
   "metadata": {},
   "outputs": [
    {
     "name": "stdout",
     "output_type": "stream",
     "text": [
      "Distinct topics including -1 for noise 90\n",
      "\n"
     ]
    },
    {
     "data": {
      "text/html": [
       "<div>\n",
       "<style scoped>\n",
       "    .dataframe tbody tr th:only-of-type {\n",
       "        vertical-align: middle;\n",
       "    }\n",
       "\n",
       "    .dataframe tbody tr th {\n",
       "        vertical-align: top;\n",
       "    }\n",
       "\n",
       "    .dataframe thead th {\n",
       "        text-align: right;\n",
       "    }\n",
       "</style>\n",
       "<table border=\"1\" class=\"dataframe\">\n",
       "  <thead>\n",
       "    <tr style=\"text-align: right;\">\n",
       "      <th></th>\n",
       "      <th>Doc</th>\n",
       "      <th>Topic</th>\n",
       "    </tr>\n",
       "  </thead>\n",
       "  <tbody>\n",
       "    <tr>\n",
       "      <th>1213</th>\n",
       "      <td>why are manholes round? the 10 toughest interview questions. a job interview at one of google 's 75 campus...</td>\n",
       "      <td>102</td>\n",
       "    </tr>\n",
       "    <tr>\n",
       "      <th>1214</th>\n",
       "      <td>security guru launches iphone app to hack colorblindness. in 2008, security researcher dan kaminsky discov...</td>\n",
       "      <td>-1</td>\n",
       "    </tr>\n",
       "    <tr>\n",
       "      <th>1215</th>\n",
       "      <td>why reits make sense. michael gunzenhaeuser, a 59-year-old semiretired obstetrician in mansfield, ohio, ha...</td>\n",
       "      <td>-1</td>\n",
       "    </tr>\n",
       "    <tr>\n",
       "      <th>1216</th>\n",
       "      <td>brrr!. bill clinton recently brought up the idea that we might have to slow down the u.s. economy to cut b...</td>\n",
       "      <td>-1</td>\n",
       "    </tr>\n",
       "    <tr>\n",
       "      <th>1217</th>\n",
       "      <td>fact and comment. fantastic fiber future is here--but not in u.s. washington and the federal communication...</td>\n",
       "      <td>-1</td>\n",
       "    </tr>\n",
       "  </tbody>\n",
       "</table>\n",
       "</div>"
      ],
      "text/plain": [
       "                                                                                                                Doc  \\\n",
       "1213  why are manholes round? the 10 toughest interview questions. a job interview at one of google 's 75 campus...   \n",
       "1214  security guru launches iphone app to hack colorblindness. in 2008, security researcher dan kaminsky discov...   \n",
       "1215  why reits make sense. michael gunzenhaeuser, a 59-year-old semiretired obstetrician in mansfield, ohio, ha...   \n",
       "1216  brrr!. bill clinton recently brought up the idea that we might have to slow down the u.s. economy to cut b...   \n",
       "1217  fact and comment. fantastic fiber future is here--but not in u.s. washington and the federal communication...   \n",
       "\n",
       "      Topic  \n",
       "1213    102  \n",
       "1214     -1  \n",
       "1215     -1  \n",
       "1216     -1  \n",
       "1217     -1  "
      ]
     },
     "execution_count": 20,
     "metadata": {},
     "output_type": "execute_result"
    }
   ],
   "source": [
    "# put topics in dataframe\n",
    "apr26_docs_df = df_apr26[['clean_body']]\n",
    "apr26_docs_df.rename(columns={'clean_body':'Doc'}, inplace=True)\n",
    "apr26_docs_df[\"Topic\"] = apr26_test_labels\n",
    "\n",
    "print(\"Distinct topics including -1 for noise\", len(apr26_docs_df.Topic.unique()))\n",
    "print()\n",
    "apr26_docs_df.tail()"
   ]
  },
  {
   "cell_type": "code",
   "execution_count": 21,
   "metadata": {},
   "outputs": [],
   "source": [
    "# apr26_docs_df.isna().sum()\n",
    "apr26_topic_sizes = extract_topic_sizes(apr26_docs_df)"
   ]
  },
  {
   "cell_type": "code",
   "execution_count": 22,
   "metadata": {},
   "outputs": [],
   "source": [
    "# GENERATE TOPIC METRICS\n",
    "\n",
    "# per topic - cos_min and cos_mean\n",
    "apr26_cossim_df = generate_all_cossim_metrics(apr26_docs_df, umap_embeddings_apr26)\n",
    "\n",
    "# per topic - tier counts\n",
    "tier_metric = apr26_docs_df.join(df_apr26[[\"tier1\"]])\n",
    "\n",
    "iab_metric = tier_metric.groupby(\"Topic\").agg({\"tier1\": \n",
    "                                               'nunique'}).round(2).reset_index().rename(columns = {'tier1': \n",
    "                                                                                                    'distinct_tier1s',\n",
    "                                                                                                    'Topic':\n",
    "                                                                                                    'topic_num'})\n",
    "\n",
    "# combine topic, top words, cos and tier metrics\n",
    "topic_info = pd.merge(pd.merge(apr26_topic_sizes, \n",
    "                                        apr26_cossim_df, how=\"inner\", left_on=\"Topic\", right_on = \"topic_num\"), \n",
    "                               iab_metric, on = \"topic_num\", how=\"inner\")\n",
    "\n",
    "topic_info.drop('Topic', axis=1, inplace=True)"
   ]
  },
  {
   "cell_type": "code",
   "execution_count": 24,
   "metadata": {},
   "outputs": [
    {
     "data": {
      "image/png": "[encoded data removed]",
      "text/plain": [
       "<Figure size 1080x504 with 4 Axes>"
      ]
     },
     "metadata": {},
     "output_type": "display_data"
    }
   ],
   "source": [
    "topic_info[['cos_min', 'cos_mean', 'distinct_tier1s']].hist(figsize= (15,7))\n",
    "plt.show()"
   ]
  },
  {
   "cell_type": "markdown",
   "metadata": {},
   "source": [
    "**Observation -**\n",
    "* predictions are very conservative - 770 articles considered noise and just 450 articles labeled\n",
    "* on avg. number of articles assigned to a predicted topic = 3. i.e. small clusters"
   ]
  },
  {
   "attachments": {
    "image.png": {
     "image/png": "[encoded data removed]"
    }
   },
   "cell_type": "markdown",
   "metadata": {},
   "source": [
    "![image.png](attachment:image.png)"
   ]
  },
  {
   "cell_type": "code",
   "execution_count": 25,
   "metadata": {},
   "outputs": [],
   "source": [
    "topic_info.sort_values('topic_num').to_csv(results_path+\"apr26_nonmatch_topic_inspection.csv\", index=False) #.head()"
   ]
  },
  {
   "cell_type": "code",
   "execution_count": 42,
   "metadata": {},
   "outputs": [],
   "source": [
    "pred_apr26_inspect = pd.merge(apr26_docs_df, \n",
    "         top_n_words_df, \n",
    "         how=\"left\", \n",
    "         left_on=\"Topic\", \n",
    "         right_on = \"topic_num\").drop('topic_num', axis=1)"
   ]
  },
  {
   "cell_type": "code",
   "execution_count": 45,
   "metadata": {
    "collapsed": true,
    "jupyter": {
     "outputs_hidden": true
    }
   },
   "outputs": [
    {
     "data": {
      "text/html": [
       "<div>\n",
       "<style scoped>\n",
       "    .dataframe tbody tr th:only-of-type {\n",
       "        vertical-align: middle;\n",
       "    }\n",
       "\n",
       "    .dataframe tbody tr th {\n",
       "        vertical-align: top;\n",
       "    }\n",
       "\n",
       "    .dataframe thead th {\n",
       "        text-align: right;\n",
       "    }\n",
       "</style>\n",
       "<table border=\"1\" class=\"dataframe\">\n",
       "  <thead>\n",
       "    <tr style=\"text-align: right;\">\n",
       "      <th></th>\n",
       "      <th>Doc</th>\n",
       "      <th>Topic</th>\n",
       "      <th>top_20_words</th>\n",
       "    </tr>\n",
       "  </thead>\n",
       "  <tbody>\n",
       "    <tr>\n",
       "      <th>0</th>\n",
       "      <td>apple ios 14.5 released: massive iphone update with cool features &amp; important fixes. april 28 update below. this post was first published on april 26. apples latest iphone software update is with us. oh, finally. its been a long time coming and i...</td>\n",
       "      <td>-1</td>\n",
       "      <td>ai, students, customers, coffee, human, employees, amazon, brand, marketing, product, remote, industry, digital, working, community, consumers, games, businesses, experience</td>\n",
       "    </tr>\n",
       "    <tr>\n",
       "      <th>1</th>\n",
       "      <td>apple airtag: all you need to know about the game-changing new gadget. april 28 update below. this post was first published on monday, april 26. apples all-new product category, airtag, is with us in a matter of days. its a small, cute wireless t...</td>\n",
       "      <td>-1</td>\n",
       "      <td>ai, students, customers, coffee, human, employees, amazon, brand, marketing, product, remote, industry, digital, working, community, consumers, games, businesses, experience</td>\n",
       "    </tr>\n",
       "    <tr>\n",
       "      <th>2</th>\n",
       "      <td>missing paris? visit virtually with a cooking class from la cuisine paris. missing paris? me too. like so many people, paris is my favorite city to visit. when i was in college, i studied for a year in paris and some of my favorite things to do a...</td>\n",
       "      <td>-1</td>\n",
       "      <td>ai, students, customers, coffee, human, employees, amazon, brand, marketing, product, remote, industry, digital, working, community, consumers, games, businesses, experience</td>\n",
       "    </tr>\n",
       "    <tr>\n",
       "      <th>3</th>\n",
       "      <td>new orleans pelicans found what they needed in naji marshall. new orleans pelicans executive vice president of basketball operations david griffin needs to increase his salary cap margins, and margins for error, as much as possible before zion wi...</td>\n",
       "      <td>88</td>\n",
       "      <td>pacers, brissett, celtics, knicks, brimah, 2k, turner, nba, indiana, bitadze, season, walker, robinson, omega, injury, myles, bjorkgren said, bates, tatum</td>\n",
       "    </tr>\n",
       "    <tr>\n",
       "      <th>4</th>\n",
       "      <td>appraisal industry seeks to improve diversity and inclusion in the profession. the coronavirus pandemic has drawn widespread attention to existing inequalities in american society, including the racial wealth gap in real estate. as a result, a pu...</td>\n",
       "      <td>-1</td>\n",
       "      <td>ai, students, customers, coffee, human, employees, amazon, brand, marketing, product, remote, industry, digital, working, community, consumers, games, businesses, experience</td>\n",
       "    </tr>\n",
       "    <tr>\n",
       "      <th>...</th>\n",
       "      <td>...</td>\n",
       "      <td>...</td>\n",
       "      <td>...</td>\n",
       "    </tr>\n",
       "    <tr>\n",
       "      <th>1213</th>\n",
       "      <td>why are manholes round? the 10 toughest interview questions. a job interview at one of google 's 75 campuses around the globe might seem to have more in common with pledging a secret fraternity than job-hunting. an often months-long interview pro...</td>\n",
       "      <td>102</td>\n",
       "      <td>new job, boss, job search, manager, recruiters, interviewer, employer, hiring, tell, interview questions, candidates, career, hr, position</td>\n",
       "    </tr>\n",
       "    <tr>\n",
       "      <th>1214</th>\n",
       "      <td>security guru launches iphone app to hack colorblindness. in 2008, security researcher dan kaminsky discovered and helped develop a patch for one of the most fundamental flaws ever found in the infrastructure of the internet. lately he is been wo...</td>\n",
       "      <td>-1</td>\n",
       "      <td>ai, students, customers, coffee, human, employees, amazon, brand, marketing, product, remote, industry, digital, working, community, consumers, games, businesses, experience</td>\n",
       "    </tr>\n",
       "    <tr>\n",
       "      <th>1215</th>\n",
       "      <td>why reits make sense. michael gunzenhaeuser, a 59-year-old semiretired obstetrician in mansfield, ohio, has heard his share of real estate horror stories lately. friends who own rental apartments grousing about plumbers' bills and endless tenant ...</td>\n",
       "      <td>-1</td>\n",
       "      <td>ai, students, customers, coffee, human, employees, amazon, brand, marketing, product, remote, industry, digital, working, community, consumers, games, businesses, experience</td>\n",
       "    </tr>\n",
       "    <tr>\n",
       "      <th>1216</th>\n",
       "      <td>brrr!. bill clinton recently brought up the idea that we might have to slow down the u.s. economy to cut back on greenhouse emissions in order to save the planet from global warming. less prosperity will be our salvation! putting aside the former...</td>\n",
       "      <td>-1</td>\n",
       "      <td>ai, students, customers, coffee, human, employees, amazon, brand, marketing, product, remote, industry, digital, working, community, consumers, games, businesses, experience</td>\n",
       "    </tr>\n",
       "    <tr>\n",
       "      <th>1217</th>\n",
       "      <td>fact and comment. fantastic fiber future is here--but not in u.s. washington and the federal communications commission should look to south korea to see what the future could be like with true telecom deregulation. in the u.s. a t-1 line, which p...</td>\n",
       "      <td>-1</td>\n",
       "      <td>ai, students, customers, coffee, human, employees, amazon, brand, marketing, product, remote, industry, digital, working, community, consumers, games, businesses, experience</td>\n",
       "    </tr>\n",
       "  </tbody>\n",
       "</table>\n",
       "<p>1218 rows × 3 columns</p>\n",
       "</div>"
      ],
      "text/plain": [
       "                                                                                                                                                                                                                                                            Doc  \\\n",
       "0     apple ios 14.5 released: massive iphone update with cool features & important fixes. april 28 update below. this post was first published on april 26. apples latest iphone software update is with us. oh, finally. its been a long time coming and i...   \n",
       "1     apple airtag: all you need to know about the game-changing new gadget. april 28 update below. this post was first published on monday, april 26. apples all-new product category, airtag, is with us in a matter of days. its a small, cute wireless t...   \n",
       "2     missing paris? visit virtually with a cooking class from la cuisine paris. missing paris? me too. like so many people, paris is my favorite city to visit. when i was in college, i studied for a year in paris and some of my favorite things to do a...   \n",
       "3     new orleans pelicans found what they needed in naji marshall. new orleans pelicans executive vice president of basketball operations david griffin needs to increase his salary cap margins, and margins for error, as much as possible before zion wi...   \n",
       "4     appraisal industry seeks to improve diversity and inclusion in the profession. the coronavirus pandemic has drawn widespread attention to existing inequalities in american society, including the racial wealth gap in real estate. as a result, a pu...   \n",
       "...                                                                                                                                                                                                                                                         ...   \n",
       "1213  why are manholes round? the 10 toughest interview questions. a job interview at one of google 's 75 campuses around the globe might seem to have more in common with pledging a secret fraternity than job-hunting. an often months-long interview pro...   \n",
       "1214  security guru launches iphone app to hack colorblindness. in 2008, security researcher dan kaminsky discovered and helped develop a patch for one of the most fundamental flaws ever found in the infrastructure of the internet. lately he is been wo...   \n",
       "1215  why reits make sense. michael gunzenhaeuser, a 59-year-old semiretired obstetrician in mansfield, ohio, has heard his share of real estate horror stories lately. friends who own rental apartments grousing about plumbers' bills and endless tenant ...   \n",
       "1216  brrr!. bill clinton recently brought up the idea that we might have to slow down the u.s. economy to cut back on greenhouse emissions in order to save the planet from global warming. less prosperity will be our salvation! putting aside the former...   \n",
       "1217  fact and comment. fantastic fiber future is here--but not in u.s. washington and the federal communications commission should look to south korea to see what the future could be like with true telecom deregulation. in the u.s. a t-1 line, which p...   \n",
       "\n",
       "      Topic  \\\n",
       "0        -1   \n",
       "1        -1   \n",
       "2        -1   \n",
       "3        88   \n",
       "4        -1   \n",
       "...     ...   \n",
       "1213    102   \n",
       "1214     -1   \n",
       "1215     -1   \n",
       "1216     -1   \n",
       "1217     -1   \n",
       "\n",
       "                                                                                                                                                                       top_20_words  \n",
       "0     ai, students, customers, coffee, human, employees, amazon, brand, marketing, product, remote, industry, digital, working, community, consumers, games, businesses, experience  \n",
       "1     ai, students, customers, coffee, human, employees, amazon, brand, marketing, product, remote, industry, digital, working, community, consumers, games, businesses, experience  \n",
       "2     ai, students, customers, coffee, human, employees, amazon, brand, marketing, product, remote, industry, digital, working, community, consumers, games, businesses, experience  \n",
       "3                        pacers, brissett, celtics, knicks, brimah, 2k, turner, nba, indiana, bitadze, season, walker, robinson, omega, injury, myles, bjorkgren said, bates, tatum  \n",
       "4     ai, students, customers, coffee, human, employees, amazon, brand, marketing, product, remote, industry, digital, working, community, consumers, games, businesses, experience  \n",
       "...                                                                                                                                                                             ...  \n",
       "1213                                     new job, boss, job search, manager, recruiters, interviewer, employer, hiring, tell, interview questions, candidates, career, hr, position  \n",
       "1214  ai, students, customers, coffee, human, employees, amazon, brand, marketing, product, remote, industry, digital, working, community, consumers, games, businesses, experience  \n",
       "1215  ai, students, customers, coffee, human, employees, amazon, brand, marketing, product, remote, industry, digital, working, community, consumers, games, businesses, experience  \n",
       "1216  ai, students, customers, coffee, human, employees, amazon, brand, marketing, product, remote, industry, digital, working, community, consumers, games, businesses, experience  \n",
       "1217  ai, students, customers, coffee, human, employees, amazon, brand, marketing, product, remote, industry, digital, working, community, consumers, games, businesses, experience  \n",
       "\n",
       "[1218 rows x 3 columns]"
      ]
     },
     "execution_count": 45,
     "metadata": {},
     "output_type": "execute_result"
    }
   ],
   "source": [
    "pred_apr26_inspect"
   ]
  },
  {
   "cell_type": "code",
   "execution_count": 46,
   "metadata": {},
   "outputs": [],
   "source": [
    "pred_apr26_inspect.to_csv(results_path+\"apr26pred_nonmatch_inspection.csv\", index=False)"
   ]
  },
  {
   "cell_type": "markdown",
   "metadata": {},
   "source": []
  },
  {
   "cell_type": "code",
   "execution_count": null,
   "metadata": {},
   "outputs": [],
   "source": []
  },
  {
   "cell_type": "code",
   "execution_count": null,
   "metadata": {},
   "outputs": [],
   "source": []
  },
  {
   "cell_type": "code",
   "execution_count": null,
   "metadata": {},
   "outputs": [],
   "source": []
  },
  {
   "cell_type": "code",
   "execution_count": null,
   "metadata": {},
   "outputs": [],
   "source": []
  },
  {
   "cell_type": "code",
   "execution_count": null,
   "metadata": {},
   "outputs": [],
   "source": []
  },
  {
   "cell_type": "code",
   "execution_count": null,
   "metadata": {},
   "outputs": [],
   "source": []
  },
  {
   "cell_type": "code",
   "execution_count": null,
   "metadata": {},
   "outputs": [],
   "source": []
  },
  {
   "cell_type": "markdown",
   "metadata": {},
   "source": [
    "* **Apr 26 - individual day topic modeling**"
   ]
  },
  {
   "cell_type": "code",
   "execution_count": 49,
   "metadata": {},
   "outputs": [
    {
     "name": "stdout",
     "output_type": "stream",
     "text": [
      "Shape (4128, 11)\n",
      "4128\n"
     ]
    }
   ],
   "source": [
    "df_apr26 = pd.read_csv(data_path + 'processed/pred_apr26_over100pvs_processed.csv')\n",
    "df_apr26[\"article_length\"] = df_apr26.clean_body.str.split().apply(len)\n",
    "df_apr26 = df_apr26[df_apr26[\"article_length\"]>=100]\n",
    "print(\"Shape\", df_apr26.shape)\n",
    "df_apr26 = df_apr26.reset_index(drop=True)\n",
    "\n",
    "df_apr26.tier1 = df_apr26.tier1.fillna('Other')\n",
    "\n",
    "data_apr26 = df_apr26.clean_body.tolist()\n",
    "print(len(data_apr26))"
   ]
  },
  {
   "cell_type": "code",
   "execution_count": 47,
   "metadata": {},
   "outputs": [],
   "source": [
    "# cluster\n",
    "cluster_apr26 = hdbscan.HDBSCAN(min_cluster_size=5,\n",
    "                      metric='euclidean',                      \n",
    "                      cluster_selection_method='eom',\n",
    "                      prediction_data=True).fit(umap_embeddings_apr26)"
   ]
  },
  {
   "cell_type": "code",
   "execution_count": 48,
   "metadata": {},
   "outputs": [
    {
     "name": "stdout",
     "output_type": "stream",
     "text": [
      "Settings - mean axis=0\n"
     ]
    },
    {
     "data": {
      "text/plain": [
       "0.29489139288874827"
      ]
     },
     "execution_count": 48,
     "metadata": {},
     "output_type": "execute_result"
    }
   ],
   "source": [
    "labels = cluster_apr26.labels_\n",
    "print(\"Settings - mean axis=0\")\n",
    "validity_index(umap_embeddings_apr26.astype('double'), labels)"
   ]
  },
  {
   "cell_type": "code",
   "execution_count": 50,
   "metadata": {
    "collapsed": true,
    "jupyter": {
     "outputs_hidden": true
    }
   },
   "outputs": [
    {
     "name": "stdout",
     "output_type": "stream",
     "text": [
      "Distinct topics including -1 for noise 132\n",
      "\n"
     ]
    },
    {
     "data": {
      "text/html": [
       "<div>\n",
       "<style scoped>\n",
       "    .dataframe tbody tr th:only-of-type {\n",
       "        vertical-align: middle;\n",
       "    }\n",
       "\n",
       "    .dataframe tbody tr th {\n",
       "        vertical-align: top;\n",
       "    }\n",
       "\n",
       "    .dataframe thead th {\n",
       "        text-align: right;\n",
       "    }\n",
       "</style>\n",
       "<table border=\"1\" class=\"dataframe\">\n",
       "  <thead>\n",
       "    <tr style=\"text-align: right;\">\n",
       "      <th></th>\n",
       "      <th>Doc</th>\n",
       "      <th>Topic</th>\n",
       "      <th>Doc_ID</th>\n",
       "    </tr>\n",
       "  </thead>\n",
       "  <tbody>\n",
       "    <tr>\n",
       "      <th>0</th>\n",
       "      <td>10 robot vacuums that clean so you dont have to. if youre like most people, vacuuming is low on your list of favorite chores. you can avoid cleaning, or enlist the aid of a robot vacuum to clean your home autonomously. the best robot vacuums are ...</td>\n",
       "      <td>-1</td>\n",
       "      <td>0</td>\n",
       "    </tr>\n",
       "    <tr>\n",
       "      <th>1</th>\n",
       "      <td>these 11 mattress toppers give you the bed of your dreams. while new pillows or a new set of sheets can do a lot to improve how you sleep at night, those small changes arent always enough if there are bigger issues at play, like bad alignment or ...</td>\n",
       "      <td>27</td>\n",
       "      <td>1</td>\n",
       "    </tr>\n",
       "    <tr>\n",
       "      <th>2</th>\n",
       "      <td>wayfairs biggest sale of the year is officially here. thanks to the pandemic, most of us have spent the past year at home, forced to stare at the same worn-in couch, threadbare arm chair and sparse wall art. so if youre feeling like its time for ...</td>\n",
       "      <td>-1</td>\n",
       "      <td>2</td>\n",
       "    </tr>\n",
       "    <tr>\n",
       "      <th>3</th>\n",
       "      <td>apple ios 14.5 released: massive iphone update with cool features &amp; important fixes. april 28 update below. this post was first published on april 26. apples latest iphone software update is with us. oh, finally. its been a long time coming and i...</td>\n",
       "      <td>21</td>\n",
       "      <td>3</td>\n",
       "    </tr>\n",
       "    <tr>\n",
       "      <th>4</th>\n",
       "      <td>apple airtag: all you need to know about the game-changing new gadget. april 28 update below. this post was first published on monday, april 26. apples all-new product category, airtag, is with us in a matter of days. its a small, cute wireless t...</td>\n",
       "      <td>21</td>\n",
       "      <td>4</td>\n",
       "    </tr>\n",
       "    <tr>\n",
       "      <th>...</th>\n",
       "      <td>...</td>\n",
       "      <td>...</td>\n",
       "      <td>...</td>\n",
       "    </tr>\n",
       "    <tr>\n",
       "      <th>4123</th>\n",
       "      <td>security guru launches iphone app to hack colorblindness. in 2008, security researcher dan kaminsky discovered and helped develop a patch for one of the most fundamental flaws ever found in the infrastructure of the internet. lately he is been wo...</td>\n",
       "      <td>21</td>\n",
       "      <td>4123</td>\n",
       "    </tr>\n",
       "    <tr>\n",
       "      <th>4124</th>\n",
       "      <td>mark zuckerberg joins the north american man-boy love association, and other adventures in facebook groups. my colleague kashmir hill congratulated facebook's mark zuckerberg earlier today on his increasingly savvy approach to talking about priva...</td>\n",
       "      <td>52</td>\n",
       "      <td>4124</td>\n",
       "    </tr>\n",
       "    <tr>\n",
       "      <th>4125</th>\n",
       "      <td>why reits make sense. michael gunzenhaeuser, a 59-year-old semiretired obstetrician in mansfield, ohio, has heard his share of real estate horror stories lately. friends who own rental apartments grousing about plumbers' bills and endless tenant ...</td>\n",
       "      <td>-1</td>\n",
       "      <td>4125</td>\n",
       "    </tr>\n",
       "    <tr>\n",
       "      <th>4126</th>\n",
       "      <td>brrr!. bill clinton recently brought up the idea that we might have to slow down the u.s. economy to cut back on greenhouse emissions in order to save the planet from global warming. less prosperity will be our salvation! putting aside the former...</td>\n",
       "      <td>-1</td>\n",
       "      <td>4126</td>\n",
       "    </tr>\n",
       "    <tr>\n",
       "      <th>4127</th>\n",
       "      <td>fact and comment. fantastic fiber future is here--but not in u.s. washington and the federal communications commission should look to south korea to see what the future could be like with true telecom deregulation. in the u.s. a t-1 line, which p...</td>\n",
       "      <td>-1</td>\n",
       "      <td>4127</td>\n",
       "    </tr>\n",
       "  </tbody>\n",
       "</table>\n",
       "<p>4128 rows × 3 columns</p>\n",
       "</div>"
      ],
      "text/plain": [
       "                                                                                                                                                                                                                                                            Doc  \\\n",
       "0     10 robot vacuums that clean so you dont have to. if youre like most people, vacuuming is low on your list of favorite chores. you can avoid cleaning, or enlist the aid of a robot vacuum to clean your home autonomously. the best robot vacuums are ...   \n",
       "1     these 11 mattress toppers give you the bed of your dreams. while new pillows or a new set of sheets can do a lot to improve how you sleep at night, those small changes arent always enough if there are bigger issues at play, like bad alignment or ...   \n",
       "2     wayfairs biggest sale of the year is officially here. thanks to the pandemic, most of us have spent the past year at home, forced to stare at the same worn-in couch, threadbare arm chair and sparse wall art. so if youre feeling like its time for ...   \n",
       "3     apple ios 14.5 released: massive iphone update with cool features & important fixes. april 28 update below. this post was first published on april 26. apples latest iphone software update is with us. oh, finally. its been a long time coming and i...   \n",
       "4     apple airtag: all you need to know about the game-changing new gadget. april 28 update below. this post was first published on monday, april 26. apples all-new product category, airtag, is with us in a matter of days. its a small, cute wireless t...   \n",
       "...                                                                                                                                                                                                                                                         ...   \n",
       "4123  security guru launches iphone app to hack colorblindness. in 2008, security researcher dan kaminsky discovered and helped develop a patch for one of the most fundamental flaws ever found in the infrastructure of the internet. lately he is been wo...   \n",
       "4124  mark zuckerberg joins the north american man-boy love association, and other adventures in facebook groups. my colleague kashmir hill congratulated facebook's mark zuckerberg earlier today on his increasingly savvy approach to talking about priva...   \n",
       "4125  why reits make sense. michael gunzenhaeuser, a 59-year-old semiretired obstetrician in mansfield, ohio, has heard his share of real estate horror stories lately. friends who own rental apartments grousing about plumbers' bills and endless tenant ...   \n",
       "4126  brrr!. bill clinton recently brought up the idea that we might have to slow down the u.s. economy to cut back on greenhouse emissions in order to save the planet from global warming. less prosperity will be our salvation! putting aside the former...   \n",
       "4127  fact and comment. fantastic fiber future is here--but not in u.s. washington and the federal communications commission should look to south korea to see what the future could be like with true telecom deregulation. in the u.s. a t-1 line, which p...   \n",
       "\n",
       "      Topic  Doc_ID  \n",
       "0        -1       0  \n",
       "1        27       1  \n",
       "2        -1       2  \n",
       "3        21       3  \n",
       "4        21       4  \n",
       "...     ...     ...  \n",
       "4123     21    4123  \n",
       "4124     52    4124  \n",
       "4125     -1    4125  \n",
       "4126     -1    4126  \n",
       "4127     -1    4127  \n",
       "\n",
       "[4128 rows x 3 columns]"
      ]
     },
     "execution_count": 50,
     "metadata": {},
     "output_type": "execute_result"
    }
   ],
   "source": [
    "# put topics in dataframe\n",
    "docs_df_apr26 = pd.DataFrame(data_apr26, columns=[\"Doc\"])\n",
    "docs_df_apr26['Topic'] = cluster_apr26.labels_\n",
    "docs_df_apr26['Doc_ID'] = range(len(docs_df_apr26))\n",
    "\n",
    "print(\"Distinct topics including -1 for noise\", len(docs_df_apr26.Topic.unique()))\n",
    "print()\n",
    "docs_df_apr26"
   ]
  },
  {
   "cell_type": "code",
   "execution_count": 54,
   "metadata": {},
   "outputs": [],
   "source": [
    "# combine together all articles belonging to same cluster  \n",
    "docs_per_topic_apr26 = docs_df_apr26.groupby(['Topic'], as_index = False).agg({'Doc': ' '.join})\n",
    "\n",
    "# calculate countVector and tf-idf\n",
    "tf_idf_apr26, count_apr26 = c_tf_idf(docs_per_topic_apr26.Doc.values, m=len(data_apr26))\n",
    "\n",
    "# top n words, topic size\n",
    "top_n_words_apr26 = extract_top_n_words_per_topic(tf_idf_apr26, count_apr26, docs_per_topic_apr26, n=20)\n",
    "topic_sizes_apr26 = extract_topic_sizes(docs_df_apr26)\n",
    "\n",
    "# modify top_n_words per topic dict into dataframe for presentation\n",
    "topic_words_dict_apr26 = {}  \n",
    "\n",
    "for k, v in top_n_words_apr26.items():\n",
    "    topic_words_dict_apr26[k] = \", \".join([elem[0] for elem in v])\n",
    "\n",
    "pd.set_option(\"max_colwidth\", 250)\n",
    "top_n_words_df_apr26 = pd.DataFrame.from_dict(topic_words_dict_apr26, \n",
    "                                        orient='index').reset_index().rename(columns={'index':'topic_num',\n",
    "                                                                                      \n",
    "                                                                                      0:'top_20_words'}) "
   ]
  },
  {
   "cell_type": "code",
   "execution_count": 55,
   "metadata": {},
   "outputs": [
    {
     "data": {
      "text/html": [
       "<div>\n",
       "<style scoped>\n",
       "    .dataframe tbody tr th:only-of-type {\n",
       "        vertical-align: middle;\n",
       "    }\n",
       "\n",
       "    .dataframe tbody tr th {\n",
       "        vertical-align: top;\n",
       "    }\n",
       "\n",
       "    .dataframe thead th {\n",
       "        text-align: right;\n",
       "    }\n",
       "</style>\n",
       "<table border=\"1\" class=\"dataframe\">\n",
       "  <thead>\n",
       "    <tr style=\"text-align: right;\">\n",
       "      <th></th>\n",
       "      <th>topic_num</th>\n",
       "      <th>top_20_words</th>\n",
       "    </tr>\n",
       "  </thead>\n",
       "  <tbody>\n",
       "    <tr>\n",
       "      <th>0</th>\n",
       "      <td>-1</td>\n",
       "      <td>leaders, amazon, trust, human, success, care, self, age, culture, management, percent, news, customer, businesses, assets, industry, sales, doing, government, skills</td>\n",
       "    </tr>\n",
       "    <tr>\n",
       "      <th>1</th>\n",
       "      <td>0</td>\n",
       "      <td>moon, supermoon, moons, eclipse, lunar, pink moon, supermoons, super, super pink, sky, blood moon, perigee, pink, blue moon, orbit, sun, earth, lunar eclipse, moonrise, skies</td>\n",
       "    </tr>\n",
       "    <tr>\n",
       "      <th>2</th>\n",
       "      <td>1</td>\n",
       "      <td>mars, flat earth, spacex, nasa, space program, astronauts, starlink, antarctica, flat, rocket, earth, satellites, stuhlinger, space, satellite, photon, spacecraft, rocket lab, mission, beck</td>\n",
       "    </tr>\n",
       "    <tr>\n",
       "      <th>3</th>\n",
       "      <td>2</td>\n",
       "      <td>superman, pais, dr pais, pigments, nasa, oxygen, astronauts, mars, krypton, photons, moxie, man steel, planet, salotti, cosmonaut, fusion, technosignatures, astronaut, superman black, extraterrestrial</td>\n",
       "    </tr>\n",
       "    <tr>\n",
       "      <th>4</th>\n",
       "      <td>3</td>\n",
       "      <td>earth, sun, solar, orbit, galaxies, planets, mars, atmosphere, planet, gravitational, moon, helium, mass, km, black hole, surface, satellites, million years, crust, black holes</td>\n",
       "    </tr>\n",
       "    <tr>\n",
       "      <th>...</th>\n",
       "      <td>...</td>\n",
       "      <td>...</td>\n",
       "    </tr>\n",
       "    <tr>\n",
       "      <th>127</th>\n",
       "      <td>126</td>\n",
       "      <td>leaders, successful leaders, ulrich, skills, soft skills, leadership, leader, successful, inspirational, team members, bridging, listening, inspirational leaders, engagement, assessment, organizational, organization, duncan, remote, happiness</td>\n",
       "    </tr>\n",
       "    <tr>\n",
       "      <th>128</th>\n",
       "      <td>127</td>\n",
       "      <td>culture, hr, diverse, positive culture, corporate culture, positive, company culture, diversity, workplace, workforce, positive company, talent, diverse workforce, positive corporate, positive workplace, sweetgreen, corporate, employees, employee...</td>\n",
       "    </tr>\n",
       "    <tr>\n",
       "      <th>129</th>\n",
       "      <td>128</td>\n",
       "      <td>lett, leadership, real meaning, sign, patriarchy, vulnerability, email, perfectionism, men, unlearn, translation, emails, discipline, lett likes, haters, recipient, peggy, self discipline, regards, don</td>\n",
       "    </tr>\n",
       "    <tr>\n",
       "      <th>130</th>\n",
       "      <td>129</td>\n",
       "      <td>overthinking, thoughts, psychotic, negative, emotions, strong people, feelings, empathy, discomfort, mentally strong, psychosis, pity, thinking, negative thoughts, negative reviews, mentally, self pity, personality, procrastination, uncomfortable</td>\n",
       "    </tr>\n",
       "    <tr>\n",
       "      <th>131</th>\n",
       "      <td>130</td>\n",
       "      <td>sorry, motivation, microaggressions, try mantra, enjoyment, confident, lack confidence, say sorry, mantra, microaggression, fear, beliefs, dislike, belief, people color, reinforces, dealing, confidence, failure, color</td>\n",
       "    </tr>\n",
       "  </tbody>\n",
       "</table>\n",
       "<p>132 rows × 2 columns</p>\n",
       "</div>"
      ],
      "text/plain": [
       "     topic_num  \\\n",
       "0           -1   \n",
       "1            0   \n",
       "2            1   \n",
       "3            2   \n",
       "4            3   \n",
       "..         ...   \n",
       "127        126   \n",
       "128        127   \n",
       "129        128   \n",
       "130        129   \n",
       "131        130   \n",
       "\n",
       "                                                                                                                                                                                                                                                  top_20_words  \n",
       "0                                                                                        leaders, amazon, trust, human, success, care, self, age, culture, management, percent, news, customer, businesses, assets, industry, sales, doing, government, skills  \n",
       "1                                                                               moon, supermoon, moons, eclipse, lunar, pink moon, supermoons, super, super pink, sky, blood moon, perigee, pink, blue moon, orbit, sun, earth, lunar eclipse, moonrise, skies  \n",
       "2                                                                mars, flat earth, spacex, nasa, space program, astronauts, starlink, antarctica, flat, rocket, earth, satellites, stuhlinger, space, satellite, photon, spacecraft, rocket lab, mission, beck  \n",
       "3                                                     superman, pais, dr pais, pigments, nasa, oxygen, astronauts, mars, krypton, photons, moxie, man steel, planet, salotti, cosmonaut, fusion, technosignatures, astronaut, superman black, extraterrestrial  \n",
       "4                                                                             earth, sun, solar, orbit, galaxies, planets, mars, atmosphere, planet, gravitational, moon, helium, mass, km, black hole, surface, satellites, million years, crust, black holes  \n",
       "..                                                                                                                                                                                                                                                         ...  \n",
       "127         leaders, successful leaders, ulrich, skills, soft skills, leadership, leader, successful, inspirational, team members, bridging, listening, inspirational leaders, engagement, assessment, organizational, organization, duncan, remote, happiness  \n",
       "128  culture, hr, diverse, positive culture, corporate culture, positive, company culture, diversity, workplace, workforce, positive company, talent, diverse workforce, positive corporate, positive workplace, sweetgreen, corporate, employees, employee...  \n",
       "129                                                  lett, leadership, real meaning, sign, patriarchy, vulnerability, email, perfectionism, men, unlearn, translation, emails, discipline, lett likes, haters, recipient, peggy, self discipline, regards, don  \n",
       "130     overthinking, thoughts, psychotic, negative, emotions, strong people, feelings, empathy, discomfort, mentally strong, psychosis, pity, thinking, negative thoughts, negative reviews, mentally, self pity, personality, procrastination, uncomfortable  \n",
       "131                                  sorry, motivation, microaggressions, try mantra, enjoyment, confident, lack confidence, say sorry, mantra, microaggression, fear, beliefs, dislike, belief, people color, reinforces, dealing, confidence, failure, color  \n",
       "\n",
       "[132 rows x 2 columns]"
      ]
     },
     "execution_count": 55,
     "metadata": {},
     "output_type": "execute_result"
    }
   ],
   "source": [
    "top_n_words_df_apr26"
   ]
  },
  {
   "cell_type": "code",
   "execution_count": null,
   "metadata": {},
   "outputs": [],
   "source": []
  },
  {
   "cell_type": "code",
   "execution_count": null,
   "metadata": {},
   "outputs": [],
   "source": []
  },
  {
   "cell_type": "markdown",
   "metadata": {},
   "source": [
    "* **Predict new points - Apr 27**"
   ]
  },
  {
   "cell_type": "code",
   "execution_count": null,
   "metadata": {},
   "outputs": [],
   "source": [
    "article_embeddings_apr27 = joblib.load( \"./data/processed/apr27_article_embed_axis0.joblib\")\n",
    "umap_embeddings_apr27 = umap_embeddings.transform(article_embeddings_apr27) # min_dist=0.0, #4.57\n",
    "\n",
    "print(\"Training input shape:\", umap_embeddings.embedding_.shape)\n",
    "print(\"Prediction input shape:\", umap_embeddings_apr27.shape)\n",
    "\n",
    "apr27_test_labels, apr27_strengths = hdbscan.approximate_predict(cluster, umap_embeddings_apr27)\n",
    "print(set(apr27_test_labels))"
   ]
  }
 ],
 "metadata": {
  "environment": {
   "name": "tf2-2-3-gpu.2-3.m59",
   "type": "gcloud",
   "uri": "gcr.io/deeplearning-platform-release/tf2-2-3-gpu.2-3:m59"
  },
  "kernelspec": {
   "display_name": "topics",
   "language": "python",
   "name": "topics"
  },
  "language_info": {
   "codemirror_mode": {
    "name": "ipython",
    "version": 3
   },
   "file_extension": ".py",
   "mimetype": "text/x-python",
   "name": "python",
   "nbconvert_exporter": "python",
   "pygments_lexer": "ipython3",
   "version": "3.8.8"
  }
 },
 "nbformat": 4,
 "nbformat_minor": 4
}
