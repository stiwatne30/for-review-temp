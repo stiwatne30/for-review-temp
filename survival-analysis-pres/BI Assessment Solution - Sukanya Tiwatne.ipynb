{
 "cells": [
  {
   "cell_type": "code",
   "execution_count": 1,
   "metadata": {},
   "outputs": [],
   "source": [
    "import warnings\n",
    "warnings.filterwarnings(\"ignore\")\n",
    "import pandas as pd\n",
    "import numpy as np\n",
    "from lifelines import CoxPHFitter\n",
    "from lifelines import KaplanMeierFitter"
   ]
  },
  {
   "cell_type": "markdown",
   "metadata": {
    "jupyter": {
     "source_hidden": true
    }
   },
   "source": [
    "# Task 1:"
   ]
  },
  {
   "cell_type": "markdown",
   "metadata": {
    "jupyter": {
     "source_hidden": true
    }
   },
   "source": [
    "One of the key challenges for digital subscription businesses is managing subscriber churn. Identifying patterns in our user data that will help keep members subscribed longer will be one of the key tasks for our new Business Intelligence Data Scientist. How would you go about this? Assume you have user data for each active and expired membership at your disposal (when they joined, what annual or monthly plan they were on, which article or landing page they converted off of, if and when they cancelled, what content they were engaging with on our site, their email addresses and locations). Please make sure your response addresses the following questions:\n",
    "\n",
    "#### Question 1: \n",
    "Identifying patterns in user data that will help keep members subscribed longer.\n",
    "#### Answer 1: \n",
    "1. *Recommendation engines*: I would employ content-based filtering or collaborative-filtering based on the available data. <br>\n",
    "1a. *Content-based filtering* will recommend a new content based on user's preferred content. Approach needs more user preference data in order to incorporate best match. <br>\n",
    "1b. *Collaborative filtering* will find users with similar content preferences and recommend new reading content to a user based on popularity with neighbourhood group. Approach needs large dataset with active users and their reading preferences <br><br>\n",
    "2. *Behavioral customer segment*: I would employ clustering techniques on behavioral and demographics data such as locations, amount of product usage, source of conversion (landing page/article) etc. to find segments especially at-risk churning and study the behavioral characteristics<br><br>\n",
    "3. *Cross-sell/Up-sell/Repeat purchase*: I would employ Market Basket Analysis to find associations between related content and recommend to user. Additionally, targeted marketing through recency-frequency-monetary analysis will help engage customers at-risk with appropriate offers.\n",
    "\n",
    "#### Question 2: \n",
    "How would you categorize different types of reasons for churn (qualitatively)? Which ones can be addressed, and which ones cannot?\n",
    "#### Answer 2: \n",
    "Different types of reasons of churn:\n",
    "1. *Contractual Churn* - when users decide not to continue/renew with their expired subscriptions. <br><br>\n",
    "2. *Voluntary Churn* - when users cancel their existing service. This can be further divided into:<br>\n",
    "2a. *Product Usability Churn* - when users fail to encounter the “aha” moment in initial engagement days. “aha” moment is the instant when users understand the value of product <br>\n",
    "2b. *High Price Churn* - when users find lower prices at competitors <br><br>\n",
    "3. *Payment Failure Churn* - when users experience friction transacting with the product, which eventually discourages them from further engagement<br><br>\n",
    "4. *Unavoidable churn*: While all above are avoidable churn, some unavoidable churn can be: <br><br>\n",
    "4a. *Missing Product Feature Churn* [Addressable] - when users leave because they seek a particular product functionality, not developed in BI Prime yet. Note: This churn can be addressed by aligining product development road map with customer needs <br>\n",
    "4b. *Involuntary churn* [Unaddressable] - when users (organizations) go out of business or individual users can't pay for subscriptions due to financial hardships.\n",
    "\n",
    "*Reference:*\n",
    "\n",
    "[Facebook's aha moment and how to find it](https://mode.com/blog/facebook-aha-moment-simpler-than-you-think/)\n",
    "\n",
    "#### Question 3:\n",
    "How would you go about identifying and measuring these categories analytically, in your dataset?\n",
    "#### Answer 3: \n",
    "by looking at what your current customers did in your app that your churned customers didn’t do. \n",
    "1. *Contractual Churn* - **Identify**: # of users not renewing monthly/annual subscriptions. **Measure**: Track contract renewal rate.<br><br> \n",
    "2. Voluntary Churn - <br>\n",
    "2a. Product Usability Churn - **Identify**: find set of actions such that majority of users who took the action were retained. Example - sharing BI articles on user's social media. **Measure**: Count # of new users who took the \"aha\" action.<br>\n",
    "2b. High Price Churn - **Identify**: User exit-survey. **Measure**: # Users who gave the reason of leaving as High product price. And calculate Product ROI for customers and advertise the cost/time save<br><br>\n",
    "3. Payment Failure Churn - **Identify**: trasaction processing status **Measure**: # transactions with failed status and reason as 'payment failure'"
   ]
  },
  {
   "cell_type": "markdown",
   "metadata": {},
   "source": [
    "# Task 2:\n",
    "In this example, we’d like you to analyze subscriber data to predict an average customer lifetime. Using the data in the attached spreadsheet, please create a model that calculates the length of an expected average customer lifespan."
   ]
  },
  {
   "cell_type": "markdown",
   "metadata": {},
   "source": [
    "### Step 1: Data cleaning"
   ]
  },
  {
   "cell_type": "code",
   "execution_count": 2,
   "metadata": {},
   "outputs": [
    {
     "data": {
      "text/html": [
       "<div>\n",
       "<style scoped>\n",
       "    .dataframe tbody tr th:only-of-type {\n",
       "        vertical-align: middle;\n",
       "    }\n",
       "\n",
       "    .dataframe tbody tr th {\n",
       "        vertical-align: top;\n",
       "    }\n",
       "\n",
       "    .dataframe thead th {\n",
       "        text-align: right;\n",
       "    }\n",
       "</style>\n",
       "<table border=\"1\" class=\"dataframe\">\n",
       "  <thead>\n",
       "    <tr style=\"text-align: right;\">\n",
       "      <th></th>\n",
       "      <th>TransactionID</th>\n",
       "      <th>Transaction Start Date</th>\n",
       "      <th>User ID</th>\n",
       "      <th>Status</th>\n",
       "      <th>Term Type</th>\n",
       "      <th>Transaction Cancellation Date</th>\n",
       "      <th>Transaction Expiration Date</th>\n",
       "      <th>Auto Renew Enabled</th>\n",
       "      <th>Device</th>\n",
       "    </tr>\n",
       "  </thead>\n",
       "  <tbody>\n",
       "    <tr>\n",
       "      <th>0</th>\n",
       "      <td>RC14CMFB6V8H</td>\n",
       "      <td>1/29/2020</td>\n",
       "      <td>PNI0jcBiqpzup4j</td>\n",
       "      <td>active</td>\n",
       "      <td>Annual</td>\n",
       "      <td>NaN</td>\n",
       "      <td>1/29/2021</td>\n",
       "      <td>True</td>\n",
       "      <td>desktop</td>\n",
       "    </tr>\n",
       "    <tr>\n",
       "      <th>1</th>\n",
       "      <td>RC398GWGYZDO</td>\n",
       "      <td>1/29/2020</td>\n",
       "      <td>PNI3aN2bKq4vuuq</td>\n",
       "      <td>active</td>\n",
       "      <td>Monthly</td>\n",
       "      <td>NaN</td>\n",
       "      <td>2/29/2020</td>\n",
       "      <td>True</td>\n",
       "      <td>external</td>\n",
       "    </tr>\n",
       "    <tr>\n",
       "      <th>2</th>\n",
       "      <td>RCTQ714GQUIY</td>\n",
       "      <td>1/29/2020</td>\n",
       "      <td>PNIuFEFXtq4vulx</td>\n",
       "      <td>active</td>\n",
       "      <td>Annual</td>\n",
       "      <td>NaN</td>\n",
       "      <td>1/29/2021</td>\n",
       "      <td>True</td>\n",
       "      <td>desktop</td>\n",
       "    </tr>\n",
       "    <tr>\n",
       "      <th>3</th>\n",
       "      <td>RCD6KKVUNOPO</td>\n",
       "      <td>1/29/2020</td>\n",
       "      <td>PNIk0Ohaeq4vuhq</td>\n",
       "      <td>active</td>\n",
       "      <td>Monthly</td>\n",
       "      <td>NaN</td>\n",
       "      <td>2/29/2020</td>\n",
       "      <td>True</td>\n",
       "      <td>mobile</td>\n",
       "    </tr>\n",
       "    <tr>\n",
       "      <th>4</th>\n",
       "      <td>RC3G31HTZPWX</td>\n",
       "      <td>1/29/2020</td>\n",
       "      <td>PNIwQfeGuq4vuk3</td>\n",
       "      <td>active</td>\n",
       "      <td>Monthly</td>\n",
       "      <td>NaN</td>\n",
       "      <td>2/29/2020</td>\n",
       "      <td>True</td>\n",
       "      <td>desktop</td>\n",
       "    </tr>\n",
       "  </tbody>\n",
       "</table>\n",
       "</div>"
      ],
      "text/plain": [
       "  TransactionID Transaction Start Date          User ID  Status Term Type  \\\n",
       "0  RC14CMFB6V8H              1/29/2020  PNI0jcBiqpzup4j  active    Annual   \n",
       "1  RC398GWGYZDO              1/29/2020  PNI3aN2bKq4vuuq  active   Monthly   \n",
       "2  RCTQ714GQUIY              1/29/2020  PNIuFEFXtq4vulx  active    Annual   \n",
       "3  RCD6KKVUNOPO              1/29/2020  PNIk0Ohaeq4vuhq  active   Monthly   \n",
       "4  RC3G31HTZPWX              1/29/2020  PNIwQfeGuq4vuk3  active   Monthly   \n",
       "\n",
       "  Transaction Cancellation Date Transaction Expiration Date  \\\n",
       "0                           NaN                   1/29/2021   \n",
       "1                           NaN                   2/29/2020   \n",
       "2                           NaN                   1/29/2021   \n",
       "3                           NaN                   2/29/2020   \n",
       "4                           NaN                   2/29/2020   \n",
       "\n",
       "   Auto Renew Enabled    Device  \n",
       "0                True   desktop  \n",
       "1                True  external  \n",
       "2                True   desktop  \n",
       "3                True    mobile  \n",
       "4                True   desktop  "
      ]
     },
     "execution_count": 2,
     "metadata": {},
     "output_type": "execute_result"
    }
   ],
   "source": [
    "# read the data\n",
    "\n",
    "subscriber_data = pd.read_csv(\"BI Prime Business Intelligence Assessment - Spreadsheet.csv\",skiprows=[0])\n",
    "subscriber_data.head()"
   ]
  },
  {
   "cell_type": "code",
   "execution_count": 3,
   "metadata": {
    "jupyter": {
     "source_hidden": true
    }
   },
   "outputs": [
    {
     "name": "stdout",
     "output_type": "stream",
     "text": [
      "# of rows and columns in data set:  (98351, 9)\n",
      "# of Unique users:  92603\n",
      "# of Unique transactions:  98351\n"
     ]
    }
   ],
   "source": [
    "print(\"# of rows and columns in data set: \", subscriber_data.shape)\n",
    "print(\"# of Unique users: \", len(subscriber_data[\"User ID\"].unique()))\n",
    "print(\"# of Unique transactions: \", len(subscriber_data[\"TransactionID\"].unique()))"
   ]
  },
  {
   "cell_type": "markdown",
   "metadata": {},
   "source": [
    "**Observation: Duplicates present** <br>"
   ]
  },
  {
   "cell_type": "code",
   "execution_count": 4,
   "metadata": {},
   "outputs": [
    {
     "data": {
      "text/html": [
       "<div>\n",
       "<style scoped>\n",
       "    .dataframe tbody tr th:only-of-type {\n",
       "        vertical-align: middle;\n",
       "    }\n",
       "\n",
       "    .dataframe tbody tr th {\n",
       "        vertical-align: top;\n",
       "    }\n",
       "\n",
       "    .dataframe thead th {\n",
       "        text-align: right;\n",
       "    }\n",
       "</style>\n",
       "<table border=\"1\" class=\"dataframe\">\n",
       "  <thead>\n",
       "    <tr style=\"text-align: right;\">\n",
       "      <th></th>\n",
       "      <th>TransactionID</th>\n",
       "      <th>Transaction Start Date</th>\n",
       "      <th>User ID</th>\n",
       "      <th>Status</th>\n",
       "      <th>Term Type</th>\n",
       "      <th>Transaction Cancellation Date</th>\n",
       "      <th>Transaction Expiration Date</th>\n",
       "      <th>Auto Renew Enabled</th>\n",
       "      <th>Device</th>\n",
       "    </tr>\n",
       "  </thead>\n",
       "  <tbody>\n",
       "    <tr>\n",
       "      <th>5305</th>\n",
       "      <td>RC4H9SQQGO6T</td>\n",
       "      <td>1/8/2020</td>\n",
       "      <td>PNIFREaSbpxafra</td>\n",
       "      <td>active</td>\n",
       "      <td>Monthly</td>\n",
       "      <td>NaN</td>\n",
       "      <td>2/8/2020</td>\n",
       "      <td>True</td>\n",
       "      <td>desktop</td>\n",
       "    </tr>\n",
       "    <tr>\n",
       "      <th>5314</th>\n",
       "      <td>RCB7LRDDGOR6</td>\n",
       "      <td>1/8/2020</td>\n",
       "      <td>PNIFREaSbpxafra</td>\n",
       "      <td>active</td>\n",
       "      <td>Monthly</td>\n",
       "      <td>NaN</td>\n",
       "      <td>2/8/2020</td>\n",
       "      <td>True</td>\n",
       "      <td>desktop</td>\n",
       "    </tr>\n",
       "    <tr>\n",
       "      <th>6229</th>\n",
       "      <td>RCWSXRECOWME</td>\n",
       "      <td>1/3/2020</td>\n",
       "      <td>PNIqbyBm9q3j8lm</td>\n",
       "      <td>active</td>\n",
       "      <td>Monthly</td>\n",
       "      <td>NaN</td>\n",
       "      <td>2/3/2020</td>\n",
       "      <td>True</td>\n",
       "      <td>mobile</td>\n",
       "    </tr>\n",
       "    <tr>\n",
       "      <th>6230</th>\n",
       "      <td>RC94ECAVE9EZ</td>\n",
       "      <td>1/3/2020</td>\n",
       "      <td>PNIqbyBm9q3j8lm</td>\n",
       "      <td>active</td>\n",
       "      <td>Monthly</td>\n",
       "      <td>NaN</td>\n",
       "      <td>2/3/2020</td>\n",
       "      <td>True</td>\n",
       "      <td>mobile</td>\n",
       "    </tr>\n",
       "    <tr>\n",
       "      <th>9171</th>\n",
       "      <td>RCK09PU096SM</td>\n",
       "      <td>12/17/2019</td>\n",
       "      <td>PNI2IPtjvq2nszh</td>\n",
       "      <td>active</td>\n",
       "      <td>Monthly</td>\n",
       "      <td>NaN</td>\n",
       "      <td>2/17/2020</td>\n",
       "      <td>True</td>\n",
       "      <td>desktop</td>\n",
       "    </tr>\n",
       "    <tr>\n",
       "      <th>9176</th>\n",
       "      <td>RCPYNUHL2Q1K</td>\n",
       "      <td>12/17/2019</td>\n",
       "      <td>PNI2IPtjvq2nszh</td>\n",
       "      <td>active</td>\n",
       "      <td>Monthly</td>\n",
       "      <td>NaN</td>\n",
       "      <td>2/17/2020</td>\n",
       "      <td>True</td>\n",
       "      <td>desktop</td>\n",
       "    </tr>\n",
       "  </tbody>\n",
       "</table>\n",
       "</div>"
      ],
      "text/plain": [
       "     TransactionID Transaction Start Date          User ID  Status Term Type  \\\n",
       "5305  RC4H9SQQGO6T               1/8/2020  PNIFREaSbpxafra  active   Monthly   \n",
       "5314  RCB7LRDDGOR6               1/8/2020  PNIFREaSbpxafra  active   Monthly   \n",
       "6229  RCWSXRECOWME               1/3/2020  PNIqbyBm9q3j8lm  active   Monthly   \n",
       "6230  RC94ECAVE9EZ               1/3/2020  PNIqbyBm9q3j8lm  active   Monthly   \n",
       "9171  RCK09PU096SM             12/17/2019  PNI2IPtjvq2nszh  active   Monthly   \n",
       "9176  RCPYNUHL2Q1K             12/17/2019  PNI2IPtjvq2nszh  active   Monthly   \n",
       "\n",
       "     Transaction Cancellation Date Transaction Expiration Date  \\\n",
       "5305                           NaN                    2/8/2020   \n",
       "5314                           NaN                    2/8/2020   \n",
       "6229                           NaN                    2/3/2020   \n",
       "6230                           NaN                    2/3/2020   \n",
       "9171                           NaN                   2/17/2020   \n",
       "9176                           NaN                   2/17/2020   \n",
       "\n",
       "      Auto Renew Enabled   Device  \n",
       "5305                True  desktop  \n",
       "5314                True  desktop  \n",
       "6229                True   mobile  \n",
       "6230                True   mobile  \n",
       "9171                True  desktop  \n",
       "9176                True  desktop  "
      ]
     },
     "execution_count": 4,
     "metadata": {},
     "output_type": "execute_result"
    }
   ],
   "source": [
    "subscriber_fullDups = subscriber_data[subscriber_data.duplicated(subset = ['Transaction Start Date', 'User ID', 'Status',\n",
    "                                                                      'Term Type', 'Auto Renew Enabled', \n",
    "                                                                      'Transaction Cancellation Date', 'Device', \n",
    "                                                                      'Transaction Expiration Date'] , keep = False)]\n",
    "subscriber_fullDups.head(6)\n",
    "\n",
    "# There are 176 transaction IDs which contain duplicate entries across all columns. \n",
    "# These duplicate rows will not provide any new information. Hence, I will de-dupe these records. "
   ]
  },
  {
   "cell_type": "code",
   "execution_count": 5,
   "metadata": {
    "collapsed": true,
    "jupyter": {
     "outputs_hidden": true,
     "source_hidden": true
    }
   },
   "outputs": [
    {
     "name": "stdout",
     "output_type": "stream",
     "text": [
      "Shape after first de-duplication:  (98251, 9)\n",
      "# unique users:  92603\n"
     ]
    }
   ],
   "source": [
    "# delete the duplicate entries and keep just one\n",
    "dedupe_1 = subscriber_data.drop_duplicates(['Transaction Start Date', 'User ID', 'Status',\n",
    "                                                                      'Term Type', 'Auto Renew Enabled', \n",
    "                                                                      'Transaction Cancellation Date', 'Device', \n",
    "                                                                      'Transaction Expiration Date'], keep = 'first')\n",
    "print(\"Shape after first de-duplication: \", dedupe_1.shape)\n",
    "print(\"# unique users: \", len(dedupe_1[\"User ID\"].unique()))"
   ]
  },
  {
   "cell_type": "markdown",
   "metadata": {
    "jupyter": {
     "source_hidden": true
    }
   },
   "source": [
    "**Observation:** <br>\n",
    "Further I noted that there are 146 transaction IDs which contain same information under the combination of columns - ['Transaction Start Date', 'User ID', 'Term Type', 'Transaction Expiration Date']. Duplication in these four columns may mean that they represent the exact same transaction. <br><br>\n",
    "*Example*: First and second row in below table contain same information in the said 4 columns. The only difference is in 'Auto Renew Enabled' (values given - True/False). This might have been an issue while recording the data. <br><br>\n",
    "*Solution*: To de-dupe them, I will keep the first occurence and delete the rest of the duplicates. (Note: The decision to keep the first occurence is for the sake of simplicity. More advanced data cleaning steps can be applied in future like imputing the median value for ['Auto Renew Enabled', 'Device'] columns."
   ]
  },
  {
   "cell_type": "code",
   "execution_count": 6,
   "metadata": {
    "jupyter": {
     "source_hidden": true
    }
   },
   "outputs": [
    {
     "name": "stdout",
     "output_type": "stream",
     "text": [
      "Shape after final de-duplication:  (98178, 9)\n",
      "# unique users:  92603\n"
     ]
    }
   ],
   "source": [
    "subscriber_partialDups = dedupe_1[dedupe_1.duplicated(['Transaction Start Date', 'User ID', 'Term Type', \n",
    "                                                      'Transaction Expiration Date'], keep = False)]\n",
    "# subscriber_partialDups.head(6)\n",
    "\n",
    "dedupe_2 = dedupe_1.drop_duplicates(['Transaction Start Date', 'User ID', 'Term Type', \n",
    "                                  'Transaction Expiration Date'], keep = 'first')\n",
    "print(\"Shape after final de-duplication: \", dedupe_2.shape)\n",
    "print(\"# unique users: \",len(dedupe_2[\"User ID\"].unique()))\n",
    "# removed total 173 rows with duplicate/questionable entries"
   ]
  },
  {
   "cell_type": "markdown",
   "metadata": {},
   "source": [
    "**Observation:** <br>\n",
    "1. There are 87,684 users with only single transactions in the data set. <br><br>\n",
    "2. There are 4,919 users with multiple transactions, with total transaction records being 10,494. This group consists of users who have performed multiple actions such as upgrading/cancelling then activating their subscriptions. <br><br>\n",
    "3. *Note:* I will concentrate on the 87,684 users in the below analysis because of assessment time constraint and single transaction users form the larger part of the data. Also, users with multiple transactions will need separate data pre-processing for calculating accurate duration of their subscriptions (as listed at the end of the notebook). "
   ]
  },
  {
   "cell_type": "code",
   "execution_count": 7,
   "metadata": {
    "jupyter": {
     "source_hidden": true
    }
   },
   "outputs": [
    {
     "name": "stdout",
     "output_type": "stream",
     "text": [
      "# users with unique transaction records:  (87684, 1)\n",
      "# users with multiple transaction records:  4919\n"
     ]
    }
   ],
   "source": [
    "# separating single transaction users\n",
    "user_groups = pd.DataFrame(dedupe_2.groupby(['User ID'])['TransactionID'].count()).reset_index()\n",
    "unique_userIDs = user_groups.loc[user_groups.TransactionID == 1]\n",
    "unique_userIDs.drop(\"TransactionID\", axis = 1, inplace = True)\n",
    "\n",
    "# separating multiple transaction users\n",
    "multiple_userIDs = user_groups.loc[user_groups.TransactionID > 1]\n",
    "multiple_userIDs.drop(\"TransactionID\", axis = 1, inplace = True)\n",
    "print(\"# users with unique transaction records: \", unique_userIDs.shape)\n",
    "print(\"# users with multiple transaction records: \", len(multiple_userIDs))"
   ]
  },
  {
   "cell_type": "markdown",
   "metadata": {},
   "source": [
    "**Following is the portion of the data, I will use for further analysis and modeling average customer life span**"
   ]
  },
  {
   "cell_type": "code",
   "execution_count": 8,
   "metadata": {},
   "outputs": [
    {
     "data": {
      "text/html": [
       "<div>\n",
       "<style scoped>\n",
       "    .dataframe tbody tr th:only-of-type {\n",
       "        vertical-align: middle;\n",
       "    }\n",
       "\n",
       "    .dataframe tbody tr th {\n",
       "        vertical-align: top;\n",
       "    }\n",
       "\n",
       "    .dataframe thead th {\n",
       "        text-align: right;\n",
       "    }\n",
       "</style>\n",
       "<table border=\"1\" class=\"dataframe\">\n",
       "  <thead>\n",
       "    <tr style=\"text-align: right;\">\n",
       "      <th></th>\n",
       "      <th>User ID</th>\n",
       "      <th>TransactionID</th>\n",
       "      <th>Transaction Start Date</th>\n",
       "      <th>Status</th>\n",
       "      <th>Term Type</th>\n",
       "      <th>Transaction Cancellation Date</th>\n",
       "      <th>Transaction Expiration Date</th>\n",
       "      <th>Auto Renew Enabled</th>\n",
       "      <th>Device</th>\n",
       "    </tr>\n",
       "  </thead>\n",
       "  <tbody>\n",
       "    <tr>\n",
       "      <th>0</th>\n",
       "      <td>000AbmTw6q</td>\n",
       "      <td>RC4A4H7KLI18</td>\n",
       "      <td>7/14/2018</td>\n",
       "      <td>cancelled</td>\n",
       "      <td>Monthly</td>\n",
       "      <td>7/14/2018</td>\n",
       "      <td>7/14/2018</td>\n",
       "      <td>True</td>\n",
       "      <td>mobile</td>\n",
       "    </tr>\n",
       "    <tr>\n",
       "      <th>1</th>\n",
       "      <td>00RBYcJVMs</td>\n",
       "      <td>RC35LK40H68S</td>\n",
       "      <td>4/3/2019</td>\n",
       "      <td>payment failure</td>\n",
       "      <td>Monthly</td>\n",
       "      <td>NaN</td>\n",
       "      <td>5/10/2019</td>\n",
       "      <td>True</td>\n",
       "      <td>desktop</td>\n",
       "    </tr>\n",
       "    <tr>\n",
       "      <th>2</th>\n",
       "      <td>00nmxJnuwg</td>\n",
       "      <td>RCXHNBEV44K8</td>\n",
       "      <td>3/24/2018</td>\n",
       "      <td>payment failure</td>\n",
       "      <td>Monthly</td>\n",
       "      <td>NaN</td>\n",
       "      <td>3/3/2019</td>\n",
       "      <td>False</td>\n",
       "      <td>mobile</td>\n",
       "    </tr>\n",
       "    <tr>\n",
       "      <th>3</th>\n",
       "      <td>01IxjKJVBH</td>\n",
       "      <td>RCJ3ZEBGXRFI</td>\n",
       "      <td>2/1/2018</td>\n",
       "      <td>cancelled</td>\n",
       "      <td>Monthly</td>\n",
       "      <td>3/9/2018</td>\n",
       "      <td>3/9/2018</td>\n",
       "      <td>True</td>\n",
       "      <td>desktop</td>\n",
       "    </tr>\n",
       "    <tr>\n",
       "      <th>4</th>\n",
       "      <td>01ini38hux</td>\n",
       "      <td>RC38TQISDG95</td>\n",
       "      <td>7/20/2019</td>\n",
       "      <td>expired</td>\n",
       "      <td>Monthly</td>\n",
       "      <td>NaN</td>\n",
       "      <td>8/20/2019</td>\n",
       "      <td>False</td>\n",
       "      <td>external</td>\n",
       "    </tr>\n",
       "  </tbody>\n",
       "</table>\n",
       "</div>"
      ],
      "text/plain": [
       "      User ID TransactionID Transaction Start Date           Status Term Type  \\\n",
       "0  000AbmTw6q  RC4A4H7KLI18              7/14/2018        cancelled   Monthly   \n",
       "1  00RBYcJVMs  RC35LK40H68S               4/3/2019  payment failure   Monthly   \n",
       "2  00nmxJnuwg  RCXHNBEV44K8              3/24/2018  payment failure   Monthly   \n",
       "3  01IxjKJVBH  RCJ3ZEBGXRFI               2/1/2018        cancelled   Monthly   \n",
       "4  01ini38hux  RC38TQISDG95              7/20/2019          expired   Monthly   \n",
       "\n",
       "  Transaction Cancellation Date Transaction Expiration Date  \\\n",
       "0                     7/14/2018                   7/14/2018   \n",
       "1                           NaN                   5/10/2019   \n",
       "2                           NaN                    3/3/2019   \n",
       "3                      3/9/2018                    3/9/2018   \n",
       "4                           NaN                   8/20/2019   \n",
       "\n",
       "   Auto Renew Enabled    Device  \n",
       "0                True    mobile  \n",
       "1                True   desktop  \n",
       "2               False    mobile  \n",
       "3                True   desktop  \n",
       "4               False  external  "
      ]
     },
     "execution_count": 8,
     "metadata": {},
     "output_type": "execute_result"
    }
   ],
   "source": [
    "unique_user_trans = pd.merge(unique_userIDs, dedupe_2, how='inner', on=['User ID'])\n",
    "unique_user_trans.head()"
   ]
  },
  {
   "cell_type": "code",
   "execution_count": 9,
   "metadata": {
    "collapsed": true,
    "jupyter": {
     "outputs_hidden": true,
     "source_hidden": true
    }
   },
   "outputs": [
    {
     "name": "stdout",
     "output_type": "stream",
     "text": [
      "# rows and columns:  (10494, 9)\n"
     ]
    },
    {
     "data": {
      "text/html": [
       "<div>\n",
       "<style scoped>\n",
       "    .dataframe tbody tr th:only-of-type {\n",
       "        vertical-align: middle;\n",
       "    }\n",
       "\n",
       "    .dataframe tbody tr th {\n",
       "        vertical-align: top;\n",
       "    }\n",
       "\n",
       "    .dataframe thead th {\n",
       "        text-align: right;\n",
       "    }\n",
       "</style>\n",
       "<table border=\"1\" class=\"dataframe\">\n",
       "  <thead>\n",
       "    <tr style=\"text-align: right;\">\n",
       "      <th></th>\n",
       "      <th>User ID</th>\n",
       "      <th>TransactionID</th>\n",
       "      <th>Transaction Start Date</th>\n",
       "      <th>Status</th>\n",
       "      <th>Term Type</th>\n",
       "      <th>Transaction Cancellation Date</th>\n",
       "      <th>Transaction Expiration Date</th>\n",
       "      <th>Auto Renew Enabled</th>\n",
       "      <th>Device</th>\n",
       "    </tr>\n",
       "  </thead>\n",
       "  <tbody>\n",
       "    <tr>\n",
       "      <th>0</th>\n",
       "      <td>00RLHiXotB</td>\n",
       "      <td>RCQ17WOMH70E</td>\n",
       "      <td>8/16/2019</td>\n",
       "      <td>active</td>\n",
       "      <td>Annual</td>\n",
       "      <td>NaN</td>\n",
       "      <td>8/16/2020</td>\n",
       "      <td>True</td>\n",
       "      <td>desktop</td>\n",
       "    </tr>\n",
       "    <tr>\n",
       "      <th>1</th>\n",
       "      <td>00RLHiXotB</td>\n",
       "      <td>RCX3DOCS003B</td>\n",
       "      <td>6/12/2019</td>\n",
       "      <td>expired</td>\n",
       "      <td>Monthly</td>\n",
       "      <td>NaN</td>\n",
       "      <td>8/12/2019</td>\n",
       "      <td>True</td>\n",
       "      <td>desktop</td>\n",
       "    </tr>\n",
       "    <tr>\n",
       "      <th>2</th>\n",
       "      <td>00aPliEDEN</td>\n",
       "      <td>RCK9E662EQZ8</td>\n",
       "      <td>9/13/2019</td>\n",
       "      <td>expired</td>\n",
       "      <td>Monthly</td>\n",
       "      <td>NaN</td>\n",
       "      <td>1/13/2020</td>\n",
       "      <td>True</td>\n",
       "      <td>desktop</td>\n",
       "    </tr>\n",
       "    <tr>\n",
       "      <th>3</th>\n",
       "      <td>00aPliEDEN</td>\n",
       "      <td>RCF2MXO2ARVM</td>\n",
       "      <td>8/6/2018</td>\n",
       "      <td>cancelled</td>\n",
       "      <td>Monthly</td>\n",
       "      <td>8/30/2018</td>\n",
       "      <td>8/30/2018</td>\n",
       "      <td>True</td>\n",
       "      <td>desktop</td>\n",
       "    </tr>\n",
       "    <tr>\n",
       "      <th>4</th>\n",
       "      <td>010lg0SMZO</td>\n",
       "      <td>RC66S3L7V1CM</td>\n",
       "      <td>11/19/2019</td>\n",
       "      <td>expired</td>\n",
       "      <td>Monthly</td>\n",
       "      <td>NaN</td>\n",
       "      <td>12/19/2019</td>\n",
       "      <td>False</td>\n",
       "      <td>mobile</td>\n",
       "    </tr>\n",
       "  </tbody>\n",
       "</table>\n",
       "</div>"
      ],
      "text/plain": [
       "      User ID TransactionID Transaction Start Date     Status Term Type  \\\n",
       "0  00RLHiXotB  RCQ17WOMH70E              8/16/2019     active    Annual   \n",
       "1  00RLHiXotB  RCX3DOCS003B              6/12/2019    expired   Monthly   \n",
       "2  00aPliEDEN  RCK9E662EQZ8              9/13/2019    expired   Monthly   \n",
       "3  00aPliEDEN  RCF2MXO2ARVM               8/6/2018  cancelled   Monthly   \n",
       "4  010lg0SMZO  RC66S3L7V1CM             11/19/2019    expired   Monthly   \n",
       "\n",
       "  Transaction Cancellation Date Transaction Expiration Date  \\\n",
       "0                           NaN                   8/16/2020   \n",
       "1                           NaN                   8/12/2019   \n",
       "2                           NaN                   1/13/2020   \n",
       "3                     8/30/2018                   8/30/2018   \n",
       "4                           NaN                  12/19/2019   \n",
       "\n",
       "   Auto Renew Enabled   Device  \n",
       "0                True  desktop  \n",
       "1                True  desktop  \n",
       "2                True  desktop  \n",
       "3                True  desktop  \n",
       "4               False   mobile  "
      ]
     },
     "execution_count": 9,
     "metadata": {},
     "output_type": "execute_result"
    }
   ],
   "source": [
    "# needs further processing to calculate accurate subscription duration - will not be using\n",
    "\n",
    "multiple_user_trans = pd.merge(multiple_userIDs, dedupe_2, how='inner', on=['User ID'])\n",
    "print(\"# rows and columns: \", multiple_user_trans.shape)\n",
    "\n",
    "multiple_user_trans.head()"
   ]
  },
  {
   "cell_type": "markdown",
   "metadata": {},
   "source": [
    "### Concepts:\n",
    "\n",
    "Calculation of averge customer lifetime can be done using 'survival analysis' where:<br>\n",
    "1. Event: Customer churned (I will create a new column with this information)\n",
    "2. Time line: The time from the beginning of an observation period (subsription start time) to its end (subscription end time or today's date, which signifies end of study)\n",
    "3. Right-Censoring: There are users who haven’t encountered the event (subscription termination) during the observation time. This makes the data right-censored.\n",
    "<br>\n",
    "\n",
    "[More on types of censoring](https://blog.minitab.com/blog/michelle-paret/the-difference-between-right-left-and-interval-censored-data)\n",
    "\n",
    "* NOTE - I solved using survival analysis because I had done a survival project in school\n",
    "\n",
    "### Step 2: Data Pre-processing"
   ]
  },
  {
   "cell_type": "code",
   "execution_count": 10,
   "metadata": {
    "jupyter": {
     "source_hidden": true
    }
   },
   "outputs": [],
   "source": [
    "# convert the date columns from string to datetime, for further manipulation\n",
    "\n",
    "unique_user_trans['Transaction Start Date'] = pd.to_datetime(unique_user_trans['Transaction Start Date'])\n",
    "unique_user_trans['Transaction Cancellation Date'] = pd.to_datetime(unique_user_trans['Transaction Cancellation Date'])\n",
    "unique_user_trans['Transaction Expiration Date'] = pd.to_datetime(unique_user_trans['Transaction Expiration Date'])"
   ]
  },
  {
   "cell_type": "code",
   "execution_count": 11,
   "metadata": {},
   "outputs": [
    {
     "data": {
      "text/plain": [
       "active             41371\n",
       "expired            29344\n",
       "payment failure    10427\n",
       "cancelled           6514\n",
       "won't renew           28\n",
       "Name: Status, dtype: int64"
      ]
     },
     "execution_count": 11,
     "metadata": {},
     "output_type": "execute_result"
    }
   ],
   "source": [
    "unique_user_trans[\"Status\"].value_counts()"
   ]
  },
  {
   "cell_type": "markdown",
   "metadata": {},
   "source": [
    "#### Assumptions related to the data:\n",
    "\n",
    "1. For active users, I will consider the difference between today's date (3rd July 2020) and corresponding transaction start date for calculating length of their subscription. <br><br>\n",
    "2. For [Expired, Payment Failure and Won't renew] transactions, use the expiration date as time of event. <br>This is based on my assuption/intuition as the data file said *Transaction Expiration Date means the End Date of subscription transaction (past) or when it is set to end automatically (future) if not renewed*."
   ]
  },
  {
   "cell_type": "code",
   "execution_count": 12,
   "metadata": {},
   "outputs": [],
   "source": [
    "# following function calculates duration/tenure of subscription in DAYS. \n",
    "\n",
    "def calculate_days(row):\n",
    "    \"\"\"\n",
    "    Logic for choosing subscription end date:\n",
    "    \n",
    "    1. Cancelled transactions :: use the cancellation date as time of event\n",
    "    2. [Expired, Payment Failure and Won't renew] transactions :: use the expiration date as time of event\n",
    "    3. Active transactions :: Event has not occured. So subcription duration is calculated till today's date. \n",
    "\n",
    "    \"\"\"\n",
    "    \n",
    "    if row['Status'] == \"cancelled\":\n",
    "        val = (row['Transaction Cancellation Date'] - row['Transaction Start Date'])/np.timedelta64(1, 'D')\n",
    "    \n",
    "    elif row['Status'] == \"expired\" or row['Status'] == \"payment failure\" or row['Status'] == \"won't renew\":\n",
    "        val = (row['Transaction Expiration Date'] - row['Transaction Start Date'])/np.timedelta64(1, 'D')\n",
    "    \n",
    "    elif row['Status'] == \"active\":\n",
    "        val = (pd.to_datetime(today) - row['Transaction Start Date'])/np.timedelta64(1, 'D')\n",
    "    \n",
    "    else:\n",
    "        val = 0\n",
    "        \n",
    "    return int(val)\n",
    "\n",
    "# new column with tenure in days\n",
    "unique_user_trans['Tenure'] = unique_user_trans.apply(calculate_days, axis=1)\n",
    "\n",
    "# all users who are not active have been labelled as churned. Note - decision based on intuition. \n",
    "\n",
    "unique_user_trans['Churn'] = np.where(unique_user_trans['Status']=='active', 0, 1)"
   ]
  },
  {
   "cell_type": "code",
   "execution_count": 13,
   "metadata": {},
   "outputs": [
    {
     "data": {
      "text/html": [
       "<div>\n",
       "<style scoped>\n",
       "    .dataframe tbody tr th:only-of-type {\n",
       "        vertical-align: middle;\n",
       "    }\n",
       "\n",
       "    .dataframe tbody tr th {\n",
       "        vertical-align: top;\n",
       "    }\n",
       "\n",
       "    .dataframe thead th {\n",
       "        text-align: right;\n",
       "    }\n",
       "</style>\n",
       "<table border=\"1\" class=\"dataframe\">\n",
       "  <thead>\n",
       "    <tr style=\"text-align: right;\">\n",
       "      <th></th>\n",
       "      <th>User ID</th>\n",
       "      <th>TransactionID</th>\n",
       "      <th>Transaction Start Date</th>\n",
       "      <th>Status</th>\n",
       "      <th>Term Type</th>\n",
       "      <th>Transaction Cancellation Date</th>\n",
       "      <th>Transaction Expiration Date</th>\n",
       "      <th>Auto Renew Enabled</th>\n",
       "      <th>Device</th>\n",
       "      <th>Tenure</th>\n",
       "      <th>Churn</th>\n",
       "    </tr>\n",
       "  </thead>\n",
       "  <tbody>\n",
       "    <tr>\n",
       "      <th>0</th>\n",
       "      <td>000AbmTw6q</td>\n",
       "      <td>RC4A4H7KLI18</td>\n",
       "      <td>2018-07-14</td>\n",
       "      <td>cancelled</td>\n",
       "      <td>Monthly</td>\n",
       "      <td>2018-07-14</td>\n",
       "      <td>2018-07-14</td>\n",
       "      <td>True</td>\n",
       "      <td>mobile</td>\n",
       "      <td>0</td>\n",
       "      <td>1</td>\n",
       "    </tr>\n",
       "    <tr>\n",
       "      <th>1</th>\n",
       "      <td>00RBYcJVMs</td>\n",
       "      <td>RC35LK40H68S</td>\n",
       "      <td>2019-04-03</td>\n",
       "      <td>payment failure</td>\n",
       "      <td>Monthly</td>\n",
       "      <td>NaT</td>\n",
       "      <td>2019-05-10</td>\n",
       "      <td>True</td>\n",
       "      <td>desktop</td>\n",
       "      <td>37</td>\n",
       "      <td>1</td>\n",
       "    </tr>\n",
       "    <tr>\n",
       "      <th>2</th>\n",
       "      <td>00nmxJnuwg</td>\n",
       "      <td>RCXHNBEV44K8</td>\n",
       "      <td>2018-03-24</td>\n",
       "      <td>payment failure</td>\n",
       "      <td>Monthly</td>\n",
       "      <td>NaT</td>\n",
       "      <td>2019-03-03</td>\n",
       "      <td>False</td>\n",
       "      <td>mobile</td>\n",
       "      <td>344</td>\n",
       "      <td>1</td>\n",
       "    </tr>\n",
       "    <tr>\n",
       "      <th>3</th>\n",
       "      <td>01IxjKJVBH</td>\n",
       "      <td>RCJ3ZEBGXRFI</td>\n",
       "      <td>2018-02-01</td>\n",
       "      <td>cancelled</td>\n",
       "      <td>Monthly</td>\n",
       "      <td>2018-03-09</td>\n",
       "      <td>2018-03-09</td>\n",
       "      <td>True</td>\n",
       "      <td>desktop</td>\n",
       "      <td>36</td>\n",
       "      <td>1</td>\n",
       "    </tr>\n",
       "    <tr>\n",
       "      <th>4</th>\n",
       "      <td>01ini38hux</td>\n",
       "      <td>RC38TQISDG95</td>\n",
       "      <td>2019-07-20</td>\n",
       "      <td>expired</td>\n",
       "      <td>Monthly</td>\n",
       "      <td>NaT</td>\n",
       "      <td>2019-08-20</td>\n",
       "      <td>False</td>\n",
       "      <td>external</td>\n",
       "      <td>31</td>\n",
       "      <td>1</td>\n",
       "    </tr>\n",
       "    <tr>\n",
       "      <th>...</th>\n",
       "      <td>...</td>\n",
       "      <td>...</td>\n",
       "      <td>...</td>\n",
       "      <td>...</td>\n",
       "      <td>...</td>\n",
       "      <td>...</td>\n",
       "      <td>...</td>\n",
       "      <td>...</td>\n",
       "      <td>...</td>\n",
       "      <td>...</td>\n",
       "      <td>...</td>\n",
       "    </tr>\n",
       "    <tr>\n",
       "      <th>87679</th>\n",
       "      <td>zyaJiY2s35</td>\n",
       "      <td>RCLYH42P06I8</td>\n",
       "      <td>2018-01-05</td>\n",
       "      <td>cancelled</td>\n",
       "      <td>Monthly</td>\n",
       "      <td>2018-03-09</td>\n",
       "      <td>2018-03-09</td>\n",
       "      <td>True</td>\n",
       "      <td>desktop</td>\n",
       "      <td>63</td>\n",
       "      <td>1</td>\n",
       "    </tr>\n",
       "    <tr>\n",
       "      <th>87680</th>\n",
       "      <td>zyoZ265aiD</td>\n",
       "      <td>RCK3T2AF7CMN</td>\n",
       "      <td>2017-12-15</td>\n",
       "      <td>cancelled</td>\n",
       "      <td>Monthly</td>\n",
       "      <td>2018-02-16</td>\n",
       "      <td>2018-02-16</td>\n",
       "      <td>True</td>\n",
       "      <td>desktop</td>\n",
       "      <td>63</td>\n",
       "      <td>1</td>\n",
       "    </tr>\n",
       "    <tr>\n",
       "      <th>87681</th>\n",
       "      <td>zyx1g3TBKh</td>\n",
       "      <td>RCZ686OP1CUW</td>\n",
       "      <td>2017-12-27</td>\n",
       "      <td>cancelled</td>\n",
       "      <td>Monthly</td>\n",
       "      <td>2017-12-27</td>\n",
       "      <td>2018-01-27</td>\n",
       "      <td>True</td>\n",
       "      <td>desktop</td>\n",
       "      <td>0</td>\n",
       "      <td>1</td>\n",
       "    </tr>\n",
       "    <tr>\n",
       "      <th>87682</th>\n",
       "      <td>zzKlmFTYky</td>\n",
       "      <td>RCOJCX6CBSNW</td>\n",
       "      <td>2018-06-23</td>\n",
       "      <td>active</td>\n",
       "      <td>Monthly</td>\n",
       "      <td>NaT</td>\n",
       "      <td>2020-01-30</td>\n",
       "      <td>True</td>\n",
       "      <td>mobile</td>\n",
       "      <td>741</td>\n",
       "      <td>0</td>\n",
       "    </tr>\n",
       "    <tr>\n",
       "      <th>87683</th>\n",
       "      <td>zzReuR6ilk</td>\n",
       "      <td>RCPFVLTMM8LN</td>\n",
       "      <td>2019-07-03</td>\n",
       "      <td>active</td>\n",
       "      <td>Monthly</td>\n",
       "      <td>NaT</td>\n",
       "      <td>2020-02-03</td>\n",
       "      <td>False</td>\n",
       "      <td>desktop</td>\n",
       "      <td>366</td>\n",
       "      <td>0</td>\n",
       "    </tr>\n",
       "  </tbody>\n",
       "</table>\n",
       "<p>87684 rows × 11 columns</p>\n",
       "</div>"
      ],
      "text/plain": [
       "          User ID TransactionID Transaction Start Date           Status  \\\n",
       "0      000AbmTw6q  RC4A4H7KLI18             2018-07-14        cancelled   \n",
       "1      00RBYcJVMs  RC35LK40H68S             2019-04-03  payment failure   \n",
       "2      00nmxJnuwg  RCXHNBEV44K8             2018-03-24  payment failure   \n",
       "3      01IxjKJVBH  RCJ3ZEBGXRFI             2018-02-01        cancelled   \n",
       "4      01ini38hux  RC38TQISDG95             2019-07-20          expired   \n",
       "...           ...           ...                    ...              ...   \n",
       "87679  zyaJiY2s35  RCLYH42P06I8             2018-01-05        cancelled   \n",
       "87680  zyoZ265aiD  RCK3T2AF7CMN             2017-12-15        cancelled   \n",
       "87681  zyx1g3TBKh  RCZ686OP1CUW             2017-12-27        cancelled   \n",
       "87682  zzKlmFTYky  RCOJCX6CBSNW             2018-06-23           active   \n",
       "87683  zzReuR6ilk  RCPFVLTMM8LN             2019-07-03           active   \n",
       "\n",
       "      Term Type Transaction Cancellation Date Transaction Expiration Date  \\\n",
       "0       Monthly                    2018-07-14                  2018-07-14   \n",
       "1       Monthly                           NaT                  2019-05-10   \n",
       "2       Monthly                           NaT                  2019-03-03   \n",
       "3       Monthly                    2018-03-09                  2018-03-09   \n",
       "4       Monthly                           NaT                  2019-08-20   \n",
       "...         ...                           ...                         ...   \n",
       "87679   Monthly                    2018-03-09                  2018-03-09   \n",
       "87680   Monthly                    2018-02-16                  2018-02-16   \n",
       "87681   Monthly                    2017-12-27                  2018-01-27   \n",
       "87682   Monthly                           NaT                  2020-01-30   \n",
       "87683   Monthly                           NaT                  2020-02-03   \n",
       "\n",
       "       Auto Renew Enabled    Device  Tenure  Churn  \n",
       "0                    True    mobile       0      1  \n",
       "1                    True   desktop      37      1  \n",
       "2                   False    mobile     344      1  \n",
       "3                    True   desktop      36      1  \n",
       "4                   False  external      31      1  \n",
       "...                   ...       ...     ...    ...  \n",
       "87679                True   desktop      63      1  \n",
       "87680                True   desktop      63      1  \n",
       "87681                True   desktop       0      1  \n",
       "87682                True    mobile     741      0  \n",
       "87683               False   desktop     366      0  \n",
       "\n",
       "[87684 rows x 11 columns]"
      ]
     },
     "execution_count": 13,
     "metadata": {},
     "output_type": "execute_result"
    }
   ],
   "source": [
    "unique_user_trans\n",
    "\n",
    "# dataframe is ready for use"
   ]
  },
  {
   "cell_type": "markdown",
   "metadata": {},
   "source": [
    "### Step 3: Data Exploration/Preliminary Analysis\n",
    "\n",
    "\n",
    "* **Observations:**\n",
    "    * Lots of people with 1-month, 2- and 6-month durations. Then it drops off"
   ]
  },
  {
   "cell_type": "code",
   "execution_count": 14,
   "metadata": {},
   "outputs": [
    {
     "data": {
      "text/plain": [
       "<AxesSubplot:>"
      ]
     },
     "execution_count": 14,
     "metadata": {},
     "output_type": "execute_result"
    },
    {
     "data": {
      "image/png": "[encoded data removed]",
      "text/plain": [
       "<Figure size 432x288 with 1 Axes>"
      ]
     },
     "metadata": {
      "needs_background": "light"
     },
     "output_type": "display_data"
    }
   ],
   "source": [
    "round(unique_user_trans[unique_user_trans[\"Term Type\"]==\"Monthly\"][\"Tenure\"]/30).hist(bins=70)"
   ]
  },
  {
   "cell_type": "markdown",
   "metadata": {},
   "source": [
    "* Lots of people w/ 1-year duration with BI. \n",
    "* Followed by those w/ 2-year durations"
   ]
  },
  {
   "cell_type": "code",
   "execution_count": 15,
   "metadata": {},
   "outputs": [
    {
     "data": {
      "text/plain": [
       "<AxesSubplot:>"
      ]
     },
     "execution_count": 15,
     "metadata": {},
     "output_type": "execute_result"
    },
    {
     "data": {
      "image/png": "[encoded data removed]",
      "text/plain": [
       "<Figure size 432x288 with 1 Axes>"
      ]
     },
     "metadata": {
      "needs_background": "light"
     },
     "output_type": "display_data"
    }
   ],
   "source": [
    "round(unique_user_trans[unique_user_trans[\"Term Type\"]==\"Annual\"][\"Tenure\"]/365).hist()"
   ]
  },
  {
   "cell_type": "code",
   "execution_count": 16,
   "metadata": {},
   "outputs": [
    {
     "data": {
      "text/plain": [
       "User ID                                   zo26Yri8UE\n",
       "TransactionID                           RCRNGKUD735V\n",
       "Transaction Start Date           2018-07-16 00:00:00\n",
       "Status                                       expired\n",
       "Term Type                                     Annual\n",
       "Transaction Cancellation Date                    NaT\n",
       "Transaction Expiration Date      2019-07-16 00:00:00\n",
       "Auto Renew Enabled                             False\n",
       "Device                                         other\n",
       "Tenure                                           365\n",
       "Churn                                              1\n",
       "Name: 87643, dtype: object"
      ]
     },
     "execution_count": 16,
     "metadata": {},
     "output_type": "execute_result"
    }
   ],
   "source": [
    "# example of person with 1 year tenure\n",
    "\n",
    "unique_user_trans.loc[87643]"
   ]
  },
  {
   "cell_type": "code",
   "execution_count": 17,
   "metadata": {
    "jupyter": {
     "source_hidden": true
    }
   },
   "outputs": [
    {
     "name": "stdout",
     "output_type": "stream",
     "text": [
      "Min subscription start date:  2017-11-01 \n",
      "Max subscription end date:  2022-02-28\n"
     ]
    }
   ],
   "source": [
    "print(\"Min subscription start date: \", unique_user_trans['Transaction Start Date'].min().date(), \"\\nMax subscription end date: \", unique_user_trans['Transaction Expiration Date'].max().date())"
   ]
  },
  {
   "cell_type": "markdown",
   "metadata": {},
   "source": [
    "* 78% of people in dataset are monthly subscirbers"
   ]
  },
  {
   "cell_type": "code",
   "execution_count": 18,
   "metadata": {},
   "outputs": [
    {
     "data": {
      "text/plain": [
       "Monthly    69117\n",
       "Annual     18567\n",
       "Name: Term Type, dtype: int64"
      ]
     },
     "execution_count": 18,
     "metadata": {},
     "output_type": "execute_result"
    }
   ],
   "source": [
    "unique_user_trans[\"Term Type\"].value_counts()"
   ]
  },
  {
   "cell_type": "markdown",
   "metadata": {},
   "source": [
    "* Half of the people have churned in dataset"
   ]
  },
  {
   "cell_type": "code",
   "execution_count": 19,
   "metadata": {},
   "outputs": [
    {
     "data": {
      "text/plain": [
       "1    0.528181\n",
       "0    0.471819\n",
       "Name: Churn, dtype: float64"
      ]
     },
     "execution_count": 19,
     "metadata": {},
     "output_type": "execute_result"
    }
   ],
   "source": [
    "unique_user_trans[\"Churn\"].value_counts(normalize=True)"
   ]
  },
  {
   "cell_type": "markdown",
   "metadata": {},
   "source": [
    "* Churn rate is higher with Monthly subscriptions"
   ]
  },
  {
   "cell_type": "code",
   "execution_count": 20,
   "metadata": {},
   "outputs": [
    {
     "data": {
      "text/html": [
       "<div>\n",
       "<style scoped>\n",
       "    .dataframe tbody tr th:only-of-type {\n",
       "        vertical-align: middle;\n",
       "    }\n",
       "\n",
       "    .dataframe tbody tr th {\n",
       "        vertical-align: top;\n",
       "    }\n",
       "\n",
       "    .dataframe thead th {\n",
       "        text-align: right;\n",
       "    }\n",
       "</style>\n",
       "<table border=\"1\" class=\"dataframe\">\n",
       "  <thead>\n",
       "    <tr style=\"text-align: right;\">\n",
       "      <th></th>\n",
       "      <th></th>\n",
       "      <th>Churn</th>\n",
       "    </tr>\n",
       "    <tr>\n",
       "      <th>Term Type</th>\n",
       "      <th>Churn</th>\n",
       "      <th></th>\n",
       "    </tr>\n",
       "  </thead>\n",
       "  <tbody>\n",
       "    <tr>\n",
       "      <th rowspan=\"2\" valign=\"top\">Annual</th>\n",
       "      <th>0</th>\n",
       "      <td>0.926806</td>\n",
       "    </tr>\n",
       "    <tr>\n",
       "      <th>1</th>\n",
       "      <td>0.073194</td>\n",
       "    </tr>\n",
       "    <tr>\n",
       "      <th rowspan=\"2\" valign=\"top\">Monthly</th>\n",
       "      <th>0</th>\n",
       "      <td>0.349596</td>\n",
       "    </tr>\n",
       "    <tr>\n",
       "      <th>1</th>\n",
       "      <td>0.650404</td>\n",
       "    </tr>\n",
       "  </tbody>\n",
       "</table>\n",
       "</div>"
      ],
      "text/plain": [
       "                    Churn\n",
       "Term Type Churn          \n",
       "Annual    0      0.926806\n",
       "          1      0.073194\n",
       "Monthly   0      0.349596\n",
       "          1      0.650404"
      ]
     },
     "execution_count": 20,
     "metadata": {},
     "output_type": "execute_result"
    }
   ],
   "source": [
    "pd.DataFrame(unique_user_trans.groupby(\"Term Type\")[\"Churn\"].value_counts(normalize=True)).sort_index()"
   ]
  },
  {
   "cell_type": "markdown",
   "metadata": {},
   "source": [
    "#### Kaplan Myer Estimate \n",
    "1. Get an aggregated view of how long someone is going to be a customer typically (average). \n",
    "2. Compare the overall survival rates of monthly and yearly subscriber cohorts.\n",
    "3. Take a simplistic approach to model only the survival time (without any other impacting variables)\n",
    "<br><br>"
   ]
  },
  {
   "cell_type": "code",
   "execution_count": 16,
   "metadata": {
    "jupyter": {
     "source_hidden": true
    }
   },
   "outputs": [
    {
     "data": {
      "text/plain": [
       "<matplotlib.axes._subplots.AxesSubplot at 0x1df5f388f88>"
      ]
     },
     "execution_count": 16,
     "metadata": {},
     "output_type": "execute_result"
    },
    {
     "data": {
      "image/png": "[encoded data removed]",
      "text/plain": [
       "<Figure size 432x288 with 1 Axes>"
      ]
     },
     "metadata": {
      "needs_background": "light"
     },
     "output_type": "display_data"
    }
   ],
   "source": [
    "# Note: Kaplan-Meier curve can be used when every user can have only a single “birth” (subscription activation) and a single “death” (regardless of whether it is observed or not) event. \n",
    "# Since the data set I am using only has single record for each user, I will go ahead and fit KM curve below.\n",
    "\n",
    "# create a kmf object\n",
    "kmf = KaplanMeierFitter() \n",
    "\n",
    "T = unique_user_trans['Tenure']   \n",
    "E = unique_user_trans['Churn']\n",
    "\n",
    "groups = unique_user_trans['Term Type']   \n",
    "i1 = (groups == 'Monthly')      ## group i1 , having the pandas series  for the 1st cohort\n",
    "i2 = (groups == 'Annual')     ## group i2 , having the pandas series  for the 2nd cohort\n",
    "\n",
    "# fit the model for 1st cohort\n",
    "kmf.fit(T[i1], E[i1], label='Monthly Subscription')\n",
    "a1 = kmf.plot()\n",
    "\n",
    "# fit the model for 2nd cohort\n",
    "kmf.fit(T[i2], E[i2], label='Annual Subscription')\n",
    "kmf.plot(ax=a1)"
   ]
  },
  {
   "cell_type": "code",
   "execution_count": 17,
   "metadata": {},
   "outputs": [
    {
     "data": {
      "image/png": "[encoded data removed]",
      "text/plain": [
       "<Figure size 432x288 with 1 Axes>"
      ]
     },
     "metadata": {
      "needs_background": "light"
     },
     "output_type": "display_data"
    }
   ],
   "source": [
    "# get a better look at annual subscribers\n",
    "# Note: the flat lines correspond to 365 days (a year), which is the length of annual subscription.\n",
    "# Hence, there is no decrease in survival rate during that time\n",
    "\n",
    "kmf.fit(T[i2], E[i2], label='Annual Subscription')\n",
    "a2 = kmf.plot()"
   ]
  },
  {
   "cell_type": "markdown",
   "metadata": {},
   "source": [
    "**Observations:**\n",
    "1. Survival probability of annual subscribers is more than monthly subscribers. <br><br>\n",
    "2. For monthly subscribers, the survival probability is decreasing with high rate during initial 200 days (~6 months) and it gets relatively better after that. <br><br>\n",
    "3. For annual subscribers, the rate of decrease in survival rate is dramatic after 1st year compared to the decrease after 2nd year. Indicating that there is a high probability of people churning after 1st year and the rate decreases after 2nd year. <br><br>\n",
    "4. **Business Recommendation**: Monthly cohort = efforts should be made to retain them in initial 6 volatile months. Yearly cohort = effort should be made to retain them towards the end of their 1st Annual membership."
   ]
  },
  {
   "cell_type": "markdown",
   "metadata": {},
   "source": [
    "### Step 4: Modeling\n",
    "\n",
    "* **CoxPH Model:**\n",
    "    * Much like linear regression - Modeling 101\n",
    "    \n",
    "    * A single individual can have multiple actions on the same account. Hence they show up in the dataset more than once. The clustering characteristic of CoxPH can handle this by specifying additional parameters.\n",
    "    * The \"Cancelled transactions\" have same subscription start and expirate dates. This introduces zeros in durations. CoxPH model can handle this situation\n",
    "* **Con** - used for small dimension data. Doesnt scale well for high-dimension. For high-dimension use ML"
   ]
  },
  {
   "cell_type": "code",
   "execution_count": 21,
   "metadata": {},
   "outputs": [
    {
     "data": {
      "text/html": [
       "<div>\n",
       "<style scoped>\n",
       "    .dataframe tbody tr th:only-of-type {\n",
       "        vertical-align: middle;\n",
       "    }\n",
       "\n",
       "    .dataframe tbody tr th {\n",
       "        vertical-align: top;\n",
       "    }\n",
       "\n",
       "    .dataframe thead th {\n",
       "        text-align: right;\n",
       "    }\n",
       "</style>\n",
       "<table border=\"1\" class=\"dataframe\">\n",
       "  <thead>\n",
       "    <tr style=\"text-align: right;\">\n",
       "      <th></th>\n",
       "      <th>Term Type</th>\n",
       "      <th>Auto Renew Enabled</th>\n",
       "      <th>Device</th>\n",
       "      <th>Tenure</th>\n",
       "      <th>Churn</th>\n",
       "    </tr>\n",
       "  </thead>\n",
       "  <tbody>\n",
       "    <tr>\n",
       "      <th>0</th>\n",
       "      <td>Monthly</td>\n",
       "      <td>True</td>\n",
       "      <td>mobile</td>\n",
       "      <td>0</td>\n",
       "      <td>1</td>\n",
       "    </tr>\n",
       "    <tr>\n",
       "      <th>1</th>\n",
       "      <td>Monthly</td>\n",
       "      <td>True</td>\n",
       "      <td>desktop</td>\n",
       "      <td>37</td>\n",
       "      <td>1</td>\n",
       "    </tr>\n",
       "    <tr>\n",
       "      <th>2</th>\n",
       "      <td>Monthly</td>\n",
       "      <td>False</td>\n",
       "      <td>mobile</td>\n",
       "      <td>344</td>\n",
       "      <td>1</td>\n",
       "    </tr>\n",
       "    <tr>\n",
       "      <th>3</th>\n",
       "      <td>Monthly</td>\n",
       "      <td>True</td>\n",
       "      <td>desktop</td>\n",
       "      <td>36</td>\n",
       "      <td>1</td>\n",
       "    </tr>\n",
       "    <tr>\n",
       "      <th>4</th>\n",
       "      <td>Monthly</td>\n",
       "      <td>False</td>\n",
       "      <td>external</td>\n",
       "      <td>31</td>\n",
       "      <td>1</td>\n",
       "    </tr>\n",
       "  </tbody>\n",
       "</table>\n",
       "</div>"
      ],
      "text/plain": [
       "  Term Type  Auto Renew Enabled    Device  Tenure  Churn\n",
       "0   Monthly                True    mobile       0      1\n",
       "1   Monthly                True   desktop      37      1\n",
       "2   Monthly               False    mobile     344      1\n",
       "3   Monthly                True   desktop      36      1\n",
       "4   Monthly               False  external      31      1"
      ]
     },
     "execution_count": 21,
     "metadata": {},
     "output_type": "execute_result"
    }
   ],
   "source": [
    "unique_user_modelDF = unique_user_trans[[\"Term Type\", \"Auto Renew Enabled\", \"Device\", \"Tenure\",\"Churn\"]]\n",
    "unique_user_modelDF.head()"
   ]
  },
  {
   "cell_type": "code",
   "execution_count": 22,
   "metadata": {
    "jupyter": {
     "source_hidden": true
    }
   },
   "outputs": [
    {
     "data": {
      "text/html": [
       "<div>\n",
       "<style scoped>\n",
       "    .dataframe tbody tr th:only-of-type {\n",
       "        vertical-align: middle;\n",
       "    }\n",
       "\n",
       "    .dataframe tbody tr th {\n",
       "        vertical-align: top;\n",
       "    }\n",
       "\n",
       "    .dataframe thead th {\n",
       "        text-align: right;\n",
       "    }\n",
       "</style>\n",
       "<table border=\"1\" class=\"dataframe\">\n",
       "  <thead>\n",
       "    <tr style=\"text-align: right;\">\n",
       "      <th></th>\n",
       "      <th>Auto Renew Enabled</th>\n",
       "      <th>Tenure</th>\n",
       "      <th>Churn</th>\n",
       "      <th>Term Type_Monthly</th>\n",
       "      <th>Device_external</th>\n",
       "      <th>Device_mobile</th>\n",
       "      <th>Device_other</th>\n",
       "      <th>Device_tablet</th>\n",
       "    </tr>\n",
       "  </thead>\n",
       "  <tbody>\n",
       "    <tr>\n",
       "      <th>0</th>\n",
       "      <td>1</td>\n",
       "      <td>0</td>\n",
       "      <td>1</td>\n",
       "      <td>1</td>\n",
       "      <td>0</td>\n",
       "      <td>1</td>\n",
       "      <td>0</td>\n",
       "      <td>0</td>\n",
       "    </tr>\n",
       "    <tr>\n",
       "      <th>1</th>\n",
       "      <td>1</td>\n",
       "      <td>37</td>\n",
       "      <td>1</td>\n",
       "      <td>1</td>\n",
       "      <td>0</td>\n",
       "      <td>0</td>\n",
       "      <td>0</td>\n",
       "      <td>0</td>\n",
       "    </tr>\n",
       "    <tr>\n",
       "      <th>2</th>\n",
       "      <td>0</td>\n",
       "      <td>344</td>\n",
       "      <td>1</td>\n",
       "      <td>1</td>\n",
       "      <td>0</td>\n",
       "      <td>1</td>\n",
       "      <td>0</td>\n",
       "      <td>0</td>\n",
       "    </tr>\n",
       "    <tr>\n",
       "      <th>3</th>\n",
       "      <td>1</td>\n",
       "      <td>36</td>\n",
       "      <td>1</td>\n",
       "      <td>1</td>\n",
       "      <td>0</td>\n",
       "      <td>0</td>\n",
       "      <td>0</td>\n",
       "      <td>0</td>\n",
       "    </tr>\n",
       "    <tr>\n",
       "      <th>4</th>\n",
       "      <td>0</td>\n",
       "      <td>31</td>\n",
       "      <td>1</td>\n",
       "      <td>1</td>\n",
       "      <td>1</td>\n",
       "      <td>0</td>\n",
       "      <td>0</td>\n",
       "      <td>0</td>\n",
       "    </tr>\n",
       "  </tbody>\n",
       "</table>\n",
       "</div>"
      ],
      "text/plain": [
       "   Auto Renew Enabled  Tenure  Churn  Term Type_Monthly  Device_external  \\\n",
       "0                   1       0      1                  1                0   \n",
       "1                   1      37      1                  1                0   \n",
       "2                   0     344      1                  1                0   \n",
       "3                   1      36      1                  1                0   \n",
       "4                   0      31      1                  1                1   \n",
       "\n",
       "   Device_mobile  Device_other  Device_tablet  \n",
       "0              1             0              0  \n",
       "1              0             0              0  \n",
       "2              1             0              0  \n",
       "3              0             0              0  \n",
       "4              0             0              0  "
      ]
     },
     "execution_count": 22,
     "metadata": {},
     "output_type": "execute_result"
    }
   ],
   "source": [
    "df_dummy = pd.get_dummies(unique_user_modelDF, drop_first=True)\n",
    "df_dummy[\"Auto Renew Enabled\"] = df_dummy[\"Auto Renew Enabled\"].astype(int)\n",
    "df_dummy.head()"
   ]
  },
  {
   "cell_type": "code",
   "execution_count": 23,
   "metadata": {},
   "outputs": [
    {
     "data": {
      "text/html": [
       "<style  type=\"text/css\" >\n",
       "#T_3988df80_36a0_11ec_b8bd_42010a800027row0_col0,#T_3988df80_36a0_11ec_b8bd_42010a800027row1_col1,#T_3988df80_36a0_11ec_b8bd_42010a800027row2_col2,#T_3988df80_36a0_11ec_b8bd_42010a800027row3_col3,#T_3988df80_36a0_11ec_b8bd_42010a800027row4_col4,#T_3988df80_36a0_11ec_b8bd_42010a800027row5_col5,#T_3988df80_36a0_11ec_b8bd_42010a800027row6_col6,#T_3988df80_36a0_11ec_b8bd_42010a800027row7_col7{\n",
       "            background-color:  #023858;\n",
       "            color:  #f1f1f1;\n",
       "        }#T_3988df80_36a0_11ec_b8bd_42010a800027row0_col1{\n",
       "            background-color:  #9ebad9;\n",
       "            color:  #000000;\n",
       "        }#T_3988df80_36a0_11ec_b8bd_42010a800027row0_col2,#T_3988df80_36a0_11ec_b8bd_42010a800027row7_col2{\n",
       "            background-color:  #a5bddb;\n",
       "            color:  #000000;\n",
       "        }#T_3988df80_36a0_11ec_b8bd_42010a800027row0_col3{\n",
       "            background-color:  #c6cce3;\n",
       "            color:  #000000;\n",
       "        }#T_3988df80_36a0_11ec_b8bd_42010a800027row0_col4{\n",
       "            background-color:  #eee9f3;\n",
       "            color:  #000000;\n",
       "        }#T_3988df80_36a0_11ec_b8bd_42010a800027row0_col5{\n",
       "            background-color:  #ece7f2;\n",
       "            color:  #000000;\n",
       "        }#T_3988df80_36a0_11ec_b8bd_42010a800027row0_col6{\n",
       "            background-color:  #f9f2f8;\n",
       "            color:  #000000;\n",
       "        }#T_3988df80_36a0_11ec_b8bd_42010a800027row0_col7{\n",
       "            background-color:  #f1ebf4;\n",
       "            color:  #000000;\n",
       "        }#T_3988df80_36a0_11ec_b8bd_42010a800027row1_col0,#T_3988df80_36a0_11ec_b8bd_42010a800027row4_col6,#T_3988df80_36a0_11ec_b8bd_42010a800027row6_col0,#T_3988df80_36a0_11ec_b8bd_42010a800027row7_col0,#T_3988df80_36a0_11ec_b8bd_42010a800027row7_col5,#T_3988df80_36a0_11ec_b8bd_42010a800027row7_col6{\n",
       "            background-color:  #faf3f9;\n",
       "            color:  #000000;\n",
       "        }#T_3988df80_36a0_11ec_b8bd_42010a800027row1_col2,#T_3988df80_36a0_11ec_b8bd_42010a800027row1_col3,#T_3988df80_36a0_11ec_b8bd_42010a800027row2_col0,#T_3988df80_36a0_11ec_b8bd_42010a800027row2_col1,#T_3988df80_36a0_11ec_b8bd_42010a800027row3_col6,#T_3988df80_36a0_11ec_b8bd_42010a800027row4_col5,#T_3988df80_36a0_11ec_b8bd_42010a800027row5_col4,#T_3988df80_36a0_11ec_b8bd_42010a800027row5_col7{\n",
       "            background-color:  #fff7fb;\n",
       "            color:  #000000;\n",
       "        }#T_3988df80_36a0_11ec_b8bd_42010a800027row1_col4{\n",
       "            background-color:  #f5eff6;\n",
       "            color:  #000000;\n",
       "        }#T_3988df80_36a0_11ec_b8bd_42010a800027row1_col5{\n",
       "            background-color:  #f0eaf4;\n",
       "            color:  #000000;\n",
       "        }#T_3988df80_36a0_11ec_b8bd_42010a800027row1_col6,#T_3988df80_36a0_11ec_b8bd_42010a800027row3_col7{\n",
       "            background-color:  #f7f0f7;\n",
       "            color:  #000000;\n",
       "        }#T_3988df80_36a0_11ec_b8bd_42010a800027row1_col7,#T_3988df80_36a0_11ec_b8bd_42010a800027row3_col4{\n",
       "            background-color:  #e7e3f0;\n",
       "            color:  #000000;\n",
       "        }#T_3988df80_36a0_11ec_b8bd_42010a800027row2_col3{\n",
       "            background-color:  #3790c0;\n",
       "            color:  #000000;\n",
       "        }#T_3988df80_36a0_11ec_b8bd_42010a800027row2_col4{\n",
       "            background-color:  #d5d5e8;\n",
       "            color:  #000000;\n",
       "        }#T_3988df80_36a0_11ec_b8bd_42010a800027row2_col5,#T_3988df80_36a0_11ec_b8bd_42010a800027row6_col7{\n",
       "            background-color:  #f2ecf5;\n",
       "            color:  #000000;\n",
       "        }#T_3988df80_36a0_11ec_b8bd_42010a800027row2_col6,#T_3988df80_36a0_11ec_b8bd_42010a800027row3_col0{\n",
       "            background-color:  #fbf4f9;\n",
       "            color:  #000000;\n",
       "        }#T_3988df80_36a0_11ec_b8bd_42010a800027row2_col7,#T_3988df80_36a0_11ec_b8bd_42010a800027row4_col7{\n",
       "            background-color:  #f6eff7;\n",
       "            color:  #000000;\n",
       "        }#T_3988df80_36a0_11ec_b8bd_42010a800027row3_col1{\n",
       "            background-color:  #e6e2ef;\n",
       "            color:  #000000;\n",
       "        }#T_3988df80_36a0_11ec_b8bd_42010a800027row3_col2{\n",
       "            background-color:  #2081b9;\n",
       "            color:  #000000;\n",
       "        }#T_3988df80_36a0_11ec_b8bd_42010a800027row3_col5{\n",
       "            background-color:  #e0deed;\n",
       "            color:  #000000;\n",
       "        }#T_3988df80_36a0_11ec_b8bd_42010a800027row4_col0{\n",
       "            background-color:  #fdf5fa;\n",
       "            color:  #000000;\n",
       "        }#T_3988df80_36a0_11ec_b8bd_42010a800027row4_col1{\n",
       "            background-color:  #acc0dd;\n",
       "            color:  #000000;\n",
       "        }#T_3988df80_36a0_11ec_b8bd_42010a800027row4_col2{\n",
       "            background-color:  #80aed2;\n",
       "            color:  #000000;\n",
       "        }#T_3988df80_36a0_11ec_b8bd_42010a800027row4_col3{\n",
       "            background-color:  #bdc8e1;\n",
       "            color:  #000000;\n",
       "        }#T_3988df80_36a0_11ec_b8bd_42010a800027row5_col0{\n",
       "            background-color:  #faf2f8;\n",
       "            color:  #000000;\n",
       "        }#T_3988df80_36a0_11ec_b8bd_42010a800027row5_col1{\n",
       "            background-color:  #a4bcda;\n",
       "            color:  #000000;\n",
       "        }#T_3988df80_36a0_11ec_b8bd_42010a800027row5_col2{\n",
       "            background-color:  #a8bedc;\n",
       "            color:  #000000;\n",
       "        }#T_3988df80_36a0_11ec_b8bd_42010a800027row5_col3{\n",
       "            background-color:  #b5c4df;\n",
       "            color:  #000000;\n",
       "        }#T_3988df80_36a0_11ec_b8bd_42010a800027row5_col6{\n",
       "            background-color:  #fcf4fa;\n",
       "            color:  #000000;\n",
       "        }#T_3988df80_36a0_11ec_b8bd_42010a800027row6_col1{\n",
       "            background-color:  #99b8d8;\n",
       "            color:  #000000;\n",
       "        }#T_3988df80_36a0_11ec_b8bd_42010a800027row6_col2{\n",
       "            background-color:  #a1bbda;\n",
       "            color:  #000000;\n",
       "        }#T_3988df80_36a0_11ec_b8bd_42010a800027row6_col3{\n",
       "            background-color:  #cdd0e5;\n",
       "            color:  #000000;\n",
       "        }#T_3988df80_36a0_11ec_b8bd_42010a800027row6_col4{\n",
       "            background-color:  #ede8f3;\n",
       "            color:  #000000;\n",
       "        }#T_3988df80_36a0_11ec_b8bd_42010a800027row6_col5{\n",
       "            background-color:  #efe9f3;\n",
       "            color:  #000000;\n",
       "        }#T_3988df80_36a0_11ec_b8bd_42010a800027row7_col1{\n",
       "            background-color:  #8fb4d6;\n",
       "            color:  #000000;\n",
       "        }#T_3988df80_36a0_11ec_b8bd_42010a800027row7_col3{\n",
       "            background-color:  #ced0e6;\n",
       "            color:  #000000;\n",
       "        }#T_3988df80_36a0_11ec_b8bd_42010a800027row7_col4{\n",
       "            background-color:  #f1ebf5;\n",
       "            color:  #000000;\n",
       "        }</style><table id=\"T_3988df80_36a0_11ec_b8bd_42010a800027\" ><thead>    <tr>        <th class=\"blank level0\" ></th>        <th class=\"col_heading level0 col0\" >Auto Renew Enabled</th>        <th class=\"col_heading level0 col1\" >Tenure</th>        <th class=\"col_heading level0 col2\" >Churn</th>        <th class=\"col_heading level0 col3\" >Term Type_Monthly</th>        <th class=\"col_heading level0 col4\" >Device_external</th>        <th class=\"col_heading level0 col5\" >Device_mobile</th>        <th class=\"col_heading level0 col6\" >Device_other</th>        <th class=\"col_heading level0 col7\" >Device_tablet</th>    </tr></thead><tbody>\n",
       "                <tr>\n",
       "                        <th id=\"T_3988df80_36a0_11ec_b8bd_42010a800027level0_row0\" class=\"row_heading level0 row0\" >Auto Renew Enabled</th>\n",
       "                        <td id=\"T_3988df80_36a0_11ec_b8bd_42010a800027row0_col0\" class=\"data row0 col0\" >1.000000</td>\n",
       "                        <td id=\"T_3988df80_36a0_11ec_b8bd_42010a800027row0_col1\" class=\"data row0 col1\" >0.000650</td>\n",
       "                        <td id=\"T_3988df80_36a0_11ec_b8bd_42010a800027row0_col2\" class=\"data row0 col2\" >-0.034302</td>\n",
       "                        <td id=\"T_3988df80_36a0_11ec_b8bd_42010a800027row0_col3\" class=\"data row0 col3\" >-0.009959</td>\n",
       "                        <td id=\"T_3988df80_36a0_11ec_b8bd_42010a800027row0_col4\" class=\"data row0 col4\" >-0.016950</td>\n",
       "                        <td id=\"T_3988df80_36a0_11ec_b8bd_42010a800027row0_col5\" class=\"data row0 col5\" >0.005023</td>\n",
       "                        <td id=\"T_3988df80_36a0_11ec_b8bd_42010a800027row0_col6\" class=\"data row0 col6\" >0.001480</td>\n",
       "                        <td id=\"T_3988df80_36a0_11ec_b8bd_42010a800027row0_col7\" class=\"data row0 col7\" >0.000801</td>\n",
       "            </tr>\n",
       "            <tr>\n",
       "                        <th id=\"T_3988df80_36a0_11ec_b8bd_42010a800027level0_row1\" class=\"row_heading level0 row1\" >Tenure</th>\n",
       "                        <td id=\"T_3988df80_36a0_11ec_b8bd_42010a800027row1_col0\" class=\"data row1 col0\" >0.000650</td>\n",
       "                        <td id=\"T_3988df80_36a0_11ec_b8bd_42010a800027row1_col1\" class=\"data row1 col1\" >1.000000</td>\n",
       "                        <td id=\"T_3988df80_36a0_11ec_b8bd_42010a800027row1_col2\" class=\"data row1 col2\" >-0.659394</td>\n",
       "                        <td id=\"T_3988df80_36a0_11ec_b8bd_42010a800027row1_col3\" class=\"data row1 col3\" >-0.403603</td>\n",
       "                        <td id=\"T_3988df80_36a0_11ec_b8bd_42010a800027row1_col4\" class=\"data row1 col4\" >-0.068065</td>\n",
       "                        <td id=\"T_3988df80_36a0_11ec_b8bd_42010a800027row1_col5\" class=\"data row1 col5\" >-0.027643</td>\n",
       "                        <td id=\"T_3988df80_36a0_11ec_b8bd_42010a800027row1_col6\" class=\"data row1 col6\" >0.019593</td>\n",
       "                        <td id=\"T_3988df80_36a0_11ec_b8bd_42010a800027row1_col7\" class=\"data row1 col7\" >0.058130</td>\n",
       "            </tr>\n",
       "            <tr>\n",
       "                        <th id=\"T_3988df80_36a0_11ec_b8bd_42010a800027level0_row2\" class=\"row_heading level0 row2\" >Churn</th>\n",
       "                        <td id=\"T_3988df80_36a0_11ec_b8bd_42010a800027row2_col0\" class=\"data row2 col0\" >-0.034302</td>\n",
       "                        <td id=\"T_3988df80_36a0_11ec_b8bd_42010a800027row2_col1\" class=\"data row2 col1\" >-0.659394</td>\n",
       "                        <td id=\"T_3988df80_36a0_11ec_b8bd_42010a800027row2_col2\" class=\"data row2 col2\" >1.000000</td>\n",
       "                        <td id=\"T_3988df80_36a0_11ec_b8bd_42010a800027row2_col3\" class=\"data row2 col3\" >0.472387</td>\n",
       "                        <td id=\"T_3988df80_36a0_11ec_b8bd_42010a800027row2_col4\" class=\"data row2 col4\" >0.120510</td>\n",
       "                        <td id=\"T_3988df80_36a0_11ec_b8bd_42010a800027row2_col5\" class=\"data row2 col5\" >-0.045234</td>\n",
       "                        <td id=\"T_3988df80_36a0_11ec_b8bd_42010a800027row2_col6\" class=\"data row2 col6\" >-0.012857</td>\n",
       "                        <td id=\"T_3988df80_36a0_11ec_b8bd_42010a800027row2_col7\" class=\"data row2 col7\" >-0.035840</td>\n",
       "            </tr>\n",
       "            <tr>\n",
       "                        <th id=\"T_3988df80_36a0_11ec_b8bd_42010a800027level0_row3\" class=\"row_heading level0 row3\" >Term Type_Monthly</th>\n",
       "                        <td id=\"T_3988df80_36a0_11ec_b8bd_42010a800027row3_col0\" class=\"data row3 col0\" >-0.009959</td>\n",
       "                        <td id=\"T_3988df80_36a0_11ec_b8bd_42010a800027row3_col1\" class=\"data row3 col1\" >-0.403603</td>\n",
       "                        <td id=\"T_3988df80_36a0_11ec_b8bd_42010a800027row3_col2\" class=\"data row3 col2\" >0.472387</td>\n",
       "                        <td id=\"T_3988df80_36a0_11ec_b8bd_42010a800027row3_col3\" class=\"data row3 col3\" >1.000000</td>\n",
       "                        <td id=\"T_3988df80_36a0_11ec_b8bd_42010a800027row3_col4\" class=\"data row3 col4\" >0.027568</td>\n",
       "                        <td id=\"T_3988df80_36a0_11ec_b8bd_42010a800027row3_col5\" class=\"data row3 col5\" >0.062320</td>\n",
       "                        <td id=\"T_3988df80_36a0_11ec_b8bd_42010a800027row3_col6\" class=\"data row3 col6\" >-0.039294</td>\n",
       "                        <td id=\"T_3988df80_36a0_11ec_b8bd_42010a800027row3_col7\" class=\"data row3 col7\" >-0.046971</td>\n",
       "            </tr>\n",
       "            <tr>\n",
       "                        <th id=\"T_3988df80_36a0_11ec_b8bd_42010a800027level0_row4\" class=\"row_heading level0 row4\" >Device_external</th>\n",
       "                        <td id=\"T_3988df80_36a0_11ec_b8bd_42010a800027row4_col0\" class=\"data row4 col0\" >-0.016950</td>\n",
       "                        <td id=\"T_3988df80_36a0_11ec_b8bd_42010a800027row4_col1\" class=\"data row4 col1\" >-0.068065</td>\n",
       "                        <td id=\"T_3988df80_36a0_11ec_b8bd_42010a800027row4_col2\" class=\"data row4 col2\" >0.120510</td>\n",
       "                        <td id=\"T_3988df80_36a0_11ec_b8bd_42010a800027row4_col3\" class=\"data row4 col3\" >0.027568</td>\n",
       "                        <td id=\"T_3988df80_36a0_11ec_b8bd_42010a800027row4_col4\" class=\"data row4 col4\" >1.000000</td>\n",
       "                        <td id=\"T_3988df80_36a0_11ec_b8bd_42010a800027row4_col5\" class=\"data row4 col5\" >-0.142197</td>\n",
       "                        <td id=\"T_3988df80_36a0_11ec_b8bd_42010a800027row4_col6\" class=\"data row4 col6\" >-0.006792</td>\n",
       "                        <td id=\"T_3988df80_36a0_11ec_b8bd_42010a800027row4_col7\" class=\"data row4 col7\" >-0.038318</td>\n",
       "            </tr>\n",
       "            <tr>\n",
       "                        <th id=\"T_3988df80_36a0_11ec_b8bd_42010a800027level0_row5\" class=\"row_heading level0 row5\" >Device_mobile</th>\n",
       "                        <td id=\"T_3988df80_36a0_11ec_b8bd_42010a800027row5_col0\" class=\"data row5 col0\" >0.005023</td>\n",
       "                        <td id=\"T_3988df80_36a0_11ec_b8bd_42010a800027row5_col1\" class=\"data row5 col1\" >-0.027643</td>\n",
       "                        <td id=\"T_3988df80_36a0_11ec_b8bd_42010a800027row5_col2\" class=\"data row5 col2\" >-0.045234</td>\n",
       "                        <td id=\"T_3988df80_36a0_11ec_b8bd_42010a800027row5_col3\" class=\"data row5 col3\" >0.062320</td>\n",
       "                        <td id=\"T_3988df80_36a0_11ec_b8bd_42010a800027row5_col4\" class=\"data row5 col4\" >-0.142197</td>\n",
       "                        <td id=\"T_3988df80_36a0_11ec_b8bd_42010a800027row5_col5\" class=\"data row5 col5\" >1.000000</td>\n",
       "                        <td id=\"T_3988df80_36a0_11ec_b8bd_42010a800027row5_col6\" class=\"data row5 col6\" >-0.018400</td>\n",
       "                        <td id=\"T_3988df80_36a0_11ec_b8bd_42010a800027row5_col7\" class=\"data row5 col7\" >-0.103805</td>\n",
       "            </tr>\n",
       "            <tr>\n",
       "                        <th id=\"T_3988df80_36a0_11ec_b8bd_42010a800027level0_row6\" class=\"row_heading level0 row6\" >Device_other</th>\n",
       "                        <td id=\"T_3988df80_36a0_11ec_b8bd_42010a800027row6_col0\" class=\"data row6 col0\" >0.001480</td>\n",
       "                        <td id=\"T_3988df80_36a0_11ec_b8bd_42010a800027row6_col1\" class=\"data row6 col1\" >0.019593</td>\n",
       "                        <td id=\"T_3988df80_36a0_11ec_b8bd_42010a800027row6_col2\" class=\"data row6 col2\" >-0.012857</td>\n",
       "                        <td id=\"T_3988df80_36a0_11ec_b8bd_42010a800027row6_col3\" class=\"data row6 col3\" >-0.039294</td>\n",
       "                        <td id=\"T_3988df80_36a0_11ec_b8bd_42010a800027row6_col4\" class=\"data row6 col4\" >-0.006792</td>\n",
       "                        <td id=\"T_3988df80_36a0_11ec_b8bd_42010a800027row6_col5\" class=\"data row6 col5\" >-0.018400</td>\n",
       "                        <td id=\"T_3988df80_36a0_11ec_b8bd_42010a800027row6_col6\" class=\"data row6 col6\" >1.000000</td>\n",
       "                        <td id=\"T_3988df80_36a0_11ec_b8bd_42010a800027row6_col7\" class=\"data row6 col7\" >-0.004958</td>\n",
       "            </tr>\n",
       "            <tr>\n",
       "                        <th id=\"T_3988df80_36a0_11ec_b8bd_42010a800027level0_row7\" class=\"row_heading level0 row7\" >Device_tablet</th>\n",
       "                        <td id=\"T_3988df80_36a0_11ec_b8bd_42010a800027row7_col0\" class=\"data row7 col0\" >0.000801</td>\n",
       "                        <td id=\"T_3988df80_36a0_11ec_b8bd_42010a800027row7_col1\" class=\"data row7 col1\" >0.058130</td>\n",
       "                        <td id=\"T_3988df80_36a0_11ec_b8bd_42010a800027row7_col2\" class=\"data row7 col2\" >-0.035840</td>\n",
       "                        <td id=\"T_3988df80_36a0_11ec_b8bd_42010a800027row7_col3\" class=\"data row7 col3\" >-0.046971</td>\n",
       "                        <td id=\"T_3988df80_36a0_11ec_b8bd_42010a800027row7_col4\" class=\"data row7 col4\" >-0.038318</td>\n",
       "                        <td id=\"T_3988df80_36a0_11ec_b8bd_42010a800027row7_col5\" class=\"data row7 col5\" >-0.103805</td>\n",
       "                        <td id=\"T_3988df80_36a0_11ec_b8bd_42010a800027row7_col6\" class=\"data row7 col6\" >-0.004958</td>\n",
       "                        <td id=\"T_3988df80_36a0_11ec_b8bd_42010a800027row7_col7\" class=\"data row7 col7\" >1.000000</td>\n",
       "            </tr>\n",
       "    </tbody></table>"
      ],
      "text/plain": [
       "<pandas.io.formats.style.Styler at 0x7f9a20aaa290>"
      ]
     },
     "execution_count": 23,
     "metadata": {},
     "output_type": "execute_result"
    }
   ],
   "source": [
    "corr = df_dummy.corr()\n",
    "corr.style.background_gradient(cmap='PuBu')\n",
    "\n",
    "# there is no strong correlation present (which will need to be treated)"
   ]
  },
  {
   "cell_type": "markdown",
   "metadata": {},
   "source": [
    "### Step 4a: Train the model"
   ]
  },
  {
   "cell_type": "code",
   "execution_count": 21,
   "metadata": {},
   "outputs": [
    {
     "data": {
      "text/html": [
       "<div>\n",
       "<style scoped>\n",
       "    .dataframe tbody tr th:only-of-type {\n",
       "        vertical-align: middle;\n",
       "    }\n",
       "\n",
       "    .dataframe tbody tr th {\n",
       "        vertical-align: top;\n",
       "    }\n",
       "\n",
       "    .dataframe thead th {\n",
       "        text-align: right;\n",
       "    }\n",
       "</style>\n",
       "<table border=\"1\" class=\"dataframe\">\n",
       "  <tbody>\n",
       "    <tr>\n",
       "      <th>model</th>\n",
       "      <td>lifelines.CoxPHFitter</td>\n",
       "    </tr>\n",
       "    <tr>\n",
       "      <th>duration col</th>\n",
       "      <td>'Tenure'</td>\n",
       "    </tr>\n",
       "    <tr>\n",
       "      <th>event col</th>\n",
       "      <td>'Churn'</td>\n",
       "    </tr>\n",
       "    <tr>\n",
       "      <th>baseline estimation</th>\n",
       "      <td>breslow</td>\n",
       "    </tr>\n",
       "    <tr>\n",
       "      <th>number of observations</th>\n",
       "      <td>87684</td>\n",
       "    </tr>\n",
       "    <tr>\n",
       "      <th>number of events observed</th>\n",
       "      <td>46313</td>\n",
       "    </tr>\n",
       "    <tr>\n",
       "      <th>partial log-likelihood</th>\n",
       "      <td>-494348.73</td>\n",
       "    </tr>\n",
       "    <tr>\n",
       "      <th>time fit was run</th>\n",
       "      <td>2020-07-04 12:41:18 UTC</td>\n",
       "    </tr>\n",
       "  </tbody>\n",
       "</table>\n",
       "</div><table border=\"1\" class=\"dataframe\">\n",
       "  <thead>\n",
       "    <tr style=\"text-align: right;\">\n",
       "      <th></th>\n",
       "      <th>coef</th>\n",
       "      <th>exp(coef)</th>\n",
       "      <th>se(coef)</th>\n",
       "      <th>coef lower 95%</th>\n",
       "      <th>coef upper 95%</th>\n",
       "      <th>exp(coef) lower 95%</th>\n",
       "      <th>exp(coef) upper 95%</th>\n",
       "      <th>z</th>\n",
       "      <th>p</th>\n",
       "      <th>-log2(p)</th>\n",
       "    </tr>\n",
       "  </thead>\n",
       "  <tbody>\n",
       "    <tr>\n",
       "      <th>Auto Renew Enabled</th>\n",
       "      <td>-0.07</td>\n",
       "      <td>0.93</td>\n",
       "      <td>0.01</td>\n",
       "      <td>-0.09</td>\n",
       "      <td>-0.05</td>\n",
       "      <td>0.92</td>\n",
       "      <td>0.95</td>\n",
       "      <td>-7.14</td>\n",
       "      <td>&lt;0.005</td>\n",
       "      <td>39.98</td>\n",
       "    </tr>\n",
       "    <tr>\n",
       "      <th>Term Type_Monthly</th>\n",
       "      <td>2.72</td>\n",
       "      <td>15.11</td>\n",
       "      <td>0.03</td>\n",
       "      <td>2.66</td>\n",
       "      <td>2.77</td>\n",
       "      <td>14.32</td>\n",
       "      <td>15.95</td>\n",
       "      <td>98.31</td>\n",
       "      <td>&lt;0.005</td>\n",
       "      <td>inf</td>\n",
       "    </tr>\n",
       "    <tr>\n",
       "      <th>Device_external</th>\n",
       "      <td>0.51</td>\n",
       "      <td>1.67</td>\n",
       "      <td>0.02</td>\n",
       "      <td>0.48</td>\n",
       "      <td>0.55</td>\n",
       "      <td>1.61</td>\n",
       "      <td>1.73</td>\n",
       "      <td>28.40</td>\n",
       "      <td>&lt;0.005</td>\n",
       "      <td>587.06</td>\n",
       "    </tr>\n",
       "    <tr>\n",
       "      <th>Device_mobile</th>\n",
       "      <td>-0.21</td>\n",
       "      <td>0.81</td>\n",
       "      <td>0.01</td>\n",
       "      <td>-0.23</td>\n",
       "      <td>-0.18</td>\n",
       "      <td>0.80</td>\n",
       "      <td>0.83</td>\n",
       "      <td>-18.98</td>\n",
       "      <td>&lt;0.005</td>\n",
       "      <td>264.39</td>\n",
       "    </tr>\n",
       "    <tr>\n",
       "      <th>Device_other</th>\n",
       "      <td>0.48</td>\n",
       "      <td>1.61</td>\n",
       "      <td>0.20</td>\n",
       "      <td>0.08</td>\n",
       "      <td>0.88</td>\n",
       "      <td>1.08</td>\n",
       "      <td>2.40</td>\n",
       "      <td>2.33</td>\n",
       "      <td>0.02</td>\n",
       "      <td>5.65</td>\n",
       "    </tr>\n",
       "    <tr>\n",
       "      <th>Device_tablet</th>\n",
       "      <td>-0.26</td>\n",
       "      <td>0.77</td>\n",
       "      <td>0.03</td>\n",
       "      <td>-0.32</td>\n",
       "      <td>-0.20</td>\n",
       "      <td>0.72</td>\n",
       "      <td>0.82</td>\n",
       "      <td>-8.08</td>\n",
       "      <td>&lt;0.005</td>\n",
       "      <td>50.49</td>\n",
       "    </tr>\n",
       "  </tbody>\n",
       "</table><div>\n",
       "<style scoped>\n",
       "    .dataframe tbody tr th:only-of-type {\n",
       "        vertical-align: middle;\n",
       "    }\n",
       "\n",
       "    .dataframe tbody tr th {\n",
       "        vertical-align: top;\n",
       "    }\n",
       "\n",
       "    .dataframe thead th {\n",
       "        text-align: right;\n",
       "    }\n",
       "</style>\n",
       "<table border=\"1\" class=\"dataframe\">\n",
       "  <tbody>\n",
       "    <tr>\n",
       "      <th>Concordance</th>\n",
       "      <td>0.67</td>\n",
       "    </tr>\n",
       "    <tr>\n",
       "      <th>Partial AIC</th>\n",
       "      <td>988709.45</td>\n",
       "    </tr>\n",
       "    <tr>\n",
       "      <th>log-likelihood ratio test</th>\n",
       "      <td>25267.73 on 6 df</td>\n",
       "    </tr>\n",
       "    <tr>\n",
       "      <th>-log2(p) of ll-ratio test</th>\n",
       "      <td>inf</td>\n",
       "    </tr>\n",
       "  </tbody>\n",
       "</table>\n",
       "</div>"
      ],
      "text/plain": [
       "<IPython.core.display.HTML object>"
      ]
     },
     "metadata": {},
     "output_type": "display_data"
    }
   ],
   "source": [
    "cph = CoxPHFitter().fit(df_dummy, 'Tenure', 'Churn')\n",
    "\n",
    "#cph.check_assumptions(df_dummy, p_value_threshold=0.05)\n",
    "cph.print_summary()"
   ]
  },
  {
   "cell_type": "markdown",
   "metadata": {},
   "source": [
    "**Observation**:\n",
    "1. The Concordance index is 0.67. Usually, the real-world fitted models have a concordance index between 0.55 and 0.7 which is due to the noise present in the data.\n",
    "2. All the variables are significant except 'Device_other'"
   ]
  },
  {
   "cell_type": "code",
   "execution_count": 22,
   "metadata": {
    "collapsed": true,
    "jupyter": {
     "outputs_hidden": true,
     "source_hidden": true
    }
   },
   "outputs": [
    {
     "data": {
      "text/plain": [
       "<matplotlib.axes._subplots.AxesSubplot at 0x1df5f74c5c8>"
      ]
     },
     "execution_count": 22,
     "metadata": {},
     "output_type": "execute_result"
    },
    {
     "data": {
      "image/png": "[encoded data removed]",
      "text/plain": [
       "<Figure size 432x288 with 1 Axes>"
      ]
     },
     "metadata": {
      "needs_background": "light"
     },
     "output_type": "display_data"
    }
   ],
   "source": [
    "cph.plot()"
   ]
  },
  {
   "cell_type": "code",
   "execution_count": 23,
   "metadata": {
    "collapsed": true,
    "jupyter": {
     "outputs_hidden": true,
     "source_hidden": true
    }
   },
   "outputs": [
    {
     "data": {
      "text/plain": [
       "<matplotlib.axes._subplots.AxesSubplot at 0x1df5f719c88>"
      ]
     },
     "execution_count": 23,
     "metadata": {},
     "output_type": "execute_result"
    },
    {
     "data": {
      "image/png": "[encoded data removed]",
      "text/plain": [
       "<Figure size 432x288 with 1 Axes>"
      ]
     },
     "metadata": {
      "needs_background": "light"
     },
     "output_type": "display_data"
    }
   ],
   "source": [
    "cph.plot_covariate_groups('Term Type_Monthly', [1,0], cmap='coolwarm')"
   ]
  },
  {
   "cell_type": "markdown",
   "metadata": {},
   "source": [
    "### Step 4b: Test the model"
   ]
  },
  {
   "cell_type": "code",
   "execution_count": 24,
   "metadata": {},
   "outputs": [
    {
     "name": "stdout",
     "output_type": "stream",
     "text": [
      "Predicted median customer life span (in days)\n",
      "5    123.0\n",
      "6     99.0\n",
      "7    184.0\n",
      "8    219.0\n",
      "9    219.0\n",
      "Name: 0.5, dtype: float64\n"
     ]
    },
    {
     "data": {
      "text/plain": [
       "<matplotlib.axes._subplots.AxesSubplot at 0x1df5f369ac8>"
      ]
     },
     "execution_count": 24,
     "metadata": {},
     "output_type": "execute_result"
    },
    {
     "data": {
      "image/png": "[encoded data removed]",
      "text/plain": [
       "<Figure size 432x288 with 1 Axes>"
      ]
     },
     "metadata": {
      "needs_background": "light"
     },
     "output_type": "display_data"
    }
   ],
   "source": [
    "tr_rows = df_dummy.iloc[5:10] #randomly select candidates for prediction\n",
    "tr_rows\n",
    "\n",
    "print(\"Predicted median customer life span (in days)\")\n",
    "print(cph.predict_median(tr_rows))\n",
    "\n",
    "# Predict the survival curve. Customers can be identified with the numbers mentioned against each curve.\n",
    "cph.predict_survival_function(tr_rows).plot()"
   ]
  },
  {
   "cell_type": "code",
   "execution_count": 53,
   "metadata": {
    "collapsed": true,
    "jupyter": {
     "outputs_hidden": true,
     "source_hidden": true
    }
   },
   "outputs": [
    {
     "data": {
      "text/html": [
       "<div>\n",
       "<style scoped>\n",
       "    .dataframe tbody tr th:only-of-type {\n",
       "        vertical-align: middle;\n",
       "    }\n",
       "\n",
       "    .dataframe tbody tr th {\n",
       "        vertical-align: top;\n",
       "    }\n",
       "\n",
       "    .dataframe thead th {\n",
       "        text-align: right;\n",
       "    }\n",
       "</style>\n",
       "<table border=\"1\" class=\"dataframe\">\n",
       "  <thead>\n",
       "    <tr style=\"text-align: right;\">\n",
       "      <th></th>\n",
       "      <th>User ID</th>\n",
       "      <th>TransactionID</th>\n",
       "      <th>Transaction Start Date</th>\n",
       "      <th>Status</th>\n",
       "      <th>Term Type</th>\n",
       "      <th>Transaction Cancellation Date</th>\n",
       "      <th>Transaction Expiration Date</th>\n",
       "      <th>Auto Renew Enabled</th>\n",
       "      <th>Device</th>\n",
       "      <th>Tenure</th>\n",
       "      <th>Churn</th>\n",
       "    </tr>\n",
       "  </thead>\n",
       "  <tbody>\n",
       "    <tr>\n",
       "      <th>5</th>\n",
       "      <td>01pN6H4Hfm</td>\n",
       "      <td>RC83XW2Z27TO</td>\n",
       "      <td>2018-03-12</td>\n",
       "      <td>cancelled</td>\n",
       "      <td>Monthly</td>\n",
       "      <td>2018-06-14</td>\n",
       "      <td>2018-06-14</td>\n",
       "      <td>True</td>\n",
       "      <td>desktop</td>\n",
       "      <td>94</td>\n",
       "      <td>1</td>\n",
       "    </tr>\n",
       "    <tr>\n",
       "      <th>6</th>\n",
       "      <td>01tZkyomhs</td>\n",
       "      <td>RCSBDEVX0ZW4</td>\n",
       "      <td>2018-08-12</td>\n",
       "      <td>expired</td>\n",
       "      <td>Monthly</td>\n",
       "      <td>NaT</td>\n",
       "      <td>2018-09-12</td>\n",
       "      <td>False</td>\n",
       "      <td>desktop</td>\n",
       "      <td>31</td>\n",
       "      <td>1</td>\n",
       "    </tr>\n",
       "    <tr>\n",
       "      <th>7</th>\n",
       "      <td>02AyZBKk3j</td>\n",
       "      <td>RC65PXHJKD4R</td>\n",
       "      <td>2018-07-16</td>\n",
       "      <td>cancelled</td>\n",
       "      <td>Monthly</td>\n",
       "      <td>2018-07-20</td>\n",
       "      <td>2018-07-20</td>\n",
       "      <td>False</td>\n",
       "      <td>mobile</td>\n",
       "      <td>4</td>\n",
       "      <td>1</td>\n",
       "    </tr>\n",
       "    <tr>\n",
       "      <th>8</th>\n",
       "      <td>02BrcMNo4S</td>\n",
       "      <td>RCN356ZA9JIF</td>\n",
       "      <td>2018-02-04</td>\n",
       "      <td>cancelled</td>\n",
       "      <td>Monthly</td>\n",
       "      <td>2018-02-25</td>\n",
       "      <td>2018-02-25</td>\n",
       "      <td>True</td>\n",
       "      <td>mobile</td>\n",
       "      <td>21</td>\n",
       "      <td>1</td>\n",
       "    </tr>\n",
       "    <tr>\n",
       "      <th>9</th>\n",
       "      <td>02Y0oTfmmo</td>\n",
       "      <td>RCO8I3UJ7E2Y</td>\n",
       "      <td>2018-07-05</td>\n",
       "      <td>active</td>\n",
       "      <td>Monthly</td>\n",
       "      <td>NaT</td>\n",
       "      <td>2020-02-05</td>\n",
       "      <td>True</td>\n",
       "      <td>mobile</td>\n",
       "      <td>729</td>\n",
       "      <td>0</td>\n",
       "    </tr>\n",
       "  </tbody>\n",
       "</table>\n",
       "</div>"
      ],
      "text/plain": [
       "      User ID TransactionID Transaction Start Date     Status Term Type  \\\n",
       "5  01pN6H4Hfm  RC83XW2Z27TO             2018-03-12  cancelled   Monthly   \n",
       "6  01tZkyomhs  RCSBDEVX0ZW4             2018-08-12    expired   Monthly   \n",
       "7  02AyZBKk3j  RC65PXHJKD4R             2018-07-16  cancelled   Monthly   \n",
       "8  02BrcMNo4S  RCN356ZA9JIF             2018-02-04  cancelled   Monthly   \n",
       "9  02Y0oTfmmo  RCO8I3UJ7E2Y             2018-07-05     active   Monthly   \n",
       "\n",
       "  Transaction Cancellation Date Transaction Expiration Date  \\\n",
       "5                    2018-06-14                  2018-06-14   \n",
       "6                           NaT                  2018-09-12   \n",
       "7                    2018-07-20                  2018-07-20   \n",
       "8                    2018-02-25                  2018-02-25   \n",
       "9                           NaT                  2020-02-05   \n",
       "\n",
       "   Auto Renew Enabled   Device  Tenure  Churn  \n",
       "5                True  desktop      94      1  \n",
       "6               False  desktop      31      1  \n",
       "7               False   mobile       4      1  \n",
       "8                True   mobile      21      1  \n",
       "9                True   mobile     729      0  "
      ]
     },
     "execution_count": 53,
     "metadata": {},
     "output_type": "execute_result"
    }
   ],
   "source": [
    "unique_user_trans.iloc[5:10]"
   ]
  },
  {
   "cell_type": "markdown",
   "metadata": {},
   "source": [
    "#### Future Modeling Improvements:\n",
    "\n",
    "* Devise prediction accuracy metric and try to optimize above model against that metric\n",
    "* As the next machine learning approach, I would use random survival forest (RSF - present in scikit_survival package) for assessing the increase in prediction accuracy."
   ]
  },
  {
   "cell_type": "code",
   "execution_count": null,
   "metadata": {},
   "outputs": [],
   "source": []
  },
  {
   "cell_type": "code",
   "execution_count": null,
   "metadata": {},
   "outputs": [],
   "source": []
  },
  {
   "cell_type": "code",
   "execution_count": null,
   "metadata": {},
   "outputs": [],
   "source": []
  },
  {
   "cell_type": "code",
   "execution_count": null,
   "metadata": {},
   "outputs": [],
   "source": []
  },
  {
   "cell_type": "code",
   "execution_count": null,
   "metadata": {},
   "outputs": [],
   "source": []
  },
  {
   "cell_type": "code",
   "execution_count": null,
   "metadata": {},
   "outputs": [],
   "source": []
  },
  {
   "cell_type": "code",
   "execution_count": null,
   "metadata": {},
   "outputs": [],
   "source": []
  },
  {
   "cell_type": "code",
   "execution_count": null,
   "metadata": {},
   "outputs": [],
   "source": []
  },
  {
   "cell_type": "code",
   "execution_count": null,
   "metadata": {},
   "outputs": [],
   "source": []
  },
  {
   "cell_type": "code",
   "execution_count": null,
   "metadata": {},
   "outputs": [],
   "source": []
  },
  {
   "cell_type": "code",
   "execution_count": null,
   "metadata": {},
   "outputs": [],
   "source": []
  },
  {
   "cell_type": "code",
   "execution_count": null,
   "metadata": {},
   "outputs": [],
   "source": []
  }
 ],
 "metadata": {
  "environment": {
   "name": "tf2-gpu.2-6.m79",
   "type": "gcloud",
   "uri": "gcr.io/deeplearning-platform-release/tf2-gpu.2-6:m79"
  },
  "kernelspec": {
   "display_name": "Python 3 (ipykernel)",
   "language": "python",
   "name": "python3"
  },
  "language_info": {
   "codemirror_mode": {
    "name": "ipython",
    "version": 3
   },
   "file_extension": ".py",
   "mimetype": "text/x-python",
   "name": "python",
   "nbconvert_exporter": "python",
   "pygments_lexer": "ipython3",
   "version": "3.7.10"
  }
 },
 "nbformat": 4,
 "nbformat_minor": 4
}
