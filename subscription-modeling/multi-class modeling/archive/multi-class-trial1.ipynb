{
 "cells": [
  {
   "cell_type": "code",
   "execution_count": 1,
   "id": "046b97a7",
   "metadata": {},
   "outputs": [],
   "source": [
    "import numpy as np\n",
    "import pandas as pd\n",
    "import lightgbm as lgb\n",
    "from sklearn.model_selection import train_test_split"
   ]
  },
  {
   "cell_type": "code",
   "execution_count": 4,
   "id": "47fd8041",
   "metadata": {},
   "outputs": [],
   "source": [
    "first_trial_multi = pd.read_csv(\"first_multi_trial.csv\")"
   ]
  },
  {
   "cell_type": "code",
   "execution_count": 5,
   "id": "47ec8dd6",
   "metadata": {},
   "outputs": [
    {
     "data": {
      "text/plain": [
       "casual_subs            82953\n",
       "current_affair_subs    12016\n",
       "executive_subs          1926\n",
       "Name: cluster_id, dtype: int64"
      ]
     },
     "execution_count": 5,
     "metadata": {},
     "output_type": "execute_result"
    }
   ],
   "source": [
    "first_trial_multi.cluster_id.value_counts()"
   ]
  },
  {
   "cell_type": "code",
   "execution_count": 3,
   "id": "687e4bea",
   "metadata": {},
   "outputs": [
    {
     "data": {
      "text/plain": [
       "casual_subs            82953\n",
       "current_affair_subs    12016\n",
       "executive_subs          1926\n",
       "Name: cluster_id, dtype: int64"
      ]
     },
     "execution_count": 3,
     "metadata": {},
     "output_type": "execute_result"
    }
   ],
   "source": [
    "first_trial_multi.cluster_id.value_counts()"
   ]
  },
  {
   "cell_type": "code",
   "execution_count": 5,
   "id": "4046fa94",
   "metadata": {},
   "outputs": [],
   "source": [
    "# fill any Nulls with 0\n",
    "\n",
    "first_trial_multi.fillna(0, inplace=True)\n",
    "\n",
    "# drop unnecessary cols\n",
    "cols_to_drop = [x for x in first_trial_multi.columns if 'other' in x] + ['subscription_status']\n",
    "\n",
    "first_trial_multi = first_trial_multi.drop(cols_to_drop, \n",
    "                                           axis=1)"
   ]
  },
  {
   "cell_type": "code",
   "execution_count": 9,
   "id": "acaef660",
   "metadata": {},
   "outputs": [],
   "source": [
    "X = first_trial_multi.iloc[:, :-1]\n",
    "y = first_trial_multi[\"cluster_id\"]\n",
    "\n",
    "from sklearn.preprocessing import LabelEncoder\n",
    "le = LabelEncoder()\n",
    "y = le.fit_transform(y)"
   ]
  },
  {
   "cell_type": "code",
   "execution_count": 11,
   "id": "3ad6a68f",
   "metadata": {},
   "outputs": [],
   "source": [
    "# split the data in training and remaining dataset\n",
    "SEED = 32\n",
    "X_train, X_rem, y_train, y_rem = train_test_split(X,\n",
    "                                                  y, \n",
    "                                                  train_size=0.7, \n",
    "                                                  stratify = y,\n",
    "                                                  random_state = SEED \n",
    "                                                 )\n",
    "\n",
    "\n",
    "# make test and val sets\n",
    "X_val, X_test, y_val, y_test = train_test_split(X_rem,\n",
    "                                                y_rem, \n",
    "                                                test_size=0.5,\n",
    "                                                stratify = y_rem,\n",
    "                                                random_state = SEED \n",
    "                                                )"
   ]
  },
  {
   "cell_type": "code",
   "execution_count": 25,
   "id": "865f6578",
   "metadata": {},
   "outputs": [
    {
     "name": "stdout",
     "output_type": "stream",
     "text": [
      "--- Train set --- (354773, 560) (354773,) 0.7\n",
      "--- Val set --- (76023, 560) (76023,) 0.15\n",
      "--- Test set --- (76023, 560) (76023,) 0.15\n"
     ]
    }
   ],
   "source": [
    "print(\"--- Train set ---\", X_train.shape, y_train.shape, round(X_train.shape[0]/first_trial_multi.shape[0], 2))\n",
    "\n",
    "print(\"--- Val set ---\", X_val.shape, y_val.shape, round(X_val.shape[0]/first_trial_multi.shape[0], 2))\n",
    "\n",
    "print(\"--- Test set ---\", X_test.shape, y_test.shape, round(X_test.shape[0]/first_trial_multi.shape[0], 2))"
   ]
  },
  {
   "cell_type": "code",
   "execution_count": 22,
   "id": "66e6d7ca",
   "metadata": {},
   "outputs": [],
   "source": [
    "import lightgbm as lgb\n",
    "from sklearn.dummy import DummyClassifier\n",
    "from sklearn.model_selection import (train_test_split,\n",
    "                                     cross_val_score, \n",
    "                                     StratifiedKFold,\n",
    "                                     StratifiedShuffleSplit\n",
    "                                    )\n",
    "\n",
    "                                    \n",
    "from sklearn.metrics import (classification_report, \n",
    "                             plot_confusion_matrix\n",
    "                            )\n",
    "scoring='f1_weighted'\n",
    "\n",
    "skf = StratifiedKFold(n_splits = 10, \n",
    "                      shuffle=True,\n",
    "                      random_state = SEED)"
   ]
  },
  {
   "cell_type": "code",
   "execution_count": 23,
   "id": "e9f6dcf8",
   "metadata": {},
   "outputs": [
    {
     "data": {
      "text/plain": [
       "(76023,)"
      ]
     },
     "execution_count": 23,
     "metadata": {},
     "output_type": "execute_result"
    }
   ],
   "source": [
    "y_val.shape"
   ]
  },
  {
   "cell_type": "code",
   "execution_count": 27,
   "id": "cfb314fc",
   "metadata": {},
   "outputs": [
    {
     "name": "stdout",
     "output_type": "stream",
     "text": [
      "Strategy:  stratified\n",
      "[0.68127945 0.68548205 0.68477918 0.68376095 0.68395511 0.68154441\n",
      " 0.68458984 0.6818796  0.68196603 0.68184006]\n",
      "Dummy average score is 0.68 \n",
      "\n",
      "Strategy:  uniform\n",
      "[0.34099505 0.34148452 0.33902916 0.34141187 0.33950005 0.3404636\n",
      " 0.33998474 0.34123101 0.33943444 0.34190206]\n",
      "Dummy average score is 0.34 \n",
      "\n",
      "Strategy:  most_frequent\n",
      "[0.72332085 0.72332085 0.72332085 0.72335251 0.72335251 0.72331336\n",
      " 0.72331336 0.72331336 0.72331336 0.72335251]\n",
      "Dummy average score is 0.72 \n",
      "\n",
      "Classification report for Strategy: most_frequent\n",
      "              precision    recall  f1-score   support\n",
      "\n",
      "           0       0.16      1.00      0.28     12437\n",
      "           1       0.00      0.00      0.00      1800\n",
      "           2       0.00      0.00      0.00       297\n",
      "           3       0.00      0.00      0.00     61489\n",
      "\n",
      "    accuracy                           0.16     76023\n",
      "   macro avg       0.04      0.25      0.07     76023\n",
      "weighted avg       0.03      0.16      0.05     76023\n",
      "\n"
     ]
    },
    {
     "name": "stderr",
     "output_type": "stream",
     "text": [
      "/opt/conda/lib/python3.7/site-packages/sklearn/metrics/_classification.py:1308: UndefinedMetricWarning: Precision and F-score are ill-defined and being set to 0.0 in labels with no predicted samples. Use `zero_division` parameter to control this behavior.\n",
      "  _warn_prf(average, modifier, msg_start, len(result))\n",
      "/opt/conda/lib/python3.7/site-packages/sklearn/metrics/_classification.py:1308: UndefinedMetricWarning: Precision and F-score are ill-defined and being set to 0.0 in labels with no predicted samples. Use `zero_division` parameter to control this behavior.\n",
      "  _warn_prf(average, modifier, msg_start, len(result))\n",
      "/opt/conda/lib/python3.7/site-packages/sklearn/metrics/_classification.py:1308: UndefinedMetricWarning: Precision and F-score are ill-defined and being set to 0.0 in labels with no predicted samples. Use `zero_division` parameter to control this behavior.\n",
      "  _warn_prf(average, modifier, msg_start, len(result))\n"
     ]
    }
   ],
   "source": [
    "dummy_strategies = ['stratified', 'uniform', 'most_frequent']\n",
    "\n",
    "for item in dummy_strategies:\n",
    "\n",
    "    dummy = DummyClassifier(strategy=item,random_state = SEED)\n",
    "\n",
    "    dummy_score = cross_val_score(\n",
    "        dummy,\n",
    "        X_train,\n",
    "        y_train,\n",
    "        cv=skf, # using StratifiedKFold w/ shuffle=True\n",
    "        n_jobs=-1,\n",
    "        scoring=scoring\n",
    "    )\n",
    "    \n",
    "    print(\"Strategy: \", item)\n",
    "    print(dummy_score)\n",
    "    print(\"Dummy average score is\", round(np.mean(dummy_score), 2), \"\\n\") \n",
    "    \n",
    "\n",
    "print(\"Classification report for Strategy: most_frequent\")\n",
    "\n",
    "dummy_preds = [0] * 76023\n",
    "print(classification_report(y_val, \n",
    "                            dummy_preds)) "
   ]
  },
  {
   "cell_type": "code",
   "execution_count": 29,
   "id": "2de51cee",
   "metadata": {},
   "outputs": [
    {
     "name": "stdout",
     "output_type": "stream",
     "text": [
      "[0.9844226  0.98250319 0.98434649 0.98768606 0.98155245 0.98634516\n",
      " 0.9874393  0.98772673 0.98752604 0.98740615]\n",
      "LGBM base score is 0.9856954153280515\n"
     ]
    }
   ],
   "source": [
    "model = lgb.LGBMClassifier(random_state=SEED, \n",
    "                           is_unbalance=True) # is_unbalance because train data is imbalanced\n",
    "\n",
    "lgbm_base_score = cross_val_score(\n",
    "    model,\n",
    "    X_train,\n",
    "    y_train,\n",
    "    cv=skf,\n",
    "    n_jobs=-1,\n",
    "    scoring=scoring\n",
    ")\n",
    "\n",
    "print(lgbm_base_score)\n",
    "print(\"LGBM base score is\", np.mean(lgbm_base_score))"
   ]
  },
  {
   "cell_type": "code",
   "execution_count": 31,
   "id": "8242c969",
   "metadata": {},
   "outputs": [
    {
     "name": "stdout",
     "output_type": "stream",
     "text": [
      "              precision    recall  f1-score   support\n",
      "\n",
      "           0       0.96      0.95      0.95     12437\n",
      "           1       0.88      0.83      0.86      1800\n",
      "           2       0.70      0.83      0.76       297\n",
      "           3       0.99      1.00      0.99     61489\n",
      "\n",
      "    accuracy                           0.98     76023\n",
      "   macro avg       0.88      0.90      0.89     76023\n",
      "weighted avg       0.98      0.98      0.98     76023\n",
      "\n"
     ]
    },
    {
     "name": "stderr",
     "output_type": "stream",
     "text": [
      "/opt/conda/lib/python3.7/site-packages/sklearn/utils/deprecation.py:87: FutureWarning: Function plot_confusion_matrix is deprecated; Function `plot_confusion_matrix` is deprecated in 1.0 and will be removed in 1.2. Use one of the class methods: ConfusionMatrixDisplay.from_predictions or ConfusionMatrixDisplay.from_estimator.\n",
      "  warnings.warn(msg, category=FutureWarning)\n"
     ]
    },
    {
     "data": {
      "text/plain": [
       "<sklearn.metrics._plot.confusion_matrix.ConfusionMatrixDisplay at 0x7f2fcbb9c350>"
      ]
     },
     "execution_count": 31,
     "metadata": {},
     "output_type": "execute_result"
    },
    {
     "data": {
      "image/png": "[encoded data removed]",
      "text/plain": [
       "<Figure size 432x288 with 2 Axes>"
      ]
     },
     "metadata": {
      "needs_background": "light"
     },
     "output_type": "display_data"
    }
   ],
   "source": [
    "# using skf pipe, pred on val set\n",
    "\n",
    "model.fit(X_train, y_train)\n",
    "\n",
    "y_pred = model.predict(X_val)\n",
    "\n",
    "print(classification_report(y_val, \n",
    "                            y_pred)) #, target_names = ['Non-subscriber', 'subscriber']\n",
    "                            \n",
    "\n",
    "plot_confusion_matrix(estimator=model, \n",
    "                      X=X_val, \n",
    "                      y_true=y_val, \n",
    "                      cmap='Blues'\n",
    "                     )"
   ]
  }
 ],
 "metadata": {
  "environment": {
   "name": "tf2-gpu.2-6.m79",
   "type": "gcloud",
   "uri": "gcr.io/deeplearning-platform-release/tf2-gpu.2-6:m79"
  },
  "kernelspec": {
   "display_name": "subscribers",
   "language": "python",
   "name": "subscribers"
  },
  "language_info": {
   "codemirror_mode": {
    "name": "ipython",
    "version": 3
   },
   "file_extension": ".py",
   "mimetype": "text/x-python",
   "name": "python",
   "nbconvert_exporter": "python",
   "pygments_lexer": "ipython3",
   "version": "3.7.10"
  }
 },
 "nbformat": 4,
 "nbformat_minor": 5
}
