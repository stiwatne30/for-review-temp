{
 "cells": [
  {
   "cell_type": "code",
   "execution_count": 1,
   "id": "3c59bd15",
   "metadata": {},
   "outputs": [],
   "source": [
    "'''Helper'''\n",
    "import pandas as pd\n",
    "import numpy as np\n",
    "import time\n",
    "\n",
    "'''Display'''\n",
    "import warnings\n",
    "warnings.filterwarnings('ignore') \n",
    "pd.set_option('display.float_format', lambda x: '%.2f' % x)\n",
    "\n",
    "'''BQ'''\n",
    "import google.auth\n",
    "from google.cloud import bigquery\n",
    "from google.cloud import bigquery_storage\n",
    "\n",
    "bqclient = bigquery.Client()\n",
    "bqstorageclient = bigquery_storage.BigQueryReadClient()"
   ]
  },
  {
   "cell_type": "code",
   "execution_count": 2,
   "id": "83504c6a",
   "metadata": {
    "collapsed": true,
    "jupyter": {
     "outputs_hidden": true,
     "source_hidden": true
    }
   },
   "outputs": [
    {
     "name": "stdout",
     "output_type": "stream",
     "text": [
      "--- 10.618674993515015 seconds ---\n",
      "Shape:  (6556736, 23)\n",
      "--- 4.014449119567871 seconds ---\n",
      "Before: (1192679, 23)\n",
      "After removing  10 suspicious fvids: (1192343, 23)\n"
     ]
    }
   ],
   "source": [
    "# ----- GET SUBS DATA -----\n",
    "start_time = time.time()\n",
    "\n",
    "query_string = \"\"\"\n",
    "  SELECT\n",
    "       *\n",
    "    FROM\n",
    "        `api-project-901373404215.skt.sm_subs_ga`\n",
    "\"\"\"\n",
    "\n",
    "subs_data = (\n",
    "    bqclient.query(query_string)\n",
    "    .result()\n",
    "    .to_dataframe(bqstorage_client=bqstorageclient)\n",
    ") \n",
    "\n",
    "print(\"--- %s seconds ---\" % (time.time() - start_time))\n",
    "\n",
    "subs_data[\"subscription_status\"] = \"subscriber\"\n",
    "\n",
    "# drop unnecessary col & rename\n",
    "subs_data.drop(['user_id_uid', 'resource_id_rid'], axis=1, inplace=True)\n",
    "\n",
    "subs_data.rename(columns={'ga_pianoId': \n",
    "                          'piano_id'}, \n",
    "                 inplace=True)\n",
    "\n",
    "print(\"Shape: \", subs_data.shape)\n",
    "\n",
    "# ----- GET NON-SUBS DATA -----\n",
    "\n",
    "start_time = time.time()\n",
    "\n",
    "query_string = \"\"\"\n",
    "  SELECT\n",
    "       *\n",
    "    FROM\n",
    "        `api-project-901373404215.skt.sm_nonsubs_ga`\n",
    "\"\"\"\n",
    "\n",
    "nonsubs_data = (\n",
    "    bqclient.query(query_string)\n",
    "    .result()\n",
    "    .to_dataframe(bqstorage_client=bqstorageclient)\n",
    ") \n",
    "\n",
    "print(\"--- %s seconds ---\" % (time.time() - start_time))\n",
    "\n",
    "nonsubs_data[\"subscription_status\"] = \"non_subscriber\"\n",
    "\n",
    "print(\"Before:\", nonsubs_data.shape)\n",
    "\n",
    "# some suspicious fvids have no pianoID but their dfpZone has 'subscriber' in it - remove them\n",
    "\n",
    "nonsubs_data.GA_dfpNewZone = nonsubs_data.GA_dfpNewZone.fillna('none')\n",
    "\n",
    "suspicious_fvid = nonsubs_data[nonsubs_data.GA_dfpNewZone.str.contains('/subscriber/')].GA_fullVisitorId.unique()\n",
    "\n",
    "nonsubs_data = nonsubs_data[~nonsubs_data.GA_fullVisitorId.isin(suspicious_fvid)]\n",
    "\n",
    "print(\"After removing \", \n",
    "      len(suspicious_fvid), \n",
    "      \"suspicious fvids:\", nonsubs_data.shape)"
   ]
  },
  {
   "cell_type": "code",
   "execution_count": 3,
   "id": "797c1116",
   "metadata": {},
   "outputs": [
    {
     "name": "stdout",
     "output_type": "stream",
     "text": [
      "Total fvids in df:  507937 \n",
      "\n",
      "non_subscriber    409990\n",
      "subscriber         97947\n",
      "Name: subscription_status, dtype: int64 \n",
      "\n"
     ]
    }
   ],
   "source": [
    "df = pd.concat([subs_data, nonsubs_data])\n",
    "\n",
    "# fill NAs\n",
    "df.GA_cmsNaturalId = df.GA_cmsNaturalId.fillna('none') \n",
    "df.timeOnPage = df.timeOnPage.fillna(0)\n",
    "\n",
    "print(\"Total fvids in df: \", len(df.GA_fullVisitorId.unique()), \"\\n\")\n",
    "\n",
    "print(df[['GA_fullVisitorId', 'subscription_status']].drop_duplicates(keep='first').subscription_status.value_counts(), \"\\n\")"
   ]
  },
  {
   "cell_type": "code",
   "execution_count": 4,
   "id": "ab9ff7fc",
   "metadata": {},
   "outputs": [
    {
     "data": {
      "text/plain": [
       "409990"
      ]
     },
     "execution_count": 4,
     "metadata": {},
     "output_type": "execute_result"
    }
   ],
   "source": [
    "# keep only non-subs\n",
    "raw_df = df[df.subscription_status==\"non_subscriber\"]\n",
    "\n",
    "len(raw_df.GA_fullVisitorId.unique())"
   ]
  },
  {
   "cell_type": "markdown",
   "id": "77edd850",
   "metadata": {},
   "source": [
    "### All non-subscribers from raw data - sum(pvs) per person\n",
    "\n",
    "* **From our total non-subscriber pool, check distribution of people having more than 1 pvs and other buckets**"
   ]
  },
  {
   "cell_type": "code",
   "execution_count": 5,
   "id": "4b4d0931",
   "metadata": {},
   "outputs": [],
   "source": [
    "whole_ns = raw_df.groupby(['GA_fullVisitorId', 'subscription_status']).agg({'GA_pageViews': 'sum', 'timeOnPage': 'sum'}).reset_index().rename(columns={'GA_pageViews': 'sum_pvs'})\n",
    "\n",
    "whole_ns[\"avg_top\"] = whole_ns['timeOnPage']/whole_ns['sum_pvs']"
   ]
  },
  {
   "cell_type": "code",
   "execution_count": 6,
   "id": "b0f3004c",
   "metadata": {},
   "outputs": [
    {
     "data": {
      "text/html": [
       "<div>\n",
       "<style scoped>\n",
       "    .dataframe tbody tr th:only-of-type {\n",
       "        vertical-align: middle;\n",
       "    }\n",
       "\n",
       "    .dataframe tbody tr th {\n",
       "        vertical-align: top;\n",
       "    }\n",
       "\n",
       "    .dataframe thead th {\n",
       "        text-align: right;\n",
       "    }\n",
       "</style>\n",
       "<table border=\"1\" class=\"dataframe\">\n",
       "  <thead>\n",
       "    <tr style=\"text-align: right;\">\n",
       "      <th></th>\n",
       "      <th>sum_pvs</th>\n",
       "      <th>timeOnPage</th>\n",
       "      <th>avg_top</th>\n",
       "    </tr>\n",
       "  </thead>\n",
       "  <tbody>\n",
       "    <tr>\n",
       "      <th>count</th>\n",
       "      <td>409990.00</td>\n",
       "      <td>409990.00</td>\n",
       "      <td>409990.00</td>\n",
       "    </tr>\n",
       "    <tr>\n",
       "      <th>mean</th>\n",
       "      <td>2.91</td>\n",
       "      <td>235.32</td>\n",
       "      <td>72.66</td>\n",
       "    </tr>\n",
       "    <tr>\n",
       "      <th>std</th>\n",
       "      <td>5.34</td>\n",
       "      <td>619.08</td>\n",
       "      <td>123.51</td>\n",
       "    </tr>\n",
       "    <tr>\n",
       "      <th>min</th>\n",
       "      <td>1.00</td>\n",
       "      <td>0.00</td>\n",
       "      <td>0.00</td>\n",
       "    </tr>\n",
       "    <tr>\n",
       "      <th>25%</th>\n",
       "      <td>1.00</td>\n",
       "      <td>9.00</td>\n",
       "      <td>7.00</td>\n",
       "    </tr>\n",
       "    <tr>\n",
       "      <th>50%</th>\n",
       "      <td>1.00</td>\n",
       "      <td>59.00</td>\n",
       "      <td>36.00</td>\n",
       "    </tr>\n",
       "    <tr>\n",
       "      <th>75%</th>\n",
       "      <td>3.00</td>\n",
       "      <td>201.00</td>\n",
       "      <td>87.86</td>\n",
       "    </tr>\n",
       "    <tr>\n",
       "      <th>max</th>\n",
       "      <td>492.00</td>\n",
       "      <td>84268.00</td>\n",
       "      <td>2941.00</td>\n",
       "    </tr>\n",
       "  </tbody>\n",
       "</table>\n",
       "</div>"
      ],
      "text/plain": [
       "        sum_pvs  timeOnPage   avg_top\n",
       "count 409990.00   409990.00 409990.00\n",
       "mean       2.91      235.32     72.66\n",
       "std        5.34      619.08    123.51\n",
       "min        1.00        0.00      0.00\n",
       "25%        1.00        9.00      7.00\n",
       "50%        1.00       59.00     36.00\n",
       "75%        3.00      201.00     87.86\n",
       "max      492.00    84268.00   2941.00"
      ]
     },
     "execution_count": 6,
     "metadata": {},
     "output_type": "execute_result"
    }
   ],
   "source": [
    "whole_ns.describe()"
   ]
  },
  {
   "cell_type": "code",
   "execution_count": 7,
   "id": "0e3a9148",
   "metadata": {},
   "outputs": [
    {
     "name": "stdout",
     "output_type": "stream",
     "text": [
      "(0, 1]     0.57\n",
      "(1, 3]     0.24\n",
      "(3, 5]     0.08\n",
      "(5, 429]   0.11\n",
      "Name: range, dtype: float64\n"
     ]
    },
    {
     "data": {
      "text/plain": [
       "(0, 1]      234324\n",
       "(1, 3]       96629\n",
       "(3, 5]       32140\n",
       "(5, 429]     46896\n",
       "Name: range, dtype: int64"
      ]
     },
     "execution_count": 7,
     "metadata": {},
     "output_type": "execute_result"
    }
   ],
   "source": [
    "# cut sum(pvs) per person into buckets and calculate % people in each bucket\n",
    "\n",
    "whole_ns['range'] = pd.cut(whole_ns.sum_pvs, [0, 1, 3 , 5, 429])\n",
    "\n",
    "print(whole_ns.range.value_counts(normalize=True).sort_index())\n",
    "\n",
    "whole_ns.range.value_counts().sort_index()"
   ]
  },
  {
   "cell_type": "code",
   "execution_count": null,
   "id": "bb43e6ee",
   "metadata": {},
   "outputs": [],
   "source": []
  },
  {
   "cell_type": "markdown",
   "id": "fefdb681",
   "metadata": {},
   "source": [
    "* Make sure all kinds of non-sub behavior captured in our 3 train, val, test sets"
   ]
  },
  {
   "cell_type": "code",
   "execution_count": null,
   "id": "8a1ea538",
   "metadata": {
    "jupyter": {
     "source_hidden": true
    }
   },
   "outputs": [],
   "source": [
    "BUCKET_NAME = 'bi-subscription-modeling'\n",
    "BUCKET_FOLDER = 'train-val-data'\n",
    "file_name = 'training_data_11192021.csv'\n",
    "\n",
    "download_file(BUCKET_NAME, \n",
    "              BUCKET_FOLDER, \n",
    "              file_name) "
   ]
  },
  {
   "cell_type": "code",
   "execution_count": 8,
   "id": "183ac3e4",
   "metadata": {
    "collapsed": true,
    "jupyter": {
     "outputs_hidden": true,
     "source_hidden": true
    }
   },
   "outputs": [
    {
     "name": "stdout",
     "output_type": "stream",
     "text": [
      "(507937, 627)\n",
      "non_subscriber    409990\n",
      "subscriber         97947\n",
      "Name: subscription_status, dtype: int64 \n",
      "\n",
      "--- Train set --- (355555, 626) (355555,) 0.7\n",
      "--- Val set --- (76191, 626) (76191,) 0.15\n",
      "--- Test set --- (76191, 626) (76191,) 0.15\n"
     ]
    }
   ],
   "source": [
    "from sklearn.model_selection import train_test_split\n",
    "SEED = 42\n",
    "\n",
    "# read training data\n",
    "\n",
    "df = pd.read_csv('training_data_11192021.csv', dtype={'ga_fullvisitorid': object})\n",
    "\n",
    "print(df.shape)\n",
    "print(df.subscription_status.value_counts(), \"\\n\")\n",
    "\n",
    "X = df.iloc[:, :-1]\n",
    "y = df[\"subscription_status\"]\n",
    "\n",
    "# split the data in training and remaining dataset\n",
    "\n",
    "X_train, X_rem, y_train, y_rem = train_test_split(X,\n",
    "                                                  y, \n",
    "                                                  train_size=0.7, \n",
    "                                                  stratify = y,\n",
    "                                                  random_state = SEED \n",
    "                                                 )\n",
    "\n",
    "\n",
    "# make test and val sets\n",
    "X_val, X_test, y_val, y_test = train_test_split(X_rem,\n",
    "                                                y_rem, \n",
    "                                                test_size=0.5,\n",
    "                                                stratify = y_rem,\n",
    "                                                random_state = SEED \n",
    "                                                )\n",
    "\n",
    "print(\"--- Train set ---\", X_train.shape, y_train.shape, round(X_train.shape[0]/df.shape[0], 2))\n",
    "\n",
    "print(\"--- Val set ---\", X_val.shape, y_val.shape, round(X_val.shape[0]/df.shape[0], 2))\n",
    "\n",
    "print(\"--- Test set ---\", X_test.shape, y_test.shape, round(X_test.shape[0]/df.shape[0], 2))\n",
    "\n",
    "train_set = X_train.join(y_train)\n",
    "val_set = X_val.join(y_val)\n",
    "test_set = X_test.join(y_test)"
   ]
  },
  {
   "cell_type": "markdown",
   "id": "8c8aa8a1",
   "metadata": {},
   "source": [
    "### Train set non-subscribers - sum(pvs) per person\n",
    "\n",
    "* **From train set's non-subscriber pool, check distribution of people having more than 1 pvs and other buckets**"
   ]
  },
  {
   "cell_type": "code",
   "execution_count": 9,
   "id": "dfa6f3c8",
   "metadata": {},
   "outputs": [
    {
     "name": "stdout",
     "output_type": "stream",
     "text": [
      "(286992, 627)\n",
      "['non_subscriber'] \n",
      "\n",
      "(0, 1]     0.57\n",
      "(1, 3]     0.24\n",
      "(3, 5]     0.08\n",
      "(5, 380]   0.11\n",
      "Name: cut_train_sum_pv, dtype: float64 \n",
      "\n"
     ]
    },
    {
     "data": {
      "text/plain": [
       "(0, 1]      164041\n",
       "(1, 3]       67648\n",
       "(3, 5]       22452\n",
       "(5, 380]     32851\n",
       "Name: cut_train_sum_pv, dtype: int64"
      ]
     },
     "execution_count": 9,
     "metadata": {},
     "output_type": "execute_result"
    }
   ],
   "source": [
    "# keep only non-subs\n",
    "train_set_ns = train_set[train_set.subscription_status==\"non_subscriber\"]\n",
    "\n",
    "print(train_set_ns.shape)\n",
    "print(train_set_ns.subscription_status.unique(), \"\\n\")\n",
    "\n",
    "zz1 = pd.merge(train_set_ns, whole_ns, how=\"left\", left_on = \"ga_fullvisitorid\", right_on=\"GA_fullVisitorId\")\n",
    "\n",
    "zz1['cut_train_sum_pv'] = pd.cut(zz1.sum_pvs, [0, 1, 3 , 5, 380])\n",
    "\n",
    "print(zz1['cut_train_sum_pv'].value_counts(normalize=True).sort_index(), \"\\n\")\n",
    "\n",
    "zz1['cut_train_sum_pv'].value_counts().sort_index()"
   ]
  },
  {
   "cell_type": "markdown",
   "id": "b81844ec",
   "metadata": {},
   "source": [
    "### Val set non-subscribers - sum(pvs) per person\n",
    "\n",
    "* **From val set's non-subscriber pool, check distribution of people having more than 1 pvs and other buckets**"
   ]
  },
  {
   "cell_type": "code",
   "execution_count": 10,
   "id": "62f6d951",
   "metadata": {},
   "outputs": [
    {
     "name": "stdout",
     "output_type": "stream",
     "text": [
      "(61499, 627)\n",
      "['non_subscriber'] \n",
      "\n",
      "(0, 1]     0.57\n",
      "(1, 3]     0.23\n",
      "(3, 5]     0.08\n",
      "(5, 176]   0.11\n",
      "Name: cut_val_sum_pv, dtype: float64 \n",
      "\n"
     ]
    },
    {
     "data": {
      "text/plain": [
       "(0, 1]      35186\n",
       "(1, 3]      14419\n",
       "(3, 5]       4826\n",
       "(5, 176]     7068\n",
       "Name: cut_val_sum_pv, dtype: int64"
      ]
     },
     "execution_count": 10,
     "metadata": {},
     "output_type": "execute_result"
    }
   ],
   "source": [
    "# keep only non-subs\n",
    "val_set_ns = val_set[val_set.subscription_status==\"non_subscriber\"]\n",
    "\n",
    "print(val_set_ns.shape)\n",
    "print(val_set_ns.subscription_status.unique(), \"\\n\")\n",
    "\n",
    "zz2 = pd.merge(val_set_ns, whole_ns, how=\"left\", left_on = \"ga_fullvisitorid\", right_on=\"GA_fullVisitorId\")\n",
    "\n",
    "zz2['cut_val_sum_pv'] = pd.cut(zz2.sum_pvs, [0, 1, 3 , 5, 176])\n",
    "\n",
    "print(zz2['cut_val_sum_pv'].value_counts(normalize=True).sort_index(), \"\\n\")\n",
    "\n",
    "zz2['cut_val_sum_pv'].value_counts().sort_index()"
   ]
  },
  {
   "cell_type": "code",
   "execution_count": 1,
   "id": "fe58672c",
   "metadata": {},
   "outputs": [
    {
     "data": {
      "text/plain": [
       "11894"
      ]
     },
     "execution_count": 1,
     "metadata": {},
     "output_type": "execute_result"
    }
   ],
   "source": [
    "4826+7068"
   ]
  },
  {
   "cell_type": "markdown",
   "id": "383daaa7",
   "metadata": {},
   "source": [
    "### Test set non-subscribers - sum(pvs) per person\n",
    "\n",
    "* **From test set's non-subscriber pool, check distribution of people having more than 1 pvs and other buckets**"
   ]
  },
  {
   "cell_type": "code",
   "execution_count": 11,
   "id": "2175fdd8",
   "metadata": {},
   "outputs": [
    {
     "name": "stdout",
     "output_type": "stream",
     "text": [
      "(61499, 627)\n",
      "['non_subscriber'] \n",
      "\n",
      "(0, 1]     0.57\n",
      "(1, 3]     0.24\n",
      "(3, 5]     0.08\n",
      "(5, 492]   0.11\n",
      "Name: cut_val_sum_pv, dtype: float64 \n",
      "\n"
     ]
    },
    {
     "data": {
      "text/plain": [
       "(0, 1]      35097\n",
       "(1, 3]      14562\n",
       "(3, 5]       4862\n",
       "(5, 492]     6978\n",
       "Name: cut_val_sum_pv, dtype: int64"
      ]
     },
     "execution_count": 11,
     "metadata": {},
     "output_type": "execute_result"
    }
   ],
   "source": [
    "# keep only non-subs\n",
    "test_set_ns = test_set[test_set.subscription_status==\"non_subscriber\"]\n",
    "\n",
    "print(test_set_ns.shape)\n",
    "print(test_set_ns.subscription_status.unique(), \"\\n\")\n",
    "\n",
    "zz3 = pd.merge(test_set_ns, whole_ns, how=\"left\", left_on = \"ga_fullvisitorid\", right_on=\"GA_fullVisitorId\")\n",
    "\n",
    "zz3['cut_test_sum_pv'] = pd.cut(zz3.sum_pvs, [0, 1, 3 , 5, 492])\n",
    "\n",
    "print(zz3['cut_test_sum_pv'].value_counts(normalize=True).sort_index(), \"\\n\")\n",
    "\n",
    "zz3['cut_test_sum_pv'].value_counts().sort_index()"
   ]
  },
  {
   "cell_type": "code",
   "execution_count": null,
   "id": "f8ddde38",
   "metadata": {},
   "outputs": [],
   "source": []
  },
  {
   "cell_type": "code",
   "execution_count": null,
   "id": "20b8927b",
   "metadata": {},
   "outputs": [],
   "source": []
  },
  {
   "cell_type": "code",
   "execution_count": null,
   "id": "b0b2d26e",
   "metadata": {},
   "outputs": [],
   "source": []
  },
  {
   "cell_type": "markdown",
   "id": "45f984ac",
   "metadata": {},
   "source": [
    "### All non-subscribers from raw data - (pvs per session) per person\n",
    "\n",
    "* **From our total non-subscriber pool, check distribution of people in various buckets of pvs. per session**"
   ]
  },
  {
   "cell_type": "code",
   "execution_count": 12,
   "id": "251fabb2",
   "metadata": {
    "jupyter": {
     "source_hidden": true
    }
   },
   "outputs": [],
   "source": [
    "# user's per pagepath GA data\n",
    "page = raw_df.groupby(['GA_fullVisitorId', 'GA_visitStartTime', 'GA_pagePath']).agg({'GA_pageViews': 'max', 'GA_scrollDepth': 'max', 'timeOnPage': 'sum'}).reset_index()\n",
    "\n",
    "# user's per session GA data\n",
    "session = page.groupby(['GA_fullVisitorId', 'GA_visitStartTime']).agg({'GA_pageViews': 'sum', 'GA_scrollDepth': 'mean', 'timeOnPage': 'mean'}).reset_index()\n",
    "\n",
    "session.rename(columns={'GA_pageViews': 'unique_pageViews', 'timeOnPage': 'top_per_session'}, inplace=True)\n",
    "\n",
    "# --- per session pvs (mean,  median) ---\n",
    "pageViews = session.groupby('GA_fullVisitorId').agg({'unique_pageViews': ['mean', 'median']}).reset_index()\n",
    "\n",
    "# rename cols\n",
    "pageViews.columns = [' '.join(col).strip() for col in pageViews.columns.values]\n",
    "pageViews.rename(columns={'unique_pageViews mean':'unique_pageviews_mean', 'unique_pageViews median': 'unique_pageviews_median'}, inplace=True)\n",
    "\n",
    "# --- per session top (mean,  median) ---\n",
    "timeOnPage = session.groupby('GA_fullVisitorId').agg({'top_per_session': ['mean', 'median']}).reset_index()\n",
    "\n",
    "# rename cols\n",
    "timeOnPage.columns = [' '.join(col).strip() for col in timeOnPage.columns.values]\n",
    "timeOnPage.rename(columns={'top_per_session mean':'top_mean', 'top_per_session median': 'top_median'}, inplace=True)"
   ]
  },
  {
   "cell_type": "code",
   "execution_count": 13,
   "id": "6eff42c7",
   "metadata": {},
   "outputs": [
    {
     "name": "stdout",
     "output_type": "stream",
     "text": [
      "(0, 1]    0.95\n",
      "(1, 3]    0.05\n",
      "(3, 5]    0.00\n",
      "(5, 39]   0.00\n",
      "Name: cut_unique_pageviews_mean, dtype: float64 \n",
      "\n"
     ]
    },
    {
     "data": {
      "text/plain": [
       "(0, 1]     387875\n",
       "(1, 3]      22019\n",
       "(3, 5]         62\n",
       "(5, 39]        34\n",
       "Name: cut_unique_pageviews_mean, dtype: int64"
      ]
     },
     "execution_count": 13,
     "metadata": {},
     "output_type": "execute_result"
    }
   ],
   "source": [
    "pageViews['cut_unique_pageviews_mean'] = pd.cut(pageViews.unique_pageviews_mean, [0, 1, 3 , 5, 39])\n",
    "\n",
    "print(pageViews['cut_unique_pageviews_mean'].value_counts(normalize=True), \"\\n\")\n",
    "\n",
    "pageViews['cut_unique_pageviews_mean'].value_counts()"
   ]
  },
  {
   "cell_type": "markdown",
   "id": "c1d37c7a",
   "metadata": {},
   "source": [
    "### Train set non-subscribers - (pvs per session) per person\n",
    "\n",
    "* **From train set's non-subscriber pool, check distribution of people in various buckets of pvs. per session**"
   ]
  },
  {
   "cell_type": "code",
   "execution_count": 14,
   "id": "c6412065",
   "metadata": {},
   "outputs": [
    {
     "name": "stdout",
     "output_type": "stream",
     "text": [
      "(0, 1]    0.95\n",
      "(1, 3]    0.05\n",
      "(3, 5]    0.00\n",
      "(5, 39]   0.00\n",
      "Name: cut_session_pvs_mean, dtype: float64 \n",
      "\n"
     ]
    },
    {
     "data": {
      "text/plain": [
       "(0, 1]     271433\n",
       "(1, 3]      15494\n",
       "(3, 5]         43\n",
       "(5, 39]        22\n",
       "Name: cut_session_pvs_mean, dtype: int64"
      ]
     },
     "execution_count": 14,
     "metadata": {},
     "output_type": "execute_result"
    }
   ],
   "source": [
    "train_set_ns['cut_session_pvs_mean'] = pd.cut(train_set_ns.session_pvs_mean, [0, 1, 3 , 5, 39])\n",
    "\n",
    "print(train_set_ns['cut_session_pvs_mean'].value_counts(normalize=True), \"\\n\")\n",
    "\n",
    "train_set_ns['cut_session_pvs_mean'].value_counts()"
   ]
  },
  {
   "cell_type": "markdown",
   "id": "3315fcdb",
   "metadata": {},
   "source": [
    "### Val set non-subscribers - (pvs per session) per person\n",
    "\n",
    "* **From val set's non-subscriber pool, check distribution of people in various buckets of pvs. per session**"
   ]
  },
  {
   "cell_type": "code",
   "execution_count": 15,
   "id": "b56fd74e",
   "metadata": {},
   "outputs": [
    {
     "name": "stdout",
     "output_type": "stream",
     "text": [
      "(0, 1]    0.95\n",
      "(1, 3]    0.05\n",
      "(3, 5]    0.00\n",
      "(5, 39]   0.00\n",
      "Name: cut_session_pvs_mean, dtype: float64\n"
     ]
    },
    {
     "data": {
      "text/plain": [
       "(0, 1]     58175\n",
       "(1, 3]      3305\n",
       "(3, 5]        13\n",
       "(5, 39]        6\n",
       "Name: cut_session_pvs_mean, dtype: int64"
      ]
     },
     "execution_count": 15,
     "metadata": {},
     "output_type": "execute_result"
    }
   ],
   "source": [
    "val_set_ns['cut_session_pvs_mean'] = pd.cut(val_set_ns.session_pvs_mean, [0, 1, 3 , 5, 39])\n",
    "\n",
    "print(val_set_ns['cut_session_pvs_mean'].value_counts(normalize=True))\n",
    "val_set_ns['cut_session_pvs_mean'].value_counts()"
   ]
  },
  {
   "cell_type": "markdown",
   "id": "e83bc4ce",
   "metadata": {},
   "source": [
    "### Test set non-subscribers - (pvs per session) per person\n",
    "\n",
    "* **From test set's non-subscriber pool, check distribution of people in various buckets of pvs. per session**"
   ]
  },
  {
   "cell_type": "code",
   "execution_count": 16,
   "id": "9aa0233b",
   "metadata": {},
   "outputs": [
    {
     "name": "stdout",
     "output_type": "stream",
     "text": [
      "(0, 1]    0.95\n",
      "(1, 3]    0.05\n",
      "(3, 5]    0.00\n",
      "(5, 39]   0.00\n",
      "Name: cut_session_pvs_mean, dtype: float64\n"
     ]
    },
    {
     "data": {
      "text/plain": [
       "(0, 1]     58267\n",
       "(1, 3]      3220\n",
       "(3, 5]         6\n",
       "(5, 39]        6\n",
       "Name: cut_session_pvs_mean, dtype: int64"
      ]
     },
     "execution_count": 16,
     "metadata": {},
     "output_type": "execute_result"
    }
   ],
   "source": [
    "test_set_ns['cut_session_pvs_mean'] = pd.cut(test_set_ns.session_pvs_mean, [0, 1, 3 , 5, 39])\n",
    "\n",
    "print(test_set_ns['cut_session_pvs_mean'].value_counts(normalize=True))\n",
    "\n",
    "test_set_ns['cut_session_pvs_mean'].value_counts()"
   ]
  },
  {
   "cell_type": "code",
   "execution_count": null,
   "id": "04bb51c6",
   "metadata": {},
   "outputs": [],
   "source": []
  }
 ],
 "metadata": {
  "environment": {
   "name": "tf2-gpu.2-6.m79",
   "type": "gcloud",
   "uri": "gcr.io/deeplearning-platform-release/tf2-gpu.2-6:m79"
  },
  "kernelspec": {
   "display_name": "subscribers",
   "language": "python",
   "name": "subscribers"
  },
  "language_info": {
   "codemirror_mode": {
    "name": "ipython",
    "version": 3
   },
   "file_extension": ".py",
   "mimetype": "text/x-python",
   "name": "python",
   "nbconvert_exporter": "python",
   "pygments_lexer": "ipython3",
   "version": "3.7.10"
  }
 },
 "nbformat": 4,
 "nbformat_minor": 5
}
