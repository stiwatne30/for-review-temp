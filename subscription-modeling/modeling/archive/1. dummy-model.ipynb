{
 "cells": [
  {
   "cell_type": "markdown",
   "id": "f977e1eb",
   "metadata": {},
   "source": [
    "## Description:\n",
    "\n",
    "This file contains:\n",
    "* target variable encoding\n",
    "* fill na, drop unnecessary cols\n",
    "* make train-val-test sets\n",
    "* dummy model (all features)\n",
    "* LGBM (all features)"
   ]
  },
  {
   "cell_type": "code",
   "execution_count": 1,
   "id": "a3e3fbb9",
   "metadata": {},
   "outputs": [],
   "source": [
    "'''Helper''' \n",
    "import pandas as pd\n",
    "pd.set_option('display.float_format', lambda x: '%.1f' % x)\n",
    "import numpy as np\n",
    "import time\n",
    "\n",
    "\n",
    "'''Pre-processing'''\n",
    "from sklearn.pipeline import Pipeline\n",
    "from sklearn.preprocessing import StandardScaler, RobustScaler\n",
    "from sklearn.model_selection import train_test_split\n",
    "\n",
    "'''Modeling'''\n",
    "import lightgbm as lgb\n",
    "from sklearn.dummy import DummyClassifier\n",
    "from sklearn.model_selection import cross_val_score, StratifiedKFold\n",
    "from sklearn.metrics import classification_report, plot_confusion_matrix\n",
    "\n",
    "\n",
    "'''GCS Utils'''\n",
    "from gcs_utils import upload_serialized_file, upload_csv_file, download_file\n",
    "\n",
    "import warnings\n",
    "warnings.filterwarnings('ignore')\n",
    "\n",
    "SEED=42"
   ]
  },
  {
   "cell_type": "code",
   "execution_count": 2,
   "id": "54abcb2c",
   "metadata": {},
   "outputs": [],
   "source": [
    "BUCKET_NAME = 'bi-subscription-modeling'\n",
    "BUCKET_FOLDER = 'train-val-data'\n",
    "file_name = 'training_data_11192021.csv'\n",
    "\n",
    "download_file(BUCKET_NAME, \n",
    "              BUCKET_FOLDER, \n",
    "              file_name) "
   ]
  },
  {
   "cell_type": "markdown",
   "id": "d6615eca",
   "metadata": {},
   "source": [
    "### Training Data - Features\n",
    "\n",
    "**Numerical Features**\n",
    "1. User metrics\n",
    "    * unique pageviews per session (avg, median)\n",
    "    * timeOnPage per session (avg, median) <br><br>\n",
    "2. Session metrics\n",
    "    * bounceRate  <br><br>\n",
    "3. Content metrics\n",
    "    * contentViewsRate (contentViews / pageViews) <br>\n",
    "\n",
    "**Categorical Features**\n",
    "1. Content categories \n",
    "    * Sum pvs - Tier1, Tier2, Primary Channel, Primary Section\n",
    "    * Avg. top - Tier1 <br><br>\n",
    "2. Timestamp features: \n",
    "\n",
    "    * Weekday vs Weekend \n",
    "        * Sum pvs & avg. top\n",
    "    * Business Hours vs Non-Business Hours *(Differentiated by US and other countries)*\n",
    "        * Sum pvs & avg. top\n",
    "    * Day of week\n",
    "        * avg. top\n",
    "    * Day of month\n",
    "        * avg. top\n",
    "    * Hourly *(Differentiated by US and other countries)*\n",
    "        * avg. top\n",
    "    * Minute *(Differentiated by US and other countries)*\n",
    "        * avg. top<br><br>\n",
    "3. Device OS - Sum pvs\n",
    "4. Referral source - Sum pvs\n",
    "5. Countries - Sum pvs<br><br>"
   ]
  },
  {
   "cell_type": "code",
   "execution_count": 2,
   "id": "37e5acb8",
   "metadata": {},
   "outputs": [
    {
     "name": "stdout",
     "output_type": "stream",
     "text": [
      "(507937, 627)\n",
      "[0]\n"
     ]
    }
   ],
   "source": [
    "# read training data\n",
    "\n",
    "df = pd.read_csv('training_data_11192021.csv', dtype={'ga_fullvisitorid': object})\n",
    "\n",
    "print(df.shape)\n",
    "print(df.isna().sum().unique())"
   ]
  },
  {
   "cell_type": "markdown",
   "id": "39d5b273",
   "metadata": {},
   "source": [
    "* For round 1 - categorical features generated using pivots of sum(pvs) - for time save + convenience\n",
    "* Advanced - discussed in next steps"
   ]
  },
  {
   "cell_type": "code",
   "execution_count": 3,
   "id": "088465e0",
   "metadata": {},
   "outputs": [
    {
     "data": {
      "text/html": [
       "<div>\n",
       "<style scoped>\n",
       "    .dataframe tbody tr th:only-of-type {\n",
       "        vertical-align: middle;\n",
       "    }\n",
       "\n",
       "    .dataframe tbody tr th {\n",
       "        vertical-align: top;\n",
       "    }\n",
       "\n",
       "    .dataframe thead th {\n",
       "        text-align: right;\n",
       "    }\n",
       "</style>\n",
       "<table border=\"1\" class=\"dataframe\">\n",
       "  <thead>\n",
       "    <tr style=\"text-align: right;\">\n",
       "      <th></th>\n",
       "      <th>ga_fullvisitorid</th>\n",
       "      <th>session_pvs_mean</th>\n",
       "      <th>session_pvs_median</th>\n",
       "      <th>session_top_mean</th>\n",
       "      <th>session_top_median</th>\n",
       "      <th>bounce_rate</th>\n",
       "      <th>content_views_rate</th>\n",
       "      <th>rf_content_aggregators</th>\n",
       "      <th>rf_direct</th>\n",
       "      <th>rf_fbia</th>\n",
       "      <th>...</th>\n",
       "      <th>minute_51_top</th>\n",
       "      <th>minute_52_top</th>\n",
       "      <th>minute_53_top</th>\n",
       "      <th>minute_54_top</th>\n",
       "      <th>minute_55_top</th>\n",
       "      <th>minute_56_top</th>\n",
       "      <th>minute_57_top</th>\n",
       "      <th>minute_58_top</th>\n",
       "      <th>minute_59_top</th>\n",
       "      <th>subscription_status</th>\n",
       "    </tr>\n",
       "  </thead>\n",
       "  <tbody>\n",
       "    <tr>\n",
       "      <th>0</th>\n",
       "      <td>10000145548747950113</td>\n",
       "      <td>1.0</td>\n",
       "      <td>1.0</td>\n",
       "      <td>454.0</td>\n",
       "      <td>454.0</td>\n",
       "      <td>1.0</td>\n",
       "      <td>1.0</td>\n",
       "      <td>0.0</td>\n",
       "      <td>0.0</td>\n",
       "      <td>0.0</td>\n",
       "      <td>...</td>\n",
       "      <td>0.0</td>\n",
       "      <td>0.0</td>\n",
       "      <td>0.0</td>\n",
       "      <td>0.0</td>\n",
       "      <td>0.0</td>\n",
       "      <td>0.0</td>\n",
       "      <td>0.0</td>\n",
       "      <td>0.0</td>\n",
       "      <td>0.0</td>\n",
       "      <td>non_subscriber</td>\n",
       "    </tr>\n",
       "    <tr>\n",
       "      <th>1</th>\n",
       "      <td>10000150578546110250</td>\n",
       "      <td>1.0</td>\n",
       "      <td>1.0</td>\n",
       "      <td>14.5</td>\n",
       "      <td>12.0</td>\n",
       "      <td>1.0</td>\n",
       "      <td>1.0</td>\n",
       "      <td>0.0</td>\n",
       "      <td>0.0</td>\n",
       "      <td>0.0</td>\n",
       "      <td>...</td>\n",
       "      <td>0.0</td>\n",
       "      <td>0.0</td>\n",
       "      <td>0.0</td>\n",
       "      <td>0.0</td>\n",
       "      <td>0.0</td>\n",
       "      <td>0.0</td>\n",
       "      <td>2.0</td>\n",
       "      <td>0.0</td>\n",
       "      <td>0.0</td>\n",
       "      <td>non_subscriber</td>\n",
       "    </tr>\n",
       "    <tr>\n",
       "      <th>2</th>\n",
       "      <td>10000154461756058018</td>\n",
       "      <td>1.0</td>\n",
       "      <td>1.0</td>\n",
       "      <td>52.0</td>\n",
       "      <td>52.0</td>\n",
       "      <td>1.0</td>\n",
       "      <td>1.0</td>\n",
       "      <td>0.0</td>\n",
       "      <td>1.0</td>\n",
       "      <td>0.0</td>\n",
       "      <td>...</td>\n",
       "      <td>0.0</td>\n",
       "      <td>0.0</td>\n",
       "      <td>0.0</td>\n",
       "      <td>0.0</td>\n",
       "      <td>0.0</td>\n",
       "      <td>0.0</td>\n",
       "      <td>0.0</td>\n",
       "      <td>0.0</td>\n",
       "      <td>0.0</td>\n",
       "      <td>non_subscriber</td>\n",
       "    </tr>\n",
       "    <tr>\n",
       "      <th>3</th>\n",
       "      <td>10000244735129548321</td>\n",
       "      <td>1.0</td>\n",
       "      <td>1.0</td>\n",
       "      <td>32.0</td>\n",
       "      <td>32.0</td>\n",
       "      <td>1.0</td>\n",
       "      <td>1.0</td>\n",
       "      <td>0.0</td>\n",
       "      <td>0.0</td>\n",
       "      <td>0.0</td>\n",
       "      <td>...</td>\n",
       "      <td>0.0</td>\n",
       "      <td>0.0</td>\n",
       "      <td>0.0</td>\n",
       "      <td>0.0</td>\n",
       "      <td>0.0</td>\n",
       "      <td>0.0</td>\n",
       "      <td>0.0</td>\n",
       "      <td>0.0</td>\n",
       "      <td>0.0</td>\n",
       "      <td>non_subscriber</td>\n",
       "    </tr>\n",
       "    <tr>\n",
       "      <th>4</th>\n",
       "      <td>10000256049462665870</td>\n",
       "      <td>1.0</td>\n",
       "      <td>1.0</td>\n",
       "      <td>15.0</td>\n",
       "      <td>15.0</td>\n",
       "      <td>1.0</td>\n",
       "      <td>1.0</td>\n",
       "      <td>0.0</td>\n",
       "      <td>0.0</td>\n",
       "      <td>0.0</td>\n",
       "      <td>...</td>\n",
       "      <td>0.0</td>\n",
       "      <td>0.0</td>\n",
       "      <td>0.0</td>\n",
       "      <td>0.0</td>\n",
       "      <td>0.0</td>\n",
       "      <td>0.0</td>\n",
       "      <td>0.0</td>\n",
       "      <td>0.0</td>\n",
       "      <td>0.0</td>\n",
       "      <td>non_subscriber</td>\n",
       "    </tr>\n",
       "  </tbody>\n",
       "</table>\n",
       "<p>5 rows × 627 columns</p>\n",
       "</div>"
      ],
      "text/plain": [
       "       ga_fullvisitorid  session_pvs_mean  session_pvs_median  \\\n",
       "0  10000145548747950113               1.0                 1.0   \n",
       "1  10000150578546110250               1.0                 1.0   \n",
       "2  10000154461756058018               1.0                 1.0   \n",
       "3  10000244735129548321               1.0                 1.0   \n",
       "4  10000256049462665870               1.0                 1.0   \n",
       "\n",
       "   session_top_mean  session_top_median  bounce_rate  content_views_rate  \\\n",
       "0             454.0               454.0          1.0                 1.0   \n",
       "1              14.5                12.0          1.0                 1.0   \n",
       "2              52.0                52.0          1.0                 1.0   \n",
       "3              32.0                32.0          1.0                 1.0   \n",
       "4              15.0                15.0          1.0                 1.0   \n",
       "\n",
       "   rf_content_aggregators  rf_direct  rf_fbia  ...  minute_51_top  \\\n",
       "0                     0.0        0.0      0.0  ...            0.0   \n",
       "1                     0.0        0.0      0.0  ...            0.0   \n",
       "2                     0.0        1.0      0.0  ...            0.0   \n",
       "3                     0.0        0.0      0.0  ...            0.0   \n",
       "4                     0.0        0.0      0.0  ...            0.0   \n",
       "\n",
       "   minute_52_top  minute_53_top  minute_54_top  minute_55_top  minute_56_top  \\\n",
       "0            0.0            0.0            0.0            0.0            0.0   \n",
       "1            0.0            0.0            0.0            0.0            0.0   \n",
       "2            0.0            0.0            0.0            0.0            0.0   \n",
       "3            0.0            0.0            0.0            0.0            0.0   \n",
       "4            0.0            0.0            0.0            0.0            0.0   \n",
       "\n",
       "   minute_57_top  minute_58_top  minute_59_top  subscription_status  \n",
       "0            0.0            0.0            0.0       non_subscriber  \n",
       "1            2.0            0.0            0.0       non_subscriber  \n",
       "2            0.0            0.0            0.0       non_subscriber  \n",
       "3            0.0            0.0            0.0       non_subscriber  \n",
       "4            0.0            0.0            0.0       non_subscriber  \n",
       "\n",
       "[5 rows x 627 columns]"
      ]
     },
     "execution_count": 3,
     "metadata": {},
     "output_type": "execute_result"
    }
   ],
   "source": [
    "df.head()"
   ]
  },
  {
   "cell_type": "code",
   "execution_count": 4,
   "id": "f61d8069",
   "metadata": {},
   "outputs": [
    {
     "data": {
      "text/plain": [
       "float64    623\n",
       "object       2\n",
       "int64        2\n",
       "dtype: int64"
      ]
     },
     "execution_count": 4,
     "metadata": {},
     "output_type": "execute_result"
    }
   ],
   "source": [
    "df.dtypes.value_counts()"
   ]
  },
  {
   "cell_type": "markdown",
   "id": "628ffcb1",
   "metadata": {},
   "source": [
    "* Fill NA\n",
    "* Drop unnecesary cols\n",
    "* Encode target variable"
   ]
  },
  {
   "cell_type": "code",
   "execution_count": 5,
   "id": "d5dbc56c",
   "metadata": {},
   "outputs": [],
   "source": [
    "# fill any Nulls with 0\n",
    "\n",
    "df.fillna(0, inplace=True)\n",
    "\n",
    "# drop unnecessary cols\n",
    "cols_to_drop = [x for x in df.columns if 'other' in x] + ['ga_fullvisitorid']\n",
    "\n",
    "df = df.drop(cols_to_drop, \n",
    "             axis=1)\n",
    "\n",
    "# encode target - subs class 1, everyone else class 0\n",
    "\n",
    "df['subscription_status'] = np.where(df['subscription_status']=='subscriber',\n",
    "                                     1, 0)"
   ]
  },
  {
   "cell_type": "code",
   "execution_count": 6,
   "id": "5ccb6a47",
   "metadata": {},
   "outputs": [
    {
     "data": {
      "text/plain": [
       "0    409990\n",
       "1     97947\n",
       "Name: subscription_status, dtype: int64"
      ]
     },
     "execution_count": 6,
     "metadata": {},
     "output_type": "execute_result"
    }
   ],
   "source": [
    "df.subscription_status.value_counts()"
   ]
  },
  {
   "cell_type": "markdown",
   "id": "f99e15df",
   "metadata": {},
   "source": [
    "**Train - test split**\n",
    "* Why train-test split before feature selection - to avoid information leakage"
   ]
  },
  {
   "cell_type": "code",
   "execution_count": 7,
   "id": "9c1c123c",
   "metadata": {},
   "outputs": [],
   "source": [
    "X = df.iloc[:, :-1]\n",
    "y = df[\"subscription_status\"]\n",
    "\n",
    "# split the data in training and remaining dataset\n",
    "\n",
    "X_train, X_rem, y_train, y_rem = train_test_split(X,\n",
    "                                                  y, \n",
    "                                                  train_size=0.7, \n",
    "                                                  stratify = y,\n",
    "                                                  random_state = SEED \n",
    "                                                 )\n",
    "\n",
    "\n",
    "# make test and val sets\n",
    "X_val, X_test, y_val, y_test = train_test_split(X_rem,\n",
    "                                                y_rem, \n",
    "                                                test_size=0.5,\n",
    "                                                stratify = y_rem,\n",
    "                                                random_state = SEED \n",
    "                                                )"
   ]
  },
  {
   "cell_type": "markdown",
   "id": "cceb9051",
   "metadata": {},
   "source": [
    "* For all experiments, train and val sets will be used. \n",
    "* Test = left untouched"
   ]
  },
  {
   "cell_type": "code",
   "execution_count": 8,
   "id": "75de565c",
   "metadata": {},
   "outputs": [
    {
     "name": "stdout",
     "output_type": "stream",
     "text": [
      "--- Train set --- (355555, 618) (355555,) 0.7\n",
      "--- Val set --- (76191, 618) (76191,) 0.15\n",
      "--- Test set --- (76191, 618) (76191,) 0.15\n"
     ]
    }
   ],
   "source": [
    "print(\"--- Train set ---\", X_train.shape, y_train.shape, round(X_train.shape[0]/df.shape[0], 2))\n",
    "\n",
    "print(\"--- Val set ---\", X_val.shape, y_val.shape, round(X_val.shape[0]/df.shape[0], 2))\n",
    "\n",
    "print(\"--- Test set ---\", X_test.shape, y_test.shape, round(X_test.shape[0]/df.shape[0], 2))"
   ]
  },
  {
   "cell_type": "markdown",
   "id": "290f6db4",
   "metadata": {},
   "source": [
    "**Save files**<br>"
   ]
  },
  {
   "cell_type": "code",
   "execution_count": 9,
   "id": "453a89e1",
   "metadata": {},
   "outputs": [],
   "source": [
    "train_set = X_train.join(y_train)\n",
    "val_set = X_val.join(y_val)\n",
    "test_set = X_test.join(y_test)"
   ]
  },
  {
   "cell_type": "code",
   "execution_count": 13,
   "id": "423c327d",
   "metadata": {},
   "outputs": [
    {
     "name": "stdout",
     "output_type": "stream",
     "text": [
      "File uploaded to gs://bi-subscription-modeling/train-val-data/train_set_11222021.csv\n",
      "File uploaded to gs://bi-subscription-modeling/train-val-data/val_set_11222021.csv\n",
      "File uploaded to gs://bi-subscription-modeling/train-val-data/test_set_11222021.csv\n"
     ]
    }
   ],
   "source": [
    "BUCKET_NAME = 'bi-subscription-modeling'\n",
    "BUCKET_FOLDER = 'train-val-data'\n",
    "\n",
    "# save locally and upload .csv \n",
    "file_name = 'train_set_11222021.csv'\n",
    "\n",
    "upload_csv_file(train_set, \n",
    "                BUCKET_NAME, \n",
    "                BUCKET_FOLDER, \n",
    "                file_name) \n",
    "\n",
    "# save locally and upload .csv \n",
    "file_name = 'val_set_11222021.csv'\n",
    "\n",
    "upload_csv_file(val_set, \n",
    "                BUCKET_NAME, \n",
    "                BUCKET_FOLDER, \n",
    "                file_name) \n",
    "\n",
    "# save locally and upload .csv \n",
    "file_name = 'test_set_11222021.csv'\n",
    "\n",
    "upload_csv_file(test_set, \n",
    "                BUCKET_NAME, \n",
    "                BUCKET_FOLDER, \n",
    "                file_name) "
   ]
  },
  {
   "cell_type": "markdown",
   "id": "8126b995",
   "metadata": {},
   "source": [
    "* **Dummy classifier** \n",
    "    * All features\n",
    "    * Scaled feature values\n",
    "    * Imbalanced dataset"
   ]
  },
  {
   "cell_type": "code",
   "execution_count": 10,
   "id": "2b79778d",
   "metadata": {},
   "outputs": [],
   "source": [
    "scoring='f1_weighted'\n",
    "stkf = StratifiedKFold(5)"
   ]
  },
  {
   "cell_type": "code",
   "execution_count": 11,
   "id": "3582a069",
   "metadata": {},
   "outputs": [
    {
     "name": "stdout",
     "output_type": "stream",
     "text": [
      "[0.68730487 0.68895557 0.6853725  0.69013019 0.6912622 ]\n",
      "Dummy average score is 0.6886050674260386\n"
     ]
    }
   ],
   "source": [
    "scaler = RobustScaler()\n",
    "\n",
    "dummy = DummyClassifier(strategy='stratified') # stratified because of class imbalance\n",
    "\n",
    "dummy = Pipeline(\n",
    "    steps=[\n",
    "        ('scaler', scaler),\n",
    "        ('model', dummy)\n",
    "    ]\n",
    ")\n",
    "\n",
    "dummy_score = cross_val_score(\n",
    "    dummy,\n",
    "    X_train,\n",
    "    y_train,\n",
    "    cv=stkf,\n",
    "    n_jobs=-1,\n",
    "    scoring=scoring\n",
    ")\n",
    "\n",
    "print(dummy_score)\n",
    "print(\"Dummy average score is\", np.mean(dummy_score))"
   ]
  },
  {
   "cell_type": "markdown",
   "id": "2bf69b88",
   "metadata": {},
   "source": [
    "* **LGBM** \n",
    "    * All features\n",
    "    * Scaled feature values\n",
    "    * Imbalanced dataset"
   ]
  },
  {
   "cell_type": "code",
   "execution_count": 12,
   "id": "25532cd6",
   "metadata": {},
   "outputs": [
    {
     "name": "stdout",
     "output_type": "stream",
     "text": [
      "[0.9913862  0.99136199 0.99053425 0.99079319 0.99089561]\n",
      "LGBM base score is 0.9909942469067328\n"
     ]
    }
   ],
   "source": [
    "scaler = RobustScaler()\n",
    "\n",
    "model = lgb.LGBMClassifier(random_state=SEED, \n",
    "                           is_unbalance=True) # is_unbalance because train data is imbalanced\n",
    "\n",
    "model = Pipeline(\n",
    "    steps=[\n",
    "        ('scaler', scaler),\n",
    "        ('model', model)\n",
    "    ]\n",
    ")\n",
    "\n",
    "lgbm_base_score = cross_val_score(\n",
    "    model,\n",
    "    X_train,\n",
    "    y_train,\n",
    "    cv=stkf,\n",
    "    n_jobs=-1,\n",
    "    scoring=scoring\n",
    ")\n",
    "\n",
    "print(lgbm_base_score)\n",
    "print(\"LGBM base score is\", np.mean(lgbm_base_score))"
   ]
  },
  {
   "cell_type": "code",
   "execution_count": 12,
   "id": "51992570",
   "metadata": {},
   "outputs": [
    {
     "name": "stdout",
     "output_type": "stream",
     "text": [
      "                precision    recall  f1-score   support\n",
      "\n",
      "Non-subscriber       1.00      0.99      0.99     61499\n",
      "    subscriber       0.97      0.99      0.98     14692\n",
      "\n",
      "      accuracy                           0.99     76191\n",
      "     macro avg       0.98      0.99      0.99     76191\n",
      "  weighted avg       0.99      0.99      0.99     76191\n",
      "\n"
     ]
    },
    {
     "data": {
      "text/plain": [
       "<sklearn.metrics._plot.confusion_matrix.ConfusionMatrixDisplay at 0x7fed9038d110>"
      ]
     },
     "execution_count": 12,
     "metadata": {},
     "output_type": "execute_result"
    },
    {
     "data": {
      "image/png": "[encoded data removed]",
      "text/plain": [
       "<Figure size 432x288 with 2 Axes>"
      ]
     },
     "metadata": {
      "needs_background": "light"
     },
     "output_type": "display_data"
    }
   ],
   "source": [
    "model.fit(X_train, y_train)\n",
    "\n",
    "y_pred = model.predict(X_val)\n",
    "\n",
    "print(classification_report(y_val, \n",
    "                            y_pred, \n",
    "                            target_names = ['Non-subscriber', 'subscriber']))\n",
    "\n",
    "plot_confusion_matrix(estimator=model, \n",
    "                      X=X_val, \n",
    "                      y_true=y_val, \n",
    "                      cmap='Blues'\n",
    "                     )"
   ]
  },
  {
   "cell_type": "code",
   "execution_count": null,
   "id": "e556e340",
   "metadata": {},
   "outputs": [],
   "source": [
    "# crazy overfitting? check bias? - DONE"
   ]
  },
  {
   "cell_type": "markdown",
   "id": "45acbe0f",
   "metadata": {},
   "source": [
    "* **LGBM** \n",
    "    * All features\n",
    "    * Scaled feature values\n",
    "    * Imbalanced dataset\n",
    "    * cross-val strategy - StratifiedShuffleSplit"
   ]
  },
  {
   "cell_type": "code",
   "execution_count": 16,
   "id": "da2728ef",
   "metadata": {},
   "outputs": [],
   "source": [
    "from sklearn.model_selection import StratifiedShuffleSplit\n",
    "\n",
    "scoring='f1_weighted'\n",
    "\n",
    "skf = StratifiedKFold(n_splits = 10, \n",
    "                      shuffle=True,\n",
    "                      random_state = SEED)\n",
    "\n",
    "sss = StratifiedShuffleSplit(n_splits = 5, \n",
    "                             test_size = 0.2, \n",
    "                             random_state = SEED) "
   ]
  },
  {
   "cell_type": "code",
   "execution_count": 15,
   "id": "e682e741",
   "metadata": {},
   "outputs": [
    {
     "name": "stdout",
     "output_type": "stream",
     "text": [
      "[0.99167605 0.99095274 0.9910073  0.99131381 0.99153246 0.99105726\n",
      " 0.99237712 0.99041639 0.99048477 0.99050226]\n",
      "LGBM base score is 0.9911320158880873\n"
     ]
    }
   ],
   "source": [
    "scaler = RobustScaler()\n",
    "\n",
    "model = lgb.LGBMClassifier(random_state=SEED, \n",
    "                           is_unbalance=True) # is_unbalance because train data is imbalanced\n",
    "\n",
    "model = Pipeline(\n",
    "    steps=[\n",
    "        ('scaler', scaler),\n",
    "        ('model', model)\n",
    "    ]\n",
    ")\n",
    "\n",
    "lgbm_base_score = cross_val_score(\n",
    "    model,\n",
    "    X_train,\n",
    "    y_train,\n",
    "    cv=skf,\n",
    "    n_jobs=-1,\n",
    "    scoring=scoring\n",
    ")\n",
    "\n",
    "print(lgbm_base_score)\n",
    "print(\"LGBM base score is\", np.mean(lgbm_base_score))"
   ]
  },
  {
   "cell_type": "code",
   "execution_count": 17,
   "id": "efd8e017",
   "metadata": {},
   "outputs": [
    {
     "name": "stdout",
     "output_type": "stream",
     "text": [
      "[0.99108299 0.99112879 0.99128756 0.99093799 0.9912009 ]\n",
      "LGBM base score is 0.9911276472851209\n"
     ]
    }
   ],
   "source": [
    "scaler = RobustScaler()\n",
    "\n",
    "model = lgb.LGBMClassifier(random_state=SEED, \n",
    "                           is_unbalance=True) # is_unbalance because train data is imbalanced\n",
    "\n",
    "model = Pipeline(\n",
    "    steps=[\n",
    "        ('scaler', scaler),\n",
    "        ('model', model)\n",
    "    ]\n",
    ")\n",
    "\n",
    "lgbm_base_score = cross_val_score(\n",
    "    model,\n",
    "    X_train,\n",
    "    y_train,\n",
    "    cv=sss, # using StratifiedKFold w/ shuffle=True\n",
    "    n_jobs=-1,\n",
    "    scoring=scoring\n",
    ")\n",
    "\n",
    "print(lgbm_base_score)\n",
    "print(\"LGBM base score is\", np.mean(lgbm_base_score))"
   ]
  },
  {
   "cell_type": "code",
   "execution_count": null,
   "id": "483af5c4",
   "metadata": {},
   "outputs": [],
   "source": []
  },
  {
   "cell_type": "code",
   "execution_count": null,
   "id": "897a7b74",
   "metadata": {},
   "outputs": [],
   "source": []
  },
  {
   "cell_type": "code",
   "execution_count": null,
   "id": "4fe43499",
   "metadata": {},
   "outputs": [],
   "source": []
  },
  {
   "cell_type": "code",
   "execution_count": 23,
   "id": "5cfa39d8",
   "metadata": {},
   "outputs": [
    {
     "name": "stdout",
     "output_type": "stream",
     "text": [
      "612\n",
      "6\n"
     ]
    }
   ],
   "source": [
    "# just checking col names\n",
    "\n",
    "t1_pv_cols =        [col for col in df.columns if ('t1_' in col) & ('_pvs' in col)]\n",
    "t1_top_cols =       [col for col in df.columns if ('t1_' in col) & ('_top' in col)]\n",
    "t2_pv_cols =        [col for col in df.columns if 't2_' in col]\n",
    "pc_cols =           [col for col in df.columns if 'pc_' in col]\n",
    "ps_cols =           [col for col in df.columns if 'ps_' in col]\n",
    "deviceos_cols =     [col for col in df.columns if 'dos_' in col]\n",
    "referral_cols =     [col for col in df.columns if 'rf_' in col]\n",
    "country_cols =      [col for col in df.columns if 'ct_' in col]\n",
    "\n",
    "wk_pv_cols =        [col for col in df.columns if ('week' in col) & ('_pvs' in col)]\n",
    "wk_top_cols =       [col for col in df.columns if ('week' in col) & ('_top' in col)]\n",
    "busi_pv_cols =      [col for col in df.columns if ('business_hours' in col) & ('_pvs' in col)]\n",
    "busi_top_cols =     [col for col in df.columns if ('business_hours' in col) & ('_top' in col)]\n",
    "dom_cols =          [col for col in df.columns if 'day_of_mon_' in col] \n",
    "hour_cols =         [col for col in df.columns if 'hour_' in col] \n",
    "minute_cols =       [col for col in df.columns if 'minute_' in col]\n",
    "dow_cols =          ['friday_top', 'monday_top', 'saturday_top', 'sunday_top', 'thursday_top', 'tuesday_top', 'wednesday_top']\n",
    "\n",
    "\n",
    "# remove mis-assigned ones\n",
    "pc_cols.remove('t2_pc_games_pvs')\n",
    "ps_cols.remove('t1_family_and_relationships_pvs')\n",
    "ps_cols.remove('t1_family_and_relationships_top')\n",
    "ps_cols.remove('t2_apprenticeships_pvs')\n",
    "ps_cols.remove('t2_celebrity_relationships_pvs')\n",
    "ps_cols.remove('t2_workshops_and_classes_pvs')\n",
    "\n",
    "\n",
    "categorical_cols = (t1_pv_cols +  t1_top_cols + t2_pv_cols + pc_cols + ps_cols + deviceos_cols + referral_cols + country_cols +\n",
    "                    wk_pv_cols + wk_top_cols + busi_pv_cols + busi_top_cols + dom_cols + hour_cols + minute_cols  + dow_cols\n",
    "                   )\n",
    "\n",
    "print(len(categorical_cols))\n",
    "\n",
    "numerical_cols = ['session_pvs_mean', 'session_pvs_median', 'session_top_mean', 'session_top_median', 'bounce_rate', 'content_views_rate']\n",
    "\n",
    "print(len(numerical_cols))"
   ]
  },
  {
   "cell_type": "code",
   "execution_count": 24,
   "id": "d572ab90",
   "metadata": {},
   "outputs": [],
   "source": [
    "import statsmodels.formula.api as smf\n",
    "import statsmodels.api as sm\n",
    "\n",
    "def anova_test(df, columns):\n",
    "\n",
    "    correlated_cols = []\n",
    "    non_correlated_cols = []\n",
    "\n",
    "    for col in columns:\n",
    "        cat, num = \"subscription_status\", col\n",
    "        model = smf.ols(num+' ~ '+cat, data=df).fit()\n",
    "        table = sm.stats.anova_lm(model)\n",
    "        p = table[\"PR(>F)\"][0]\n",
    "        coeff, p = None, round(p, 3)\n",
    "        conclusion = \"Correlated\" if p < 0.05 else \"Non-Correlated\"\n",
    "        if conclusion ==\"Correlated\":\n",
    "            correlated_cols.append(col)\n",
    "        else:\n",
    "            non_correlated_cols.append(col)\n",
    "\n",
    "    # print(\"Anova F: the correlated variables are\", conclusion, \"(p-value: \"+str(p)+\")\")\n",
    "    print(\"Anova F: the correlated variables are:\")\n",
    "    print(correlated_cols)\n",
    "    print()\n",
    "    print(\"Anova F: the non-correlated variables are:\")\n",
    "    print(non_correlated_cols)"
   ]
  },
  {
   "cell_type": "code",
   "execution_count": 25,
   "id": "053e066d",
   "metadata": {},
   "outputs": [
    {
     "name": "stdout",
     "output_type": "stream",
     "text": [
      "Anova F: the correlated variables are:\n",
      "['session_pvs_mean', 'session_pvs_median', 'session_top_mean', 'session_top_median', 'bounce_rate', 'content_views_rate']\n",
      "\n",
      "Anova F: the non-correlated variables are:\n",
      "[]\n"
     ]
    }
   ],
   "source": [
    "anova_test(df, numerical_cols)"
   ]
  },
  {
   "cell_type": "code",
   "execution_count": 26,
   "id": "1f91bb91",
   "metadata": {},
   "outputs": [
    {
     "name": "stdout",
     "output_type": "stream",
     "text": [
      "Anova F: the correlated variables are:\n",
      "['t1_automotive_pvs', 't1_books_and_literature_pvs', 't1_business_and_finance_pvs', 't1_careers_pvs', 't1_content_channel_pvs', 't1_education_pvs', 't1_events_and_attractions_pvs', 't1_family_and_relationships_pvs', 't1_fine_art_pvs', 't1_food_and_drink_pvs', 't1_healthy_living_pvs', 't1_hobbies_and_interests_pvs', 't1_home_and_garden_pvs', 't1_medical_health_pvs', 't1_movies_pvs', 't1_music_and_audio_pvs', 't1_news_and_politics_pvs', 't1_personal_finance_pvs', 't1_pets_pvs', 't1_pop_culture_pvs', 't1_real_estate_pvs', 't1_religion_and_spirituality_pvs', 't1_science_pvs', 't1_shopping_pvs', 't1_sports_pvs', 't1_style_and_fashion_pvs', 't1_technology_and_computing_pvs', 't1_television_pvs', 't1_travel_pvs', 't1_video_gaming_pvs', 't1_automotive_top', 't1_books_and_literature_top', 't1_business_and_finance_top', 't1_careers_top', 't1_content_channel_top', 't1_education_top', 't1_events_and_attractions_top', 't1_family_and_relationships_top', 't1_fine_art_top', 't1_food_and_drink_top', 't1_healthy_living_top', 't1_hobbies_and_interests_top', 't1_home_and_garden_top', 't1_medical_health_top', 't1_movies_top', 't1_music_and_audio_top', 't1_news_and_politics_top', 't1_personal_finance_top', 't1_pets_top', 't1_pop_culture_top', 't1_real_estate_top', 't1_religion_and_spirituality_top', 't1_science_top', 't1_shopping_top', 't1_sports_top', 't1_style_and_fashion_top', 't1_technology_and_computing_top', 't1_television_top', 't1_travel_top', 't1_video_gaming_top', 't2_action_and_adventure_movies_pvs', 't2_adult_contemporary_music_pvs', 't2_adult_education_pvs', 't2_alcoholic_beverages_pvs', 't2_american_football_pvs', 't2_amusement_and_theme_parks_pvs', 't2_animation_movies_pvs', 't2_animation_tv_pvs', 't2_apartments_pvs', 't2_apprenticeships_pvs', 't2_art_and_photography_books_pvs', 't2_artificial_intelligence_pvs', 't2_arts_and_crafts_pvs', 't2_astrology_pvs', 't2_atheism_pvs', 't2_augmented_reality_pvs', 't2_australian_rules_football_pvs', 't2_auto_body_styles_pvs', 't2_auto_buying_and_selling_pvs', 't2_auto_insurance_pvs', 't2_auto_parts_pvs', 't2_auto_racing_pvs', 't2_auto_rentals_pvs', 't2_auto_repair_pvs', 't2_auto_safety_pvs', 't2_auto_shows_pvs', 't2_auto_technology_pvs', 't2_auto_type_pvs', 't2_awards_shows_pvs', 't2_barbecues_and_grilling_pvs', 't2_bars_and_restaurants_pvs', 't2_baseball_pvs', 't2_basketball_pvs', 't2_beach_volleyball_pvs', 't2_beauty_pvs', 't2_beekeeping_pvs', 't2_bereavement_pvs', 't2_biographies_pvs', 't2_biological_sciences_pvs', 't2_birds_pvs', 't2_birdwatching_pvs', 't2_blues_pvs', 't2_body_art_pvs', 't2_bodybuilding_pvs', 't2_boxing_pvs', 't2_buddhism_pvs', 't2_business_pvs', 't2_business_expos_and_conferences_pvs', 't2_business_news_radio_pvs', 't2_car_culture_pvs', 't2_career_advice_pvs', 't2_career_planning_pvs', 't2_casinos_and_gambling_pvs', 't2_cats_pvs', 't2_celebrity_deaths_pvs', 't2_celebrity_families_pvs', 't2_celebrity_homes_pvs', 't2_celebrity_relationships_pvs', 't2_celebrity_scandal_pvs', 't2_celebrity_style_pvs', 't2_chemistry_pvs', 't2_children_clothing_pvs', 't2_children_games_and_toys_pvs', 't2_children_health_pvs', 't2_children_literature_pvs', 't2_children_music_pvs', 't2_children_tv_pvs', 't2_christianity_pvs', 't2_cinemas_and_events_pvs', 't2_classic_hits_pvs', 't2_collecting_pvs', 't2_college_education_pvs', 't2_college_sports_pvs', 't2_comedy_events_pvs', 't2_comedy_movies_pvs', 't2_comedy_tv_pvs', 't2_comics_and_graphic_novels_pvs', 't2_computing_pvs', 't2_concerts_and_music_events_pvs', 't2_console_games_pvs', 't2_consumer_banking_pvs', 't2_consumer_electronics_pvs', 't2_contemporary_hits_pvs', 't2_content_production_pvs', 't2_cookbooks_pvs', 't2_cooking_pvs', 't2_cosmetic_medical_services_pvs', 't2_costume_pvs', 't2_country_music_pvs', 't2_coupons_and_discounts_pvs', 't2_cricket_pvs', 't2_crime_pvs', 't2_crime_and_mystery_movies_pvs', 't2_cycling_pvs', 't2_dance_pvs', 't2_dance_and_electronic_music_pvs', 't2_darts_pvs', 't2_dating_pvs', 't2_design_pvs', 't2_designer_clothing_pvs', 't2_desserts_and_baking_pvs', 't2_developmental_sites_pvs', 't2_digital_arts_pvs', 't2_dining_out_pvs', 't2_disabled_sports_pvs', 't2_disasters_pvs', 't2_diseases_and_conditions_pvs', 't2_diving_pvs', 't2_divorce_pvs', 't2_documentary_movies_pvs', 't2_dogs_pvs', 't2_drama_movies_pvs', 't2_drama_tv_pvs', 't2_early_childhood_education_pvs', 't2_economy_pvs', 't2_educational_assessment_pvs', 't2_eldercare_pvs', 't2_email_pvs', 't2_environment_pvs', 't2_equine_sports_pvs', 't2_extreme_sports_pvs', 't2_factual_tv_pvs', 't2_family_and_children_movies_pvs', 't2_fan_conventions_pvs', 't2_fantasy_movies_pvs', 't2_fantasy_sports_pvs', 't2_fashion_events_pvs', 't2_fashion_trends_pvs', 't2_fiction_pvs', 't2_field_hockey_pvs', 't2_figure_skating_pvs', 't2_financial_assistance_pvs', 't2_financial_planning_pvs', 't2_fine_art_photography_pvs', 't2_fish_and_aquariums_pvs', 't2_fishing_sports_pvs', 't2_fitness_and_exercise_pvs', 't2_flower_shopping_pvs', 't2_food_allergies_pvs', 't2_food_movements_pvs', 't2_frugal_living_pvs', 't2_games_and_puzzles_pvs', 't2_gardening_pvs', 't2_genealogy_and_ancestry_pvs', 't2_genetics_pvs', 't2_geography_pvs', 't2_geology_pvs', 't2_gifts_and_greetings_cards_pvs', 't2_golf_pvs', 't2_gospel_music_pvs', 't2_grocery_shopping_pvs', 't2_gymnastics_pvs', 't2_healthy_cooking_and_eating_pvs', 't2_high_fashion_pvs', 't2_hinduism_pvs', 't2_hip_hop_music_pvs', 't2_historic_site_and_landmark_tours_pvs', 't2_holiday_shopping_pvs', 't2_holiday_tv_pvs', 't2_home_appliances_pvs', 't2_home_entertaining_pvs', 't2_home_improvement_pvs', 't2_home_security_pvs', 't2_home_utilities_pvs', 't2_homeschooling_pvs', 't2_homework_and_study_pvs', 't2_horror_movies_pvs', 't2_hotel_properties_pvs', 't2_household_supplies_pvs', 't2_houses_pvs', 't2_hunting_and_shooting_pvs', 't2_ice_hockey_pvs', 't2_indie_and_arthouse_movies_pvs', 't2_indoor_environmental_quality_pvs', 't2_industrial_property_pvs', 't2_industries_pvs', 't2_inline_skating_pvs', 't2_insurance_pvs', 't2_interior_decorating_pvs', 't2_international_music_pvs', 't2_international_news_pvs', 't2_islam_pvs', 't2_jazz_pvs', 't2_job_search_pvs', 't2_judaism_pvs', 't2_lacrosse_pvs', 't2_land_and_farms_pvs', 't2_landscaping_pvs', 't2_language_learning_pvs', 't2_large_animals_pvs', 't2_law_pvs', 't2_local_news_pvs', 't2_lotteries_and_scratchcards_pvs', 't2_magic_and_illusion_pvs', 't2_malls_and_shopping_centers_pvs', 't2_marriage_and_civil_unions_pvs', 't2_martial_arts_pvs', 't2_medical_tests_pvs', 't2_men_fashion_pvs', 't2_men_health_pvs', 't2_mobile_games_pvs', 't2_model_toys_pvs', 't2_modern_art_pvs', 't2_motorcycles_pvs', 't2_museums_and_galleries_pvs', 't2_music_tv_pvs', 't2_musical_instruments_pvs', 't2_musicals_pvs', 't2_national_and_civic_holidays_pvs', 't2_national_news_pvs', 't2_nightclubs_pvs', 't2_non_alcoholic_beverages_pvs', 't2_nutrition_pvs', 't2_office_property_pvs', 't2_olympic_sports_pvs', 't2_online_education_pvs', 't2_opera_pvs', 't2_outdoor_activities_pvs', 't2_outdoor_decorating_pvs', 't2_pc_games_pvs', 't2_paranormal_phenomena_pvs', 't2_parenting_pvs', 't2_parks_and_nature_pvs', 't2_party_supplies_and_decorations_pvs', 't2_personal_care_pvs', 't2_personal_celebrations_and_life_events_pvs', 't2_personal_debt_pvs', 't2_personal_investing_pvs', 't2_personal_taxes_pvs', 't2_pet_adoptions_pvs', 't2_pet_supplies_pvs', 't2_pharmaceutical_drugs_pvs', 't2_physics_pvs', 't2_poetry_pvs', 't2_poker_and_professional_gambling_pvs', 't2_political_event_pvs', 't2_politics_pvs', 't2_primary_education_pvs', 't2_private_school_pvs', 't2_public_radio_pvs', 't2_radio_control_pvs', 't2_real_estate_buying_and_selling_pvs', 't2_real_estate_renting_and_leasing_pvs', 't2_reality_tv_pvs', 't2_reggae_pvs', 't2_religious_events_pvs', 't2_remodeling_and_construction_pvs', 't2_remote_working_pvs', 't2_reptiles_pvs', 't2_retail_property_pvs', 't2_retirement_planning_pvs', 't2_road_side_assistance_pvs', 't2_robotics_pvs', 't2_rock_music_pvs', 't2_rodeo_pvs', 't2_romance_movies_pvs', 't2_rowing_pvs', 't2_rugby_pvs', 't2_sailing_pvs', 't2_sales_and_promotions_pvs', 't2_sci_fi_and_fantasy_pvs', 't2_science_fiction_movies_pvs', 't2_science_fiction_tv_pvs', 't2_scooters_pvs', 't2_secondary_education_pvs', 't2_senior_health_pvs', 't2_single_life_pvs', 't2_skiing_pvs', 't2_smart_home_pvs', 't2_soap_opera_tv_pvs', 't2_soccer_pvs', 't2_songwriters_pvs', 't2_space_and_astronomy_pvs', 't2_special_education_pvs', 't2_special_interest_tv_pvs', 't2_spirituality_pvs', 't2_sporting_events_pvs', 't2_sports_equipment_pvs', 't2_sports_radio_pvs', 't2_sports_tv_pvs', 't2_street_style_pvs', 't2_surgery_pvs', 't2_swimming_pvs', 't2_table_tennis_pvs', 't2_talk_radio_pvs', 't2_tennis_pvs', 't2_theater_pvs', 't2_theater_venues_and_events_pvs', 't2_track_and_field_pvs', 't2_travel_accessories_pvs', 't2_travel_books_pvs', 't2_travel_locations_pvs', 't2_travel_preparation_and_advice_pvs', 't2_travel_type_pvs', 't2_urban_contemporary_music_pvs', 't2_vacation_properties_pvs', 't2_vaccines_pvs', 't2_variety_music_and_audio_pvs', 't2_vegan_diets_pvs', 't2_vegetarian_diets_pvs', 't2_veterinary_medicine_pvs', 't2_video_game_genres_pvs', 't2_virtual_reality_pvs', 't2_vocational_training_pvs', 't2_volleyball_pvs', 't2_walking_pvs', 't2_weather_pvs', 't2_weight_loss_pvs', 't2_wellness_pvs', 't2_women_fashion_pvs', 't2_women_health_pvs', 't2_workshops_and_classes_pvs', 't2_world_cuisines_pvs', 't2_world_movies_pvs', 't2_wrestling_pvs', 't2_young_adult_literature_pvs', 't2_zoos_and_aquariums_pvs', 't2_esports_pvs', 'pc_advisor_pvs', 'pc_asia_pvs', 'pc_billionaires_pvs', 'pc_business_pvs', 'pc_consumer_pvs', 'pc_entrepreneurs_pvs', 'pc_forbes_finds_pvs', 'pc_home_pvs', 'pc_industry_pvs', 'pc_innovation_pvs', 'pc_investing_pvs', 'pc_leadership_pvs', 'pc_lifestyle_pvs', 'pc_lists_pvs', 'pc_money_pvs', 'pc_newsletters_pvs', 'pc_opinion_pvs', 'pc_real_estate_pvs', 'pc_shopping_pvs', 'pc_small_business_pvs', 'pc_tech_pvs', 'pc_under_30_pvs', 'pc_video_pvs', 'ps_aerospace_and_defense_pvs', 'ps_ai_pvs', 'ps_arts_pvs', 'ps_banking_and_insurance_pvs', 'ps_careers_pvs', 'ps_cars_and_bikes_pvs', 'ps_cfo_network_pvs', 'ps_cio_network_pvs', 'ps_cloud_pvs', 'ps_cmo_network_pvs', 'ps_confirmation_pvs', 'ps_consumer_tech_pvs', 'ps_crypto_and_blockchain_pvs', 'ps_cybersecurity_pvs', 'ps_dining_pvs', 'ps_diversity_and_inclusion_pvs', 'ps_education_pvs', 'ps_energy_pvs', 'ps_enterprise_and_cloud_pvs', 'ps_enterprise_tech_pvs', 'ps_entrepreneurs_pvs', 'ps_fintech_pvs', 'ps_food_and_drink_pvs', 'ps_forbeslife_pvs', 'ps_forbeswomen_pvs', 'ps_games_pvs', 'ps_healthcare_pvs', 'ps_hedge_funds_and_private_equity_pvs', 'ps_hollywood_and_entertainment_pvs', 'ps_investing_pvs', 'ps_leadership_strategy_pvs', 'ps_manufacturing_pvs', 'ps_markets_pvs', 'ps_media_pvs', 'ps_money_and_politics_pvs', 'ps_personal_finance_pvs', 'ps_policy_pvs', 'ps_real_estate_pvs', 'ps_retail_pvs', 'ps_retirement_pvs', 'ps_science_pvs', 'ps_small_business_strategy_pvs', 'ps_spirits_pvs', 'ps_sportsmoney_pvs', 'ps_taxes_pvs', 'ps_transportation_pvs', 'ps_travel_pvs', 'ps_venture_capital_pvs', 'ps_vices_pvs', 'ps_wealth_management_pvs', 'dos_android', 'dos_ios', 'dos_macintosh', 'dos_windows', 'rf_content_aggregators', 'rf_direct', 'rf_fbia', 'rf_newsletter', 'rf_organic_search', 'rf_organic_social_dark', 'rf_organic_social_forbes', 'rf_paid_display', 'rf_paid_search', 'rf_paid_social_dark', 'rf_paid_web', 'rf_referral', 'ct_australia', 'ct_canada', 'ct_germany', 'ct_india', 'ct_japan', 'ct_philippines', 'ct_russia', 'ct_singapore', 'ct_united_kingdom', 'ct_united_states', 'weekend_pvs', 'weekday_pvs', 'weekend_top', 'weekday_top', 'business_hours_pvs', 'non_business_hours_pvs', 'business_hours_top', 'non_business_hours_top', 'day_of_mon_1_top', 'day_of_mon_2_top', 'day_of_mon_3_top', 'day_of_mon_4_top', 'day_of_mon_5_top', 'day_of_mon_6_top', 'day_of_mon_7_top', 'day_of_mon_8_top', 'day_of_mon_9_top', 'day_of_mon_10_top', 'day_of_mon_11_top', 'day_of_mon_12_top', 'day_of_mon_13_top', 'day_of_mon_14_top', 'day_of_mon_15_top', 'day_of_mon_16_top', 'day_of_mon_17_top', 'day_of_mon_18_top', 'day_of_mon_19_top', 'day_of_mon_20_top', 'day_of_mon_21_top', 'day_of_mon_22_top', 'day_of_mon_23_top', 'day_of_mon_24_top', 'day_of_mon_25_top', 'day_of_mon_26_top', 'day_of_mon_27_top', 'day_of_mon_28_top', 'day_of_mon_29_top', 'day_of_mon_30_top', 'day_of_mon_31_top', 'hour_0_top', 'hour_1_top', 'hour_2_top', 'hour_3_top', 'hour_4_top', 'hour_5_top', 'hour_6_top', 'hour_7_top', 'hour_8_top', 'hour_9_top', 'hour_10_top', 'hour_11_top', 'hour_12_top', 'hour_13_top', 'hour_14_top', 'hour_15_top', 'hour_16_top', 'hour_17_top', 'hour_18_top', 'hour_19_top', 'hour_20_top', 'hour_21_top', 'hour_22_top', 'hour_23_top', 'minute_0_top', 'minute_1_top', 'minute_2_top', 'minute_3_top', 'minute_4_top', 'minute_5_top', 'minute_6_top', 'minute_7_top', 'minute_8_top', 'minute_9_top', 'minute_10_top', 'minute_11_top', 'minute_12_top', 'minute_13_top', 'minute_14_top', 'minute_15_top', 'minute_16_top', 'minute_17_top', 'minute_18_top', 'minute_19_top', 'minute_20_top', 'minute_21_top', 'minute_22_top', 'minute_23_top', 'minute_24_top', 'minute_25_top', 'minute_26_top', 'minute_27_top', 'minute_28_top', 'minute_29_top', 'minute_30_top', 'minute_31_top', 'minute_32_top', 'minute_33_top', 'minute_34_top', 'minute_35_top', 'minute_36_top', 'minute_37_top', 'minute_38_top', 'minute_39_top', 'minute_40_top', 'minute_41_top', 'minute_42_top', 'minute_43_top', 'minute_44_top', 'minute_45_top', 'minute_46_top', 'minute_47_top', 'minute_48_top', 'minute_49_top', 'minute_50_top', 'minute_51_top', 'minute_52_top', 'minute_53_top', 'minute_54_top', 'minute_55_top', 'minute_56_top', 'minute_57_top', 'minute_58_top', 'minute_59_top', 'friday_top', 'monday_top', 'saturday_top', 'sunday_top', 'thursday_top', 'tuesday_top', 'wednesday_top']\n",
      "\n",
      "Anova F: the non-correlated variables are:\n",
      "['t2_alternative_music_pvs', 't2_bowling_pvs', 't2_celebrity_pregnancy_pvs', 't2_classical_music_pvs', 'rf_paid_social_forbes']\n"
     ]
    }
   ],
   "source": [
    "anova_test(df, categorical_cols) # 2mins"
   ]
  },
  {
   "cell_type": "code",
   "execution_count": null,
   "id": "877e68fb",
   "metadata": {},
   "outputs": [],
   "source": []
  },
  {
   "cell_type": "code",
   "execution_count": null,
   "id": "a84f4f59",
   "metadata": {},
   "outputs": [],
   "source": []
  },
  {
   "cell_type": "code",
   "execution_count": null,
   "id": "ac75b30a",
   "metadata": {},
   "outputs": [],
   "source": []
  }
 ],
 "metadata": {
  "environment": {
   "name": "tf2-gpu.2-6.m79",
   "type": "gcloud",
   "uri": "gcr.io/deeplearning-platform-release/tf2-gpu.2-6:m79"
  },
  "kernelspec": {
   "display_name": "subscribers",
   "language": "python",
   "name": "subscribers"
  },
  "language_info": {
   "codemirror_mode": {
    "name": "ipython",
    "version": 3
   },
   "file_extension": ".py",
   "mimetype": "text/x-python",
   "name": "python",
   "nbconvert_exporter": "python",
   "pygments_lexer": "ipython3",
   "version": "3.7.10"
  }
 },
 "nbformat": 4,
 "nbformat_minor": 5
}
