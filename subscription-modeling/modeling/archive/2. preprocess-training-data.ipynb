{
 "cells": [
  {
   "cell_type": "markdown",
   "id": "ce049073",
   "metadata": {},
   "source": [
    "## Description:\n",
    "\n",
    "This file contains:\n",
    "* data pre-processing (i.e. fill na, scaling, normalizing feature values)\n",
    "* feature selection (selecting non-correlated features then applying formal feature-selection methods)\n",
    "* LGBM (feature selected, imbalanced data)\n",
    "* XGB (feature selected, imbalanced data)\n",
    "* Balancing dataset via combined sampling"
   ]
  },
  {
   "cell_type": "code",
   "execution_count": 1,
   "id": "f72f92d1",
   "metadata": {},
   "outputs": [],
   "source": [
    "'''Helper''' \n",
    "import pandas as pd\n",
    "pd.set_option('display.float_format', lambda x: '%.1f' % x)\n",
    "import numpy as np\n",
    "import joblib\n",
    "\n",
    "'''Feature Selection'''\n",
    "from sklearn.ensemble import RandomForestClassifier\n",
    "from sklearn.feature_selection import (SelectFromModel, \n",
    "                                       SelectKBest)\n",
    "from BorutaShap import BorutaShap\n",
    "import lightgbm as lgb\n",
    "\n",
    "'''Pre-processing'''\n",
    "from sklearn.pipeline import Pipeline\n",
    "from sklearn.preprocessing import StandardScaler\n",
    "from imblearn.over_sampling import (RandomOverSampler, \n",
    "                                    SVMSMOTE)\n",
    "\n",
    "from sklearn.metrics import (classification_report, \n",
    "                             plot_confusion_matrix, \n",
    "                             fbeta_score, \n",
    "                             precision_score, \n",
    "                             recall_score)\n",
    "\n",
    "from sklearn.model_selection import (train_test_split,\n",
    "                                     cross_val_score, \n",
    "                                     StratifiedKFold)\n",
    "\n",
    "\n",
    "'''GCS Utils'''\n",
    "from gcs_utils import *\n",
    "\n",
    "import warnings\n",
    "warnings.filterwarnings('ignore')\n",
    "\n",
    "SEED=42"
   ]
  },
  {
   "cell_type": "code",
   "execution_count": 2,
   "id": "af16c6b7",
   "metadata": {},
   "outputs": [],
   "source": [
    "BUCKET_NAME = 'bi-subscription-modeling'\n",
    "BUCKET_FOLDER = 'train-val-data'\n",
    "\n",
    "file_name = 'train_set_11222021.csv'\n",
    "\n",
    "download_file(BUCKET_NAME, \n",
    "              BUCKET_FOLDER, \n",
    "              file_name) \n",
    "\n",
    "\n",
    "file_name = 'val_set_11222021.csv'\n",
    "\n",
    "download_file(BUCKET_NAME, \n",
    "              BUCKET_FOLDER, \n",
    "              file_name) \n",
    "\n",
    "\n",
    "file_name = 'test_set_11222021.csv'\n",
    "\n",
    "download_file(BUCKET_NAME, \n",
    "              BUCKET_FOLDER, \n",
    "              file_name)  "
   ]
  },
  {
   "cell_type": "code",
   "execution_count": 2,
   "id": "2f64ab6e",
   "metadata": {},
   "outputs": [
    {
     "name": "stdout",
     "output_type": "stream",
     "text": [
      "(355555, 619)\n",
      "0    286992\n",
      "1     68563\n",
      "Name: subscription_status, dtype: int64\n",
      "(76191, 619)\n",
      "(76191, 619)\n"
     ]
    }
   ],
   "source": [
    "# read training, val, test sets\n",
    "\n",
    "train_df = pd.read_csv(\"train_set_11222021.csv\")\n",
    "\n",
    "print(train_df.shape)\n",
    "print(train_df.subscription_status.value_counts())\n",
    "\n",
    "val_df = pd.read_csv(\"val_set_11222021.csv\")\n",
    "print(val_df.shape)\n",
    "\n",
    "test_df = pd.read_csv(\"test_set_11222021.csv\")\n",
    "print(test_df.shape)"
   ]
  },
  {
   "cell_type": "code",
   "execution_count": 3,
   "id": "d03d8eaa",
   "metadata": {},
   "outputs": [
    {
     "data": {
      "text/plain": [
       "False"
      ]
     },
     "execution_count": 3,
     "metadata": {},
     "output_type": "execute_result"
    }
   ],
   "source": [
    "val_df.equals(test_df)"
   ]
  },
  {
   "cell_type": "code",
   "execution_count": 4,
   "id": "ef818e4b",
   "metadata": {},
   "outputs": [
    {
     "data": {
      "text/html": [
       "<div>\n",
       "<style scoped>\n",
       "    .dataframe tbody tr th:only-of-type {\n",
       "        vertical-align: middle;\n",
       "    }\n",
       "\n",
       "    .dataframe tbody tr th {\n",
       "        vertical-align: top;\n",
       "    }\n",
       "\n",
       "    .dataframe thead th {\n",
       "        text-align: right;\n",
       "    }\n",
       "</style>\n",
       "<table border=\"1\" class=\"dataframe\">\n",
       "  <thead>\n",
       "    <tr style=\"text-align: right;\">\n",
       "      <th></th>\n",
       "      <th>session_pvs_mean</th>\n",
       "      <th>session_pvs_median</th>\n",
       "      <th>session_top_mean</th>\n",
       "      <th>session_top_median</th>\n",
       "      <th>bounce_rate</th>\n",
       "      <th>content_views_rate</th>\n",
       "      <th>rf_content_aggregators</th>\n",
       "      <th>rf_direct</th>\n",
       "      <th>rf_fbia</th>\n",
       "      <th>rf_newsletter</th>\n",
       "      <th>...</th>\n",
       "      <th>minute_51_top</th>\n",
       "      <th>minute_52_top</th>\n",
       "      <th>minute_53_top</th>\n",
       "      <th>minute_54_top</th>\n",
       "      <th>minute_55_top</th>\n",
       "      <th>minute_56_top</th>\n",
       "      <th>minute_57_top</th>\n",
       "      <th>minute_58_top</th>\n",
       "      <th>minute_59_top</th>\n",
       "      <th>subscription_status</th>\n",
       "    </tr>\n",
       "  </thead>\n",
       "  <tbody>\n",
       "    <tr>\n",
       "      <th>355550</th>\n",
       "      <td>1.0</td>\n",
       "      <td>1.0</td>\n",
       "      <td>72.0</td>\n",
       "      <td>72.0</td>\n",
       "      <td>1.0</td>\n",
       "      <td>1.0</td>\n",
       "      <td>0.0</td>\n",
       "      <td>0.0</td>\n",
       "      <td>0.0</td>\n",
       "      <td>0.0</td>\n",
       "      <td>...</td>\n",
       "      <td>0.0</td>\n",
       "      <td>0.0</td>\n",
       "      <td>0.0</td>\n",
       "      <td>0.0</td>\n",
       "      <td>0.0</td>\n",
       "      <td>0.0</td>\n",
       "      <td>0.0</td>\n",
       "      <td>0.0</td>\n",
       "      <td>0.0</td>\n",
       "      <td>0</td>\n",
       "    </tr>\n",
       "    <tr>\n",
       "      <th>355551</th>\n",
       "      <td>1.0</td>\n",
       "      <td>1.0</td>\n",
       "      <td>97.0</td>\n",
       "      <td>97.0</td>\n",
       "      <td>1.0</td>\n",
       "      <td>1.0</td>\n",
       "      <td>0.0</td>\n",
       "      <td>0.0</td>\n",
       "      <td>0.0</td>\n",
       "      <td>0.0</td>\n",
       "      <td>...</td>\n",
       "      <td>0.0</td>\n",
       "      <td>0.0</td>\n",
       "      <td>0.0</td>\n",
       "      <td>0.0</td>\n",
       "      <td>0.0</td>\n",
       "      <td>0.0</td>\n",
       "      <td>0.0</td>\n",
       "      <td>0.0</td>\n",
       "      <td>0.0</td>\n",
       "      <td>0</td>\n",
       "    </tr>\n",
       "    <tr>\n",
       "      <th>355552</th>\n",
       "      <td>1.0</td>\n",
       "      <td>1.0</td>\n",
       "      <td>95.0</td>\n",
       "      <td>95.0</td>\n",
       "      <td>1.0</td>\n",
       "      <td>1.0</td>\n",
       "      <td>0.0</td>\n",
       "      <td>0.0</td>\n",
       "      <td>0.0</td>\n",
       "      <td>0.0</td>\n",
       "      <td>...</td>\n",
       "      <td>0.0</td>\n",
       "      <td>0.0</td>\n",
       "      <td>0.0</td>\n",
       "      <td>0.0</td>\n",
       "      <td>0.0</td>\n",
       "      <td>0.0</td>\n",
       "      <td>0.0</td>\n",
       "      <td>0.0</td>\n",
       "      <td>0.0</td>\n",
       "      <td>0</td>\n",
       "    </tr>\n",
       "    <tr>\n",
       "      <th>355553</th>\n",
       "      <td>2.4</td>\n",
       "      <td>2.0</td>\n",
       "      <td>147.8</td>\n",
       "      <td>51.3</td>\n",
       "      <td>0.2</td>\n",
       "      <td>0.9</td>\n",
       "      <td>0.0</td>\n",
       "      <td>10.0</td>\n",
       "      <td>0.0</td>\n",
       "      <td>0.0</td>\n",
       "      <td>...</td>\n",
       "      <td>0.0</td>\n",
       "      <td>0.0</td>\n",
       "      <td>0.0</td>\n",
       "      <td>0.0</td>\n",
       "      <td>11.5</td>\n",
       "      <td>0.0</td>\n",
       "      <td>0.0</td>\n",
       "      <td>131.5</td>\n",
       "      <td>0.0</td>\n",
       "      <td>1</td>\n",
       "    </tr>\n",
       "    <tr>\n",
       "      <th>355554</th>\n",
       "      <td>1.0</td>\n",
       "      <td>1.0</td>\n",
       "      <td>0.0</td>\n",
       "      <td>0.0</td>\n",
       "      <td>1.0</td>\n",
       "      <td>1.0</td>\n",
       "      <td>1.0</td>\n",
       "      <td>0.0</td>\n",
       "      <td>0.0</td>\n",
       "      <td>0.0</td>\n",
       "      <td>...</td>\n",
       "      <td>0.0</td>\n",
       "      <td>0.0</td>\n",
       "      <td>0.0</td>\n",
       "      <td>0.0</td>\n",
       "      <td>0.0</td>\n",
       "      <td>0.0</td>\n",
       "      <td>0.0</td>\n",
       "      <td>0.0</td>\n",
       "      <td>0.0</td>\n",
       "      <td>0</td>\n",
       "    </tr>\n",
       "  </tbody>\n",
       "</table>\n",
       "<p>5 rows × 619 columns</p>\n",
       "</div>"
      ],
      "text/plain": [
       "        session_pvs_mean  session_pvs_median  session_top_mean  \\\n",
       "355550               1.0                 1.0              72.0   \n",
       "355551               1.0                 1.0              97.0   \n",
       "355552               1.0                 1.0              95.0   \n",
       "355553               2.4                 2.0             147.8   \n",
       "355554               1.0                 1.0               0.0   \n",
       "\n",
       "        session_top_median  bounce_rate  content_views_rate  \\\n",
       "355550                72.0          1.0                 1.0   \n",
       "355551                97.0          1.0                 1.0   \n",
       "355552                95.0          1.0                 1.0   \n",
       "355553                51.3          0.2                 0.9   \n",
       "355554                 0.0          1.0                 1.0   \n",
       "\n",
       "        rf_content_aggregators  rf_direct  rf_fbia  rf_newsletter  ...  \\\n",
       "355550                     0.0        0.0      0.0            0.0  ...   \n",
       "355551                     0.0        0.0      0.0            0.0  ...   \n",
       "355552                     0.0        0.0      0.0            0.0  ...   \n",
       "355553                     0.0       10.0      0.0            0.0  ...   \n",
       "355554                     1.0        0.0      0.0            0.0  ...   \n",
       "\n",
       "        minute_51_top  minute_52_top  minute_53_top  minute_54_top  \\\n",
       "355550            0.0            0.0            0.0            0.0   \n",
       "355551            0.0            0.0            0.0            0.0   \n",
       "355552            0.0            0.0            0.0            0.0   \n",
       "355553            0.0            0.0            0.0            0.0   \n",
       "355554            0.0            0.0            0.0            0.0   \n",
       "\n",
       "        minute_55_top  minute_56_top  minute_57_top  minute_58_top  \\\n",
       "355550            0.0            0.0            0.0            0.0   \n",
       "355551            0.0            0.0            0.0            0.0   \n",
       "355552            0.0            0.0            0.0            0.0   \n",
       "355553           11.5            0.0            0.0          131.5   \n",
       "355554            0.0            0.0            0.0            0.0   \n",
       "\n",
       "        minute_59_top  subscription_status  \n",
       "355550            0.0                    0  \n",
       "355551            0.0                    0  \n",
       "355552            0.0                    0  \n",
       "355553            0.0                    1  \n",
       "355554            0.0                    0  \n",
       "\n",
       "[5 rows x 619 columns]"
      ]
     },
     "execution_count": 4,
     "metadata": {},
     "output_type": "execute_result"
    }
   ],
   "source": [
    "train_df.tail()"
   ]
  },
  {
   "cell_type": "markdown",
   "id": "9ccee089",
   "metadata": {},
   "source": [
    "**Treatment 1** - Drop correlated features"
   ]
  },
  {
   "cell_type": "code",
   "execution_count": 6,
   "id": "dd15b28b",
   "metadata": {},
   "outputs": [
    {
     "name": "stdout",
     "output_type": "stream",
     "text": [
      "['session_pvs_median', 'session_top_median', 't2_auto_type_pvs', 't2_college_education_pvs', 't2_computing_pvs', 't2_diseases_and_conditions_pvs', 't2_email_pvs', 't2_law_pvs', 't2_politics_pvs', 't2_real_estate_buying_and_selling_pvs', 't2_travel_type_pvs', 't2_video_game_genres_pvs', 'pc_money_pvs', 'ps_crypto_and_blockchain_pvs', 'ps_games_pvs', 'ps_travel_pvs', 'weekday_pvs', 'business_hours_pvs']\n"
     ]
    }
   ],
   "source": [
    "# Create correlation matrix of the entire dataframe\n",
    "corr_matrix = train_df.corr().abs()\n",
    "\n",
    "# Select upper triangle of correlation matrix\n",
    "\n",
    "upper = corr_matrix.where(np.triu(np.ones(corr_matrix.shape), k=1).astype(np.bool))\n",
    "\n",
    "# Find features with correlation greater than 0.9\n",
    "to_drop = [column for column in upper.columns if any(upper[column] > 0.9)]\n",
    "\n",
    "print(len(to_drop)) # 4 mins\n",
    "\n",
    "print(to_drop)"
   ]
  },
  {
   "cell_type": "code",
   "execution_count": 5,
   "id": "848cb38f",
   "metadata": {},
   "outputs": [],
   "source": [
    "to_drop = ['session_pvs_median', 'session_top_median', 't2_auto_type_pvs', 't2_college_education_pvs', 't2_computing_pvs', \n",
    "           't2_diseases_and_conditions_pvs', 't2_email_pvs', 't2_law_pvs', 't2_politics_pvs', 't2_real_estate_buying_and_selling_pvs', \n",
    "           't2_travel_type_pvs', 't2_video_game_genres_pvs', 'pc_money_pvs', 'ps_crypto_and_blockchain_pvs', 'ps_games_pvs', \n",
    "           'ps_travel_pvs', 'weekday_pvs', 'business_hours_pvs']"
   ]
  },
  {
   "cell_type": "code",
   "execution_count": 6,
   "id": "b9a07e0d",
   "metadata": {},
   "outputs": [
    {
     "name": "stdout",
     "output_type": "stream",
     "text": [
      "Whole df shape:  (355555, 601)\n"
     ]
    }
   ],
   "source": [
    "train_df.drop(to_drop, axis=1, inplace=True)\n",
    "\n",
    "print(\"Whole df shape: \", train_df.shape)"
   ]
  },
  {
   "cell_type": "markdown",
   "id": "731bb0c8",
   "metadata": {},
   "source": [
    "**Treatment 2** - Feature Select\n",
    "\n",
    "* Why feature select first?\n",
    "    * Feature selection using Tree-based models doesnt need scaled/normalized feature values. So, it can be performed before scaling/normalizing values.\n",
    "    * Improves processing time in production a lot if feature scaling/normalizing needs to be performed only on feature selected columns"
   ]
  },
  {
   "cell_type": "code",
   "execution_count": 7,
   "id": "c9a8da23",
   "metadata": {},
   "outputs": [],
   "source": [
    "# train\n",
    "X_train = train_df.iloc[:, :-1]\n",
    "y_train = train_df[\"subscription_status\"]"
   ]
  },
  {
   "cell_type": "code",
   "execution_count": 17,
   "id": "9798ed36",
   "metadata": {},
   "outputs": [
    {
     "data": {
      "application/vnd.jupyter.widget-view+json": {
       "model_id": "8de655cf009d4cea9622b5f797aaf478",
       "version_major": 2,
       "version_minor": 0
      },
      "text/plain": [
       "  0%|          | 0/50 [00:00<?, ?it/s]"
      ]
     },
     "metadata": {},
     "output_type": "display_data"
    },
    {
     "name": "stdout",
     "output_type": "stream",
     "text": [
      "47 attributes confirmed important: ['pc_home_pvs', 'sunday_top', 't2_business_pvs', 'rf_organic_social_forbes', 'ps_consumer_tech_pvs', 't1_business_and_finance_top', 'business_hours_top', 'non_business_hours_top', 'pc_billionaires_pvs', 'ps_cybersecurity_pvs', 'rf_content_aggregators', 'ps_policy_pvs', 'ps_investing_pvs', 'rf_direct', 'ps_healthcare_pvs', 'rf_organic_social_dark', 'pc_lifestyle_pvs', 'weekend_pvs', 'pc_innovation_pvs', 'rf_organic_search', 'ct_united_states', 't2_industries_pvs', 'tuesday_top', 'session_pvs_mean', 'rf_newsletter', 'content_views_rate', 'ct_india', 'pc_leadership_pvs', 'dos_ios', 'pc_business_pvs', 'session_top_mean', 't2_pc_games_pvs', 'bounce_rate', 'ps_personal_finance_pvs', 'pc_asia_pvs', 't1_news_and_politics_pvs', 'hour_7_top', 'rf_referral', 'ps_taxes_pvs', 'weekend_top', 'non_business_hours_pvs', 't1_business_and_finance_pvs', 't2_dining_out_pvs', 'weekday_top', 'dos_macintosh', 'dos_android', 'dos_windows']\n",
      "546 attributes confirmed unimportant: ['t2_local_news_pvs', 't2_apprenticeships_pvs', 't2_concerts_and_music_events_pvs', 't2_radio_control_pvs', 'day_of_mon_25_top', 't2_motorcycles_pvs', 't2_vegetarian_diets_pvs', 'minute_40_top', 't2_international_news_pvs', 'ps_aerospace_and_defense_pvs', 't2_rugby_pvs', 't2_children_games_and_toys_pvs', 't2_children_health_pvs', 'minute_15_top', 'ct_philippines', 't2_modern_art_pvs', 'pc_newsletters_pvs', 'hour_14_top', 't2_genealogy_and_ancestry_pvs', 't2_land_and_farms_pvs', 'day_of_mon_2_top', 'hour_21_top', 't2_sales_and_promotions_pvs', 'pc_consumer_pvs', 't2_american_football_pvs', 't2_children_music_pvs', 't2_senior_health_pvs', 't2_personal_care_pvs', 't2_baseball_pvs', 't2_digital_arts_pvs', 't2_olympic_sports_pvs', 't2_personal_celebrations_and_life_events_pvs', 't2_atheism_pvs', 'minute_17_top', 't2_special_education_pvs', 't2_fishing_sports_pvs', 't1_home_and_garden_top', 't2_australian_rules_football_pvs', 't2_road_side_assistance_pvs', 't2_bereavement_pvs', 't1_medical_health_pvs', 'ps_retirement_pvs', 't2_blues_pvs', 't1_food_and_drink_pvs', 't2_remodeling_and_construction_pvs', 't2_single_life_pvs', 'hour_12_top', 't1_science_top', 'day_of_mon_20_top', 'hour_10_top', 'hour_9_top', 'minute_5_top', 'ps_energy_pvs', 'minute_43_top', 't2_children_clothing_pvs', 'minute_48_top', 'day_of_mon_23_top', 't2_content_production_pvs', 't1_pets_top', 't2_fantasy_sports_pvs', 't2_marriage_and_civil_unions_pvs', 'hour_6_top', 'day_of_mon_13_top', 't2_primary_education_pvs', 't2_adult_contemporary_music_pvs', 'pc_real_estate_pvs', 'day_of_mon_3_top', 't1_education_pvs', 't2_extreme_sports_pvs', 'day_of_mon_11_top', 't2_celebrity_deaths_pvs', 't2_food_movements_pvs', 'hour_5_top', 't2_weight_loss_pvs', 't2_apartments_pvs', 't2_genetics_pvs', 't2_pet_supplies_pvs', 't1_sports_pvs', 'minute_22_top', 't2_non_alcoholic_beverages_pvs', 'pc_entrepreneurs_pvs', 't2_scooters_pvs', 't2_songwriters_pvs', 't2_food_allergies_pvs', 't2_large_animals_pvs', 'ct_singapore', 'minute_32_top', 'hour_11_top', 't2_animation_tv_pvs', 't2_cookbooks_pvs', 'minute_4_top', 't2_celebrity_relationships_pvs', 't2_cricket_pvs', 't1_movies_top', 't2_gifts_and_greetings_cards_pvs', 't2_insurance_pvs', 't1_family_and_relationships_top', 'day_of_mon_17_top', 't2_amusement_and_theme_parks_pvs', 't2_travel_locations_pvs', 't2_holiday_shopping_pvs', 't2_retirement_planning_pvs', 't2_cooking_pvs', 't2_biographies_pvs', 't2_paranormal_phenomena_pvs', 't1_events_and_attractions_pvs', 't2_personal_debt_pvs', 't2_beach_volleyball_pvs', 'ps_food_and_drink_pvs', 'ps_science_pvs', 't2_auto_buying_and_selling_pvs', 'hour_0_top', 't2_national_and_civic_holidays_pvs', 't2_parks_and_nature_pvs', 't2_personal_taxes_pvs', 't2_eldercare_pvs', 't2_auto_shows_pvs', 't2_designer_clothing_pvs', 't2_horror_movies_pvs', 'hour_13_top', 'hour_22_top', 't2_spirituality_pvs', 'minute_3_top', 't2_office_property_pvs', 't2_dance_and_electronic_music_pvs', 't2_science_fiction_tv_pvs', 't2_divorce_pvs', 'ps_ai_pvs', 't2_dating_pvs', 't2_college_sports_pvs', 't2_judaism_pvs', 'ct_canada', 't2_interior_decorating_pvs', 'minute_58_top', 'rf_paid_social_forbes', 't2_children_literature_pvs', 't2_esports_pvs', 't2_business_news_radio_pvs', 't2_outdoor_decorating_pvs', 'rf_paid_social_dark', 'minute_52_top', 't2_swimming_pvs', 't2_surgery_pvs', 'day_of_mon_15_top', 'minute_35_top', 't2_virtual_reality_pvs', 'minute_31_top', 't2_holiday_tv_pvs', 'day_of_mon_22_top', 't2_gardening_pvs', 'minute_21_top', 't2_vacation_properties_pvs', 't1_fine_art_pvs', 'pc_lists_pvs', 'day_of_mon_27_top', 't2_vocational_training_pvs', 't2_bars_and_restaurants_pvs', 't1_shopping_pvs', 't1_events_and_attractions_top', 't2_barbecues_and_grilling_pvs', 't2_home_utilities_pvs', 'ps_banking_and_insurance_pvs', 't2_wellness_pvs', 't2_museums_and_galleries_pvs', 't2_special_interest_tv_pvs', 't2_walking_pvs', 'hour_8_top', 't2_contemporary_hits_pvs', 't2_drama_tv_pvs', 't2_poker_and_professional_gambling_pvs', 't2_hinduism_pvs', 't2_women_health_pvs', 't2_international_music_pvs', 't1_style_and_fashion_top', 't2_art_and_photography_books_pvs', 't2_golf_pvs', 't2_reptiles_pvs', 't2_developmental_sites_pvs', 'ps_hollywood_and_entertainment_pvs', 'ct_russia', 't1_pets_pvs', 'ps_arts_pvs', 't1_movies_pvs', 't2_celebrity_homes_pvs', 't2_ice_hockey_pvs', 'thursday_top', 'minute_25_top', 't2_workshops_and_classes_pvs', 't2_travel_books_pvs', 't2_fitness_and_exercise_pvs', 't2_financial_assistance_pvs', 'ps_money_and_politics_pvs', 't2_economy_pvs', 't2_mobile_games_pvs', 't2_sailing_pvs', 't1_hobbies_and_interests_pvs', 't2_dance_pvs', 't2_high_fashion_pvs', 't2_remote_working_pvs', 't2_auto_technology_pvs', 't2_music_tv_pvs', 't2_grocery_shopping_pvs', 't2_space_and_astronomy_pvs', 't2_women_fashion_pvs', 't1_medical_health_top', 't1_content_channel_pvs', 't2_wrestling_pvs', 'minute_53_top', 'minute_36_top', 't2_soccer_pvs', 't2_travel_accessories_pvs', 't2_cinemas_and_events_pvs', 't2_awards_shows_pvs', 't2_documentary_movies_pvs', 't1_automotive_pvs', 't2_malls_and_shopping_centers_pvs', 't2_geography_pvs', 't2_zoos_and_aquariums_pvs', 'ps_hedge_funds_and_private_equity_pvs', 't2_retail_property_pvs', 'minute_57_top', 't2_dogs_pvs', 't2_homework_and_study_pvs', 't2_track_and_field_pvs', 't2_factual_tv_pvs', 'day_of_mon_30_top', 't1_education_top', 't2_alternative_music_pvs', 't2_home_improvement_pvs', 'minute_30_top', 't2_islam_pvs', 'minute_38_top', 't2_consumer_banking_pvs', 't2_veterinary_medicine_pvs', 't2_celebrity_pregnancy_pvs', 'ct_united_kingdom', 't1_home_and_garden_pvs', 'day_of_mon_18_top', 'minute_29_top', 't2_smart_home_pvs', 't2_beekeeping_pvs', 'rf_paid_search', 't2_sports_tv_pvs', 'hour_19_top', 'pc_video_pvs', 't2_classical_music_pvs', 't2_reggae_pvs', 't2_magic_and_illusion_pvs', 'minute_7_top', 't2_national_news_pvs', 'minute_39_top', 'saturday_top', 'ps_dining_pvs', 'day_of_mon_19_top', 't2_fashion_trends_pvs', 't2_business_expos_and_conferences_pvs', 't2_fish_and_aquariums_pvs', 't2_rodeo_pvs', 't2_rowing_pvs', 'ct_australia', 't2_birdwatching_pvs', 't2_chemistry_pvs', 't2_secondary_education_pvs', 't2_religious_events_pvs', 't1_music_and_audio_top', 'ps_spirits_pvs', 'minute_11_top', 't2_parenting_pvs', 't2_household_supplies_pvs', 'minute_1_top', 't1_religion_and_spirituality_pvs', 't2_auto_racing_pvs', 'pc_industry_pvs', 't2_inline_skating_pvs', 't2_online_education_pvs', 'minute_49_top', 'minute_51_top', 'day_of_mon_7_top', 'pc_under_30_pvs', 'minute_18_top', 't2_costume_pvs', 'minute_12_top', 't2_equine_sports_pvs', 'ps_diversity_and_inclusion_pvs', 'day_of_mon_8_top', 't1_music_and_audio_pvs', 't2_console_games_pvs', 't2_frugal_living_pvs', 'day_of_mon_5_top', 't1_pop_culture_pvs', 'rf_paid_display', 'minute_16_top', 't1_careers_pvs', 't2_hunting_and_shooting_pvs', 'ps_manufacturing_pvs', 'minute_23_top', 'ct_japan', 't2_career_advice_pvs', 't2_educational_assessment_pvs', 'ps_real_estate_pvs', 'ps_confirmation_pvs', 't2_celebrity_families_pvs', 't2_beauty_pvs', 't2_sports_radio_pvs', 't2_private_school_pvs', 't2_historic_site_and_landmark_tours_pvs', 't1_pop_culture_top', 'pc_forbes_finds_pvs', 't2_alcoholic_beverages_pvs', 't2_street_style_pvs', 'minute_8_top', 't2_career_planning_pvs', 'ps_markets_pvs', 't1_television_top', 't2_tennis_pvs', 'ps_venture_capital_pvs', 'ps_education_pvs', 't2_outdoor_activities_pvs', 't2_vegan_diets_pvs', 't2_world_cuisines_pvs', 'day_of_mon_10_top', 'pc_small_business_pvs', 't2_buddhism_pvs', 't2_hotel_properties_pvs', 't1_careers_top', 't2_auto_safety_pvs', 't2_animation_movies_pvs', 't2_men_fashion_pvs', 'ps_forbeswomen_pvs', 't1_real_estate_top', 'ps_small_business_strategy_pvs', 't2_financial_planning_pvs', 't2_bodybuilding_pvs', 't2_astrology_pvs', 't1_books_and_literature_top', 't2_home_entertaining_pvs', 't2_desserts_and_baking_pvs', 't2_pharmaceutical_drugs_pvs', 't2_auto_rentals_pvs', 'minute_44_top', 't2_healthy_cooking_and_eating_pvs', 't2_language_learning_pvs', 'ct_germany', 't2_soap_opera_tv_pvs', 'rf_fbia', 't2_flower_shopping_pvs', 't2_casinos_and_gambling_pvs', 'minute_59_top', 'rf_paid_web', 't2_fantasy_movies_pvs', 'hour_17_top', 't1_technology_and_computing_pvs', 'minute_46_top', 'minute_54_top', 't2_job_search_pvs', 't2_lacrosse_pvs', 't2_disasters_pvs', 't1_healthy_living_top', 't1_healthy_living_pvs', 't2_robotics_pvs', 'pc_advisor_pvs', 't2_hip_hop_music_pvs', 'day_of_mon_6_top', 'day_of_mon_12_top', 't2_auto_insurance_pvs', 't2_coupons_and_discounts_pvs', 't2_martial_arts_pvs', 'minute_28_top', 'ps_enterprise_and_cloud_pvs', 'day_of_mon_1_top', 'minute_47_top', 't1_personal_finance_top', 't2_cycling_pvs', 't2_basketball_pvs', 't2_nutrition_pvs', 'ps_sportsmoney_pvs', 't2_volleyball_pvs', 't2_sci_fi_and_fantasy_pvs', 't2_fine_art_photography_pvs', 'day_of_mon_29_top', 't2_arts_and_crafts_pvs', 'minute_2_top', 't2_celebrity_style_pvs', 't2_travel_preparation_and_advice_pvs', 't2_young_adult_literature_pvs', 'minute_19_top', 't2_auto_parts_pvs', 'ps_vices_pvs', 't1_technology_and_computing_top', 't1_books_and_literature_pvs', 't2_early_childhood_education_pvs', 't2_indie_and_arthouse_movies_pvs', 't2_men_health_pvs', 't1_news_and_politics_top', 'minute_45_top', 'minute_27_top', 't1_shopping_top', 't2_medical_tests_pvs', 'hour_18_top', 't2_family_and_children_movies_pvs', 'minute_24_top', 'minute_50_top', 'ps_entrepreneurs_pvs', 't2_fiction_pvs', 'ps_media_pvs', 't2_comics_and_graphic_novels_pvs', 't2_landscaping_pvs', 'ps_cio_network_pvs', 't2_comedy_events_pvs', 't2_talk_radio_pvs', 'ps_cmo_network_pvs', 't2_games_and_puzzles_pvs', 'minute_20_top', 'hour_1_top', 'ps_careers_pvs', 't2_pet_adoptions_pvs', 't2_action_and_adventure_movies_pvs', 't2_drama_movies_pvs', 't2_crime_and_mystery_movies_pvs', 't2_gospel_music_pvs', 'minute_26_top', 'minute_6_top', 't2_world_movies_pvs', 'hour_4_top', 't2_bowling_pvs', 't2_geology_pvs', 't1_video_gaming_pvs', 'ps_cloud_pvs', 't1_travel_pvs', 't2_party_supplies_and_decorations_pvs', 'pc_investing_pvs', 't2_theater_pvs', 't1_travel_top', 't1_video_gaming_top', 't2_nightclubs_pvs', 'hour_20_top', 't2_table_tennis_pvs', 't2_home_appliances_pvs', 't2_comedy_movies_pvs', 't2_country_music_pvs', 't2_weather_pvs', 'ps_wealth_management_pvs', 'day_of_mon_28_top', 't2_gymnastics_pvs', 't2_celebrity_scandal_pvs', 'minute_42_top', 't2_personal_investing_pvs', 'minute_33_top', 't1_automotive_top', 't2_christianity_pvs', 't2_cats_pvs', 't2_fan_conventions_pvs', 'ps_cfo_network_pvs', 't2_homeschooling_pvs', 't2_skiing_pvs', 'minute_10_top', 'day_of_mon_21_top', 'day_of_mon_14_top', 't2_cosmetic_medical_services_pvs', 't1_food_and_drink_top', 't1_hobbies_and_interests_top', 't2_design_pvs', 't2_fashion_events_pvs', 't2_opera_pvs', 't2_adult_education_pvs', 't2_crime_pvs', 't1_content_channel_top', 't1_religion_and_spirituality_top', 't2_musical_instruments_pvs', 'minute_55_top', 'minute_56_top', 't2_houses_pvs', 't2_comedy_tv_pvs', 't2_birds_pvs', 't2_children_tv_pvs', 'minute_9_top', 'friday_top', 't1_style_and_fashion_pvs', 't2_artificial_intelligence_pvs', 't1_television_pvs', 't2_model_toys_pvs', 't2_field_hockey_pvs', 't2_rock_music_pvs', 't1_real_estate_pvs', 't2_disabled_sports_pvs', 't2_theater_venues_and_events_pvs', 'day_of_mon_16_top', 'minute_37_top', 'ps_transportation_pvs', 't2_sporting_events_pvs', 'hour_3_top', 't2_biological_sciences_pvs', 't2_indoor_environmental_quality_pvs', 't2_reality_tv_pvs', 't2_romance_movies_pvs', 't2_augmented_reality_pvs', 't1_family_and_relationships_pvs', 't2_real_estate_renting_and_leasing_pvs', 'minute_34_top', 'hour_2_top', 'day_of_mon_4_top', 't2_auto_body_styles_pvs', 't2_musicals_pvs', 't1_science_pvs', 't2_home_security_pvs', 't2_collecting_pvs', 'ps_forbeslife_pvs', 't2_darts_pvs', 'minute_0_top', 'ps_cars_and_bikes_pvs', 't2_boxing_pvs', 't2_physics_pvs', 't2_auto_repair_pvs', 't2_science_fiction_movies_pvs', 't1_sports_top', 'minute_14_top', 't1_fine_art_top', 't2_lotteries_and_scratchcards_pvs', 'minute_41_top', 't2_variety_music_and_audio_pvs', 'hour_15_top', 't2_industrial_property_pvs', 'ps_retail_pvs', 't2_political_event_pvs', 't2_body_art_pvs', 't2_urban_contemporary_music_pvs', 't2_diving_pvs', 'ps_enterprise_tech_pvs', 'hour_16_top', 't2_jazz_pvs', 'pc_shopping_pvs', 'minute_13_top', 'day_of_mon_24_top', 't2_classic_hits_pvs', 't2_sports_equipment_pvs', 't2_public_radio_pvs', 't2_car_culture_pvs', 'pc_opinion_pvs', 't2_poetry_pvs', 't2_figure_skating_pvs', 'ps_fintech_pvs', 'pc_tech_pvs', 'day_of_mon_26_top', 'day_of_mon_31_top', 't2_environment_pvs', 'day_of_mon_9_top']\n",
      "7 tentative attributes remains: ['ps_leadership_strategy_pvs', 'hour_23_top', 't2_consumer_electronics_pvs', 't1_personal_finance_pvs', 't2_vaccines_pvs', 'monday_top', 'wednesday_top']\n"
     ]
    }
   ],
   "source": [
    "model = lgb.LGBMRegressor(random_state=SEED)\n",
    "\n",
    "Feature_Selector = BorutaShap(\n",
    "    model=model, \n",
    "    importance_measure='shap', \n",
    "    classification=False  \n",
    ")\n",
    "\n",
    "# If no important features are selected, increase the number of trials\n",
    "    \n",
    "Feature_Selector.fit(\n",
    "    X = X_train,\n",
    "    y = y_train,\n",
    "    n_trials = 50,\n",
    "    sample = False,\n",
    "    # sample_fraction = 0.7, # Sample fraction of original data (row wise) used in calculating feature importance values - gave ERROR \"got unexpected sample_fraction arg\"\n",
    "    train_or_test='test',\n",
    "    normalize=True,\n",
    "    verbose=True\n",
    ") \n",
    "\n",
    "# 50 trials = 18mins\n",
    "# 100 trials = 39mins. All 47 same plus two (['hour_23_top', 'monday_top'])"
   ]
  },
  {
   "cell_type": "code",
   "execution_count": 19,
   "id": "fa87621b",
   "metadata": {},
   "outputs": [
    {
     "name": "stdout",
     "output_type": "stream",
     "text": [
      "['bounce_rate', 'business_hours_top', 'content_views_rate', 'ct_india', 'ct_united_states', 'dos_android', 'dos_ios', 'dos_macintosh', 'dos_windows', 'hour_7_top', 'non_business_hours_pvs', 'non_business_hours_top', 'pc_asia_pvs', 'pc_billionaires_pvs', 'pc_business_pvs', 'pc_home_pvs', 'pc_innovation_pvs', 'pc_leadership_pvs', 'pc_lifestyle_pvs', 'ps_consumer_tech_pvs', 'ps_cybersecurity_pvs', 'ps_healthcare_pvs', 'ps_investing_pvs', 'ps_personal_finance_pvs', 'ps_policy_pvs', 'ps_taxes_pvs', 'rf_content_aggregators', 'rf_direct', 'rf_newsletter', 'rf_organic_search', 'rf_organic_social_dark', 'rf_organic_social_forbes', 'rf_referral', 'session_pvs_mean', 'session_top_mean', 'sunday_top', 't1_business_and_finance_pvs', 't1_business_and_finance_top', 't1_news_and_politics_pvs', 't2_business_pvs', 't2_dining_out_pvs', 't2_industries_pvs', 't2_pc_games_pvs', 'tuesday_top', 'weekday_top', 'weekend_pvs', 'weekend_top']\n"
     ]
    }
   ],
   "source": [
    "# Return a list with the selected features\n",
    "\n",
    "boruta_shap_feats = Feature_Selector.accepted\n",
    "\n",
    "print(sorted(boruta_shap_feats))"
   ]
  },
  {
   "cell_type": "code",
   "execution_count": 22,
   "id": "120e9ca1",
   "metadata": {},
   "outputs": [
    {
     "name": "stdout",
     "output_type": "stream",
     "text": [
      "RF + SelectFromModel features 57\n"
     ]
    }
   ],
   "source": [
    "# ------ RF + SelectFromModel based feature selection -------\n",
    "\n",
    "sel = SelectFromModel(\n",
    "    RandomForestClassifier(n_estimators = 500))\n",
    "\n",
    "sel.fit(X_train, \n",
    "        y_train)\n",
    "\n",
    "rf_feat= X_train.columns[(sel.get_support())]\n",
    "\n",
    "print(\"RF + SelectFromModel features\", len(rf_feat))  # 16mins"
   ]
  },
  {
   "cell_type": "code",
   "execution_count": 23,
   "id": "cd5e2717",
   "metadata": {},
   "outputs": [
    {
     "data": {
      "text/plain": [
       "Index(['session_pvs_mean', 'session_top_mean', 'bounce_rate',\n",
       "       'content_views_rate', 'rf_content_aggregators', 'rf_direct',\n",
       "       'rf_newsletter', 'rf_organic_search', 'rf_organic_social_dark',\n",
       "       'rf_organic_social_forbes', 'rf_referral', 'ct_united_states',\n",
       "       'dos_android', 'dos_ios', 'dos_macintosh', 'dos_windows',\n",
       "       't1_business_and_finance_pvs', 't1_news_and_politics_pvs',\n",
       "       't1_personal_finance_pvs', 't2_business_pvs', 't2_industries_pvs',\n",
       "       'pc_billionaires_pvs', 'pc_business_pvs', 'pc_home_pvs',\n",
       "       'pc_innovation_pvs', 'pc_leadership_pvs', 'pc_lifestyle_pvs',\n",
       "       'pc_small_business_pvs', 'ps_careers_pvs', 'ps_cmo_network_pvs',\n",
       "       'ps_forbeswomen_pvs', 'ps_leadership_strategy_pvs',\n",
       "       't1_business_and_finance_top', 't1_news_and_politics_top',\n",
       "       'weekend_pvs', 'weekend_top', 'weekday_top', 'non_business_hours_pvs',\n",
       "       'business_hours_top', 'non_business_hours_top', 'friday_top',\n",
       "       'monday_top', 'sunday_top', 'thursday_top', 'tuesday_top',\n",
       "       'wednesday_top', 'day_of_mon_8_top', 'day_of_mon_14_top', 'hour_9_top',\n",
       "       'hour_10_top', 'hour_11_top', 'hour_12_top', 'hour_13_top',\n",
       "       'hour_14_top', 'hour_15_top', 'hour_16_top', 'hour_17_top'],\n",
       "      dtype='object')"
      ]
     },
     "execution_count": 23,
     "metadata": {},
     "output_type": "execute_result"
    }
   ],
   "source": [
    "rf_feat"
   ]
  },
  {
   "cell_type": "code",
   "execution_count": 21,
   "id": "1bbda7b3",
   "metadata": {},
   "outputs": [
    {
     "data": {
      "text/plain": [
       "47"
      ]
     },
     "execution_count": 21,
     "metadata": {},
     "output_type": "execute_result"
    }
   ],
   "source": [
    "boruta_shap_feats = ['bounce_rate', 'business_hours_top', 'content_views_rate', 'ct_india', 'ct_united_states', 'dos_android', 'dos_ios', 'dos_macintosh', 'dos_windows', 'hour_7_top', \n",
    "                     'non_business_hours_pvs', 'non_business_hours_top', 'pc_asia_pvs', 'pc_billionaires_pvs', 'pc_business_pvs', 'pc_home_pvs', 'pc_innovation_pvs', 'pc_leadership_pvs', \n",
    "                     'pc_lifestyle_pvs', 'ps_consumer_tech_pvs', 'ps_cybersecurity_pvs', 'ps_healthcare_pvs', 'ps_investing_pvs', 'ps_personal_finance_pvs', 'ps_policy_pvs', 'ps_taxes_pvs', \n",
    "                     'rf_content_aggregators', 'rf_direct', 'rf_newsletter', 'rf_organic_search', 'rf_organic_social_dark', 'rf_organic_social_forbes', 'rf_referral', 'session_pvs_mean', \n",
    "                     'session_top_mean', 'sunday_top', 't1_business_and_finance_pvs', 't1_business_and_finance_top', 't1_news_and_politics_pvs', 't2_business_pvs', 't2_dining_out_pvs', \n",
    "                     't2_industries_pvs', 't2_pc_games_pvs', 'tuesday_top', 'weekday_top', 'weekend_pvs', 'weekend_top']\n",
    "\n",
    "len(boruta_shap_feats)"
   ]
  },
  {
   "cell_type": "code",
   "execution_count": 9,
   "id": "5fa4ec5a",
   "metadata": {},
   "outputs": [
    {
     "data": {
      "text/plain": [
       "57"
      ]
     },
     "execution_count": 9,
     "metadata": {},
     "output_type": "execute_result"
    }
   ],
   "source": [
    "rf_feat = ['session_pvs_mean', 'session_top_mean', 'bounce_rate',\n",
    "           'content_views_rate', 'rf_content_aggregators', 'rf_direct',\n",
    "           'rf_newsletter', 'rf_organic_search', 'rf_organic_social_dark',\n",
    "           'rf_organic_social_forbes', 'rf_referral', 'ct_united_states',\n",
    "           'dos_android', 'dos_ios', 'dos_macintosh', 'dos_windows',\n",
    "           't1_business_and_finance_pvs', 't1_news_and_politics_pvs',\n",
    "           't1_personal_finance_pvs', 't2_business_pvs', 't2_industries_pvs',\n",
    "           'pc_billionaires_pvs', 'pc_business_pvs', 'pc_home_pvs',\n",
    "           'pc_innovation_pvs', 'pc_leadership_pvs', 'pc_lifestyle_pvs',\n",
    "           'pc_small_business_pvs', 'ps_careers_pvs', 'ps_cmo_network_pvs',\n",
    "           'ps_forbeswomen_pvs', 'ps_leadership_strategy_pvs',\n",
    "           't1_business_and_finance_top', 't1_news_and_politics_top',\n",
    "           'weekend_pvs', 'weekend_top', 'weekday_top', 'non_business_hours_pvs',\n",
    "           'business_hours_top', 'non_business_hours_top', 'friday_top',\n",
    "           'monday_top', 'sunday_top', 'thursday_top', 'tuesday_top',\n",
    "           'wednesday_top', 'day_of_mon_8_top', 'day_of_mon_14_top', 'hour_9_top',\n",
    "           'hour_10_top', 'hour_11_top', 'hour_12_top', 'hour_13_top',\n",
    "           'hour_14_top', 'hour_15_top', 'hour_16_top', 'hour_17_top']\n",
    "\n",
    "len(rf_feat)"
   ]
  },
  {
   "cell_type": "code",
   "execution_count": null,
   "id": "5cff23f0",
   "metadata": {},
   "outputs": [],
   "source": [
    "# WIN - all major categoricals observed during EDA are included as selected features - \n",
    "\n",
    "feat_selected = sorted(set(boruta_shap_feats + rf_feat))"
   ]
  },
  {
   "cell_type": "code",
   "execution_count": 8,
   "id": "96ff0fa3",
   "metadata": {},
   "outputs": [
    {
     "name": "stdout",
     "output_type": "stream",
     "text": [
      "51 \n",
      "\n"
     ]
    }
   ],
   "source": [
    "# final selection after eye-balling\n",
    "feat_selected = ['bounce_rate', 'business_hours_top', 'content_views_rate', 'ct_india', 'ct_united_states', 'dos_android', 'dos_ios', 'dos_macintosh', 'dos_windows', \n",
    "                 'non_business_hours_pvs', 'non_business_hours_top', 'pc_asia_pvs', 'pc_billionaires_pvs', 'pc_business_pvs', 'pc_home_pvs', 'pc_innovation_pvs', 'pc_leadership_pvs', \n",
    "                 'pc_lifestyle_pvs', 'pc_small_business_pvs', 'ps_careers_pvs', 'ps_cmo_network_pvs', 'ps_consumer_tech_pvs', 'ps_cybersecurity_pvs', 'ps_forbeswomen_pvs', \n",
    "                 'ps_healthcare_pvs', 'ps_investing_pvs', 'ps_leadership_strategy_pvs', 'ps_personal_finance_pvs', 'ps_policy_pvs', 'ps_taxes_pvs', 'session_pvs_mean', 'session_top_mean',\n",
    "                 'rf_content_aggregators', 'rf_direct', 'rf_newsletter', 'rf_organic_search', 'rf_organic_social_dark', 'rf_organic_social_forbes', 'rf_referral',  \n",
    "                 't1_business_and_finance_pvs', 't1_business_and_finance_top', 't1_news_and_politics_pvs', 't1_news_and_politics_top', 't1_personal_finance_pvs', 't2_business_pvs',\n",
    "                 't2_dining_out_pvs', 't2_industries_pvs', 't2_pc_games_pvs', 'weekday_top', 'weekend_pvs', 'weekend_top']\n",
    "\n",
    "print(len(feat_selected), \"\\n\")"
   ]
  },
  {
   "cell_type": "code",
   "execution_count": 9,
   "id": "559e7b9c",
   "metadata": {},
   "outputs": [
    {
     "name": "stdout",
     "output_type": "stream",
     "text": [
      "before FS:  (355555, 600)\n",
      "\n",
      "After FS: (355555, 51)\n"
     ]
    }
   ],
   "source": [
    "print(\"before FS: \", X_train.shape)\n",
    "\n",
    "# update train sets with fs cols\n",
    "X_train = X_train[feat_selected] \n",
    "\n",
    "print()\n",
    "print(\"After FS:\", X_train.shape)"
   ]
  },
  {
   "cell_type": "markdown",
   "id": "d00cb7c3",
   "metadata": {},
   "source": [
    "**Treatment 3** - Normalize rows for categorical cols\n",
    "\n",
    "* Normalize categorical columns\n",
    "    * For training pipeline, features such as tier 1 sum(pvs) were calculated using users' 10 months of data. In prediction pipeline, sum(pvs) may be summed over 90 days only. This creates difference in distribution in feature tier1 (sum pvs). \n",
    "        * To counter - normalize so everything is on same scale. I.e. for a person 20 pvs in busi 50 in games will be normalized to 0.29 in busi and 0.71 in busi<br><br>\n",
    "        \n",
    "    * Since we feature selected already, we won't need to not waste time in normalize all 600+ features but only the selected ones\n",
    "  \n",
    " **Note:** - After this treatment columns will be treated as numerical columns - since they were normalized and converted to numbers    "
   ]
  },
  {
   "cell_type": "code",
   "execution_count": 10,
   "id": "e6e1c65c",
   "metadata": {},
   "outputs": [
    {
     "name": "stdout",
     "output_type": "stream",
     "text": [
      "47\n",
      "6\n"
     ]
    }
   ],
   "source": [
    "# define col names\n",
    "\n",
    "t1_pv_cols =        [col for col in X_train.columns if ('t1_' in col) & ('_pvs' in col)]\n",
    "t1_top_cols =       [col for col in X_train.columns if ('t1_' in col) & ('_top' in col)]\n",
    "t2_pv_cols =        [col for col in X_train.columns if 't2_' in col]\n",
    "pc_cols =           [col for col in X_train.columns if 'pc_' in col]\n",
    "ps_cols =           [col for col in X_train.columns if 'ps_' in col]\n",
    "deviceos_cols =     [col for col in X_train.columns if 'dos_' in col]\n",
    "referral_cols =     [col for col in X_train.columns if 'rf_' in col]\n",
    "country_cols =      [col for col in X_train.columns if 'ct_' in col]\n",
    "\n",
    "wk_pv_cols =        [col for col in X_train.columns if ('week' in col) & ('_pvs' in col)]\n",
    "wk_top_cols =       [col for col in X_train.columns if ('week' in col) & ('_top' in col)]\n",
    "busi_pv_cols =      [col for col in X_train.columns if ('business_hours' in col) & ('_pvs' in col)]\n",
    "busi_top_cols =     [col for col in X_train.columns if ('business_hours' in col) & ('_top' in col)]\n",
    "dom_cols =          [col for col in X_train.columns if 'day_of_mon_' in col] \n",
    "hour_cols =         [col for col in X_train.columns if 'hour_' in col] \n",
    "minute_cols =       [col for col in X_train.columns if 'minute_' in col]\n",
    "\n",
    "\n",
    "# remove mis-assigned ones\n",
    "pc_cols.remove('t2_pc_games_pvs')\n",
    "\n",
    "categorical_cols = (t1_pv_cols +  t1_top_cols + t2_pv_cols + pc_cols + ps_cols + deviceos_cols + referral_cols + country_cols +\n",
    "                    wk_pv_cols + wk_top_cols + busi_pv_cols + busi_top_cols + dom_cols + hour_cols + minute_cols \n",
    "                   )\n",
    "\n",
    "print(len(categorical_cols))\n",
    "\n",
    "numerical_cols = ['session_pvs_mean', 'session_pvs_median', 'session_top_mean', 'session_top_median', 'bounce_rate', 'content_views_rate']\n",
    "\n",
    "print(len(numerical_cols))"
   ]
  },
  {
   "cell_type": "code",
   "execution_count": 11,
   "id": "40b31d92",
   "metadata": {},
   "outputs": [],
   "source": [
    "from sklearn.preprocessing import normalize\n",
    "\n",
    "# calc % of pvs in respective category instead of using actual sum(pvs) magnitude\n",
    "\n",
    "def train_normalize_pvs(col_list):\n",
    "    X_train[col_list] = normalize(X_train[col_list], norm='l1', axis=1)\n",
    "    \n",
    "train_normalize_pvs(t1_pv_cols)\n",
    "train_normalize_pvs(t2_pv_cols)\n",
    "train_normalize_pvs(pc_cols)\n",
    "train_normalize_pvs(ps_cols)\n",
    "train_normalize_pvs(deviceos_cols)\n",
    "train_normalize_pvs(referral_cols)\n",
    "train_normalize_pvs(country_cols)\n",
    "train_normalize_pvs(wk_pv_cols)\n",
    "train_normalize_pvs(busi_pv_cols)"
   ]
  },
  {
   "cell_type": "markdown",
   "id": "edb602ac",
   "metadata": {},
   "source": [
    "**Treatment 4** - Scale features"
   ]
  },
  {
   "cell_type": "code",
   "execution_count": 12,
   "id": "f122161f",
   "metadata": {},
   "outputs": [],
   "source": [
    "col_list = X_train.columns"
   ]
  },
  {
   "cell_type": "code",
   "execution_count": 13,
   "id": "ee44ed98",
   "metadata": {},
   "outputs": [],
   "source": [
    "# FEATURE SCALING\n",
    "\n",
    "scaler = StandardScaler()\n",
    "\n",
    "# fit_transform on training set\n",
    "X_train = pd.DataFrame(scaler.fit_transform(X_train), columns = col_list)"
   ]
  },
  {
   "cell_type": "markdown",
   "id": "20aa97d9",
   "metadata": {},
   "source": [
    "### Apply treatments/transformations on val and test sets"
   ]
  },
  {
   "cell_type": "code",
   "execution_count": 14,
   "id": "6f09213f",
   "metadata": {},
   "outputs": [],
   "source": [
    "# val\n",
    "X_val = val_df.iloc[:, :-1]\n",
    "y_val = val_df[\"subscription_status\"]\n",
    "\n",
    "# test\n",
    "X_test = test_df.iloc[:, :-1]\n",
    "y_test = test_df[\"subscription_status\"]"
   ]
  },
  {
   "cell_type": "code",
   "execution_count": 15,
   "id": "a7504fac",
   "metadata": {},
   "outputs": [
    {
     "name": "stdout",
     "output_type": "stream",
     "text": [
      "before FS:  (76191, 618)\n",
      "\n",
      "After FS: (76191, 51)\n"
     ]
    }
   ],
   "source": [
    "# val set\n",
    "\n",
    "print(\"before FS: \", X_val.shape)\n",
    "\n",
    "# ---FEATURE SELECT---\n",
    "X_val = X_val[feat_selected]\n",
    "\n",
    "print()\n",
    "print(\"After FS:\", X_val.shape)\n",
    "\n",
    "# ---NORMALIZE---\n",
    "def val_normalize_pvs(col_list):\n",
    "    X_val[col_list] = normalize(X_val[col_list], norm='l1', axis=1)\n",
    "\n",
    "val_normalize_pvs(t1_pv_cols)\n",
    "val_normalize_pvs(t2_pv_cols)\n",
    "val_normalize_pvs(pc_cols)\n",
    "val_normalize_pvs(ps_cols)\n",
    "# val_normalize_pvs(deviceos_cols)\n",
    "val_normalize_pvs(referral_cols)\n",
    "val_normalize_pvs(country_cols)\n",
    "val_normalize_pvs(wk_pv_cols)\n",
    "val_normalize_pvs(busi_pv_cols)\n",
    "\n",
    "# ---SCALE---\n",
    "X_val = pd.DataFrame(scaler.transform(X_val), columns = col_list)"
   ]
  },
  {
   "cell_type": "code",
   "execution_count": 16,
   "id": "4c066ece",
   "metadata": {},
   "outputs": [
    {
     "name": "stdout",
     "output_type": "stream",
     "text": [
      "before FS:  (76191, 618)\n",
      "\n",
      "After FS: (76191, 51)\n"
     ]
    }
   ],
   "source": [
    "# test set\n",
    "\n",
    "print(\"before FS: \", X_test.shape)\n",
    "\n",
    "# ---FEATURE SELECT---\n",
    "X_test = X_test[feat_selected]\n",
    "\n",
    "print()\n",
    "print(\"After FS:\", X_test.shape)\n",
    "\n",
    "# ---NORMALIZE---\n",
    "def test_normalize_pvs(col_list):\n",
    "    X_test[col_list] = normalize(X_test[col_list], norm='l1', axis=1)\n",
    "\n",
    "test_normalize_pvs(t1_pv_cols)\n",
    "test_normalize_pvs(t2_pv_cols)\n",
    "test_normalize_pvs(pc_cols)\n",
    "test_normalize_pvs(ps_cols)\n",
    "test_normalize_pvs(deviceos_cols)\n",
    "test_normalize_pvs(referral_cols)\n",
    "test_normalize_pvs(country_cols)\n",
    "test_normalize_pvs(wk_pv_cols)\n",
    "test_normalize_pvs(busi_pv_cols)\n",
    "\n",
    "# ---SCALE---\n",
    "X_test = pd.DataFrame(scaler.transform(X_test), columns = col_list)"
   ]
  },
  {
   "cell_type": "code",
   "execution_count": null,
   "id": "412aab39",
   "metadata": {},
   "outputs": [],
   "source": [
    "# joblib.dump(scaler, \"scaler.joblib\")\n",
    "\n",
    "# joblib.dump(col_list, \"cols_to_scale.joblib\")"
   ]
  },
  {
   "cell_type": "markdown",
   "id": "27dc2312",
   "metadata": {},
   "source": [
    "### Model benchmarking\n",
    "\n",
    "* **LGBM**\n",
    "    * Scaled, Normalized feature values\n",
    "    * Feature selected\n",
    "    * Imbalanced dataset"
   ]
  },
  {
   "cell_type": "code",
   "execution_count": 17,
   "id": "f027db6f",
   "metadata": {},
   "outputs": [
    {
     "name": "stdout",
     "output_type": "stream",
     "text": [
      "[0.99038243 0.99031727 0.98931667 0.98970851 0.98988063]\n",
      "LGBM base score is 0.9899211007304867\n"
     ]
    }
   ],
   "source": [
    "scoring='f1_weighted'\n",
    "stkf = StratifiedKFold(5)\n",
    "\n",
    "model = lgb.LGBMClassifier(random_state=SEED, \n",
    "                           is_unbalance=True) # is_unbalance because train data is imbalanced\n",
    "\n",
    "model = Pipeline(\n",
    "    steps=[\n",
    "        ('model', model)\n",
    "    ]\n",
    ")\n",
    "\n",
    "lgbm_base_score = cross_val_score(\n",
    "    model,\n",
    "    X_train,\n",
    "    y_train,\n",
    "    cv=stkf,\n",
    "    n_jobs=-1,\n",
    "    scoring=scoring\n",
    ")\n",
    "\n",
    "print(lgbm_base_score)\n",
    "print(\"LGBM base score is\", np.mean(lgbm_base_score))"
   ]
  },
  {
   "cell_type": "markdown",
   "id": "3db78517",
   "metadata": {},
   "source": [
    "* Suggests since non-subs are mostly 1-pv and lower time on pg - there may be good separation in decision boundries"
   ]
  },
  {
   "cell_type": "code",
   "execution_count": 18,
   "id": "03a4e4dc",
   "metadata": {},
   "outputs": [
    {
     "name": "stdout",
     "output_type": "stream",
     "text": [
      "                precision    recall  f1-score   support\n",
      "\n",
      "Non-subscriber       1.00      0.99      0.99     61499\n",
      "    subscriber       0.96      0.99      0.97     14692\n",
      "\n",
      "      accuracy                           0.99     76191\n",
      "     macro avg       0.98      0.99      0.98     76191\n",
      "  weighted avg       0.99      0.99      0.99     76191\n",
      "\n"
     ]
    },
    {
     "data": {
      "text/plain": [
       "<sklearn.metrics._plot.confusion_matrix.ConfusionMatrixDisplay at 0x7f3937898d50>"
      ]
     },
     "execution_count": 18,
     "metadata": {},
     "output_type": "execute_result"
    },
    {
     "data": {
      "image/png": "[encoded data removed]",
      "text/plain": [
       "<Figure size 432x288 with 2 Axes>"
      ]
     },
     "metadata": {
      "needs_background": "light"
     },
     "output_type": "display_data"
    }
   ],
   "source": [
    "model.fit(X_train, y_train)\n",
    "\n",
    "y_pred = model.predict(X_val)\n",
    "\n",
    "print(classification_report(y_val, \n",
    "                            y_pred, \n",
    "                            target_names = ['Non-subscriber', 'subscriber']))\n",
    "\n",
    "plot_confusion_matrix(estimator=model, \n",
    "                      X=X_val, \n",
    "                      y_true=y_val, \n",
    "                      cmap='Blues'\n",
    "                     )"
   ]
  },
  {
   "cell_type": "markdown",
   "id": "544e9d4e",
   "metadata": {},
   "source": [
    "* **Precision** - imp if we dont want a lot of false positives\n",
    "* **Recall** - imp if we dont want to miss out on subscribers\n",
    "    * We'll give a bit more importance to recall"
   ]
  },
  {
   "cell_type": "code",
   "execution_count": 19,
   "id": "3941eb76",
   "metadata": {},
   "outputs": [
    {
     "name": "stdout",
     "output_type": "stream",
     "text": [
      "Result: precision=0.964, recall=0.985, f2-beta=0.981\n"
     ]
    }
   ],
   "source": [
    "# calculate the f2-measure\n",
    "\n",
    "p = precision_score(y_val, \n",
    "                    y_pred)\n",
    "\n",
    "r = recall_score(y_val, \n",
    "                 y_pred)\n",
    "\n",
    "f = fbeta_score(y_val, \n",
    "                y_pred, \n",
    "                beta=2.0) # beta = 2 lowers the importance of precision and increase the importance of recall.\n",
    "\n",
    "print('Result: precision=%.3f, recall=%.3f, f2-beta=%.3f' % (p, r, f))"
   ]
  },
  {
   "cell_type": "code",
   "execution_count": 20,
   "id": "af9e436e",
   "metadata": {},
   "outputs": [
    {
     "name": "stdout",
     "output_type": "stream",
     "text": [
      "[20:31:06] WARNING: ../src/learner.cc:1115: Starting in XGBoost 1.3.0, the default evaluation metric used with the objective 'binary:logistic' was changed from 'error' to 'logloss'. Explicitly set eval_metric if you'd like to restore the old behavior.\n",
      "XGBClassifier(base_score=0.5, booster='gbtree', colsample_bylevel=1,\n",
      "              colsample_bynode=1, colsample_bytree=1, enable_categorical=False,\n",
      "              gamma=0, gpu_id=-1, importance_type=None,\n",
      "              interaction_constraints='', learning_rate=0.300000012,\n",
      "              max_delta_step=1, max_depth=6, min_child_weight=1, missing=nan,\n",
      "              monotone_constraints='()', n_estimators=100, n_jobs=60,\n",
      "              num_parallel_tree=1, predictor='auto', random_state=42,\n",
      "              reg_alpha=0, reg_lambda=1, scale_pos_weight=2, subsample=1,\n",
      "              tree_method='exact', validate_parameters=1, verbosity=None)\n",
      "                precision    recall  f1-score   support\n",
      "\n",
      "non_subscriber       1.00      1.00      1.00     61499\n",
      "    subscriber       0.98      0.98      0.98     14692\n",
      "\n",
      "      accuracy                           0.99     76191\n",
      "     macro avg       0.99      0.99      0.99     76191\n",
      "  weighted avg       0.99      0.99      0.99     76191\n",
      "\n"
     ]
    },
    {
     "data": {
      "text/plain": [
       "<AxesSubplot:>"
      ]
     },
     "execution_count": 20,
     "metadata": {},
     "output_type": "execute_result"
    },
    {
     "data": {
      "image/png": "[encoded data removed]",
      "text/plain": [
       "<Figure size 432x288 with 2 Axes>"
      ]
     },
     "metadata": {},
     "output_type": "display_data"
    }
   ],
   "source": [
    "from xgboost import XGBClassifier\n",
    "from sklearn.metrics import classification_report, confusion_matrix\n",
    "\n",
    "import seaborn as sns\n",
    "sns.set_style('darkgrid')\n",
    "\n",
    "# set scale_pos_weight, max_delta_step because dataset is imbalanced \n",
    "\n",
    "xgb_imb = XGBClassifier(max_delta_step = 1,  \n",
    "                        random_state=SEED, \n",
    "                        scale_pos_weight=2)\n",
    "\n",
    "xgb_imb.fit(X_train, y_train)\n",
    "print(xgb_imb)\n",
    "\n",
    "xgb_imb_pred = xgb_imb.predict(X_val)\n",
    "\n",
    "print(classification_report(y_val, xgb_imb_pred, target_names = ['non_subscriber', 'subscriber']))\n",
    "\n",
    "# Whats going on with xgb\n",
    "\n",
    "sns.heatmap(confusion_matrix(y_val, xgb_imb_pred), annot=True, fmt='g')"
   ]
  },
  {
   "cell_type": "code",
   "execution_count": null,
   "id": "465e5093",
   "metadata": {},
   "outputs": [],
   "source": []
  },
  {
   "cell_type": "code",
   "execution_count": null,
   "id": "a6366136",
   "metadata": {},
   "outputs": [],
   "source": []
  },
  {
   "cell_type": "markdown",
   "id": "f8aadddf",
   "metadata": {},
   "source": [
    "**Treatment 5** - Sampling for balancing dataset"
   ]
  },
  {
   "cell_type": "code",
   "execution_count": 21,
   "id": "e464138a",
   "metadata": {
    "collapsed": true,
    "jupyter": {
     "outputs_hidden": true
    }
   },
   "outputs": [
    {
     "name": "stdout",
     "output_type": "stream",
     "text": [
      "Distribution in train set:\n",
      "0    286992\n",
      "1     68563\n",
      "Name: subscription_status, dtype: int64\n"
     ]
    }
   ],
   "source": [
    "print(\"Distribution in train set:\")\n",
    "print(y_train.value_counts())"
   ]
  },
  {
   "cell_type": "code",
   "execution_count": 22,
   "id": "ad74fe88",
   "metadata": {
    "collapsed": true,
    "jupyter": {
     "outputs_hidden": true
    }
   },
   "outputs": [
    {
     "name": "stdout",
     "output_type": "stream",
     "text": [
      "Distribution in val set:\n",
      "0    61499\n",
      "1    14692\n",
      "Name: subscription_status, dtype: int64\n"
     ]
    }
   ],
   "source": [
    "print(\"Distribution in val set:\")\n",
    "print(y_val.value_counts())"
   ]
  },
  {
   "cell_type": "markdown",
   "id": "781e7e3b",
   "metadata": {},
   "source": [
    "* over then under - hybrid sampling"
   ]
  },
  {
   "cell_type": "code",
   "execution_count": 25,
   "id": "3c51a27a",
   "metadata": {},
   "outputs": [],
   "source": [
    "from imblearn.over_sampling import RandomOverSampler\n",
    "from imblearn.under_sampling import RandomUnderSampler"
   ]
  },
  {
   "cell_type": "code",
   "execution_count": 26,
   "id": "f461ed47",
   "metadata": {},
   "outputs": [
    {
     "name": "stdout",
     "output_type": "stream",
     "text": [
      "Oversampled \n",
      " 0    286992\n",
      "1    143496\n",
      "Name: subscription_status, dtype: int64\n"
     ]
    }
   ],
   "source": [
    "over = RandomOverSampler(sampling_strategy=0.5)\n",
    "under = RandomUnderSampler(sampling_strategy=0.9) \n",
    "\n",
    "# first performing oversampling on minority class\n",
    "X_over, y_over = over.fit_resample(X_train, y_train)\n",
    "\n",
    "y_over = pd.Series(y_over)\n",
    "print(\"Oversampled \\n\", y_over.value_counts())\n",
    "\n",
    "# now combine undersampling \n",
    "X_combined_sampling, y_combined_sampling = under.fit_resample(X_over, y_over)"
   ]
  },
  {
   "cell_type": "code",
   "execution_count": 28,
   "id": "33ae8271",
   "metadata": {},
   "outputs": [
    {
     "name": "stdout",
     "output_type": "stream",
     "text": [
      "After Combined Sampling - Distribution in train set::\n",
      "0    159440\n",
      "1    143496\n",
      "Name: subscription_status, dtype: int64\n",
      "0   0.5\n",
      "1   0.5\n",
      "Name: subscription_status, dtype: float64\n"
     ]
    }
   ],
   "source": [
    "# convert back to dataframe\n",
    "Xtrain_combo = pd.DataFrame(X_combined_sampling, columns = X_train.columns)\n",
    "ytrain_combo = pd.Series(y_combined_sampling)\n",
    "\n",
    "# name the series\n",
    "ytrain_combo.name = \"subscription_status\"\n",
    "\n",
    "print(\"After Combined Sampling - Distribution in train set::\")\n",
    "\n",
    "print(ytrain_combo.value_counts())\n",
    "\n",
    "print(ytrain_combo.value_counts(normalize=True))"
   ]
  },
  {
   "cell_type": "code",
   "execution_count": 29,
   "id": "8df455ad",
   "metadata": {
    "collapsed": true,
    "jupyter": {
     "outputs_hidden": true
    }
   },
   "outputs": [
    {
     "name": "stdout",
     "output_type": "stream",
     "text": [
      "(302936, 51) (76191, 51)\n",
      "Distribution in val set:\n",
      "0    61499\n",
      "1    14692\n",
      "Name: subscription_status, dtype: int64\n"
     ]
    }
   ],
   "source": [
    "print(Xtrain_combo.shape, X_val.shape)\n",
    "\n",
    "print(\"Distribution in val set:\")\n",
    "\n",
    "# distribution untouched\n",
    "\n",
    "print(y_val.value_counts())"
   ]
  },
  {
   "cell_type": "code",
   "execution_count": 32,
   "id": "58a9f9af",
   "metadata": {},
   "outputs": [],
   "source": [
    "train_transformed = Xtrain_combo.join(ytrain_combo)\n",
    "val_transformed = X_val.join(y_val)"
   ]
  },
  {
   "cell_type": "code",
   "execution_count": 36,
   "id": "f8dc3a92",
   "metadata": {
    "collapsed": true,
    "jupyter": {
     "outputs_hidden": true
    }
   },
   "outputs": [
    {
     "name": "stdout",
     "output_type": "stream",
     "text": [
      "File uploaded to gs://bi-subscription-modeling/train-val-data/train_transformed_11232021.csv\n",
      "File uploaded to gs://bi-subscription-modeling/train-val-data/val_transformed_11232021.csv\n"
     ]
    }
   ],
   "source": [
    "BUCKET_NAME = 'bi-subscription-modeling'\n",
    "BUCKET_FOLDER = 'train-val-data'\n",
    "\n",
    "# save locally and upload .csv \n",
    "file_name = 'train_transformed_11232021.csv'\n",
    "\n",
    "upload_csv_file(train_transformed, \n",
    "                BUCKET_NAME, \n",
    "                BUCKET_FOLDER, \n",
    "                file_name) \n",
    "\n",
    "# save locally and upload .csv \n",
    "file_name = 'val_transformed_11232021.csv'\n",
    "\n",
    "upload_csv_file(val_transformed, \n",
    "                BUCKET_NAME, \n",
    "                BUCKET_FOLDER, \n",
    "                file_name) "
   ]
  },
  {
   "cell_type": "markdown",
   "id": "82e136d0",
   "metadata": {},
   "source": [
    "* Automatic Combination of over- and under-sampling\n",
    "    * SMOTETomek\n",
    "        * SMOTE - (synthetic data generation) selects examples that are close in the feature space, draws a line between the examples and draws a new sample along that line.\n",
    "        * Tomek -  identifies pairs of nearest neighbors in a dataset that have different classes. Removes one or both of the examples in these pairs (such as the examples in the majority class shown below) which has the effect of making the decision boundary in the training dataset less noisy or ambiguous.\n",
    "        \n",
    "NOTE: Low ROI - dint pursue"
   ]
  },
  {
   "cell_type": "code",
   "execution_count": null,
   "id": "2ac9faaf",
   "metadata": {},
   "outputs": [],
   "source": [
    "import time\n",
    "from imblearn.combine import SMOTETomek\n",
    "from imblearn.under_sampling import TomekLinks\n",
    "\n",
    "st = SMOTETomek(tomek=TomekLinks(sampling_strategy='majority'), random_state=SEED)\n",
    "\n",
    "start_time = time.time()\n",
    "\n",
    "X_res, y_res = st.fit_resample(X_train, y_train)\n",
    "\n",
    "y_res = pd.Series(y_res)\n",
    "\n",
    "print(y_res.value_counts()) #24mins no output\n",
    "\n",
    "print(\"--- %s seconds ---\" % (time.time() - start_time))"
   ]
  },
  {
   "cell_type": "code",
   "execution_count": null,
   "id": "e9478c56",
   "metadata": {},
   "outputs": [],
   "source": []
  },
  {
   "cell_type": "code",
   "execution_count": null,
   "id": "af938402",
   "metadata": {},
   "outputs": [],
   "source": []
  },
  {
   "cell_type": "code",
   "execution_count": null,
   "id": "5893fdbc",
   "metadata": {},
   "outputs": [],
   "source": []
  }
 ],
 "metadata": {
  "environment": {
   "name": "tf2-gpu.2-6.m79",
   "type": "gcloud",
   "uri": "gcr.io/deeplearning-platform-release/tf2-gpu.2-6:m79"
  },
  "kernelspec": {
   "display_name": "subscribers",
   "language": "python",
   "name": "subscribers"
  },
  "language_info": {
   "codemirror_mode": {
    "name": "ipython",
    "version": 3
   },
   "file_extension": ".py",
   "mimetype": "text/x-python",
   "name": "python",
   "nbconvert_exporter": "python",
   "pygments_lexer": "ipython3",
   "version": "3.7.10"
  }
 },
 "nbformat": 4,
 "nbformat_minor": 5
}
