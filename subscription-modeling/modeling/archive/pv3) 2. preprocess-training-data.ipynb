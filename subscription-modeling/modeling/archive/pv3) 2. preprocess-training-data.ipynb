{
 "cells": [
  {
   "cell_type": "markdown",
   "id": "7754e1ee",
   "metadata": {},
   "source": [
    "## Description:\n",
    "\n",
    "This file contains:\n",
    "* data pre-processing (i.e. fill na, scaling, normalizing feature values)\n",
    "* feature selection (selecting non-correlated features then applying formal feature-selection methods)\n",
    "* LGBM (feature selected, imbalanced data)\n",
    "* XGB (feature selected, imbalanced data)\n",
    "* Balancing dataset via combined sampling"
   ]
  },
  {
   "cell_type": "code",
   "execution_count": 1,
   "id": "e18d1a03",
   "metadata": {},
   "outputs": [
    {
     "name": "stdout",
     "output_type": "stream",
     "text": [
      "Collecting BorutaShap==1.0.16\n",
      "  Downloading BorutaShap-1.0.16-py3-none-any.whl (13 kB)\n",
      "Requirement already satisfied: matplotlib in /opt/conda/lib/python3.7/site-packages (from BorutaShap==1.0.16) (3.4.3)\n",
      "Requirement already satisfied: pandas in /opt/conda/lib/python3.7/site-packages (from BorutaShap==1.0.16) (1.3.4)\n",
      "Collecting shap>=0.34.0\n",
      "  Downloading shap-0.40.0-cp37-cp37m-manylinux2010_x86_64.whl (564 kB)\n",
      "\u001b[K     |████████████████████████████████| 564 kB 5.2 MB/s eta 0:00:01\n",
      "\u001b[?25hRequirement already satisfied: scipy in /opt/conda/lib/python3.7/site-packages (from BorutaShap==1.0.16) (1.7.1)\n",
      "Requirement already satisfied: numpy in /opt/conda/lib/python3.7/site-packages (from BorutaShap==1.0.16) (1.21.3)\n",
      "Requirement already satisfied: statsmodels in /opt/conda/lib/python3.7/site-packages (from BorutaShap==1.0.16) (0.12.2)\n",
      "Requirement already satisfied: seaborn in /opt/conda/lib/python3.7/site-packages (from BorutaShap==1.0.16) (0.11.2)\n",
      "Requirement already satisfied: tqdm in /opt/conda/lib/python3.7/site-packages (from BorutaShap==1.0.16) (4.62.2)\n",
      "Requirement already satisfied: scikit-learn in /opt/conda/lib/python3.7/site-packages (from BorutaShap==1.0.16) (1.0.1)\n",
      "Collecting slicer==0.0.7\n",
      "  Downloading slicer-0.0.7-py3-none-any.whl (14 kB)\n",
      "Requirement already satisfied: packaging>20.9 in /opt/conda/lib/python3.7/site-packages (from shap>=0.34.0->BorutaShap==1.0.16) (21.0)\n",
      "Requirement already satisfied: cloudpickle in /opt/conda/lib/python3.7/site-packages (from shap>=0.34.0->BorutaShap==1.0.16) (1.6.0)\n",
      "Requirement already satisfied: numba in /home/jupyter/.local/lib/python3.7/site-packages (from shap>=0.34.0->BorutaShap==1.0.16) (0.53.1)\n",
      "Requirement already satisfied: pyparsing>=2.0.2 in /opt/conda/lib/python3.7/site-packages (from packaging>20.9->shap>=0.34.0->BorutaShap==1.0.16) (2.4.7)\n",
      "Requirement already satisfied: pillow>=6.2.0 in /opt/conda/lib/python3.7/site-packages (from matplotlib->BorutaShap==1.0.16) (8.3.2)\n",
      "Requirement already satisfied: kiwisolver>=1.0.1 in /opt/conda/lib/python3.7/site-packages (from matplotlib->BorutaShap==1.0.16) (1.3.2)\n",
      "Requirement already satisfied: cycler>=0.10 in /opt/conda/lib/python3.7/site-packages (from matplotlib->BorutaShap==1.0.16) (0.10.0)\n",
      "Requirement already satisfied: python-dateutil>=2.7 in /opt/conda/lib/python3.7/site-packages (from matplotlib->BorutaShap==1.0.16) (2.8.2)\n",
      "Requirement already satisfied: six in /opt/conda/lib/python3.7/site-packages (from cycler>=0.10->matplotlib->BorutaShap==1.0.16) (1.16.0)\n",
      "Requirement already satisfied: setuptools in /opt/conda/lib/python3.7/site-packages (from numba->shap>=0.34.0->BorutaShap==1.0.16) (58.1.0)\n",
      "Requirement already satisfied: llvmlite<0.37,>=0.36.0rc1 in /home/jupyter/.local/lib/python3.7/site-packages (from numba->shap>=0.34.0->BorutaShap==1.0.16) (0.36.0)\n",
      "Requirement already satisfied: pytz>=2017.3 in /opt/conda/lib/python3.7/site-packages (from pandas->BorutaShap==1.0.16) (2021.1)\n",
      "Requirement already satisfied: joblib>=0.11 in /opt/conda/lib/python3.7/site-packages (from scikit-learn->BorutaShap==1.0.16) (1.1.0)\n",
      "Requirement already satisfied: threadpoolctl>=2.0.0 in /opt/conda/lib/python3.7/site-packages (from scikit-learn->BorutaShap==1.0.16) (2.2.0)\n",
      "Requirement already satisfied: patsy>=0.5 in /opt/conda/lib/python3.7/site-packages (from statsmodels->BorutaShap==1.0.16) (0.5.1)\n",
      "Installing collected packages: slicer, shap, BorutaShap\n",
      "Successfully installed BorutaShap-1.0.16 shap-0.40.0 slicer-0.0.7\n"
     ]
    }
   ],
   "source": [
    "!pip install BorutaShap==1.0.16"
   ]
  },
  {
   "cell_type": "code",
   "execution_count": 1,
   "id": "089d2c9c",
   "metadata": {},
   "outputs": [],
   "source": [
    "'''Helper''' \n",
    "import pandas as pd\n",
    "pd.set_option('display.float_format', lambda x: '%.1f' % x)\n",
    "import numpy as np\n",
    "import joblib\n",
    "\n",
    "'''Feature Selection'''\n",
    "from sklearn.ensemble import RandomForestClassifier\n",
    "from sklearn.feature_selection import (SelectFromModel, \n",
    "                                       SelectKBest)\n",
    "from BorutaShap import BorutaShap\n",
    "import lightgbm as lgb\n",
    "\n",
    "'''Pre-processing'''\n",
    "from sklearn.pipeline import Pipeline\n",
    "from sklearn.preprocessing import StandardScaler\n",
    "from imblearn.over_sampling import (RandomOverSampler, \n",
    "                                    SVMSMOTE)\n",
    "\n",
    "from sklearn.metrics import (classification_report, \n",
    "                             plot_confusion_matrix, \n",
    "                             fbeta_score, \n",
    "                             precision_score, \n",
    "                             recall_score)\n",
    "\n",
    "from sklearn.model_selection import (train_test_split,\n",
    "                                     cross_val_score, \n",
    "                                     StratifiedKFold,\n",
    "                                    StratifiedShuffleSplit)\n",
    "\n",
    "\n",
    "'''GCS Utils'''\n",
    "from gcs_utils import *\n",
    "\n",
    "import warnings\n",
    "warnings.filterwarnings('ignore')\n",
    "\n",
    "SEED=42"
   ]
  },
  {
   "cell_type": "code",
   "execution_count": 2,
   "id": "f784a410",
   "metadata": {},
   "outputs": [
    {
     "name": "stdout",
     "output_type": "stream",
     "text": [
      "(354550, 562)\n",
      "0    286723\n",
      "1     67827\n",
      "Name: subscription_status, dtype: int64\n",
      "(75975, 562)\n",
      "(75975, 562)\n"
     ]
    }
   ],
   "source": [
    "# read training, val, test sets\n",
    "\n",
    "train_df = pd.read_csv(\"./pv3_files/pv3_train_set_01132022.csv\")\n",
    "\n",
    "print(train_df.shape)\n",
    "print(train_df.subscription_status.value_counts())\n",
    "\n",
    "val_df = pd.read_csv(\"./pv3_files/pv3_val_set_01132022.csv\")\n",
    "print(val_df.shape)\n",
    "\n",
    "test_df = pd.read_csv(\"./pv3_files/pv3_test_set_01132022.csv\")\n",
    "print(test_df.shape)"
   ]
  },
  {
   "cell_type": "code",
   "execution_count": 3,
   "id": "32d08e1c",
   "metadata": {},
   "outputs": [
    {
     "data": {
      "text/plain": [
       "False"
      ]
     },
     "execution_count": 3,
     "metadata": {},
     "output_type": "execute_result"
    }
   ],
   "source": [
    "val_df.equals(test_df)"
   ]
  },
  {
   "cell_type": "code",
   "execution_count": 4,
   "id": "be4dd79f",
   "metadata": {},
   "outputs": [
    {
     "data": {
      "text/html": [
       "<div>\n",
       "<style scoped>\n",
       "    .dataframe tbody tr th:only-of-type {\n",
       "        vertical-align: middle;\n",
       "    }\n",
       "\n",
       "    .dataframe tbody tr th {\n",
       "        vertical-align: top;\n",
       "    }\n",
       "\n",
       "    .dataframe thead th {\n",
       "        text-align: right;\n",
       "    }\n",
       "</style>\n",
       "<table border=\"1\" class=\"dataframe\">\n",
       "  <thead>\n",
       "    <tr style=\"text-align: right;\">\n",
       "      <th></th>\n",
       "      <th>session_pvs_mean</th>\n",
       "      <th>session_pvs_median</th>\n",
       "      <th>session_top_mean</th>\n",
       "      <th>session_top_median</th>\n",
       "      <th>bounce_rate</th>\n",
       "      <th>content_views_rate</th>\n",
       "      <th>rf_content_aggregators</th>\n",
       "      <th>rf_direct</th>\n",
       "      <th>rf_fbia</th>\n",
       "      <th>rf_newsletter</th>\n",
       "      <th>...</th>\n",
       "      <th>hour_15_top</th>\n",
       "      <th>hour_16_top</th>\n",
       "      <th>hour_17_top</th>\n",
       "      <th>hour_18_top</th>\n",
       "      <th>hour_19_top</th>\n",
       "      <th>hour_20_top</th>\n",
       "      <th>hour_21_top</th>\n",
       "      <th>hour_22_top</th>\n",
       "      <th>hour_23_top</th>\n",
       "      <th>subscription_status</th>\n",
       "    </tr>\n",
       "  </thead>\n",
       "  <tbody>\n",
       "    <tr>\n",
       "      <th>354545</th>\n",
       "      <td>1.1</td>\n",
       "      <td>1.0</td>\n",
       "      <td>21.7</td>\n",
       "      <td>0.0</td>\n",
       "      <td>0.9</td>\n",
       "      <td>1.0</td>\n",
       "      <td>0.0</td>\n",
       "      <td>18.0</td>\n",
       "      <td>0.0</td>\n",
       "      <td>0.0</td>\n",
       "      <td>...</td>\n",
       "      <td>0.0</td>\n",
       "      <td>0.0</td>\n",
       "      <td>0.0</td>\n",
       "      <td>0.0</td>\n",
       "      <td>0.0</td>\n",
       "      <td>0.0</td>\n",
       "      <td>0.0</td>\n",
       "      <td>0.0</td>\n",
       "      <td>0.0</td>\n",
       "      <td>0</td>\n",
       "    </tr>\n",
       "    <tr>\n",
       "      <th>354546</th>\n",
       "      <td>1.0</td>\n",
       "      <td>1.0</td>\n",
       "      <td>12.2</td>\n",
       "      <td>0.0</td>\n",
       "      <td>1.0</td>\n",
       "      <td>1.0</td>\n",
       "      <td>0.0</td>\n",
       "      <td>0.0</td>\n",
       "      <td>0.0</td>\n",
       "      <td>0.0</td>\n",
       "      <td>...</td>\n",
       "      <td>0.0</td>\n",
       "      <td>0.0</td>\n",
       "      <td>0.0</td>\n",
       "      <td>0.0</td>\n",
       "      <td>0.0</td>\n",
       "      <td>49.0</td>\n",
       "      <td>0.0</td>\n",
       "      <td>0.0</td>\n",
       "      <td>0.0</td>\n",
       "      <td>0</td>\n",
       "    </tr>\n",
       "    <tr>\n",
       "      <th>354547</th>\n",
       "      <td>1.0</td>\n",
       "      <td>1.0</td>\n",
       "      <td>145.3</td>\n",
       "      <td>46.5</td>\n",
       "      <td>1.0</td>\n",
       "      <td>1.0</td>\n",
       "      <td>2.0</td>\n",
       "      <td>1.0</td>\n",
       "      <td>0.0</td>\n",
       "      <td>0.0</td>\n",
       "      <td>...</td>\n",
       "      <td>0.0</td>\n",
       "      <td>0.0</td>\n",
       "      <td>48.3</td>\n",
       "      <td>0.0</td>\n",
       "      <td>90.0</td>\n",
       "      <td>0.0</td>\n",
       "      <td>13.0</td>\n",
       "      <td>250.7</td>\n",
       "      <td>0.0</td>\n",
       "      <td>0</td>\n",
       "    </tr>\n",
       "    <tr>\n",
       "      <th>354548</th>\n",
       "      <td>1.0</td>\n",
       "      <td>1.0</td>\n",
       "      <td>181.1</td>\n",
       "      <td>53.0</td>\n",
       "      <td>1.0</td>\n",
       "      <td>1.0</td>\n",
       "      <td>0.0</td>\n",
       "      <td>0.0</td>\n",
       "      <td>0.0</td>\n",
       "      <td>0.0</td>\n",
       "      <td>...</td>\n",
       "      <td>49.7</td>\n",
       "      <td>0.0</td>\n",
       "      <td>955.0</td>\n",
       "      <td>0.0</td>\n",
       "      <td>0.0</td>\n",
       "      <td>0.0</td>\n",
       "      <td>0.0</td>\n",
       "      <td>56.7</td>\n",
       "      <td>103.5</td>\n",
       "      <td>0</td>\n",
       "    </tr>\n",
       "    <tr>\n",
       "      <th>354549</th>\n",
       "      <td>1.5</td>\n",
       "      <td>1.5</td>\n",
       "      <td>714.0</td>\n",
       "      <td>714.0</td>\n",
       "      <td>0.5</td>\n",
       "      <td>1.0</td>\n",
       "      <td>0.0</td>\n",
       "      <td>3.0</td>\n",
       "      <td>0.0</td>\n",
       "      <td>0.0</td>\n",
       "      <td>...</td>\n",
       "      <td>0.0</td>\n",
       "      <td>0.0</td>\n",
       "      <td>0.0</td>\n",
       "      <td>0.0</td>\n",
       "      <td>0.0</td>\n",
       "      <td>0.0</td>\n",
       "      <td>586.0</td>\n",
       "      <td>0.0</td>\n",
       "      <td>0.0</td>\n",
       "      <td>0</td>\n",
       "    </tr>\n",
       "  </tbody>\n",
       "</table>\n",
       "<p>5 rows × 562 columns</p>\n",
       "</div>"
      ],
      "text/plain": [
       "        session_pvs_mean  session_pvs_median  session_top_mean  \\\n",
       "354545               1.1                 1.0              21.7   \n",
       "354546               1.0                 1.0              12.2   \n",
       "354547               1.0                 1.0             145.3   \n",
       "354548               1.0                 1.0             181.1   \n",
       "354549               1.5                 1.5             714.0   \n",
       "\n",
       "        session_top_median  bounce_rate  content_views_rate  \\\n",
       "354545                 0.0          0.9                 1.0   \n",
       "354546                 0.0          1.0                 1.0   \n",
       "354547                46.5          1.0                 1.0   \n",
       "354548                53.0          1.0                 1.0   \n",
       "354549               714.0          0.5                 1.0   \n",
       "\n",
       "        rf_content_aggregators  rf_direct  rf_fbia  rf_newsletter  ...  \\\n",
       "354545                     0.0       18.0      0.0            0.0  ...   \n",
       "354546                     0.0        0.0      0.0            0.0  ...   \n",
       "354547                     2.0        1.0      0.0            0.0  ...   \n",
       "354548                     0.0        0.0      0.0            0.0  ...   \n",
       "354549                     0.0        3.0      0.0            0.0  ...   \n",
       "\n",
       "        hour_15_top  hour_16_top  hour_17_top  hour_18_top  hour_19_top  \\\n",
       "354545          0.0          0.0          0.0          0.0          0.0   \n",
       "354546          0.0          0.0          0.0          0.0          0.0   \n",
       "354547          0.0          0.0         48.3          0.0         90.0   \n",
       "354548         49.7          0.0        955.0          0.0          0.0   \n",
       "354549          0.0          0.0          0.0          0.0          0.0   \n",
       "\n",
       "        hour_20_top  hour_21_top  hour_22_top  hour_23_top  \\\n",
       "354545          0.0          0.0          0.0          0.0   \n",
       "354546         49.0          0.0          0.0          0.0   \n",
       "354547          0.0         13.0        250.7          0.0   \n",
       "354548          0.0          0.0         56.7        103.5   \n",
       "354549          0.0        586.0          0.0          0.0   \n",
       "\n",
       "        subscription_status  \n",
       "354545                    0  \n",
       "354546                    0  \n",
       "354547                    0  \n",
       "354548                    0  \n",
       "354549                    0  \n",
       "\n",
       "[5 rows x 562 columns]"
      ]
     },
     "execution_count": 4,
     "metadata": {},
     "output_type": "execute_result"
    }
   ],
   "source": [
    "train_df.tail()"
   ]
  },
  {
   "cell_type": "markdown",
   "id": "975a763d",
   "metadata": {},
   "source": [
    "**Treatment 1** - Drop correlated features"
   ]
  },
  {
   "cell_type": "code",
   "execution_count": null,
   "id": "823e5b55",
   "metadata": {},
   "outputs": [],
   "source": [
    "# Create correlation matrix of the entire dataframe\n",
    "corr_matrix = train_df.corr().abs()\n",
    "\n",
    "# Select upper triangle of correlation matrix\n",
    "\n",
    "upper = corr_matrix.where(np.triu(np.ones(corr_matrix.shape), k=1).astype(np.bool))\n",
    "\n",
    "# Find features with correlation greater than 0.9\n",
    "to_drop = [column for column in upper.columns if any(upper[column] > 0.9)]\n",
    "\n",
    "print(len(to_drop)) # 4 mins"
   ]
  },
  {
   "cell_type": "code",
   "execution_count": 5,
   "id": "031f41e5",
   "metadata": {},
   "outputs": [
    {
     "name": "stdout",
     "output_type": "stream",
     "text": [
      "Whole df shape:  (354550, 550)\n"
     ]
    }
   ],
   "source": [
    "to_drop = ['session_pvs_median', 'session_top_median', 't2_auto_type_pvs', 't2_business_pvs', 't2_college_education_pvs', 't2_computing_pvs',  \n",
    "           't2_diseases_and_conditions_pvs', 't2_email_pvs', 't2_politics_pvs', 't2_real_estate_buying_and_selling_pvs', 't2_travel_type_pvs', 't2_world_movies_pvs']\n",
    "\n",
    "train_df.drop(to_drop, axis=1, inplace=True)\n",
    "\n",
    "print(\"Whole df shape: \", train_df.shape)"
   ]
  },
  {
   "cell_type": "markdown",
   "id": "29ee4c13",
   "metadata": {},
   "source": [
    "**Treatment 2** - Feature Select\n",
    "\n",
    "* Why feature select first?\n",
    "    * Feature selection using Tree-based models doesnt need scaled/normalized feature values. So, it can be performed before scaling/normalizing values.\n",
    "    * Improves processing time in production a lot if feature scaling/normalizing needs to be performed only on feature selected columns"
   ]
  },
  {
   "cell_type": "code",
   "execution_count": 6,
   "id": "3bf30a12",
   "metadata": {},
   "outputs": [],
   "source": [
    "# train\n",
    "X_train = train_df.iloc[:, :-1]\n",
    "y_train = train_df[\"subscription_status\"]"
   ]
  },
  {
   "cell_type": "code",
   "execution_count": 9,
   "id": "f015feb5",
   "metadata": {},
   "outputs": [
    {
     "data": {
      "application/vnd.jupyter.widget-view+json": {
       "model_id": "29dd65b580ae48f4a95528cd0b5653e1",
       "version_major": 2,
       "version_minor": 0
      },
      "text/plain": [
       "  0%|          | 0/50 [00:00<?, ?it/s]"
      ]
     },
     "metadata": {},
     "output_type": "display_data"
    },
    {
     "name": "stdout",
     "output_type": "stream",
     "text": [
      "49 attributes confirmed important: ['day_of_mon_2_top', 'pc_innovation_pvs', 'rf_organic_social_forbes', 'dos_macintosh', 't2_pc_games_pvs', 'weekend_top', 'business_hours_pvs', 'content_views_rate', 'ps_investing_pvs', 'business_hours_top', 'ps_consumer_tech_pvs', 'rf_organic_search', 'ct_united_states', 'ps_leadership_strategy_pvs', 'pc_money_pvs', 't2_personal_investing_pvs', 't1_movies_pvs', 'dos_ios', 'bounce_rate', 'weekday_top', 'pc_leadership_pvs', 'session_top_mean', 'ps_personal_finance_pvs', 'ps_healthcare_pvs', 'ps_policy_pvs', 't1_business_and_finance_top', 't1_business_and_finance_pvs', 'ps_crypto_and_blockchain_pvs', 'weekday_pvs', 'session_pvs_mean', 'non_business_hours_top', 'ps_taxes_pvs', 'pc_business_pvs', 'non_business_hours_pvs', 'rf_content_aggregators', 'rf_organic_social_dark', 'ps_cybersecurity_pvs', 'ps_sportsmoney_pvs', 'dos_windows', 'rf_newsletter', 'pc_home_pvs', 'hour_1_top', 'rf_referral', 'pc_billionaires_pvs', 'rf_direct', 'rf_push_notification', 'weekend_pvs', 'dos_android', 'ps_games_pvs']\n",
      "491 attributes confirmed unimportant: ['t1_travel_pvs', 't2_women_fashion_pvs', 't2_darts_pvs', 't2_cookbooks_pvs', 't2_paranormal_phenomena_pvs', 't2_romance_movies_pvs', 't2_women_health_pvs', 't2_remodeling_and_construction_pvs', 'ct_united_kingdom', 't2_zoos_and_aquariums_pvs', 't2_body_art_pvs', 't2_home_utilities_pvs', 'day_of_mon_13_top', 't2_american_football_pvs', 't1_fine_art_pvs', 't1_careers_top', 'pc_opinion_pvs', 'hour_23_top', 't2_primary_education_pvs', 't2_equine_sports_pvs', 't1_real_estate_top', 't2_golf_pvs', 't1_family_and_relationships_pvs', 'pc_tech_pvs', 'day_of_mon_9_top', 't2_vocational_training_pvs', 't1_technology_and_computing_pvs', 'ps_diversity_and_inclusion_pvs', 't2_alcoholic_beverages_pvs', 't2_personal_debt_pvs', 't2_horror_movies_pvs', 't1_pop_culture_pvs', 't2_islam_pvs', 't2_video_game_genres_pvs', 't2_gardening_pvs', 't1_content_channel_pvs', 't2_track_and_field_pvs', 't2_travel_preparation_and_advice_pvs', 't2_geology_pvs', 't2_disasters_pvs', 't2_cycling_pvs', 'hour_15_top', 't2_vegetarian_diets_pvs', 'rf_paid_social_dark', 't2_international_news_pvs', 'hour_17_top', 't2_basketball_pvs', 't2_food_allergies_pvs', 't2_extreme_sports_pvs', 't2_gymnastics_pvs', 't2_wrestling_pvs', 't2_home_improvement_pvs', 't1_healthy_living_pvs', 't2_indoor_environmental_quality_pvs', 't2_concerts_and_music_events_pvs', 't2_sports_tv_pvs', 'day_of_mon_1_top', 't1_fine_art_top', 't2_animation_tv_pvs', 't2_science_fiction_tv_pvs', 't2_alternative_music_pvs', 't2_lotteries_and_scratchcards_pvs', 'day_of_mon_29_top', 't2_personal_celebrations_and_life_events_pvs', 't2_country_music_pvs', 't2_weather_pvs', 't2_musical_instruments_pvs', 't2_casinos_and_gambling_pvs', 't2_celebrity_relationships_pvs', 't2_volleyball_pvs', 'ps_aerospace_and_defense_pvs', 't2_classical_music_pvs', 'pc_investing_pvs', 'hour_18_top', 't2_consumer_banking_pvs', 't2_beach_volleyball_pvs', 'ct_india', 't2_comedy_tv_pvs', 'pc_advisor_pvs', 't2_urban_contemporary_music_pvs', 't2_genetics_pvs', 't2_biological_sciences_pvs', 't2_scooters_pvs', 'ps_dining_pvs', 't2_console_games_pvs', 't2_holiday_shopping_pvs', 't2_smart_home_pvs', 't1_hobbies_and_interests_top', 't1_science_top', 'ct_germany', 't2_soap_opera_tv_pvs', 't2_australian_rules_football_pvs', 'day_of_mon_7_top', 't2_spirituality_pvs', 'ps_vices_pvs', 'ps_science_pvs', 'hour_20_top', 'hour_8_top', 't2_hip_hop_music_pvs', 'ps_cloud_pvs', 'pc_lists_pvs', 't1_shopping_top', 't2_parks_and_nature_pvs', 't2_comedy_movies_pvs', 't2_collecting_pvs', 'day_of_mon_24_top', 'hour_21_top', 't2_apprenticeships_pvs', 'ps_markets_pvs', 't2_judaism_pvs', 'day_of_mon_17_top', 't2_high_fashion_pvs', 't2_rodeo_pvs', 't2_travel_books_pvs', 'pc_industry_pvs', 't2_songwriters_pvs', 'pc_video_pvs', 'rf_paid_display', 't2_poetry_pvs', 't2_christianity_pvs', 't2_industrial_property_pvs', 't2_children_clothing_pvs', 't2_sports_radio_pvs', 'ps_manufacturing_pvs', 't2_reptiles_pvs', 't1_news_and_politics_pvs', 't2_desserts_and_baking_pvs', 'rf_paid_search', 'pc_entrepreneurs_pvs', 'day_of_mon_27_top', 't2_street_style_pvs', 't2_parenting_pvs', 't1_events_and_attractions_top', 't2_disabled_sports_pvs', 'hour_11_top', 't2_astrology_pvs', 't2_hunting_and_shooting_pvs', 'pc_consumer_pvs', 't2_talk_radio_pvs', 't2_hinduism_pvs', 't2_celebrity_deaths_pvs', 'hour_2_top', 't2_office_property_pvs', 't1_pets_top', 'ps_travel_pvs', 't2_secondary_education_pvs', 't2_children_health_pvs', 't2_frugal_living_pvs', 't2_apartments_pvs', 't2_career_planning_pvs', 't2_men_health_pvs', 't2_workshops_and_classes_pvs', 'hour_3_top', 't2_single_life_pvs', 't2_bereavement_pvs', 't2_outdoor_decorating_pvs', 't2_food_movements_pvs', 't2_walking_pvs', 't2_men_fashion_pvs', 't2_children_literature_pvs', 'ct_singapore', 't2_auto_parts_pvs', 't2_household_supplies_pvs', 'ps_small_business_strategy_pvs', 't2_rowing_pvs', 't2_skiing_pvs', 't2_birdwatching_pvs', 'hour_5_top', 't2_college_sports_pvs', 't1_music_and_audio_pvs', 't2_chemistry_pvs', 't2_business_expos_and_conferences_pvs', 't2_family_and_children_movies_pvs', 't2_landscaping_pvs', 't1_events_and_attractions_pvs', 'pc_real_estate_pvs', 't2_fan_conventions_pvs', 't2_lacrosse_pvs', 't1_music_and_audio_top', 'day_of_mon_31_top', 't2_crime_pvs', 't2_fish_and_aquariums_pvs', 'ct_russia', 'day_of_mon_25_top', 'ps_media_pvs', 't2_auto_rentals_pvs', 't2_wellness_pvs', 't2_sporting_events_pvs', 't2_law_pvs', 'ps_cars_and_bikes_pvs', 't2_homeschooling_pvs', 't2_mobile_games_pvs', 'hour_12_top', 't2_beekeeping_pvs', 't2_environment_pvs', 't2_financial_planning_pvs', 't1_healthy_living_top', 't2_travel_locations_pvs', 't1_personal_finance_pvs', 'pc_under_30_pvs', 't2_indie_and_arthouse_movies_pvs', 't2_bowling_pvs', 'ps_cio_network_pvs', 't2_fashion_trends_pvs', 't1_medical_health_top', 't2_celebrity_families_pvs', 't2_private_school_pvs', 't2_insurance_pvs', 'thursday_top', 't2_holiday_tv_pvs', 't2_gospel_music_pvs', 't2_personal_taxes_pvs', 't2_party_supplies_and_decorations_pvs', 't2_variety_music_and_audio_pvs', 't1_television_pvs', 'hour_22_top', 't2_digital_arts_pvs', 't2_vaccines_pvs', 't2_auto_repair_pvs', 't2_bars_and_restaurants_pvs', 't2_dance_and_electronic_music_pvs', 't2_fitness_and_exercise_pvs', 't2_marriage_and_civil_unions_pvs', 't1_careers_pvs', 't2_economy_pvs', 't2_science_fiction_movies_pvs', 't2_boxing_pvs', 't2_land_and_farms_pvs', 'ps_wealth_management_pvs', 't2_home_appliances_pvs', 't2_olympic_sports_pvs', 't2_fantasy_movies_pvs', 'rf_paid_social_forbes', 't2_auto_safety_pvs', 't1_travel_top', 't2_career_advice_pvs', 't2_medical_tests_pvs', 'ps_real_estate_pvs', 't2_action_and_adventure_movies_pvs', 't2_esports_pvs', 'pc_shopping_pvs', 'rf_paid_web', 't1_automotive_pvs', 'day_of_mon_6_top', 't2_fine_art_photography_pvs', 't2_artificial_intelligence_pvs', 't2_soccer_pvs', 't2_cats_pvs', 't2_atheism_pvs', 't2_physics_pvs', 'day_of_mon_16_top', 't2_senior_health_pvs', 'day_of_mon_28_top', 't2_comics_and_graphic_novels_pvs', 't2_industries_pvs', 't2_nightclubs_pvs', 't2_reggae_pvs', 't1_technology_and_computing_top', 't2_pharmaceutical_drugs_pvs', 't2_veterinary_medicine_pvs', 'pc_newsletters_pvs', 't1_food_and_drink_top', 'ps_money_and_politics_pvs', 'ps_transportation_pvs', 't2_interior_decorating_pvs', 't1_pets_pvs', 't2_bodybuilding_pvs', 't2_vacation_properties_pvs', 't2_healthy_cooking_and_eating_pvs', 't2_gifts_and_greetings_cards_pvs', 't2_grocery_shopping_pvs', 'ps_hollywood_and_entertainment_pvs', 'day_of_mon_23_top', 'day_of_mon_3_top', 't2_cricket_pvs', 't2_virtual_reality_pvs', 't2_swimming_pvs', 't1_movies_top', 'day_of_mon_26_top', 't1_content_channel_top', 't1_home_and_garden_top', 't2_home_entertaining_pvs', 't2_fishing_sports_pvs', 'ct_canada', 't2_early_childhood_education_pvs', 'ps_arts_pvs', 't2_dance_pvs', 't2_fiction_pvs', 't1_education_pvs', 't2_reality_tv_pvs', 'ps_forbeslife_pvs', 't1_food_and_drink_pvs', 't2_historic_site_and_landmark_tours_pvs', 't2_auto_body_styles_pvs', 't2_retirement_planning_pvs', 't2_blues_pvs', 't2_developmental_sites_pvs', 'day_of_mon_14_top', 'day_of_mon_15_top', 'ps_retail_pvs', 't2_rock_music_pvs', 't2_auto_insurance_pvs', 't2_drama_tv_pvs', 't2_car_culture_pvs', 't2_large_animals_pvs', 't1_religion_and_spirituality_top', 'pc_small_business_pvs', 'ps_retirement_pvs', 't1_family_and_relationships_top', 'day_of_mon_20_top', 'friday_top', 't2_auto_shows_pvs', 't2_dogs_pvs', 't2_eldercare_pvs', 't2_radio_control_pvs', 't2_hotel_properties_pvs', 't2_inline_skating_pvs', 't1_science_pvs', 'ps_cmo_network_pvs', 't1_medical_health_pvs', 'ps_food_and_drink_pvs', 't2_theater_pvs', 't2_celebrity_homes_pvs', 't2_genealogy_and_ancestry_pvs', 't1_home_and_garden_pvs', 't2_barbecues_and_grilling_pvs', 't2_business_news_radio_pvs', 't2_sci_fi_and_fantasy_pvs', 't2_travel_accessories_pvs', 'hour_16_top', 't2_road_side_assistance_pvs', 't2_non_alcoholic_beverages_pvs', 't2_world_cuisines_pvs', 't2_pet_supplies_pvs', 't1_hobbies_and_interests_pvs', 'ps_entrepreneurs_pvs', 't2_martial_arts_pvs', 'ps_confirmation_pvs', 'ps_energy_pvs', 't2_space_and_astronomy_pvs', 'ps_hedge_funds_and_private_equity_pvs', 't2_costume_pvs', 'rf_fbia', 't2_surgery_pvs', 't2_job_search_pvs', 'day_of_mon_22_top', 't2_dating_pvs', 't2_jazz_pvs', 'monday_top', 't2_animation_movies_pvs', 't2_fantasy_sports_pvs', 'hour_7_top', 'day_of_mon_18_top', 'day_of_mon_11_top', 't1_religion_and_spirituality_pvs', 't2_opera_pvs', 'ps_fintech_pvs', 't2_nutrition_pvs', 't2_geography_pvs', 't2_homework_and_study_pvs', 't2_personal_care_pvs', 't2_arts_and_crafts_pvs', 't1_shopping_pvs', 't2_designer_clothing_pvs', 't1_style_and_fashion_pvs', 't2_celebrity_pregnancy_pvs', 't2_tennis_pvs', 't2_vegan_diets_pvs', 't2_international_music_pvs', 't2_outdoor_activities_pvs', 't2_content_production_pvs', 't2_malls_and_shopping_centers_pvs', 'ct_philippines', 't1_pop_culture_top', 'ps_venture_capital_pvs', 'hour_6_top', 't2_biographies_pvs', 't2_cooking_pvs', 't1_real_estate_pvs', 't2_comedy_events_pvs', 't2_special_interest_tv_pvs', 't1_sports_top', 't2_online_education_pvs', 't2_diving_pvs', 't2_political_event_pvs', 'hour_13_top', 't1_video_gaming_pvs', 't2_weight_loss_pvs', 'ct_japan', 't2_contemporary_hits_pvs', 't2_national_news_pvs', 'ps_education_pvs', 't2_real_estate_renting_and_leasing_pvs', 't2_amusement_and_theme_parks_pvs', 't2_cinemas_and_events_pvs', 't2_fashion_events_pvs', 't2_retail_property_pvs', 'ct_australia', 't2_documentary_movies_pvs', 'ps_forbeswomen_pvs', 't2_children_games_and_toys_pvs', 't2_language_learning_pvs', 't2_ice_hockey_pvs', 't2_divorce_pvs', 't2_auto_technology_pvs', 't2_young_adult_literature_pvs', 't2_crime_and_mystery_movies_pvs', 't2_special_education_pvs', 't2_museums_and_galleries_pvs', 'ps_cfo_network_pvs', 't1_television_top', 't1_books_and_literature_top', 't2_flower_shopping_pvs', 'hour_14_top', 't2_dining_out_pvs', 'day_of_mon_8_top', 't1_education_top', 't1_style_and_fashion_top', 'wednesday_top', 't2_cosmetic_medical_services_pvs', 't2_religious_events_pvs', 'day_of_mon_4_top', 'day_of_mon_19_top', 't2_theater_venues_and_events_pvs', 't2_sports_equipment_pvs', 't2_adult_contemporary_music_pvs', 't2_figure_skating_pvs', 't2_baseball_pvs', 't1_books_and_literature_pvs', 't2_children_music_pvs', 't2_children_tv_pvs', 't1_sports_pvs', 'hour_9_top', 't2_field_hockey_pvs', 't2_table_tennis_pvs', 'saturday_top', 't2_local_news_pvs', 't2_celebrity_scandal_pvs', 't2_remote_working_pvs', 'day_of_mon_30_top', 't2_educational_assessment_pvs', 't2_games_and_puzzles_pvs', 't2_magic_and_illusion_pvs', 't2_factual_tv_pvs', 'ps_enterprise_tech_pvs', 'day_of_mon_12_top', 't2_national_and_civic_holidays_pvs', 't2_model_toys_pvs', 'sunday_top', 't2_classic_hits_pvs', 't2_beauty_pvs', 't2_coupons_and_discounts_pvs', 't2_adult_education_pvs', 't2_drama_movies_pvs', 't2_awards_shows_pvs', 'ps_banking_and_insurance_pvs', 't1_personal_finance_top', 'hour_4_top', 'ps_enterprise_and_cloud_pvs', 'hour_19_top', 'hour_0_top', 't2_pet_adoptions_pvs', 'pc_forbes_finds_pvs', 't2_art_and_photography_books_pvs', 't2_public_radio_pvs', 'ps_careers_pvs', 't1_automotive_top', 't2_musicals_pvs', 'ps_ai_pvs', 'day_of_mon_5_top', 't2_auto_racing_pvs', 't2_poker_and_professional_gambling_pvs', 'hour_10_top', 't2_motorcycles_pvs', 't2_buddhism_pvs', 't2_birds_pvs', 't2_celebrity_style_pvs', 't2_modern_art_pvs', 't1_video_gaming_top', 'ps_spirits_pvs', 't2_rugby_pvs', 't2_sales_and_promotions_pvs', 't2_auto_buying_and_selling_pvs', 't2_sailing_pvs', 'day_of_mon_10_top', 't2_houses_pvs', 't2_design_pvs', 't2_home_security_pvs', 't2_robotics_pvs', 't2_music_tv_pvs', 't2_augmented_reality_pvs']\n",
      "7 tentative attributes remains: ['pc_lifestyle_pvs', 't2_consumer_electronics_pvs', 't2_financial_assistance_pvs', 'day_of_mon_21_top', 'tuesday_top', 'pc_asia_pvs', 't1_news_and_politics_top']\n"
     ]
    }
   ],
   "source": [
    "model = lgb.LGBMRegressor(random_state=SEED)\n",
    "\n",
    "Feature_Selector = BorutaShap(\n",
    "    model=model, \n",
    "    importance_measure='shap', \n",
    "    classification=False  \n",
    ")\n",
    "\n",
    "# If no important features are selected, increase the number of trials\n",
    "    \n",
    "Feature_Selector.fit(\n",
    "    X = X_train,\n",
    "    y = y_train,\n",
    "    n_trials = 50,\n",
    "    sample = False,\n",
    "    # sample_fraction = 0.7, # Sample fraction of original data (row wise) used in calculating feature importance values - gave ERROR \"got unexpected sample_fraction arg\"\n",
    "    train_or_test='test',\n",
    "    normalize=True,\n",
    "    verbose=True\n",
    ") \n",
    "\n",
    "# 50 trials = 1hr\n",
    "# 100 trials = 39mins. All 47 same plus two (['hour_23_top', 'monday_top']) "
   ]
  },
  {
   "cell_type": "code",
   "execution_count": 30,
   "id": "81497baf",
   "metadata": {},
   "outputs": [
    {
     "name": "stdout",
     "output_type": "stream",
     "text": [
      "['bounce_rate', 'business_hours_pvs', 'business_hours_top', 'content_views_rate', 'ct_united_states', 'day_of_mon_2_top', 'dos_android', 'dos_ios', 'dos_macintosh', 'dos_windows', 'hour_1_top', 'non_business_hours_pvs', 'non_business_hours_top', 'pc_billionaires_pvs', 'pc_business_pvs', 'pc_home_pvs', 'pc_innovation_pvs', 'pc_leadership_pvs', 'pc_money_pvs', 'ps_consumer_tech_pvs', 'ps_crypto_and_blockchain_pvs', 'ps_cybersecurity_pvs', 'ps_games_pvs', 'ps_healthcare_pvs', 'ps_investing_pvs', 'ps_leadership_strategy_pvs', 'ps_personal_finance_pvs', 'ps_policy_pvs', 'ps_sportsmoney_pvs', 'ps_taxes_pvs', 'rf_content_aggregators', 'rf_direct', 'rf_newsletter', 'rf_organic_search', 'rf_organic_social_dark', 'rf_organic_social_forbes', 'rf_push_notification', 'rf_referral', 'session_pvs_mean', 'session_top_mean', 't1_business_and_finance_pvs', 't1_business_and_finance_top', 't1_movies_pvs', 't2_pc_games_pvs', 't2_personal_investing_pvs', 'weekday_pvs', 'weekday_top', 'weekend_pvs', 'weekend_top']\n"
     ]
    }
   ],
   "source": [
    "# Return a list with the selected features\n",
    "\n",
    "boruta_shap_feats = Feature_Selector.accepted\n",
    "\n",
    "print(sorted(boruta_shap_feats))"
   ]
  },
  {
   "cell_type": "code",
   "execution_count": 31,
   "id": "41cd1997",
   "metadata": {},
   "outputs": [
    {
     "data": {
      "text/plain": [
       "49"
      ]
     },
     "execution_count": 31,
     "metadata": {},
     "output_type": "execute_result"
    }
   ],
   "source": [
    "len(boruta_shap_feats)"
   ]
  },
  {
   "cell_type": "code",
   "execution_count": 11,
   "id": "686c2703",
   "metadata": {},
   "outputs": [
    {
     "name": "stdout",
     "output_type": "stream",
     "text": [
      "RF + SelectFromModel features 56\n"
     ]
    }
   ],
   "source": [
    "# ------ RF + SelectFromModel based feature selection -------\n",
    "\n",
    "sel = SelectFromModel(\n",
    "    RandomForestClassifier(n_estimators = 500))\n",
    "\n",
    "sel.fit(X_train, \n",
    "        y_train)\n",
    "\n",
    "rf_feat= X_train.columns[(sel.get_support())]\n",
    "\n",
    "print(\"RF + SelectFromModel features\", len(rf_feat))  # 16mins #4.40"
   ]
  },
  {
   "cell_type": "code",
   "execution_count": 33,
   "id": "c7558e0a",
   "metadata": {},
   "outputs": [
    {
     "name": "stdout",
     "output_type": "stream",
     "text": [
      "45\n"
     ]
    }
   ],
   "source": [
    "print(len(rf_feat))"
   ]
  },
  {
   "cell_type": "code",
   "execution_count": 7,
   "id": "c6cbc1f3",
   "metadata": {},
   "outputs": [
    {
     "data": {
      "text/plain": [
       "43"
      ]
     },
     "execution_count": 7,
     "metadata": {},
     "output_type": "execute_result"
    }
   ],
   "source": [
    "# excluded dos features - 'dos_android', 'dos_ios', 'dos_macintosh', 'dos_windows',\n",
    "\n",
    "boruta_shap_feats = ['bounce_rate', 'business_hours_pvs', 'business_hours_top', 'content_views_rate', 'ct_united_states', \n",
    "                     'non_business_hours_pvs', 'non_business_hours_top', 'pc_billionaires_pvs', 'pc_business_pvs', 'pc_home_pvs', \n",
    "                     'pc_innovation_pvs', 'pc_leadership_pvs', 'pc_money_pvs', 'ps_consumer_tech_pvs', 'ps_crypto_and_blockchain_pvs', \n",
    "                     'ps_cybersecurity_pvs', 'ps_games_pvs', 'ps_healthcare_pvs', 'ps_investing_pvs', 'ps_leadership_strategy_pvs', \n",
    "                     'ps_personal_finance_pvs', 'ps_policy_pvs', 'ps_sportsmoney_pvs', 'ps_taxes_pvs', 'rf_content_aggregators', \n",
    "                     'rf_direct', 'rf_newsletter', 'rf_organic_search', 'rf_organic_social_dark', 'rf_organic_social_forbes', \n",
    "                     'rf_push_notification', 'rf_referral', 'session_pvs_mean', 'session_top_mean', 't1_business_and_finance_pvs', \n",
    "                     't1_business_and_finance_top', 't1_movies_pvs', 't2_pc_games_pvs', 't2_personal_investing_pvs', 'weekday_pvs', \n",
    "                     'weekday_top', 'weekend_pvs', 'weekend_top']\n",
    "len(boruta_shap_feats)"
   ]
  },
  {
   "cell_type": "code",
   "execution_count": 8,
   "id": "9c3b6280",
   "metadata": {},
   "outputs": [
    {
     "data": {
      "text/plain": [
       "45"
      ]
     },
     "execution_count": 8,
     "metadata": {},
     "output_type": "execute_result"
    }
   ],
   "source": [
    "# excluded dos features - 'dos_android', 'dos_ios', 'dos_macintosh', 'dos_windows',\n",
    "\n",
    "rf_feat = ['session_pvs_mean', 'session_top_mean', 'bounce_rate',\n",
    "           'content_views_rate', 'rf_content_aggregators', 'rf_direct',\n",
    "           'rf_newsletter', 'rf_organic_search', 'rf_organic_social_dark',\n",
    "           'rf_organic_social_forbes', 'rf_referral', 'ct_united_states',\n",
    "           't1_business_and_finance_pvs', 't2_industries_pvs',\n",
    "           'pc_billionaires_pvs', 'pc_business_pvs', 'pc_home_pvs',\n",
    "           'pc_innovation_pvs', 'pc_leadership_pvs', 'pc_lifestyle_pvs',\n",
    "           'pc_money_pvs', 'pc_small_business_pvs', 'ps_careers_pvs',\n",
    "           'ps_cmo_network_pvs', 'ps_entrepreneurs_pvs', 'ps_forbeswomen_pvs',\n",
    "           'ps_leadership_strategy_pvs', 'ps_venture_capital_pvs',\n",
    "           't1_business_and_finance_top', 't1_news_and_politics_top',\n",
    "           'weekend_pvs', 'weekday_pvs', 'weekend_top', 'weekday_top',\n",
    "           'business_hours_pvs', 'non_business_hours_pvs', 'business_hours_top',\n",
    "           'non_business_hours_top', 'monday_top', 'saturday_top', 'sunday_top',\n",
    "           'thursday_top', 'tuesday_top', 'wednesday_top', 'friday_top']\n",
    "\n",
    "len(rf_feat)"
   ]
  },
  {
   "cell_type": "code",
   "execution_count": 9,
   "id": "49982738",
   "metadata": {},
   "outputs": [],
   "source": [
    "# WIN - all major categoricals observed during EDA are included as selected features - \n",
    "\n",
    "feat_selected = sorted(set(boruta_shap_feats + rf_feat))"
   ]
  },
  {
   "cell_type": "code",
   "execution_count": 10,
   "id": "13e88653",
   "metadata": {},
   "outputs": [
    {
     "name": "stdout",
     "output_type": "stream",
     "text": [
      "['bounce_rate', 'business_hours_pvs', 'business_hours_top', 'content_views_rate', 'ct_united_states', 'friday_top', 'monday_top', 'non_business_hours_pvs', 'non_business_hours_top', 'pc_billionaires_pvs', 'pc_business_pvs', 'pc_home_pvs', 'pc_innovation_pvs', 'pc_leadership_pvs', 'pc_lifestyle_pvs', 'pc_money_pvs', 'pc_small_business_pvs', 'ps_careers_pvs', 'ps_cmo_network_pvs', 'ps_consumer_tech_pvs', 'ps_crypto_and_blockchain_pvs', 'ps_cybersecurity_pvs', 'ps_entrepreneurs_pvs', 'ps_forbeswomen_pvs', 'ps_games_pvs', 'ps_healthcare_pvs', 'ps_investing_pvs', 'ps_leadership_strategy_pvs', 'ps_personal_finance_pvs', 'ps_policy_pvs', 'ps_sportsmoney_pvs', 'ps_taxes_pvs', 'ps_venture_capital_pvs', 'rf_content_aggregators', 'rf_direct', 'rf_newsletter', 'rf_organic_search', 'rf_organic_social_dark', 'rf_organic_social_forbes', 'rf_push_notification', 'rf_referral', 'saturday_top', 'session_pvs_mean', 'session_top_mean', 'sunday_top', 't1_business_and_finance_pvs', 't1_business_and_finance_top', 't1_movies_pvs', 't1_news_and_politics_top', 't2_industries_pvs', 't2_pc_games_pvs', 't2_personal_investing_pvs', 'thursday_top', 'tuesday_top', 'wednesday_top', 'weekday_pvs', 'weekday_top', 'weekend_pvs', 'weekend_top']\n"
     ]
    }
   ],
   "source": [
    "print((feat_selected))"
   ]
  },
  {
   "cell_type": "code",
   "execution_count": 11,
   "id": "0cd5a4f5",
   "metadata": {},
   "outputs": [
    {
     "name": "stdout",
     "output_type": "stream",
     "text": [
      "59 \n",
      "\n"
     ]
    }
   ],
   "source": [
    "# final selection after eye-balling minus device cols\n",
    "\n",
    "feat_selected = ['bounce_rate', 'business_hours_pvs', 'business_hours_top', 'content_views_rate', 'ct_united_states', \n",
    "                 'friday_top', 'monday_top', 'non_business_hours_pvs', 'non_business_hours_top', 'pc_billionaires_pvs', \n",
    "                 'pc_business_pvs', 'pc_home_pvs', 'pc_innovation_pvs', 'pc_leadership_pvs', 'pc_lifestyle_pvs', 'pc_money_pvs', \n",
    "                 'pc_small_business_pvs', 'ps_careers_pvs', 'ps_cmo_network_pvs', 'ps_consumer_tech_pvs', 'ps_crypto_and_blockchain_pvs', \n",
    "                 'ps_cybersecurity_pvs', 'ps_entrepreneurs_pvs', 'ps_forbeswomen_pvs', 'ps_games_pvs', 'ps_healthcare_pvs', \n",
    "                 'ps_investing_pvs', 'ps_leadership_strategy_pvs', 'ps_personal_finance_pvs', 'ps_policy_pvs', 'ps_sportsmoney_pvs', \n",
    "                 'ps_taxes_pvs', 'ps_venture_capital_pvs', 'rf_content_aggregators', 'rf_direct', 'rf_newsletter', 'rf_organic_search', \n",
    "                 'rf_organic_social_dark', 'rf_organic_social_forbes', 'rf_push_notification', 'rf_referral', 'saturday_top', \n",
    "                 'session_pvs_mean', 'session_top_mean', 'sunday_top', 't1_business_and_finance_pvs', 't1_business_and_finance_top', \n",
    "                 't1_movies_pvs', 't1_news_and_politics_top', 't2_industries_pvs', 't2_pc_games_pvs', 't2_personal_investing_pvs', \n",
    "                 'thursday_top', 'tuesday_top', 'wednesday_top', 'weekday_pvs', 'weekday_top', 'weekend_pvs', 'weekend_top']\n",
    "\n",
    "print(len(feat_selected), \"\\n\")"
   ]
  },
  {
   "cell_type": "code",
   "execution_count": 13,
   "id": "45533856",
   "metadata": {},
   "outputs": [],
   "source": [
    "# joblib.dump(feat_selected, \"./pv1_files/pv1_feat_selected.joblib\")"
   ]
  },
  {
   "cell_type": "code",
   "execution_count": 12,
   "id": "652ffa2e",
   "metadata": {},
   "outputs": [
    {
     "name": "stdout",
     "output_type": "stream",
     "text": [
      "before FS:  (354550, 549)\n",
      "\n",
      "After FS: (354550, 59)\n"
     ]
    }
   ],
   "source": [
    "print(\"before FS: \", X_train.shape)\n",
    "\n",
    "# update train sets with fs cols\n",
    "X_train = X_train[feat_selected] \n",
    "\n",
    "print()\n",
    "print(\"After FS:\", X_train.shape)"
   ]
  },
  {
   "cell_type": "markdown",
   "id": "318796fc",
   "metadata": {},
   "source": [
    "**Treatment 3** - Normalize rows for categorical cols\n",
    "\n",
    "* Normalize categorical columns\n",
    "    * For training pipeline, features such as tier 1 sum(pvs) were calculated using users' 10 months of data. In prediction pipeline, sum(pvs) may be summed over 90 days only. This creates difference in distribution in feature tier1 (sum pvs). \n",
    "        * To counter - normalize so everything is on same scale. I.e. for a person 20 pvs in busi 50 in games will be normalized to 0.29 in busi and 0.71 in busi<br><br>\n",
    "        \n",
    "    * Since we feature selected already, we won't need to not waste time in normalize all 600+ features but only the selected ones\n",
    "  \n",
    " **Note:** - After this treatment columns will be treated as numerical columns - since they were normalized and converted to numbers    "
   ]
  },
  {
   "cell_type": "code",
   "execution_count": 13,
   "id": "caba8abd",
   "metadata": {},
   "outputs": [
    {
     "name": "stdout",
     "output_type": "stream",
     "text": [
      "48\n",
      "4\n"
     ]
    }
   ],
   "source": [
    "# define col names\n",
    "\n",
    "t1_pv_cols =        [col for col in X_train.columns if ('t1_' in col) & ('_pvs' in col)]\n",
    "t1_top_cols =       [col for col in X_train.columns if ('t1_' in col) & ('_top' in col)]\n",
    "t2_pv_cols =        [col for col in X_train.columns if 't2_' in col]\n",
    "pc_cols =           [col for col in X_train.columns if 'pc_' in col]\n",
    "ps_cols =           [col for col in X_train.columns if 'ps_' in col]\n",
    "deviceos_cols =     [col for col in X_train.columns if 'dos_' in col]\n",
    "referral_cols =     [col for col in X_train.columns if 'rf_' in col]\n",
    "country_cols =      [col for col in X_train.columns if 'ct_' in col]\n",
    "\n",
    "wk_pv_cols =        [col for col in X_train.columns if ('week' in col) & ('_pvs' in col)]\n",
    "wk_top_cols =       [col for col in X_train.columns if ('week' in col) & ('_top' in col)]\n",
    "busi_pv_cols =      [col for col in X_train.columns if ('business_hours' in col) & ('_pvs' in col)]\n",
    "busi_top_cols =     [col for col in X_train.columns if ('business_hours' in col) & ('_top' in col)]\n",
    "dom_cols =          [col for col in X_train.columns if 'day_of_mon_' in col] \n",
    "hour_cols =         [col for col in X_train.columns if 'hour_' in col] \n",
    "minute_cols =       [col for col in X_train.columns if 'minute_' in col]\n",
    "\n",
    "# remove mis-assigned ones\n",
    "pc_cols.remove('t2_pc_games_pvs')\n",
    "\n",
    "categorical_cols = (t1_pv_cols +  t1_top_cols + t2_pv_cols + pc_cols + ps_cols + deviceos_cols + referral_cols + country_cols +\n",
    "                    wk_pv_cols + wk_top_cols + busi_pv_cols + busi_top_cols + dom_cols + hour_cols + minute_cols \n",
    "                   )\n",
    "\n",
    "print(len(categorical_cols))\n",
    "\n",
    "numerical_cols = ['session_pvs_mean', 'session_top_mean', 'bounce_rate', 'content_views_rate']\n",
    "\n",
    "print(len(numerical_cols))"
   ]
  },
  {
   "cell_type": "code",
   "execution_count": 14,
   "id": "5129ec15",
   "metadata": {},
   "outputs": [],
   "source": [
    "from sklearn.preprocessing import normalize\n",
    "\n",
    "# calc % of pvs in respective category instead of using actual sum(pvs) magnitude\n",
    "\n",
    "def train_normalize_pvs(col_list):\n",
    "    X_train[col_list] = normalize(X_train[col_list], norm='l1', axis=1)\n",
    "    \n",
    "train_normalize_pvs(t1_pv_cols)\n",
    "train_normalize_pvs(t2_pv_cols)\n",
    "train_normalize_pvs(pc_cols)\n",
    "train_normalize_pvs(ps_cols)\n",
    "train_normalize_pvs(referral_cols)\n",
    "train_normalize_pvs(country_cols)\n",
    "train_normalize_pvs(wk_pv_cols)"
   ]
  },
  {
   "cell_type": "markdown",
   "id": "76419010",
   "metadata": {},
   "source": [
    "**Treatment 4** - Scale features"
   ]
  },
  {
   "cell_type": "code",
   "execution_count": 15,
   "id": "2f6a9757",
   "metadata": {},
   "outputs": [
    {
     "data": {
      "text/plain": [
       "59"
      ]
     },
     "execution_count": 15,
     "metadata": {},
     "output_type": "execute_result"
    }
   ],
   "source": [
    "col_list = X_train.columns\n",
    "len(col_list)"
   ]
  },
  {
   "cell_type": "code",
   "execution_count": 16,
   "id": "c0914df0",
   "metadata": {},
   "outputs": [],
   "source": [
    "# FEATURE SCALING\n",
    "\n",
    "scaler = StandardScaler()\n",
    "\n",
    "# fit_transform on training set\n",
    "X_train = pd.DataFrame(scaler.fit_transform(X_train), columns = col_list)"
   ]
  },
  {
   "cell_type": "code",
   "execution_count": 17,
   "id": "94223bdc",
   "metadata": {},
   "outputs": [],
   "source": [
    "# joblib.dump(scaler, \"./pv1_files/pv1_scaler.joblib\")"
   ]
  },
  {
   "cell_type": "markdown",
   "id": "f42e4fa3",
   "metadata": {},
   "source": [
    "### Apply treatments/transformations on val and test sets"
   ]
  },
  {
   "cell_type": "code",
   "execution_count": 18,
   "id": "749f029b",
   "metadata": {},
   "outputs": [],
   "source": [
    "# val\n",
    "X_val = val_df.iloc[:, :-1]\n",
    "y_val = val_df[\"subscription_status\"]\n",
    "\n",
    "# test\n",
    "X_test = test_df.iloc[:, :-1]\n",
    "y_test = test_df[\"subscription_status\"]"
   ]
  },
  {
   "cell_type": "code",
   "execution_count": 19,
   "id": "30a4b0c4",
   "metadata": {},
   "outputs": [
    {
     "data": {
      "text/plain": [
       "59"
      ]
     },
     "execution_count": 19,
     "metadata": {},
     "output_type": "execute_result"
    }
   ],
   "source": [
    "len(col_list)"
   ]
  },
  {
   "cell_type": "code",
   "execution_count": 20,
   "id": "f11df9bc",
   "metadata": {},
   "outputs": [
    {
     "name": "stdout",
     "output_type": "stream",
     "text": [
      "before FS:  (75975, 561)\n",
      "\n",
      "After FS: (75975, 59)\n"
     ]
    }
   ],
   "source": [
    "# val set\n",
    "\n",
    "print(\"before FS: \", X_val.shape)\n",
    "\n",
    "# ---FEATURE SELECT---\n",
    "X_val = X_val[feat_selected]\n",
    "\n",
    "print()\n",
    "print(\"After FS:\", X_val.shape)\n",
    "\n",
    "# ---NORMALIZE---\n",
    "def val_normalize_pvs(col_list):\n",
    "    X_val[col_list] = normalize(X_val[col_list], norm='l1', axis=1)\n",
    "\n",
    "val_normalize_pvs(t1_pv_cols)\n",
    "val_normalize_pvs(t2_pv_cols)\n",
    "val_normalize_pvs(pc_cols)\n",
    "val_normalize_pvs(ps_cols)\n",
    "val_normalize_pvs(referral_cols)\n",
    "val_normalize_pvs(country_cols)\n",
    "val_normalize_pvs(wk_pv_cols)\n",
    "\n",
    "# ---SCALE---\n",
    "X_val = pd.DataFrame(scaler.transform(X_val), columns = col_list)"
   ]
  },
  {
   "cell_type": "code",
   "execution_count": 21,
   "id": "4ce909bd",
   "metadata": {},
   "outputs": [
    {
     "name": "stdout",
     "output_type": "stream",
     "text": [
      "before FS:  (75975, 561)\n",
      "\n",
      "After FS: (75975, 59)\n"
     ]
    }
   ],
   "source": [
    "# test set\n",
    "\n",
    "print(\"before FS: \", X_test.shape)\n",
    "\n",
    "# ---FEATURE SELECT---\n",
    "X_test = X_test[feat_selected]\n",
    "\n",
    "print()\n",
    "print(\"After FS:\", X_test.shape)\n",
    "\n",
    "# ---NORMALIZE---\n",
    "def test_normalize_pvs(col_list):\n",
    "    X_test[col_list] = normalize(X_test[col_list], norm='l1', axis=1)\n",
    "\n",
    "test_normalize_pvs(t1_pv_cols)\n",
    "test_normalize_pvs(t2_pv_cols)\n",
    "test_normalize_pvs(pc_cols)\n",
    "test_normalize_pvs(ps_cols)\n",
    "test_normalize_pvs(referral_cols)\n",
    "test_normalize_pvs(country_cols)\n",
    "test_normalize_pvs(wk_pv_cols)\n",
    "\n",
    "# ---SCALE---\n",
    "X_test = pd.DataFrame(scaler.transform(X_test), columns = col_list)"
   ]
  },
  {
   "cell_type": "markdown",
   "id": "a87ae1c3",
   "metadata": {},
   "source": [
    "### Model benchmarking"
   ]
  },
  {
   "cell_type": "code",
   "execution_count": 22,
   "id": "d1136fb0",
   "metadata": {},
   "outputs": [],
   "source": [
    "scoring='f1_weighted'\n",
    "\n",
    "skf = StratifiedKFold(n_splits = 10, \n",
    "                      shuffle=True,\n",
    "                      random_state = SEED)\n",
    "\n",
    "sss = StratifiedShuffleSplit(n_splits = 5, \n",
    "                             test_size = 0.2, \n",
    "                             random_state = SEED) "
   ]
  },
  {
   "cell_type": "markdown",
   "id": "a38984d8",
   "metadata": {},
   "source": [
    "* **LGBM**\n",
    "    * Scaled, Normalized feature values\n",
    "    * Feature selected\n",
    "    * Imbalanced dataset\n",
    "    * cross-val strategy - StratifiedShuffleSplit"
   ]
  },
  {
   "cell_type": "code",
   "execution_count": 23,
   "id": "18f6ee8b",
   "metadata": {},
   "outputs": [
    {
     "name": "stdout",
     "output_type": "stream",
     "text": [
      "[0.9811681  0.97972008 0.98078149 0.98007467 0.98062243]\n",
      "LGBM base score is 0.98\n"
     ]
    }
   ],
   "source": [
    "model = lgb.LGBMClassifier(random_state=SEED, \n",
    "                           is_unbalance=True) # is_unbalance because train data is imbalanced\n",
    "\n",
    "model = Pipeline(\n",
    "    steps=[\n",
    "        ('model', model)\n",
    "    ]\n",
    ")\n",
    "\n",
    "lgbm_base_score = cross_val_score(\n",
    "    model,\n",
    "    X_train,\n",
    "    y_train,\n",
    "    cv=sss,\n",
    "    n_jobs=-1,\n",
    "    scoring=scoring\n",
    ")\n",
    "\n",
    "print(lgbm_base_score)\n",
    "print(\"LGBM base score is\", round(np.mean(lgbm_base_score), 2))"
   ]
  },
  {
   "cell_type": "markdown",
   "id": "f04556c3",
   "metadata": {},
   "source": [
    "* **LGBM**\n",
    "    * Scaled, Normalized feature values\n",
    "    * Feature selected\n",
    "    * Imbalanced dataset\n",
    "    * cross-val strategy - StratifiedKFold w/ shuffle=True"
   ]
  },
  {
   "cell_type": "code",
   "execution_count": 24,
   "id": "4eada6d8",
   "metadata": {},
   "outputs": [
    {
     "name": "stdout",
     "output_type": "stream",
     "text": [
      "[0.98084646 0.98047847 0.98044059 0.9815824  0.98117131 0.98085535\n",
      " 0.98000098 0.97993721 0.98079042 0.98092694]\n",
      "LGBM base score is 0.98\n"
     ]
    }
   ],
   "source": [
    "model = lgb.LGBMClassifier(random_state=SEED, \n",
    "                           is_unbalance=True) # is_unbalance because train data is imbalanced\n",
    "\n",
    "model = Pipeline(\n",
    "    steps=[\n",
    "        ('model', model)\n",
    "    ]\n",
    ")\n",
    "\n",
    "lgbm_base_score = cross_val_score(\n",
    "    model,\n",
    "    X_train,\n",
    "    y_train,\n",
    "    cv=skf,\n",
    "    n_jobs=-1,\n",
    "    scoring=scoring\n",
    ")\n",
    "\n",
    "print(lgbm_base_score)\n",
    "print(\"LGBM base score is\", round(np.mean(lgbm_base_score), 2))"
   ]
  },
  {
   "cell_type": "markdown",
   "id": "9cc491a9",
   "metadata": {},
   "source": [
    "* Observations:\n",
    "    * Weighted-f1 gone down from 99 to 98\n",
    "    * Precision gone down from 96 to 89\n",
    "    * Recall gone down from 98 to 97\n",
    "    * Very similar performance on val and test sets\n",
    "<br><br>\n",
    "* Pred on val set"
   ]
  },
  {
   "cell_type": "code",
   "execution_count": 25,
   "id": "b534a49b",
   "metadata": {},
   "outputs": [
    {
     "name": "stdout",
     "output_type": "stream",
     "text": [
      "                precision    recall  f1-score   support\n",
      "\n",
      "Non-subscriber       0.99      0.98      0.99     61441\n",
      "    subscriber       0.93      0.97      0.95     14534\n",
      "\n",
      "      accuracy                           0.98     75975\n",
      "     macro avg       0.96      0.98      0.97     75975\n",
      "  weighted avg       0.98      0.98      0.98     75975\n",
      "\n"
     ]
    },
    {
     "data": {
      "text/plain": [
       "<sklearn.metrics._plot.confusion_matrix.ConfusionMatrixDisplay at 0x7fd743857590>"
      ]
     },
     "execution_count": 25,
     "metadata": {},
     "output_type": "execute_result"
    },
    {
     "data": {
      "image/png": "[encoded data removed]",
      "text/plain": [
       "<Figure size 432x288 with 2 Axes>"
      ]
     },
     "metadata": {
      "needs_background": "light"
     },
     "output_type": "display_data"
    }
   ],
   "source": [
    "model.fit(X_train, y_train)\n",
    "\n",
    "y_pred = model.predict(X_val)\n",
    "\n",
    "print(classification_report(y_val, \n",
    "                            y_pred, \n",
    "                            target_names = ['Non-subscriber', 'subscriber']))\n",
    "\n",
    "plot_confusion_matrix(estimator=model, \n",
    "                      X=X_val, \n",
    "                      y_true=y_val, \n",
    "                      cmap='Blues'\n",
    "                     )"
   ]
  },
  {
   "cell_type": "markdown",
   "id": "f528c640",
   "metadata": {},
   "source": [
    "* Pred on test set"
   ]
  },
  {
   "cell_type": "code",
   "execution_count": 26,
   "id": "13c1d87e",
   "metadata": {},
   "outputs": [
    {
     "name": "stdout",
     "output_type": "stream",
     "text": [
      "                precision    recall  f1-score   support\n",
      "\n",
      "Non-subscriber       0.99      0.98      0.99     61441\n",
      "    subscriber       0.93      0.97      0.95     14534\n",
      "\n",
      "      accuracy                           0.98     75975\n",
      "     macro avg       0.96      0.98      0.97     75975\n",
      "  weighted avg       0.98      0.98      0.98     75975\n",
      "\n"
     ]
    },
    {
     "data": {
      "text/plain": [
       "<sklearn.metrics._plot.confusion_matrix.ConfusionMatrixDisplay at 0x7fd747808b90>"
      ]
     },
     "execution_count": 26,
     "metadata": {},
     "output_type": "execute_result"
    },
    {
     "data": {
      "image/png": "[encoded data removed]",
      "text/plain": [
       "<Figure size 432x288 with 2 Axes>"
      ]
     },
     "metadata": {
      "needs_background": "light"
     },
     "output_type": "display_data"
    }
   ],
   "source": [
    "y_test_pred = model.predict(X_test)\n",
    "\n",
    "print(classification_report(y_test, \n",
    "                            y_test_pred, \n",
    "                            target_names = ['Non-subscriber', 'subscriber']))\n",
    "\n",
    "plot_confusion_matrix(estimator=model, \n",
    "                      X=X_test, \n",
    "                      y_true=y_test, \n",
    "                      cmap='Blues'\n",
    "                     )"
   ]
  },
  {
   "cell_type": "markdown",
   "id": "c4233902",
   "metadata": {},
   "source": [
    "* **Precision** - imp if we dont want a lot of false positives\n",
    "* **Recall** - imp if we dont want to miss out on subscribers\n",
    "    * We'll give a bit more importance to recall"
   ]
  },
  {
   "cell_type": "code",
   "execution_count": 27,
   "id": "3f070a20",
   "metadata": {},
   "outputs": [
    {
     "name": "stdout",
     "output_type": "stream",
     "text": [
      "Result: precision=0.932, recall=0.971, f2-beta=0.963\n"
     ]
    }
   ],
   "source": [
    "# calculate the f2-measure\n",
    "\n",
    "p = precision_score(y_val, \n",
    "                    y_pred)\n",
    "\n",
    "r = recall_score(y_val, \n",
    "                 y_pred)\n",
    "\n",
    "f = fbeta_score(y_val, \n",
    "                y_pred, \n",
    "                beta=2.0) # beta = 2 lowers the importance of precision and increase the importance of recall.\n",
    "\n",
    "print('Result: precision=%.3f, recall=%.3f, f2-beta=%.3f' % (p, r, f))"
   ]
  },
  {
   "cell_type": "markdown",
   "id": "becc123f",
   "metadata": {},
   "source": [
    "* XGB Observations:\n",
    "    * f1 for subscribers gone down from 98 to 95.\n",
    "    * Overall f1-weighted gone down from 99 to 98"
   ]
  },
  {
   "cell_type": "code",
   "execution_count": 28,
   "id": "daf54470",
   "metadata": {},
   "outputs": [
    {
     "name": "stdout",
     "output_type": "stream",
     "text": [
      "[15:04:30] WARNING: ../src/learner.cc:1115: Starting in XGBoost 1.3.0, the default evaluation metric used with the objective 'binary:logistic' was changed from 'error' to 'logloss'. Explicitly set eval_metric if you'd like to restore the old behavior.\n",
      "                precision    recall  f1-score   support\n",
      "\n",
      "non_subscriber       0.99      0.99      0.99     61441\n",
      "    subscriber       0.96      0.96      0.96     14534\n",
      "\n",
      "      accuracy                           0.99     75975\n",
      "     macro avg       0.98      0.98      0.98     75975\n",
      "  weighted avg       0.99      0.99      0.99     75975\n",
      "\n"
     ]
    },
    {
     "data": {
      "text/plain": [
       "<AxesSubplot:>"
      ]
     },
     "execution_count": 28,
     "metadata": {},
     "output_type": "execute_result"
    },
    {
     "data": {
      "image/png": "[encoded data removed]",
      "text/plain": [
       "<Figure size 432x288 with 2 Axes>"
      ]
     },
     "metadata": {},
     "output_type": "display_data"
    }
   ],
   "source": [
    "from xgboost import XGBClassifier\n",
    "from sklearn.metrics import classification_report, confusion_matrix\n",
    "\n",
    "import seaborn as sns\n",
    "sns.set_style('darkgrid')\n",
    "\n",
    "# set scale_pos_weight, max_delta_step because dataset is imbalanced \n",
    "\n",
    "xgb_imb = XGBClassifier(max_delta_step = 1,  \n",
    "                        random_state=SEED, \n",
    "                        scale_pos_weight=2)\n",
    "\n",
    "xgb_imb.fit(X_train, y_train)\n",
    "\n",
    "xgb_imb_pred = xgb_imb.predict(X_val)\n",
    "\n",
    "print(classification_report(y_val, xgb_imb_pred, target_names = ['non_subscriber', 'subscriber']))\n",
    "\n",
    "# Whats going on with xgb\n",
    "\n",
    "sns.heatmap(confusion_matrix(y_val, xgb_imb_pred), annot=True, fmt='g')"
   ]
  },
  {
   "cell_type": "code",
   "execution_count": null,
   "id": "7c41202d",
   "metadata": {},
   "outputs": [],
   "source": []
  },
  {
   "cell_type": "markdown",
   "id": "b9f48edb",
   "metadata": {},
   "source": [
    "**Treatment 5** - Sampling for balancing dataset"
   ]
  },
  {
   "cell_type": "code",
   "execution_count": 29,
   "id": "b3fdae46",
   "metadata": {},
   "outputs": [
    {
     "name": "stdout",
     "output_type": "stream",
     "text": [
      "Distribution in train set:\n",
      "0    286723\n",
      "1     67827\n",
      "Name: subscription_status, dtype: int64\n"
     ]
    }
   ],
   "source": [
    "print(\"Distribution in train set:\")\n",
    "print(y_train.value_counts())"
   ]
  },
  {
   "cell_type": "code",
   "execution_count": 30,
   "id": "b49456dd",
   "metadata": {},
   "outputs": [
    {
     "name": "stdout",
     "output_type": "stream",
     "text": [
      "Distribution in val set:\n",
      "0    61441\n",
      "1    14534\n",
      "Name: subscription_status, dtype: int64\n"
     ]
    }
   ],
   "source": [
    "print(\"Distribution in val set:\")\n",
    "print(y_val.value_counts())"
   ]
  },
  {
   "cell_type": "code",
   "execution_count": 31,
   "id": "50e9408c",
   "metadata": {},
   "outputs": [
    {
     "name": "stdout",
     "output_type": "stream",
     "text": [
      "Distribution in test set:\n",
      "0    61441\n",
      "1    14534\n",
      "Name: subscription_status, dtype: int64\n"
     ]
    }
   ],
   "source": [
    "print(\"Distribution in test set:\")\n",
    "print(y_test.value_counts())"
   ]
  },
  {
   "cell_type": "markdown",
   "id": "5867dffd",
   "metadata": {},
   "source": [
    "* over then under - hybrid sampling"
   ]
  },
  {
   "cell_type": "code",
   "execution_count": 32,
   "id": "acaaa1e5",
   "metadata": {},
   "outputs": [],
   "source": [
    "from imblearn.over_sampling import RandomOverSampler\n",
    "from imblearn.under_sampling import RandomUnderSampler"
   ]
  },
  {
   "cell_type": "code",
   "execution_count": 33,
   "id": "e1039858",
   "metadata": {},
   "outputs": [
    {
     "name": "stdout",
     "output_type": "stream",
     "text": [
      "Oversampled \n",
      " 0    286723\n",
      "1    143361\n",
      "Name: subscription_status, dtype: int64\n"
     ]
    }
   ],
   "source": [
    "over = RandomOverSampler(sampling_strategy=0.5)\n",
    "under = RandomUnderSampler(sampling_strategy=0.9) \n",
    "\n",
    "# first performing oversampling on minority class\n",
    "X_over, y_over = over.fit_resample(X_train, y_train)\n",
    "\n",
    "y_over = pd.Series(y_over)\n",
    "print(\"Oversampled \\n\", y_over.value_counts())\n",
    "\n",
    "# now combine undersampling \n",
    "X_combined_sampling, y_combined_sampling = under.fit_resample(X_over, y_over)"
   ]
  },
  {
   "cell_type": "code",
   "execution_count": 34,
   "id": "bbe017e9",
   "metadata": {},
   "outputs": [
    {
     "name": "stdout",
     "output_type": "stream",
     "text": [
      "After Combined Sampling - Distribution in train set::\n",
      "0    159290\n",
      "1    143361\n",
      "Name: subscription_status, dtype: int64\n",
      "0   0.5\n",
      "1   0.5\n",
      "Name: subscription_status, dtype: float64\n"
     ]
    }
   ],
   "source": [
    "# convert back to dataframe\n",
    "Xtrain_combo = pd.DataFrame(X_combined_sampling, columns = X_train.columns)\n",
    "ytrain_combo = pd.Series(y_combined_sampling)\n",
    "\n",
    "# name the series\n",
    "ytrain_combo.name = \"subscription_status\"\n",
    "\n",
    "print(\"After Combined Sampling - Distribution in train set::\")\n",
    "\n",
    "print(ytrain_combo.value_counts())\n",
    "\n",
    "print(ytrain_combo.value_counts(normalize=True))"
   ]
  },
  {
   "cell_type": "code",
   "execution_count": 35,
   "id": "a3c67d4f",
   "metadata": {},
   "outputs": [
    {
     "name": "stdout",
     "output_type": "stream",
     "text": [
      "(302651, 59) (75975, 59) (75975, 59)\n",
      "Distribution in val set:\n",
      "0    61441\n",
      "1    14534\n",
      "Name: subscription_status, dtype: int64\n",
      "Distribution in test set:\n",
      "0    61441\n",
      "1    14534\n",
      "Name: subscription_status, dtype: int64\n"
     ]
    }
   ],
   "source": [
    "print(Xtrain_combo.shape, X_val.shape, X_test.shape)\n",
    "\n",
    "print(\"Distribution in val set:\")\n",
    "\n",
    "# distribution untouched\n",
    "\n",
    "print(y_val.value_counts())\n",
    "\n",
    "print(\"Distribution in test set:\")\n",
    "\n",
    "# distribution untouched\n",
    "\n",
    "print(y_test.value_counts())"
   ]
  },
  {
   "cell_type": "code",
   "execution_count": 36,
   "id": "af8164d1",
   "metadata": {},
   "outputs": [],
   "source": [
    "train_transformed = Xtrain_combo.join(ytrain_combo)\n",
    "val_transformed = X_val.join(y_val)\n",
    "test_transformed = X_test.join(y_test)"
   ]
  },
  {
   "cell_type": "code",
   "execution_count": 37,
   "id": "ff2bf024",
   "metadata": {},
   "outputs": [],
   "source": [
    "# train_transformed.to_csv(\"./pv1_files/pv1_train_transformed_01072022.csv\", index=False)\n",
    "\n",
    "# val_transformed.to_csv(\"./pv1_files/pv1_val_transformed_01072022.csv\", index=False)\n",
    "\n",
    "# test_transformed.to_csv(\"./pv1_files/pv1_test_transformed_01072022.csv\", index=False)"
   ]
  },
  {
   "cell_type": "code",
   "execution_count": null,
   "id": "bebf98d4",
   "metadata": {},
   "outputs": [],
   "source": []
  },
  {
   "cell_type": "code",
   "execution_count": null,
   "id": "a381148a",
   "metadata": {},
   "outputs": [],
   "source": []
  }
 ],
 "metadata": {
  "environment": {
   "name": "tf2-gpu.2-6.m79",
   "type": "gcloud",
   "uri": "gcr.io/deeplearning-platform-release/tf2-gpu.2-6:m79"
  },
  "kernelspec": {
   "display_name": "subscribers",
   "language": "python",
   "name": "subscribers"
  },
  "language_info": {
   "codemirror_mode": {
    "name": "ipython",
    "version": 3
   },
   "file_extension": ".py",
   "mimetype": "text/x-python",
   "name": "python",
   "nbconvert_exporter": "python",
   "pygments_lexer": "ipython3",
   "version": "3.7.10"
  }
 },
 "nbformat": 4,
 "nbformat_minor": 5
}
