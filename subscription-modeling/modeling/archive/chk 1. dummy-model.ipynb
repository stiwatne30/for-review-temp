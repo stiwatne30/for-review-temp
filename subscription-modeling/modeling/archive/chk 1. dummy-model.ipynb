{
 "cells": [
  {
   "cell_type": "markdown",
   "id": "3e7c5c24",
   "metadata": {},
   "source": [
    "## Description:\n",
    "\n",
    "This file contains:\n",
    "* target variable encoding\n",
    "* fill na, drop unnecessary cols\n",
    "* make train-val-test sets\n",
    "* dummy model (all features)\n",
    "* LGBM (all features)"
   ]
  },
  {
   "cell_type": "code",
   "execution_count": 1,
   "id": "5267a6a2",
   "metadata": {},
   "outputs": [],
   "source": [
    "'''Helper''' \n",
    "import pandas as pd\n",
    "pd.set_option('display.float_format', lambda x: '%.1f' % x)\n",
    "import numpy as np\n",
    "import time\n",
    "import joblib\n",
    "\n",
    "'''Pre-processing'''\n",
    "from sklearn.pipeline import Pipeline\n",
    "from sklearn.preprocessing import StandardScaler, RobustScaler\n",
    "\n",
    "'''Modeling'''\n",
    "import lightgbm as lgb\n",
    "from sklearn.dummy import DummyClassifier\n",
    "from sklearn.model_selection import (train_test_split,\n",
    "                                     cross_val_score, \n",
    "                                     StratifiedKFold,\n",
    "                                     StratifiedShuffleSplit)\n",
    "from sklearn.metrics import classification_report, plot_confusion_matrix\n",
    "\n",
    "\n",
    "'''GCS Utils'''\n",
    "from gcs_utils import upload_serialized_file, upload_csv_file, download_file\n",
    "\n",
    "import warnings\n",
    "warnings.filterwarnings('ignore')\n",
    "\n",
    "'''BQ'''\n",
    "import google.auth\n",
    "from google.cloud import bigquery\n",
    "from google.cloud import bigquery_storage\n",
    "\n",
    "bqclient = bigquery.Client()\n",
    "bqstorageclient = bigquery_storage.BigQueryReadClient()\n",
    "\n",
    "SEED=42"
   ]
  },
  {
   "cell_type": "code",
   "execution_count": 2,
   "id": "383f96e6",
   "metadata": {},
   "outputs": [],
   "source": [
    "BUCKET_NAME = 'bi-subscription-modeling'\n",
    "BUCKET_FOLDER = 'train-val-data'\n",
    "file_name = 'training_data_11192021.csv'\n",
    "\n",
    "download_file(BUCKET_NAME, \n",
    "              BUCKET_FOLDER, \n",
    "              file_name) "
   ]
  },
  {
   "cell_type": "markdown",
   "id": "b9a6a0d4",
   "metadata": {},
   "source": [
    "### Training Data - Features\n",
    "\n",
    "**Numerical Features**\n",
    "1. User metrics\n",
    "    * unique pageviews per session (avg, median)\n",
    "    * timeOnPage per session (avg, median) <br><br>\n",
    "2. Session metrics\n",
    "    * bounceRate  <br><br>\n",
    "3. Content metrics\n",
    "    * contentViewsRate (contentViews / pageViews) <br>\n",
    "\n",
    "**Categorical Features**\n",
    "1. Content categories \n",
    "    * Sum pvs - Tier1, Tier2, Primary Channel, Primary Section\n",
    "    * Avg. top - Tier1 <br><br>\n",
    "2. Timestamp features: \n",
    "\n",
    "    * Weekday vs Weekend \n",
    "        * Sum pvs & avg. top\n",
    "    * Business Hours vs Non-Business Hours *(Differentiated by US and other countries)*\n",
    "        * Sum pvs & avg. top\n",
    "    * Day of week\n",
    "        * avg. top\n",
    "    * Day of month\n",
    "        * avg. top\n",
    "    * Hourly *(Differentiated by US and other countries)*\n",
    "        * avg. top\n",
    "    * Minute *(Differentiated by US and other countries)*\n",
    "        * avg. top<br><br>\n",
    "3. Device OS - Sum pvs\n",
    "4. Referral source - Sum pvs\n",
    "5. Countries - Sum pvs<br><br>"
   ]
  },
  {
   "cell_type": "code",
   "execution_count": 3,
   "id": "1a264ea6",
   "metadata": {},
   "outputs": [
    {
     "name": "stdout",
     "output_type": "stream",
     "text": [
      "(507937, 627)\n",
      "[0]\n"
     ]
    },
    {
     "data": {
      "text/plain": [
       "float64    623\n",
       "object       2\n",
       "int64        2\n",
       "dtype: int64"
      ]
     },
     "execution_count": 3,
     "metadata": {},
     "output_type": "execute_result"
    }
   ],
   "source": [
    "# read training data\n",
    "\n",
    "df = pd.read_csv('training_data_11192021.csv', dtype={'ga_fullvisitorid': object})\n",
    "\n",
    "print(df.shape)\n",
    "print(df.isna().sum().unique())\n",
    "df.dtypes.value_counts()"
   ]
  },
  {
   "cell_type": "code",
   "execution_count": 4,
   "id": "7616a212",
   "metadata": {},
   "outputs": [
    {
     "data": {
      "text/html": [
       "<div>\n",
       "<style scoped>\n",
       "    .dataframe tbody tr th:only-of-type {\n",
       "        vertical-align: middle;\n",
       "    }\n",
       "\n",
       "    .dataframe tbody tr th {\n",
       "        vertical-align: top;\n",
       "    }\n",
       "\n",
       "    .dataframe thead th {\n",
       "        text-align: right;\n",
       "    }\n",
       "</style>\n",
       "<table border=\"1\" class=\"dataframe\">\n",
       "  <thead>\n",
       "    <tr style=\"text-align: right;\">\n",
       "      <th></th>\n",
       "      <th>ga_fullvisitorid</th>\n",
       "      <th>session_pvs_mean</th>\n",
       "      <th>session_pvs_median</th>\n",
       "      <th>session_top_mean</th>\n",
       "      <th>session_top_median</th>\n",
       "      <th>bounce_rate</th>\n",
       "      <th>content_views_rate</th>\n",
       "      <th>rf_content_aggregators</th>\n",
       "      <th>rf_direct</th>\n",
       "      <th>rf_fbia</th>\n",
       "      <th>...</th>\n",
       "      <th>minute_51_top</th>\n",
       "      <th>minute_52_top</th>\n",
       "      <th>minute_53_top</th>\n",
       "      <th>minute_54_top</th>\n",
       "      <th>minute_55_top</th>\n",
       "      <th>minute_56_top</th>\n",
       "      <th>minute_57_top</th>\n",
       "      <th>minute_58_top</th>\n",
       "      <th>minute_59_top</th>\n",
       "      <th>subscription_status</th>\n",
       "    </tr>\n",
       "  </thead>\n",
       "  <tbody>\n",
       "    <tr>\n",
       "      <th>0</th>\n",
       "      <td>10000145548747950113</td>\n",
       "      <td>1.0</td>\n",
       "      <td>1.0</td>\n",
       "      <td>454.0</td>\n",
       "      <td>454.0</td>\n",
       "      <td>1.0</td>\n",
       "      <td>1.0</td>\n",
       "      <td>0.0</td>\n",
       "      <td>0.0</td>\n",
       "      <td>0.0</td>\n",
       "      <td>...</td>\n",
       "      <td>0.0</td>\n",
       "      <td>0.0</td>\n",
       "      <td>0.0</td>\n",
       "      <td>0.0</td>\n",
       "      <td>0.0</td>\n",
       "      <td>0.0</td>\n",
       "      <td>0.0</td>\n",
       "      <td>0.0</td>\n",
       "      <td>0.0</td>\n",
       "      <td>non_subscriber</td>\n",
       "    </tr>\n",
       "    <tr>\n",
       "      <th>1</th>\n",
       "      <td>10000150578546110250</td>\n",
       "      <td>1.0</td>\n",
       "      <td>1.0</td>\n",
       "      <td>14.5</td>\n",
       "      <td>12.0</td>\n",
       "      <td>1.0</td>\n",
       "      <td>1.0</td>\n",
       "      <td>0.0</td>\n",
       "      <td>0.0</td>\n",
       "      <td>0.0</td>\n",
       "      <td>...</td>\n",
       "      <td>0.0</td>\n",
       "      <td>0.0</td>\n",
       "      <td>0.0</td>\n",
       "      <td>0.0</td>\n",
       "      <td>0.0</td>\n",
       "      <td>0.0</td>\n",
       "      <td>2.0</td>\n",
       "      <td>0.0</td>\n",
       "      <td>0.0</td>\n",
       "      <td>non_subscriber</td>\n",
       "    </tr>\n",
       "    <tr>\n",
       "      <th>2</th>\n",
       "      <td>10000154461756058018</td>\n",
       "      <td>1.0</td>\n",
       "      <td>1.0</td>\n",
       "      <td>52.0</td>\n",
       "      <td>52.0</td>\n",
       "      <td>1.0</td>\n",
       "      <td>1.0</td>\n",
       "      <td>0.0</td>\n",
       "      <td>1.0</td>\n",
       "      <td>0.0</td>\n",
       "      <td>...</td>\n",
       "      <td>0.0</td>\n",
       "      <td>0.0</td>\n",
       "      <td>0.0</td>\n",
       "      <td>0.0</td>\n",
       "      <td>0.0</td>\n",
       "      <td>0.0</td>\n",
       "      <td>0.0</td>\n",
       "      <td>0.0</td>\n",
       "      <td>0.0</td>\n",
       "      <td>non_subscriber</td>\n",
       "    </tr>\n",
       "    <tr>\n",
       "      <th>3</th>\n",
       "      <td>10000244735129548321</td>\n",
       "      <td>1.0</td>\n",
       "      <td>1.0</td>\n",
       "      <td>32.0</td>\n",
       "      <td>32.0</td>\n",
       "      <td>1.0</td>\n",
       "      <td>1.0</td>\n",
       "      <td>0.0</td>\n",
       "      <td>0.0</td>\n",
       "      <td>0.0</td>\n",
       "      <td>...</td>\n",
       "      <td>0.0</td>\n",
       "      <td>0.0</td>\n",
       "      <td>0.0</td>\n",
       "      <td>0.0</td>\n",
       "      <td>0.0</td>\n",
       "      <td>0.0</td>\n",
       "      <td>0.0</td>\n",
       "      <td>0.0</td>\n",
       "      <td>0.0</td>\n",
       "      <td>non_subscriber</td>\n",
       "    </tr>\n",
       "    <tr>\n",
       "      <th>4</th>\n",
       "      <td>10000256049462665870</td>\n",
       "      <td>1.0</td>\n",
       "      <td>1.0</td>\n",
       "      <td>15.0</td>\n",
       "      <td>15.0</td>\n",
       "      <td>1.0</td>\n",
       "      <td>1.0</td>\n",
       "      <td>0.0</td>\n",
       "      <td>0.0</td>\n",
       "      <td>0.0</td>\n",
       "      <td>...</td>\n",
       "      <td>0.0</td>\n",
       "      <td>0.0</td>\n",
       "      <td>0.0</td>\n",
       "      <td>0.0</td>\n",
       "      <td>0.0</td>\n",
       "      <td>0.0</td>\n",
       "      <td>0.0</td>\n",
       "      <td>0.0</td>\n",
       "      <td>0.0</td>\n",
       "      <td>non_subscriber</td>\n",
       "    </tr>\n",
       "  </tbody>\n",
       "</table>\n",
       "<p>5 rows × 627 columns</p>\n",
       "</div>"
      ],
      "text/plain": [
       "       ga_fullvisitorid  session_pvs_mean  session_pvs_median  \\\n",
       "0  10000145548747950113               1.0                 1.0   \n",
       "1  10000150578546110250               1.0                 1.0   \n",
       "2  10000154461756058018               1.0                 1.0   \n",
       "3  10000244735129548321               1.0                 1.0   \n",
       "4  10000256049462665870               1.0                 1.0   \n",
       "\n",
       "   session_top_mean  session_top_median  bounce_rate  content_views_rate  \\\n",
       "0             454.0               454.0          1.0                 1.0   \n",
       "1              14.5                12.0          1.0                 1.0   \n",
       "2              52.0                52.0          1.0                 1.0   \n",
       "3              32.0                32.0          1.0                 1.0   \n",
       "4              15.0                15.0          1.0                 1.0   \n",
       "\n",
       "   rf_content_aggregators  rf_direct  rf_fbia  ...  minute_51_top  \\\n",
       "0                     0.0        0.0      0.0  ...            0.0   \n",
       "1                     0.0        0.0      0.0  ...            0.0   \n",
       "2                     0.0        1.0      0.0  ...            0.0   \n",
       "3                     0.0        0.0      0.0  ...            0.0   \n",
       "4                     0.0        0.0      0.0  ...            0.0   \n",
       "\n",
       "   minute_52_top  minute_53_top  minute_54_top  minute_55_top  minute_56_top  \\\n",
       "0            0.0            0.0            0.0            0.0            0.0   \n",
       "1            0.0            0.0            0.0            0.0            0.0   \n",
       "2            0.0            0.0            0.0            0.0            0.0   \n",
       "3            0.0            0.0            0.0            0.0            0.0   \n",
       "4            0.0            0.0            0.0            0.0            0.0   \n",
       "\n",
       "   minute_57_top  minute_58_top  minute_59_top  subscription_status  \n",
       "0            0.0            0.0            0.0       non_subscriber  \n",
       "1            2.0            0.0            0.0       non_subscriber  \n",
       "2            0.0            0.0            0.0       non_subscriber  \n",
       "3            0.0            0.0            0.0       non_subscriber  \n",
       "4            0.0            0.0            0.0       non_subscriber  \n",
       "\n",
       "[5 rows x 627 columns]"
      ]
     },
     "execution_count": 4,
     "metadata": {},
     "output_type": "execute_result"
    }
   ],
   "source": [
    "df.head()"
   ]
  },
  {
   "cell_type": "markdown",
   "id": "05f41979",
   "metadata": {},
   "source": [
    "* Remove fvids which are not active subscribers as of 11/30/21"
   ]
  },
  {
   "cell_type": "code",
   "execution_count": 4,
   "id": "ba882ff3",
   "metadata": {},
   "outputs": [
    {
     "name": "stdout",
     "output_type": "stream",
     "text": [
      "# active subs fvids in Database as of 11/30/21:  89328\n",
      "# active fvids in training set:  78366 \n",
      " Perc:  0.8\n"
     ]
    }
   ],
   "source": [
    "query_string = \"\"\"\n",
    "  WITH eligible_users AS ( \n",
    "      \n",
    "       SELECT \n",
    "           DISTINCT \n",
    "               user_id_uid, \n",
    "               resource_id_rid, \n",
    "               start_date,\n",
    "               status, \n",
    "               subscription_trial_end_date\n",
    "              \n",
    "    FROM\n",
    "        `api-project-901373404215.piano.subscriber_details`\n",
    "    WHERE \n",
    "        # Filter for the 'universal' subscriptions only\n",
    "        resource_id_rid IN UNNEST(['RKPEVDB', 'R8W03AS'])\n",
    "         # filter for active only\n",
    "               AND status='active'\n",
    "               AND total__refunded<1\n",
    "               AND cast(dt_updated as date)=current_date('America/New_York')\n",
    "        )\n",
    "    \n",
    "    # join user_id_uids with GA's pianoIDs and For each pianoID, get their fullvids. De-duplicate.\n",
    "     SELECT \n",
    "         DISTINCT\n",
    "            ga_pianoId,\n",
    "            user_id_uid,\n",
    "            ga_fullvisitorid,\n",
    "            resource_id_rid,\n",
    "            start_date,\n",
    "            status, \n",
    "            subscription_trial_end_date\n",
    "    FROM\n",
    "        eligible_users\n",
    "         INNER JOIN \n",
    "         `api-project-901373404215.DataMart.v_DataMart_updated` \n",
    "    ON \n",
    "        LOWER(ga_pianoId) = LOWER(user_id_uid)\n",
    "\"\"\"\n",
    "active_subs = (\n",
    "    bqclient.query(query_string)\n",
    "    .result()\n",
    "    .to_dataframe(bqstorage_client=bqstorageclient)\n",
    ") \n",
    "\n",
    "# get fvids list\n",
    "active_subs_fvids = list(active_subs.ga_fullvisitorid.unique())\n",
    "\n",
    "print(\"# active subs fvids in Database as of 11/30/21: \", \n",
    "      len(active_subs_fvids))\n",
    "\n",
    "joblib.dump(active_subs_fvids, \n",
    "            \"../data/active_subs_db_fvids_113021.joblib\")"
   ]
  },
  {
   "cell_type": "code",
   "execution_count": 5,
   "id": "ecf13a92",
   "metadata": {},
   "outputs": [
    {
     "name": "stdout",
     "output_type": "stream",
     "text": [
      "# active fvids in training set:  78366 \n",
      " Perc:  0.8\n"
     ]
    }
   ],
   "source": [
    "active_subs_fvids = joblib.load(\"../data/active_subs_db_fvids_113021.joblib\")\n",
    "\n",
    "# 80% of our training set fvids are still active\n",
    "\n",
    "print(\"# active fvids in training set: \", \n",
    "      df[(df.subscription_status==\"subscriber\") & (df.ga_fullvisitorid.isin(active_subs_fvids))].shape[0], \n",
    "      \"\\n Perc: \",\n",
    "      round(df[df.ga_fullvisitorid.isin(active_subs_fvids)].shape[0]/97947, 2))"
   ]
  },
  {
   "cell_type": "code",
   "execution_count": 6,
   "id": "7154fc15",
   "metadata": {},
   "outputs": [
    {
     "name": "stdout",
     "output_type": "stream",
     "text": [
      "Before dropping inactive subs: \n",
      " (507937, 627)\n",
      "After dropping inactive subs: \n",
      " (488356, 627) \n",
      "\n"
     ]
    },
    {
     "data": {
      "text/plain": [
       "non_subscriber    409990\n",
       "subscriber         78366\n",
       "Name: subscription_status, dtype: int64"
      ]
     },
     "execution_count": 6,
     "metadata": {},
     "output_type": "execute_result"
    }
   ],
   "source": [
    "print(\"Before dropping inactive subs: \\n\", df.shape)\n",
    "\n",
    "df.subscription_status.value_counts()\n",
    "\n",
    "df = df.drop(df[(df.subscription_status==\"subscriber\") & (~df.ga_fullvisitorid.isin(active_subs_fvids))].index)\n",
    "\n",
    "print(\"After dropping inactive subs: \\n\",df.shape, \"\\n\")\n",
    "\n",
    "df.subscription_status.value_counts()"
   ]
  },
  {
   "cell_type": "markdown",
   "id": "7bba751e",
   "metadata": {},
   "source": [
    "* Fill NA\n",
    "* Drop unnecesary cols\n",
    "* Encode target variable"
   ]
  },
  {
   "cell_type": "code",
   "execution_count": 7,
   "id": "134e6708",
   "metadata": {},
   "outputs": [],
   "source": [
    "# fill any Nulls with 0\n",
    "\n",
    "df.fillna(0, inplace=True)\n",
    "\n",
    "# drop unnecessary cols\n",
    "cols_to_drop = [x for x in df.columns if 'other' in x] + ['ga_fullvisitorid']\n",
    "\n",
    "df = df.drop(cols_to_drop, \n",
    "             axis=1)\n",
    "\n",
    "# encode target - subs class 1, everyone else class 0\n",
    "\n",
    "df['subscription_status'] = np.where(df['subscription_status']=='subscriber',\n",
    "                                     1, 0)"
   ]
  },
  {
   "cell_type": "code",
   "execution_count": 8,
   "id": "a86138e5",
   "metadata": {},
   "outputs": [
    {
     "data": {
      "text/plain": [
       "0   84.0\n",
       "1   16.0\n",
       "Name: subscription_status, dtype: float64"
      ]
     },
     "execution_count": 8,
     "metadata": {},
     "output_type": "execute_result"
    }
   ],
   "source": [
    "df.subscription_status.value_counts(normalize=True)*100"
   ]
  },
  {
   "cell_type": "markdown",
   "id": "d9395961",
   "metadata": {},
   "source": [
    "**Train - test split**\n",
    "* Why train-test split before feature selection - to avoid information leakage\n",
    "* In sklearn's train_test_split by default shuffle=TRUE"
   ]
  },
  {
   "cell_type": "code",
   "execution_count": 9,
   "id": "36084cc2",
   "metadata": {},
   "outputs": [],
   "source": [
    "X = df.iloc[:, :-1]\n",
    "y = df[\"subscription_status\"]\n",
    "\n",
    "# split the data in training and remaining dataset\n",
    "\n",
    "X_train, X_rem, y_train, y_rem = train_test_split(X,\n",
    "                                                  y, \n",
    "                                                  train_size=0.7, \n",
    "                                                  stratify = y,\n",
    "                                                  random_state = SEED \n",
    "                                                 )\n",
    "\n",
    "\n",
    "# make test and val sets\n",
    "X_val, X_test, y_val, y_test = train_test_split(X_rem,\n",
    "                                                y_rem, \n",
    "                                                test_size=0.5,\n",
    "                                                stratify = y_rem,\n",
    "                                                random_state = SEED \n",
    "                                                )"
   ]
  },
  {
   "cell_type": "markdown",
   "id": "a8e7fd40",
   "metadata": {},
   "source": [
    "* For all experiments, train and val sets will be used. \n",
    "* Test = left untouched"
   ]
  },
  {
   "cell_type": "code",
   "execution_count": 10,
   "id": "45cfbed8",
   "metadata": {},
   "outputs": [
    {
     "name": "stdout",
     "output_type": "stream",
     "text": [
      "--- Train set --- (341849, 618) (341849,) 0.7\n",
      "--- Val set --- (73253, 618) (73253,) 0.15\n",
      "--- Test set --- (73254, 618) (73254,) 0.15\n"
     ]
    }
   ],
   "source": [
    "print(\"--- Train set ---\", X_train.shape, y_train.shape, round(X_train.shape[0]/df.shape[0], 2))\n",
    "\n",
    "print(\"--- Val set ---\", X_val.shape, y_val.shape, round(X_val.shape[0]/df.shape[0], 2))\n",
    "\n",
    "print(\"--- Test set ---\", X_test.shape, y_test.shape, round(X_test.shape[0]/df.shape[0], 2))"
   ]
  },
  {
   "cell_type": "code",
   "execution_count": 23,
   "id": "2d7f7133",
   "metadata": {},
   "outputs": [
    {
     "name": "stdout",
     "output_type": "stream",
     "text": [
      "Distribution in train set:\n",
      "0    286993\n",
      "1     54856\n",
      "Name: subscription_status, dtype: int64 \n",
      "\n",
      "Distribution in val set:\n",
      "0    61498\n",
      "1    11755\n",
      "Name: subscription_status, dtype: int64 \n",
      "\n",
      "Distribution in test set:\n",
      "0    61499\n",
      "1    11755\n",
      "Name: subscription_status, dtype: int64 \n",
      "\n"
     ]
    }
   ],
   "source": [
    "print(\"Distribution in train set:\")\n",
    "print(y_train.value_counts(), \"\\n\")\n",
    "\n",
    "print(\"Distribution in val set:\")\n",
    "print(y_val.value_counts(), \"\\n\")\n",
    "\n",
    "print(\"Distribution in test set:\")\n",
    "print(y_test.value_counts(), \"\\n\")"
   ]
  },
  {
   "cell_type": "markdown",
   "id": "ed2534c9",
   "metadata": {},
   "source": [
    "* Save files<br>"
   ]
  },
  {
   "cell_type": "code",
   "execution_count": 11,
   "id": "0a02f081",
   "metadata": {},
   "outputs": [],
   "source": [
    "train_set = X_train.join(y_train)\n",
    "val_set = X_val.join(y_val)\n",
    "test_set = X_test.join(y_test)"
   ]
  },
  {
   "cell_type": "code",
   "execution_count": 12,
   "id": "99a31ef8",
   "metadata": {},
   "outputs": [],
   "source": [
    "train_set.to_csv(\"./chk_files/chk_train_set_11302021.csv\", index=False)\n",
    "val_set.to_csv(\"./chk_files/chk_val_set_11302021.csv\", index=False)\n",
    "test_set.to_csv(\"./chk_files/chk_test_set_11302021.csv\", index=False)"
   ]
  },
  {
   "cell_type": "markdown",
   "id": "ec210de4",
   "metadata": {},
   "source": [
    "* Cross-val splitting\n",
    "\n",
    "    * **StratifiedKFold w/ shuffle=True**  - shuffles and splits once. So, test folds formed without replacement (no overlap)\n",
    "\n",
    "    * **StratifiedShuffleSplit**  - shuffles each time before splitting. So, test folds formed with replacement (with overlap)\n",
    "\n",
    "[Ref](https://stackoverflow.com/questions/45969390/difference-between-stratifiedkfold-and-stratifiedshufflesplit-in-sklearn)"
   ]
  },
  {
   "cell_type": "code",
   "execution_count": 13,
   "id": "dfb80627",
   "metadata": {},
   "outputs": [],
   "source": [
    "scoring='f1_weighted'\n",
    "\n",
    "skf = StratifiedKFold(n_splits = 10, \n",
    "                      shuffle=True,\n",
    "                      random_state = SEED)\n",
    "\n",
    "sss = StratifiedShuffleSplit(n_splits = 5, \n",
    "                             test_size = 0.2, \n",
    "                             random_state = SEED) "
   ]
  },
  {
   "cell_type": "markdown",
   "id": "b7fca137",
   "metadata": {},
   "source": [
    "* **Dummy classifier** \n",
    "    * All features\n",
    "    * Scaled feature values\n",
    "    * Imbalanced dataset\n",
    "    * cross-val strategy - StratifiedShuffleSplit\n",
    "    \n",
    "    \n",
    "* Pred Strategies\n",
    "    * **stratified** generates random predictions by respecting the training set class distribution.\n",
    "    * **most_frequent** always predicts the most frequent label in the training set.\n",
    "    * **uniform** generates predictions uniformly at random."
   ]
  },
  {
   "cell_type": "code",
   "execution_count": 14,
   "id": "5222aea5",
   "metadata": {},
   "outputs": [
    {
     "name": "stdout",
     "output_type": "stream",
     "text": [
      "Strategy:  stratified\n",
      "[0.73170536 0.73047438 0.72947787 0.72930202 0.73270186 0.72953649\n",
      " 0.73121699 0.73180315 0.73174453 0.73279181]\n",
      "Dummy average score is 0.73 \n",
      "\n",
      "Strategy:  uniform\n",
      "[0.56753483 0.5619369  0.56437963 0.56336183 0.56626257 0.56473586\n",
      " 0.56513021 0.56243311 0.56451954 0.56448007]\n",
      "Dummy average score is 0.56 \n",
      "\n",
      "Strategy:  most_frequent\n",
      "[0.76628051 0.76628051 0.76628051 0.76628051 0.76628051 0.76628051\n",
      " 0.76632173 0.76632173 0.76632173 0.76631511]\n",
      "Dummy average score is 0.77 \n",
      "\n",
      "Classification report for Strategy: most_frequent\n",
      "                precision    recall  f1-score   support\n",
      "\n",
      "Non-subscriber       0.84      1.00      0.91     61498\n",
      "    subscriber       0.00      0.00      0.00     11755\n",
      "\n",
      "      accuracy                           0.84     73253\n",
      "     macro avg       0.42      0.50      0.46     73253\n",
      "  weighted avg       0.70      0.84      0.77     73253\n",
      "\n"
     ]
    }
   ],
   "source": [
    "dummy_strategies = ['stratified', 'uniform', 'most_frequent']\n",
    "\n",
    "for item in dummy_strategies:\n",
    "    \n",
    "    scaler = RobustScaler()\n",
    "\n",
    "    dummy = DummyClassifier(strategy=item,random_state = SEED)\n",
    "\n",
    "    dummy = Pipeline(\n",
    "        steps=[\n",
    "            ('scaler', scaler),\n",
    "            ('model', dummy)\n",
    "        ]\n",
    "    )\n",
    "\n",
    "    dummy_score = cross_val_score(\n",
    "        dummy,\n",
    "        X_train,\n",
    "        y_train,\n",
    "        cv=skf, # using StratifiedKFold w/ shuffle=True\n",
    "        n_jobs=-1,\n",
    "        scoring=scoring\n",
    "    )\n",
    "    \n",
    "    print(\"Strategy: \", item)\n",
    "    print(dummy_score)\n",
    "    print(\"Dummy average score is\", round(np.mean(dummy_score), 2), \"\\n\") \n",
    "    \n",
    "\n",
    "print(\"Classification report for Strategy: most_frequent\")\n",
    "\n",
    "dummy_preds = [0] * 73253\n",
    "print(classification_report(y_val, \n",
    "                            dummy_preds, \n",
    "                            target_names = ['Non-subscriber', 'subscriber'])) "
   ]
  },
  {
   "cell_type": "markdown",
   "id": "3277cdea",
   "metadata": {},
   "source": [
    "* **LGBM** \n",
    "    * All features\n",
    "    * Scaled feature values\n",
    "    * Imbalanced dataset\n",
    "    * cross-val strategy - StratifiedShuffleSplit "
   ]
  },
  {
   "cell_type": "code",
   "execution_count": 15,
   "id": "9a96d46e",
   "metadata": {},
   "outputs": [
    {
     "name": "stdout",
     "output_type": "stream",
     "text": [
      "[0.99033138 0.99048457 0.99037276 0.99089695 0.99023221]\n",
      "LGBM base score is 0.9904635727658405\n"
     ]
    }
   ],
   "source": [
    "scaler = RobustScaler()\n",
    "\n",
    "model = lgb.LGBMClassifier(random_state=SEED, \n",
    "                           is_unbalance=True) # is_unbalance because train data is imbalanced\n",
    "\n",
    "model = Pipeline(\n",
    "    steps=[\n",
    "        ('scaler', scaler),\n",
    "        ('model', model)\n",
    "    ]\n",
    ")\n",
    "\n",
    "lgbm_base_score = cross_val_score(\n",
    "    model,\n",
    "    X_train,\n",
    "    y_train,\n",
    "    cv=sss,\n",
    "    n_jobs=-1,\n",
    "    scoring=scoring\n",
    ")\n",
    "\n",
    "print(lgbm_base_score)\n",
    "print(\"LGBM base score is\", np.mean(lgbm_base_score))"
   ]
  },
  {
   "cell_type": "markdown",
   "id": "a0d0af9d",
   "metadata": {},
   "source": [
    "* **LGBM** \n",
    "    * All features\n",
    "    * Scaled feature values\n",
    "    * Imbalanced dataset\n",
    "    * cross-val strategy -  StratifiedKFold w/ shuffle=True"
   ]
  },
  {
   "cell_type": "code",
   "execution_count": 16,
   "id": "4bf3871b",
   "metadata": {},
   "outputs": [
    {
     "name": "stdout",
     "output_type": "stream",
     "text": [
      "[0.99011944 0.99004569 0.99025397 0.99063385 0.9900032  0.99089856\n",
      " 0.99007541 0.99149428 0.9902042  0.99145355]\n",
      "LGBM base score is 0.9905182168532954\n"
     ]
    }
   ],
   "source": [
    "scaler = RobustScaler()\n",
    "\n",
    "model = lgb.LGBMClassifier(random_state=SEED, \n",
    "                           is_unbalance=True) # is_unbalance because train data is imbalanced\n",
    "\n",
    "model = Pipeline(\n",
    "    steps=[\n",
    "        ('scaler', scaler),\n",
    "        ('model', model)\n",
    "    ]\n",
    ")\n",
    "\n",
    "lgbm_base_score = cross_val_score(\n",
    "    model,\n",
    "    X_train,\n",
    "    y_train,\n",
    "    cv=skf, # using StratifiedKFold w/ shuffle=True\n",
    "    n_jobs=-1,\n",
    "    scoring=scoring\n",
    ")\n",
    "\n",
    "print(lgbm_base_score)\n",
    "print(\"LGBM base score is\", np.mean(lgbm_base_score))"
   ]
  },
  {
   "cell_type": "markdown",
   "id": "54a2f9e8",
   "metadata": {},
   "source": [
    "* Pred on val set\n",
    "    * captures the effect of removing inactive subs\n",
    "    * f1 for subs decreased 1% (no significant drop)\n",
    "    * Overall Weighted-f1 = same"
   ]
  },
  {
   "cell_type": "code",
   "execution_count": 17,
   "id": "b13f5e27",
   "metadata": {},
   "outputs": [
    {
     "name": "stdout",
     "output_type": "stream",
     "text": [
      "                precision    recall  f1-score   support\n",
      "\n",
      "Non-subscriber       1.00      0.99      0.99     61498\n",
      "    subscriber       0.95      0.98      0.97     11755\n",
      "\n",
      "      accuracy                           0.99     73253\n",
      "     macro avg       0.98      0.99      0.98     73253\n",
      "  weighted avg       0.99      0.99      0.99     73253\n",
      "\n"
     ]
    },
    {
     "data": {
      "text/plain": [
       "<sklearn.metrics._plot.confusion_matrix.ConfusionMatrixDisplay at 0x7f2fb06fe810>"
      ]
     },
     "execution_count": 17,
     "metadata": {},
     "output_type": "execute_result"
    },
    {
     "data": {
      "image/png": "[encoded data removed]",
      "text/plain": [
       "<Figure size 432x288 with 2 Axes>"
      ]
     },
     "metadata": {
      "needs_background": "light"
     },
     "output_type": "display_data"
    }
   ],
   "source": [
    "# using skf pipe, pred on val set\n",
    "\n",
    "model.fit(X_train, y_train)\n",
    "\n",
    "y_pred = model.predict(X_val)\n",
    "\n",
    "print(classification_report(y_val, \n",
    "                            y_pred, \n",
    "                            target_names = ['Non-subscriber', 'subscriber']))\n",
    "\n",
    "plot_confusion_matrix(estimator=model, \n",
    "                      X=X_val, \n",
    "                      y_true=y_val, \n",
    "                      cmap='Blues'\n",
    "                     )"
   ]
  },
  {
   "cell_type": "markdown",
   "id": "7b119d1a",
   "metadata": {},
   "source": [
    "* Pred on test set"
   ]
  },
  {
   "cell_type": "code",
   "execution_count": 18,
   "id": "4c5ccca0",
   "metadata": {},
   "outputs": [
    {
     "name": "stdout",
     "output_type": "stream",
     "text": [
      "                precision    recall  f1-score   support\n",
      "\n",
      "Non-subscriber       1.00      0.99      0.99     61499\n",
      "    subscriber       0.96      0.99      0.97     11755\n",
      "\n",
      "      accuracy                           0.99     73254\n",
      "     macro avg       0.98      0.99      0.98     73254\n",
      "  weighted avg       0.99      0.99      0.99     73254\n",
      "\n"
     ]
    },
    {
     "data": {
      "text/plain": [
       "<sklearn.metrics._plot.confusion_matrix.ConfusionMatrixDisplay at 0x7f2fa12cf710>"
      ]
     },
     "execution_count": 18,
     "metadata": {},
     "output_type": "execute_result"
    },
    {
     "data": {
      "image/png": "[encoded data removed]",
      "text/plain": [
       "<Figure size 432x288 with 2 Axes>"
      ]
     },
     "metadata": {
      "needs_background": "light"
     },
     "output_type": "display_data"
    }
   ],
   "source": [
    "# using skf pipe, pred on test set\n",
    "\n",
    "model.fit(X_train, y_train)\n",
    "\n",
    "y_test_pred = model.predict(X_test)\n",
    "\n",
    "print(classification_report(y_test, \n",
    "                            y_test_pred, \n",
    "                            target_names = ['Non-subscriber', 'subscriber']))\n",
    "\n",
    "plot_confusion_matrix(estimator=model, \n",
    "                      X=X_test, \n",
    "                      y_true=y_test, \n",
    "                      cmap='Blues'\n",
    "                     )"
   ]
  },
  {
   "cell_type": "code",
   "execution_count": null,
   "id": "f0d4e595",
   "metadata": {},
   "outputs": [],
   "source": []
  },
  {
   "cell_type": "code",
   "execution_count": null,
   "id": "66165eb4",
   "metadata": {},
   "outputs": [],
   "source": []
  },
  {
   "cell_type": "code",
   "execution_count": null,
   "id": "b0c831e9",
   "metadata": {},
   "outputs": [],
   "source": []
  },
  {
   "cell_type": "code",
   "execution_count": null,
   "id": "afb0ee38",
   "metadata": {},
   "outputs": [],
   "source": []
  }
 ],
 "metadata": {
  "environment": {
   "name": "tf2-gpu.2-6.m79",
   "type": "gcloud",
   "uri": "gcr.io/deeplearning-platform-release/tf2-gpu.2-6:m79"
  },
  "kernelspec": {
   "display_name": "subscribers",
   "language": "python",
   "name": "subscribers"
  },
  "language_info": {
   "codemirror_mode": {
    "name": "ipython",
    "version": 3
   },
   "file_extension": ".py",
   "mimetype": "text/x-python",
   "name": "python",
   "nbconvert_exporter": "python",
   "pygments_lexer": "ipython3",
   "version": "3.7.10"
  }
 },
 "nbformat": 4,
 "nbformat_minor": 5
}
