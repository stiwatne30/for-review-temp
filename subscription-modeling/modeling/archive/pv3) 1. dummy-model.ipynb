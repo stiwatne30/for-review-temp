{
 "cells": [
  {
   "cell_type": "markdown",
   "id": "ffff2cc4",
   "metadata": {},
   "source": [
    "## Description:\n",
    "\n",
    "This file contains:\n",
    "* target variable encoding\n",
    "* fill na, drop unnecessary cols\n",
    "* make train-val-test sets\n",
    "* dummy model (all features)\n",
    "* LGBM (all features)"
   ]
  },
  {
   "cell_type": "code",
   "execution_count": 1,
   "id": "5b4736e0",
   "metadata": {},
   "outputs": [],
   "source": [
    "'''Helper''' \n",
    "import pandas as pd\n",
    "pd.set_option('display.float_format', lambda x: '%.1f' % x)\n",
    "import numpy as np\n",
    "import time\n",
    "import joblib\n",
    "\n",
    "'''Pre-processing'''\n",
    "from sklearn.pipeline import Pipeline\n",
    "from sklearn.preprocessing import StandardScaler, RobustScaler\n",
    "\n",
    "'''Modeling'''\n",
    "import lightgbm as lgb\n",
    "from sklearn.dummy import DummyClassifier\n",
    "from sklearn.model_selection import (train_test_split,\n",
    "                                     cross_val_score, \n",
    "                                     StratifiedKFold,\n",
    "                                     StratifiedShuffleSplit)\n",
    "from sklearn.metrics import classification_report, plot_confusion_matrix\n",
    "\n",
    "\n",
    "'''GCS Utils'''\n",
    "from gcs_utils import upload_serialized_file, upload_csv_file, download_file\n",
    "\n",
    "import warnings\n",
    "warnings.filterwarnings('ignore')\n",
    "\n",
    "'''BQ'''\n",
    "import google.auth\n",
    "from google.cloud import bigquery\n",
    "from google.cloud import bigquery_storage\n",
    "\n",
    "bqclient = bigquery.Client()\n",
    "bqstorageclient = bigquery_storage.BigQueryReadClient()\n",
    "\n",
    "SEED=42"
   ]
  },
  {
   "cell_type": "code",
   "execution_count": null,
   "id": "1ca970bc",
   "metadata": {},
   "outputs": [],
   "source": [
    "BUCKET_NAME = 'bi-subscription-modeling'\n",
    "BUCKET_FOLDER = 'train-val-data/pv3-filter-train-val'\n",
    "file_name = 'pv3_training_data_01062022.csv'\n",
    "\n",
    "download_file(BUCKET_NAME, \n",
    "              BUCKET_FOLDER, \n",
    "              file_name) "
   ]
  },
  {
   "cell_type": "markdown",
   "id": "86dc8722",
   "metadata": {},
   "source": [
    "### Training Data - Features\n",
    "\n",
    "**Numerical Features**\n",
    "1. User metrics\n",
    "    * unique pageviews per session (avg, median)\n",
    "    * timeOnPage per session (avg, median) <br><br>\n",
    "2. Session metrics\n",
    "    * bounceRate  <br><br>\n",
    "3. Content metrics\n",
    "    * contentViewsRate (contentViews / pageViews) <br>\n",
    "\n",
    "**Categorical Features**\n",
    "1. Content categories \n",
    "    * Sum pvs - Tier1, Tier2, Primary Channel, Primary Section\n",
    "    * Avg. top - Tier1 <br><br>\n",
    "2. Timestamp features: \n",
    "\n",
    "    * Weekday vs Weekend \n",
    "        * Sum pvs & avg. top\n",
    "    * Business Hours vs Non-Business Hours *(Differentiated by US and other countries)*\n",
    "        * Sum pvs & avg. top\n",
    "    * Day of week\n",
    "        * avg. top\n",
    "    * Day of month\n",
    "        * avg. top\n",
    "    * Hourly *(Differentiated by US and other countries)*\n",
    "        * avg. top<br><br>\n",
    "3. Device OS - Sum pvs\n",
    "4. Referral source - Sum pvs\n",
    "5. Countries - Sum pvs<br><br>"
   ]
  },
  {
   "cell_type": "code",
   "execution_count": 3,
   "id": "694a5dde",
   "metadata": {},
   "outputs": [
    {
     "name": "stdout",
     "output_type": "stream",
     "text": [
      "(506500, 570)\n",
      "[0]\n"
     ]
    },
    {
     "data": {
      "text/plain": [
       "float64    566\n",
       "object       2\n",
       "int64        2\n",
       "dtype: int64"
      ]
     },
     "execution_count": 3,
     "metadata": {},
     "output_type": "execute_result"
    }
   ],
   "source": [
    "# read training data\n",
    "\n",
    "df = pd.read_csv('pv3_training_data_01062022.csv', dtype={'ga_fullvisitorid': object})\n",
    "\n",
    "print(df.shape)\n",
    "print(df.isna().sum().unique())\n",
    "df.dtypes.value_counts()"
   ]
  },
  {
   "cell_type": "code",
   "execution_count": 4,
   "id": "fd97fa6f",
   "metadata": {},
   "outputs": [
    {
     "data": {
      "text/html": [
       "<div>\n",
       "<style scoped>\n",
       "    .dataframe tbody tr th:only-of-type {\n",
       "        vertical-align: middle;\n",
       "    }\n",
       "\n",
       "    .dataframe tbody tr th {\n",
       "        vertical-align: top;\n",
       "    }\n",
       "\n",
       "    .dataframe thead th {\n",
       "        text-align: right;\n",
       "    }\n",
       "</style>\n",
       "<table border=\"1\" class=\"dataframe\">\n",
       "  <thead>\n",
       "    <tr style=\"text-align: right;\">\n",
       "      <th></th>\n",
       "      <th>ga_fullvisitorid</th>\n",
       "      <th>session_pvs_mean</th>\n",
       "      <th>session_pvs_median</th>\n",
       "      <th>session_top_mean</th>\n",
       "      <th>session_top_median</th>\n",
       "      <th>bounce_rate</th>\n",
       "      <th>content_views_rate</th>\n",
       "      <th>rf_content_aggregators</th>\n",
       "      <th>rf_direct</th>\n",
       "      <th>rf_fbia</th>\n",
       "      <th>...</th>\n",
       "      <th>hour_15_top</th>\n",
       "      <th>hour_16_top</th>\n",
       "      <th>hour_17_top</th>\n",
       "      <th>hour_18_top</th>\n",
       "      <th>hour_19_top</th>\n",
       "      <th>hour_20_top</th>\n",
       "      <th>hour_21_top</th>\n",
       "      <th>hour_22_top</th>\n",
       "      <th>hour_23_top</th>\n",
       "      <th>subscription_status</th>\n",
       "    </tr>\n",
       "  </thead>\n",
       "  <tbody>\n",
       "    <tr>\n",
       "      <th>0</th>\n",
       "      <td>10000016509294234976</td>\n",
       "      <td>1.0</td>\n",
       "      <td>1.0</td>\n",
       "      <td>137.8</td>\n",
       "      <td>81.0</td>\n",
       "      <td>1.0</td>\n",
       "      <td>1.0</td>\n",
       "      <td>0.0</td>\n",
       "      <td>0.0</td>\n",
       "      <td>0.0</td>\n",
       "      <td>...</td>\n",
       "      <td>7.0</td>\n",
       "      <td>0.0</td>\n",
       "      <td>0.0</td>\n",
       "      <td>64.0</td>\n",
       "      <td>0.0</td>\n",
       "      <td>409.0</td>\n",
       "      <td>0.0</td>\n",
       "      <td>0.0</td>\n",
       "      <td>0.0</td>\n",
       "      <td>non_subscriber</td>\n",
       "    </tr>\n",
       "    <tr>\n",
       "      <th>1</th>\n",
       "      <td>10000106390586747955</td>\n",
       "      <td>1.0</td>\n",
       "      <td>1.0</td>\n",
       "      <td>9.8</td>\n",
       "      <td>0.0</td>\n",
       "      <td>1.0</td>\n",
       "      <td>1.0</td>\n",
       "      <td>0.0</td>\n",
       "      <td>0.0</td>\n",
       "      <td>0.0</td>\n",
       "      <td>...</td>\n",
       "      <td>0.0</td>\n",
       "      <td>0.0</td>\n",
       "      <td>0.0</td>\n",
       "      <td>0.0</td>\n",
       "      <td>0.0</td>\n",
       "      <td>0.0</td>\n",
       "      <td>0.0</td>\n",
       "      <td>39.0</td>\n",
       "      <td>0.0</td>\n",
       "      <td>non_subscriber</td>\n",
       "    </tr>\n",
       "    <tr>\n",
       "      <th>2</th>\n",
       "      <td>10000168040775107380</td>\n",
       "      <td>1.0</td>\n",
       "      <td>1.0</td>\n",
       "      <td>66.9</td>\n",
       "      <td>0.0</td>\n",
       "      <td>1.0</td>\n",
       "      <td>1.0</td>\n",
       "      <td>0.0</td>\n",
       "      <td>0.0</td>\n",
       "      <td>0.0</td>\n",
       "      <td>...</td>\n",
       "      <td>2.0</td>\n",
       "      <td>0.0</td>\n",
       "      <td>0.0</td>\n",
       "      <td>0.0</td>\n",
       "      <td>0.0</td>\n",
       "      <td>52.2</td>\n",
       "      <td>2.0</td>\n",
       "      <td>164.3</td>\n",
       "      <td>15.6</td>\n",
       "      <td>non_subscriber</td>\n",
       "    </tr>\n",
       "    <tr>\n",
       "      <th>3</th>\n",
       "      <td>1000020157047685619</td>\n",
       "      <td>1.1</td>\n",
       "      <td>1.0</td>\n",
       "      <td>93.6</td>\n",
       "      <td>43.0</td>\n",
       "      <td>0.9</td>\n",
       "      <td>1.0</td>\n",
       "      <td>46.0</td>\n",
       "      <td>0.0</td>\n",
       "      <td>0.0</td>\n",
       "      <td>...</td>\n",
       "      <td>20.0</td>\n",
       "      <td>200.0</td>\n",
       "      <td>16.0</td>\n",
       "      <td>135.0</td>\n",
       "      <td>0.0</td>\n",
       "      <td>93.0</td>\n",
       "      <td>44.2</td>\n",
       "      <td>43.0</td>\n",
       "      <td>211.7</td>\n",
       "      <td>non_subscriber</td>\n",
       "    </tr>\n",
       "    <tr>\n",
       "      <th>4</th>\n",
       "      <td>1000023912379635020</td>\n",
       "      <td>1.0</td>\n",
       "      <td>1.0</td>\n",
       "      <td>88.5</td>\n",
       "      <td>48.0</td>\n",
       "      <td>1.0</td>\n",
       "      <td>1.0</td>\n",
       "      <td>0.0</td>\n",
       "      <td>0.0</td>\n",
       "      <td>0.0</td>\n",
       "      <td>...</td>\n",
       "      <td>0.0</td>\n",
       "      <td>36.0</td>\n",
       "      <td>0.0</td>\n",
       "      <td>0.0</td>\n",
       "      <td>0.0</td>\n",
       "      <td>0.0</td>\n",
       "      <td>129.0</td>\n",
       "      <td>0.0</td>\n",
       "      <td>30.0</td>\n",
       "      <td>non_subscriber</td>\n",
       "    </tr>\n",
       "  </tbody>\n",
       "</table>\n",
       "<p>5 rows × 570 columns</p>\n",
       "</div>"
      ],
      "text/plain": [
       "       ga_fullvisitorid  session_pvs_mean  session_pvs_median  \\\n",
       "0  10000016509294234976               1.0                 1.0   \n",
       "1  10000106390586747955               1.0                 1.0   \n",
       "2  10000168040775107380               1.0                 1.0   \n",
       "3   1000020157047685619               1.1                 1.0   \n",
       "4   1000023912379635020               1.0                 1.0   \n",
       "\n",
       "   session_top_mean  session_top_median  bounce_rate  content_views_rate  \\\n",
       "0             137.8                81.0          1.0                 1.0   \n",
       "1               9.8                 0.0          1.0                 1.0   \n",
       "2              66.9                 0.0          1.0                 1.0   \n",
       "3              93.6                43.0          0.9                 1.0   \n",
       "4              88.5                48.0          1.0                 1.0   \n",
       "\n",
       "   rf_content_aggregators  rf_direct  rf_fbia  ...  hour_15_top  hour_16_top  \\\n",
       "0                     0.0        0.0      0.0  ...          7.0          0.0   \n",
       "1                     0.0        0.0      0.0  ...          0.0          0.0   \n",
       "2                     0.0        0.0      0.0  ...          2.0          0.0   \n",
       "3                    46.0        0.0      0.0  ...         20.0        200.0   \n",
       "4                     0.0        0.0      0.0  ...          0.0         36.0   \n",
       "\n",
       "   hour_17_top  hour_18_top  hour_19_top  hour_20_top  hour_21_top  \\\n",
       "0          0.0         64.0          0.0        409.0          0.0   \n",
       "1          0.0          0.0          0.0          0.0          0.0   \n",
       "2          0.0          0.0          0.0         52.2          2.0   \n",
       "3         16.0        135.0          0.0         93.0         44.2   \n",
       "4          0.0          0.0          0.0          0.0        129.0   \n",
       "\n",
       "   hour_22_top  hour_23_top  subscription_status  \n",
       "0          0.0          0.0       non_subscriber  \n",
       "1         39.0          0.0       non_subscriber  \n",
       "2        164.3         15.6       non_subscriber  \n",
       "3         43.0        211.7       non_subscriber  \n",
       "4          0.0         30.0       non_subscriber  \n",
       "\n",
       "[5 rows x 570 columns]"
      ]
     },
     "execution_count": 4,
     "metadata": {},
     "output_type": "execute_result"
    }
   ],
   "source": [
    "df.head()"
   ]
  },
  {
   "cell_type": "code",
   "execution_count": 5,
   "id": "cff57546",
   "metadata": {},
   "outputs": [
    {
     "data": {
      "text/plain": [
       "non_subscriber    409605\n",
       "subscriber         96895\n",
       "Name: subscription_status, dtype: int64"
      ]
     },
     "execution_count": 5,
     "metadata": {},
     "output_type": "execute_result"
    }
   ],
   "source": [
    "df.subscription_status.value_counts()"
   ]
  },
  {
   "cell_type": "markdown",
   "id": "1772f967",
   "metadata": {},
   "source": [
    "* Fill NA\n",
    "* Drop unnecesary cols\n",
    "* Encode target variable"
   ]
  },
  {
   "cell_type": "code",
   "execution_count": 6,
   "id": "6661747a",
   "metadata": {},
   "outputs": [],
   "source": [
    "# fill any Nulls with 0\n",
    "\n",
    "df.fillna(0, inplace=True)\n",
    "\n",
    "# drop unnecessary cols\n",
    "cols_to_drop = [x for x in df.columns if 'other' in x] + ['ga_fullvisitorid']\n",
    "\n",
    "df = df.drop(cols_to_drop, \n",
    "             axis=1)\n",
    "\n",
    "# encode target - subs class 1, everyone else class 0\n",
    "\n",
    "df['subscription_status'] = np.where(df['subscription_status']=='subscriber',\n",
    "                                     1, 0)"
   ]
  },
  {
   "cell_type": "code",
   "execution_count": 7,
   "id": "2199ac81",
   "metadata": {},
   "outputs": [
    {
     "data": {
      "text/plain": [
       "0   80.9\n",
       "1   19.1\n",
       "Name: subscription_status, dtype: float64"
      ]
     },
     "execution_count": 7,
     "metadata": {},
     "output_type": "execute_result"
    }
   ],
   "source": [
    "df.subscription_status.value_counts(normalize=True)*100"
   ]
  },
  {
   "cell_type": "markdown",
   "id": "f4c68275",
   "metadata": {},
   "source": [
    "**Train - test split**\n",
    "* Why train-test split before feature selection - to avoid information leakage\n",
    "* In sklearn's train_test_split by default shuffle=TRUE"
   ]
  },
  {
   "cell_type": "code",
   "execution_count": 8,
   "id": "d7642ff6",
   "metadata": {},
   "outputs": [],
   "source": [
    "X = df.iloc[:, :-1]\n",
    "y = df[\"subscription_status\"]\n",
    "\n",
    "# split the data in training and remaining dataset\n",
    "\n",
    "X_train, X_rem, y_train, y_rem = train_test_split(X,\n",
    "                                                  y, \n",
    "                                                  train_size=0.7, \n",
    "                                                  stratify = y,\n",
    "                                                  random_state = SEED \n",
    "                                                 )\n",
    "\n",
    "\n",
    "# make test and val sets\n",
    "X_val, X_test, y_val, y_test = train_test_split(X_rem,\n",
    "                                                y_rem, \n",
    "                                                test_size=0.5,\n",
    "                                                stratify = y_rem,\n",
    "                                                random_state = SEED \n",
    "                                                )"
   ]
  },
  {
   "cell_type": "markdown",
   "id": "fb4db5cf",
   "metadata": {},
   "source": [
    "* For all experiments, train and val sets will be used. \n",
    "* Test = left untouched"
   ]
  },
  {
   "cell_type": "code",
   "execution_count": 9,
   "id": "68f21f10",
   "metadata": {},
   "outputs": [
    {
     "name": "stdout",
     "output_type": "stream",
     "text": [
      "--- Train set --- (354550, 561) (354550,) 0.7\n",
      "--- Val set --- (75975, 561) (75975,) 0.15\n",
      "--- Test set --- (75975, 561) (75975,) 0.15\n"
     ]
    }
   ],
   "source": [
    "print(\"--- Train set ---\", X_train.shape, y_train.shape, round(X_train.shape[0]/df.shape[0], 2))\n",
    "\n",
    "print(\"--- Val set ---\", X_val.shape, y_val.shape, round(X_val.shape[0]/df.shape[0], 2))\n",
    "\n",
    "print(\"--- Test set ---\", X_test.shape, y_test.shape, round(X_test.shape[0]/df.shape[0], 2))"
   ]
  },
  {
   "cell_type": "code",
   "execution_count": 10,
   "id": "f17ee0a7",
   "metadata": {},
   "outputs": [
    {
     "name": "stdout",
     "output_type": "stream",
     "text": [
      "Distribution in train set:\n",
      "0    286723\n",
      "1     67827\n",
      "Name: subscription_status, dtype: int64 \n",
      "\n",
      "Distribution in val set:\n",
      "0    61441\n",
      "1    14534\n",
      "Name: subscription_status, dtype: int64 \n",
      "\n",
      "Distribution in test set:\n",
      "0    61441\n",
      "1    14534\n",
      "Name: subscription_status, dtype: int64 \n",
      "\n"
     ]
    }
   ],
   "source": [
    "print(\"Distribution in train set:\")\n",
    "print(y_train.value_counts(), \"\\n\")\n",
    "\n",
    "print(\"Distribution in val set:\")\n",
    "print(y_val.value_counts(), \"\\n\")\n",
    "\n",
    "print(\"Distribution in test set:\")\n",
    "print(y_test.value_counts(), \"\\n\")"
   ]
  },
  {
   "cell_type": "markdown",
   "id": "0c374572",
   "metadata": {},
   "source": [
    "* Save files<br>"
   ]
  },
  {
   "cell_type": "code",
   "execution_count": 11,
   "id": "cbf2bc64",
   "metadata": {},
   "outputs": [],
   "source": [
    "train_set = X_train.join(y_train)\n",
    "val_set = X_val.join(y_val)\n",
    "test_set = X_test.join(y_test)"
   ]
  },
  {
   "cell_type": "code",
   "execution_count": 12,
   "id": "de78f464",
   "metadata": {},
   "outputs": [],
   "source": [
    "train_set.to_csv(\"./pv3_files/pv3_train_set_01132022.csv\", index=False)\n",
    "val_set.to_csv(\"./pv3_files/pv3_val_set_01132022.csv\", index=False)\n",
    "test_set.to_csv(\"./pv3_files/pv3_test_set_01132022.csv\", index=False)"
   ]
  },
  {
   "cell_type": "markdown",
   "id": "18175371",
   "metadata": {},
   "source": [
    "* Cross-val splitting\n",
    "\n",
    "    * **StratifiedKFold w/ shuffle=True**  - shuffles and splits once. So, test folds formed without replacement (no overlap)\n",
    "\n",
    "    * **StratifiedShuffleSplit**  - shuffles each time before splitting. So, test folds formed with replacement (with overlap)\n",
    "\n",
    "[Ref](https://stackoverflow.com/questions/45969390/difference-between-stratifiedkfold-and-stratifiedshufflesplit-in-sklearn)"
   ]
  },
  {
   "cell_type": "code",
   "execution_count": 13,
   "id": "1578bad7",
   "metadata": {},
   "outputs": [],
   "source": [
    "scoring='f1_weighted'\n",
    "\n",
    "skf = StratifiedKFold(n_splits = 10, \n",
    "                      shuffle=True,\n",
    "                      random_state = SEED)\n",
    "\n",
    "sss = StratifiedShuffleSplit(n_splits = 5, \n",
    "                             test_size = 0.2, \n",
    "                             random_state = SEED) "
   ]
  },
  {
   "cell_type": "markdown",
   "id": "7f1cc5e7",
   "metadata": {},
   "source": [
    "* **Dummy classifier** \n",
    "    * All features\n",
    "    * Scaled feature values\n",
    "    * Imbalanced dataset\n",
    "    * cross-val strategy - StratifiedShuffleSplit\n",
    "    \n",
    "    \n",
    "* Pred Strategies\n",
    "    * **stratified** generates random predictions by respecting the training set class distribution.\n",
    "    * **most_frequent** always predicts the most frequent label in the training set.\n",
    "    * **uniform** generates predictions uniformly at random."
   ]
  },
  {
   "cell_type": "code",
   "execution_count": 15,
   "id": "74d6dfac",
   "metadata": {},
   "outputs": [
    {
     "name": "stdout",
     "output_type": "stream",
     "text": [
      "Strategy:  stratified\n",
      "[0.69028099 0.69118454 0.6892645  0.68934048 0.69222061 0.69114762\n",
      " 0.68888869 0.69018758 0.6918253  0.68854985]\n",
      "Dummy average score is 0.69 \n",
      "\n",
      "Strategy:  uniform\n",
      "[0.55028672 0.54801531 0.5505391  0.55176512 0.5520175  0.54934223\n",
      " 0.55388515 0.55237084 0.5493927  0.55141178]\n",
      "Dummy average score is 0.55 \n",
      "\n",
      "Strategy:  most_frequent\n",
      "[0.72318778 0.72318778 0.72318778 0.72314861 0.72314861 0.72314861\n",
      " 0.72314861 0.72314861 0.72314861 0.72314861]\n",
      "Dummy average score is 0.72 \n",
      "\n",
      "Classification report for Strategy: most_frequent\n",
      "                precision    recall  f1-score   support\n",
      "\n",
      "Non-subscriber       0.81      1.00      0.89     61441\n",
      "    subscriber       0.00      0.00      0.00     14534\n",
      "\n",
      "      accuracy                           0.81     75975\n",
      "     macro avg       0.40      0.50      0.45     75975\n",
      "  weighted avg       0.65      0.81      0.72     75975\n",
      "\n"
     ]
    }
   ],
   "source": [
    "dummy_strategies = ['stratified', 'uniform', 'most_frequent']\n",
    "\n",
    "for item in dummy_strategies:\n",
    "    \n",
    "    scaler = RobustScaler()\n",
    "\n",
    "    dummy = DummyClassifier(strategy=item,random_state = SEED)\n",
    "\n",
    "    dummy = Pipeline(\n",
    "        steps=[\n",
    "            ('scaler', scaler),\n",
    "            ('model', dummy)\n",
    "        ]\n",
    "    )\n",
    "\n",
    "    dummy_score = cross_val_score(\n",
    "        dummy,\n",
    "        X_train,\n",
    "        y_train,\n",
    "        cv=skf, # using StratifiedKFold w/ shuffle=True\n",
    "        n_jobs=-1,\n",
    "        scoring=scoring\n",
    "    )\n",
    "    \n",
    "    print(\"Strategy: \", item)\n",
    "    print(dummy_score)\n",
    "    print(\"Dummy average score is\", round(np.mean(dummy_score), 2), \"\\n\") \n",
    "    \n",
    "\n",
    "print(\"Classification report for Strategy: most_frequent\")\n",
    "\n",
    "dummy_preds = [0] * 75975\n",
    "print(classification_report(y_val, \n",
    "                            dummy_preds, \n",
    "                            target_names = ['Non-subscriber', 'subscriber'])) "
   ]
  },
  {
   "cell_type": "markdown",
   "id": "7ddba26a",
   "metadata": {},
   "source": [
    "* **LGBM** \n",
    "    * All features\n",
    "    * Scaled feature values\n",
    "    * Imbalanced dataset\n",
    "    * cross-val strategy - StratifiedShuffleSplit "
   ]
  },
  {
   "cell_type": "code",
   "execution_count": 16,
   "id": "8c635fe7",
   "metadata": {},
   "outputs": [
    {
     "name": "stdout",
     "output_type": "stream",
     "text": [
      "[0.98969019 0.9901822  0.99017843 0.99040192 0.98967259]\n",
      "LGBM base score is 0.9900250662359529\n"
     ]
    }
   ],
   "source": [
    "scaler = RobustScaler()\n",
    "\n",
    "model = lgb.LGBMClassifier(random_state=SEED, \n",
    "                           is_unbalance=True) # is_unbalance because train data is imbalanced\n",
    "\n",
    "model = Pipeline(\n",
    "    steps=[\n",
    "        ('scaler', scaler),\n",
    "        ('model', model)\n",
    "    ]\n",
    ")\n",
    "\n",
    "lgbm_base_score = cross_val_score(\n",
    "    model,\n",
    "    X_train,\n",
    "    y_train,\n",
    "    cv=sss,\n",
    "    n_jobs=-1,\n",
    "    scoring=scoring\n",
    ")\n",
    "\n",
    "print(lgbm_base_score)\n",
    "print(\"LGBM base score is\", np.mean(lgbm_base_score))"
   ]
  },
  {
   "cell_type": "markdown",
   "id": "3c12394a",
   "metadata": {},
   "source": [
    "* **LGBM** \n",
    "    * All features\n",
    "    * Scaled feature values\n",
    "    * Imbalanced dataset\n",
    "    * cross-val strategy -  StratifiedKFold w/ shuffle=True"
   ]
  },
  {
   "cell_type": "code",
   "execution_count": 17,
   "id": "56cd5cff",
   "metadata": {},
   "outputs": [
    {
     "name": "stdout",
     "output_type": "stream",
     "text": [
      "[0.99109113 0.9903416  0.99097573 0.99044131 0.99055481 0.99040711\n",
      " 0.99013015 0.99045181 0.99059042 0.99058422]\n",
      "LGBM base score is 0.9905568283357109\n"
     ]
    }
   ],
   "source": [
    "scaler = RobustScaler()\n",
    "\n",
    "model = lgb.LGBMClassifier(random_state=SEED, \n",
    "                           is_unbalance=True) # is_unbalance because train data is imbalanced\n",
    "\n",
    "model = Pipeline(\n",
    "    steps=[\n",
    "        ('scaler', scaler),\n",
    "        ('model', model)\n",
    "    ]\n",
    ")\n",
    "\n",
    "lgbm_base_score = cross_val_score(\n",
    "    model,\n",
    "    X_train,\n",
    "    y_train,\n",
    "    cv=skf, # using StratifiedKFold w/ shuffle=True\n",
    "    n_jobs=-1,\n",
    "    scoring=scoring\n",
    ")\n",
    "\n",
    "print(lgbm_base_score)\n",
    "print(\"LGBM base score is\", np.mean(lgbm_base_score))"
   ]
  },
  {
   "cell_type": "markdown",
   "id": "8b8d2da7",
   "metadata": {},
   "source": [
    "* Pred on val set\n",
    "    * captures the effect of removing inactive subs\n",
    "    * f1 for subs decreased 1% (no significant drop)\n",
    "    * Overall Weighted-f1 = same"
   ]
  },
  {
   "cell_type": "code",
   "execution_count": 18,
   "id": "247e15cd",
   "metadata": {},
   "outputs": [
    {
     "name": "stdout",
     "output_type": "stream",
     "text": [
      "                precision    recall  f1-score   support\n",
      "\n",
      "Non-subscriber       1.00      0.99      0.99     61441\n",
      "    subscriber       0.97      0.98      0.98     14534\n",
      "\n",
      "      accuracy                           0.99     75975\n",
      "     macro avg       0.98      0.99      0.98     75975\n",
      "  weighted avg       0.99      0.99      0.99     75975\n",
      "\n"
     ]
    },
    {
     "data": {
      "text/plain": [
       "<sklearn.metrics._plot.confusion_matrix.ConfusionMatrixDisplay at 0x7fe4aa525e50>"
      ]
     },
     "execution_count": 18,
     "metadata": {},
     "output_type": "execute_result"
    },
    {
     "data": {
      "image/png": "[encoded data removed]",
      "text/plain": [
       "<Figure size 432x288 with 2 Axes>"
      ]
     },
     "metadata": {
      "needs_background": "light"
     },
     "output_type": "display_data"
    }
   ],
   "source": [
    "# using skf pipe, pred on val set\n",
    "\n",
    "model.fit(X_train, y_train)\n",
    "\n",
    "y_pred = model.predict(X_val)\n",
    "\n",
    "print(classification_report(y_val, \n",
    "                            y_pred, \n",
    "                            target_names = ['Non-subscriber', 'subscriber']))\n",
    "\n",
    "plot_confusion_matrix(estimator=model, \n",
    "                      X=X_val, \n",
    "                      y_true=y_val, \n",
    "                      cmap='Blues'\n",
    "                     )"
   ]
  },
  {
   "cell_type": "markdown",
   "id": "65c176dc",
   "metadata": {},
   "source": [
    "* Pred on test set"
   ]
  },
  {
   "cell_type": "code",
   "execution_count": 19,
   "id": "c26828a8",
   "metadata": {},
   "outputs": [
    {
     "name": "stdout",
     "output_type": "stream",
     "text": [
      "                precision    recall  f1-score   support\n",
      "\n",
      "Non-subscriber       1.00      0.99      0.99     61441\n",
      "    subscriber       0.97      0.99      0.98     14534\n",
      "\n",
      "      accuracy                           0.99     75975\n",
      "     macro avg       0.98      0.99      0.99     75975\n",
      "  weighted avg       0.99      0.99      0.99     75975\n",
      "\n"
     ]
    },
    {
     "data": {
      "text/plain": [
       "<sklearn.metrics._plot.confusion_matrix.ConfusionMatrixDisplay at 0x7fe4b0d0cd90>"
      ]
     },
     "execution_count": 19,
     "metadata": {},
     "output_type": "execute_result"
    },
    {
     "data": {
      "image/png": "[encoded data removed]",
      "text/plain": [
       "<Figure size 432x288 with 2 Axes>"
      ]
     },
     "metadata": {
      "needs_background": "light"
     },
     "output_type": "display_data"
    }
   ],
   "source": [
    "# using skf pipe, pred on test set\n",
    "\n",
    "model.fit(X_train, y_train)\n",
    "\n",
    "y_test_pred = model.predict(X_test)\n",
    "\n",
    "print(classification_report(y_test, \n",
    "                            y_test_pred, \n",
    "                            target_names = ['Non-subscriber', 'subscriber']))\n",
    "\n",
    "plot_confusion_matrix(estimator=model, \n",
    "                      X=X_test, \n",
    "                      y_true=y_test, \n",
    "                      cmap='Blues'\n",
    "                     )"
   ]
  },
  {
   "cell_type": "code",
   "execution_count": null,
   "id": "534b1dd3",
   "metadata": {},
   "outputs": [],
   "source": []
  },
  {
   "cell_type": "code",
   "execution_count": null,
   "id": "da6d1b19",
   "metadata": {},
   "outputs": [],
   "source": []
  },
  {
   "cell_type": "code",
   "execution_count": null,
   "id": "6cb83a06",
   "metadata": {},
   "outputs": [],
   "source": []
  }
 ],
 "metadata": {
  "environment": {
   "name": "tf2-gpu.2-6.m79",
   "type": "gcloud",
   "uri": "gcr.io/deeplearning-platform-release/tf2-gpu.2-6:m79"
  },
  "kernelspec": {
   "display_name": "subscribers",
   "language": "python",
   "name": "subscribers"
  },
  "language_info": {
   "codemirror_mode": {
    "name": "ipython",
    "version": 3
   },
   "file_extension": ".py",
   "mimetype": "text/x-python",
   "name": "python",
   "nbconvert_exporter": "python",
   "pygments_lexer": "ipython3",
   "version": "3.7.10"
  }
 },
 "nbformat": 4,
 "nbformat_minor": 5
}
