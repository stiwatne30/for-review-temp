{
 "cells": [
  {
   "cell_type": "code",
   "execution_count": 2,
   "id": "cc1fa985",
   "metadata": {},
   "outputs": [],
   "source": [
    "import pandas as pd\n",
    "pd.set_option('display.float_format', lambda x: '%.2f' % x)\n",
    "import numpy as np\n",
    "import joblib\n",
    "import warnings\n",
    "warnings.filterwarnings('ignore') \n",
    "\n",
    "import google.auth\n",
    "from google.cloud import bigquery\n",
    "from google.cloud import bigquery_storage\n",
    "import time\n",
    "\n",
    "bqclient = bigquery.Client()\n",
    "bqstorageclient = bigquery_storage.BigQueryReadClient()"
   ]
  },
  {
   "cell_type": "code",
   "execution_count": 3,
   "id": "28ac6d6b",
   "metadata": {
    "collapsed": true,
    "jupyter": {
     "outputs_hidden": true,
     "source_hidden": true
    }
   },
   "outputs": [
    {
     "name": "stdout",
     "output_type": "stream",
     "text": [
      "--- 10.571234703063965 seconds ---\n",
      "Shape:  (6556736, 23)\n",
      "--- 4.581924200057983 seconds ---\n",
      "Before: (1192679, 23)\n",
      "After removing  10 suspicious fvids: (1192343, 23)\n",
      "Shape:  (7749079, 23) \n",
      "\n",
      "Total fvids in df:  507937 \n",
      "\n"
     ]
    }
   ],
   "source": [
    "start_time = time.time()\n",
    "\n",
    "query_string = \"\"\"\n",
    "  SELECT\n",
    "       *\n",
    "    FROM\n",
    "        `api-project-901373404215.skt.sm_subs_ga`\n",
    "\"\"\"\n",
    "\n",
    "subs_data = (\n",
    "    bqclient.query(query_string)\n",
    "    .result()\n",
    "    .to_dataframe(bqstorage_client=bqstorageclient)\n",
    ") \n",
    "\n",
    "print(\"--- %s seconds ---\" % (time.time() - start_time))\n",
    "\n",
    "subs_data[\"subscription_status\"] = \"subscriber\"\n",
    "\n",
    "# drop unnecessary col & rename\n",
    "subs_data.drop(['user_id_uid', 'resource_id_rid'], axis=1, inplace=True)\n",
    "\n",
    "subs_data.rename(columns={'ga_pianoId': \n",
    "                          'piano_id'}, \n",
    "                 inplace=True)\n",
    "\n",
    "print(\"Shape: \", subs_data.shape)\n",
    "\n",
    "start_time = time.time()\n",
    "\n",
    "query_string = \"\"\"\n",
    "  SELECT\n",
    "       *\n",
    "    FROM\n",
    "        `api-project-901373404215.skt.sm_nonsubs_ga`\n",
    "\"\"\"\n",
    "\n",
    "nonsubs_data = (\n",
    "    bqclient.query(query_string)\n",
    "    .result()\n",
    "    .to_dataframe(bqstorage_client=bqstorageclient)\n",
    ") \n",
    "\n",
    "print(\"--- %s seconds ---\" % (time.time() - start_time))\n",
    "\n",
    "nonsubs_data[\"subscription_status\"] = \"non_subscriber\"\n",
    "\n",
    "print(\"Before:\", nonsubs_data.shape)\n",
    "\n",
    "# some suspicious fvids have no pianoID but their dfpZone has 'subscriber' in it - remove them\n",
    "\n",
    "nonsubs_data.GA_dfpNewZone = nonsubs_data.GA_dfpNewZone.fillna('none')\n",
    "\n",
    "suspicious_fvid = nonsubs_data[nonsubs_data.GA_dfpNewZone.str.contains('/subscriber/')].GA_fullVisitorId.unique()\n",
    "\n",
    "nonsubs_data = nonsubs_data[~nonsubs_data.GA_fullVisitorId.isin(suspicious_fvid)]\n",
    "\n",
    "print(\"After removing \", \n",
    "      len(suspicious_fvid), \n",
    "      \"suspicious fvids:\", nonsubs_data.shape)\n",
    "\n",
    "df_nofilter = pd.concat([subs_data, nonsubs_data])\n",
    "\n",
    "print(\"Shape: \", df_nofilter.shape, \"\\n\")\n",
    "\n",
    "print(\"Total fvids in df: \", len(df_nofilter.GA_fullVisitorId.unique()), \"\\n\")"
   ]
  },
  {
   "cell_type": "code",
   "execution_count": 4,
   "id": "9afff3fd",
   "metadata": {
    "collapsed": true,
    "jupyter": {
     "outputs_hidden": true,
     "source_hidden": true
    }
   },
   "outputs": [
    {
     "name": "stdout",
     "output_type": "stream",
     "text": [
      "--- 9.33493185043335 seconds ---\n",
      "Shape:  (5251696, 23)\n",
      "--- 4.405194520950317 seconds ---\n",
      "Before: (2478658, 23)\n",
      "After removing  76 suspicious fvids: (2474748, 23)\n",
      "Shape:  (7726444, 23) \n",
      "\n",
      "Total fvids in df:  506819 \n",
      "\n"
     ]
    }
   ],
   "source": [
    "start_time = time.time()\n",
    "\n",
    "query_string = \"\"\"\n",
    "  SELECT\n",
    "       *\n",
    "    FROM\n",
    "        `api-project-901373404215.skt.smpv1_subs_ga`\n",
    "\"\"\"\n",
    "\n",
    "subs_data = (\n",
    "    bqclient.query(query_string)\n",
    "    .result()\n",
    "    .to_dataframe(bqstorage_client=bqstorageclient)\n",
    ") \n",
    "\n",
    "print(\"--- %s seconds ---\" % (time.time() - start_time))\n",
    "\n",
    "subs_data[\"subscription_status\"] = \"subscriber\"\n",
    "\n",
    "# drop unnecessary col & rename\n",
    "subs_data.drop(['user_id_uid', 'resource_id_rid'], axis=1, inplace=True)\n",
    "\n",
    "subs_data.rename(columns={'ga_pianoId': \n",
    "                          'piano_id'}, \n",
    "                 inplace=True)\n",
    "\n",
    "print(\"Shape: \", subs_data.shape)\n",
    "\n",
    "start_time = time.time()\n",
    "\n",
    "query_string = \"\"\"\n",
    "  SELECT\n",
    "       *\n",
    "    FROM\n",
    "        `api-project-901373404215.skt.smpv1_nonsubs_ga`\n",
    "\"\"\"\n",
    "\n",
    "nonsubs_data = (\n",
    "    bqclient.query(query_string)\n",
    "    .result()\n",
    "    .to_dataframe(bqstorage_client=bqstorageclient)\n",
    ") \n",
    "\n",
    "print(\"--- %s seconds ---\" % (time.time() - start_time))\n",
    "\n",
    "nonsubs_data[\"subscription_status\"] = \"non_subscriber\"\n",
    "\n",
    "print(\"Before:\", nonsubs_data.shape)\n",
    "\n",
    "# some suspicious fvids have no pianoID but their dfpZone has 'subscriber' in it - remove them\n",
    "\n",
    "nonsubs_data.GA_dfpNewZone = nonsubs_data.GA_dfpNewZone.fillna('none')\n",
    "\n",
    "suspicious_fvid = nonsubs_data[nonsubs_data.GA_dfpNewZone.str.contains('/subscriber/')].GA_fullVisitorId.unique()\n",
    "\n",
    "nonsubs_data = nonsubs_data[~nonsubs_data.GA_fullVisitorId.isin(suspicious_fvid)]\n",
    "\n",
    "print(\"After removing \", \n",
    "      len(suspicious_fvid), \n",
    "      \"suspicious fvids:\", nonsubs_data.shape)\n",
    "\n",
    "df_pv1_filter = pd.concat([subs_data, nonsubs_data])\n",
    "\n",
    "print(\"Shape: \", df_pv1_filter.shape, \"\\n\")\n",
    "\n",
    "print(\"Total fvids in df: \", len(df_pv1_filter.GA_fullVisitorId.unique()), \"\\n\")"
   ]
  },
  {
   "cell_type": "code",
   "execution_count": 5,
   "id": "7af739e1",
   "metadata": {
    "collapsed": true,
    "jupyter": {
     "outputs_hidden": true,
     "source_hidden": true
    }
   },
   "outputs": [
    {
     "name": "stdout",
     "output_type": "stream",
     "text": [
      "--- 9.556484937667847 seconds ---\n",
      "Shape:  (5251696, 23)\n",
      "--- 9.451661109924316 seconds ---\n",
      "Before: (6014971, 23)\n",
      "After removing  395 suspicious fvids: (5938101, 23)\n",
      "Shape:  (11189797, 23) \n",
      "\n",
      "Total fvids in df:  506500 \n",
      "\n"
     ]
    }
   ],
   "source": [
    "start_time = time.time()\n",
    "\n",
    "query_string = \"\"\"\n",
    "  SELECT\n",
    "       *\n",
    "    FROM\n",
    "        `api-project-901373404215.skt.smpv1_subs_ga`\n",
    "\"\"\"\n",
    "\n",
    "subs_data = (\n",
    "    bqclient.query(query_string)\n",
    "    .result()\n",
    "    .to_dataframe(bqstorage_client=bqstorageclient)\n",
    ") \n",
    "\n",
    "print(\"--- %s seconds ---\" % (time.time() - start_time))\n",
    "\n",
    "subs_data[\"subscription_status\"] = \"subscriber\"\n",
    "\n",
    "# drop unnecessary col & rename\n",
    "subs_data.drop(['user_id_uid', 'resource_id_rid'], axis=1, inplace=True)\n",
    "\n",
    "subs_data.rename(columns={'ga_pianoId': \n",
    "                          'piano_id'}, \n",
    "                 inplace=True)\n",
    "\n",
    "print(\"Shape: \", subs_data.shape)\n",
    "\n",
    "start_time = time.time()\n",
    "\n",
    "query_string = \"\"\"\n",
    "  SELECT\n",
    "       *\n",
    "    FROM\n",
    "        `api-project-901373404215.skt.smpv3_nonsubs_ga`\n",
    "\"\"\"\n",
    "\n",
    "nonsubs_data = (\n",
    "    bqclient.query(query_string)\n",
    "    .result()\n",
    "    .to_dataframe(bqstorage_client=bqstorageclient)\n",
    ") \n",
    "\n",
    "print(\"--- %s seconds ---\" % (time.time() - start_time))\n",
    "\n",
    "nonsubs_data[\"subscription_status\"] = \"non_subscriber\"\n",
    "\n",
    "print(\"Before:\", nonsubs_data.shape)\n",
    "\n",
    "# some suspicious fvids have no pianoID but their dfpZone has 'subscriber' in it - remove them\n",
    "\n",
    "nonsubs_data.GA_dfpNewZone = nonsubs_data.GA_dfpNewZone.fillna('none')\n",
    "\n",
    "suspicious_fvid = nonsubs_data[nonsubs_data.GA_dfpNewZone.str.contains('/subscriber/')].GA_fullVisitorId.unique()\n",
    "\n",
    "nonsubs_data = nonsubs_data[~nonsubs_data.GA_fullVisitorId.isin(suspicious_fvid)]\n",
    "\n",
    "print(\"After removing \", \n",
    "      len(suspicious_fvid), \n",
    "      \"suspicious fvids:\", nonsubs_data.shape)\n",
    "\n",
    "df_pv3_filter = pd.concat([subs_data, nonsubs_data])\n",
    "\n",
    "print(\"Shape: \", df_pv3_filter.shape, \"\\n\")\n",
    "\n",
    "print(\"Total fvids in df: \", len(df_pv3_filter.GA_fullVisitorId.unique()), \"\\n\")"
   ]
  },
  {
   "cell_type": "code",
   "execution_count": 6,
   "id": "813011a4",
   "metadata": {
    "jupyter": {
     "source_hidden": true
    }
   },
   "outputs": [],
   "source": [
    "def pvs_eda(input_df, cat_col_name, drop_cols=False):\n",
    "    \n",
    "    # pivot\n",
    "    df_cat = pd.pivot_table(\n",
    "        input_df, \n",
    "        values='GA_pageViews',\n",
    "        columns= cat_col_name,\n",
    "        index='subscription_status',\n",
    "        aggfunc='sum')\\\n",
    "        .reset_index()\n",
    "    \n",
    "    # drop none and other cols\n",
    "    if drop_cols==True:\n",
    "        \n",
    "        if 'none' in list(df_cat.columns):\n",
    "            df_cat.drop('none', axis=1, inplace=True)\n",
    "        \n",
    "        if 'other' in list(df_cat.columns):\n",
    "            df_cat.drop('other', axis=1, inplace=True)\n",
    "\n",
    "    \n",
    "    # percentage calc below\n",
    "    df_cat = df_cat.fillna(0)\n",
    "    df_cat = df_cat.T\n",
    "    \n",
    "    new_header = df_cat.iloc[0] # grab the first row for the header\n",
    "    df_cat = df_cat[1:] # take the data minus the header row\n",
    "    df_cat.columns = new_header\n",
    "  \n",
    "    df_cat['% of non_subscriber pvs'] = (df_cat['non_subscriber'] / df_cat['non_subscriber'].sum()) * 100\n",
    "    df_cat['% of subscriber pvs'] = (df_cat['subscriber'] / df_cat['subscriber'].sum()) * 100\n",
    "    \n",
    "    df_cat.drop(['non_subscriber', 'subscriber'], axis=1, inplace=True)\n",
    "\n",
    "    df_cat['non_subscriber_rank'] = df_cat['% of non_subscriber pvs'].rank(ascending=False).astype(int)\n",
    "    df_cat['subscriber_rank'] = df_cat['% of subscriber pvs'].rank(ascending=False).astype(int)\n",
    "\n",
    "    df_cat = df_cat.sort_values('subscriber_rank')\n",
    "    \n",
    "    return df_cat\n",
    "\n",
    "\n",
    "# df_nofilter = pd.read_csv(\"training_data_11192021.csv\")\n",
    "# df_pv1_filter = pd.read_csv(\"pv1_training_data_01062022.csv\")\n",
    "# df_pv3_filter = pd.read_csv(\"pv3_training_data_01062022.csv\")"
   ]
  },
  {
   "cell_type": "code",
   "execution_count": null,
   "id": "c982195e",
   "metadata": {},
   "outputs": [],
   "source": [
    "# feature distributions overlap more as we progress"
   ]
  },
  {
   "cell_type": "markdown",
   "id": "403cecc2",
   "metadata": {},
   "source": [
    "* Orig - pvs per person"
   ]
  },
  {
   "cell_type": "code",
   "execution_count": 9,
   "id": "147ed9c4",
   "metadata": {
    "jupyter": {
     "source_hidden": true
    }
   },
   "outputs": [
    {
     "data": {
      "text/html": [
       "<div>\n",
       "<style scoped>\n",
       "    .dataframe tbody tr th:only-of-type {\n",
       "        vertical-align: middle;\n",
       "    }\n",
       "\n",
       "    .dataframe tbody tr th {\n",
       "        vertical-align: top;\n",
       "    }\n",
       "\n",
       "    .dataframe thead th {\n",
       "        text-align: right;\n",
       "    }\n",
       "</style>\n",
       "<table border=\"1\" class=\"dataframe\">\n",
       "  <thead>\n",
       "    <tr style=\"text-align: right;\">\n",
       "      <th>subscription_status</th>\n",
       "      <th>non_subscriber</th>\n",
       "      <th>subscriber</th>\n",
       "    </tr>\n",
       "  </thead>\n",
       "  <tbody>\n",
       "    <tr>\n",
       "      <th>mean</th>\n",
       "      <td>2.91</td>\n",
       "      <td>66.94</td>\n",
       "    </tr>\n",
       "    <tr>\n",
       "      <th>std</th>\n",
       "      <td>5.34</td>\n",
       "      <td>358.19</td>\n",
       "    </tr>\n",
       "    <tr>\n",
       "      <th>min</th>\n",
       "      <td>1.00</td>\n",
       "      <td>1.00</td>\n",
       "    </tr>\n",
       "    <tr>\n",
       "      <th>25%</th>\n",
       "      <td>1.00</td>\n",
       "      <td>9.00</td>\n",
       "    </tr>\n",
       "    <tr>\n",
       "      <th>50%</th>\n",
       "      <td>1.00</td>\n",
       "      <td>22.00</td>\n",
       "    </tr>\n",
       "    <tr>\n",
       "      <th>75%</th>\n",
       "      <td>3.00</td>\n",
       "      <td>56.00</td>\n",
       "    </tr>\n",
       "    <tr>\n",
       "      <th>max</th>\n",
       "      <td>492.00</td>\n",
       "      <td>46250.00</td>\n",
       "    </tr>\n",
       "  </tbody>\n",
       "</table>\n",
       "</div>"
      ],
      "text/plain": [
       "subscription_status  non_subscriber  subscriber\n",
       "mean                           2.91       66.94\n",
       "std                            5.34      358.19\n",
       "min                            1.00        1.00\n",
       "25%                            1.00        9.00\n",
       "50%                            1.00       22.00\n",
       "75%                            3.00       56.00\n",
       "max                          492.00    46250.00"
      ]
     },
     "execution_count": 9,
     "metadata": {},
     "output_type": "execute_result"
    }
   ],
   "source": [
    "whole_1 = df_nofilter.groupby(['GA_fullVisitorId', 'subscription_status']).agg({'GA_pageViews': 'sum', 'timeOnPage': 'sum'}).reset_index().rename(columns={'GA_pageViews': 'sum_pvs'})\n",
    "whole_1[\"avg_top\"] = whole_1['timeOnPage']/whole_1['sum_pvs']\n",
    "whole_1.groupby('subscription_status').sum_pvs.describe().T.iloc[1:]"
   ]
  },
  {
   "cell_type": "markdown",
   "id": "13b1e946",
   "metadata": {},
   "source": [
    "* PV filter >1 - pvs per person"
   ]
  },
  {
   "cell_type": "code",
   "execution_count": 7,
   "id": "58391049",
   "metadata": {
    "jupyter": {
     "source_hidden": true
    }
   },
   "outputs": [
    {
     "data": {
      "text/html": [
       "<div>\n",
       "<style scoped>\n",
       "    .dataframe tbody tr th:only-of-type {\n",
       "        vertical-align: middle;\n",
       "    }\n",
       "\n",
       "    .dataframe tbody tr th {\n",
       "        vertical-align: top;\n",
       "    }\n",
       "\n",
       "    .dataframe thead th {\n",
       "        text-align: right;\n",
       "    }\n",
       "</style>\n",
       "<table border=\"1\" class=\"dataframe\">\n",
       "  <thead>\n",
       "    <tr style=\"text-align: right;\">\n",
       "      <th>subscription_status</th>\n",
       "      <th>non_subscriber</th>\n",
       "      <th>subscriber</th>\n",
       "    </tr>\n",
       "  </thead>\n",
       "  <tbody>\n",
       "    <tr>\n",
       "      <th>mean</th>\n",
       "      <td>6.04</td>\n",
       "      <td>54.20</td>\n",
       "    </tr>\n",
       "    <tr>\n",
       "      <th>std</th>\n",
       "      <td>10.06</td>\n",
       "      <td>179.55</td>\n",
       "    </tr>\n",
       "    <tr>\n",
       "      <th>min</th>\n",
       "      <td>2.00</td>\n",
       "      <td>1.00</td>\n",
       "    </tr>\n",
       "    <tr>\n",
       "      <th>25%</th>\n",
       "      <td>2.00</td>\n",
       "      <td>7.00</td>\n",
       "    </tr>\n",
       "    <tr>\n",
       "      <th>50%</th>\n",
       "      <td>3.00</td>\n",
       "      <td>19.00</td>\n",
       "    </tr>\n",
       "    <tr>\n",
       "      <th>75%</th>\n",
       "      <td>6.00</td>\n",
       "      <td>47.00</td>\n",
       "    </tr>\n",
       "    <tr>\n",
       "      <th>max</th>\n",
       "      <td>1098.00</td>\n",
       "      <td>18024.00</td>\n",
       "    </tr>\n",
       "  </tbody>\n",
       "</table>\n",
       "</div>"
      ],
      "text/plain": [
       "subscription_status  non_subscriber  subscriber\n",
       "mean                           6.04       54.20\n",
       "std                           10.06      179.55\n",
       "min                            2.00        1.00\n",
       "25%                            2.00        7.00\n",
       "50%                            3.00       19.00\n",
       "75%                            6.00       47.00\n",
       "max                         1098.00    18024.00"
      ]
     },
     "execution_count": 7,
     "metadata": {},
     "output_type": "execute_result"
    }
   ],
   "source": [
    "whole_2 = df_pv1_filter.groupby(['GA_fullVisitorId', 'subscription_status']).agg({'GA_pageViews': 'sum', 'timeOnPage': 'sum'}).reset_index().rename(columns={'GA_pageViews': 'sum_pvs'})\n",
    "whole_2[\"avg_top\"] = whole_2['timeOnPage']/whole_2['sum_pvs']\n",
    "whole_2.groupby('subscription_status').sum_pvs.describe().T.iloc[1:]"
   ]
  },
  {
   "cell_type": "markdown",
   "id": "2b0a779e",
   "metadata": {},
   "source": [
    "* PV filter >3 - pvs per person"
   ]
  },
  {
   "cell_type": "code",
   "execution_count": 8,
   "id": "b2622a9d",
   "metadata": {
    "jupyter": {
     "source_hidden": true
    }
   },
   "outputs": [
    {
     "data": {
      "text/html": [
       "<div>\n",
       "<style scoped>\n",
       "    .dataframe tbody tr th:only-of-type {\n",
       "        vertical-align: middle;\n",
       "    }\n",
       "\n",
       "    .dataframe tbody tr th {\n",
       "        vertical-align: top;\n",
       "    }\n",
       "\n",
       "    .dataframe thead th {\n",
       "        text-align: right;\n",
       "    }\n",
       "</style>\n",
       "<table border=\"1\" class=\"dataframe\">\n",
       "  <thead>\n",
       "    <tr style=\"text-align: right;\">\n",
       "      <th>subscription_status</th>\n",
       "      <th>non_subscriber</th>\n",
       "      <th>subscriber</th>\n",
       "    </tr>\n",
       "  </thead>\n",
       "  <tbody>\n",
       "    <tr>\n",
       "      <th>mean</th>\n",
       "      <td>14.50</td>\n",
       "      <td>54.20</td>\n",
       "    </tr>\n",
       "    <tr>\n",
       "      <th>std</th>\n",
       "      <td>22.84</td>\n",
       "      <td>179.55</td>\n",
       "    </tr>\n",
       "    <tr>\n",
       "      <th>min</th>\n",
       "      <td>4.00</td>\n",
       "      <td>1.00</td>\n",
       "    </tr>\n",
       "    <tr>\n",
       "      <th>25%</th>\n",
       "      <td>5.00</td>\n",
       "      <td>7.00</td>\n",
       "    </tr>\n",
       "    <tr>\n",
       "      <th>50%</th>\n",
       "      <td>8.00</td>\n",
       "      <td>19.00</td>\n",
       "    </tr>\n",
       "    <tr>\n",
       "      <th>75%</th>\n",
       "      <td>16.00</td>\n",
       "      <td>47.00</td>\n",
       "    </tr>\n",
       "    <tr>\n",
       "      <th>max</th>\n",
       "      <td>5261.00</td>\n",
       "      <td>18024.00</td>\n",
       "    </tr>\n",
       "  </tbody>\n",
       "</table>\n",
       "</div>"
      ],
      "text/plain": [
       "subscription_status  non_subscriber  subscriber\n",
       "mean                          14.50       54.20\n",
       "std                           22.84      179.55\n",
       "min                            4.00        1.00\n",
       "25%                            5.00        7.00\n",
       "50%                            8.00       19.00\n",
       "75%                           16.00       47.00\n",
       "max                         5261.00    18024.00"
      ]
     },
     "execution_count": 8,
     "metadata": {},
     "output_type": "execute_result"
    }
   ],
   "source": [
    "whole_3 = df_pv3_filter.groupby(['GA_fullVisitorId', 'subscription_status']).agg({'GA_pageViews': 'sum', 'timeOnPage': 'sum'}).reset_index().rename(columns={'GA_pageViews': 'sum_pvs'})\n",
    "whole_3[\"avg_top\"] = whole_3['timeOnPage']/whole_3['sum_pvs']\n",
    "whole_3.groupby('subscription_status').sum_pvs.describe().T.iloc[1:]"
   ]
  },
  {
   "cell_type": "markdown",
   "id": "a015ba81",
   "metadata": {},
   "source": [
    "* Orig - avg top per person"
   ]
  },
  {
   "cell_type": "code",
   "execution_count": 15,
   "id": "bf5646a8",
   "metadata": {},
   "outputs": [
    {
     "data": {
      "text/html": [
       "<div>\n",
       "<style scoped>\n",
       "    .dataframe tbody tr th:only-of-type {\n",
       "        vertical-align: middle;\n",
       "    }\n",
       "\n",
       "    .dataframe tbody tr th {\n",
       "        vertical-align: top;\n",
       "    }\n",
       "\n",
       "    .dataframe thead th {\n",
       "        text-align: right;\n",
       "    }\n",
       "</style>\n",
       "<table border=\"1\" class=\"dataframe\">\n",
       "  <thead>\n",
       "    <tr style=\"text-align: right;\">\n",
       "      <th>subscription_status</th>\n",
       "      <th>non_subscriber</th>\n",
       "      <th>subscriber</th>\n",
       "    </tr>\n",
       "  </thead>\n",
       "  <tbody>\n",
       "    <tr>\n",
       "      <th>mean</th>\n",
       "      <td>72.66</td>\n",
       "      <td>135.96</td>\n",
       "    </tr>\n",
       "    <tr>\n",
       "      <th>std</th>\n",
       "      <td>123.51</td>\n",
       "      <td>107.22</td>\n",
       "    </tr>\n",
       "    <tr>\n",
       "      <th>min</th>\n",
       "      <td>0.00</td>\n",
       "      <td>0.00</td>\n",
       "    </tr>\n",
       "    <tr>\n",
       "      <th>25%</th>\n",
       "      <td>7.00</td>\n",
       "      <td>65.11</td>\n",
       "    </tr>\n",
       "    <tr>\n",
       "      <th>50%</th>\n",
       "      <td>36.00</td>\n",
       "      <td>113.85</td>\n",
       "    </tr>\n",
       "    <tr>\n",
       "      <th>75%</th>\n",
       "      <td>87.86</td>\n",
       "      <td>178.19</td>\n",
       "    </tr>\n",
       "    <tr>\n",
       "      <th>max</th>\n",
       "      <td>2941.00</td>\n",
       "      <td>2713.00</td>\n",
       "    </tr>\n",
       "  </tbody>\n",
       "</table>\n",
       "</div>"
      ],
      "text/plain": [
       "subscription_status  non_subscriber  subscriber\n",
       "mean                          72.66      135.96\n",
       "std                          123.51      107.22\n",
       "min                            0.00        0.00\n",
       "25%                            7.00       65.11\n",
       "50%                           36.00      113.85\n",
       "75%                           87.86      178.19\n",
       "max                         2941.00     2713.00"
      ]
     },
     "execution_count": 15,
     "metadata": {},
     "output_type": "execute_result"
    }
   ],
   "source": [
    "whole_1.groupby('subscription_status').avg_top.describe().T.iloc[1:]"
   ]
  },
  {
   "cell_type": "markdown",
   "id": "5bdd8eb5",
   "metadata": {},
   "source": [
    "* PV filter >1 - avg top per person"
   ]
  },
  {
   "cell_type": "code",
   "execution_count": 16,
   "id": "970a9f0f",
   "metadata": {},
   "outputs": [
    {
     "data": {
      "text/html": [
       "<div>\n",
       "<style scoped>\n",
       "    .dataframe tbody tr th:only-of-type {\n",
       "        vertical-align: middle;\n",
       "    }\n",
       "\n",
       "    .dataframe tbody tr th {\n",
       "        vertical-align: top;\n",
       "    }\n",
       "\n",
       "    .dataframe thead th {\n",
       "        text-align: right;\n",
       "    }\n",
       "</style>\n",
       "<table border=\"1\" class=\"dataframe\">\n",
       "  <thead>\n",
       "    <tr style=\"text-align: right;\">\n",
       "      <th>subscription_status</th>\n",
       "      <th>non_subscriber</th>\n",
       "      <th>subscriber</th>\n",
       "    </tr>\n",
       "  </thead>\n",
       "  <tbody>\n",
       "    <tr>\n",
       "      <th>mean</th>\n",
       "      <td>92.85</td>\n",
       "      <td>137.01</td>\n",
       "    </tr>\n",
       "    <tr>\n",
       "      <th>std</th>\n",
       "      <td>138.22</td>\n",
       "      <td>106.19</td>\n",
       "    </tr>\n",
       "    <tr>\n",
       "      <th>min</th>\n",
       "      <td>0.00</td>\n",
       "      <td>0.00</td>\n",
       "    </tr>\n",
       "    <tr>\n",
       "      <th>25%</th>\n",
       "      <td>17.20</td>\n",
       "      <td>66.82</td>\n",
       "    </tr>\n",
       "    <tr>\n",
       "      <th>50%</th>\n",
       "      <td>46.77</td>\n",
       "      <td>114.80</td>\n",
       "    </tr>\n",
       "    <tr>\n",
       "      <th>75%</th>\n",
       "      <td>104.50</td>\n",
       "      <td>178.82</td>\n",
       "    </tr>\n",
       "    <tr>\n",
       "      <th>max</th>\n",
       "      <td>2434.00</td>\n",
       "      <td>3537.50</td>\n",
       "    </tr>\n",
       "  </tbody>\n",
       "</table>\n",
       "</div>"
      ],
      "text/plain": [
       "subscription_status  non_subscriber  subscriber\n",
       "mean                          92.85      137.01\n",
       "std                          138.22      106.19\n",
       "min                            0.00        0.00\n",
       "25%                           17.20       66.82\n",
       "50%                           46.77      114.80\n",
       "75%                          104.50      178.82\n",
       "max                         2434.00     3537.50"
      ]
     },
     "execution_count": 16,
     "metadata": {},
     "output_type": "execute_result"
    }
   ],
   "source": [
    "whole_2.groupby('subscription_status').avg_top.describe().T.iloc[1:]"
   ]
  },
  {
   "cell_type": "code",
   "execution_count": 17,
   "id": "46454ec1",
   "metadata": {
    "collapsed": true,
    "jupyter": {
     "outputs_hidden": true,
     "source_hidden": true
    }
   },
   "outputs": [
    {
     "data": {
      "text/html": [
       "<div>\n",
       "<style scoped>\n",
       "    .dataframe tbody tr th:only-of-type {\n",
       "        vertical-align: middle;\n",
       "    }\n",
       "\n",
       "    .dataframe tbody tr th {\n",
       "        vertical-align: top;\n",
       "    }\n",
       "\n",
       "    .dataframe thead th {\n",
       "        text-align: right;\n",
       "    }\n",
       "</style>\n",
       "<table border=\"1\" class=\"dataframe\">\n",
       "  <thead>\n",
       "    <tr style=\"text-align: right;\">\n",
       "      <th>subscription_status</th>\n",
       "      <th>non_subscriber</th>\n",
       "      <th>subscriber</th>\n",
       "    </tr>\n",
       "  </thead>\n",
       "  <tbody>\n",
       "    <tr>\n",
       "      <th>mean</th>\n",
       "      <td>92.00</td>\n",
       "      <td>137.01</td>\n",
       "    </tr>\n",
       "    <tr>\n",
       "      <th>std</th>\n",
       "      <td>104.69</td>\n",
       "      <td>106.19</td>\n",
       "    </tr>\n",
       "    <tr>\n",
       "      <th>min</th>\n",
       "      <td>0.00</td>\n",
       "      <td>0.00</td>\n",
       "    </tr>\n",
       "    <tr>\n",
       "      <th>25%</th>\n",
       "      <td>25.50</td>\n",
       "      <td>66.82</td>\n",
       "    </tr>\n",
       "    <tr>\n",
       "      <th>50%</th>\n",
       "      <td>58.15</td>\n",
       "      <td>114.80</td>\n",
       "    </tr>\n",
       "    <tr>\n",
       "      <th>75%</th>\n",
       "      <td>116.57</td>\n",
       "      <td>178.82</td>\n",
       "    </tr>\n",
       "    <tr>\n",
       "      <th>max</th>\n",
       "      <td>1449.00</td>\n",
       "      <td>3537.50</td>\n",
       "    </tr>\n",
       "  </tbody>\n",
       "</table>\n",
       "</div>"
      ],
      "text/plain": [
       "subscription_status  non_subscriber  subscriber\n",
       "mean                          92.00      137.01\n",
       "std                          104.69      106.19\n",
       "min                            0.00        0.00\n",
       "25%                           25.50       66.82\n",
       "50%                           58.15      114.80\n",
       "75%                          116.57      178.82\n",
       "max                         1449.00     3537.50"
      ]
     },
     "execution_count": 17,
     "metadata": {},
     "output_type": "execute_result"
    }
   ],
   "source": [
    "whole_3.groupby('subscription_status').avg_top.describe().T.iloc[1:]"
   ]
  },
  {
   "cell_type": "code",
   "execution_count": null,
   "id": "aeb70b00",
   "metadata": {},
   "outputs": [],
   "source": []
  },
  {
   "cell_type": "code",
   "execution_count": null,
   "id": "777095c1",
   "metadata": {},
   "outputs": [],
   "source": []
  },
  {
   "cell_type": "code",
   "execution_count": null,
   "id": "71d0fe57",
   "metadata": {},
   "outputs": [],
   "source": []
  },
  {
   "cell_type": "markdown",
   "id": "d591a2c7",
   "metadata": {},
   "source": [
    "* Non-subs pool = Those who came in Oct'21 with no pv filter\n",
    "    * Features from their GA history = Jan '21 to Oct '21"
   ]
  },
  {
   "cell_type": "code",
   "execution_count": 5,
   "id": "38a8da25",
   "metadata": {},
   "outputs": [
    {
     "name": "stdout",
     "output_type": "stream",
     "text": [
      "--- 5.28026556968689 seconds ---\n",
      "Shape:  (1192679, 22)\n",
      "Unique non-sub fullvids:  410000 \n",
      "\n",
      "Duplicates?:  True \n",
      "\n"
     ]
    }
   ],
   "source": [
    "start_time = time.time()\n",
    "\n",
    "query_string = \"\"\"\n",
    "  SELECT\n",
    "       *\n",
    "    FROM\n",
    "        `api-project-901373404215.skt.sm_nonsubs_ga`\n",
    "\"\"\"\n",
    "\n",
    "ns_nofilter = (\n",
    "    bqclient.query(query_string)\n",
    "    .result()\n",
    "    .to_dataframe(bqstorage_client=bqstorageclient)\n",
    ") \n",
    "\n",
    "print(\"--- %s seconds ---\" % (time.time() - start_time))\n",
    "\n",
    "print(\"Shape: \", ns_nofilter.shape)\n",
    "print(\"Unique non-sub fullvids: \", len(ns_nofilter.GA_fullVisitorId.unique()), \"\\n\")\n",
    "print(\"Duplicates?: \", ns_nofilter.duplicated().any(), \"\\n\")"
   ]
  },
  {
   "cell_type": "code",
   "execution_count": 10,
   "id": "48160904",
   "metadata": {},
   "outputs": [
    {
     "data": {
      "text/plain": [
       "10"
      ]
     },
     "execution_count": 10,
     "metadata": {},
     "output_type": "execute_result"
    }
   ],
   "source": [
    "suspicious_fvid_nofilter = ns_nofilter[ns_nofilter.GA_dfpNewZone.str.contains('/subscriber/')].GA_fullVisitorId.unique()\n",
    "len(suspicious_fvid_nofilter)"
   ]
  },
  {
   "cell_type": "markdown",
   "id": "d6426d92",
   "metadata": {},
   "source": [
    "* Non-subs pool = Those who came in Dec'21 with >1 pv filter\n",
    "    * Features from their GA history = Jan '21 to Dec '21"
   ]
  },
  {
   "cell_type": "code",
   "execution_count": 7,
   "id": "4ddb076d",
   "metadata": {},
   "outputs": [
    {
     "name": "stdout",
     "output_type": "stream",
     "text": [
      "--- 3.7816431522369385 seconds ---\n",
      "Shape:  (2478658, 22)\n",
      "Unique non-sub fullvids:  410000 \n",
      "\n",
      "Duplicates?:  True \n",
      "\n"
     ]
    }
   ],
   "source": [
    "start_time = time.time()\n",
    "\n",
    "query_string = \"\"\"\n",
    "  SELECT\n",
    "       *\n",
    "    FROM\n",
    "        `api-project-901373404215.skt.smpv1_nonsubs_ga`\n",
    "\"\"\"\n",
    "\n",
    "ns_pv1_filter = (\n",
    "    bqclient.query(query_string)\n",
    "    .result()\n",
    "    .to_dataframe(bqstorage_client=bqstorageclient)\n",
    ") \n",
    "\n",
    "print(\"--- %s seconds ---\" % (time.time() - start_time))\n",
    "\n",
    "print(\"Shape: \", ns_pv1_filter.shape)\n",
    "print(\"Unique non-sub fullvids: \", len(ns_pv1_filter.GA_fullVisitorId.unique()), \"\\n\")\n",
    "print(\"Duplicates?: \", ns_pv1_filter.duplicated().any(), \"\\n\")"
   ]
  },
  {
   "cell_type": "code",
   "execution_count": 12,
   "id": "cc617075",
   "metadata": {},
   "outputs": [
    {
     "data": {
      "text/plain": [
       "76"
      ]
     },
     "execution_count": 12,
     "metadata": {},
     "output_type": "execute_result"
    }
   ],
   "source": [
    "suspicious_fvid_pv1filter = ns_pv1_filter[ns_pv1_filter.GA_dfpNewZone.str.contains('/subscriber/')].GA_fullVisitorId.unique()\n",
    "len(suspicious_fvid_pv1filter)"
   ]
  },
  {
   "cell_type": "markdown",
   "id": "555e4472",
   "metadata": {},
   "source": [
    "* Non-subs pool = Those who came in Dec'21 with >3 pv filter\n",
    "    * Features from their GA history = Jan '21 to Dec '21"
   ]
  },
  {
   "cell_type": "code",
   "execution_count": 8,
   "id": "a7b5a19c",
   "metadata": {},
   "outputs": [
    {
     "name": "stdout",
     "output_type": "stream",
     "text": [
      "--- 8.812063455581665 seconds ---\n",
      "Shape:  (6014971, 22)\n",
      "Unique non-sub fullvids:  410000 \n",
      "\n",
      "Duplicates?:  True \n",
      "\n"
     ]
    }
   ],
   "source": [
    "start_time = time.time()\n",
    "\n",
    "query_string = \"\"\"\n",
    "  SELECT\n",
    "       *\n",
    "    FROM\n",
    "        `api-project-901373404215.skt.smpv3_nonsubs_ga`\n",
    "\"\"\"\n",
    "\n",
    "ns_pv3_filter = (\n",
    "    bqclient.query(query_string)\n",
    "    .result()\n",
    "    .to_dataframe(bqstorage_client=bqstorageclient)\n",
    ") \n",
    "\n",
    "print(\"--- %s seconds ---\" % (time.time() - start_time))\n",
    "\n",
    "print(\"Shape: \", ns_pv3_filter.shape)\n",
    "print(\"Unique non-sub fullvids: \", len(ns_pv3_filter.GA_fullVisitorId.unique()), \"\\n\")\n",
    "print(\"Duplicates?: \", ns_pv3_filter.duplicated().any(), \"\\n\")"
   ]
  },
  {
   "cell_type": "code",
   "execution_count": 18,
   "id": "bff2b194",
   "metadata": {},
   "outputs": [
    {
     "data": {
      "text/plain": [
       "395"
      ]
     },
     "execution_count": 18,
     "metadata": {},
     "output_type": "execute_result"
    }
   ],
   "source": [
    "ns_pv3_filter.GA_dfpNewZone = ns_pv3_filter.GA_dfpNewZone.fillna('none')\n",
    "\n",
    "suspicious_fvid_pv3filter = ns_pv3_filter[ns_pv3_filter.GA_dfpNewZone.str.contains('/subscriber/')].GA_fullVisitorId.unique()\n",
    "len(suspicious_fvid_pv3filter)"
   ]
  },
  {
   "cell_type": "code",
   "execution_count": null,
   "id": "0c9c8813",
   "metadata": {},
   "outputs": [],
   "source": []
  },
  {
   "cell_type": "markdown",
   "id": "485e8b46",
   "metadata": {},
   "source": [
    "* FVID intersection between 3 tables"
   ]
  },
  {
   "cell_type": "code",
   "execution_count": 25,
   "id": "ed03fb83",
   "metadata": {},
   "outputs": [
    {
     "data": {
      "text/plain": [
       "(865, 1)"
      ]
     },
     "execution_count": 25,
     "metadata": {},
     "output_type": "execute_result"
    }
   ],
   "source": [
    "no_pv1 = pd.merge(ns_nofilter[['GA_fullVisitorId']].drop_duplicates(keep='first'), \n",
    "                  ns_pv1_filter[['GA_fullVisitorId']].drop_duplicates(keep='first'), on=['GA_fullVisitorId'], how='inner')\n",
    "no_pv1.shape"
   ]
  },
  {
   "cell_type": "code",
   "execution_count": 26,
   "id": "8d8a622f",
   "metadata": {},
   "outputs": [
    {
     "data": {
      "text/plain": [
       "(1601, 1)"
      ]
     },
     "execution_count": 26,
     "metadata": {},
     "output_type": "execute_result"
    }
   ],
   "source": [
    "no_pv3 = pd.merge(ns_nofilter[['GA_fullVisitorId']].drop_duplicates(keep='first'), \n",
    "                  ns_pv3_filter[['GA_fullVisitorId']].drop_duplicates(keep='first'), on=['GA_fullVisitorId'], how='inner')\n",
    "no_pv3.shape"
   ]
  },
  {
   "cell_type": "code",
   "execution_count": 27,
   "id": "8e9f8cf1",
   "metadata": {},
   "outputs": [
    {
     "data": {
      "text/plain": [
       "(1601, 1)"
      ]
     },
     "execution_count": 27,
     "metadata": {},
     "output_type": "execute_result"
    }
   ],
   "source": [
    "pv1_pv3 = pd.merge(ns_nofilter[['GA_fullVisitorId']].drop_duplicates(keep='first'), \n",
    "                  ns_pv3_filter[['GA_fullVisitorId']].drop_duplicates(keep='first'), on=['GA_fullVisitorId'], how='inner')\n",
    "pv1_pv3.shape"
   ]
  },
  {
   "cell_type": "markdown",
   "id": "b20ef02a",
   "metadata": {},
   "source": [
    "* Suspicious FVID intersection between 3 tables"
   ]
  },
  {
   "cell_type": "code",
   "execution_count": 28,
   "id": "8a7faa05",
   "metadata": {},
   "outputs": [
    {
     "data": {
      "text/plain": [
       "0"
      ]
     },
     "execution_count": 28,
     "metadata": {},
     "output_type": "execute_result"
    }
   ],
   "source": [
    "len([x for x in suspicious_fvid_nofilter if x in suspicious_fvid_pv1filter])"
   ]
  },
  {
   "cell_type": "code",
   "execution_count": 29,
   "id": "3d1d50f0",
   "metadata": {},
   "outputs": [
    {
     "data": {
      "text/plain": [
       "0"
      ]
     },
     "execution_count": 29,
     "metadata": {},
     "output_type": "execute_result"
    }
   ],
   "source": [
    "len([x for x in suspicious_fvid_nofilter if x in suspicious_fvid_pv3filter])"
   ]
  },
  {
   "cell_type": "code",
   "execution_count": 30,
   "id": "c575e90c",
   "metadata": {},
   "outputs": [
    {
     "data": {
      "text/plain": [
       "39"
      ]
     },
     "execution_count": 30,
     "metadata": {},
     "output_type": "execute_result"
    }
   ],
   "source": [
    "len([x for x in suspicious_fvid_pv1filter if x in suspicious_fvid_pv3filter])"
   ]
  },
  {
   "cell_type": "code",
   "execution_count": null,
   "id": "5016d1f5",
   "metadata": {},
   "outputs": [],
   "source": []
  },
  {
   "cell_type": "markdown",
   "id": "1c0d0f3e",
   "metadata": {},
   "source": [
    "* Check"
   ]
  },
  {
   "cell_type": "code",
   "execution_count": 41,
   "id": "e542cf1e",
   "metadata": {},
   "outputs": [
    {
     "name": "stdout",
     "output_type": "stream",
     "text": [
      "--- 4.3037474155426025 seconds ---\n",
      "Shape:  (410000, 3)\n",
      "--- 5.466241836547852 seconds ---\n",
      "Shape:  (600000, 3)\n"
     ]
    }
   ],
   "source": [
    "# non-subs pool orig\n",
    "start_time = time.time()\n",
    "\n",
    "query_string = \"\"\"\n",
    "  SELECT\n",
    "       *\n",
    "    FROM\n",
    "        `api-project-901373404215.skt.sm_nonsubs_pool`\n",
    "\"\"\"\n",
    "\n",
    "sm_nonsubs_pool = (\n",
    "    bqclient.query(query_string)\n",
    "    .result()\n",
    "    .to_dataframe(bqstorage_client=bqstorageclient)\n",
    ") \n",
    "\n",
    "print(\"--- %s seconds ---\" % (time.time() - start_time))\n",
    "print(\"Shape: \", sm_nonsubs_pool.shape)\n",
    "\n",
    "\n",
    "start_time = time.time()\n",
    "\n",
    "query_string = \"\"\"\n",
    "  SELECT\n",
    "       *\n",
    "    FROM\n",
    "        `api-project-901373404215.skt.sm_pred_ns_pool`\n",
    "\"\"\"\n",
    "\n",
    "# for prediction - non-subs pool orig\n",
    "sm_pred_ns_pool = (\n",
    "    bqclient.query(query_string)\n",
    "    .result()\n",
    "    .to_dataframe(bqstorage_client=bqstorageclient)\n",
    ") \n",
    "\n",
    "print(\"--- %s seconds ---\" % (time.time() - start_time))\n",
    "\n",
    "print(\"Shape: \", sm_pred_ns_pool.shape)"
   ]
  },
  {
   "cell_type": "code",
   "execution_count": 44,
   "id": "3b96334b",
   "metadata": {},
   "outputs": [
    {
     "data": {
      "text/html": [
       "<div>\n",
       "<style scoped>\n",
       "    .dataframe tbody tr th:only-of-type {\n",
       "        vertical-align: middle;\n",
       "    }\n",
       "\n",
       "    .dataframe tbody tr th {\n",
       "        vertical-align: top;\n",
       "    }\n",
       "\n",
       "    .dataframe thead th {\n",
       "        text-align: right;\n",
       "    }\n",
       "</style>\n",
       "<table border=\"1\" class=\"dataframe\">\n",
       "  <thead>\n",
       "    <tr style=\"text-align: right;\">\n",
       "      <th></th>\n",
       "      <th>ga_fullvisitorid</th>\n",
       "    </tr>\n",
       "  </thead>\n",
       "  <tbody>\n",
       "    <tr>\n",
       "      <th>0</th>\n",
       "      <td>5992610480279103811</td>\n",
       "    </tr>\n",
       "    <tr>\n",
       "      <th>1</th>\n",
       "      <td>12483903402323082477</td>\n",
       "    </tr>\n",
       "    <tr>\n",
       "      <th>2</th>\n",
       "      <td>1861921945347904623</td>\n",
       "    </tr>\n",
       "    <tr>\n",
       "      <th>3</th>\n",
       "      <td>9799352427386252145</td>\n",
       "    </tr>\n",
       "    <tr>\n",
       "      <th>4</th>\n",
       "      <td>17197990784528439405</td>\n",
       "    </tr>\n",
       "    <tr>\n",
       "      <th>...</th>\n",
       "      <td>...</td>\n",
       "    </tr>\n",
       "    <tr>\n",
       "      <th>1178</th>\n",
       "      <td>17252594532856133119</td>\n",
       "    </tr>\n",
       "    <tr>\n",
       "      <th>1179</th>\n",
       "      <td>11102421430835610168</td>\n",
       "    </tr>\n",
       "    <tr>\n",
       "      <th>1180</th>\n",
       "      <td>16042947245132483460</td>\n",
       "    </tr>\n",
       "    <tr>\n",
       "      <th>1181</th>\n",
       "      <td>1036755021071626715</td>\n",
       "    </tr>\n",
       "    <tr>\n",
       "      <th>1182</th>\n",
       "      <td>7390919952339338052</td>\n",
       "    </tr>\n",
       "  </tbody>\n",
       "</table>\n",
       "<p>1183 rows × 1 columns</p>\n",
       "</div>"
      ],
      "text/plain": [
       "          ga_fullvisitorid\n",
       "0      5992610480279103811\n",
       "1     12483903402323082477\n",
       "2      1861921945347904623\n",
       "3      9799352427386252145\n",
       "4     17197990784528439405\n",
       "...                    ...\n",
       "1178  17252594532856133119\n",
       "1179  11102421430835610168\n",
       "1180  16042947245132483460\n",
       "1181   1036755021071626715\n",
       "1182   7390919952339338052\n",
       "\n",
       "[1183 rows x 1 columns]"
      ]
     },
     "execution_count": 44,
     "metadata": {},
     "output_type": "execute_result"
    }
   ],
   "source": [
    "pd.merge(sm_nonsubs_pool[['ga_fullvisitorid']], sm_pred_ns_pool[['ga_fullvisitorid']], how=\"inner\", on=\"ga_fullvisitorid\")"
   ]
  }
 ],
 "metadata": {
  "environment": {
   "name": "tf2-gpu.2-6.m79",
   "type": "gcloud",
   "uri": "gcr.io/deeplearning-platform-release/tf2-gpu.2-6:m79"
  },
  "kernelspec": {
   "display_name": "subscribers",
   "language": "python",
   "name": "subscribers"
  },
  "language_info": {
   "codemirror_mode": {
    "name": "ipython",
    "version": 3
   },
   "file_extension": ".py",
   "mimetype": "text/x-python",
   "name": "python",
   "nbconvert_exporter": "python",
   "pygments_lexer": "ipython3",
   "version": "3.7.10"
  }
 },
 "nbformat": 4,
 "nbformat_minor": 5
}
