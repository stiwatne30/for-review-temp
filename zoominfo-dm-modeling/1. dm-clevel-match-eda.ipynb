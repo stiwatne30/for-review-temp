{
 "cells": [
  {
   "cell_type": "markdown",
   "id": "fossil-bobby",
   "metadata": {},
   "source": [
    "## Description:\n",
    "\n",
    "This file contains:\n",
    "* Predictions on unseen GA Data \n",
    "* Match rate between ZoomInfo DMs and C-level models\n",
    "* More match rates with Bombora and Cordial BDM predictions (just out of curiosity)"
   ]
  },
  {
   "cell_type": "code",
   "execution_count": 1,
   "id": "allied-copper",
   "metadata": {},
   "outputs": [],
   "source": [
    "\"\"\"Helper\"\"\"\n",
    "import pandas as pd\n",
    "pd.set_option('display.float_format', lambda x: '%.2f' % x)\n",
    "import numpy as np\n",
    "from numpy import mean\n",
    "import joblib\n",
    "\n",
    "\"\"\"BQ\"\"\"\n",
    "import google.auth\n",
    "from google.cloud import bigquery\n",
    "from google.cloud import bigquery_storage\n",
    "import time\n",
    "\n",
    "bqclient = bigquery.Client()\n",
    "bqstorageclient = bigquery_storage.BigQueryReadClient()"
   ]
  },
  {
   "cell_type": "markdown",
   "id": "vertical-chick",
   "metadata": {},
   "source": [
    "### Checking overlap of predictions from ZoomInfo-DM model with ZoomInfo-C-level model \n",
    "\n",
    "* Data coming from 7/6/2021 Tuesday's ml_data.user_pred_data. 1,344,513 rows "
   ]
  },
  {
   "cell_type": "code",
   "execution_count": 2,
   "id": "banner-spanish",
   "metadata": {},
   "outputs": [
    {
     "name": "stdout",
     "output_type": "stream",
     "text": [
      "--- 2.3320841789245605 seconds ---\n",
      "Shape:  (1344513, 3)\n"
     ]
    }
   ],
   "source": [
    "# current ZoomInfo C-level model\n",
    "\n",
    "start_time = time.time()\n",
    "\n",
    "query_string = \"\"\" SELECT * FROM `api-project-901373404215.lookalike.zoom_info_c_level` WHERE date='2021-07-06'  \"\"\"\n",
    "\n",
    "zoom_clevel = (\n",
    "    bqclient.query(query_string)\n",
    "    .result()\n",
    "    .to_dataframe(bqstorage_client=bqstorageclient)\n",
    ")\n",
    "\n",
    "print(\"--- %s seconds ---\" % (time.time() - start_time))\n",
    "print(\"Shape: \", zoom_clevel.shape)"
   ]
  },
  {
   "cell_type": "code",
   "execution_count": 3,
   "id": "medieval-forward",
   "metadata": {},
   "outputs": [
    {
     "name": "stdout",
     "output_type": "stream",
     "text": [
      "(1344513, 3)\n"
     ]
    }
   ],
   "source": [
    "# ZoomInfo DM model\n",
    "\n",
    "query_string = \"\"\" SELECT * FROM `api-project-901373404215.lookalike.zoom_info_dm`\"\"\"\n",
    "\n",
    "zoom_dm = (\n",
    "    bqclient.query(query_string)\n",
    "    .result()\n",
    "    .to_dataframe(bqstorage_client=bqstorageclient)\n",
    ")\n",
    "\n",
    "print(zoom_dm.shape)\n",
    "\n",
    "# rename column\n",
    "zoom_dm.rename(columns={'managementLevel':'dmLevel'}, inplace=True)"
   ]
  },
  {
   "cell_type": "code",
   "execution_count": 4,
   "id": "relevant-concord",
   "metadata": {},
   "outputs": [
    {
     "name": "stdout",
     "output_type": "stream",
     "text": [
      "(1344513, 5)\n"
     ]
    },
    {
     "data": {
      "text/html": [
       "<div>\n",
       "<style scoped>\n",
       "    .dataframe tbody tr th:only-of-type {\n",
       "        vertical-align: middle;\n",
       "    }\n",
       "\n",
       "    .dataframe tbody tr th {\n",
       "        vertical-align: top;\n",
       "    }\n",
       "\n",
       "    .dataframe thead th {\n",
       "        text-align: right;\n",
       "    }\n",
       "</style>\n",
       "<table border=\"1\" class=\"dataframe\">\n",
       "  <thead>\n",
       "    <tr style=\"text-align: right;\">\n",
       "      <th></th>\n",
       "      <th>date_x</th>\n",
       "      <th>GA_fullVisitorId</th>\n",
       "      <th>managementLevel</th>\n",
       "      <th>date_y</th>\n",
       "      <th>dmLevel</th>\n",
       "    </tr>\n",
       "  </thead>\n",
       "  <tbody>\n",
       "    <tr>\n",
       "      <th>0</th>\n",
       "      <td>2021-07-06</td>\n",
       "      <td>999970127319638241</td>\n",
       "      <td>C-level</td>\n",
       "      <td>2021-07-06</td>\n",
       "      <td>DM</td>\n",
       "    </tr>\n",
       "    <tr>\n",
       "      <th>1</th>\n",
       "      <td>2021-07-06</td>\n",
       "      <td>9999956768411702819</td>\n",
       "      <td>C-level</td>\n",
       "      <td>2021-07-06</td>\n",
       "      <td>Non-DM</td>\n",
       "    </tr>\n",
       "    <tr>\n",
       "      <th>2</th>\n",
       "      <td>2021-07-06</td>\n",
       "      <td>9999145376852336812</td>\n",
       "      <td>C-level</td>\n",
       "      <td>2021-07-06</td>\n",
       "      <td>DM</td>\n",
       "    </tr>\n",
       "    <tr>\n",
       "      <th>3</th>\n",
       "      <td>2021-07-06</td>\n",
       "      <td>9999047611199527304</td>\n",
       "      <td>Non-Clevel</td>\n",
       "      <td>2021-07-06</td>\n",
       "      <td>DM</td>\n",
       "    </tr>\n",
       "    <tr>\n",
       "      <th>4</th>\n",
       "      <td>2021-07-06</td>\n",
       "      <td>9999248213606623070</td>\n",
       "      <td>Non-Clevel</td>\n",
       "      <td>2021-07-06</td>\n",
       "      <td>DM</td>\n",
       "    </tr>\n",
       "  </tbody>\n",
       "</table>\n",
       "</div>"
      ],
      "text/plain": [
       "       date_x     GA_fullVisitorId managementLevel      date_y dmLevel\n",
       "0  2021-07-06   999970127319638241         C-level  2021-07-06      DM\n",
       "1  2021-07-06  9999956768411702819         C-level  2021-07-06  Non-DM\n",
       "2  2021-07-06  9999145376852336812         C-level  2021-07-06      DM\n",
       "3  2021-07-06  9999047611199527304      Non-Clevel  2021-07-06      DM\n",
       "4  2021-07-06  9999248213606623070      Non-Clevel  2021-07-06      DM"
      ]
     },
     "execution_count": 4,
     "metadata": {},
     "output_type": "execute_result"
    }
   ],
   "source": [
    "overlap = pd.merge(zoom_clevel, zoom_dm, on=\"GA_fullVisitorId\", how=\"inner\")\n",
    "print(overlap.shape)\n",
    "overlap.head()"
   ]
  },
  {
   "cell_type": "code",
   "execution_count": 5,
   "id": "worse-beast",
   "metadata": {},
   "outputs": [
    {
     "data": {
      "text/html": [
       "<div>\n",
       "<style scoped>\n",
       "    .dataframe tbody tr th:only-of-type {\n",
       "        vertical-align: middle;\n",
       "    }\n",
       "\n",
       "    .dataframe tbody tr th {\n",
       "        vertical-align: top;\n",
       "    }\n",
       "\n",
       "    .dataframe thead th {\n",
       "        text-align: right;\n",
       "    }\n",
       "</style>\n",
       "<table border=\"1\" class=\"dataframe\">\n",
       "  <thead>\n",
       "    <tr style=\"text-align: right;\">\n",
       "      <th>dmLevel</th>\n",
       "      <th>DM</th>\n",
       "      <th>Non-DM</th>\n",
       "    </tr>\n",
       "    <tr>\n",
       "      <th>managementLevel</th>\n",
       "      <th></th>\n",
       "      <th></th>\n",
       "    </tr>\n",
       "  </thead>\n",
       "  <tbody>\n",
       "    <tr>\n",
       "      <th>C-level</th>\n",
       "      <td>50247</td>\n",
       "      <td>21225</td>\n",
       "    </tr>\n",
       "    <tr>\n",
       "      <th>Non-Clevel</th>\n",
       "      <td>445784</td>\n",
       "      <td>827257</td>\n",
       "    </tr>\n",
       "  </tbody>\n",
       "</table>\n",
       "</div>"
      ],
      "text/plain": [
       "dmLevel              DM  Non-DM\n",
       "managementLevel                \n",
       "C-level           50247   21225\n",
       "Non-Clevel       445784  827257"
      ]
     },
     "execution_count": 5,
     "metadata": {},
     "output_type": "execute_result"
    }
   ],
   "source": [
    "pd.crosstab(overlap.managementLevel, overlap.dmLevel)"
   ]
  },
  {
   "cell_type": "code",
   "execution_count": 6,
   "id": "conservative-southeast",
   "metadata": {},
   "outputs": [],
   "source": [
    "total_clevels = overlap[overlap.managementLevel=='C-level'].shape[0]\n",
    "clevels_as_dms = overlap[(overlap.managementLevel=='C-level') & (overlap.dmLevel=='DM')].shape[0]\n",
    "clevels_as_nondms = overlap[(overlap.managementLevel=='C-level') & (overlap.dmLevel=='Non-DM')].shape[0]"
   ]
  },
  {
   "cell_type": "markdown",
   "id": "numeric-audio",
   "metadata": {},
   "source": [
    "* 70% of predicted C-levels are also labelled as DMs"
   ]
  },
  {
   "cell_type": "code",
   "execution_count": 7,
   "id": "roman-dinner",
   "metadata": {},
   "outputs": [
    {
     "data": {
      "text/plain": [
       "70"
      ]
     },
     "execution_count": 7,
     "metadata": {},
     "output_type": "execute_result"
    }
   ],
   "source": [
    "round((clevels_as_dms/total_clevels)*100)"
   ]
  },
  {
   "cell_type": "markdown",
   "id": "recovered-camcorder",
   "metadata": {},
   "source": [
    "* 30% of predicted C-levels are erroneously labelled as Non-DMs \n",
    "    * Note: the misclassification for these 21,225 folks could be because of either model:\n",
    "        * Either C-level model misclassified these folks as C-levels and DM model is correct to label them as Non-DMs or vice versa -  Something to improve on in the future\n",
    "        * TODO: perform EDA on these folks' GA data to try and get an idea"
   ]
  },
  {
   "cell_type": "code",
   "execution_count": 8,
   "id": "stock-multimedia",
   "metadata": {},
   "outputs": [
    {
     "data": {
      "text/plain": [
       "30"
      ]
     },
     "execution_count": 8,
     "metadata": {},
     "output_type": "execute_result"
    }
   ],
   "source": [
    "round((clevels_as_nondms/total_clevels)*100)"
   ]
  },
  {
   "cell_type": "code",
   "execution_count": null,
   "id": "commercial-diabetes",
   "metadata": {},
   "outputs": [],
   "source": [
    "# @Rob - is this an acceptable match rate?"
   ]
  },
  {
   "cell_type": "markdown",
   "id": "unique-baptist",
   "metadata": {},
   "source": [
    "* If acceptable, **Next steps:**\n",
    "    * In deployment script - update the SQL query to:\n",
    "        * read from prediction pipeline - \"ml_data.user_pred_data\" table and \n",
    "        * exclude all fullvids present in \"lookalike.zoom_info_c_level\" where predicted managementLevel='C-level' like below\n",
    "        * make sure DM deployed VM runs after C-level VM"
   ]
  },
  {
   "cell_type": "code",
   "execution_count": 10,
   "id": "common-evans",
   "metadata": {},
   "outputs": [
    {
     "name": "stdout",
     "output_type": "stream",
     "text": [
      "--- 140.4542498588562 seconds ---\n",
      "Shape:  (1245630, 710)\n"
     ]
    }
   ],
   "source": [
    "sql = \"\"\"\n",
    "    SELECT \n",
    "        * \n",
    "    FROM \n",
    "        `api-project-901373404215.ml_data.user_pred_data` \n",
    "    WHERE\n",
    "        fullvid_pred NOT IN \n",
    "        (\n",
    "        -- Get users we already predicted as C-levels with the latest date the prediction was made  \n",
    "          SELECT\n",
    "              fullvid\n",
    "          FROM \n",
    "              (\n",
    "                SELECT\n",
    "                  date,\n",
    "                    GA_fullVisitorId as fullvid,\n",
    "                  RANK() OVER (PARTITION BY GA_fullVisitorId ORDER BY date DESC) AS mostrecent\n",
    "                FROM\n",
    "                    `api-project-901373404215.lookalike.zoom_info_c_level`\n",
    "                WHERE\n",
    "                  managementLevel = 'C-level'\n",
    "                )\n",
    "              WHERE \n",
    "                mostrecent = 1 \n",
    "        )\n",
    "        \"\"\"\n",
    "\n",
    "upated_dm_pool = (\n",
    "    bqclient.query(sql)\n",
    "    .result()\n",
    "    .to_dataframe(bqstorage_client=bqstorageclient)\n",
    ")\n",
    "\n",
    "print(\"--- %s seconds ---\" % (time.time() - start_time))\n",
    "print(\"Shape: \", upated_dm_pool.shape)"
   ]
  },
  {
   "cell_type": "code",
   "execution_count": null,
   "id": "ambient-handle",
   "metadata": {},
   "outputs": [],
   "source": []
  },
  {
   "cell_type": "code",
   "execution_count": null,
   "id": "documentary-peripheral",
   "metadata": {},
   "outputs": [],
   "source": []
  },
  {
   "cell_type": "code",
   "execution_count": 10,
   "id": "amended-stroke",
   "metadata": {},
   "outputs": [],
   "source": [
    "# I had also calculated some match rates like David did for C-level model earlier - just out of curiosity. They are below: "
   ]
  },
  {
   "cell_type": "markdown",
   "id": "native-lighter",
   "metadata": {},
   "source": [
    "* Bombora defined number of unique DMs between '2021-06-01' and '2021-07-06' - 2,879,509\n",
    "\n",
    "| ..      | Cordial BDM (existing) - <br>predictions for July 6,'21 | ZoomInfo DM (new) - <br>predictions for July 6,'21 <br>(ml_data.user_pred_data)   |\n",
    "| :---:        |    :----:   | :---: |\n",
    "| Number of unique predicted DMs     | 1,864       | 496,031   |\n",
    "| Matching with 1 month Bombora DMs   | 1,82        | 20,897      |\n",
    "| Matching with Cordial BDM's predictions   | N/A        | 897      |\n",
    "\n",
    "\n",
    "**Note:** I guessed that the \"bombora_decisionMaker\" present in GA DataMart would be the column with bombora defined DMs, so used it below. Please correct me if I am wrong"
   ]
  },
  {
   "cell_type": "markdown",
   "id": "described-deficit",
   "metadata": {},
   "source": [
    "### Checking overlap of DM model predictions with Bombora"
   ]
  },
  {
   "cell_type": "code",
   "execution_count": 9,
   "id": "appreciated-transmission",
   "metadata": {},
   "outputs": [
    {
     "data": {
      "text/plain": [
       "(5908160, 3)"
      ]
     },
     "execution_count": 9,
     "metadata": {},
     "output_type": "execute_result"
    }
   ],
   "source": [
    "# just for a quick check, fetch 1-month of GA data where Bombora has given a Decision Maker label for folks\n",
    "\n",
    "query_string = \"\"\"\n",
    "    SELECT \n",
    "        GA_date, \n",
    "        GA_fullVisitorId, \n",
    "        bombora_decisionMaker  \n",
    "    FROM \n",
    "        `api-project-901373404215.DataMart.DataMart6` \n",
    "    WHERE \n",
    "        bombora_decisionMaker IS NOT NULL \n",
    "    AND \n",
    "        GA_Date BETWEEN '2021-06-01' \n",
    "    AND \n",
    "        '2021-07-06'\"\"\"\n",
    "\n",
    "bombora_bdm = (\n",
    "    bqclient.query(query_string)\n",
    "    .result()\n",
    "    .to_dataframe(bqstorage_client=bqstorageclient)\n",
    ")\n",
    "\n",
    "bombora_bdm.shape"
   ]
  },
  {
   "cell_type": "code",
   "execution_count": 10,
   "id": "sustainable-chester",
   "metadata": {},
   "outputs": [
    {
     "name": "stdout",
     "output_type": "stream",
     "text": [
      "Any dups present?  False\n",
      "Bombora folks shape:  (2879509, 3)\n",
      "\n",
      "Bombora labels: ['hr decision maker', 'it decision maker', 'finance decision maker', 'marketing decision maker', 'healthcare decision maker', 'small business decision maker']\n"
     ]
    }
   ],
   "source": [
    "# duplicates present - drop them\n",
    "\n",
    "bombora_bdm.drop_duplicates('GA_fullVisitorId', \n",
    "                            inplace=True)\n",
    "\n",
    "print(\"Any dups present? \", bombora_bdm.duplicated('GA_fullVisitorId', keep='first').any())\n",
    "print(\"Bombora folks shape: \", bombora_bdm.shape)\n",
    "\n",
    "print()\n",
    "print(\"Bombora labels:\", list(bombora_bdm.bombora_decisionMaker.unique()))"
   ]
  },
  {
   "cell_type": "code",
   "execution_count": 11,
   "id": "funded-michael",
   "metadata": {},
   "outputs": [
    {
     "data": {
      "text/plain": [
       "(496031, 3)"
      ]
     },
     "execution_count": 11,
     "metadata": {},
     "output_type": "execute_result"
    }
   ],
   "source": [
    "zoom_dm_folks = zoom_dm[zoom_dm.dmLevel=='DM']\n",
    "zoom_dm_folks.shape"
   ]
  },
  {
   "cell_type": "code",
   "execution_count": 12,
   "id": "novel-blade",
   "metadata": {},
   "outputs": [
    {
     "data": {
      "text/html": [
       "<div>\n",
       "<style scoped>\n",
       "    .dataframe tbody tr th:only-of-type {\n",
       "        vertical-align: middle;\n",
       "    }\n",
       "\n",
       "    .dataframe tbody tr th {\n",
       "        vertical-align: top;\n",
       "    }\n",
       "\n",
       "    .dataframe thead th {\n",
       "        text-align: right;\n",
       "    }\n",
       "</style>\n",
       "<table border=\"1\" class=\"dataframe\">\n",
       "  <thead>\n",
       "    <tr style=\"text-align: right;\">\n",
       "      <th></th>\n",
       "      <th>GA_date</th>\n",
       "      <th>GA_fullVisitorId</th>\n",
       "      <th>bombora_decisionMaker</th>\n",
       "      <th>date</th>\n",
       "      <th>dmLevel</th>\n",
       "    </tr>\n",
       "  </thead>\n",
       "  <tbody>\n",
       "    <tr>\n",
       "      <th>0</th>\n",
       "      <td>2021-06-07</td>\n",
       "      <td>1937290557177945965</td>\n",
       "      <td>hr decision maker</td>\n",
       "      <td>2021-07-06</td>\n",
       "      <td>DM</td>\n",
       "    </tr>\n",
       "    <tr>\n",
       "      <th>1</th>\n",
       "      <td>2021-06-07</td>\n",
       "      <td>1884844058712228487</td>\n",
       "      <td>hr decision maker</td>\n",
       "      <td>2021-07-06</td>\n",
       "      <td>DM</td>\n",
       "    </tr>\n",
       "    <tr>\n",
       "      <th>2</th>\n",
       "      <td>2021-06-07</td>\n",
       "      <td>1985555381035920670</td>\n",
       "      <td>hr decision maker</td>\n",
       "      <td>2021-07-06</td>\n",
       "      <td>DM</td>\n",
       "    </tr>\n",
       "    <tr>\n",
       "      <th>3</th>\n",
       "      <td>2021-06-07</td>\n",
       "      <td>1848442613152469042</td>\n",
       "      <td>hr decision maker</td>\n",
       "      <td>2021-07-06</td>\n",
       "      <td>DM</td>\n",
       "    </tr>\n",
       "    <tr>\n",
       "      <th>4</th>\n",
       "      <td>2021-06-07</td>\n",
       "      <td>1809696562125660594</td>\n",
       "      <td>hr decision maker</td>\n",
       "      <td>2021-07-06</td>\n",
       "      <td>DM</td>\n",
       "    </tr>\n",
       "    <tr>\n",
       "      <th>...</th>\n",
       "      <td>...</td>\n",
       "      <td>...</td>\n",
       "      <td>...</td>\n",
       "      <td>...</td>\n",
       "      <td>...</td>\n",
       "    </tr>\n",
       "    <tr>\n",
       "      <th>20892</th>\n",
       "      <td>2021-07-03</td>\n",
       "      <td>8344789284982684704</td>\n",
       "      <td>small business decision maker</td>\n",
       "      <td>2021-07-06</td>\n",
       "      <td>DM</td>\n",
       "    </tr>\n",
       "    <tr>\n",
       "      <th>20893</th>\n",
       "      <td>2021-06-16</td>\n",
       "      <td>12845895644105350517</td>\n",
       "      <td>small business decision maker</td>\n",
       "      <td>2021-07-06</td>\n",
       "      <td>DM</td>\n",
       "    </tr>\n",
       "    <tr>\n",
       "      <th>20894</th>\n",
       "      <td>2021-06-26</td>\n",
       "      <td>15425365506454076311</td>\n",
       "      <td>small business decision maker</td>\n",
       "      <td>2021-07-06</td>\n",
       "      <td>DM</td>\n",
       "    </tr>\n",
       "    <tr>\n",
       "      <th>20895</th>\n",
       "      <td>2021-06-26</td>\n",
       "      <td>15509543153359656714</td>\n",
       "      <td>small business decision maker</td>\n",
       "      <td>2021-07-06</td>\n",
       "      <td>DM</td>\n",
       "    </tr>\n",
       "    <tr>\n",
       "      <th>20896</th>\n",
       "      <td>2021-07-03</td>\n",
       "      <td>10223808375721855921</td>\n",
       "      <td>small business decision maker</td>\n",
       "      <td>2021-07-06</td>\n",
       "      <td>DM</td>\n",
       "    </tr>\n",
       "  </tbody>\n",
       "</table>\n",
       "<p>20897 rows × 5 columns</p>\n",
       "</div>"
      ],
      "text/plain": [
       "          GA_date      GA_fullVisitorId          bombora_decisionMaker  \\\n",
       "0      2021-06-07   1937290557177945965              hr decision maker   \n",
       "1      2021-06-07   1884844058712228487              hr decision maker   \n",
       "2      2021-06-07   1985555381035920670              hr decision maker   \n",
       "3      2021-06-07   1848442613152469042              hr decision maker   \n",
       "4      2021-06-07   1809696562125660594              hr decision maker   \n",
       "...           ...                   ...                            ...   \n",
       "20892  2021-07-03   8344789284982684704  small business decision maker   \n",
       "20893  2021-06-16  12845895644105350517  small business decision maker   \n",
       "20894  2021-06-26  15425365506454076311  small business decision maker   \n",
       "20895  2021-06-26  15509543153359656714  small business decision maker   \n",
       "20896  2021-07-03  10223808375721855921  small business decision maker   \n",
       "\n",
       "             date dmLevel  \n",
       "0      2021-07-06      DM  \n",
       "1      2021-07-06      DM  \n",
       "2      2021-07-06      DM  \n",
       "3      2021-07-06      DM  \n",
       "4      2021-07-06      DM  \n",
       "...           ...     ...  \n",
       "20892  2021-07-06      DM  \n",
       "20893  2021-07-06      DM  \n",
       "20894  2021-07-06      DM  \n",
       "20895  2021-07-06      DM  \n",
       "20896  2021-07-06      DM  \n",
       "\n",
       "[20897 rows x 5 columns]"
      ]
     },
     "execution_count": 12,
     "metadata": {},
     "output_type": "execute_result"
    }
   ],
   "source": [
    "pd.merge(bombora_bdm, zoom_dm_folks, on= 'GA_fullVisitorId', how='inner')"
   ]
  },
  {
   "cell_type": "markdown",
   "id": "regular-private",
   "metadata": {},
   "source": [
    "* 20,897 predicted DMs match with Bombora defined decision makers"
   ]
  },
  {
   "cell_type": "markdown",
   "id": "overall-burden",
   "metadata": {},
   "source": [
    "### Checking overlap of ZoomInfo DM model predictions with Cordial DMs \n",
    "\n",
    "* Caveat to note - Cordial DMs model was trained on much different data. So below number may just be directional"
   ]
  },
  {
   "cell_type": "code",
   "execution_count": 13,
   "id": "authentic-release",
   "metadata": {},
   "outputs": [
    {
     "data": {
      "text/plain": [
       "(3843, 4)"
      ]
     },
     "execution_count": 13,
     "metadata": {},
     "output_type": "execute_result"
    }
   ],
   "source": [
    "query_string = \"\"\" SELECT * FROM `api-project-901373404215.lookalike.cordial_bdm` WHERE date='2021-07-06'  \"\"\"\n",
    "\n",
    "cordial_bdm = (\n",
    "    bqclient.query(query_string)\n",
    "    .result()\n",
    "    .to_dataframe(bqstorage_client=bqstorageclient)\n",
    ")\n",
    "\n",
    "cordial_bdm.shape"
   ]
  },
  {
   "cell_type": "code",
   "execution_count": 14,
   "id": "agricultural-medium",
   "metadata": {},
   "outputs": [
    {
     "name": "stdout",
     "output_type": "stream",
     "text": [
      "date            False\n",
      "fullvid         False\n",
      "bdm             False\n",
      "GA_visitorId    False\n",
      "dtype: bool\n",
      "(1864, 4)\n"
     ]
    }
   ],
   "source": [
    "cordial_bdm.drop_duplicates('fullvid', inplace=True)\n",
    "print(cordial_bdm[cordial_bdm.fullvid.duplicated(keep='first')].any())\n",
    "print(cordial_bdm.shape)"
   ]
  },
  {
   "cell_type": "markdown",
   "id": "biblical-tonight",
   "metadata": {},
   "source": [
    "* 897 predicted DMs by ZoomInfo-DM model were also predicted as DMs by Cordial BDM model"
   ]
  },
  {
   "cell_type": "code",
   "execution_count": 15,
   "id": "swedish-terror",
   "metadata": {},
   "outputs": [
    {
     "name": "stdout",
     "output_type": "stream",
     "text": [
      "(897, 3)\n"
     ]
    }
   ],
   "source": [
    "# matching\n",
    "\n",
    "print(zoom_dm_folks[zoom_dm_folks.GA_fullVisitorId.isin(cordial_bdm.fullvid)].shape)"
   ]
  },
  {
   "cell_type": "code",
   "execution_count": 16,
   "id": "analyzed-douglas",
   "metadata": {},
   "outputs": [
    {
     "name": "stdout",
     "output_type": "stream",
     "text": [
      "(967, 4)\n"
     ]
    }
   ],
   "source": [
    "# non-matching\n",
    "non_match_cordials = cordial_bdm[~cordial_bdm.fullvid.isin(zoom_dm_folks.GA_fullVisitorId)]\n",
    "print(non_match_cordials.shape)"
   ]
  },
  {
   "cell_type": "code",
   "execution_count": null,
   "id": "blessed-generation",
   "metadata": {},
   "outputs": [],
   "source": []
  },
  {
   "cell_type": "markdown",
   "id": "natural-benjamin",
   "metadata": {},
   "source": [
    "* Cordial intersection Bombora for July 6th predictions"
   ]
  },
  {
   "cell_type": "code",
   "execution_count": 17,
   "id": "foreign-fiber",
   "metadata": {},
   "outputs": [
    {
     "data": {
      "text/plain": [
       "(182, 7)"
      ]
     },
     "execution_count": 17,
     "metadata": {},
     "output_type": "execute_result"
    }
   ],
   "source": [
    "pd.merge(bombora_bdm, cordial_bdm, left_on= 'GA_fullVisitorId', right_on='fullvid', how='inner').shape"
   ]
  },
  {
   "cell_type": "code",
   "execution_count": null,
   "id": "matched-wallpaper",
   "metadata": {},
   "outputs": [],
   "source": []
  }
 ],
 "metadata": {
  "environment": {
   "name": "tf2-2-3-gpu.2-3.m59",
   "type": "gcloud",
   "uri": "gcr.io/deeplearning-platform-release/tf2-2-3-gpu.2-3:m59"
  },
  "kernelspec": {
   "display_name": "dm-eda-test",
   "language": "python",
   "name": "dm-eda-test"
  },
  "language_info": {
   "codemirror_mode": {
    "name": "ipython",
    "version": 3
   },
   "file_extension": ".py",
   "mimetype": "text/x-python",
   "name": "python",
   "nbconvert_exporter": "python",
   "pygments_lexer": "ipython3",
   "version": "3.7.8"
  }
 },
 "nbformat": 4,
 "nbformat_minor": 5
}
