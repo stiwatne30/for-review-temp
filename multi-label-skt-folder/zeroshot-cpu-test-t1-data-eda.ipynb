{
 "cells": [
  {
   "cell_type": "code",
   "execution_count": 1,
   "id": "238bc051",
   "metadata": {},
   "outputs": [],
   "source": [
    "'''Helper'''\n",
    "import pandas as pd\n",
    "import numpy as np\n",
    "import time\n",
    "import joblib\n",
    "import pickle\n",
    "import re\n",
    "import string\n",
    "import unicodedata\n",
    "import matplotlib.pyplot as plt\n",
    "from numpy import argmax\n",
    "import scipy\n",
    "# import spacy\n",
    "from sklearn.metrics.pairwise import cosine_similarity\n",
    "\n",
    "\"\"\"BQ imports\"\"\"\n",
    "from google.cloud import bigquery\n",
    "client = bigquery.Client()\n",
    "\n",
    "'''Models'''\n",
    "from transformers import pipeline\n",
    "# from onnx_transformers import pipeline # to run this -- downgrade transformers library to 3.2.0\n",
    "\n",
    "'''Display'''\n",
    "import warnings\n",
    "warnings.filterwarnings('ignore')\n",
    "pd.set_option('display.float_format', lambda x: '%.1f' % x)\n",
    "pd.set_option(\"max_colwidth\", 150)"
   ]
  },
  {
   "cell_type": "code",
   "execution_count": 2,
   "id": "fe3f22a8",
   "metadata": {},
   "outputs": [
    {
     "name": "stdout",
     "output_type": "stream",
     "text": [
      "Name: transformers\n",
      "Version: 4.10.3\n",
      "Summary: State-of-the-art Natural Language Processing for TensorFlow 2.0 and PyTorch\n",
      "Home-page: https://github.com/huggingface/transformers\n",
      "Author: Thomas Wolf, Lysandre Debut, Victor Sanh, Julien Chaumond, Sam Shleifer, Patrick von Platen, Sylvain Gugger, Suraj Patil, Stas Bekman, Google AI Language Team Authors, Open AI team Authors, Facebook AI Authors, Carnegie Mellon University Authors\n",
      "Author-email: thomas@huggingface.co\n",
      "License: Apache\n",
      "Location: /opt/conda/lib/python3.7/site-packages\n",
      "Requires: regex, sacremoses, pyyaml, numpy, huggingface-hub, filelock, packaging, tokenizers, requests, tqdm, importlib-metadata\n",
      "Required-by: sentence-transformers\n"
     ]
    }
   ],
   "source": [
    "!pip show transformers"
   ]
  },
  {
   "cell_type": "markdown",
   "id": "85a60745",
   "metadata": {},
   "source": [
    "### Input data"
   ]
  },
  {
   "cell_type": "code",
   "execution_count": 4,
   "id": "701bafed",
   "metadata": {},
   "outputs": [
    {
     "name": "stdout",
     "output_type": "stream",
     "text": [
      "(1258, 9)\n"
     ]
    },
    {
     "data": {
      "text/html": [
       "<div>\n",
       "<style scoped>\n",
       "    .dataframe tbody tr th:only-of-type {\n",
       "        vertical-align: middle;\n",
       "    }\n",
       "\n",
       "    .dataframe tbody tr th {\n",
       "        vertical-align: top;\n",
       "    }\n",
       "\n",
       "    .dataframe thead th {\n",
       "        text-align: right;\n",
       "    }\n",
       "</style>\n",
       "<table border=\"1\" class=\"dataframe\">\n",
       "  <thead>\n",
       "    <tr style=\"text-align: right;\">\n",
       "      <th></th>\n",
       "      <th>natid</th>\n",
       "      <th>pub_date</th>\n",
       "      <th>category</th>\n",
       "      <th>tier1</th>\n",
       "      <th>tier2</th>\n",
       "      <th>summary</th>\n",
       "      <th>clean_summary</th>\n",
       "      <th>label</th>\n",
       "      <th>top10_tfidf</th>\n",
       "    </tr>\n",
       "  </thead>\n",
       "  <tbody>\n",
       "    <tr>\n",
       "      <th>0</th>\n",
       "      <td>blogandpostid/blog/post/3541-60eb91d76f189c000...</td>\n",
       "      <td>2021-07-12</td>\n",
       "      <td>Movies</td>\n",
       "      <td>Movies</td>\n",
       "      <td>Indie and Arthouse Movies</td>\n",
       "      <td>What Will The Movie Industry Look Like After C...</td>\n",
       "      <td>movie industry look like covid?. movie industr...</td>\n",
       "      <td>2</td>\n",
       "      <td>production, customers, future, industry, theat...</td>\n",
       "    </tr>\n",
       "    <tr>\n",
       "      <th>1</th>\n",
       "      <td>blogandpostid/blog/post/7380-5f7a952000e768000...</td>\n",
       "      <td>2020-10-05</td>\n",
       "      <td>Video Gaming</td>\n",
       "      <td>Video Gaming</td>\n",
       "      <td>Video Game Genres</td>\n",
       "      <td>A YouTuber Made An ‘Among Us’ Mode In ‘Overwat...</td>\n",
       "      <td>youtuber us' mode overwatch' looks fantastic. ...</td>\n",
       "      <td>10</td>\n",
       "      <td>voted, game, code, players, version, korean, u...</td>\n",
       "    </tr>\n",
       "    <tr>\n",
       "      <th>2</th>\n",
       "      <td>blogandpostid/blog/post/50373-5fcfe6475a1f9400...</td>\n",
       "      <td>2020-12-08</td>\n",
       "      <td>News and Politics</td>\n",
       "      <td>News and Politics</td>\n",
       "      <td>Politics</td>\n",
       "      <td>Rudy Giuliani Says He’s ‘Doing Fine’ With Covi...</td>\n",
       "      <td>rudy giuliani says fine' covid, hopes released...</td>\n",
       "      <td>0</td>\n",
       "      <td>wednesday, tuesday, house, experiencing, white...</td>\n",
       "    </tr>\n",
       "    <tr>\n",
       "      <th>3</th>\n",
       "      <td>blogandpostid/blog/post/25-607d3d189d9fd30006d...</td>\n",
       "      <td>2021-04-19</td>\n",
       "      <td>Technology and Computing</td>\n",
       "      <td>Personal Finance</td>\n",
       "      <td>Personal Investing</td>\n",
       "      <td>Will Apple Stock’s Q2 Results Beat Consensus?....</td>\n",
       "      <td>apple stock's q2 results beat consensus?. appl...</td>\n",
       "      <td>21</td>\n",
       "      <td>year, likely, revenue, revenues, fy, margins, ...</td>\n",
       "    </tr>\n",
       "    <tr>\n",
       "      <th>4</th>\n",
       "      <td>blogandpostid/blog/post/6937-60b6f3feff8c53000...</td>\n",
       "      <td>2021-06-02</td>\n",
       "      <td>Movies</td>\n",
       "      <td>Movies</td>\n",
       "      <td>Documentary Movies</td>\n",
       "      <td>Ava DuVernay’s Array Film Collective Partners ...</td>\n",
       "      <td>ava duvernay's array film collective partners ...</td>\n",
       "      <td>2</td>\n",
       "      <td>pacific, feature, color, independent, festival...</td>\n",
       "    </tr>\n",
       "  </tbody>\n",
       "</table>\n",
       "</div>"
      ],
      "text/plain": [
       "                                               natid    pub_date  \\\n",
       "0  blogandpostid/blog/post/3541-60eb91d76f189c000...  2021-07-12   \n",
       "1  blogandpostid/blog/post/7380-5f7a952000e768000...  2020-10-05   \n",
       "2  blogandpostid/blog/post/50373-5fcfe6475a1f9400...  2020-12-08   \n",
       "3  blogandpostid/blog/post/25-607d3d189d9fd30006d...  2021-04-19   \n",
       "4  blogandpostid/blog/post/6937-60b6f3feff8c53000...  2021-06-02   \n",
       "\n",
       "                   category              tier1                      tier2  \\\n",
       "0                    Movies             Movies  Indie and Arthouse Movies   \n",
       "1              Video Gaming       Video Gaming          Video Game Genres   \n",
       "2         News and Politics  News and Politics                   Politics   \n",
       "3  Technology and Computing   Personal Finance         Personal Investing   \n",
       "4                    Movies             Movies         Documentary Movies   \n",
       "\n",
       "                                             summary  \\\n",
       "0  What Will The Movie Industry Look Like After C...   \n",
       "1  A YouTuber Made An ‘Among Us’ Mode In ‘Overwat...   \n",
       "2  Rudy Giuliani Says He’s ‘Doing Fine’ With Covi...   \n",
       "3  Will Apple Stock’s Q2 Results Beat Consensus?....   \n",
       "4  Ava DuVernay’s Array Film Collective Partners ...   \n",
       "\n",
       "                                       clean_summary  label  \\\n",
       "0  movie industry look like covid?. movie industr...      2   \n",
       "1  youtuber us' mode overwatch' looks fantastic. ...     10   \n",
       "2  rudy giuliani says fine' covid, hopes released...      0   \n",
       "3  apple stock's q2 results beat consensus?. appl...     21   \n",
       "4  ava duvernay's array film collective partners ...      2   \n",
       "\n",
       "                                         top10_tfidf  \n",
       "0  production, customers, future, industry, theat...  \n",
       "1  voted, game, code, players, version, korean, u...  \n",
       "2  wednesday, tuesday, house, experiencing, white...  \n",
       "3  year, likely, revenue, revenues, fy, margins, ...  \n",
       "4  pacific, feature, color, independent, festival...  "
      ]
     },
     "execution_count": 4,
     "metadata": {},
     "output_type": "execute_result"
    }
   ],
   "source": [
    "# df = pd.read_pickle(\"./data/preprocess_mnet_test.pkl\")\n",
    "\n",
    "# df = pd.read_pickle(\"./data/mnet_test_tfidf.pkl\")\n",
    "\n",
    "# df = pd.read_pickle(\"./data/mnet_test_keyphrase.pkl\")\n",
    "\n",
    "df.drop_duplicates('natid', keep='first', inplace=True)\n",
    "df.reset_index(drop=True, inplace=True)\n",
    "\n",
    "print(df.shape)\n",
    "df.head()"
   ]
  },
  {
   "cell_type": "code",
   "execution_count": 4,
   "id": "1a6cca95",
   "metadata": {},
   "outputs": [
    {
     "data": {
      "text/plain": [
       "count     1258\n",
       "mean      3607\n",
       "std       2295\n",
       "min        481\n",
       "25%       2208\n",
       "50%       3130\n",
       "75%       4358\n",
       "max      39004\n",
       "Name: clean_summary, dtype: int64"
      ]
     },
     "execution_count": 4,
     "metadata": {},
     "output_type": "execute_result"
    },
    {
     "data": {
      "image/png": "[encoded data removed]",
      "text/plain": [
       "<Figure size 432x288 with 1 Axes>"
      ]
     },
     "metadata": {
      "needs_background": "light"
     },
     "output_type": "display_data"
    }
   ],
   "source": [
    "df.clean_summary.str.len().hist(bins=50)\n",
    "df.clean_summary.str.len().describe().apply(int)"
   ]
  },
  {
   "cell_type": "markdown",
   "id": "e189cbb1",
   "metadata": {},
   "source": [
    "* **Tier 1 labels with tf-idf terms**"
   ]
  },
  {
   "cell_type": "code",
   "execution_count": 5,
   "id": "7a0fdca2",
   "metadata": {},
   "outputs": [],
   "source": [
    "new_t1_label = joblib.load(\"new_t1_label.joblib\")\n",
    "new_t1_label_df = pd.DataFrame.from_dict(new_t1_label, orient='index').reset_index().rename(columns={'index':'tier1', 0:'new_t1_label'})"
   ]
  },
  {
   "cell_type": "code",
   "execution_count": 6,
   "id": "03f61970",
   "metadata": {},
   "outputs": [],
   "source": [
    "new_df = pd.merge(df, \n",
    "         new_t1_label_df,\n",
    "         how=\"left\", \n",
    "         on=\"tier1\")"
   ]
  },
  {
   "cell_type": "code",
   "execution_count": 7,
   "id": "d9733e29",
   "metadata": {
    "collapsed": true,
    "jupyter": {
     "outputs_hidden": true
    }
   },
   "outputs": [
    {
     "data": {
      "text/plain": [
       "Automotive                  49\n",
       "Books and Literature        17\n",
       "Business and Finance        50\n",
       "Careers                     50\n",
       "Education                   50\n",
       "Events and Attractions      50\n",
       "Family and Relationships    49\n",
       "Fine Art                    25\n",
       "Food & Drink                48\n",
       "Healthy Living              49\n",
       "Hobbies & Interests         48\n",
       "Home & Garden               47\n",
       "Medical Health              50\n",
       "Movies                      49\n",
       "Music and Audio             49\n",
       "News and Politics           50\n",
       "Personal Finance            50\n",
       "Pets                        17\n",
       "Pop Culture                 15\n",
       "Real Estate                 50\n",
       "Science                     49\n",
       "Shopping                    49\n",
       "Sports                      50\n",
       "Style & Fashion             49\n",
       "Technology & Computing      50\n",
       "Television                  49\n",
       "Travel                      50\n",
       "Video Gaming                50\n",
       "Name: tier1, dtype: int64"
      ]
     },
     "execution_count": 7,
     "metadata": {},
     "output_type": "execute_result"
    }
   ],
   "source": [
    "new_df.tier1.value_counts().sort_index().sort_index()"
   ]
  },
  {
   "cell_type": "code",
   "execution_count": 8,
   "id": "4a9e782f",
   "metadata": {
    "collapsed": true,
    "jupyter": {
     "outputs_hidden": true
    }
   },
   "outputs": [
    {
     "data": {
      "text/plain": [
       "Automotive auto sale car electric vehicle                           49\n",
       "Books & Literature author storyteller fiction read biography        17\n",
       "Business & Finance consumer marketing yield quarter capital         50\n",
       "Careers role employee interview skill job                           50\n",
       "Education college degree enrollment university campus               50\n",
       "Events & Attractions celebration party parks museum auction         50\n",
       "Family & Relationships child mother care family custody             49\n",
       "Fine Art artist photography digital art studio                      25\n",
       "Food & Drink wine taste cuisine menu restaurant                     48\n",
       "Healthy Living wellness fitness exercise nutrition mindfulness      49\n",
       "Hobbies & Interests craft puzzle instrument                         48\n",
       "Home & Garden interior outdoor remodel appliances renovation        47\n",
       "Medical Health virus vaccine patient disease outbreak               50\n",
       "Movies award film theater release documentary                       49\n",
       "Music & Audio album title song chart band                           49\n",
       "News & Politics administration lawsuit election opposition bill     50\n",
       "Personal Finance bank wealth savings tax loan                       50\n",
       "Pets breeding species extinction animal bird                        17\n",
       "Pop Culture primetime celebrity scandal rating famous               15\n",
       "Real Estate property rent listing tenant mortgage                   50\n",
       "Science extreme temperature scientist space biology                 49\n",
       "Shopping deal subscription gift promotion holiday                   49\n",
       "Sports playoff coach athletes tournament league                     50\n",
       "Style & Fashion skincare beauty designer clothing trends            49\n",
       "Technology & Computing hardware electronics app server computing    50\n",
       "Television adaptation show series drama episode                     49\n",
       "Travel resort airport hotel flight beach                            50\n",
       "Video Gaming console pc playstation xbox nintendo                   50\n",
       "Name: new_t1_label, dtype: int64"
      ]
     },
     "execution_count": 8,
     "metadata": {},
     "output_type": "execute_result"
    }
   ],
   "source": [
    "new_df.new_t1_label.value_counts().sort_index()"
   ]
  },
  {
   "cell_type": "markdown",
   "id": "492aa107",
   "metadata": {},
   "source": [
    "* **Tier 1 labels with tfidf terms appended to text**"
   ]
  },
  {
   "cell_type": "code",
   "execution_count": 5,
   "id": "37eee114",
   "metadata": {},
   "outputs": [],
   "source": [
    "# df[\"combo_tfidf_summary\"] = df[\"top10_tfidf\"] + ' ' + df[\"clean_summary\"]"
   ]
  },
  {
   "cell_type": "markdown",
   "id": "898d99f9",
   "metadata": {},
   "source": [
    "* **Tier 1 labels with keyphrases**"
   ]
  },
  {
   "cell_type": "code",
   "execution_count": 5,
   "id": "2045b434",
   "metadata": {},
   "outputs": [],
   "source": [
    "df[\"combo_kp_summary\"] = df[\"keyphrases\"] + ' ' + df[\"clean_summary\"]"
   ]
  },
  {
   "cell_type": "markdown",
   "id": "db6c18b4",
   "metadata": {},
   "source": [
    "### Generate multi-labels Tier 1 for Test dataset"
   ]
  },
  {
   "cell_type": "code",
   "execution_count": 6,
   "id": "483791ed",
   "metadata": {},
   "outputs": [
    {
     "name": "stdout",
     "output_type": "stream",
     "text": [
      "28\n"
     ]
    }
   ],
   "source": [
    "model = 'joeddav/bart-large-mnli-yahoo-answers'\n",
    "\n",
    "classifier = pipeline(\"zero-shot-classification\", \n",
    "                      model = model, \n",
    "                      framework=\"pt\")\n",
    "\n",
    "candidate_labels = df.tier1.unique().tolist()\n",
    "print(len(candidate_labels))\n",
    "\n",
    "# candidate_labels = new_df.new_t1_label.unique().tolist()\n",
    "# print(len(candidate_labels))"
   ]
  },
  {
   "cell_type": "code",
   "execution_count": 7,
   "id": "25ff77a6",
   "metadata": {
    "collapsed": true,
    "jupyter": {
     "outputs_hidden": true
    }
   },
   "outputs": [
    {
     "data": {
      "text/html": [
       "<div>\n",
       "<style scoped>\n",
       "    .dataframe tbody tr th:only-of-type {\n",
       "        vertical-align: middle;\n",
       "    }\n",
       "\n",
       "    .dataframe tbody tr th {\n",
       "        vertical-align: top;\n",
       "    }\n",
       "\n",
       "    .dataframe thead th {\n",
       "        text-align: right;\n",
       "    }\n",
       "</style>\n",
       "<table border=\"1\" class=\"dataframe\">\n",
       "  <thead>\n",
       "    <tr style=\"text-align: right;\">\n",
       "      <th></th>\n",
       "      <th>natid</th>\n",
       "      <th>pub_date</th>\n",
       "      <th>category</th>\n",
       "      <th>tier1</th>\n",
       "      <th>tier2</th>\n",
       "      <th>summary</th>\n",
       "      <th>clean_summary</th>\n",
       "      <th>label</th>\n",
       "      <th>keyphrases</th>\n",
       "      <th>combo_kp_summary</th>\n",
       "    </tr>\n",
       "  </thead>\n",
       "  <tbody>\n",
       "    <tr>\n",
       "      <th>1000</th>\n",
       "      <td>blogandpostid/blog/post/6582-6063877bd2a8d70006c65e83</td>\n",
       "      <td>2021-04-01</td>\n",
       "      <td>Style and Fashion</td>\n",
       "      <td>Style &amp; Fashion</td>\n",
       "      <td>Women's Fashion</td>\n",
       "      <td>The Ever Evolving Creativity Of The Engagement Ring, From Small Designers To Renowned Houses.[id=4]&lt;p&gt;The engagement ring has been witnessing a cr...</td>\n",
       "      <td>evolving creativity engagement ring, small designers renowned houses. engagement ring witnessing creative shift unconventional diamonds styling, o...</td>\n",
       "      <td>17</td>\n",
       "      <td>cluster engagement rings, design rings, customized rings, high diamond jewelry, unconventional diamonds, wedding jewelry, antique jewelry, diamond...</td>\n",
       "      <td>cluster engagement rings, design rings, customized rings, high diamond jewelry, unconventional diamonds, wedding jewelry, antique jewelry, diamond...</td>\n",
       "    </tr>\n",
       "    <tr>\n",
       "      <th>1001</th>\n",
       "      <td>blogandpostid/blog/post/5573-607301537230ca00065220d1</td>\n",
       "      <td>2021-04-11</td>\n",
       "      <td>Sports</td>\n",
       "      <td>Sports</td>\n",
       "      <td>American Football</td>\n",
       "      <td>Michigan’s Jalen Mayfield Would Give The Green Bay Packers Plenty Of Offensive Line Options.[id=0]&lt;p&gt;&lt;strong&gt;Note:&lt;/strong&gt;&amp;nbsp;The NFL Draft beg...</td>\n",
       "      <td>michigan's jalen mayfield green bay packers plenty offensive line options. note: nfl draft begins april 29 green bay packers 29 th pick round. the...</td>\n",
       "      <td>18</td>\n",
       "      <td>quality pass rushers, good rushers, nfl power rushers, right tackle, green bays linemen, skinny mayfield, offensive line options, skill set</td>\n",
       "      <td>quality pass rushers, good rushers, nfl power rushers, right tackle, green bays linemen, skinny mayfield, offensive line options, skill set michig...</td>\n",
       "    </tr>\n",
       "    <tr>\n",
       "      <th>1002</th>\n",
       "      <td>blogandpostid/blog/post/3951-5f373d7e363e500006c1ecda</td>\n",
       "      <td>2020-08-14</td>\n",
       "      <td>Sports</td>\n",
       "      <td>Television</td>\n",
       "      <td>Drama TV</td>\n",
       "      <td>WWE Continues To Drop The Ball On A Potential Star In Naomi.[id=17]&lt;p&gt;WWE continues to refuse to learn its lesson about booking babyfaces as Naomi...</td>\n",
       "      <td>wwe continues drop ball potential star naomi. wwe continues refuse learn lesson booking babyfaces naomi quickly trending topic eliminated smackdow...</td>\n",
       "      <td>6</td>\n",
       "      <td>wwes flawed re-telling, tri-branded battle royal, similar storylines, current storylines, lovable losers, longtime wwe superstar, naomis positioni...</td>\n",
       "      <td>wwes flawed re-telling, tri-branded battle royal, similar storylines, current storylines, lovable losers, longtime wwe superstar, naomis positioni...</td>\n",
       "    </tr>\n",
       "    <tr>\n",
       "      <th>1003</th>\n",
       "      <td>blogandpostid/blog/post/25-610a4b097d0b4e00065a99ca</td>\n",
       "      <td>2021-08-04</td>\n",
       "      <td>Personal Finance</td>\n",
       "      <td>Personal Finance</td>\n",
       "      <td>Personal Investing</td>\n",
       "      <td>Will Booking Holdings Stock Trend Higher Post Q2?.[id=1]&lt;p&gt;&lt;a href=\"https://dashboards.trefis.com/data/companies/BKNG\" target=\"_blank\" class=\"colo...</td>\n",
       "      <td>booking holdings stock trend higher post q2?. booking holdings (nasdaq: bkng) , world's largest online travel agency offers services lodging airli...</td>\n",
       "      <td>21</td>\n",
       "      <td>holdings stock trend, travel companies, bkng stock comparison, largest online travel agency, consensus estimates, higher post, positive growth res...</td>\n",
       "      <td>holdings stock trend, travel companies, bkng stock comparison, largest online travel agency, consensus estimates, higher post, positive growth res...</td>\n",
       "    </tr>\n",
       "    <tr>\n",
       "      <th>1004</th>\n",
       "      <td>blogandpostid/blog/post/5015-5f9af547a5a5480006298f65</td>\n",
       "      <td>2020-10-29</td>\n",
       "      <td>Personal Finance</td>\n",
       "      <td>Personal Finance</td>\n",
       "      <td>Personal Investing</td>\n",
       "      <td>Pinterest Stock Soars 30% As Boycotting Advertisers Redirect Spending Away From Facebook, Twitter Over Hate Speech And Bias Concerns.&lt;h2 class=\"to...</td>\n",
       "      <td>pinterest stock soars 30% boycotting advertisers redirect spending away facebook, twitter hate speech bias concerns. topline shares post-sharing f...</td>\n",
       "      <td>21</td>\n",
       "      <td>social media giant facebook, post-sharing firm pinterest, facebook ad boycott, big tech companiesincluding facebook, pinterest stock, social media...</td>\n",
       "      <td>social media giant facebook, post-sharing firm pinterest, facebook ad boycott, big tech companiesincluding facebook, pinterest stock, social media...</td>\n",
       "    </tr>\n",
       "    <tr>\n",
       "      <th>...</th>\n",
       "      <td>...</td>\n",
       "      <td>...</td>\n",
       "      <td>...</td>\n",
       "      <td>...</td>\n",
       "      <td>...</td>\n",
       "      <td>...</td>\n",
       "      <td>...</td>\n",
       "      <td>...</td>\n",
       "      <td>...</td>\n",
       "      <td>...</td>\n",
       "    </tr>\n",
       "    <tr>\n",
       "      <th>1253</th>\n",
       "      <td>blogandpostid/blog/post/7321-60f7f7d18050510006289738</td>\n",
       "      <td>2021-07-21</td>\n",
       "      <td>Science</td>\n",
       "      <td>Science</td>\n",
       "      <td>Genetics</td>\n",
       "      <td>Know The Proteome, Know Yourself - Unlocking The Secrets Of Proteins Could Save Lives.[id=3]&lt;p&gt;From repairing tissues to transporting oxygen in yo...</td>\n",
       "      <td>know proteome, know - unlocking secrets proteins save lives. repairing tissues transporting oxygen body, proteins serve vital functions. studying ...</td>\n",
       "      <td>1</td>\n",
       "      <td>new proteins, individual proteomes, different nanoparticles, new possibilities, proprietary engineered nanoparticles, new information, neurodegene...</td>\n",
       "      <td>new proteins, individual proteomes, different nanoparticles, new possibilities, proprietary engineered nanoparticles, new information, neurodegene...</td>\n",
       "    </tr>\n",
       "    <tr>\n",
       "      <th>1254</th>\n",
       "      <td>blogandpostid/blog/post/51170-610730f1b4025a000701f27d</td>\n",
       "      <td>2021-08-02</td>\n",
       "      <td>Television</td>\n",
       "      <td>Television</td>\n",
       "      <td>Comedy TV</td>\n",
       "      <td>Roy Wood Jr. Is One Of Comedy’s Best Journalists.[id=11]&lt;p&gt;&lt;a href=\"https://www.roywoodjr.com/\" target=\"_blank\" class=\"color-link\" title=\"https://...</td>\n",
       "      <td>roy wood jr. comedy's best journalists. roy wood jr. comedy's best journalists. giving hilarious takes race, fatherhood, pop culture politics, roy...</td>\n",
       "      <td>6</td>\n",
       "      <td>black people, white people, comedys best journalists, wood jr, go schmoozing, comedy clubs, comedy centrals, civil rights journalist, black therap...</td>\n",
       "      <td>black people, white people, comedys best journalists, wood jr, go schmoozing, comedy clubs, comedy centrals, civil rights journalist, black therap...</td>\n",
       "    </tr>\n",
       "    <tr>\n",
       "      <th>1255</th>\n",
       "      <td>blogandpostid/blog/post/4983-60cd36440e20000006fe8dec</td>\n",
       "      <td>2021-06-21</td>\n",
       "      <td>Technology and Computing</td>\n",
       "      <td>Shopping</td>\n",
       "      <td>Holiday Shopping</td>\n",
       "      <td>15 Prime Day Laptop Deals On Razer, Acer And More.&lt;p&gt;While a lot of the focus for &lt;a href=\"https://www.forbes.com/sites/forbes-personal-shopper/20...</td>\n",
       "      <td>15 prime day laptop deals razer, acer more. lot focus amazon prime day 2021 surrounding deals available best tvs best smartphones, plenty great de...</td>\n",
       "      <td>13</td>\n",
       "      <td>prime day gaming laptop, best prime day chromebook deals chromebooks, professional laptops, great deals, prime day laptop deals, amazon prime day,...</td>\n",
       "      <td>prime day gaming laptop, best prime day chromebook deals chromebooks, professional laptops, great deals, prime day laptop deals, amazon prime day,...</td>\n",
       "    </tr>\n",
       "    <tr>\n",
       "      <th>1256</th>\n",
       "      <td>blogandpostid/blog/post/50640-5f92e98630787400064d21b2</td>\n",
       "      <td>2020-10-23</td>\n",
       "      <td>News and Politics</td>\n",
       "      <td>Medical Health</td>\n",
       "      <td>Diseases and Conditions</td>\n",
       "      <td>U.S. Hits 2nd Highest Number Of New Covid Cases Since July.&lt;h2 class=\"topline-heading\"&gt;Topline&lt;/h2&gt;&lt;p&gt;The United States’ spike in new coronavirus ...</td>\n",
       "      <td>usa hits 2nd highest number new covid cases july. topline united states' spike new coronavirus infections country continues, 76,000 new cases covi...</td>\n",
       "      <td>16</td>\n",
       "      <td>new covid cases, positive cases, covid tracking project covid, case count, covid tracking project data, new coronavirus infections, highest number...</td>\n",
       "      <td>new covid cases, positive cases, covid tracking project covid, case count, covid tracking project data, new coronavirus infections, highest number...</td>\n",
       "    </tr>\n",
       "    <tr>\n",
       "      <th>1257</th>\n",
       "      <td>blogandpostid/blog/post/2595-60f047a582870300078553a4</td>\n",
       "      <td>2021-07-15</td>\n",
       "      <td>Movies</td>\n",
       "      <td>Video Gaming</td>\n",
       "      <td>Video Game Genres</td>\n",
       "      <td>Review: ‘Escape Room 2’ Is A Good Sequel To A Great ‘Saw’ Knock-Off.[id=0]&lt;p&gt;If you liked &lt;em&gt;Escape Room&lt;/em&gt;, you’ll like &lt;em&gt;Escape Room: Tourn...</td>\n",
       "      <td>review: escape room 2' good sequel great saw' knock-off. liked escape room , like escape room: tournament champions . obvious statement, welcome c...</td>\n",
       "      <td>10</td>\n",
       "      <td>horror films, sonys accidental horror franchise, franchise newbies, best schlock horror film, untimely death, prior survivors, elaborate escape ro...</td>\n",
       "      <td>horror films, sonys accidental horror franchise, franchise newbies, best schlock horror film, untimely death, prior survivors, elaborate escape ro...</td>\n",
       "    </tr>\n",
       "  </tbody>\n",
       "</table>\n",
       "<p>258 rows × 10 columns</p>\n",
       "</div>"
      ],
      "text/plain": [
       "                                                       natid    pub_date  \\\n",
       "1000   blogandpostid/blog/post/6582-6063877bd2a8d70006c65e83  2021-04-01   \n",
       "1001   blogandpostid/blog/post/5573-607301537230ca00065220d1  2021-04-11   \n",
       "1002   blogandpostid/blog/post/3951-5f373d7e363e500006c1ecda  2020-08-14   \n",
       "1003     blogandpostid/blog/post/25-610a4b097d0b4e00065a99ca  2021-08-04   \n",
       "1004   blogandpostid/blog/post/5015-5f9af547a5a5480006298f65  2020-10-29   \n",
       "...                                                      ...         ...   \n",
       "1253   blogandpostid/blog/post/7321-60f7f7d18050510006289738  2021-07-21   \n",
       "1254  blogandpostid/blog/post/51170-610730f1b4025a000701f27d  2021-08-02   \n",
       "1255   blogandpostid/blog/post/4983-60cd36440e20000006fe8dec  2021-06-21   \n",
       "1256  blogandpostid/blog/post/50640-5f92e98630787400064d21b2  2020-10-23   \n",
       "1257   blogandpostid/blog/post/2595-60f047a582870300078553a4  2021-07-15   \n",
       "\n",
       "                      category             tier1                    tier2  \\\n",
       "1000         Style and Fashion   Style & Fashion          Women's Fashion   \n",
       "1001                    Sports            Sports        American Football   \n",
       "1002                    Sports        Television                 Drama TV   \n",
       "1003          Personal Finance  Personal Finance       Personal Investing   \n",
       "1004          Personal Finance  Personal Finance       Personal Investing   \n",
       "...                        ...               ...                      ...   \n",
       "1253                   Science           Science                 Genetics   \n",
       "1254                Television        Television                Comedy TV   \n",
       "1255  Technology and Computing          Shopping         Holiday Shopping   \n",
       "1256         News and Politics    Medical Health  Diseases and Conditions   \n",
       "1257                    Movies      Video Gaming        Video Game Genres   \n",
       "\n",
       "                                                                                                                                                    summary  \\\n",
       "1000  The Ever Evolving Creativity Of The Engagement Ring, From Small Designers To Renowned Houses.[id=4]<p>The engagement ring has been witnessing a cr...   \n",
       "1001  Michigan’s Jalen Mayfield Would Give The Green Bay Packers Plenty Of Offensive Line Options.[id=0]<p><strong>Note:</strong>&nbsp;The NFL Draft beg...   \n",
       "1002  WWE Continues To Drop The Ball On A Potential Star In Naomi.[id=17]<p>WWE continues to refuse to learn its lesson about booking babyfaces as Naomi...   \n",
       "1003  Will Booking Holdings Stock Trend Higher Post Q2?.[id=1]<p><a href=\"https://dashboards.trefis.com/data/companies/BKNG\" target=\"_blank\" class=\"colo...   \n",
       "1004  Pinterest Stock Soars 30% As Boycotting Advertisers Redirect Spending Away From Facebook, Twitter Over Hate Speech And Bias Concerns.<h2 class=\"to...   \n",
       "...                                                                                                                                                     ...   \n",
       "1253  Know The Proteome, Know Yourself - Unlocking The Secrets Of Proteins Could Save Lives.[id=3]<p>From repairing tissues to transporting oxygen in yo...   \n",
       "1254  Roy Wood Jr. Is One Of Comedy’s Best Journalists.[id=11]<p><a href=\"https://www.roywoodjr.com/\" target=\"_blank\" class=\"color-link\" title=\"https://...   \n",
       "1255  15 Prime Day Laptop Deals On Razer, Acer And More.<p>While a lot of the focus for <a href=\"https://www.forbes.com/sites/forbes-personal-shopper/20...   \n",
       "1256  U.S. Hits 2nd Highest Number Of New Covid Cases Since July.<h2 class=\"topline-heading\">Topline</h2><p>The United States’ spike in new coronavirus ...   \n",
       "1257  Review: ‘Escape Room 2’ Is A Good Sequel To A Great ‘Saw’ Knock-Off.[id=0]<p>If you liked <em>Escape Room</em>, you’ll like <em>Escape Room: Tourn...   \n",
       "\n",
       "                                                                                                                                              clean_summary  \\\n",
       "1000  evolving creativity engagement ring, small designers renowned houses. engagement ring witnessing creative shift unconventional diamonds styling, o...   \n",
       "1001  michigan's jalen mayfield green bay packers plenty offensive line options. note: nfl draft begins april 29 green bay packers 29 th pick round. the...   \n",
       "1002  wwe continues drop ball potential star naomi. wwe continues refuse learn lesson booking babyfaces naomi quickly trending topic eliminated smackdow...   \n",
       "1003  booking holdings stock trend higher post q2?. booking holdings (nasdaq: bkng) , world's largest online travel agency offers services lodging airli...   \n",
       "1004  pinterest stock soars 30% boycotting advertisers redirect spending away facebook, twitter hate speech bias concerns. topline shares post-sharing f...   \n",
       "...                                                                                                                                                     ...   \n",
       "1253  know proteome, know - unlocking secrets proteins save lives. repairing tissues transporting oxygen body, proteins serve vital functions. studying ...   \n",
       "1254  roy wood jr. comedy's best journalists. roy wood jr. comedy's best journalists. giving hilarious takes race, fatherhood, pop culture politics, roy...   \n",
       "1255  15 prime day laptop deals razer, acer more. lot focus amazon prime day 2021 surrounding deals available best tvs best smartphones, plenty great de...   \n",
       "1256  usa hits 2nd highest number new covid cases july. topline united states' spike new coronavirus infections country continues, 76,000 new cases covi...   \n",
       "1257  review: escape room 2' good sequel great saw' knock-off. liked escape room , like escape room: tournament champions . obvious statement, welcome c...   \n",
       "\n",
       "      label  \\\n",
       "1000     17   \n",
       "1001     18   \n",
       "1002      6   \n",
       "1003     21   \n",
       "1004     21   \n",
       "...     ...   \n",
       "1253      1   \n",
       "1254      6   \n",
       "1255     13   \n",
       "1256     16   \n",
       "1257     10   \n",
       "\n",
       "                                                                                                                                                 keyphrases  \\\n",
       "1000  cluster engagement rings, design rings, customized rings, high diamond jewelry, unconventional diamonds, wedding jewelry, antique jewelry, diamond...   \n",
       "1001            quality pass rushers, good rushers, nfl power rushers, right tackle, green bays linemen, skinny mayfield, offensive line options, skill set   \n",
       "1002  wwes flawed re-telling, tri-branded battle royal, similar storylines, current storylines, lovable losers, longtime wwe superstar, naomis positioni...   \n",
       "1003  holdings stock trend, travel companies, bkng stock comparison, largest online travel agency, consensus estimates, higher post, positive growth res...   \n",
       "1004  social media giant facebook, post-sharing firm pinterest, facebook ad boycott, big tech companiesincluding facebook, pinterest stock, social media...   \n",
       "...                                                                                                                                                     ...   \n",
       "1253  new proteins, individual proteomes, different nanoparticles, new possibilities, proprietary engineered nanoparticles, new information, neurodegene...   \n",
       "1254  black people, white people, comedys best journalists, wood jr, go schmoozing, comedy clubs, comedy centrals, civil rights journalist, black therap...   \n",
       "1255  prime day gaming laptop, best prime day chromebook deals chromebooks, professional laptops, great deals, prime day laptop deals, amazon prime day,...   \n",
       "1256  new covid cases, positive cases, covid tracking project covid, case count, covid tracking project data, new coronavirus infections, highest number...   \n",
       "1257  horror films, sonys accidental horror franchise, franchise newbies, best schlock horror film, untimely death, prior survivors, elaborate escape ro...   \n",
       "\n",
       "                                                                                                                                           combo_kp_summary  \n",
       "1000  cluster engagement rings, design rings, customized rings, high diamond jewelry, unconventional diamonds, wedding jewelry, antique jewelry, diamond...  \n",
       "1001  quality pass rushers, good rushers, nfl power rushers, right tackle, green bays linemen, skinny mayfield, offensive line options, skill set michig...  \n",
       "1002  wwes flawed re-telling, tri-branded battle royal, similar storylines, current storylines, lovable losers, longtime wwe superstar, naomis positioni...  \n",
       "1003  holdings stock trend, travel companies, bkng stock comparison, largest online travel agency, consensus estimates, higher post, positive growth res...  \n",
       "1004  social media giant facebook, post-sharing firm pinterest, facebook ad boycott, big tech companiesincluding facebook, pinterest stock, social media...  \n",
       "...                                                                                                                                                     ...  \n",
       "1253  new proteins, individual proteomes, different nanoparticles, new possibilities, proprietary engineered nanoparticles, new information, neurodegene...  \n",
       "1254  black people, white people, comedys best journalists, wood jr, go schmoozing, comedy clubs, comedy centrals, civil rights journalist, black therap...  \n",
       "1255  prime day gaming laptop, best prime day chromebook deals chromebooks, professional laptops, great deals, prime day laptop deals, amazon prime day,...  \n",
       "1256  new covid cases, positive cases, covid tracking project covid, case count, covid tracking project data, new coronavirus infections, highest number...  \n",
       "1257  horror films, sonys accidental horror franchise, franchise newbies, best schlock horror film, untimely death, prior survivors, elaborate escape ro...  \n",
       "\n",
       "[258 rows x 10 columns]"
      ]
     },
     "execution_count": 7,
     "metadata": {},
     "output_type": "execute_result"
    }
   ],
   "source": [
    "prim_labels = []\n",
    "sec_labels = []\n",
    "ter_labels = []\n",
    "\n",
    "prim_scores = []\n",
    "sec_scores = []\n",
    "ter_scores = []\n",
    "\n",
    "begin = 1000 # 800 # 600 # 400 # 200 # 100 # 0  # 1000 #    \n",
    "end = 1258 # 1000 # 800 # 600 # 400 # 200 # 100 # 1258 #   \n",
    "df[begin:end]"
   ]
  },
  {
   "cell_type": "code",
   "execution_count": 8,
   "id": "a659a163",
   "metadata": {},
   "outputs": [
    {
     "name": "stdout",
     "output_type": "stream",
     "text": [
      "time (mins) -  27.91 \n",
      "\n"
     ]
    }
   ],
   "source": [
    "start_time = time.time()\n",
    "\n",
    "art_list = df.combo_kp_summary[begin:end].tolist()\n",
    "\n",
    "for i in range(len(art_list)):\n",
    "\n",
    "    res = classifier(art_list[i][:3200], candidate_labels, multi_label=True)\n",
    "    \n",
    "    prim_labels.append(res['labels'][0])\n",
    "    sec_labels.append(res['labels'][1])\n",
    "    ter_labels.append(res['labels'][2])\n",
    "    \n",
    "    prim_scores.append(res['scores'][0])\n",
    "    sec_scores.append(res['scores'][1])\n",
    "    ter_scores.append(res['scores'][2])\n",
    "\n",
    "print(\"time (mins) - \", round((time.time() - start_time)/60, 2), \"\\n\") \n",
    "\n",
    "# runtime: 100 rows - 9 mins (vanilla)\n",
    "# runtime: 100 rows - 20-25 mins (w/ tfidf+text)\n",
    "# runtime: 100 rows - 20-25 mins (w/ kp+text)\n",
    "# runtime: 100 rows - 30 mins (w/ new labels)"
   ]
  },
  {
   "cell_type": "code",
   "execution_count": 9,
   "id": "57b89a75",
   "metadata": {},
   "outputs": [],
   "source": [
    "ml_data = pd.DataFrame(df[['natid', 'category', 'tier1', 'tier2', 'clean_summary']][begin:end])\n",
    "ml_data[\"prim_labels\"] = prim_labels\n",
    "ml_data[\"sec_labels\"] = sec_labels\n",
    "ml_data[\"ter_labels\"] = ter_labels\n",
    "\n",
    "ml_data[\"prim_scores\"] = prim_scores\n",
    "ml_data[\"sec_scores\"] = sec_scores\n",
    "ml_data[\"ter_scores\"] = ter_scores"
   ]
  },
  {
   "cell_type": "code",
   "execution_count": 13,
   "id": "ede7bd42",
   "metadata": {
    "jupyter": {
     "source_hidden": true
    }
   },
   "outputs": [],
   "source": [
    "# prim_label_mapped = []\n",
    "# sec_label_mapped = []\n",
    "# ter_label_mapped = []\n",
    "\n",
    "# for i in range(len(ml_data)):\n",
    "    \n",
    "#     for key, value in new_t1_label.items():\n",
    "#         if value == prim_labels[i]:\n",
    "#             prim_label_mapped.append(key)\n",
    "        \n",
    "#         if value == sec_labels[i]:\n",
    "#             sec_label_mapped.append(key)\n",
    "        \n",
    "#         if value == ter_labels[i]:\n",
    "#             ter_label_mapped.append(key)\n",
    "\n",
    "# ml_data['prim_label_mapped'] = prim_labels\n",
    "# ml_data['sec_label_mapped'] = sec_labels\n",
    "# ml_data['ter_label_mapped'] = ter_labels"
   ]
  },
  {
   "cell_type": "code",
   "execution_count": 10,
   "id": "e9f6b6be",
   "metadata": {},
   "outputs": [
    {
     "name": "stdout",
     "output_type": "stream",
     "text": [
      "% rows where Tier1 present in either of three labels -  67\n",
      "% rows where Tier1 present in prim_labels            -  33\n"
     ]
    }
   ],
   "source": [
    "# TIER 1\n",
    "\n",
    "match_all = []\n",
    "match_prim = []\n",
    "\n",
    "for i in range(len(ml_data['tier1'])):\n",
    "    if ml_data['tier1'][i+1000] in (ml_data['prim_labels'] + \" \" + ml_data['sec_labels'] + \" \" + ml_data['ter_labels'])[i+1000]:\n",
    "        match_all.append(True)\n",
    "    \n",
    "    if ml_data['tier1'][i+1000] in ml_data['prim_labels'][i+1000]:\n",
    "        match_prim.append(True)\n",
    "        \n",
    "print(\"% rows where Tier1 present in either of three labels - \", round((len(match_all)/ml_data.shape[0])*100))\n",
    "print(\"% rows where Tier1 present in prim_labels            - \", round((len(match_prim)/ml_data.shape[0])*100))\n",
    "\n",
    "# tfidf + text = 71-37, 63-33, 66-34, 71-37, 65-30, 73-34, 68-33\n",
    "# kps + text = 72-35, 62-33, 66-34, 72-36, 67-30, 74-35, 67-33"
   ]
  },
  {
   "cell_type": "code",
   "execution_count": 11,
   "id": "a6988c1d",
   "metadata": {},
   "outputs": [],
   "source": [
    "ml_data.to_csv(\"./mnet_test/ml_kps_text_t1_test_begin_\"+str(begin)+\".csv\", index=False)"
   ]
  },
  {
   "cell_type": "code",
   "execution_count": null,
   "id": "7e800dfc",
   "metadata": {},
   "outputs": [],
   "source": []
  },
  {
   "cell_type": "markdown",
   "id": "8d42bed1",
   "metadata": {},
   "source": [
    "* **Analyze results - Tier 1 labels**\n",
    "\n",
    "* Questions - \n",
    "     * zero-shot is good solution but can results be directly consumed for training a classifier? i.e. do all labels make sense?\n",
    "        * OBS: needs post-processing/filtering to get high confidence ones. \n",
    "            * How?\n",
    "                * filter on basis of similarity of articles which get same labels or\n",
    "                * ensemble with other method<br><br>\n",
    "    \n",
    "    * decide granularity - predict with tier1 and tier2 labels and analyze\n",
    "        * OBS: works well with more granularity"
   ]
  },
  {
   "cell_type": "code",
   "execution_count": 8,
   "id": "417ca538",
   "metadata": {},
   "outputs": [
    {
     "name": "stdout",
     "output_type": "stream",
     "text": [
      "(1258, 11)\n",
      "1258\n",
      "natid            0\n",
      "category         0\n",
      "clean_summary    0\n",
      "tier1            0\n",
      "tier2            0\n",
      "prim_labels      0\n",
      "sec_labels       0\n",
      "ter_labels       0\n",
      "prim_prob        0\n",
      "sec_prob         0\n",
      "ter_prob         0\n",
      "dtype: int64\n"
     ]
    }
   ],
   "source": [
    "import glob\n",
    "import pandas as pd\n",
    "\n",
    "def pd_read_pattern(pattern):\n",
    "    files = glob.glob(pattern)\n",
    "\n",
    "    df = pd.DataFrame()\n",
    "    for f in files:\n",
    "        df = df.append(pd.read_csv(f))\n",
    "\n",
    "    return df.reset_index(drop=True)\n",
    "\n",
    "ml = pd_read_pattern('./mnet_test/ml_yahoo_t1_test_begin_*.csv')\n",
    "\n",
    "# rename\n",
    "ml.rename(columns = {'prim_scores':'prim_prob', 'sec_scores': 'sec_prob', 'ter_scores':'ter_prob'}, inplace = True)\n",
    "\n",
    "ml = ml[['natid', 'category', 'clean_summary', 'tier1', 'tier2', 'prim_labels', 'sec_labels', 'ter_labels', 'prim_prob', 'sec_prob', 'ter_prob', ]]\n",
    "ml.reset_index(drop=True, inplace=True)\n",
    "print(ml.shape)\n",
    "print(len(ml.natid.unique()))\n",
    "print(ml.isna().sum())"
   ]
  },
  {
   "cell_type": "code",
   "execution_count": 2,
   "id": "e60619ae",
   "metadata": {},
   "outputs": [],
   "source": [
    "# ml.to_csv(\"ml_inspect.csv\", index=False)"
   ]
  },
  {
   "cell_type": "code",
   "execution_count": 10,
   "id": "ed0361b9",
   "metadata": {},
   "outputs": [],
   "source": [
    "ml = pd.read_csv(\"./mnet_test/ml_inspect.csv\")"
   ]
  },
  {
   "cell_type": "code",
   "execution_count": 11,
   "id": "9128d9e3",
   "metadata": {},
   "outputs": [
    {
     "data": {
      "text/plain": [
       "News and Politics           50\n",
       "Personal Finance            50\n",
       "Technology & Computing      50\n",
       "Medical Health              50\n",
       "Events and Attractions      50\n",
       "Education                   50\n",
       "Careers                     50\n",
       "Sports                      50\n",
       "Real Estate                 50\n",
       "Travel                      50\n",
       "Video Gaming                50\n",
       "Business and Finance        50\n",
       "Movies                      49\n",
       "Television                  49\n",
       "Healthy Living              49\n",
       "Music and Audio             49\n",
       "Science                     49\n",
       "Shopping                    49\n",
       "Automotive                  49\n",
       "Style & Fashion             49\n",
       "Family and Relationships    49\n",
       "Food & Drink                48\n",
       "Hobbies & Interests         48\n",
       "Home & Garden               47\n",
       "Fine Art                    25\n",
       "Pets                        17\n",
       "Books and Literature        17\n",
       "Pop Culture                 15\n",
       "Name: tier1, dtype: int64"
      ]
     },
     "execution_count": 11,
     "metadata": {},
     "output_type": "execute_result"
    }
   ],
   "source": [
    "ml.tier1.value_counts()"
   ]
  },
  {
   "cell_type": "code",
   "execution_count": 12,
   "id": "72b1d37b",
   "metadata": {},
   "outputs": [
    {
     "data": {
      "text/plain": [
       "Business and Finance        461\n",
       "Medical Health              106\n",
       "Technology & Computing      105\n",
       "News and Politics            81\n",
       "Science                      52\n",
       "Video Gaming                 52\n",
       "Sports                       49\n",
       "Healthy Living               41\n",
       "Music and Audio              36\n",
       "Food & Drink                 33\n",
       "Pop Culture                  31\n",
       "Movies                       27\n",
       "Travel                       25\n",
       "Television                   24\n",
       "Automotive                   19\n",
       "Shopping                     18\n",
       "Education                    16\n",
       "Style & Fashion              12\n",
       "Careers                      11\n",
       "Family and Relationships     10\n",
       "Books and Literature         10\n",
       "Real Estate                   9\n",
       "Fine Art                      8\n",
       "Events and Attractions        8\n",
       "Personal Finance              6\n",
       "Hobbies & Interests           4\n",
       "Home & Garden                 3\n",
       "Pets                          1\n",
       "Name: prim_labels, dtype: int64"
      ]
     },
     "execution_count": 12,
     "metadata": {},
     "output_type": "execute_result"
    }
   ],
   "source": [
    "# 36% articles getting Business and Finance\n",
    "\n",
    "ml.prim_labels.value_counts()"
   ]
  },
  {
   "cell_type": "code",
   "execution_count": 8,
   "id": "c42b966b",
   "metadata": {},
   "outputs": [
    {
     "data": {
      "text/plain": [
       "Business and Finance      235\n",
       "Technology & Computing    119\n",
       "Careers                   113\n",
       "Healthy Living             91\n",
       "Personal Finance           82\n",
       "Pop Culture                68\n",
       "Real Estate                62\n",
       "Medical Health             55\n",
       "Events and Attractions     49\n",
       "Video Gaming               36\n",
       "Name: sec_labels, dtype: int64"
      ]
     },
     "execution_count": 8,
     "metadata": {},
     "output_type": "execute_result"
    }
   ],
   "source": [
    "ml.sec_labels.value_counts()[:10]"
   ]
  },
  {
   "cell_type": "code",
   "execution_count": 9,
   "id": "f2d64db1",
   "metadata": {},
   "outputs": [
    {
     "data": {
      "text/plain": [
       "Personal Finance          198\n",
       "Careers                   147\n",
       "Business and Finance      129\n",
       "Science                    83\n",
       "Technology & Computing     77\n",
       "Events and Attractions     67\n",
       "Hobbies & Interests        55\n",
       "Real Estate                54\n",
       "Pop Culture                50\n",
       "Healthy Living             36\n",
       "Name: ter_labels, dtype: int64"
      ]
     },
     "execution_count": 9,
     "metadata": {},
     "output_type": "execute_result"
    }
   ],
   "source": [
    "# 16% articles getting Personal Finance\n",
    "\n",
    "ml.ter_labels.value_counts()[:10]"
   ]
  },
  {
   "cell_type": "code",
   "execution_count": 13,
   "id": "9ede22fb",
   "metadata": {},
   "outputs": [
    {
     "name": "stdout",
     "output_type": "stream",
     "text": [
      "% rows where Tier1 present in either of three labels -  68\n",
      "% rows where Tier1 present in prim_labels            -  34\n"
     ]
    }
   ],
   "source": [
    "# TIER 1\n",
    "\n",
    "match_all = []\n",
    "match_prim = []\n",
    "\n",
    "for i in range(len(ml['tier1'])):\n",
    "    if ml['tier1'][i] in (ml['prim_labels'] + \" \" + ml['sec_labels'] + \" \" + ml['ter_labels'])[i]:\n",
    "        match_all.append(True)\n",
    "    \n",
    "    if ml['tier1'][i] in ml['prim_labels'][i]:\n",
    "        match_prim.append(True)\n",
    "        \n",
    "print(\"% rows where Tier1 present in either of three labels - \", round((len(match_all)/ml.shape[0])*100))\n",
    "print(\"% rows where Tier1 present in prim_labels            - \", round((len(match_prim)/ml.shape[0])*100))"
   ]
  },
  {
   "cell_type": "code",
   "execution_count": 11,
   "id": "f3e824fa",
   "metadata": {},
   "outputs": [
    {
     "data": {
      "text/plain": [
       "<AxesSubplot:>"
      ]
     },
     "execution_count": 11,
     "metadata": {},
     "output_type": "execute_result"
    },
    {
     "data": {
      "image/png": "[encoded data removed]",
      "text/plain": [
       "<Figure size 432x288 with 1 Axes>"
      ]
     },
     "metadata": {
      "needs_background": "light"
     },
     "output_type": "display_data"
    }
   ],
   "source": [
    "ml.prim_prob.hist()"
   ]
  },
  {
   "cell_type": "code",
   "execution_count": 12,
   "id": "0c03dbd8",
   "metadata": {},
   "outputs": [
    {
     "data": {
      "text/plain": [
       "<AxesSubplot:>"
      ]
     },
     "execution_count": 12,
     "metadata": {},
     "output_type": "execute_result"
    },
    {
     "data": {
      "image/png": "[encoded data removed]",
      "text/plain": [
       "<Figure size 432x288 with 1 Axes>"
      ]
     },
     "metadata": {
      "needs_background": "light"
     },
     "output_type": "display_data"
    }
   ],
   "source": [
    "ml.sec_prob.hist()"
   ]
  },
  {
   "cell_type": "code",
   "execution_count": 13,
   "id": "50f72894",
   "metadata": {},
   "outputs": [
    {
     "data": {
      "text/plain": [
       "<AxesSubplot:>"
      ]
     },
     "execution_count": 13,
     "metadata": {},
     "output_type": "execute_result"
    },
    {
     "data": {
      "image/png": "[encoded data removed]",
      "text/plain": [
       "<Figure size 432x288 with 1 Axes>"
      ]
     },
     "metadata": {
      "needs_background": "light"
     },
     "output_type": "display_data"
    }
   ],
   "source": [
    "ml.ter_prob.hist()"
   ]
  },
  {
   "cell_type": "markdown",
   "id": "b92dd5b9",
   "metadata": {},
   "source": [
    "* **Manual Review**\n",
    "    * 2 articles per tier randomly sampled\n",
    "        * OBS: \n",
    "            * Tertiary labels are problematic, even ones with high probability - not necessarily error in one specific class only\n",
    "            * straightforward fitlering on basis of prob not possi"
   ]
  },
  {
   "cell_type": "code",
   "execution_count": 17,
   "id": "d4604662",
   "metadata": {
    "collapsed": true,
    "jupyter": {
     "outputs_hidden": true
    }
   },
   "outputs": [
    {
     "data": {
      "text/plain": [
       "56"
      ]
     },
     "execution_count": 17,
     "metadata": {},
     "output_type": "execute_result"
    }
   ],
   "source": [
    "# natid_inspect = list(ml.groupby('tier1').apply(lambda x: x.sample(n=2).squeeze()).natid.unique())\n",
    "# print(len(natid_inspect))\n",
    "\n",
    "# joblib.dump(natid_inspect, \"natid_manual_review.joblib\")\n",
    "\n",
    "natid_review = joblib.load(\"./mnet_test/natid_manual_review.joblib\")\n",
    "len(natid_review)"
   ]
  },
  {
   "cell_type": "code",
   "execution_count": 20,
   "id": "87e5b88c",
   "metadata": {
    "collapsed": true,
    "jupyter": {
     "outputs_hidden": true
    }
   },
   "outputs": [
    {
     "data": {
      "text/plain": [
       "Automotive                  2\n",
       "Travel                      2\n",
       "Home & Garden               2\n",
       "Science                     2\n",
       "News and Politics           2\n",
       "Television                  2\n",
       "Shopping                    2\n",
       "Fine Art                    2\n",
       "Real Estate                 2\n",
       "Business and Finance        2\n",
       "Style & Fashion             2\n",
       "Personal Finance            2\n",
       "Books and Literature        2\n",
       "Music and Audio             2\n",
       "Events and Attractions      2\n",
       "Hobbies & Interests         2\n",
       "Family and Relationships    2\n",
       "Careers                     2\n",
       "Healthy Living              2\n",
       "Movies                      2\n",
       "Education                   2\n",
       "Technology & Computing      2\n",
       "Video Gaming                2\n",
       "Pets                        2\n",
       "Sports                      2\n",
       "Food & Drink                2\n",
       "Medical Health              2\n",
       "Pop Culture                 2\n",
       "Name: tier1, dtype: int64"
      ]
     },
     "execution_count": 20,
     "metadata": {},
     "output_type": "execute_result"
    }
   ],
   "source": [
    "ml[ml.natid.isin(natid_review)].tier1.value_counts() #.to_csv(\"read1.csv\", index=False)"
   ]
  },
  {
   "cell_type": "markdown",
   "id": "eec66c23",
   "metadata": {},
   "source": [
    "* **Scalable (non-Manual) filtering**\n",
    "\n",
    "    * Say, articles X and Y have 1 same label = \"Business and Finance\". They could still have diff contents and be dissimilar\n",
    "        * Ex. - X could be \"Business and Finance + Sports\" and Y could be \"Business and Finance + Music\" <br><br>\n",
    "\n",
    "    * But, if they have **3** labels same = they got to have good degree of similarity\n",
    "        * So, treat 3 labels as a unique combo/group/topic\n",
    "        * Calculate how similar articles within each combo/group/topic are\n",
    "        * The combo/group/topic with high cosine similarities can be considered high confidence ones (without reading each article)"
   ]
  },
  {
   "cell_type": "code",
   "execution_count": 12,
   "id": "0b96d1ab",
   "metadata": {},
   "outputs": [],
   "source": [
    "# Generate embeddings using avg(sbert)\n",
    "\n",
    "import joblib\n",
    "from joblib import Parallel, delayed\n",
    "from nltk.tokenize import sent_tokenize\n",
    "from sentence_transformers import SentenceTransformer\n",
    "\n",
    "def get_embeddings_mod(article_body):\n",
    "    '''\n",
    "    For a given article:\n",
    "    1. Using SentenceTransformer, extracts every sentence's embedding\n",
    "    2. Averages those embeddings to get one final article-level embedding\n",
    "    '''\n",
    "    \n",
    "    model = SentenceTransformer('all-distilroberta-v1') #distilbert-base-nli-mean-tokens  -- this model is deprecated now 9/9/21\n",
    "    \n",
    "    art_sentences = sent_tokenize(article_body)\n",
    "    \n",
    "    embedding_sent = model.encode(art_sentences)    \n",
    "\n",
    "    art_embed = np.mean(embedding_sent, axis=0)\n",
    "    \n",
    "    return art_embed"
   ]
  },
  {
   "cell_type": "code",
   "execution_count": 13,
   "id": "1b741779",
   "metadata": {
    "collapsed": true,
    "jupyter": {
     "outputs_hidden": true
    }
   },
   "outputs": [
    {
     "name": "stdout",
     "output_type": "stream",
     "text": [
      "articles:  1258\n",
      "article_embeddings len: 1258\n",
      "\n",
      "Embedding generation time 3.07 minutes\n"
     ]
    }
   ],
   "source": [
    "ml_insp = pd.read_csv(\"ml_inspect.csv\")\n",
    "ml_insp.reset_index(drop=True, inplace=True)\n",
    "\n",
    "df_proc = ml_insp.clean_summary.tolist()\n",
    "print(\"articles: \", len(df_proc))\n",
    "\n",
    "# Parallel processing\n",
    "\n",
    "start = time.time()\n",
    "\n",
    "article_embeddings = Parallel(n_jobs=-1)(delayed(get_embeddings_mod)(article_body) for article_body in df_proc)\n",
    "\n",
    "print(\"article_embeddings len:\", len(article_embeddings))\n",
    "print()\n",
    "print('Embedding generation time {} minutes'.format(round((time.time() - start) / 60, 2)))"
   ]
  },
  {
   "cell_type": "code",
   "execution_count": 16,
   "id": "b7a9633c",
   "metadata": {
    "collapsed": true,
    "jupyter": {
     "outputs_hidden": true
    }
   },
   "outputs": [
    {
     "data": {
      "text/plain": [
       "['mnet_test_article_embeddings.joblib']"
      ]
     },
     "execution_count": 16,
     "metadata": {},
     "output_type": "execute_result"
    }
   ],
   "source": [
    "joblib.dump(article_embeddings, \"mnet_test_article_embeddings.joblib\")"
   ]
  },
  {
   "cell_type": "code",
   "execution_count": 14,
   "id": "7fa43d2f",
   "metadata": {},
   "outputs": [],
   "source": [
    "article_embeddings = joblib.load(\"./data/mnet_test_article_embeddings.joblib\")"
   ]
  },
  {
   "cell_type": "code",
   "execution_count": 15,
   "id": "637b98f7",
   "metadata": {},
   "outputs": [],
   "source": [
    "# join 3 labels into a combo/group/topic\n",
    "\n",
    "ml[\"label_combo\"] = ml[\"prim_labels\"] + \" \" + ml[\"sec_labels\"] + \" \" + ml[\"ter_labels\"]"
   ]
  },
  {
   "cell_type": "code",
   "execution_count": 16,
   "id": "759cf528",
   "metadata": {},
   "outputs": [],
   "source": [
    "def topic_cos_sim_metrics(embedding_list):\n",
    "    '''\n",
    "    a. Calculate cosine similarity of every article (embedding_list) with every other. \n",
    "    b. Calculate stats (min, mean etc.) on above\n",
    "    '''\n",
    "    \n",
    "    # convert list to sparse matrix\n",
    "    sparse_matrix= scipy.sparse.csr_matrix(embedding_list)\n",
    "    \n",
    "    # full matrix of cosine similarity of every embedding/article with every other\n",
    "    cos_mat = cosine_similarity(sparse_matrix)\n",
    "    \n",
    "    # keep upper right triangle (above diagonal)\n",
    "    upper_right = cos_mat[np.triu_indices(len(embedding_list), k=1)]\n",
    "    \n",
    "    # calculate metrics\n",
    "    metrics = pd.DataFrame(upper_right\n",
    "                          ).describe().T.apply(lambda x: \n",
    "                                               round(x, 2)).rename(columns={\"min\":\"cos_min\",\n",
    "                                                                            \"mean\":\"cos_mean\",\n",
    "                                                                            \"std\":\"cos_std\", \n",
    "                                                                            \"50%\":\"cos_median\"})[[\"cos_min\", \"cos_mean\"]]\n",
    "    \n",
    "    return metrics\n"
   ]
  },
  {
   "cell_type": "code",
   "execution_count": 17,
   "id": "2fb7be49",
   "metadata": {},
   "outputs": [],
   "source": [
    "cossim_matrix_df = pd.DataFrame()\n",
    "topic_num_list = []\n",
    "\n",
    "for topic_num in sorted(ml.label_combo.unique()):\n",
    "\n",
    "    topic_group = ml[ml.label_combo == topic_num]\n",
    "    # grab all articles of given label combo\n",
    "    group_embeddings = [article_embeddings[i] for i in list(topic_group.index)]\n",
    "\n",
    "    # generate cosine similarity metrics for each label combo\n",
    "    metrics_df = topic_cos_sim_metrics(group_embeddings)\n",
    "\n",
    "    # append all topic metrics together\n",
    "    cossim_matrix_df = cossim_matrix_df.append(metrics_df)\n",
    "\n",
    "    # make a label combo list\n",
    "    topic_num_list.append(topic_num)\n",
    "\n",
    "cossim_matrix_df[\"label_combo\"] = topic_num_list\n",
    "\n",
    "cols = ['label_combo', 'cos_min', 'cos_mean']\n",
    "\n",
    "cossim_matrix_df = cossim_matrix_df[cols].reset_index(drop=True) #9.56"
   ]
  },
  {
   "cell_type": "code",
   "execution_count": 18,
   "id": "d72871f9",
   "metadata": {
    "collapsed": true,
    "jupyter": {
     "outputs_hidden": true
    }
   },
   "outputs": [
    {
     "data": {
      "text/plain": [
       "Medical Health Healthy Living Science                       49\n",
       "Business and Finance Careers Personal Finance               45\n",
       "Business and Finance Real Estate Personal Finance           42\n",
       "Business and Finance Personal Finance Real Estate           27\n",
       "Video Gaming Technology & Computing Hobbies & Interests     25\n",
       "                                                            ..\n",
       "Pop Culture Movies Events and Attractions                    1\n",
       "Food & Drink Events and Attractions Business and Finance     1\n",
       "Technology & Computing Science Business and Finance          1\n",
       "Business and Finance Shopping Style & Fashion                1\n",
       "Food & Drink Business and Finance Travel                     1\n",
       "Name: label_combo, Length: 501, dtype: int64"
      ]
     },
     "execution_count": 18,
     "metadata": {},
     "output_type": "execute_result"
    }
   ],
   "source": [
    "ml.label_combo.value_counts()"
   ]
  },
  {
   "cell_type": "code",
   "execution_count": 19,
   "id": "ff7ea118",
   "metadata": {
    "collapsed": true,
    "jupyter": {
     "outputs_hidden": true
    }
   },
   "outputs": [
    {
     "data": {
      "text/html": [
       "<div>\n",
       "<style scoped>\n",
       "    .dataframe tbody tr th:only-of-type {\n",
       "        vertical-align: middle;\n",
       "    }\n",
       "\n",
       "    .dataframe tbody tr th {\n",
       "        vertical-align: top;\n",
       "    }\n",
       "\n",
       "    .dataframe thead th {\n",
       "        text-align: right;\n",
       "    }\n",
       "</style>\n",
       "<table border=\"1\" class=\"dataframe\">\n",
       "  <thead>\n",
       "    <tr style=\"text-align: right;\">\n",
       "      <th></th>\n",
       "      <th>label_combo</th>\n",
       "      <th>cos_min</th>\n",
       "      <th>cos_mean</th>\n",
       "    </tr>\n",
       "  </thead>\n",
       "  <tbody>\n",
       "    <tr>\n",
       "      <th>0</th>\n",
       "      <td>Automotive Business and Finance Personal Finance</td>\n",
       "      <td>0.1</td>\n",
       "      <td>0.3</td>\n",
       "    </tr>\n",
       "    <tr>\n",
       "      <th>1</th>\n",
       "      <td>Automotive Business and Finance Sports</td>\n",
       "      <td>0.1</td>\n",
       "      <td>0.2</td>\n",
       "    </tr>\n",
       "    <tr>\n",
       "      <th>5</th>\n",
       "      <td>Automotive Technology &amp; Computing Business and Finance</td>\n",
       "      <td>0.2</td>\n",
       "      <td>0.3</td>\n",
       "    </tr>\n",
       "    <tr>\n",
       "      <th>7</th>\n",
       "      <td>Automotive Travel Business and Finance</td>\n",
       "      <td>0.3</td>\n",
       "      <td>0.4</td>\n",
       "    </tr>\n",
       "    <tr>\n",
       "      <th>9</th>\n",
       "      <td>Books and Literature Business and Finance Events and Attractions</td>\n",
       "      <td>0.2</td>\n",
       "      <td>0.2</td>\n",
       "    </tr>\n",
       "    <tr>\n",
       "      <th>...</th>\n",
       "      <td>...</td>\n",
       "      <td>...</td>\n",
       "      <td>...</td>\n",
       "    </tr>\n",
       "    <tr>\n",
       "      <th>495</th>\n",
       "      <td>Video Gaming Technology &amp; Computing Business and Finance</td>\n",
       "      <td>0.0</td>\n",
       "      <td>0.2</td>\n",
       "    </tr>\n",
       "    <tr>\n",
       "      <th>496</th>\n",
       "      <td>Video Gaming Technology &amp; Computing Events and Attractions</td>\n",
       "      <td>0.0</td>\n",
       "      <td>0.3</td>\n",
       "    </tr>\n",
       "    <tr>\n",
       "      <th>497</th>\n",
       "      <td>Video Gaming Technology &amp; Computing Hobbies &amp; Interests</td>\n",
       "      <td>0.0</td>\n",
       "      <td>0.3</td>\n",
       "    </tr>\n",
       "    <tr>\n",
       "      <th>499</th>\n",
       "      <td>Video Gaming Technology &amp; Computing Pop Culture</td>\n",
       "      <td>0.1</td>\n",
       "      <td>0.2</td>\n",
       "    </tr>\n",
       "    <tr>\n",
       "      <th>500</th>\n",
       "      <td>Video Gaming Technology &amp; Computing Sports</td>\n",
       "      <td>0.1</td>\n",
       "      <td>0.3</td>\n",
       "    </tr>\n",
       "  </tbody>\n",
       "</table>\n",
       "<p>195 rows × 3 columns</p>\n",
       "</div>"
      ],
      "text/plain": [
       "                                                          label_combo  \\\n",
       "0                    Automotive Business and Finance Personal Finance   \n",
       "1                              Automotive Business and Finance Sports   \n",
       "5              Automotive Technology & Computing Business and Finance   \n",
       "7                              Automotive Travel Business and Finance   \n",
       "9    Books and Literature Business and Finance Events and Attractions   \n",
       "..                                                                ...   \n",
       "495          Video Gaming Technology & Computing Business and Finance   \n",
       "496        Video Gaming Technology & Computing Events and Attractions   \n",
       "497           Video Gaming Technology & Computing Hobbies & Interests   \n",
       "499                   Video Gaming Technology & Computing Pop Culture   \n",
       "500                        Video Gaming Technology & Computing Sports   \n",
       "\n",
       "     cos_min  cos_mean  \n",
       "0        0.1       0.3  \n",
       "1        0.1       0.2  \n",
       "5        0.2       0.3  \n",
       "7        0.3       0.4  \n",
       "9        0.2       0.2  \n",
       "..       ...       ...  \n",
       "495      0.0       0.2  \n",
       "496      0.0       0.3  \n",
       "497      0.0       0.3  \n",
       "499      0.1       0.2  \n",
       "500      0.1       0.3  \n",
       "\n",
       "[195 rows x 3 columns]"
      ]
     },
     "execution_count": 19,
     "metadata": {},
     "output_type": "execute_result"
    }
   ],
   "source": [
    "vis = cossim_matrix_df[cossim_matrix_df.cos_min.notna()] \n",
    "\n",
    "# this shows just the combos having rows > 1\n",
    "vis"
   ]
  },
  {
   "cell_type": "code",
   "execution_count": 20,
   "id": "3f4ffd66",
   "metadata": {},
   "outputs": [
    {
     "data": {
      "text/html": [
       "<div>\n",
       "<style scoped>\n",
       "    .dataframe tbody tr th:only-of-type {\n",
       "        vertical-align: middle;\n",
       "    }\n",
       "\n",
       "    .dataframe tbody tr th {\n",
       "        vertical-align: top;\n",
       "    }\n",
       "\n",
       "    .dataframe thead th {\n",
       "        text-align: right;\n",
       "    }\n",
       "</style>\n",
       "<table border=\"1\" class=\"dataframe\">\n",
       "  <thead>\n",
       "    <tr style=\"text-align: right;\">\n",
       "      <th></th>\n",
       "      <th>cos_min</th>\n",
       "      <th>cos_mean</th>\n",
       "    </tr>\n",
       "  </thead>\n",
       "  <tbody>\n",
       "    <tr>\n",
       "      <th>count</th>\n",
       "      <td>195.0</td>\n",
       "      <td>195.0</td>\n",
       "    </tr>\n",
       "    <tr>\n",
       "      <th>mean</th>\n",
       "      <td>0.2</td>\n",
       "      <td>0.3</td>\n",
       "    </tr>\n",
       "    <tr>\n",
       "      <th>std</th>\n",
       "      <td>0.1</td>\n",
       "      <td>0.1</td>\n",
       "    </tr>\n",
       "    <tr>\n",
       "      <th>min</th>\n",
       "      <td>-0.0</td>\n",
       "      <td>0.1</td>\n",
       "    </tr>\n",
       "    <tr>\n",
       "      <th>25%</th>\n",
       "      <td>0.1</td>\n",
       "      <td>0.2</td>\n",
       "    </tr>\n",
       "    <tr>\n",
       "      <th>50%</th>\n",
       "      <td>0.2</td>\n",
       "      <td>0.3</td>\n",
       "    </tr>\n",
       "    <tr>\n",
       "      <th>75%</th>\n",
       "      <td>0.2</td>\n",
       "      <td>0.3</td>\n",
       "    </tr>\n",
       "    <tr>\n",
       "      <th>max</th>\n",
       "      <td>0.7</td>\n",
       "      <td>0.7</td>\n",
       "    </tr>\n",
       "  </tbody>\n",
       "</table>\n",
       "</div>"
      ],
      "text/plain": [
       "       cos_min  cos_mean\n",
       "count    195.0     195.0\n",
       "mean       0.2       0.3\n",
       "std        0.1       0.1\n",
       "min       -0.0       0.1\n",
       "25%        0.1       0.2\n",
       "50%        0.2       0.3\n",
       "75%        0.2       0.3\n",
       "max        0.7       0.7"
      ]
     },
     "execution_count": 20,
     "metadata": {},
     "output_type": "execute_result"
    }
   ],
   "source": [
    "vis.describe()"
   ]
  },
  {
   "cell_type": "code",
   "execution_count": 20,
   "id": "b4116695",
   "metadata": {},
   "outputs": [
    {
     "data": {
      "text/plain": [
       "<AxesSubplot:>"
      ]
     },
     "execution_count": 20,
     "metadata": {},
     "output_type": "execute_result"
    },
    {
     "data": {
      "image/png": "[encoded data removed]",
      "text/plain": [
       "<Figure size 432x288 with 1 Axes>"
      ]
     },
     "metadata": {
      "needs_background": "light"
     },
     "output_type": "display_data"
    }
   ],
   "source": [
    "vis.cos_mean.hist()"
   ]
  },
  {
   "cell_type": "code",
   "execution_count": 41,
   "id": "cd23091b",
   "metadata": {},
   "outputs": [],
   "source": [
    "merged = pd.merge(ml, \n",
    "                  cossim_matrix_df, \n",
    "                  on='label_combo',\n",
    "                  how='left')"
   ]
  },
  {
   "cell_type": "code",
   "execution_count": 42,
   "id": "9ee3d3d8",
   "metadata": {
    "collapsed": true,
    "jupyter": {
     "outputs_hidden": true
    }
   },
   "outputs": [
    {
     "name": "stdout",
     "output_type": "stream",
     "text": [
      "(8, 14)\n",
      "(10, 14)\n",
      "(40, 14)\n"
     ]
    }
   ],
   "source": [
    "print(merged[merged.cos_min>0.6].sort_values(\"label_combo\").shape)\n",
    "print(merged[merged.cos_min>0.5].sort_values(\"label_combo\").shape)\n",
    "print(merged[merged.cos_mean>=0.4].sort_values(\"label_combo\").shape)"
   ]
  },
  {
   "cell_type": "code",
   "execution_count": 46,
   "id": "c203e45b",
   "metadata": {},
   "outputs": [],
   "source": [
    "merged[merged.cos_mean>=0.5].sort_values(\"label_combo\").to_csv(\"read2.csv\", index=False)"
   ]
  },
  {
   "cell_type": "code",
   "execution_count": null,
   "id": "4a5a93ac",
   "metadata": {},
   "outputs": [],
   "source": []
  },
  {
   "cell_type": "markdown",
   "id": "3fb001ef",
   "metadata": {},
   "source": [
    "* **Analyze results - Article text appended with TF-IDF terms in beginning. Orig Tier 1 labels**"
   ]
  },
  {
   "cell_type": "code",
   "execution_count": 1,
   "id": "d1eed37f",
   "metadata": {},
   "outputs": [
    {
     "name": "stdout",
     "output_type": "stream",
     "text": [
      "(1258, 11)\n",
      "1258\n",
      "natid            0\n",
      "category         0\n",
      "tier1            0\n",
      "tier2            0\n",
      "clean_summary    0\n",
      "prim_labels      0\n",
      "sec_labels       0\n",
      "ter_labels       0\n",
      "prim_prob        0\n",
      "sec_prob         0\n",
      "ter_prob         0\n",
      "dtype: int64\n"
     ]
    }
   ],
   "source": [
    "import glob\n",
    "import pandas as pd\n",
    "\n",
    "def pd_read_pattern(pattern):\n",
    "    files = glob.glob(pattern)\n",
    "\n",
    "    df = pd.DataFrame()\n",
    "    for f in files:\n",
    "        df = df.append(pd.read_csv(f))\n",
    "\n",
    "    return df.reset_index(drop=True)\n",
    "\n",
    "ml = pd_read_pattern('./mnet_test/ml_tfidf_text_t1_test_begin_*.csv') \n",
    "\n",
    "# rename\n",
    "ml.rename(columns = {'prim_scores':'prim_prob', 'sec_scores': 'sec_prob', 'ter_scores':'ter_prob'}, inplace = True)\n",
    "\n",
    "ml.reset_index(drop=True, inplace=True)\n",
    "ml.drop(['prim_label_mapped', 'sec_label_mapped', 'ter_label_mapped'], axis=1, inplace=True)\n",
    "\n",
    "print(ml.shape)\n",
    "print(len(ml.natid.unique()))\n",
    "print(ml.isna().sum())"
   ]
  },
  {
   "cell_type": "code",
   "execution_count": 2,
   "id": "f3b937a0",
   "metadata": {},
   "outputs": [
    {
     "name": "stdout",
     "output_type": "stream",
     "text": [
      "56\n"
     ]
    }
   ],
   "source": [
    "import joblib\n",
    "\n",
    "natid_review = joblib.load(\"./mnet_test/natid_manual_review.joblib\")\n",
    "print(len(natid_review))\n",
    "\n",
    "import numpy as np\n",
    "ml[\"Manual Review\"] = np.where(ml.natid.isin(natid_review), \"Yes\", \"No\")\n",
    "\n",
    "ml.to_csv(\"./mnet_test/ml_inspect_tfidf_text_t1.csv\", index=False)"
   ]
  },
  {
   "cell_type": "code",
   "execution_count": 2,
   "id": "af0ba807",
   "metadata": {},
   "outputs": [],
   "source": [
    "ml = pd.read_csv(\"./mnet_test/ml_inspect_tfidf_text_t1.csv\")"
   ]
  },
  {
   "cell_type": "code",
   "execution_count": 8,
   "id": "429e2eab",
   "metadata": {},
   "outputs": [
    {
     "data": {
      "text/plain": [
       "Business and Finance        450\n",
       "Technology & Computing      110\n",
       "Medical Health              105\n",
       "News and Politics            81\n",
       "Science                      51\n",
       "Sports                       50\n",
       "Video Gaming                 48\n",
       "Pop Culture                  45\n",
       "Healthy Living               44\n",
       "Music and Audio              33\n",
       "Food & Drink                 32\n",
       "Travel                       29\n",
       "Movies                       24\n",
       "Television                   20\n",
       "Education                    17\n",
       "Automotive                   17\n",
       "Shopping                     16\n",
       "Events and Attractions       13\n",
       "Style & Fashion              12\n",
       "Family and Relationships     11\n",
       "Books and Literature          9\n",
       "Hobbies & Interests           9\n",
       "Real Estate                   8\n",
       "Fine Art                      8\n",
       "Personal Finance              7\n",
       "Careers                       5\n",
       "Home & Garden                 3\n",
       "Pets                          1\n",
       "Name: prim_labels, dtype: int64"
      ]
     },
     "execution_count": 8,
     "metadata": {},
     "output_type": "execute_result"
    }
   ],
   "source": [
    "# 36% get Business and Finance\n",
    "\n",
    "ml.prim_labels.value_counts()"
   ]
  },
  {
   "cell_type": "code",
   "execution_count": 10,
   "id": "5ce227a3",
   "metadata": {},
   "outputs": [
    {
     "name": "stdout",
     "output_type": "stream",
     "text": [
      "% rows where Tier1 present in either of three labels -  68\n",
      "% rows where Tier1 present in prim_labels            -  34\n"
     ]
    }
   ],
   "source": [
    "# TIER 1\n",
    "\n",
    "match_all = []\n",
    "match_prim = []\n",
    "\n",
    "for i in range(len(ml['tier1'])):\n",
    "    if ml['tier1'][i] in (ml['prim_labels'] + \" \" + ml['sec_labels'] + \" \" + ml['ter_labels'])[i]:\n",
    "        match_all.append(True)\n",
    "    \n",
    "    if ml['tier1'][i] in ml['prim_labels'][i]:\n",
    "        match_prim.append(True)\n",
    "        \n",
    "print(\"% rows where Tier1 present in either of three labels - \", round((len(match_all)/ml.shape[0])*100))\n",
    "print(\"% rows where Tier1 present in prim_labels            - \", round((len(match_prim)/ml.shape[0])*100))"
   ]
  },
  {
   "cell_type": "code",
   "execution_count": 11,
   "id": "fa3116cc",
   "metadata": {},
   "outputs": [
    {
     "data": {
      "text/plain": [
       "<AxesSubplot:>"
      ]
     },
     "execution_count": 11,
     "metadata": {},
     "output_type": "execute_result"
    },
    {
     "data": {
      "image/png": "[encoded data removed]",
      "text/plain": [
       "<Figure size 432x288 with 1 Axes>"
      ]
     },
     "metadata": {
      "needs_background": "light"
     },
     "output_type": "display_data"
    }
   ],
   "source": [
    "ml.prim_prob.hist()"
   ]
  },
  {
   "cell_type": "code",
   "execution_count": 12,
   "id": "e119bee3",
   "metadata": {},
   "outputs": [
    {
     "data": {
      "text/plain": [
       "<AxesSubplot:>"
      ]
     },
     "execution_count": 12,
     "metadata": {},
     "output_type": "execute_result"
    },
    {
     "data": {
      "image/png": "[encoded data removed]",
      "text/plain": [
       "<Figure size 432x288 with 1 Axes>"
      ]
     },
     "metadata": {
      "needs_background": "light"
     },
     "output_type": "display_data"
    }
   ],
   "source": [
    "ml.sec_prob.hist()\n",
    "ml.ter_prob.hist(alpha=0.5)"
   ]
  },
  {
   "cell_type": "code",
   "execution_count": null,
   "id": "a3cdc497",
   "metadata": {},
   "outputs": [],
   "source": []
  },
  {
   "cell_type": "markdown",
   "id": "542185c4",
   "metadata": {},
   "source": [
    "* **Analyze results - Article text appended with keyphrases in beginning. Orig Tier 1 labels**"
   ]
  },
  {
   "cell_type": "code",
   "execution_count": 23,
   "id": "9e2c79a8",
   "metadata": {},
   "outputs": [
    {
     "name": "stdout",
     "output_type": "stream",
     "text": [
      "(1258, 11)\n",
      "1258\n",
      "natid            0\n",
      "category         0\n",
      "tier1            0\n",
      "tier2            0\n",
      "clean_summary    0\n",
      "prim_labels      0\n",
      "sec_labels       0\n",
      "ter_labels       0\n",
      "prim_prob        0\n",
      "sec_prob         0\n",
      "ter_prob         0\n",
      "dtype: int64\n"
     ]
    }
   ],
   "source": [
    "import glob\n",
    "import pandas as pd\n",
    "\n",
    "def pd_read_pattern(pattern):\n",
    "    files = glob.glob(pattern)\n",
    "\n",
    "    df = pd.DataFrame()\n",
    "    for f in files:\n",
    "        df = df.append(pd.read_csv(f))\n",
    "\n",
    "    return df.reset_index(drop=True)\n",
    "\n",
    "ml = pd_read_pattern('./mnet_test/ml_kps_text_t1_test_begin_*.csv') \n",
    "\n",
    "# rename\n",
    "ml.rename(columns = {'prim_scores':'prim_prob', 'sec_scores': 'sec_prob', 'ter_scores':'ter_prob'}, inplace = True)\n",
    "\n",
    "ml.reset_index(drop=True, inplace=True)\n",
    "\n",
    "print(ml.shape)\n",
    "print(len(ml.natid.unique()))\n",
    "print(ml.isna().sum())"
   ]
  },
  {
   "cell_type": "code",
   "execution_count": 24,
   "id": "4b440db5",
   "metadata": {},
   "outputs": [
    {
     "name": "stdout",
     "output_type": "stream",
     "text": [
      "56\n"
     ]
    }
   ],
   "source": [
    "import joblib\n",
    "\n",
    "natid_review = joblib.load(\"./mnet_test/natid_manual_review.joblib\")\n",
    "print(len(natid_review))\n",
    "\n",
    "import numpy as np\n",
    "ml[\"Manual Review\"] = np.where(ml.natid.isin(natid_review), \"Yes\", \"No\")\n",
    "\n",
    "ml.to_csv(\"./mnet_test/ml_inspect_kps_text_t1.csv\", index=False)"
   ]
  },
  {
   "cell_type": "code",
   "execution_count": 25,
   "id": "e3a8ab10",
   "metadata": {},
   "outputs": [],
   "source": [
    "ml = pd.read_csv(\"./mnet_test/ml_inspect_kps_text_t1.csv\")"
   ]
  },
  {
   "cell_type": "code",
   "execution_count": 27,
   "id": "52e66e72",
   "metadata": {},
   "outputs": [
    {
     "data": {
      "text/plain": [
       "Business and Finance        471\n",
       "Technology & Computing      106\n",
       "Medical Health              104\n",
       "News and Politics            80\n",
       "Science                      53\n",
       "Video Gaming                 52\n",
       "Sports                       47\n",
       "Pop Culture                  46\n",
       "Healthy Living               43\n",
       "Music and Audio              34\n",
       "Food & Drink                 33\n",
       "Travel                       26\n",
       "Movies                       21\n",
       "Television                   18\n",
       "Automotive                   18\n",
       "Education                    15\n",
       "Shopping                     15\n",
       "Style & Fashion              11\n",
       "Events and Attractions        9\n",
       "Hobbies & Interests           9\n",
       "Books and Literature          9\n",
       "Family and Relationships      9\n",
       "Real Estate                   8\n",
       "Careers                       6\n",
       "Fine Art                      6\n",
       "Home & Garden                 4\n",
       "Personal Finance              4\n",
       "Pets                          1\n",
       "Name: prim_labels, dtype: int64"
      ]
     },
     "execution_count": 27,
     "metadata": {},
     "output_type": "execute_result"
    }
   ],
   "source": [
    "# 37% got Business and Finance\n",
    "\n",
    "ml.prim_labels.value_counts()"
   ]
  },
  {
   "cell_type": "code",
   "execution_count": 28,
   "id": "879eb18d",
   "metadata": {},
   "outputs": [
    {
     "name": "stdout",
     "output_type": "stream",
     "text": [
      "% rows where Tier1 present in either of three labels -  69\n",
      "% rows where Tier1 present in prim_labels            -  34\n"
     ]
    }
   ],
   "source": [
    "# TIER 1\n",
    "\n",
    "match_all = []\n",
    "match_prim = []\n",
    "\n",
    "for i in range(len(ml['tier1'])):\n",
    "    if ml['tier1'][i] in (ml['prim_labels'] + \" \" + ml['sec_labels'] + \" \" + ml['ter_labels'])[i]:\n",
    "        match_all.append(True)\n",
    "    \n",
    "    if ml['tier1'][i] in ml['prim_labels'][i]:\n",
    "        match_prim.append(True)\n",
    "        \n",
    "print(\"% rows where Tier1 present in either of three labels - \", round((len(match_all)/ml.shape[0])*100))\n",
    "print(\"% rows where Tier1 present in prim_labels            - \", round((len(match_prim)/ml.shape[0])*100))"
   ]
  },
  {
   "cell_type": "code",
   "execution_count": 29,
   "id": "f4c8d72c",
   "metadata": {},
   "outputs": [
    {
     "data": {
      "text/plain": [
       "<AxesSubplot:>"
      ]
     },
     "execution_count": 29,
     "metadata": {},
     "output_type": "execute_result"
    },
    {
     "data": {
      "image/png": "[encoded data removed]",
      "text/plain": [
       "<Figure size 432x288 with 1 Axes>"
      ]
     },
     "metadata": {
      "needs_background": "light"
     },
     "output_type": "display_data"
    }
   ],
   "source": [
    "ml.prim_prob.hist()"
   ]
  },
  {
   "cell_type": "code",
   "execution_count": 30,
   "id": "4ad3cdf0",
   "metadata": {},
   "outputs": [
    {
     "data": {
      "text/plain": [
       "<AxesSubplot:>"
      ]
     },
     "execution_count": 30,
     "metadata": {},
     "output_type": "execute_result"
    },
    {
     "data": {
      "image/png": "[encoded data removed]",
      "text/plain": [
       "<Figure size 432x288 with 1 Axes>"
      ]
     },
     "metadata": {
      "needs_background": "light"
     },
     "output_type": "display_data"
    }
   ],
   "source": [
    "ml.sec_prob.hist()\n",
    "ml.ter_prob.hist(alpha=0.5)"
   ]
  },
  {
   "cell_type": "code",
   "execution_count": null,
   "id": "6ca621c3",
   "metadata": {},
   "outputs": [],
   "source": []
  },
  {
   "cell_type": "code",
   "execution_count": null,
   "id": "7312e9db",
   "metadata": {},
   "outputs": [],
   "source": []
  },
  {
   "cell_type": "code",
   "execution_count": null,
   "id": "e193646e",
   "metadata": {},
   "outputs": [],
   "source": []
  },
  {
   "cell_type": "markdown",
   "id": "67adef16",
   "metadata": {},
   "source": [
    "* **Analyze results - Tier 1 labels appeneded with TF-IDF terms**\n",
    "    * This was wrong direction"
   ]
  },
  {
   "cell_type": "code",
   "execution_count": 17,
   "id": "eda54764",
   "metadata": {},
   "outputs": [
    {
     "name": "stdout",
     "output_type": "stream",
     "text": [
      "(1258, 14)\n",
      "1258\n",
      "natid                0\n",
      "category             0\n",
      "tier1                0\n",
      "tier2                0\n",
      "clean_summary        0\n",
      "prim_labels          0\n",
      "sec_labels           0\n",
      "ter_labels           0\n",
      "prim_prob            0\n",
      "sec_prob             0\n",
      "ter_prob             0\n",
      "prim_label_mapped    0\n",
      "sec_label_mapped     0\n",
      "ter_label_mapped     0\n",
      "dtype: int64\n"
     ]
    }
   ],
   "source": [
    "import glob\n",
    "import pandas as pd\n",
    "\n",
    "def pd_read_pattern(pattern):\n",
    "    files = glob.glob(pattern)\n",
    "\n",
    "    df = pd.DataFrame()\n",
    "    for f in files:\n",
    "        df = df.append(pd.read_csv(f))\n",
    "\n",
    "    return df.reset_index(drop=True)\n",
    "\n",
    "ml = pd_read_pattern('./mnet_test/ml_yahoo_newlabel_t1_test_begin_*.csv')\n",
    "\n",
    "# rename\n",
    "ml.rename(columns = {'prim_scores':'prim_prob', 'sec_scores': 'sec_prob', 'ter_scores':'ter_prob'}, inplace = True)\n",
    "\n",
    "ml.reset_index(drop=True, inplace=True)\n",
    "print(ml.shape)\n",
    "print(len(ml.natid.unique()))\n",
    "print(ml.isna().sum())"
   ]
  },
  {
   "cell_type": "code",
   "execution_count": 18,
   "id": "f25f8aee",
   "metadata": {},
   "outputs": [
    {
     "name": "stdout",
     "output_type": "stream",
     "text": [
      "56\n"
     ]
    }
   ],
   "source": [
    "import joblib\n",
    "\n",
    "natid_review = joblib.load(\"./mnet_test/natid_manual_review.joblib\")\n",
    "print(len(natid_review))\n",
    "\n",
    "import numpy as np\n",
    "ml[\"Manual Review\"] = np.where(ml.natid.isin(natid_review), \"Yes\", \"No\")\n",
    "\n",
    "ml.to_csv(\"./mnet_test/ml_inspect_t1_tfidf_label.csv\", index=False)"
   ]
  },
  {
   "cell_type": "code",
   "execution_count": 22,
   "id": "c2e82271",
   "metadata": {},
   "outputs": [],
   "source": [
    "ml = pd.read_csv(\"./mnet_test/ml_inspect_t1_tfidf_label.csv\")"
   ]
  },
  {
   "cell_type": "code",
   "execution_count": 17,
   "id": "e45f94f5",
   "metadata": {},
   "outputs": [
    {
     "data": {
      "text/plain": [
       "Careers                     288\n",
       "Business and Finance        212\n",
       "Technology & Computing      191\n",
       "Medical Health               83\n",
       "Real Estate                  65\n",
       "Personal Finance             61\n",
       "Television                   52\n",
       "Healthy Living               52\n",
       "Music and Audio              37\n",
       "Science                      33\n",
       "Education                    31\n",
       "Sports                       27\n",
       "Food & Drink                 21\n",
       "Automotive                   21\n",
       "Family and Relationships     10\n",
       "Home & Garden                10\n",
       "Books and Literature         10\n",
       "Movies                        9\n",
       "News and Politics             8\n",
       "Style & Fashion               7\n",
       "Pets                          6\n",
       "Shopping                      5\n",
       "Pop Culture                   5\n",
       "Events and Attractions        5\n",
       "Hobbies & Interests           4\n",
       "Fine Art                      3\n",
       "Video Gaming                  1\n",
       "Travel                        1\n",
       "Name: prim_label_mapped, dtype: int64"
      ]
     },
     "execution_count": 17,
     "metadata": {},
     "output_type": "execute_result"
    }
   ],
   "source": [
    "ml.prim_label_mapped.value_counts()"
   ]
  },
  {
   "cell_type": "code",
   "execution_count": 24,
   "id": "fac6e804",
   "metadata": {},
   "outputs": [
    {
     "name": "stdout",
     "output_type": "stream",
     "text": [
      "% rows where Tier1 present in either of three labels -  56\n",
      "% rows where Tier1 present in prim_labels            -  33\n"
     ]
    }
   ],
   "source": [
    "# TIER 1\n",
    "\n",
    "match_all = []\n",
    "match_prim = []\n",
    "\n",
    "for i in range(len(ml['tier1'])):\n",
    "    if ml['tier1'][i] in (ml['prim_label_mapped'] + \" \" + ml['sec_label_mapped'] + \" \" + ml['ter_label_mapped'])[i]:\n",
    "        match_all.append(True)\n",
    "    \n",
    "    if ml['tier1'][i] in ml['prim_label_mapped'][i]:\n",
    "        match_prim.append(True)\n",
    "        \n",
    "print(\"% rows where Tier1 present in either of three labels - \", round((len(match_all)/ml.shape[0])*100))\n",
    "print(\"% rows where Tier1 present in prim_labels            - \", round((len(match_prim)/ml.shape[0])*100))"
   ]
  },
  {
   "cell_type": "code",
   "execution_count": 6,
   "id": "09b3d4bf",
   "metadata": {},
   "outputs": [
    {
     "data": {
      "text/plain": [
       "<AxesSubplot:>"
      ]
     },
     "execution_count": 6,
     "metadata": {},
     "output_type": "execute_result"
    },
    {
     "data": {
      "image/png": "[encoded data removed]",
      "text/plain": [
       "<Figure size 432x288 with 1 Axes>"
      ]
     },
     "metadata": {
      "needs_background": "light"
     },
     "output_type": "display_data"
    }
   ],
   "source": [
    "ml.prim_prob.hist()"
   ]
  },
  {
   "cell_type": "code",
   "execution_count": 7,
   "id": "d85383ac",
   "metadata": {},
   "outputs": [
    {
     "data": {
      "text/plain": [
       "<AxesSubplot:>"
      ]
     },
     "execution_count": 7,
     "metadata": {},
     "output_type": "execute_result"
    },
    {
     "data": {
      "image/png": "[encoded data removed]",
      "text/plain": [
       "<Figure size 432x288 with 1 Axes>"
      ]
     },
     "metadata": {
      "needs_background": "light"
     },
     "output_type": "display_data"
    }
   ],
   "source": [
    "ml.sec_prob.hist()\n",
    "ml.ter_prob.hist(alpha=0.5)"
   ]
  },
  {
   "cell_type": "code",
   "execution_count": null,
   "id": "1a23c25f",
   "metadata": {},
   "outputs": [],
   "source": []
  },
  {
   "cell_type": "code",
   "execution_count": 21,
   "id": "8d2c99a3",
   "metadata": {},
   "outputs": [],
   "source": [
    "orig = pd.read_csv(\"./mnet_test/ml_inspect.csv\") \n",
    "tf = pd.read_csv(\"./mnet_test/ml_inspect_tfidf_text_t1.csv\")\n",
    "kps = pd.read_csv(\"./mnet_test/ml_inspect_kps_text_t1.csv\")"
   ]
  },
  {
   "cell_type": "code",
   "execution_count": 60,
   "id": "c9cf7f7a",
   "metadata": {},
   "outputs": [],
   "source": [
    "orig[\"orig_combo\"] = orig[\"prim_labels\"] + ', ' + orig[\"sec_labels\"] +  ', ' + orig[\"ter_labels\"] \n",
    "tf[\"tf_combo\"] = tf[\"prim_labels\"] +  ', ' + tf[\"sec_labels\"] +  ', ' + tf[\"ter_labels\"] \n",
    "kps[\"kps_combo\"] = kps[\"prim_labels\"] +  ', ' + kps[\"sec_labels\"] +  ', ' + kps[\"ter_labels\"] \n",
    "\n",
    "# combine and sort\n",
    "orig.orig_combo = orig.orig_combo.apply(lambda x: sorted([x.strip() for x in x.split(',')])).apply(lambda x: ', '.join(x))\n",
    "tf.tf_combo = tf.tf_combo.apply(lambda x: sorted([x.strip() for x in x.split(',')])).apply(lambda x: ', '.join(x))\n",
    "kps.kps_combo = kps.kps_combo.apply(lambda x: sorted([x.strip() for x in x.split(',')])).apply(lambda x: ', '.join(x))"
   ]
  },
  {
   "cell_type": "code",
   "execution_count": 67,
   "id": "e9c80176",
   "metadata": {},
   "outputs": [
    {
     "data": {
      "text/plain": [
       "(1258, 4)"
      ]
     },
     "execution_count": 67,
     "metadata": {},
     "output_type": "execute_result"
    }
   ],
   "source": [
    "test = pd.merge(pd.merge(orig[[\"natid\", \"orig_combo\"]], \n",
    "         tf[[\"natid\", \"tf_combo\"]], \n",
    "         on = \"natid\", how=\"inner\"), \n",
    "         kps[[\"natid\", \"kps_combo\"]], \n",
    "         on=\"natid\", how=\"inner\")\n",
    "test.shape"
   ]
  },
  {
   "cell_type": "code",
   "execution_count": 70,
   "id": "a2c136c0",
   "metadata": {},
   "outputs": [
    {
     "data": {
      "text/plain": [
       "(960, 4)"
      ]
     },
     "execution_count": 70,
     "metadata": {},
     "output_type": "execute_result"
    }
   ],
   "source": [
    "# 76% articles got same labels\n",
    "\n",
    "test[test.orig_combo == test.tf_combo].shape"
   ]
  },
  {
   "cell_type": "code",
   "execution_count": 71,
   "id": "6e48980c",
   "metadata": {},
   "outputs": [
    {
     "data": {
      "text/plain": [
       "(944, 4)"
      ]
     },
     "execution_count": 71,
     "metadata": {},
     "output_type": "execute_result"
    }
   ],
   "source": [
    "# 75% articles got same labels \n",
    "\n",
    "test[test.orig_combo == test.kps_combo].shape"
   ]
  },
  {
   "cell_type": "code",
   "execution_count": null,
   "id": "7e1068ce",
   "metadata": {},
   "outputs": [],
   "source": []
  },
  {
   "cell_type": "code",
   "execution_count": null,
   "id": "4ccb3f60",
   "metadata": {},
   "outputs": [],
   "source": []
  },
  {
   "cell_type": "code",
   "execution_count": null,
   "id": "3c484ff0",
   "metadata": {},
   "outputs": [],
   "source": []
  },
  {
   "cell_type": "code",
   "execution_count": 20,
   "id": "efeb6a22",
   "metadata": {},
   "outputs": [
    {
     "name": "stdout",
     "output_type": "stream",
     "text": [
      "Collecting rank_bm25\n",
      "  Downloading rank_bm25-0.2.1-py3-none-any.whl (8.5 kB)\n",
      "Requirement already satisfied: numpy in /opt/conda/lib/python3.7/site-packages (from rank_bm25) (1.21.0)\n",
      "Installing collected packages: rank-bm25\n",
      "Successfully installed rank-bm25-0.2.1\n"
     ]
    }
   ],
   "source": [
    "# !pip install rank_bm25"
   ]
  },
  {
   "cell_type": "code",
   "execution_count": null,
   "id": "c270df9e",
   "metadata": {},
   "outputs": [],
   "source": []
  },
  {
   "cell_type": "code",
   "execution_count": null,
   "id": "817ac06f",
   "metadata": {},
   "outputs": [],
   "source": []
  }
 ],
 "metadata": {
  "environment": {
   "name": "tf2-gpu.2-6.m79",
   "type": "gcloud",
   "uri": "gcr.io/deeplearning-platform-release/tf2-gpu.2-6:m79"
  },
  "kernelspec": {
   "display_name": "um",
   "language": "python",
   "name": "um"
  },
  "language_info": {
   "codemirror_mode": {
    "name": "ipython",
    "version": 3
   },
   "file_extension": ".py",
   "mimetype": "text/x-python",
   "name": "python",
   "nbconvert_exporter": "python",
   "pygments_lexer": "ipython3",
   "version": "3.7.10"
  }
 },
 "nbformat": 4,
 "nbformat_minor": 5
}
