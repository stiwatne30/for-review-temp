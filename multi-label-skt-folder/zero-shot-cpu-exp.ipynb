{
 "cells": [
  {
   "cell_type": "code",
   "execution_count": 1,
   "id": "81e9f812",
   "metadata": {},
   "outputs": [],
   "source": [
    "'''Helper'''\n",
    "import pandas as pd\n",
    "import numpy as np\n",
    "import time\n",
    "import joblib\n",
    "import pickle\n",
    "import re\n",
    "import string\n",
    "import unicodedata\n",
    "import matplotlib.pyplot as plt\n",
    "from numpy import argmax\n",
    "import scipy\n",
    "# import spacy\n",
    "from sklearn.metrics.pairwise import cosine_similarity\n",
    "\n",
    "'''Models'''\n",
    "from transformers import pipeline\n",
    "# from onnx_transformers import pipeline # to run this -- downgrade transformers library to 3.2.0\n",
    "\n",
    "'''Display'''\n",
    "import warnings\n",
    "warnings.filterwarnings('ignore')\n",
    "pd.set_option('display.float_format', lambda x: '%.1f' % x)"
   ]
  },
  {
   "cell_type": "code",
   "execution_count": 2,
   "id": "d1069d9e",
   "metadata": {},
   "outputs": [
    {
     "name": "stdout",
     "output_type": "stream",
     "text": [
      "Name: transformers\n",
      "Version: 4.10.3\n",
      "Summary: State-of-the-art Natural Language Processing for TensorFlow 2.0 and PyTorch\n",
      "Home-page: https://github.com/huggingface/transformers\n",
      "Author: Thomas Wolf, Lysandre Debut, Victor Sanh, Julien Chaumond, Sam Shleifer, Patrick von Platen, Sylvain Gugger, Suraj Patil, Stas Bekman, Google AI Language Team Authors, Open AI team Authors, Facebook AI Authors, Carnegie Mellon University Authors\n",
      "Author-email: thomas@huggingface.co\n",
      "License: Apache\n",
      "Location: /opt/conda/lib/python3.7/site-packages\n",
      "Requires: numpy, sacremoses, tokenizers, importlib-metadata, pyyaml, huggingface-hub, regex, filelock, tqdm, requests, packaging\n",
      "Required-by: sentence-transformers\n"
     ]
    }
   ],
   "source": [
    "!pip show transformers"
   ]
  },
  {
   "cell_type": "markdown",
   "id": "1332da8f",
   "metadata": {},
   "source": [
    "* onnx, parallel, small model"
   ]
  },
  {
   "cell_type": "markdown",
   "id": "046b345f",
   "metadata": {},
   "source": [
    "### Input data"
   ]
  },
  {
   "cell_type": "code",
   "execution_count": 3,
   "id": "11410807",
   "metadata": {},
   "outputs": [
    {
     "name": "stdout",
     "output_type": "stream",
     "text": [
      "(10078, 8)\n"
     ]
    },
    {
     "data": {
      "text/html": [
       "<div>\n",
       "<style scoped>\n",
       "    .dataframe tbody tr th:only-of-type {\n",
       "        vertical-align: middle;\n",
       "    }\n",
       "\n",
       "    .dataframe tbody tr th {\n",
       "        vertical-align: top;\n",
       "    }\n",
       "\n",
       "    .dataframe thead th {\n",
       "        text-align: right;\n",
       "    }\n",
       "</style>\n",
       "<table border=\"1\" class=\"dataframe\">\n",
       "  <thead>\n",
       "    <tr style=\"text-align: right;\">\n",
       "      <th></th>\n",
       "      <th>natid</th>\n",
       "      <th>pub_date</th>\n",
       "      <th>category</th>\n",
       "      <th>tier1</th>\n",
       "      <th>tier2</th>\n",
       "      <th>summary</th>\n",
       "      <th>clean_summary</th>\n",
       "      <th>label</th>\n",
       "    </tr>\n",
       "  </thead>\n",
       "  <tbody>\n",
       "    <tr>\n",
       "      <th>0</th>\n",
       "      <td>blogandpostid/blog/post/50808-607eda2d97a5b000...</td>\n",
       "      <td>2021-04-20</td>\n",
       "      <td>Personal Finance</td>\n",
       "      <td>Real Estate</td>\n",
       "      <td>Real Estate Renting and Leasing</td>\n",
       "      <td>WeWork To Accept Crypto—And Will Pay Its Landl...</td>\n",
       "      <td>wework accept crypto pay landlords crypto. top...</td>\n",
       "      <td>7</td>\n",
       "    </tr>\n",
       "    <tr>\n",
       "      <th>1</th>\n",
       "      <td>blogandpostid/blog/post/4587-60d354bc9690ca000...</td>\n",
       "      <td>2021-06-23</td>\n",
       "      <td>Food and Drink</td>\n",
       "      <td>Travel</td>\n",
       "      <td>Travel Type</td>\n",
       "      <td>Celebrate The Lodge At Woodloch’s 15-Year Anni...</td>\n",
       "      <td>celebrate lodge woodloch's 15-year anniversary...</td>\n",
       "      <td>23</td>\n",
       "    </tr>\n",
       "    <tr>\n",
       "      <th>2</th>\n",
       "      <td>blogandpostid/blog/post/3113-5f526f97559f59000...</td>\n",
       "      <td>2020-09-04</td>\n",
       "      <td>Music and Audio</td>\n",
       "      <td>Music and Audio</td>\n",
       "      <td>Hip Hop Music</td>\n",
       "      <td>Cardi B And Megan Thee Stallion Both Earn Thei...</td>\n",
       "      <td>cardi b megan thee stallion earn no. 1 hit you...</td>\n",
       "      <td>12</td>\n",
       "    </tr>\n",
       "    <tr>\n",
       "      <th>3</th>\n",
       "      <td>blogandpostid/blog/post/5259-6015f002c7824f000...</td>\n",
       "      <td>2021-02-09</td>\n",
       "      <td>Travel</td>\n",
       "      <td>Shopping</td>\n",
       "      <td>Gifts and Greetings Cards</td>\n",
       "      <td>Valentine’s Day Gift Guide: The Most Romantic ...</td>\n",
       "      <td>valentine's day gift guide: romantic hotel pac...</td>\n",
       "      <td>13</td>\n",
       "    </tr>\n",
       "    <tr>\n",
       "      <th>4</th>\n",
       "      <td>blogandpostid/blog/post/4983-5f8064d69a4142000...</td>\n",
       "      <td>2020-10-14</td>\n",
       "      <td>Shopping</td>\n",
       "      <td>Shopping</td>\n",
       "      <td>Sales and Promotions</td>\n",
       "      <td>The Best Prime Day Bike Deals For Saving Big o...</td>\n",
       "      <td>best prime day bike deals saving big bicycles ...</td>\n",
       "      <td>13</td>\n",
       "    </tr>\n",
       "  </tbody>\n",
       "</table>\n",
       "</div>"
      ],
      "text/plain": [
       "                                               natid    pub_date  \\\n",
       "0  blogandpostid/blog/post/50808-607eda2d97a5b000...  2021-04-20   \n",
       "1  blogandpostid/blog/post/4587-60d354bc9690ca000...  2021-06-23   \n",
       "2  blogandpostid/blog/post/3113-5f526f97559f59000...  2020-09-04   \n",
       "3  blogandpostid/blog/post/5259-6015f002c7824f000...  2021-02-09   \n",
       "4  blogandpostid/blog/post/4983-5f8064d69a4142000...  2020-10-14   \n",
       "\n",
       "           category            tier1                            tier2  \\\n",
       "0  Personal Finance      Real Estate  Real Estate Renting and Leasing   \n",
       "1    Food and Drink           Travel                      Travel Type   \n",
       "2   Music and Audio  Music and Audio                    Hip Hop Music   \n",
       "3            Travel         Shopping        Gifts and Greetings Cards   \n",
       "4          Shopping         Shopping             Sales and Promotions   \n",
       "\n",
       "                                             summary  \\\n",
       "0  WeWork To Accept Crypto—And Will Pay Its Landl...   \n",
       "1  Celebrate The Lodge At Woodloch’s 15-Year Anni...   \n",
       "2  Cardi B And Megan Thee Stallion Both Earn Thei...   \n",
       "3  Valentine’s Day Gift Guide: The Most Romantic ...   \n",
       "4  The Best Prime Day Bike Deals For Saving Big o...   \n",
       "\n",
       "                                       clean_summary  label  \n",
       "0  wework accept crypto pay landlords crypto. top...      7  \n",
       "1  celebrate lodge woodloch's 15-year anniversary...     23  \n",
       "2  cardi b megan thee stallion earn no. 1 hit you...     12  \n",
       "3  valentine's day gift guide: romantic hotel pac...     13  \n",
       "4  best prime day bike deals saving big bicycles ...     13  "
      ]
     },
     "execution_count": 3,
     "metadata": {},
     "output_type": "execute_result"
    }
   ],
   "source": [
    "df = pd.read_pickle(\"./data/preprocess_mnet_train.pkl\")\n",
    "\n",
    "df.drop_duplicates('natid', keep='first', inplace=True)\n",
    "df.reset_index(drop=True, inplace=True)\n",
    "\n",
    "print(df.shape)\n",
    "df.head()"
   ]
  },
  {
   "cell_type": "code",
   "execution_count": 4,
   "id": "c3331688",
   "metadata": {},
   "outputs": [
    {
     "data": {
      "text/plain": [
       "count    10078\n",
       "mean      3592\n",
       "std       2133\n",
       "min        433\n",
       "25%       2227\n",
       "50%       3149\n",
       "75%       4326\n",
       "max      30344\n",
       "Name: clean_summary, dtype: int64"
      ]
     },
     "execution_count": 4,
     "metadata": {},
     "output_type": "execute_result"
    },
    {
     "data": {
      "image/png": "[encoded data removed]",
      "text/plain": [
       "<Figure size 432x288 with 1 Axes>"
      ]
     },
     "metadata": {
      "needs_background": "light"
     },
     "output_type": "display_data"
    }
   ],
   "source": [
    "df.clean_summary.str.len().hist(bins=50)\n",
    "df.clean_summary.str.len().describe().apply(int)"
   ]
  },
  {
   "cell_type": "code",
   "execution_count": 5,
   "id": "861e3dd7",
   "metadata": {},
   "outputs": [
    {
     "name": "stdout",
     "output_type": "stream",
     "text": [
      "Tier 1 labels:  28\n",
      "Tier 2 labels:  284\n"
     ]
    }
   ],
   "source": [
    "candidate_labels = df.tier1.unique().tolist()\n",
    "\n",
    "print(\"Tier 1 labels: \", len(candidate_labels))\n",
    "print(\"Tier 2 labels: \", len(df.tier2.unique()))"
   ]
  },
  {
   "cell_type": "code",
   "execution_count": 6,
   "id": "512bc3c0",
   "metadata": {},
   "outputs": [
    {
     "data": {
      "text/plain": [
       "Business and Finance        445\n",
       "Personal Finance            442\n",
       "News and Politics           442\n",
       "Technology & Computing      440\n",
       "Sports                      438\n",
       "Medical Health              436\n",
       "Video Gaming                422\n",
       "Travel                      414\n",
       "Science                     406\n",
       "Automotive                  404\n",
       "Style & Fashion             403\n",
       "Events and Attractions      402\n",
       "Careers                     398\n",
       "Shopping                    395\n",
       "Food & Drink                392\n",
       "Music and Audio             388\n",
       "Real Estate                 381\n",
       "Education                   376\n",
       "Movies                      369\n",
       "Television                  343\n",
       "Healthy Living              339\n",
       "Home & Garden               328\n",
       "Hobbies & Interests         314\n",
       "Family and Relationships    302\n",
       "Fine Art                    226\n",
       "Pets                        152\n",
       "Books and Literature        148\n",
       "Pop Culture                 133\n",
       "Name: tier1, dtype: int64"
      ]
     },
     "execution_count": 6,
     "metadata": {},
     "output_type": "execute_result"
    }
   ],
   "source": [
    "df.tier1.value_counts()"
   ]
  },
  {
   "cell_type": "markdown",
   "id": "3031a3e7",
   "metadata": {},
   "source": [
    "### Experiments"
   ]
  },
  {
   "cell_type": "code",
   "execution_count": 7,
   "id": "ea037105",
   "metadata": {},
   "outputs": [],
   "source": [
    "# model = 'valhalla/distilbart-mnli-12-3' # gave bad results\n",
    "model = 'joeddav/bart-large-mnli-yahoo-answers'\n",
    "\n",
    "classifier = pipeline(\"zero-shot-classification\", \n",
    "                      model = model, \n",
    "                      framework=\"pt\") #, device=0"
   ]
  },
  {
   "cell_type": "markdown",
   "id": "fb25c8be",
   "metadata": {},
   "source": [
    "* Trying 1 - with transformers pipeline\n",
    "    * checked - \n",
    "        * cleaning differently not making any difference\n",
    "        * not using hypothesis statement not making any difference"
   ]
  },
  {
   "cell_type": "code",
   "execution_count": 8,
   "id": "8a4ab9b2",
   "metadata": {},
   "outputs": [
    {
     "name": "stdout",
     "output_type": "stream",
     "text": [
      "Seq len:  1549 \n",
      "\n",
      "{'sequence': \"wework accept crypto pay landlords crypto. topline wework start accepting payment cryptocurrencies intends hold assets balance sheet, office sharing giant announced tuesday, similar elon musk's tesla march said retain bitcoin purchase cars signal confidence cryptocurrencies inch mainstream acceptance. key facts wework said accept bitcoin, ethereum, usd coin, paxos cryptocurrencies payment offerings, including memberships. company said retain payments balance sheet converting currency look pay landlords partners crypto amenable. coinbase, usa' largest crypto exchange went public l ast week, client pay wework membership cryptocurrency, statement said. wework chief executive sandeep mathrani, said company needs adapt needs growing membership fintech sector service new economy. key background cryptocurrencies increasingly popular form payment. elon musk's tesla, holds sizable investment currency, attracted headlines announced accept bitcoin payment cars. venmo announced support cryptocurrencies ontuesday, latest payment app embrace them. watch wework, failed attempt going public 2019, set public spac, company announced march. valued $9 billion, huge step 2019 valuation $47 billion round private investment softbank. reading bitcoin welcomes tesla, mastercard, bny mellon, venmo cryptocurrency party (forbes) wework public spac deal $9 billion valuation 20% 2019 softbank valuation (forbes) coinbase skyrockets nasdaq listing, landing $105 billion valuation day trading (forbes) venmo latest payment app embrace cryptocurrency (forbes)\", 'labels': ['Business and Finance', 'Technology & Computing', 'Personal Finance', 'Real Estate', 'Shopping', 'Careers', 'Automotive', 'News and Politics', 'Travel', 'Home & Garden', 'Education', 'Pets', 'Movies', 'Video Gaming', 'Hobbies & Interests', 'Science', 'Events and Attractions', 'Television', 'Music and Audio', 'Food & Drink', 'Sports', 'Style & Fashion', 'Medical Health', 'Books and Literature', 'Pop Culture', 'Fine Art', 'Healthy Living', 'Family and Relationships'], 'scores': [0.9080802202224731, 0.5382148623466492, 0.36589711904525757, 0.19596442580223083, 0.06670376658439636, 0.06331390887498856, 0.05256378650665283, 0.052333440631628036, 0.04416165128350258, 0.034780003130435944, 0.025827210396528244, 0.022280216217041016, 0.015484895557165146, 0.015357647091150284, 0.014555064029991627, 0.012899953871965408, 0.01178526971489191, 0.010015265084803104, 0.008806983940303326, 0.008527316153049469, 0.007730339653789997, 0.007657290901988745, 0.007345678750425577, 0.006072694901376963, 0.004180544521659613, 0.0033174892887473106, 0.0009205670794472098, 0.0004784602206200361]} \n",
      "\n",
      "Business and Finance Technology & Computing Personal Finance\n",
      "0.9080802202224731 0.5382148623466492 0.36589711904525757\n",
      "time (mins) -  0.11\n"
     ]
    }
   ],
   "source": [
    "test_1 = df.clean_summary[0]\n",
    "\n",
    "print(\"Seq len: \", len(test_1), \"\\n\")\n",
    "start_time = time.time()\n",
    "\n",
    "res = classifier(test_1, candidate_labels, multi_label=True)\n",
    "print(res, \"\\n\")\n",
    "print(res['labels'][0], res['labels'][1], res['labels'][2])\n",
    "print(res['scores'][0], res['scores'][1], res['scores'][2])\n",
    "\n",
    "print(\"time (mins) - \", round((time.time() - start_time)/60, 2))"
   ]
  },
  {
   "cell_type": "code",
   "execution_count": 8,
   "id": "02b31a5a",
   "metadata": {},
   "outputs": [
    {
     "name": "stdout",
     "output_type": "stream",
     "text": [
      "Seq len:  1549 \n",
      "\n",
      "284\n",
      "Business Economy Industries\n",
      "0.8300521373748779 0.6493587493896484 0.6401695609092712\n",
      "time (mins) -  0.51\n"
     ]
    }
   ],
   "source": [
    "test_1 = df.clean_summary[0]\n",
    "\n",
    "print(\"Seq len: \", len(test_1), \"\\n\")\n",
    "start_time = time.time()\n",
    "\n",
    "candidate_labels_t2 = df.tier2.unique().tolist()\n",
    "print(len(candidate_labels_t2))\n",
    "\n",
    "res = classifier(test_1, candidate_labels_t2, multi_label=True)\n",
    "# print(res, \"\\n\")\n",
    "print(res['labels'][0], res['labels'][1], res['labels'][2])\n",
    "print(res['scores'][0], res['scores'][1], res['scores'][2])\n",
    "\n",
    "print(\"time (mins) - \", round((time.time() - start_time)/60, 2))"
   ]
  },
  {
   "cell_type": "markdown",
   "id": "3b28a04c",
   "metadata": {},
   "source": [
    "* Trying 10 (feeding 1-by-1 via looping) - transfomers pipeline"
   ]
  },
  {
   "cell_type": "code",
   "execution_count": 35,
   "id": "3168119b",
   "metadata": {},
   "outputs": [
    {
     "name": "stdout",
     "output_type": "stream",
     "text": [
      "time (mins) -  9.09 \n",
      "\n"
     ]
    }
   ],
   "source": [
    "# TIER 2\n",
    "\n",
    "prim_labels = []\n",
    "sec_labels = []\n",
    "ter_labels = []\n",
    "\n",
    "prim_scores = []\n",
    "sec_scores = []\n",
    "ter_scores = []\n",
    "\n",
    "start_time = time.time()\n",
    "\n",
    "for i in range(len(df.clean_summary[:10].tolist())):\n",
    "\n",
    "    res = classifier(df.clean_summary[i][:4000], candidate_labels_t2, multi_label=True)\n",
    "    \n",
    "    prim_labels.append(res['labels'][0])\n",
    "    sec_labels.append(res['labels'][1])\n",
    "    ter_labels.append(res['labels'][2])\n",
    "    \n",
    "    prim_scores.append(res['scores'][0])\n",
    "    sec_scores.append(res['scores'][1])\n",
    "    ter_scores.append(res['scores'][2])\n",
    "\n",
    "print(\"time (mins) - \", round((time.time() - start_time)/60, 2), \"\\n\")\n",
    "\n",
    "test2 = pd.DataFrame(df.clean_summary[:10])\n",
    "test2[\"prim_labels\"] = prim_labels\n",
    "test2[\"sec_labels\"] = sec_labels\n",
    "test2[\"ter_labels\"] = ter_labels\n",
    "\n",
    "test2[\"prim_scores\"] = prim_scores\n",
    "test2[\"sec_scores\"] = sec_scores\n",
    "test2[\"ter_scores\"] = ter_scores "
   ]
  },
  {
   "cell_type": "code",
   "execution_count": 33,
   "id": "934bfd4d",
   "metadata": {},
   "outputs": [
    {
     "name": "stdout",
     "output_type": "stream",
     "text": [
      "60.0\n"
     ]
    },
    {
     "data": {
      "text/html": [
       "<div>\n",
       "<style scoped>\n",
       "    .dataframe tbody tr th:only-of-type {\n",
       "        vertical-align: middle;\n",
       "    }\n",
       "\n",
       "    .dataframe tbody tr th {\n",
       "        vertical-align: top;\n",
       "    }\n",
       "\n",
       "    .dataframe thead th {\n",
       "        text-align: right;\n",
       "    }\n",
       "</style>\n",
       "<table border=\"1\" class=\"dataframe\">\n",
       "  <thead>\n",
       "    <tr style=\"text-align: right;\">\n",
       "      <th></th>\n",
       "      <th>clean_summary</th>\n",
       "      <th>prim_labels</th>\n",
       "      <th>sec_labels</th>\n",
       "      <th>ter_labels</th>\n",
       "      <th>prim_scores</th>\n",
       "      <th>sec_scores</th>\n",
       "      <th>ter_scores</th>\n",
       "    </tr>\n",
       "  </thead>\n",
       "  <tbody>\n",
       "    <tr>\n",
       "      <th>0</th>\n",
       "      <td>wework accept crypto pay landlords crypto. top...</td>\n",
       "      <td>Business and Finance</td>\n",
       "      <td>Technology &amp; Computing</td>\n",
       "      <td>Personal Finance</td>\n",
       "      <td>0.9</td>\n",
       "      <td>0.5</td>\n",
       "      <td>0.4</td>\n",
       "    </tr>\n",
       "    <tr>\n",
       "      <th>1</th>\n",
       "      <td>celebrate lodge woodloch's 15-year anniversary...</td>\n",
       "      <td>Healthy Living</td>\n",
       "      <td>Medical Health</td>\n",
       "      <td>Events and Attractions</td>\n",
       "      <td>1.0</td>\n",
       "      <td>0.9</td>\n",
       "      <td>0.5</td>\n",
       "    </tr>\n",
       "    <tr>\n",
       "      <th>2</th>\n",
       "      <td>cardi b megan thee stallion earn no. 1 hit you...</td>\n",
       "      <td>Music and Audio</td>\n",
       "      <td>Pop Culture</td>\n",
       "      <td>Business and Finance</td>\n",
       "      <td>1.0</td>\n",
       "      <td>0.9</td>\n",
       "      <td>0.8</td>\n",
       "    </tr>\n",
       "    <tr>\n",
       "      <th>3</th>\n",
       "      <td>valentine's day gift guide: romantic hotel pac...</td>\n",
       "      <td>Pop Culture</td>\n",
       "      <td>Events and Attractions</td>\n",
       "      <td>Shopping</td>\n",
       "      <td>0.9</td>\n",
       "      <td>0.6</td>\n",
       "      <td>0.6</td>\n",
       "    </tr>\n",
       "    <tr>\n",
       "      <th>4</th>\n",
       "      <td>best prime day bike deals saving big bicycles ...</td>\n",
       "      <td>Shopping</td>\n",
       "      <td>Automotive</td>\n",
       "      <td>Personal Finance</td>\n",
       "      <td>1.0</td>\n",
       "      <td>0.9</td>\n",
       "      <td>0.9</td>\n",
       "    </tr>\n",
       "    <tr>\n",
       "      <th>5</th>\n",
       "      <td>weber takes grilling innovative new heights, p...</td>\n",
       "      <td>Business and Finance</td>\n",
       "      <td>Food &amp; Drink</td>\n",
       "      <td>Personal Finance</td>\n",
       "      <td>1.0</td>\n",
       "      <td>0.6</td>\n",
       "      <td>0.6</td>\n",
       "    </tr>\n",
       "    <tr>\n",
       "      <th>6</th>\n",
       "      <td>korean superstars twice history billboard 200 ...</td>\n",
       "      <td>Pop Culture</td>\n",
       "      <td>Music and Audio</td>\n",
       "      <td>Careers</td>\n",
       "      <td>1.0</td>\n",
       "      <td>1.0</td>\n",
       "      <td>0.7</td>\n",
       "    </tr>\n",
       "    <tr>\n",
       "      <th>7</th>\n",
       "      <td>pick mehve glider toy nausica '. remember, cov...</td>\n",
       "      <td>Hobbies &amp; Interests</td>\n",
       "      <td>Business and Finance</td>\n",
       "      <td>Pop Culture</td>\n",
       "      <td>0.9</td>\n",
       "      <td>0.9</td>\n",
       "      <td>0.9</td>\n",
       "    </tr>\n",
       "    <tr>\n",
       "      <th>8</th>\n",
       "      <td>best jewelry wear halloween. halloween certain...</td>\n",
       "      <td>Pop Culture</td>\n",
       "      <td>Style &amp; Fashion</td>\n",
       "      <td>Events and Attractions</td>\n",
       "      <td>1.0</td>\n",
       "      <td>0.9</td>\n",
       "      <td>0.7</td>\n",
       "    </tr>\n",
       "    <tr>\n",
       "      <th>9</th>\n",
       "      <td>comvita honey company wants buzz world bee day...</td>\n",
       "      <td>Business and Finance</td>\n",
       "      <td>Food &amp; Drink</td>\n",
       "      <td>Hobbies &amp; Interests</td>\n",
       "      <td>0.9</td>\n",
       "      <td>0.8</td>\n",
       "      <td>0.7</td>\n",
       "    </tr>\n",
       "  </tbody>\n",
       "</table>\n",
       "</div>"
      ],
      "text/plain": [
       "                                       clean_summary           prim_labels  \\\n",
       "0  wework accept crypto pay landlords crypto. top...  Business and Finance   \n",
       "1  celebrate lodge woodloch's 15-year anniversary...        Healthy Living   \n",
       "2  cardi b megan thee stallion earn no. 1 hit you...       Music and Audio   \n",
       "3  valentine's day gift guide: romantic hotel pac...           Pop Culture   \n",
       "4  best prime day bike deals saving big bicycles ...              Shopping   \n",
       "5  weber takes grilling innovative new heights, p...  Business and Finance   \n",
       "6  korean superstars twice history billboard 200 ...           Pop Culture   \n",
       "7  pick mehve glider toy nausica '. remember, cov...   Hobbies & Interests   \n",
       "8  best jewelry wear halloween. halloween certain...           Pop Culture   \n",
       "9  comvita honey company wants buzz world bee day...  Business and Finance   \n",
       "\n",
       "               sec_labels              ter_labels  prim_scores  sec_scores  \\\n",
       "0  Technology & Computing        Personal Finance          0.9         0.5   \n",
       "1          Medical Health  Events and Attractions          1.0         0.9   \n",
       "2             Pop Culture    Business and Finance          1.0         0.9   \n",
       "3  Events and Attractions                Shopping          0.9         0.6   \n",
       "4              Automotive        Personal Finance          1.0         0.9   \n",
       "5            Food & Drink        Personal Finance          1.0         0.6   \n",
       "6         Music and Audio                 Careers          1.0         1.0   \n",
       "7    Business and Finance             Pop Culture          0.9         0.9   \n",
       "8         Style & Fashion  Events and Attractions          1.0         0.9   \n",
       "9            Food & Drink     Hobbies & Interests          0.9         0.8   \n",
       "\n",
       "   ter_scores  \n",
       "0         0.4  \n",
       "1         0.5  \n",
       "2         0.8  \n",
       "3         0.6  \n",
       "4         0.9  \n",
       "5         0.6  \n",
       "6         0.7  \n",
       "7         0.9  \n",
       "8         0.7  \n",
       "9         0.7  "
      ]
     },
     "execution_count": 33,
     "metadata": {},
     "output_type": "execute_result"
    }
   ],
   "source": [
    "# TIER 1\n",
    "match = []\n",
    "for i in range(len(df['tier1'][:10])):\n",
    "    if df['tier1'][:10][i] in (test['prim_labels'] + \" \" + test['sec_labels'] + \" \" + test['ter_labels'])[i]:\n",
    "        match.append(True)\n",
    "        \n",
    "print((len(match)/10)*100)\n",
    "\n",
    "test"
   ]
  },
  {
   "cell_type": "code",
   "execution_count": 38,
   "id": "7515a87a",
   "metadata": {},
   "outputs": [
    {
     "name": "stdout",
     "output_type": "stream",
     "text": [
      "30.0\n"
     ]
    },
    {
     "data": {
      "text/html": [
       "<div>\n",
       "<style scoped>\n",
       "    .dataframe tbody tr th:only-of-type {\n",
       "        vertical-align: middle;\n",
       "    }\n",
       "\n",
       "    .dataframe tbody tr th {\n",
       "        vertical-align: top;\n",
       "    }\n",
       "\n",
       "    .dataframe thead th {\n",
       "        text-align: right;\n",
       "    }\n",
       "</style>\n",
       "<table border=\"1\" class=\"dataframe\">\n",
       "  <thead>\n",
       "    <tr style=\"text-align: right;\">\n",
       "      <th></th>\n",
       "      <th>clean_summary</th>\n",
       "      <th>prim_labels</th>\n",
       "      <th>sec_labels</th>\n",
       "      <th>ter_labels</th>\n",
       "      <th>prim_scores</th>\n",
       "      <th>sec_scores</th>\n",
       "      <th>ter_scores</th>\n",
       "    </tr>\n",
       "  </thead>\n",
       "  <tbody>\n",
       "    <tr>\n",
       "      <th>0</th>\n",
       "      <td>wework accept crypto pay landlords crypto. top...</td>\n",
       "      <td>Business</td>\n",
       "      <td>Economy</td>\n",
       "      <td>Industries</td>\n",
       "      <td>0.8</td>\n",
       "      <td>0.6</td>\n",
       "      <td>0.6</td>\n",
       "    </tr>\n",
       "    <tr>\n",
       "      <th>1</th>\n",
       "      <td>celebrate lodge woodloch's 15-year anniversary...</td>\n",
       "      <td>Wellness</td>\n",
       "      <td>Personal Care</td>\n",
       "      <td>Beauty</td>\n",
       "      <td>1.0</td>\n",
       "      <td>0.9</td>\n",
       "      <td>0.8</td>\n",
       "    </tr>\n",
       "    <tr>\n",
       "      <th>2</th>\n",
       "      <td>cardi b megan thee stallion earn no. 1 hit you...</td>\n",
       "      <td>Hip Hop Music</td>\n",
       "      <td>Urban Contemporary Music</td>\n",
       "      <td>Adult Contemporary Music</td>\n",
       "      <td>1.0</td>\n",
       "      <td>0.9</td>\n",
       "      <td>0.9</td>\n",
       "    </tr>\n",
       "    <tr>\n",
       "      <th>3</th>\n",
       "      <td>valentine's day gift guide: romantic hotel pac...</td>\n",
       "      <td>National &amp; Civic Holidays</td>\n",
       "      <td>Party Supplies and Decorations</td>\n",
       "      <td>Bereavement</td>\n",
       "      <td>0.9</td>\n",
       "      <td>0.9</td>\n",
       "      <td>0.9</td>\n",
       "    </tr>\n",
       "    <tr>\n",
       "      <th>4</th>\n",
       "      <td>best prime day bike deals saving big bicycles ...</td>\n",
       "      <td>Coupons and Discounts</td>\n",
       "      <td>Auto Buying and Selling</td>\n",
       "      <td>Consumer Electronics</td>\n",
       "      <td>1.0</td>\n",
       "      <td>0.9</td>\n",
       "      <td>0.9</td>\n",
       "    </tr>\n",
       "    <tr>\n",
       "      <th>5</th>\n",
       "      <td>weber takes grilling innovative new heights, p...</td>\n",
       "      <td>Business</td>\n",
       "      <td>Industries</td>\n",
       "      <td>Economy</td>\n",
       "      <td>1.0</td>\n",
       "      <td>1.0</td>\n",
       "      <td>0.9</td>\n",
       "    </tr>\n",
       "    <tr>\n",
       "      <th>6</th>\n",
       "      <td>korean superstars twice history billboard 200 ...</td>\n",
       "      <td>National &amp; Civic Holidays</td>\n",
       "      <td>International Music</td>\n",
       "      <td>Sales and Promotions</td>\n",
       "      <td>0.9</td>\n",
       "      <td>0.9</td>\n",
       "      <td>0.8</td>\n",
       "    </tr>\n",
       "    <tr>\n",
       "      <th>7</th>\n",
       "      <td>pick mehve glider toy nausica '. remember, cov...</td>\n",
       "      <td>Animation Movies</td>\n",
       "      <td>Children's Games and Toys</td>\n",
       "      <td>Consumer Electronics</td>\n",
       "      <td>0.9</td>\n",
       "      <td>0.9</td>\n",
       "      <td>0.9</td>\n",
       "    </tr>\n",
       "    <tr>\n",
       "      <th>8</th>\n",
       "      <td>best jewelry wear halloween. halloween certain...</td>\n",
       "      <td>Holiday Shopping</td>\n",
       "      <td>Costume</td>\n",
       "      <td>National &amp; Civic Holidays</td>\n",
       "      <td>1.0</td>\n",
       "      <td>1.0</td>\n",
       "      <td>1.0</td>\n",
       "    </tr>\n",
       "    <tr>\n",
       "      <th>9</th>\n",
       "      <td>comvita honey company wants buzz world bee day...</td>\n",
       "      <td>Beekeeping</td>\n",
       "      <td>Industries</td>\n",
       "      <td>Business</td>\n",
       "      <td>0.9</td>\n",
       "      <td>0.9</td>\n",
       "      <td>0.9</td>\n",
       "    </tr>\n",
       "  </tbody>\n",
       "</table>\n",
       "</div>"
      ],
      "text/plain": [
       "                                       clean_summary  \\\n",
       "0  wework accept crypto pay landlords crypto. top...   \n",
       "1  celebrate lodge woodloch's 15-year anniversary...   \n",
       "2  cardi b megan thee stallion earn no. 1 hit you...   \n",
       "3  valentine's day gift guide: romantic hotel pac...   \n",
       "4  best prime day bike deals saving big bicycles ...   \n",
       "5  weber takes grilling innovative new heights, p...   \n",
       "6  korean superstars twice history billboard 200 ...   \n",
       "7  pick mehve glider toy nausica '. remember, cov...   \n",
       "8  best jewelry wear halloween. halloween certain...   \n",
       "9  comvita honey company wants buzz world bee day...   \n",
       "\n",
       "                 prim_labels                      sec_labels  \\\n",
       "0                   Business                         Economy   \n",
       "1                   Wellness                   Personal Care   \n",
       "2              Hip Hop Music        Urban Contemporary Music   \n",
       "3  National & Civic Holidays  Party Supplies and Decorations   \n",
       "4      Coupons and Discounts         Auto Buying and Selling   \n",
       "5                   Business                      Industries   \n",
       "6  National & Civic Holidays             International Music   \n",
       "7           Animation Movies       Children's Games and Toys   \n",
       "8           Holiday Shopping                         Costume   \n",
       "9                 Beekeeping                      Industries   \n",
       "\n",
       "                  ter_labels  prim_scores  sec_scores  ter_scores  \n",
       "0                 Industries          0.8         0.6         0.6  \n",
       "1                     Beauty          1.0         0.9         0.8  \n",
       "2   Adult Contemporary Music          1.0         0.9         0.9  \n",
       "3                Bereavement          0.9         0.9         0.9  \n",
       "4       Consumer Electronics          1.0         0.9         0.9  \n",
       "5                    Economy          1.0         1.0         0.9  \n",
       "6       Sales and Promotions          0.9         0.9         0.8  \n",
       "7       Consumer Electronics          0.9         0.9         0.9  \n",
       "8  National & Civic Holidays          1.0         1.0         1.0  \n",
       "9                   Business          0.9         0.9         0.9  "
      ]
     },
     "execution_count": 38,
     "metadata": {},
     "output_type": "execute_result"
    }
   ],
   "source": [
    "# TIER 2\n",
    "\n",
    "match = []\n",
    "for i in range(len(df['tier2'][:10])):\n",
    "    if df['tier2'][:10][i] in (test2['prim_labels'] + \" \" + test2['sec_labels'] + \" \" + test2['ter_labels'])[i]:\n",
    "        match.append(True)\n",
    "        \n",
    "print((len(match)/10)*100)\n",
    "\n",
    "test2"
   ]
  },
  {
   "cell_type": "markdown",
   "id": "9e4281e2",
   "metadata": {},
   "source": [
    "* Trying joblib multi-processing"
   ]
  },
  {
   "cell_type": "code",
   "execution_count": 9,
   "id": "57f34cbd",
   "metadata": {},
   "outputs": [],
   "source": [
    "def get_class(article):\n",
    "    model = 'joeddav/bart-large-mnli-yahoo-answers'\n",
    "\n",
    "    classifier = pipeline(\"zero-shot-classification\", \n",
    "                      model = model, \n",
    "                      framework=\"pt\") #, device=0\n",
    "\n",
    "    return classifier(article, candidate_labels, multi_label=True)"
   ]
  },
  {
   "cell_type": "code",
   "execution_count": 39,
   "id": "989d6bdc",
   "metadata": {},
   "outputs": [
    {
     "ename": "IndexError",
     "evalue": "index out of range in self",
     "output_type": "error",
     "traceback": [
      "\u001b[0;31m---------------------------------------------------------------------------\u001b[0m",
      "\u001b[0;31mIndexError\u001b[0m                                Traceback (most recent call last)",
      "\u001b[0;32m<ipython-input-39-ccf2cee77638>\u001b[0m in \u001b[0;36m<module>\u001b[0;34m\u001b[0m\n\u001b[1;32m      7\u001b[0m \u001b[0mstart\u001b[0m \u001b[0;34m=\u001b[0m \u001b[0mtime\u001b[0m\u001b[0;34m.\u001b[0m\u001b[0mtime\u001b[0m\u001b[0;34m(\u001b[0m\u001b[0;34m)\u001b[0m\u001b[0;34m\u001b[0m\u001b[0;34m\u001b[0m\u001b[0m\n\u001b[1;32m      8\u001b[0m \u001b[0;34m\u001b[0m\u001b[0m\n\u001b[0;32m----> 9\u001b[0;31m \u001b[0mres_output\u001b[0m \u001b[0;34m=\u001b[0m \u001b[0mParallel\u001b[0m\u001b[0;34m(\u001b[0m\u001b[0mn_jobs\u001b[0m\u001b[0;34m=\u001b[0m\u001b[0;34m-\u001b[0m\u001b[0;36m1\u001b[0m\u001b[0;34m)\u001b[0m\u001b[0;34m(\u001b[0m\u001b[0mdelayed\u001b[0m\u001b[0;34m(\u001b[0m\u001b[0mget_class\u001b[0m\u001b[0;34m)\u001b[0m\u001b[0;34m(\u001b[0m\u001b[0marticle_body\u001b[0m\u001b[0;34m)\u001b[0m \u001b[0;32mfor\u001b[0m \u001b[0marticle_body\u001b[0m \u001b[0;32min\u001b[0m \u001b[0mdf_proc\u001b[0m\u001b[0;34m)\u001b[0m\u001b[0;34m\u001b[0m\u001b[0;34m\u001b[0m\u001b[0m\n\u001b[0m\u001b[1;32m     10\u001b[0m \u001b[0;34m\u001b[0m\u001b[0m\n\u001b[1;32m     11\u001b[0m \u001b[0mprint\u001b[0m\u001b[0;34m(\u001b[0m\u001b[0;34m\"article_embeddings len:\"\u001b[0m\u001b[0;34m,\u001b[0m \u001b[0mlen\u001b[0m\u001b[0;34m(\u001b[0m\u001b[0mres_output\u001b[0m\u001b[0;34m)\u001b[0m\u001b[0;34m)\u001b[0m\u001b[0;34m\u001b[0m\u001b[0;34m\u001b[0m\u001b[0m\n",
      "\u001b[0;32m/opt/conda/lib/python3.7/site-packages/joblib/parallel.py\u001b[0m in \u001b[0;36m__call__\u001b[0;34m(self, iterable)\u001b[0m\n\u001b[1;32m   1052\u001b[0m \u001b[0;34m\u001b[0m\u001b[0m\n\u001b[1;32m   1053\u001b[0m             \u001b[0;32mwith\u001b[0m \u001b[0mself\u001b[0m\u001b[0;34m.\u001b[0m\u001b[0m_backend\u001b[0m\u001b[0;34m.\u001b[0m\u001b[0mretrieval_context\u001b[0m\u001b[0;34m(\u001b[0m\u001b[0;34m)\u001b[0m\u001b[0;34m:\u001b[0m\u001b[0;34m\u001b[0m\u001b[0;34m\u001b[0m\u001b[0m\n\u001b[0;32m-> 1054\u001b[0;31m                 \u001b[0mself\u001b[0m\u001b[0;34m.\u001b[0m\u001b[0mretrieve\u001b[0m\u001b[0;34m(\u001b[0m\u001b[0;34m)\u001b[0m\u001b[0;34m\u001b[0m\u001b[0;34m\u001b[0m\u001b[0m\n\u001b[0m\u001b[1;32m   1055\u001b[0m             \u001b[0;31m# Make sure that we get a last message telling us we are done\u001b[0m\u001b[0;34m\u001b[0m\u001b[0;34m\u001b[0m\u001b[0;34m\u001b[0m\u001b[0m\n\u001b[1;32m   1056\u001b[0m             \u001b[0melapsed_time\u001b[0m \u001b[0;34m=\u001b[0m \u001b[0mtime\u001b[0m\u001b[0;34m.\u001b[0m\u001b[0mtime\u001b[0m\u001b[0;34m(\u001b[0m\u001b[0;34m)\u001b[0m \u001b[0;34m-\u001b[0m \u001b[0mself\u001b[0m\u001b[0;34m.\u001b[0m\u001b[0m_start_time\u001b[0m\u001b[0;34m\u001b[0m\u001b[0;34m\u001b[0m\u001b[0m\n",
      "\u001b[0;32m/opt/conda/lib/python3.7/site-packages/joblib/parallel.py\u001b[0m in \u001b[0;36mretrieve\u001b[0;34m(self)\u001b[0m\n\u001b[1;32m    931\u001b[0m             \u001b[0;32mtry\u001b[0m\u001b[0;34m:\u001b[0m\u001b[0;34m\u001b[0m\u001b[0;34m\u001b[0m\u001b[0m\n\u001b[1;32m    932\u001b[0m                 \u001b[0;32mif\u001b[0m \u001b[0mgetattr\u001b[0m\u001b[0;34m(\u001b[0m\u001b[0mself\u001b[0m\u001b[0;34m.\u001b[0m\u001b[0m_backend\u001b[0m\u001b[0;34m,\u001b[0m \u001b[0;34m'supports_timeout'\u001b[0m\u001b[0;34m,\u001b[0m \u001b[0;32mFalse\u001b[0m\u001b[0;34m)\u001b[0m\u001b[0;34m:\u001b[0m\u001b[0;34m\u001b[0m\u001b[0;34m\u001b[0m\u001b[0m\n\u001b[0;32m--> 933\u001b[0;31m                     \u001b[0mself\u001b[0m\u001b[0;34m.\u001b[0m\u001b[0m_output\u001b[0m\u001b[0;34m.\u001b[0m\u001b[0mextend\u001b[0m\u001b[0;34m(\u001b[0m\u001b[0mjob\u001b[0m\u001b[0;34m.\u001b[0m\u001b[0mget\u001b[0m\u001b[0;34m(\u001b[0m\u001b[0mtimeout\u001b[0m\u001b[0;34m=\u001b[0m\u001b[0mself\u001b[0m\u001b[0;34m.\u001b[0m\u001b[0mtimeout\u001b[0m\u001b[0;34m)\u001b[0m\u001b[0;34m)\u001b[0m\u001b[0;34m\u001b[0m\u001b[0;34m\u001b[0m\u001b[0m\n\u001b[0m\u001b[1;32m    934\u001b[0m                 \u001b[0;32melse\u001b[0m\u001b[0;34m:\u001b[0m\u001b[0;34m\u001b[0m\u001b[0;34m\u001b[0m\u001b[0m\n\u001b[1;32m    935\u001b[0m                     \u001b[0mself\u001b[0m\u001b[0;34m.\u001b[0m\u001b[0m_output\u001b[0m\u001b[0;34m.\u001b[0m\u001b[0mextend\u001b[0m\u001b[0;34m(\u001b[0m\u001b[0mjob\u001b[0m\u001b[0;34m.\u001b[0m\u001b[0mget\u001b[0m\u001b[0;34m(\u001b[0m\u001b[0;34m)\u001b[0m\u001b[0;34m)\u001b[0m\u001b[0;34m\u001b[0m\u001b[0;34m\u001b[0m\u001b[0m\n",
      "\u001b[0;32m/opt/conda/lib/python3.7/site-packages/joblib/_parallel_backends.py\u001b[0m in \u001b[0;36mwrap_future_result\u001b[0;34m(future, timeout)\u001b[0m\n\u001b[1;32m    540\u001b[0m         AsyncResults.get from multiprocessing.\"\"\"\n\u001b[1;32m    541\u001b[0m         \u001b[0;32mtry\u001b[0m\u001b[0;34m:\u001b[0m\u001b[0;34m\u001b[0m\u001b[0;34m\u001b[0m\u001b[0m\n\u001b[0;32m--> 542\u001b[0;31m             \u001b[0;32mreturn\u001b[0m \u001b[0mfuture\u001b[0m\u001b[0;34m.\u001b[0m\u001b[0mresult\u001b[0m\u001b[0;34m(\u001b[0m\u001b[0mtimeout\u001b[0m\u001b[0;34m=\u001b[0m\u001b[0mtimeout\u001b[0m\u001b[0;34m)\u001b[0m\u001b[0;34m\u001b[0m\u001b[0;34m\u001b[0m\u001b[0m\n\u001b[0m\u001b[1;32m    543\u001b[0m         \u001b[0;32mexcept\u001b[0m \u001b[0mCfTimeoutError\u001b[0m \u001b[0;32mas\u001b[0m \u001b[0me\u001b[0m\u001b[0;34m:\u001b[0m\u001b[0;34m\u001b[0m\u001b[0;34m\u001b[0m\u001b[0m\n\u001b[1;32m    544\u001b[0m             \u001b[0;32mraise\u001b[0m \u001b[0mTimeoutError\u001b[0m \u001b[0;32mfrom\u001b[0m \u001b[0me\u001b[0m\u001b[0;34m\u001b[0m\u001b[0;34m\u001b[0m\u001b[0m\n",
      "\u001b[0;32m/opt/conda/lib/python3.7/concurrent/futures/_base.py\u001b[0m in \u001b[0;36mresult\u001b[0;34m(self, timeout)\u001b[0m\n\u001b[1;32m    426\u001b[0m                 \u001b[0;32mraise\u001b[0m \u001b[0mCancelledError\u001b[0m\u001b[0;34m(\u001b[0m\u001b[0;34m)\u001b[0m\u001b[0;34m\u001b[0m\u001b[0;34m\u001b[0m\u001b[0m\n\u001b[1;32m    427\u001b[0m             \u001b[0;32melif\u001b[0m \u001b[0mself\u001b[0m\u001b[0;34m.\u001b[0m\u001b[0m_state\u001b[0m \u001b[0;34m==\u001b[0m \u001b[0mFINISHED\u001b[0m\u001b[0;34m:\u001b[0m\u001b[0;34m\u001b[0m\u001b[0;34m\u001b[0m\u001b[0m\n\u001b[0;32m--> 428\u001b[0;31m                 \u001b[0;32mreturn\u001b[0m \u001b[0mself\u001b[0m\u001b[0;34m.\u001b[0m\u001b[0m__get_result\u001b[0m\u001b[0;34m(\u001b[0m\u001b[0;34m)\u001b[0m\u001b[0;34m\u001b[0m\u001b[0;34m\u001b[0m\u001b[0m\n\u001b[0m\u001b[1;32m    429\u001b[0m \u001b[0;34m\u001b[0m\u001b[0m\n\u001b[1;32m    430\u001b[0m             \u001b[0mself\u001b[0m\u001b[0;34m.\u001b[0m\u001b[0m_condition\u001b[0m\u001b[0;34m.\u001b[0m\u001b[0mwait\u001b[0m\u001b[0;34m(\u001b[0m\u001b[0mtimeout\u001b[0m\u001b[0;34m)\u001b[0m\u001b[0;34m\u001b[0m\u001b[0;34m\u001b[0m\u001b[0m\n",
      "\u001b[0;32m/opt/conda/lib/python3.7/concurrent/futures/_base.py\u001b[0m in \u001b[0;36m__get_result\u001b[0;34m(self)\u001b[0m\n\u001b[1;32m    382\u001b[0m     \u001b[0;32mdef\u001b[0m \u001b[0m__get_result\u001b[0m\u001b[0;34m(\u001b[0m\u001b[0mself\u001b[0m\u001b[0;34m)\u001b[0m\u001b[0;34m:\u001b[0m\u001b[0;34m\u001b[0m\u001b[0;34m\u001b[0m\u001b[0m\n\u001b[1;32m    383\u001b[0m         \u001b[0;32mif\u001b[0m \u001b[0mself\u001b[0m\u001b[0;34m.\u001b[0m\u001b[0m_exception\u001b[0m\u001b[0;34m:\u001b[0m\u001b[0;34m\u001b[0m\u001b[0;34m\u001b[0m\u001b[0m\n\u001b[0;32m--> 384\u001b[0;31m             \u001b[0;32mraise\u001b[0m \u001b[0mself\u001b[0m\u001b[0;34m.\u001b[0m\u001b[0m_exception\u001b[0m\u001b[0;34m\u001b[0m\u001b[0;34m\u001b[0m\u001b[0m\n\u001b[0m\u001b[1;32m    385\u001b[0m         \u001b[0;32melse\u001b[0m\u001b[0;34m:\u001b[0m\u001b[0;34m\u001b[0m\u001b[0;34m\u001b[0m\u001b[0m\n\u001b[1;32m    386\u001b[0m             \u001b[0;32mreturn\u001b[0m \u001b[0mself\u001b[0m\u001b[0;34m.\u001b[0m\u001b[0m_result\u001b[0m\u001b[0;34m\u001b[0m\u001b[0;34m\u001b[0m\u001b[0m\n",
      "\u001b[0;31mIndexError\u001b[0m: index out of range in self"
     ]
    }
   ],
   "source": [
    "from joblib import Parallel, delayed\n",
    "\n",
    "df_proc = df.clean_summary[:100][:10].to_list()\n",
    "\n",
    "# Parallel processing\n",
    "\n",
    "start = time.time()\n",
    "\n",
    "res_output = Parallel(n_jobs=-1)(delayed(get_class)(article_body) for article_body in df_proc)\n",
    "\n",
    "print(\"article_embeddings len:\", len(res_output))\n",
    "print()\n",
    "print('time {} minutes'.format(round((time.time() - start) / 60, 2))) #3.22"
   ]
  },
  {
   "cell_type": "markdown",
   "id": "65006f12",
   "metadata": {},
   "source": [
    "* Trying 10 (feeding 1-by-1 via looping) - onnx pipeline\n",
    "    * **verdict:** horrible results and run-time"
   ]
  },
  {
   "cell_type": "code",
   "execution_count": 14,
   "id": "89e5f121",
   "metadata": {
    "collapsed": true,
    "jupyter": {
     "outputs_hidden": true
    }
   },
   "outputs": [
    {
     "ename": "ModuleNotFoundError",
     "evalue": "No module named 'transformers.configuration_auto'",
     "output_type": "error",
     "traceback": [
      "\u001b[0;31m---------------------------------------------------------------------------\u001b[0m",
      "\u001b[0;31mModuleNotFoundError\u001b[0m                       Traceback (most recent call last)",
      "\u001b[0;32m<ipython-input-14-56d79dcf27bd>\u001b[0m in \u001b[0;36m<module>\u001b[0;34m\u001b[0m\n\u001b[0;32m----> 1\u001b[0;31m \u001b[0;32mfrom\u001b[0m \u001b[0monnx_transformers\u001b[0m \u001b[0;32mimport\u001b[0m \u001b[0mpipeline\u001b[0m\u001b[0;34m\u001b[0m\u001b[0;34m\u001b[0m\u001b[0m\n\u001b[0m\u001b[1;32m      2\u001b[0m \u001b[0;34m\u001b[0m\u001b[0m\n\u001b[1;32m      3\u001b[0m \u001b[0;31m# default model is roberta-large-mnli\u001b[0m\u001b[0;34m\u001b[0m\u001b[0;34m\u001b[0m\u001b[0;34m\u001b[0m\u001b[0m\n\u001b[1;32m      4\u001b[0m \u001b[0monnx_classifier\u001b[0m \u001b[0;34m=\u001b[0m \u001b[0mpipeline\u001b[0m\u001b[0;34m(\u001b[0m\u001b[0;34m\"zero-shot-classification\"\u001b[0m\u001b[0;34m,\u001b[0m \u001b[0monnx\u001b[0m\u001b[0;34m=\u001b[0m\u001b[0;32mTrue\u001b[0m\u001b[0;34m)\u001b[0m\u001b[0;34m\u001b[0m\u001b[0;34m\u001b[0m\u001b[0m\n",
      "\u001b[0;32m/opt/conda/lib/python3.7/site-packages/onnx_transformers/__init__.py\u001b[0m in \u001b[0;36m<module>\u001b[0;34m\u001b[0m\n\u001b[1;32m      2\u001b[0m \u001b[0;34m\u001b[0m\u001b[0m\n\u001b[1;32m      3\u001b[0m \u001b[0;31m# Pipelines\u001b[0m\u001b[0;34m\u001b[0m\u001b[0;34m\u001b[0m\u001b[0;34m\u001b[0m\u001b[0m\n\u001b[0;32m----> 4\u001b[0;31m from .pipelines import (\n\u001b[0m\u001b[1;32m      5\u001b[0m     \u001b[0mCsvPipelineDataFormat\u001b[0m\u001b[0;34m,\u001b[0m\u001b[0;34m\u001b[0m\u001b[0;34m\u001b[0m\u001b[0m\n\u001b[1;32m      6\u001b[0m     \u001b[0mJsonPipelineDataFormat\u001b[0m\u001b[0;34m,\u001b[0m\u001b[0;34m\u001b[0m\u001b[0;34m\u001b[0m\u001b[0m\n",
      "\u001b[0;32m/opt/conda/lib/python3.7/site-packages/onnx_transformers/pipelines.py\u001b[0m in \u001b[0;36m<module>\u001b[0;34m\u001b[0m\n\u001b[1;32m     16\u001b[0m \u001b[0;32mfrom\u001b[0m \u001b[0monnxruntime\u001b[0m \u001b[0;32mimport\u001b[0m \u001b[0mGraphOptimizationLevel\u001b[0m\u001b[0;34m,\u001b[0m \u001b[0mInferenceSession\u001b[0m\u001b[0;34m,\u001b[0m \u001b[0mSessionOptions\u001b[0m\u001b[0;34m,\u001b[0m \u001b[0mget_all_providers\u001b[0m\u001b[0;34m\u001b[0m\u001b[0;34m\u001b[0m\u001b[0m\n\u001b[1;32m     17\u001b[0m \u001b[0;32mfrom\u001b[0m \u001b[0mpsutil\u001b[0m \u001b[0;32mimport\u001b[0m \u001b[0mcpu_count\u001b[0m\u001b[0;34m\u001b[0m\u001b[0;34m\u001b[0m\u001b[0m\n\u001b[0;32m---> 18\u001b[0;31m \u001b[0;32mfrom\u001b[0m \u001b[0mtransformers\u001b[0m\u001b[0;34m.\u001b[0m\u001b[0mconfiguration_auto\u001b[0m \u001b[0;32mimport\u001b[0m \u001b[0mAutoConfig\u001b[0m\u001b[0;34m\u001b[0m\u001b[0;34m\u001b[0m\u001b[0m\n\u001b[0m\u001b[1;32m     19\u001b[0m \u001b[0;32mfrom\u001b[0m \u001b[0mtransformers\u001b[0m\u001b[0;34m.\u001b[0m\u001b[0mconfiguration_utils\u001b[0m \u001b[0;32mimport\u001b[0m \u001b[0mPretrainedConfig\u001b[0m\u001b[0;34m\u001b[0m\u001b[0;34m\u001b[0m\u001b[0m\n\u001b[1;32m     20\u001b[0m \u001b[0;32mfrom\u001b[0m \u001b[0mtransformers\u001b[0m\u001b[0;34m.\u001b[0m\u001b[0mconvert_graph_to_onnx\u001b[0m \u001b[0;32mimport\u001b[0m \u001b[0mconvert_pytorch\u001b[0m\u001b[0;34m,\u001b[0m \u001b[0mconvert_tensorflow\u001b[0m\u001b[0;34m,\u001b[0m \u001b[0minfer_shapes\u001b[0m\u001b[0;34m\u001b[0m\u001b[0;34m\u001b[0m\u001b[0m\n",
      "\u001b[0;31mModuleNotFoundError\u001b[0m: No module named 'transformers.configuration_auto'"
     ]
    }
   ],
   "source": [
    "from onnx_transformers import pipeline\n",
    "\n",
    "# default model is roberta-large-mnli\n",
    "onnx_classifier = pipeline(\"zero-shot-classification\", onnx=True) "
   ]
  },
  {
   "cell_type": "code",
   "execution_count": 8,
   "id": "76f08532",
   "metadata": {},
   "outputs": [
    {
     "name": "stdout",
     "output_type": "stream",
     "text": [
      "Seq len:  1549 \n",
      "\n",
      "{'sequence': \"wework accept crypto pay landlords crypto. topline wework start accepting payment cryptocurrencies intends hold assets balance sheet, office sharing giant announced tuesday, similar elon musk's tesla march said retain bitcoin purchase cars signal confidence cryptocurrencies inch mainstream acceptance. key facts wework said accept bitcoin, ethereum, usd coin, paxos cryptocurrencies payment offerings, including memberships. company said retain payments balance sheet converting currency look pay landlords partners crypto amenable. coinbase, usa' largest crypto exchange went public l ast week, client pay wework membership cryptocurrency, statement said. wework chief executive sandeep mathrani, said company needs adapt needs growing membership fintech sector service new economy. key background cryptocurrencies increasingly popular form payment. elon musk's tesla, holds sizable investment currency, attracted headlines announced accept bitcoin payment cars. venmo announced support cryptocurrencies ontuesday, latest payment app embrace them. watch wework, failed attempt going public 2019, set public spac, company announced march. valued $9 billion, huge step 2019 valuation $47 billion round private investment softbank. reading bitcoin welcomes tesla, mastercard, bny mellon, venmo cryptocurrency party (forbes) wework public spac deal $9 billion valuation 20% 2019 softbank valuation (forbes) coinbase skyrockets nasdaq listing, landing $105 billion valuation day trading (forbes) venmo latest payment app embrace cryptocurrency (forbes)\", 'labels': ['Sports', 'Television', 'Shopping', 'Movies', 'Travel', 'Technology & Computing', 'Pets', 'Education', 'Business and Finance', 'Personal Finance', 'Hobbies & Interests', 'Events and Attractions', 'Family and Relationships', 'Science', 'News and Politics', 'Healthy Living', 'Pop Culture', 'Video Gaming', 'Style & Fashion', 'Music and Audio', 'Medical Health', 'Careers', 'Home & Garden', 'Real Estate', 'Automotive', 'Fine Art', 'Food & Drink', 'Books and Literature'], 'scores': [0.21590298414230347, 0.21499095857143402, 0.21195922791957855, 0.20784732699394226, 0.20354168117046356, 0.19719533622264862, 0.18727099895477295, 0.18627919256687164, 0.17485374212265015, 0.11982361972332001, 0.11580780893564224, 0.11292145401239395, 0.11242056638002396, 0.1113196536898613, 0.10680853575468063, 0.10471025109291077, 0.10455860197544098, 0.10194042325019836, 0.10155623406171799, 0.09794946759939194, 0.0935310497879982, 0.09233895689249039, 0.0917002409696579, 0.08943304419517517, 0.08552548289299011, 0.08489527553319931, 0.07456692308187485, 0.07201949506998062]} \n",
      "\n",
      "Sports Television Shopping\n",
      "0.21590298414230347 0.21499095857143402 0.21195922791957855\n",
      "time (mins) -  0.96\n"
     ]
    }
   ],
   "source": [
    "# trying 1 - with transformers pipeline\n",
    "\n",
    "print(\"Seq len: \", len(test_1), \"\\n\")\n",
    "start_time = time.time()\n",
    "\n",
    "res = onnx_classifier(test_1, candidate_labels, multi_class=True)\n",
    "print(res, \"\\n\")\n",
    "print(res['labels'][0], res['labels'][1], res['labels'][2])\n",
    "print(res['scores'][0], res['scores'][1], res['scores'][2])\n",
    "\n",
    "print(\"time (mins) - \", round((time.time() - start_time)/60, 2))"
   ]
  },
  {
   "cell_type": "code",
   "execution_count": null,
   "id": "3b2b1517",
   "metadata": {},
   "outputs": [],
   "source": []
  },
  {
   "cell_type": "code",
   "execution_count": null,
   "id": "3e3eb130",
   "metadata": {},
   "outputs": [],
   "source": []
  },
  {
   "cell_type": "markdown",
   "id": "bb374ba6",
   "metadata": {},
   "source": [
    "### Create dataset"
   ]
  },
  {
   "cell_type": "code",
   "execution_count": 7,
   "id": "77fe11aa",
   "metadata": {},
   "outputs": [
    {
     "name": "stdout",
     "output_type": "stream",
     "text": [
      "28\n"
     ]
    }
   ],
   "source": [
    "model = 'joeddav/bart-large-mnli-yahoo-answers'\n",
    "\n",
    "classifier = pipeline(\"zero-shot-classification\", \n",
    "                      model = model, \n",
    "                      framework=\"pt\") #, device=0\n",
    "\n",
    "candidate_labels = df.tier1.unique().tolist()\n",
    "print(len(candidate_labels))"
   ]
  },
  {
   "cell_type": "code",
   "execution_count": 8,
   "id": "8cf47f7f",
   "metadata": {},
   "outputs": [
    {
     "data": {
      "text/html": [
       "<div>\n",
       "<style scoped>\n",
       "    .dataframe tbody tr th:only-of-type {\n",
       "        vertical-align: middle;\n",
       "    }\n",
       "\n",
       "    .dataframe tbody tr th {\n",
       "        vertical-align: top;\n",
       "    }\n",
       "\n",
       "    .dataframe thead th {\n",
       "        text-align: right;\n",
       "    }\n",
       "</style>\n",
       "<table border=\"1\" class=\"dataframe\">\n",
       "  <thead>\n",
       "    <tr style=\"text-align: right;\">\n",
       "      <th></th>\n",
       "      <th>natid</th>\n",
       "      <th>pub_date</th>\n",
       "      <th>category</th>\n",
       "      <th>tier1</th>\n",
       "      <th>tier2</th>\n",
       "      <th>summary</th>\n",
       "      <th>clean_summary</th>\n",
       "      <th>label</th>\n",
       "    </tr>\n",
       "  </thead>\n",
       "  <tbody>\n",
       "    <tr>\n",
       "      <th>200</th>\n",
       "      <td>blogandpostid/blog/post/1439-5f621d59249a6f000...</td>\n",
       "      <td>2020-09-16</td>\n",
       "      <td>Style and Fashion</td>\n",
       "      <td>Style &amp; Fashion</td>\n",
       "      <td>Women's Fashion</td>\n",
       "      <td>Newest Bond Girl Becomes First Brand Ambassado...</td>\n",
       "      <td>newest bond girl brand ambassador diamond indu...</td>\n",
       "      <td>17</td>\n",
       "    </tr>\n",
       "    <tr>\n",
       "      <th>201</th>\n",
       "      <td>blogandpostid/blog/post/7152-5fc7073f340d6d000...</td>\n",
       "      <td>2020-12-01</td>\n",
       "      <td>News and Politics</td>\n",
       "      <td>Events and Attractions</td>\n",
       "      <td>Awards Shows</td>\n",
       "      <td>Oscar Nominee Elliot Page Comes Out As Transge...</td>\n",
       "      <td>oscar nominee elliot page comes transgender. t...</td>\n",
       "      <td>5</td>\n",
       "    </tr>\n",
       "    <tr>\n",
       "      <th>202</th>\n",
       "      <td>blogandpostid/blog/post/50404-5fac0d85d5fbc700...</td>\n",
       "      <td>2020-11-27</td>\n",
       "      <td>Travel</td>\n",
       "      <td>Shopping</td>\n",
       "      <td>Gifts and Greetings Cards</td>\n",
       "      <td>Holiday Gift Guide 2020: 9 Top Hotel Souvenirs...</td>\n",
       "      <td>holiday gift guide 2020: 9 hotel souvenirs rel...</td>\n",
       "      <td>13</td>\n",
       "    </tr>\n",
       "    <tr>\n",
       "      <th>203</th>\n",
       "      <td>blogandpostid/blog/post/7109-5f553ed3480c1a000...</td>\n",
       "      <td>2020-09-06</td>\n",
       "      <td>Sports</td>\n",
       "      <td>Sports</td>\n",
       "      <td>American Football</td>\n",
       "      <td>The Kansas City Chiefs Make Good Use Of New Pr...</td>\n",
       "      <td>kansas city chiefs good use new practice squad...</td>\n",
       "      <td>18</td>\n",
       "    </tr>\n",
       "    <tr>\n",
       "      <th>204</th>\n",
       "      <td>blogandpostid/blog/post/25-5f7aa84b00e76800067...</td>\n",
       "      <td>2020-10-05</td>\n",
       "      <td>Personal Finance</td>\n",
       "      <td>Personal Finance</td>\n",
       "      <td>Personal Investing</td>\n",
       "      <td>Riskier Gaming Stock: MGM Resorts Or Scientifi...</td>\n",
       "      <td>riskier gaming stock: mgm resorts scientific g...</td>\n",
       "      <td>21</td>\n",
       "    </tr>\n",
       "    <tr>\n",
       "      <th>...</th>\n",
       "      <td>...</td>\n",
       "      <td>...</td>\n",
       "      <td>...</td>\n",
       "      <td>...</td>\n",
       "      <td>...</td>\n",
       "      <td>...</td>\n",
       "      <td>...</td>\n",
       "      <td>...</td>\n",
       "    </tr>\n",
       "    <tr>\n",
       "      <th>495</th>\n",
       "      <td>blogandpostid/blog/post/4972-60105ac02ee113000...</td>\n",
       "      <td>2021-01-27</td>\n",
       "      <td>Real Estate</td>\n",
       "      <td>Real Estate</td>\n",
       "      <td>Developmental Sites</td>\n",
       "      <td>How Commercial Property Owners Can Cut Through...</td>\n",
       "      <td>commercial property owners cut hype cre tech. ...</td>\n",
       "      <td>7</td>\n",
       "    </tr>\n",
       "    <tr>\n",
       "      <th>496</th>\n",
       "      <td>blogandpostid/blog/post/50564-5f47b422b0b20600...</td>\n",
       "      <td>2020-08-27</td>\n",
       "      <td>News and Politics</td>\n",
       "      <td>News and Politics</td>\n",
       "      <td>Disasters</td>\n",
       "      <td>Hurricane Laura Downgraded To Category 2, But ...</td>\n",
       "      <td>hurricane laura downgraded category 2, life-th...</td>\n",
       "      <td>0</td>\n",
       "    </tr>\n",
       "    <tr>\n",
       "      <th>497</th>\n",
       "      <td>blogandpostid/blog/post/1174-6010527f4c0893000...</td>\n",
       "      <td>2021-01-26</td>\n",
       "      <td>Video Gaming</td>\n",
       "      <td>Video Gaming</td>\n",
       "      <td>Video Game Genres</td>\n",
       "      <td>‘Destiny 2’ Reset Update: Crow Not Speaker, Do...</td>\n",
       "      <td>destiny 2' reset update: crow speaker, double ...</td>\n",
       "      <td>10</td>\n",
       "    </tr>\n",
       "    <tr>\n",
       "      <th>498</th>\n",
       "      <td>blogandpostid/blog/post/2092-5fee774dfa09d7000...</td>\n",
       "      <td>2020-12-31</td>\n",
       "      <td>Science</td>\n",
       "      <td>Science</td>\n",
       "      <td>Space and Astronomy</td>\n",
       "      <td>NASA’s First Mars Flyby Set The Stage For Toda...</td>\n",
       "      <td>nasa's mars flyby set stage today's rovers. we...</td>\n",
       "      <td>1</td>\n",
       "    </tr>\n",
       "    <tr>\n",
       "      <th>499</th>\n",
       "      <td>blogandpostid/blog/post/4507-5f2bfcd5d2aa84000...</td>\n",
       "      <td>2020-08-10</td>\n",
       "      <td>Food and Drink</td>\n",
       "      <td>Food &amp; Drink</td>\n",
       "      <td>Alcoholic Beverages</td>\n",
       "      <td>Lebanon Is Producing Excellent Mountain Wines....</td>\n",
       "      <td>lebanon producing excellent mountain wines. re...</td>\n",
       "      <td>19</td>\n",
       "    </tr>\n",
       "  </tbody>\n",
       "</table>\n",
       "<p>300 rows × 8 columns</p>\n",
       "</div>"
      ],
      "text/plain": [
       "                                                 natid    pub_date  \\\n",
       "200  blogandpostid/blog/post/1439-5f621d59249a6f000...  2020-09-16   \n",
       "201  blogandpostid/blog/post/7152-5fc7073f340d6d000...  2020-12-01   \n",
       "202  blogandpostid/blog/post/50404-5fac0d85d5fbc700...  2020-11-27   \n",
       "203  blogandpostid/blog/post/7109-5f553ed3480c1a000...  2020-09-06   \n",
       "204  blogandpostid/blog/post/25-5f7aa84b00e76800067...  2020-10-05   \n",
       "..                                                 ...         ...   \n",
       "495  blogandpostid/blog/post/4972-60105ac02ee113000...  2021-01-27   \n",
       "496  blogandpostid/blog/post/50564-5f47b422b0b20600...  2020-08-27   \n",
       "497  blogandpostid/blog/post/1174-6010527f4c0893000...  2021-01-26   \n",
       "498  blogandpostid/blog/post/2092-5fee774dfa09d7000...  2020-12-31   \n",
       "499  blogandpostid/blog/post/4507-5f2bfcd5d2aa84000...  2020-08-10   \n",
       "\n",
       "              category                   tier1                      tier2  \\\n",
       "200  Style and Fashion         Style & Fashion            Women's Fashion   \n",
       "201  News and Politics  Events and Attractions               Awards Shows   \n",
       "202             Travel                Shopping  Gifts and Greetings Cards   \n",
       "203             Sports                  Sports          American Football   \n",
       "204   Personal Finance        Personal Finance         Personal Investing   \n",
       "..                 ...                     ...                        ...   \n",
       "495        Real Estate             Real Estate        Developmental Sites   \n",
       "496  News and Politics       News and Politics                  Disasters   \n",
       "497       Video Gaming            Video Gaming          Video Game Genres   \n",
       "498            Science                 Science        Space and Astronomy   \n",
       "499     Food and Drink            Food & Drink        Alcoholic Beverages   \n",
       "\n",
       "                                               summary  \\\n",
       "200  Newest Bond Girl Becomes First Brand Ambassado...   \n",
       "201  Oscar Nominee Elliot Page Comes Out As Transge...   \n",
       "202  Holiday Gift Guide 2020: 9 Top Hotel Souvenirs...   \n",
       "203  The Kansas City Chiefs Make Good Use Of New Pr...   \n",
       "204  Riskier Gaming Stock: MGM Resorts Or Scientifi...   \n",
       "..                                                 ...   \n",
       "495  How Commercial Property Owners Can Cut Through...   \n",
       "496  Hurricane Laura Downgraded To Category 2, But ...   \n",
       "497  ‘Destiny 2’ Reset Update: Crow Not Speaker, Do...   \n",
       "498  NASA’s First Mars Flyby Set The Stage For Toda...   \n",
       "499  Lebanon Is Producing Excellent Mountain Wines....   \n",
       "\n",
       "                                         clean_summary  label  \n",
       "200  newest bond girl brand ambassador diamond indu...     17  \n",
       "201  oscar nominee elliot page comes transgender. t...      5  \n",
       "202  holiday gift guide 2020: 9 hotel souvenirs rel...     13  \n",
       "203  kansas city chiefs good use new practice squad...     18  \n",
       "204  riskier gaming stock: mgm resorts scientific g...     21  \n",
       "..                                                 ...    ...  \n",
       "495  commercial property owners cut hype cre tech. ...      7  \n",
       "496  hurricane laura downgraded category 2, life-th...      0  \n",
       "497  destiny 2' reset update: crow speaker, double ...     10  \n",
       "498  nasa's mars flyby set stage today's rovers. we...      1  \n",
       "499  lebanon producing excellent mountain wines. re...     19  \n",
       "\n",
       "[300 rows x 8 columns]"
      ]
     },
     "execution_count": 8,
     "metadata": {},
     "output_type": "execute_result"
    }
   ],
   "source": [
    "prim_labels = []\n",
    "sec_labels = []\n",
    "ter_labels = []\n",
    "\n",
    "prim_prob = []\n",
    "sec_prob = []\n",
    "ter_prob = []\n",
    "\n",
    "begin = 200 # 100 #0\n",
    "end = 500 # 200 #100\n",
    "df[begin:end]"
   ]
  },
  {
   "cell_type": "code",
   "execution_count": 9,
   "id": "0bda7e98",
   "metadata": {},
   "outputs": [
    {
     "name": "stdout",
     "output_type": "stream",
     "text": [
      "300\n",
      "time (mins) -  30.38 \n",
      "\n"
     ]
    }
   ],
   "source": [
    "start_time = time.time()\n",
    "\n",
    "art_list = df.clean_summary[begin:end].tolist()\n",
    "print(len(art_list))\n",
    "\n",
    "for i in range(len(art_list)):\n",
    "\n",
    "    res = classifier(art_list[i][:3200], candidate_labels, multi_label=True)\n",
    "    \n",
    "    prim_labels.append(res['labels'][0])\n",
    "    sec_labels.append(res['labels'][1])\n",
    "    ter_labels.append(res['labels'][2])\n",
    "    \n",
    "    prim_prob.append(res['scores'][0])\n",
    "    sec_prob.append(res['scores'][1])\n",
    "    ter_prob.append(res['scores'][2])\n",
    "\n",
    "print(\"time (mins) - \", round((time.time() - start_time)/60, 2), \"\\n\") \n",
    "\n",
    "# runtime: 100 rows - 10 mins #8.43"
   ]
  },
  {
   "cell_type": "code",
   "execution_count": 10,
   "id": "fb1a2e1f",
   "metadata": {},
   "outputs": [],
   "source": [
    "ml_data = pd.DataFrame(df[['natid', 'category', 'tier1', 'tier2', 'clean_summary']][begin:end])\n",
    "ml_data[\"prim_labels\"] = prim_labels\n",
    "ml_data[\"sec_labels\"] = sec_labels\n",
    "ml_data[\"ter_labels\"] = ter_labels\n",
    "\n",
    "ml_data[\"prim_scores\"] = prim_prob \n",
    "ml_data[\"sec_scores\"] = sec_prob \n",
    "ml_data[\"ter_scores\"] = ter_prob "
   ]
  },
  {
   "cell_type": "code",
   "execution_count": 11,
   "id": "399a0350",
   "metadata": {},
   "outputs": [
    {
     "name": "stdout",
     "output_type": "stream",
     "text": [
      "% rows where Tier1 present in either of three labels -  68\n",
      "% rows where Tier1 present in prim_labels            -  36\n"
     ]
    }
   ],
   "source": [
    "# TIER 1\n",
    "\n",
    "match_all = []\n",
    "match_prim = []\n",
    "\n",
    "for i in range(len(ml_data['tier1'])):\n",
    "    if ml_data['tier1'][i+200] in (ml_data['prim_labels'] + \" \" + ml_data['sec_labels'] + \" \" + ml_data['ter_labels'])[i+200]:\n",
    "        match_all.append(True)\n",
    "    \n",
    "    if ml_data['tier1'][i+200] in ml_data['prim_labels'][i+200]:\n",
    "        match_prim.append(True)\n",
    "        \n",
    "print(\"% rows where Tier1 present in either of three labels - \", round((len(match_all)/ml_data.shape[0])*100))\n",
    "print(\"% rows where Tier1 present in prim_labels            - \", round((len(match_prim)/ml_data.shape[0])*100))\n",
    "\n",
    "# 63-28, 72-43, 68-36"
   ]
  },
  {
   "cell_type": "code",
   "execution_count": 12,
   "id": "c63d19ab",
   "metadata": {},
   "outputs": [],
   "source": [
    "ml_data.to_csv(\"./mnet_test/ml_yahoo_t1_train_begin_\"+str(begin)+\".csv\", index=False)"
   ]
  },
  {
   "cell_type": "code",
   "execution_count": null,
   "id": "b38c2e10",
   "metadata": {},
   "outputs": [],
   "source": []
  },
  {
   "cell_type": "code",
   "execution_count": null,
   "id": "d67b0318",
   "metadata": {},
   "outputs": [],
   "source": []
  },
  {
   "cell_type": "markdown",
   "id": "327e884c",
   "metadata": {},
   "source": [
    "* Analyze results"
   ]
  },
  {
   "cell_type": "code",
   "execution_count": 15,
   "id": "753663c9",
   "metadata": {},
   "outputs": [
    {
     "name": "stdout",
     "output_type": "stream",
     "text": [
      "(100, 12)\n",
      "(100, 12)\n"
     ]
    }
   ],
   "source": [
    "ml1 = pd.read_csv(\"./data/ml_yahoo_t1_begin_0.csv\")\n",
    "ml2 = pd.read_csv(\"./data/ml_yahoo_t1_begin_100.csv\")\n",
    "\n",
    "print(ml1.shape)\n",
    "print(ml2.shape)"
   ]
  },
  {
   "cell_type": "code",
   "execution_count": 19,
   "id": "809fe178",
   "metadata": {},
   "outputs": [
    {
     "data": {
      "text/plain": [
       "(200, 12)"
      ]
     },
     "execution_count": 19,
     "metadata": {},
     "output_type": "execute_result"
    }
   ],
   "source": [
    "multi_labels = pd.concat([ml1, ml2])\n",
    "multi_labels.reset_index(drop=True, inplace=True)\n",
    "multi_labels.shape"
   ]
  },
  {
   "cell_type": "code",
   "execution_count": 25,
   "id": "365981ee",
   "metadata": {},
   "outputs": [
    {
     "data": {
      "text/plain": [
       "<AxesSubplot:>"
      ]
     },
     "execution_count": 25,
     "metadata": {},
     "output_type": "execute_result"
    },
    {
     "data": {
      "image/png": "[encoded data removed]",
      "text/plain": [
       "<Figure size 432x288 with 1 Axes>"
      ]
     },
     "metadata": {
      "needs_background": "light"
     },
     "output_type": "display_data"
    }
   ],
   "source": [
    "multi_labels.prim_scores.hist()"
   ]
  },
  {
   "cell_type": "code",
   "execution_count": 26,
   "id": "a49741a7",
   "metadata": {},
   "outputs": [
    {
     "data": {
      "text/plain": [
       "<AxesSubplot:>"
      ]
     },
     "execution_count": 26,
     "metadata": {},
     "output_type": "execute_result"
    },
    {
     "data": {
      "image/png": "[encoded data removed]",
      "text/plain": [
       "<Figure size 432x288 with 1 Axes>"
      ]
     },
     "metadata": {
      "needs_background": "light"
     },
     "output_type": "display_data"
    }
   ],
   "source": [
    "multi_labels.sec_scores.hist()"
   ]
  },
  {
   "cell_type": "code",
   "execution_count": 27,
   "id": "70b391aa",
   "metadata": {},
   "outputs": [
    {
     "data": {
      "text/plain": [
       "<AxesSubplot:>"
      ]
     },
     "execution_count": 27,
     "metadata": {},
     "output_type": "execute_result"
    },
    {
     "data": {
      "image/png": "[encoded data removed]",
      "text/plain": [
       "<Figure size 432x288 with 1 Axes>"
      ]
     },
     "metadata": {
      "needs_background": "light"
     },
     "output_type": "display_data"
    }
   ],
   "source": [
    "multi_labels.ter_scores.hist()"
   ]
  },
  {
   "cell_type": "code",
   "execution_count": 35,
   "id": "0e8e1645",
   "metadata": {},
   "outputs": [
    {
     "data": {
      "text/plain": [
       "prim_labels               sec_labels              ter_labels              \n",
       "Business and Finance      Careers                 Personal Finance            12\n",
       "                          Real Estate             Personal Finance             9\n",
       "                          Careers                 Technology & Computing       8\n",
       "Music and Audio           Pop Culture             Business and Finance         8\n",
       "Business and Finance      Personal Finance        Real Estate                  8\n",
       "                                                                              ..\n",
       "Pop Culture               Events and Attractions  Family and Relationships     1\n",
       "                                                  Shopping                     1\n",
       "Family and Relationships  Events and Attractions  Careers                      1\n",
       "Business and Finance      Shopping                Technology & Computing       1\n",
       "Healthy Living            Medical Health          Sports                       1\n",
       "Length: 99, dtype: int64"
      ]
     },
     "execution_count": 35,
     "metadata": {},
     "output_type": "execute_result"
    }
   ],
   "source": [
    "multi_labels[['prim_labels', 'sec_labels', 'ter_labels']].value_counts()"
   ]
  },
  {
   "cell_type": "code",
   "execution_count": null,
   "id": "82eb49f4",
   "metadata": {},
   "outputs": [],
   "source": []
  },
  {
   "cell_type": "code",
   "execution_count": null,
   "id": "f2db5fc4",
   "metadata": {},
   "outputs": [],
   "source": []
  },
  {
   "cell_type": "code",
   "execution_count": null,
   "id": "e062885d",
   "metadata": {},
   "outputs": [],
   "source": []
  },
  {
   "cell_type": "code",
   "execution_count": null,
   "id": "25c23486",
   "metadata": {},
   "outputs": [],
   "source": []
  },
  {
   "cell_type": "code",
   "execution_count": null,
   "id": "950ccebd",
   "metadata": {},
   "outputs": [],
   "source": []
  },
  {
   "cell_type": "code",
   "execution_count": null,
   "id": "5ef08e04",
   "metadata": {},
   "outputs": [],
   "source": []
  }
 ],
 "metadata": {
  "environment": {
   "name": "tf2-gpu.2-6.m79",
   "type": "gcloud",
   "uri": "gcr.io/deeplearning-platform-release/tf2-gpu.2-6:m79"
  },
  "kernelspec": {
   "display_name": "multi_labels",
   "language": "python",
   "name": "multi_labels"
  },
  "language_info": {
   "codemirror_mode": {
    "name": "ipython",
    "version": 3
   },
   "file_extension": ".py",
   "mimetype": "text/x-python",
   "name": "python",
   "nbconvert_exporter": "python",
   "pygments_lexer": "ipython3",
   "version": "3.7.10"
  }
 },
 "nbformat": 4,
 "nbformat_minor": 5
}
