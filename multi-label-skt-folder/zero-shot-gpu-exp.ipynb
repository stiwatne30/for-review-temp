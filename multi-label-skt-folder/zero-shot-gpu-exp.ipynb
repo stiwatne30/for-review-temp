{
 "cells": [
  {
   "cell_type": "code",
   "execution_count": 1,
   "id": "basic-baghdad",
   "metadata": {},
   "outputs": [],
   "source": [
    "'''Helper'''\n",
    "import pandas as pd\n",
    "import numpy as np\n",
    "import time\n",
    "import joblib\n",
    "import pickle\n",
    "import re\n",
    "import string\n",
    "import unicodedata\n",
    "import matplotlib.pyplot as plt\n",
    "from numpy import argmax\n",
    "\n",
    "'''Models'''\n",
    "from transformers import pipeline\n",
    "# from onnx_transformers import pipeline # to run this -- downgrade transformers library to 3.2.0\n",
    "\n",
    "'''Display'''\n",
    "import warnings\n",
    "warnings.filterwarnings('ignore')\n",
    "pd.set_option('display.float_format', lambda x: '%.1f' % x)"
   ]
  },
  {
   "cell_type": "code",
   "execution_count": 2,
   "id": "biblical-birthday",
   "metadata": {},
   "outputs": [],
   "source": [
    "import scipy\n",
    "# import spacy\n",
    "from sklearn.metrics.pairwise import cosine_similarity"
   ]
  },
  {
   "cell_type": "code",
   "execution_count": 3,
   "id": "monthly-representation",
   "metadata": {},
   "outputs": [
    {
     "data": {
      "text/plain": [
       "device(type='cuda', index=0)"
      ]
     },
     "execution_count": 3,
     "metadata": {},
     "output_type": "execute_result"
    }
   ],
   "source": [
    "import torch\n",
    "\n",
    "#Device\n",
    "\n",
    "device = torch.device(\"cuda:0\" if torch.cuda.is_available() else \"cpu\")\n",
    "device"
   ]
  },
  {
   "cell_type": "code",
   "execution_count": 4,
   "id": "broke-darwin",
   "metadata": {},
   "outputs": [
    {
     "name": "stdout",
     "output_type": "stream",
     "text": [
      "4.5.1\n"
     ]
    }
   ],
   "source": [
    "RANDOM_SEED = 1\n",
    "np.random.seed(RANDOM_SEED)\n",
    "torch.manual_seed(RANDOM_SEED)\n",
    "torch.cuda.manual_seed_all(RANDOM_SEED)\n",
    "\n",
    "import transformers\n",
    "print(transformers.__version__)"
   ]
  },
  {
   "cell_type": "code",
   "execution_count": 5,
   "id": "tutorial-albuquerque",
   "metadata": {},
   "outputs": [
    {
     "name": "stdout",
     "output_type": "stream",
     "text": [
      "Thu Sep  2 16:16:27 2021       \n",
      "+-----------------------------------------------------------------------------+\n",
      "| NVIDIA-SMI 450.80.02    Driver Version: 450.80.02    CUDA Version: 11.0     |\n",
      "|-------------------------------+----------------------+----------------------+\n",
      "| GPU  Name        Persistence-M| Bus-Id        Disp.A | Volatile Uncorr. ECC |\n",
      "| Fan  Temp  Perf  Pwr:Usage/Cap|         Memory-Usage | GPU-Util  Compute M. |\n",
      "|                               |                      |               MIG M. |\n",
      "|===============================+======================+======================|\n",
      "|   0  Tesla P4            Off  | 00000000:00:04.0 Off |                    0 |\n",
      "| N/A   58C    P0    25W /  75W |      2MiB /  7611MiB |      0%      Default |\n",
      "|                               |                      |                  N/A |\n",
      "+-------------------------------+----------------------+----------------------+\n",
      "|   1  Tesla P4            Off  | 00000000:00:05.0 Off |                    0 |\n",
      "| N/A   42C    P0    23W /  75W |      2MiB /  7611MiB |      0%      Default |\n",
      "|                               |                      |                  N/A |\n",
      "+-------------------------------+----------------------+----------------------+\n",
      "|   2  Tesla P4            Off  | 00000000:00:06.0 Off |                    0 |\n",
      "| N/A   36C    P0    23W /  75W |      2MiB /  7611MiB |      0%      Default |\n",
      "|                               |                      |                  N/A |\n",
      "+-------------------------------+----------------------+----------------------+\n",
      "|   3  Tesla P4            Off  | 00000000:00:07.0 Off |                    0 |\n",
      "| N/A   36C    P0    23W /  75W |      2MiB /  7611MiB |      3%      Default |\n",
      "|                               |                      |                  N/A |\n",
      "+-------------------------------+----------------------+----------------------+\n",
      "                                                                               \n",
      "+-----------------------------------------------------------------------------+\n",
      "| Processes:                                                                  |\n",
      "|  GPU   GI   CI        PID   Type   Process name                  GPU Memory |\n",
      "|        ID   ID                                                   Usage      |\n",
      "|=============================================================================|\n",
      "|  No running processes found                                                 |\n",
      "+-----------------------------------------------------------------------------+\n"
     ]
    }
   ],
   "source": [
    "!nvidia-smi"
   ]
  },
  {
   "cell_type": "code",
   "execution_count": 6,
   "id": "bigger-boxing",
   "metadata": {},
   "outputs": [
    {
     "name": "stdout",
     "output_type": "stream",
     "text": [
      "True\n",
      "Tesla P4\n"
     ]
    }
   ],
   "source": [
    "print(torch.cuda.is_available())\n",
    "print(torch.cuda.get_device_name(0))"
   ]
  },
  {
   "cell_type": "code",
   "execution_count": 8,
   "id": "enhanced-sydney",
   "metadata": {},
   "outputs": [
    {
     "name": "stdout",
     "output_type": "stream",
     "text": [
      "|===========================================================================|\n",
      "|                  PyTorch CUDA memory summary, device ID 0                 |\n",
      "|---------------------------------------------------------------------------|\n",
      "|            CUDA OOMs: 0            |        cudaMalloc retries: 0         |\n",
      "|===========================================================================|\n",
      "|        Metric         | Cur Usage  | Peak Usage | Tot Alloc  | Tot Freed  |\n",
      "|---------------------------------------------------------------------------|\n",
      "| Allocated memory      |       0 B  |       0 B  |       0 B  |       0 B  |\n",
      "|       from large pool |       0 B  |       0 B  |       0 B  |       0 B  |\n",
      "|       from small pool |       0 B  |       0 B  |       0 B  |       0 B  |\n",
      "|---------------------------------------------------------------------------|\n",
      "| Active memory         |       0 B  |       0 B  |       0 B  |       0 B  |\n",
      "|       from large pool |       0 B  |       0 B  |       0 B  |       0 B  |\n",
      "|       from small pool |       0 B  |       0 B  |       0 B  |       0 B  |\n",
      "|---------------------------------------------------------------------------|\n",
      "| GPU reserved memory   |       0 B  |       0 B  |       0 B  |       0 B  |\n",
      "|       from large pool |       0 B  |       0 B  |       0 B  |       0 B  |\n",
      "|       from small pool |       0 B  |       0 B  |       0 B  |       0 B  |\n",
      "|---------------------------------------------------------------------------|\n",
      "| Non-releasable memory |       0 B  |       0 B  |       0 B  |       0 B  |\n",
      "|       from large pool |       0 B  |       0 B  |       0 B  |       0 B  |\n",
      "|       from small pool |       0 B  |       0 B  |       0 B  |       0 B  |\n",
      "|---------------------------------------------------------------------------|\n",
      "| Allocations           |       0    |       0    |       0    |       0    |\n",
      "|       from large pool |       0    |       0    |       0    |       0    |\n",
      "|       from small pool |       0    |       0    |       0    |       0    |\n",
      "|---------------------------------------------------------------------------|\n",
      "| Active allocs         |       0    |       0    |       0    |       0    |\n",
      "|       from large pool |       0    |       0    |       0    |       0    |\n",
      "|       from small pool |       0    |       0    |       0    |       0    |\n",
      "|---------------------------------------------------------------------------|\n",
      "| GPU reserved segments |       0    |       0    |       0    |       0    |\n",
      "|       from large pool |       0    |       0    |       0    |       0    |\n",
      "|       from small pool |       0    |       0    |       0    |       0    |\n",
      "|---------------------------------------------------------------------------|\n",
      "| Non-releasable allocs |       0    |       0    |       0    |       0    |\n",
      "|       from large pool |       0    |       0    |       0    |       0    |\n",
      "|       from small pool |       0    |       0    |       0    |       0    |\n",
      "|===========================================================================|\n",
      "\n"
     ]
    }
   ],
   "source": [
    "print(torch.cuda.memory_summary(device=0, abbreviated=False))"
   ]
  },
  {
   "cell_type": "markdown",
   "id": "precious-gossip",
   "metadata": {},
   "source": [
    "### Input data"
   ]
  },
  {
   "cell_type": "code",
   "execution_count": 9,
   "id": "usual-shield",
   "metadata": {},
   "outputs": [
    {
     "name": "stdout",
     "output_type": "stream",
     "text": [
      "(11459, 8)\n"
     ]
    },
    {
     "data": {
      "text/html": [
       "<div>\n",
       "<style scoped>\n",
       "    .dataframe tbody tr th:only-of-type {\n",
       "        vertical-align: middle;\n",
       "    }\n",
       "\n",
       "    .dataframe tbody tr th {\n",
       "        vertical-align: top;\n",
       "    }\n",
       "\n",
       "    .dataframe thead th {\n",
       "        text-align: right;\n",
       "    }\n",
       "</style>\n",
       "<table border=\"1\" class=\"dataframe\">\n",
       "  <thead>\n",
       "    <tr style=\"text-align: right;\">\n",
       "      <th></th>\n",
       "      <th>natid</th>\n",
       "      <th>pub_date</th>\n",
       "      <th>category</th>\n",
       "      <th>tier1</th>\n",
       "      <th>tier2</th>\n",
       "      <th>summary</th>\n",
       "      <th>clean_summary</th>\n",
       "      <th>label</th>\n",
       "    </tr>\n",
       "  </thead>\n",
       "  <tbody>\n",
       "    <tr>\n",
       "      <th>0</th>\n",
       "      <td>blogandpostid/blog/post/50808-607eda2d97a5b000...</td>\n",
       "      <td>2021-04-20</td>\n",
       "      <td>Personal Finance</td>\n",
       "      <td>Real Estate</td>\n",
       "      <td>Real Estate Renting and Leasing</td>\n",
       "      <td>WeWork To Accept Crypto—And Will Pay Its Landl...</td>\n",
       "      <td>wework accept crypto pay landlords crypto. top...</td>\n",
       "      <td>7</td>\n",
       "    </tr>\n",
       "    <tr>\n",
       "      <th>1</th>\n",
       "      <td>blogandpostid/blog/post/4587-60d354bc9690ca000...</td>\n",
       "      <td>2021-06-23</td>\n",
       "      <td>Food and Drink</td>\n",
       "      <td>Travel</td>\n",
       "      <td>Travel Type</td>\n",
       "      <td>Celebrate The Lodge At Woodloch’s 15-Year Anni...</td>\n",
       "      <td>celebrate lodge woodloch's 15-year anniversary...</td>\n",
       "      <td>23</td>\n",
       "    </tr>\n",
       "    <tr>\n",
       "      <th>2</th>\n",
       "      <td>blogandpostid/blog/post/3113-5f526f97559f59000...</td>\n",
       "      <td>2020-09-04</td>\n",
       "      <td>Music and Audio</td>\n",
       "      <td>Music and Audio</td>\n",
       "      <td>Hip Hop Music</td>\n",
       "      <td>Cardi B And Megan Thee Stallion Both Earn Thei...</td>\n",
       "      <td>cardi b megan thee stallion earn no. 1 hit you...</td>\n",
       "      <td>12</td>\n",
       "    </tr>\n",
       "    <tr>\n",
       "      <th>3</th>\n",
       "      <td>blogandpostid/blog/post/5259-6015f002c7824f000...</td>\n",
       "      <td>2021-02-09</td>\n",
       "      <td>Travel</td>\n",
       "      <td>Shopping</td>\n",
       "      <td>Gifts and Greetings Cards</td>\n",
       "      <td>Valentine’s Day Gift Guide: The Most Romantic ...</td>\n",
       "      <td>valentine's day gift guide: romantic hotel pac...</td>\n",
       "      <td>13</td>\n",
       "    </tr>\n",
       "    <tr>\n",
       "      <th>4</th>\n",
       "      <td>blogandpostid/blog/post/4983-5f8064d69a4142000...</td>\n",
       "      <td>2020-10-14</td>\n",
       "      <td>Shopping</td>\n",
       "      <td>Shopping</td>\n",
       "      <td>Sales and Promotions</td>\n",
       "      <td>The Best Prime Day Bike Deals For Saving Big o...</td>\n",
       "      <td>best prime day bike deals saving big bicycles ...</td>\n",
       "      <td>13</td>\n",
       "    </tr>\n",
       "  </tbody>\n",
       "</table>\n",
       "</div>"
      ],
      "text/plain": [
       "                                               natid    pub_date  \\\n",
       "0  blogandpostid/blog/post/50808-607eda2d97a5b000...  2021-04-20   \n",
       "1  blogandpostid/blog/post/4587-60d354bc9690ca000...  2021-06-23   \n",
       "2  blogandpostid/blog/post/3113-5f526f97559f59000...  2020-09-04   \n",
       "3  blogandpostid/blog/post/5259-6015f002c7824f000...  2021-02-09   \n",
       "4  blogandpostid/blog/post/4983-5f8064d69a4142000...  2020-10-14   \n",
       "\n",
       "           category            tier1                            tier2  \\\n",
       "0  Personal Finance      Real Estate  Real Estate Renting and Leasing   \n",
       "1    Food and Drink           Travel                      Travel Type   \n",
       "2   Music and Audio  Music and Audio                    Hip Hop Music   \n",
       "3            Travel         Shopping        Gifts and Greetings Cards   \n",
       "4          Shopping         Shopping             Sales and Promotions   \n",
       "\n",
       "                                             summary  \\\n",
       "0  WeWork To Accept Crypto—And Will Pay Its Landl...   \n",
       "1  Celebrate The Lodge At Woodloch’s 15-Year Anni...   \n",
       "2  Cardi B And Megan Thee Stallion Both Earn Thei...   \n",
       "3  Valentine’s Day Gift Guide: The Most Romantic ...   \n",
       "4  The Best Prime Day Bike Deals For Saving Big o...   \n",
       "\n",
       "                                       clean_summary  label  \n",
       "0  wework accept crypto pay landlords crypto. top...      7  \n",
       "1  celebrate lodge woodloch's 15-year anniversary...     23  \n",
       "2  cardi b megan thee stallion earn no. 1 hit you...     12  \n",
       "3  valentine's day gift guide: romantic hotel pac...     13  \n",
       "4  best prime day bike deals saving big bicycles ...     13  "
      ]
     },
     "execution_count": 9,
     "metadata": {},
     "output_type": "execute_result"
    }
   ],
   "source": [
    "df = pd.read_pickle(\"preprocess_mnet_train.pkl\")\n",
    "df.reset_index(drop=True, inplace=True)\n",
    "\n",
    "print(df.shape)\n",
    "df.head()"
   ]
  },
  {
   "cell_type": "code",
   "execution_count": 10,
   "id": "adverse-chess",
   "metadata": {},
   "outputs": [
    {
     "data": {
      "text/plain": [
       "count    11459\n",
       "mean      3597\n",
       "std       2125\n",
       "min        433\n",
       "25%       2231\n",
       "50%       3155\n",
       "75%       4333\n",
       "max      30344\n",
       "Name: clean_summary, dtype: int64"
      ]
     },
     "execution_count": 10,
     "metadata": {},
     "output_type": "execute_result"
    }
   ],
   "source": [
    "df.clean_summary.str.len().describe().apply(int)"
   ]
  },
  {
   "cell_type": "code",
   "execution_count": 11,
   "id": "injured-reset",
   "metadata": {},
   "outputs": [
    {
     "name": "stdout",
     "output_type": "stream",
     "text": [
      "28\n"
     ]
    }
   ],
   "source": [
    "test_5 = df.clean_summary[:5].tolist()\n",
    "test_1 = df.clean_summary[0]\n",
    "candidate_labels = df.tier1.unique().tolist()\n",
    "print(len(candidate_labels))"
   ]
  },
  {
   "cell_type": "code",
   "execution_count": 12,
   "id": "suspected-snake",
   "metadata": {},
   "outputs": [],
   "source": [
    "classifier = pipeline(\"zero-shot-classification\", framework=\"pt\", device=0)"
   ]
  },
  {
   "cell_type": "code",
   "execution_count": 13,
   "id": "individual-protest",
   "metadata": {},
   "outputs": [
    {
     "name": "stdout",
     "output_type": "stream",
     "text": [
      "query time (mins) -  0.19\n"
     ]
    }
   ],
   "source": [
    "import torch, gc\n",
    "\n",
    "start_time = time.time()\n",
    "\n",
    "results = []\n",
    "\n",
    "for i in range(len(test_5)):\n",
    "    gc.collect()\n",
    "    torch.cuda.empty_cache()\n",
    "    results.append(classifier(test_5[i][:1500], candidate_labels, multi_label=True))\n",
    "    \n",
    "print(\"query time (mins) - \", round((time.time() - start_time)/60, 2))"
   ]
  },
  {
   "cell_type": "code",
   "execution_count": 14,
   "id": "worse-circle",
   "metadata": {},
   "outputs": [
    {
     "data": {
      "text/plain": [
       "[{'sequence': \"wework accept crypto pay landlords crypto. topline wework start accepting payment cryptocurrencies intends hold assets balance sheet, office sharing giant announced tuesday, similar elon musk's tesla march said retain bitcoin purchase cars signal confidence cryptocurrencies inch mainstream acceptance. key facts wework said accept bitcoin, ethereum, usd coin, paxos cryptocurrencies payment offerings, including memberships. company said retain payments balance sheet converting currency look pay landlords partners crypto amenable. coinbase, usa' largest crypto exchange went public l ast week, client pay wework membership cryptocurrency, statement said. wework chief executive sandeep mathrani, said company needs adapt needs growing membership fintech sector service new economy. key background cryptocurrencies increasingly popular form payment. elon musk's tesla, holds sizable investment currency, attracted headlines announced accept bitcoin payment cars. venmo announced support cryptocurrencies ontuesday, latest payment app embrace them. watch wework, failed attempt going public 2019, set public spac, company announced march. valued $9 billion, huge step 2019 valuation $47 billion round private investment softbank. reading bitcoin welcomes tesla, mastercard, bny mellon, venmo cryptocurrency party (forbes) wework public spac deal $9 billion valuation 20% 2019 softbank valuation (forbes) coinbase skyrockets nasdaq listing, landing $105 billion valuation day trading (forbes) venmo l\",\n",
       "  'labels': ['Business and Finance',\n",
       "   'Technology & Computing',\n",
       "   'Personal Finance',\n",
       "   'Careers',\n",
       "   'Family and Relationships',\n",
       "   'Events and Attractions',\n",
       "   'Real Estate',\n",
       "   'Hobbies & Interests',\n",
       "   'Travel',\n",
       "   'Automotive',\n",
       "   'Science',\n",
       "   'Shopping',\n",
       "   'Style & Fashion',\n",
       "   'Healthy Living',\n",
       "   'Fine Art',\n",
       "   'Education',\n",
       "   'News and Politics',\n",
       "   'Music and Audio',\n",
       "   'Pets',\n",
       "   'Home & Garden',\n",
       "   'Movies',\n",
       "   'Sports',\n",
       "   'Pop Culture',\n",
       "   'Medical Health',\n",
       "   'Television',\n",
       "   'Video Gaming',\n",
       "   'Books and Literature',\n",
       "   'Food & Drink'],\n",
       "  'scores': [0.9328141808509827,\n",
       "   0.9147992134094238,\n",
       "   0.8111104965209961,\n",
       "   0.7636908292770386,\n",
       "   0.7424634695053101,\n",
       "   0.5774635076522827,\n",
       "   0.554477334022522,\n",
       "   0.5314633846282959,\n",
       "   0.5009813904762268,\n",
       "   0.4068203270435333,\n",
       "   0.40642988681793213,\n",
       "   0.3881174325942993,\n",
       "   0.3601665198802948,\n",
       "   0.34341344237327576,\n",
       "   0.32192403078079224,\n",
       "   0.31345313787460327,\n",
       "   0.30712684988975525,\n",
       "   0.3022664189338684,\n",
       "   0.2663275897502899,\n",
       "   0.2172349989414215,\n",
       "   0.19070082902908325,\n",
       "   0.18908976018428802,\n",
       "   0.1683664321899414,\n",
       "   0.14867734909057617,\n",
       "   0.14709745347499847,\n",
       "   0.09224199503660202,\n",
       "   0.07576481997966766,\n",
       "   0.05843954533338547]},\n",
       " {'sequence': \"celebrate lodge woodloch's 15-year anniversary new spa treatments, activities, cocktail enjoy home. month marks 15-year anniversary lodge woodloch , country's celebrated wellness destinations. help longtime regulars first-time guests alike celebrate occasion, important, reset pandemic, oasis spanning 500 acres poconos mountains offering new classes, spa treatments, food beverage experiences. award-winning 40,000 square-foot spa, wellness seekers find new summer treatment menu featuring haia wellness , genderless, eco-certified skincare brand mike bruggeman. organic certification lodge woodloch, science-based ingredients utilizing best nature offer won over, explains spa director nancy deaton. example age optimizing & cellular health collection, incorporates ingredients pulled tree bark shade grown botanicals (like fern moss) fight oxidative stress promote skin wellness cellular level. new treatments , deaton recommends lotus facial gemstone journey massage promote self-love acceptance, find one's inner beauty help glow inside out. 75-minute lotus massage commences personalized skin analysis, followed unique combination vibrational sound, aromatherapy, gemstones, breath work, positive affirmations complete sense calm well-being. gemstone journey massage, lasts 75 minutes, spotlights gemstones therapist select specific needs help clear balance energy head toe. activity calendar lodge woodloch featuring original classes season. unleash inner artist channeling sense calm dot mand\",\n",
       "  'labels': ['Healthy Living',\n",
       "   'Events and Attractions',\n",
       "   'Travel',\n",
       "   'Music and Audio',\n",
       "   'Hobbies & Interests',\n",
       "   'Science',\n",
       "   'Food & Drink',\n",
       "   'Family and Relationships',\n",
       "   'Style & Fashion',\n",
       "   'Home & Garden',\n",
       "   'Fine Art',\n",
       "   'Careers',\n",
       "   'Personal Finance',\n",
       "   'Education',\n",
       "   'Books and Literature',\n",
       "   'Pop Culture',\n",
       "   'Shopping',\n",
       "   'Real Estate',\n",
       "   'Sports',\n",
       "   'Technology & Computing',\n",
       "   'Automotive',\n",
       "   'Business and Finance',\n",
       "   'Medical Health',\n",
       "   'Television',\n",
       "   'Movies',\n",
       "   'Pets',\n",
       "   'Video Gaming',\n",
       "   'News and Politics'],\n",
       "  'scores': [0.8732089400291443,\n",
       "   0.8575790524482727,\n",
       "   0.7136670351028442,\n",
       "   0.5340941548347473,\n",
       "   0.49527665972709656,\n",
       "   0.4619784653186798,\n",
       "   0.38623523712158203,\n",
       "   0.364605575799942,\n",
       "   0.35701295733451843,\n",
       "   0.28762006759643555,\n",
       "   0.280891478061676,\n",
       "   0.1849677562713623,\n",
       "   0.14378972351551056,\n",
       "   0.13948103785514832,\n",
       "   0.1316480040550232,\n",
       "   0.12725377082824707,\n",
       "   0.12163424491882324,\n",
       "   0.11790618300437927,\n",
       "   0.08666517585515976,\n",
       "   0.06295362859964371,\n",
       "   0.05943084880709648,\n",
       "   0.05378836765885353,\n",
       "   0.0503610335290432,\n",
       "   0.04455239325761795,\n",
       "   0.039978235960006714,\n",
       "   0.03803486004471779,\n",
       "   0.03446318209171295,\n",
       "   0.022429540753364563]},\n",
       " {'sequence': \"cardi b megan thee stallion earn no. 1 hit you.k. wap'. weeks time you.k. singles chart, cardi b megan thee stallion's wap finally risen way spot, earning rappers no. 1 hit country. track debuted no. 4 mid-august quickly rose no. 2 tally, held pair frames. now, reached summit, pushing joel corry mnek's head & heart throne, ruled consecutive turns. tune, expected serve latest single cardi b's forthcoming sophomore full-length (which release date yet), fifth 10 country powerhouse rapper. collaborator megan thee stallion reached highest tier chart twice, scored appearance inside region months ago savage. wap came along, cardi b's highest-charting cut tally remix bruno mars' finesse, lifted no. 5. megan thee stallion's savage pushed no. 3 country. wap reportedly first-ever no. 1 hit you.k. female rappers. track sees women working primarily hip-hop return summit time years, remains fairly rare occurrence territory.\",\n",
       "  'labels': ['Music and Audio',\n",
       "   'Pop Culture',\n",
       "   'Careers',\n",
       "   'Personal Finance',\n",
       "   'Science',\n",
       "   'Travel',\n",
       "   'Movies',\n",
       "   'Sports',\n",
       "   'Events and Attractions',\n",
       "   'Family and Relationships',\n",
       "   'Technology & Computing',\n",
       "   'Style & Fashion',\n",
       "   'Fine Art',\n",
       "   'Hobbies & Interests',\n",
       "   'Automotive',\n",
       "   'Business and Finance',\n",
       "   'Pets',\n",
       "   'Healthy Living',\n",
       "   'News and Politics',\n",
       "   'Shopping',\n",
       "   'Home & Garden',\n",
       "   'Medical Health',\n",
       "   'Education',\n",
       "   'Television',\n",
       "   'Real Estate',\n",
       "   'Video Gaming',\n",
       "   'Food & Drink',\n",
       "   'Books and Literature'],\n",
       "  'scores': [0.9339802265167236,\n",
       "   0.6548512578010559,\n",
       "   0.5988875031471252,\n",
       "   0.5403031706809998,\n",
       "   0.5365245938301086,\n",
       "   0.5238497257232666,\n",
       "   0.4532662034034729,\n",
       "   0.41889506578445435,\n",
       "   0.41038674116134644,\n",
       "   0.38996297121047974,\n",
       "   0.37036025524139404,\n",
       "   0.3680506944656372,\n",
       "   0.35430145263671875,\n",
       "   0.3527604937553406,\n",
       "   0.35116079449653625,\n",
       "   0.3146635890007019,\n",
       "   0.2973088026046753,\n",
       "   0.2948283553123474,\n",
       "   0.2711508870124817,\n",
       "   0.2705640196800232,\n",
       "   0.253822386264801,\n",
       "   0.252427875995636,\n",
       "   0.24539713561534882,\n",
       "   0.17744070291519165,\n",
       "   0.17138506472110748,\n",
       "   0.15381957590579987,\n",
       "   0.10956798493862152,\n",
       "   0.080183245241642]},\n",
       " {'sequence': \"valentine's day gift guide: romantic hotel packages usa mexico. valentine's day, gift romantic escape lavish hotel packages ultra-indulgent weekend lover. wintry cottage retreat hamptons helicopter, sunset sail cabo notebook-inspired weekend charleston, romantic (and deluxe) hotel packages usa mexico. drake hotel's gesture grandeur package chicago's iconic drake hotel , celebrating 100 th anniversary year, offering gesture grandeur package over-the-top romantic weekend. addition accommodations hidden residence featuring floral scaping hotel's onsite flower shop, mangel florist, couples enjoy private dancing violinist gold coast room, seven-course candlelit meal, private breakfast caf oak diner marilyn monroe joe dimaggio carved initials, private photography atop hotel, more. package starts $150,000 booked . viceroy los cabos romance package couples visiting viceroy los cabos valentine's day weekend enjoy special one-on-one time unique array romantic activities offer iconic resort special valentine's day getaway rooms package. couples enjoy spa experiences, sunset sail pelican sunset yacht charter , special valentine's day dinner nidito. package starts $25,000 booked variety experience options. winter weekend reform club nestled picturesque village amagansett east hamptons sits reform club, charming retreat suites cottages. valentine's day, book round-trip helicopter flights blade manhattan east hampton, receive three-night stay king suite reform club complete transportation, \",\n",
       "  'labels': ['Travel',\n",
       "   'Events and Attractions',\n",
       "   'Personal Finance',\n",
       "   'Real Estate',\n",
       "   'Family and Relationships',\n",
       "   'Hobbies & Interests',\n",
       "   'Fine Art',\n",
       "   'Careers',\n",
       "   'Style & Fashion',\n",
       "   'Healthy Living',\n",
       "   'Music and Audio',\n",
       "   'Pop Culture',\n",
       "   'Pets',\n",
       "   'Education',\n",
       "   'Home & Garden',\n",
       "   'Science',\n",
       "   'Shopping',\n",
       "   'Business and Finance',\n",
       "   'Food & Drink',\n",
       "   'Automotive',\n",
       "   'Television',\n",
       "   'Sports',\n",
       "   'Movies',\n",
       "   'Technology & Computing',\n",
       "   'Books and Literature',\n",
       "   'Medical Health',\n",
       "   'Video Gaming',\n",
       "   'News and Politics'],\n",
       "  'scores': [0.8173984289169312,\n",
       "   0.6924011707305908,\n",
       "   0.6433039307594299,\n",
       "   0.6323467493057251,\n",
       "   0.5886983275413513,\n",
       "   0.5880408883094788,\n",
       "   0.5419117212295532,\n",
       "   0.4958425760269165,\n",
       "   0.49389854073524475,\n",
       "   0.4480735659599304,\n",
       "   0.39759060740470886,\n",
       "   0.38247475028038025,\n",
       "   0.36549559235572815,\n",
       "   0.339347779750824,\n",
       "   0.3224329948425293,\n",
       "   0.3025505542755127,\n",
       "   0.24600854516029358,\n",
       "   0.22208362817764282,\n",
       "   0.2148463875055313,\n",
       "   0.21306133270263672,\n",
       "   0.20958364009857178,\n",
       "   0.19167745113372803,\n",
       "   0.19011984765529633,\n",
       "   0.1884949803352356,\n",
       "   0.1462368369102478,\n",
       "   0.12178152054548264,\n",
       "   0.11573050171136856,\n",
       "   0.08916648477315903]},\n",
       " {'sequence': \"best prime day bike deals saving big bicycles biking accessories. bicycle small purchase. good bike expensive hard choose, need consider style frame size use case. research type bike want best bike kids shopping list, comes finding best bicycle prices, looking right place. amazon prime day bike deals help save dozens hundreds dollars bike purchase, time gear buy bike eyeing year. (they lots great sales cycling accessories, stop cycle alone.) spin wheels, forgive bike pun, 2020 seen bike sales surge shortages spike; hesitate long, miss chance amazon prime day bike deal getting bike want sales ended. schwinn vantage rx 1 gravel adventure bike rides roads, fields, semi-managed trails, hybrid bike schwinn great choice. ' s especially true 30% prime day deal saves hundreds. bike responsive disc brakes, 18-speed drivetrain, handlebars allow multiple grip positions. schwinn voyageur electric bike comfortable upright bike perfect bike touring. electric motor offer pedal assistance 60 miles single charge, second battery swap drained unit distance. lcd screen keeps apprised battery life range, depleted battery bike easy ride added boost. schwinn vantage fxe electric sport hybrid bike shop right time, stand save nearly thousand dollars capable cruising bike, electric motor assist pedaling 20 miles hour. 50 mile range urban suburban conditions, bike perfect commuters fully charged hours. viro rides vega 2-in-1 transforming electric scooter & mini bike unique hybrid riding toy configured \",\n",
       "  'labels': ['Shopping',\n",
       "   'Personal Finance',\n",
       "   'Travel',\n",
       "   'Hobbies & Interests',\n",
       "   'Sports',\n",
       "   'Careers',\n",
       "   'Business and Finance',\n",
       "   'Style & Fashion',\n",
       "   'Technology & Computing',\n",
       "   'Science',\n",
       "   'Family and Relationships',\n",
       "   'Healthy Living',\n",
       "   'Automotive',\n",
       "   'Pop Culture',\n",
       "   'Fine Art',\n",
       "   'Events and Attractions',\n",
       "   'Television',\n",
       "   'Pets',\n",
       "   'Medical Health',\n",
       "   'Education',\n",
       "   'Movies',\n",
       "   'Music and Audio',\n",
       "   'Home & Garden',\n",
       "   'Real Estate',\n",
       "   'News and Politics',\n",
       "   'Video Gaming',\n",
       "   'Books and Literature',\n",
       "   'Food & Drink'],\n",
       "  'scores': [0.8477063775062561,\n",
       "   0.8314882516860962,\n",
       "   0.8228642344474792,\n",
       "   0.5602191090583801,\n",
       "   0.5600208640098572,\n",
       "   0.4647235572338104,\n",
       "   0.46323391795158386,\n",
       "   0.39112815260887146,\n",
       "   0.381893515586853,\n",
       "   0.34448328614234924,\n",
       "   0.2857409417629242,\n",
       "   0.27963539958000183,\n",
       "   0.23958824574947357,\n",
       "   0.1690918207168579,\n",
       "   0.1640191376209259,\n",
       "   0.14932775497436523,\n",
       "   0.1440194994211197,\n",
       "   0.13648802042007446,\n",
       "   0.1131577119231224,\n",
       "   0.11182494461536407,\n",
       "   0.08672082424163818,\n",
       "   0.0853249654173851,\n",
       "   0.07289673388004303,\n",
       "   0.06509535014629364,\n",
       "   0.05374149978160858,\n",
       "   0.05164048820734024,\n",
       "   0.03783126175403595,\n",
       "   0.032597918063402176]}]"
      ]
     },
     "execution_count": 14,
     "metadata": {},
     "output_type": "execute_result"
    }
   ],
   "source": [
    "results"
   ]
  },
  {
   "cell_type": "code",
   "execution_count": 15,
   "id": "suitable-medium",
   "metadata": {},
   "outputs": [
    {
     "name": "stdout",
     "output_type": "stream",
     "text": [
      "|===========================================================================|\n",
      "|                  PyTorch CUDA memory summary, device ID 0                 |\n",
      "|---------------------------------------------------------------------------|\n",
      "|            CUDA OOMs: 0            |        cudaMalloc retries: 0         |\n",
      "|===========================================================================|\n",
      "|        Metric         | Cur Usage  | Peak Usage | Tot Alloc  | Tot Freed  |\n",
      "|---------------------------------------------------------------------------|\n",
      "| Allocated memory      |    1553 MB |    3896 MB |  196933 MB |  195379 MB |\n",
      "|       from large pool |    1552 MB |    3895 MB |  196906 MB |  195353 MB |\n",
      "|       from small pool |       1 MB |       2 MB |      27 MB |      25 MB |\n",
      "|---------------------------------------------------------------------------|\n",
      "| Active memory         |    1553 MB |    3896 MB |  196933 MB |  195379 MB |\n",
      "|       from large pool |    1552 MB |    3895 MB |  196906 MB |  195353 MB |\n",
      "|       from small pool |       1 MB |       2 MB |      27 MB |      25 MB |\n",
      "|---------------------------------------------------------------------------|\n",
      "| GPU reserved memory   |    4032 MB |    4152 MB |   13204 MB |    9172 MB |\n",
      "|       from large pool |    4028 MB |    4148 MB |   13192 MB |    9164 MB |\n",
      "|       from small pool |       4 MB |       4 MB |      12 MB |       8 MB |\n",
      "|---------------------------------------------------------------------------|\n",
      "| Non-releasable memory |   26731 KB |  542790 KB |   71990 MB |   71963 MB |\n",
      "|       from large pool |   26252 KB |  542444 KB |   71954 MB |   71928 MB |\n",
      "|       from small pool |     479 KB |    2060 KB |      35 MB |      35 MB |\n",
      "|---------------------------------------------------------------------------|\n",
      "| Allocations           |     515    |     577    |    4650    |    4135    |\n",
      "|       from large pool |     196    |     255    |    3589    |    3393    |\n",
      "|       from small pool |     319    |     326    |    1061    |     742    |\n",
      "|---------------------------------------------------------------------------|\n",
      "| Active allocs         |     515    |     577    |    4650    |    4135    |\n",
      "|       from large pool |     196    |     255    |    3589    |    3393    |\n",
      "|       from small pool |     319    |     326    |    1061    |     742    |\n",
      "|---------------------------------------------------------------------------|\n",
      "| GPU reserved segments |     101    |     103    |     189    |      88    |\n",
      "|       from large pool |      99    |     101    |     183    |      84    |\n",
      "|       from small pool |       2    |       2    |       6    |       4    |\n",
      "|---------------------------------------------------------------------------|\n",
      "| Non-releasable allocs |       5    |      28    |    2762    |    2757    |\n",
      "|       from large pool |       4    |      27    |    2420    |    2416    |\n",
      "|       from small pool |       1    |       4    |     342    |     341    |\n",
      "|===========================================================================|\n",
      "\n"
     ]
    }
   ],
   "source": [
    "print(torch.cuda.memory_summary(device=0, abbreviated=False))"
   ]
  },
  {
   "cell_type": "markdown",
   "id": "super-syndrome",
   "metadata": {},
   "source": [
    "**Requirements.txt**\n",
    "\n",
    "git+https://github.com/huggingface/transformers.git\n",
    "* below was to speed up zero-shot transform pipeline. Works only with transformers==3.2.0. \n",
    "* Had to downgrade to my \"transformers\" library to test. Dint work out i.e. saw no speed increase in getting zero-shot sentiments\n",
    "* So upgraded transformers again to 4.5.1 <br>\n",
    "\n",
    "git+https://github.com/patil-suraj/onnx_transformers  "
   ]
  },
  {
   "cell_type": "markdown",
   "id": "regular-castle",
   "metadata": {},
   "source": [
    "**Zero-shot classification**<br>\n",
    "[Ref1](https://www.kaggle.com/foolofatook/zero-shot-classification-with-huggingface-pipeline) [Ref2](https://medium.com/@b.terryjack/zero-shot-classification-584bb39da2e2) <br>\n",
    "[This is very slow](https://twitter.com/joeddav/status/1363543296166002688) [Slow 2](https://discuss.huggingface.co/t/way-to-make-inference-zero-shot-pipeline-faster/1384/11)\n",
    "<br> \n",
    "**To get sentiment of tweets**\n",
    "See engagement by sentiment and subjectivity for Forbes and others"
   ]
  },
  {
   "cell_type": "code",
   "execution_count": null,
   "id": "standing-feature",
   "metadata": {},
   "outputs": [],
   "source": [
    "classifier = pipeline(\"zero-shot-classification\")\n",
    "# TUTORIAL\n",
    "\n",
    "seq = \"The GDP of many countries have been affected by this pandemic.\"\n",
    "candidate_labels = [\"politics\", \"public health\", \"economics\"]\n",
    "\n",
    "classifier(seq, candidate_labels)\n",
    "\n",
    "sequences = [\n",
    "    \"Tenet is simply an incredible film with deep complex concepts to unravel well after the credits roll.\",\n",
    "    \"The Social Dilemma is densely packed yet lively and entertaining documentary\"\n",
    "]\n",
    "candidate_labels = [\"positive\", \"negative\"]\n",
    "\n",
    "classifier(sequences, candidate_labels)"
   ]
  },
  {
   "cell_type": "code",
   "execution_count": 18,
   "id": "graduate-stephen",
   "metadata": {},
   "outputs": [],
   "source": [
    "# with ONNX pipeline to speed up the process\n",
    "test1_zero_shot = pipeline(\"zero-shot-classification\", onnx=True)\n",
    "\n",
    "def test1_sentiment(txt):\n",
    "    results =  test1_zero_shot(txt, [\"positive\", \"neutral\", \"negative\"]) #, multi_label=False\n",
    "    \n",
    "    scores = results[\"scores\"]\n",
    "    classes = results[\"labels\"]\n",
    "    best_index = argmax(scores)\n",
    "    predicted_class = classes[best_index]\n",
    "    return predicted_class"
   ]
  },
  {
   "cell_type": "code",
   "execution_count": 19,
   "id": "naughty-dating",
   "metadata": {},
   "outputs": [
    {
     "name": "stdout",
     "output_type": "stream",
     "text": [
      "--- 0.7903248349825541 seconds ---\n"
     ]
    }
   ],
   "source": [
    "start_time = time()\n",
    "\n",
    "forbes_df[:100].clean_text.apply(test1_sentiment)\n",
    "\n",
    "print(\"--- %s seconds ---\" % ((time() - start_time)/60))"
   ]
  },
  {
   "cell_type": "code",
   "execution_count": 21,
   "id": "driving-tradition",
   "metadata": {},
   "outputs": [
    {
     "name": "stdout",
     "output_type": "stream",
     "text": [
      "--- 1.6331705451011658 seconds ---\n"
     ]
    }
   ],
   "source": [
    "start_time = time()\n",
    "\n",
    "forbes_df[:200].clean_text.apply(test1_sentiment)\n",
    "\n",
    "print(\"--- %s seconds ---\" % ((time() - start_time)/60))"
   ]
  },
  {
   "cell_type": "code",
   "execution_count": 9,
   "id": "tender-collectible",
   "metadata": {},
   "outputs": [
    {
     "name": "stdout",
     "output_type": "stream",
     "text": [
      "--- 0.7834308664004008 seconds ---\n"
     ]
    }
   ],
   "source": [
    "start_time = time()\n",
    "\n",
    "forbes_df[:100].clean_text.apply(test1_sentiment)\n",
    "\n",
    "print(\"--- %s seconds ---\" % ((time() - start_time)/60))"
   ]
  },
  {
   "cell_type": "code",
   "execution_count": null,
   "id": "rocky-reference",
   "metadata": {},
   "outputs": [
    {
     "data": {
      "application/vnd.jupyter.widget-view+json": {
       "model_id": "26b51d1d599640828c6fc450a3cecf17",
       "version_major": 2,
       "version_minor": 0
      },
      "text/plain": [
       "Downloading:   0%|          | 0.00/1.21k [00:00<?, ?B/s]"
      ]
     },
     "metadata": {},
     "output_type": "display_data"
    },
    {
     "data": {
      "application/vnd.jupyter.widget-view+json": {
       "model_id": "7cd9837cf6dd4209a503db1f249e76a5",
       "version_major": 2,
       "version_minor": 0
      },
      "text/plain": [
       "Downloading:   0%|          | 0.00/899k [00:00<?, ?B/s]"
      ]
     },
     "metadata": {},
     "output_type": "display_data"
    },
    {
     "data": {
      "application/vnd.jupyter.widget-view+json": {
       "model_id": "206add4a692b458e9f37a6093715d35c",
       "version_major": 2,
       "version_minor": 0
      },
      "text/plain": [
       "Downloading:   0%|          | 0.00/456k [00:00<?, ?B/s]"
      ]
     },
     "metadata": {},
     "output_type": "display_data"
    },
    {
     "data": {
      "application/vnd.jupyter.widget-view+json": {
       "model_id": "d8c824be091d46f0a80ff66872b46ab7",
       "version_major": 2,
       "version_minor": 0
      },
      "text/plain": [
       "Downloading:   0%|          | 0.00/772 [00:00<?, ?B/s]"
      ]
     },
     "metadata": {},
     "output_type": "display_data"
    },
    {
     "data": {
      "application/vnd.jupyter.widget-view+json": {
       "model_id": "202f65e79c3a4157bfc684bd084b0e6e",
       "version_major": 2,
       "version_minor": 0
      },
      "text/plain": [
       "Downloading:   0%|          | 0.00/26.0 [00:00<?, ?B/s]"
      ]
     },
     "metadata": {},
     "output_type": "display_data"
    },
    {
     "data": {
      "application/vnd.jupyter.widget-view+json": {
       "model_id": "476415badfd14dff806d1ff682d25d29",
       "version_major": 2,
       "version_minor": 0
      },
      "text/plain": [
       "Downloading:   0%|          | 0.00/1.02G [00:00<?, ?B/s]"
      ]
     },
     "metadata": {},
     "output_type": "display_data"
    }
   ],
   "source": [
    "# , device=0 -- needs NVIDIA GPU and driver installed\n",
    "zero_shot_classifier = pipeline(\"zero-shot-classification\", model=\"valhalla/distilbart-mnli-12-3\", framework=\"pt\") \n",
    "\n",
    "def get_sentiment(txt):\n",
    "    results = zero_shot_classifier(\n",
    "                            txt, \n",
    "                            [\"positive\", \"neutral\", \"negative\"] #multi_label=False\n",
    "                            )\n",
    "    \n",
    "    scores = results[\"scores\"]\n",
    "    classes = results[\"labels\"]\n",
    "    best_index = argmax(scores)\n",
    "    predicted_class = classes[best_index]\n",
    "    return predicted_class"
   ]
  },
  {
   "cell_type": "code",
   "execution_count": 7,
   "id": "hispanic-sport",
   "metadata": {},
   "outputs": [
    {
     "data": {
      "text/plain": [
       "<transformers.pipelines.zero_shot_classification.ZeroShotClassificationPipeline at 0x7f8e17f54fd0>"
      ]
     },
     "execution_count": 7,
     "metadata": {},
     "output_type": "execute_result"
    }
   ],
   "source": [
    "zero_shot_classifier"
   ]
  },
  {
   "cell_type": "code",
   "execution_count": 8,
   "id": "wanted-macro",
   "metadata": {},
   "outputs": [
    {
     "name": "stdout",
     "output_type": "stream",
     "text": [
      "--- 0.29568695624669394 seconds ---\n"
     ]
    }
   ],
   "source": [
    "start_time = time()\n",
    "\n",
    "forbes_df[:100].clean_text.apply(get_sentiment)\n",
    "\n",
    "print(\"--- %s seconds ---\" % ((time() - start_time)/60))"
   ]
  },
  {
   "cell_type": "code",
   "execution_count": 15,
   "id": "trying-fabric",
   "metadata": {},
   "outputs": [
    {
     "name": "stdout",
     "output_type": "stream",
     "text": [
      "ERROR! Session/line number was not unique in database. History logging moved to new session 107\n",
      "--- 0.9960396806399028 seconds ---\n"
     ]
    }
   ],
   "source": [
    "start_time = time()\n",
    "\n",
    "forbes_df[:200].clean_text.apply(get_sentiment)\n",
    "\n",
    "print(\"--- %s seconds ---\" % ((time() - start_time)/60))"
   ]
  },
  {
   "cell_type": "code",
   "execution_count": null,
   "id": "likely-alfred",
   "metadata": {},
   "outputs": [],
   "source": []
  },
  {
   "cell_type": "code",
   "execution_count": null,
   "id": "separate-collapse",
   "metadata": {},
   "outputs": [],
   "source": []
  },
  {
   "cell_type": "markdown",
   "id": "lesser-kazakhstan",
   "metadata": {},
   "source": [
    "**Abstract summarization**"
   ]
  },
  {
   "cell_type": "code",
   "execution_count": 2,
   "id": "relative-affairs",
   "metadata": {},
   "outputs": [],
   "source": [
    "from transformers import pipeline\n",
    "import os"
   ]
  },
  {
   "cell_type": "code",
   "execution_count": 3,
   "id": "precise-tuning",
   "metadata": {},
   "outputs": [
    {
     "data": {
      "application/vnd.jupyter.widget-view+json": {
       "model_id": "e6e878ed2695491cb33bb6375036e9e9",
       "version_major": 2,
       "version_minor": 0
      },
      "text/plain": [
       "Downloading:   0%|          | 0.00/1.65k [00:00<?, ?B/s]"
      ]
     },
     "metadata": {},
     "output_type": "display_data"
    },
    {
     "data": {
      "application/vnd.jupyter.widget-view+json": {
       "model_id": "e287c811945f44798f036f8814397bb6",
       "version_major": 2,
       "version_minor": 0
      },
      "text/plain": [
       "Downloading:   0%|          | 0.00/1.22G [00:00<?, ?B/s]"
      ]
     },
     "metadata": {},
     "output_type": "display_data"
    },
    {
     "data": {
      "application/vnd.jupyter.widget-view+json": {
       "model_id": "f832fcb848ab4a5abd50567a9b539c7f",
       "version_major": 2,
       "version_minor": 0
      },
      "text/plain": [
       "Downloading:   0%|          | 0.00/899k [00:00<?, ?B/s]"
      ]
     },
     "metadata": {},
     "output_type": "display_data"
    },
    {
     "data": {
      "application/vnd.jupyter.widget-view+json": {
       "model_id": "af0382e4dee74cc9ba070bad29efb5b1",
       "version_major": 2,
       "version_minor": 0
      },
      "text/plain": [
       "Downloading:   0%|          | 0.00/456k [00:00<?, ?B/s]"
      ]
     },
     "metadata": {},
     "output_type": "display_data"
    },
    {
     "data": {
      "application/vnd.jupyter.widget-view+json": {
       "model_id": "7f68cb499f4642a6b47aa6a87cbb7b8a",
       "version_major": 2,
       "version_minor": 0
      },
      "text/plain": [
       "Downloading:   0%|          | 0.00/26.0 [00:00<?, ?B/s]"
      ]
     },
     "metadata": {},
     "output_type": "display_data"
    }
   ],
   "source": [
    "summarizer = pipeline(\"summarization\")"
   ]
  }
 ],
 "metadata": {
  "environment": {
   "name": "tf2-gpu.2-4.m65",
   "type": "gcloud",
   "uri": "gcr.io/deeplearning-platform-release/tf2-gpu.2-4:m65"
  },
  "kernelspec": {
   "display_name": "multi-label-exp",
   "language": "python",
   "name": "multi-label-exp"
  },
  "language_info": {
   "codemirror_mode": {
    "name": "ipython",
    "version": 3
   },
   "file_extension": ".py",
   "mimetype": "text/x-python",
   "name": "python",
   "nbconvert_exporter": "python",
   "pygments_lexer": "ipython3",
   "version": "3.7.10"
  }
 },
 "nbformat": 4,
 "nbformat_minor": 5
}
